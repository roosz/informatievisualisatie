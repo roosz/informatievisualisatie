{
 "cells": [
  {
   "cell_type": "markdown",
   "id": "5c4f233b-7187-440a-801c-c84e7ce048b3",
   "metadata": {},
   "source": [
    "# Dataset en preprocessing\n",
    "Er is gestart met het selecteren van twee relevante datasets van Kaggle, namelijk een dataset met wereldwijde natuurrampen vanaf 1900 en een dataset met de jaarlijkse zeespiegelstijging gemeten in juli vanaf 1880. Deze datasets boden op het eerste gezicht voldoende aanknopingspunten voor het uitvoeren van analyses vanuit verschillende perspectieven.\n",
    "## opschonen\n",
    "De eerste stap in preprocessing bestond uit het samenvoegen van de datasets op basis van het jaartal, zodat elk jaar eenduidige data bevatte. Aansluitend zijn enkel de relevante variabelen behouden. In het geval van de natuurrampendataset werd uitsluitend informatie met betrekking tot tsunami's gefilterd. Hierbij zijn de volgende variabelen geselecteerd: <br>\n",
    "`Year`, `Disaster Subtype`, `Country`, `Region`, `Continent`, `Origin`, `River Basin`, `Total Deaths`, `Total Affected`, `Total Damages ('000 US$')`, `Latitude`, `Longitude`, en `Location`. <br><br>\n",
    "Daarnaast zijn outliers verwijderd voor de eerste vier visualisaties. Deze stap was noodzakelijk om een helder beeld te krijgen van de onderliggende patronen in de data, aangezien extreme waarden (zoals de tsunami in Japan in 2011 en de tsunami in Indonesië in 2004) de resultaten sterk vertekenden. In latere visualisaties zijn deze outliers juist meegenomen om het volledige spectrum van de impact zichtbaar te maken.<br><br>\n",
    "Tijdens het analyseren van de datasets bleek het dat de kolom `Total Damages ('000 US$)` weinig tot geen data bevatte. Om deze kolom toch op te vullen is er een derde dataset toegevoegd. Deze dataset bevat tsunami's en bijbehorende data van tsunami's vanaf 2100 BC. Ook deze dataset is gefilterd vanaf het jaar 1900 en de volgende variabelen zijn toegevoegd aan de reeds samengstelde dataset: <br>\n",
    "`YEAR`, `DAMAGE_TOTAL_DESCRIPTION`, `COUNTRY`, `LONGITUDE`, `LATITUDE`, `DEATHS_TOTAL_DESCRIPTION`, `HOUSES_TOTAL_DESCRIPTION`.<br> \n",
    "De variabelen `DEATHS_TOTAL_DESCRIPTION` en `HOUSES_TOTAL_DESCRIPTION` waren ingedeeld in vier categorieën, waarvan de mediaanwaarde per categorie is gebruikt als representatieve numerieke waarde voor verdere analyse, deze variabelen zijn vervolgens in de plaats gekomen van de oorspronkelijke variabelen `Total Deaths` en `Total Damages`, omdat die variabelen te veel missende waarden hadden. De gebruikte categorieën en bijbehorende mediaanwaarden worden hieronder uiteengezet.<br><br>\n",
    "Voor de variabelen `DEATHS_TOTAL_DESCRIPTION` en `HOUSES_TOTAL_DESCRIPTOIN`:\n",
    "- None reported: 0\n",
    "- Few (~1 to 50 people): 25,\n",
    "- Some (~51 to 100 people): 75,\n",
    "- Many (~101 to 1,000 people): 550,\n",
    "- Very Many (~1001 or more people): 1500\n",
    "\n",
    "## Variabelenbeschrijving\n",
    "De variabelen in de samengestelde dataset kunnen als volgt worden geclassificeerd:\n",
    "- Continue / Ratio variabelen: `mmrom1993-2008average` en `Total Affected`\n",
    "- Discrete / Ordinale variabelen: `DEATHS_TOTAL_DESCRIPTION`, `DAMAGE_TOTAL_DESCRIPTION` en `HOUSES_TOTAL_DESCRIPTION` (allemaal omgezet in mediaanwaarden)\n",
    "- Discrete / Nominale variabelen:`Country`, `Region`, `Continent`, `Origin`, `River Basin`, `Location` en `Disaster Subtype`\n",
    "- Discrete / Interval variabelen: `Year`\n",
    "- Geagrafische variabelen: `Latitude` en `Lonitude`\n",
    "<br><br>\n",
    "\n",
    "De uiteindelijke samengestelde dataset bevat voldoende variatie in type en schaal om meerdere invalshoeken te verkennen en patronen in kaart te brengen, met als focus relatie tussen tsunami's, hun schade, slachtoffers, geografische locatie en de ontwikkeling van de zeespiegel over de tijd.\n",
    "\n",
    "## Aggregaties\n",
    "Voor diverse visualisaties is gebruikgemaakt van aggregaties, onder andere bij het berekenen van de impact score van een tsunami. Deze score is berekend aan de hand van de volgende variabelen: <br>\n",
    "- `DEATHS_TOTAL_DESCRIPTION`\n",
    "- `Total Affected`\n",
    "- `DAMAGE_TOTAL_DESCRIPTION`\n",
    "\n",
    "Voor visualisaties waarin het jaartal op de x-as staat, is het gemiddelde per tsunami berekend. Dit betekent dat wanneer er in een bepaald jaar meerdere tsunami's voorkwamen, de bijbehorende waarden (zoals schade) per gebeurtenis zijn gemiddeld. Bijvoorbeeld: als er zich in 1988 drie tsunami's voordeden met schades van respectievelijk 3 miljoen, 15 miljoen en 0,5 miljoen US dollar, dan wordt in de visualisatie een gemiddelde schade van 6 miljoen US dollar per tsunami weergegeven voor dat jaar."
   ]
  },
  {
   "cell_type": "markdown",
   "id": "f723863d-6622-4138-be06-12571a5169a8",
   "metadata": {},
   "source": []
  },
  {
   "cell_type": "code",
   "execution_count": null,
   "id": "ff5bcafb-3e01-47cf-af42-aa519565b476",
   "metadata": {},
   "outputs": [],
   "source": []
  }
 ],
 "metadata": {
  "kernelspec": {
   "display_name": "Python 3 (ipykernel)",
   "language": "python",
   "name": "python3"
  },
  "language_info": {
   "codemirror_mode": {
    "name": "ipython",
    "version": 3
   },
   "file_extension": ".py",
   "mimetype": "text/x-python",
   "name": "python",
   "nbconvert_exporter": "python",
   "pygments_lexer": "ipython3",
   "version": "3.10.16"
  }
 },
 "nbformat": 4,
 "nbformat_minor": 5
}
