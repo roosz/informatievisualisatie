{
 "cells": [
  {
   "cell_type": "markdown",
   "id": "5c4f233b-7187-440a-801c-c84e7ce048b3",
   "metadata": {},
   "source": [
    "# Datasets\n",
    "We wisten eigenlijk al snel waar we onze datastory over wilden houden, namenlijk klimaatverandering. We gingen gelijk kijken naar natuurrampen, die door klimaatverandering steeds meer lijken voor te komen en te verergeren. Dit wilden we dus ook gaan onderzoeken en hier een data story voor maken. Uiteindelijk hebben we hier 2 datasets voor gevonden. De eertse dataset bevat alle genoteerde en geobserveerde natuurrampen in de wereld van 1900 tot 2021. Dit geeft ons inzichten in wanneer en waar tsunami’s plaatsvonden en hoe erg ze waren op de schaal van total_deaths, total_affected, insured_damages, total_damages. Dit wilden we combineren met een dataset die de zeespiegelstijging weergeeft. Hier hebben we ook een dataset voor gevonden die vanaf 1880 in julie de zeespiegelstijging bevat.\n",
    "\n",
    "## Opschonen\n",
    "De eerste dataset over natuurrampen is natuurlijkk super groot en veel was voor ons overbodig, denk aan natuurrampen zoals tornados of modderstromen die helemaal niks met Tsunami's te maken hebben. Hierom hebben we 2 subsets gemaakt. Eerst een subset van Tsunami's zelf, waar alleen de waardes van de kolommen zijn meegenomen als het om een Tsunami ging. Vervolgens hebben we hetzelfde gedaan met de natuurramp Flood, omdat dit een gevolg van een Tsunami kan zijn. Hierin zijn alle Nan waardes omgezet naar 0, zodat ze alsnog in onze grafieken tevoorschijn kwamen. Toen zijn deze subsets samengevoegd, en die samengevoegde set is weer samengevoegd met de dataset van zeespiegelstijging, eigenlijk alle variabelen die daarin voorkwamen hadden wij nodig. Dat is het jaar van de meting en de zeespiegelstijging in mm. Met deze uiteindelijke samengevoegde dataset zijn we aan de slag gegaan.\n",
    "\n",
    "Dit resulteerde in een dataset van 57 rijen en 14 variabelen. Enkele variabelen hiervan zijn: 'Total Affected', \"Total Damages ('000 US$)\", 'Total Deaths', 'Total Affected' en  'mmfrom1993-2008average'.\n"
   ]
  },
  {
   "cell_type": "code",
   "execution_count": null,
   "id": "1b5af933-b758-4bce-bc1b-3e02e4100d61",
   "metadata": {},
   "outputs": [],
   "source": []
  }
 ],
 "metadata": {
  "kernelspec": {
   "display_name": "Python 3 (ipykernel)",
   "language": "python",
   "name": "python3"
  },
  "language_info": {
   "codemirror_mode": {
    "name": "ipython",
    "version": 3
   },
   "file_extension": ".py",
   "mimetype": "text/x-python",
   "name": "python",
   "nbconvert_exporter": "python",
   "pygments_lexer": "ipython3",
   "version": "3.10.16"
  }
 },
 "nbformat": 4,
 "nbformat_minor": 5
}
