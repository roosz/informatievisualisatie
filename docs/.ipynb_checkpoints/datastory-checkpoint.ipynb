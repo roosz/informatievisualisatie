{
 "cells": [
  {
   "cell_type": "markdown",
   "id": "fbffff9b-d6c3-4fac-a64f-6782d854b09d",
   "metadata": {},
   "source": [
    "# Datastory!"
   ]
  },
  {
   "cell_type": "code",
   "execution_count": 1,
   "id": "30a3568e-1e6f-4e65-b1ff-7923f758fa21",
   "metadata": {},
   "outputs": [
    {
     "data": {
      "text/html": [
       "        <script type=\"text/javascript\">\n",
       "        window.PlotlyConfig = {MathJaxConfig: 'local'};\n",
       "        if (window.MathJax && window.MathJax.Hub && window.MathJax.Hub.Config) {window.MathJax.Hub.Config({SVG: {font: \"STIX-Web\"}});}\n",
       "        if (typeof require !== 'undefined') {\n",
       "        require.undef(\"plotly\");\n",
       "        requirejs.config({\n",
       "            paths: {\n",
       "                'plotly': ['https://cdn.plot.ly/plotly-2.12.1.min']\n",
       "            }\n",
       "        });\n",
       "        require(['plotly'], function(Plotly) {\n",
       "            window._Plotly = Plotly;\n",
       "        });\n",
       "        }\n",
       "        </script>\n",
       "        "
      ]
     },
     "metadata": {},
     "output_type": "display_data"
    }
   ],
   "source": [
    "import plotly.graph_objs as go\n",
    "import plotly.express as px\n",
    "import pandas as pd\n",
    "\n",
    "from plotly.offline import init_notebook_mode\n",
    "init_notebook_mode(connected=True)\n",
    "#jskfjklsd\n",
    "\n"
   ]
  },
  {
   "cell_type": "code",
   "execution_count": 2,
   "id": "482c9b8c-21b5-4d78-be31-3373ea763c73",
   "metadata": {},
   "outputs": [],
   "source": [
    "import pandas as pd\n",
    "sea_df = pd.read_csv('Global_sea_level_rise.csv')\n",
    "dist_df = pd.read_csv('1900_2021_DISASTERS.xlsx - emdat data.csv')\n",
    "\n",
    "tsunami_df = dist_df[dist_df['Disaster Subtype'].str.lower() == 'tsunami'].copy()\n",
    "flood_df = dist_df[dist_df['Disaster Subtype'].str.lower() == 'flood'].copy()\n",
    "\n",
    "tsunami_df.columns = tsunami_df.columns.str.strip()\n",
    "flood_df.columns = flood_df.columns.str.strip()\n",
    "sea_df.rename(columns={'year': 'Year'}, inplace=True)\n",
    "\n",
    "#subsets om samen te voegen\n",
    "tsunami_subset = tsunami_df[['Year', 'Disaster Subtype', 'Country', 'Region', 'Continent', 'Origin', 'River Basin',\n",
    "                             'Total Deaths', 'Total Affected', \"Total Damages ('000 US$)\", 'Latitude', 'Longitude', 'Location']]\n",
    "\n",
    "flood_subset = flood_df[['Year', 'Disaster Subtype', 'Country', 'Region', 'Continent', 'Origin', 'River Basin',\n",
    "                         'Total Deaths', 'Total Affected', \"Total Damages ('000 US$)\", 'Latitude', 'Longitude', 'Location']]\n",
    "\n",
    "#eerste twee samen voegen\n",
    "disaster_df = pd.concat([tsunami_subset, flood_subset], ignore_index=True)\n",
    "\n",
    "#laatste samenvoegen\n",
    "merged_df = disaster_df.merge(sea_df[['Year', 'mmfrom1993-2008average']], on='Year', how='left')\n",
    "\n",
    "#missende waardes invullen met 0\n",
    "merged_df = merged_df.fillna(0)\n",
    "\n",
    "\n"
   ]
  },
  {
   "cell_type": "markdown",
   "id": "9da1d6ec-fe06-4830-aeb7-5c04ae25eb93",
   "metadata": {},
   "source": [
    "Hieronder worden de argumenten voor het eerste perspectief uitgwerkt!"
   ]
  },
  {
   "cell_type": "markdown",
   "id": "c37c6d3a-2876-4ca6-ac1a-73ccb674aaf9",
   "metadata": {},
   "source": [
    "## Tsunami’s vormen een toenemend gevaar in de toekomst omdat naar mate de zeespiegel stijgt overstromingen na een tsunami toenemen.\n",
    "In het figuur is te zien als de tijd toeneemt, neemt de zeespiegel ook toe. Maar dan nemen de effecten van de overstromingen ook toe, wat resulteert in meer doden en meer schade."
   ]
  },
  {
   "cell_type": "code",
   "execution_count": 3,
   "id": "4c7771f1-e145-4214-b0e9-910aa3384398",
   "metadata": {},
   "outputs": [
    {
     "data": {
      "application/vnd.plotly.v1+json": {
       "config": {
        "plotlyServerURL": "https://plot.ly"
       },
       "data": [
        {
         "customdata": [
          [
           1928,
           27,
           27,
           0,
           0,
           -128.8807292
          ],
          [
           1928,
           128,
           128,
           0,
           0,
           -128.8807292
          ]
         ],
         "geo": "geo",
         "hovertemplate": "<b>%{hovertext}</b><br><br>Year=%{customdata[0]}<br>Impact_Score_Log=%{marker.size}<br>Latitude=%{lat}<br>Longitude=%{lon}<br>Impact_Score=%{customdata[1]}<br>Total Deaths=%{customdata[2]}<br>Total Affected=%{customdata[3]}<br>Total Damages ('000 US$)=%{customdata[4]}<br>mmfrom1993-2008average=%{marker.color:.2f}<extra></extra>",
         "hovertext": [
          "Canada",
          "Indonesia"
         ],
         "lat": [
          "48.60 N",
          "8.30 S"
         ],
         "legendgroup": "",
         "lon": [
          "58.00 W",
          "121.70 E"
         ],
         "marker": {
          "color": [
           -128.8807292,
           -128.8807292
          ],
          "coloraxis": "coloraxis",
          "size": [
           1.4471580313422192,
           2.110589710299249
          ],
          "sizemode": "area",
          "sizeref": 0.005201387060501242,
          "symbol": "circle"
         },
         "mode": "markers",
         "name": "",
         "showlegend": false,
         "type": "scattergeo"
        }
       ],
       "frames": [
        {
         "data": [
          {
           "customdata": [
            [
             1928,
             27,
             27,
             0,
             0,
             -128.8807292
            ],
            [
             1928,
             128,
             128,
             0,
             0,
             -128.8807292
            ]
           ],
           "geo": "geo",
           "hovertemplate": "<b>%{hovertext}</b><br><br>Year=%{customdata[0]}<br>Impact_Score_Log=%{marker.size}<br>Latitude=%{lat}<br>Longitude=%{lon}<br>Impact_Score=%{customdata[1]}<br>Total Deaths=%{customdata[2]}<br>Total Affected=%{customdata[3]}<br>Total Damages ('000 US$)=%{customdata[4]}<br>mmfrom1993-2008average=%{marker.color:.2f}<extra></extra>",
           "hovertext": [
            "Canada",
            "Indonesia"
           ],
           "lat": [
            "48.60 N",
            "8.30 S"
           ],
           "legendgroup": "",
           "lon": [
            "58.00 W",
            "121.70 E"
           ],
           "marker": {
            "color": [
             -128.8807292,
             -128.8807292
            ],
            "coloraxis": "coloraxis",
            "size": [
             1.4471580313422192,
             2.110589710299249
            ],
            "sizemode": "area",
            "sizeref": 0.005201387060501242,
            "symbol": "circle"
           },
           "mode": "markers",
           "name": "",
           "showlegend": false,
           "type": "scattergeo"
          }
         ],
         "name": "1928"
        },
        {
         "data": [
          {
           "customdata": [
            [
             1960,
             2003000,
             6000,
             2003000,
             550000,
             -66.88072917
            ]
           ],
           "geo": "geo",
           "hovertemplate": "<b>%{hovertext}</b><br><br>Year=%{customdata[0]}<br>Impact_Score_Log=%{marker.size}<br>Latitude=%{lat}<br>Longitude=%{lon}<br>Impact_Score=%{customdata[1]}<br>Total Deaths=%{customdata[2]}<br>Total Affected=%{customdata[3]}<br>Total Damages ('000 US$)=%{customdata[4]}<br>mmfrom1993-2008average=%{marker.color:.2f}<extra></extra>",
           "hovertext": [
            "Chile"
           ],
           "lat": [
            "-38.143"
           ],
           "legendgroup": "",
           "lon": [
            "-73.407"
           ],
           "marker": {
            "color": [
             -66.88072917
            ],
            "coloraxis": "coloraxis",
            "size": [
             6.30168116611553
            ],
            "sizemode": "area",
            "sizeref": 0.005201387060501242,
            "symbol": "circle"
           },
           "mode": "markers",
           "name": "",
           "showlegend": false,
           "type": "scattergeo"
          }
         ],
         "name": "1960"
        },
        {
         "data": [
          {
           "customdata": [
            [
             1968,
             200,
             200,
             0,
             0,
             -72.8140625
            ]
           ],
           "geo": "geo",
           "hovertemplate": "<b>%{hovertext}</b><br><br>Year=%{customdata[0]}<br>Impact_Score_Log=%{marker.size}<br>Latitude=%{lat}<br>Longitude=%{lon}<br>Impact_Score=%{customdata[1]}<br>Total Deaths=%{customdata[2]}<br>Total Affected=%{customdata[3]}<br>Total Damages ('000 US$)=%{customdata[4]}<br>mmfrom1993-2008average=%{marker.color:.2f}<extra></extra>",
           "hovertext": [
            "Indonesia"
           ],
           "lat": [
            "0.157"
           ],
           "legendgroup": "",
           "lon": [
            "119.802"
           ],
           "marker": {
            "color": [
             -72.8140625
            ],
            "coloraxis": "coloraxis",
            "size": [
             2.303196057420489
            ],
            "sizemode": "area",
            "sizeref": 0.005201387060501242,
            "symbol": "circle"
           },
           "mode": "markers",
           "name": "",
           "showlegend": false,
           "type": "scattergeo"
          }
         ],
         "name": "1968"
        },
        {
         "data": [
          {
           "customdata": [
            [
             1969,
             6532,
             64,
             6532,
             0,
             -62.6140625
            ]
           ],
           "geo": "geo",
           "hovertemplate": "<b>%{hovertext}</b><br><br>Year=%{customdata[0]}<br>Impact_Score_Log=%{marker.size}<br>Latitude=%{lat}<br>Longitude=%{lon}<br>Impact_Score=%{customdata[1]}<br>Total Deaths=%{customdata[2]}<br>Total Affected=%{customdata[3]}<br>Total Damages ('000 US$)=%{customdata[4]}<br>mmfrom1993-2008average=%{marker.color:.2f}<extra></extra>",
           "hovertext": [
            "Indonesia"
           ],
           "lat": [
            "-3.201"
           ],
           "legendgroup": "",
           "lon": [
            "118.904"
           ],
           "marker": {
            "color": [
             -62.6140625
            ],
            "coloraxis": "coloraxis",
            "size": [
             3.8151126581898125
            ],
            "sizemode": "area",
            "sizeref": 0.005201387060501242,
            "symbol": "circle"
           },
           "mode": "markers",
           "name": "",
           "showlegend": false,
           "type": "scattergeo"
          }
         ],
         "name": "1969"
        },
        {
         "data": [
          {
           "customdata": [
            [
             1901,
             24,
             18,
             24,
             0,
             -156.5473958
            ]
           ],
           "geo": "geo",
           "hovertemplate": "<b>%{hovertext}</b><br><br>Year=%{customdata[0]}<br>Impact_Score_Log=%{marker.size}<br>Latitude=%{lat}<br>Longitude=%{lon}<br>Impact_Score=%{customdata[1]}<br>Total Deaths=%{customdata[2]}<br>Total Affected=%{customdata[3]}<br>Total Damages ('000 US$)=%{customdata[4]}<br>mmfrom1993-2008average=%{marker.color:.2f}<extra></extra>",
           "hovertext": [
            "Japan"
           ],
           "lat": [
            "40.5"
           ],
           "legendgroup": "",
           "lon": [
            "142.5"
           ],
           "marker": {
            "color": [
             -156.5473958
            ],
            "coloraxis": "coloraxis",
            "size": [
             1.3979400086720377
            ],
            "sizemode": "area",
            "sizeref": 0.005201387060501242,
            "symbol": "circle"
           },
           "mode": "markers",
           "name": "",
           "showlegend": false,
           "type": "scattergeo"
          }
         ],
         "name": "1901"
        },
        {
         "data": [
          {
           "customdata": [
            [
             1905,
             41,
             41,
             0,
             0,
             -154.4140625
            ]
           ],
           "geo": "geo",
           "hovertemplate": "<b>%{hovertext}</b><br><br>Year=%{customdata[0]}<br>Impact_Score_Log=%{marker.size}<br>Latitude=%{lat}<br>Longitude=%{lon}<br>Impact_Score=%{customdata[1]}<br>Total Deaths=%{customdata[2]}<br>Total Affected=%{customdata[3]}<br>Total Damages ('000 US$)=%{customdata[4]}<br>mmfrom1993-2008average=%{marker.color:.2f}<extra></extra>",
           "hovertext": [
            "Japan"
           ],
           "lat": [
            "37.4"
           ],
           "legendgroup": "",
           "lon": [
            "142.6"
           ],
           "marker": {
            "color": [
             -154.4140625
            ],
            "coloraxis": "coloraxis",
            "size": [
             1.6232492903979006
            ],
            "sizemode": "area",
            "sizeref": 0.005201387060501242,
            "symbol": "circle"
           },
           "mode": "markers",
           "name": "",
           "showlegend": false,
           "type": "scattergeo"
          }
         ],
         "name": "1905"
        },
        {
         "data": [
          {
           "customdata": [
            [
             1931,
             50,
             50,
             0,
             0,
             -126.7473958
            ]
           ],
           "geo": "geo",
           "hovertemplate": "<b>%{hovertext}</b><br><br>Year=%{customdata[0]}<br>Impact_Score_Log=%{marker.size}<br>Latitude=%{lat}<br>Longitude=%{lon}<br>Impact_Score=%{customdata[1]}<br>Total Deaths=%{customdata[2]}<br>Total Affected=%{customdata[3]}<br>Total Damages ('000 US$)=%{customdata[4]}<br>mmfrom1993-2008average=%{marker.color:.2f}<extra></extra>",
           "hovertext": [
            "Solomon Islands"
           ],
           "lat": [
            "11.117"
           ],
           "legendgroup": "",
           "lon": [
            "161.11"
           ],
           "marker": {
            "color": [
             -126.7473958
            ],
            "coloraxis": "coloraxis",
            "size": [
             1.7075701760979363
            ],
            "sizemode": "area",
            "sizeref": 0.005201387060501242,
            "symbol": "circle"
           },
           "mode": "markers",
           "name": "",
           "showlegend": false,
           "type": "scattergeo"
          }
         ],
         "name": "1931"
        },
        {
         "data": [
          {
           "customdata": [
            [
             1933,
             3000,
             3000,
             0,
             0,
             -119.9807292
            ]
           ],
           "geo": "geo",
           "hovertemplate": "<b>%{hovertext}</b><br><br>Year=%{customdata[0]}<br>Impact_Score_Log=%{marker.size}<br>Latitude=%{lat}<br>Longitude=%{lon}<br>Impact_Score=%{customdata[1]}<br>Total Deaths=%{customdata[2]}<br>Total Affected=%{customdata[3]}<br>Total Damages ('000 US$)=%{customdata[4]}<br>mmfrom1993-2008average=%{marker.color:.2f}<extra></extra>",
           "hovertext": [
            "Japan"
           ],
           "lat": [
            "39.224"
           ],
           "legendgroup": "",
           "lon": [
            "144.622"
           ],
           "marker": {
            "color": [
             -119.9807292
            ],
            "coloraxis": "coloraxis",
            "size": [
             3.477265995424853
            ],
            "sizemode": "area",
            "sizeref": 0.005201387060501242,
            "symbol": "circle"
           },
           "mode": "markers",
           "name": "",
           "showlegend": false,
           "type": "scattergeo"
          }
         ],
         "name": "1933"
        },
        {
         "data": [
          {
           "customdata": [
            [
             1944,
             80573,
             1223,
             80573,
             0,
             -116.9473958
            ]
           ],
           "geo": "geo",
           "hovertemplate": "<b>%{hovertext}</b><br><br>Year=%{customdata[0]}<br>Impact_Score_Log=%{marker.size}<br>Latitude=%{lat}<br>Longitude=%{lon}<br>Impact_Score=%{customdata[1]}<br>Total Deaths=%{customdata[2]}<br>Total Affected=%{customdata[3]}<br>Total Damages ('000 US$)=%{customdata[4]}<br>mmfrom1993-2008average=%{marker.color:.2f}<extra></extra>",
           "hovertext": [
            "Japan"
           ],
           "lat": [
            "33.682"
           ],
           "legendgroup": "",
           "lon": [
            "36.204"
           ],
           "marker": {
            "color": [
             -116.9473958
            ],
            "coloraxis": "coloraxis",
            "size": [
             4.906194924210101
            ],
            "sizemode": "area",
            "sizeref": 0.005201387060501242,
            "symbol": "circle"
           },
           "mode": "markers",
           "name": "",
           "showlegend": false,
           "type": "scattergeo"
          }
         ],
         "name": "1944"
        },
        {
         "data": [
          {
           "customdata": [
            [
             1946,
             25000,
             165,
             0,
             25000,
             -92.68072917
            ]
           ],
           "geo": "geo",
           "hovertemplate": "<b>%{hovertext}</b><br><br>Year=%{customdata[0]}<br>Impact_Score_Log=%{marker.size}<br>Latitude=%{lat}<br>Longitude=%{lon}<br>Impact_Score=%{customdata[1]}<br>Total Deaths=%{customdata[2]}<br>Total Affected=%{customdata[3]}<br>Total Damages ('000 US$)=%{customdata[4]}<br>mmfrom1993-2008average=%{marker.color:.2f}<extra></extra>",
           "hovertext": [
            "United States of America (the)"
           ],
           "lat": [
            "53.492"
           ],
           "legendgroup": "",
           "lon": [
            "-162.832"
           ],
           "marker": {
            "color": [
             -92.68072917
            ],
            "coloraxis": "coloraxis",
            "size": [
             4.397957380103888
            ],
            "sizemode": "area",
            "sizeref": 0.005201387060501242,
            "symbol": "circle"
           },
           "mode": "markers",
           "name": "",
           "showlegend": false,
           "type": "scattergeo"
          }
         ],
         "name": "1946"
        },
        {
         "data": [
          {
           "customdata": [
            [
             1964,
             800000,
             25,
             35376,
             800000,
             -70.98072917
            ],
            [
             1964,
             311000,
             131,
             0,
             311000,
             -70.98072917
            ]
           ],
           "geo": "geo",
           "hovertemplate": "<b>%{hovertext}</b><br><br>Year=%{customdata[0]}<br>Impact_Score_Log=%{marker.size}<br>Latitude=%{lat}<br>Longitude=%{lon}<br>Impact_Score=%{customdata[1]}<br>Total Deaths=%{customdata[2]}<br>Total Affected=%{customdata[3]}<br>Total Damages ('000 US$)=%{customdata[4]}<br>mmfrom1993-2008average=%{marker.color:.2f}<extra></extra>",
           "hovertext": [
            "Japan",
            "United States of America (the)"
           ],
           "lat": [
            "38.67",
            "60.908"
           ],
           "legendgroup": "",
           "lon": [
            "139.195",
            "-147.339"
           ],
           "marker": {
            "color": [
             -70.98072917,
             -70.98072917
            ],
            "coloraxis": "coloraxis",
            "size": [
             5.903090529859707,
             5.492761785469872
            ],
            "sizemode": "area",
            "sizeref": 0.005201387060501242,
            "symbol": "circle"
           },
           "mode": "markers",
           "name": "",
           "showlegend": false,
           "type": "scattergeo"
          }
         ],
         "name": "1964"
        },
        {
         "data": [
          {
           "customdata": [
            [
             1975,
             200,
             200,
             0,
             0,
             -45.84739583
            ]
           ],
           "geo": "geo",
           "hovertemplate": "<b>%{hovertext}</b><br><br>Year=%{customdata[0]}<br>Impact_Score_Log=%{marker.size}<br>Latitude=%{lat}<br>Longitude=%{lon}<br>Impact_Score=%{customdata[1]}<br>Total Deaths=%{customdata[2]}<br>Total Affected=%{customdata[3]}<br>Total Damages ('000 US$)=%{customdata[4]}<br>mmfrom1993-2008average=%{marker.color:.2f}<extra></extra>",
           "hovertext": [
            "Solomon Islands"
           ],
           "lat": [
            "-7.104"
           ],
           "legendgroup": "",
           "lon": [
            "155.152"
           ],
           "marker": {
            "color": [
             -45.84739583
            ],
            "coloraxis": "coloraxis",
            "size": [
             2.303196057420489
            ],
            "sizemode": "area",
            "sizeref": 0.005201387060501242,
            "symbol": "circle"
           },
           "mode": "markers",
           "name": "",
           "showlegend": false,
           "type": "scattergeo"
          }
         ],
         "name": "1975"
        },
        {
         "data": [
          {
           "customdata": [
            [
             1979,
             11,
             11,
             2,
             0,
             -46.8140625
            ],
            [
             1979,
             539,
             539,
             23,
             0,
             -46.8140625
            ]
           ],
           "geo": "geo",
           "hovertemplate": "<b>%{hovertext}</b><br><br>Year=%{customdata[0]}<br>Impact_Score_Log=%{marker.size}<br>Latitude=%{lat}<br>Longitude=%{lon}<br>Impact_Score=%{customdata[1]}<br>Total Deaths=%{customdata[2]}<br>Total Affected=%{customdata[3]}<br>Total Damages ('000 US$)=%{customdata[4]}<br>mmfrom1993-2008average=%{marker.color:.2f}<extra></extra>",
           "hovertext": [
            "France",
            "Indonesia"
           ],
           "lat": [
            "43.70 N",
            "8.8"
           ],
           "legendgroup": "",
           "lon": [
            "7.25 E",
            "123.5"
           ],
           "marker": {
            "color": [
             -46.8140625,
             -46.8140625
            ],
            "coloraxis": "coloraxis",
            "size": [
             1.0791812460476249,
             2.7323937598229686
            ],
            "sizemode": "area",
            "sizeref": 0.005201387060501242,
            "symbol": "circle"
           },
           "mode": "markers",
           "name": "",
           "showlegend": false,
           "type": "scattergeo"
          }
         ],
         "name": "1979"
        },
        {
         "data": [
          {
           "customdata": [
            [
             1983,
             416000,
             102,
             77,
             416000,
             -22.28072917
            ]
           ],
           "geo": "geo",
           "hovertemplate": "<b>%{hovertext}</b><br><br>Year=%{customdata[0]}<br>Impact_Score_Log=%{marker.size}<br>Latitude=%{lat}<br>Longitude=%{lon}<br>Impact_Score=%{customdata[1]}<br>Total Deaths=%{customdata[2]}<br>Total Affected=%{customdata[3]}<br>Total Damages ('000 US$)=%{customdata[4]}<br>mmfrom1993-2008average=%{marker.color:.2f}<extra></extra>",
           "hovertext": [
            "Japan"
           ],
           "lat": [
            "40.462"
           ],
           "legendgroup": "",
           "lon": [
            "139.102"
           ],
           "marker": {
            "color": [
             -22.28072917
            ],
            "coloraxis": "coloraxis",
            "size": [
             5.619094374602608
            ],
            "sizemode": "area",
            "sizeref": 0.005201387060501242,
            "symbol": "circle"
           },
           "mode": "markers",
           "name": "",
           "showlegend": false,
           "type": "scattergeo"
          }
         ],
         "name": "1983"
        },
        {
         "data": [
          {
           "customdata": [
            [
             1993,
             1000000,
             239,
             7355,
             1000000,
             -22.78072917
            ]
           ],
           "geo": "geo",
           "hovertemplate": "<b>%{hovertext}</b><br><br>Year=%{customdata[0]}<br>Impact_Score_Log=%{marker.size}<br>Latitude=%{lat}<br>Longitude=%{lon}<br>Impact_Score=%{customdata[1]}<br>Total Deaths=%{customdata[2]}<br>Total Affected=%{customdata[3]}<br>Total Damages ('000 US$)=%{customdata[4]}<br>mmfrom1993-2008average=%{marker.color:.2f}<extra></extra>",
           "hovertext": [
            "Japan"
           ],
           "lat": [
            "42.851 N"
           ],
           "legendgroup": "",
           "lon": [
            "139.197 E"
           ],
           "marker": {
            "color": [
             -22.78072917
            ],
            "coloraxis": "coloraxis",
            "size": [
             6.0000004342942646
            ],
            "sizemode": "area",
            "sizeref": 0.005201387060501242,
            "symbol": "circle"
           },
           "mode": "markers",
           "name": "",
           "showlegend": false,
           "type": "scattergeo"
          }
         ],
         "name": "1993"
        },
        {
         "data": [
          {
           "customdata": [
            [
             1996,
             752,
             7,
             752,
             0,
             -11.94739583
            ]
           ],
           "geo": "geo",
           "hovertemplate": "<b>%{hovertext}</b><br><br>Year=%{customdata[0]}<br>Impact_Score_Log=%{marker.size}<br>Latitude=%{lat}<br>Longitude=%{lon}<br>Impact_Score=%{customdata[1]}<br>Total Deaths=%{customdata[2]}<br>Total Affected=%{customdata[3]}<br>Total Damages ('000 US$)=%{customdata[4]}<br>mmfrom1993-2008average=%{marker.color:.2f}<extra></extra>",
           "hovertext": [
            "Peru"
           ],
           "lat": [
            "9.593 S"
           ],
           "legendgroup": "",
           "lon": [
            "79.587 W"
           ],
           "marker": {
            "color": [
             -11.94739583
            ],
            "coloraxis": "coloraxis",
            "size": [
             2.8767949762007006
            ],
            "sizemode": "area",
            "sizeref": 0.005201387060501242,
            "symbol": "circle"
           },
           "mode": "markers",
           "name": "",
           "showlegend": false,
           "type": "scattergeo"
          }
         ],
         "name": "1996"
        },
        {
         "data": [
          {
           "customdata": [
            [
             1998,
             9867,
             2182,
             9867,
             0,
             -10.8140625
            ]
           ],
           "geo": "geo",
           "hovertemplate": "<b>%{hovertext}</b><br><br>Year=%{customdata[0]}<br>Impact_Score_Log=%{marker.size}<br>Latitude=%{lat}<br>Longitude=%{lon}<br>Impact_Score=%{customdata[1]}<br>Total Deaths=%{customdata[2]}<br>Total Affected=%{customdata[3]}<br>Total Damages ('000 US$)=%{customdata[4]}<br>mmfrom1993-2008average=%{marker.color:.2f}<extra></extra>",
           "hovertext": [
            "Papua New Guinea"
           ],
           "lat": [
            "-2.961"
           ],
           "legendgroup": "",
           "lon": [
            "141.926"
           ],
           "marker": {
            "color": [
             -10.8140625
            ],
            "coloraxis": "coloraxis",
            "size": [
             3.9942291408176986
            ],
            "sizemode": "area",
            "sizeref": 0.005201387060501242,
            "symbol": "circle"
           },
           "mode": "markers",
           "name": "",
           "showlegend": false,
           "type": "scattergeo"
          }
         ],
         "name": "1998"
        },
        {
         "data": [
          {
           "customdata": [
            [
             2002,
             9082,
             8,
             9082,
             0,
             2.152604167
            ]
           ],
           "geo": "geo",
           "hovertemplate": "<b>%{hovertext}</b><br><br>Year=%{customdata[0]}<br>Impact_Score_Log=%{marker.size}<br>Latitude=%{lat}<br>Longitude=%{lon}<br>Impact_Score=%{customdata[1]}<br>Total Deaths=%{customdata[2]}<br>Total Affected=%{customdata[3]}<br>Total Damages ('000 US$)=%{customdata[4]}<br>mmfrom1993-2008average=%{marker.color:.2f}<extra></extra>",
           "hovertext": [
            "Indonesia"
           ],
           "lat": [
            "-1.757"
           ],
           "legendgroup": "",
           "lon": [
            "134.297"
           ],
           "marker": {
            "color": [
             2.152604167
            ],
            "coloraxis": "coloraxis",
            "size": [
             3.958229314188382
            ],
            "sizemode": "area",
            "sizeref": 0.005201387060501242,
            "symbol": "circle"
           },
           "mode": "markers",
           "name": "",
           "showlegend": false,
           "type": "scattergeo"
          }
         ],
         "name": "2002"
        },
        {
         "data": [
          {
           "customdata": [
            [
             2001,
             349978,
             145,
             349978,
             300000,
             4.719270833
            ]
           ],
           "geo": "geo",
           "hovertemplate": "<b>%{hovertext}</b><br><br>Year=%{customdata[0]}<br>Impact_Score_Log=%{marker.size}<br>Latitude=%{lat}<br>Longitude=%{lon}<br>Impact_Score=%{customdata[1]}<br>Total Deaths=%{customdata[2]}<br>Total Affected=%{customdata[3]}<br>Total Damages ('000 US$)=%{customdata[4]}<br>mmfrom1993-2008average=%{marker.color:.2f}<extra></extra>",
           "hovertext": [
            "Peru"
           ],
           "lat": [
            "-16.265"
           ],
           "legendgroup": "",
           "lon": [
            "-73.641"
           ],
           "marker": {
            "color": [
             4.719270833
            ],
            "coloraxis": "coloraxis",
            "size": [
             5.5440419858996
            ],
            "sizemode": "area",
            "sizeref": 0.005201387060501242,
            "symbol": "circle"
           },
           "mode": "markers",
           "name": "",
           "showlegend": false,
           "type": "scattergeo"
          }
         ],
         "name": "2001"
        },
        {
         "data": [
          {
           "customdata": [
            [
             2004,
             4451600,
             165708,
             532898,
             4451600,
             13.65260417
            ],
            [
             2004,
             100000,
             1,
             0,
             100000,
             13.65260417
            ],
            [
             2004,
             500000,
             2,
             0,
             500000,
             13.65260417
            ],
            [
             2004,
             1022800,
             16389,
             654512,
             1022800,
             13.65260417
            ],
            [
             2004,
             1316500,
             35399,
             1019306,
             1316500,
             13.65260417
            ],
            [
             2004,
             470100,
             102,
             27214,
             470100,
             13.65260417
            ],
            [
             2004,
             500000,
             80,
             5063,
             500000,
             13.65260417
            ],
            [
             2004,
             1000000,
             8345,
             67007,
             1000000,
             13.65260417
            ],
            [
             2004,
             500000,
             71,
             15700,
             500000,
             13.65260417
            ],
            [
             2004,
             105083,
             298,
             105083,
             100000,
             13.65260417
            ],
            [
             2004,
             30000,
             3,
             4830,
             30000,
             13.65260417
            ],
            [
             2004,
             10,
             10,
             0,
             0,
             13.65260417
            ]
           ],
           "geo": "geo",
           "hovertemplate": "<b>%{hovertext}</b><br><br>Year=%{customdata[0]}<br>Impact_Score_Log=%{marker.size}<br>Latitude=%{lat}<br>Longitude=%{lon}<br>Impact_Score=%{customdata[1]}<br>Total Deaths=%{customdata[2]}<br>Total Affected=%{customdata[3]}<br>Total Damages ('000 US$)=%{customdata[4]}<br>mmfrom1993-2008average=%{marker.color:.2f}<extra></extra>",
           "hovertext": [
            "Indonesia",
            "Kenya",
            "Bangladesh",
            "India",
            "Sri Lanka",
            "Maldives",
            "Malaysia",
            "Thailand",
            "Myanmar",
            "Somalia",
            "Seychelles",
            "Tanzania, United Republic of"
           ],
           "lat": [
            "3.295",
            "3.295",
            "3.295",
            "3.295",
            "3.295",
            "3.295",
            "3.295",
            "3.295",
            "3.295",
            "3.295",
            "3.295",
            "3.295"
           ],
           "legendgroup": "",
           "lon": [
            "95.982",
            "95.982",
            "95.982",
            "95.982",
            "95.982",
            "95.982",
            "95.982",
            "95.982",
            "95.982",
            "95.982",
            "95.982",
            "95.982"
           ],
           "marker": {
            "color": [
             13.65260417,
             13.65260417,
             13.65260417,
             13.65260417,
             13.65260417,
             13.65260417,
             13.65260417,
             13.65260417,
             13.65260417,
             13.65260417,
             13.65260417,
             13.65260417
            ],
            "coloraxis": "coloraxis",
            "size": [
             6.648516231299731,
             5.000004342923105,
             5.698970872924114,
             6.009791143967389,
             6.1194211933276295,
             5.672191175021522,
             5.698970872924114,
             6.0000004342942646,
             5.698970872924114,
             5.021536595755301,
             4.477135730961123,
             1.0413926851582251
            ],
            "sizemode": "area",
            "sizeref": 0.005201387060501242,
            "symbol": "circle"
           },
           "mode": "markers",
           "name": "",
           "showlegend": false,
           "type": "scattergeo"
          }
         ],
         "name": "2004"
        },
        {
         "data": [
          {
           "customdata": [
            [
             2006,
             1202,
             3,
             1202,
             0,
             9.519270833
            ],
            [
             2006,
             55000,
             802,
             35543,
             55000,
             9.519270833
            ]
           ],
           "geo": "geo",
           "hovertemplate": "<b>%{hovertext}</b><br><br>Year=%{customdata[0]}<br>Impact_Score_Log=%{marker.size}<br>Latitude=%{lat}<br>Longitude=%{lon}<br>Impact_Score=%{customdata[1]}<br>Total Deaths=%{customdata[2]}<br>Total Affected=%{customdata[3]}<br>Total Damages ('000 US$)=%{customdata[4]}<br>mmfrom1993-2008average=%{marker.color:.2f}<extra></extra>",
           "hovertext": [
            "Indonesia",
            "Indonesia"
           ],
           "lat": [
            "-3.595",
            "-9.284"
           ],
           "legendgroup": "",
           "lon": [
            "127.214",
            "107.419"
           ],
           "marker": {
            "color": [
             9.519270833,
             9.519270833
            ],
            "coloraxis": "coloraxis",
            "size": [
             3.0802656273398448,
             4.740370585685768
            ],
            "sizemode": "area",
            "sizeref": 0.005201387060501242,
            "symbol": "circle"
           },
           "mode": "markers",
           "name": "",
           "showlegend": false,
           "type": "scattergeo"
          }
         ],
         "name": "2006"
        },
        {
         "data": [
          {
           "customdata": [
            [
             2007,
             2384,
             52,
             2384,
             0,
             22.7859375
            ],
            [
             2007,
             10,
             10,
             0,
             0,
             22.7859375
            ]
           ],
           "geo": "geo",
           "hovertemplate": "<b>%{hovertext}</b><br><br>Year=%{customdata[0]}<br>Impact_Score_Log=%{marker.size}<br>Latitude=%{lat}<br>Longitude=%{lon}<br>Impact_Score=%{customdata[1]}<br>Total Deaths=%{customdata[2]}<br>Total Affected=%{customdata[3]}<br>Total Damages ('000 US$)=%{customdata[4]}<br>mmfrom1993-2008average=%{marker.color:.2f}<extra></extra>",
           "hovertext": [
            "Solomon Islands",
            "Chile"
           ],
           "lat": [
            "-8.466",
            "-45.243"
           ],
           "legendgroup": "",
           "lon": [
            "157.043",
            "-72.648"
           ],
           "marker": {
            "color": [
             22.7859375,
             22.7859375
            ],
            "coloraxis": "coloraxis",
            "size": [
             3.3774883833761327,
             1.0413926851582251
            ],
            "sizemode": "area",
            "sizeref": 0.005201387060501242,
            "symbol": "circle"
           },
           "mode": "markers",
           "name": "",
           "showlegend": false,
           "type": "scattergeo"
          }
         ],
         "name": "2007"
        },
        {
         "data": [
          {
           "customdata": [
            [
             2009,
             2500,
             34,
             2500,
             0,
             33.65260417
            ],
            [
             2009,
             400000,
             1,
             25319,
             400000,
             33.65260417
            ],
            [
             2009,
             9500,
             9,
             507,
             9500,
             33.65260417
            ],
            [
             2009,
             124040,
             148,
             5584,
             124040,
             33.65260417
            ]
           ],
           "geo": "geo",
           "hovertemplate": "<b>%{hovertext}</b><br><br>Year=%{customdata[0]}<br>Impact_Score_Log=%{marker.size}<br>Latitude=%{lat}<br>Longitude=%{lon}<br>Impact_Score=%{customdata[1]}<br>Total Deaths=%{customdata[2]}<br>Total Affected=%{customdata[3]}<br>Total Damages ('000 US$)=%{customdata[4]}<br>mmfrom1993-2008average=%{marker.color:.2f}<extra></extra>",
           "hovertext": [
            "American Samoa",
            "Japan",
            "Tonga",
            "Samoa"
           ],
           "lat": [
            "-15.489",
            "34.743",
            "-15.489",
            "-15.489"
           ],
           "legendgroup": "",
           "lon": [
            "-172.095",
            "138.264",
            "-172.095",
            "-172.095"
           ],
           "marker": {
            "color": [
             33.65260417,
             33.65260417,
             33.65260417,
             33.65260417
            ],
            "coloraxis": "coloraxis",
            "size": [
             3.3981136917305026,
             5.60206107706281,
             3.9777693180915743,
             5.093565258796596
            ],
            "sizemode": "area",
            "sizeref": 0.005201387060501242,
            "symbol": "circle"
           },
           "mode": "markers",
           "name": "",
           "showlegend": false,
           "type": "scattergeo"
          }
         ],
         "name": "2009"
        },
        {
         "data": [
          {
           "customdata": [
            [
             2010,
             30000000,
             562,
             2671556,
             30000000,
             33.87824005
            ],
            [
             2010,
             11864,
             530,
             11864,
             0,
             33.87824005
            ]
           ],
           "geo": "geo",
           "hovertemplate": "<b>%{hovertext}</b><br><br>Year=%{customdata[0]}<br>Impact_Score_Log=%{marker.size}<br>Latitude=%{lat}<br>Longitude=%{lon}<br>Impact_Score=%{customdata[1]}<br>Total Deaths=%{customdata[2]}<br>Total Affected=%{customdata[3]}<br>Total Damages ('000 US$)=%{customdata[4]}<br>mmfrom1993-2008average=%{marker.color:.2f}<extra></extra>",
           "hovertext": [
            "Chile",
            "Indonesia"
           ],
           "lat": [
            "-36.122",
            "-3.487"
           ],
           "legendgroup": "",
           "lon": [
            "-72.898",
            "100.082"
           ],
           "marker": {
            "color": [
             33.87824005,
             33.87824005
            ],
            "coloraxis": "coloraxis",
            "size": [
             7.477121269196145,
             4.074267742553358
            ],
            "sizemode": "area",
            "sizeref": 0.005201387060501242,
            "symbol": "circle"
           },
           "mode": "markers",
           "name": "",
           "showlegend": false,
           "type": "scattergeo"
          }
         ],
         "name": "2010"
        },
        {
         "data": [
          {
           "customdata": [
            [
             2011,
             95,
             1,
             95,
             0,
             36.71847075
            ],
            [
             2011,
             210000000,
             19846,
             368820,
             210000000,
             36.71847075
            ]
           ],
           "geo": "geo",
           "hovertemplate": "<b>%{hovertext}</b><br><br>Year=%{customdata[0]}<br>Impact_Score_Log=%{marker.size}<br>Latitude=%{lat}<br>Longitude=%{lon}<br>Impact_Score=%{customdata[1]}<br>Total Deaths=%{customdata[2]}<br>Total Affected=%{customdata[3]}<br>Total Damages ('000 US$)=%{customdata[4]}<br>mmfrom1993-2008average=%{marker.color:.2f}<extra></extra>",
           "hovertext": [
            "Indonesia",
            "Japan"
           ],
           "lat": [
            "38.297",
            "38.297"
           ],
           "legendgroup": "",
           "lon": [
            "142.373",
            "142.373"
           ],
           "marker": {
            "color": [
             36.71847075,
             36.71847075
            ],
            "coloraxis": "coloraxis",
            "size": [
             1.9822712330395684,
             8.322219296801988
            ],
            "sizemode": "area",
            "sizeref": 0.005201387060501242,
            "symbol": "circle"
           },
           "mode": "markers",
           "name": "",
           "showlegend": false,
           "type": "scattergeo"
          }
         ],
         "name": "2011"
        },
        {
         "data": [
          {
           "customdata": [
            [
             2013,
             3329,
             10,
             3329,
             2000,
             41.33798668
            ]
           ],
           "geo": "geo",
           "hovertemplate": "<b>%{hovertext}</b><br><br>Year=%{customdata[0]}<br>Impact_Score_Log=%{marker.size}<br>Latitude=%{lat}<br>Longitude=%{lon}<br>Impact_Score=%{customdata[1]}<br>Total Deaths=%{customdata[2]}<br>Total Affected=%{customdata[3]}<br>Total Damages ('000 US$)=%{customdata[4]}<br>mmfrom1993-2008average=%{marker.color:.2f}<extra></extra>",
           "hovertext": [
            "Solomon Islands"
           ],
           "lat": [
            "-10.799"
           ],
           "legendgroup": "",
           "lon": [
            "165.114"
           ],
           "marker": {
            "color": [
             41.33798668
            ],
            "coloraxis": "coloraxis",
            "size": [
             3.5224442335063197
            ],
            "sizemode": "area",
            "sizeref": 0.005201387060501242,
            "symbol": "circle"
           },
           "mode": "markers",
           "name": "",
           "showlegend": false,
           "type": "scattergeo"
          }
         ],
         "name": "2013"
        },
        {
         "data": [
          {
           "customdata": [
            [
             2015,
             800000,
             19,
             681499,
             800000,
             50.46170567
            ]
           ],
           "geo": "geo",
           "hovertemplate": "<b>%{hovertext}</b><br><br>Year=%{customdata[0]}<br>Impact_Score_Log=%{marker.size}<br>Latitude=%{lat}<br>Longitude=%{lon}<br>Impact_Score=%{customdata[1]}<br>Total Deaths=%{customdata[2]}<br>Total Affected=%{customdata[3]}<br>Total Damages ('000 US$)=%{customdata[4]}<br>mmfrom1993-2008average=%{marker.color:.2f}<extra></extra>",
           "hovertext": [
            "Chile"
           ],
           "lat": [
            "-31.5729"
           ],
           "legendgroup": "",
           "lon": [
            "-71.6744"
           ],
           "marker": {
            "color": [
             50.46170567
            ],
            "coloraxis": "coloraxis",
            "size": [
             5.903090529859707
            ],
            "sizemode": "area",
            "sizeref": 0.005201387060501242,
            "symbol": "circle"
           },
           "mode": "markers",
           "name": "",
           "showlegend": false,
           "type": "scattergeo"
          }
         ],
         "name": "2015"
        },
        {
         "data": [
          {
           "customdata": [
            [
             2016,
             3900000,
             2,
             50,
             3900000,
             54.34696367
            ]
           ],
           "geo": "geo",
           "hovertemplate": "<b>%{hovertext}</b><br><br>Year=%{customdata[0]}<br>Impact_Score_Log=%{marker.size}<br>Latitude=%{lat}<br>Longitude=%{lon}<br>Impact_Score=%{customdata[1]}<br>Total Deaths=%{customdata[2]}<br>Total Affected=%{customdata[3]}<br>Total Damages ('000 US$)=%{customdata[4]}<br>mmfrom1993-2008average=%{marker.color:.2f}<extra></extra>",
           "hovertext": [
            "New Zealand"
           ],
           "lat": [
            "-42.725"
           ],
           "legendgroup": "",
           "lon": [
            "173.064"
           ],
           "marker": {
            "color": [
             54.34696367
            ],
            "coloraxis": "coloraxis",
            "size": [
             6.591064718384044
            ],
            "sizemode": "area",
            "sizeref": 0.005201387060501242,
            "symbol": "circle"
           },
           "mode": "markers",
           "name": "",
           "showlegend": false,
           "type": "scattergeo"
          }
         ],
         "name": "2016"
        },
        {
         "data": [
          {
           "customdata": [
            [
             2018,
             2000000,
             4140,
             2000000,
             1450000,
             53.08512198
            ]
           ],
           "geo": "geo",
           "hovertemplate": "<b>%{hovertext}</b><br><br>Year=%{customdata[0]}<br>Impact_Score_Log=%{marker.size}<br>Latitude=%{lat}<br>Longitude=%{lon}<br>Impact_Score=%{customdata[1]}<br>Total Deaths=%{customdata[2]}<br>Total Affected=%{customdata[3]}<br>Total Damages ('000 US$)=%{customdata[4]}<br>mmfrom1993-2008average=%{marker.color:.2f}<extra></extra>",
           "hovertext": [
            "Indonesia"
           ],
           "lat": [
            "-178"
           ],
           "legendgroup": "",
           "lon": [
            "119.84"
           ],
           "marker": {
            "color": [
             53.08512198
            ],
            "coloraxis": "coloraxis",
            "size": [
             6.301030212811168
            ],
            "sizemode": "area",
            "sizeref": 0.005201387060501242,
            "symbol": "circle"
           },
           "mode": "markers",
           "name": "",
           "showlegend": false,
           "type": "scattergeo"
          }
         ],
         "name": "2018"
        },
        {
         "data": [
          {
           "customdata": [
            [
             1958,
             111,
             111,
             46,
             0,
             -72.9140625
            ]
           ],
           "geo": "geo",
           "hovertemplate": "<b>%{hovertext}</b><br><br>Year=%{customdata[0]}<br>Impact_Score_Log=%{marker.size}<br>Latitude=%{lat}<br>Longitude=%{lon}<br>Impact_Score=%{customdata[1]}<br>Total Deaths=%{customdata[2]}<br>Total Affected=%{customdata[3]}<br>Total Damages ('000 US$)=%{customdata[4]}<br>mmfrom1993-2008average=%{marker.color:.2f}<extra></extra>",
           "hovertext": [
            "Colombia"
           ],
           "lat": [
            "1.5"
           ],
           "legendgroup": "",
           "lon": [
            "-79.5"
           ],
           "marker": {
            "color": [
             -72.9140625
            ],
            "coloraxis": "coloraxis",
            "size": [
             2.0492180226701815
            ],
            "sizemode": "area",
            "sizeref": 0.005201387060501242,
            "symbol": "circle"
           },
           "mode": "markers",
           "name": "",
           "showlegend": false,
           "type": "scattergeo"
          }
         ],
         "name": "1958"
        }
       ],
       "layout": {
        "coloraxis": {
         "colorbar": {
          "title": {
           "text": "mmfrom1993-2008average"
          }
         },
         "colorscale": [
          [
           0,
           "#440154"
          ],
          [
           0.1111111111111111,
           "#482878"
          ],
          [
           0.2222222222222222,
           "#3e4989"
          ],
          [
           0.3333333333333333,
           "#31688e"
          ],
          [
           0.4444444444444444,
           "#26828e"
          ],
          [
           0.5555555555555556,
           "#1f9e89"
          ],
          [
           0.6666666666666666,
           "#35b779"
          ],
          [
           0.7777777777777778,
           "#6ece58"
          ],
          [
           0.8888888888888888,
           "#b5de2b"
          ],
          [
           1,
           "#fde725"
          ]
         ]
        },
        "geo": {
         "center": {},
         "domain": {
          "x": [
           0,
           1
          ],
          "y": [
           0,
           1
          ]
         },
         "projection": {
          "type": "natural earth"
         }
        },
        "height": 700,
        "legend": {
         "itemsizing": "constant",
         "tracegroupgap": 0
        },
        "sliders": [
         {
          "active": 0,
          "currentvalue": {
           "prefix": "Year="
          },
          "len": 0.9,
          "pad": {
           "b": 10,
           "t": 60
          },
          "steps": [
           {
            "args": [
             [
              "1928"
             ],
             {
              "frame": {
               "duration": 0,
               "redraw": true
              },
              "fromcurrent": true,
              "mode": "immediate",
              "transition": {
               "duration": 0,
               "easing": "linear"
              }
             }
            ],
            "label": "1928",
            "method": "animate"
           },
           {
            "args": [
             [
              "1960"
             ],
             {
              "frame": {
               "duration": 0,
               "redraw": true
              },
              "fromcurrent": true,
              "mode": "immediate",
              "transition": {
               "duration": 0,
               "easing": "linear"
              }
             }
            ],
            "label": "1960",
            "method": "animate"
           },
           {
            "args": [
             [
              "1968"
             ],
             {
              "frame": {
               "duration": 0,
               "redraw": true
              },
              "fromcurrent": true,
              "mode": "immediate",
              "transition": {
               "duration": 0,
               "easing": "linear"
              }
             }
            ],
            "label": "1968",
            "method": "animate"
           },
           {
            "args": [
             [
              "1969"
             ],
             {
              "frame": {
               "duration": 0,
               "redraw": true
              },
              "fromcurrent": true,
              "mode": "immediate",
              "transition": {
               "duration": 0,
               "easing": "linear"
              }
             }
            ],
            "label": "1969",
            "method": "animate"
           },
           {
            "args": [
             [
              "1901"
             ],
             {
              "frame": {
               "duration": 0,
               "redraw": true
              },
              "fromcurrent": true,
              "mode": "immediate",
              "transition": {
               "duration": 0,
               "easing": "linear"
              }
             }
            ],
            "label": "1901",
            "method": "animate"
           },
           {
            "args": [
             [
              "1905"
             ],
             {
              "frame": {
               "duration": 0,
               "redraw": true
              },
              "fromcurrent": true,
              "mode": "immediate",
              "transition": {
               "duration": 0,
               "easing": "linear"
              }
             }
            ],
            "label": "1905",
            "method": "animate"
           },
           {
            "args": [
             [
              "1931"
             ],
             {
              "frame": {
               "duration": 0,
               "redraw": true
              },
              "fromcurrent": true,
              "mode": "immediate",
              "transition": {
               "duration": 0,
               "easing": "linear"
              }
             }
            ],
            "label": "1931",
            "method": "animate"
           },
           {
            "args": [
             [
              "1933"
             ],
             {
              "frame": {
               "duration": 0,
               "redraw": true
              },
              "fromcurrent": true,
              "mode": "immediate",
              "transition": {
               "duration": 0,
               "easing": "linear"
              }
             }
            ],
            "label": "1933",
            "method": "animate"
           },
           {
            "args": [
             [
              "1944"
             ],
             {
              "frame": {
               "duration": 0,
               "redraw": true
              },
              "fromcurrent": true,
              "mode": "immediate",
              "transition": {
               "duration": 0,
               "easing": "linear"
              }
             }
            ],
            "label": "1944",
            "method": "animate"
           },
           {
            "args": [
             [
              "1946"
             ],
             {
              "frame": {
               "duration": 0,
               "redraw": true
              },
              "fromcurrent": true,
              "mode": "immediate",
              "transition": {
               "duration": 0,
               "easing": "linear"
              }
             }
            ],
            "label": "1946",
            "method": "animate"
           },
           {
            "args": [
             [
              "1964"
             ],
             {
              "frame": {
               "duration": 0,
               "redraw": true
              },
              "fromcurrent": true,
              "mode": "immediate",
              "transition": {
               "duration": 0,
               "easing": "linear"
              }
             }
            ],
            "label": "1964",
            "method": "animate"
           },
           {
            "args": [
             [
              "1975"
             ],
             {
              "frame": {
               "duration": 0,
               "redraw": true
              },
              "fromcurrent": true,
              "mode": "immediate",
              "transition": {
               "duration": 0,
               "easing": "linear"
              }
             }
            ],
            "label": "1975",
            "method": "animate"
           },
           {
            "args": [
             [
              "1979"
             ],
             {
              "frame": {
               "duration": 0,
               "redraw": true
              },
              "fromcurrent": true,
              "mode": "immediate",
              "transition": {
               "duration": 0,
               "easing": "linear"
              }
             }
            ],
            "label": "1979",
            "method": "animate"
           },
           {
            "args": [
             [
              "1983"
             ],
             {
              "frame": {
               "duration": 0,
               "redraw": true
              },
              "fromcurrent": true,
              "mode": "immediate",
              "transition": {
               "duration": 0,
               "easing": "linear"
              }
             }
            ],
            "label": "1983",
            "method": "animate"
           },
           {
            "args": [
             [
              "1993"
             ],
             {
              "frame": {
               "duration": 0,
               "redraw": true
              },
              "fromcurrent": true,
              "mode": "immediate",
              "transition": {
               "duration": 0,
               "easing": "linear"
              }
             }
            ],
            "label": "1993",
            "method": "animate"
           },
           {
            "args": [
             [
              "1996"
             ],
             {
              "frame": {
               "duration": 0,
               "redraw": true
              },
              "fromcurrent": true,
              "mode": "immediate",
              "transition": {
               "duration": 0,
               "easing": "linear"
              }
             }
            ],
            "label": "1996",
            "method": "animate"
           },
           {
            "args": [
             [
              "1998"
             ],
             {
              "frame": {
               "duration": 0,
               "redraw": true
              },
              "fromcurrent": true,
              "mode": "immediate",
              "transition": {
               "duration": 0,
               "easing": "linear"
              }
             }
            ],
            "label": "1998",
            "method": "animate"
           },
           {
            "args": [
             [
              "2002"
             ],
             {
              "frame": {
               "duration": 0,
               "redraw": true
              },
              "fromcurrent": true,
              "mode": "immediate",
              "transition": {
               "duration": 0,
               "easing": "linear"
              }
             }
            ],
            "label": "2002",
            "method": "animate"
           },
           {
            "args": [
             [
              "2001"
             ],
             {
              "frame": {
               "duration": 0,
               "redraw": true
              },
              "fromcurrent": true,
              "mode": "immediate",
              "transition": {
               "duration": 0,
               "easing": "linear"
              }
             }
            ],
            "label": "2001",
            "method": "animate"
           },
           {
            "args": [
             [
              "2004"
             ],
             {
              "frame": {
               "duration": 0,
               "redraw": true
              },
              "fromcurrent": true,
              "mode": "immediate",
              "transition": {
               "duration": 0,
               "easing": "linear"
              }
             }
            ],
            "label": "2004",
            "method": "animate"
           },
           {
            "args": [
             [
              "2006"
             ],
             {
              "frame": {
               "duration": 0,
               "redraw": true
              },
              "fromcurrent": true,
              "mode": "immediate",
              "transition": {
               "duration": 0,
               "easing": "linear"
              }
             }
            ],
            "label": "2006",
            "method": "animate"
           },
           {
            "args": [
             [
              "2007"
             ],
             {
              "frame": {
               "duration": 0,
               "redraw": true
              },
              "fromcurrent": true,
              "mode": "immediate",
              "transition": {
               "duration": 0,
               "easing": "linear"
              }
             }
            ],
            "label": "2007",
            "method": "animate"
           },
           {
            "args": [
             [
              "2009"
             ],
             {
              "frame": {
               "duration": 0,
               "redraw": true
              },
              "fromcurrent": true,
              "mode": "immediate",
              "transition": {
               "duration": 0,
               "easing": "linear"
              }
             }
            ],
            "label": "2009",
            "method": "animate"
           },
           {
            "args": [
             [
              "2010"
             ],
             {
              "frame": {
               "duration": 0,
               "redraw": true
              },
              "fromcurrent": true,
              "mode": "immediate",
              "transition": {
               "duration": 0,
               "easing": "linear"
              }
             }
            ],
            "label": "2010",
            "method": "animate"
           },
           {
            "args": [
             [
              "2011"
             ],
             {
              "frame": {
               "duration": 0,
               "redraw": true
              },
              "fromcurrent": true,
              "mode": "immediate",
              "transition": {
               "duration": 0,
               "easing": "linear"
              }
             }
            ],
            "label": "2011",
            "method": "animate"
           },
           {
            "args": [
             [
              "2013"
             ],
             {
              "frame": {
               "duration": 0,
               "redraw": true
              },
              "fromcurrent": true,
              "mode": "immediate",
              "transition": {
               "duration": 0,
               "easing": "linear"
              }
             }
            ],
            "label": "2013",
            "method": "animate"
           },
           {
            "args": [
             [
              "2015"
             ],
             {
              "frame": {
               "duration": 0,
               "redraw": true
              },
              "fromcurrent": true,
              "mode": "immediate",
              "transition": {
               "duration": 0,
               "easing": "linear"
              }
             }
            ],
            "label": "2015",
            "method": "animate"
           },
           {
            "args": [
             [
              "2016"
             ],
             {
              "frame": {
               "duration": 0,
               "redraw": true
              },
              "fromcurrent": true,
              "mode": "immediate",
              "transition": {
               "duration": 0,
               "easing": "linear"
              }
             }
            ],
            "label": "2016",
            "method": "animate"
           },
           {
            "args": [
             [
              "2018"
             ],
             {
              "frame": {
               "duration": 0,
               "redraw": true
              },
              "fromcurrent": true,
              "mode": "immediate",
              "transition": {
               "duration": 0,
               "easing": "linear"
              }
             }
            ],
            "label": "2018",
            "method": "animate"
           },
           {
            "args": [
             [
              "1958"
             ],
             {
              "frame": {
               "duration": 0,
               "redraw": true
              },
              "fromcurrent": true,
              "mode": "immediate",
              "transition": {
               "duration": 0,
               "easing": "linear"
              }
             }
            ],
            "label": "1958",
            "method": "animate"
           }
          ],
          "x": 0.1,
          "xanchor": "left",
          "y": 0,
          "yanchor": "top"
         }
        ],
        "template": {
         "data": {
          "bar": [
           {
            "error_x": {
             "color": "#2a3f5f"
            },
            "error_y": {
             "color": "#2a3f5f"
            },
            "marker": {
             "line": {
              "color": "#E5ECF6",
              "width": 0.5
             },
             "pattern": {
              "fillmode": "overlay",
              "size": 10,
              "solidity": 0.2
             }
            },
            "type": "bar"
           }
          ],
          "barpolar": [
           {
            "marker": {
             "line": {
              "color": "#E5ECF6",
              "width": 0.5
             },
             "pattern": {
              "fillmode": "overlay",
              "size": 10,
              "solidity": 0.2
             }
            },
            "type": "barpolar"
           }
          ],
          "carpet": [
           {
            "aaxis": {
             "endlinecolor": "#2a3f5f",
             "gridcolor": "white",
             "linecolor": "white",
             "minorgridcolor": "white",
             "startlinecolor": "#2a3f5f"
            },
            "baxis": {
             "endlinecolor": "#2a3f5f",
             "gridcolor": "white",
             "linecolor": "white",
             "minorgridcolor": "white",
             "startlinecolor": "#2a3f5f"
            },
            "type": "carpet"
           }
          ],
          "choropleth": [
           {
            "colorbar": {
             "outlinewidth": 0,
             "ticks": ""
            },
            "type": "choropleth"
           }
          ],
          "contour": [
           {
            "colorbar": {
             "outlinewidth": 0,
             "ticks": ""
            },
            "colorscale": [
             [
              0,
              "#0d0887"
             ],
             [
              0.1111111111111111,
              "#46039f"
             ],
             [
              0.2222222222222222,
              "#7201a8"
             ],
             [
              0.3333333333333333,
              "#9c179e"
             ],
             [
              0.4444444444444444,
              "#bd3786"
             ],
             [
              0.5555555555555556,
              "#d8576b"
             ],
             [
              0.6666666666666666,
              "#ed7953"
             ],
             [
              0.7777777777777778,
              "#fb9f3a"
             ],
             [
              0.8888888888888888,
              "#fdca26"
             ],
             [
              1,
              "#f0f921"
             ]
            ],
            "type": "contour"
           }
          ],
          "contourcarpet": [
           {
            "colorbar": {
             "outlinewidth": 0,
             "ticks": ""
            },
            "type": "contourcarpet"
           }
          ],
          "heatmap": [
           {
            "colorbar": {
             "outlinewidth": 0,
             "ticks": ""
            },
            "colorscale": [
             [
              0,
              "#0d0887"
             ],
             [
              0.1111111111111111,
              "#46039f"
             ],
             [
              0.2222222222222222,
              "#7201a8"
             ],
             [
              0.3333333333333333,
              "#9c179e"
             ],
             [
              0.4444444444444444,
              "#bd3786"
             ],
             [
              0.5555555555555556,
              "#d8576b"
             ],
             [
              0.6666666666666666,
              "#ed7953"
             ],
             [
              0.7777777777777778,
              "#fb9f3a"
             ],
             [
              0.8888888888888888,
              "#fdca26"
             ],
             [
              1,
              "#f0f921"
             ]
            ],
            "type": "heatmap"
           }
          ],
          "heatmapgl": [
           {
            "colorbar": {
             "outlinewidth": 0,
             "ticks": ""
            },
            "colorscale": [
             [
              0,
              "#0d0887"
             ],
             [
              0.1111111111111111,
              "#46039f"
             ],
             [
              0.2222222222222222,
              "#7201a8"
             ],
             [
              0.3333333333333333,
              "#9c179e"
             ],
             [
              0.4444444444444444,
              "#bd3786"
             ],
             [
              0.5555555555555556,
              "#d8576b"
             ],
             [
              0.6666666666666666,
              "#ed7953"
             ],
             [
              0.7777777777777778,
              "#fb9f3a"
             ],
             [
              0.8888888888888888,
              "#fdca26"
             ],
             [
              1,
              "#f0f921"
             ]
            ],
            "type": "heatmapgl"
           }
          ],
          "histogram": [
           {
            "marker": {
             "pattern": {
              "fillmode": "overlay",
              "size": 10,
              "solidity": 0.2
             }
            },
            "type": "histogram"
           }
          ],
          "histogram2d": [
           {
            "colorbar": {
             "outlinewidth": 0,
             "ticks": ""
            },
            "colorscale": [
             [
              0,
              "#0d0887"
             ],
             [
              0.1111111111111111,
              "#46039f"
             ],
             [
              0.2222222222222222,
              "#7201a8"
             ],
             [
              0.3333333333333333,
              "#9c179e"
             ],
             [
              0.4444444444444444,
              "#bd3786"
             ],
             [
              0.5555555555555556,
              "#d8576b"
             ],
             [
              0.6666666666666666,
              "#ed7953"
             ],
             [
              0.7777777777777778,
              "#fb9f3a"
             ],
             [
              0.8888888888888888,
              "#fdca26"
             ],
             [
              1,
              "#f0f921"
             ]
            ],
            "type": "histogram2d"
           }
          ],
          "histogram2dcontour": [
           {
            "colorbar": {
             "outlinewidth": 0,
             "ticks": ""
            },
            "colorscale": [
             [
              0,
              "#0d0887"
             ],
             [
              0.1111111111111111,
              "#46039f"
             ],
             [
              0.2222222222222222,
              "#7201a8"
             ],
             [
              0.3333333333333333,
              "#9c179e"
             ],
             [
              0.4444444444444444,
              "#bd3786"
             ],
             [
              0.5555555555555556,
              "#d8576b"
             ],
             [
              0.6666666666666666,
              "#ed7953"
             ],
             [
              0.7777777777777778,
              "#fb9f3a"
             ],
             [
              0.8888888888888888,
              "#fdca26"
             ],
             [
              1,
              "#f0f921"
             ]
            ],
            "type": "histogram2dcontour"
           }
          ],
          "mesh3d": [
           {
            "colorbar": {
             "outlinewidth": 0,
             "ticks": ""
            },
            "type": "mesh3d"
           }
          ],
          "parcoords": [
           {
            "line": {
             "colorbar": {
              "outlinewidth": 0,
              "ticks": ""
             }
            },
            "type": "parcoords"
           }
          ],
          "pie": [
           {
            "automargin": true,
            "type": "pie"
           }
          ],
          "scatter": [
           {
            "fillpattern": {
             "fillmode": "overlay",
             "size": 10,
             "solidity": 0.2
            },
            "type": "scatter"
           }
          ],
          "scatter3d": [
           {
            "line": {
             "colorbar": {
              "outlinewidth": 0,
              "ticks": ""
             }
            },
            "marker": {
             "colorbar": {
              "outlinewidth": 0,
              "ticks": ""
             }
            },
            "type": "scatter3d"
           }
          ],
          "scattercarpet": [
           {
            "marker": {
             "colorbar": {
              "outlinewidth": 0,
              "ticks": ""
             }
            },
            "type": "scattercarpet"
           }
          ],
          "scattergeo": [
           {
            "marker": {
             "colorbar": {
              "outlinewidth": 0,
              "ticks": ""
             }
            },
            "type": "scattergeo"
           }
          ],
          "scattergl": [
           {
            "marker": {
             "colorbar": {
              "outlinewidth": 0,
              "ticks": ""
             }
            },
            "type": "scattergl"
           }
          ],
          "scattermapbox": [
           {
            "marker": {
             "colorbar": {
              "outlinewidth": 0,
              "ticks": ""
             }
            },
            "type": "scattermapbox"
           }
          ],
          "scatterpolar": [
           {
            "marker": {
             "colorbar": {
              "outlinewidth": 0,
              "ticks": ""
             }
            },
            "type": "scatterpolar"
           }
          ],
          "scatterpolargl": [
           {
            "marker": {
             "colorbar": {
              "outlinewidth": 0,
              "ticks": ""
             }
            },
            "type": "scatterpolargl"
           }
          ],
          "scatterternary": [
           {
            "marker": {
             "colorbar": {
              "outlinewidth": 0,
              "ticks": ""
             }
            },
            "type": "scatterternary"
           }
          ],
          "surface": [
           {
            "colorbar": {
             "outlinewidth": 0,
             "ticks": ""
            },
            "colorscale": [
             [
              0,
              "#0d0887"
             ],
             [
              0.1111111111111111,
              "#46039f"
             ],
             [
              0.2222222222222222,
              "#7201a8"
             ],
             [
              0.3333333333333333,
              "#9c179e"
             ],
             [
              0.4444444444444444,
              "#bd3786"
             ],
             [
              0.5555555555555556,
              "#d8576b"
             ],
             [
              0.6666666666666666,
              "#ed7953"
             ],
             [
              0.7777777777777778,
              "#fb9f3a"
             ],
             [
              0.8888888888888888,
              "#fdca26"
             ],
             [
              1,
              "#f0f921"
             ]
            ],
            "type": "surface"
           }
          ],
          "table": [
           {
            "cells": {
             "fill": {
              "color": "#EBF0F8"
             },
             "line": {
              "color": "white"
             }
            },
            "header": {
             "fill": {
              "color": "#C8D4E3"
             },
             "line": {
              "color": "white"
             }
            },
            "type": "table"
           }
          ]
         },
         "layout": {
          "annotationdefaults": {
           "arrowcolor": "#2a3f5f",
           "arrowhead": 0,
           "arrowwidth": 1
          },
          "autotypenumbers": "strict",
          "coloraxis": {
           "colorbar": {
            "outlinewidth": 0,
            "ticks": ""
           }
          },
          "colorscale": {
           "diverging": [
            [
             0,
             "#8e0152"
            ],
            [
             0.1,
             "#c51b7d"
            ],
            [
             0.2,
             "#de77ae"
            ],
            [
             0.3,
             "#f1b6da"
            ],
            [
             0.4,
             "#fde0ef"
            ],
            [
             0.5,
             "#f7f7f7"
            ],
            [
             0.6,
             "#e6f5d0"
            ],
            [
             0.7,
             "#b8e186"
            ],
            [
             0.8,
             "#7fbc41"
            ],
            [
             0.9,
             "#4d9221"
            ],
            [
             1,
             "#276419"
            ]
           ],
           "sequential": [
            [
             0,
             "#0d0887"
            ],
            [
             0.1111111111111111,
             "#46039f"
            ],
            [
             0.2222222222222222,
             "#7201a8"
            ],
            [
             0.3333333333333333,
             "#9c179e"
            ],
            [
             0.4444444444444444,
             "#bd3786"
            ],
            [
             0.5555555555555556,
             "#d8576b"
            ],
            [
             0.6666666666666666,
             "#ed7953"
            ],
            [
             0.7777777777777778,
             "#fb9f3a"
            ],
            [
             0.8888888888888888,
             "#fdca26"
            ],
            [
             1,
             "#f0f921"
            ]
           ],
           "sequentialminus": [
            [
             0,
             "#0d0887"
            ],
            [
             0.1111111111111111,
             "#46039f"
            ],
            [
             0.2222222222222222,
             "#7201a8"
            ],
            [
             0.3333333333333333,
             "#9c179e"
            ],
            [
             0.4444444444444444,
             "#bd3786"
            ],
            [
             0.5555555555555556,
             "#d8576b"
            ],
            [
             0.6666666666666666,
             "#ed7953"
            ],
            [
             0.7777777777777778,
             "#fb9f3a"
            ],
            [
             0.8888888888888888,
             "#fdca26"
            ],
            [
             1,
             "#f0f921"
            ]
           ]
          },
          "colorway": [
           "#636efa",
           "#EF553B",
           "#00cc96",
           "#ab63fa",
           "#FFA15A",
           "#19d3f3",
           "#FF6692",
           "#B6E880",
           "#FF97FF",
           "#FECB52"
          ],
          "font": {
           "color": "#2a3f5f"
          },
          "geo": {
           "bgcolor": "white",
           "lakecolor": "white",
           "landcolor": "#E5ECF6",
           "showlakes": true,
           "showland": true,
           "subunitcolor": "white"
          },
          "hoverlabel": {
           "align": "left"
          },
          "hovermode": "closest",
          "mapbox": {
           "style": "light"
          },
          "paper_bgcolor": "white",
          "plot_bgcolor": "#E5ECF6",
          "polar": {
           "angularaxis": {
            "gridcolor": "white",
            "linecolor": "white",
            "ticks": ""
           },
           "bgcolor": "#E5ECF6",
           "radialaxis": {
            "gridcolor": "white",
            "linecolor": "white",
            "ticks": ""
           }
          },
          "scene": {
           "xaxis": {
            "backgroundcolor": "#E5ECF6",
            "gridcolor": "white",
            "gridwidth": 2,
            "linecolor": "white",
            "showbackground": true,
            "ticks": "",
            "zerolinecolor": "white"
           },
           "yaxis": {
            "backgroundcolor": "#E5ECF6",
            "gridcolor": "white",
            "gridwidth": 2,
            "linecolor": "white",
            "showbackground": true,
            "ticks": "",
            "zerolinecolor": "white"
           },
           "zaxis": {
            "backgroundcolor": "#E5ECF6",
            "gridcolor": "white",
            "gridwidth": 2,
            "linecolor": "white",
            "showbackground": true,
            "ticks": "",
            "zerolinecolor": "white"
           }
          },
          "shapedefaults": {
           "line": {
            "color": "#2a3f5f"
           }
          },
          "ternary": {
           "aaxis": {
            "gridcolor": "white",
            "linecolor": "white",
            "ticks": ""
           },
           "baxis": {
            "gridcolor": "white",
            "linecolor": "white",
            "ticks": ""
           },
           "bgcolor": "#E5ECF6",
           "caxis": {
            "gridcolor": "white",
            "linecolor": "white",
            "ticks": ""
           }
          },
          "title": {
           "x": 0.05
          },
          "xaxis": {
           "automargin": true,
           "gridcolor": "white",
           "linecolor": "white",
           "ticks": "",
           "title": {
            "standoff": 15
           },
           "zerolinecolor": "white",
           "zerolinewidth": 2
          },
          "yaxis": {
           "automargin": true,
           "gridcolor": "white",
           "linecolor": "white",
           "ticks": "",
           "title": {
            "standoff": 15
           },
           "zerolinecolor": "white",
           "zerolinewidth": 2
          }
         }
        },
        "title": {
         "text": "Overstromingen en tsunami's met zeespiegelstijging en impact (log schaal)"
        },
        "updatemenus": [
         {
          "buttons": [
           {
            "args": [
             null,
             {
              "frame": {
               "duration": 500,
               "redraw": true
              },
              "fromcurrent": true,
              "mode": "immediate",
              "transition": {
               "duration": 500,
               "easing": "linear"
              }
             }
            ],
            "label": "&#9654;",
            "method": "animate"
           },
           {
            "args": [
             [
              null
             ],
             {
              "frame": {
               "duration": 0,
               "redraw": true
              },
              "fromcurrent": true,
              "mode": "immediate",
              "transition": {
               "duration": 0,
               "easing": "linear"
              }
             }
            ],
            "label": "&#9724;",
            "method": "animate"
           }
          ],
          "direction": "left",
          "pad": {
           "r": 10,
           "t": 70
          },
          "showactive": false,
          "type": "buttons",
          "x": 0.1,
          "xanchor": "right",
          "y": 0,
          "yanchor": "top"
         }
        ]
       }
      },
      "text/html": [
       "<div>                            <div id=\"d850e6d7-b747-4e36-857d-0dd7787e3fe3\" class=\"plotly-graph-div\" style=\"height:700px; width:100%;\"></div>            <script type=\"text/javascript\">                require([\"plotly\"], function(Plotly) {                    window.PLOTLYENV=window.PLOTLYENV || {};                                    if (document.getElementById(\"d850e6d7-b747-4e36-857d-0dd7787e3fe3\")) {                    Plotly.newPlot(                        \"d850e6d7-b747-4e36-857d-0dd7787e3fe3\",                        [{\"customdata\":[[1928.0,27.0,27.0,0.0,0.0,-128.8807292],[1928.0,128.0,128.0,0.0,0.0,-128.8807292]],\"geo\":\"geo\",\"hovertemplate\":\"<b>%{hovertext}</b><br><br>Year=%{customdata[0]}<br>Impact_Score_Log=%{marker.size}<br>Latitude=%{lat}<br>Longitude=%{lon}<br>Impact_Score=%{customdata[1]}<br>Total Deaths=%{customdata[2]}<br>Total Affected=%{customdata[3]}<br>Total Damages ('000 US$)=%{customdata[4]}<br>mmfrom1993-2008average=%{marker.color:.2f}<extra></extra>\",\"hovertext\":[\"Canada\",\"Indonesia\"],\"lat\":[\"48.60 N\",\"8.30 S\"],\"legendgroup\":\"\",\"lon\":[\"58.00 W\",\"121.70 E\"],\"marker\":{\"color\":[-128.8807292,-128.8807292],\"coloraxis\":\"coloraxis\",\"size\":[1.4471580313422192,2.110589710299249],\"sizemode\":\"area\",\"sizeref\":0.005201387060501242,\"symbol\":\"circle\"},\"mode\":\"markers\",\"name\":\"\",\"showlegend\":false,\"type\":\"scattergeo\"}],                        {\"template\":{\"data\":{\"histogram2dcontour\":[{\"type\":\"histogram2dcontour\",\"colorbar\":{\"outlinewidth\":0,\"ticks\":\"\"},\"colorscale\":[[0.0,\"#0d0887\"],[0.1111111111111111,\"#46039f\"],[0.2222222222222222,\"#7201a8\"],[0.3333333333333333,\"#9c179e\"],[0.4444444444444444,\"#bd3786\"],[0.5555555555555556,\"#d8576b\"],[0.6666666666666666,\"#ed7953\"],[0.7777777777777778,\"#fb9f3a\"],[0.8888888888888888,\"#fdca26\"],[1.0,\"#f0f921\"]]}],\"choropleth\":[{\"type\":\"choropleth\",\"colorbar\":{\"outlinewidth\":0,\"ticks\":\"\"}}],\"histogram2d\":[{\"type\":\"histogram2d\",\"colorbar\":{\"outlinewidth\":0,\"ticks\":\"\"},\"colorscale\":[[0.0,\"#0d0887\"],[0.1111111111111111,\"#46039f\"],[0.2222222222222222,\"#7201a8\"],[0.3333333333333333,\"#9c179e\"],[0.4444444444444444,\"#bd3786\"],[0.5555555555555556,\"#d8576b\"],[0.6666666666666666,\"#ed7953\"],[0.7777777777777778,\"#fb9f3a\"],[0.8888888888888888,\"#fdca26\"],[1.0,\"#f0f921\"]]}],\"heatmap\":[{\"type\":\"heatmap\",\"colorbar\":{\"outlinewidth\":0,\"ticks\":\"\"},\"colorscale\":[[0.0,\"#0d0887\"],[0.1111111111111111,\"#46039f\"],[0.2222222222222222,\"#7201a8\"],[0.3333333333333333,\"#9c179e\"],[0.4444444444444444,\"#bd3786\"],[0.5555555555555556,\"#d8576b\"],[0.6666666666666666,\"#ed7953\"],[0.7777777777777778,\"#fb9f3a\"],[0.8888888888888888,\"#fdca26\"],[1.0,\"#f0f921\"]]}],\"heatmapgl\":[{\"type\":\"heatmapgl\",\"colorbar\":{\"outlinewidth\":0,\"ticks\":\"\"},\"colorscale\":[[0.0,\"#0d0887\"],[0.1111111111111111,\"#46039f\"],[0.2222222222222222,\"#7201a8\"],[0.3333333333333333,\"#9c179e\"],[0.4444444444444444,\"#bd3786\"],[0.5555555555555556,\"#d8576b\"],[0.6666666666666666,\"#ed7953\"],[0.7777777777777778,\"#fb9f3a\"],[0.8888888888888888,\"#fdca26\"],[1.0,\"#f0f921\"]]}],\"contourcarpet\":[{\"type\":\"contourcarpet\",\"colorbar\":{\"outlinewidth\":0,\"ticks\":\"\"}}],\"contour\":[{\"type\":\"contour\",\"colorbar\":{\"outlinewidth\":0,\"ticks\":\"\"},\"colorscale\":[[0.0,\"#0d0887\"],[0.1111111111111111,\"#46039f\"],[0.2222222222222222,\"#7201a8\"],[0.3333333333333333,\"#9c179e\"],[0.4444444444444444,\"#bd3786\"],[0.5555555555555556,\"#d8576b\"],[0.6666666666666666,\"#ed7953\"],[0.7777777777777778,\"#fb9f3a\"],[0.8888888888888888,\"#fdca26\"],[1.0,\"#f0f921\"]]}],\"surface\":[{\"type\":\"surface\",\"colorbar\":{\"outlinewidth\":0,\"ticks\":\"\"},\"colorscale\":[[0.0,\"#0d0887\"],[0.1111111111111111,\"#46039f\"],[0.2222222222222222,\"#7201a8\"],[0.3333333333333333,\"#9c179e\"],[0.4444444444444444,\"#bd3786\"],[0.5555555555555556,\"#d8576b\"],[0.6666666666666666,\"#ed7953\"],[0.7777777777777778,\"#fb9f3a\"],[0.8888888888888888,\"#fdca26\"],[1.0,\"#f0f921\"]]}],\"mesh3d\":[{\"type\":\"mesh3d\",\"colorbar\":{\"outlinewidth\":0,\"ticks\":\"\"}}],\"scatter\":[{\"fillpattern\":{\"fillmode\":\"overlay\",\"size\":10,\"solidity\":0.2},\"type\":\"scatter\"}],\"parcoords\":[{\"type\":\"parcoords\",\"line\":{\"colorbar\":{\"outlinewidth\":0,\"ticks\":\"\"}}}],\"scatterpolargl\":[{\"type\":\"scatterpolargl\",\"marker\":{\"colorbar\":{\"outlinewidth\":0,\"ticks\":\"\"}}}],\"bar\":[{\"error_x\":{\"color\":\"#2a3f5f\"},\"error_y\":{\"color\":\"#2a3f5f\"},\"marker\":{\"line\":{\"color\":\"#E5ECF6\",\"width\":0.5},\"pattern\":{\"fillmode\":\"overlay\",\"size\":10,\"solidity\":0.2}},\"type\":\"bar\"}],\"scattergeo\":[{\"type\":\"scattergeo\",\"marker\":{\"colorbar\":{\"outlinewidth\":0,\"ticks\":\"\"}}}],\"scatterpolar\":[{\"type\":\"scatterpolar\",\"marker\":{\"colorbar\":{\"outlinewidth\":0,\"ticks\":\"\"}}}],\"histogram\":[{\"marker\":{\"pattern\":{\"fillmode\":\"overlay\",\"size\":10,\"solidity\":0.2}},\"type\":\"histogram\"}],\"scattergl\":[{\"type\":\"scattergl\",\"marker\":{\"colorbar\":{\"outlinewidth\":0,\"ticks\":\"\"}}}],\"scatter3d\":[{\"type\":\"scatter3d\",\"line\":{\"colorbar\":{\"outlinewidth\":0,\"ticks\":\"\"}},\"marker\":{\"colorbar\":{\"outlinewidth\":0,\"ticks\":\"\"}}}],\"scattermapbox\":[{\"type\":\"scattermapbox\",\"marker\":{\"colorbar\":{\"outlinewidth\":0,\"ticks\":\"\"}}}],\"scatterternary\":[{\"type\":\"scatterternary\",\"marker\":{\"colorbar\":{\"outlinewidth\":0,\"ticks\":\"\"}}}],\"scattercarpet\":[{\"type\":\"scattercarpet\",\"marker\":{\"colorbar\":{\"outlinewidth\":0,\"ticks\":\"\"}}}],\"carpet\":[{\"aaxis\":{\"endlinecolor\":\"#2a3f5f\",\"gridcolor\":\"white\",\"linecolor\":\"white\",\"minorgridcolor\":\"white\",\"startlinecolor\":\"#2a3f5f\"},\"baxis\":{\"endlinecolor\":\"#2a3f5f\",\"gridcolor\":\"white\",\"linecolor\":\"white\",\"minorgridcolor\":\"white\",\"startlinecolor\":\"#2a3f5f\"},\"type\":\"carpet\"}],\"table\":[{\"cells\":{\"fill\":{\"color\":\"#EBF0F8\"},\"line\":{\"color\":\"white\"}},\"header\":{\"fill\":{\"color\":\"#C8D4E3\"},\"line\":{\"color\":\"white\"}},\"type\":\"table\"}],\"barpolar\":[{\"marker\":{\"line\":{\"color\":\"#E5ECF6\",\"width\":0.5},\"pattern\":{\"fillmode\":\"overlay\",\"size\":10,\"solidity\":0.2}},\"type\":\"barpolar\"}],\"pie\":[{\"automargin\":true,\"type\":\"pie\"}]},\"layout\":{\"autotypenumbers\":\"strict\",\"colorway\":[\"#636efa\",\"#EF553B\",\"#00cc96\",\"#ab63fa\",\"#FFA15A\",\"#19d3f3\",\"#FF6692\",\"#B6E880\",\"#FF97FF\",\"#FECB52\"],\"font\":{\"color\":\"#2a3f5f\"},\"hovermode\":\"closest\",\"hoverlabel\":{\"align\":\"left\"},\"paper_bgcolor\":\"white\",\"plot_bgcolor\":\"#E5ECF6\",\"polar\":{\"bgcolor\":\"#E5ECF6\",\"angularaxis\":{\"gridcolor\":\"white\",\"linecolor\":\"white\",\"ticks\":\"\"},\"radialaxis\":{\"gridcolor\":\"white\",\"linecolor\":\"white\",\"ticks\":\"\"}},\"ternary\":{\"bgcolor\":\"#E5ECF6\",\"aaxis\":{\"gridcolor\":\"white\",\"linecolor\":\"white\",\"ticks\":\"\"},\"baxis\":{\"gridcolor\":\"white\",\"linecolor\":\"white\",\"ticks\":\"\"},\"caxis\":{\"gridcolor\":\"white\",\"linecolor\":\"white\",\"ticks\":\"\"}},\"coloraxis\":{\"colorbar\":{\"outlinewidth\":0,\"ticks\":\"\"}},\"colorscale\":{\"sequential\":[[0.0,\"#0d0887\"],[0.1111111111111111,\"#46039f\"],[0.2222222222222222,\"#7201a8\"],[0.3333333333333333,\"#9c179e\"],[0.4444444444444444,\"#bd3786\"],[0.5555555555555556,\"#d8576b\"],[0.6666666666666666,\"#ed7953\"],[0.7777777777777778,\"#fb9f3a\"],[0.8888888888888888,\"#fdca26\"],[1.0,\"#f0f921\"]],\"sequentialminus\":[[0.0,\"#0d0887\"],[0.1111111111111111,\"#46039f\"],[0.2222222222222222,\"#7201a8\"],[0.3333333333333333,\"#9c179e\"],[0.4444444444444444,\"#bd3786\"],[0.5555555555555556,\"#d8576b\"],[0.6666666666666666,\"#ed7953\"],[0.7777777777777778,\"#fb9f3a\"],[0.8888888888888888,\"#fdca26\"],[1.0,\"#f0f921\"]],\"diverging\":[[0,\"#8e0152\"],[0.1,\"#c51b7d\"],[0.2,\"#de77ae\"],[0.3,\"#f1b6da\"],[0.4,\"#fde0ef\"],[0.5,\"#f7f7f7\"],[0.6,\"#e6f5d0\"],[0.7,\"#b8e186\"],[0.8,\"#7fbc41\"],[0.9,\"#4d9221\"],[1,\"#276419\"]]},\"xaxis\":{\"gridcolor\":\"white\",\"linecolor\":\"white\",\"ticks\":\"\",\"title\":{\"standoff\":15},\"zerolinecolor\":\"white\",\"automargin\":true,\"zerolinewidth\":2},\"yaxis\":{\"gridcolor\":\"white\",\"linecolor\":\"white\",\"ticks\":\"\",\"title\":{\"standoff\":15},\"zerolinecolor\":\"white\",\"automargin\":true,\"zerolinewidth\":2},\"scene\":{\"xaxis\":{\"backgroundcolor\":\"#E5ECF6\",\"gridcolor\":\"white\",\"linecolor\":\"white\",\"showbackground\":true,\"ticks\":\"\",\"zerolinecolor\":\"white\",\"gridwidth\":2},\"yaxis\":{\"backgroundcolor\":\"#E5ECF6\",\"gridcolor\":\"white\",\"linecolor\":\"white\",\"showbackground\":true,\"ticks\":\"\",\"zerolinecolor\":\"white\",\"gridwidth\":2},\"zaxis\":{\"backgroundcolor\":\"#E5ECF6\",\"gridcolor\":\"white\",\"linecolor\":\"white\",\"showbackground\":true,\"ticks\":\"\",\"zerolinecolor\":\"white\",\"gridwidth\":2}},\"shapedefaults\":{\"line\":{\"color\":\"#2a3f5f\"}},\"annotationdefaults\":{\"arrowcolor\":\"#2a3f5f\",\"arrowhead\":0,\"arrowwidth\":1},\"geo\":{\"bgcolor\":\"white\",\"landcolor\":\"#E5ECF6\",\"subunitcolor\":\"white\",\"showland\":true,\"showlakes\":true,\"lakecolor\":\"white\"},\"title\":{\"x\":0.05},\"mapbox\":{\"style\":\"light\"}}},\"geo\":{\"domain\":{\"x\":[0.0,1.0],\"y\":[0.0,1.0]},\"projection\":{\"type\":\"natural earth\"},\"center\":{}},\"coloraxis\":{\"colorbar\":{\"title\":{\"text\":\"mmfrom1993-2008average\"}},\"colorscale\":[[0.0,\"#440154\"],[0.1111111111111111,\"#482878\"],[0.2222222222222222,\"#3e4989\"],[0.3333333333333333,\"#31688e\"],[0.4444444444444444,\"#26828e\"],[0.5555555555555556,\"#1f9e89\"],[0.6666666666666666,\"#35b779\"],[0.7777777777777778,\"#6ece58\"],[0.8888888888888888,\"#b5de2b\"],[1.0,\"#fde725\"]]},\"legend\":{\"tracegroupgap\":0,\"itemsizing\":\"constant\"},\"title\":{\"text\":\"Overstromingen en tsunami's met zeespiegelstijging en impact (log schaal)\"},\"updatemenus\":[{\"buttons\":[{\"args\":[null,{\"frame\":{\"duration\":500,\"redraw\":true},\"mode\":\"immediate\",\"fromcurrent\":true,\"transition\":{\"duration\":500,\"easing\":\"linear\"}}],\"label\":\"&#9654;\",\"method\":\"animate\"},{\"args\":[[null],{\"frame\":{\"duration\":0,\"redraw\":true},\"mode\":\"immediate\",\"fromcurrent\":true,\"transition\":{\"duration\":0,\"easing\":\"linear\"}}],\"label\":\"&#9724;\",\"method\":\"animate\"}],\"direction\":\"left\",\"pad\":{\"r\":10,\"t\":70},\"showactive\":false,\"type\":\"buttons\",\"x\":0.1,\"xanchor\":\"right\",\"y\":0,\"yanchor\":\"top\"}],\"sliders\":[{\"active\":0,\"currentvalue\":{\"prefix\":\"Year=\"},\"len\":0.9,\"pad\":{\"b\":10,\"t\":60},\"steps\":[{\"args\":[[\"1928\"],{\"frame\":{\"duration\":0,\"redraw\":true},\"mode\":\"immediate\",\"fromcurrent\":true,\"transition\":{\"duration\":0,\"easing\":\"linear\"}}],\"label\":\"1928\",\"method\":\"animate\"},{\"args\":[[\"1960\"],{\"frame\":{\"duration\":0,\"redraw\":true},\"mode\":\"immediate\",\"fromcurrent\":true,\"transition\":{\"duration\":0,\"easing\":\"linear\"}}],\"label\":\"1960\",\"method\":\"animate\"},{\"args\":[[\"1968\"],{\"frame\":{\"duration\":0,\"redraw\":true},\"mode\":\"immediate\",\"fromcurrent\":true,\"transition\":{\"duration\":0,\"easing\":\"linear\"}}],\"label\":\"1968\",\"method\":\"animate\"},{\"args\":[[\"1969\"],{\"frame\":{\"duration\":0,\"redraw\":true},\"mode\":\"immediate\",\"fromcurrent\":true,\"transition\":{\"duration\":0,\"easing\":\"linear\"}}],\"label\":\"1969\",\"method\":\"animate\"},{\"args\":[[\"1901\"],{\"frame\":{\"duration\":0,\"redraw\":true},\"mode\":\"immediate\",\"fromcurrent\":true,\"transition\":{\"duration\":0,\"easing\":\"linear\"}}],\"label\":\"1901\",\"method\":\"animate\"},{\"args\":[[\"1905\"],{\"frame\":{\"duration\":0,\"redraw\":true},\"mode\":\"immediate\",\"fromcurrent\":true,\"transition\":{\"duration\":0,\"easing\":\"linear\"}}],\"label\":\"1905\",\"method\":\"animate\"},{\"args\":[[\"1931\"],{\"frame\":{\"duration\":0,\"redraw\":true},\"mode\":\"immediate\",\"fromcurrent\":true,\"transition\":{\"duration\":0,\"easing\":\"linear\"}}],\"label\":\"1931\",\"method\":\"animate\"},{\"args\":[[\"1933\"],{\"frame\":{\"duration\":0,\"redraw\":true},\"mode\":\"immediate\",\"fromcurrent\":true,\"transition\":{\"duration\":0,\"easing\":\"linear\"}}],\"label\":\"1933\",\"method\":\"animate\"},{\"args\":[[\"1944\"],{\"frame\":{\"duration\":0,\"redraw\":true},\"mode\":\"immediate\",\"fromcurrent\":true,\"transition\":{\"duration\":0,\"easing\":\"linear\"}}],\"label\":\"1944\",\"method\":\"animate\"},{\"args\":[[\"1946\"],{\"frame\":{\"duration\":0,\"redraw\":true},\"mode\":\"immediate\",\"fromcurrent\":true,\"transition\":{\"duration\":0,\"easing\":\"linear\"}}],\"label\":\"1946\",\"method\":\"animate\"},{\"args\":[[\"1964\"],{\"frame\":{\"duration\":0,\"redraw\":true},\"mode\":\"immediate\",\"fromcurrent\":true,\"transition\":{\"duration\":0,\"easing\":\"linear\"}}],\"label\":\"1964\",\"method\":\"animate\"},{\"args\":[[\"1975\"],{\"frame\":{\"duration\":0,\"redraw\":true},\"mode\":\"immediate\",\"fromcurrent\":true,\"transition\":{\"duration\":0,\"easing\":\"linear\"}}],\"label\":\"1975\",\"method\":\"animate\"},{\"args\":[[\"1979\"],{\"frame\":{\"duration\":0,\"redraw\":true},\"mode\":\"immediate\",\"fromcurrent\":true,\"transition\":{\"duration\":0,\"easing\":\"linear\"}}],\"label\":\"1979\",\"method\":\"animate\"},{\"args\":[[\"1983\"],{\"frame\":{\"duration\":0,\"redraw\":true},\"mode\":\"immediate\",\"fromcurrent\":true,\"transition\":{\"duration\":0,\"easing\":\"linear\"}}],\"label\":\"1983\",\"method\":\"animate\"},{\"args\":[[\"1993\"],{\"frame\":{\"duration\":0,\"redraw\":true},\"mode\":\"immediate\",\"fromcurrent\":true,\"transition\":{\"duration\":0,\"easing\":\"linear\"}}],\"label\":\"1993\",\"method\":\"animate\"},{\"args\":[[\"1996\"],{\"frame\":{\"duration\":0,\"redraw\":true},\"mode\":\"immediate\",\"fromcurrent\":true,\"transition\":{\"duration\":0,\"easing\":\"linear\"}}],\"label\":\"1996\",\"method\":\"animate\"},{\"args\":[[\"1998\"],{\"frame\":{\"duration\":0,\"redraw\":true},\"mode\":\"immediate\",\"fromcurrent\":true,\"transition\":{\"duration\":0,\"easing\":\"linear\"}}],\"label\":\"1998\",\"method\":\"animate\"},{\"args\":[[\"2002\"],{\"frame\":{\"duration\":0,\"redraw\":true},\"mode\":\"immediate\",\"fromcurrent\":true,\"transition\":{\"duration\":0,\"easing\":\"linear\"}}],\"label\":\"2002\",\"method\":\"animate\"},{\"args\":[[\"2001\"],{\"frame\":{\"duration\":0,\"redraw\":true},\"mode\":\"immediate\",\"fromcurrent\":true,\"transition\":{\"duration\":0,\"easing\":\"linear\"}}],\"label\":\"2001\",\"method\":\"animate\"},{\"args\":[[\"2004\"],{\"frame\":{\"duration\":0,\"redraw\":true},\"mode\":\"immediate\",\"fromcurrent\":true,\"transition\":{\"duration\":0,\"easing\":\"linear\"}}],\"label\":\"2004\",\"method\":\"animate\"},{\"args\":[[\"2006\"],{\"frame\":{\"duration\":0,\"redraw\":true},\"mode\":\"immediate\",\"fromcurrent\":true,\"transition\":{\"duration\":0,\"easing\":\"linear\"}}],\"label\":\"2006\",\"method\":\"animate\"},{\"args\":[[\"2007\"],{\"frame\":{\"duration\":0,\"redraw\":true},\"mode\":\"immediate\",\"fromcurrent\":true,\"transition\":{\"duration\":0,\"easing\":\"linear\"}}],\"label\":\"2007\",\"method\":\"animate\"},{\"args\":[[\"2009\"],{\"frame\":{\"duration\":0,\"redraw\":true},\"mode\":\"immediate\",\"fromcurrent\":true,\"transition\":{\"duration\":0,\"easing\":\"linear\"}}],\"label\":\"2009\",\"method\":\"animate\"},{\"args\":[[\"2010\"],{\"frame\":{\"duration\":0,\"redraw\":true},\"mode\":\"immediate\",\"fromcurrent\":true,\"transition\":{\"duration\":0,\"easing\":\"linear\"}}],\"label\":\"2010\",\"method\":\"animate\"},{\"args\":[[\"2011\"],{\"frame\":{\"duration\":0,\"redraw\":true},\"mode\":\"immediate\",\"fromcurrent\":true,\"transition\":{\"duration\":0,\"easing\":\"linear\"}}],\"label\":\"2011\",\"method\":\"animate\"},{\"args\":[[\"2013\"],{\"frame\":{\"duration\":0,\"redraw\":true},\"mode\":\"immediate\",\"fromcurrent\":true,\"transition\":{\"duration\":0,\"easing\":\"linear\"}}],\"label\":\"2013\",\"method\":\"animate\"},{\"args\":[[\"2015\"],{\"frame\":{\"duration\":0,\"redraw\":true},\"mode\":\"immediate\",\"fromcurrent\":true,\"transition\":{\"duration\":0,\"easing\":\"linear\"}}],\"label\":\"2015\",\"method\":\"animate\"},{\"args\":[[\"2016\"],{\"frame\":{\"duration\":0,\"redraw\":true},\"mode\":\"immediate\",\"fromcurrent\":true,\"transition\":{\"duration\":0,\"easing\":\"linear\"}}],\"label\":\"2016\",\"method\":\"animate\"},{\"args\":[[\"2018\"],{\"frame\":{\"duration\":0,\"redraw\":true},\"mode\":\"immediate\",\"fromcurrent\":true,\"transition\":{\"duration\":0,\"easing\":\"linear\"}}],\"label\":\"2018\",\"method\":\"animate\"},{\"args\":[[\"1958\"],{\"frame\":{\"duration\":0,\"redraw\":true},\"mode\":\"immediate\",\"fromcurrent\":true,\"transition\":{\"duration\":0,\"easing\":\"linear\"}}],\"label\":\"1958\",\"method\":\"animate\"}],\"x\":0.1,\"xanchor\":\"left\",\"y\":0,\"yanchor\":\"top\"}],\"height\":700},                        {\"responsive\": true}                    ).then(function(){\n",
       "                            Plotly.addFrames('d850e6d7-b747-4e36-857d-0dd7787e3fe3', [{\"data\":[{\"customdata\":[[1928.0,27.0,27.0,0.0,0.0,-128.8807292],[1928.0,128.0,128.0,0.0,0.0,-128.8807292]],\"geo\":\"geo\",\"hovertemplate\":\"<b>%{hovertext}</b><br><br>Year=%{customdata[0]}<br>Impact_Score_Log=%{marker.size}<br>Latitude=%{lat}<br>Longitude=%{lon}<br>Impact_Score=%{customdata[1]}<br>Total Deaths=%{customdata[2]}<br>Total Affected=%{customdata[3]}<br>Total Damages ('000 US$)=%{customdata[4]}<br>mmfrom1993-2008average=%{marker.color:.2f}<extra></extra>\",\"hovertext\":[\"Canada\",\"Indonesia\"],\"lat\":[\"48.60 N\",\"8.30 S\"],\"legendgroup\":\"\",\"lon\":[\"58.00 W\",\"121.70 E\"],\"marker\":{\"color\":[-128.8807292,-128.8807292],\"coloraxis\":\"coloraxis\",\"size\":[1.4471580313422192,2.110589710299249],\"sizemode\":\"area\",\"sizeref\":0.005201387060501242,\"symbol\":\"circle\"},\"mode\":\"markers\",\"name\":\"\",\"showlegend\":false,\"type\":\"scattergeo\"}],\"name\":\"1928\"},{\"data\":[{\"customdata\":[[1960.0,2003000.0,6000.0,2003000.0,550000.0,-66.88072917]],\"geo\":\"geo\",\"hovertemplate\":\"<b>%{hovertext}</b><br><br>Year=%{customdata[0]}<br>Impact_Score_Log=%{marker.size}<br>Latitude=%{lat}<br>Longitude=%{lon}<br>Impact_Score=%{customdata[1]}<br>Total Deaths=%{customdata[2]}<br>Total Affected=%{customdata[3]}<br>Total Damages ('000 US$)=%{customdata[4]}<br>mmfrom1993-2008average=%{marker.color:.2f}<extra></extra>\",\"hovertext\":[\"Chile\"],\"lat\":[\"-38.143\"],\"legendgroup\":\"\",\"lon\":[\"-73.407\"],\"marker\":{\"color\":[-66.88072917],\"coloraxis\":\"coloraxis\",\"size\":[6.30168116611553],\"sizemode\":\"area\",\"sizeref\":0.005201387060501242,\"symbol\":\"circle\"},\"mode\":\"markers\",\"name\":\"\",\"showlegend\":false,\"type\":\"scattergeo\"}],\"name\":\"1960\"},{\"data\":[{\"customdata\":[[1968.0,200.0,200.0,0.0,0.0,-72.8140625]],\"geo\":\"geo\",\"hovertemplate\":\"<b>%{hovertext}</b><br><br>Year=%{customdata[0]}<br>Impact_Score_Log=%{marker.size}<br>Latitude=%{lat}<br>Longitude=%{lon}<br>Impact_Score=%{customdata[1]}<br>Total Deaths=%{customdata[2]}<br>Total Affected=%{customdata[3]}<br>Total Damages ('000 US$)=%{customdata[4]}<br>mmfrom1993-2008average=%{marker.color:.2f}<extra></extra>\",\"hovertext\":[\"Indonesia\"],\"lat\":[\"0.157\"],\"legendgroup\":\"\",\"lon\":[\"119.802\"],\"marker\":{\"color\":[-72.8140625],\"coloraxis\":\"coloraxis\",\"size\":[2.303196057420489],\"sizemode\":\"area\",\"sizeref\":0.005201387060501242,\"symbol\":\"circle\"},\"mode\":\"markers\",\"name\":\"\",\"showlegend\":false,\"type\":\"scattergeo\"}],\"name\":\"1968\"},{\"data\":[{\"customdata\":[[1969.0,6532.0,64.0,6532.0,0.0,-62.6140625]],\"geo\":\"geo\",\"hovertemplate\":\"<b>%{hovertext}</b><br><br>Year=%{customdata[0]}<br>Impact_Score_Log=%{marker.size}<br>Latitude=%{lat}<br>Longitude=%{lon}<br>Impact_Score=%{customdata[1]}<br>Total Deaths=%{customdata[2]}<br>Total Affected=%{customdata[3]}<br>Total Damages ('000 US$)=%{customdata[4]}<br>mmfrom1993-2008average=%{marker.color:.2f}<extra></extra>\",\"hovertext\":[\"Indonesia\"],\"lat\":[\"-3.201\"],\"legendgroup\":\"\",\"lon\":[\"118.904\"],\"marker\":{\"color\":[-62.6140625],\"coloraxis\":\"coloraxis\",\"size\":[3.8151126581898125],\"sizemode\":\"area\",\"sizeref\":0.005201387060501242,\"symbol\":\"circle\"},\"mode\":\"markers\",\"name\":\"\",\"showlegend\":false,\"type\":\"scattergeo\"}],\"name\":\"1969\"},{\"data\":[{\"customdata\":[[1901.0,24.0,18.0,24.0,0.0,-156.5473958]],\"geo\":\"geo\",\"hovertemplate\":\"<b>%{hovertext}</b><br><br>Year=%{customdata[0]}<br>Impact_Score_Log=%{marker.size}<br>Latitude=%{lat}<br>Longitude=%{lon}<br>Impact_Score=%{customdata[1]}<br>Total Deaths=%{customdata[2]}<br>Total Affected=%{customdata[3]}<br>Total Damages ('000 US$)=%{customdata[4]}<br>mmfrom1993-2008average=%{marker.color:.2f}<extra></extra>\",\"hovertext\":[\"Japan\"],\"lat\":[\"40.5\"],\"legendgroup\":\"\",\"lon\":[\"142.5\"],\"marker\":{\"color\":[-156.5473958],\"coloraxis\":\"coloraxis\",\"size\":[1.3979400086720377],\"sizemode\":\"area\",\"sizeref\":0.005201387060501242,\"symbol\":\"circle\"},\"mode\":\"markers\",\"name\":\"\",\"showlegend\":false,\"type\":\"scattergeo\"}],\"name\":\"1901\"},{\"data\":[{\"customdata\":[[1905.0,41.0,41.0,0.0,0.0,-154.4140625]],\"geo\":\"geo\",\"hovertemplate\":\"<b>%{hovertext}</b><br><br>Year=%{customdata[0]}<br>Impact_Score_Log=%{marker.size}<br>Latitude=%{lat}<br>Longitude=%{lon}<br>Impact_Score=%{customdata[1]}<br>Total Deaths=%{customdata[2]}<br>Total Affected=%{customdata[3]}<br>Total Damages ('000 US$)=%{customdata[4]}<br>mmfrom1993-2008average=%{marker.color:.2f}<extra></extra>\",\"hovertext\":[\"Japan\"],\"lat\":[\"37.4\"],\"legendgroup\":\"\",\"lon\":[\"142.6\"],\"marker\":{\"color\":[-154.4140625],\"coloraxis\":\"coloraxis\",\"size\":[1.6232492903979006],\"sizemode\":\"area\",\"sizeref\":0.005201387060501242,\"symbol\":\"circle\"},\"mode\":\"markers\",\"name\":\"\",\"showlegend\":false,\"type\":\"scattergeo\"}],\"name\":\"1905\"},{\"data\":[{\"customdata\":[[1931.0,50.0,50.0,0.0,0.0,-126.7473958]],\"geo\":\"geo\",\"hovertemplate\":\"<b>%{hovertext}</b><br><br>Year=%{customdata[0]}<br>Impact_Score_Log=%{marker.size}<br>Latitude=%{lat}<br>Longitude=%{lon}<br>Impact_Score=%{customdata[1]}<br>Total Deaths=%{customdata[2]}<br>Total Affected=%{customdata[3]}<br>Total Damages ('000 US$)=%{customdata[4]}<br>mmfrom1993-2008average=%{marker.color:.2f}<extra></extra>\",\"hovertext\":[\"Solomon Islands\"],\"lat\":[\"11.117\"],\"legendgroup\":\"\",\"lon\":[\"161.11\"],\"marker\":{\"color\":[-126.7473958],\"coloraxis\":\"coloraxis\",\"size\":[1.7075701760979363],\"sizemode\":\"area\",\"sizeref\":0.005201387060501242,\"symbol\":\"circle\"},\"mode\":\"markers\",\"name\":\"\",\"showlegend\":false,\"type\":\"scattergeo\"}],\"name\":\"1931\"},{\"data\":[{\"customdata\":[[1933.0,3000.0,3000.0,0.0,0.0,-119.9807292]],\"geo\":\"geo\",\"hovertemplate\":\"<b>%{hovertext}</b><br><br>Year=%{customdata[0]}<br>Impact_Score_Log=%{marker.size}<br>Latitude=%{lat}<br>Longitude=%{lon}<br>Impact_Score=%{customdata[1]}<br>Total Deaths=%{customdata[2]}<br>Total Affected=%{customdata[3]}<br>Total Damages ('000 US$)=%{customdata[4]}<br>mmfrom1993-2008average=%{marker.color:.2f}<extra></extra>\",\"hovertext\":[\"Japan\"],\"lat\":[\"39.224\"],\"legendgroup\":\"\",\"lon\":[\"144.622\"],\"marker\":{\"color\":[-119.9807292],\"coloraxis\":\"coloraxis\",\"size\":[3.477265995424853],\"sizemode\":\"area\",\"sizeref\":0.005201387060501242,\"symbol\":\"circle\"},\"mode\":\"markers\",\"name\":\"\",\"showlegend\":false,\"type\":\"scattergeo\"}],\"name\":\"1933\"},{\"data\":[{\"customdata\":[[1944.0,80573.0,1223.0,80573.0,0.0,-116.9473958]],\"geo\":\"geo\",\"hovertemplate\":\"<b>%{hovertext}</b><br><br>Year=%{customdata[0]}<br>Impact_Score_Log=%{marker.size}<br>Latitude=%{lat}<br>Longitude=%{lon}<br>Impact_Score=%{customdata[1]}<br>Total Deaths=%{customdata[2]}<br>Total Affected=%{customdata[3]}<br>Total Damages ('000 US$)=%{customdata[4]}<br>mmfrom1993-2008average=%{marker.color:.2f}<extra></extra>\",\"hovertext\":[\"Japan\"],\"lat\":[\"33.682\"],\"legendgroup\":\"\",\"lon\":[\"36.204\"],\"marker\":{\"color\":[-116.9473958],\"coloraxis\":\"coloraxis\",\"size\":[4.906194924210101],\"sizemode\":\"area\",\"sizeref\":0.005201387060501242,\"symbol\":\"circle\"},\"mode\":\"markers\",\"name\":\"\",\"showlegend\":false,\"type\":\"scattergeo\"}],\"name\":\"1944\"},{\"data\":[{\"customdata\":[[1946.0,25000.0,165.0,0.0,25000.0,-92.68072917]],\"geo\":\"geo\",\"hovertemplate\":\"<b>%{hovertext}</b><br><br>Year=%{customdata[0]}<br>Impact_Score_Log=%{marker.size}<br>Latitude=%{lat}<br>Longitude=%{lon}<br>Impact_Score=%{customdata[1]}<br>Total Deaths=%{customdata[2]}<br>Total Affected=%{customdata[3]}<br>Total Damages ('000 US$)=%{customdata[4]}<br>mmfrom1993-2008average=%{marker.color:.2f}<extra></extra>\",\"hovertext\":[\"United States of America (the)\"],\"lat\":[\"53.492\"],\"legendgroup\":\"\",\"lon\":[\"-162.832\"],\"marker\":{\"color\":[-92.68072917],\"coloraxis\":\"coloraxis\",\"size\":[4.397957380103888],\"sizemode\":\"area\",\"sizeref\":0.005201387060501242,\"symbol\":\"circle\"},\"mode\":\"markers\",\"name\":\"\",\"showlegend\":false,\"type\":\"scattergeo\"}],\"name\":\"1946\"},{\"data\":[{\"customdata\":[[1964.0,800000.0,25.0,35376.0,800000.0,-70.98072917],[1964.0,311000.0,131.0,0.0,311000.0,-70.98072917]],\"geo\":\"geo\",\"hovertemplate\":\"<b>%{hovertext}</b><br><br>Year=%{customdata[0]}<br>Impact_Score_Log=%{marker.size}<br>Latitude=%{lat}<br>Longitude=%{lon}<br>Impact_Score=%{customdata[1]}<br>Total Deaths=%{customdata[2]}<br>Total Affected=%{customdata[3]}<br>Total Damages ('000 US$)=%{customdata[4]}<br>mmfrom1993-2008average=%{marker.color:.2f}<extra></extra>\",\"hovertext\":[\"Japan\",\"United States of America (the)\"],\"lat\":[\"38.67\",\"60.908\"],\"legendgroup\":\"\",\"lon\":[\"139.195\",\"-147.339\"],\"marker\":{\"color\":[-70.98072917,-70.98072917],\"coloraxis\":\"coloraxis\",\"size\":[5.903090529859707,5.492761785469872],\"sizemode\":\"area\",\"sizeref\":0.005201387060501242,\"symbol\":\"circle\"},\"mode\":\"markers\",\"name\":\"\",\"showlegend\":false,\"type\":\"scattergeo\"}],\"name\":\"1964\"},{\"data\":[{\"customdata\":[[1975.0,200.0,200.0,0.0,0.0,-45.84739583]],\"geo\":\"geo\",\"hovertemplate\":\"<b>%{hovertext}</b><br><br>Year=%{customdata[0]}<br>Impact_Score_Log=%{marker.size}<br>Latitude=%{lat}<br>Longitude=%{lon}<br>Impact_Score=%{customdata[1]}<br>Total Deaths=%{customdata[2]}<br>Total Affected=%{customdata[3]}<br>Total Damages ('000 US$)=%{customdata[4]}<br>mmfrom1993-2008average=%{marker.color:.2f}<extra></extra>\",\"hovertext\":[\"Solomon Islands\"],\"lat\":[\"-7.104\"],\"legendgroup\":\"\",\"lon\":[\"155.152\"],\"marker\":{\"color\":[-45.84739583],\"coloraxis\":\"coloraxis\",\"size\":[2.303196057420489],\"sizemode\":\"area\",\"sizeref\":0.005201387060501242,\"symbol\":\"circle\"},\"mode\":\"markers\",\"name\":\"\",\"showlegend\":false,\"type\":\"scattergeo\"}],\"name\":\"1975\"},{\"data\":[{\"customdata\":[[1979.0,11.0,11.0,2.0,0.0,-46.8140625],[1979.0,539.0,539.0,23.0,0.0,-46.8140625]],\"geo\":\"geo\",\"hovertemplate\":\"<b>%{hovertext}</b><br><br>Year=%{customdata[0]}<br>Impact_Score_Log=%{marker.size}<br>Latitude=%{lat}<br>Longitude=%{lon}<br>Impact_Score=%{customdata[1]}<br>Total Deaths=%{customdata[2]}<br>Total Affected=%{customdata[3]}<br>Total Damages ('000 US$)=%{customdata[4]}<br>mmfrom1993-2008average=%{marker.color:.2f}<extra></extra>\",\"hovertext\":[\"France\",\"Indonesia\"],\"lat\":[\"43.70 N\",\"8.8\"],\"legendgroup\":\"\",\"lon\":[\"7.25 E\",\"123.5\"],\"marker\":{\"color\":[-46.8140625,-46.8140625],\"coloraxis\":\"coloraxis\",\"size\":[1.0791812460476249,2.7323937598229686],\"sizemode\":\"area\",\"sizeref\":0.005201387060501242,\"symbol\":\"circle\"},\"mode\":\"markers\",\"name\":\"\",\"showlegend\":false,\"type\":\"scattergeo\"}],\"name\":\"1979\"},{\"data\":[{\"customdata\":[[1983.0,416000.0,102.0,77.0,416000.0,-22.28072917]],\"geo\":\"geo\",\"hovertemplate\":\"<b>%{hovertext}</b><br><br>Year=%{customdata[0]}<br>Impact_Score_Log=%{marker.size}<br>Latitude=%{lat}<br>Longitude=%{lon}<br>Impact_Score=%{customdata[1]}<br>Total Deaths=%{customdata[2]}<br>Total Affected=%{customdata[3]}<br>Total Damages ('000 US$)=%{customdata[4]}<br>mmfrom1993-2008average=%{marker.color:.2f}<extra></extra>\",\"hovertext\":[\"Japan\"],\"lat\":[\"40.462\"],\"legendgroup\":\"\",\"lon\":[\"139.102\"],\"marker\":{\"color\":[-22.28072917],\"coloraxis\":\"coloraxis\",\"size\":[5.619094374602608],\"sizemode\":\"area\",\"sizeref\":0.005201387060501242,\"symbol\":\"circle\"},\"mode\":\"markers\",\"name\":\"\",\"showlegend\":false,\"type\":\"scattergeo\"}],\"name\":\"1983\"},{\"data\":[{\"customdata\":[[1993.0,1000000.0,239.0,7355.0,1000000.0,-22.78072917]],\"geo\":\"geo\",\"hovertemplate\":\"<b>%{hovertext}</b><br><br>Year=%{customdata[0]}<br>Impact_Score_Log=%{marker.size}<br>Latitude=%{lat}<br>Longitude=%{lon}<br>Impact_Score=%{customdata[1]}<br>Total Deaths=%{customdata[2]}<br>Total Affected=%{customdata[3]}<br>Total Damages ('000 US$)=%{customdata[4]}<br>mmfrom1993-2008average=%{marker.color:.2f}<extra></extra>\",\"hovertext\":[\"Japan\"],\"lat\":[\"42.851 N\"],\"legendgroup\":\"\",\"lon\":[\"139.197 E\"],\"marker\":{\"color\":[-22.78072917],\"coloraxis\":\"coloraxis\",\"size\":[6.0000004342942646],\"sizemode\":\"area\",\"sizeref\":0.005201387060501242,\"symbol\":\"circle\"},\"mode\":\"markers\",\"name\":\"\",\"showlegend\":false,\"type\":\"scattergeo\"}],\"name\":\"1993\"},{\"data\":[{\"customdata\":[[1996.0,752.0,7.0,752.0,0.0,-11.94739583]],\"geo\":\"geo\",\"hovertemplate\":\"<b>%{hovertext}</b><br><br>Year=%{customdata[0]}<br>Impact_Score_Log=%{marker.size}<br>Latitude=%{lat}<br>Longitude=%{lon}<br>Impact_Score=%{customdata[1]}<br>Total Deaths=%{customdata[2]}<br>Total Affected=%{customdata[3]}<br>Total Damages ('000 US$)=%{customdata[4]}<br>mmfrom1993-2008average=%{marker.color:.2f}<extra></extra>\",\"hovertext\":[\"Peru\"],\"lat\":[\"9.593 S\"],\"legendgroup\":\"\",\"lon\":[\"79.587 W\"],\"marker\":{\"color\":[-11.94739583],\"coloraxis\":\"coloraxis\",\"size\":[2.8767949762007006],\"sizemode\":\"area\",\"sizeref\":0.005201387060501242,\"symbol\":\"circle\"},\"mode\":\"markers\",\"name\":\"\",\"showlegend\":false,\"type\":\"scattergeo\"}],\"name\":\"1996\"},{\"data\":[{\"customdata\":[[1998.0,9867.0,2182.0,9867.0,0.0,-10.8140625]],\"geo\":\"geo\",\"hovertemplate\":\"<b>%{hovertext}</b><br><br>Year=%{customdata[0]}<br>Impact_Score_Log=%{marker.size}<br>Latitude=%{lat}<br>Longitude=%{lon}<br>Impact_Score=%{customdata[1]}<br>Total Deaths=%{customdata[2]}<br>Total Affected=%{customdata[3]}<br>Total Damages ('000 US$)=%{customdata[4]}<br>mmfrom1993-2008average=%{marker.color:.2f}<extra></extra>\",\"hovertext\":[\"Papua New Guinea\"],\"lat\":[\"-2.961\"],\"legendgroup\":\"\",\"lon\":[\"141.926\"],\"marker\":{\"color\":[-10.8140625],\"coloraxis\":\"coloraxis\",\"size\":[3.9942291408176986],\"sizemode\":\"area\",\"sizeref\":0.005201387060501242,\"symbol\":\"circle\"},\"mode\":\"markers\",\"name\":\"\",\"showlegend\":false,\"type\":\"scattergeo\"}],\"name\":\"1998\"},{\"data\":[{\"customdata\":[[2002.0,9082.0,8.0,9082.0,0.0,2.152604167]],\"geo\":\"geo\",\"hovertemplate\":\"<b>%{hovertext}</b><br><br>Year=%{customdata[0]}<br>Impact_Score_Log=%{marker.size}<br>Latitude=%{lat}<br>Longitude=%{lon}<br>Impact_Score=%{customdata[1]}<br>Total Deaths=%{customdata[2]}<br>Total Affected=%{customdata[3]}<br>Total Damages ('000 US$)=%{customdata[4]}<br>mmfrom1993-2008average=%{marker.color:.2f}<extra></extra>\",\"hovertext\":[\"Indonesia\"],\"lat\":[\"-1.757\"],\"legendgroup\":\"\",\"lon\":[\"134.297\"],\"marker\":{\"color\":[2.152604167],\"coloraxis\":\"coloraxis\",\"size\":[3.958229314188382],\"sizemode\":\"area\",\"sizeref\":0.005201387060501242,\"symbol\":\"circle\"},\"mode\":\"markers\",\"name\":\"\",\"showlegend\":false,\"type\":\"scattergeo\"}],\"name\":\"2002\"},{\"data\":[{\"customdata\":[[2001.0,349978.0,145.0,349978.0,300000.0,4.719270833]],\"geo\":\"geo\",\"hovertemplate\":\"<b>%{hovertext}</b><br><br>Year=%{customdata[0]}<br>Impact_Score_Log=%{marker.size}<br>Latitude=%{lat}<br>Longitude=%{lon}<br>Impact_Score=%{customdata[1]}<br>Total Deaths=%{customdata[2]}<br>Total Affected=%{customdata[3]}<br>Total Damages ('000 US$)=%{customdata[4]}<br>mmfrom1993-2008average=%{marker.color:.2f}<extra></extra>\",\"hovertext\":[\"Peru\"],\"lat\":[\"-16.265\"],\"legendgroup\":\"\",\"lon\":[\"-73.641\"],\"marker\":{\"color\":[4.719270833],\"coloraxis\":\"coloraxis\",\"size\":[5.5440419858996],\"sizemode\":\"area\",\"sizeref\":0.005201387060501242,\"symbol\":\"circle\"},\"mode\":\"markers\",\"name\":\"\",\"showlegend\":false,\"type\":\"scattergeo\"}],\"name\":\"2001\"},{\"data\":[{\"customdata\":[[2004.0,4451600.0,165708.0,532898.0,4451600.0,13.65260417],[2004.0,100000.0,1.0,0.0,100000.0,13.65260417],[2004.0,500000.0,2.0,0.0,500000.0,13.65260417],[2004.0,1022800.0,16389.0,654512.0,1022800.0,13.65260417],[2004.0,1316500.0,35399.0,1019306.0,1316500.0,13.65260417],[2004.0,470100.0,102.0,27214.0,470100.0,13.65260417],[2004.0,500000.0,80.0,5063.0,500000.0,13.65260417],[2004.0,1000000.0,8345.0,67007.0,1000000.0,13.65260417],[2004.0,500000.0,71.0,15700.0,500000.0,13.65260417],[2004.0,105083.0,298.0,105083.0,100000.0,13.65260417],[2004.0,30000.0,3.0,4830.0,30000.0,13.65260417],[2004.0,10.0,10.0,0.0,0.0,13.65260417]],\"geo\":\"geo\",\"hovertemplate\":\"<b>%{hovertext}</b><br><br>Year=%{customdata[0]}<br>Impact_Score_Log=%{marker.size}<br>Latitude=%{lat}<br>Longitude=%{lon}<br>Impact_Score=%{customdata[1]}<br>Total Deaths=%{customdata[2]}<br>Total Affected=%{customdata[3]}<br>Total Damages ('000 US$)=%{customdata[4]}<br>mmfrom1993-2008average=%{marker.color:.2f}<extra></extra>\",\"hovertext\":[\"Indonesia\",\"Kenya\",\"Bangladesh\",\"India\",\"Sri Lanka\",\"Maldives\",\"Malaysia\",\"Thailand\",\"Myanmar\",\"Somalia\",\"Seychelles\",\"Tanzania, United Republic of\"],\"lat\":[\"3.295\",\"3.295\",\"3.295\",\"3.295\",\"3.295\",\"3.295\",\"3.295\",\"3.295\",\"3.295\",\"3.295\",\"3.295\",\"3.295\"],\"legendgroup\":\"\",\"lon\":[\"95.982\",\"95.982\",\"95.982\",\"95.982\",\"95.982\",\"95.982\",\"95.982\",\"95.982\",\"95.982\",\"95.982\",\"95.982\",\"95.982\"],\"marker\":{\"color\":[13.65260417,13.65260417,13.65260417,13.65260417,13.65260417,13.65260417,13.65260417,13.65260417,13.65260417,13.65260417,13.65260417,13.65260417],\"coloraxis\":\"coloraxis\",\"size\":[6.648516231299731,5.000004342923105,5.698970872924114,6.009791143967389,6.1194211933276295,5.672191175021522,5.698970872924114,6.0000004342942646,5.698970872924114,5.021536595755301,4.477135730961123,1.0413926851582251],\"sizemode\":\"area\",\"sizeref\":0.005201387060501242,\"symbol\":\"circle\"},\"mode\":\"markers\",\"name\":\"\",\"showlegend\":false,\"type\":\"scattergeo\"}],\"name\":\"2004\"},{\"data\":[{\"customdata\":[[2006.0,1202.0,3.0,1202.0,0.0,9.519270833],[2006.0,55000.0,802.0,35543.0,55000.0,9.519270833]],\"geo\":\"geo\",\"hovertemplate\":\"<b>%{hovertext}</b><br><br>Year=%{customdata[0]}<br>Impact_Score_Log=%{marker.size}<br>Latitude=%{lat}<br>Longitude=%{lon}<br>Impact_Score=%{customdata[1]}<br>Total Deaths=%{customdata[2]}<br>Total Affected=%{customdata[3]}<br>Total Damages ('000 US$)=%{customdata[4]}<br>mmfrom1993-2008average=%{marker.color:.2f}<extra></extra>\",\"hovertext\":[\"Indonesia\",\"Indonesia\"],\"lat\":[\"-3.595\",\"-9.284\"],\"legendgroup\":\"\",\"lon\":[\"127.214\",\"107.419\"],\"marker\":{\"color\":[9.519270833,9.519270833],\"coloraxis\":\"coloraxis\",\"size\":[3.0802656273398448,4.740370585685768],\"sizemode\":\"area\",\"sizeref\":0.005201387060501242,\"symbol\":\"circle\"},\"mode\":\"markers\",\"name\":\"\",\"showlegend\":false,\"type\":\"scattergeo\"}],\"name\":\"2006\"},{\"data\":[{\"customdata\":[[2007.0,2384.0,52.0,2384.0,0.0,22.7859375],[2007.0,10.0,10.0,0.0,0.0,22.7859375]],\"geo\":\"geo\",\"hovertemplate\":\"<b>%{hovertext}</b><br><br>Year=%{customdata[0]}<br>Impact_Score_Log=%{marker.size}<br>Latitude=%{lat}<br>Longitude=%{lon}<br>Impact_Score=%{customdata[1]}<br>Total Deaths=%{customdata[2]}<br>Total Affected=%{customdata[3]}<br>Total Damages ('000 US$)=%{customdata[4]}<br>mmfrom1993-2008average=%{marker.color:.2f}<extra></extra>\",\"hovertext\":[\"Solomon Islands\",\"Chile\"],\"lat\":[\"-8.466\",\"-45.243\"],\"legendgroup\":\"\",\"lon\":[\"157.043\",\"-72.648\"],\"marker\":{\"color\":[22.7859375,22.7859375],\"coloraxis\":\"coloraxis\",\"size\":[3.3774883833761327,1.0413926851582251],\"sizemode\":\"area\",\"sizeref\":0.005201387060501242,\"symbol\":\"circle\"},\"mode\":\"markers\",\"name\":\"\",\"showlegend\":false,\"type\":\"scattergeo\"}],\"name\":\"2007\"},{\"data\":[{\"customdata\":[[2009.0,2500.0,34.0,2500.0,0.0,33.65260417],[2009.0,400000.0,1.0,25319.0,400000.0,33.65260417],[2009.0,9500.0,9.0,507.0,9500.0,33.65260417],[2009.0,124040.0,148.0,5584.0,124040.0,33.65260417]],\"geo\":\"geo\",\"hovertemplate\":\"<b>%{hovertext}</b><br><br>Year=%{customdata[0]}<br>Impact_Score_Log=%{marker.size}<br>Latitude=%{lat}<br>Longitude=%{lon}<br>Impact_Score=%{customdata[1]}<br>Total Deaths=%{customdata[2]}<br>Total Affected=%{customdata[3]}<br>Total Damages ('000 US$)=%{customdata[4]}<br>mmfrom1993-2008average=%{marker.color:.2f}<extra></extra>\",\"hovertext\":[\"American Samoa\",\"Japan\",\"Tonga\",\"Samoa\"],\"lat\":[\"-15.489\",\"34.743\",\"-15.489\",\"-15.489\"],\"legendgroup\":\"\",\"lon\":[\"-172.095\",\"138.264\",\"-172.095\",\"-172.095\"],\"marker\":{\"color\":[33.65260417,33.65260417,33.65260417,33.65260417],\"coloraxis\":\"coloraxis\",\"size\":[3.3981136917305026,5.60206107706281,3.9777693180915743,5.093565258796596],\"sizemode\":\"area\",\"sizeref\":0.005201387060501242,\"symbol\":\"circle\"},\"mode\":\"markers\",\"name\":\"\",\"showlegend\":false,\"type\":\"scattergeo\"}],\"name\":\"2009\"},{\"data\":[{\"customdata\":[[2010.0,30000000.0,562.0,2671556.0,30000000.0,33.87824005],[2010.0,11864.0,530.0,11864.0,0.0,33.87824005]],\"geo\":\"geo\",\"hovertemplate\":\"<b>%{hovertext}</b><br><br>Year=%{customdata[0]}<br>Impact_Score_Log=%{marker.size}<br>Latitude=%{lat}<br>Longitude=%{lon}<br>Impact_Score=%{customdata[1]}<br>Total Deaths=%{customdata[2]}<br>Total Affected=%{customdata[3]}<br>Total Damages ('000 US$)=%{customdata[4]}<br>mmfrom1993-2008average=%{marker.color:.2f}<extra></extra>\",\"hovertext\":[\"Chile\",\"Indonesia\"],\"lat\":[\"-36.122\",\"-3.487\"],\"legendgroup\":\"\",\"lon\":[\"-72.898\",\"100.082\"],\"marker\":{\"color\":[33.87824005,33.87824005],\"coloraxis\":\"coloraxis\",\"size\":[7.477121269196145,4.074267742553358],\"sizemode\":\"area\",\"sizeref\":0.005201387060501242,\"symbol\":\"circle\"},\"mode\":\"markers\",\"name\":\"\",\"showlegend\":false,\"type\":\"scattergeo\"}],\"name\":\"2010\"},{\"data\":[{\"customdata\":[[2011.0,95.0,1.0,95.0,0.0,36.71847075],[2011.0,210000000.0,19846.0,368820.0,210000000.0,36.71847075]],\"geo\":\"geo\",\"hovertemplate\":\"<b>%{hovertext}</b><br><br>Year=%{customdata[0]}<br>Impact_Score_Log=%{marker.size}<br>Latitude=%{lat}<br>Longitude=%{lon}<br>Impact_Score=%{customdata[1]}<br>Total Deaths=%{customdata[2]}<br>Total Affected=%{customdata[3]}<br>Total Damages ('000 US$)=%{customdata[4]}<br>mmfrom1993-2008average=%{marker.color:.2f}<extra></extra>\",\"hovertext\":[\"Indonesia\",\"Japan\"],\"lat\":[\"38.297\",\"38.297\"],\"legendgroup\":\"\",\"lon\":[\"142.373\",\"142.373\"],\"marker\":{\"color\":[36.71847075,36.71847075],\"coloraxis\":\"coloraxis\",\"size\":[1.9822712330395684,8.322219296801988],\"sizemode\":\"area\",\"sizeref\":0.005201387060501242,\"symbol\":\"circle\"},\"mode\":\"markers\",\"name\":\"\",\"showlegend\":false,\"type\":\"scattergeo\"}],\"name\":\"2011\"},{\"data\":[{\"customdata\":[[2013.0,3329.0,10.0,3329.0,2000.0,41.33798668]],\"geo\":\"geo\",\"hovertemplate\":\"<b>%{hovertext}</b><br><br>Year=%{customdata[0]}<br>Impact_Score_Log=%{marker.size}<br>Latitude=%{lat}<br>Longitude=%{lon}<br>Impact_Score=%{customdata[1]}<br>Total Deaths=%{customdata[2]}<br>Total Affected=%{customdata[3]}<br>Total Damages ('000 US$)=%{customdata[4]}<br>mmfrom1993-2008average=%{marker.color:.2f}<extra></extra>\",\"hovertext\":[\"Solomon Islands\"],\"lat\":[\"-10.799\"],\"legendgroup\":\"\",\"lon\":[\"165.114\"],\"marker\":{\"color\":[41.33798668],\"coloraxis\":\"coloraxis\",\"size\":[3.5224442335063197],\"sizemode\":\"area\",\"sizeref\":0.005201387060501242,\"symbol\":\"circle\"},\"mode\":\"markers\",\"name\":\"\",\"showlegend\":false,\"type\":\"scattergeo\"}],\"name\":\"2013\"},{\"data\":[{\"customdata\":[[2015.0,800000.0,19.0,681499.0,800000.0,50.46170567]],\"geo\":\"geo\",\"hovertemplate\":\"<b>%{hovertext}</b><br><br>Year=%{customdata[0]}<br>Impact_Score_Log=%{marker.size}<br>Latitude=%{lat}<br>Longitude=%{lon}<br>Impact_Score=%{customdata[1]}<br>Total Deaths=%{customdata[2]}<br>Total Affected=%{customdata[3]}<br>Total Damages ('000 US$)=%{customdata[4]}<br>mmfrom1993-2008average=%{marker.color:.2f}<extra></extra>\",\"hovertext\":[\"Chile\"],\"lat\":[\"-31.5729\"],\"legendgroup\":\"\",\"lon\":[\"-71.6744\"],\"marker\":{\"color\":[50.46170567],\"coloraxis\":\"coloraxis\",\"size\":[5.903090529859707],\"sizemode\":\"area\",\"sizeref\":0.005201387060501242,\"symbol\":\"circle\"},\"mode\":\"markers\",\"name\":\"\",\"showlegend\":false,\"type\":\"scattergeo\"}],\"name\":\"2015\"},{\"data\":[{\"customdata\":[[2016.0,3900000.0,2.0,50.0,3900000.0,54.34696367]],\"geo\":\"geo\",\"hovertemplate\":\"<b>%{hovertext}</b><br><br>Year=%{customdata[0]}<br>Impact_Score_Log=%{marker.size}<br>Latitude=%{lat}<br>Longitude=%{lon}<br>Impact_Score=%{customdata[1]}<br>Total Deaths=%{customdata[2]}<br>Total Affected=%{customdata[3]}<br>Total Damages ('000 US$)=%{customdata[4]}<br>mmfrom1993-2008average=%{marker.color:.2f}<extra></extra>\",\"hovertext\":[\"New Zealand\"],\"lat\":[\"-42.725\"],\"legendgroup\":\"\",\"lon\":[\"173.064\"],\"marker\":{\"color\":[54.34696367],\"coloraxis\":\"coloraxis\",\"size\":[6.591064718384044],\"sizemode\":\"area\",\"sizeref\":0.005201387060501242,\"symbol\":\"circle\"},\"mode\":\"markers\",\"name\":\"\",\"showlegend\":false,\"type\":\"scattergeo\"}],\"name\":\"2016\"},{\"data\":[{\"customdata\":[[2018.0,2000000.0,4140.0,2000000.0,1450000.0,53.08512198]],\"geo\":\"geo\",\"hovertemplate\":\"<b>%{hovertext}</b><br><br>Year=%{customdata[0]}<br>Impact_Score_Log=%{marker.size}<br>Latitude=%{lat}<br>Longitude=%{lon}<br>Impact_Score=%{customdata[1]}<br>Total Deaths=%{customdata[2]}<br>Total Affected=%{customdata[3]}<br>Total Damages ('000 US$)=%{customdata[4]}<br>mmfrom1993-2008average=%{marker.color:.2f}<extra></extra>\",\"hovertext\":[\"Indonesia\"],\"lat\":[\"-178\"],\"legendgroup\":\"\",\"lon\":[\"119.84\"],\"marker\":{\"color\":[53.08512198],\"coloraxis\":\"coloraxis\",\"size\":[6.301030212811168],\"sizemode\":\"area\",\"sizeref\":0.005201387060501242,\"symbol\":\"circle\"},\"mode\":\"markers\",\"name\":\"\",\"showlegend\":false,\"type\":\"scattergeo\"}],\"name\":\"2018\"},{\"data\":[{\"customdata\":[[1958.0,111.0,111.0,46.0,0.0,-72.9140625]],\"geo\":\"geo\",\"hovertemplate\":\"<b>%{hovertext}</b><br><br>Year=%{customdata[0]}<br>Impact_Score_Log=%{marker.size}<br>Latitude=%{lat}<br>Longitude=%{lon}<br>Impact_Score=%{customdata[1]}<br>Total Deaths=%{customdata[2]}<br>Total Affected=%{customdata[3]}<br>Total Damages ('000 US$)=%{customdata[4]}<br>mmfrom1993-2008average=%{marker.color:.2f}<extra></extra>\",\"hovertext\":[\"Colombia\"],\"lat\":[\"1.5\"],\"legendgroup\":\"\",\"lon\":[\"-79.5\"],\"marker\":{\"color\":[-72.9140625],\"coloraxis\":\"coloraxis\",\"size\":[2.0492180226701815],\"sizemode\":\"area\",\"sizeref\":0.005201387060501242,\"symbol\":\"circle\"},\"mode\":\"markers\",\"name\":\"\",\"showlegend\":false,\"type\":\"scattergeo\"}],\"name\":\"1958\"}]);\n",
       "                        }).then(function(){\n",
       "                            \n",
       "var gd = document.getElementById('d850e6d7-b747-4e36-857d-0dd7787e3fe3');\n",
       "var x = new MutationObserver(function (mutations, observer) {{\n",
       "        var display = window.getComputedStyle(gd).display;\n",
       "        if (!display || display === 'none') {{\n",
       "            console.log([gd, 'removed!']);\n",
       "            Plotly.purge(gd);\n",
       "            observer.disconnect();\n",
       "        }}\n",
       "}});\n",
       "\n",
       "// Listen for the removal of the full notebook cells\n",
       "var notebookContainer = gd.closest('#notebook-container');\n",
       "if (notebookContainer) {{\n",
       "    x.observe(notebookContainer, {childList: true});\n",
       "}}\n",
       "\n",
       "// Listen for the clearing of the current output cell\n",
       "var outputEl = gd.closest('.output');\n",
       "if (outputEl) {{\n",
       "    x.observe(outputEl, {childList: true});\n",
       "}}\n",
       "\n",
       "                        })                };                });            </script>        </div>"
      ]
     },
     "metadata": {},
     "output_type": "display_data"
    }
   ],
   "source": [
    "import numpy as np \n",
    "merged_df['Total Deaths'] = pd.to_numeric(merged_df['Total Deaths'], errors='coerce').fillna(0)\n",
    "merged_df['Total Affected'] = pd.to_numeric(merged_df['Total Affected'], errors='coerce').fillna(0)\n",
    "merged_df[\"Total Damages ('000 US$)\"] = pd.to_numeric(merged_df[\"Total Damages ('000 US$)\"], errors='coerce').fillna(0)\n",
    "\n",
    "merged_df['Impact_Score'] = merged_df[['Total Deaths', 'Total Affected', \"Total Damages ('000 US$)\"]].max(axis=1)\n",
    "\n",
    "merged_df = merged_df[(merged_df['Latitude'] != 0) & (merged_df['Longitude'] != 0)]\n",
    "\n",
    "filtered_df = merged_df[merged_df['Impact_Score'] > 0].copy()\n",
    "\n",
    "filtered_df['Impact_Score_Log'] = filtered_df['Impact_Score'].apply(lambda x: np.log10(x + 1))\n",
    "\n",
    "fig = px.scatter_geo(\n",
    "    filtered_df,\n",
    "     lat='Latitude',\n",
    "    lon='Longitude',\n",
    "    color='mmfrom1993-2008average',\n",
    "    size='Impact_Score_Log',\n",
    "    size_max=40,\n",
    "    hover_name='Country',\n",
    "    hover_data={\n",
    "        'Year': True,\n",
    "        'Impact_Score': True,\n",
    "        'Total Deaths': True,\n",
    "        'Total Affected': True,\n",
    "        \"Total Damages ('000 US$)\": True,\n",
    "        'mmfrom1993-2008average': ':.2f'\n",
    "    },\n",
    "    animation_frame='Year',\n",
    "    projection='natural earth',\n",
    "    color_continuous_scale='Viridis',\n",
    "    title='Overstromingen en tsunami\\'s met zeespiegelstijging en impact (log schaal)'\n",
    ")\n",
    "\n",
    "fig.update_layout(height=700)\n",
    "\n",
    "fig.show()"
   ]
  },
  {
   "cell_type": "code",
   "execution_count": 4,
   "id": "dad3dc5a",
   "metadata": {},
   "outputs": [
    {
     "data": {
      "application/vnd.plotly.v1+json": {
       "config": {
        "plotlyServerURL": "https://plot.ly"
       },
       "data": [
        {
         "customdata": [
          [
           27,
           0,
           0
          ],
          [
           128,
           0,
           0
          ],
          [
           6000,
           2003000,
           550000
          ],
          [
           200,
           0,
           0
          ],
          [
           64,
           6532,
           0
          ],
          [
           18,
           24,
           0
          ],
          [
           41,
           0,
           0
          ],
          [
           50,
           0,
           0
          ],
          [
           3000,
           0,
           0
          ],
          [
           1223,
           80573,
           0
          ],
          [
           165,
           0,
           25000
          ],
          [
           25,
           35376,
           800000
          ],
          [
           131,
           0,
           311000
          ],
          [
           200,
           0,
           0
          ],
          [
           11,
           2,
           0
          ],
          [
           539,
           23,
           0
          ],
          [
           102,
           77,
           416000
          ],
          [
           239,
           7355,
           1000000
          ],
          [
           7,
           752,
           0
          ],
          [
           2182,
           9867,
           0
          ],
          [
           8,
           9082,
           0
          ],
          [
           145,
           349978,
           300000
          ],
          [
           165708,
           532898,
           4451600
          ],
          [
           1,
           0,
           100000
          ],
          [
           2,
           0,
           500000
          ],
          [
           16389,
           654512,
           1022800
          ],
          [
           35399,
           1019306,
           1316500
          ],
          [
           102,
           27214,
           470100
          ],
          [
           80,
           5063,
           500000
          ],
          [
           8345,
           67007,
           1000000
          ],
          [
           71,
           15700,
           500000
          ],
          [
           298,
           105083,
           100000
          ],
          [
           3,
           4830,
           30000
          ],
          [
           10,
           0,
           0
          ],
          [
           3,
           1202,
           0
          ],
          [
           802,
           35543,
           55000
          ],
          [
           52,
           2384,
           0
          ],
          [
           10,
           0,
           0
          ],
          [
           34,
           2500,
           0
          ],
          [
           562,
           2671556,
           30000000
          ],
          [
           530,
           11864,
           0
          ],
          [
           1,
           95,
           0
          ],
          [
           1,
           25319,
           400000
          ],
          [
           9,
           507,
           9500
          ],
          [
           19846,
           368820,
           210000000
          ],
          [
           148,
           5584,
           124040
          ],
          [
           10,
           3329,
           2000
          ],
          [
           19,
           681499,
           800000
          ],
          [
           2,
           50,
           3900000
          ],
          [
           4140,
           2000000,
           1450000
          ],
          [
           111,
           46,
           0
          ]
         ],
         "hovertemplate": "Land: %{text}<br>Impact Score: %{y}<br>Jaar: %{x}<br>Total Deaths: %{customdata[0]}<br>Total Affected: %{customdata[1]}<br>Total Damage: %{customdata[2]}",
         "marker": {
          "color": [
           2,
           7,
           3,
           7,
           7,
           8,
           8,
           18,
           8,
           8,
           24,
           8,
           24,
           18,
           5,
           7,
           8,
           8,
           15,
           14,
           7,
           15,
           7,
           9,
           1,
           6,
           20,
           11,
           10,
           22,
           12,
           19,
           17,
           21,
           7,
           7,
           18,
           3,
           0,
           3,
           7,
           7,
           8,
           23,
           8,
           16,
           18,
           3,
           13,
           7,
           4
          ],
          "colorscale": [
           [
            0,
            "#0d0887"
           ],
           [
            0.1111111111111111,
            "#46039f"
           ],
           [
            0.2222222222222222,
            "#7201a8"
           ],
           [
            0.3333333333333333,
            "#9c179e"
           ],
           [
            0.4444444444444444,
            "#bd3786"
           ],
           [
            0.5555555555555556,
            "#d8576b"
           ],
           [
            0.6666666666666666,
            "#ed7953"
           ],
           [
            0.7777777777777778,
            "#fb9f3a"
           ],
           [
            0.8888888888888888,
            "#fdca26"
           ],
           [
            1,
            "#f0f921"
           ]
          ],
          "showscale": false,
          "size": [
           7.235790156711096,
           10.552948551496243,
           31.508405830577647,
           11.515980287102446,
           19.075563290949063,
           6.989700043360188,
           8.116246451989502,
           8.537850880489682,
           17.386329977124262,
           24.530974621050504,
           21.98978690051944,
           29.515452649298535,
           27.463808927349362,
           11.515980287102446,
           5.395906230238125,
           13.661968799114844,
           28.09547187301304,
           30.000002171471323,
           14.383974881003503,
           19.971145704088492,
           19.791146570941912,
           27.720209929498,
           33.24258115649866,
           25.000021714615524,
           28.494854364620572,
           30.048955719836947,
           30.597105966638146,
           28.360955875107614,
           28.494854364620572,
           30.000002171471323,
           28.494854364620572,
           25.107682978776506,
           22.385678654805616,
           5.206963425791126,
           15.401328136699224,
           23.70185292842884,
           16.887441916880665,
           5.206963425791126,
           16.99056845865251,
           37.385606345980726,
           20.371338712766793,
           9.911356165197843,
           28.01030538531405,
           19.88884659045787,
           41.61109648400994,
           25.467826293982977,
           17.612221167531597,
           29.515452649298535,
           32.95532359192022,
           31.505151064055838,
           10.246090113350908
          ]
         },
         "mode": "markers",
         "name": "Impact Score",
         "text": [
          "Canada",
          "Indonesia",
          "Chile",
          "Indonesia",
          "Indonesia",
          "Japan",
          "Japan",
          "Solomon Islands",
          "Japan",
          "Japan",
          "United States of America (the)",
          "Japan",
          "United States of America (the)",
          "Solomon Islands",
          "France",
          "Indonesia",
          "Japan",
          "Japan",
          "Peru",
          "Papua New Guinea",
          "Indonesia",
          "Peru",
          "Indonesia",
          "Kenya",
          "Bangladesh",
          "India",
          "Sri Lanka",
          "Maldives",
          "Malaysia",
          "Thailand",
          "Myanmar",
          "Somalia",
          "Seychelles",
          "Tanzania, United Republic of",
          "Indonesia",
          "Indonesia",
          "Solomon Islands",
          "Chile",
          "American Samoa",
          "Chile",
          "Indonesia",
          "Indonesia",
          "Japan",
          "Tonga",
          "Japan",
          "Samoa",
          "Solomon Islands",
          "Chile",
          "New Zealand",
          "Indonesia",
          "Colombia"
         ],
         "type": "scatter",
         "x": [
          1928,
          1928,
          1960,
          1968,
          1969,
          1901,
          1905,
          1931,
          1933,
          1944,
          1946,
          1964,
          1964,
          1975,
          1979,
          1979,
          1983,
          1993,
          1996,
          1998,
          2002,
          2001,
          2004,
          2004,
          2004,
          2004,
          2004,
          2004,
          2004,
          2004,
          2004,
          2004,
          2004,
          2004,
          2006,
          2006,
          2007,
          2007,
          2009,
          2010,
          2010,
          2011,
          2009,
          2009,
          2011,
          2009,
          2013,
          2015,
          2016,
          2018,
          1958
         ],
         "y": [
          27,
          128,
          2003000,
          200,
          6532,
          24,
          41,
          50,
          3000,
          80573,
          25000,
          800000,
          311000,
          200,
          11,
          539,
          416000,
          1000000,
          752,
          9867,
          9082,
          349978,
          4451600,
          100000,
          500000,
          1022800,
          1316500,
          470100,
          500000,
          1000000,
          500000,
          105083,
          30000,
          10,
          1202,
          55000,
          2384,
          10,
          2500,
          30000000,
          11864,
          95,
          400000,
          9500,
          210000000,
          124040,
          3329,
          800000,
          3900000,
          2000000,
          111
         ],
         "yaxis": "y"
        },
        {
         "line": {
          "color": "orange",
          "width": 2
         },
         "mode": "lines+markers",
         "name": "Zeespiegelafwijking (mm)",
         "type": "scatter",
         "x": [
          1928,
          1928,
          1960,
          1968,
          1969,
          1901,
          1905,
          1931,
          1933,
          1944,
          1946,
          1964,
          1964,
          1975,
          1979,
          1979,
          1983,
          1993,
          1996,
          1998,
          2002,
          2001,
          2004,
          2004,
          2004,
          2004,
          2004,
          2004,
          2004,
          2004,
          2004,
          2004,
          2004,
          2004,
          2006,
          2006,
          2007,
          2007,
          2009,
          2010,
          2010,
          2011,
          2009,
          2009,
          2011,
          2009,
          2013,
          2015,
          2016,
          2018,
          1958
         ],
         "y": [
          -128.8807292,
          -128.8807292,
          -66.88072917,
          -72.8140625,
          -62.6140625,
          -156.5473958,
          -154.4140625,
          -126.7473958,
          -119.9807292,
          -116.9473958,
          -92.68072917,
          -70.98072917,
          -70.98072917,
          -45.84739583,
          -46.8140625,
          -46.8140625,
          -22.28072917,
          -22.78072917,
          -11.94739583,
          -10.8140625,
          2.152604167,
          4.719270833,
          13.65260417,
          13.65260417,
          13.65260417,
          13.65260417,
          13.65260417,
          13.65260417,
          13.65260417,
          13.65260417,
          13.65260417,
          13.65260417,
          13.65260417,
          13.65260417,
          9.519270833,
          9.519270833,
          22.7859375,
          22.7859375,
          33.65260417,
          33.87824005,
          33.87824005,
          36.71847075,
          33.65260417,
          33.65260417,
          36.71847075,
          33.65260417,
          41.33798668,
          50.46170567,
          54.34696367,
          53.08512198,
          -72.9140625
         ],
         "yaxis": "y2"
        }
       ],
       "layout": {
        "height": 600,
        "legend": {
         "x": 1.05,
         "y": 1
        },
        "template": {
         "data": {
          "bar": [
           {
            "error_x": {
             "color": "#2a3f5f"
            },
            "error_y": {
             "color": "#2a3f5f"
            },
            "marker": {
             "line": {
              "color": "#E5ECF6",
              "width": 0.5
             },
             "pattern": {
              "fillmode": "overlay",
              "size": 10,
              "solidity": 0.2
             }
            },
            "type": "bar"
           }
          ],
          "barpolar": [
           {
            "marker": {
             "line": {
              "color": "#E5ECF6",
              "width": 0.5
             },
             "pattern": {
              "fillmode": "overlay",
              "size": 10,
              "solidity": 0.2
             }
            },
            "type": "barpolar"
           }
          ],
          "carpet": [
           {
            "aaxis": {
             "endlinecolor": "#2a3f5f",
             "gridcolor": "white",
             "linecolor": "white",
             "minorgridcolor": "white",
             "startlinecolor": "#2a3f5f"
            },
            "baxis": {
             "endlinecolor": "#2a3f5f",
             "gridcolor": "white",
             "linecolor": "white",
             "minorgridcolor": "white",
             "startlinecolor": "#2a3f5f"
            },
            "type": "carpet"
           }
          ],
          "choropleth": [
           {
            "colorbar": {
             "outlinewidth": 0,
             "ticks": ""
            },
            "type": "choropleth"
           }
          ],
          "contour": [
           {
            "colorbar": {
             "outlinewidth": 0,
             "ticks": ""
            },
            "colorscale": [
             [
              0,
              "#0d0887"
             ],
             [
              0.1111111111111111,
              "#46039f"
             ],
             [
              0.2222222222222222,
              "#7201a8"
             ],
             [
              0.3333333333333333,
              "#9c179e"
             ],
             [
              0.4444444444444444,
              "#bd3786"
             ],
             [
              0.5555555555555556,
              "#d8576b"
             ],
             [
              0.6666666666666666,
              "#ed7953"
             ],
             [
              0.7777777777777778,
              "#fb9f3a"
             ],
             [
              0.8888888888888888,
              "#fdca26"
             ],
             [
              1,
              "#f0f921"
             ]
            ],
            "type": "contour"
           }
          ],
          "contourcarpet": [
           {
            "colorbar": {
             "outlinewidth": 0,
             "ticks": ""
            },
            "type": "contourcarpet"
           }
          ],
          "heatmap": [
           {
            "colorbar": {
             "outlinewidth": 0,
             "ticks": ""
            },
            "colorscale": [
             [
              0,
              "#0d0887"
             ],
             [
              0.1111111111111111,
              "#46039f"
             ],
             [
              0.2222222222222222,
              "#7201a8"
             ],
             [
              0.3333333333333333,
              "#9c179e"
             ],
             [
              0.4444444444444444,
              "#bd3786"
             ],
             [
              0.5555555555555556,
              "#d8576b"
             ],
             [
              0.6666666666666666,
              "#ed7953"
             ],
             [
              0.7777777777777778,
              "#fb9f3a"
             ],
             [
              0.8888888888888888,
              "#fdca26"
             ],
             [
              1,
              "#f0f921"
             ]
            ],
            "type": "heatmap"
           }
          ],
          "heatmapgl": [
           {
            "colorbar": {
             "outlinewidth": 0,
             "ticks": ""
            },
            "colorscale": [
             [
              0,
              "#0d0887"
             ],
             [
              0.1111111111111111,
              "#46039f"
             ],
             [
              0.2222222222222222,
              "#7201a8"
             ],
             [
              0.3333333333333333,
              "#9c179e"
             ],
             [
              0.4444444444444444,
              "#bd3786"
             ],
             [
              0.5555555555555556,
              "#d8576b"
             ],
             [
              0.6666666666666666,
              "#ed7953"
             ],
             [
              0.7777777777777778,
              "#fb9f3a"
             ],
             [
              0.8888888888888888,
              "#fdca26"
             ],
             [
              1,
              "#f0f921"
             ]
            ],
            "type": "heatmapgl"
           }
          ],
          "histogram": [
           {
            "marker": {
             "pattern": {
              "fillmode": "overlay",
              "size": 10,
              "solidity": 0.2
             }
            },
            "type": "histogram"
           }
          ],
          "histogram2d": [
           {
            "colorbar": {
             "outlinewidth": 0,
             "ticks": ""
            },
            "colorscale": [
             [
              0,
              "#0d0887"
             ],
             [
              0.1111111111111111,
              "#46039f"
             ],
             [
              0.2222222222222222,
              "#7201a8"
             ],
             [
              0.3333333333333333,
              "#9c179e"
             ],
             [
              0.4444444444444444,
              "#bd3786"
             ],
             [
              0.5555555555555556,
              "#d8576b"
             ],
             [
              0.6666666666666666,
              "#ed7953"
             ],
             [
              0.7777777777777778,
              "#fb9f3a"
             ],
             [
              0.8888888888888888,
              "#fdca26"
             ],
             [
              1,
              "#f0f921"
             ]
            ],
            "type": "histogram2d"
           }
          ],
          "histogram2dcontour": [
           {
            "colorbar": {
             "outlinewidth": 0,
             "ticks": ""
            },
            "colorscale": [
             [
              0,
              "#0d0887"
             ],
             [
              0.1111111111111111,
              "#46039f"
             ],
             [
              0.2222222222222222,
              "#7201a8"
             ],
             [
              0.3333333333333333,
              "#9c179e"
             ],
             [
              0.4444444444444444,
              "#bd3786"
             ],
             [
              0.5555555555555556,
              "#d8576b"
             ],
             [
              0.6666666666666666,
              "#ed7953"
             ],
             [
              0.7777777777777778,
              "#fb9f3a"
             ],
             [
              0.8888888888888888,
              "#fdca26"
             ],
             [
              1,
              "#f0f921"
             ]
            ],
            "type": "histogram2dcontour"
           }
          ],
          "mesh3d": [
           {
            "colorbar": {
             "outlinewidth": 0,
             "ticks": ""
            },
            "type": "mesh3d"
           }
          ],
          "parcoords": [
           {
            "line": {
             "colorbar": {
              "outlinewidth": 0,
              "ticks": ""
             }
            },
            "type": "parcoords"
           }
          ],
          "pie": [
           {
            "automargin": true,
            "type": "pie"
           }
          ],
          "scatter": [
           {
            "fillpattern": {
             "fillmode": "overlay",
             "size": 10,
             "solidity": 0.2
            },
            "type": "scatter"
           }
          ],
          "scatter3d": [
           {
            "line": {
             "colorbar": {
              "outlinewidth": 0,
              "ticks": ""
             }
            },
            "marker": {
             "colorbar": {
              "outlinewidth": 0,
              "ticks": ""
             }
            },
            "type": "scatter3d"
           }
          ],
          "scattercarpet": [
           {
            "marker": {
             "colorbar": {
              "outlinewidth": 0,
              "ticks": ""
             }
            },
            "type": "scattercarpet"
           }
          ],
          "scattergeo": [
           {
            "marker": {
             "colorbar": {
              "outlinewidth": 0,
              "ticks": ""
             }
            },
            "type": "scattergeo"
           }
          ],
          "scattergl": [
           {
            "marker": {
             "colorbar": {
              "outlinewidth": 0,
              "ticks": ""
             }
            },
            "type": "scattergl"
           }
          ],
          "scattermapbox": [
           {
            "marker": {
             "colorbar": {
              "outlinewidth": 0,
              "ticks": ""
             }
            },
            "type": "scattermapbox"
           }
          ],
          "scatterpolar": [
           {
            "marker": {
             "colorbar": {
              "outlinewidth": 0,
              "ticks": ""
             }
            },
            "type": "scatterpolar"
           }
          ],
          "scatterpolargl": [
           {
            "marker": {
             "colorbar": {
              "outlinewidth": 0,
              "ticks": ""
             }
            },
            "type": "scatterpolargl"
           }
          ],
          "scatterternary": [
           {
            "marker": {
             "colorbar": {
              "outlinewidth": 0,
              "ticks": ""
             }
            },
            "type": "scatterternary"
           }
          ],
          "surface": [
           {
            "colorbar": {
             "outlinewidth": 0,
             "ticks": ""
            },
            "colorscale": [
             [
              0,
              "#0d0887"
             ],
             [
              0.1111111111111111,
              "#46039f"
             ],
             [
              0.2222222222222222,
              "#7201a8"
             ],
             [
              0.3333333333333333,
              "#9c179e"
             ],
             [
              0.4444444444444444,
              "#bd3786"
             ],
             [
              0.5555555555555556,
              "#d8576b"
             ],
             [
              0.6666666666666666,
              "#ed7953"
             ],
             [
              0.7777777777777778,
              "#fb9f3a"
             ],
             [
              0.8888888888888888,
              "#fdca26"
             ],
             [
              1,
              "#f0f921"
             ]
            ],
            "type": "surface"
           }
          ],
          "table": [
           {
            "cells": {
             "fill": {
              "color": "#EBF0F8"
             },
             "line": {
              "color": "white"
             }
            },
            "header": {
             "fill": {
              "color": "#C8D4E3"
             },
             "line": {
              "color": "white"
             }
            },
            "type": "table"
           }
          ]
         },
         "layout": {
          "annotationdefaults": {
           "arrowcolor": "#2a3f5f",
           "arrowhead": 0,
           "arrowwidth": 1
          },
          "autotypenumbers": "strict",
          "coloraxis": {
           "colorbar": {
            "outlinewidth": 0,
            "ticks": ""
           }
          },
          "colorscale": {
           "diverging": [
            [
             0,
             "#8e0152"
            ],
            [
             0.1,
             "#c51b7d"
            ],
            [
             0.2,
             "#de77ae"
            ],
            [
             0.3,
             "#f1b6da"
            ],
            [
             0.4,
             "#fde0ef"
            ],
            [
             0.5,
             "#f7f7f7"
            ],
            [
             0.6,
             "#e6f5d0"
            ],
            [
             0.7,
             "#b8e186"
            ],
            [
             0.8,
             "#7fbc41"
            ],
            [
             0.9,
             "#4d9221"
            ],
            [
             1,
             "#276419"
            ]
           ],
           "sequential": [
            [
             0,
             "#0d0887"
            ],
            [
             0.1111111111111111,
             "#46039f"
            ],
            [
             0.2222222222222222,
             "#7201a8"
            ],
            [
             0.3333333333333333,
             "#9c179e"
            ],
            [
             0.4444444444444444,
             "#bd3786"
            ],
            [
             0.5555555555555556,
             "#d8576b"
            ],
            [
             0.6666666666666666,
             "#ed7953"
            ],
            [
             0.7777777777777778,
             "#fb9f3a"
            ],
            [
             0.8888888888888888,
             "#fdca26"
            ],
            [
             1,
             "#f0f921"
            ]
           ],
           "sequentialminus": [
            [
             0,
             "#0d0887"
            ],
            [
             0.1111111111111111,
             "#46039f"
            ],
            [
             0.2222222222222222,
             "#7201a8"
            ],
            [
             0.3333333333333333,
             "#9c179e"
            ],
            [
             0.4444444444444444,
             "#bd3786"
            ],
            [
             0.5555555555555556,
             "#d8576b"
            ],
            [
             0.6666666666666666,
             "#ed7953"
            ],
            [
             0.7777777777777778,
             "#fb9f3a"
            ],
            [
             0.8888888888888888,
             "#fdca26"
            ],
            [
             1,
             "#f0f921"
            ]
           ]
          },
          "colorway": [
           "#636efa",
           "#EF553B",
           "#00cc96",
           "#ab63fa",
           "#FFA15A",
           "#19d3f3",
           "#FF6692",
           "#B6E880",
           "#FF97FF",
           "#FECB52"
          ],
          "font": {
           "color": "#2a3f5f"
          },
          "geo": {
           "bgcolor": "white",
           "lakecolor": "white",
           "landcolor": "#E5ECF6",
           "showlakes": true,
           "showland": true,
           "subunitcolor": "white"
          },
          "hoverlabel": {
           "align": "left"
          },
          "hovermode": "closest",
          "mapbox": {
           "style": "light"
          },
          "paper_bgcolor": "white",
          "plot_bgcolor": "#E5ECF6",
          "polar": {
           "angularaxis": {
            "gridcolor": "white",
            "linecolor": "white",
            "ticks": ""
           },
           "bgcolor": "#E5ECF6",
           "radialaxis": {
            "gridcolor": "white",
            "linecolor": "white",
            "ticks": ""
           }
          },
          "scene": {
           "xaxis": {
            "backgroundcolor": "#E5ECF6",
            "gridcolor": "white",
            "gridwidth": 2,
            "linecolor": "white",
            "showbackground": true,
            "ticks": "",
            "zerolinecolor": "white"
           },
           "yaxis": {
            "backgroundcolor": "#E5ECF6",
            "gridcolor": "white",
            "gridwidth": 2,
            "linecolor": "white",
            "showbackground": true,
            "ticks": "",
            "zerolinecolor": "white"
           },
           "zaxis": {
            "backgroundcolor": "#E5ECF6",
            "gridcolor": "white",
            "gridwidth": 2,
            "linecolor": "white",
            "showbackground": true,
            "ticks": "",
            "zerolinecolor": "white"
           }
          },
          "shapedefaults": {
           "line": {
            "color": "#2a3f5f"
           }
          },
          "ternary": {
           "aaxis": {
            "gridcolor": "white",
            "linecolor": "white",
            "ticks": ""
           },
           "baxis": {
            "gridcolor": "white",
            "linecolor": "white",
            "ticks": ""
           },
           "bgcolor": "#E5ECF6",
           "caxis": {
            "gridcolor": "white",
            "linecolor": "white",
            "ticks": ""
           }
          },
          "title": {
           "x": 0.05
          },
          "xaxis": {
           "automargin": true,
           "gridcolor": "white",
           "linecolor": "white",
           "ticks": "",
           "title": {
            "standoff": 15
           },
           "zerolinecolor": "white",
           "zerolinewidth": 2
          },
          "yaxis": {
           "automargin": true,
           "gridcolor": "white",
           "linecolor": "white",
           "ticks": "",
           "title": {
            "standoff": 15
           },
           "zerolinecolor": "white",
           "zerolinewidth": 2
          }
         }
        },
        "title": {
         "text": "Impactscore van tsunami's + zeespiegelstijging"
        },
        "xaxis": {
         "title": {
          "text": "Jaar"
         }
        },
        "yaxis": {
         "showgrid": false,
         "title": {
          "text": "Impact Score (log)"
         },
         "type": "log"
        },
        "yaxis2": {
         "overlaying": "y",
         "showgrid": false,
         "side": "right",
         "title": {
          "text": "Zeespiegelafwijking (mm)"
         }
        }
       }
      },
      "text/html": [
       "<div>                            <div id=\"f7418df5-5e0c-411d-9c11-8e3e9ce9fa23\" class=\"plotly-graph-div\" style=\"height:600px; width:100%;\"></div>            <script type=\"text/javascript\">                require([\"plotly\"], function(Plotly) {                    window.PLOTLYENV=window.PLOTLYENV || {};                                    if (document.getElementById(\"f7418df5-5e0c-411d-9c11-8e3e9ce9fa23\")) {                    Plotly.newPlot(                        \"f7418df5-5e0c-411d-9c11-8e3e9ce9fa23\",                        [{\"customdata\":[[27.0,0.0,0.0],[128.0,0.0,0.0],[6000.0,2003000.0,550000.0],[200.0,0.0,0.0],[64.0,6532.0,0.0],[18.0,24.0,0.0],[41.0,0.0,0.0],[50.0,0.0,0.0],[3000.0,0.0,0.0],[1223.0,80573.0,0.0],[165.0,0.0,25000.0],[25.0,35376.0,800000.0],[131.0,0.0,311000.0],[200.0,0.0,0.0],[11.0,2.0,0.0],[539.0,23.0,0.0],[102.0,77.0,416000.0],[239.0,7355.0,1000000.0],[7.0,752.0,0.0],[2182.0,9867.0,0.0],[8.0,9082.0,0.0],[145.0,349978.0,300000.0],[165708.0,532898.0,4451600.0],[1.0,0.0,100000.0],[2.0,0.0,500000.0],[16389.0,654512.0,1022800.0],[35399.0,1019306.0,1316500.0],[102.0,27214.0,470100.0],[80.0,5063.0,500000.0],[8345.0,67007.0,1000000.0],[71.0,15700.0,500000.0],[298.0,105083.0,100000.0],[3.0,4830.0,30000.0],[10.0,0.0,0.0],[3.0,1202.0,0.0],[802.0,35543.0,55000.0],[52.0,2384.0,0.0],[10.0,0.0,0.0],[34.0,2500.0,0.0],[562.0,2671556.0,30000000.0],[530.0,11864.0,0.0],[1.0,95.0,0.0],[1.0,25319.0,400000.0],[9.0,507.0,9500.0],[19846.0,368820.0,210000000.0],[148.0,5584.0,124040.0],[10.0,3329.0,2000.0],[19.0,681499.0,800000.0],[2.0,50.0,3900000.0],[4140.0,2000000.0,1450000.0],[111.0,46.0,0.0]],\"hovertemplate\":\"Land: %{text}<br>Impact Score: %{y}<br>Jaar: %{x}<br>Total Deaths: %{customdata[0]}<br>Total Affected: %{customdata[1]}<br>Total Damage: %{customdata[2]}\",\"marker\":{\"color\":[2,7,3,7,7,8,8,18,8,8,24,8,24,18,5,7,8,8,15,14,7,15,7,9,1,6,20,11,10,22,12,19,17,21,7,7,18,3,0,3,7,7,8,23,8,16,18,3,13,7,4],\"colorscale\":[[0.0,\"#0d0887\"],[0.1111111111111111,\"#46039f\"],[0.2222222222222222,\"#7201a8\"],[0.3333333333333333,\"#9c179e\"],[0.4444444444444444,\"#bd3786\"],[0.5555555555555556,\"#d8576b\"],[0.6666666666666666,\"#ed7953\"],[0.7777777777777778,\"#fb9f3a\"],[0.8888888888888888,\"#fdca26\"],[1.0,\"#f0f921\"]],\"showscale\":false,\"size\":[7.235790156711096,10.552948551496243,31.508405830577647,11.515980287102446,19.075563290949063,6.989700043360188,8.116246451989502,8.537850880489682,17.386329977124262,24.530974621050504,21.98978690051944,29.515452649298535,27.463808927349362,11.515980287102446,5.395906230238125,13.661968799114844,28.09547187301304,30.000002171471323,14.383974881003503,19.971145704088492,19.791146570941912,27.720209929498,33.24258115649866,25.000021714615524,28.494854364620572,30.048955719836947,30.597105966638146,28.360955875107614,28.494854364620572,30.000002171471323,28.494854364620572,25.107682978776506,22.385678654805616,5.206963425791126,15.401328136699224,23.70185292842884,16.887441916880665,5.206963425791126,16.99056845865251,37.385606345980726,20.371338712766793,9.911356165197843,28.01030538531405,19.88884659045787,41.61109648400994,25.467826293982977,17.612221167531597,29.515452649298535,32.95532359192022,31.505151064055838,10.246090113350908]},\"mode\":\"markers\",\"name\":\"Impact Score\",\"text\":[\"Canada\",\"Indonesia\",\"Chile\",\"Indonesia\",\"Indonesia\",\"Japan\",\"Japan\",\"Solomon Islands\",\"Japan\",\"Japan\",\"United States of America (the)\",\"Japan\",\"United States of America (the)\",\"Solomon Islands\",\"France\",\"Indonesia\",\"Japan\",\"Japan\",\"Peru\",\"Papua New Guinea\",\"Indonesia\",\"Peru\",\"Indonesia\",\"Kenya\",\"Bangladesh\",\"India\",\"Sri Lanka\",\"Maldives\",\"Malaysia\",\"Thailand\",\"Myanmar\",\"Somalia\",\"Seychelles\",\"Tanzania, United Republic of\",\"Indonesia\",\"Indonesia\",\"Solomon Islands\",\"Chile\",\"American Samoa\",\"Chile\",\"Indonesia\",\"Indonesia\",\"Japan\",\"Tonga\",\"Japan\",\"Samoa\",\"Solomon Islands\",\"Chile\",\"New Zealand\",\"Indonesia\",\"Colombia\"],\"x\":[1928,1928,1960,1968,1969,1901,1905,1931,1933,1944,1946,1964,1964,1975,1979,1979,1983,1993,1996,1998,2002,2001,2004,2004,2004,2004,2004,2004,2004,2004,2004,2004,2004,2004,2006,2006,2007,2007,2009,2010,2010,2011,2009,2009,2011,2009,2013,2015,2016,2018,1958],\"y\":[27.0,128.0,2003000.0,200.0,6532.0,24.0,41.0,50.0,3000.0,80573.0,25000.0,800000.0,311000.0,200.0,11.0,539.0,416000.0,1000000.0,752.0,9867.0,9082.0,349978.0,4451600.0,100000.0,500000.0,1022800.0,1316500.0,470100.0,500000.0,1000000.0,500000.0,105083.0,30000.0,10.0,1202.0,55000.0,2384.0,10.0,2500.0,30000000.0,11864.0,95.0,400000.0,9500.0,210000000.0,124040.0,3329.0,800000.0,3900000.0,2000000.0,111.0],\"yaxis\":\"y\",\"type\":\"scatter\"},{\"line\":{\"color\":\"orange\",\"width\":2},\"mode\":\"lines+markers\",\"name\":\"Zeespiegelafwijking (mm)\",\"x\":[1928,1928,1960,1968,1969,1901,1905,1931,1933,1944,1946,1964,1964,1975,1979,1979,1983,1993,1996,1998,2002,2001,2004,2004,2004,2004,2004,2004,2004,2004,2004,2004,2004,2004,2006,2006,2007,2007,2009,2010,2010,2011,2009,2009,2011,2009,2013,2015,2016,2018,1958],\"y\":[-128.8807292,-128.8807292,-66.88072917,-72.8140625,-62.6140625,-156.5473958,-154.4140625,-126.7473958,-119.9807292,-116.9473958,-92.68072917,-70.98072917,-70.98072917,-45.84739583,-46.8140625,-46.8140625,-22.28072917,-22.78072917,-11.94739583,-10.8140625,2.152604167,4.719270833,13.65260417,13.65260417,13.65260417,13.65260417,13.65260417,13.65260417,13.65260417,13.65260417,13.65260417,13.65260417,13.65260417,13.65260417,9.519270833,9.519270833,22.7859375,22.7859375,33.65260417,33.87824005,33.87824005,36.71847075,33.65260417,33.65260417,36.71847075,33.65260417,41.33798668,50.46170567,54.34696367,53.08512198,-72.9140625],\"yaxis\":\"y2\",\"type\":\"scatter\"}],                        {\"template\":{\"data\":{\"histogram2dcontour\":[{\"type\":\"histogram2dcontour\",\"colorbar\":{\"outlinewidth\":0,\"ticks\":\"\"},\"colorscale\":[[0.0,\"#0d0887\"],[0.1111111111111111,\"#46039f\"],[0.2222222222222222,\"#7201a8\"],[0.3333333333333333,\"#9c179e\"],[0.4444444444444444,\"#bd3786\"],[0.5555555555555556,\"#d8576b\"],[0.6666666666666666,\"#ed7953\"],[0.7777777777777778,\"#fb9f3a\"],[0.8888888888888888,\"#fdca26\"],[1.0,\"#f0f921\"]]}],\"choropleth\":[{\"type\":\"choropleth\",\"colorbar\":{\"outlinewidth\":0,\"ticks\":\"\"}}],\"histogram2d\":[{\"type\":\"histogram2d\",\"colorbar\":{\"outlinewidth\":0,\"ticks\":\"\"},\"colorscale\":[[0.0,\"#0d0887\"],[0.1111111111111111,\"#46039f\"],[0.2222222222222222,\"#7201a8\"],[0.3333333333333333,\"#9c179e\"],[0.4444444444444444,\"#bd3786\"],[0.5555555555555556,\"#d8576b\"],[0.6666666666666666,\"#ed7953\"],[0.7777777777777778,\"#fb9f3a\"],[0.8888888888888888,\"#fdca26\"],[1.0,\"#f0f921\"]]}],\"heatmap\":[{\"type\":\"heatmap\",\"colorbar\":{\"outlinewidth\":0,\"ticks\":\"\"},\"colorscale\":[[0.0,\"#0d0887\"],[0.1111111111111111,\"#46039f\"],[0.2222222222222222,\"#7201a8\"],[0.3333333333333333,\"#9c179e\"],[0.4444444444444444,\"#bd3786\"],[0.5555555555555556,\"#d8576b\"],[0.6666666666666666,\"#ed7953\"],[0.7777777777777778,\"#fb9f3a\"],[0.8888888888888888,\"#fdca26\"],[1.0,\"#f0f921\"]]}],\"heatmapgl\":[{\"type\":\"heatmapgl\",\"colorbar\":{\"outlinewidth\":0,\"ticks\":\"\"},\"colorscale\":[[0.0,\"#0d0887\"],[0.1111111111111111,\"#46039f\"],[0.2222222222222222,\"#7201a8\"],[0.3333333333333333,\"#9c179e\"],[0.4444444444444444,\"#bd3786\"],[0.5555555555555556,\"#d8576b\"],[0.6666666666666666,\"#ed7953\"],[0.7777777777777778,\"#fb9f3a\"],[0.8888888888888888,\"#fdca26\"],[1.0,\"#f0f921\"]]}],\"contourcarpet\":[{\"type\":\"contourcarpet\",\"colorbar\":{\"outlinewidth\":0,\"ticks\":\"\"}}],\"contour\":[{\"type\":\"contour\",\"colorbar\":{\"outlinewidth\":0,\"ticks\":\"\"},\"colorscale\":[[0.0,\"#0d0887\"],[0.1111111111111111,\"#46039f\"],[0.2222222222222222,\"#7201a8\"],[0.3333333333333333,\"#9c179e\"],[0.4444444444444444,\"#bd3786\"],[0.5555555555555556,\"#d8576b\"],[0.6666666666666666,\"#ed7953\"],[0.7777777777777778,\"#fb9f3a\"],[0.8888888888888888,\"#fdca26\"],[1.0,\"#f0f921\"]]}],\"surface\":[{\"type\":\"surface\",\"colorbar\":{\"outlinewidth\":0,\"ticks\":\"\"},\"colorscale\":[[0.0,\"#0d0887\"],[0.1111111111111111,\"#46039f\"],[0.2222222222222222,\"#7201a8\"],[0.3333333333333333,\"#9c179e\"],[0.4444444444444444,\"#bd3786\"],[0.5555555555555556,\"#d8576b\"],[0.6666666666666666,\"#ed7953\"],[0.7777777777777778,\"#fb9f3a\"],[0.8888888888888888,\"#fdca26\"],[1.0,\"#f0f921\"]]}],\"mesh3d\":[{\"type\":\"mesh3d\",\"colorbar\":{\"outlinewidth\":0,\"ticks\":\"\"}}],\"scatter\":[{\"fillpattern\":{\"fillmode\":\"overlay\",\"size\":10,\"solidity\":0.2},\"type\":\"scatter\"}],\"parcoords\":[{\"type\":\"parcoords\",\"line\":{\"colorbar\":{\"outlinewidth\":0,\"ticks\":\"\"}}}],\"scatterpolargl\":[{\"type\":\"scatterpolargl\",\"marker\":{\"colorbar\":{\"outlinewidth\":0,\"ticks\":\"\"}}}],\"bar\":[{\"error_x\":{\"color\":\"#2a3f5f\"},\"error_y\":{\"color\":\"#2a3f5f\"},\"marker\":{\"line\":{\"color\":\"#E5ECF6\",\"width\":0.5},\"pattern\":{\"fillmode\":\"overlay\",\"size\":10,\"solidity\":0.2}},\"type\":\"bar\"}],\"scattergeo\":[{\"type\":\"scattergeo\",\"marker\":{\"colorbar\":{\"outlinewidth\":0,\"ticks\":\"\"}}}],\"scatterpolar\":[{\"type\":\"scatterpolar\",\"marker\":{\"colorbar\":{\"outlinewidth\":0,\"ticks\":\"\"}}}],\"histogram\":[{\"marker\":{\"pattern\":{\"fillmode\":\"overlay\",\"size\":10,\"solidity\":0.2}},\"type\":\"histogram\"}],\"scattergl\":[{\"type\":\"scattergl\",\"marker\":{\"colorbar\":{\"outlinewidth\":0,\"ticks\":\"\"}}}],\"scatter3d\":[{\"type\":\"scatter3d\",\"line\":{\"colorbar\":{\"outlinewidth\":0,\"ticks\":\"\"}},\"marker\":{\"colorbar\":{\"outlinewidth\":0,\"ticks\":\"\"}}}],\"scattermapbox\":[{\"type\":\"scattermapbox\",\"marker\":{\"colorbar\":{\"outlinewidth\":0,\"ticks\":\"\"}}}],\"scatterternary\":[{\"type\":\"scatterternary\",\"marker\":{\"colorbar\":{\"outlinewidth\":0,\"ticks\":\"\"}}}],\"scattercarpet\":[{\"type\":\"scattercarpet\",\"marker\":{\"colorbar\":{\"outlinewidth\":0,\"ticks\":\"\"}}}],\"carpet\":[{\"aaxis\":{\"endlinecolor\":\"#2a3f5f\",\"gridcolor\":\"white\",\"linecolor\":\"white\",\"minorgridcolor\":\"white\",\"startlinecolor\":\"#2a3f5f\"},\"baxis\":{\"endlinecolor\":\"#2a3f5f\",\"gridcolor\":\"white\",\"linecolor\":\"white\",\"minorgridcolor\":\"white\",\"startlinecolor\":\"#2a3f5f\"},\"type\":\"carpet\"}],\"table\":[{\"cells\":{\"fill\":{\"color\":\"#EBF0F8\"},\"line\":{\"color\":\"white\"}},\"header\":{\"fill\":{\"color\":\"#C8D4E3\"},\"line\":{\"color\":\"white\"}},\"type\":\"table\"}],\"barpolar\":[{\"marker\":{\"line\":{\"color\":\"#E5ECF6\",\"width\":0.5},\"pattern\":{\"fillmode\":\"overlay\",\"size\":10,\"solidity\":0.2}},\"type\":\"barpolar\"}],\"pie\":[{\"automargin\":true,\"type\":\"pie\"}]},\"layout\":{\"autotypenumbers\":\"strict\",\"colorway\":[\"#636efa\",\"#EF553B\",\"#00cc96\",\"#ab63fa\",\"#FFA15A\",\"#19d3f3\",\"#FF6692\",\"#B6E880\",\"#FF97FF\",\"#FECB52\"],\"font\":{\"color\":\"#2a3f5f\"},\"hovermode\":\"closest\",\"hoverlabel\":{\"align\":\"left\"},\"paper_bgcolor\":\"white\",\"plot_bgcolor\":\"#E5ECF6\",\"polar\":{\"bgcolor\":\"#E5ECF6\",\"angularaxis\":{\"gridcolor\":\"white\",\"linecolor\":\"white\",\"ticks\":\"\"},\"radialaxis\":{\"gridcolor\":\"white\",\"linecolor\":\"white\",\"ticks\":\"\"}},\"ternary\":{\"bgcolor\":\"#E5ECF6\",\"aaxis\":{\"gridcolor\":\"white\",\"linecolor\":\"white\",\"ticks\":\"\"},\"baxis\":{\"gridcolor\":\"white\",\"linecolor\":\"white\",\"ticks\":\"\"},\"caxis\":{\"gridcolor\":\"white\",\"linecolor\":\"white\",\"ticks\":\"\"}},\"coloraxis\":{\"colorbar\":{\"outlinewidth\":0,\"ticks\":\"\"}},\"colorscale\":{\"sequential\":[[0.0,\"#0d0887\"],[0.1111111111111111,\"#46039f\"],[0.2222222222222222,\"#7201a8\"],[0.3333333333333333,\"#9c179e\"],[0.4444444444444444,\"#bd3786\"],[0.5555555555555556,\"#d8576b\"],[0.6666666666666666,\"#ed7953\"],[0.7777777777777778,\"#fb9f3a\"],[0.8888888888888888,\"#fdca26\"],[1.0,\"#f0f921\"]],\"sequentialminus\":[[0.0,\"#0d0887\"],[0.1111111111111111,\"#46039f\"],[0.2222222222222222,\"#7201a8\"],[0.3333333333333333,\"#9c179e\"],[0.4444444444444444,\"#bd3786\"],[0.5555555555555556,\"#d8576b\"],[0.6666666666666666,\"#ed7953\"],[0.7777777777777778,\"#fb9f3a\"],[0.8888888888888888,\"#fdca26\"],[1.0,\"#f0f921\"]],\"diverging\":[[0,\"#8e0152\"],[0.1,\"#c51b7d\"],[0.2,\"#de77ae\"],[0.3,\"#f1b6da\"],[0.4,\"#fde0ef\"],[0.5,\"#f7f7f7\"],[0.6,\"#e6f5d0\"],[0.7,\"#b8e186\"],[0.8,\"#7fbc41\"],[0.9,\"#4d9221\"],[1,\"#276419\"]]},\"xaxis\":{\"gridcolor\":\"white\",\"linecolor\":\"white\",\"ticks\":\"\",\"title\":{\"standoff\":15},\"zerolinecolor\":\"white\",\"automargin\":true,\"zerolinewidth\":2},\"yaxis\":{\"gridcolor\":\"white\",\"linecolor\":\"white\",\"ticks\":\"\",\"title\":{\"standoff\":15},\"zerolinecolor\":\"white\",\"automargin\":true,\"zerolinewidth\":2},\"scene\":{\"xaxis\":{\"backgroundcolor\":\"#E5ECF6\",\"gridcolor\":\"white\",\"linecolor\":\"white\",\"showbackground\":true,\"ticks\":\"\",\"zerolinecolor\":\"white\",\"gridwidth\":2},\"yaxis\":{\"backgroundcolor\":\"#E5ECF6\",\"gridcolor\":\"white\",\"linecolor\":\"white\",\"showbackground\":true,\"ticks\":\"\",\"zerolinecolor\":\"white\",\"gridwidth\":2},\"zaxis\":{\"backgroundcolor\":\"#E5ECF6\",\"gridcolor\":\"white\",\"linecolor\":\"white\",\"showbackground\":true,\"ticks\":\"\",\"zerolinecolor\":\"white\",\"gridwidth\":2}},\"shapedefaults\":{\"line\":{\"color\":\"#2a3f5f\"}},\"annotationdefaults\":{\"arrowcolor\":\"#2a3f5f\",\"arrowhead\":0,\"arrowwidth\":1},\"geo\":{\"bgcolor\":\"white\",\"landcolor\":\"#E5ECF6\",\"subunitcolor\":\"white\",\"showland\":true,\"showlakes\":true,\"lakecolor\":\"white\"},\"title\":{\"x\":0.05},\"mapbox\":{\"style\":\"light\"}}},\"yaxis\":{\"title\":{\"text\":\"Impact Score (log)\"},\"type\":\"log\",\"showgrid\":false},\"yaxis2\":{\"title\":{\"text\":\"Zeespiegelafwijking (mm)\"},\"overlaying\":\"y\",\"side\":\"right\",\"showgrid\":false},\"legend\":{\"x\":1.05,\"y\":1},\"title\":{\"text\":\"Impactscore van tsunami's + zeespiegelstijging\"},\"xaxis\":{\"title\":{\"text\":\"Jaar\"}},\"height\":600},                        {\"responsive\": true}                    ).then(function(){\n",
       "                            \n",
       "var gd = document.getElementById('f7418df5-5e0c-411d-9c11-8e3e9ce9fa23');\n",
       "var x = new MutationObserver(function (mutations, observer) {{\n",
       "        var display = window.getComputedStyle(gd).display;\n",
       "        if (!display || display === 'none') {{\n",
       "            console.log([gd, 'removed!']);\n",
       "            Plotly.purge(gd);\n",
       "            observer.disconnect();\n",
       "        }}\n",
       "}});\n",
       "\n",
       "// Listen for the removal of the full notebook cells\n",
       "var notebookContainer = gd.closest('#notebook-container');\n",
       "if (notebookContainer) {{\n",
       "    x.observe(notebookContainer, {childList: true});\n",
       "}}\n",
       "\n",
       "// Listen for the clearing of the current output cell\n",
       "var outputEl = gd.closest('.output');\n",
       "if (outputEl) {{\n",
       "    x.observe(outputEl, {childList: true});\n",
       "}}\n",
       "\n",
       "                        })                };                });            </script>        </div>"
      ]
     },
     "metadata": {},
     "output_type": "display_data"
    }
   ],
   "source": [
    "import plotly.graph_objects as go\n",
    "\n",
    "# Maak eerste figuur: scatter plot\n",
    "scatter = go.Scatter(\n",
    "    x=filtered_df['Year'],\n",
    "    y=filtered_df['Impact_Score'],\n",
    "    mode='markers',\n",
    "    marker=dict(\n",
    "        size=filtered_df['Impact_Score_Log'] * 5,\n",
    "        color=filtered_df['Country'].astype('category').cat.codes,\n",
    "        colorscale='plasma',\n",
    "        showscale=False  #verbergt de kleurenbalk\n",
    "    ),\n",
    "    text=filtered_df['Country'],\n",
    "    name='Impact Score',\n",
    "    hovertemplate=(\n",
    "        \"Land: %{text}<br>Impact Score: %{y}<br>Jaar: %{x}<br>\"\n",
    "        \"Total Deaths: %{customdata[0]}<br>\"\n",
    "        \"Total Affected: %{customdata[1]}<br>\"\n",
    "        \"Total Damage: %{customdata[2]}\"\n",
    "    ),\n",
    "    customdata=filtered_df[['Total Deaths', 'Total Affected', \"Total Damages ('000 US$)\"]],\n",
    "    yaxis='y1'\n",
    ")\n",
    "\n",
    "# Maak tweede figuur: zeespiegel-lijn\n",
    "sea_level_line = go.Scatter(\n",
    "    x=filtered_df['Year'],\n",
    "    y=filtered_df['mmfrom1993-2008average'],\n",
    "    mode='lines+markers',\n",
    "    line=dict(color='orange', width=2),\n",
    "    name='Zeespiegelafwijking (mm)',\n",
    "    yaxis='y2'\n",
    ")\n",
    "\n",
    "# Combineer beide\n",
    "fig = go.Figure(data=[scatter, sea_level_line])\n",
    "\n",
    "fig.update_layout(\n",
    "    title=\"Impactscore van tsunami's + zeespiegelstijging\",\n",
    "    xaxis=dict(title='Jaar'),\n",
    "    yaxis=dict(\n",
    "        title='Impact Score (log)',\n",
    "        type='log',\n",
    "        showgrid=False\n",
    "    ),\n",
    "    yaxis2=dict(\n",
    "        title='Zeespiegelafwijking (mm)',\n",
    "        overlaying='y',\n",
    "        side='right',\n",
    "        showgrid=False\n",
    "    ),\n",
    "    height=600,\n",
    "    legend=dict(\n",
    "        x=1.05,\n",
    "        y=1\n",
    "    )\n",
    ")\n",
    "\n",
    "\n",
    "fig.show()\n"
   ]
  },
  {
   "cell_type": "markdown",
   "id": "5eb48ffa-6886-4668-82cb-f11ab1b83c85",
   "metadata": {},
   "source": [
    "## Tsunami’s vormen een toenemend gevaar in de toekomst omdat naar mate de zeespiegel stijgt kosten van damages en total deaths toenemen na een tsunami."
   ]
  },
  {
   "cell_type": "markdown",
   "id": "9acf6b57-f6ad-4b13-9712-631cb2c0d273",
   "metadata": {},
   "source": [
    "Onze verwachting van dit argument was eigenlijk dat naar mate de zeespiegel stijgt de kosten van schade ook toegenomen zouden zijn. Wat we helaas niet verwachtte is dat de dataset hierover beperkte informaite bevatte. Er zijn drie verschillende plots gemaakt (die op elkaar een vallen) die de zeespiegelstijging, tsunami's en kosten van de schade van deze tsunami's visueel weergeven. Er zijn slechts 2 datapunten in de dataset in deze kolom, waarschijnlijk omdat landen dit niet hebben genoteerd of omdat de informatie niet bereikbaar was. Wat wel opvallend is om te zien dat de totaal aantal doden een enorme stijging heeft in 2004. Dit is het jaar waar een tsunami op 26 december 2004 de kust van Thailand trof, wat resulteerde in meer dan tweehonderd duizend doden. Ook is te zien als er naar aantal doden per jaar wordt gekeken dat wel toeneemt. Dit kan komen doordat de zeespiegelstijging ervoor zorgt dat er meer volume is waarmee een tsunami schade kan doen. Hieronder is dit te zien."
   ]
  },
  {
   "cell_type": "code",
   "execution_count": null,
   "id": "de009fa3-5a1b-4a2e-944b-ca85312fb850",
   "metadata": {},
   "outputs": [],
   "source": [
    "import plotly.graph_objects as go\n",
    "\n",
    "merged_df['Year'] = merged_df['Year'].astype(int)\n",
    "df = merged_df[merged_df['Region'].str.contains('Asia|Oceania', case=False, na=False)]\n",
    "\n",
    "yearly_deaths = df.groupby('Year')['Total Deaths'].sum()\n",
    "yearly_damages = df.groupby('Year')[\"Total Damages ('000 US$)\"].sum()\n",
    "yearly_sealevel = df.groupby('Year')['mmfrom1993-2008average'].mean()\n",
    "\n",
    "# Pas alleen Total Damages van 2011 aan:\n",
    "yearly_damages.loc[2011] = 10_800_000  # 10.8 miljoen\n",
    "\n",
    "fig = go.Figure()\n",
    "\n",
    "fig.add_trace(go.Scatter(\n",
    "    x=yearly_deaths.index,\n",
    "    y=yearly_deaths.values,\n",
    "    mode='lines+markers',\n",
    "    name='Total Deaths',\n",
    "    line=dict(color='red')\n",
    "))\n",
    "\n",
    "fig.add_trace(go.Scatter(\n",
    "    x=yearly_damages.index,\n",
    "    y=yearly_damages.values,\n",
    "    mode='lines+markers',\n",
    "    name=\"Total Damages ('000 US$)\",\n",
    "    line=dict(color='orange')\n",
    "))\n",
    "\n",
    "fig.add_trace(go.Scatter(\n",
    "    x=yearly_sealevel.index,\n",
    "    y=yearly_sealevel.values,\n",
    "    mode='lines+markers',\n",
    "    name='Sea Level Rise (mm)',\n",
    "    line=dict(color='royalblue')\n",
    "))\n",
    "\n",
    "fig.update_layout(\n",
    "    title=\"Tsunamis in Azië en Oceanië: Totale Doden, Schade en Zeespiegelstijging per Jaar (2011 aangepast)\",\n",
    "    xaxis_title=\"Year\",\n",
    "    yaxis_title=\"Value\",\n",
    "    height=600\n",
    ")\n",
    "\n",
    "fig.show()\n"
   ]
  },
  {
   "cell_type": "code",
   "execution_count": null,
   "id": "f6a76446-21cf-43a3-9c65-8d2d9c4922c9",
   "metadata": {},
   "outputs": [],
   "source": [
    "import plotly.graph_objects as go\n",
    "from plotly.subplots import make_subplots\n",
    "\n",
    "# Zorg dat merged_df al geladen is en 'Year' int is\n",
    "merged_df['Year'] = merged_df['Year'].astype(int)\n",
    "\n",
    "# Filter regio Azië en Oceanië via Region\n",
    "df = merged_df[merged_df['Region'].str.contains('Asia|Oceania', case=False, na=False)]\n",
    "\n",
    "years = sorted(df['Year'].unique())\n",
    "\n",
    "# Berekeningen per jaar\n",
    "sea_level_avg = df.groupby('Year')['mmfrom1993-2008average'].mean().reset_index()\n",
    "deaths_per_year = df.groupby('Year')['Total Deaths'].sum().reset_index()\n",
    "damages_per_year = df.groupby('Year')[\"Total Damages ('000 US$)\"].sum().reset_index()\n",
    "\n",
    "# Maak subplots: 3 rijen, 1 kolom, alle lijnen\n",
    "fig = make_subplots(\n",
    "    rows=3, cols=1,\n",
    "    shared_xaxes=True,\n",
    "    vertical_spacing=0.1,\n",
    "    subplot_titles=(\"Total Damages ('000 US$)\", \"Total Deaths\", \"Sea Level Rise (mm)\")\n",
    ")\n",
    "\n",
    "# Voeg lijn diagram voor Total Damages\n",
    "fig.add_trace(\n",
    "    go.Scatter(\n",
    "        x=damages_per_year['Year'],\n",
    "        y=damages_per_year[\"Total Damages ('000 US$)\"],\n",
    "        mode='lines+markers',\n",
    "        name='Total Damages',\n",
    "        line=dict(color='orange')\n",
    "    ),\n",
    "    row=1, col=1\n",
    ")\n",
    "\n",
    "# Voeg lijn diagram voor Total Deaths\n",
    "fig.add_trace(\n",
    "    go.Scatter(\n",
    "        x=deaths_per_year['Year'],\n",
    "        y=deaths_per_year['Total Deaths'],\n",
    "        mode='lines+markers',\n",
    "        name='Total Deaths',\n",
    "        line=dict(color='red')\n",
    "    ),\n",
    "    row=2, col=1\n",
    ")\n",
    "\n",
    "# Voeg lijn diagram voor Sea Level Rise\n",
    "fig.add_trace(\n",
    "    go.Scatter(\n",
    "        x=sea_level_avg['Year'],\n",
    "        y=sea_level_avg['mmfrom1993-2008average'],\n",
    "        mode='lines+markers',\n",
    "        name='Sea Level Rise',\n",
    "        line=dict(color='royalblue')\n",
    "    ),\n",
    "    row=3, col=1\n",
    ")\n",
    "\n",
    "fig.update_layout(\n",
    "    height=800,\n",
    "    title_text=\"Tsunamis in Azië en Oceanië: Schade, Doden en Zeespiegelstijging per Jaar\",\n",
    "    showlegend=False\n",
    ")\n",
    "\n",
    "fig.update_xaxes(title_text=\"Year\", row=3, col=1)\n",
    "fig.update_yaxes(title_text=\"Damages ('000 US$)\", row=1, col=1)\n",
    "fig.update_yaxes(title_text=\"Total Deaths\", row=2, col=1)\n",
    "fig.update_yaxes(title_text=\"Sea Level Rise (mm)\", row=3, col=1)\n",
    "\n",
    "fig.show()\n"
   ]
  },
  {
   "cell_type": "code",
   "execution_count": null,
   "id": "82e8c148-9ced-4cdc-9264-1c93cc3d4b22",
   "metadata": {},
   "outputs": [],
   "source": [
    "df = merged_df[merged_df['Region'].str.contains('Asia|Oceania', case=False, na=False)].copy()\n",
    "\n",
    "# Zet NaN damages op 0 zodat ze ook getoond worden, maar kleiner\n",
    "df[\"Total Damages ('000 US$)\"] = df[\"Total Damages ('000 US$)\"].fillna(0)\n",
    "\n",
    "# Eventueel filteren op geldige lat/lon\n",
    "df = df.dropna(subset=['Latitude', 'Longitude'])\n",
    "\n",
    "fig = px.scatter_geo(\n",
    "    df,\n",
    "    lat='Latitude',\n",
    "    lon='Longitude',\n",
    "    hover_name='Location',\n",
    "    hover_data={\n",
    "        'Year': True,\n",
    "        \"Total Damages ('000 US$)\": ':.2f',\n",
    "        'Total Deaths': True\n",
    "    },\n",
    "    size=\"Total Damages ('000 US$)\",\n",
    "    size_max=30,\n",
    "    color=\"Total Damages ('000 US$)\",\n",
    "    color_continuous_scale='OrRd',\n",
    "    projection='natural earth',\n",
    "    title=\"Locaties van Tsunamis in Azië en Oceanië met Total Damages\"\n",
    ")\n",
    "\n",
    "fig.update_geos(\n",
    "    showcountries=True,\n",
    "    countrycolor=\"LightGray\",\n",
    "    showcoastlines=True,\n",
    "    coastlinecolor=\"Gray\",\n",
    "    lataxis_range=[-50, 50],\n",
    "    lonaxis_range=[60, 180],\n",
    ")\n",
    "\n",
    "fig.update_layout(height=600, margin={\"r\":0,\"t\":40,\"l\":0,\"b\":0})\n",
    "\n",
    "fig.show()\n"
   ]
  },
  {
   "cell_type": "markdown",
   "id": "109fdd28-7d46-4ca9-bc6e-0e0394748499",
   "metadata": {},
   "source": [
    "Nu de argumenten voor het tweede perspectief"
   ]
  },
  {
   "cell_type": "markdown",
   "id": "fabd7e8d-8ea7-448b-be55-3085dfe7c2f1",
   "metadata": {},
   "source": [
    "##  De hoeveelheid van tsunami’s is niet/minder evenredig toegenomen naar mate de zeespiegel stijgt. \n",
    "Hieronder wordt een grafiek gemaakt die het verband tussen de zeespiegel en het aantal tsunami's laat zien. "
   ]
  },
  {
   "cell_type": "code",
   "execution_count": null,
   "id": "21392489-99c3-4417-b634-f006691b95e1",
   "metadata": {},
   "outputs": [],
   "source": [
    "import matplotlib.pyplot as plt\n",
    "\n",
    "import pandas as pd\n",
    "\n",
    "disasters = pd.read_csv('1900_2021_DISASTERS.xlsx - emdat data.csv')\n",
    "sea_level = pd.read_csv('Global_sea_level_rise.csv')\n",
    "\n",
    "tsunamis = disasters[disasters['Disaster Subtype'].isin(['Tsunami', 'Tsunami/Tidal wave'])]\n",
    "\n",
    "\n",
    "tsunami_counts = tsunamis.groupby('Year').size().reset_index(name='Tsunami Count')\n",
    "\n",
    "combined = pd.merge(tsunami_counts, sea_level, left_on='Year', right_on='year', how='inner')\n",
    "import matplotlib.pyplot as plt\n",
    "\n",
    "plt.figure(figsize=(10, 5))\n",
    "plt.scatter(combined['mmfrom1993-2008average'], combined['Tsunami Count'], alpha=0.6, color='darkblue')\n",
    "plt.title('Zeespiegel vs. aantal tsunami’s per jaar')\n",
    "plt.xlabel('Zeespiegel (mm t.o.v. 1993–2008 gemiddelde)')\n",
    "plt.ylabel('Aantal tsunami’s')\n",
    "plt.grid(True)\n",
    "plt.tight_layout()\n",
    "plt.show()"
   ]
  },
  {
   "cell_type": "code",
   "execution_count": null,
   "id": "bd0b0de5-dacb-48f7-8db6-e9053491f62f",
   "metadata": {},
   "outputs": [],
   "source": [
    "correlation = combined['Tsunami Count'].corr(combined['mmfrom1993-2008average'])\n",
    "(f'Correlatiecoëfficiënt: {correlation:.2f}')"
   ]
  },
  {
   "cell_type": "markdown",
   "id": "142c499f-7e8e-4c2a-9ed7-4fa2414aa4bd",
   "metadata": {},
   "source": [
    "Er is een erg zwakke correlatie ontdekt (r = 0.17) tussen de zeespiegelstijging en het aantal tsunami’s per jaar. Dit betekent dat de stijgende zeespiegel niet direct samenhangt met een toename van het aantal tsunami’s, en dus vooral bepaald blijft door geologische factoren.\n"
   ]
  },
  {
   "cell_type": "markdown",
   "id": "b739bc1c-9cf5-47d0-b9ae-8367a197f9db",
   "metadata": {},
   "source": [
    "## De zeespiegelstijging versterkt het effect van de tsunami maar veroorzaakt het niet.\n",
    "Hieronder worden twee grafieken gemaakt, de eerste laat de zeespiegel vs. aantal doden door tsunami's zien, en de tweede laat de zeespiegel vs. het aantal tsunami's per jaar zien. Vervolgens wordt hieruit geanalyseerd of de stijgende zeespiegel het effect van de tsunami verorzaakt of versterkt. "
   ]
  },
  {
   "cell_type": "code",
   "execution_count": null,
   "id": "7d09be82-984f-4ac6-9432-a78bfa6e6034",
   "metadata": {},
   "outputs": [],
   "source": [
    "import matplotlib.pyplot as plt\n",
    "import pandas as pd\n",
    "\n",
    "disasters = pd.read_csv('1900_2021_DISASTERS.xlsx - emdat data.csv')\n",
    "sea_level = pd.read_csv('Global_sea_level_rise.csv')\n",
    "\n",
    "tsunamis = disasters[disasters['Disaster Subtype'].isin(['Tsunami', 'Tsunami/Tidal wave'])]\n",
    "\n",
    "tsunami_deaths = tsunamis.groupby('Year')['Total Deaths'].sum().reset_index()\n",
    "\n",
    "combined = pd.merge(tsunami_deaths, sea_level, left_on='Year', right_on='year', how='inner')\n",
    "\n",
    "plt.figure(figsize=(10, 5))\n",
    "plt.scatter(combined['mmfrom1993-2008average'], combined['Total Deaths'], alpha=0.7, color='firebrick')\n",
    "\n",
    "plt.title('Zeespiegel vs. aantal doden door tsunami’s')\n",
    "plt.xlabel('Zeespiegel (mm t.o.v. 1993–2008 gemiddelde)')\n",
    "plt.ylabel('Totaal aantal doden per jaar')\n",
    "plt.grid(True)\n",
    "plt.tight_layout()\n",
    "plt.show()\n"
   ]
  },
  {
   "cell_type": "code",
   "execution_count": null,
   "id": "cdc4843d-a317-4d6b-a878-59cf970daf33",
   "metadata": {},
   "outputs": [],
   "source": [
    "import matplotlib.pyplot as plt\n",
    "import pandas as pd\n",
    "\n",
    "disasters = pd.read_csv('1900_2021_DISASTERS.xlsx - emdat data.csv')\n",
    "sea_level = pd.read_csv('Global_sea_level_rise.csv')\n",
    "\n",
    "tsunamis = disasters[disasters['Disaster Subtype'].isin(['Tsunami', 'Tsunami/Tidal wave'])]\n",
    "\n",
    "tsunami_counts = tsunamis.groupby('Year').size().reset_index(name='Aantal Tsunamis')\n",
    "\n",
    "combined_counts = pd.merge(tsunami_counts, sea_level, left_on='Year', right_on='year', how='inner')\n",
    "\n",
    "plt.figure(figsize=(10, 5))\n",
    "plt.scatter(combined_counts['mmfrom1993-2008average'], combined_counts['Aantal Tsunamis'], alpha=0.6, color='darkblue')\n",
    "plt.title('Zeespiegel vs. Aantal tsunami’s per jaar')\n",
    "plt.xlabel('Zeespiegel (mm t.o.v. 1993–2008 gemiddelde)')\n",
    "plt.ylabel('Aantal tsunami’s')\n",
    "plt.grid(True)\n",
    "plt.tight_layout()\n",
    "plt.show()\n"
   ]
  },
  {
   "cell_type": "markdown",
   "id": "2b1121d8-0e98-4713-b7a3-7904c6589a3a",
   "metadata": {},
   "source": [
    "De grafieken tonen aan dat de zeespiegelstijging niet leidt tot meer tsunami’s, maar wel dat het effect ervan verergert. Bij een hogere zeespiegel zie je namelijk meer doden, maar niet meer tsunami's relatief gezien."
   ]
  },
  {
   "cell_type": "markdown",
   "id": "486f0ad0-fda5-4c03-bdcf-887d9f824c50",
   "metadata": {},
   "source": [
    "##  Tsunami’s ontstaan vooral in specifieke aardbevingzones - niet in regios met hoogste zeespiegelstijging.\n"
   ]
  },
  {
   "cell_type": "code",
   "execution_count": null,
   "id": "7f528579-c86d-44b1-85e9-a9c3b2112bd6",
   "metadata": {},
   "outputs": [],
   "source": [
    "import pandas as pd\n",
    "import pandas as pd\n",
    "\n",
    "disasters = pd.read_csv('1900_2021_DISASTERS.xlsx - emdat data.csv')\n",
    "sea_level = pd.read_csv('Global_sea_level_rise.csv')\n",
    "\n",
    "tsunamis = disasters[disasters['Disaster Subtype'].isin(['Tsunami', 'Tsunami/Tidal wave'])]\n",
    "\n",
    "tsunami_deaths = tsunamis.groupby('Year')['Total Deaths'].sum().reset_index()\n",
    "combined = pd.merge(tsunami_deaths, sea_level, left_on='Year', right_on='year', how='inner')\n",
    "\n",
    "plt.figure(figsize=(10, 5))\n",
    "plt.scatter(combined['mmfrom1993-2008average'], combined['Total Deaths'], alpha=0.6, color='firebrick')\n",
    "plt.title('Zeespiegel vs. aantal doden door tsunami’s')\n",
    "plt.xlabel('Zeespiegel (mm t.o.v. 1993–2008 gemiddelde)')\n",
    "plt.ylabel('Totaal aantal doden')\n",
    "plt.grid(True)\n",
    "plt.tight_layout()\n",
    "plt.show()"
   ]
  },
  {
   "cell_type": "markdown",
   "id": "67346ed1-9204-4a1a-8505-292fec8ef019",
   "metadata": {},
   "source": [
    "De grafiek geeft weer hoe erg het aantal doden door tsunamis en de ontwikkeling ervan over jaren zich verhoudt tot de stijging van de zeespiegel. zelfs bij hele hoge waarden is een bijna stabiele hoeveelheid telkens te zien van het aantal doden met de toename van de zeespiegel."
   ]
  },
  {
   "cell_type": "markdown",
   "id": "268afb89-ca9a-4a43-817c-d537daf4a782",
   "metadata": {},
   "source": [
    "## Bewijs 3)Tsunami’s ontstaan vooral in specifieke aardbevingzones - niet in regios met hoogste zeespiegelstijging."
   ]
  },
  {
   "cell_type": "code",
   "execution_count": null,
   "id": "27e422b2-26d5-4af4-8279-3382f8f5174c",
   "metadata": {},
   "outputs": [],
   "source": [
    "tsunami_counts = tsunamis.groupby('Year').size().reset_index(name='Tsunami Count')\n",
    "\n",
    "print(sea_level.columns)\n",
    "\n",
    "combined = pd.merge(tsunami_counts, sea_level, left_on='Year', right_on='year', how='inner')\n",
    "\n",
    "import matplotlib.pyplot as plt\n",
    "\n",
    "plt.figure(figsize=(10, 5))\n",
    "plt.scatter(combined['mmfrom1993-2008average'], combined['Tsunami Count'], alpha=0.6, color='darkblue')\n",
    "plt.title('Zeespiegel vs. aantal tsunami’s per jaar')\n",
    "plt.xlabel('Zeespiegel (mm t.o.v. 1993–2008 gemiddelde)')\n",
    "plt.ylabel('Aantal tsunami’s')\n",
    "plt.grid(True)\n",
    "plt.tight_layout()\n",
    "plt.show()"
   ]
  },
  {
   "cell_type": "markdown",
   "id": "79108308-8f19-434c-b180-063dc3f04b54",
   "metadata": {},
   "source": [
    "De grafiek hierboven laat het aantal tsunamis met de zeespiegel zien er is te zien dat de ontwikkeling van de hoeveelheid tsunamis niet drastisch verandert om een oorzakelijk verband te kunnen vinden eventueel."
   ]
  },
  {
   "cell_type": "code",
   "execution_count": null,
   "id": "9f02e4d5-8392-4178-a83b-a4352d9421f4",
   "metadata": {},
   "outputs": [],
   "source": []
  }
 ],
 "metadata": {
  "kernelspec": {
   "display_name": "Python 3 (ipykernel)",
   "language": "python",
   "name": "python3"
  },
  "language_info": {
   "codemirror_mode": {
    "name": "ipython",
    "version": 3
   },
   "file_extension": ".py",
   "mimetype": "text/x-python",
   "name": "python",
   "nbconvert_exporter": "python",
   "pygments_lexer": "ipython3",
   "version": "3.9.13"
  }
 },
 "nbformat": 4,
 "nbformat_minor": 5
}
