{
 "cells": [
  {
   "cell_type": "markdown",
   "id": "fbffff9b-d6c3-4fac-a64f-6782d854b09d",
   "metadata": {},
   "source": [
    "# Datastory!"
   ]
  },
  {
   "cell_type": "code",
   "execution_count": 1,
   "id": "30a3568e-1e6f-4e65-b1ff-7923f758fa21",
   "metadata": {},
   "outputs": [
    {
     "data": {
      "text/html": [
       "        <script type=\"text/javascript\">\n",
       "        window.PlotlyConfig = {MathJaxConfig: 'local'};\n",
       "        if (window.MathJax && window.MathJax.Hub && window.MathJax.Hub.Config) {window.MathJax.Hub.Config({SVG: {font: \"STIX-Web\"}});}\n",
<<<<<<< HEAD
=======
       "        if (typeof require !== 'undefined') {\n",
       "        require.undef(\"plotly\");\n",
       "        requirejs.config({\n",
       "            paths: {\n",
       "                'plotly': ['https://cdn.plot.ly/plotly-2.12.1.min']\n",
       "            }\n",
       "        });\n",
       "        require(['plotly'], function(Plotly) {\n",
       "            window._Plotly = Plotly;\n",
       "        });\n",
       "        }\n",
>>>>>>> 01780f92e57fec73a6ab66ad55bfa65288238e82
       "        </script>\n",
       "        <script type=\"module\">import \"https://cdn.plot.ly/plotly-3.0.1.min\"</script>\n",
       "        "
      ]
     },
     "metadata": {},
     "output_type": "display_data"
    }
   ],
   "source": [
    "import plotly.graph_objs as go\n",
    "import plotly.express as px\n",
    "import pandas as pd\n",
    "\n",
    "from plotly.offline import init_notebook_mode\n",
    "init_notebook_mode(connected=True)\n",
    "#jskfjklsd\n",
    "\n"
   ]
  },
  {
   "cell_type": "code",
   "execution_count": 2,
   "id": "482c9b8c-21b5-4d78-be31-3373ea763c73",
   "metadata": {},
   "outputs": [],
   "source": [
    "import pandas as pd\n",
    "sea_df = pd.read_csv('Global_sea_level_rise.csv')\n",
    "dist_df = pd.read_csv('1900_2021_DISASTERS.xlsx - emdat data.csv')\n",
    "\n",
    "tsunami_df = dist_df[dist_df['Disaster Subtype'].str.lower() == 'tsunami'].copy()\n",
    "flood_df = dist_df[dist_df['Disaster Subtype'].str.lower() == 'flood'].copy()\n",
    "\n",
    "tsunami_df.columns = tsunami_df.columns.str.strip()\n",
    "flood_df.columns = flood_df.columns.str.strip()\n",
    "sea_df.rename(columns={'year': 'Year'}, inplace=True)\n",
    "\n",
    "#subsets om samen te voegen\n",
    "tsunami_subset = tsunami_df[['Year', 'Disaster Subtype', 'Country', 'Region', 'Continent', 'Origin', 'River Basin',\n",
    "                             'Total Deaths', 'Total Affected', \"Total Damages ('000 US$)\", 'Latitude', 'Longitude', 'Location']]\n",
    "\n",
    "flood_subset = flood_df[['Year', 'Disaster Subtype', 'Country', 'Region', 'Continent', 'Origin', 'River Basin',\n",
    "                         'Total Deaths', 'Total Affected', \"Total Damages ('000 US$)\", 'Latitude', 'Longitude', 'Location']]\n",
    "\n",
    "#eerste twee samen voegen\n",
    "disaster_df = pd.concat([tsunami_subset, flood_subset], ignore_index=True)\n",
    "\n",
    "#laatste samenvoegen\n",
    "merged_df = disaster_df.merge(sea_df[['Year', 'mmfrom1993-2008average']], on='Year', how='left')\n",
    "\n",
    "#missende waardes invullen met 0\n",
    "merged_df = merged_df.fillna(0)\n",
    "\n",
    "\n"
   ]
  },
  {
   "cell_type": "markdown",
   "id": "9da1d6ec-fe06-4830-aeb7-5c04ae25eb93",
   "metadata": {},
   "source": [
    "Hieronder worden de argumenten voor het eerste perspectief uitgwerkt!"
   ]
  },
  {
   "cell_type": "markdown",
   "id": "c37c6d3a-2876-4ca6-ac1a-73ccb674aaf9",
   "metadata": {},
   "source": [
    "## Tsunami’s vormen een toenemend gevaar in de toekomst omdat naar mate de zeespiegel stijgt overstromingen na een tsunami toenemen.\n",
    "In het figuur is te zien als de tijd toeneemt, neemt de zeespiegel ook toe. Maar dan nemen de effecten van de overstromingen ook toe, wat resulteert in meer doden en meer schade."
   ]
  },
  {
   "cell_type": "code",
   "execution_count": 3,
   "id": "4c7771f1-e145-4214-b0e9-910aa3384398",
   "metadata": {},
   "outputs": [
    {
     "data": {
      "application/vnd.plotly.v1+json": {
       "config": {
        "plotlyServerURL": "https://plot.ly"
       },
       "data": [
        {
<<<<<<< HEAD
         "customdata": {
          "bdata": "AAAAAAAgnkAAAAAAAAA7QAAAAAAAADtAAAAAAAAAAAAAAAAAAAAAADvUAO8uHGDAAAAAAAAgnkAAAAAAAABgQAAAAAAAAGBAAAAAAAAAAAAAAAAAAAAAADvUAO8uHGDA",
          "dtype": "f8",
          "shape": "2, 6"
         },
=======
         "customdata": [
          [
           1928,
           27,
           27,
           0,
           0,
           -128.8807292
          ],
          [
           1928,
           128,
           128,
           0,
           0,
           -128.8807292
          ]
         ],
>>>>>>> 01780f92e57fec73a6ab66ad55bfa65288238e82
         "geo": "geo",
         "hovertemplate": "<b>%{hovertext}</b><br><br>Year=%{customdata[0]}<br>Impact_Score_Log=%{marker.size}<br>Latitude=%{lat}<br>Longitude=%{lon}<br>Impact_Score=%{customdata[1]}<br>Total Deaths=%{customdata[2]}<br>Total Affected=%{customdata[3]}<br>Total Damages ('000 US$)=%{customdata[4]}<br>mmfrom1993-2008average=%{marker.color:.2f}<extra></extra>",
         "hovertext": [
          "Canada",
          "Indonesia"
         ],
         "lat": [
          "48.60 N",
          "8.30 S"
         ],
         "legendgroup": "",
         "lon": [
          "58.00 W",
          "121.70 E"
         ],
         "marker": {
<<<<<<< HEAD
          "color": {
           "bdata": "O9QA7y4cYMA71ADvLhxgwA==",
           "dtype": "f8"
          },
          "coloraxis": "coloraxis",
          "size": {
           "bdata": "HyMMLo8n9z86E6jbfOIAQA==",
           "dtype": "f8"
          },
=======
          "color": [
           -128.8807292,
           -128.8807292
          ],
          "coloraxis": "coloraxis",
          "size": [
           1.4471580313422192,
           2.110589710299249
          ],
>>>>>>> 01780f92e57fec73a6ab66ad55bfa65288238e82
          "sizemode": "area",
          "sizeref": 0.005201387060501242,
          "symbol": "circle"
         },
         "mode": "markers",
         "name": "",
         "showlegend": false,
         "type": "scattergeo"
        }
       ],
       "frames": [
        {
         "data": [
          {
<<<<<<< HEAD
           "customdata": {
            "bdata": "AAAAAAAgnkAAAAAAAAA7QAAAAAAAADtAAAAAAAAAAAAAAAAAAAAAADvUAO8uHGDAAAAAAAAgnkAAAAAAAABgQAAAAAAAAGBAAAAAAAAAAAAAAAAAAAAAADvUAO8uHGDA",
            "dtype": "f8",
            "shape": "2, 6"
           },
=======
           "customdata": [
            [
             1928,
             27,
             27,
             0,
             0,
             -128.8807292
            ],
            [
             1928,
             128,
             128,
             0,
             0,
             -128.8807292
            ]
           ],
>>>>>>> 01780f92e57fec73a6ab66ad55bfa65288238e82
           "geo": "geo",
           "hovertemplate": "<b>%{hovertext}</b><br><br>Year=%{customdata[0]}<br>Impact_Score_Log=%{marker.size}<br>Latitude=%{lat}<br>Longitude=%{lon}<br>Impact_Score=%{customdata[1]}<br>Total Deaths=%{customdata[2]}<br>Total Affected=%{customdata[3]}<br>Total Damages ('000 US$)=%{customdata[4]}<br>mmfrom1993-2008average=%{marker.color:.2f}<extra></extra>",
           "hovertext": [
            "Canada",
            "Indonesia"
           ],
           "lat": [
            "48.60 N",
            "8.30 S"
           ],
           "legendgroup": "",
           "lon": [
            "58.00 W",
            "121.70 E"
           ],
           "marker": {
<<<<<<< HEAD
            "color": {
             "bdata": "O9QA7y4cYMA71ADvLhxgwA==",
             "dtype": "f8"
            },
            "coloraxis": "coloraxis",
            "size": {
             "bdata": "HyMMLo8n9z86E6jbfOIAQA==",
             "dtype": "f8"
            },
=======
            "color": [
             -128.8807292,
             -128.8807292
            ],
            "coloraxis": "coloraxis",
            "size": [
             1.4471580313422192,
             2.110589710299249
            ],
>>>>>>> 01780f92e57fec73a6ab66ad55bfa65288238e82
            "sizemode": "area",
            "sizeref": 0.005201387060501242,
            "symbol": "circle"
           },
           "mode": "markers",
           "name": "",
           "showlegend": false,
           "type": "scattergeo"
          }
         ],
         "name": "1928"
        },
        {
         "data": [
          {
<<<<<<< HEAD
           "customdata": {
            "bdata": "AAAAAACgnkAAAAAAOJA+QQAAAAAAcLdAAAAAADiQPkEAAAAA4MggQSBy4d1duFDA",
            "dtype": "f8",
            "shape": "1, 6"
           },
=======
           "customdata": [
            [
             1960,
             2003000,
             6000,
             2003000,
             550000,
             -66.88072917
            ]
           ],
>>>>>>> 01780f92e57fec73a6ab66ad55bfa65288238e82
           "geo": "geo",
           "hovertemplate": "<b>%{hovertext}</b><br><br>Year=%{customdata[0]}<br>Impact_Score_Log=%{marker.size}<br>Latitude=%{lat}<br>Longitude=%{lon}<br>Impact_Score=%{customdata[1]}<br>Total Deaths=%{customdata[2]}<br>Total Affected=%{customdata[3]}<br>Total Damages ('000 US$)=%{customdata[4]}<br>mmfrom1993-2008average=%{marker.color:.2f}<extra></extra>",
           "hovertext": [
            "Chile"
           ],
           "lat": [
            "-38.143"
           ],
           "legendgroup": "",
           "lon": [
            "-73.407"
           ],
           "marker": {
<<<<<<< HEAD
            "color": {
             "bdata": "IHLh3V24UMA=",
             "dtype": "f8"
            },
            "coloraxis": "coloraxis",
            "size": {
             "bdata": "MSRZ6Os0GUA=",
             "dtype": "f8"
            },
=======
            "color": [
             -66.88072917
            ],
            "coloraxis": "coloraxis",
            "size": [
             6.30168116611553
            ],
>>>>>>> 01780f92e57fec73a6ab66ad55bfa65288238e82
            "sizemode": "area",
            "sizeref": 0.005201387060501242,
            "symbol": "circle"
           },
           "mode": "markers",
           "name": "",
           "showlegend": false,
           "type": "scattergeo"
          }
         ],
         "name": "1960"
        },
        {
         "data": [
          {
<<<<<<< HEAD
           "customdata": {
            "bdata": "AAAAAADAnkAAAAAAAABpQAAAAAAAAGlAAAAAAAAAAAAAAAAAAAAAAJqZmZkZNFLA",
            "dtype": "f8",
            "shape": "1, 6"
           },
=======
           "customdata": [
            [
             1968,
             200,
             200,
             0,
             0,
             -72.8140625
            ]
           ],
>>>>>>> 01780f92e57fec73a6ab66ad55bfa65288238e82
           "geo": "geo",
           "hovertemplate": "<b>%{hovertext}</b><br><br>Year=%{customdata[0]}<br>Impact_Score_Log=%{marker.size}<br>Latitude=%{lat}<br>Longitude=%{lon}<br>Impact_Score=%{customdata[1]}<br>Total Deaths=%{customdata[2]}<br>Total Affected=%{customdata[3]}<br>Total Damages ('000 US$)=%{customdata[4]}<br>mmfrom1993-2008average=%{marker.color:.2f}<extra></extra>",
           "hovertext": [
            "Indonesia"
           ],
           "lat": [
            "0.157"
           ],
           "legendgroup": "",
           "lon": [
            "119.802"
           ],
           "marker": {
<<<<<<< HEAD
            "color": {
             "bdata": "mpmZmRk0UsA=",
             "dtype": "f8"
            },
            "coloraxis": "coloraxis",
            "size": {
             "bdata": "Vy33DfJsAkA=",
             "dtype": "f8"
            },
=======
            "color": [
             -72.8140625
            ],
            "coloraxis": "coloraxis",
            "size": [
             2.303196057420489
            ],
>>>>>>> 01780f92e57fec73a6ab66ad55bfa65288238e82
            "sizemode": "area",
            "sizeref": 0.005201387060501242,
            "symbol": "circle"
           },
           "mode": "markers",
           "name": "",
           "showlegend": false,
           "type": "scattergeo"
          }
         ],
         "name": "1968"
        },
        {
         "data": [
          {
<<<<<<< HEAD
           "customdata": {
            "bdata": "AAAAAADEnkAAAAAAAIS5QAAAAAAAAFBAAAAAAACEuUAAAAAAAAAAAJqZmZmZTk/A",
            "dtype": "f8",
            "shape": "1, 6"
           },
=======
           "customdata": [
            [
             1969,
             6532,
             64,
             6532,
             0,
             -62.6140625
            ]
           ],
>>>>>>> 01780f92e57fec73a6ab66ad55bfa65288238e82
           "geo": "geo",
           "hovertemplate": "<b>%{hovertext}</b><br><br>Year=%{customdata[0]}<br>Impact_Score_Log=%{marker.size}<br>Latitude=%{lat}<br>Longitude=%{lon}<br>Impact_Score=%{customdata[1]}<br>Total Deaths=%{customdata[2]}<br>Total Affected=%{customdata[3]}<br>Total Damages ('000 US$)=%{customdata[4]}<br>mmfrom1993-2008average=%{marker.color:.2f}<extra></extra>",
           "hovertext": [
            "Indonesia"
           ],
           "lat": [
            "-3.201"
           ],
           "legendgroup": "",
           "lon": [
            "118.904"
           ],
           "marker": {
<<<<<<< HEAD
            "color": {
             "bdata": "mpmZmZlOT8A=",
             "dtype": "f8"
            },
            "coloraxis": "coloraxis",
            "size": {
             "bdata": "09gLyVmFDkA=",
             "dtype": "f8"
            },
=======
            "color": [
             -62.6140625
            ],
            "coloraxis": "coloraxis",
            "size": [
             3.8151126581898125
            ],
>>>>>>> 01780f92e57fec73a6ab66ad55bfa65288238e82
            "sizemode": "area",
            "sizeref": 0.005201387060501242,
            "symbol": "circle"
           },
           "mode": "markers",
           "name": "",
           "showlegend": false,
           "type": "scattergeo"
          }
         ],
         "name": "1969"
        },
        {
         "data": [
          {
<<<<<<< HEAD
           "customdata": {
            "bdata": "AAAAAAC0nUAAAAAAAAA4QAAAAAAAADJAAAAAAAAAOEAAAAAAAAAAAPheMkSEkWPA",
            "dtype": "f8",
            "shape": "1, 6"
           },
=======
           "customdata": [
            [
             1901,
             24,
             18,
             24,
             0,
             -156.5473958
            ]
           ],
>>>>>>> 01780f92e57fec73a6ab66ad55bfa65288238e82
           "geo": "geo",
           "hovertemplate": "<b>%{hovertext}</b><br><br>Year=%{customdata[0]}<br>Impact_Score_Log=%{marker.size}<br>Latitude=%{lat}<br>Longitude=%{lon}<br>Impact_Score=%{customdata[1]}<br>Total Deaths=%{customdata[2]}<br>Total Affected=%{customdata[3]}<br>Total Damages ('000 US$)=%{customdata[4]}<br>mmfrom1993-2008average=%{marker.color:.2f}<extra></extra>",
           "hovertext": [
            "Japan"
           ],
           "lat": [
            "40.5"
           ],
           "legendgroup": "",
           "lon": [
            "142.5"
           ],
           "marker": {
<<<<<<< HEAD
            "color": {
             "bdata": "+F4yRISRY8A=",
             "dtype": "f8"
            },
            "coloraxis": "coloraxis",
            "size": {
             "bdata": "AUOwV/Zd9j8=",
             "dtype": "f8"
            },
=======
            "color": [
             -156.5473958
            ],
            "coloraxis": "coloraxis",
            "size": [
             1.3979400086720377
            ],
>>>>>>> 01780f92e57fec73a6ab66ad55bfa65288238e82
            "sizemode": "area",
            "sizeref": 0.005201387060501242,
            "symbol": "circle"
           },
           "mode": "markers",
           "name": "",
           "showlegend": false,
           "type": "scattergeo"
          }
         ],
         "name": "1901"
        },
        {
         "data": [
          {
<<<<<<< HEAD
           "customdata": {
            "bdata": "AAAAAADEnUAAAAAAAIBEQAAAAAAAgERAAAAAAAAAAAAAAAAAAAAAAAAAAABATWPA",
            "dtype": "f8",
            "shape": "1, 6"
           },
=======
           "customdata": [
            [
             1905,
             41,
             41,
             0,
             0,
             -154.4140625
            ]
           ],
>>>>>>> 01780f92e57fec73a6ab66ad55bfa65288238e82
           "geo": "geo",
           "hovertemplate": "<b>%{hovertext}</b><br><br>Year=%{customdata[0]}<br>Impact_Score_Log=%{marker.size}<br>Latitude=%{lat}<br>Longitude=%{lon}<br>Impact_Score=%{customdata[1]}<br>Total Deaths=%{customdata[2]}<br>Total Affected=%{customdata[3]}<br>Total Damages ('000 US$)=%{customdata[4]}<br>mmfrom1993-2008average=%{marker.color:.2f}<extra></extra>",
           "hovertext": [
            "Japan"
           ],
           "lat": [
            "37.4"
           ],
           "legendgroup": "",
           "lon": [
            "142.6"
           ],
           "marker": {
<<<<<<< HEAD
            "color": {
             "bdata": "AAAAAEBNY8A=",
             "dtype": "f8"
            },
            "coloraxis": "coloraxis",
            "size": {
             "bdata": "Hzp4P9T4+T8=",
             "dtype": "f8"
            },
=======
            "color": [
             -154.4140625
            ],
            "coloraxis": "coloraxis",
            "size": [
             1.6232492903979006
            ],
>>>>>>> 01780f92e57fec73a6ab66ad55bfa65288238e82
            "sizemode": "area",
            "sizeref": 0.005201387060501242,
            "symbol": "circle"
           },
           "mode": "markers",
           "name": "",
           "showlegend": false,
           "type": "scattergeo"
          }
         ],
         "name": "1905"
        },
        {
         "data": [
          {
<<<<<<< HEAD
           "customdata": {
            "bdata": "AAAAAAAsnkAAAAAAAABJQAAAAAAAAElAAAAAAAAAAAAAAAAAAAAAAL2KMVXVr1/A",
            "dtype": "f8",
            "shape": "1, 6"
           },
=======
           "customdata": [
            [
             1931,
             50,
             50,
             0,
             0,
             -126.7473958
            ]
           ],
>>>>>>> 01780f92e57fec73a6ab66ad55bfa65288238e82
           "geo": "geo",
           "hovertemplate": "<b>%{hovertext}</b><br><br>Year=%{customdata[0]}<br>Impact_Score_Log=%{marker.size}<br>Latitude=%{lat}<br>Longitude=%{lon}<br>Impact_Score=%{customdata[1]}<br>Total Deaths=%{customdata[2]}<br>Total Affected=%{customdata[3]}<br>Total Damages ('000 US$)=%{customdata[4]}<br>mmfrom1993-2008average=%{marker.color:.2f}<extra></extra>",
           "hovertext": [
            "Solomon Islands"
           ],
           "lat": [
            "11.117"
           ],
           "legendgroup": "",
           "lon": [
            "161.11"
           ],
           "marker": {
<<<<<<< HEAD
            "color": {
             "bdata": "vYoxVdWvX8A=",
             "dtype": "f8"
            },
            "coloraxis": "coloraxis",
            "size": {
             "bdata": "FnPfGjVS+z8=",
             "dtype": "f8"
            },
=======
            "color": [
             -126.7473958
            ],
            "coloraxis": "coloraxis",
            "size": [
             1.7075701760979363
            ],
>>>>>>> 01780f92e57fec73a6ab66ad55bfa65288238e82
            "sizemode": "area",
            "sizeref": 0.005201387060501242,
            "symbol": "circle"
           },
           "mode": "markers",
           "name": "",
           "showlegend": false,
           "type": "scattergeo"
          }
         ],
         "name": "1931"
        },
        {
         "data": [
          {
<<<<<<< HEAD
           "customdata": {
            "bdata": "AAAAAAA0nkAAAAAAAHCnQAAAAAAAcKdAAAAAAAAAAAAAAAAAAAAAAN0OaETE/l3A",
            "dtype": "f8",
            "shape": "1, 6"
           },
=======
           "customdata": [
            [
             1933,
             3000,
             3000,
             0,
             0,
             -119.9807292
            ]
           ],
>>>>>>> 01780f92e57fec73a6ab66ad55bfa65288238e82
           "geo": "geo",
           "hovertemplate": "<b>%{hovertext}</b><br><br>Year=%{customdata[0]}<br>Impact_Score_Log=%{marker.size}<br>Latitude=%{lat}<br>Longitude=%{lon}<br>Impact_Score=%{customdata[1]}<br>Total Deaths=%{customdata[2]}<br>Total Affected=%{customdata[3]}<br>Total Damages ('000 US$)=%{customdata[4]}<br>mmfrom1993-2008average=%{marker.color:.2f}<extra></extra>",
           "hovertext": [
            "Japan"
           ],
           "lat": [
            "39.224"
           ],
           "legendgroup": "",
           "lon": [
            "144.622"
           ],
           "marker": {
<<<<<<< HEAD
            "color": {
             "bdata": "3Q5oRMT+XcA=",
             "dtype": "f8"
            },
            "coloraxis": "coloraxis",
            "size": {
             "bdata": "tL2O1XDRC0A=",
             "dtype": "f8"
            },
=======
            "color": [
             -119.9807292
            ],
            "coloraxis": "coloraxis",
            "size": [
             3.477265995424853
            ],
>>>>>>> 01780f92e57fec73a6ab66ad55bfa65288238e82
            "sizemode": "area",
            "sizeref": 0.005201387060501242,
            "symbol": "circle"
           },
           "mode": "markers",
           "name": "",
           "showlegend": false,
           "type": "scattergeo"
          }
         ],
         "name": "1933"
        },
        {
         "data": [
          {
<<<<<<< HEAD
           "customdata": {
            "bdata": "AAAAAABgnkAAAAAA0KvzQAAAAAAAHJNAAAAAANCr80AAAAAAAAAAAIlX/iGiPF3A",
            "dtype": "f8",
            "shape": "1, 6"
           },
=======
           "customdata": [
            [
             1944,
             80573,
             1223,
             80573,
             0,
             -116.9473958
            ]
           ],
>>>>>>> 01780f92e57fec73a6ab66ad55bfa65288238e82
           "geo": "geo",
           "hovertemplate": "<b>%{hovertext}</b><br><br>Year=%{customdata[0]}<br>Impact_Score_Log=%{marker.size}<br>Latitude=%{lat}<br>Longitude=%{lon}<br>Impact_Score=%{customdata[1]}<br>Total Deaths=%{customdata[2]}<br>Total Affected=%{customdata[3]}<br>Total Damages ('000 US$)=%{customdata[4]}<br>mmfrom1993-2008average=%{marker.color:.2f}<extra></extra>",
           "hovertext": [
            "Japan"
           ],
           "lat": [
            "33.682"
           ],
           "legendgroup": "",
           "lon": [
            "36.204"
           ],
           "marker": {
<<<<<<< HEAD
            "color": {
             "bdata": "iVf+IaI8XcA=",
             "dtype": "f8"
            },
            "coloraxis": "coloraxis",
            "size": {
             "bdata": "YyLtj/GfE0A=",
             "dtype": "f8"
            },
=======
            "color": [
             -116.9473958
            ],
            "coloraxis": "coloraxis",
            "size": [
             4.906194924210101
            ],
>>>>>>> 01780f92e57fec73a6ab66ad55bfa65288238e82
            "sizemode": "area",
            "sizeref": 0.005201387060501242,
            "symbol": "circle"
           },
           "mode": "markers",
           "name": "",
           "showlegend": false,
           "type": "scattergeo"
          }
         ],
         "name": "1944"
        },
        {
         "data": [
          {
<<<<<<< HEAD
           "customdata": {
            "bdata": "AAAAAABonkAAAAAAAGrYQAAAAAAAoGRAAAAAAAAAAAAAAAAAAGrYQFSlFBGRK1fA",
            "dtype": "f8",
            "shape": "1, 6"
           },
=======
           "customdata": [
            [
             1946,
             25000,
             165,
             0,
             25000,
             -92.68072917
            ]
           ],
>>>>>>> 01780f92e57fec73a6ab66ad55bfa65288238e82
           "geo": "geo",
           "hovertemplate": "<b>%{hovertext}</b><br><br>Year=%{customdata[0]}<br>Impact_Score_Log=%{marker.size}<br>Latitude=%{lat}<br>Longitude=%{lon}<br>Impact_Score=%{customdata[1]}<br>Total Deaths=%{customdata[2]}<br>Total Affected=%{customdata[3]}<br>Total Damages ('000 US$)=%{customdata[4]}<br>mmfrom1993-2008average=%{marker.color:.2f}<extra></extra>",
           "hovertext": [
            "United States of America (the)"
           ],
           "lat": [
            "53.492"
           ],
           "legendgroup": "",
           "lon": [
            "-162.832"
           ],
           "marker": {
<<<<<<< HEAD
            "color": {
             "bdata": "VKUUEZErV8A=",
             "dtype": "f8"
            },
            "coloraxis": "coloraxis",
            "size": {
             "bdata": "/v2yI4KXEUA=",
             "dtype": "f8"
            },
=======
            "color": [
             -92.68072917
            ],
            "coloraxis": "coloraxis",
            "size": [
             4.397957380103888
            ],
>>>>>>> 01780f92e57fec73a6ab66ad55bfa65288238e82
            "sizemode": "area",
            "sizeref": 0.005201387060501242,
            "symbol": "circle"
           },
           "mode": "markers",
           "name": "",
           "showlegend": false,
           "type": "scattergeo"
          }
         ],
         "name": "1946"
        },
        {
         "data": [
          {
<<<<<<< HEAD
           "customdata": {
            "bdata": "AAAAAACwnkAAAAAAAGooQQAAAAAAADlAAAAAAABG4UAAAAAAAGooQYfYR0TEvlHAAAAAAACwnkAAAAAAYPsSQQAAAAAAYGBAAAAAAAAAAAAAAAAAYPsSQYfYR0TEvlHA",
            "dtype": "f8",
            "shape": "2, 6"
           },
=======
           "customdata": [
            [
             1964,
             800000,
             25,
             35376,
             800000,
             -70.98072917
            ],
            [
             1964,
             311000,
             131,
             0,
             311000,
             -70.98072917
            ]
           ],
>>>>>>> 01780f92e57fec73a6ab66ad55bfa65288238e82
           "geo": "geo",
           "hovertemplate": "<b>%{hovertext}</b><br><br>Year=%{customdata[0]}<br>Impact_Score_Log=%{marker.size}<br>Latitude=%{lat}<br>Longitude=%{lon}<br>Impact_Score=%{customdata[1]}<br>Total Deaths=%{customdata[2]}<br>Total Affected=%{customdata[3]}<br>Total Damages ('000 US$)=%{customdata[4]}<br>mmfrom1993-2008average=%{marker.color:.2f}<extra></extra>",
           "hovertext": [
            "Japan",
            "United States of America (the)"
           ],
           "lat": [
            "38.67",
            "60.908"
           ],
           "legendgroup": "",
           "lon": [
            "139.195",
            "-147.339"
           ],
           "marker": {
<<<<<<< HEAD
            "color": {
             "bdata": "h9hHRMS+UcCH2EdExL5RwA==",
             "dtype": "f8"
            },
            "coloraxis": "coloraxis",
            "size": {
             "bdata": "jEyMw8OcF0AmP6WLlvgVQA==",
             "dtype": "f8"
            },
=======
            "color": [
             -70.98072917,
             -70.98072917
            ],
            "coloraxis": "coloraxis",
            "size": [
             5.903090529859707,
             5.492761785469872
            ],
>>>>>>> 01780f92e57fec73a6ab66ad55bfa65288238e82
            "sizemode": "area",
            "sizeref": 0.005201387060501242,
            "symbol": "circle"
           },
           "mode": "markers",
           "name": "",
           "showlegend": false,
           "type": "scattergeo"
          }
         ],
         "name": "1964"
        },
        {
         "data": [
          {
<<<<<<< HEAD
           "customdata": {
            "bdata": "AAAAAADcnkAAAAAAAABpQAAAAAAAAGlAAAAAAAAAAAAAAAAAAAAAAPNOcHd37EbA",
            "dtype": "f8",
            "shape": "1, 6"
           },
=======
           "customdata": [
            [
             1975,
             200,
             200,
             0,
             0,
             -45.84739583
            ]
           ],
>>>>>>> 01780f92e57fec73a6ab66ad55bfa65288238e82
           "geo": "geo",
           "hovertemplate": "<b>%{hovertext}</b><br><br>Year=%{customdata[0]}<br>Impact_Score_Log=%{marker.size}<br>Latitude=%{lat}<br>Longitude=%{lon}<br>Impact_Score=%{customdata[1]}<br>Total Deaths=%{customdata[2]}<br>Total Affected=%{customdata[3]}<br>Total Damages ('000 US$)=%{customdata[4]}<br>mmfrom1993-2008average=%{marker.color:.2f}<extra></extra>",
           "hovertext": [
            "Solomon Islands"
           ],
           "lat": [
            "-7.104"
           ],
           "legendgroup": "",
           "lon": [
            "155.152"
           ],
           "marker": {
<<<<<<< HEAD
            "color": {
             "bdata": "805wd3fsRsA=",
             "dtype": "f8"
            },
            "coloraxis": "coloraxis",
            "size": {
             "bdata": "Vy33DfJsAkA=",
             "dtype": "f8"
            },
=======
            "color": [
             -45.84739583
            ],
            "coloraxis": "coloraxis",
            "size": [
             2.303196057420489
            ],
>>>>>>> 01780f92e57fec73a6ab66ad55bfa65288238e82
            "sizemode": "area",
            "sizeref": 0.005201387060501242,
            "symbol": "circle"
           },
           "mode": "markers",
           "name": "",
           "showlegend": false,
           "type": "scattergeo"
          }
         ],
         "name": "1975"
        },
        {
         "data": [
          {
<<<<<<< HEAD
           "customdata": {
            "bdata": "AAAAAADsnkAAAAAAAAAmQAAAAAAAACZAAAAAAAAAAEAAAAAAAAAAADMzMzMzaEfAAAAAAADsnkAAAAAAANiAQAAAAAAA2IBAAAAAAAAAN0AAAAAAAAAAADMzMzMzaEfA",
            "dtype": "f8",
            "shape": "2, 6"
           },
=======
           "customdata": [
            [
             1979,
             11,
             11,
             2,
             0,
             -46.8140625
            ],
            [
             1979,
             539,
             539,
             23,
             0,
             -46.8140625
            ]
           ],
>>>>>>> 01780f92e57fec73a6ab66ad55bfa65288238e82
           "geo": "geo",
           "hovertemplate": "<b>%{hovertext}</b><br><br>Year=%{customdata[0]}<br>Impact_Score_Log=%{marker.size}<br>Latitude=%{lat}<br>Longitude=%{lon}<br>Impact_Score=%{customdata[1]}<br>Total Deaths=%{customdata[2]}<br>Total Affected=%{customdata[3]}<br>Total Damages ('000 US$)=%{customdata[4]}<br>mmfrom1993-2008average=%{marker.color:.2f}<extra></extra>",
           "hovertext": [
            "France",
            "Indonesia"
           ],
           "lat": [
            "43.70 N",
            "8.8"
           ],
           "legendgroup": "",
           "lon": [
            "7.25 E",
            "123.5"
           ],
           "marker": {
<<<<<<< HEAD
            "color": {
             "bdata": "MzMzMzNoR8AzMzMzM2hHwA==",
             "dtype": "f8"
            },
            "coloraxis": "coloraxis",
            "size": {
             "bdata": "f7LjjVNE8T9/33FC8dsFQA==",
             "dtype": "f8"
            },
=======
            "color": [
             -46.8140625,
             -46.8140625
            ],
            "coloraxis": "coloraxis",
            "size": [
             1.0791812460476249,
             2.7323937598229686
            ],
>>>>>>> 01780f92e57fec73a6ab66ad55bfa65288238e82
            "sizemode": "area",
            "sizeref": 0.005201387060501242,
            "symbol": "circle"
           },
           "mode": "markers",
           "name": "",
           "showlegend": false,
           "type": "scattergeo"
          }
         ],
         "name": "1979"
        },
        {
         "data": [
          {
<<<<<<< HEAD
           "customdata": {
            "bdata": "AAAAAAD8nkAAAAAAAGQZQQAAAAAAgFlAAAAAAABAU0AAAAAAAGQZQegu7N3dRzbA",
            "dtype": "f8",
            "shape": "1, 6"
           },
=======
           "customdata": [
            [
             1983,
             416000,
             102,
             77,
             416000,
             -22.28072917
            ]
           ],
>>>>>>> 01780f92e57fec73a6ab66ad55bfa65288238e82
           "geo": "geo",
           "hovertemplate": "<b>%{hovertext}</b><br><br>Year=%{customdata[0]}<br>Impact_Score_Log=%{marker.size}<br>Latitude=%{lat}<br>Longitude=%{lon}<br>Impact_Score=%{customdata[1]}<br>Total Deaths=%{customdata[2]}<br>Total Affected=%{customdata[3]}<br>Total Damages ('000 US$)=%{customdata[4]}<br>mmfrom1993-2008average=%{marker.color:.2f}<extra></extra>",
           "hovertext": [
            "Japan"
           ],
           "lat": [
            "40.462"
           ],
           "legendgroup": "",
           "lon": [
            "139.102"
           ],
           "marker": {
<<<<<<< HEAD
            "color": {
             "bdata": "6C7s3d1HNsA=",
             "dtype": "f8"
            },
            "coloraxis": "coloraxis",
            "size": {
             "bdata": "HTkw4PN5FkA=",
             "dtype": "f8"
            },
=======
            "color": [
             -22.28072917
            ],
            "coloraxis": "coloraxis",
            "size": [
             5.619094374602608
            ],
>>>>>>> 01780f92e57fec73a6ab66ad55bfa65288238e82
            "sizemode": "area",
            "sizeref": 0.005201387060501242,
            "symbol": "circle"
           },
           "mode": "markers",
           "name": "",
           "showlegend": false,
           "type": "scattergeo"
          }
         ],
         "name": "1983"
        },
        {
         "data": [
          {
<<<<<<< HEAD
           "customdata": {
            "bdata": "AAAAAAAkn0AAAAAAgIQuQQAAAAAA4G1AAAAAAAC7vEAAAAAAgIQuQegu7N3dxzbA",
            "dtype": "f8",
            "shape": "1, 6"
           },
=======
           "customdata": [
            [
             1993,
             1000000,
             239,
             7355,
             1000000,
             -22.78072917
            ]
           ],
>>>>>>> 01780f92e57fec73a6ab66ad55bfa65288238e82
           "geo": "geo",
           "hovertemplate": "<b>%{hovertext}</b><br><br>Year=%{customdata[0]}<br>Impact_Score_Log=%{marker.size}<br>Latitude=%{lat}<br>Longitude=%{lon}<br>Impact_Score=%{customdata[1]}<br>Total Deaths=%{customdata[2]}<br>Total Affected=%{customdata[3]}<br>Total Damages ('000 US$)=%{customdata[4]}<br>mmfrom1993-2008average=%{marker.color:.2f}<extra></extra>",
           "hovertext": [
            "Japan"
           ],
           "lat": [
            "42.851 N"
           ],
           "legendgroup": "",
           "lon": [
            "139.197 E"
           ],
           "marker": {
<<<<<<< HEAD
            "color": {
             "bdata": "6C7s3d3HNsA=",
             "dtype": "f8"
            },
            "coloraxis": "coloraxis",
            "size": {
             "bdata": "YB4lHQAAGEA=",
             "dtype": "f8"
            },
=======
            "color": [
             -22.78072917
            ],
            "coloraxis": "coloraxis",
            "size": [
             6.0000004342942646
            ],
>>>>>>> 01780f92e57fec73a6ab66ad55bfa65288238e82
            "sizemode": "area",
            "sizeref": 0.005201387060501242,
            "symbol": "circle"
           },
           "mode": "markers",
           "name": "",
           "showlegend": false,
           "type": "scattergeo"
          }
         ],
         "name": "1993"
        },
        {
         "data": [
          {
<<<<<<< HEAD
           "customdata": {
            "bdata": "AAAAAAAwn0AAAAAAAICHQAAAAAAAABxAAAAAAACAh0AAAAAAAAAAAP1u9BAR5SfA",
            "dtype": "f8",
            "shape": "1, 6"
           },
=======
           "customdata": [
            [
             1996,
             752,
             7,
             752,
             0,
             -11.94739583
            ]
           ],
>>>>>>> 01780f92e57fec73a6ab66ad55bfa65288238e82
           "geo": "geo",
           "hovertemplate": "<b>%{hovertext}</b><br><br>Year=%{customdata[0]}<br>Impact_Score_Log=%{marker.size}<br>Latitude=%{lat}<br>Longitude=%{lon}<br>Impact_Score=%{customdata[1]}<br>Total Deaths=%{customdata[2]}<br>Total Affected=%{customdata[3]}<br>Total Damages ('000 US$)=%{customdata[4]}<br>mmfrom1993-2008average=%{marker.color:.2f}<extra></extra>",
           "hovertext": [
            "Peru"
           ],
           "lat": [
            "9.593 S"
           ],
           "legendgroup": "",
           "lon": [
            "79.587 W"
           ],
           "marker": {
<<<<<<< HEAD
            "color": {
             "bdata": "/W70EBHlJ8A=",
             "dtype": "f8"
            },
            "coloraxis": "coloraxis",
            "size": {
             "bdata": "A6KgFa0DB0A=",
             "dtype": "f8"
            },
=======
            "color": [
             -11.94739583
            ],
            "coloraxis": "coloraxis",
            "size": [
             2.8767949762007006
            ],
>>>>>>> 01780f92e57fec73a6ab66ad55bfa65288238e82
            "sizemode": "area",
            "sizeref": 0.005201387060501242,
            "symbol": "circle"
           },
           "mode": "markers",
           "name": "",
           "showlegend": false,
           "type": "scattergeo"
          }
         ],
         "name": "1996"
        },
        {
         "data": [
          {
<<<<<<< HEAD
           "customdata": {
            "bdata": "AAAAAAA4n0AAAAAAgEXDQAAAAAAADKFAAAAAAIBFw0AAAAAAAAAAAM3MzMzMoCXA",
            "dtype": "f8",
            "shape": "1, 6"
           },
=======
           "customdata": [
            [
             1998,
             9867,
             2182,
             9867,
             0,
             -10.8140625
            ]
           ],
>>>>>>> 01780f92e57fec73a6ab66ad55bfa65288238e82
           "geo": "geo",
           "hovertemplate": "<b>%{hovertext}</b><br><br>Year=%{customdata[0]}<br>Impact_Score_Log=%{marker.size}<br>Latitude=%{lat}<br>Longitude=%{lon}<br>Impact_Score=%{customdata[1]}<br>Total Deaths=%{customdata[2]}<br>Total Affected=%{customdata[3]}<br>Total Damages ('000 US$)=%{customdata[4]}<br>mmfrom1993-2008average=%{marker.color:.2f}<extra></extra>",
           "hovertext": [
            "Papua New Guinea"
           ],
           "lat": [
            "-2.961"
           ],
           "legendgroup": "",
           "lon": [
            "141.926"
           ],
           "marker": {
<<<<<<< HEAD
            "color": {
             "bdata": "zczMzMygJcA=",
             "dtype": "f8"
            },
            "coloraxis": "coloraxis",
            "size": {
             "bdata": "alZkaC70D0A=",
             "dtype": "f8"
            },
=======
            "color": [
             -10.8140625
            ],
            "coloraxis": "coloraxis",
            "size": [
             3.9942291408176986
            ],
>>>>>>> 01780f92e57fec73a6ab66ad55bfa65288238e82
            "sizemode": "area",
            "sizeref": 0.005201387060501242,
            "symbol": "circle"
           },
           "mode": "markers",
           "name": "",
           "showlegend": false,
           "type": "scattergeo"
          }
         ],
         "name": "1998"
        },
        {
         "data": [
          {
<<<<<<< HEAD
           "customdata": {
            "bdata": "AAAAAABIn0AAAAAAAL3BQAAAAAAAACBAAAAAAAC9wUAAAAAAAAAAAJD8k4iIOAFA",
            "dtype": "f8",
            "shape": "1, 6"
           },
=======
           "customdata": [
            [
             2002,
             9082,
             8,
             9082,
             0,
             2.152604167
            ]
           ],
>>>>>>> 01780f92e57fec73a6ab66ad55bfa65288238e82
           "geo": "geo",
           "hovertemplate": "<b>%{hovertext}</b><br><br>Year=%{customdata[0]}<br>Impact_Score_Log=%{marker.size}<br>Latitude=%{lat}<br>Longitude=%{lon}<br>Impact_Score=%{customdata[1]}<br>Total Deaths=%{customdata[2]}<br>Total Affected=%{customdata[3]}<br>Total Damages ('000 US$)=%{customdata[4]}<br>mmfrom1993-2008average=%{marker.color:.2f}<extra></extra>",
           "hovertext": [
            "Indonesia"
           ],
           "lat": [
            "-1.757"
           ],
           "legendgroup": "",
           "lon": [
            "134.297"
           ],
           "marker": {
<<<<<<< HEAD
            "color": {
             "bdata": "kPyTiIg4AUA=",
             "dtype": "f8"
            },
            "coloraxis": "coloraxis",
            "size": {
             "bdata": "lg90IXSqD0A=",
             "dtype": "f8"
            },
=======
            "color": [
             2.152604167
            ],
            "coloraxis": "coloraxis",
            "size": [
             3.958229314188382
            ],
>>>>>>> 01780f92e57fec73a6ab66ad55bfa65288238e82
            "sizemode": "area",
            "sizeref": 0.005201387060501242,
            "symbol": "circle"
           },
           "mode": "markers",
           "name": "",
           "showlegend": false,
           "type": "scattergeo"
          }
         ],
         "name": "2002"
        },
        {
         "data": [
          {
<<<<<<< HEAD
           "customdata": {
            "bdata": "AAAAAABEn0AAAAAAaFwVQQAAAAAAIGJAAAAAAGhcFUEAAAAAgE8SQYXOgoiI4BJA",
            "dtype": "f8",
            "shape": "1, 6"
           },
=======
           "customdata": [
            [
             2001,
             349978,
             145,
             349978,
             300000,
             4.719270833
            ]
           ],
>>>>>>> 01780f92e57fec73a6ab66ad55bfa65288238e82
           "geo": "geo",
           "hovertemplate": "<b>%{hovertext}</b><br><br>Year=%{customdata[0]}<br>Impact_Score_Log=%{marker.size}<br>Latitude=%{lat}<br>Longitude=%{lon}<br>Impact_Score=%{customdata[1]}<br>Total Deaths=%{customdata[2]}<br>Total Affected=%{customdata[3]}<br>Total Damages ('000 US$)=%{customdata[4]}<br>mmfrom1993-2008average=%{marker.color:.2f}<extra></extra>",
           "hovertext": [
            "Peru"
           ],
           "lat": [
            "-16.265"
           ],
           "legendgroup": "",
           "lon": [
            "-73.641"
           ],
           "marker": {
<<<<<<< HEAD
            "color": {
             "bdata": "hc6CiIjgEkA=",
             "dtype": "f8"
            },
            "coloraxis": "coloraxis",
            "size": {
             "bdata": "1FukVxktFkA=",
             "dtype": "f8"
            },
=======
            "color": [
             4.719270833
            ],
            "coloraxis": "coloraxis",
            "size": [
             5.5440419858996
            ],
>>>>>>> 01780f92e57fec73a6ab66ad55bfa65288238e82
            "sizemode": "area",
            "sizeref": 0.005201387060501242,
            "symbol": "circle"
           },
           "mode": "markers",
           "name": "",
           "showlegend": false,
           "type": "scattergeo"
          }
         ],
         "name": "2001"
        },
        {
         "data": [
          {
<<<<<<< HEAD
           "customdata": {
            "bdata": "AAAAAABQn0AAAAAARPtQQQAAAABgOgRBAAAAAERDIEEAAAAARPtQQTbEPiIiTitAAAAAAABQn0AAAAAAAGr4QAAAAAAAAPA/AAAAAAAAAAAAAAAAAGr4QDbEPiIiTitAAAAAAABQn0AAAAAAgIQeQQAAAAAAAABAAAAAAAAAAAAAAAAAgIQeQTbEPiIiTitAAAAAAABQn0AAAAAAoDYvQQAAAABAAdBAAAAAAGD5I0EAAAAAoDYvQTbEPiIiTitAAAAAAABQn0AAAAAAlBY0QQAAAADgSOFAAAAAAFQbL0EAAAAAlBY0QTbEPiIiTitAAAAAAABQn0AAAAAAULEcQQAAAAAAgFlAAAAAAICT2kAAAAAAULEcQTbEPiIiTitAAAAAAABQn0AAAAAAgIQeQQAAAAAAAFRAAAAAAADHs0AAAAAAgIQeQTbEPiIiTitAAAAAAABQn0AAAAAAgIQuQQAAAACATMBAAAAAAPBb8EAAAAAAgIQuQTbEPiIiTitAAAAAAABQn0AAAAAAgIQeQQAAAAAAwFFAAAAAAACqzkAAAAAAgIQeQTbEPiIiTitAAAAAAABQn0AAAAAAsKf5QAAAAAAAoHJAAAAAALCn+UAAAAAAAGr4QDbEPiIiTitAAAAAAABQn0AAAAAAAEzdQAAAAAAAAAhAAAAAAADeskAAAAAAAEzdQDbEPiIiTitAAAAAAABQn0AAAAAAAAAkQAAAAAAAACRAAAAAAAAAAAAAAAAAAAAAADbEPiIiTitA",
            "dtype": "f8",
            "shape": "12, 6"
           },
=======
           "customdata": [
            [
             2004,
             4451600,
             165708,
             532898,
             4451600,
             13.65260417
            ],
            [
             2004,
             100000,
             1,
             0,
             100000,
             13.65260417
            ],
            [
             2004,
             500000,
             2,
             0,
             500000,
             13.65260417
            ],
            [
             2004,
             1022800,
             16389,
             654512,
             1022800,
             13.65260417
            ],
            [
             2004,
             1316500,
             35399,
             1019306,
             1316500,
             13.65260417
            ],
            [
             2004,
             470100,
             102,
             27214,
             470100,
             13.65260417
            ],
            [
             2004,
             500000,
             80,
             5063,
             500000,
             13.65260417
            ],
            [
             2004,
             1000000,
             8345,
             67007,
             1000000,
             13.65260417
            ],
            [
             2004,
             500000,
             71,
             15700,
             500000,
             13.65260417
            ],
            [
             2004,
             105083,
             298,
             105083,
             100000,
             13.65260417
            ],
            [
             2004,
             30000,
             3,
             4830,
             30000,
             13.65260417
            ],
            [
             2004,
             10,
             10,
             0,
             0,
             13.65260417
            ]
           ],
>>>>>>> 01780f92e57fec73a6ab66ad55bfa65288238e82
           "geo": "geo",
           "hovertemplate": "<b>%{hovertext}</b><br><br>Year=%{customdata[0]}<br>Impact_Score_Log=%{marker.size}<br>Latitude=%{lat}<br>Longitude=%{lon}<br>Impact_Score=%{customdata[1]}<br>Total Deaths=%{customdata[2]}<br>Total Affected=%{customdata[3]}<br>Total Damages ('000 US$)=%{customdata[4]}<br>mmfrom1993-2008average=%{marker.color:.2f}<extra></extra>",
           "hovertext": [
            "Indonesia",
            "Kenya",
            "Bangladesh",
            "India",
            "Sri Lanka",
            "Maldives",
            "Malaysia",
            "Thailand",
            "Myanmar",
            "Somalia",
            "Seychelles",
            "Tanzania, United Republic of"
           ],
           "lat": [
            "3.295",
            "3.295",
            "3.295",
            "3.295",
            "3.295",
            "3.295",
            "3.295",
            "3.295",
            "3.295",
            "3.295",
            "3.295",
            "3.295"
           ],
           "legendgroup": "",
           "lon": [
            "95.982",
            "95.982",
            "95.982",
            "95.982",
            "95.982",
            "95.982",
            "95.982",
            "95.982",
            "95.982",
            "95.982",
            "95.982",
            "95.982"
           ],
           "marker": {
<<<<<<< HEAD
            "color": {
             "bdata": "NsQ+IiJOK0A2xD4iIk4rQDbEPiIiTitANsQ+IiJOK0A2xD4iIk4rQDbEPiIiTitANsQ+IiJOK0A2xD4iIk4rQDbEPiIiTitANsQ+IiJOK0A2xD4iIk4rQDbEPiIiTitA",
             "dtype": "f8"
            },
            "coloraxis": "coloraxis",
            "size": {
             "bdata": "GW6RoxSYGkDP2XIjAQAUQDhDQAW/yxZAfoWMsAYKGEB1Kp+MSXoYQE6CJeJSsBZAOENABb/LFkBgHiUdAAAYQDhDQAW/yxZAqb55sA0WFECg7OBElugRQG/FUGCLqfA/",
             "dtype": "f8"
            },
=======
            "color": [
             13.65260417,
             13.65260417,
             13.65260417,
             13.65260417,
             13.65260417,
             13.65260417,
             13.65260417,
             13.65260417,
             13.65260417,
             13.65260417,
             13.65260417,
             13.65260417
            ],
            "coloraxis": "coloraxis",
            "size": [
             6.648516231299731,
             5.000004342923105,
             5.698970872924114,
             6.009791143967389,
             6.1194211933276295,
             5.672191175021522,
             5.698970872924114,
             6.0000004342942646,
             5.698970872924114,
             5.021536595755301,
             4.477135730961123,
             1.0413926851582251
            ],
>>>>>>> 01780f92e57fec73a6ab66ad55bfa65288238e82
            "sizemode": "area",
            "sizeref": 0.005201387060501242,
            "symbol": "circle"
           },
           "mode": "markers",
           "name": "",
           "showlegend": false,
           "type": "scattergeo"
          }
         ],
         "name": "2004"
        },
        {
         "data": [
          {
<<<<<<< HEAD
           "customdata": {
            "bdata": "AAAAAABYn0AAAAAAAMiSQAAAAAAAAAhAAAAAAADIkkAAAAAAAAAAANwA293dCSNAAAAAAABYn0AAAAAAANvqQAAAAAAAEIlAAAAAAOBa4UAAAAAAANvqQNwA293dCSNA",
            "dtype": "f8",
            "shape": "2, 6"
           },
=======
           "customdata": [
            [
             2006,
             1202,
             3,
             1202,
             0,
             9.519270833
            ],
            [
             2006,
             55000,
             802,
             35543,
             55000,
             9.519270833
            ]
           ],
>>>>>>> 01780f92e57fec73a6ab66ad55bfa65288238e82
           "geo": "geo",
           "hovertemplate": "<b>%{hovertext}</b><br><br>Year=%{customdata[0]}<br>Impact_Score_Log=%{marker.size}<br>Latitude=%{lat}<br>Longitude=%{lon}<br>Impact_Score=%{customdata[1]}<br>Total Deaths=%{customdata[2]}<br>Total Affected=%{customdata[3]}<br>Total Damages ('000 US$)=%{customdata[4]}<br>mmfrom1993-2008average=%{marker.color:.2f}<extra></extra>",
           "hovertext": [
            "Indonesia",
            "Indonesia"
           ],
           "lat": [
            "-3.595",
            "-9.284"
           ],
           "legendgroup": "",
           "lon": [
            "127.214",
            "107.419"
           ],
           "marker": {
<<<<<<< HEAD
            "color": {
             "bdata": "3ADb3d0JI0DcANvd3QkjQA==",
             "dtype": "f8"
            },
            "coloraxis": "coloraxis",
            "size": {
             "bdata": "KFcjTmKkCEBRw/G0I/YSQA==",
             "dtype": "f8"
            },
=======
            "color": [
             9.519270833,
             9.519270833
            ],
            "coloraxis": "coloraxis",
            "size": [
             3.0802656273398448,
             4.740370585685768
            ],
>>>>>>> 01780f92e57fec73a6ab66ad55bfa65288238e82
            "sizemode": "area",
            "sizeref": 0.005201387060501242,
            "symbol": "circle"
           },
           "mode": "markers",
           "name": "",
           "showlegend": false,
           "type": "scattergeo"
          }
         ],
         "name": "2006"
        },
        {
         "data": [
          {
<<<<<<< HEAD
           "customdata": {
            "bdata": "AAAAAABcn0AAAAAAAKCiQAAAAAAAAEpAAAAAAACgokAAAAAAAAAAADMzMzMzyTZAAAAAAABcn0AAAAAAAAAkQAAAAAAAACRAAAAAAAAAAAAAAAAAAAAAADMzMzMzyTZA",
            "dtype": "f8",
            "shape": "2, 6"
           },
=======
           "customdata": [
            [
             2007,
             2384,
             52,
             2384,
             0,
             22.7859375
            ],
            [
             2007,
             10,
             10,
             0,
             0,
             22.7859375
            ]
           ],
>>>>>>> 01780f92e57fec73a6ab66ad55bfa65288238e82
           "geo": "geo",
           "hovertemplate": "<b>%{hovertext}</b><br><br>Year=%{customdata[0]}<br>Impact_Score_Log=%{marker.size}<br>Latitude=%{lat}<br>Longitude=%{lon}<br>Impact_Score=%{customdata[1]}<br>Total Deaths=%{customdata[2]}<br>Total Affected=%{customdata[3]}<br>Total Damages ('000 US$)=%{customdata[4]}<br>mmfrom1993-2008average=%{marker.color:.2f}<extra></extra>",
           "hovertext": [
            "Solomon Islands",
            "Chile"
           ],
           "lat": [
            "-8.466",
            "-45.243"
           ],
           "legendgroup": "",
           "lon": [
            "157.043",
            "-72.648"
           ],
           "marker": {
<<<<<<< HEAD
            "color": {
             "bdata": "MzMzMzPJNkAzMzMzM8k2QA==",
             "dtype": "f8"
            },
            "coloraxis": "coloraxis",
            "size": {
             "bdata": "YcMpoRgFC0BvxVBgi6nwPw==",
             "dtype": "f8"
            },
=======
            "color": [
             22.7859375,
             22.7859375
            ],
            "coloraxis": "coloraxis",
            "size": [
             3.3774883833761327,
             1.0413926851582251
            ],
>>>>>>> 01780f92e57fec73a6ab66ad55bfa65288238e82
            "sizemode": "area",
            "sizeref": 0.005201387060501242,
            "symbol": "circle"
           },
           "mode": "markers",
           "name": "",
           "showlegend": false,
           "type": "scattergeo"
          }
         ],
         "name": "2007"
        },
        {
         "data": [
          {
<<<<<<< HEAD
           "customdata": {
            "bdata": "AAAAAABkn0AAAAAAAIijQAAAAAAAAEFAAAAAAACIo0AAAAAAAAAAAA2xj4iI00BAAAAAAABkn0AAAAAAAGoYQQAAAAAAAPA/AAAAAMC52EAAAAAAAGoYQQ2xj4iI00BAAAAAAABkn0AAAAAAAI7CQAAAAAAAACJAAAAAAACwf0AAAAAAAI7CQA2xj4iI00BAAAAAAABkn0AAAAAAgEj+QAAAAAAAgGJAAAAAAADQtUAAAAAAgEj+QA2xj4iI00BA",
            "dtype": "f8",
            "shape": "4, 6"
           },
=======
           "customdata": [
            [
             2009,
             2500,
             34,
             2500,
             0,
             33.65260417
            ],
            [
             2009,
             400000,
             1,
             25319,
             400000,
             33.65260417
            ],
            [
             2009,
             9500,
             9,
             507,
             9500,
             33.65260417
            ],
            [
             2009,
             124040,
             148,
             5584,
             124040,
             33.65260417
            ]
           ],
>>>>>>> 01780f92e57fec73a6ab66ad55bfa65288238e82
           "geo": "geo",
           "hovertemplate": "<b>%{hovertext}</b><br><br>Year=%{customdata[0]}<br>Impact_Score_Log=%{marker.size}<br>Latitude=%{lat}<br>Longitude=%{lon}<br>Impact_Score=%{customdata[1]}<br>Total Deaths=%{customdata[2]}<br>Total Affected=%{customdata[3]}<br>Total Damages ('000 US$)=%{customdata[4]}<br>mmfrom1993-2008average=%{marker.color:.2f}<extra></extra>",
           "hovertext": [
            "American Samoa",
            "Japan",
            "Tonga",
            "Samoa"
           ],
           "lat": [
            "-15.489",
            "34.743",
            "-15.489",
            "-15.489"
           ],
           "legendgroup": "",
           "lon": [
            "-172.095",
            "138.264",
            "-172.095",
            "-172.095"
           ],
           "marker": {
<<<<<<< HEAD
            "color": {
             "bdata": "DbGPiIjTQEANsY+IiNNAQA2xj4iI00BADbGPiIjTQEA=",
             "dtype": "f8"
            },
            "coloraxis": "coloraxis",
            "size": {
             "bdata": "JJQwO1YvC0Cct/CygmgWQF/iYbh40g9A6Uo6ks9fFEA=",
             "dtype": "f8"
            },
=======
            "color": [
             33.65260417,
             33.65260417,
             33.65260417,
             33.65260417
            ],
            "coloraxis": "coloraxis",
            "size": [
             3.3981136917305026,
             5.60206107706281,
             3.9777693180915743,
             5.093565258796596
            ],
>>>>>>> 01780f92e57fec73a6ab66ad55bfa65288238e82
            "sizemode": "area",
            "sizeref": 0.005201387060501242,
            "symbol": "circle"
           },
           "mode": "markers",
           "name": "",
           "showlegend": false,
           "type": "scattergeo"
          }
         ],
         "name": "2009"
        },
        {
         "data": [
          {
<<<<<<< HEAD
           "customdata": {
            "bdata": "AAAAAABon0AAAAAAOJx8QQAAAAAAkIFAAAAAAOJhREEAAAAAOJx8Qcpkgitq8EBAAAAAAABon0AAAAAAACzHQAAAAAAAkIBAAAAAAAAsx0AAAAAAAAAAAMpkgitq8EBA",
            "dtype": "f8",
            "shape": "2, 6"
           },
=======
           "customdata": [
            [
             2010,
             30000000,
             562,
             2671556,
             30000000,
             33.87824005
            ],
            [
             2010,
             11864,
             530,
             11864,
             0,
             33.87824005
            ]
           ],
>>>>>>> 01780f92e57fec73a6ab66ad55bfa65288238e82
           "geo": "geo",
           "hovertemplate": "<b>%{hovertext}</b><br><br>Year=%{customdata[0]}<br>Impact_Score_Log=%{marker.size}<br>Latitude=%{lat}<br>Longitude=%{lon}<br>Impact_Score=%{customdata[1]}<br>Total Deaths=%{customdata[2]}<br>Total Affected=%{customdata[3]}<br>Total Damages ('000 US$)=%{customdata[4]}<br>mmfrom1993-2008average=%{marker.color:.2f}<extra></extra>",
           "hovertext": [
            "Chile",
            "Indonesia"
           ],
           "lat": [
            "-36.122",
            "-3.487"
           ],
           "legendgroup": "",
           "lon": [
            "-72.898",
            "100.082"
           ],
           "marker": {
<<<<<<< HEAD
            "color": {
             "bdata": "ymSCK2rwQEDKZIIravBAQA==",
             "dtype": "f8"
            },
            "coloraxis": "coloraxis",
            "size": {
             "bdata": "nrFdepLoHUBeqNXXDEwQQA==",
             "dtype": "f8"
            },
=======
            "color": [
             33.87824005,
             33.87824005
            ],
            "coloraxis": "coloraxis",
            "size": [
             7.477121269196145,
             4.074267742553358
            ],
>>>>>>> 01780f92e57fec73a6ab66ad55bfa65288238e82
            "sizemode": "area",
            "sizeref": 0.005201387060501242,
            "symbol": "circle"
           },
           "mode": "markers",
           "name": "",
           "showlegend": false,
           "type": "scattergeo"
          }
         ],
         "name": "2010"
        },
        {
         "data": [
          {
<<<<<<< HEAD
           "customdata": {
            "bdata": "AAAAAABsn0AAAAAAAMBXQAAAAAAAAPA/AAAAAADAV0AAAAAAAAAAAPkwe9n2W0JAAAAAAABsn0AAAAAAsQipQQAAAACAYdNAAAAAANCCFkEAAAAAsQipQfkwe9n2W0JA",
            "dtype": "f8",
            "shape": "2, 6"
           },
=======
           "customdata": [
            [
             2011,
             95,
             1,
             95,
             0,
             36.71847075
            ],
            [
             2011,
             210000000,
             19846,
             368820,
             210000000,
             36.71847075
            ]
           ],
>>>>>>> 01780f92e57fec73a6ab66ad55bfa65288238e82
           "geo": "geo",
           "hovertemplate": "<b>%{hovertext}</b><br><br>Year=%{customdata[0]}<br>Impact_Score_Log=%{marker.size}<br>Latitude=%{lat}<br>Longitude=%{lon}<br>Impact_Score=%{customdata[1]}<br>Total Deaths=%{customdata[2]}<br>Total Affected=%{customdata[3]}<br>Total Damages ('000 US$)=%{customdata[4]}<br>mmfrom1993-2008average=%{marker.color:.2f}<extra></extra>",
           "hovertext": [
            "Indonesia",
            "Japan"
           ],
           "lat": [
            "38.297",
            "38.297"
           ],
           "legendgroup": "",
           "lon": [
            "142.373",
            "142.373"
           ],
           "marker": {
<<<<<<< HEAD
            "color": {
             "bdata": "+TB72fZbQkD5MHvZ9ltCQA==",
             "dtype": "f8"
            },
            "coloraxis": "coloraxis",
            "size": {
             "bdata": "/k1bCmK3/z8vz3vt+aQgQA==",
             "dtype": "f8"
            },
=======
            "color": [
             36.71847075,
             36.71847075
            ],
            "coloraxis": "coloraxis",
            "size": [
             1.9822712330395684,
             8.322219296801988
            ],
>>>>>>> 01780f92e57fec73a6ab66ad55bfa65288238e82
            "sizemode": "area",
            "sizeref": 0.005201387060501242,
            "symbol": "circle"
           },
           "mode": "markers",
           "name": "",
           "showlegend": false,
           "type": "scattergeo"
          }
         ],
         "name": "2011"
        },
        {
         "data": [
          {
<<<<<<< HEAD
           "customdata": {
            "bdata": "AAAAAAB0n0AAAAAAAAKqQAAAAAAAACRAAAAAAAACqkAAAAAAAECfQLSKxCVDq0RA",
            "dtype": "f8",
            "shape": "1, 6"
           },
=======
           "customdata": [
            [
             2013,
             3329,
             10,
             3329,
             2000,
             41.33798668
            ]
           ],
>>>>>>> 01780f92e57fec73a6ab66ad55bfa65288238e82
           "geo": "geo",
           "hovertemplate": "<b>%{hovertext}</b><br><br>Year=%{customdata[0]}<br>Impact_Score_Log=%{marker.size}<br>Latitude=%{lat}<br>Longitude=%{lon}<br>Impact_Score=%{customdata[1]}<br>Total Deaths=%{customdata[2]}<br>Total Affected=%{customdata[3]}<br>Total Damages ('000 US$)=%{customdata[4]}<br>mmfrom1993-2008average=%{marker.color:.2f}<extra></extra>",
           "hovertext": [
            "Solomon Islands"
           ],
           "lat": [
            "-10.799"
           ],
           "legendgroup": "",
           "lon": [
            "165.114"
           ],
           "marker": {
<<<<<<< HEAD
            "color": {
             "bdata": "tIrEJUOrREA=",
             "dtype": "f8"
            },
            "coloraxis": "coloraxis",
            "size": {
             "bdata": "vyUHPvctDEA=",
             "dtype": "f8"
            },
=======
            "color": [
             41.33798668
            ],
            "coloraxis": "coloraxis",
            "size": [
             3.5224442335063197
            ],
>>>>>>> 01780f92e57fec73a6ab66ad55bfa65288238e82
            "sizemode": "area",
            "sizeref": 0.005201387060501242,
            "symbol": "circle"
           },
           "mode": "markers",
           "name": "",
           "showlegend": false,
           "type": "scattergeo"
          }
         ],
         "name": "2013"
        },
        {
         "data": [
          {
<<<<<<< HEAD
           "customdata": {
            "bdata": "AAAAAAB8n0AAAAAAAGooQQAAAAAAADNAAAAAADbMJEEAAAAAAGooQY6D4CsZO0lA",
            "dtype": "f8",
            "shape": "1, 6"
           },
=======
           "customdata": [
            [
             2015,
             800000,
             19,
             681499,
             800000,
             50.46170567
            ]
           ],
>>>>>>> 01780f92e57fec73a6ab66ad55bfa65288238e82
           "geo": "geo",
           "hovertemplate": "<b>%{hovertext}</b><br><br>Year=%{customdata[0]}<br>Impact_Score_Log=%{marker.size}<br>Latitude=%{lat}<br>Longitude=%{lon}<br>Impact_Score=%{customdata[1]}<br>Total Deaths=%{customdata[2]}<br>Total Affected=%{customdata[3]}<br>Total Damages ('000 US$)=%{customdata[4]}<br>mmfrom1993-2008average=%{marker.color:.2f}<extra></extra>",
           "hovertext": [
            "Chile"
           ],
           "lat": [
            "-31.5729"
           ],
           "legendgroup": "",
           "lon": [
            "-71.6744"
           ],
           "marker": {
<<<<<<< HEAD
            "color": {
             "bdata": "joPgKxk7SUA=",
             "dtype": "f8"
            },
            "coloraxis": "coloraxis",
            "size": {
             "bdata": "jEyMw8OcF0A=",
             "dtype": "f8"
            },
=======
            "color": [
             50.46170567
            ],
            "coloraxis": "coloraxis",
            "size": [
             5.903090529859707
            ],
>>>>>>> 01780f92e57fec73a6ab66ad55bfa65288238e82
            "sizemode": "area",
            "sizeref": 0.005201387060501242,
            "symbol": "circle"
           },
           "mode": "markers",
           "name": "",
           "showlegend": false,
           "type": "scattergeo"
          }
         ],
         "name": "2015"
        },
        {
         "data": [
          {
<<<<<<< HEAD
           "customdata": {
            "bdata": "AAAAAACAn0AAAAAAMMFNQQAAAAAAAABAAAAAAAAASUAAAAAAMMFNQWvGN05pLEtA",
            "dtype": "f8",
            "shape": "1, 6"
           },
=======
           "customdata": [
            [
             2016,
             3900000,
             2,
             50,
             3900000,
             54.34696367
            ]
           ],
>>>>>>> 01780f92e57fec73a6ab66ad55bfa65288238e82
           "geo": "geo",
           "hovertemplate": "<b>%{hovertext}</b><br><br>Year=%{customdata[0]}<br>Impact_Score_Log=%{marker.size}<br>Latitude=%{lat}<br>Longitude=%{lon}<br>Impact_Score=%{customdata[1]}<br>Total Deaths=%{customdata[2]}<br>Total Affected=%{customdata[3]}<br>Total Damages ('000 US$)=%{customdata[4]}<br>mmfrom1993-2008average=%{marker.color:.2f}<extra></extra>",
           "hovertext": [
            "New Zealand"
           ],
           "lat": [
            "-42.725"
           ],
           "legendgroup": "",
           "lon": [
            "173.064"
           ],
           "marker": {
<<<<<<< HEAD
            "color": {
             "bdata": "a8Y3TmksS0A=",
             "dtype": "f8"
            },
            "coloraxis": "coloraxis",
            "size": {
             "bdata": "nR3NEUBdGkA=",
             "dtype": "f8"
            },
=======
            "color": [
             54.34696367
            ],
            "coloraxis": "coloraxis",
            "size": [
             6.591064718384044
            ],
>>>>>>> 01780f92e57fec73a6ab66ad55bfa65288238e82
            "sizemode": "area",
            "sizeref": 0.005201387060501242,
            "symbol": "circle"
           },
           "mode": "markers",
           "name": "",
           "showlegend": false,
           "type": "scattergeo"
          }
         ],
         "name": "2016"
        },
        {
         "data": [
          {
<<<<<<< HEAD
           "customdata": {
            "bdata": "AAAAAACIn0AAAAAAgIQ+QQAAAAAALLBAAAAAAICEPkEAAAAAECA2Qagi7EblikpA",
            "dtype": "f8",
            "shape": "1, 6"
           },
=======
           "customdata": [
            [
             2018,
             2000000,
             4140,
             2000000,
             1450000,
             53.08512198
            ]
           ],
>>>>>>> 01780f92e57fec73a6ab66ad55bfa65288238e82
           "geo": "geo",
           "hovertemplate": "<b>%{hovertext}</b><br><br>Year=%{customdata[0]}<br>Impact_Score_Log=%{marker.size}<br>Latitude=%{lat}<br>Longitude=%{lon}<br>Impact_Score=%{customdata[1]}<br>Total Deaths=%{customdata[2]}<br>Total Affected=%{customdata[3]}<br>Total Damages ('000 US$)=%{customdata[4]}<br>mmfrom1993-2008average=%{marker.color:.2f}<extra></extra>",
           "hovertext": [
            "Indonesia"
           ],
           "lat": [
            "-178"
           ],
           "legendgroup": "",
           "lon": [
            "119.84"
           ],
           "marker": {
<<<<<<< HEAD
            "color": {
             "bdata": "qCLsRuWKSkA=",
             "dtype": "f8"
            },
            "coloraxis": "coloraxis",
            "size": {
             "bdata": "DYecQ0E0GUA=",
             "dtype": "f8"
            },
=======
            "color": [
             53.08512198
            ],
            "coloraxis": "coloraxis",
            "size": [
             6.301030212811168
            ],
>>>>>>> 01780f92e57fec73a6ab66ad55bfa65288238e82
            "sizemode": "area",
            "sizeref": 0.005201387060501242,
            "symbol": "circle"
           },
           "mode": "markers",
           "name": "",
           "showlegend": false,
           "type": "scattergeo"
          }
         ],
         "name": "2018"
        },
        {
         "data": [
          {
<<<<<<< HEAD
           "customdata": {
            "bdata": "AAAAAACYnkAAAAAAAMBbQAAAAAAAwFtAAAAAAAAAR0AAAAAAAAAAAAAAAACAOlLA",
            "dtype": "f8",
            "shape": "1, 6"
           },
=======
           "customdata": [
            [
             1958,
             111,
             111,
             46,
             0,
             -72.9140625
            ]
           ],
>>>>>>> 01780f92e57fec73a6ab66ad55bfa65288238e82
           "geo": "geo",
           "hovertemplate": "<b>%{hovertext}</b><br><br>Year=%{customdata[0]}<br>Impact_Score_Log=%{marker.size}<br>Latitude=%{lat}<br>Longitude=%{lon}<br>Impact_Score=%{customdata[1]}<br>Total Deaths=%{customdata[2]}<br>Total Affected=%{customdata[3]}<br>Total Damages ('000 US$)=%{customdata[4]}<br>mmfrom1993-2008average=%{marker.color:.2f}<extra></extra>",
           "hovertext": [
            "Colombia"
           ],
           "lat": [
            "1.5"
           ],
           "legendgroup": "",
           "lon": [
            "-79.5"
           ],
           "marker": {
<<<<<<< HEAD
            "color": {
             "bdata": "AAAAAIA6UsA=",
             "dtype": "f8"
            },
            "coloraxis": "coloraxis",
            "size": {
             "bdata": "D/Ata8xkAEA=",
             "dtype": "f8"
            },
=======
            "color": [
             -72.9140625
            ],
            "coloraxis": "coloraxis",
            "size": [
             2.0492180226701815
            ],
>>>>>>> 01780f92e57fec73a6ab66ad55bfa65288238e82
            "sizemode": "area",
            "sizeref": 0.005201387060501242,
            "symbol": "circle"
           },
           "mode": "markers",
           "name": "",
           "showlegend": false,
           "type": "scattergeo"
          }
         ],
         "name": "1958"
        }
       ],
       "layout": {
        "coloraxis": {
         "colorbar": {
          "title": {
           "text": "mmfrom1993-2008average"
          }
         },
         "colorscale": [
          [
           0,
           "#440154"
          ],
          [
           0.1111111111111111,
           "#482878"
          ],
          [
           0.2222222222222222,
           "#3e4989"
          ],
          [
           0.3333333333333333,
           "#31688e"
          ],
          [
           0.4444444444444444,
           "#26828e"
          ],
          [
           0.5555555555555556,
           "#1f9e89"
          ],
          [
           0.6666666666666666,
           "#35b779"
          ],
          [
           0.7777777777777778,
           "#6ece58"
          ],
          [
           0.8888888888888888,
           "#b5de2b"
          ],
          [
           1,
           "#fde725"
          ]
         ]
        },
        "geo": {
         "center": {},
         "domain": {
          "x": [
           0,
           1
          ],
          "y": [
           0,
           1
          ]
         },
         "projection": {
          "type": "natural earth"
         }
        },
        "height": 700,
        "legend": {
         "itemsizing": "constant",
         "tracegroupgap": 0
        },
        "sliders": [
         {
          "active": 0,
          "currentvalue": {
           "prefix": "Year="
          },
          "len": 0.9,
          "pad": {
           "b": 10,
           "t": 60
          },
          "steps": [
           {
            "args": [
             [
              "1928"
             ],
             {
              "frame": {
               "duration": 0,
               "redraw": true
              },
              "fromcurrent": true,
              "mode": "immediate",
              "transition": {
               "duration": 0,
               "easing": "linear"
              }
             }
            ],
            "label": "1928",
            "method": "animate"
           },
           {
            "args": [
             [
              "1960"
             ],
             {
              "frame": {
               "duration": 0,
               "redraw": true
              },
              "fromcurrent": true,
              "mode": "immediate",
              "transition": {
               "duration": 0,
               "easing": "linear"
              }
             }
            ],
            "label": "1960",
            "method": "animate"
           },
           {
            "args": [
             [
              "1968"
             ],
             {
              "frame": {
               "duration": 0,
               "redraw": true
              },
              "fromcurrent": true,
              "mode": "immediate",
              "transition": {
               "duration": 0,
               "easing": "linear"
              }
             }
            ],
            "label": "1968",
            "method": "animate"
           },
           {
            "args": [
             [
              "1969"
             ],
             {
              "frame": {
               "duration": 0,
               "redraw": true
              },
              "fromcurrent": true,
              "mode": "immediate",
              "transition": {
               "duration": 0,
               "easing": "linear"
              }
             }
            ],
            "label": "1969",
            "method": "animate"
           },
           {
            "args": [
             [
              "1901"
             ],
             {
              "frame": {
               "duration": 0,
               "redraw": true
              },
              "fromcurrent": true,
              "mode": "immediate",
              "transition": {
               "duration": 0,
               "easing": "linear"
              }
             }
            ],
            "label": "1901",
            "method": "animate"
           },
           {
            "args": [
             [
              "1905"
             ],
             {
              "frame": {
               "duration": 0,
               "redraw": true
              },
              "fromcurrent": true,
              "mode": "immediate",
              "transition": {
               "duration": 0,
               "easing": "linear"
              }
             }
            ],
            "label": "1905",
            "method": "animate"
           },
           {
            "args": [
             [
              "1931"
             ],
             {
              "frame": {
               "duration": 0,
               "redraw": true
              },
              "fromcurrent": true,
              "mode": "immediate",
              "transition": {
               "duration": 0,
               "easing": "linear"
              }
             }
            ],
            "label": "1931",
            "method": "animate"
           },
           {
            "args": [
             [
              "1933"
             ],
             {
              "frame": {
               "duration": 0,
               "redraw": true
              },
              "fromcurrent": true,
              "mode": "immediate",
              "transition": {
               "duration": 0,
               "easing": "linear"
              }
             }
            ],
            "label": "1933",
            "method": "animate"
           },
           {
            "args": [
             [
              "1944"
             ],
             {
              "frame": {
               "duration": 0,
               "redraw": true
              },
              "fromcurrent": true,
              "mode": "immediate",
              "transition": {
               "duration": 0,
               "easing": "linear"
              }
             }
            ],
            "label": "1944",
            "method": "animate"
           },
           {
            "args": [
             [
              "1946"
             ],
             {
              "frame": {
               "duration": 0,
               "redraw": true
              },
              "fromcurrent": true,
              "mode": "immediate",
              "transition": {
               "duration": 0,
               "easing": "linear"
              }
             }
            ],
            "label": "1946",
            "method": "animate"
           },
           {
            "args": [
             [
              "1964"
             ],
             {
              "frame": {
               "duration": 0,
               "redraw": true
              },
              "fromcurrent": true,
              "mode": "immediate",
              "transition": {
               "duration": 0,
               "easing": "linear"
              }
             }
            ],
            "label": "1964",
            "method": "animate"
           },
           {
            "args": [
             [
              "1975"
             ],
             {
              "frame": {
               "duration": 0,
               "redraw": true
              },
              "fromcurrent": true,
              "mode": "immediate",
              "transition": {
               "duration": 0,
               "easing": "linear"
              }
             }
            ],
            "label": "1975",
            "method": "animate"
           },
           {
            "args": [
             [
              "1979"
             ],
             {
              "frame": {
               "duration": 0,
               "redraw": true
              },
              "fromcurrent": true,
              "mode": "immediate",
              "transition": {
               "duration": 0,
               "easing": "linear"
              }
             }
            ],
            "label": "1979",
            "method": "animate"
           },
           {
            "args": [
             [
              "1983"
             ],
             {
              "frame": {
               "duration": 0,
               "redraw": true
              },
              "fromcurrent": true,
              "mode": "immediate",
              "transition": {
               "duration": 0,
               "easing": "linear"
              }
             }
            ],
            "label": "1983",
            "method": "animate"
           },
           {
            "args": [
             [
              "1993"
             ],
             {
              "frame": {
               "duration": 0,
               "redraw": true
              },
              "fromcurrent": true,
              "mode": "immediate",
              "transition": {
               "duration": 0,
               "easing": "linear"
              }
             }
            ],
            "label": "1993",
            "method": "animate"
           },
           {
            "args": [
             [
              "1996"
             ],
             {
              "frame": {
               "duration": 0,
               "redraw": true
              },
              "fromcurrent": true,
              "mode": "immediate",
              "transition": {
               "duration": 0,
               "easing": "linear"
              }
             }
            ],
            "label": "1996",
            "method": "animate"
           },
           {
            "args": [
             [
              "1998"
             ],
             {
              "frame": {
               "duration": 0,
               "redraw": true
              },
              "fromcurrent": true,
              "mode": "immediate",
              "transition": {
               "duration": 0,
               "easing": "linear"
              }
             }
            ],
            "label": "1998",
            "method": "animate"
           },
           {
            "args": [
             [
              "2002"
             ],
             {
              "frame": {
               "duration": 0,
               "redraw": true
              },
              "fromcurrent": true,
              "mode": "immediate",
              "transition": {
               "duration": 0,
               "easing": "linear"
              }
             }
            ],
            "label": "2002",
            "method": "animate"
           },
           {
            "args": [
             [
              "2001"
             ],
             {
              "frame": {
               "duration": 0,
               "redraw": true
              },
              "fromcurrent": true,
              "mode": "immediate",
              "transition": {
               "duration": 0,
               "easing": "linear"
              }
             }
            ],
            "label": "2001",
            "method": "animate"
           },
           {
            "args": [
             [
              "2004"
             ],
             {
              "frame": {
               "duration": 0,
               "redraw": true
              },
              "fromcurrent": true,
              "mode": "immediate",
              "transition": {
               "duration": 0,
               "easing": "linear"
              }
             }
            ],
            "label": "2004",
            "method": "animate"
           },
           {
            "args": [
             [
              "2006"
             ],
             {
              "frame": {
               "duration": 0,
               "redraw": true
              },
              "fromcurrent": true,
              "mode": "immediate",
              "transition": {
               "duration": 0,
               "easing": "linear"
              }
             }
            ],
            "label": "2006",
            "method": "animate"
           },
           {
            "args": [
             [
              "2007"
             ],
             {
              "frame": {
               "duration": 0,
               "redraw": true
              },
              "fromcurrent": true,
              "mode": "immediate",
              "transition": {
               "duration": 0,
               "easing": "linear"
              }
             }
            ],
            "label": "2007",
            "method": "animate"
           },
           {
            "args": [
             [
              "2009"
             ],
             {
              "frame": {
               "duration": 0,
               "redraw": true
              },
              "fromcurrent": true,
              "mode": "immediate",
              "transition": {
               "duration": 0,
               "easing": "linear"
              }
             }
            ],
            "label": "2009",
            "method": "animate"
           },
           {
            "args": [
             [
              "2010"
             ],
             {
              "frame": {
               "duration": 0,
               "redraw": true
              },
              "fromcurrent": true,
              "mode": "immediate",
              "transition": {
               "duration": 0,
               "easing": "linear"
              }
             }
            ],
            "label": "2010",
            "method": "animate"
           },
           {
            "args": [
             [
              "2011"
             ],
             {
              "frame": {
               "duration": 0,
               "redraw": true
              },
              "fromcurrent": true,
              "mode": "immediate",
              "transition": {
               "duration": 0,
               "easing": "linear"
              }
             }
            ],
            "label": "2011",
            "method": "animate"
           },
           {
            "args": [
             [
              "2013"
             ],
             {
              "frame": {
               "duration": 0,
               "redraw": true
              },
              "fromcurrent": true,
              "mode": "immediate",
              "transition": {
               "duration": 0,
               "easing": "linear"
              }
             }
            ],
            "label": "2013",
            "method": "animate"
           },
           {
            "args": [
             [
              "2015"
             ],
             {
              "frame": {
               "duration": 0,
               "redraw": true
              },
              "fromcurrent": true,
              "mode": "immediate",
              "transition": {
               "duration": 0,
               "easing": "linear"
              }
             }
            ],
            "label": "2015",
            "method": "animate"
           },
           {
            "args": [
             [
              "2016"
             ],
             {
              "frame": {
               "duration": 0,
               "redraw": true
              },
              "fromcurrent": true,
              "mode": "immediate",
              "transition": {
               "duration": 0,
               "easing": "linear"
              }
             }
            ],
            "label": "2016",
            "method": "animate"
           },
           {
            "args": [
             [
              "2018"
             ],
             {
              "frame": {
               "duration": 0,
               "redraw": true
              },
              "fromcurrent": true,
              "mode": "immediate",
              "transition": {
               "duration": 0,
               "easing": "linear"
              }
             }
            ],
            "label": "2018",
            "method": "animate"
           },
           {
            "args": [
             [
              "1958"
             ],
             {
              "frame": {
               "duration": 0,
               "redraw": true
              },
              "fromcurrent": true,
              "mode": "immediate",
              "transition": {
               "duration": 0,
               "easing": "linear"
              }
             }
            ],
            "label": "1958",
            "method": "animate"
           }
          ],
          "x": 0.1,
          "xanchor": "left",
          "y": 0,
          "yanchor": "top"
         }
        ],
        "template": {
         "data": {
          "bar": [
           {
            "error_x": {
             "color": "#2a3f5f"
            },
            "error_y": {
             "color": "#2a3f5f"
            },
            "marker": {
             "line": {
              "color": "#E5ECF6",
              "width": 0.5
             },
             "pattern": {
              "fillmode": "overlay",
              "size": 10,
              "solidity": 0.2
             }
            },
            "type": "bar"
           }
          ],
          "barpolar": [
           {
            "marker": {
             "line": {
              "color": "#E5ECF6",
              "width": 0.5
             },
             "pattern": {
              "fillmode": "overlay",
              "size": 10,
              "solidity": 0.2
             }
            },
            "type": "barpolar"
           }
          ],
          "carpet": [
           {
            "aaxis": {
             "endlinecolor": "#2a3f5f",
             "gridcolor": "white",
             "linecolor": "white",
             "minorgridcolor": "white",
             "startlinecolor": "#2a3f5f"
            },
            "baxis": {
             "endlinecolor": "#2a3f5f",
             "gridcolor": "white",
             "linecolor": "white",
             "minorgridcolor": "white",
             "startlinecolor": "#2a3f5f"
            },
            "type": "carpet"
           }
          ],
          "choropleth": [
           {
            "colorbar": {
             "outlinewidth": 0,
             "ticks": ""
            },
            "type": "choropleth"
           }
          ],
          "contour": [
           {
            "colorbar": {
             "outlinewidth": 0,
             "ticks": ""
            },
            "colorscale": [
             [
              0,
              "#0d0887"
             ],
             [
              0.1111111111111111,
              "#46039f"
             ],
             [
              0.2222222222222222,
              "#7201a8"
             ],
             [
              0.3333333333333333,
              "#9c179e"
             ],
             [
              0.4444444444444444,
              "#bd3786"
             ],
             [
              0.5555555555555556,
              "#d8576b"
             ],
             [
              0.6666666666666666,
              "#ed7953"
             ],
             [
              0.7777777777777778,
              "#fb9f3a"
             ],
             [
              0.8888888888888888,
              "#fdca26"
             ],
             [
              1,
              "#f0f921"
             ]
            ],
            "type": "contour"
           }
          ],
          "contourcarpet": [
           {
            "colorbar": {
             "outlinewidth": 0,
             "ticks": ""
            },
            "type": "contourcarpet"
           }
          ],
          "heatmap": [
           {
            "colorbar": {
             "outlinewidth": 0,
             "ticks": ""
            },
            "colorscale": [
             [
              0,
              "#0d0887"
             ],
             [
              0.1111111111111111,
              "#46039f"
             ],
             [
              0.2222222222222222,
              "#7201a8"
             ],
             [
              0.3333333333333333,
              "#9c179e"
             ],
             [
              0.4444444444444444,
              "#bd3786"
             ],
             [
              0.5555555555555556,
              "#d8576b"
             ],
             [
              0.6666666666666666,
              "#ed7953"
             ],
             [
              0.7777777777777778,
              "#fb9f3a"
             ],
             [
              0.8888888888888888,
              "#fdca26"
             ],
             [
              1,
              "#f0f921"
             ]
            ],
            "type": "heatmap"
           }
          ],
<<<<<<< HEAD
=======
          "heatmapgl": [
           {
            "colorbar": {
             "outlinewidth": 0,
             "ticks": ""
            },
            "colorscale": [
             [
              0,
              "#0d0887"
             ],
             [
              0.1111111111111111,
              "#46039f"
             ],
             [
              0.2222222222222222,
              "#7201a8"
             ],
             [
              0.3333333333333333,
              "#9c179e"
             ],
             [
              0.4444444444444444,
              "#bd3786"
             ],
             [
              0.5555555555555556,
              "#d8576b"
             ],
             [
              0.6666666666666666,
              "#ed7953"
             ],
             [
              0.7777777777777778,
              "#fb9f3a"
             ],
             [
              0.8888888888888888,
              "#fdca26"
             ],
             [
              1,
              "#f0f921"
             ]
            ],
            "type": "heatmapgl"
           }
          ],
>>>>>>> 01780f92e57fec73a6ab66ad55bfa65288238e82
          "histogram": [
           {
            "marker": {
             "pattern": {
              "fillmode": "overlay",
              "size": 10,
              "solidity": 0.2
             }
            },
            "type": "histogram"
           }
          ],
          "histogram2d": [
           {
            "colorbar": {
             "outlinewidth": 0,
             "ticks": ""
            },
            "colorscale": [
             [
              0,
              "#0d0887"
             ],
             [
              0.1111111111111111,
              "#46039f"
             ],
             [
              0.2222222222222222,
              "#7201a8"
             ],
             [
              0.3333333333333333,
              "#9c179e"
             ],
             [
              0.4444444444444444,
              "#bd3786"
             ],
             [
              0.5555555555555556,
              "#d8576b"
             ],
             [
              0.6666666666666666,
              "#ed7953"
             ],
             [
              0.7777777777777778,
              "#fb9f3a"
             ],
             [
              0.8888888888888888,
              "#fdca26"
             ],
             [
              1,
              "#f0f921"
             ]
            ],
            "type": "histogram2d"
           }
          ],
          "histogram2dcontour": [
           {
            "colorbar": {
             "outlinewidth": 0,
             "ticks": ""
            },
            "colorscale": [
             [
              0,
              "#0d0887"
             ],
             [
              0.1111111111111111,
              "#46039f"
             ],
             [
              0.2222222222222222,
              "#7201a8"
             ],
             [
              0.3333333333333333,
              "#9c179e"
             ],
             [
              0.4444444444444444,
              "#bd3786"
             ],
             [
              0.5555555555555556,
              "#d8576b"
             ],
             [
              0.6666666666666666,
              "#ed7953"
             ],
             [
              0.7777777777777778,
              "#fb9f3a"
             ],
             [
              0.8888888888888888,
              "#fdca26"
             ],
             [
              1,
              "#f0f921"
             ]
            ],
            "type": "histogram2dcontour"
           }
          ],
          "mesh3d": [
           {
            "colorbar": {
             "outlinewidth": 0,
             "ticks": ""
            },
            "type": "mesh3d"
           }
          ],
          "parcoords": [
           {
            "line": {
             "colorbar": {
              "outlinewidth": 0,
              "ticks": ""
             }
            },
            "type": "parcoords"
           }
          ],
          "pie": [
           {
            "automargin": true,
            "type": "pie"
           }
          ],
          "scatter": [
           {
            "fillpattern": {
             "fillmode": "overlay",
             "size": 10,
             "solidity": 0.2
            },
            "type": "scatter"
           }
          ],
          "scatter3d": [
           {
            "line": {
             "colorbar": {
              "outlinewidth": 0,
              "ticks": ""
             }
            },
            "marker": {
             "colorbar": {
              "outlinewidth": 0,
              "ticks": ""
             }
            },
            "type": "scatter3d"
           }
          ],
          "scattercarpet": [
           {
            "marker": {
             "colorbar": {
              "outlinewidth": 0,
              "ticks": ""
             }
            },
            "type": "scattercarpet"
           }
          ],
          "scattergeo": [
           {
            "marker": {
             "colorbar": {
              "outlinewidth": 0,
              "ticks": ""
             }
            },
            "type": "scattergeo"
           }
          ],
          "scattergl": [
           {
            "marker": {
             "colorbar": {
              "outlinewidth": 0,
              "ticks": ""
             }
            },
            "type": "scattergl"
           }
          ],
<<<<<<< HEAD
          "scattermap": [
           {
            "marker": {
             "colorbar": {
              "outlinewidth": 0,
              "ticks": ""
             }
            },
            "type": "scattermap"
           }
          ],
=======
>>>>>>> 01780f92e57fec73a6ab66ad55bfa65288238e82
          "scattermapbox": [
           {
            "marker": {
             "colorbar": {
              "outlinewidth": 0,
              "ticks": ""
             }
            },
            "type": "scattermapbox"
           }
          ],
          "scatterpolar": [
           {
            "marker": {
             "colorbar": {
              "outlinewidth": 0,
              "ticks": ""
             }
            },
            "type": "scatterpolar"
           }
          ],
          "scatterpolargl": [
           {
            "marker": {
             "colorbar": {
              "outlinewidth": 0,
              "ticks": ""
             }
            },
            "type": "scatterpolargl"
           }
          ],
          "scatterternary": [
           {
            "marker": {
             "colorbar": {
              "outlinewidth": 0,
              "ticks": ""
             }
            },
            "type": "scatterternary"
           }
          ],
          "surface": [
           {
            "colorbar": {
             "outlinewidth": 0,
             "ticks": ""
            },
            "colorscale": [
             [
              0,
              "#0d0887"
             ],
             [
              0.1111111111111111,
              "#46039f"
             ],
             [
              0.2222222222222222,
              "#7201a8"
             ],
             [
              0.3333333333333333,
              "#9c179e"
             ],
             [
              0.4444444444444444,
              "#bd3786"
             ],
             [
              0.5555555555555556,
              "#d8576b"
             ],
             [
              0.6666666666666666,
              "#ed7953"
             ],
             [
              0.7777777777777778,
              "#fb9f3a"
             ],
             [
              0.8888888888888888,
              "#fdca26"
             ],
             [
              1,
              "#f0f921"
             ]
            ],
            "type": "surface"
           }
          ],
          "table": [
           {
            "cells": {
             "fill": {
              "color": "#EBF0F8"
             },
             "line": {
              "color": "white"
             }
            },
            "header": {
             "fill": {
              "color": "#C8D4E3"
             },
             "line": {
              "color": "white"
             }
            },
            "type": "table"
           }
          ]
         },
         "layout": {
          "annotationdefaults": {
           "arrowcolor": "#2a3f5f",
           "arrowhead": 0,
           "arrowwidth": 1
          },
          "autotypenumbers": "strict",
          "coloraxis": {
           "colorbar": {
            "outlinewidth": 0,
            "ticks": ""
           }
          },
          "colorscale": {
           "diverging": [
            [
             0,
             "#8e0152"
            ],
            [
             0.1,
             "#c51b7d"
            ],
            [
             0.2,
             "#de77ae"
            ],
            [
             0.3,
             "#f1b6da"
            ],
            [
             0.4,
             "#fde0ef"
            ],
            [
             0.5,
             "#f7f7f7"
            ],
            [
             0.6,
             "#e6f5d0"
            ],
            [
             0.7,
             "#b8e186"
            ],
            [
             0.8,
             "#7fbc41"
            ],
            [
             0.9,
             "#4d9221"
            ],
            [
             1,
             "#276419"
            ]
           ],
           "sequential": [
            [
             0,
             "#0d0887"
            ],
            [
             0.1111111111111111,
             "#46039f"
            ],
            [
             0.2222222222222222,
             "#7201a8"
            ],
            [
             0.3333333333333333,
             "#9c179e"
            ],
            [
             0.4444444444444444,
             "#bd3786"
            ],
            [
             0.5555555555555556,
             "#d8576b"
            ],
            [
             0.6666666666666666,
             "#ed7953"
            ],
            [
             0.7777777777777778,
             "#fb9f3a"
            ],
            [
             0.8888888888888888,
             "#fdca26"
            ],
            [
             1,
             "#f0f921"
            ]
           ],
           "sequentialminus": [
            [
             0,
             "#0d0887"
            ],
            [
             0.1111111111111111,
             "#46039f"
            ],
            [
             0.2222222222222222,
             "#7201a8"
            ],
            [
             0.3333333333333333,
             "#9c179e"
            ],
            [
             0.4444444444444444,
             "#bd3786"
            ],
            [
             0.5555555555555556,
             "#d8576b"
            ],
            [
             0.6666666666666666,
             "#ed7953"
            ],
            [
             0.7777777777777778,
             "#fb9f3a"
            ],
            [
             0.8888888888888888,
             "#fdca26"
            ],
            [
             1,
             "#f0f921"
            ]
           ]
          },
          "colorway": [
           "#636efa",
           "#EF553B",
           "#00cc96",
           "#ab63fa",
           "#FFA15A",
           "#19d3f3",
           "#FF6692",
           "#B6E880",
           "#FF97FF",
           "#FECB52"
          ],
          "font": {
           "color": "#2a3f5f"
          },
          "geo": {
           "bgcolor": "white",
           "lakecolor": "white",
           "landcolor": "#E5ECF6",
           "showlakes": true,
           "showland": true,
           "subunitcolor": "white"
          },
          "hoverlabel": {
           "align": "left"
          },
          "hovermode": "closest",
          "mapbox": {
           "style": "light"
          },
          "paper_bgcolor": "white",
          "plot_bgcolor": "#E5ECF6",
          "polar": {
           "angularaxis": {
            "gridcolor": "white",
            "linecolor": "white",
            "ticks": ""
           },
           "bgcolor": "#E5ECF6",
           "radialaxis": {
            "gridcolor": "white",
            "linecolor": "white",
            "ticks": ""
           }
          },
          "scene": {
           "xaxis": {
            "backgroundcolor": "#E5ECF6",
            "gridcolor": "white",
            "gridwidth": 2,
            "linecolor": "white",
            "showbackground": true,
            "ticks": "",
            "zerolinecolor": "white"
           },
           "yaxis": {
            "backgroundcolor": "#E5ECF6",
            "gridcolor": "white",
            "gridwidth": 2,
            "linecolor": "white",
            "showbackground": true,
            "ticks": "",
            "zerolinecolor": "white"
           },
           "zaxis": {
            "backgroundcolor": "#E5ECF6",
            "gridcolor": "white",
            "gridwidth": 2,
            "linecolor": "white",
            "showbackground": true,
            "ticks": "",
            "zerolinecolor": "white"
           }
          },
          "shapedefaults": {
           "line": {
            "color": "#2a3f5f"
           }
          },
          "ternary": {
           "aaxis": {
            "gridcolor": "white",
            "linecolor": "white",
            "ticks": ""
           },
           "baxis": {
            "gridcolor": "white",
            "linecolor": "white",
            "ticks": ""
           },
           "bgcolor": "#E5ECF6",
           "caxis": {
            "gridcolor": "white",
            "linecolor": "white",
            "ticks": ""
           }
          },
          "title": {
           "x": 0.05
          },
          "xaxis": {
           "automargin": true,
           "gridcolor": "white",
           "linecolor": "white",
           "ticks": "",
           "title": {
            "standoff": 15
           },
           "zerolinecolor": "white",
           "zerolinewidth": 2
          },
          "yaxis": {
           "automargin": true,
           "gridcolor": "white",
           "linecolor": "white",
           "ticks": "",
           "title": {
            "standoff": 15
           },
           "zerolinecolor": "white",
           "zerolinewidth": 2
          }
         }
        },
        "title": {
         "text": "Overstromingen en tsunami's met zeespiegelstijging en impact (log schaal)"
        },
        "updatemenus": [
         {
          "buttons": [
           {
            "args": [
             null,
             {
              "frame": {
               "duration": 500,
               "redraw": true
              },
              "fromcurrent": true,
              "mode": "immediate",
              "transition": {
               "duration": 500,
               "easing": "linear"
              }
             }
            ],
            "label": "&#9654;",
            "method": "animate"
           },
           {
            "args": [
             [
              null
             ],
             {
              "frame": {
               "duration": 0,
               "redraw": true
              },
              "fromcurrent": true,
              "mode": "immediate",
              "transition": {
               "duration": 0,
               "easing": "linear"
              }
             }
            ],
            "label": "&#9724;",
            "method": "animate"
           }
          ],
          "direction": "left",
          "pad": {
           "r": 10,
           "t": 70
          },
          "showactive": false,
          "type": "buttons",
          "x": 0.1,
          "xanchor": "right",
          "y": 0,
          "yanchor": "top"
         }
        ]
       }
      },
      "text/html": [
<<<<<<< HEAD
       "<div>            <script src=\"https://cdnjs.cloudflare.com/ajax/libs/mathjax/2.7.5/MathJax.js?config=TeX-AMS-MML_SVG\"></script><script type=\"text/javascript\">if (window.MathJax && window.MathJax.Hub && window.MathJax.Hub.Config) {window.MathJax.Hub.Config({SVG: {font: \"STIX-Web\"}});}</script>                <script type=\"text/javascript\">window.PlotlyConfig = {MathJaxConfig: 'local'};</script>\n",
       "        <script charset=\"utf-8\" src=\"https://cdn.plot.ly/plotly-3.0.1.min.js\"></script>                <div id=\"5119df97-4809-4a5e-a1d6-1d5267671ff7\" class=\"plotly-graph-div\" style=\"height:700px; width:100%;\"></div>            <script type=\"text/javascript\">                window.PLOTLYENV=window.PLOTLYENV || {};                                if (document.getElementById(\"5119df97-4809-4a5e-a1d6-1d5267671ff7\")) {                    Plotly.newPlot(                        \"5119df97-4809-4a5e-a1d6-1d5267671ff7\",                        [{\"customdata\":{\"dtype\":\"f8\",\"bdata\":\"AAAAAAAgnkAAAAAAAAA7QAAAAAAAADtAAAAAAAAAAAAAAAAAAAAAADvUAO8uHGDAAAAAAAAgnkAAAAAAAABgQAAAAAAAAGBAAAAAAAAAAAAAAAAAAAAAADvUAO8uHGDA\",\"shape\":\"2, 6\"},\"geo\":\"geo\",\"hovertemplate\":\"\\u003cb\\u003e%{hovertext}\\u003c\\u002fb\\u003e\\u003cbr\\u003e\\u003cbr\\u003eYear=%{customdata[0]}\\u003cbr\\u003eImpact_Score_Log=%{marker.size}\\u003cbr\\u003eLatitude=%{lat}\\u003cbr\\u003eLongitude=%{lon}\\u003cbr\\u003eImpact_Score=%{customdata[1]}\\u003cbr\\u003eTotal Deaths=%{customdata[2]}\\u003cbr\\u003eTotal Affected=%{customdata[3]}\\u003cbr\\u003eTotal Damages ('000 US$)=%{customdata[4]}\\u003cbr\\u003emmfrom1993-2008average=%{marker.color:.2f}\\u003cextra\\u003e\\u003c\\u002fextra\\u003e\",\"hovertext\":[\"Canada\",\"Indonesia\"],\"lat\":[\"48.60 N\",\"8.30 S\"],\"legendgroup\":\"\",\"lon\":[\"58.00 W\",\"121.70 E\"],\"marker\":{\"color\":{\"dtype\":\"f8\",\"bdata\":\"O9QA7y4cYMA71ADvLhxgwA==\"},\"coloraxis\":\"coloraxis\",\"size\":{\"dtype\":\"f8\",\"bdata\":\"HyMMLo8n9z86E6jbfOIAQA==\"},\"sizemode\":\"area\",\"sizeref\":0.005201387060501242,\"symbol\":\"circle\"},\"mode\":\"markers\",\"name\":\"\",\"showlegend\":false,\"type\":\"scattergeo\"}],                        {\"template\":{\"data\":{\"histogram2dcontour\":[{\"type\":\"histogram2dcontour\",\"colorbar\":{\"outlinewidth\":0,\"ticks\":\"\"},\"colorscale\":[[0.0,\"#0d0887\"],[0.1111111111111111,\"#46039f\"],[0.2222222222222222,\"#7201a8\"],[0.3333333333333333,\"#9c179e\"],[0.4444444444444444,\"#bd3786\"],[0.5555555555555556,\"#d8576b\"],[0.6666666666666666,\"#ed7953\"],[0.7777777777777778,\"#fb9f3a\"],[0.8888888888888888,\"#fdca26\"],[1.0,\"#f0f921\"]]}],\"choropleth\":[{\"type\":\"choropleth\",\"colorbar\":{\"outlinewidth\":0,\"ticks\":\"\"}}],\"histogram2d\":[{\"type\":\"histogram2d\",\"colorbar\":{\"outlinewidth\":0,\"ticks\":\"\"},\"colorscale\":[[0.0,\"#0d0887\"],[0.1111111111111111,\"#46039f\"],[0.2222222222222222,\"#7201a8\"],[0.3333333333333333,\"#9c179e\"],[0.4444444444444444,\"#bd3786\"],[0.5555555555555556,\"#d8576b\"],[0.6666666666666666,\"#ed7953\"],[0.7777777777777778,\"#fb9f3a\"],[0.8888888888888888,\"#fdca26\"],[1.0,\"#f0f921\"]]}],\"heatmap\":[{\"type\":\"heatmap\",\"colorbar\":{\"outlinewidth\":0,\"ticks\":\"\"},\"colorscale\":[[0.0,\"#0d0887\"],[0.1111111111111111,\"#46039f\"],[0.2222222222222222,\"#7201a8\"],[0.3333333333333333,\"#9c179e\"],[0.4444444444444444,\"#bd3786\"],[0.5555555555555556,\"#d8576b\"],[0.6666666666666666,\"#ed7953\"],[0.7777777777777778,\"#fb9f3a\"],[0.8888888888888888,\"#fdca26\"],[1.0,\"#f0f921\"]]}],\"contourcarpet\":[{\"type\":\"contourcarpet\",\"colorbar\":{\"outlinewidth\":0,\"ticks\":\"\"}}],\"contour\":[{\"type\":\"contour\",\"colorbar\":{\"outlinewidth\":0,\"ticks\":\"\"},\"colorscale\":[[0.0,\"#0d0887\"],[0.1111111111111111,\"#46039f\"],[0.2222222222222222,\"#7201a8\"],[0.3333333333333333,\"#9c179e\"],[0.4444444444444444,\"#bd3786\"],[0.5555555555555556,\"#d8576b\"],[0.6666666666666666,\"#ed7953\"],[0.7777777777777778,\"#fb9f3a\"],[0.8888888888888888,\"#fdca26\"],[1.0,\"#f0f921\"]]}],\"surface\":[{\"type\":\"surface\",\"colorbar\":{\"outlinewidth\":0,\"ticks\":\"\"},\"colorscale\":[[0.0,\"#0d0887\"],[0.1111111111111111,\"#46039f\"],[0.2222222222222222,\"#7201a8\"],[0.3333333333333333,\"#9c179e\"],[0.4444444444444444,\"#bd3786\"],[0.5555555555555556,\"#d8576b\"],[0.6666666666666666,\"#ed7953\"],[0.7777777777777778,\"#fb9f3a\"],[0.8888888888888888,\"#fdca26\"],[1.0,\"#f0f921\"]]}],\"mesh3d\":[{\"type\":\"mesh3d\",\"colorbar\":{\"outlinewidth\":0,\"ticks\":\"\"}}],\"scatter\":[{\"fillpattern\":{\"fillmode\":\"overlay\",\"size\":10,\"solidity\":0.2},\"type\":\"scatter\"}],\"parcoords\":[{\"type\":\"parcoords\",\"line\":{\"colorbar\":{\"outlinewidth\":0,\"ticks\":\"\"}}}],\"scatterpolargl\":[{\"type\":\"scatterpolargl\",\"marker\":{\"colorbar\":{\"outlinewidth\":0,\"ticks\":\"\"}}}],\"bar\":[{\"error_x\":{\"color\":\"#2a3f5f\"},\"error_y\":{\"color\":\"#2a3f5f\"},\"marker\":{\"line\":{\"color\":\"#E5ECF6\",\"width\":0.5},\"pattern\":{\"fillmode\":\"overlay\",\"size\":10,\"solidity\":0.2}},\"type\":\"bar\"}],\"scattergeo\":[{\"type\":\"scattergeo\",\"marker\":{\"colorbar\":{\"outlinewidth\":0,\"ticks\":\"\"}}}],\"scatterpolar\":[{\"type\":\"scatterpolar\",\"marker\":{\"colorbar\":{\"outlinewidth\":0,\"ticks\":\"\"}}}],\"histogram\":[{\"marker\":{\"pattern\":{\"fillmode\":\"overlay\",\"size\":10,\"solidity\":0.2}},\"type\":\"histogram\"}],\"scattergl\":[{\"type\":\"scattergl\",\"marker\":{\"colorbar\":{\"outlinewidth\":0,\"ticks\":\"\"}}}],\"scatter3d\":[{\"type\":\"scatter3d\",\"line\":{\"colorbar\":{\"outlinewidth\":0,\"ticks\":\"\"}},\"marker\":{\"colorbar\":{\"outlinewidth\":0,\"ticks\":\"\"}}}],\"scattermap\":[{\"type\":\"scattermap\",\"marker\":{\"colorbar\":{\"outlinewidth\":0,\"ticks\":\"\"}}}],\"scattermapbox\":[{\"type\":\"scattermapbox\",\"marker\":{\"colorbar\":{\"outlinewidth\":0,\"ticks\":\"\"}}}],\"scatterternary\":[{\"type\":\"scatterternary\",\"marker\":{\"colorbar\":{\"outlinewidth\":0,\"ticks\":\"\"}}}],\"scattercarpet\":[{\"type\":\"scattercarpet\",\"marker\":{\"colorbar\":{\"outlinewidth\":0,\"ticks\":\"\"}}}],\"carpet\":[{\"aaxis\":{\"endlinecolor\":\"#2a3f5f\",\"gridcolor\":\"white\",\"linecolor\":\"white\",\"minorgridcolor\":\"white\",\"startlinecolor\":\"#2a3f5f\"},\"baxis\":{\"endlinecolor\":\"#2a3f5f\",\"gridcolor\":\"white\",\"linecolor\":\"white\",\"minorgridcolor\":\"white\",\"startlinecolor\":\"#2a3f5f\"},\"type\":\"carpet\"}],\"table\":[{\"cells\":{\"fill\":{\"color\":\"#EBF0F8\"},\"line\":{\"color\":\"white\"}},\"header\":{\"fill\":{\"color\":\"#C8D4E3\"},\"line\":{\"color\":\"white\"}},\"type\":\"table\"}],\"barpolar\":[{\"marker\":{\"line\":{\"color\":\"#E5ECF6\",\"width\":0.5},\"pattern\":{\"fillmode\":\"overlay\",\"size\":10,\"solidity\":0.2}},\"type\":\"barpolar\"}],\"pie\":[{\"automargin\":true,\"type\":\"pie\"}]},\"layout\":{\"autotypenumbers\":\"strict\",\"colorway\":[\"#636efa\",\"#EF553B\",\"#00cc96\",\"#ab63fa\",\"#FFA15A\",\"#19d3f3\",\"#FF6692\",\"#B6E880\",\"#FF97FF\",\"#FECB52\"],\"font\":{\"color\":\"#2a3f5f\"},\"hovermode\":\"closest\",\"hoverlabel\":{\"align\":\"left\"},\"paper_bgcolor\":\"white\",\"plot_bgcolor\":\"#E5ECF6\",\"polar\":{\"bgcolor\":\"#E5ECF6\",\"angularaxis\":{\"gridcolor\":\"white\",\"linecolor\":\"white\",\"ticks\":\"\"},\"radialaxis\":{\"gridcolor\":\"white\",\"linecolor\":\"white\",\"ticks\":\"\"}},\"ternary\":{\"bgcolor\":\"#E5ECF6\",\"aaxis\":{\"gridcolor\":\"white\",\"linecolor\":\"white\",\"ticks\":\"\"},\"baxis\":{\"gridcolor\":\"white\",\"linecolor\":\"white\",\"ticks\":\"\"},\"caxis\":{\"gridcolor\":\"white\",\"linecolor\":\"white\",\"ticks\":\"\"}},\"coloraxis\":{\"colorbar\":{\"outlinewidth\":0,\"ticks\":\"\"}},\"colorscale\":{\"sequential\":[[0.0,\"#0d0887\"],[0.1111111111111111,\"#46039f\"],[0.2222222222222222,\"#7201a8\"],[0.3333333333333333,\"#9c179e\"],[0.4444444444444444,\"#bd3786\"],[0.5555555555555556,\"#d8576b\"],[0.6666666666666666,\"#ed7953\"],[0.7777777777777778,\"#fb9f3a\"],[0.8888888888888888,\"#fdca26\"],[1.0,\"#f0f921\"]],\"sequentialminus\":[[0.0,\"#0d0887\"],[0.1111111111111111,\"#46039f\"],[0.2222222222222222,\"#7201a8\"],[0.3333333333333333,\"#9c179e\"],[0.4444444444444444,\"#bd3786\"],[0.5555555555555556,\"#d8576b\"],[0.6666666666666666,\"#ed7953\"],[0.7777777777777778,\"#fb9f3a\"],[0.8888888888888888,\"#fdca26\"],[1.0,\"#f0f921\"]],\"diverging\":[[0,\"#8e0152\"],[0.1,\"#c51b7d\"],[0.2,\"#de77ae\"],[0.3,\"#f1b6da\"],[0.4,\"#fde0ef\"],[0.5,\"#f7f7f7\"],[0.6,\"#e6f5d0\"],[0.7,\"#b8e186\"],[0.8,\"#7fbc41\"],[0.9,\"#4d9221\"],[1,\"#276419\"]]},\"xaxis\":{\"gridcolor\":\"white\",\"linecolor\":\"white\",\"ticks\":\"\",\"title\":{\"standoff\":15},\"zerolinecolor\":\"white\",\"automargin\":true,\"zerolinewidth\":2},\"yaxis\":{\"gridcolor\":\"white\",\"linecolor\":\"white\",\"ticks\":\"\",\"title\":{\"standoff\":15},\"zerolinecolor\":\"white\",\"automargin\":true,\"zerolinewidth\":2},\"scene\":{\"xaxis\":{\"backgroundcolor\":\"#E5ECF6\",\"gridcolor\":\"white\",\"linecolor\":\"white\",\"showbackground\":true,\"ticks\":\"\",\"zerolinecolor\":\"white\",\"gridwidth\":2},\"yaxis\":{\"backgroundcolor\":\"#E5ECF6\",\"gridcolor\":\"white\",\"linecolor\":\"white\",\"showbackground\":true,\"ticks\":\"\",\"zerolinecolor\":\"white\",\"gridwidth\":2},\"zaxis\":{\"backgroundcolor\":\"#E5ECF6\",\"gridcolor\":\"white\",\"linecolor\":\"white\",\"showbackground\":true,\"ticks\":\"\",\"zerolinecolor\":\"white\",\"gridwidth\":2}},\"shapedefaults\":{\"line\":{\"color\":\"#2a3f5f\"}},\"annotationdefaults\":{\"arrowcolor\":\"#2a3f5f\",\"arrowhead\":0,\"arrowwidth\":1},\"geo\":{\"bgcolor\":\"white\",\"landcolor\":\"#E5ECF6\",\"subunitcolor\":\"white\",\"showland\":true,\"showlakes\":true,\"lakecolor\":\"white\"},\"title\":{\"x\":0.05},\"mapbox\":{\"style\":\"light\"}}},\"geo\":{\"domain\":{\"x\":[0.0,1.0],\"y\":[0.0,1.0]},\"projection\":{\"type\":\"natural earth\"},\"center\":{}},\"coloraxis\":{\"colorbar\":{\"title\":{\"text\":\"mmfrom1993-2008average\"}},\"colorscale\":[[0.0,\"#440154\"],[0.1111111111111111,\"#482878\"],[0.2222222222222222,\"#3e4989\"],[0.3333333333333333,\"#31688e\"],[0.4444444444444444,\"#26828e\"],[0.5555555555555556,\"#1f9e89\"],[0.6666666666666666,\"#35b779\"],[0.7777777777777778,\"#6ece58\"],[0.8888888888888888,\"#b5de2b\"],[1.0,\"#fde725\"]]},\"legend\":{\"tracegroupgap\":0,\"itemsizing\":\"constant\"},\"title\":{\"text\":\"Overstromingen en tsunami's met zeespiegelstijging en impact (log schaal)\"},\"updatemenus\":[{\"buttons\":[{\"args\":[null,{\"frame\":{\"duration\":500,\"redraw\":true},\"mode\":\"immediate\",\"fromcurrent\":true,\"transition\":{\"duration\":500,\"easing\":\"linear\"}}],\"label\":\"&#9654;\",\"method\":\"animate\"},{\"args\":[[null],{\"frame\":{\"duration\":0,\"redraw\":true},\"mode\":\"immediate\",\"fromcurrent\":true,\"transition\":{\"duration\":0,\"easing\":\"linear\"}}],\"label\":\"&#9724;\",\"method\":\"animate\"}],\"direction\":\"left\",\"pad\":{\"r\":10,\"t\":70},\"showactive\":false,\"type\":\"buttons\",\"x\":0.1,\"xanchor\":\"right\",\"y\":0,\"yanchor\":\"top\"}],\"sliders\":[{\"active\":0,\"currentvalue\":{\"prefix\":\"Year=\"},\"len\":0.9,\"pad\":{\"b\":10,\"t\":60},\"steps\":[{\"args\":[[\"1928\"],{\"frame\":{\"duration\":0,\"redraw\":true},\"mode\":\"immediate\",\"fromcurrent\":true,\"transition\":{\"duration\":0,\"easing\":\"linear\"}}],\"label\":\"1928\",\"method\":\"animate\"},{\"args\":[[\"1960\"],{\"frame\":{\"duration\":0,\"redraw\":true},\"mode\":\"immediate\",\"fromcurrent\":true,\"transition\":{\"duration\":0,\"easing\":\"linear\"}}],\"label\":\"1960\",\"method\":\"animate\"},{\"args\":[[\"1968\"],{\"frame\":{\"duration\":0,\"redraw\":true},\"mode\":\"immediate\",\"fromcurrent\":true,\"transition\":{\"duration\":0,\"easing\":\"linear\"}}],\"label\":\"1968\",\"method\":\"animate\"},{\"args\":[[\"1969\"],{\"frame\":{\"duration\":0,\"redraw\":true},\"mode\":\"immediate\",\"fromcurrent\":true,\"transition\":{\"duration\":0,\"easing\":\"linear\"}}],\"label\":\"1969\",\"method\":\"animate\"},{\"args\":[[\"1901\"],{\"frame\":{\"duration\":0,\"redraw\":true},\"mode\":\"immediate\",\"fromcurrent\":true,\"transition\":{\"duration\":0,\"easing\":\"linear\"}}],\"label\":\"1901\",\"method\":\"animate\"},{\"args\":[[\"1905\"],{\"frame\":{\"duration\":0,\"redraw\":true},\"mode\":\"immediate\",\"fromcurrent\":true,\"transition\":{\"duration\":0,\"easing\":\"linear\"}}],\"label\":\"1905\",\"method\":\"animate\"},{\"args\":[[\"1931\"],{\"frame\":{\"duration\":0,\"redraw\":true},\"mode\":\"immediate\",\"fromcurrent\":true,\"transition\":{\"duration\":0,\"easing\":\"linear\"}}],\"label\":\"1931\",\"method\":\"animate\"},{\"args\":[[\"1933\"],{\"frame\":{\"duration\":0,\"redraw\":true},\"mode\":\"immediate\",\"fromcurrent\":true,\"transition\":{\"duration\":0,\"easing\":\"linear\"}}],\"label\":\"1933\",\"method\":\"animate\"},{\"args\":[[\"1944\"],{\"frame\":{\"duration\":0,\"redraw\":true},\"mode\":\"immediate\",\"fromcurrent\":true,\"transition\":{\"duration\":0,\"easing\":\"linear\"}}],\"label\":\"1944\",\"method\":\"animate\"},{\"args\":[[\"1946\"],{\"frame\":{\"duration\":0,\"redraw\":true},\"mode\":\"immediate\",\"fromcurrent\":true,\"transition\":{\"duration\":0,\"easing\":\"linear\"}}],\"label\":\"1946\",\"method\":\"animate\"},{\"args\":[[\"1964\"],{\"frame\":{\"duration\":0,\"redraw\":true},\"mode\":\"immediate\",\"fromcurrent\":true,\"transition\":{\"duration\":0,\"easing\":\"linear\"}}],\"label\":\"1964\",\"method\":\"animate\"},{\"args\":[[\"1975\"],{\"frame\":{\"duration\":0,\"redraw\":true},\"mode\":\"immediate\",\"fromcurrent\":true,\"transition\":{\"duration\":0,\"easing\":\"linear\"}}],\"label\":\"1975\",\"method\":\"animate\"},{\"args\":[[\"1979\"],{\"frame\":{\"duration\":0,\"redraw\":true},\"mode\":\"immediate\",\"fromcurrent\":true,\"transition\":{\"duration\":0,\"easing\":\"linear\"}}],\"label\":\"1979\",\"method\":\"animate\"},{\"args\":[[\"1983\"],{\"frame\":{\"duration\":0,\"redraw\":true},\"mode\":\"immediate\",\"fromcurrent\":true,\"transition\":{\"duration\":0,\"easing\":\"linear\"}}],\"label\":\"1983\",\"method\":\"animate\"},{\"args\":[[\"1993\"],{\"frame\":{\"duration\":0,\"redraw\":true},\"mode\":\"immediate\",\"fromcurrent\":true,\"transition\":{\"duration\":0,\"easing\":\"linear\"}}],\"label\":\"1993\",\"method\":\"animate\"},{\"args\":[[\"1996\"],{\"frame\":{\"duration\":0,\"redraw\":true},\"mode\":\"immediate\",\"fromcurrent\":true,\"transition\":{\"duration\":0,\"easing\":\"linear\"}}],\"label\":\"1996\",\"method\":\"animate\"},{\"args\":[[\"1998\"],{\"frame\":{\"duration\":0,\"redraw\":true},\"mode\":\"immediate\",\"fromcurrent\":true,\"transition\":{\"duration\":0,\"easing\":\"linear\"}}],\"label\":\"1998\",\"method\":\"animate\"},{\"args\":[[\"2002\"],{\"frame\":{\"duration\":0,\"redraw\":true},\"mode\":\"immediate\",\"fromcurrent\":true,\"transition\":{\"duration\":0,\"easing\":\"linear\"}}],\"label\":\"2002\",\"method\":\"animate\"},{\"args\":[[\"2001\"],{\"frame\":{\"duration\":0,\"redraw\":true},\"mode\":\"immediate\",\"fromcurrent\":true,\"transition\":{\"duration\":0,\"easing\":\"linear\"}}],\"label\":\"2001\",\"method\":\"animate\"},{\"args\":[[\"2004\"],{\"frame\":{\"duration\":0,\"redraw\":true},\"mode\":\"immediate\",\"fromcurrent\":true,\"transition\":{\"duration\":0,\"easing\":\"linear\"}}],\"label\":\"2004\",\"method\":\"animate\"},{\"args\":[[\"2006\"],{\"frame\":{\"duration\":0,\"redraw\":true},\"mode\":\"immediate\",\"fromcurrent\":true,\"transition\":{\"duration\":0,\"easing\":\"linear\"}}],\"label\":\"2006\",\"method\":\"animate\"},{\"args\":[[\"2007\"],{\"frame\":{\"duration\":0,\"redraw\":true},\"mode\":\"immediate\",\"fromcurrent\":true,\"transition\":{\"duration\":0,\"easing\":\"linear\"}}],\"label\":\"2007\",\"method\":\"animate\"},{\"args\":[[\"2009\"],{\"frame\":{\"duration\":0,\"redraw\":true},\"mode\":\"immediate\",\"fromcurrent\":true,\"transition\":{\"duration\":0,\"easing\":\"linear\"}}],\"label\":\"2009\",\"method\":\"animate\"},{\"args\":[[\"2010\"],{\"frame\":{\"duration\":0,\"redraw\":true},\"mode\":\"immediate\",\"fromcurrent\":true,\"transition\":{\"duration\":0,\"easing\":\"linear\"}}],\"label\":\"2010\",\"method\":\"animate\"},{\"args\":[[\"2011\"],{\"frame\":{\"duration\":0,\"redraw\":true},\"mode\":\"immediate\",\"fromcurrent\":true,\"transition\":{\"duration\":0,\"easing\":\"linear\"}}],\"label\":\"2011\",\"method\":\"animate\"},{\"args\":[[\"2013\"],{\"frame\":{\"duration\":0,\"redraw\":true},\"mode\":\"immediate\",\"fromcurrent\":true,\"transition\":{\"duration\":0,\"easing\":\"linear\"}}],\"label\":\"2013\",\"method\":\"animate\"},{\"args\":[[\"2015\"],{\"frame\":{\"duration\":0,\"redraw\":true},\"mode\":\"immediate\",\"fromcurrent\":true,\"transition\":{\"duration\":0,\"easing\":\"linear\"}}],\"label\":\"2015\",\"method\":\"animate\"},{\"args\":[[\"2016\"],{\"frame\":{\"duration\":0,\"redraw\":true},\"mode\":\"immediate\",\"fromcurrent\":true,\"transition\":{\"duration\":0,\"easing\":\"linear\"}}],\"label\":\"2016\",\"method\":\"animate\"},{\"args\":[[\"2018\"],{\"frame\":{\"duration\":0,\"redraw\":true},\"mode\":\"immediate\",\"fromcurrent\":true,\"transition\":{\"duration\":0,\"easing\":\"linear\"}}],\"label\":\"2018\",\"method\":\"animate\"},{\"args\":[[\"1958\"],{\"frame\":{\"duration\":0,\"redraw\":true},\"mode\":\"immediate\",\"fromcurrent\":true,\"transition\":{\"duration\":0,\"easing\":\"linear\"}}],\"label\":\"1958\",\"method\":\"animate\"}],\"x\":0.1,\"xanchor\":\"left\",\"y\":0,\"yanchor\":\"top\"}],\"height\":700},                        {\"responsive\": true}                    ).then(function(){\n",
       "                            Plotly.addFrames('5119df97-4809-4a5e-a1d6-1d5267671ff7', [{\"data\":[{\"customdata\":{\"dtype\":\"f8\",\"bdata\":\"AAAAAAAgnkAAAAAAAAA7QAAAAAAAADtAAAAAAAAAAAAAAAAAAAAAADvUAO8uHGDAAAAAAAAgnkAAAAAAAABgQAAAAAAAAGBAAAAAAAAAAAAAAAAAAAAAADvUAO8uHGDA\",\"shape\":\"2, 6\"},\"geo\":\"geo\",\"hovertemplate\":\"\\u003cb\\u003e%{hovertext}\\u003c\\u002fb\\u003e\\u003cbr\\u003e\\u003cbr\\u003eYear=%{customdata[0]}\\u003cbr\\u003eImpact_Score_Log=%{marker.size}\\u003cbr\\u003eLatitude=%{lat}\\u003cbr\\u003eLongitude=%{lon}\\u003cbr\\u003eImpact_Score=%{customdata[1]}\\u003cbr\\u003eTotal Deaths=%{customdata[2]}\\u003cbr\\u003eTotal Affected=%{customdata[3]}\\u003cbr\\u003eTotal Damages ('000 US$)=%{customdata[4]}\\u003cbr\\u003emmfrom1993-2008average=%{marker.color:.2f}\\u003cextra\\u003e\\u003c\\u002fextra\\u003e\",\"hovertext\":[\"Canada\",\"Indonesia\"],\"lat\":[\"48.60 N\",\"8.30 S\"],\"legendgroup\":\"\",\"lon\":[\"58.00 W\",\"121.70 E\"],\"marker\":{\"color\":{\"dtype\":\"f8\",\"bdata\":\"O9QA7y4cYMA71ADvLhxgwA==\"},\"coloraxis\":\"coloraxis\",\"size\":{\"dtype\":\"f8\",\"bdata\":\"HyMMLo8n9z86E6jbfOIAQA==\"},\"sizemode\":\"area\",\"sizeref\":0.005201387060501242,\"symbol\":\"circle\"},\"mode\":\"markers\",\"name\":\"\",\"showlegend\":false,\"type\":\"scattergeo\"}],\"name\":\"1928\"},{\"data\":[{\"customdata\":{\"dtype\":\"f8\",\"bdata\":\"AAAAAACgnkAAAAAAOJA+QQAAAAAAcLdAAAAAADiQPkEAAAAA4MggQSBy4d1duFDA\",\"shape\":\"1, 6\"},\"geo\":\"geo\",\"hovertemplate\":\"\\u003cb\\u003e%{hovertext}\\u003c\\u002fb\\u003e\\u003cbr\\u003e\\u003cbr\\u003eYear=%{customdata[0]}\\u003cbr\\u003eImpact_Score_Log=%{marker.size}\\u003cbr\\u003eLatitude=%{lat}\\u003cbr\\u003eLongitude=%{lon}\\u003cbr\\u003eImpact_Score=%{customdata[1]}\\u003cbr\\u003eTotal Deaths=%{customdata[2]}\\u003cbr\\u003eTotal Affected=%{customdata[3]}\\u003cbr\\u003eTotal Damages ('000 US$)=%{customdata[4]}\\u003cbr\\u003emmfrom1993-2008average=%{marker.color:.2f}\\u003cextra\\u003e\\u003c\\u002fextra\\u003e\",\"hovertext\":[\"Chile\"],\"lat\":[\"-38.143\"],\"legendgroup\":\"\",\"lon\":[\"-73.407\"],\"marker\":{\"color\":{\"dtype\":\"f8\",\"bdata\":\"IHLh3V24UMA=\"},\"coloraxis\":\"coloraxis\",\"size\":{\"dtype\":\"f8\",\"bdata\":\"MSRZ6Os0GUA=\"},\"sizemode\":\"area\",\"sizeref\":0.005201387060501242,\"symbol\":\"circle\"},\"mode\":\"markers\",\"name\":\"\",\"showlegend\":false,\"type\":\"scattergeo\"}],\"name\":\"1960\"},{\"data\":[{\"customdata\":{\"dtype\":\"f8\",\"bdata\":\"AAAAAADAnkAAAAAAAABpQAAAAAAAAGlAAAAAAAAAAAAAAAAAAAAAAJqZmZkZNFLA\",\"shape\":\"1, 6\"},\"geo\":\"geo\",\"hovertemplate\":\"\\u003cb\\u003e%{hovertext}\\u003c\\u002fb\\u003e\\u003cbr\\u003e\\u003cbr\\u003eYear=%{customdata[0]}\\u003cbr\\u003eImpact_Score_Log=%{marker.size}\\u003cbr\\u003eLatitude=%{lat}\\u003cbr\\u003eLongitude=%{lon}\\u003cbr\\u003eImpact_Score=%{customdata[1]}\\u003cbr\\u003eTotal Deaths=%{customdata[2]}\\u003cbr\\u003eTotal Affected=%{customdata[3]}\\u003cbr\\u003eTotal Damages ('000 US$)=%{customdata[4]}\\u003cbr\\u003emmfrom1993-2008average=%{marker.color:.2f}\\u003cextra\\u003e\\u003c\\u002fextra\\u003e\",\"hovertext\":[\"Indonesia\"],\"lat\":[\"0.157\"],\"legendgroup\":\"\",\"lon\":[\"119.802\"],\"marker\":{\"color\":{\"dtype\":\"f8\",\"bdata\":\"mpmZmRk0UsA=\"},\"coloraxis\":\"coloraxis\",\"size\":{\"dtype\":\"f8\",\"bdata\":\"Vy33DfJsAkA=\"},\"sizemode\":\"area\",\"sizeref\":0.005201387060501242,\"symbol\":\"circle\"},\"mode\":\"markers\",\"name\":\"\",\"showlegend\":false,\"type\":\"scattergeo\"}],\"name\":\"1968\"},{\"data\":[{\"customdata\":{\"dtype\":\"f8\",\"bdata\":\"AAAAAADEnkAAAAAAAIS5QAAAAAAAAFBAAAAAAACEuUAAAAAAAAAAAJqZmZmZTk\\u002fA\",\"shape\":\"1, 6\"},\"geo\":\"geo\",\"hovertemplate\":\"\\u003cb\\u003e%{hovertext}\\u003c\\u002fb\\u003e\\u003cbr\\u003e\\u003cbr\\u003eYear=%{customdata[0]}\\u003cbr\\u003eImpact_Score_Log=%{marker.size}\\u003cbr\\u003eLatitude=%{lat}\\u003cbr\\u003eLongitude=%{lon}\\u003cbr\\u003eImpact_Score=%{customdata[1]}\\u003cbr\\u003eTotal Deaths=%{customdata[2]}\\u003cbr\\u003eTotal Affected=%{customdata[3]}\\u003cbr\\u003eTotal Damages ('000 US$)=%{customdata[4]}\\u003cbr\\u003emmfrom1993-2008average=%{marker.color:.2f}\\u003cextra\\u003e\\u003c\\u002fextra\\u003e\",\"hovertext\":[\"Indonesia\"],\"lat\":[\"-3.201\"],\"legendgroup\":\"\",\"lon\":[\"118.904\"],\"marker\":{\"color\":{\"dtype\":\"f8\",\"bdata\":\"mpmZmZlOT8A=\"},\"coloraxis\":\"coloraxis\",\"size\":{\"dtype\":\"f8\",\"bdata\":\"09gLyVmFDkA=\"},\"sizemode\":\"area\",\"sizeref\":0.005201387060501242,\"symbol\":\"circle\"},\"mode\":\"markers\",\"name\":\"\",\"showlegend\":false,\"type\":\"scattergeo\"}],\"name\":\"1969\"},{\"data\":[{\"customdata\":{\"dtype\":\"f8\",\"bdata\":\"AAAAAAC0nUAAAAAAAAA4QAAAAAAAADJAAAAAAAAAOEAAAAAAAAAAAPheMkSEkWPA\",\"shape\":\"1, 6\"},\"geo\":\"geo\",\"hovertemplate\":\"\\u003cb\\u003e%{hovertext}\\u003c\\u002fb\\u003e\\u003cbr\\u003e\\u003cbr\\u003eYear=%{customdata[0]}\\u003cbr\\u003eImpact_Score_Log=%{marker.size}\\u003cbr\\u003eLatitude=%{lat}\\u003cbr\\u003eLongitude=%{lon}\\u003cbr\\u003eImpact_Score=%{customdata[1]}\\u003cbr\\u003eTotal Deaths=%{customdata[2]}\\u003cbr\\u003eTotal Affected=%{customdata[3]}\\u003cbr\\u003eTotal Damages ('000 US$)=%{customdata[4]}\\u003cbr\\u003emmfrom1993-2008average=%{marker.color:.2f}\\u003cextra\\u003e\\u003c\\u002fextra\\u003e\",\"hovertext\":[\"Japan\"],\"lat\":[\"40.5\"],\"legendgroup\":\"\",\"lon\":[\"142.5\"],\"marker\":{\"color\":{\"dtype\":\"f8\",\"bdata\":\"+F4yRISRY8A=\"},\"coloraxis\":\"coloraxis\",\"size\":{\"dtype\":\"f8\",\"bdata\":\"AUOwV\\u002fZd9j8=\"},\"sizemode\":\"area\",\"sizeref\":0.005201387060501242,\"symbol\":\"circle\"},\"mode\":\"markers\",\"name\":\"\",\"showlegend\":false,\"type\":\"scattergeo\"}],\"name\":\"1901\"},{\"data\":[{\"customdata\":{\"dtype\":\"f8\",\"bdata\":\"AAAAAADEnUAAAAAAAIBEQAAAAAAAgERAAAAAAAAAAAAAAAAAAAAAAAAAAABATWPA\",\"shape\":\"1, 6\"},\"geo\":\"geo\",\"hovertemplate\":\"\\u003cb\\u003e%{hovertext}\\u003c\\u002fb\\u003e\\u003cbr\\u003e\\u003cbr\\u003eYear=%{customdata[0]}\\u003cbr\\u003eImpact_Score_Log=%{marker.size}\\u003cbr\\u003eLatitude=%{lat}\\u003cbr\\u003eLongitude=%{lon}\\u003cbr\\u003eImpact_Score=%{customdata[1]}\\u003cbr\\u003eTotal Deaths=%{customdata[2]}\\u003cbr\\u003eTotal Affected=%{customdata[3]}\\u003cbr\\u003eTotal Damages ('000 US$)=%{customdata[4]}\\u003cbr\\u003emmfrom1993-2008average=%{marker.color:.2f}\\u003cextra\\u003e\\u003c\\u002fextra\\u003e\",\"hovertext\":[\"Japan\"],\"lat\":[\"37.4\"],\"legendgroup\":\"\",\"lon\":[\"142.6\"],\"marker\":{\"color\":{\"dtype\":\"f8\",\"bdata\":\"AAAAAEBNY8A=\"},\"coloraxis\":\"coloraxis\",\"size\":{\"dtype\":\"f8\",\"bdata\":\"Hzp4P9T4+T8=\"},\"sizemode\":\"area\",\"sizeref\":0.005201387060501242,\"symbol\":\"circle\"},\"mode\":\"markers\",\"name\":\"\",\"showlegend\":false,\"type\":\"scattergeo\"}],\"name\":\"1905\"},{\"data\":[{\"customdata\":{\"dtype\":\"f8\",\"bdata\":\"AAAAAAAsnkAAAAAAAABJQAAAAAAAAElAAAAAAAAAAAAAAAAAAAAAAL2KMVXVr1\\u002fA\",\"shape\":\"1, 6\"},\"geo\":\"geo\",\"hovertemplate\":\"\\u003cb\\u003e%{hovertext}\\u003c\\u002fb\\u003e\\u003cbr\\u003e\\u003cbr\\u003eYear=%{customdata[0]}\\u003cbr\\u003eImpact_Score_Log=%{marker.size}\\u003cbr\\u003eLatitude=%{lat}\\u003cbr\\u003eLongitude=%{lon}\\u003cbr\\u003eImpact_Score=%{customdata[1]}\\u003cbr\\u003eTotal Deaths=%{customdata[2]}\\u003cbr\\u003eTotal Affected=%{customdata[3]}\\u003cbr\\u003eTotal Damages ('000 US$)=%{customdata[4]}\\u003cbr\\u003emmfrom1993-2008average=%{marker.color:.2f}\\u003cextra\\u003e\\u003c\\u002fextra\\u003e\",\"hovertext\":[\"Solomon Islands\"],\"lat\":[\"11.117\"],\"legendgroup\":\"\",\"lon\":[\"161.11\"],\"marker\":{\"color\":{\"dtype\":\"f8\",\"bdata\":\"vYoxVdWvX8A=\"},\"coloraxis\":\"coloraxis\",\"size\":{\"dtype\":\"f8\",\"bdata\":\"FnPfGjVS+z8=\"},\"sizemode\":\"area\",\"sizeref\":0.005201387060501242,\"symbol\":\"circle\"},\"mode\":\"markers\",\"name\":\"\",\"showlegend\":false,\"type\":\"scattergeo\"}],\"name\":\"1931\"},{\"data\":[{\"customdata\":{\"dtype\":\"f8\",\"bdata\":\"AAAAAAA0nkAAAAAAAHCnQAAAAAAAcKdAAAAAAAAAAAAAAAAAAAAAAN0OaETE\\u002fl3A\",\"shape\":\"1, 6\"},\"geo\":\"geo\",\"hovertemplate\":\"\\u003cb\\u003e%{hovertext}\\u003c\\u002fb\\u003e\\u003cbr\\u003e\\u003cbr\\u003eYear=%{customdata[0]}\\u003cbr\\u003eImpact_Score_Log=%{marker.size}\\u003cbr\\u003eLatitude=%{lat}\\u003cbr\\u003eLongitude=%{lon}\\u003cbr\\u003eImpact_Score=%{customdata[1]}\\u003cbr\\u003eTotal Deaths=%{customdata[2]}\\u003cbr\\u003eTotal Affected=%{customdata[3]}\\u003cbr\\u003eTotal Damages ('000 US$)=%{customdata[4]}\\u003cbr\\u003emmfrom1993-2008average=%{marker.color:.2f}\\u003cextra\\u003e\\u003c\\u002fextra\\u003e\",\"hovertext\":[\"Japan\"],\"lat\":[\"39.224\"],\"legendgroup\":\"\",\"lon\":[\"144.622\"],\"marker\":{\"color\":{\"dtype\":\"f8\",\"bdata\":\"3Q5oRMT+XcA=\"},\"coloraxis\":\"coloraxis\",\"size\":{\"dtype\":\"f8\",\"bdata\":\"tL2O1XDRC0A=\"},\"sizemode\":\"area\",\"sizeref\":0.005201387060501242,\"symbol\":\"circle\"},\"mode\":\"markers\",\"name\":\"\",\"showlegend\":false,\"type\":\"scattergeo\"}],\"name\":\"1933\"},{\"data\":[{\"customdata\":{\"dtype\":\"f8\",\"bdata\":\"AAAAAABgnkAAAAAA0KvzQAAAAAAAHJNAAAAAANCr80AAAAAAAAAAAIlX\\u002fiGiPF3A\",\"shape\":\"1, 6\"},\"geo\":\"geo\",\"hovertemplate\":\"\\u003cb\\u003e%{hovertext}\\u003c\\u002fb\\u003e\\u003cbr\\u003e\\u003cbr\\u003eYear=%{customdata[0]}\\u003cbr\\u003eImpact_Score_Log=%{marker.size}\\u003cbr\\u003eLatitude=%{lat}\\u003cbr\\u003eLongitude=%{lon}\\u003cbr\\u003eImpact_Score=%{customdata[1]}\\u003cbr\\u003eTotal Deaths=%{customdata[2]}\\u003cbr\\u003eTotal Affected=%{customdata[3]}\\u003cbr\\u003eTotal Damages ('000 US$)=%{customdata[4]}\\u003cbr\\u003emmfrom1993-2008average=%{marker.color:.2f}\\u003cextra\\u003e\\u003c\\u002fextra\\u003e\",\"hovertext\":[\"Japan\"],\"lat\":[\"33.682\"],\"legendgroup\":\"\",\"lon\":[\"36.204\"],\"marker\":{\"color\":{\"dtype\":\"f8\",\"bdata\":\"iVf+IaI8XcA=\"},\"coloraxis\":\"coloraxis\",\"size\":{\"dtype\":\"f8\",\"bdata\":\"YyLtj\\u002fGfE0A=\"},\"sizemode\":\"area\",\"sizeref\":0.005201387060501242,\"symbol\":\"circle\"},\"mode\":\"markers\",\"name\":\"\",\"showlegend\":false,\"type\":\"scattergeo\"}],\"name\":\"1944\"},{\"data\":[{\"customdata\":{\"dtype\":\"f8\",\"bdata\":\"AAAAAABonkAAAAAAAGrYQAAAAAAAoGRAAAAAAAAAAAAAAAAAAGrYQFSlFBGRK1fA\",\"shape\":\"1, 6\"},\"geo\":\"geo\",\"hovertemplate\":\"\\u003cb\\u003e%{hovertext}\\u003c\\u002fb\\u003e\\u003cbr\\u003e\\u003cbr\\u003eYear=%{customdata[0]}\\u003cbr\\u003eImpact_Score_Log=%{marker.size}\\u003cbr\\u003eLatitude=%{lat}\\u003cbr\\u003eLongitude=%{lon}\\u003cbr\\u003eImpact_Score=%{customdata[1]}\\u003cbr\\u003eTotal Deaths=%{customdata[2]}\\u003cbr\\u003eTotal Affected=%{customdata[3]}\\u003cbr\\u003eTotal Damages ('000 US$)=%{customdata[4]}\\u003cbr\\u003emmfrom1993-2008average=%{marker.color:.2f}\\u003cextra\\u003e\\u003c\\u002fextra\\u003e\",\"hovertext\":[\"United States of America (the)\"],\"lat\":[\"53.492\"],\"legendgroup\":\"\",\"lon\":[\"-162.832\"],\"marker\":{\"color\":{\"dtype\":\"f8\",\"bdata\":\"VKUUEZErV8A=\"},\"coloraxis\":\"coloraxis\",\"size\":{\"dtype\":\"f8\",\"bdata\":\"\\u002fv2yI4KXEUA=\"},\"sizemode\":\"area\",\"sizeref\":0.005201387060501242,\"symbol\":\"circle\"},\"mode\":\"markers\",\"name\":\"\",\"showlegend\":false,\"type\":\"scattergeo\"}],\"name\":\"1946\"},{\"data\":[{\"customdata\":{\"dtype\":\"f8\",\"bdata\":\"AAAAAACwnkAAAAAAAGooQQAAAAAAADlAAAAAAABG4UAAAAAAAGooQYfYR0TEvlHAAAAAAACwnkAAAAAAYPsSQQAAAAAAYGBAAAAAAAAAAAAAAAAAYPsSQYfYR0TEvlHA\",\"shape\":\"2, 6\"},\"geo\":\"geo\",\"hovertemplate\":\"\\u003cb\\u003e%{hovertext}\\u003c\\u002fb\\u003e\\u003cbr\\u003e\\u003cbr\\u003eYear=%{customdata[0]}\\u003cbr\\u003eImpact_Score_Log=%{marker.size}\\u003cbr\\u003eLatitude=%{lat}\\u003cbr\\u003eLongitude=%{lon}\\u003cbr\\u003eImpact_Score=%{customdata[1]}\\u003cbr\\u003eTotal Deaths=%{customdata[2]}\\u003cbr\\u003eTotal Affected=%{customdata[3]}\\u003cbr\\u003eTotal Damages ('000 US$)=%{customdata[4]}\\u003cbr\\u003emmfrom1993-2008average=%{marker.color:.2f}\\u003cextra\\u003e\\u003c\\u002fextra\\u003e\",\"hovertext\":[\"Japan\",\"United States of America (the)\"],\"lat\":[\"38.67\",\"60.908\"],\"legendgroup\":\"\",\"lon\":[\"139.195\",\"-147.339\"],\"marker\":{\"color\":{\"dtype\":\"f8\",\"bdata\":\"h9hHRMS+UcCH2EdExL5RwA==\"},\"coloraxis\":\"coloraxis\",\"size\":{\"dtype\":\"f8\",\"bdata\":\"jEyMw8OcF0AmP6WLlvgVQA==\"},\"sizemode\":\"area\",\"sizeref\":0.005201387060501242,\"symbol\":\"circle\"},\"mode\":\"markers\",\"name\":\"\",\"showlegend\":false,\"type\":\"scattergeo\"}],\"name\":\"1964\"},{\"data\":[{\"customdata\":{\"dtype\":\"f8\",\"bdata\":\"AAAAAADcnkAAAAAAAABpQAAAAAAAAGlAAAAAAAAAAAAAAAAAAAAAAPNOcHd37EbA\",\"shape\":\"1, 6\"},\"geo\":\"geo\",\"hovertemplate\":\"\\u003cb\\u003e%{hovertext}\\u003c\\u002fb\\u003e\\u003cbr\\u003e\\u003cbr\\u003eYear=%{customdata[0]}\\u003cbr\\u003eImpact_Score_Log=%{marker.size}\\u003cbr\\u003eLatitude=%{lat}\\u003cbr\\u003eLongitude=%{lon}\\u003cbr\\u003eImpact_Score=%{customdata[1]}\\u003cbr\\u003eTotal Deaths=%{customdata[2]}\\u003cbr\\u003eTotal Affected=%{customdata[3]}\\u003cbr\\u003eTotal Damages ('000 US$)=%{customdata[4]}\\u003cbr\\u003emmfrom1993-2008average=%{marker.color:.2f}\\u003cextra\\u003e\\u003c\\u002fextra\\u003e\",\"hovertext\":[\"Solomon Islands\"],\"lat\":[\"-7.104\"],\"legendgroup\":\"\",\"lon\":[\"155.152\"],\"marker\":{\"color\":{\"dtype\":\"f8\",\"bdata\":\"805wd3fsRsA=\"},\"coloraxis\":\"coloraxis\",\"size\":{\"dtype\":\"f8\",\"bdata\":\"Vy33DfJsAkA=\"},\"sizemode\":\"area\",\"sizeref\":0.005201387060501242,\"symbol\":\"circle\"},\"mode\":\"markers\",\"name\":\"\",\"showlegend\":false,\"type\":\"scattergeo\"}],\"name\":\"1975\"},{\"data\":[{\"customdata\":{\"dtype\":\"f8\",\"bdata\":\"AAAAAADsnkAAAAAAAAAmQAAAAAAAACZAAAAAAAAAAEAAAAAAAAAAADMzMzMzaEfAAAAAAADsnkAAAAAAANiAQAAAAAAA2IBAAAAAAAAAN0AAAAAAAAAAADMzMzMzaEfA\",\"shape\":\"2, 6\"},\"geo\":\"geo\",\"hovertemplate\":\"\\u003cb\\u003e%{hovertext}\\u003c\\u002fb\\u003e\\u003cbr\\u003e\\u003cbr\\u003eYear=%{customdata[0]}\\u003cbr\\u003eImpact_Score_Log=%{marker.size}\\u003cbr\\u003eLatitude=%{lat}\\u003cbr\\u003eLongitude=%{lon}\\u003cbr\\u003eImpact_Score=%{customdata[1]}\\u003cbr\\u003eTotal Deaths=%{customdata[2]}\\u003cbr\\u003eTotal Affected=%{customdata[3]}\\u003cbr\\u003eTotal Damages ('000 US$)=%{customdata[4]}\\u003cbr\\u003emmfrom1993-2008average=%{marker.color:.2f}\\u003cextra\\u003e\\u003c\\u002fextra\\u003e\",\"hovertext\":[\"France\",\"Indonesia\"],\"lat\":[\"43.70 N\",\"8.8\"],\"legendgroup\":\"\",\"lon\":[\"7.25 E\",\"123.5\"],\"marker\":{\"color\":{\"dtype\":\"f8\",\"bdata\":\"MzMzMzNoR8AzMzMzM2hHwA==\"},\"coloraxis\":\"coloraxis\",\"size\":{\"dtype\":\"f8\",\"bdata\":\"f7LjjVNE8T9\\u002f33FC8dsFQA==\"},\"sizemode\":\"area\",\"sizeref\":0.005201387060501242,\"symbol\":\"circle\"},\"mode\":\"markers\",\"name\":\"\",\"showlegend\":false,\"type\":\"scattergeo\"}],\"name\":\"1979\"},{\"data\":[{\"customdata\":{\"dtype\":\"f8\",\"bdata\":\"AAAAAAD8nkAAAAAAAGQZQQAAAAAAgFlAAAAAAABAU0AAAAAAAGQZQegu7N3dRzbA\",\"shape\":\"1, 6\"},\"geo\":\"geo\",\"hovertemplate\":\"\\u003cb\\u003e%{hovertext}\\u003c\\u002fb\\u003e\\u003cbr\\u003e\\u003cbr\\u003eYear=%{customdata[0]}\\u003cbr\\u003eImpact_Score_Log=%{marker.size}\\u003cbr\\u003eLatitude=%{lat}\\u003cbr\\u003eLongitude=%{lon}\\u003cbr\\u003eImpact_Score=%{customdata[1]}\\u003cbr\\u003eTotal Deaths=%{customdata[2]}\\u003cbr\\u003eTotal Affected=%{customdata[3]}\\u003cbr\\u003eTotal Damages ('000 US$)=%{customdata[4]}\\u003cbr\\u003emmfrom1993-2008average=%{marker.color:.2f}\\u003cextra\\u003e\\u003c\\u002fextra\\u003e\",\"hovertext\":[\"Japan\"],\"lat\":[\"40.462\"],\"legendgroup\":\"\",\"lon\":[\"139.102\"],\"marker\":{\"color\":{\"dtype\":\"f8\",\"bdata\":\"6C7s3d1HNsA=\"},\"coloraxis\":\"coloraxis\",\"size\":{\"dtype\":\"f8\",\"bdata\":\"HTkw4PN5FkA=\"},\"sizemode\":\"area\",\"sizeref\":0.005201387060501242,\"symbol\":\"circle\"},\"mode\":\"markers\",\"name\":\"\",\"showlegend\":false,\"type\":\"scattergeo\"}],\"name\":\"1983\"},{\"data\":[{\"customdata\":{\"dtype\":\"f8\",\"bdata\":\"AAAAAAAkn0AAAAAAgIQuQQAAAAAA4G1AAAAAAAC7vEAAAAAAgIQuQegu7N3dxzbA\",\"shape\":\"1, 6\"},\"geo\":\"geo\",\"hovertemplate\":\"\\u003cb\\u003e%{hovertext}\\u003c\\u002fb\\u003e\\u003cbr\\u003e\\u003cbr\\u003eYear=%{customdata[0]}\\u003cbr\\u003eImpact_Score_Log=%{marker.size}\\u003cbr\\u003eLatitude=%{lat}\\u003cbr\\u003eLongitude=%{lon}\\u003cbr\\u003eImpact_Score=%{customdata[1]}\\u003cbr\\u003eTotal Deaths=%{customdata[2]}\\u003cbr\\u003eTotal Affected=%{customdata[3]}\\u003cbr\\u003eTotal Damages ('000 US$)=%{customdata[4]}\\u003cbr\\u003emmfrom1993-2008average=%{marker.color:.2f}\\u003cextra\\u003e\\u003c\\u002fextra\\u003e\",\"hovertext\":[\"Japan\"],\"lat\":[\"42.851 N\"],\"legendgroup\":\"\",\"lon\":[\"139.197 E\"],\"marker\":{\"color\":{\"dtype\":\"f8\",\"bdata\":\"6C7s3d3HNsA=\"},\"coloraxis\":\"coloraxis\",\"size\":{\"dtype\":\"f8\",\"bdata\":\"YB4lHQAAGEA=\"},\"sizemode\":\"area\",\"sizeref\":0.005201387060501242,\"symbol\":\"circle\"},\"mode\":\"markers\",\"name\":\"\",\"showlegend\":false,\"type\":\"scattergeo\"}],\"name\":\"1993\"},{\"data\":[{\"customdata\":{\"dtype\":\"f8\",\"bdata\":\"AAAAAAAwn0AAAAAAAICHQAAAAAAAABxAAAAAAACAh0AAAAAAAAAAAP1u9BAR5SfA\",\"shape\":\"1, 6\"},\"geo\":\"geo\",\"hovertemplate\":\"\\u003cb\\u003e%{hovertext}\\u003c\\u002fb\\u003e\\u003cbr\\u003e\\u003cbr\\u003eYear=%{customdata[0]}\\u003cbr\\u003eImpact_Score_Log=%{marker.size}\\u003cbr\\u003eLatitude=%{lat}\\u003cbr\\u003eLongitude=%{lon}\\u003cbr\\u003eImpact_Score=%{customdata[1]}\\u003cbr\\u003eTotal Deaths=%{customdata[2]}\\u003cbr\\u003eTotal Affected=%{customdata[3]}\\u003cbr\\u003eTotal Damages ('000 US$)=%{customdata[4]}\\u003cbr\\u003emmfrom1993-2008average=%{marker.color:.2f}\\u003cextra\\u003e\\u003c\\u002fextra\\u003e\",\"hovertext\":[\"Peru\"],\"lat\":[\"9.593 S\"],\"legendgroup\":\"\",\"lon\":[\"79.587 W\"],\"marker\":{\"color\":{\"dtype\":\"f8\",\"bdata\":\"\\u002fW70EBHlJ8A=\"},\"coloraxis\":\"coloraxis\",\"size\":{\"dtype\":\"f8\",\"bdata\":\"A6KgFa0DB0A=\"},\"sizemode\":\"area\",\"sizeref\":0.005201387060501242,\"symbol\":\"circle\"},\"mode\":\"markers\",\"name\":\"\",\"showlegend\":false,\"type\":\"scattergeo\"}],\"name\":\"1996\"},{\"data\":[{\"customdata\":{\"dtype\":\"f8\",\"bdata\":\"AAAAAAA4n0AAAAAAgEXDQAAAAAAADKFAAAAAAIBFw0AAAAAAAAAAAM3MzMzMoCXA\",\"shape\":\"1, 6\"},\"geo\":\"geo\",\"hovertemplate\":\"\\u003cb\\u003e%{hovertext}\\u003c\\u002fb\\u003e\\u003cbr\\u003e\\u003cbr\\u003eYear=%{customdata[0]}\\u003cbr\\u003eImpact_Score_Log=%{marker.size}\\u003cbr\\u003eLatitude=%{lat}\\u003cbr\\u003eLongitude=%{lon}\\u003cbr\\u003eImpact_Score=%{customdata[1]}\\u003cbr\\u003eTotal Deaths=%{customdata[2]}\\u003cbr\\u003eTotal Affected=%{customdata[3]}\\u003cbr\\u003eTotal Damages ('000 US$)=%{customdata[4]}\\u003cbr\\u003emmfrom1993-2008average=%{marker.color:.2f}\\u003cextra\\u003e\\u003c\\u002fextra\\u003e\",\"hovertext\":[\"Papua New Guinea\"],\"lat\":[\"-2.961\"],\"legendgroup\":\"\",\"lon\":[\"141.926\"],\"marker\":{\"color\":{\"dtype\":\"f8\",\"bdata\":\"zczMzMygJcA=\"},\"coloraxis\":\"coloraxis\",\"size\":{\"dtype\":\"f8\",\"bdata\":\"alZkaC70D0A=\"},\"sizemode\":\"area\",\"sizeref\":0.005201387060501242,\"symbol\":\"circle\"},\"mode\":\"markers\",\"name\":\"\",\"showlegend\":false,\"type\":\"scattergeo\"}],\"name\":\"1998\"},{\"data\":[{\"customdata\":{\"dtype\":\"f8\",\"bdata\":\"AAAAAABIn0AAAAAAAL3BQAAAAAAAACBAAAAAAAC9wUAAAAAAAAAAAJD8k4iIOAFA\",\"shape\":\"1, 6\"},\"geo\":\"geo\",\"hovertemplate\":\"\\u003cb\\u003e%{hovertext}\\u003c\\u002fb\\u003e\\u003cbr\\u003e\\u003cbr\\u003eYear=%{customdata[0]}\\u003cbr\\u003eImpact_Score_Log=%{marker.size}\\u003cbr\\u003eLatitude=%{lat}\\u003cbr\\u003eLongitude=%{lon}\\u003cbr\\u003eImpact_Score=%{customdata[1]}\\u003cbr\\u003eTotal Deaths=%{customdata[2]}\\u003cbr\\u003eTotal Affected=%{customdata[3]}\\u003cbr\\u003eTotal Damages ('000 US$)=%{customdata[4]}\\u003cbr\\u003emmfrom1993-2008average=%{marker.color:.2f}\\u003cextra\\u003e\\u003c\\u002fextra\\u003e\",\"hovertext\":[\"Indonesia\"],\"lat\":[\"-1.757\"],\"legendgroup\":\"\",\"lon\":[\"134.297\"],\"marker\":{\"color\":{\"dtype\":\"f8\",\"bdata\":\"kPyTiIg4AUA=\"},\"coloraxis\":\"coloraxis\",\"size\":{\"dtype\":\"f8\",\"bdata\":\"lg90IXSqD0A=\"},\"sizemode\":\"area\",\"sizeref\":0.005201387060501242,\"symbol\":\"circle\"},\"mode\":\"markers\",\"name\":\"\",\"showlegend\":false,\"type\":\"scattergeo\"}],\"name\":\"2002\"},{\"data\":[{\"customdata\":{\"dtype\":\"f8\",\"bdata\":\"AAAAAABEn0AAAAAAaFwVQQAAAAAAIGJAAAAAAGhcFUEAAAAAgE8SQYXOgoiI4BJA\",\"shape\":\"1, 6\"},\"geo\":\"geo\",\"hovertemplate\":\"\\u003cb\\u003e%{hovertext}\\u003c\\u002fb\\u003e\\u003cbr\\u003e\\u003cbr\\u003eYear=%{customdata[0]}\\u003cbr\\u003eImpact_Score_Log=%{marker.size}\\u003cbr\\u003eLatitude=%{lat}\\u003cbr\\u003eLongitude=%{lon}\\u003cbr\\u003eImpact_Score=%{customdata[1]}\\u003cbr\\u003eTotal Deaths=%{customdata[2]}\\u003cbr\\u003eTotal Affected=%{customdata[3]}\\u003cbr\\u003eTotal Damages ('000 US$)=%{customdata[4]}\\u003cbr\\u003emmfrom1993-2008average=%{marker.color:.2f}\\u003cextra\\u003e\\u003c\\u002fextra\\u003e\",\"hovertext\":[\"Peru\"],\"lat\":[\"-16.265\"],\"legendgroup\":\"\",\"lon\":[\"-73.641\"],\"marker\":{\"color\":{\"dtype\":\"f8\",\"bdata\":\"hc6CiIjgEkA=\"},\"coloraxis\":\"coloraxis\",\"size\":{\"dtype\":\"f8\",\"bdata\":\"1FukVxktFkA=\"},\"sizemode\":\"area\",\"sizeref\":0.005201387060501242,\"symbol\":\"circle\"},\"mode\":\"markers\",\"name\":\"\",\"showlegend\":false,\"type\":\"scattergeo\"}],\"name\":\"2001\"},{\"data\":[{\"customdata\":{\"dtype\":\"f8\",\"bdata\":\"AAAAAABQn0AAAAAARPtQQQAAAABgOgRBAAAAAERDIEEAAAAARPtQQTbEPiIiTitAAAAAAABQn0AAAAAAAGr4QAAAAAAAAPA\\u002fAAAAAAAAAAAAAAAAAGr4QDbEPiIiTitAAAAAAABQn0AAAAAAgIQeQQAAAAAAAABAAAAAAAAAAAAAAAAAgIQeQTbEPiIiTitAAAAAAABQn0AAAAAAoDYvQQAAAABAAdBAAAAAAGD5I0EAAAAAoDYvQTbEPiIiTitAAAAAAABQn0AAAAAAlBY0QQAAAADgSOFAAAAAAFQbL0EAAAAAlBY0QTbEPiIiTitAAAAAAABQn0AAAAAAULEcQQAAAAAAgFlAAAAAAICT2kAAAAAAULEcQTbEPiIiTitAAAAAAABQn0AAAAAAgIQeQQAAAAAAAFRAAAAAAADHs0AAAAAAgIQeQTbEPiIiTitAAAAAAABQn0AAAAAAgIQuQQAAAACATMBAAAAAAPBb8EAAAAAAgIQuQTbEPiIiTitAAAAAAABQn0AAAAAAgIQeQQAAAAAAwFFAAAAAAACqzkAAAAAAgIQeQTbEPiIiTitAAAAAAABQn0AAAAAAsKf5QAAAAAAAoHJAAAAAALCn+UAAAAAAAGr4QDbEPiIiTitAAAAAAABQn0AAAAAAAEzdQAAAAAAAAAhAAAAAAADeskAAAAAAAEzdQDbEPiIiTitAAAAAAABQn0AAAAAAAAAkQAAAAAAAACRAAAAAAAAAAAAAAAAAAAAAADbEPiIiTitA\",\"shape\":\"12, 6\"},\"geo\":\"geo\",\"hovertemplate\":\"\\u003cb\\u003e%{hovertext}\\u003c\\u002fb\\u003e\\u003cbr\\u003e\\u003cbr\\u003eYear=%{customdata[0]}\\u003cbr\\u003eImpact_Score_Log=%{marker.size}\\u003cbr\\u003eLatitude=%{lat}\\u003cbr\\u003eLongitude=%{lon}\\u003cbr\\u003eImpact_Score=%{customdata[1]}\\u003cbr\\u003eTotal Deaths=%{customdata[2]}\\u003cbr\\u003eTotal Affected=%{customdata[3]}\\u003cbr\\u003eTotal Damages ('000 US$)=%{customdata[4]}\\u003cbr\\u003emmfrom1993-2008average=%{marker.color:.2f}\\u003cextra\\u003e\\u003c\\u002fextra\\u003e\",\"hovertext\":[\"Indonesia\",\"Kenya\",\"Bangladesh\",\"India\",\"Sri Lanka\",\"Maldives\",\"Malaysia\",\"Thailand\",\"Myanmar\",\"Somalia\",\"Seychelles\",\"Tanzania, United Republic of\"],\"lat\":[\"3.295\",\"3.295\",\"3.295\",\"3.295\",\"3.295\",\"3.295\",\"3.295\",\"3.295\",\"3.295\",\"3.295\",\"3.295\",\"3.295\"],\"legendgroup\":\"\",\"lon\":[\"95.982\",\"95.982\",\"95.982\",\"95.982\",\"95.982\",\"95.982\",\"95.982\",\"95.982\",\"95.982\",\"95.982\",\"95.982\",\"95.982\"],\"marker\":{\"color\":{\"dtype\":\"f8\",\"bdata\":\"NsQ+IiJOK0A2xD4iIk4rQDbEPiIiTitANsQ+IiJOK0A2xD4iIk4rQDbEPiIiTitANsQ+IiJOK0A2xD4iIk4rQDbEPiIiTitANsQ+IiJOK0A2xD4iIk4rQDbEPiIiTitA\"},\"coloraxis\":\"coloraxis\",\"size\":{\"dtype\":\"f8\",\"bdata\":\"GW6RoxSYGkDP2XIjAQAUQDhDQAW\\u002fyxZAfoWMsAYKGEB1Kp+MSXoYQE6CJeJSsBZAOENABb\\u002fLFkBgHiUdAAAYQDhDQAW\\u002fyxZAqb55sA0WFECg7OBElugRQG\\u002fFUGCLqfA\\u002f\"},\"sizemode\":\"area\",\"sizeref\":0.005201387060501242,\"symbol\":\"circle\"},\"mode\":\"markers\",\"name\":\"\",\"showlegend\":false,\"type\":\"scattergeo\"}],\"name\":\"2004\"},{\"data\":[{\"customdata\":{\"dtype\":\"f8\",\"bdata\":\"AAAAAABYn0AAAAAAAMiSQAAAAAAAAAhAAAAAAADIkkAAAAAAAAAAANwA293dCSNAAAAAAABYn0AAAAAAANvqQAAAAAAAEIlAAAAAAOBa4UAAAAAAANvqQNwA293dCSNA\",\"shape\":\"2, 6\"},\"geo\":\"geo\",\"hovertemplate\":\"\\u003cb\\u003e%{hovertext}\\u003c\\u002fb\\u003e\\u003cbr\\u003e\\u003cbr\\u003eYear=%{customdata[0]}\\u003cbr\\u003eImpact_Score_Log=%{marker.size}\\u003cbr\\u003eLatitude=%{lat}\\u003cbr\\u003eLongitude=%{lon}\\u003cbr\\u003eImpact_Score=%{customdata[1]}\\u003cbr\\u003eTotal Deaths=%{customdata[2]}\\u003cbr\\u003eTotal Affected=%{customdata[3]}\\u003cbr\\u003eTotal Damages ('000 US$)=%{customdata[4]}\\u003cbr\\u003emmfrom1993-2008average=%{marker.color:.2f}\\u003cextra\\u003e\\u003c\\u002fextra\\u003e\",\"hovertext\":[\"Indonesia\",\"Indonesia\"],\"lat\":[\"-3.595\",\"-9.284\"],\"legendgroup\":\"\",\"lon\":[\"127.214\",\"107.419\"],\"marker\":{\"color\":{\"dtype\":\"f8\",\"bdata\":\"3ADb3d0JI0DcANvd3QkjQA==\"},\"coloraxis\":\"coloraxis\",\"size\":{\"dtype\":\"f8\",\"bdata\":\"KFcjTmKkCEBRw\\u002fG0I\\u002fYSQA==\"},\"sizemode\":\"area\",\"sizeref\":0.005201387060501242,\"symbol\":\"circle\"},\"mode\":\"markers\",\"name\":\"\",\"showlegend\":false,\"type\":\"scattergeo\"}],\"name\":\"2006\"},{\"data\":[{\"customdata\":{\"dtype\":\"f8\",\"bdata\":\"AAAAAABcn0AAAAAAAKCiQAAAAAAAAEpAAAAAAACgokAAAAAAAAAAADMzMzMzyTZAAAAAAABcn0AAAAAAAAAkQAAAAAAAACRAAAAAAAAAAAAAAAAAAAAAADMzMzMzyTZA\",\"shape\":\"2, 6\"},\"geo\":\"geo\",\"hovertemplate\":\"\\u003cb\\u003e%{hovertext}\\u003c\\u002fb\\u003e\\u003cbr\\u003e\\u003cbr\\u003eYear=%{customdata[0]}\\u003cbr\\u003eImpact_Score_Log=%{marker.size}\\u003cbr\\u003eLatitude=%{lat}\\u003cbr\\u003eLongitude=%{lon}\\u003cbr\\u003eImpact_Score=%{customdata[1]}\\u003cbr\\u003eTotal Deaths=%{customdata[2]}\\u003cbr\\u003eTotal Affected=%{customdata[3]}\\u003cbr\\u003eTotal Damages ('000 US$)=%{customdata[4]}\\u003cbr\\u003emmfrom1993-2008average=%{marker.color:.2f}\\u003cextra\\u003e\\u003c\\u002fextra\\u003e\",\"hovertext\":[\"Solomon Islands\",\"Chile\"],\"lat\":[\"-8.466\",\"-45.243\"],\"legendgroup\":\"\",\"lon\":[\"157.043\",\"-72.648\"],\"marker\":{\"color\":{\"dtype\":\"f8\",\"bdata\":\"MzMzMzPJNkAzMzMzM8k2QA==\"},\"coloraxis\":\"coloraxis\",\"size\":{\"dtype\":\"f8\",\"bdata\":\"YcMpoRgFC0BvxVBgi6nwPw==\"},\"sizemode\":\"area\",\"sizeref\":0.005201387060501242,\"symbol\":\"circle\"},\"mode\":\"markers\",\"name\":\"\",\"showlegend\":false,\"type\":\"scattergeo\"}],\"name\":\"2007\"},{\"data\":[{\"customdata\":{\"dtype\":\"f8\",\"bdata\":\"AAAAAABkn0AAAAAAAIijQAAAAAAAAEFAAAAAAACIo0AAAAAAAAAAAA2xj4iI00BAAAAAAABkn0AAAAAAAGoYQQAAAAAAAPA\\u002fAAAAAMC52EAAAAAAAGoYQQ2xj4iI00BAAAAAAABkn0AAAAAAAI7CQAAAAAAAACJAAAAAAACwf0AAAAAAAI7CQA2xj4iI00BAAAAAAABkn0AAAAAAgEj+QAAAAAAAgGJAAAAAAADQtUAAAAAAgEj+QA2xj4iI00BA\",\"shape\":\"4, 6\"},\"geo\":\"geo\",\"hovertemplate\":\"\\u003cb\\u003e%{hovertext}\\u003c\\u002fb\\u003e\\u003cbr\\u003e\\u003cbr\\u003eYear=%{customdata[0]}\\u003cbr\\u003eImpact_Score_Log=%{marker.size}\\u003cbr\\u003eLatitude=%{lat}\\u003cbr\\u003eLongitude=%{lon}\\u003cbr\\u003eImpact_Score=%{customdata[1]}\\u003cbr\\u003eTotal Deaths=%{customdata[2]}\\u003cbr\\u003eTotal Affected=%{customdata[3]}\\u003cbr\\u003eTotal Damages ('000 US$)=%{customdata[4]}\\u003cbr\\u003emmfrom1993-2008average=%{marker.color:.2f}\\u003cextra\\u003e\\u003c\\u002fextra\\u003e\",\"hovertext\":[\"American Samoa\",\"Japan\",\"Tonga\",\"Samoa\"],\"lat\":[\"-15.489\",\"34.743\",\"-15.489\",\"-15.489\"],\"legendgroup\":\"\",\"lon\":[\"-172.095\",\"138.264\",\"-172.095\",\"-172.095\"],\"marker\":{\"color\":{\"dtype\":\"f8\",\"bdata\":\"DbGPiIjTQEANsY+IiNNAQA2xj4iI00BADbGPiIjTQEA=\"},\"coloraxis\":\"coloraxis\",\"size\":{\"dtype\":\"f8\",\"bdata\":\"JJQwO1YvC0Cct\\u002fCygmgWQF\\u002fiYbh40g9A6Uo6ks9fFEA=\"},\"sizemode\":\"area\",\"sizeref\":0.005201387060501242,\"symbol\":\"circle\"},\"mode\":\"markers\",\"name\":\"\",\"showlegend\":false,\"type\":\"scattergeo\"}],\"name\":\"2009\"},{\"data\":[{\"customdata\":{\"dtype\":\"f8\",\"bdata\":\"AAAAAABon0AAAAAAOJx8QQAAAAAAkIFAAAAAAOJhREEAAAAAOJx8Qcpkgitq8EBAAAAAAABon0AAAAAAACzHQAAAAAAAkIBAAAAAAAAsx0AAAAAAAAAAAMpkgitq8EBA\",\"shape\":\"2, 6\"},\"geo\":\"geo\",\"hovertemplate\":\"\\u003cb\\u003e%{hovertext}\\u003c\\u002fb\\u003e\\u003cbr\\u003e\\u003cbr\\u003eYear=%{customdata[0]}\\u003cbr\\u003eImpact_Score_Log=%{marker.size}\\u003cbr\\u003eLatitude=%{lat}\\u003cbr\\u003eLongitude=%{lon}\\u003cbr\\u003eImpact_Score=%{customdata[1]}\\u003cbr\\u003eTotal Deaths=%{customdata[2]}\\u003cbr\\u003eTotal Affected=%{customdata[3]}\\u003cbr\\u003eTotal Damages ('000 US$)=%{customdata[4]}\\u003cbr\\u003emmfrom1993-2008average=%{marker.color:.2f}\\u003cextra\\u003e\\u003c\\u002fextra\\u003e\",\"hovertext\":[\"Chile\",\"Indonesia\"],\"lat\":[\"-36.122\",\"-3.487\"],\"legendgroup\":\"\",\"lon\":[\"-72.898\",\"100.082\"],\"marker\":{\"color\":{\"dtype\":\"f8\",\"bdata\":\"ymSCK2rwQEDKZIIravBAQA==\"},\"coloraxis\":\"coloraxis\",\"size\":{\"dtype\":\"f8\",\"bdata\":\"nrFdepLoHUBeqNXXDEwQQA==\"},\"sizemode\":\"area\",\"sizeref\":0.005201387060501242,\"symbol\":\"circle\"},\"mode\":\"markers\",\"name\":\"\",\"showlegend\":false,\"type\":\"scattergeo\"}],\"name\":\"2010\"},{\"data\":[{\"customdata\":{\"dtype\":\"f8\",\"bdata\":\"AAAAAABsn0AAAAAAAMBXQAAAAAAAAPA\\u002fAAAAAADAV0AAAAAAAAAAAPkwe9n2W0JAAAAAAABsn0AAAAAAsQipQQAAAACAYdNAAAAAANCCFkEAAAAAsQipQfkwe9n2W0JA\",\"shape\":\"2, 6\"},\"geo\":\"geo\",\"hovertemplate\":\"\\u003cb\\u003e%{hovertext}\\u003c\\u002fb\\u003e\\u003cbr\\u003e\\u003cbr\\u003eYear=%{customdata[0]}\\u003cbr\\u003eImpact_Score_Log=%{marker.size}\\u003cbr\\u003eLatitude=%{lat}\\u003cbr\\u003eLongitude=%{lon}\\u003cbr\\u003eImpact_Score=%{customdata[1]}\\u003cbr\\u003eTotal Deaths=%{customdata[2]}\\u003cbr\\u003eTotal Affected=%{customdata[3]}\\u003cbr\\u003eTotal Damages ('000 US$)=%{customdata[4]}\\u003cbr\\u003emmfrom1993-2008average=%{marker.color:.2f}\\u003cextra\\u003e\\u003c\\u002fextra\\u003e\",\"hovertext\":[\"Indonesia\",\"Japan\"],\"lat\":[\"38.297\",\"38.297\"],\"legendgroup\":\"\",\"lon\":[\"142.373\",\"142.373\"],\"marker\":{\"color\":{\"dtype\":\"f8\",\"bdata\":\"+TB72fZbQkD5MHvZ9ltCQA==\"},\"coloraxis\":\"coloraxis\",\"size\":{\"dtype\":\"f8\",\"bdata\":\"\\u002fk1bCmK3\\u002fz8vz3vt+aQgQA==\"},\"sizemode\":\"area\",\"sizeref\":0.005201387060501242,\"symbol\":\"circle\"},\"mode\":\"markers\",\"name\":\"\",\"showlegend\":false,\"type\":\"scattergeo\"}],\"name\":\"2011\"},{\"data\":[{\"customdata\":{\"dtype\":\"f8\",\"bdata\":\"AAAAAAB0n0AAAAAAAAKqQAAAAAAAACRAAAAAAAACqkAAAAAAAECfQLSKxCVDq0RA\",\"shape\":\"1, 6\"},\"geo\":\"geo\",\"hovertemplate\":\"\\u003cb\\u003e%{hovertext}\\u003c\\u002fb\\u003e\\u003cbr\\u003e\\u003cbr\\u003eYear=%{customdata[0]}\\u003cbr\\u003eImpact_Score_Log=%{marker.size}\\u003cbr\\u003eLatitude=%{lat}\\u003cbr\\u003eLongitude=%{lon}\\u003cbr\\u003eImpact_Score=%{customdata[1]}\\u003cbr\\u003eTotal Deaths=%{customdata[2]}\\u003cbr\\u003eTotal Affected=%{customdata[3]}\\u003cbr\\u003eTotal Damages ('000 US$)=%{customdata[4]}\\u003cbr\\u003emmfrom1993-2008average=%{marker.color:.2f}\\u003cextra\\u003e\\u003c\\u002fextra\\u003e\",\"hovertext\":[\"Solomon Islands\"],\"lat\":[\"-10.799\"],\"legendgroup\":\"\",\"lon\":[\"165.114\"],\"marker\":{\"color\":{\"dtype\":\"f8\",\"bdata\":\"tIrEJUOrREA=\"},\"coloraxis\":\"coloraxis\",\"size\":{\"dtype\":\"f8\",\"bdata\":\"vyUHPvctDEA=\"},\"sizemode\":\"area\",\"sizeref\":0.005201387060501242,\"symbol\":\"circle\"},\"mode\":\"markers\",\"name\":\"\",\"showlegend\":false,\"type\":\"scattergeo\"}],\"name\":\"2013\"},{\"data\":[{\"customdata\":{\"dtype\":\"f8\",\"bdata\":\"AAAAAAB8n0AAAAAAAGooQQAAAAAAADNAAAAAADbMJEEAAAAAAGooQY6D4CsZO0lA\",\"shape\":\"1, 6\"},\"geo\":\"geo\",\"hovertemplate\":\"\\u003cb\\u003e%{hovertext}\\u003c\\u002fb\\u003e\\u003cbr\\u003e\\u003cbr\\u003eYear=%{customdata[0]}\\u003cbr\\u003eImpact_Score_Log=%{marker.size}\\u003cbr\\u003eLatitude=%{lat}\\u003cbr\\u003eLongitude=%{lon}\\u003cbr\\u003eImpact_Score=%{customdata[1]}\\u003cbr\\u003eTotal Deaths=%{customdata[2]}\\u003cbr\\u003eTotal Affected=%{customdata[3]}\\u003cbr\\u003eTotal Damages ('000 US$)=%{customdata[4]}\\u003cbr\\u003emmfrom1993-2008average=%{marker.color:.2f}\\u003cextra\\u003e\\u003c\\u002fextra\\u003e\",\"hovertext\":[\"Chile\"],\"lat\":[\"-31.5729\"],\"legendgroup\":\"\",\"lon\":[\"-71.6744\"],\"marker\":{\"color\":{\"dtype\":\"f8\",\"bdata\":\"joPgKxk7SUA=\"},\"coloraxis\":\"coloraxis\",\"size\":{\"dtype\":\"f8\",\"bdata\":\"jEyMw8OcF0A=\"},\"sizemode\":\"area\",\"sizeref\":0.005201387060501242,\"symbol\":\"circle\"},\"mode\":\"markers\",\"name\":\"\",\"showlegend\":false,\"type\":\"scattergeo\"}],\"name\":\"2015\"},{\"data\":[{\"customdata\":{\"dtype\":\"f8\",\"bdata\":\"AAAAAACAn0AAAAAAMMFNQQAAAAAAAABAAAAAAAAASUAAAAAAMMFNQWvGN05pLEtA\",\"shape\":\"1, 6\"},\"geo\":\"geo\",\"hovertemplate\":\"\\u003cb\\u003e%{hovertext}\\u003c\\u002fb\\u003e\\u003cbr\\u003e\\u003cbr\\u003eYear=%{customdata[0]}\\u003cbr\\u003eImpact_Score_Log=%{marker.size}\\u003cbr\\u003eLatitude=%{lat}\\u003cbr\\u003eLongitude=%{lon}\\u003cbr\\u003eImpact_Score=%{customdata[1]}\\u003cbr\\u003eTotal Deaths=%{customdata[2]}\\u003cbr\\u003eTotal Affected=%{customdata[3]}\\u003cbr\\u003eTotal Damages ('000 US$)=%{customdata[4]}\\u003cbr\\u003emmfrom1993-2008average=%{marker.color:.2f}\\u003cextra\\u003e\\u003c\\u002fextra\\u003e\",\"hovertext\":[\"New Zealand\"],\"lat\":[\"-42.725\"],\"legendgroup\":\"\",\"lon\":[\"173.064\"],\"marker\":{\"color\":{\"dtype\":\"f8\",\"bdata\":\"a8Y3TmksS0A=\"},\"coloraxis\":\"coloraxis\",\"size\":{\"dtype\":\"f8\",\"bdata\":\"nR3NEUBdGkA=\"},\"sizemode\":\"area\",\"sizeref\":0.005201387060501242,\"symbol\":\"circle\"},\"mode\":\"markers\",\"name\":\"\",\"showlegend\":false,\"type\":\"scattergeo\"}],\"name\":\"2016\"},{\"data\":[{\"customdata\":{\"dtype\":\"f8\",\"bdata\":\"AAAAAACIn0AAAAAAgIQ+QQAAAAAALLBAAAAAAICEPkEAAAAAECA2Qagi7EblikpA\",\"shape\":\"1, 6\"},\"geo\":\"geo\",\"hovertemplate\":\"\\u003cb\\u003e%{hovertext}\\u003c\\u002fb\\u003e\\u003cbr\\u003e\\u003cbr\\u003eYear=%{customdata[0]}\\u003cbr\\u003eImpact_Score_Log=%{marker.size}\\u003cbr\\u003eLatitude=%{lat}\\u003cbr\\u003eLongitude=%{lon}\\u003cbr\\u003eImpact_Score=%{customdata[1]}\\u003cbr\\u003eTotal Deaths=%{customdata[2]}\\u003cbr\\u003eTotal Affected=%{customdata[3]}\\u003cbr\\u003eTotal Damages ('000 US$)=%{customdata[4]}\\u003cbr\\u003emmfrom1993-2008average=%{marker.color:.2f}\\u003cextra\\u003e\\u003c\\u002fextra\\u003e\",\"hovertext\":[\"Indonesia\"],\"lat\":[\"-178\"],\"legendgroup\":\"\",\"lon\":[\"119.84\"],\"marker\":{\"color\":{\"dtype\":\"f8\",\"bdata\":\"qCLsRuWKSkA=\"},\"coloraxis\":\"coloraxis\",\"size\":{\"dtype\":\"f8\",\"bdata\":\"DYecQ0E0GUA=\"},\"sizemode\":\"area\",\"sizeref\":0.005201387060501242,\"symbol\":\"circle\"},\"mode\":\"markers\",\"name\":\"\",\"showlegend\":false,\"type\":\"scattergeo\"}],\"name\":\"2018\"},{\"data\":[{\"customdata\":{\"dtype\":\"f8\",\"bdata\":\"AAAAAACYnkAAAAAAAMBbQAAAAAAAwFtAAAAAAAAAR0AAAAAAAAAAAAAAAACAOlLA\",\"shape\":\"1, 6\"},\"geo\":\"geo\",\"hovertemplate\":\"\\u003cb\\u003e%{hovertext}\\u003c\\u002fb\\u003e\\u003cbr\\u003e\\u003cbr\\u003eYear=%{customdata[0]}\\u003cbr\\u003eImpact_Score_Log=%{marker.size}\\u003cbr\\u003eLatitude=%{lat}\\u003cbr\\u003eLongitude=%{lon}\\u003cbr\\u003eImpact_Score=%{customdata[1]}\\u003cbr\\u003eTotal Deaths=%{customdata[2]}\\u003cbr\\u003eTotal Affected=%{customdata[3]}\\u003cbr\\u003eTotal Damages ('000 US$)=%{customdata[4]}\\u003cbr\\u003emmfrom1993-2008average=%{marker.color:.2f}\\u003cextra\\u003e\\u003c\\u002fextra\\u003e\",\"hovertext\":[\"Colombia\"],\"lat\":[\"1.5\"],\"legendgroup\":\"\",\"lon\":[\"-79.5\"],\"marker\":{\"color\":{\"dtype\":\"f8\",\"bdata\":\"AAAAAIA6UsA=\"},\"coloraxis\":\"coloraxis\",\"size\":{\"dtype\":\"f8\",\"bdata\":\"D\\u002fAta8xkAEA=\"},\"sizemode\":\"area\",\"sizeref\":0.005201387060501242,\"symbol\":\"circle\"},\"mode\":\"markers\",\"name\":\"\",\"showlegend\":false,\"type\":\"scattergeo\"}],\"name\":\"1958\"}]);\n",
       "                        }).then(function(){\n",
       "                            \n",
       "var gd = document.getElementById('5119df97-4809-4a5e-a1d6-1d5267671ff7');\n",
=======
       "<div>                            <div id=\"d850e6d7-b747-4e36-857d-0dd7787e3fe3\" class=\"plotly-graph-div\" style=\"height:700px; width:100%;\"></div>            <script type=\"text/javascript\">                require([\"plotly\"], function(Plotly) {                    window.PLOTLYENV=window.PLOTLYENV || {};                                    if (document.getElementById(\"d850e6d7-b747-4e36-857d-0dd7787e3fe3\")) {                    Plotly.newPlot(                        \"d850e6d7-b747-4e36-857d-0dd7787e3fe3\",                        [{\"customdata\":[[1928.0,27.0,27.0,0.0,0.0,-128.8807292],[1928.0,128.0,128.0,0.0,0.0,-128.8807292]],\"geo\":\"geo\",\"hovertemplate\":\"<b>%{hovertext}</b><br><br>Year=%{customdata[0]}<br>Impact_Score_Log=%{marker.size}<br>Latitude=%{lat}<br>Longitude=%{lon}<br>Impact_Score=%{customdata[1]}<br>Total Deaths=%{customdata[2]}<br>Total Affected=%{customdata[3]}<br>Total Damages ('000 US$)=%{customdata[4]}<br>mmfrom1993-2008average=%{marker.color:.2f}<extra></extra>\",\"hovertext\":[\"Canada\",\"Indonesia\"],\"lat\":[\"48.60 N\",\"8.30 S\"],\"legendgroup\":\"\",\"lon\":[\"58.00 W\",\"121.70 E\"],\"marker\":{\"color\":[-128.8807292,-128.8807292],\"coloraxis\":\"coloraxis\",\"size\":[1.4471580313422192,2.110589710299249],\"sizemode\":\"area\",\"sizeref\":0.005201387060501242,\"symbol\":\"circle\"},\"mode\":\"markers\",\"name\":\"\",\"showlegend\":false,\"type\":\"scattergeo\"}],                        {\"template\":{\"data\":{\"histogram2dcontour\":[{\"type\":\"histogram2dcontour\",\"colorbar\":{\"outlinewidth\":0,\"ticks\":\"\"},\"colorscale\":[[0.0,\"#0d0887\"],[0.1111111111111111,\"#46039f\"],[0.2222222222222222,\"#7201a8\"],[0.3333333333333333,\"#9c179e\"],[0.4444444444444444,\"#bd3786\"],[0.5555555555555556,\"#d8576b\"],[0.6666666666666666,\"#ed7953\"],[0.7777777777777778,\"#fb9f3a\"],[0.8888888888888888,\"#fdca26\"],[1.0,\"#f0f921\"]]}],\"choropleth\":[{\"type\":\"choropleth\",\"colorbar\":{\"outlinewidth\":0,\"ticks\":\"\"}}],\"histogram2d\":[{\"type\":\"histogram2d\",\"colorbar\":{\"outlinewidth\":0,\"ticks\":\"\"},\"colorscale\":[[0.0,\"#0d0887\"],[0.1111111111111111,\"#46039f\"],[0.2222222222222222,\"#7201a8\"],[0.3333333333333333,\"#9c179e\"],[0.4444444444444444,\"#bd3786\"],[0.5555555555555556,\"#d8576b\"],[0.6666666666666666,\"#ed7953\"],[0.7777777777777778,\"#fb9f3a\"],[0.8888888888888888,\"#fdca26\"],[1.0,\"#f0f921\"]]}],\"heatmap\":[{\"type\":\"heatmap\",\"colorbar\":{\"outlinewidth\":0,\"ticks\":\"\"},\"colorscale\":[[0.0,\"#0d0887\"],[0.1111111111111111,\"#46039f\"],[0.2222222222222222,\"#7201a8\"],[0.3333333333333333,\"#9c179e\"],[0.4444444444444444,\"#bd3786\"],[0.5555555555555556,\"#d8576b\"],[0.6666666666666666,\"#ed7953\"],[0.7777777777777778,\"#fb9f3a\"],[0.8888888888888888,\"#fdca26\"],[1.0,\"#f0f921\"]]}],\"heatmapgl\":[{\"type\":\"heatmapgl\",\"colorbar\":{\"outlinewidth\":0,\"ticks\":\"\"},\"colorscale\":[[0.0,\"#0d0887\"],[0.1111111111111111,\"#46039f\"],[0.2222222222222222,\"#7201a8\"],[0.3333333333333333,\"#9c179e\"],[0.4444444444444444,\"#bd3786\"],[0.5555555555555556,\"#d8576b\"],[0.6666666666666666,\"#ed7953\"],[0.7777777777777778,\"#fb9f3a\"],[0.8888888888888888,\"#fdca26\"],[1.0,\"#f0f921\"]]}],\"contourcarpet\":[{\"type\":\"contourcarpet\",\"colorbar\":{\"outlinewidth\":0,\"ticks\":\"\"}}],\"contour\":[{\"type\":\"contour\",\"colorbar\":{\"outlinewidth\":0,\"ticks\":\"\"},\"colorscale\":[[0.0,\"#0d0887\"],[0.1111111111111111,\"#46039f\"],[0.2222222222222222,\"#7201a8\"],[0.3333333333333333,\"#9c179e\"],[0.4444444444444444,\"#bd3786\"],[0.5555555555555556,\"#d8576b\"],[0.6666666666666666,\"#ed7953\"],[0.7777777777777778,\"#fb9f3a\"],[0.8888888888888888,\"#fdca26\"],[1.0,\"#f0f921\"]]}],\"surface\":[{\"type\":\"surface\",\"colorbar\":{\"outlinewidth\":0,\"ticks\":\"\"},\"colorscale\":[[0.0,\"#0d0887\"],[0.1111111111111111,\"#46039f\"],[0.2222222222222222,\"#7201a8\"],[0.3333333333333333,\"#9c179e\"],[0.4444444444444444,\"#bd3786\"],[0.5555555555555556,\"#d8576b\"],[0.6666666666666666,\"#ed7953\"],[0.7777777777777778,\"#fb9f3a\"],[0.8888888888888888,\"#fdca26\"],[1.0,\"#f0f921\"]]}],\"mesh3d\":[{\"type\":\"mesh3d\",\"colorbar\":{\"outlinewidth\":0,\"ticks\":\"\"}}],\"scatter\":[{\"fillpattern\":{\"fillmode\":\"overlay\",\"size\":10,\"solidity\":0.2},\"type\":\"scatter\"}],\"parcoords\":[{\"type\":\"parcoords\",\"line\":{\"colorbar\":{\"outlinewidth\":0,\"ticks\":\"\"}}}],\"scatterpolargl\":[{\"type\":\"scatterpolargl\",\"marker\":{\"colorbar\":{\"outlinewidth\":0,\"ticks\":\"\"}}}],\"bar\":[{\"error_x\":{\"color\":\"#2a3f5f\"},\"error_y\":{\"color\":\"#2a3f5f\"},\"marker\":{\"line\":{\"color\":\"#E5ECF6\",\"width\":0.5},\"pattern\":{\"fillmode\":\"overlay\",\"size\":10,\"solidity\":0.2}},\"type\":\"bar\"}],\"scattergeo\":[{\"type\":\"scattergeo\",\"marker\":{\"colorbar\":{\"outlinewidth\":0,\"ticks\":\"\"}}}],\"scatterpolar\":[{\"type\":\"scatterpolar\",\"marker\":{\"colorbar\":{\"outlinewidth\":0,\"ticks\":\"\"}}}],\"histogram\":[{\"marker\":{\"pattern\":{\"fillmode\":\"overlay\",\"size\":10,\"solidity\":0.2}},\"type\":\"histogram\"}],\"scattergl\":[{\"type\":\"scattergl\",\"marker\":{\"colorbar\":{\"outlinewidth\":0,\"ticks\":\"\"}}}],\"scatter3d\":[{\"type\":\"scatter3d\",\"line\":{\"colorbar\":{\"outlinewidth\":0,\"ticks\":\"\"}},\"marker\":{\"colorbar\":{\"outlinewidth\":0,\"ticks\":\"\"}}}],\"scattermapbox\":[{\"type\":\"scattermapbox\",\"marker\":{\"colorbar\":{\"outlinewidth\":0,\"ticks\":\"\"}}}],\"scatterternary\":[{\"type\":\"scatterternary\",\"marker\":{\"colorbar\":{\"outlinewidth\":0,\"ticks\":\"\"}}}],\"scattercarpet\":[{\"type\":\"scattercarpet\",\"marker\":{\"colorbar\":{\"outlinewidth\":0,\"ticks\":\"\"}}}],\"carpet\":[{\"aaxis\":{\"endlinecolor\":\"#2a3f5f\",\"gridcolor\":\"white\",\"linecolor\":\"white\",\"minorgridcolor\":\"white\",\"startlinecolor\":\"#2a3f5f\"},\"baxis\":{\"endlinecolor\":\"#2a3f5f\",\"gridcolor\":\"white\",\"linecolor\":\"white\",\"minorgridcolor\":\"white\",\"startlinecolor\":\"#2a3f5f\"},\"type\":\"carpet\"}],\"table\":[{\"cells\":{\"fill\":{\"color\":\"#EBF0F8\"},\"line\":{\"color\":\"white\"}},\"header\":{\"fill\":{\"color\":\"#C8D4E3\"},\"line\":{\"color\":\"white\"}},\"type\":\"table\"}],\"barpolar\":[{\"marker\":{\"line\":{\"color\":\"#E5ECF6\",\"width\":0.5},\"pattern\":{\"fillmode\":\"overlay\",\"size\":10,\"solidity\":0.2}},\"type\":\"barpolar\"}],\"pie\":[{\"automargin\":true,\"type\":\"pie\"}]},\"layout\":{\"autotypenumbers\":\"strict\",\"colorway\":[\"#636efa\",\"#EF553B\",\"#00cc96\",\"#ab63fa\",\"#FFA15A\",\"#19d3f3\",\"#FF6692\",\"#B6E880\",\"#FF97FF\",\"#FECB52\"],\"font\":{\"color\":\"#2a3f5f\"},\"hovermode\":\"closest\",\"hoverlabel\":{\"align\":\"left\"},\"paper_bgcolor\":\"white\",\"plot_bgcolor\":\"#E5ECF6\",\"polar\":{\"bgcolor\":\"#E5ECF6\",\"angularaxis\":{\"gridcolor\":\"white\",\"linecolor\":\"white\",\"ticks\":\"\"},\"radialaxis\":{\"gridcolor\":\"white\",\"linecolor\":\"white\",\"ticks\":\"\"}},\"ternary\":{\"bgcolor\":\"#E5ECF6\",\"aaxis\":{\"gridcolor\":\"white\",\"linecolor\":\"white\",\"ticks\":\"\"},\"baxis\":{\"gridcolor\":\"white\",\"linecolor\":\"white\",\"ticks\":\"\"},\"caxis\":{\"gridcolor\":\"white\",\"linecolor\":\"white\",\"ticks\":\"\"}},\"coloraxis\":{\"colorbar\":{\"outlinewidth\":0,\"ticks\":\"\"}},\"colorscale\":{\"sequential\":[[0.0,\"#0d0887\"],[0.1111111111111111,\"#46039f\"],[0.2222222222222222,\"#7201a8\"],[0.3333333333333333,\"#9c179e\"],[0.4444444444444444,\"#bd3786\"],[0.5555555555555556,\"#d8576b\"],[0.6666666666666666,\"#ed7953\"],[0.7777777777777778,\"#fb9f3a\"],[0.8888888888888888,\"#fdca26\"],[1.0,\"#f0f921\"]],\"sequentialminus\":[[0.0,\"#0d0887\"],[0.1111111111111111,\"#46039f\"],[0.2222222222222222,\"#7201a8\"],[0.3333333333333333,\"#9c179e\"],[0.4444444444444444,\"#bd3786\"],[0.5555555555555556,\"#d8576b\"],[0.6666666666666666,\"#ed7953\"],[0.7777777777777778,\"#fb9f3a\"],[0.8888888888888888,\"#fdca26\"],[1.0,\"#f0f921\"]],\"diverging\":[[0,\"#8e0152\"],[0.1,\"#c51b7d\"],[0.2,\"#de77ae\"],[0.3,\"#f1b6da\"],[0.4,\"#fde0ef\"],[0.5,\"#f7f7f7\"],[0.6,\"#e6f5d0\"],[0.7,\"#b8e186\"],[0.8,\"#7fbc41\"],[0.9,\"#4d9221\"],[1,\"#276419\"]]},\"xaxis\":{\"gridcolor\":\"white\",\"linecolor\":\"white\",\"ticks\":\"\",\"title\":{\"standoff\":15},\"zerolinecolor\":\"white\",\"automargin\":true,\"zerolinewidth\":2},\"yaxis\":{\"gridcolor\":\"white\",\"linecolor\":\"white\",\"ticks\":\"\",\"title\":{\"standoff\":15},\"zerolinecolor\":\"white\",\"automargin\":true,\"zerolinewidth\":2},\"scene\":{\"xaxis\":{\"backgroundcolor\":\"#E5ECF6\",\"gridcolor\":\"white\",\"linecolor\":\"white\",\"showbackground\":true,\"ticks\":\"\",\"zerolinecolor\":\"white\",\"gridwidth\":2},\"yaxis\":{\"backgroundcolor\":\"#E5ECF6\",\"gridcolor\":\"white\",\"linecolor\":\"white\",\"showbackground\":true,\"ticks\":\"\",\"zerolinecolor\":\"white\",\"gridwidth\":2},\"zaxis\":{\"backgroundcolor\":\"#E5ECF6\",\"gridcolor\":\"white\",\"linecolor\":\"white\",\"showbackground\":true,\"ticks\":\"\",\"zerolinecolor\":\"white\",\"gridwidth\":2}},\"shapedefaults\":{\"line\":{\"color\":\"#2a3f5f\"}},\"annotationdefaults\":{\"arrowcolor\":\"#2a3f5f\",\"arrowhead\":0,\"arrowwidth\":1},\"geo\":{\"bgcolor\":\"white\",\"landcolor\":\"#E5ECF6\",\"subunitcolor\":\"white\",\"showland\":true,\"showlakes\":true,\"lakecolor\":\"white\"},\"title\":{\"x\":0.05},\"mapbox\":{\"style\":\"light\"}}},\"geo\":{\"domain\":{\"x\":[0.0,1.0],\"y\":[0.0,1.0]},\"projection\":{\"type\":\"natural earth\"},\"center\":{}},\"coloraxis\":{\"colorbar\":{\"title\":{\"text\":\"mmfrom1993-2008average\"}},\"colorscale\":[[0.0,\"#440154\"],[0.1111111111111111,\"#482878\"],[0.2222222222222222,\"#3e4989\"],[0.3333333333333333,\"#31688e\"],[0.4444444444444444,\"#26828e\"],[0.5555555555555556,\"#1f9e89\"],[0.6666666666666666,\"#35b779\"],[0.7777777777777778,\"#6ece58\"],[0.8888888888888888,\"#b5de2b\"],[1.0,\"#fde725\"]]},\"legend\":{\"tracegroupgap\":0,\"itemsizing\":\"constant\"},\"title\":{\"text\":\"Overstromingen en tsunami's met zeespiegelstijging en impact (log schaal)\"},\"updatemenus\":[{\"buttons\":[{\"args\":[null,{\"frame\":{\"duration\":500,\"redraw\":true},\"mode\":\"immediate\",\"fromcurrent\":true,\"transition\":{\"duration\":500,\"easing\":\"linear\"}}],\"label\":\"&#9654;\",\"method\":\"animate\"},{\"args\":[[null],{\"frame\":{\"duration\":0,\"redraw\":true},\"mode\":\"immediate\",\"fromcurrent\":true,\"transition\":{\"duration\":0,\"easing\":\"linear\"}}],\"label\":\"&#9724;\",\"method\":\"animate\"}],\"direction\":\"left\",\"pad\":{\"r\":10,\"t\":70},\"showactive\":false,\"type\":\"buttons\",\"x\":0.1,\"xanchor\":\"right\",\"y\":0,\"yanchor\":\"top\"}],\"sliders\":[{\"active\":0,\"currentvalue\":{\"prefix\":\"Year=\"},\"len\":0.9,\"pad\":{\"b\":10,\"t\":60},\"steps\":[{\"args\":[[\"1928\"],{\"frame\":{\"duration\":0,\"redraw\":true},\"mode\":\"immediate\",\"fromcurrent\":true,\"transition\":{\"duration\":0,\"easing\":\"linear\"}}],\"label\":\"1928\",\"method\":\"animate\"},{\"args\":[[\"1960\"],{\"frame\":{\"duration\":0,\"redraw\":true},\"mode\":\"immediate\",\"fromcurrent\":true,\"transition\":{\"duration\":0,\"easing\":\"linear\"}}],\"label\":\"1960\",\"method\":\"animate\"},{\"args\":[[\"1968\"],{\"frame\":{\"duration\":0,\"redraw\":true},\"mode\":\"immediate\",\"fromcurrent\":true,\"transition\":{\"duration\":0,\"easing\":\"linear\"}}],\"label\":\"1968\",\"method\":\"animate\"},{\"args\":[[\"1969\"],{\"frame\":{\"duration\":0,\"redraw\":true},\"mode\":\"immediate\",\"fromcurrent\":true,\"transition\":{\"duration\":0,\"easing\":\"linear\"}}],\"label\":\"1969\",\"method\":\"animate\"},{\"args\":[[\"1901\"],{\"frame\":{\"duration\":0,\"redraw\":true},\"mode\":\"immediate\",\"fromcurrent\":true,\"transition\":{\"duration\":0,\"easing\":\"linear\"}}],\"label\":\"1901\",\"method\":\"animate\"},{\"args\":[[\"1905\"],{\"frame\":{\"duration\":0,\"redraw\":true},\"mode\":\"immediate\",\"fromcurrent\":true,\"transition\":{\"duration\":0,\"easing\":\"linear\"}}],\"label\":\"1905\",\"method\":\"animate\"},{\"args\":[[\"1931\"],{\"frame\":{\"duration\":0,\"redraw\":true},\"mode\":\"immediate\",\"fromcurrent\":true,\"transition\":{\"duration\":0,\"easing\":\"linear\"}}],\"label\":\"1931\",\"method\":\"animate\"},{\"args\":[[\"1933\"],{\"frame\":{\"duration\":0,\"redraw\":true},\"mode\":\"immediate\",\"fromcurrent\":true,\"transition\":{\"duration\":0,\"easing\":\"linear\"}}],\"label\":\"1933\",\"method\":\"animate\"},{\"args\":[[\"1944\"],{\"frame\":{\"duration\":0,\"redraw\":true},\"mode\":\"immediate\",\"fromcurrent\":true,\"transition\":{\"duration\":0,\"easing\":\"linear\"}}],\"label\":\"1944\",\"method\":\"animate\"},{\"args\":[[\"1946\"],{\"frame\":{\"duration\":0,\"redraw\":true},\"mode\":\"immediate\",\"fromcurrent\":true,\"transition\":{\"duration\":0,\"easing\":\"linear\"}}],\"label\":\"1946\",\"method\":\"animate\"},{\"args\":[[\"1964\"],{\"frame\":{\"duration\":0,\"redraw\":true},\"mode\":\"immediate\",\"fromcurrent\":true,\"transition\":{\"duration\":0,\"easing\":\"linear\"}}],\"label\":\"1964\",\"method\":\"animate\"},{\"args\":[[\"1975\"],{\"frame\":{\"duration\":0,\"redraw\":true},\"mode\":\"immediate\",\"fromcurrent\":true,\"transition\":{\"duration\":0,\"easing\":\"linear\"}}],\"label\":\"1975\",\"method\":\"animate\"},{\"args\":[[\"1979\"],{\"frame\":{\"duration\":0,\"redraw\":true},\"mode\":\"immediate\",\"fromcurrent\":true,\"transition\":{\"duration\":0,\"easing\":\"linear\"}}],\"label\":\"1979\",\"method\":\"animate\"},{\"args\":[[\"1983\"],{\"frame\":{\"duration\":0,\"redraw\":true},\"mode\":\"immediate\",\"fromcurrent\":true,\"transition\":{\"duration\":0,\"easing\":\"linear\"}}],\"label\":\"1983\",\"method\":\"animate\"},{\"args\":[[\"1993\"],{\"frame\":{\"duration\":0,\"redraw\":true},\"mode\":\"immediate\",\"fromcurrent\":true,\"transition\":{\"duration\":0,\"easing\":\"linear\"}}],\"label\":\"1993\",\"method\":\"animate\"},{\"args\":[[\"1996\"],{\"frame\":{\"duration\":0,\"redraw\":true},\"mode\":\"immediate\",\"fromcurrent\":true,\"transition\":{\"duration\":0,\"easing\":\"linear\"}}],\"label\":\"1996\",\"method\":\"animate\"},{\"args\":[[\"1998\"],{\"frame\":{\"duration\":0,\"redraw\":true},\"mode\":\"immediate\",\"fromcurrent\":true,\"transition\":{\"duration\":0,\"easing\":\"linear\"}}],\"label\":\"1998\",\"method\":\"animate\"},{\"args\":[[\"2002\"],{\"frame\":{\"duration\":0,\"redraw\":true},\"mode\":\"immediate\",\"fromcurrent\":true,\"transition\":{\"duration\":0,\"easing\":\"linear\"}}],\"label\":\"2002\",\"method\":\"animate\"},{\"args\":[[\"2001\"],{\"frame\":{\"duration\":0,\"redraw\":true},\"mode\":\"immediate\",\"fromcurrent\":true,\"transition\":{\"duration\":0,\"easing\":\"linear\"}}],\"label\":\"2001\",\"method\":\"animate\"},{\"args\":[[\"2004\"],{\"frame\":{\"duration\":0,\"redraw\":true},\"mode\":\"immediate\",\"fromcurrent\":true,\"transition\":{\"duration\":0,\"easing\":\"linear\"}}],\"label\":\"2004\",\"method\":\"animate\"},{\"args\":[[\"2006\"],{\"frame\":{\"duration\":0,\"redraw\":true},\"mode\":\"immediate\",\"fromcurrent\":true,\"transition\":{\"duration\":0,\"easing\":\"linear\"}}],\"label\":\"2006\",\"method\":\"animate\"},{\"args\":[[\"2007\"],{\"frame\":{\"duration\":0,\"redraw\":true},\"mode\":\"immediate\",\"fromcurrent\":true,\"transition\":{\"duration\":0,\"easing\":\"linear\"}}],\"label\":\"2007\",\"method\":\"animate\"},{\"args\":[[\"2009\"],{\"frame\":{\"duration\":0,\"redraw\":true},\"mode\":\"immediate\",\"fromcurrent\":true,\"transition\":{\"duration\":0,\"easing\":\"linear\"}}],\"label\":\"2009\",\"method\":\"animate\"},{\"args\":[[\"2010\"],{\"frame\":{\"duration\":0,\"redraw\":true},\"mode\":\"immediate\",\"fromcurrent\":true,\"transition\":{\"duration\":0,\"easing\":\"linear\"}}],\"label\":\"2010\",\"method\":\"animate\"},{\"args\":[[\"2011\"],{\"frame\":{\"duration\":0,\"redraw\":true},\"mode\":\"immediate\",\"fromcurrent\":true,\"transition\":{\"duration\":0,\"easing\":\"linear\"}}],\"label\":\"2011\",\"method\":\"animate\"},{\"args\":[[\"2013\"],{\"frame\":{\"duration\":0,\"redraw\":true},\"mode\":\"immediate\",\"fromcurrent\":true,\"transition\":{\"duration\":0,\"easing\":\"linear\"}}],\"label\":\"2013\",\"method\":\"animate\"},{\"args\":[[\"2015\"],{\"frame\":{\"duration\":0,\"redraw\":true},\"mode\":\"immediate\",\"fromcurrent\":true,\"transition\":{\"duration\":0,\"easing\":\"linear\"}}],\"label\":\"2015\",\"method\":\"animate\"},{\"args\":[[\"2016\"],{\"frame\":{\"duration\":0,\"redraw\":true},\"mode\":\"immediate\",\"fromcurrent\":true,\"transition\":{\"duration\":0,\"easing\":\"linear\"}}],\"label\":\"2016\",\"method\":\"animate\"},{\"args\":[[\"2018\"],{\"frame\":{\"duration\":0,\"redraw\":true},\"mode\":\"immediate\",\"fromcurrent\":true,\"transition\":{\"duration\":0,\"easing\":\"linear\"}}],\"label\":\"2018\",\"method\":\"animate\"},{\"args\":[[\"1958\"],{\"frame\":{\"duration\":0,\"redraw\":true},\"mode\":\"immediate\",\"fromcurrent\":true,\"transition\":{\"duration\":0,\"easing\":\"linear\"}}],\"label\":\"1958\",\"method\":\"animate\"}],\"x\":0.1,\"xanchor\":\"left\",\"y\":0,\"yanchor\":\"top\"}],\"height\":700},                        {\"responsive\": true}                    ).then(function(){\n",
       "                            Plotly.addFrames('d850e6d7-b747-4e36-857d-0dd7787e3fe3', [{\"data\":[{\"customdata\":[[1928.0,27.0,27.0,0.0,0.0,-128.8807292],[1928.0,128.0,128.0,0.0,0.0,-128.8807292]],\"geo\":\"geo\",\"hovertemplate\":\"<b>%{hovertext}</b><br><br>Year=%{customdata[0]}<br>Impact_Score_Log=%{marker.size}<br>Latitude=%{lat}<br>Longitude=%{lon}<br>Impact_Score=%{customdata[1]}<br>Total Deaths=%{customdata[2]}<br>Total Affected=%{customdata[3]}<br>Total Damages ('000 US$)=%{customdata[4]}<br>mmfrom1993-2008average=%{marker.color:.2f}<extra></extra>\",\"hovertext\":[\"Canada\",\"Indonesia\"],\"lat\":[\"48.60 N\",\"8.30 S\"],\"legendgroup\":\"\",\"lon\":[\"58.00 W\",\"121.70 E\"],\"marker\":{\"color\":[-128.8807292,-128.8807292],\"coloraxis\":\"coloraxis\",\"size\":[1.4471580313422192,2.110589710299249],\"sizemode\":\"area\",\"sizeref\":0.005201387060501242,\"symbol\":\"circle\"},\"mode\":\"markers\",\"name\":\"\",\"showlegend\":false,\"type\":\"scattergeo\"}],\"name\":\"1928\"},{\"data\":[{\"customdata\":[[1960.0,2003000.0,6000.0,2003000.0,550000.0,-66.88072917]],\"geo\":\"geo\",\"hovertemplate\":\"<b>%{hovertext}</b><br><br>Year=%{customdata[0]}<br>Impact_Score_Log=%{marker.size}<br>Latitude=%{lat}<br>Longitude=%{lon}<br>Impact_Score=%{customdata[1]}<br>Total Deaths=%{customdata[2]}<br>Total Affected=%{customdata[3]}<br>Total Damages ('000 US$)=%{customdata[4]}<br>mmfrom1993-2008average=%{marker.color:.2f}<extra></extra>\",\"hovertext\":[\"Chile\"],\"lat\":[\"-38.143\"],\"legendgroup\":\"\",\"lon\":[\"-73.407\"],\"marker\":{\"color\":[-66.88072917],\"coloraxis\":\"coloraxis\",\"size\":[6.30168116611553],\"sizemode\":\"area\",\"sizeref\":0.005201387060501242,\"symbol\":\"circle\"},\"mode\":\"markers\",\"name\":\"\",\"showlegend\":false,\"type\":\"scattergeo\"}],\"name\":\"1960\"},{\"data\":[{\"customdata\":[[1968.0,200.0,200.0,0.0,0.0,-72.8140625]],\"geo\":\"geo\",\"hovertemplate\":\"<b>%{hovertext}</b><br><br>Year=%{customdata[0]}<br>Impact_Score_Log=%{marker.size}<br>Latitude=%{lat}<br>Longitude=%{lon}<br>Impact_Score=%{customdata[1]}<br>Total Deaths=%{customdata[2]}<br>Total Affected=%{customdata[3]}<br>Total Damages ('000 US$)=%{customdata[4]}<br>mmfrom1993-2008average=%{marker.color:.2f}<extra></extra>\",\"hovertext\":[\"Indonesia\"],\"lat\":[\"0.157\"],\"legendgroup\":\"\",\"lon\":[\"119.802\"],\"marker\":{\"color\":[-72.8140625],\"coloraxis\":\"coloraxis\",\"size\":[2.303196057420489],\"sizemode\":\"area\",\"sizeref\":0.005201387060501242,\"symbol\":\"circle\"},\"mode\":\"markers\",\"name\":\"\",\"showlegend\":false,\"type\":\"scattergeo\"}],\"name\":\"1968\"},{\"data\":[{\"customdata\":[[1969.0,6532.0,64.0,6532.0,0.0,-62.6140625]],\"geo\":\"geo\",\"hovertemplate\":\"<b>%{hovertext}</b><br><br>Year=%{customdata[0]}<br>Impact_Score_Log=%{marker.size}<br>Latitude=%{lat}<br>Longitude=%{lon}<br>Impact_Score=%{customdata[1]}<br>Total Deaths=%{customdata[2]}<br>Total Affected=%{customdata[3]}<br>Total Damages ('000 US$)=%{customdata[4]}<br>mmfrom1993-2008average=%{marker.color:.2f}<extra></extra>\",\"hovertext\":[\"Indonesia\"],\"lat\":[\"-3.201\"],\"legendgroup\":\"\",\"lon\":[\"118.904\"],\"marker\":{\"color\":[-62.6140625],\"coloraxis\":\"coloraxis\",\"size\":[3.8151126581898125],\"sizemode\":\"area\",\"sizeref\":0.005201387060501242,\"symbol\":\"circle\"},\"mode\":\"markers\",\"name\":\"\",\"showlegend\":false,\"type\":\"scattergeo\"}],\"name\":\"1969\"},{\"data\":[{\"customdata\":[[1901.0,24.0,18.0,24.0,0.0,-156.5473958]],\"geo\":\"geo\",\"hovertemplate\":\"<b>%{hovertext}</b><br><br>Year=%{customdata[0]}<br>Impact_Score_Log=%{marker.size}<br>Latitude=%{lat}<br>Longitude=%{lon}<br>Impact_Score=%{customdata[1]}<br>Total Deaths=%{customdata[2]}<br>Total Affected=%{customdata[3]}<br>Total Damages ('000 US$)=%{customdata[4]}<br>mmfrom1993-2008average=%{marker.color:.2f}<extra></extra>\",\"hovertext\":[\"Japan\"],\"lat\":[\"40.5\"],\"legendgroup\":\"\",\"lon\":[\"142.5\"],\"marker\":{\"color\":[-156.5473958],\"coloraxis\":\"coloraxis\",\"size\":[1.3979400086720377],\"sizemode\":\"area\",\"sizeref\":0.005201387060501242,\"symbol\":\"circle\"},\"mode\":\"markers\",\"name\":\"\",\"showlegend\":false,\"type\":\"scattergeo\"}],\"name\":\"1901\"},{\"data\":[{\"customdata\":[[1905.0,41.0,41.0,0.0,0.0,-154.4140625]],\"geo\":\"geo\",\"hovertemplate\":\"<b>%{hovertext}</b><br><br>Year=%{customdata[0]}<br>Impact_Score_Log=%{marker.size}<br>Latitude=%{lat}<br>Longitude=%{lon}<br>Impact_Score=%{customdata[1]}<br>Total Deaths=%{customdata[2]}<br>Total Affected=%{customdata[3]}<br>Total Damages ('000 US$)=%{customdata[4]}<br>mmfrom1993-2008average=%{marker.color:.2f}<extra></extra>\",\"hovertext\":[\"Japan\"],\"lat\":[\"37.4\"],\"legendgroup\":\"\",\"lon\":[\"142.6\"],\"marker\":{\"color\":[-154.4140625],\"coloraxis\":\"coloraxis\",\"size\":[1.6232492903979006],\"sizemode\":\"area\",\"sizeref\":0.005201387060501242,\"symbol\":\"circle\"},\"mode\":\"markers\",\"name\":\"\",\"showlegend\":false,\"type\":\"scattergeo\"}],\"name\":\"1905\"},{\"data\":[{\"customdata\":[[1931.0,50.0,50.0,0.0,0.0,-126.7473958]],\"geo\":\"geo\",\"hovertemplate\":\"<b>%{hovertext}</b><br><br>Year=%{customdata[0]}<br>Impact_Score_Log=%{marker.size}<br>Latitude=%{lat}<br>Longitude=%{lon}<br>Impact_Score=%{customdata[1]}<br>Total Deaths=%{customdata[2]}<br>Total Affected=%{customdata[3]}<br>Total Damages ('000 US$)=%{customdata[4]}<br>mmfrom1993-2008average=%{marker.color:.2f}<extra></extra>\",\"hovertext\":[\"Solomon Islands\"],\"lat\":[\"11.117\"],\"legendgroup\":\"\",\"lon\":[\"161.11\"],\"marker\":{\"color\":[-126.7473958],\"coloraxis\":\"coloraxis\",\"size\":[1.7075701760979363],\"sizemode\":\"area\",\"sizeref\":0.005201387060501242,\"symbol\":\"circle\"},\"mode\":\"markers\",\"name\":\"\",\"showlegend\":false,\"type\":\"scattergeo\"}],\"name\":\"1931\"},{\"data\":[{\"customdata\":[[1933.0,3000.0,3000.0,0.0,0.0,-119.9807292]],\"geo\":\"geo\",\"hovertemplate\":\"<b>%{hovertext}</b><br><br>Year=%{customdata[0]}<br>Impact_Score_Log=%{marker.size}<br>Latitude=%{lat}<br>Longitude=%{lon}<br>Impact_Score=%{customdata[1]}<br>Total Deaths=%{customdata[2]}<br>Total Affected=%{customdata[3]}<br>Total Damages ('000 US$)=%{customdata[4]}<br>mmfrom1993-2008average=%{marker.color:.2f}<extra></extra>\",\"hovertext\":[\"Japan\"],\"lat\":[\"39.224\"],\"legendgroup\":\"\",\"lon\":[\"144.622\"],\"marker\":{\"color\":[-119.9807292],\"coloraxis\":\"coloraxis\",\"size\":[3.477265995424853],\"sizemode\":\"area\",\"sizeref\":0.005201387060501242,\"symbol\":\"circle\"},\"mode\":\"markers\",\"name\":\"\",\"showlegend\":false,\"type\":\"scattergeo\"}],\"name\":\"1933\"},{\"data\":[{\"customdata\":[[1944.0,80573.0,1223.0,80573.0,0.0,-116.9473958]],\"geo\":\"geo\",\"hovertemplate\":\"<b>%{hovertext}</b><br><br>Year=%{customdata[0]}<br>Impact_Score_Log=%{marker.size}<br>Latitude=%{lat}<br>Longitude=%{lon}<br>Impact_Score=%{customdata[1]}<br>Total Deaths=%{customdata[2]}<br>Total Affected=%{customdata[3]}<br>Total Damages ('000 US$)=%{customdata[4]}<br>mmfrom1993-2008average=%{marker.color:.2f}<extra></extra>\",\"hovertext\":[\"Japan\"],\"lat\":[\"33.682\"],\"legendgroup\":\"\",\"lon\":[\"36.204\"],\"marker\":{\"color\":[-116.9473958],\"coloraxis\":\"coloraxis\",\"size\":[4.906194924210101],\"sizemode\":\"area\",\"sizeref\":0.005201387060501242,\"symbol\":\"circle\"},\"mode\":\"markers\",\"name\":\"\",\"showlegend\":false,\"type\":\"scattergeo\"}],\"name\":\"1944\"},{\"data\":[{\"customdata\":[[1946.0,25000.0,165.0,0.0,25000.0,-92.68072917]],\"geo\":\"geo\",\"hovertemplate\":\"<b>%{hovertext}</b><br><br>Year=%{customdata[0]}<br>Impact_Score_Log=%{marker.size}<br>Latitude=%{lat}<br>Longitude=%{lon}<br>Impact_Score=%{customdata[1]}<br>Total Deaths=%{customdata[2]}<br>Total Affected=%{customdata[3]}<br>Total Damages ('000 US$)=%{customdata[4]}<br>mmfrom1993-2008average=%{marker.color:.2f}<extra></extra>\",\"hovertext\":[\"United States of America (the)\"],\"lat\":[\"53.492\"],\"legendgroup\":\"\",\"lon\":[\"-162.832\"],\"marker\":{\"color\":[-92.68072917],\"coloraxis\":\"coloraxis\",\"size\":[4.397957380103888],\"sizemode\":\"area\",\"sizeref\":0.005201387060501242,\"symbol\":\"circle\"},\"mode\":\"markers\",\"name\":\"\",\"showlegend\":false,\"type\":\"scattergeo\"}],\"name\":\"1946\"},{\"data\":[{\"customdata\":[[1964.0,800000.0,25.0,35376.0,800000.0,-70.98072917],[1964.0,311000.0,131.0,0.0,311000.0,-70.98072917]],\"geo\":\"geo\",\"hovertemplate\":\"<b>%{hovertext}</b><br><br>Year=%{customdata[0]}<br>Impact_Score_Log=%{marker.size}<br>Latitude=%{lat}<br>Longitude=%{lon}<br>Impact_Score=%{customdata[1]}<br>Total Deaths=%{customdata[2]}<br>Total Affected=%{customdata[3]}<br>Total Damages ('000 US$)=%{customdata[4]}<br>mmfrom1993-2008average=%{marker.color:.2f}<extra></extra>\",\"hovertext\":[\"Japan\",\"United States of America (the)\"],\"lat\":[\"38.67\",\"60.908\"],\"legendgroup\":\"\",\"lon\":[\"139.195\",\"-147.339\"],\"marker\":{\"color\":[-70.98072917,-70.98072917],\"coloraxis\":\"coloraxis\",\"size\":[5.903090529859707,5.492761785469872],\"sizemode\":\"area\",\"sizeref\":0.005201387060501242,\"symbol\":\"circle\"},\"mode\":\"markers\",\"name\":\"\",\"showlegend\":false,\"type\":\"scattergeo\"}],\"name\":\"1964\"},{\"data\":[{\"customdata\":[[1975.0,200.0,200.0,0.0,0.0,-45.84739583]],\"geo\":\"geo\",\"hovertemplate\":\"<b>%{hovertext}</b><br><br>Year=%{customdata[0]}<br>Impact_Score_Log=%{marker.size}<br>Latitude=%{lat}<br>Longitude=%{lon}<br>Impact_Score=%{customdata[1]}<br>Total Deaths=%{customdata[2]}<br>Total Affected=%{customdata[3]}<br>Total Damages ('000 US$)=%{customdata[4]}<br>mmfrom1993-2008average=%{marker.color:.2f}<extra></extra>\",\"hovertext\":[\"Solomon Islands\"],\"lat\":[\"-7.104\"],\"legendgroup\":\"\",\"lon\":[\"155.152\"],\"marker\":{\"color\":[-45.84739583],\"coloraxis\":\"coloraxis\",\"size\":[2.303196057420489],\"sizemode\":\"area\",\"sizeref\":0.005201387060501242,\"symbol\":\"circle\"},\"mode\":\"markers\",\"name\":\"\",\"showlegend\":false,\"type\":\"scattergeo\"}],\"name\":\"1975\"},{\"data\":[{\"customdata\":[[1979.0,11.0,11.0,2.0,0.0,-46.8140625],[1979.0,539.0,539.0,23.0,0.0,-46.8140625]],\"geo\":\"geo\",\"hovertemplate\":\"<b>%{hovertext}</b><br><br>Year=%{customdata[0]}<br>Impact_Score_Log=%{marker.size}<br>Latitude=%{lat}<br>Longitude=%{lon}<br>Impact_Score=%{customdata[1]}<br>Total Deaths=%{customdata[2]}<br>Total Affected=%{customdata[3]}<br>Total Damages ('000 US$)=%{customdata[4]}<br>mmfrom1993-2008average=%{marker.color:.2f}<extra></extra>\",\"hovertext\":[\"France\",\"Indonesia\"],\"lat\":[\"43.70 N\",\"8.8\"],\"legendgroup\":\"\",\"lon\":[\"7.25 E\",\"123.5\"],\"marker\":{\"color\":[-46.8140625,-46.8140625],\"coloraxis\":\"coloraxis\",\"size\":[1.0791812460476249,2.7323937598229686],\"sizemode\":\"area\",\"sizeref\":0.005201387060501242,\"symbol\":\"circle\"},\"mode\":\"markers\",\"name\":\"\",\"showlegend\":false,\"type\":\"scattergeo\"}],\"name\":\"1979\"},{\"data\":[{\"customdata\":[[1983.0,416000.0,102.0,77.0,416000.0,-22.28072917]],\"geo\":\"geo\",\"hovertemplate\":\"<b>%{hovertext}</b><br><br>Year=%{customdata[0]}<br>Impact_Score_Log=%{marker.size}<br>Latitude=%{lat}<br>Longitude=%{lon}<br>Impact_Score=%{customdata[1]}<br>Total Deaths=%{customdata[2]}<br>Total Affected=%{customdata[3]}<br>Total Damages ('000 US$)=%{customdata[4]}<br>mmfrom1993-2008average=%{marker.color:.2f}<extra></extra>\",\"hovertext\":[\"Japan\"],\"lat\":[\"40.462\"],\"legendgroup\":\"\",\"lon\":[\"139.102\"],\"marker\":{\"color\":[-22.28072917],\"coloraxis\":\"coloraxis\",\"size\":[5.619094374602608],\"sizemode\":\"area\",\"sizeref\":0.005201387060501242,\"symbol\":\"circle\"},\"mode\":\"markers\",\"name\":\"\",\"showlegend\":false,\"type\":\"scattergeo\"}],\"name\":\"1983\"},{\"data\":[{\"customdata\":[[1993.0,1000000.0,239.0,7355.0,1000000.0,-22.78072917]],\"geo\":\"geo\",\"hovertemplate\":\"<b>%{hovertext}</b><br><br>Year=%{customdata[0]}<br>Impact_Score_Log=%{marker.size}<br>Latitude=%{lat}<br>Longitude=%{lon}<br>Impact_Score=%{customdata[1]}<br>Total Deaths=%{customdata[2]}<br>Total Affected=%{customdata[3]}<br>Total Damages ('000 US$)=%{customdata[4]}<br>mmfrom1993-2008average=%{marker.color:.2f}<extra></extra>\",\"hovertext\":[\"Japan\"],\"lat\":[\"42.851 N\"],\"legendgroup\":\"\",\"lon\":[\"139.197 E\"],\"marker\":{\"color\":[-22.78072917],\"coloraxis\":\"coloraxis\",\"size\":[6.0000004342942646],\"sizemode\":\"area\",\"sizeref\":0.005201387060501242,\"symbol\":\"circle\"},\"mode\":\"markers\",\"name\":\"\",\"showlegend\":false,\"type\":\"scattergeo\"}],\"name\":\"1993\"},{\"data\":[{\"customdata\":[[1996.0,752.0,7.0,752.0,0.0,-11.94739583]],\"geo\":\"geo\",\"hovertemplate\":\"<b>%{hovertext}</b><br><br>Year=%{customdata[0]}<br>Impact_Score_Log=%{marker.size}<br>Latitude=%{lat}<br>Longitude=%{lon}<br>Impact_Score=%{customdata[1]}<br>Total Deaths=%{customdata[2]}<br>Total Affected=%{customdata[3]}<br>Total Damages ('000 US$)=%{customdata[4]}<br>mmfrom1993-2008average=%{marker.color:.2f}<extra></extra>\",\"hovertext\":[\"Peru\"],\"lat\":[\"9.593 S\"],\"legendgroup\":\"\",\"lon\":[\"79.587 W\"],\"marker\":{\"color\":[-11.94739583],\"coloraxis\":\"coloraxis\",\"size\":[2.8767949762007006],\"sizemode\":\"area\",\"sizeref\":0.005201387060501242,\"symbol\":\"circle\"},\"mode\":\"markers\",\"name\":\"\",\"showlegend\":false,\"type\":\"scattergeo\"}],\"name\":\"1996\"},{\"data\":[{\"customdata\":[[1998.0,9867.0,2182.0,9867.0,0.0,-10.8140625]],\"geo\":\"geo\",\"hovertemplate\":\"<b>%{hovertext}</b><br><br>Year=%{customdata[0]}<br>Impact_Score_Log=%{marker.size}<br>Latitude=%{lat}<br>Longitude=%{lon}<br>Impact_Score=%{customdata[1]}<br>Total Deaths=%{customdata[2]}<br>Total Affected=%{customdata[3]}<br>Total Damages ('000 US$)=%{customdata[4]}<br>mmfrom1993-2008average=%{marker.color:.2f}<extra></extra>\",\"hovertext\":[\"Papua New Guinea\"],\"lat\":[\"-2.961\"],\"legendgroup\":\"\",\"lon\":[\"141.926\"],\"marker\":{\"color\":[-10.8140625],\"coloraxis\":\"coloraxis\",\"size\":[3.9942291408176986],\"sizemode\":\"area\",\"sizeref\":0.005201387060501242,\"symbol\":\"circle\"},\"mode\":\"markers\",\"name\":\"\",\"showlegend\":false,\"type\":\"scattergeo\"}],\"name\":\"1998\"},{\"data\":[{\"customdata\":[[2002.0,9082.0,8.0,9082.0,0.0,2.152604167]],\"geo\":\"geo\",\"hovertemplate\":\"<b>%{hovertext}</b><br><br>Year=%{customdata[0]}<br>Impact_Score_Log=%{marker.size}<br>Latitude=%{lat}<br>Longitude=%{lon}<br>Impact_Score=%{customdata[1]}<br>Total Deaths=%{customdata[2]}<br>Total Affected=%{customdata[3]}<br>Total Damages ('000 US$)=%{customdata[4]}<br>mmfrom1993-2008average=%{marker.color:.2f}<extra></extra>\",\"hovertext\":[\"Indonesia\"],\"lat\":[\"-1.757\"],\"legendgroup\":\"\",\"lon\":[\"134.297\"],\"marker\":{\"color\":[2.152604167],\"coloraxis\":\"coloraxis\",\"size\":[3.958229314188382],\"sizemode\":\"area\",\"sizeref\":0.005201387060501242,\"symbol\":\"circle\"},\"mode\":\"markers\",\"name\":\"\",\"showlegend\":false,\"type\":\"scattergeo\"}],\"name\":\"2002\"},{\"data\":[{\"customdata\":[[2001.0,349978.0,145.0,349978.0,300000.0,4.719270833]],\"geo\":\"geo\",\"hovertemplate\":\"<b>%{hovertext}</b><br><br>Year=%{customdata[0]}<br>Impact_Score_Log=%{marker.size}<br>Latitude=%{lat}<br>Longitude=%{lon}<br>Impact_Score=%{customdata[1]}<br>Total Deaths=%{customdata[2]}<br>Total Affected=%{customdata[3]}<br>Total Damages ('000 US$)=%{customdata[4]}<br>mmfrom1993-2008average=%{marker.color:.2f}<extra></extra>\",\"hovertext\":[\"Peru\"],\"lat\":[\"-16.265\"],\"legendgroup\":\"\",\"lon\":[\"-73.641\"],\"marker\":{\"color\":[4.719270833],\"coloraxis\":\"coloraxis\",\"size\":[5.5440419858996],\"sizemode\":\"area\",\"sizeref\":0.005201387060501242,\"symbol\":\"circle\"},\"mode\":\"markers\",\"name\":\"\",\"showlegend\":false,\"type\":\"scattergeo\"}],\"name\":\"2001\"},{\"data\":[{\"customdata\":[[2004.0,4451600.0,165708.0,532898.0,4451600.0,13.65260417],[2004.0,100000.0,1.0,0.0,100000.0,13.65260417],[2004.0,500000.0,2.0,0.0,500000.0,13.65260417],[2004.0,1022800.0,16389.0,654512.0,1022800.0,13.65260417],[2004.0,1316500.0,35399.0,1019306.0,1316500.0,13.65260417],[2004.0,470100.0,102.0,27214.0,470100.0,13.65260417],[2004.0,500000.0,80.0,5063.0,500000.0,13.65260417],[2004.0,1000000.0,8345.0,67007.0,1000000.0,13.65260417],[2004.0,500000.0,71.0,15700.0,500000.0,13.65260417],[2004.0,105083.0,298.0,105083.0,100000.0,13.65260417],[2004.0,30000.0,3.0,4830.0,30000.0,13.65260417],[2004.0,10.0,10.0,0.0,0.0,13.65260417]],\"geo\":\"geo\",\"hovertemplate\":\"<b>%{hovertext}</b><br><br>Year=%{customdata[0]}<br>Impact_Score_Log=%{marker.size}<br>Latitude=%{lat}<br>Longitude=%{lon}<br>Impact_Score=%{customdata[1]}<br>Total Deaths=%{customdata[2]}<br>Total Affected=%{customdata[3]}<br>Total Damages ('000 US$)=%{customdata[4]}<br>mmfrom1993-2008average=%{marker.color:.2f}<extra></extra>\",\"hovertext\":[\"Indonesia\",\"Kenya\",\"Bangladesh\",\"India\",\"Sri Lanka\",\"Maldives\",\"Malaysia\",\"Thailand\",\"Myanmar\",\"Somalia\",\"Seychelles\",\"Tanzania, United Republic of\"],\"lat\":[\"3.295\",\"3.295\",\"3.295\",\"3.295\",\"3.295\",\"3.295\",\"3.295\",\"3.295\",\"3.295\",\"3.295\",\"3.295\",\"3.295\"],\"legendgroup\":\"\",\"lon\":[\"95.982\",\"95.982\",\"95.982\",\"95.982\",\"95.982\",\"95.982\",\"95.982\",\"95.982\",\"95.982\",\"95.982\",\"95.982\",\"95.982\"],\"marker\":{\"color\":[13.65260417,13.65260417,13.65260417,13.65260417,13.65260417,13.65260417,13.65260417,13.65260417,13.65260417,13.65260417,13.65260417,13.65260417],\"coloraxis\":\"coloraxis\",\"size\":[6.648516231299731,5.000004342923105,5.698970872924114,6.009791143967389,6.1194211933276295,5.672191175021522,5.698970872924114,6.0000004342942646,5.698970872924114,5.021536595755301,4.477135730961123,1.0413926851582251],\"sizemode\":\"area\",\"sizeref\":0.005201387060501242,\"symbol\":\"circle\"},\"mode\":\"markers\",\"name\":\"\",\"showlegend\":false,\"type\":\"scattergeo\"}],\"name\":\"2004\"},{\"data\":[{\"customdata\":[[2006.0,1202.0,3.0,1202.0,0.0,9.519270833],[2006.0,55000.0,802.0,35543.0,55000.0,9.519270833]],\"geo\":\"geo\",\"hovertemplate\":\"<b>%{hovertext}</b><br><br>Year=%{customdata[0]}<br>Impact_Score_Log=%{marker.size}<br>Latitude=%{lat}<br>Longitude=%{lon}<br>Impact_Score=%{customdata[1]}<br>Total Deaths=%{customdata[2]}<br>Total Affected=%{customdata[3]}<br>Total Damages ('000 US$)=%{customdata[4]}<br>mmfrom1993-2008average=%{marker.color:.2f}<extra></extra>\",\"hovertext\":[\"Indonesia\",\"Indonesia\"],\"lat\":[\"-3.595\",\"-9.284\"],\"legendgroup\":\"\",\"lon\":[\"127.214\",\"107.419\"],\"marker\":{\"color\":[9.519270833,9.519270833],\"coloraxis\":\"coloraxis\",\"size\":[3.0802656273398448,4.740370585685768],\"sizemode\":\"area\",\"sizeref\":0.005201387060501242,\"symbol\":\"circle\"},\"mode\":\"markers\",\"name\":\"\",\"showlegend\":false,\"type\":\"scattergeo\"}],\"name\":\"2006\"},{\"data\":[{\"customdata\":[[2007.0,2384.0,52.0,2384.0,0.0,22.7859375],[2007.0,10.0,10.0,0.0,0.0,22.7859375]],\"geo\":\"geo\",\"hovertemplate\":\"<b>%{hovertext}</b><br><br>Year=%{customdata[0]}<br>Impact_Score_Log=%{marker.size}<br>Latitude=%{lat}<br>Longitude=%{lon}<br>Impact_Score=%{customdata[1]}<br>Total Deaths=%{customdata[2]}<br>Total Affected=%{customdata[3]}<br>Total Damages ('000 US$)=%{customdata[4]}<br>mmfrom1993-2008average=%{marker.color:.2f}<extra></extra>\",\"hovertext\":[\"Solomon Islands\",\"Chile\"],\"lat\":[\"-8.466\",\"-45.243\"],\"legendgroup\":\"\",\"lon\":[\"157.043\",\"-72.648\"],\"marker\":{\"color\":[22.7859375,22.7859375],\"coloraxis\":\"coloraxis\",\"size\":[3.3774883833761327,1.0413926851582251],\"sizemode\":\"area\",\"sizeref\":0.005201387060501242,\"symbol\":\"circle\"},\"mode\":\"markers\",\"name\":\"\",\"showlegend\":false,\"type\":\"scattergeo\"}],\"name\":\"2007\"},{\"data\":[{\"customdata\":[[2009.0,2500.0,34.0,2500.0,0.0,33.65260417],[2009.0,400000.0,1.0,25319.0,400000.0,33.65260417],[2009.0,9500.0,9.0,507.0,9500.0,33.65260417],[2009.0,124040.0,148.0,5584.0,124040.0,33.65260417]],\"geo\":\"geo\",\"hovertemplate\":\"<b>%{hovertext}</b><br><br>Year=%{customdata[0]}<br>Impact_Score_Log=%{marker.size}<br>Latitude=%{lat}<br>Longitude=%{lon}<br>Impact_Score=%{customdata[1]}<br>Total Deaths=%{customdata[2]}<br>Total Affected=%{customdata[3]}<br>Total Damages ('000 US$)=%{customdata[4]}<br>mmfrom1993-2008average=%{marker.color:.2f}<extra></extra>\",\"hovertext\":[\"American Samoa\",\"Japan\",\"Tonga\",\"Samoa\"],\"lat\":[\"-15.489\",\"34.743\",\"-15.489\",\"-15.489\"],\"legendgroup\":\"\",\"lon\":[\"-172.095\",\"138.264\",\"-172.095\",\"-172.095\"],\"marker\":{\"color\":[33.65260417,33.65260417,33.65260417,33.65260417],\"coloraxis\":\"coloraxis\",\"size\":[3.3981136917305026,5.60206107706281,3.9777693180915743,5.093565258796596],\"sizemode\":\"area\",\"sizeref\":0.005201387060501242,\"symbol\":\"circle\"},\"mode\":\"markers\",\"name\":\"\",\"showlegend\":false,\"type\":\"scattergeo\"}],\"name\":\"2009\"},{\"data\":[{\"customdata\":[[2010.0,30000000.0,562.0,2671556.0,30000000.0,33.87824005],[2010.0,11864.0,530.0,11864.0,0.0,33.87824005]],\"geo\":\"geo\",\"hovertemplate\":\"<b>%{hovertext}</b><br><br>Year=%{customdata[0]}<br>Impact_Score_Log=%{marker.size}<br>Latitude=%{lat}<br>Longitude=%{lon}<br>Impact_Score=%{customdata[1]}<br>Total Deaths=%{customdata[2]}<br>Total Affected=%{customdata[3]}<br>Total Damages ('000 US$)=%{customdata[4]}<br>mmfrom1993-2008average=%{marker.color:.2f}<extra></extra>\",\"hovertext\":[\"Chile\",\"Indonesia\"],\"lat\":[\"-36.122\",\"-3.487\"],\"legendgroup\":\"\",\"lon\":[\"-72.898\",\"100.082\"],\"marker\":{\"color\":[33.87824005,33.87824005],\"coloraxis\":\"coloraxis\",\"size\":[7.477121269196145,4.074267742553358],\"sizemode\":\"area\",\"sizeref\":0.005201387060501242,\"symbol\":\"circle\"},\"mode\":\"markers\",\"name\":\"\",\"showlegend\":false,\"type\":\"scattergeo\"}],\"name\":\"2010\"},{\"data\":[{\"customdata\":[[2011.0,95.0,1.0,95.0,0.0,36.71847075],[2011.0,210000000.0,19846.0,368820.0,210000000.0,36.71847075]],\"geo\":\"geo\",\"hovertemplate\":\"<b>%{hovertext}</b><br><br>Year=%{customdata[0]}<br>Impact_Score_Log=%{marker.size}<br>Latitude=%{lat}<br>Longitude=%{lon}<br>Impact_Score=%{customdata[1]}<br>Total Deaths=%{customdata[2]}<br>Total Affected=%{customdata[3]}<br>Total Damages ('000 US$)=%{customdata[4]}<br>mmfrom1993-2008average=%{marker.color:.2f}<extra></extra>\",\"hovertext\":[\"Indonesia\",\"Japan\"],\"lat\":[\"38.297\",\"38.297\"],\"legendgroup\":\"\",\"lon\":[\"142.373\",\"142.373\"],\"marker\":{\"color\":[36.71847075,36.71847075],\"coloraxis\":\"coloraxis\",\"size\":[1.9822712330395684,8.322219296801988],\"sizemode\":\"area\",\"sizeref\":0.005201387060501242,\"symbol\":\"circle\"},\"mode\":\"markers\",\"name\":\"\",\"showlegend\":false,\"type\":\"scattergeo\"}],\"name\":\"2011\"},{\"data\":[{\"customdata\":[[2013.0,3329.0,10.0,3329.0,2000.0,41.33798668]],\"geo\":\"geo\",\"hovertemplate\":\"<b>%{hovertext}</b><br><br>Year=%{customdata[0]}<br>Impact_Score_Log=%{marker.size}<br>Latitude=%{lat}<br>Longitude=%{lon}<br>Impact_Score=%{customdata[1]}<br>Total Deaths=%{customdata[2]}<br>Total Affected=%{customdata[3]}<br>Total Damages ('000 US$)=%{customdata[4]}<br>mmfrom1993-2008average=%{marker.color:.2f}<extra></extra>\",\"hovertext\":[\"Solomon Islands\"],\"lat\":[\"-10.799\"],\"legendgroup\":\"\",\"lon\":[\"165.114\"],\"marker\":{\"color\":[41.33798668],\"coloraxis\":\"coloraxis\",\"size\":[3.5224442335063197],\"sizemode\":\"area\",\"sizeref\":0.005201387060501242,\"symbol\":\"circle\"},\"mode\":\"markers\",\"name\":\"\",\"showlegend\":false,\"type\":\"scattergeo\"}],\"name\":\"2013\"},{\"data\":[{\"customdata\":[[2015.0,800000.0,19.0,681499.0,800000.0,50.46170567]],\"geo\":\"geo\",\"hovertemplate\":\"<b>%{hovertext}</b><br><br>Year=%{customdata[0]}<br>Impact_Score_Log=%{marker.size}<br>Latitude=%{lat}<br>Longitude=%{lon}<br>Impact_Score=%{customdata[1]}<br>Total Deaths=%{customdata[2]}<br>Total Affected=%{customdata[3]}<br>Total Damages ('000 US$)=%{customdata[4]}<br>mmfrom1993-2008average=%{marker.color:.2f}<extra></extra>\",\"hovertext\":[\"Chile\"],\"lat\":[\"-31.5729\"],\"legendgroup\":\"\",\"lon\":[\"-71.6744\"],\"marker\":{\"color\":[50.46170567],\"coloraxis\":\"coloraxis\",\"size\":[5.903090529859707],\"sizemode\":\"area\",\"sizeref\":0.005201387060501242,\"symbol\":\"circle\"},\"mode\":\"markers\",\"name\":\"\",\"showlegend\":false,\"type\":\"scattergeo\"}],\"name\":\"2015\"},{\"data\":[{\"customdata\":[[2016.0,3900000.0,2.0,50.0,3900000.0,54.34696367]],\"geo\":\"geo\",\"hovertemplate\":\"<b>%{hovertext}</b><br><br>Year=%{customdata[0]}<br>Impact_Score_Log=%{marker.size}<br>Latitude=%{lat}<br>Longitude=%{lon}<br>Impact_Score=%{customdata[1]}<br>Total Deaths=%{customdata[2]}<br>Total Affected=%{customdata[3]}<br>Total Damages ('000 US$)=%{customdata[4]}<br>mmfrom1993-2008average=%{marker.color:.2f}<extra></extra>\",\"hovertext\":[\"New Zealand\"],\"lat\":[\"-42.725\"],\"legendgroup\":\"\",\"lon\":[\"173.064\"],\"marker\":{\"color\":[54.34696367],\"coloraxis\":\"coloraxis\",\"size\":[6.591064718384044],\"sizemode\":\"area\",\"sizeref\":0.005201387060501242,\"symbol\":\"circle\"},\"mode\":\"markers\",\"name\":\"\",\"showlegend\":false,\"type\":\"scattergeo\"}],\"name\":\"2016\"},{\"data\":[{\"customdata\":[[2018.0,2000000.0,4140.0,2000000.0,1450000.0,53.08512198]],\"geo\":\"geo\",\"hovertemplate\":\"<b>%{hovertext}</b><br><br>Year=%{customdata[0]}<br>Impact_Score_Log=%{marker.size}<br>Latitude=%{lat}<br>Longitude=%{lon}<br>Impact_Score=%{customdata[1]}<br>Total Deaths=%{customdata[2]}<br>Total Affected=%{customdata[3]}<br>Total Damages ('000 US$)=%{customdata[4]}<br>mmfrom1993-2008average=%{marker.color:.2f}<extra></extra>\",\"hovertext\":[\"Indonesia\"],\"lat\":[\"-178\"],\"legendgroup\":\"\",\"lon\":[\"119.84\"],\"marker\":{\"color\":[53.08512198],\"coloraxis\":\"coloraxis\",\"size\":[6.301030212811168],\"sizemode\":\"area\",\"sizeref\":0.005201387060501242,\"symbol\":\"circle\"},\"mode\":\"markers\",\"name\":\"\",\"showlegend\":false,\"type\":\"scattergeo\"}],\"name\":\"2018\"},{\"data\":[{\"customdata\":[[1958.0,111.0,111.0,46.0,0.0,-72.9140625]],\"geo\":\"geo\",\"hovertemplate\":\"<b>%{hovertext}</b><br><br>Year=%{customdata[0]}<br>Impact_Score_Log=%{marker.size}<br>Latitude=%{lat}<br>Longitude=%{lon}<br>Impact_Score=%{customdata[1]}<br>Total Deaths=%{customdata[2]}<br>Total Affected=%{customdata[3]}<br>Total Damages ('000 US$)=%{customdata[4]}<br>mmfrom1993-2008average=%{marker.color:.2f}<extra></extra>\",\"hovertext\":[\"Colombia\"],\"lat\":[\"1.5\"],\"legendgroup\":\"\",\"lon\":[\"-79.5\"],\"marker\":{\"color\":[-72.9140625],\"coloraxis\":\"coloraxis\",\"size\":[2.0492180226701815],\"sizemode\":\"area\",\"sizeref\":0.005201387060501242,\"symbol\":\"circle\"},\"mode\":\"markers\",\"name\":\"\",\"showlegend\":false,\"type\":\"scattergeo\"}],\"name\":\"1958\"}]);\n",
       "                        }).then(function(){\n",
       "                            \n",
       "var gd = document.getElementById('d850e6d7-b747-4e36-857d-0dd7787e3fe3');\n",
>>>>>>> 01780f92e57fec73a6ab66ad55bfa65288238e82
       "var x = new MutationObserver(function (mutations, observer) {{\n",
       "        var display = window.getComputedStyle(gd).display;\n",
       "        if (!display || display === 'none') {{\n",
       "            console.log([gd, 'removed!']);\n",
       "            Plotly.purge(gd);\n",
       "            observer.disconnect();\n",
       "        }}\n",
       "}});\n",
       "\n",
       "// Listen for the removal of the full notebook cells\n",
       "var notebookContainer = gd.closest('#notebook-container');\n",
       "if (notebookContainer) {{\n",
       "    x.observe(notebookContainer, {childList: true});\n",
       "}}\n",
       "\n",
       "// Listen for the clearing of the current output cell\n",
       "var outputEl = gd.closest('.output');\n",
       "if (outputEl) {{\n",
       "    x.observe(outputEl, {childList: true});\n",
       "}}\n",
       "\n",
<<<<<<< HEAD
       "                        })                };            </script>        </div>"
=======
       "                        })                };                });            </script>        </div>"
>>>>>>> 01780f92e57fec73a6ab66ad55bfa65288238e82
      ]
     },
     "metadata": {},
     "output_type": "display_data"
    }
   ],
   "source": [
    "import numpy as np \n",
    "merged_df['Total Deaths'] = pd.to_numeric(merged_df['Total Deaths'], errors='coerce').fillna(0)\n",
    "merged_df['Total Affected'] = pd.to_numeric(merged_df['Total Affected'], errors='coerce').fillna(0)\n",
    "merged_df[\"Total Damages ('000 US$)\"] = pd.to_numeric(merged_df[\"Total Damages ('000 US$)\"], errors='coerce').fillna(0)\n",
    "\n",
    "merged_df['Impact_Score'] = merged_df[['Total Deaths', 'Total Affected', \"Total Damages ('000 US$)\"]].max(axis=1)\n",
    "\n",
    "merged_df = merged_df[(merged_df['Latitude'] != 0) & (merged_df['Longitude'] != 0)]\n",
    "\n",
    "filtered_df = merged_df[merged_df['Impact_Score'] > 0].copy()\n",
    "\n",
    "filtered_df['Impact_Score_Log'] = filtered_df['Impact_Score'].apply(lambda x: np.log10(x + 1))\n",
    "\n",
    "fig = px.scatter_geo(\n",
    "    filtered_df,\n",
    "     lat='Latitude',\n",
    "    lon='Longitude',\n",
    "    color='mmfrom1993-2008average',\n",
    "    size='Impact_Score_Log',\n",
    "    size_max=40,\n",
    "    hover_name='Country',\n",
    "    hover_data={\n",
    "        'Year': True,\n",
    "        'Impact_Score': True,\n",
    "        'Total Deaths': True,\n",
    "        'Total Affected': True,\n",
    "        \"Total Damages ('000 US$)\": True,\n",
    "        'mmfrom1993-2008average': ':.2f'\n",
    "    },\n",
    "    animation_frame='Year',\n",
    "    projection='natural earth',\n",
    "    color_continuous_scale='Viridis',\n",
    "    title='Overstromingen en tsunami\\'s met zeespiegelstijging en impact (log schaal)'\n",
    ")\n",
    "\n",
    "fig.update_layout(height=700)\n",
    "\n",
    "fig.show()"
   ]
  },
  {
   "cell_type": "code",
   "execution_count": 4,
   "id": "dad3dc5a",
   "metadata": {},
   "outputs": [
    {
     "data": {
      "application/vnd.plotly.v1+json": {
       "config": {
        "plotlyServerURL": "https://plot.ly"
       },
       "data": [
        {
         "customdata": [
          [
           27,
           0,
           0
          ],
          [
           128,
           0,
           0
          ],
          [
           6000,
           2003000,
           550000
          ],
          [
           200,
           0,
           0
          ],
          [
           64,
           6532,
           0
          ],
          [
           18,
           24,
           0
          ],
          [
           41,
           0,
           0
          ],
          [
           50,
           0,
           0
          ],
          [
           3000,
           0,
           0
          ],
          [
           1223,
           80573,
           0
          ],
          [
           165,
           0,
           25000
          ],
          [
           25,
           35376,
           800000
          ],
          [
           131,
           0,
           311000
          ],
          [
           200,
           0,
           0
          ],
          [
           11,
           2,
           0
          ],
          [
           539,
           23,
           0
          ],
          [
           102,
           77,
           416000
          ],
          [
           239,
           7355,
           1000000
          ],
          [
           7,
           752,
           0
          ],
          [
           2182,
           9867,
           0
          ],
          [
           8,
           9082,
           0
          ],
          [
           145,
           349978,
           300000
          ],
          [
           165708,
           532898,
           4451600
          ],
          [
           1,
           0,
           100000
          ],
          [
           2,
           0,
           500000
          ],
          [
           16389,
           654512,
           1022800
          ],
          [
           35399,
           1019306,
           1316500
          ],
          [
           102,
           27214,
           470100
          ],
          [
           80,
           5063,
           500000
          ],
          [
           8345,
           67007,
           1000000
          ],
          [
           71,
           15700,
           500000
          ],
          [
           298,
           105083,
           100000
          ],
          [
           3,
           4830,
           30000
          ],
          [
           10,
           0,
           0
          ],
          [
           3,
           1202,
           0
          ],
          [
           802,
           35543,
           55000
          ],
          [
           52,
           2384,
           0
          ],
          [
           10,
           0,
           0
          ],
          [
           34,
           2500,
           0
          ],
          [
           562,
           2671556,
           30000000
          ],
          [
           530,
           11864,
           0
          ],
          [
           1,
           95,
           0
          ],
          [
           1,
           25319,
           400000
          ],
          [
           9,
           507,
           9500
          ],
          [
           19846,
           368820,
           210000000
          ],
          [
           148,
           5584,
           124040
          ],
          [
           10,
           3329,
           2000
          ],
          [
           19,
           681499,
           800000
          ],
          [
           2,
           50,
           3900000
          ],
          [
           4140,
           2000000,
           1450000
          ],
          [
           111,
           46,
           0
          ]
         ],
         "hovertemplate": "Land: %{text}<br>Impact Score: %{y}<br>Jaar: %{x}<br>Total Deaths: %{customdata[0]}<br>Total Affected: %{customdata[1]}<br>Total Damage: %{customdata[2]}",
         "marker": {
          "color": [
           2,
           7,
           3,
           7,
           7,
           8,
           8,
           18,
           8,
           8,
           24,
           8,
           24,
           18,
           5,
           7,
           8,
           8,
           15,
           14,
           7,
           15,
           7,
           9,
           1,
           6,
           20,
           11,
           10,
           22,
           12,
           19,
           17,
           21,
           7,
           7,
           18,
           3,
           0,
           3,
           7,
           7,
           8,
           23,
           8,
           16,
           18,
           3,
           13,
           7,
           4
          ],
          "colorscale": [
           [
            0,
            "#0d0887"
           ],
           [
            0.1111111111111111,
            "#46039f"
           ],
           [
            0.2222222222222222,
            "#7201a8"
           ],
           [
            0.3333333333333333,
            "#9c179e"
           ],
           [
            0.4444444444444444,
            "#bd3786"
           ],
           [
            0.5555555555555556,
            "#d8576b"
           ],
           [
            0.6666666666666666,
            "#ed7953"
           ],
           [
            0.7777777777777778,
            "#fb9f3a"
           ],
           [
            0.8888888888888888,
            "#fdca26"
           ],
           [
            1,
            "#f0f921"
           ]
          ],
          "showscale": false,
          "size": [
           7.235790156711096,
           10.552948551496243,
           31.508405830577647,
           11.515980287102446,
           19.075563290949063,
           6.989700043360188,
           8.116246451989502,
           8.537850880489682,
           17.386329977124262,
           24.530974621050504,
           21.98978690051944,
           29.515452649298535,
           27.463808927349362,
           11.515980287102446,
           5.395906230238125,
           13.661968799114844,
           28.09547187301304,
           30.000002171471323,
           14.383974881003503,
           19.971145704088492,
           19.791146570941912,
           27.720209929498,
           33.24258115649866,
           25.000021714615524,
           28.494854364620572,
           30.048955719836947,
           30.597105966638146,
           28.360955875107614,
           28.494854364620572,
           30.000002171471323,
           28.494854364620572,
           25.107682978776506,
           22.385678654805616,
           5.206963425791126,
           15.401328136699224,
           23.70185292842884,
           16.887441916880665,
           5.206963425791126,
           16.99056845865251,
           37.385606345980726,
           20.371338712766793,
           9.911356165197843,
           28.01030538531405,
           19.88884659045787,
           41.61109648400994,
           25.467826293982977,
           17.612221167531597,
           29.515452649298535,
           32.95532359192022,
           31.505151064055838,
           10.246090113350908
          ]
         },
         "mode": "markers",
         "name": "Impact Score",
         "text": [
          "Canada",
          "Indonesia",
          "Chile",
          "Indonesia",
          "Indonesia",
          "Japan",
          "Japan",
          "Solomon Islands",
          "Japan",
          "Japan",
          "United States of America (the)",
          "Japan",
          "United States of America (the)",
          "Solomon Islands",
          "France",
          "Indonesia",
          "Japan",
          "Japan",
          "Peru",
          "Papua New Guinea",
          "Indonesia",
          "Peru",
          "Indonesia",
          "Kenya",
          "Bangladesh",
          "India",
          "Sri Lanka",
          "Maldives",
          "Malaysia",
          "Thailand",
          "Myanmar",
          "Somalia",
          "Seychelles",
          "Tanzania, United Republic of",
          "Indonesia",
          "Indonesia",
          "Solomon Islands",
          "Chile",
          "American Samoa",
          "Chile",
          "Indonesia",
          "Indonesia",
          "Japan",
          "Tonga",
          "Japan",
          "Samoa",
          "Solomon Islands",
          "Chile",
          "New Zealand",
          "Indonesia",
          "Colombia"
         ],
         "type": "scatter",
         "x": [
          1928,
          1928,
          1960,
          1968,
          1969,
          1901,
          1905,
          1931,
          1933,
          1944,
          1946,
          1964,
          1964,
          1975,
          1979,
          1979,
          1983,
          1993,
          1996,
          1998,
          2002,
          2001,
          2004,
          2004,
          2004,
          2004,
          2004,
          2004,
          2004,
          2004,
          2004,
          2004,
          2004,
          2004,
          2006,
          2006,
          2007,
          2007,
          2009,
          2010,
          2010,
          2011,
          2009,
          2009,
          2011,
          2009,
          2013,
          2015,
          2016,
          2018,
          1958
         ],
         "y": [
          27,
          128,
          2003000,
          200,
          6532,
          24,
          41,
          50,
          3000,
          80573,
          25000,
          800000,
          311000,
          200,
          11,
          539,
          416000,
          1000000,
          752,
          9867,
          9082,
          349978,
          4451600,
          100000,
          500000,
          1022800,
          1316500,
          470100,
          500000,
          1000000,
          500000,
          105083,
          30000,
          10,
          1202,
          55000,
          2384,
          10,
          2500,
          30000000,
          11864,
          95,
          400000,
          9500,
          210000000,
          124040,
          3329,
          800000,
          3900000,
          2000000,
          111
         ],
         "yaxis": "y"
        },
        {
         "line": {
          "color": "orange",
          "width": 2
         },
         "mode": "lines+markers",
         "name": "Zeespiegelafwijking (mm)",
         "type": "scatter",
         "x": [
          1928,
          1928,
          1960,
          1968,
          1969,
          1901,
          1905,
          1931,
          1933,
          1944,
          1946,
          1964,
          1964,
          1975,
          1979,
          1979,
          1983,
          1993,
          1996,
          1998,
          2002,
          2001,
          2004,
          2004,
          2004,
          2004,
          2004,
          2004,
          2004,
          2004,
          2004,
          2004,
          2004,
          2004,
          2006,
          2006,
          2007,
          2007,
          2009,
          2010,
          2010,
          2011,
          2009,
          2009,
          2011,
          2009,
          2013,
          2015,
          2016,
          2018,
          1958
         ],
         "y": [
          -128.8807292,
          -128.8807292,
          -66.88072917,
          -72.8140625,
          -62.6140625,
          -156.5473958,
          -154.4140625,
          -126.7473958,
          -119.9807292,
          -116.9473958,
          -92.68072917,
          -70.98072917,
          -70.98072917,
          -45.84739583,
          -46.8140625,
          -46.8140625,
          -22.28072917,
          -22.78072917,
          -11.94739583,
          -10.8140625,
          2.152604167,
          4.719270833,
          13.65260417,
          13.65260417,
          13.65260417,
          13.65260417,
          13.65260417,
          13.65260417,
          13.65260417,
          13.65260417,
          13.65260417,
          13.65260417,
          13.65260417,
          13.65260417,
          9.519270833,
          9.519270833,
          22.7859375,
          22.7859375,
          33.65260417,
          33.87824005,
          33.87824005,
          36.71847075,
          33.65260417,
          33.65260417,
          36.71847075,
          33.65260417,
          41.33798668,
          50.46170567,
          54.34696367,
          53.08512198,
          -72.9140625
         ],
         "yaxis": "y2"
        }
       ],
       "layout": {
        "height": 600,
        "legend": {
         "x": 1.05,
         "y": 1
        },
        "template": {
         "data": {
          "bar": [
           {
            "error_x": {
             "color": "#2a3f5f"
            },
            "error_y": {
             "color": "#2a3f5f"
            },
            "marker": {
             "line": {
              "color": "#E5ECF6",
              "width": 0.5
             },
             "pattern": {
              "fillmode": "overlay",
              "size": 10,
              "solidity": 0.2
             }
            },
            "type": "bar"
           }
          ],
          "barpolar": [
           {
            "marker": {
             "line": {
              "color": "#E5ECF6",
              "width": 0.5
             },
             "pattern": {
              "fillmode": "overlay",
              "size": 10,
              "solidity": 0.2
             }
            },
            "type": "barpolar"
           }
          ],
          "carpet": [
           {
            "aaxis": {
             "endlinecolor": "#2a3f5f",
             "gridcolor": "white",
             "linecolor": "white",
             "minorgridcolor": "white",
             "startlinecolor": "#2a3f5f"
            },
            "baxis": {
             "endlinecolor": "#2a3f5f",
             "gridcolor": "white",
             "linecolor": "white",
             "minorgridcolor": "white",
             "startlinecolor": "#2a3f5f"
            },
            "type": "carpet"
           }
          ],
          "choropleth": [
           {
            "colorbar": {
             "outlinewidth": 0,
             "ticks": ""
            },
            "type": "choropleth"
           }
          ],
          "contour": [
           {
            "colorbar": {
             "outlinewidth": 0,
             "ticks": ""
            },
            "colorscale": [
             [
              0,
              "#0d0887"
             ],
             [
              0.1111111111111111,
              "#46039f"
             ],
             [
              0.2222222222222222,
              "#7201a8"
             ],
             [
              0.3333333333333333,
              "#9c179e"
             ],
             [
              0.4444444444444444,
              "#bd3786"
             ],
             [
              0.5555555555555556,
              "#d8576b"
             ],
             [
              0.6666666666666666,
              "#ed7953"
             ],
             [
              0.7777777777777778,
              "#fb9f3a"
             ],
             [
              0.8888888888888888,
              "#fdca26"
             ],
             [
              1,
              "#f0f921"
             ]
            ],
            "type": "contour"
           }
          ],
          "contourcarpet": [
           {
            "colorbar": {
             "outlinewidth": 0,
             "ticks": ""
            },
            "type": "contourcarpet"
           }
          ],
          "heatmap": [
           {
            "colorbar": {
             "outlinewidth": 0,
             "ticks": ""
            },
            "colorscale": [
             [
              0,
              "#0d0887"
             ],
             [
              0.1111111111111111,
              "#46039f"
             ],
             [
              0.2222222222222222,
              "#7201a8"
             ],
             [
              0.3333333333333333,
              "#9c179e"
             ],
             [
              0.4444444444444444,
              "#bd3786"
             ],
             [
              0.5555555555555556,
              "#d8576b"
             ],
             [
              0.6666666666666666,
              "#ed7953"
             ],
             [
              0.7777777777777778,
              "#fb9f3a"
             ],
             [
              0.8888888888888888,
              "#fdca26"
             ],
             [
              1,
              "#f0f921"
             ]
            ],
            "type": "heatmap"
           }
          ],
          "heatmapgl": [
           {
            "colorbar": {
             "outlinewidth": 0,
             "ticks": ""
            },
            "colorscale": [
             [
              0,
              "#0d0887"
             ],
             [
              0.1111111111111111,
              "#46039f"
             ],
             [
              0.2222222222222222,
              "#7201a8"
             ],
             [
              0.3333333333333333,
              "#9c179e"
             ],
             [
              0.4444444444444444,
              "#bd3786"
             ],
             [
              0.5555555555555556,
              "#d8576b"
             ],
             [
              0.6666666666666666,
              "#ed7953"
             ],
             [
              0.7777777777777778,
              "#fb9f3a"
             ],
             [
              0.8888888888888888,
              "#fdca26"
             ],
             [
              1,
              "#f0f921"
             ]
            ],
            "type": "heatmapgl"
           }
          ],
          "histogram": [
           {
            "marker": {
             "pattern": {
              "fillmode": "overlay",
              "size": 10,
              "solidity": 0.2
             }
            },
            "type": "histogram"
           }
          ],
          "histogram2d": [
           {
            "colorbar": {
             "outlinewidth": 0,
             "ticks": ""
            },
            "colorscale": [
             [
              0,
              "#0d0887"
             ],
             [
              0.1111111111111111,
              "#46039f"
             ],
             [
              0.2222222222222222,
              "#7201a8"
             ],
             [
              0.3333333333333333,
              "#9c179e"
             ],
             [
              0.4444444444444444,
              "#bd3786"
             ],
             [
              0.5555555555555556,
              "#d8576b"
             ],
             [
              0.6666666666666666,
              "#ed7953"
             ],
             [
              0.7777777777777778,
              "#fb9f3a"
             ],
             [
              0.8888888888888888,
              "#fdca26"
             ],
             [
              1,
              "#f0f921"
             ]
            ],
            "type": "histogram2d"
           }
          ],
          "histogram2dcontour": [
           {
            "colorbar": {
             "outlinewidth": 0,
             "ticks": ""
            },
            "colorscale": [
             [
              0,
              "#0d0887"
             ],
             [
              0.1111111111111111,
              "#46039f"
             ],
             [
              0.2222222222222222,
              "#7201a8"
             ],
             [
              0.3333333333333333,
              "#9c179e"
             ],
             [
              0.4444444444444444,
              "#bd3786"
             ],
             [
              0.5555555555555556,
              "#d8576b"
             ],
             [
              0.6666666666666666,
              "#ed7953"
             ],
             [
              0.7777777777777778,
              "#fb9f3a"
             ],
             [
              0.8888888888888888,
              "#fdca26"
             ],
             [
              1,
              "#f0f921"
             ]
            ],
            "type": "histogram2dcontour"
           }
          ],
          "mesh3d": [
           {
            "colorbar": {
             "outlinewidth": 0,
             "ticks": ""
            },
            "type": "mesh3d"
           }
          ],
          "parcoords": [
           {
            "line": {
             "colorbar": {
              "outlinewidth": 0,
              "ticks": ""
             }
            },
            "type": "parcoords"
           }
          ],
          "pie": [
           {
            "automargin": true,
            "type": "pie"
           }
          ],
          "scatter": [
           {
            "fillpattern": {
             "fillmode": "overlay",
             "size": 10,
             "solidity": 0.2
            },
            "type": "scatter"
           }
          ],
          "scatter3d": [
           {
            "line": {
             "colorbar": {
              "outlinewidth": 0,
              "ticks": ""
             }
            },
            "marker": {
             "colorbar": {
              "outlinewidth": 0,
              "ticks": ""
             }
            },
            "type": "scatter3d"
           }
          ],
          "scattercarpet": [
           {
            "marker": {
             "colorbar": {
              "outlinewidth": 0,
              "ticks": ""
             }
            },
            "type": "scattercarpet"
           }
          ],
          "scattergeo": [
           {
            "marker": {
             "colorbar": {
              "outlinewidth": 0,
              "ticks": ""
             }
            },
            "type": "scattergeo"
           }
          ],
          "scattergl": [
           {
            "marker": {
             "colorbar": {
              "outlinewidth": 0,
              "ticks": ""
             }
            },
            "type": "scattergl"
           }
          ],
          "scattermapbox": [
           {
            "marker": {
             "colorbar": {
              "outlinewidth": 0,
              "ticks": ""
             }
            },
            "type": "scattermapbox"
           }
          ],
          "scatterpolar": [
           {
            "marker": {
             "colorbar": {
              "outlinewidth": 0,
              "ticks": ""
             }
            },
            "type": "scatterpolar"
           }
          ],
          "scatterpolargl": [
           {
            "marker": {
             "colorbar": {
              "outlinewidth": 0,
              "ticks": ""
             }
            },
            "type": "scatterpolargl"
           }
          ],
          "scatterternary": [
           {
            "marker": {
             "colorbar": {
              "outlinewidth": 0,
              "ticks": ""
             }
            },
            "type": "scatterternary"
           }
          ],
          "surface": [
           {
            "colorbar": {
             "outlinewidth": 0,
             "ticks": ""
            },
            "colorscale": [
             [
              0,
              "#0d0887"
             ],
             [
              0.1111111111111111,
              "#46039f"
             ],
             [
              0.2222222222222222,
              "#7201a8"
             ],
             [
              0.3333333333333333,
              "#9c179e"
             ],
             [
              0.4444444444444444,
              "#bd3786"
             ],
             [
              0.5555555555555556,
              "#d8576b"
             ],
             [
              0.6666666666666666,
              "#ed7953"
             ],
             [
              0.7777777777777778,
              "#fb9f3a"
             ],
             [
              0.8888888888888888,
              "#fdca26"
             ],
             [
              1,
              "#f0f921"
             ]
            ],
            "type": "surface"
           }
          ],
          "table": [
           {
            "cells": {
             "fill": {
              "color": "#EBF0F8"
             },
             "line": {
              "color": "white"
             }
            },
            "header": {
             "fill": {
              "color": "#C8D4E3"
             },
             "line": {
              "color": "white"
             }
            },
            "type": "table"
           }
          ]
         },
         "layout": {
          "annotationdefaults": {
           "arrowcolor": "#2a3f5f",
           "arrowhead": 0,
           "arrowwidth": 1
          },
          "autotypenumbers": "strict",
          "coloraxis": {
           "colorbar": {
            "outlinewidth": 0,
            "ticks": ""
           }
          },
          "colorscale": {
           "diverging": [
            [
             0,
             "#8e0152"
            ],
            [
             0.1,
             "#c51b7d"
            ],
            [
             0.2,
             "#de77ae"
            ],
            [
             0.3,
             "#f1b6da"
            ],
            [
             0.4,
             "#fde0ef"
            ],
            [
             0.5,
             "#f7f7f7"
            ],
            [
             0.6,
             "#e6f5d0"
            ],
            [
             0.7,
             "#b8e186"
            ],
            [
             0.8,
             "#7fbc41"
            ],
            [
             0.9,
             "#4d9221"
            ],
            [
             1,
             "#276419"
            ]
           ],
           "sequential": [
            [
             0,
             "#0d0887"
            ],
            [
             0.1111111111111111,
             "#46039f"
            ],
            [
             0.2222222222222222,
             "#7201a8"
            ],
            [
             0.3333333333333333,
             "#9c179e"
            ],
            [
             0.4444444444444444,
             "#bd3786"
            ],
            [
             0.5555555555555556,
             "#d8576b"
            ],
            [
             0.6666666666666666,
             "#ed7953"
            ],
            [
             0.7777777777777778,
             "#fb9f3a"
            ],
            [
             0.8888888888888888,
             "#fdca26"
            ],
            [
             1,
             "#f0f921"
            ]
           ],
           "sequentialminus": [
            [
             0,
             "#0d0887"
            ],
            [
             0.1111111111111111,
             "#46039f"
            ],
            [
             0.2222222222222222,
             "#7201a8"
            ],
            [
             0.3333333333333333,
             "#9c179e"
            ],
            [
             0.4444444444444444,
             "#bd3786"
            ],
            [
             0.5555555555555556,
             "#d8576b"
            ],
            [
             0.6666666666666666,
             "#ed7953"
            ],
            [
             0.7777777777777778,
             "#fb9f3a"
            ],
            [
             0.8888888888888888,
             "#fdca26"
            ],
            [
             1,
             "#f0f921"
            ]
           ]
          },
          "colorway": [
           "#636efa",
           "#EF553B",
           "#00cc96",
           "#ab63fa",
           "#FFA15A",
           "#19d3f3",
           "#FF6692",
           "#B6E880",
           "#FF97FF",
           "#FECB52"
          ],
          "font": {
           "color": "#2a3f5f"
          },
          "geo": {
           "bgcolor": "white",
           "lakecolor": "white",
           "landcolor": "#E5ECF6",
           "showlakes": true,
           "showland": true,
           "subunitcolor": "white"
          },
          "hoverlabel": {
           "align": "left"
          },
          "hovermode": "closest",
          "mapbox": {
           "style": "light"
          },
          "paper_bgcolor": "white",
          "plot_bgcolor": "#E5ECF6",
          "polar": {
           "angularaxis": {
            "gridcolor": "white",
            "linecolor": "white",
            "ticks": ""
           },
           "bgcolor": "#E5ECF6",
           "radialaxis": {
            "gridcolor": "white",
            "linecolor": "white",
            "ticks": ""
           }
          },
          "scene": {
           "xaxis": {
            "backgroundcolor": "#E5ECF6",
            "gridcolor": "white",
            "gridwidth": 2,
            "linecolor": "white",
            "showbackground": true,
            "ticks": "",
            "zerolinecolor": "white"
           },
           "yaxis": {
            "backgroundcolor": "#E5ECF6",
            "gridcolor": "white",
            "gridwidth": 2,
            "linecolor": "white",
            "showbackground": true,
            "ticks": "",
            "zerolinecolor": "white"
           },
           "zaxis": {
            "backgroundcolor": "#E5ECF6",
            "gridcolor": "white",
            "gridwidth": 2,
            "linecolor": "white",
            "showbackground": true,
            "ticks": "",
            "zerolinecolor": "white"
           }
          },
          "shapedefaults": {
           "line": {
            "color": "#2a3f5f"
           }
          },
          "ternary": {
           "aaxis": {
            "gridcolor": "white",
            "linecolor": "white",
            "ticks": ""
           },
           "baxis": {
            "gridcolor": "white",
            "linecolor": "white",
            "ticks": ""
           },
           "bgcolor": "#E5ECF6",
           "caxis": {
            "gridcolor": "white",
            "linecolor": "white",
            "ticks": ""
           }
          },
          "title": {
           "x": 0.05
          },
          "xaxis": {
           "automargin": true,
           "gridcolor": "white",
           "linecolor": "white",
           "ticks": "",
           "title": {
            "standoff": 15
           },
           "zerolinecolor": "white",
           "zerolinewidth": 2
          },
          "yaxis": {
           "automargin": true,
           "gridcolor": "white",
           "linecolor": "white",
           "ticks": "",
           "title": {
            "standoff": 15
           },
           "zerolinecolor": "white",
           "zerolinewidth": 2
          }
         }
        },
        "title": {
         "text": "Impactscore van tsunami's + zeespiegelstijging"
        },
        "xaxis": {
         "title": {
          "text": "Jaar"
         }
        },
        "yaxis": {
         "showgrid": false,
         "title": {
          "text": "Impact Score (log)"
         },
         "type": "log"
        },
        "yaxis2": {
         "overlaying": "y",
         "showgrid": false,
         "side": "right",
         "title": {
          "text": "Zeespiegelafwijking (mm)"
         }
        }
       }
      },
      "text/html": [
       "<div>                            <div id=\"f7418df5-5e0c-411d-9c11-8e3e9ce9fa23\" class=\"plotly-graph-div\" style=\"height:600px; width:100%;\"></div>            <script type=\"text/javascript\">                require([\"plotly\"], function(Plotly) {                    window.PLOTLYENV=window.PLOTLYENV || {};                                    if (document.getElementById(\"f7418df5-5e0c-411d-9c11-8e3e9ce9fa23\")) {                    Plotly.newPlot(                        \"f7418df5-5e0c-411d-9c11-8e3e9ce9fa23\",                        [{\"customdata\":[[27.0,0.0,0.0],[128.0,0.0,0.0],[6000.0,2003000.0,550000.0],[200.0,0.0,0.0],[64.0,6532.0,0.0],[18.0,24.0,0.0],[41.0,0.0,0.0],[50.0,0.0,0.0],[3000.0,0.0,0.0],[1223.0,80573.0,0.0],[165.0,0.0,25000.0],[25.0,35376.0,800000.0],[131.0,0.0,311000.0],[200.0,0.0,0.0],[11.0,2.0,0.0],[539.0,23.0,0.0],[102.0,77.0,416000.0],[239.0,7355.0,1000000.0],[7.0,752.0,0.0],[2182.0,9867.0,0.0],[8.0,9082.0,0.0],[145.0,349978.0,300000.0],[165708.0,532898.0,4451600.0],[1.0,0.0,100000.0],[2.0,0.0,500000.0],[16389.0,654512.0,1022800.0],[35399.0,1019306.0,1316500.0],[102.0,27214.0,470100.0],[80.0,5063.0,500000.0],[8345.0,67007.0,1000000.0],[71.0,15700.0,500000.0],[298.0,105083.0,100000.0],[3.0,4830.0,30000.0],[10.0,0.0,0.0],[3.0,1202.0,0.0],[802.0,35543.0,55000.0],[52.0,2384.0,0.0],[10.0,0.0,0.0],[34.0,2500.0,0.0],[562.0,2671556.0,30000000.0],[530.0,11864.0,0.0],[1.0,95.0,0.0],[1.0,25319.0,400000.0],[9.0,507.0,9500.0],[19846.0,368820.0,210000000.0],[148.0,5584.0,124040.0],[10.0,3329.0,2000.0],[19.0,681499.0,800000.0],[2.0,50.0,3900000.0],[4140.0,2000000.0,1450000.0],[111.0,46.0,0.0]],\"hovertemplate\":\"Land: %{text}<br>Impact Score: %{y}<br>Jaar: %{x}<br>Total Deaths: %{customdata[0]}<br>Total Affected: %{customdata[1]}<br>Total Damage: %{customdata[2]}\",\"marker\":{\"color\":[2,7,3,7,7,8,8,18,8,8,24,8,24,18,5,7,8,8,15,14,7,15,7,9,1,6,20,11,10,22,12,19,17,21,7,7,18,3,0,3,7,7,8,23,8,16,18,3,13,7,4],\"colorscale\":[[0.0,\"#0d0887\"],[0.1111111111111111,\"#46039f\"],[0.2222222222222222,\"#7201a8\"],[0.3333333333333333,\"#9c179e\"],[0.4444444444444444,\"#bd3786\"],[0.5555555555555556,\"#d8576b\"],[0.6666666666666666,\"#ed7953\"],[0.7777777777777778,\"#fb9f3a\"],[0.8888888888888888,\"#fdca26\"],[1.0,\"#f0f921\"]],\"showscale\":false,\"size\":[7.235790156711096,10.552948551496243,31.508405830577647,11.515980287102446,19.075563290949063,6.989700043360188,8.116246451989502,8.537850880489682,17.386329977124262,24.530974621050504,21.98978690051944,29.515452649298535,27.463808927349362,11.515980287102446,5.395906230238125,13.661968799114844,28.09547187301304,30.000002171471323,14.383974881003503,19.971145704088492,19.791146570941912,27.720209929498,33.24258115649866,25.000021714615524,28.494854364620572,30.048955719836947,30.597105966638146,28.360955875107614,28.494854364620572,30.000002171471323,28.494854364620572,25.107682978776506,22.385678654805616,5.206963425791126,15.401328136699224,23.70185292842884,16.887441916880665,5.206963425791126,16.99056845865251,37.385606345980726,20.371338712766793,9.911356165197843,28.01030538531405,19.88884659045787,41.61109648400994,25.467826293982977,17.612221167531597,29.515452649298535,32.95532359192022,31.505151064055838,10.246090113350908]},\"mode\":\"markers\",\"name\":\"Impact Score\",\"text\":[\"Canada\",\"Indonesia\",\"Chile\",\"Indonesia\",\"Indonesia\",\"Japan\",\"Japan\",\"Solomon Islands\",\"Japan\",\"Japan\",\"United States of America (the)\",\"Japan\",\"United States of America (the)\",\"Solomon Islands\",\"France\",\"Indonesia\",\"Japan\",\"Japan\",\"Peru\",\"Papua New Guinea\",\"Indonesia\",\"Peru\",\"Indonesia\",\"Kenya\",\"Bangladesh\",\"India\",\"Sri Lanka\",\"Maldives\",\"Malaysia\",\"Thailand\",\"Myanmar\",\"Somalia\",\"Seychelles\",\"Tanzania, United Republic of\",\"Indonesia\",\"Indonesia\",\"Solomon Islands\",\"Chile\",\"American Samoa\",\"Chile\",\"Indonesia\",\"Indonesia\",\"Japan\",\"Tonga\",\"Japan\",\"Samoa\",\"Solomon Islands\",\"Chile\",\"New Zealand\",\"Indonesia\",\"Colombia\"],\"x\":[1928,1928,1960,1968,1969,1901,1905,1931,1933,1944,1946,1964,1964,1975,1979,1979,1983,1993,1996,1998,2002,2001,2004,2004,2004,2004,2004,2004,2004,2004,2004,2004,2004,2004,2006,2006,2007,2007,2009,2010,2010,2011,2009,2009,2011,2009,2013,2015,2016,2018,1958],\"y\":[27.0,128.0,2003000.0,200.0,6532.0,24.0,41.0,50.0,3000.0,80573.0,25000.0,800000.0,311000.0,200.0,11.0,539.0,416000.0,1000000.0,752.0,9867.0,9082.0,349978.0,4451600.0,100000.0,500000.0,1022800.0,1316500.0,470100.0,500000.0,1000000.0,500000.0,105083.0,30000.0,10.0,1202.0,55000.0,2384.0,10.0,2500.0,30000000.0,11864.0,95.0,400000.0,9500.0,210000000.0,124040.0,3329.0,800000.0,3900000.0,2000000.0,111.0],\"yaxis\":\"y\",\"type\":\"scatter\"},{\"line\":{\"color\":\"orange\",\"width\":2},\"mode\":\"lines+markers\",\"name\":\"Zeespiegelafwijking (mm)\",\"x\":[1928,1928,1960,1968,1969,1901,1905,1931,1933,1944,1946,1964,1964,1975,1979,1979,1983,1993,1996,1998,2002,2001,2004,2004,2004,2004,2004,2004,2004,2004,2004,2004,2004,2004,2006,2006,2007,2007,2009,2010,2010,2011,2009,2009,2011,2009,2013,2015,2016,2018,1958],\"y\":[-128.8807292,-128.8807292,-66.88072917,-72.8140625,-62.6140625,-156.5473958,-154.4140625,-126.7473958,-119.9807292,-116.9473958,-92.68072917,-70.98072917,-70.98072917,-45.84739583,-46.8140625,-46.8140625,-22.28072917,-22.78072917,-11.94739583,-10.8140625,2.152604167,4.719270833,13.65260417,13.65260417,13.65260417,13.65260417,13.65260417,13.65260417,13.65260417,13.65260417,13.65260417,13.65260417,13.65260417,13.65260417,9.519270833,9.519270833,22.7859375,22.7859375,33.65260417,33.87824005,33.87824005,36.71847075,33.65260417,33.65260417,36.71847075,33.65260417,41.33798668,50.46170567,54.34696367,53.08512198,-72.9140625],\"yaxis\":\"y2\",\"type\":\"scatter\"}],                        {\"template\":{\"data\":{\"histogram2dcontour\":[{\"type\":\"histogram2dcontour\",\"colorbar\":{\"outlinewidth\":0,\"ticks\":\"\"},\"colorscale\":[[0.0,\"#0d0887\"],[0.1111111111111111,\"#46039f\"],[0.2222222222222222,\"#7201a8\"],[0.3333333333333333,\"#9c179e\"],[0.4444444444444444,\"#bd3786\"],[0.5555555555555556,\"#d8576b\"],[0.6666666666666666,\"#ed7953\"],[0.7777777777777778,\"#fb9f3a\"],[0.8888888888888888,\"#fdca26\"],[1.0,\"#f0f921\"]]}],\"choropleth\":[{\"type\":\"choropleth\",\"colorbar\":{\"outlinewidth\":0,\"ticks\":\"\"}}],\"histogram2d\":[{\"type\":\"histogram2d\",\"colorbar\":{\"outlinewidth\":0,\"ticks\":\"\"},\"colorscale\":[[0.0,\"#0d0887\"],[0.1111111111111111,\"#46039f\"],[0.2222222222222222,\"#7201a8\"],[0.3333333333333333,\"#9c179e\"],[0.4444444444444444,\"#bd3786\"],[0.5555555555555556,\"#d8576b\"],[0.6666666666666666,\"#ed7953\"],[0.7777777777777778,\"#fb9f3a\"],[0.8888888888888888,\"#fdca26\"],[1.0,\"#f0f921\"]]}],\"heatmap\":[{\"type\":\"heatmap\",\"colorbar\":{\"outlinewidth\":0,\"ticks\":\"\"},\"colorscale\":[[0.0,\"#0d0887\"],[0.1111111111111111,\"#46039f\"],[0.2222222222222222,\"#7201a8\"],[0.3333333333333333,\"#9c179e\"],[0.4444444444444444,\"#bd3786\"],[0.5555555555555556,\"#d8576b\"],[0.6666666666666666,\"#ed7953\"],[0.7777777777777778,\"#fb9f3a\"],[0.8888888888888888,\"#fdca26\"],[1.0,\"#f0f921\"]]}],\"heatmapgl\":[{\"type\":\"heatmapgl\",\"colorbar\":{\"outlinewidth\":0,\"ticks\":\"\"},\"colorscale\":[[0.0,\"#0d0887\"],[0.1111111111111111,\"#46039f\"],[0.2222222222222222,\"#7201a8\"],[0.3333333333333333,\"#9c179e\"],[0.4444444444444444,\"#bd3786\"],[0.5555555555555556,\"#d8576b\"],[0.6666666666666666,\"#ed7953\"],[0.7777777777777778,\"#fb9f3a\"],[0.8888888888888888,\"#fdca26\"],[1.0,\"#f0f921\"]]}],\"contourcarpet\":[{\"type\":\"contourcarpet\",\"colorbar\":{\"outlinewidth\":0,\"ticks\":\"\"}}],\"contour\":[{\"type\":\"contour\",\"colorbar\":{\"outlinewidth\":0,\"ticks\":\"\"},\"colorscale\":[[0.0,\"#0d0887\"],[0.1111111111111111,\"#46039f\"],[0.2222222222222222,\"#7201a8\"],[0.3333333333333333,\"#9c179e\"],[0.4444444444444444,\"#bd3786\"],[0.5555555555555556,\"#d8576b\"],[0.6666666666666666,\"#ed7953\"],[0.7777777777777778,\"#fb9f3a\"],[0.8888888888888888,\"#fdca26\"],[1.0,\"#f0f921\"]]}],\"surface\":[{\"type\":\"surface\",\"colorbar\":{\"outlinewidth\":0,\"ticks\":\"\"},\"colorscale\":[[0.0,\"#0d0887\"],[0.1111111111111111,\"#46039f\"],[0.2222222222222222,\"#7201a8\"],[0.3333333333333333,\"#9c179e\"],[0.4444444444444444,\"#bd3786\"],[0.5555555555555556,\"#d8576b\"],[0.6666666666666666,\"#ed7953\"],[0.7777777777777778,\"#fb9f3a\"],[0.8888888888888888,\"#fdca26\"],[1.0,\"#f0f921\"]]}],\"mesh3d\":[{\"type\":\"mesh3d\",\"colorbar\":{\"outlinewidth\":0,\"ticks\":\"\"}}],\"scatter\":[{\"fillpattern\":{\"fillmode\":\"overlay\",\"size\":10,\"solidity\":0.2},\"type\":\"scatter\"}],\"parcoords\":[{\"type\":\"parcoords\",\"line\":{\"colorbar\":{\"outlinewidth\":0,\"ticks\":\"\"}}}],\"scatterpolargl\":[{\"type\":\"scatterpolargl\",\"marker\":{\"colorbar\":{\"outlinewidth\":0,\"ticks\":\"\"}}}],\"bar\":[{\"error_x\":{\"color\":\"#2a3f5f\"},\"error_y\":{\"color\":\"#2a3f5f\"},\"marker\":{\"line\":{\"color\":\"#E5ECF6\",\"width\":0.5},\"pattern\":{\"fillmode\":\"overlay\",\"size\":10,\"solidity\":0.2}},\"type\":\"bar\"}],\"scattergeo\":[{\"type\":\"scattergeo\",\"marker\":{\"colorbar\":{\"outlinewidth\":0,\"ticks\":\"\"}}}],\"scatterpolar\":[{\"type\":\"scatterpolar\",\"marker\":{\"colorbar\":{\"outlinewidth\":0,\"ticks\":\"\"}}}],\"histogram\":[{\"marker\":{\"pattern\":{\"fillmode\":\"overlay\",\"size\":10,\"solidity\":0.2}},\"type\":\"histogram\"}],\"scattergl\":[{\"type\":\"scattergl\",\"marker\":{\"colorbar\":{\"outlinewidth\":0,\"ticks\":\"\"}}}],\"scatter3d\":[{\"type\":\"scatter3d\",\"line\":{\"colorbar\":{\"outlinewidth\":0,\"ticks\":\"\"}},\"marker\":{\"colorbar\":{\"outlinewidth\":0,\"ticks\":\"\"}}}],\"scattermapbox\":[{\"type\":\"scattermapbox\",\"marker\":{\"colorbar\":{\"outlinewidth\":0,\"ticks\":\"\"}}}],\"scatterternary\":[{\"type\":\"scatterternary\",\"marker\":{\"colorbar\":{\"outlinewidth\":0,\"ticks\":\"\"}}}],\"scattercarpet\":[{\"type\":\"scattercarpet\",\"marker\":{\"colorbar\":{\"outlinewidth\":0,\"ticks\":\"\"}}}],\"carpet\":[{\"aaxis\":{\"endlinecolor\":\"#2a3f5f\",\"gridcolor\":\"white\",\"linecolor\":\"white\",\"minorgridcolor\":\"white\",\"startlinecolor\":\"#2a3f5f\"},\"baxis\":{\"endlinecolor\":\"#2a3f5f\",\"gridcolor\":\"white\",\"linecolor\":\"white\",\"minorgridcolor\":\"white\",\"startlinecolor\":\"#2a3f5f\"},\"type\":\"carpet\"}],\"table\":[{\"cells\":{\"fill\":{\"color\":\"#EBF0F8\"},\"line\":{\"color\":\"white\"}},\"header\":{\"fill\":{\"color\":\"#C8D4E3\"},\"line\":{\"color\":\"white\"}},\"type\":\"table\"}],\"barpolar\":[{\"marker\":{\"line\":{\"color\":\"#E5ECF6\",\"width\":0.5},\"pattern\":{\"fillmode\":\"overlay\",\"size\":10,\"solidity\":0.2}},\"type\":\"barpolar\"}],\"pie\":[{\"automargin\":true,\"type\":\"pie\"}]},\"layout\":{\"autotypenumbers\":\"strict\",\"colorway\":[\"#636efa\",\"#EF553B\",\"#00cc96\",\"#ab63fa\",\"#FFA15A\",\"#19d3f3\",\"#FF6692\",\"#B6E880\",\"#FF97FF\",\"#FECB52\"],\"font\":{\"color\":\"#2a3f5f\"},\"hovermode\":\"closest\",\"hoverlabel\":{\"align\":\"left\"},\"paper_bgcolor\":\"white\",\"plot_bgcolor\":\"#E5ECF6\",\"polar\":{\"bgcolor\":\"#E5ECF6\",\"angularaxis\":{\"gridcolor\":\"white\",\"linecolor\":\"white\",\"ticks\":\"\"},\"radialaxis\":{\"gridcolor\":\"white\",\"linecolor\":\"white\",\"ticks\":\"\"}},\"ternary\":{\"bgcolor\":\"#E5ECF6\",\"aaxis\":{\"gridcolor\":\"white\",\"linecolor\":\"white\",\"ticks\":\"\"},\"baxis\":{\"gridcolor\":\"white\",\"linecolor\":\"white\",\"ticks\":\"\"},\"caxis\":{\"gridcolor\":\"white\",\"linecolor\":\"white\",\"ticks\":\"\"}},\"coloraxis\":{\"colorbar\":{\"outlinewidth\":0,\"ticks\":\"\"}},\"colorscale\":{\"sequential\":[[0.0,\"#0d0887\"],[0.1111111111111111,\"#46039f\"],[0.2222222222222222,\"#7201a8\"],[0.3333333333333333,\"#9c179e\"],[0.4444444444444444,\"#bd3786\"],[0.5555555555555556,\"#d8576b\"],[0.6666666666666666,\"#ed7953\"],[0.7777777777777778,\"#fb9f3a\"],[0.8888888888888888,\"#fdca26\"],[1.0,\"#f0f921\"]],\"sequentialminus\":[[0.0,\"#0d0887\"],[0.1111111111111111,\"#46039f\"],[0.2222222222222222,\"#7201a8\"],[0.3333333333333333,\"#9c179e\"],[0.4444444444444444,\"#bd3786\"],[0.5555555555555556,\"#d8576b\"],[0.6666666666666666,\"#ed7953\"],[0.7777777777777778,\"#fb9f3a\"],[0.8888888888888888,\"#fdca26\"],[1.0,\"#f0f921\"]],\"diverging\":[[0,\"#8e0152\"],[0.1,\"#c51b7d\"],[0.2,\"#de77ae\"],[0.3,\"#f1b6da\"],[0.4,\"#fde0ef\"],[0.5,\"#f7f7f7\"],[0.6,\"#e6f5d0\"],[0.7,\"#b8e186\"],[0.8,\"#7fbc41\"],[0.9,\"#4d9221\"],[1,\"#276419\"]]},\"xaxis\":{\"gridcolor\":\"white\",\"linecolor\":\"white\",\"ticks\":\"\",\"title\":{\"standoff\":15},\"zerolinecolor\":\"white\",\"automargin\":true,\"zerolinewidth\":2},\"yaxis\":{\"gridcolor\":\"white\",\"linecolor\":\"white\",\"ticks\":\"\",\"title\":{\"standoff\":15},\"zerolinecolor\":\"white\",\"automargin\":true,\"zerolinewidth\":2},\"scene\":{\"xaxis\":{\"backgroundcolor\":\"#E5ECF6\",\"gridcolor\":\"white\",\"linecolor\":\"white\",\"showbackground\":true,\"ticks\":\"\",\"zerolinecolor\":\"white\",\"gridwidth\":2},\"yaxis\":{\"backgroundcolor\":\"#E5ECF6\",\"gridcolor\":\"white\",\"linecolor\":\"white\",\"showbackground\":true,\"ticks\":\"\",\"zerolinecolor\":\"white\",\"gridwidth\":2},\"zaxis\":{\"backgroundcolor\":\"#E5ECF6\",\"gridcolor\":\"white\",\"linecolor\":\"white\",\"showbackground\":true,\"ticks\":\"\",\"zerolinecolor\":\"white\",\"gridwidth\":2}},\"shapedefaults\":{\"line\":{\"color\":\"#2a3f5f\"}},\"annotationdefaults\":{\"arrowcolor\":\"#2a3f5f\",\"arrowhead\":0,\"arrowwidth\":1},\"geo\":{\"bgcolor\":\"white\",\"landcolor\":\"#E5ECF6\",\"subunitcolor\":\"white\",\"showland\":true,\"showlakes\":true,\"lakecolor\":\"white\"},\"title\":{\"x\":0.05},\"mapbox\":{\"style\":\"light\"}}},\"yaxis\":{\"title\":{\"text\":\"Impact Score (log)\"},\"type\":\"log\",\"showgrid\":false},\"yaxis2\":{\"title\":{\"text\":\"Zeespiegelafwijking (mm)\"},\"overlaying\":\"y\",\"side\":\"right\",\"showgrid\":false},\"legend\":{\"x\":1.05,\"y\":1},\"title\":{\"text\":\"Impactscore van tsunami's + zeespiegelstijging\"},\"xaxis\":{\"title\":{\"text\":\"Jaar\"}},\"height\":600},                        {\"responsive\": true}                    ).then(function(){\n",
       "                            \n",
       "var gd = document.getElementById('f7418df5-5e0c-411d-9c11-8e3e9ce9fa23');\n",
       "var x = new MutationObserver(function (mutations, observer) {{\n",
       "        var display = window.getComputedStyle(gd).display;\n",
       "        if (!display || display === 'none') {{\n",
       "            console.log([gd, 'removed!']);\n",
       "            Plotly.purge(gd);\n",
       "            observer.disconnect();\n",
       "        }}\n",
       "}});\n",
       "\n",
       "// Listen for the removal of the full notebook cells\n",
       "var notebookContainer = gd.closest('#notebook-container');\n",
       "if (notebookContainer) {{\n",
       "    x.observe(notebookContainer, {childList: true});\n",
       "}}\n",
       "\n",
       "// Listen for the clearing of the current output cell\n",
       "var outputEl = gd.closest('.output');\n",
       "if (outputEl) {{\n",
       "    x.observe(outputEl, {childList: true});\n",
       "}}\n",
       "\n",
       "                        })                };                });            </script>        </div>"
      ]
     },
     "metadata": {},
     "output_type": "display_data"
    }
   ],
   "source": [
    "import plotly.graph_objects as go\n",
    "\n",
    "# Maak eerste figuur: scatter plot\n",
    "scatter = go.Scatter(\n",
    "    x=filtered_df['Year'],\n",
    "    y=filtered_df['Impact_Score'],\n",
    "    mode='markers',\n",
    "    marker=dict(\n",
    "        size=filtered_df['Impact_Score_Log'] * 5,\n",
    "        color=filtered_df['Country'].astype('category').cat.codes,\n",
    "        colorscale='plasma',\n",
    "        showscale=False  #verbergt de kleurenbalk\n",
    "    ),\n",
    "    text=filtered_df['Country'],\n",
    "    name='Impact Score',\n",
    "    hovertemplate=(\n",
    "        \"Land: %{text}<br>Impact Score: %{y}<br>Jaar: %{x}<br>\"\n",
    "        \"Total Deaths: %{customdata[0]}<br>\"\n",
    "        \"Total Affected: %{customdata[1]}<br>\"\n",
    "        \"Total Damage: %{customdata[2]}\"\n",
    "    ),\n",
    "    customdata=filtered_df[['Total Deaths', 'Total Affected', \"Total Damages ('000 US$)\"]],\n",
    "    yaxis='y1'\n",
    ")\n",
    "\n",
    "# Maak tweede figuur: zeespiegel-lijn\n",
    "sea_level_line = go.Scatter(\n",
    "    x=filtered_df['Year'],\n",
    "    y=filtered_df['mmfrom1993-2008average'],\n",
    "    mode='lines+markers',\n",
    "    line=dict(color='orange', width=2),\n",
    "    name='Zeespiegelafwijking (mm)',\n",
    "    yaxis='y2'\n",
    ")\n",
    "\n",
    "# Combineer beide\n",
    "fig = go.Figure(data=[scatter, sea_level_line])\n",
    "\n",
    "fig.update_layout(\n",
    "    title=\"Impactscore van tsunami's + zeespiegelstijging\",\n",
    "    xaxis=dict(title='Jaar'),\n",
    "    yaxis=dict(\n",
    "        title='Impact Score (log)',\n",
    "        type='log',\n",
    "        showgrid=False\n",
    "    ),\n",
    "    yaxis2=dict(\n",
    "        title='Zeespiegelafwijking (mm)',\n",
    "        overlaying='y',\n",
    "        side='right',\n",
    "        showgrid=False\n",
    "    ),\n",
    "    height=600,\n",
    "    legend=dict(\n",
    "        x=1.05,\n",
    "        y=1\n",
    "    )\n",
    ")\n",
    "\n",
    "\n",
    "fig.show()\n"
   ]
  },
  {
   "cell_type": "markdown",
   "id": "5eb48ffa-6886-4668-82cb-f11ab1b83c85",
   "metadata": {},
   "source": [
    "## Tsunami’s vormen een toenemend gevaar in de toekomst omdat naar mate de zeespiegel stijgt kosten van damages en total deaths toenemen na een tsunami."
   ]
  },
  {
   "cell_type": "markdown",
   "id": "9acf6b57-f6ad-4b13-9712-631cb2c0d273",
   "metadata": {},
   "source": [
    "Onze verwachting van dit argument was eigenlijk dat naar mate de zeespiegel stijgt de kosten van schade ook toegenomen zouden zijn. Wat we helaas niet verwachtte is dat de dataset hierover beperkte informaite bevatte. Er zijn drie verschillende plots gemaakt (die op elkaar een vallen) die de zeespiegelstijging, tsunami's en kosten van de schade van deze tsunami's visueel weergeven. Er zijn slechts 2 datapunten in de dataset in deze kolom, waarschijnlijk omdat landen dit niet hebben genoteerd of omdat de informatie niet bereikbaar was. Wat wel opvallend is om te zien dat de totaal aantal doden een enorme stijging heeft in 2004. Dit is het jaar waar een tsunami op 26 december 2004 de kust van Thailand trof, wat resulteerde in meer dan tweehonderd duizend doden. Ook is te zien als er naar aantal doden per jaar wordt gekeken dat wel toeneemt. Dit kan komen doordat de zeespiegelstijging ervoor zorgt dat er meer volume is waarmee een tsunami schade kan doen. Hieronder is dit te zien."
   ]
  },
  {
   "cell_type": "code",
   "execution_count": 4,
   "id": "de009fa3-5a1b-4a2e-944b-ca85312fb850",
   "metadata": {},
   "outputs": [
    {
     "data": {
      "application/vnd.plotly.v1+json": {
       "config": {
        "plotlyServerURL": "https://plot.ly"
       },
       "data": [
        {
         "line": {
          "color": "red"
         },
         "mode": "lines+markers",
         "name": "Total Deaths",
         "type": "scatter",
         "x": {
          "bdata": "bQdxB4gHjQeYB6wHsAexB7sHvwfJB9IH1AfWB9kH2gfbB+IH",
          "dtype": "i2"
         },
         "y": {
          "bdata": "AAAAAAAAMkAAAAAAAIBEQAAAAAAAAGBAAAAAAABwp0AAAAAAAByTQAAAAAAAADlAAAAAAAAAaUAAAAAAAABQQAAAAAAA2IBAAAAAAACAWUAAAAAAAOBtQAAAAAAAACBAAAAAAICZC0EAAAAAACiJQAAAAAAAAPA/AAAAAACQgEAAAAAAwGHTQAAAAAAALLBA",
          "dtype": "f8"
         }
        },
        {
         "line": {
          "color": "orange"
         },
         "mode": "lines+markers",
         "name": "Total Damages ('000 US$)",
         "type": "scatter",
         "x": {
          "bdata": "bQdxB4gHjQeYB6wHsAexB7sHvwfJB9IH1AfWB9kH2gfbB+IH",
          "dtype": "i2"
         },
         "y": {
          "bdata": "AAAAAAAAAAAAAAAAAAAAAAAAAAAAAAAAAAAAAAAAAAAAAAAAAAAAAAAAAAAAaihBAAAAAAAAAAAAAAAAAAAAAAAAAAAAAAAAAAAAAABkGUEAAAAAgIQuQQAAAAAAAAAAAAAAAB2eYkEAAAAAANvqQAAAAAAAahhBAAAAAAAAAAAAAAAAcJlkQQAAAAAQIDZB",
          "dtype": "f8"
         }
        },
        {
         "line": {
          "color": "royalblue"
         },
         "mode": "lines+markers",
         "name": "Sea Level Rise (mm)",
         "type": "scatter",
         "x": {
          "bdata": "bQdxB4gHjQeYB6wHsAexB7sHvwfJB9IH1AfWB9kH2gfbB+IH",
          "dtype": "i2"
         },
         "y": {
          "bdata": "+F4yRISRY8AAAAAAQE1jwDvUAO8uHGDA3Q5oRMT+XcCJV/4hojxdwIfYR0TEvlHAmpmZmRk0UsCamZmZmU5PwDMzMzMzaEfA6C7s3d1HNsDoLuzd3cc2wJD8k4iIOAFANsQ+IiJOK0DcANvd3QkjQA2xj4iI00BAymSCK2rwQED5MHvZ9ltCQKgi7EblikpA",
          "dtype": "f8"
         }
        }
       ],
       "layout": {
        "height": 600,
        "template": {
         "data": {
          "bar": [
           {
            "error_x": {
             "color": "#2a3f5f"
            },
            "error_y": {
             "color": "#2a3f5f"
            },
            "marker": {
             "line": {
              "color": "#E5ECF6",
              "width": 0.5
             },
             "pattern": {
              "fillmode": "overlay",
              "size": 10,
              "solidity": 0.2
             }
            },
            "type": "bar"
           }
          ],
          "barpolar": [
           {
            "marker": {
             "line": {
              "color": "#E5ECF6",
              "width": 0.5
             },
             "pattern": {
              "fillmode": "overlay",
              "size": 10,
              "solidity": 0.2
             }
            },
            "type": "barpolar"
           }
          ],
          "carpet": [
           {
            "aaxis": {
             "endlinecolor": "#2a3f5f",
             "gridcolor": "white",
             "linecolor": "white",
             "minorgridcolor": "white",
             "startlinecolor": "#2a3f5f"
            },
            "baxis": {
             "endlinecolor": "#2a3f5f",
             "gridcolor": "white",
             "linecolor": "white",
             "minorgridcolor": "white",
             "startlinecolor": "#2a3f5f"
            },
            "type": "carpet"
           }
          ],
          "choropleth": [
           {
            "colorbar": {
             "outlinewidth": 0,
             "ticks": ""
            },
            "type": "choropleth"
           }
          ],
          "contour": [
           {
            "colorbar": {
             "outlinewidth": 0,
             "ticks": ""
            },
            "colorscale": [
             [
              0,
              "#0d0887"
             ],
             [
              0.1111111111111111,
              "#46039f"
             ],
             [
              0.2222222222222222,
              "#7201a8"
             ],
             [
              0.3333333333333333,
              "#9c179e"
             ],
             [
              0.4444444444444444,
              "#bd3786"
             ],
             [
              0.5555555555555556,
              "#d8576b"
             ],
             [
              0.6666666666666666,
              "#ed7953"
             ],
             [
              0.7777777777777778,
              "#fb9f3a"
             ],
             [
              0.8888888888888888,
              "#fdca26"
             ],
             [
              1,
              "#f0f921"
             ]
            ],
            "type": "contour"
           }
          ],
          "contourcarpet": [
           {
            "colorbar": {
             "outlinewidth": 0,
             "ticks": ""
            },
            "type": "contourcarpet"
           }
          ],
          "heatmap": [
           {
            "colorbar": {
             "outlinewidth": 0,
             "ticks": ""
            },
            "colorscale": [
             [
              0,
              "#0d0887"
             ],
             [
              0.1111111111111111,
              "#46039f"
             ],
             [
              0.2222222222222222,
              "#7201a8"
             ],
             [
              0.3333333333333333,
              "#9c179e"
             ],
             [
              0.4444444444444444,
              "#bd3786"
             ],
             [
              0.5555555555555556,
              "#d8576b"
             ],
             [
              0.6666666666666666,
              "#ed7953"
             ],
             [
              0.7777777777777778,
              "#fb9f3a"
             ],
             [
              0.8888888888888888,
              "#fdca26"
             ],
             [
              1,
              "#f0f921"
             ]
            ],
            "type": "heatmap"
           }
          ],
          "histogram": [
           {
            "marker": {
             "pattern": {
              "fillmode": "overlay",
              "size": 10,
              "solidity": 0.2
             }
            },
            "type": "histogram"
           }
          ],
          "histogram2d": [
           {
            "colorbar": {
             "outlinewidth": 0,
             "ticks": ""
            },
            "colorscale": [
             [
              0,
              "#0d0887"
             ],
             [
              0.1111111111111111,
              "#46039f"
             ],
             [
              0.2222222222222222,
              "#7201a8"
             ],
             [
              0.3333333333333333,
              "#9c179e"
             ],
             [
              0.4444444444444444,
              "#bd3786"
             ],
             [
              0.5555555555555556,
              "#d8576b"
             ],
             [
              0.6666666666666666,
              "#ed7953"
             ],
             [
              0.7777777777777778,
              "#fb9f3a"
             ],
             [
              0.8888888888888888,
              "#fdca26"
             ],
             [
              1,
              "#f0f921"
             ]
            ],
            "type": "histogram2d"
           }
          ],
          "histogram2dcontour": [
           {
            "colorbar": {
             "outlinewidth": 0,
             "ticks": ""
            },
            "colorscale": [
             [
              0,
              "#0d0887"
             ],
             [
              0.1111111111111111,
              "#46039f"
             ],
             [
              0.2222222222222222,
              "#7201a8"
             ],
             [
              0.3333333333333333,
              "#9c179e"
             ],
             [
              0.4444444444444444,
              "#bd3786"
             ],
             [
              0.5555555555555556,
              "#d8576b"
             ],
             [
              0.6666666666666666,
              "#ed7953"
             ],
             [
              0.7777777777777778,
              "#fb9f3a"
             ],
             [
              0.8888888888888888,
              "#fdca26"
             ],
             [
              1,
              "#f0f921"
             ]
            ],
            "type": "histogram2dcontour"
           }
          ],
          "mesh3d": [
           {
            "colorbar": {
             "outlinewidth": 0,
             "ticks": ""
            },
            "type": "mesh3d"
           }
          ],
          "parcoords": [
           {
            "line": {
             "colorbar": {
              "outlinewidth": 0,
              "ticks": ""
             }
            },
            "type": "parcoords"
           }
          ],
          "pie": [
           {
            "automargin": true,
            "type": "pie"
           }
          ],
          "scatter": [
           {
            "fillpattern": {
             "fillmode": "overlay",
             "size": 10,
             "solidity": 0.2
            },
            "type": "scatter"
           }
          ],
          "scatter3d": [
           {
            "line": {
             "colorbar": {
              "outlinewidth": 0,
              "ticks": ""
             }
            },
            "marker": {
             "colorbar": {
              "outlinewidth": 0,
              "ticks": ""
             }
            },
            "type": "scatter3d"
           }
          ],
          "scattercarpet": [
           {
            "marker": {
             "colorbar": {
              "outlinewidth": 0,
              "ticks": ""
             }
            },
            "type": "scattercarpet"
           }
          ],
          "scattergeo": [
           {
            "marker": {
             "colorbar": {
              "outlinewidth": 0,
              "ticks": ""
             }
            },
            "type": "scattergeo"
           }
          ],
          "scattergl": [
           {
            "marker": {
             "colorbar": {
              "outlinewidth": 0,
              "ticks": ""
             }
            },
            "type": "scattergl"
           }
          ],
          "scattermap": [
           {
            "marker": {
             "colorbar": {
              "outlinewidth": 0,
              "ticks": ""
             }
            },
            "type": "scattermap"
           }
          ],
          "scattermapbox": [
           {
            "marker": {
             "colorbar": {
              "outlinewidth": 0,
              "ticks": ""
             }
            },
            "type": "scattermapbox"
           }
          ],
          "scatterpolar": [
           {
            "marker": {
             "colorbar": {
              "outlinewidth": 0,
              "ticks": ""
             }
            },
            "type": "scatterpolar"
           }
          ],
          "scatterpolargl": [
           {
            "marker": {
             "colorbar": {
              "outlinewidth": 0,
              "ticks": ""
             }
            },
            "type": "scatterpolargl"
           }
          ],
          "scatterternary": [
           {
            "marker": {
             "colorbar": {
              "outlinewidth": 0,
              "ticks": ""
             }
            },
            "type": "scatterternary"
           }
          ],
          "surface": [
           {
            "colorbar": {
             "outlinewidth": 0,
             "ticks": ""
            },
            "colorscale": [
             [
              0,
              "#0d0887"
             ],
             [
              0.1111111111111111,
              "#46039f"
             ],
             [
              0.2222222222222222,
              "#7201a8"
             ],
             [
              0.3333333333333333,
              "#9c179e"
             ],
             [
              0.4444444444444444,
              "#bd3786"
             ],
             [
              0.5555555555555556,
              "#d8576b"
             ],
             [
              0.6666666666666666,
              "#ed7953"
             ],
             [
              0.7777777777777778,
              "#fb9f3a"
             ],
             [
              0.8888888888888888,
              "#fdca26"
             ],
             [
              1,
              "#f0f921"
             ]
            ],
            "type": "surface"
           }
          ],
          "table": [
           {
            "cells": {
             "fill": {
              "color": "#EBF0F8"
             },
             "line": {
              "color": "white"
             }
            },
            "header": {
             "fill": {
              "color": "#C8D4E3"
             },
             "line": {
              "color": "white"
             }
            },
            "type": "table"
           }
          ]
         },
         "layout": {
          "annotationdefaults": {
           "arrowcolor": "#2a3f5f",
           "arrowhead": 0,
           "arrowwidth": 1
          },
          "autotypenumbers": "strict",
          "coloraxis": {
           "colorbar": {
            "outlinewidth": 0,
            "ticks": ""
           }
          },
          "colorscale": {
           "diverging": [
            [
             0,
             "#8e0152"
            ],
            [
             0.1,
             "#c51b7d"
            ],
            [
             0.2,
             "#de77ae"
            ],
            [
             0.3,
             "#f1b6da"
            ],
            [
             0.4,
             "#fde0ef"
            ],
            [
             0.5,
             "#f7f7f7"
            ],
            [
             0.6,
             "#e6f5d0"
            ],
            [
             0.7,
             "#b8e186"
            ],
            [
             0.8,
             "#7fbc41"
            ],
            [
             0.9,
             "#4d9221"
            ],
            [
             1,
             "#276419"
            ]
           ],
           "sequential": [
            [
             0,
             "#0d0887"
            ],
            [
             0.1111111111111111,
             "#46039f"
            ],
            [
             0.2222222222222222,
             "#7201a8"
            ],
            [
             0.3333333333333333,
             "#9c179e"
            ],
            [
             0.4444444444444444,
             "#bd3786"
            ],
            [
             0.5555555555555556,
             "#d8576b"
            ],
            [
             0.6666666666666666,
             "#ed7953"
            ],
            [
             0.7777777777777778,
             "#fb9f3a"
            ],
            [
             0.8888888888888888,
             "#fdca26"
            ],
            [
             1,
             "#f0f921"
            ]
           ],
           "sequentialminus": [
            [
             0,
             "#0d0887"
            ],
            [
             0.1111111111111111,
             "#46039f"
            ],
            [
             0.2222222222222222,
             "#7201a8"
            ],
            [
             0.3333333333333333,
             "#9c179e"
            ],
            [
             0.4444444444444444,
             "#bd3786"
            ],
            [
             0.5555555555555556,
             "#d8576b"
            ],
            [
             0.6666666666666666,
             "#ed7953"
            ],
            [
             0.7777777777777778,
             "#fb9f3a"
            ],
            [
             0.8888888888888888,
             "#fdca26"
            ],
            [
             1,
             "#f0f921"
            ]
           ]
          },
          "colorway": [
           "#636efa",
           "#EF553B",
           "#00cc96",
           "#ab63fa",
           "#FFA15A",
           "#19d3f3",
           "#FF6692",
           "#B6E880",
           "#FF97FF",
           "#FECB52"
          ],
          "font": {
           "color": "#2a3f5f"
          },
          "geo": {
           "bgcolor": "white",
           "lakecolor": "white",
           "landcolor": "#E5ECF6",
           "showlakes": true,
           "showland": true,
           "subunitcolor": "white"
          },
          "hoverlabel": {
           "align": "left"
          },
          "hovermode": "closest",
          "mapbox": {
           "style": "light"
          },
          "paper_bgcolor": "white",
          "plot_bgcolor": "#E5ECF6",
          "polar": {
           "angularaxis": {
            "gridcolor": "white",
            "linecolor": "white",
            "ticks": ""
           },
           "bgcolor": "#E5ECF6",
           "radialaxis": {
            "gridcolor": "white",
            "linecolor": "white",
            "ticks": ""
           }
          },
          "scene": {
           "xaxis": {
            "backgroundcolor": "#E5ECF6",
            "gridcolor": "white",
            "gridwidth": 2,
            "linecolor": "white",
            "showbackground": true,
            "ticks": "",
            "zerolinecolor": "white"
           },
           "yaxis": {
            "backgroundcolor": "#E5ECF6",
            "gridcolor": "white",
            "gridwidth": 2,
            "linecolor": "white",
            "showbackground": true,
            "ticks": "",
            "zerolinecolor": "white"
           },
           "zaxis": {
            "backgroundcolor": "#E5ECF6",
            "gridcolor": "white",
            "gridwidth": 2,
            "linecolor": "white",
            "showbackground": true,
            "ticks": "",
            "zerolinecolor": "white"
           }
          },
          "shapedefaults": {
           "line": {
            "color": "#2a3f5f"
           }
          },
          "ternary": {
           "aaxis": {
            "gridcolor": "white",
            "linecolor": "white",
            "ticks": ""
           },
           "baxis": {
            "gridcolor": "white",
            "linecolor": "white",
            "ticks": ""
           },
           "bgcolor": "#E5ECF6",
           "caxis": {
            "gridcolor": "white",
            "linecolor": "white",
            "ticks": ""
           }
          },
          "title": {
           "x": 0.05
          },
          "xaxis": {
           "automargin": true,
           "gridcolor": "white",
           "linecolor": "white",
           "ticks": "",
           "title": {
            "standoff": 15
           },
           "zerolinecolor": "white",
           "zerolinewidth": 2
          },
          "yaxis": {
           "automargin": true,
           "gridcolor": "white",
           "linecolor": "white",
           "ticks": "",
           "title": {
            "standoff": 15
           },
           "zerolinecolor": "white",
           "zerolinewidth": 2
          }
         }
        },
        "title": {
         "text": "Tsunamis in Azië en Oceanië: Totale Doden, Schade en Zeespiegelstijging per Jaar (2011 aangepast)"
        },
        "xaxis": {
         "title": {
          "text": "Year"
         }
        },
        "yaxis": {
         "title": {
          "text": "Value"
         }
        }
       }
      },
      "text/html": [
       "<div>            <script src=\"https://cdnjs.cloudflare.com/ajax/libs/mathjax/2.7.5/MathJax.js?config=TeX-AMS-MML_SVG\"></script><script type=\"text/javascript\">if (window.MathJax && window.MathJax.Hub && window.MathJax.Hub.Config) {window.MathJax.Hub.Config({SVG: {font: \"STIX-Web\"}});}</script>                <script type=\"text/javascript\">window.PlotlyConfig = {MathJaxConfig: 'local'};</script>\n",
       "        <script charset=\"utf-8\" src=\"https://cdn.plot.ly/plotly-3.0.1.min.js\"></script>                <div id=\"55f02535-9437-47ba-a2e1-e23a6a6aba7b\" class=\"plotly-graph-div\" style=\"height:600px; width:100%;\"></div>            <script type=\"text/javascript\">                window.PLOTLYENV=window.PLOTLYENV || {};                                if (document.getElementById(\"55f02535-9437-47ba-a2e1-e23a6a6aba7b\")) {                    Plotly.newPlot(                        \"55f02535-9437-47ba-a2e1-e23a6a6aba7b\",                        [{\"line\":{\"color\":\"red\"},\"mode\":\"lines+markers\",\"name\":\"Total Deaths\",\"x\":{\"dtype\":\"i2\",\"bdata\":\"bQdxB4gHjQeYB6wHsAexB7sHvwfJB9IH1AfWB9kH2gfbB+IH\"},\"y\":{\"dtype\":\"f8\",\"bdata\":\"AAAAAAAAMkAAAAAAAIBEQAAAAAAAAGBAAAAAAABwp0AAAAAAAByTQAAAAAAAADlAAAAAAAAAaUAAAAAAAABQQAAAAAAA2IBAAAAAAACAWUAAAAAAAOBtQAAAAAAAACBAAAAAAICZC0EAAAAAACiJQAAAAAAAAPA\\u002fAAAAAACQgEAAAAAAwGHTQAAAAAAALLBA\"},\"type\":\"scatter\"},{\"line\":{\"color\":\"orange\"},\"mode\":\"lines+markers\",\"name\":\"Total Damages ('000 US$)\",\"x\":{\"dtype\":\"i2\",\"bdata\":\"bQdxB4gHjQeYB6wHsAexB7sHvwfJB9IH1AfWB9kH2gfbB+IH\"},\"y\":{\"dtype\":\"f8\",\"bdata\":\"AAAAAAAAAAAAAAAAAAAAAAAAAAAAAAAAAAAAAAAAAAAAAAAAAAAAAAAAAAAAaihBAAAAAAAAAAAAAAAAAAAAAAAAAAAAAAAAAAAAAABkGUEAAAAAgIQuQQAAAAAAAAAAAAAAAB2eYkEAAAAAANvqQAAAAAAAahhBAAAAAAAAAAAAAAAAcJlkQQAAAAAQIDZB\"},\"type\":\"scatter\"},{\"line\":{\"color\":\"royalblue\"},\"mode\":\"lines+markers\",\"name\":\"Sea Level Rise (mm)\",\"x\":{\"dtype\":\"i2\",\"bdata\":\"bQdxB4gHjQeYB6wHsAexB7sHvwfJB9IH1AfWB9kH2gfbB+IH\"},\"y\":{\"dtype\":\"f8\",\"bdata\":\"+F4yRISRY8AAAAAAQE1jwDvUAO8uHGDA3Q5oRMT+XcCJV\\u002f4hojxdwIfYR0TEvlHAmpmZmRk0UsCamZmZmU5PwDMzMzMzaEfA6C7s3d1HNsDoLuzd3cc2wJD8k4iIOAFANsQ+IiJOK0DcANvd3QkjQA2xj4iI00BAymSCK2rwQED5MHvZ9ltCQKgi7EblikpA\"},\"type\":\"scatter\"}],                        {\"template\":{\"data\":{\"histogram2dcontour\":[{\"type\":\"histogram2dcontour\",\"colorbar\":{\"outlinewidth\":0,\"ticks\":\"\"},\"colorscale\":[[0.0,\"#0d0887\"],[0.1111111111111111,\"#46039f\"],[0.2222222222222222,\"#7201a8\"],[0.3333333333333333,\"#9c179e\"],[0.4444444444444444,\"#bd3786\"],[0.5555555555555556,\"#d8576b\"],[0.6666666666666666,\"#ed7953\"],[0.7777777777777778,\"#fb9f3a\"],[0.8888888888888888,\"#fdca26\"],[1.0,\"#f0f921\"]]}],\"choropleth\":[{\"type\":\"choropleth\",\"colorbar\":{\"outlinewidth\":0,\"ticks\":\"\"}}],\"histogram2d\":[{\"type\":\"histogram2d\",\"colorbar\":{\"outlinewidth\":0,\"ticks\":\"\"},\"colorscale\":[[0.0,\"#0d0887\"],[0.1111111111111111,\"#46039f\"],[0.2222222222222222,\"#7201a8\"],[0.3333333333333333,\"#9c179e\"],[0.4444444444444444,\"#bd3786\"],[0.5555555555555556,\"#d8576b\"],[0.6666666666666666,\"#ed7953\"],[0.7777777777777778,\"#fb9f3a\"],[0.8888888888888888,\"#fdca26\"],[1.0,\"#f0f921\"]]}],\"heatmap\":[{\"type\":\"heatmap\",\"colorbar\":{\"outlinewidth\":0,\"ticks\":\"\"},\"colorscale\":[[0.0,\"#0d0887\"],[0.1111111111111111,\"#46039f\"],[0.2222222222222222,\"#7201a8\"],[0.3333333333333333,\"#9c179e\"],[0.4444444444444444,\"#bd3786\"],[0.5555555555555556,\"#d8576b\"],[0.6666666666666666,\"#ed7953\"],[0.7777777777777778,\"#fb9f3a\"],[0.8888888888888888,\"#fdca26\"],[1.0,\"#f0f921\"]]}],\"contourcarpet\":[{\"type\":\"contourcarpet\",\"colorbar\":{\"outlinewidth\":0,\"ticks\":\"\"}}],\"contour\":[{\"type\":\"contour\",\"colorbar\":{\"outlinewidth\":0,\"ticks\":\"\"},\"colorscale\":[[0.0,\"#0d0887\"],[0.1111111111111111,\"#46039f\"],[0.2222222222222222,\"#7201a8\"],[0.3333333333333333,\"#9c179e\"],[0.4444444444444444,\"#bd3786\"],[0.5555555555555556,\"#d8576b\"],[0.6666666666666666,\"#ed7953\"],[0.7777777777777778,\"#fb9f3a\"],[0.8888888888888888,\"#fdca26\"],[1.0,\"#f0f921\"]]}],\"surface\":[{\"type\":\"surface\",\"colorbar\":{\"outlinewidth\":0,\"ticks\":\"\"},\"colorscale\":[[0.0,\"#0d0887\"],[0.1111111111111111,\"#46039f\"],[0.2222222222222222,\"#7201a8\"],[0.3333333333333333,\"#9c179e\"],[0.4444444444444444,\"#bd3786\"],[0.5555555555555556,\"#d8576b\"],[0.6666666666666666,\"#ed7953\"],[0.7777777777777778,\"#fb9f3a\"],[0.8888888888888888,\"#fdca26\"],[1.0,\"#f0f921\"]]}],\"mesh3d\":[{\"type\":\"mesh3d\",\"colorbar\":{\"outlinewidth\":0,\"ticks\":\"\"}}],\"scatter\":[{\"fillpattern\":{\"fillmode\":\"overlay\",\"size\":10,\"solidity\":0.2},\"type\":\"scatter\"}],\"parcoords\":[{\"type\":\"parcoords\",\"line\":{\"colorbar\":{\"outlinewidth\":0,\"ticks\":\"\"}}}],\"scatterpolargl\":[{\"type\":\"scatterpolargl\",\"marker\":{\"colorbar\":{\"outlinewidth\":0,\"ticks\":\"\"}}}],\"bar\":[{\"error_x\":{\"color\":\"#2a3f5f\"},\"error_y\":{\"color\":\"#2a3f5f\"},\"marker\":{\"line\":{\"color\":\"#E5ECF6\",\"width\":0.5},\"pattern\":{\"fillmode\":\"overlay\",\"size\":10,\"solidity\":0.2}},\"type\":\"bar\"}],\"scattergeo\":[{\"type\":\"scattergeo\",\"marker\":{\"colorbar\":{\"outlinewidth\":0,\"ticks\":\"\"}}}],\"scatterpolar\":[{\"type\":\"scatterpolar\",\"marker\":{\"colorbar\":{\"outlinewidth\":0,\"ticks\":\"\"}}}],\"histogram\":[{\"marker\":{\"pattern\":{\"fillmode\":\"overlay\",\"size\":10,\"solidity\":0.2}},\"type\":\"histogram\"}],\"scattergl\":[{\"type\":\"scattergl\",\"marker\":{\"colorbar\":{\"outlinewidth\":0,\"ticks\":\"\"}}}],\"scatter3d\":[{\"type\":\"scatter3d\",\"line\":{\"colorbar\":{\"outlinewidth\":0,\"ticks\":\"\"}},\"marker\":{\"colorbar\":{\"outlinewidth\":0,\"ticks\":\"\"}}}],\"scattermap\":[{\"type\":\"scattermap\",\"marker\":{\"colorbar\":{\"outlinewidth\":0,\"ticks\":\"\"}}}],\"scattermapbox\":[{\"type\":\"scattermapbox\",\"marker\":{\"colorbar\":{\"outlinewidth\":0,\"ticks\":\"\"}}}],\"scatterternary\":[{\"type\":\"scatterternary\",\"marker\":{\"colorbar\":{\"outlinewidth\":0,\"ticks\":\"\"}}}],\"scattercarpet\":[{\"type\":\"scattercarpet\",\"marker\":{\"colorbar\":{\"outlinewidth\":0,\"ticks\":\"\"}}}],\"carpet\":[{\"aaxis\":{\"endlinecolor\":\"#2a3f5f\",\"gridcolor\":\"white\",\"linecolor\":\"white\",\"minorgridcolor\":\"white\",\"startlinecolor\":\"#2a3f5f\"},\"baxis\":{\"endlinecolor\":\"#2a3f5f\",\"gridcolor\":\"white\",\"linecolor\":\"white\",\"minorgridcolor\":\"white\",\"startlinecolor\":\"#2a3f5f\"},\"type\":\"carpet\"}],\"table\":[{\"cells\":{\"fill\":{\"color\":\"#EBF0F8\"},\"line\":{\"color\":\"white\"}},\"header\":{\"fill\":{\"color\":\"#C8D4E3\"},\"line\":{\"color\":\"white\"}},\"type\":\"table\"}],\"barpolar\":[{\"marker\":{\"line\":{\"color\":\"#E5ECF6\",\"width\":0.5},\"pattern\":{\"fillmode\":\"overlay\",\"size\":10,\"solidity\":0.2}},\"type\":\"barpolar\"}],\"pie\":[{\"automargin\":true,\"type\":\"pie\"}]},\"layout\":{\"autotypenumbers\":\"strict\",\"colorway\":[\"#636efa\",\"#EF553B\",\"#00cc96\",\"#ab63fa\",\"#FFA15A\",\"#19d3f3\",\"#FF6692\",\"#B6E880\",\"#FF97FF\",\"#FECB52\"],\"font\":{\"color\":\"#2a3f5f\"},\"hovermode\":\"closest\",\"hoverlabel\":{\"align\":\"left\"},\"paper_bgcolor\":\"white\",\"plot_bgcolor\":\"#E5ECF6\",\"polar\":{\"bgcolor\":\"#E5ECF6\",\"angularaxis\":{\"gridcolor\":\"white\",\"linecolor\":\"white\",\"ticks\":\"\"},\"radialaxis\":{\"gridcolor\":\"white\",\"linecolor\":\"white\",\"ticks\":\"\"}},\"ternary\":{\"bgcolor\":\"#E5ECF6\",\"aaxis\":{\"gridcolor\":\"white\",\"linecolor\":\"white\",\"ticks\":\"\"},\"baxis\":{\"gridcolor\":\"white\",\"linecolor\":\"white\",\"ticks\":\"\"},\"caxis\":{\"gridcolor\":\"white\",\"linecolor\":\"white\",\"ticks\":\"\"}},\"coloraxis\":{\"colorbar\":{\"outlinewidth\":0,\"ticks\":\"\"}},\"colorscale\":{\"sequential\":[[0.0,\"#0d0887\"],[0.1111111111111111,\"#46039f\"],[0.2222222222222222,\"#7201a8\"],[0.3333333333333333,\"#9c179e\"],[0.4444444444444444,\"#bd3786\"],[0.5555555555555556,\"#d8576b\"],[0.6666666666666666,\"#ed7953\"],[0.7777777777777778,\"#fb9f3a\"],[0.8888888888888888,\"#fdca26\"],[1.0,\"#f0f921\"]],\"sequentialminus\":[[0.0,\"#0d0887\"],[0.1111111111111111,\"#46039f\"],[0.2222222222222222,\"#7201a8\"],[0.3333333333333333,\"#9c179e\"],[0.4444444444444444,\"#bd3786\"],[0.5555555555555556,\"#d8576b\"],[0.6666666666666666,\"#ed7953\"],[0.7777777777777778,\"#fb9f3a\"],[0.8888888888888888,\"#fdca26\"],[1.0,\"#f0f921\"]],\"diverging\":[[0,\"#8e0152\"],[0.1,\"#c51b7d\"],[0.2,\"#de77ae\"],[0.3,\"#f1b6da\"],[0.4,\"#fde0ef\"],[0.5,\"#f7f7f7\"],[0.6,\"#e6f5d0\"],[0.7,\"#b8e186\"],[0.8,\"#7fbc41\"],[0.9,\"#4d9221\"],[1,\"#276419\"]]},\"xaxis\":{\"gridcolor\":\"white\",\"linecolor\":\"white\",\"ticks\":\"\",\"title\":{\"standoff\":15},\"zerolinecolor\":\"white\",\"automargin\":true,\"zerolinewidth\":2},\"yaxis\":{\"gridcolor\":\"white\",\"linecolor\":\"white\",\"ticks\":\"\",\"title\":{\"standoff\":15},\"zerolinecolor\":\"white\",\"automargin\":true,\"zerolinewidth\":2},\"scene\":{\"xaxis\":{\"backgroundcolor\":\"#E5ECF6\",\"gridcolor\":\"white\",\"linecolor\":\"white\",\"showbackground\":true,\"ticks\":\"\",\"zerolinecolor\":\"white\",\"gridwidth\":2},\"yaxis\":{\"backgroundcolor\":\"#E5ECF6\",\"gridcolor\":\"white\",\"linecolor\":\"white\",\"showbackground\":true,\"ticks\":\"\",\"zerolinecolor\":\"white\",\"gridwidth\":2},\"zaxis\":{\"backgroundcolor\":\"#E5ECF6\",\"gridcolor\":\"white\",\"linecolor\":\"white\",\"showbackground\":true,\"ticks\":\"\",\"zerolinecolor\":\"white\",\"gridwidth\":2}},\"shapedefaults\":{\"line\":{\"color\":\"#2a3f5f\"}},\"annotationdefaults\":{\"arrowcolor\":\"#2a3f5f\",\"arrowhead\":0,\"arrowwidth\":1},\"geo\":{\"bgcolor\":\"white\",\"landcolor\":\"#E5ECF6\",\"subunitcolor\":\"white\",\"showland\":true,\"showlakes\":true,\"lakecolor\":\"white\"},\"title\":{\"x\":0.05},\"mapbox\":{\"style\":\"light\"}}},\"title\":{\"text\":\"Tsunamis in Azi\\u00eb en Oceani\\u00eb: Totale Doden, Schade en Zeespiegelstijging per Jaar (2011 aangepast)\"},\"xaxis\":{\"title\":{\"text\":\"Year\"}},\"yaxis\":{\"title\":{\"text\":\"Value\"}},\"height\":600},                        {\"responsive\": true}                    ).then(function(){\n",
       "                            \n",
       "var gd = document.getElementById('55f02535-9437-47ba-a2e1-e23a6a6aba7b');\n",
       "var x = new MutationObserver(function (mutations, observer) {{\n",
       "        var display = window.getComputedStyle(gd).display;\n",
       "        if (!display || display === 'none') {{\n",
       "            console.log([gd, 'removed!']);\n",
       "            Plotly.purge(gd);\n",
       "            observer.disconnect();\n",
       "        }}\n",
       "}});\n",
       "\n",
       "// Listen for the removal of the full notebook cells\n",
       "var notebookContainer = gd.closest('#notebook-container');\n",
       "if (notebookContainer) {{\n",
       "    x.observe(notebookContainer, {childList: true});\n",
       "}}\n",
       "\n",
       "// Listen for the clearing of the current output cell\n",
       "var outputEl = gd.closest('.output');\n",
       "if (outputEl) {{\n",
       "    x.observe(outputEl, {childList: true});\n",
       "}}\n",
       "\n",
       "                        })                };            </script>        </div>"
      ]
     },
     "metadata": {},
     "output_type": "display_data"
    }
   ],
   "source": [
    "import plotly.graph_objects as go\n",
    "\n",
    "merged_df['Year'] = merged_df['Year'].astype(int)\n",
    "df = merged_df[merged_df['Region'].str.contains('Asia|Oceania', case=False, na=False)]\n",
    "\n",
    "yearly_deaths = df.groupby('Year')['Total Deaths'].sum()\n",
    "yearly_damages = df.groupby('Year')[\"Total Damages ('000 US$)\"].sum()\n",
    "yearly_sealevel = df.groupby('Year')['mmfrom1993-2008average'].mean()\n",
    "\n",
    "# Pas alleen Total Damages van 2011 aan:\n",
    "yearly_damages.loc[2011] = 10_800_000  # 10.8 miljoen\n",
    "\n",
    "fig = go.Figure()\n",
    "\n",
    "fig.add_trace(go.Scatter(\n",
    "    x=yearly_deaths.index,\n",
    "    y=yearly_deaths.values,\n",
    "    mode='lines+markers',\n",
    "    name='Total Deaths',\n",
    "    line=dict(color='red')\n",
    "))\n",
    "\n",
    "fig.add_trace(go.Scatter(\n",
    "    x=yearly_damages.index,\n",
    "    y=yearly_damages.values,\n",
    "    mode='lines+markers',\n",
    "    name=\"Total Damages ('000 US$)\",\n",
    "    line=dict(color='orange')\n",
    "))\n",
    "\n",
    "fig.add_trace(go.Scatter(\n",
    "    x=yearly_sealevel.index,\n",
    "    y=yearly_sealevel.values,\n",
    "    mode='lines+markers',\n",
    "    name='Sea Level Rise (mm)',\n",
    "    line=dict(color='royalblue')\n",
    "))\n",
    "\n",
    "fig.update_layout(\n",
    "    title=\"Tsunamis in Azië en Oceanië: Totale Doden, Schade en Zeespiegelstijging per Jaar (2011 aangepast)\",\n",
    "    xaxis_title=\"Year\",\n",
    "    yaxis_title=\"Value\",\n",
    "    height=600\n",
    ")\n",
    "\n",
    "fig.show()\n"
   ]
  },
  {
   "cell_type": "code",
   "execution_count": 5,
   "id": "f6a76446-21cf-43a3-9c65-8d2d9c4922c9",
   "metadata": {},
   "outputs": [
    {
     "data": {
      "application/vnd.plotly.v1+json": {
       "config": {
        "plotlyServerURL": "https://plot.ly"
       },
       "data": [
        {
         "line": {
          "color": "orange"
         },
         "mode": "lines+markers",
         "name": "Total Damages",
         "type": "scatter",
         "x": {
          "bdata": "bQdxB4gHjQeYB6wHsAexB7sHvwfJB9IH1AfWB9kH2gfbB+IH",
          "dtype": "i2"
         },
         "xaxis": "x",
         "y": {
          "bdata": "AAAAAAAAAAAAAAAAAAAAAAAAAAAAAAAAAAAAAAAAAAAAAAAAAAAAAAAAAAAAaihBAAAAAAAAAAAAAAAAAAAAAAAAAAAAAAAAAAAAAABkGUEAAAAAgIQuQQAAAAAAAAAAAAAAAB2eYkEAAAAAANvqQAAAAAAAahhBAAAAAAAAAAAAAAAAsQipQQAAAAAQIDZB",
          "dtype": "f8"
         },
         "yaxis": "y"
        },
        {
         "line": {
          "color": "red"
         },
         "mode": "lines+markers",
         "name": "Total Deaths",
         "type": "scatter",
         "x": {
          "bdata": "bQdxB4gHjQeYB6wHsAexB7sHvwfJB9IH1AfWB9kH2gfbB+IH",
          "dtype": "i2"
         },
         "xaxis": "x2",
         "y": {
          "bdata": "AAAAAAAAMkAAAAAAAIBEQAAAAAAAAGBAAAAAAABwp0AAAAAAAByTQAAAAAAAADlAAAAAAAAAaUAAAAAAAABQQAAAAAAA2IBAAAAAAACAWUAAAAAAAOBtQAAAAAAAACBAAAAAAICZC0EAAAAAACiJQAAAAAAAAPA/AAAAAACQgEAAAAAAwGHTQAAAAAAALLBA",
          "dtype": "f8"
         },
         "yaxis": "y2"
        },
        {
         "line": {
          "color": "royalblue"
         },
         "mode": "lines+markers",
         "name": "Sea Level Rise",
         "type": "scatter",
         "x": {
          "bdata": "bQdxB4gHjQeYB6wHsAexB7sHvwfJB9IH1AfWB9kH2gfbB+IH",
          "dtype": "i2"
         },
         "xaxis": "x3",
         "y": {
          "bdata": "+F4yRISRY8AAAAAAQE1jwDvUAO8uHGDA3Q5oRMT+XcCJV/4hojxdwIfYR0TEvlHAmpmZmRk0UsCamZmZmU5PwDMzMzMzaEfA6C7s3d1HNsDoLuzd3cc2wJD8k4iIOAFANsQ+IiJOK0DcANvd3QkjQA2xj4iI00BAymSCK2rwQED5MHvZ9ltCQKgi7EblikpA",
          "dtype": "f8"
         },
         "yaxis": "y3"
        }
       ],
       "layout": {
        "annotations": [
         {
          "font": {
           "size": 16
          },
          "showarrow": false,
          "text": "Total Damages ('000 US$)",
          "x": 0.5,
          "xanchor": "center",
          "xref": "paper",
          "y": 1,
          "yanchor": "bottom",
          "yref": "paper"
         },
         {
          "font": {
           "size": 16
          },
          "showarrow": false,
          "text": "Total Deaths",
          "x": 0.5,
          "xanchor": "center",
          "xref": "paper",
          "y": 0.6333333333333333,
          "yanchor": "bottom",
          "yref": "paper"
         },
         {
          "font": {
           "size": 16
          },
          "showarrow": false,
          "text": "Sea Level Rise (mm)",
          "x": 0.5,
          "xanchor": "center",
          "xref": "paper",
          "y": 0.26666666666666666,
          "yanchor": "bottom",
          "yref": "paper"
         }
        ],
        "height": 800,
        "showlegend": false,
        "template": {
         "data": {
          "bar": [
           {
            "error_x": {
             "color": "#2a3f5f"
            },
            "error_y": {
             "color": "#2a3f5f"
            },
            "marker": {
             "line": {
              "color": "#E5ECF6",
              "width": 0.5
             },
             "pattern": {
              "fillmode": "overlay",
              "size": 10,
              "solidity": 0.2
             }
            },
            "type": "bar"
           }
          ],
          "barpolar": [
           {
            "marker": {
             "line": {
              "color": "#E5ECF6",
              "width": 0.5
             },
             "pattern": {
              "fillmode": "overlay",
              "size": 10,
              "solidity": 0.2
             }
            },
            "type": "barpolar"
           }
          ],
          "carpet": [
           {
            "aaxis": {
             "endlinecolor": "#2a3f5f",
             "gridcolor": "white",
             "linecolor": "white",
             "minorgridcolor": "white",
             "startlinecolor": "#2a3f5f"
            },
            "baxis": {
             "endlinecolor": "#2a3f5f",
             "gridcolor": "white",
             "linecolor": "white",
             "minorgridcolor": "white",
             "startlinecolor": "#2a3f5f"
            },
            "type": "carpet"
           }
          ],
          "choropleth": [
           {
            "colorbar": {
             "outlinewidth": 0,
             "ticks": ""
            },
            "type": "choropleth"
           }
          ],
          "contour": [
           {
            "colorbar": {
             "outlinewidth": 0,
             "ticks": ""
            },
            "colorscale": [
             [
              0,
              "#0d0887"
             ],
             [
              0.1111111111111111,
              "#46039f"
             ],
             [
              0.2222222222222222,
              "#7201a8"
             ],
             [
              0.3333333333333333,
              "#9c179e"
             ],
             [
              0.4444444444444444,
              "#bd3786"
             ],
             [
              0.5555555555555556,
              "#d8576b"
             ],
             [
              0.6666666666666666,
              "#ed7953"
             ],
             [
              0.7777777777777778,
              "#fb9f3a"
             ],
             [
              0.8888888888888888,
              "#fdca26"
             ],
             [
              1,
              "#f0f921"
             ]
            ],
            "type": "contour"
           }
          ],
          "contourcarpet": [
           {
            "colorbar": {
             "outlinewidth": 0,
             "ticks": ""
            },
            "type": "contourcarpet"
           }
          ],
          "heatmap": [
           {
            "colorbar": {
             "outlinewidth": 0,
             "ticks": ""
            },
            "colorscale": [
             [
              0,
              "#0d0887"
             ],
             [
              0.1111111111111111,
              "#46039f"
             ],
             [
              0.2222222222222222,
              "#7201a8"
             ],
             [
              0.3333333333333333,
              "#9c179e"
             ],
             [
              0.4444444444444444,
              "#bd3786"
             ],
             [
              0.5555555555555556,
              "#d8576b"
             ],
             [
              0.6666666666666666,
              "#ed7953"
             ],
             [
              0.7777777777777778,
              "#fb9f3a"
             ],
             [
              0.8888888888888888,
              "#fdca26"
             ],
             [
              1,
              "#f0f921"
             ]
            ],
            "type": "heatmap"
           }
          ],
          "histogram": [
           {
            "marker": {
             "pattern": {
              "fillmode": "overlay",
              "size": 10,
              "solidity": 0.2
             }
            },
            "type": "histogram"
           }
          ],
          "histogram2d": [
           {
            "colorbar": {
             "outlinewidth": 0,
             "ticks": ""
            },
            "colorscale": [
             [
              0,
              "#0d0887"
             ],
             [
              0.1111111111111111,
              "#46039f"
             ],
             [
              0.2222222222222222,
              "#7201a8"
             ],
             [
              0.3333333333333333,
              "#9c179e"
             ],
             [
              0.4444444444444444,
              "#bd3786"
             ],
             [
              0.5555555555555556,
              "#d8576b"
             ],
             [
              0.6666666666666666,
              "#ed7953"
             ],
             [
              0.7777777777777778,
              "#fb9f3a"
             ],
             [
              0.8888888888888888,
              "#fdca26"
             ],
             [
              1,
              "#f0f921"
             ]
            ],
            "type": "histogram2d"
           }
          ],
          "histogram2dcontour": [
           {
            "colorbar": {
             "outlinewidth": 0,
             "ticks": ""
            },
            "colorscale": [
             [
              0,
              "#0d0887"
             ],
             [
              0.1111111111111111,
              "#46039f"
             ],
             [
              0.2222222222222222,
              "#7201a8"
             ],
             [
              0.3333333333333333,
              "#9c179e"
             ],
             [
              0.4444444444444444,
              "#bd3786"
             ],
             [
              0.5555555555555556,
              "#d8576b"
             ],
             [
              0.6666666666666666,
              "#ed7953"
             ],
             [
              0.7777777777777778,
              "#fb9f3a"
             ],
             [
              0.8888888888888888,
              "#fdca26"
             ],
             [
              1,
              "#f0f921"
             ]
            ],
            "type": "histogram2dcontour"
           }
          ],
          "mesh3d": [
           {
            "colorbar": {
             "outlinewidth": 0,
             "ticks": ""
            },
            "type": "mesh3d"
           }
          ],
          "parcoords": [
           {
            "line": {
             "colorbar": {
              "outlinewidth": 0,
              "ticks": ""
             }
            },
            "type": "parcoords"
           }
          ],
          "pie": [
           {
            "automargin": true,
            "type": "pie"
           }
          ],
          "scatter": [
           {
            "fillpattern": {
             "fillmode": "overlay",
             "size": 10,
             "solidity": 0.2
            },
            "type": "scatter"
           }
          ],
          "scatter3d": [
           {
            "line": {
             "colorbar": {
              "outlinewidth": 0,
              "ticks": ""
             }
            },
            "marker": {
             "colorbar": {
              "outlinewidth": 0,
              "ticks": ""
             }
            },
            "type": "scatter3d"
           }
          ],
          "scattercarpet": [
           {
            "marker": {
             "colorbar": {
              "outlinewidth": 0,
              "ticks": ""
             }
            },
            "type": "scattercarpet"
           }
          ],
          "scattergeo": [
           {
            "marker": {
             "colorbar": {
              "outlinewidth": 0,
              "ticks": ""
             }
            },
            "type": "scattergeo"
           }
          ],
          "scattergl": [
           {
            "marker": {
             "colorbar": {
              "outlinewidth": 0,
              "ticks": ""
             }
            },
            "type": "scattergl"
           }
          ],
          "scattermap": [
           {
            "marker": {
             "colorbar": {
              "outlinewidth": 0,
              "ticks": ""
             }
            },
            "type": "scattermap"
           }
          ],
          "scattermapbox": [
           {
            "marker": {
             "colorbar": {
              "outlinewidth": 0,
              "ticks": ""
             }
            },
            "type": "scattermapbox"
           }
          ],
          "scatterpolar": [
           {
            "marker": {
             "colorbar": {
              "outlinewidth": 0,
              "ticks": ""
             }
            },
            "type": "scatterpolar"
           }
          ],
          "scatterpolargl": [
           {
            "marker": {
             "colorbar": {
              "outlinewidth": 0,
              "ticks": ""
             }
            },
            "type": "scatterpolargl"
           }
          ],
          "scatterternary": [
           {
            "marker": {
             "colorbar": {
              "outlinewidth": 0,
              "ticks": ""
             }
            },
            "type": "scatterternary"
           }
          ],
          "surface": [
           {
            "colorbar": {
             "outlinewidth": 0,
             "ticks": ""
            },
            "colorscale": [
             [
              0,
              "#0d0887"
             ],
             [
              0.1111111111111111,
              "#46039f"
             ],
             [
              0.2222222222222222,
              "#7201a8"
             ],
             [
              0.3333333333333333,
              "#9c179e"
             ],
             [
              0.4444444444444444,
              "#bd3786"
             ],
             [
              0.5555555555555556,
              "#d8576b"
             ],
             [
              0.6666666666666666,
              "#ed7953"
             ],
             [
              0.7777777777777778,
              "#fb9f3a"
             ],
             [
              0.8888888888888888,
              "#fdca26"
             ],
             [
              1,
              "#f0f921"
             ]
            ],
            "type": "surface"
           }
          ],
          "table": [
           {
            "cells": {
             "fill": {
              "color": "#EBF0F8"
             },
             "line": {
              "color": "white"
             }
            },
            "header": {
             "fill": {
              "color": "#C8D4E3"
             },
             "line": {
              "color": "white"
             }
            },
            "type": "table"
           }
          ]
         },
         "layout": {
          "annotationdefaults": {
           "arrowcolor": "#2a3f5f",
           "arrowhead": 0,
           "arrowwidth": 1
          },
          "autotypenumbers": "strict",
          "coloraxis": {
           "colorbar": {
            "outlinewidth": 0,
            "ticks": ""
           }
          },
          "colorscale": {
           "diverging": [
            [
             0,
             "#8e0152"
            ],
            [
             0.1,
             "#c51b7d"
            ],
            [
             0.2,
             "#de77ae"
            ],
            [
             0.3,
             "#f1b6da"
            ],
            [
             0.4,
             "#fde0ef"
            ],
            [
             0.5,
             "#f7f7f7"
            ],
            [
             0.6,
             "#e6f5d0"
            ],
            [
             0.7,
             "#b8e186"
            ],
            [
             0.8,
             "#7fbc41"
            ],
            [
             0.9,
             "#4d9221"
            ],
            [
             1,
             "#276419"
            ]
           ],
           "sequential": [
            [
             0,
             "#0d0887"
            ],
            [
             0.1111111111111111,
             "#46039f"
            ],
            [
             0.2222222222222222,
             "#7201a8"
            ],
            [
             0.3333333333333333,
             "#9c179e"
            ],
            [
             0.4444444444444444,
             "#bd3786"
            ],
            [
             0.5555555555555556,
             "#d8576b"
            ],
            [
             0.6666666666666666,
             "#ed7953"
            ],
            [
             0.7777777777777778,
             "#fb9f3a"
            ],
            [
             0.8888888888888888,
             "#fdca26"
            ],
            [
             1,
             "#f0f921"
            ]
           ],
           "sequentialminus": [
            [
             0,
             "#0d0887"
            ],
            [
             0.1111111111111111,
             "#46039f"
            ],
            [
             0.2222222222222222,
             "#7201a8"
            ],
            [
             0.3333333333333333,
             "#9c179e"
            ],
            [
             0.4444444444444444,
             "#bd3786"
            ],
            [
             0.5555555555555556,
             "#d8576b"
            ],
            [
             0.6666666666666666,
             "#ed7953"
            ],
            [
             0.7777777777777778,
             "#fb9f3a"
            ],
            [
             0.8888888888888888,
             "#fdca26"
            ],
            [
             1,
             "#f0f921"
            ]
           ]
          },
          "colorway": [
           "#636efa",
           "#EF553B",
           "#00cc96",
           "#ab63fa",
           "#FFA15A",
           "#19d3f3",
           "#FF6692",
           "#B6E880",
           "#FF97FF",
           "#FECB52"
          ],
          "font": {
           "color": "#2a3f5f"
          },
          "geo": {
           "bgcolor": "white",
           "lakecolor": "white",
           "landcolor": "#E5ECF6",
           "showlakes": true,
           "showland": true,
           "subunitcolor": "white"
          },
          "hoverlabel": {
           "align": "left"
          },
          "hovermode": "closest",
          "mapbox": {
           "style": "light"
          },
          "paper_bgcolor": "white",
          "plot_bgcolor": "#E5ECF6",
          "polar": {
           "angularaxis": {
            "gridcolor": "white",
            "linecolor": "white",
            "ticks": ""
           },
           "bgcolor": "#E5ECF6",
           "radialaxis": {
            "gridcolor": "white",
            "linecolor": "white",
            "ticks": ""
           }
          },
          "scene": {
           "xaxis": {
            "backgroundcolor": "#E5ECF6",
            "gridcolor": "white",
            "gridwidth": 2,
            "linecolor": "white",
            "showbackground": true,
            "ticks": "",
            "zerolinecolor": "white"
           },
           "yaxis": {
            "backgroundcolor": "#E5ECF6",
            "gridcolor": "white",
            "gridwidth": 2,
            "linecolor": "white",
            "showbackground": true,
            "ticks": "",
            "zerolinecolor": "white"
           },
           "zaxis": {
            "backgroundcolor": "#E5ECF6",
            "gridcolor": "white",
            "gridwidth": 2,
            "linecolor": "white",
            "showbackground": true,
            "ticks": "",
            "zerolinecolor": "white"
           }
          },
          "shapedefaults": {
           "line": {
            "color": "#2a3f5f"
           }
          },
          "ternary": {
           "aaxis": {
            "gridcolor": "white",
            "linecolor": "white",
            "ticks": ""
           },
           "baxis": {
            "gridcolor": "white",
            "linecolor": "white",
            "ticks": ""
           },
           "bgcolor": "#E5ECF6",
           "caxis": {
            "gridcolor": "white",
            "linecolor": "white",
            "ticks": ""
           }
          },
          "title": {
           "x": 0.05
          },
          "xaxis": {
           "automargin": true,
           "gridcolor": "white",
           "linecolor": "white",
           "ticks": "",
           "title": {
            "standoff": 15
           },
           "zerolinecolor": "white",
           "zerolinewidth": 2
          },
          "yaxis": {
           "automargin": true,
           "gridcolor": "white",
           "linecolor": "white",
           "ticks": "",
           "title": {
            "standoff": 15
           },
           "zerolinecolor": "white",
           "zerolinewidth": 2
          }
         }
        },
        "title": {
         "text": "Tsunamis in Azië en Oceanië: Schade, Doden en Zeespiegelstijging per Jaar"
        },
        "xaxis": {
         "anchor": "y",
         "domain": [
          0,
          1
         ],
         "matches": "x3",
         "showticklabels": false
        },
        "xaxis2": {
         "anchor": "y2",
         "domain": [
          0,
          1
         ],
         "matches": "x3",
         "showticklabels": false
        },
        "xaxis3": {
         "anchor": "y3",
         "domain": [
          0,
          1
         ],
         "title": {
          "text": "Year"
         }
        },
        "yaxis": {
         "anchor": "x",
         "domain": [
          0.7333333333333334,
          1
         ],
         "title": {
          "text": "Damages ('000 US$)"
         }
        },
        "yaxis2": {
         "anchor": "x2",
         "domain": [
          0.3666666666666667,
          0.6333333333333333
         ],
         "title": {
          "text": "Total Deaths"
         }
        },
        "yaxis3": {
         "anchor": "x3",
         "domain": [
          0,
          0.26666666666666666
         ],
         "title": {
          "text": "Sea Level Rise (mm)"
         }
        }
       }
      },
      "text/html": [
       "<div>            <script src=\"https://cdnjs.cloudflare.com/ajax/libs/mathjax/2.7.5/MathJax.js?config=TeX-AMS-MML_SVG\"></script><script type=\"text/javascript\">if (window.MathJax && window.MathJax.Hub && window.MathJax.Hub.Config) {window.MathJax.Hub.Config({SVG: {font: \"STIX-Web\"}});}</script>                <script type=\"text/javascript\">window.PlotlyConfig = {MathJaxConfig: 'local'};</script>\n",
       "        <script charset=\"utf-8\" src=\"https://cdn.plot.ly/plotly-3.0.1.min.js\"></script>                <div id=\"697ab7df-4c65-4afc-885b-0c11148df075\" class=\"plotly-graph-div\" style=\"height:800px; width:100%;\"></div>            <script type=\"text/javascript\">                window.PLOTLYENV=window.PLOTLYENV || {};                                if (document.getElementById(\"697ab7df-4c65-4afc-885b-0c11148df075\")) {                    Plotly.newPlot(                        \"697ab7df-4c65-4afc-885b-0c11148df075\",                        [{\"line\":{\"color\":\"orange\"},\"mode\":\"lines+markers\",\"name\":\"Total Damages\",\"x\":{\"dtype\":\"i2\",\"bdata\":\"bQdxB4gHjQeYB6wHsAexB7sHvwfJB9IH1AfWB9kH2gfbB+IH\"},\"y\":{\"dtype\":\"f8\",\"bdata\":\"AAAAAAAAAAAAAAAAAAAAAAAAAAAAAAAAAAAAAAAAAAAAAAAAAAAAAAAAAAAAaihBAAAAAAAAAAAAAAAAAAAAAAAAAAAAAAAAAAAAAABkGUEAAAAAgIQuQQAAAAAAAAAAAAAAAB2eYkEAAAAAANvqQAAAAAAAahhBAAAAAAAAAAAAAAAAsQipQQAAAAAQIDZB\"},\"type\":\"scatter\",\"xaxis\":\"x\",\"yaxis\":\"y\"},{\"line\":{\"color\":\"red\"},\"mode\":\"lines+markers\",\"name\":\"Total Deaths\",\"x\":{\"dtype\":\"i2\",\"bdata\":\"bQdxB4gHjQeYB6wHsAexB7sHvwfJB9IH1AfWB9kH2gfbB+IH\"},\"y\":{\"dtype\":\"f8\",\"bdata\":\"AAAAAAAAMkAAAAAAAIBEQAAAAAAAAGBAAAAAAABwp0AAAAAAAByTQAAAAAAAADlAAAAAAAAAaUAAAAAAAABQQAAAAAAA2IBAAAAAAACAWUAAAAAAAOBtQAAAAAAAACBAAAAAAICZC0EAAAAAACiJQAAAAAAAAPA\\u002fAAAAAACQgEAAAAAAwGHTQAAAAAAALLBA\"},\"type\":\"scatter\",\"xaxis\":\"x2\",\"yaxis\":\"y2\"},{\"line\":{\"color\":\"royalblue\"},\"mode\":\"lines+markers\",\"name\":\"Sea Level Rise\",\"x\":{\"dtype\":\"i2\",\"bdata\":\"bQdxB4gHjQeYB6wHsAexB7sHvwfJB9IH1AfWB9kH2gfbB+IH\"},\"y\":{\"dtype\":\"f8\",\"bdata\":\"+F4yRISRY8AAAAAAQE1jwDvUAO8uHGDA3Q5oRMT+XcCJV\\u002f4hojxdwIfYR0TEvlHAmpmZmRk0UsCamZmZmU5PwDMzMzMzaEfA6C7s3d1HNsDoLuzd3cc2wJD8k4iIOAFANsQ+IiJOK0DcANvd3QkjQA2xj4iI00BAymSCK2rwQED5MHvZ9ltCQKgi7EblikpA\"},\"type\":\"scatter\",\"xaxis\":\"x3\",\"yaxis\":\"y3\"}],                        {\"template\":{\"data\":{\"histogram2dcontour\":[{\"type\":\"histogram2dcontour\",\"colorbar\":{\"outlinewidth\":0,\"ticks\":\"\"},\"colorscale\":[[0.0,\"#0d0887\"],[0.1111111111111111,\"#46039f\"],[0.2222222222222222,\"#7201a8\"],[0.3333333333333333,\"#9c179e\"],[0.4444444444444444,\"#bd3786\"],[0.5555555555555556,\"#d8576b\"],[0.6666666666666666,\"#ed7953\"],[0.7777777777777778,\"#fb9f3a\"],[0.8888888888888888,\"#fdca26\"],[1.0,\"#f0f921\"]]}],\"choropleth\":[{\"type\":\"choropleth\",\"colorbar\":{\"outlinewidth\":0,\"ticks\":\"\"}}],\"histogram2d\":[{\"type\":\"histogram2d\",\"colorbar\":{\"outlinewidth\":0,\"ticks\":\"\"},\"colorscale\":[[0.0,\"#0d0887\"],[0.1111111111111111,\"#46039f\"],[0.2222222222222222,\"#7201a8\"],[0.3333333333333333,\"#9c179e\"],[0.4444444444444444,\"#bd3786\"],[0.5555555555555556,\"#d8576b\"],[0.6666666666666666,\"#ed7953\"],[0.7777777777777778,\"#fb9f3a\"],[0.8888888888888888,\"#fdca26\"],[1.0,\"#f0f921\"]]}],\"heatmap\":[{\"type\":\"heatmap\",\"colorbar\":{\"outlinewidth\":0,\"ticks\":\"\"},\"colorscale\":[[0.0,\"#0d0887\"],[0.1111111111111111,\"#46039f\"],[0.2222222222222222,\"#7201a8\"],[0.3333333333333333,\"#9c179e\"],[0.4444444444444444,\"#bd3786\"],[0.5555555555555556,\"#d8576b\"],[0.6666666666666666,\"#ed7953\"],[0.7777777777777778,\"#fb9f3a\"],[0.8888888888888888,\"#fdca26\"],[1.0,\"#f0f921\"]]}],\"contourcarpet\":[{\"type\":\"contourcarpet\",\"colorbar\":{\"outlinewidth\":0,\"ticks\":\"\"}}],\"contour\":[{\"type\":\"contour\",\"colorbar\":{\"outlinewidth\":0,\"ticks\":\"\"},\"colorscale\":[[0.0,\"#0d0887\"],[0.1111111111111111,\"#46039f\"],[0.2222222222222222,\"#7201a8\"],[0.3333333333333333,\"#9c179e\"],[0.4444444444444444,\"#bd3786\"],[0.5555555555555556,\"#d8576b\"],[0.6666666666666666,\"#ed7953\"],[0.7777777777777778,\"#fb9f3a\"],[0.8888888888888888,\"#fdca26\"],[1.0,\"#f0f921\"]]}],\"surface\":[{\"type\":\"surface\",\"colorbar\":{\"outlinewidth\":0,\"ticks\":\"\"},\"colorscale\":[[0.0,\"#0d0887\"],[0.1111111111111111,\"#46039f\"],[0.2222222222222222,\"#7201a8\"],[0.3333333333333333,\"#9c179e\"],[0.4444444444444444,\"#bd3786\"],[0.5555555555555556,\"#d8576b\"],[0.6666666666666666,\"#ed7953\"],[0.7777777777777778,\"#fb9f3a\"],[0.8888888888888888,\"#fdca26\"],[1.0,\"#f0f921\"]]}],\"mesh3d\":[{\"type\":\"mesh3d\",\"colorbar\":{\"outlinewidth\":0,\"ticks\":\"\"}}],\"scatter\":[{\"fillpattern\":{\"fillmode\":\"overlay\",\"size\":10,\"solidity\":0.2},\"type\":\"scatter\"}],\"parcoords\":[{\"type\":\"parcoords\",\"line\":{\"colorbar\":{\"outlinewidth\":0,\"ticks\":\"\"}}}],\"scatterpolargl\":[{\"type\":\"scatterpolargl\",\"marker\":{\"colorbar\":{\"outlinewidth\":0,\"ticks\":\"\"}}}],\"bar\":[{\"error_x\":{\"color\":\"#2a3f5f\"},\"error_y\":{\"color\":\"#2a3f5f\"},\"marker\":{\"line\":{\"color\":\"#E5ECF6\",\"width\":0.5},\"pattern\":{\"fillmode\":\"overlay\",\"size\":10,\"solidity\":0.2}},\"type\":\"bar\"}],\"scattergeo\":[{\"type\":\"scattergeo\",\"marker\":{\"colorbar\":{\"outlinewidth\":0,\"ticks\":\"\"}}}],\"scatterpolar\":[{\"type\":\"scatterpolar\",\"marker\":{\"colorbar\":{\"outlinewidth\":0,\"ticks\":\"\"}}}],\"histogram\":[{\"marker\":{\"pattern\":{\"fillmode\":\"overlay\",\"size\":10,\"solidity\":0.2}},\"type\":\"histogram\"}],\"scattergl\":[{\"type\":\"scattergl\",\"marker\":{\"colorbar\":{\"outlinewidth\":0,\"ticks\":\"\"}}}],\"scatter3d\":[{\"type\":\"scatter3d\",\"line\":{\"colorbar\":{\"outlinewidth\":0,\"ticks\":\"\"}},\"marker\":{\"colorbar\":{\"outlinewidth\":0,\"ticks\":\"\"}}}],\"scattermap\":[{\"type\":\"scattermap\",\"marker\":{\"colorbar\":{\"outlinewidth\":0,\"ticks\":\"\"}}}],\"scattermapbox\":[{\"type\":\"scattermapbox\",\"marker\":{\"colorbar\":{\"outlinewidth\":0,\"ticks\":\"\"}}}],\"scatterternary\":[{\"type\":\"scatterternary\",\"marker\":{\"colorbar\":{\"outlinewidth\":0,\"ticks\":\"\"}}}],\"scattercarpet\":[{\"type\":\"scattercarpet\",\"marker\":{\"colorbar\":{\"outlinewidth\":0,\"ticks\":\"\"}}}],\"carpet\":[{\"aaxis\":{\"endlinecolor\":\"#2a3f5f\",\"gridcolor\":\"white\",\"linecolor\":\"white\",\"minorgridcolor\":\"white\",\"startlinecolor\":\"#2a3f5f\"},\"baxis\":{\"endlinecolor\":\"#2a3f5f\",\"gridcolor\":\"white\",\"linecolor\":\"white\",\"minorgridcolor\":\"white\",\"startlinecolor\":\"#2a3f5f\"},\"type\":\"carpet\"}],\"table\":[{\"cells\":{\"fill\":{\"color\":\"#EBF0F8\"},\"line\":{\"color\":\"white\"}},\"header\":{\"fill\":{\"color\":\"#C8D4E3\"},\"line\":{\"color\":\"white\"}},\"type\":\"table\"}],\"barpolar\":[{\"marker\":{\"line\":{\"color\":\"#E5ECF6\",\"width\":0.5},\"pattern\":{\"fillmode\":\"overlay\",\"size\":10,\"solidity\":0.2}},\"type\":\"barpolar\"}],\"pie\":[{\"automargin\":true,\"type\":\"pie\"}]},\"layout\":{\"autotypenumbers\":\"strict\",\"colorway\":[\"#636efa\",\"#EF553B\",\"#00cc96\",\"#ab63fa\",\"#FFA15A\",\"#19d3f3\",\"#FF6692\",\"#B6E880\",\"#FF97FF\",\"#FECB52\"],\"font\":{\"color\":\"#2a3f5f\"},\"hovermode\":\"closest\",\"hoverlabel\":{\"align\":\"left\"},\"paper_bgcolor\":\"white\",\"plot_bgcolor\":\"#E5ECF6\",\"polar\":{\"bgcolor\":\"#E5ECF6\",\"angularaxis\":{\"gridcolor\":\"white\",\"linecolor\":\"white\",\"ticks\":\"\"},\"radialaxis\":{\"gridcolor\":\"white\",\"linecolor\":\"white\",\"ticks\":\"\"}},\"ternary\":{\"bgcolor\":\"#E5ECF6\",\"aaxis\":{\"gridcolor\":\"white\",\"linecolor\":\"white\",\"ticks\":\"\"},\"baxis\":{\"gridcolor\":\"white\",\"linecolor\":\"white\",\"ticks\":\"\"},\"caxis\":{\"gridcolor\":\"white\",\"linecolor\":\"white\",\"ticks\":\"\"}},\"coloraxis\":{\"colorbar\":{\"outlinewidth\":0,\"ticks\":\"\"}},\"colorscale\":{\"sequential\":[[0.0,\"#0d0887\"],[0.1111111111111111,\"#46039f\"],[0.2222222222222222,\"#7201a8\"],[0.3333333333333333,\"#9c179e\"],[0.4444444444444444,\"#bd3786\"],[0.5555555555555556,\"#d8576b\"],[0.6666666666666666,\"#ed7953\"],[0.7777777777777778,\"#fb9f3a\"],[0.8888888888888888,\"#fdca26\"],[1.0,\"#f0f921\"]],\"sequentialminus\":[[0.0,\"#0d0887\"],[0.1111111111111111,\"#46039f\"],[0.2222222222222222,\"#7201a8\"],[0.3333333333333333,\"#9c179e\"],[0.4444444444444444,\"#bd3786\"],[0.5555555555555556,\"#d8576b\"],[0.6666666666666666,\"#ed7953\"],[0.7777777777777778,\"#fb9f3a\"],[0.8888888888888888,\"#fdca26\"],[1.0,\"#f0f921\"]],\"diverging\":[[0,\"#8e0152\"],[0.1,\"#c51b7d\"],[0.2,\"#de77ae\"],[0.3,\"#f1b6da\"],[0.4,\"#fde0ef\"],[0.5,\"#f7f7f7\"],[0.6,\"#e6f5d0\"],[0.7,\"#b8e186\"],[0.8,\"#7fbc41\"],[0.9,\"#4d9221\"],[1,\"#276419\"]]},\"xaxis\":{\"gridcolor\":\"white\",\"linecolor\":\"white\",\"ticks\":\"\",\"title\":{\"standoff\":15},\"zerolinecolor\":\"white\",\"automargin\":true,\"zerolinewidth\":2},\"yaxis\":{\"gridcolor\":\"white\",\"linecolor\":\"white\",\"ticks\":\"\",\"title\":{\"standoff\":15},\"zerolinecolor\":\"white\",\"automargin\":true,\"zerolinewidth\":2},\"scene\":{\"xaxis\":{\"backgroundcolor\":\"#E5ECF6\",\"gridcolor\":\"white\",\"linecolor\":\"white\",\"showbackground\":true,\"ticks\":\"\",\"zerolinecolor\":\"white\",\"gridwidth\":2},\"yaxis\":{\"backgroundcolor\":\"#E5ECF6\",\"gridcolor\":\"white\",\"linecolor\":\"white\",\"showbackground\":true,\"ticks\":\"\",\"zerolinecolor\":\"white\",\"gridwidth\":2},\"zaxis\":{\"backgroundcolor\":\"#E5ECF6\",\"gridcolor\":\"white\",\"linecolor\":\"white\",\"showbackground\":true,\"ticks\":\"\",\"zerolinecolor\":\"white\",\"gridwidth\":2}},\"shapedefaults\":{\"line\":{\"color\":\"#2a3f5f\"}},\"annotationdefaults\":{\"arrowcolor\":\"#2a3f5f\",\"arrowhead\":0,\"arrowwidth\":1},\"geo\":{\"bgcolor\":\"white\",\"landcolor\":\"#E5ECF6\",\"subunitcolor\":\"white\",\"showland\":true,\"showlakes\":true,\"lakecolor\":\"white\"},\"title\":{\"x\":0.05},\"mapbox\":{\"style\":\"light\"}}},\"xaxis\":{\"anchor\":\"y\",\"domain\":[0.0,1.0],\"matches\":\"x3\",\"showticklabels\":false},\"yaxis\":{\"anchor\":\"x\",\"domain\":[0.7333333333333334,1.0],\"title\":{\"text\":\"Damages ('000 US$)\"}},\"xaxis2\":{\"anchor\":\"y2\",\"domain\":[0.0,1.0],\"matches\":\"x3\",\"showticklabels\":false},\"yaxis2\":{\"anchor\":\"x2\",\"domain\":[0.3666666666666667,0.6333333333333333],\"title\":{\"text\":\"Total Deaths\"}},\"xaxis3\":{\"anchor\":\"y3\",\"domain\":[0.0,1.0],\"title\":{\"text\":\"Year\"}},\"yaxis3\":{\"anchor\":\"x3\",\"domain\":[0.0,0.26666666666666666],\"title\":{\"text\":\"Sea Level Rise (mm)\"}},\"annotations\":[{\"font\":{\"size\":16},\"showarrow\":false,\"text\":\"Total Damages ('000 US$)\",\"x\":0.5,\"xanchor\":\"center\",\"xref\":\"paper\",\"y\":1.0,\"yanchor\":\"bottom\",\"yref\":\"paper\"},{\"font\":{\"size\":16},\"showarrow\":false,\"text\":\"Total Deaths\",\"x\":0.5,\"xanchor\":\"center\",\"xref\":\"paper\",\"y\":0.6333333333333333,\"yanchor\":\"bottom\",\"yref\":\"paper\"},{\"font\":{\"size\":16},\"showarrow\":false,\"text\":\"Sea Level Rise (mm)\",\"x\":0.5,\"xanchor\":\"center\",\"xref\":\"paper\",\"y\":0.26666666666666666,\"yanchor\":\"bottom\",\"yref\":\"paper\"}],\"title\":{\"text\":\"Tsunamis in Azi\\u00eb en Oceani\\u00eb: Schade, Doden en Zeespiegelstijging per Jaar\"},\"height\":800,\"showlegend\":false},                        {\"responsive\": true}                    ).then(function(){\n",
       "                            \n",
       "var gd = document.getElementById('697ab7df-4c65-4afc-885b-0c11148df075');\n",
       "var x = new MutationObserver(function (mutations, observer) {{\n",
       "        var display = window.getComputedStyle(gd).display;\n",
       "        if (!display || display === 'none') {{\n",
       "            console.log([gd, 'removed!']);\n",
       "            Plotly.purge(gd);\n",
       "            observer.disconnect();\n",
       "        }}\n",
       "}});\n",
       "\n",
       "// Listen for the removal of the full notebook cells\n",
       "var notebookContainer = gd.closest('#notebook-container');\n",
       "if (notebookContainer) {{\n",
       "    x.observe(notebookContainer, {childList: true});\n",
       "}}\n",
       "\n",
       "// Listen for the clearing of the current output cell\n",
       "var outputEl = gd.closest('.output');\n",
       "if (outputEl) {{\n",
       "    x.observe(outputEl, {childList: true});\n",
       "}}\n",
       "\n",
       "                        })                };            </script>        </div>"
      ]
     },
     "metadata": {},
     "output_type": "display_data"
    }
   ],
   "source": [
    "import plotly.graph_objects as go\n",
    "from plotly.subplots import make_subplots\n",
    "\n",
    "# Zorg dat merged_df al geladen is en 'Year' int is\n",
    "merged_df['Year'] = merged_df['Year'].astype(int)\n",
    "\n",
    "# Filter regio Azië en Oceanië via Region\n",
    "df = merged_df[merged_df['Region'].str.contains('Asia|Oceania', case=False, na=False)]\n",
    "\n",
    "years = sorted(df['Year'].unique())\n",
    "\n",
    "# Berekeningen per jaar\n",
    "sea_level_avg = df.groupby('Year')['mmfrom1993-2008average'].mean().reset_index()\n",
    "deaths_per_year = df.groupby('Year')['Total Deaths'].sum().reset_index()\n",
    "damages_per_year = df.groupby('Year')[\"Total Damages ('000 US$)\"].sum().reset_index()\n",
    "\n",
    "# Maak subplots: 3 rijen, 1 kolom, alle lijnen\n",
    "fig = make_subplots(\n",
    "    rows=3, cols=1,\n",
    "    shared_xaxes=True,\n",
    "    vertical_spacing=0.1,\n",
    "    subplot_titles=(\"Total Damages ('000 US$)\", \"Total Deaths\", \"Sea Level Rise (mm)\")\n",
    ")\n",
    "\n",
    "# Voeg lijn diagram voor Total Damages\n",
    "fig.add_trace(\n",
    "    go.Scatter(\n",
    "        x=damages_per_year['Year'],\n",
    "        y=damages_per_year[\"Total Damages ('000 US$)\"],\n",
    "        mode='lines+markers',\n",
    "        name='Total Damages',\n",
    "        line=dict(color='orange')\n",
    "    ),\n",
    "    row=1, col=1\n",
    ")\n",
    "\n",
    "# Voeg lijn diagram voor Total Deaths\n",
    "fig.add_trace(\n",
    "    go.Scatter(\n",
    "        x=deaths_per_year['Year'],\n",
    "        y=deaths_per_year['Total Deaths'],\n",
    "        mode='lines+markers',\n",
    "        name='Total Deaths',\n",
    "        line=dict(color='red')\n",
    "    ),\n",
    "    row=2, col=1\n",
    ")\n",
    "\n",
    "# Voeg lijn diagram voor Sea Level Rise\n",
    "fig.add_trace(\n",
    "    go.Scatter(\n",
    "        x=sea_level_avg['Year'],\n",
    "        y=sea_level_avg['mmfrom1993-2008average'],\n",
    "        mode='lines+markers',\n",
    "        name='Sea Level Rise',\n",
    "        line=dict(color='royalblue')\n",
    "    ),\n",
    "    row=3, col=1\n",
    ")\n",
    "\n",
    "fig.update_layout(\n",
    "    height=800,\n",
    "    title_text=\"Tsunamis in Azië en Oceanië: Schade, Doden en Zeespiegelstijging per Jaar\",\n",
    "    showlegend=False\n",
    ")\n",
    "\n",
    "fig.update_xaxes(title_text=\"Year\", row=3, col=1)\n",
    "fig.update_yaxes(title_text=\"Damages ('000 US$)\", row=1, col=1)\n",
    "fig.update_yaxes(title_text=\"Total Deaths\", row=2, col=1)\n",
    "fig.update_yaxes(title_text=\"Sea Level Rise (mm)\", row=3, col=1)\n",
    "\n",
    "fig.show()\n"
   ]
  },
  {
   "cell_type": "code",
   "execution_count": 6,
   "id": "82e8c148-9ced-4cdc-9264-1c93cc3d4b22",
   "metadata": {},
   "outputs": [
    {
     "data": {
      "application/vnd.plotly.v1+json": {
       "config": {
        "plotlyServerURL": "https://plot.ly"
       },
       "data": [
        {
         "customdata": {
          "bdata": "AAAAAAAgnkAAAAAAAAAAAAAAAAAAAGBAAAAAAADAnkAAAAAAAAAAAAAAAAAAAGlAAAAAAADEnkAAAAAAAAAAAAAAAAAAAFBAAAAAAAC0nUAAAAAAAAAAAAAAAAAAADJAAAAAAADEnUAAAAAAAAAAAAAAAAAAgERAAAAAAAA0nkAAAAAAAAAAAAAAAAAAcKdAAAAAAABgnkAAAAAAAAAAAAAAAAAAHJNAAAAAAACwnkAAAAAAAGooQQAAAAAAADlAAAAAAADsnkAAAAAAAAAAAAAAAAAA2IBAAAAAAAD8nkAAAAAAAGQZQQAAAAAAgFlAAAAAAAAkn0AAAAAAgIQuQQAAAAAA4G1AAAAAAABIn0AAAAAAAAAAAAAAAAAAACBAAAAAAABQn0AAAAAARPtQQQAAAABgOgRBAAAAAABQn0AAAAAAgIQeQQAAAAAAAABAAAAAAABQn0AAAAAAoDYvQQAAAABAAdBAAAAAAABQn0AAAAAAlBY0QQAAAADgSOFAAAAAAABQn0AAAAAAULEcQQAAAAAAgFlAAAAAAABQn0AAAAAAgIQeQQAAAAAAAFRAAAAAAABQn0AAAAAAgIQuQQAAAACATMBAAAAAAABQn0AAAAAAgIQeQQAAAAAAwFFAAAAAAABYn0AAAAAAAAAAAAAAAAAAAAhAAAAAAABYn0AAAAAAANvqQAAAAAAAEIlAAAAAAABon0AAAAAAAAAAAAAAAAAAkIBAAAAAAABsn0AAAAAAAAAAAAAAAAAAAPA/AAAAAABkn0AAAAAAAGoYQQAAAAAAAPA/AAAAAABsn0AAAAAAsQipQQAAAACAYdNAAAAAAACIn0AAAAAAECA2QQAAAAAALLBA",
          "dtype": "f8",
          "shape": "27, 3"
         },
         "geo": "geo",
         "hovertemplate": "<b>%{hovertext}</b><br><br>Total Damages ('000 US$)=%{marker.color:.2f}<br>Latitude=%{lat}<br>Longitude=%{lon}<br>Year=%{customdata[0]}<br>Total Deaths=%{customdata[2]}<extra></extra>",
         "hovertext": [
          "Flores sea",
          "Donggala",
          "Parasanga, Paletoang (Sulawesi)",
          "Sanriku",
          "Fukushima",
          "Sanriku",
          "Tonankai, Hondo",
          "Niigata, Hodo Isl.",
          "Lomblen Island",
          "Nihon- Kai-Chubu, Western Honshu, Akita, Aomori, Hokkaido",
          "Okushiri Island (Hokkaido)",
          "Manokwari, Ransiki, Oransbari, Prafi, Anggi, Warmare villages (Manokwari district, Papua Barat province), Bintuni village (Telukbintuni district, Papua Barat province), Windesi, Wasior villages (Telukwondama district, Papua Barat province)",
          "Nangroe Aceh Darussalam, Sumatera Utara provinces",
          "Barisal, Chittagong, Khulna provinces",
          "Kancheepuram, Villupuram, Nagapattinam, Thoothukudi, Tirunelveli Kattabo, Kanniyakumari, Chennai, Thiruvallur, Cuddalore, Pudukkottai, Ramanathapuram, Sivaganga, Thanjavur districts (Tamil Nadu province), Vishakhapatnam, East Godavari, West Godavari, Krishna, Guntur, Prakasam, Nellore districts (Andhra Pradesh province), Kollam, Alappuzha, Ernakulam districts (Kerala province), Puducherry, Karaikal district (Puducherry province), Andaman and Nicobar province",
          "Jaffna, Kilinochchi, Mullativu, Trincomalee, Batticaloa, Ampara, Hambantota, Matara, Galle, Kalutara, Colombo, Gampaha, Puttalam, Vavuniya districts",
          "Alifu Alifu, Alifu Dhaalu, Baa, Faafu, Gaafu Alifu, Gaafu Dhaalu, Haa Alifu, Haa Dhaalu, Kaafu, Laamu, Lhaviyani, Male', Meemu, Noonu, Raa, Seenu, Shaviyani, Thaa, Vaavu provinces",
          "Barat Daya, Timur Laut district (Pulau Pinang province)",
          "Krabi, Phangnga, Phuket, Ranong, Satun, Trang provinces",
          "Kawthoung, Pyapon, Pathein districts (Ayeyawaddy province), Kawthoung district (Taninthayi province), Sittwe district (Rakhine province)",
          "Pela, Batu Junku, Waimarot, Wailawa, Waimoly villages (Bata Bual sub-district,Buru district, Maluku Utara province)",
          "Tasikmalaya, Kota Tasikmalaya, Ciamis, Sukabumi, kota Sukabumi, Garut districts (Jawa Barat province), Cilacap, Kebumen, Banyumas districts (Jawa Tengah province), Gunungkidul, Bantul district (Daerah Istimewa Yogyakarta province)",
          "Kepulauan Mentawai district (Sumatera Barat province)",
          "Holtekamp beach (Muara Tami area, Kota Jayapura district, Papua province)",
          "Sizuokasi, Yaidusi, Sagaratyoo, Huziedasi, Simadasi, Kakegawasi, Haibaratyoo districts (Sizuola province), Tookyoo province",
          "Hokkaidoo, Akita, Aomori, Yamagata, Miyagi, Iwate, Hukusima, Tookyoo, Ibaraki, Totigi, Gunma, Saitama, Tiba, Kanagawa, Nagano provinces",
          "Dongalla, Sigi (dongalla), Parigi Moutong, Palu, Poso, Mamuju Utara (Celebas Isl., Central Sulawesi)"
         ],
         "lat": [
          "8.30 S",
          "0.157",
          "-3.201",
          "40.5",
          "37.4",
          "39.224",
          "33.682",
          "38.67",
          "8.8",
          "40.462",
          "42.851 N",
          "-1.757",
          "3.295",
          "3.295",
          "3.295",
          "3.295",
          "3.295",
          "3.295",
          "3.295",
          "3.295",
          "-3.595",
          "-9.284",
          "-3.487",
          "38.297",
          "34.743",
          "38.297",
          "-178"
         ],
         "legendgroup": "",
         "lon": [
          "121.70 E",
          "119.802",
          "118.904",
          "142.5",
          "142.6",
          "144.622",
          "36.204",
          "139.195",
          "123.5",
          "139.102",
          "139.197 E",
          "134.297",
          "95.982",
          "95.982",
          "95.982",
          "95.982",
          "95.982",
          "95.982",
          "95.982",
          "95.982",
          "127.214",
          "107.419",
          "100.082",
          "142.373",
          "138.264",
          "142.373",
          "119.84"
         ],
         "marker": {
          "color": {
           "bdata": "AAAAAAAAAAAAAAAAAAAAAAAAAAAAAAAAAAAAAAAAAAAAAAAAAAAAAAAAAAAAAAAAAAAAAAAAAAAAAAAAAGooQQAAAAAAAAAAAAAAAABkGUEAAAAAgIQuQQAAAAAAAAAAAAAAAET7UEEAAAAAgIQeQQAAAACgNi9BAAAAAJQWNEEAAAAAULEcQQAAAACAhB5BAAAAAICELkEAAAAAgIQeQQAAAAAAAAAAAAAAAADb6kAAAAAAAAAAAAAAAAAAAAAAAAAAAABqGEEAAAAAsQipQQAAAAAQIDZB",
           "dtype": "f8"
          },
          "coloraxis": "coloraxis",
          "size": {
           "bdata": "AAAAAAAAAAAAAAAAAAAAAAAAAAAAAAAAAAAAAAAAAAAAAAAAAAAAAAAAAAAAAAAAAAAAAAAAAAAAAAAAAGooQQAAAAAAAAAAAAAAAABkGUEAAAAAgIQuQQAAAAAAAAAAAAAAAET7UEEAAAAAgIQeQQAAAACgNi9BAAAAAJQWNEEAAAAAULEcQQAAAACAhB5BAAAAAICELkEAAAAAgIQeQQAAAAAAAAAAAAAAAADb6kAAAAAAAAAAAAAAAAAAAAAAAAAAAABqGEEAAAAAsQipQQAAAAAQIDZB",
           "dtype": "f8"
          },
          "sizemode": "area",
          "sizeref": 233333.33333333334,
          "symbol": "circle"
         },
         "mode": "markers",
         "name": "",
         "showlegend": false,
         "type": "scattergeo"
        }
       ],
       "layout": {
        "coloraxis": {
         "colorbar": {
          "title": {
           "text": "Total Damages ('000 US$)"
          }
         },
         "colorscale": [
          [
           0,
           "rgb(255,247,236)"
          ],
          [
           0.125,
           "rgb(254,232,200)"
          ],
          [
           0.25,
           "rgb(253,212,158)"
          ],
          [
           0.375,
           "rgb(253,187,132)"
          ],
          [
           0.5,
           "rgb(252,141,89)"
          ],
          [
           0.625,
           "rgb(239,101,72)"
          ],
          [
           0.75,
           "rgb(215,48,31)"
          ],
          [
           0.875,
           "rgb(179,0,0)"
          ],
          [
           1,
           "rgb(127,0,0)"
          ]
         ]
        },
        "geo": {
         "center": {},
         "coastlinecolor": "Gray",
         "countrycolor": "LightGray",
         "domain": {
          "x": [
           0,
           1
          ],
          "y": [
           0,
           1
          ]
         },
         "lataxis": {
          "range": [
           -50,
           50
          ]
         },
         "lonaxis": {
          "range": [
           60,
           180
          ]
         },
         "projection": {
          "type": "natural earth"
         },
         "showcoastlines": true,
         "showcountries": true
        },
        "height": 600,
        "legend": {
         "itemsizing": "constant",
         "tracegroupgap": 0
        },
        "margin": {
         "b": 0,
         "l": 0,
         "r": 0,
         "t": 40
        },
        "template": {
         "data": {
          "bar": [
           {
            "error_x": {
             "color": "#2a3f5f"
            },
            "error_y": {
             "color": "#2a3f5f"
            },
            "marker": {
             "line": {
              "color": "#E5ECF6",
              "width": 0.5
             },
             "pattern": {
              "fillmode": "overlay",
              "size": 10,
              "solidity": 0.2
             }
            },
            "type": "bar"
           }
          ],
          "barpolar": [
           {
            "marker": {
             "line": {
              "color": "#E5ECF6",
              "width": 0.5
             },
             "pattern": {
              "fillmode": "overlay",
              "size": 10,
              "solidity": 0.2
             }
            },
            "type": "barpolar"
           }
          ],
          "carpet": [
           {
            "aaxis": {
             "endlinecolor": "#2a3f5f",
             "gridcolor": "white",
             "linecolor": "white",
             "minorgridcolor": "white",
             "startlinecolor": "#2a3f5f"
            },
            "baxis": {
             "endlinecolor": "#2a3f5f",
             "gridcolor": "white",
             "linecolor": "white",
             "minorgridcolor": "white",
             "startlinecolor": "#2a3f5f"
            },
            "type": "carpet"
           }
          ],
          "choropleth": [
           {
            "colorbar": {
             "outlinewidth": 0,
             "ticks": ""
            },
            "type": "choropleth"
           }
          ],
          "contour": [
           {
            "colorbar": {
             "outlinewidth": 0,
             "ticks": ""
            },
            "colorscale": [
             [
              0,
              "#0d0887"
             ],
             [
              0.1111111111111111,
              "#46039f"
             ],
             [
              0.2222222222222222,
              "#7201a8"
             ],
             [
              0.3333333333333333,
              "#9c179e"
             ],
             [
              0.4444444444444444,
              "#bd3786"
             ],
             [
              0.5555555555555556,
              "#d8576b"
             ],
             [
              0.6666666666666666,
              "#ed7953"
             ],
             [
              0.7777777777777778,
              "#fb9f3a"
             ],
             [
              0.8888888888888888,
              "#fdca26"
             ],
             [
              1,
              "#f0f921"
             ]
            ],
            "type": "contour"
           }
          ],
          "contourcarpet": [
           {
            "colorbar": {
             "outlinewidth": 0,
             "ticks": ""
            },
            "type": "contourcarpet"
           }
          ],
          "heatmap": [
           {
            "colorbar": {
             "outlinewidth": 0,
             "ticks": ""
            },
            "colorscale": [
             [
              0,
              "#0d0887"
             ],
             [
              0.1111111111111111,
              "#46039f"
             ],
             [
              0.2222222222222222,
              "#7201a8"
             ],
             [
              0.3333333333333333,
              "#9c179e"
             ],
             [
              0.4444444444444444,
              "#bd3786"
             ],
             [
              0.5555555555555556,
              "#d8576b"
             ],
             [
              0.6666666666666666,
              "#ed7953"
             ],
             [
              0.7777777777777778,
              "#fb9f3a"
             ],
             [
              0.8888888888888888,
              "#fdca26"
             ],
             [
              1,
              "#f0f921"
             ]
            ],
            "type": "heatmap"
           }
          ],
          "histogram": [
           {
            "marker": {
             "pattern": {
              "fillmode": "overlay",
              "size": 10,
              "solidity": 0.2
             }
            },
            "type": "histogram"
           }
          ],
          "histogram2d": [
           {
            "colorbar": {
             "outlinewidth": 0,
             "ticks": ""
            },
            "colorscale": [
             [
              0,
              "#0d0887"
             ],
             [
              0.1111111111111111,
              "#46039f"
             ],
             [
              0.2222222222222222,
              "#7201a8"
             ],
             [
              0.3333333333333333,
              "#9c179e"
             ],
             [
              0.4444444444444444,
              "#bd3786"
             ],
             [
              0.5555555555555556,
              "#d8576b"
             ],
             [
              0.6666666666666666,
              "#ed7953"
             ],
             [
              0.7777777777777778,
              "#fb9f3a"
             ],
             [
              0.8888888888888888,
              "#fdca26"
             ],
             [
              1,
              "#f0f921"
             ]
            ],
            "type": "histogram2d"
           }
          ],
          "histogram2dcontour": [
           {
            "colorbar": {
             "outlinewidth": 0,
             "ticks": ""
            },
            "colorscale": [
             [
              0,
              "#0d0887"
             ],
             [
              0.1111111111111111,
              "#46039f"
             ],
             [
              0.2222222222222222,
              "#7201a8"
             ],
             [
              0.3333333333333333,
              "#9c179e"
             ],
             [
              0.4444444444444444,
              "#bd3786"
             ],
             [
              0.5555555555555556,
              "#d8576b"
             ],
             [
              0.6666666666666666,
              "#ed7953"
             ],
             [
              0.7777777777777778,
              "#fb9f3a"
             ],
             [
              0.8888888888888888,
              "#fdca26"
             ],
             [
              1,
              "#f0f921"
             ]
            ],
            "type": "histogram2dcontour"
           }
          ],
          "mesh3d": [
           {
            "colorbar": {
             "outlinewidth": 0,
             "ticks": ""
            },
            "type": "mesh3d"
           }
          ],
          "parcoords": [
           {
            "line": {
             "colorbar": {
              "outlinewidth": 0,
              "ticks": ""
             }
            },
            "type": "parcoords"
           }
          ],
          "pie": [
           {
            "automargin": true,
            "type": "pie"
           }
          ],
          "scatter": [
           {
            "fillpattern": {
             "fillmode": "overlay",
             "size": 10,
             "solidity": 0.2
            },
            "type": "scatter"
           }
          ],
          "scatter3d": [
           {
            "line": {
             "colorbar": {
              "outlinewidth": 0,
              "ticks": ""
             }
            },
            "marker": {
             "colorbar": {
              "outlinewidth": 0,
              "ticks": ""
             }
            },
            "type": "scatter3d"
           }
          ],
          "scattercarpet": [
           {
            "marker": {
             "colorbar": {
              "outlinewidth": 0,
              "ticks": ""
             }
            },
            "type": "scattercarpet"
           }
          ],
          "scattergeo": [
           {
            "marker": {
             "colorbar": {
              "outlinewidth": 0,
              "ticks": ""
             }
            },
            "type": "scattergeo"
           }
          ],
          "scattergl": [
           {
            "marker": {
             "colorbar": {
              "outlinewidth": 0,
              "ticks": ""
             }
            },
            "type": "scattergl"
           }
          ],
          "scattermap": [
           {
            "marker": {
             "colorbar": {
              "outlinewidth": 0,
              "ticks": ""
             }
            },
            "type": "scattermap"
           }
          ],
          "scattermapbox": [
           {
            "marker": {
             "colorbar": {
              "outlinewidth": 0,
              "ticks": ""
             }
            },
            "type": "scattermapbox"
           }
          ],
          "scatterpolar": [
           {
            "marker": {
             "colorbar": {
              "outlinewidth": 0,
              "ticks": ""
             }
            },
            "type": "scatterpolar"
           }
          ],
          "scatterpolargl": [
           {
            "marker": {
             "colorbar": {
              "outlinewidth": 0,
              "ticks": ""
             }
            },
            "type": "scatterpolargl"
           }
          ],
          "scatterternary": [
           {
            "marker": {
             "colorbar": {
              "outlinewidth": 0,
              "ticks": ""
             }
            },
            "type": "scatterternary"
           }
          ],
          "surface": [
           {
            "colorbar": {
             "outlinewidth": 0,
             "ticks": ""
            },
            "colorscale": [
             [
              0,
              "#0d0887"
             ],
             [
              0.1111111111111111,
              "#46039f"
             ],
             [
              0.2222222222222222,
              "#7201a8"
             ],
             [
              0.3333333333333333,
              "#9c179e"
             ],
             [
              0.4444444444444444,
              "#bd3786"
             ],
             [
              0.5555555555555556,
              "#d8576b"
             ],
             [
              0.6666666666666666,
              "#ed7953"
             ],
             [
              0.7777777777777778,
              "#fb9f3a"
             ],
             [
              0.8888888888888888,
              "#fdca26"
             ],
             [
              1,
              "#f0f921"
             ]
            ],
            "type": "surface"
           }
          ],
          "table": [
           {
            "cells": {
             "fill": {
              "color": "#EBF0F8"
             },
             "line": {
              "color": "white"
             }
            },
            "header": {
             "fill": {
              "color": "#C8D4E3"
             },
             "line": {
              "color": "white"
             }
            },
            "type": "table"
           }
          ]
         },
         "layout": {
          "annotationdefaults": {
           "arrowcolor": "#2a3f5f",
           "arrowhead": 0,
           "arrowwidth": 1
          },
          "autotypenumbers": "strict",
          "coloraxis": {
           "colorbar": {
            "outlinewidth": 0,
            "ticks": ""
           }
          },
          "colorscale": {
           "diverging": [
            [
             0,
             "#8e0152"
            ],
            [
             0.1,
             "#c51b7d"
            ],
            [
             0.2,
             "#de77ae"
            ],
            [
             0.3,
             "#f1b6da"
            ],
            [
             0.4,
             "#fde0ef"
            ],
            [
             0.5,
             "#f7f7f7"
            ],
            [
             0.6,
             "#e6f5d0"
            ],
            [
             0.7,
             "#b8e186"
            ],
            [
             0.8,
             "#7fbc41"
            ],
            [
             0.9,
             "#4d9221"
            ],
            [
             1,
             "#276419"
            ]
           ],
           "sequential": [
            [
             0,
             "#0d0887"
            ],
            [
             0.1111111111111111,
             "#46039f"
            ],
            [
             0.2222222222222222,
             "#7201a8"
            ],
            [
             0.3333333333333333,
             "#9c179e"
            ],
            [
             0.4444444444444444,
             "#bd3786"
            ],
            [
             0.5555555555555556,
             "#d8576b"
            ],
            [
             0.6666666666666666,
             "#ed7953"
            ],
            [
             0.7777777777777778,
             "#fb9f3a"
            ],
            [
             0.8888888888888888,
             "#fdca26"
            ],
            [
             1,
             "#f0f921"
            ]
           ],
           "sequentialminus": [
            [
             0,
             "#0d0887"
            ],
            [
             0.1111111111111111,
             "#46039f"
            ],
            [
             0.2222222222222222,
             "#7201a8"
            ],
            [
             0.3333333333333333,
             "#9c179e"
            ],
            [
             0.4444444444444444,
             "#bd3786"
            ],
            [
             0.5555555555555556,
             "#d8576b"
            ],
            [
             0.6666666666666666,
             "#ed7953"
            ],
            [
             0.7777777777777778,
             "#fb9f3a"
            ],
            [
             0.8888888888888888,
             "#fdca26"
            ],
            [
             1,
             "#f0f921"
            ]
           ]
          },
          "colorway": [
           "#636efa",
           "#EF553B",
           "#00cc96",
           "#ab63fa",
           "#FFA15A",
           "#19d3f3",
           "#FF6692",
           "#B6E880",
           "#FF97FF",
           "#FECB52"
          ],
          "font": {
           "color": "#2a3f5f"
          },
          "geo": {
           "bgcolor": "white",
           "lakecolor": "white",
           "landcolor": "#E5ECF6",
           "showlakes": true,
           "showland": true,
           "subunitcolor": "white"
          },
          "hoverlabel": {
           "align": "left"
          },
          "hovermode": "closest",
          "mapbox": {
           "style": "light"
          },
          "paper_bgcolor": "white",
          "plot_bgcolor": "#E5ECF6",
          "polar": {
           "angularaxis": {
            "gridcolor": "white",
            "linecolor": "white",
            "ticks": ""
           },
           "bgcolor": "#E5ECF6",
           "radialaxis": {
            "gridcolor": "white",
            "linecolor": "white",
            "ticks": ""
           }
          },
          "scene": {
           "xaxis": {
            "backgroundcolor": "#E5ECF6",
            "gridcolor": "white",
            "gridwidth": 2,
            "linecolor": "white",
            "showbackground": true,
            "ticks": "",
            "zerolinecolor": "white"
           },
           "yaxis": {
            "backgroundcolor": "#E5ECF6",
            "gridcolor": "white",
            "gridwidth": 2,
            "linecolor": "white",
            "showbackground": true,
            "ticks": "",
            "zerolinecolor": "white"
           },
           "zaxis": {
            "backgroundcolor": "#E5ECF6",
            "gridcolor": "white",
            "gridwidth": 2,
            "linecolor": "white",
            "showbackground": true,
            "ticks": "",
            "zerolinecolor": "white"
           }
          },
          "shapedefaults": {
           "line": {
            "color": "#2a3f5f"
           }
          },
          "ternary": {
           "aaxis": {
            "gridcolor": "white",
            "linecolor": "white",
            "ticks": ""
           },
           "baxis": {
            "gridcolor": "white",
            "linecolor": "white",
            "ticks": ""
           },
           "bgcolor": "#E5ECF6",
           "caxis": {
            "gridcolor": "white",
            "linecolor": "white",
            "ticks": ""
           }
          },
          "title": {
           "x": 0.05
          },
          "xaxis": {
           "automargin": true,
           "gridcolor": "white",
           "linecolor": "white",
           "ticks": "",
           "title": {
            "standoff": 15
           },
           "zerolinecolor": "white",
           "zerolinewidth": 2
          },
          "yaxis": {
           "automargin": true,
           "gridcolor": "white",
           "linecolor": "white",
           "ticks": "",
           "title": {
            "standoff": 15
           },
           "zerolinecolor": "white",
           "zerolinewidth": 2
          }
         }
        },
        "title": {
         "text": "Locaties van Tsunamis in Azië en Oceanië met Total Damages"
        }
       }
      },
      "text/html": [
       "<div>            <script src=\"https://cdnjs.cloudflare.com/ajax/libs/mathjax/2.7.5/MathJax.js?config=TeX-AMS-MML_SVG\"></script><script type=\"text/javascript\">if (window.MathJax && window.MathJax.Hub && window.MathJax.Hub.Config) {window.MathJax.Hub.Config({SVG: {font: \"STIX-Web\"}});}</script>                <script type=\"text/javascript\">window.PlotlyConfig = {MathJaxConfig: 'local'};</script>\n",
       "        <script charset=\"utf-8\" src=\"https://cdn.plot.ly/plotly-3.0.1.min.js\"></script>                <div id=\"27399be8-02c5-4e7c-9f35-12c3894d884e\" class=\"plotly-graph-div\" style=\"height:600px; width:100%;\"></div>            <script type=\"text/javascript\">                window.PLOTLYENV=window.PLOTLYENV || {};                                if (document.getElementById(\"27399be8-02c5-4e7c-9f35-12c3894d884e\")) {                    Plotly.newPlot(                        \"27399be8-02c5-4e7c-9f35-12c3894d884e\",                        [{\"customdata\":{\"dtype\":\"f8\",\"bdata\":\"AAAAAAAgnkAAAAAAAAAAAAAAAAAAAGBAAAAAAADAnkAAAAAAAAAAAAAAAAAAAGlAAAAAAADEnkAAAAAAAAAAAAAAAAAAAFBAAAAAAAC0nUAAAAAAAAAAAAAAAAAAADJAAAAAAADEnUAAAAAAAAAAAAAAAAAAgERAAAAAAAA0nkAAAAAAAAAAAAAAAAAAcKdAAAAAAABgnkAAAAAAAAAAAAAAAAAAHJNAAAAAAACwnkAAAAAAAGooQQAAAAAAADlAAAAAAADsnkAAAAAAAAAAAAAAAAAA2IBAAAAAAAD8nkAAAAAAAGQZQQAAAAAAgFlAAAAAAAAkn0AAAAAAgIQuQQAAAAAA4G1AAAAAAABIn0AAAAAAAAAAAAAAAAAAACBAAAAAAABQn0AAAAAARPtQQQAAAABgOgRBAAAAAABQn0AAAAAAgIQeQQAAAAAAAABAAAAAAABQn0AAAAAAoDYvQQAAAABAAdBAAAAAAABQn0AAAAAAlBY0QQAAAADgSOFAAAAAAABQn0AAAAAAULEcQQAAAAAAgFlAAAAAAABQn0AAAAAAgIQeQQAAAAAAAFRAAAAAAABQn0AAAAAAgIQuQQAAAACATMBAAAAAAABQn0AAAAAAgIQeQQAAAAAAwFFAAAAAAABYn0AAAAAAAAAAAAAAAAAAAAhAAAAAAABYn0AAAAAAANvqQAAAAAAAEIlAAAAAAABon0AAAAAAAAAAAAAAAAAAkIBAAAAAAABsn0AAAAAAAAAAAAAAAAAAAPA\\u002fAAAAAABkn0AAAAAAAGoYQQAAAAAAAPA\\u002fAAAAAABsn0AAAAAAsQipQQAAAACAYdNAAAAAAACIn0AAAAAAECA2QQAAAAAALLBA\",\"shape\":\"27, 3\"},\"geo\":\"geo\",\"hovertemplate\":\"\\u003cb\\u003e%{hovertext}\\u003c\\u002fb\\u003e\\u003cbr\\u003e\\u003cbr\\u003eTotal Damages ('000 US$)=%{marker.color:.2f}\\u003cbr\\u003eLatitude=%{lat}\\u003cbr\\u003eLongitude=%{lon}\\u003cbr\\u003eYear=%{customdata[0]}\\u003cbr\\u003eTotal Deaths=%{customdata[2]}\\u003cextra\\u003e\\u003c\\u002fextra\\u003e\",\"hovertext\":[\"Flores sea\",\"Donggala\",\"Parasanga, Paletoang (Sulawesi)\",\"Sanriku\",\"Fukushima\",\"Sanriku\",\"Tonankai, Hondo\",\"Niigata, Hodo Isl.\",\"Lomblen Island\",\"Nihon- Kai-Chubu, Western Honshu, Akita, Aomori, Hokkaido\",\"Okushiri Island (Hokkaido)\",\"Manokwari, Ransiki, Oransbari, Prafi, Anggi, Warmare villages (Manokwari district, Papua Barat province), Bintuni village (Telukbintuni district, Papua Barat province), Windesi, Wasior villages (Telukwondama district, Papua Barat province)\",\"Nangroe Aceh Darussalam, Sumatera Utara provinces\",\"Barisal, Chittagong, Khulna provinces\",\"Kancheepuram, Villupuram, Nagapattinam, Thoothukudi, Tirunelveli Kattabo, Kanniyakumari, Chennai, Thiruvallur, Cuddalore, Pudukkottai, Ramanathapuram, Sivaganga, Thanjavur districts (Tamil Nadu province), Vishakhapatnam, East Godavari, West Godavari, Krishna, Guntur, Prakasam, Nellore districts (Andhra Pradesh province), Kollam, Alappuzha, Ernakulam districts (Kerala province), Puducherry, Karaikal district (Puducherry province), Andaman and Nicobar province\",\"Jaffna, Kilinochchi, Mullativu, Trincomalee, Batticaloa, Ampara, Hambantota, Matara, Galle, Kalutara, Colombo, Gampaha, Puttalam, Vavuniya districts\",\"Alifu Alifu, Alifu Dhaalu, Baa, Faafu, Gaafu Alifu, Gaafu Dhaalu, Haa Alifu, Haa Dhaalu, Kaafu, Laamu, Lhaviyani, Male', Meemu, Noonu, Raa, Seenu, Shaviyani, Thaa, Vaavu provinces\",\"Barat Daya, Timur Laut district (Pulau Pinang province)\",\"Krabi, Phangnga, Phuket, Ranong, Satun, Trang provinces\",\"Kawthoung, Pyapon, Pathein districts (Ayeyawaddy province), Kawthoung district (Taninthayi province), Sittwe district (Rakhine province)\",\"Pela, Batu Junku, Waimarot, Wailawa, Waimoly villages (Bata Bual sub-district,Buru district, Maluku Utara province)\",\"Tasikmalaya, Kota Tasikmalaya, Ciamis, Sukabumi, kota Sukabumi, Garut districts (Jawa Barat province), Cilacap, Kebumen, Banyumas districts (Jawa Tengah province), Gunungkidul, Bantul district (Daerah Istimewa Yogyakarta province)\",\"Kepulauan Mentawai district (Sumatera Barat province)\",\"Holtekamp beach (Muara Tami area, Kota Jayapura district, Papua province)\",\"Sizuokasi, Yaidusi, Sagaratyoo, Huziedasi, Simadasi, Kakegawasi, Haibaratyoo districts (Sizuola province), Tookyoo province\",\"Hokkaidoo, Akita, Aomori, Yamagata, Miyagi, Iwate, Hukusima, Tookyoo, Ibaraki, Totigi, Gunma, Saitama, Tiba, Kanagawa, Nagano provinces\",\"Dongalla, Sigi (dongalla), Parigi Moutong, Palu, Poso, Mamuju Utara (Celebas Isl., Central Sulawesi)\"],\"lat\":[\"8.30 S\",\"0.157\",\"-3.201\",\"40.5\",\"37.4\",\"39.224\",\"33.682\",\"38.67\",\"8.8\",\"40.462\",\"42.851 N\",\"-1.757\",\"3.295\",\"3.295\",\"3.295\",\"3.295\",\"3.295\",\"3.295\",\"3.295\",\"3.295\",\"-3.595\",\"-9.284\",\"-3.487\",\"38.297\",\"34.743\",\"38.297\",\"-178\"],\"legendgroup\":\"\",\"lon\":[\"121.70 E\",\"119.802\",\"118.904\",\"142.5\",\"142.6\",\"144.622\",\"36.204\",\"139.195\",\"123.5\",\"139.102\",\"139.197 E\",\"134.297\",\"95.982\",\"95.982\",\"95.982\",\"95.982\",\"95.982\",\"95.982\",\"95.982\",\"95.982\",\"127.214\",\"107.419\",\"100.082\",\"142.373\",\"138.264\",\"142.373\",\"119.84\"],\"marker\":{\"color\":{\"dtype\":\"f8\",\"bdata\":\"AAAAAAAAAAAAAAAAAAAAAAAAAAAAAAAAAAAAAAAAAAAAAAAAAAAAAAAAAAAAAAAAAAAAAAAAAAAAAAAAAGooQQAAAAAAAAAAAAAAAABkGUEAAAAAgIQuQQAAAAAAAAAAAAAAAET7UEEAAAAAgIQeQQAAAACgNi9BAAAAAJQWNEEAAAAAULEcQQAAAACAhB5BAAAAAICELkEAAAAAgIQeQQAAAAAAAAAAAAAAAADb6kAAAAAAAAAAAAAAAAAAAAAAAAAAAABqGEEAAAAAsQipQQAAAAAQIDZB\"},\"coloraxis\":\"coloraxis\",\"size\":{\"dtype\":\"f8\",\"bdata\":\"AAAAAAAAAAAAAAAAAAAAAAAAAAAAAAAAAAAAAAAAAAAAAAAAAAAAAAAAAAAAAAAAAAAAAAAAAAAAAAAAAGooQQAAAAAAAAAAAAAAAABkGUEAAAAAgIQuQQAAAAAAAAAAAAAAAET7UEEAAAAAgIQeQQAAAACgNi9BAAAAAJQWNEEAAAAAULEcQQAAAACAhB5BAAAAAICELkEAAAAAgIQeQQAAAAAAAAAAAAAAAADb6kAAAAAAAAAAAAAAAAAAAAAAAAAAAABqGEEAAAAAsQipQQAAAAAQIDZB\"},\"sizemode\":\"area\",\"sizeref\":233333.33333333334,\"symbol\":\"circle\"},\"mode\":\"markers\",\"name\":\"\",\"showlegend\":false,\"type\":\"scattergeo\"}],                        {\"template\":{\"data\":{\"histogram2dcontour\":[{\"type\":\"histogram2dcontour\",\"colorbar\":{\"outlinewidth\":0,\"ticks\":\"\"},\"colorscale\":[[0.0,\"#0d0887\"],[0.1111111111111111,\"#46039f\"],[0.2222222222222222,\"#7201a8\"],[0.3333333333333333,\"#9c179e\"],[0.4444444444444444,\"#bd3786\"],[0.5555555555555556,\"#d8576b\"],[0.6666666666666666,\"#ed7953\"],[0.7777777777777778,\"#fb9f3a\"],[0.8888888888888888,\"#fdca26\"],[1.0,\"#f0f921\"]]}],\"choropleth\":[{\"type\":\"choropleth\",\"colorbar\":{\"outlinewidth\":0,\"ticks\":\"\"}}],\"histogram2d\":[{\"type\":\"histogram2d\",\"colorbar\":{\"outlinewidth\":0,\"ticks\":\"\"},\"colorscale\":[[0.0,\"#0d0887\"],[0.1111111111111111,\"#46039f\"],[0.2222222222222222,\"#7201a8\"],[0.3333333333333333,\"#9c179e\"],[0.4444444444444444,\"#bd3786\"],[0.5555555555555556,\"#d8576b\"],[0.6666666666666666,\"#ed7953\"],[0.7777777777777778,\"#fb9f3a\"],[0.8888888888888888,\"#fdca26\"],[1.0,\"#f0f921\"]]}],\"heatmap\":[{\"type\":\"heatmap\",\"colorbar\":{\"outlinewidth\":0,\"ticks\":\"\"},\"colorscale\":[[0.0,\"#0d0887\"],[0.1111111111111111,\"#46039f\"],[0.2222222222222222,\"#7201a8\"],[0.3333333333333333,\"#9c179e\"],[0.4444444444444444,\"#bd3786\"],[0.5555555555555556,\"#d8576b\"],[0.6666666666666666,\"#ed7953\"],[0.7777777777777778,\"#fb9f3a\"],[0.8888888888888888,\"#fdca26\"],[1.0,\"#f0f921\"]]}],\"contourcarpet\":[{\"type\":\"contourcarpet\",\"colorbar\":{\"outlinewidth\":0,\"ticks\":\"\"}}],\"contour\":[{\"type\":\"contour\",\"colorbar\":{\"outlinewidth\":0,\"ticks\":\"\"},\"colorscale\":[[0.0,\"#0d0887\"],[0.1111111111111111,\"#46039f\"],[0.2222222222222222,\"#7201a8\"],[0.3333333333333333,\"#9c179e\"],[0.4444444444444444,\"#bd3786\"],[0.5555555555555556,\"#d8576b\"],[0.6666666666666666,\"#ed7953\"],[0.7777777777777778,\"#fb9f3a\"],[0.8888888888888888,\"#fdca26\"],[1.0,\"#f0f921\"]]}],\"surface\":[{\"type\":\"surface\",\"colorbar\":{\"outlinewidth\":0,\"ticks\":\"\"},\"colorscale\":[[0.0,\"#0d0887\"],[0.1111111111111111,\"#46039f\"],[0.2222222222222222,\"#7201a8\"],[0.3333333333333333,\"#9c179e\"],[0.4444444444444444,\"#bd3786\"],[0.5555555555555556,\"#d8576b\"],[0.6666666666666666,\"#ed7953\"],[0.7777777777777778,\"#fb9f3a\"],[0.8888888888888888,\"#fdca26\"],[1.0,\"#f0f921\"]]}],\"mesh3d\":[{\"type\":\"mesh3d\",\"colorbar\":{\"outlinewidth\":0,\"ticks\":\"\"}}],\"scatter\":[{\"fillpattern\":{\"fillmode\":\"overlay\",\"size\":10,\"solidity\":0.2},\"type\":\"scatter\"}],\"parcoords\":[{\"type\":\"parcoords\",\"line\":{\"colorbar\":{\"outlinewidth\":0,\"ticks\":\"\"}}}],\"scatterpolargl\":[{\"type\":\"scatterpolargl\",\"marker\":{\"colorbar\":{\"outlinewidth\":0,\"ticks\":\"\"}}}],\"bar\":[{\"error_x\":{\"color\":\"#2a3f5f\"},\"error_y\":{\"color\":\"#2a3f5f\"},\"marker\":{\"line\":{\"color\":\"#E5ECF6\",\"width\":0.5},\"pattern\":{\"fillmode\":\"overlay\",\"size\":10,\"solidity\":0.2}},\"type\":\"bar\"}],\"scattergeo\":[{\"type\":\"scattergeo\",\"marker\":{\"colorbar\":{\"outlinewidth\":0,\"ticks\":\"\"}}}],\"scatterpolar\":[{\"type\":\"scatterpolar\",\"marker\":{\"colorbar\":{\"outlinewidth\":0,\"ticks\":\"\"}}}],\"histogram\":[{\"marker\":{\"pattern\":{\"fillmode\":\"overlay\",\"size\":10,\"solidity\":0.2}},\"type\":\"histogram\"}],\"scattergl\":[{\"type\":\"scattergl\",\"marker\":{\"colorbar\":{\"outlinewidth\":0,\"ticks\":\"\"}}}],\"scatter3d\":[{\"type\":\"scatter3d\",\"line\":{\"colorbar\":{\"outlinewidth\":0,\"ticks\":\"\"}},\"marker\":{\"colorbar\":{\"outlinewidth\":0,\"ticks\":\"\"}}}],\"scattermap\":[{\"type\":\"scattermap\",\"marker\":{\"colorbar\":{\"outlinewidth\":0,\"ticks\":\"\"}}}],\"scattermapbox\":[{\"type\":\"scattermapbox\",\"marker\":{\"colorbar\":{\"outlinewidth\":0,\"ticks\":\"\"}}}],\"scatterternary\":[{\"type\":\"scatterternary\",\"marker\":{\"colorbar\":{\"outlinewidth\":0,\"ticks\":\"\"}}}],\"scattercarpet\":[{\"type\":\"scattercarpet\",\"marker\":{\"colorbar\":{\"outlinewidth\":0,\"ticks\":\"\"}}}],\"carpet\":[{\"aaxis\":{\"endlinecolor\":\"#2a3f5f\",\"gridcolor\":\"white\",\"linecolor\":\"white\",\"minorgridcolor\":\"white\",\"startlinecolor\":\"#2a3f5f\"},\"baxis\":{\"endlinecolor\":\"#2a3f5f\",\"gridcolor\":\"white\",\"linecolor\":\"white\",\"minorgridcolor\":\"white\",\"startlinecolor\":\"#2a3f5f\"},\"type\":\"carpet\"}],\"table\":[{\"cells\":{\"fill\":{\"color\":\"#EBF0F8\"},\"line\":{\"color\":\"white\"}},\"header\":{\"fill\":{\"color\":\"#C8D4E3\"},\"line\":{\"color\":\"white\"}},\"type\":\"table\"}],\"barpolar\":[{\"marker\":{\"line\":{\"color\":\"#E5ECF6\",\"width\":0.5},\"pattern\":{\"fillmode\":\"overlay\",\"size\":10,\"solidity\":0.2}},\"type\":\"barpolar\"}],\"pie\":[{\"automargin\":true,\"type\":\"pie\"}]},\"layout\":{\"autotypenumbers\":\"strict\",\"colorway\":[\"#636efa\",\"#EF553B\",\"#00cc96\",\"#ab63fa\",\"#FFA15A\",\"#19d3f3\",\"#FF6692\",\"#B6E880\",\"#FF97FF\",\"#FECB52\"],\"font\":{\"color\":\"#2a3f5f\"},\"hovermode\":\"closest\",\"hoverlabel\":{\"align\":\"left\"},\"paper_bgcolor\":\"white\",\"plot_bgcolor\":\"#E5ECF6\",\"polar\":{\"bgcolor\":\"#E5ECF6\",\"angularaxis\":{\"gridcolor\":\"white\",\"linecolor\":\"white\",\"ticks\":\"\"},\"radialaxis\":{\"gridcolor\":\"white\",\"linecolor\":\"white\",\"ticks\":\"\"}},\"ternary\":{\"bgcolor\":\"#E5ECF6\",\"aaxis\":{\"gridcolor\":\"white\",\"linecolor\":\"white\",\"ticks\":\"\"},\"baxis\":{\"gridcolor\":\"white\",\"linecolor\":\"white\",\"ticks\":\"\"},\"caxis\":{\"gridcolor\":\"white\",\"linecolor\":\"white\",\"ticks\":\"\"}},\"coloraxis\":{\"colorbar\":{\"outlinewidth\":0,\"ticks\":\"\"}},\"colorscale\":{\"sequential\":[[0.0,\"#0d0887\"],[0.1111111111111111,\"#46039f\"],[0.2222222222222222,\"#7201a8\"],[0.3333333333333333,\"#9c179e\"],[0.4444444444444444,\"#bd3786\"],[0.5555555555555556,\"#d8576b\"],[0.6666666666666666,\"#ed7953\"],[0.7777777777777778,\"#fb9f3a\"],[0.8888888888888888,\"#fdca26\"],[1.0,\"#f0f921\"]],\"sequentialminus\":[[0.0,\"#0d0887\"],[0.1111111111111111,\"#46039f\"],[0.2222222222222222,\"#7201a8\"],[0.3333333333333333,\"#9c179e\"],[0.4444444444444444,\"#bd3786\"],[0.5555555555555556,\"#d8576b\"],[0.6666666666666666,\"#ed7953\"],[0.7777777777777778,\"#fb9f3a\"],[0.8888888888888888,\"#fdca26\"],[1.0,\"#f0f921\"]],\"diverging\":[[0,\"#8e0152\"],[0.1,\"#c51b7d\"],[0.2,\"#de77ae\"],[0.3,\"#f1b6da\"],[0.4,\"#fde0ef\"],[0.5,\"#f7f7f7\"],[0.6,\"#e6f5d0\"],[0.7,\"#b8e186\"],[0.8,\"#7fbc41\"],[0.9,\"#4d9221\"],[1,\"#276419\"]]},\"xaxis\":{\"gridcolor\":\"white\",\"linecolor\":\"white\",\"ticks\":\"\",\"title\":{\"standoff\":15},\"zerolinecolor\":\"white\",\"automargin\":true,\"zerolinewidth\":2},\"yaxis\":{\"gridcolor\":\"white\",\"linecolor\":\"white\",\"ticks\":\"\",\"title\":{\"standoff\":15},\"zerolinecolor\":\"white\",\"automargin\":true,\"zerolinewidth\":2},\"scene\":{\"xaxis\":{\"backgroundcolor\":\"#E5ECF6\",\"gridcolor\":\"white\",\"linecolor\":\"white\",\"showbackground\":true,\"ticks\":\"\",\"zerolinecolor\":\"white\",\"gridwidth\":2},\"yaxis\":{\"backgroundcolor\":\"#E5ECF6\",\"gridcolor\":\"white\",\"linecolor\":\"white\",\"showbackground\":true,\"ticks\":\"\",\"zerolinecolor\":\"white\",\"gridwidth\":2},\"zaxis\":{\"backgroundcolor\":\"#E5ECF6\",\"gridcolor\":\"white\",\"linecolor\":\"white\",\"showbackground\":true,\"ticks\":\"\",\"zerolinecolor\":\"white\",\"gridwidth\":2}},\"shapedefaults\":{\"line\":{\"color\":\"#2a3f5f\"}},\"annotationdefaults\":{\"arrowcolor\":\"#2a3f5f\",\"arrowhead\":0,\"arrowwidth\":1},\"geo\":{\"bgcolor\":\"white\",\"landcolor\":\"#E5ECF6\",\"subunitcolor\":\"white\",\"showland\":true,\"showlakes\":true,\"lakecolor\":\"white\"},\"title\":{\"x\":0.05},\"mapbox\":{\"style\":\"light\"}}},\"geo\":{\"domain\":{\"x\":[0.0,1.0],\"y\":[0.0,1.0]},\"projection\":{\"type\":\"natural earth\"},\"center\":{},\"lataxis\":{\"range\":[-50,50]},\"lonaxis\":{\"range\":[60,180]},\"showcountries\":true,\"countrycolor\":\"LightGray\",\"showcoastlines\":true,\"coastlinecolor\":\"Gray\"},\"coloraxis\":{\"colorbar\":{\"title\":{\"text\":\"Total Damages ('000 US$)\"}},\"colorscale\":[[0.0,\"rgb(255,247,236)\"],[0.125,\"rgb(254,232,200)\"],[0.25,\"rgb(253,212,158)\"],[0.375,\"rgb(253,187,132)\"],[0.5,\"rgb(252,141,89)\"],[0.625,\"rgb(239,101,72)\"],[0.75,\"rgb(215,48,31)\"],[0.875,\"rgb(179,0,0)\"],[1.0,\"rgb(127,0,0)\"]]},\"legend\":{\"tracegroupgap\":0,\"itemsizing\":\"constant\"},\"title\":{\"text\":\"Locaties van Tsunamis in Azi\\u00eb en Oceani\\u00eb met Total Damages\"},\"margin\":{\"r\":0,\"t\":40,\"l\":0,\"b\":0},\"height\":600},                        {\"responsive\": true}                    ).then(function(){\n",
       "                            \n",
       "var gd = document.getElementById('27399be8-02c5-4e7c-9f35-12c3894d884e');\n",
       "var x = new MutationObserver(function (mutations, observer) {{\n",
       "        var display = window.getComputedStyle(gd).display;\n",
       "        if (!display || display === 'none') {{\n",
       "            console.log([gd, 'removed!']);\n",
       "            Plotly.purge(gd);\n",
       "            observer.disconnect();\n",
       "        }}\n",
       "}});\n",
       "\n",
       "// Listen for the removal of the full notebook cells\n",
       "var notebookContainer = gd.closest('#notebook-container');\n",
       "if (notebookContainer) {{\n",
       "    x.observe(notebookContainer, {childList: true});\n",
       "}}\n",
       "\n",
       "// Listen for the clearing of the current output cell\n",
       "var outputEl = gd.closest('.output');\n",
       "if (outputEl) {{\n",
       "    x.observe(outputEl, {childList: true});\n",
       "}}\n",
       "\n",
       "                        })                };            </script>        </div>"
      ]
     },
     "metadata": {},
     "output_type": "display_data"
    }
   ],
   "source": [
    "df = merged_df[merged_df['Region'].str.contains('Asia|Oceania', case=False, na=False)].copy()\n",
    "\n",
    "# Zet NaN damages op 0 zodat ze ook getoond worden, maar kleiner\n",
    "df[\"Total Damages ('000 US$)\"] = df[\"Total Damages ('000 US$)\"].fillna(0)\n",
    "\n",
    "# Eventueel filteren op geldige lat/lon\n",
    "df = df.dropna(subset=['Latitude', 'Longitude'])\n",
    "\n",
    "fig = px.scatter_geo(\n",
    "    df,\n",
    "    lat='Latitude',\n",
    "    lon='Longitude',\n",
    "    hover_name='Location',\n",
    "    hover_data={\n",
    "        'Year': True,\n",
    "        \"Total Damages ('000 US$)\": ':.2f',\n",
    "        'Total Deaths': True\n",
    "    },\n",
    "    size=\"Total Damages ('000 US$)\",\n",
    "    size_max=30,\n",
    "    color=\"Total Damages ('000 US$)\",\n",
    "    color_continuous_scale='OrRd',\n",
    "    projection='natural earth',\n",
    "    title=\"Locaties van Tsunamis in Azië en Oceanië met Total Damages\"\n",
    ")\n",
    "\n",
    "fig.update_geos(\n",
    "    showcountries=True,\n",
    "    countrycolor=\"LightGray\",\n",
    "    showcoastlines=True,\n",
    "    coastlinecolor=\"Gray\",\n",
    "    lataxis_range=[-50, 50],\n",
    "    lonaxis_range=[60, 180],\n",
    ")\n",
    "\n",
    "fig.update_layout(height=600, margin={\"r\":0,\"t\":40,\"l\":0,\"b\":0})\n",
    "\n",
    "fig.show()\n"
   ]
  },
  {
   "cell_type": "markdown",
   "id": "109fdd28-7d46-4ca9-bc6e-0e0394748499",
   "metadata": {},
   "source": [
    "Nu de argumenten voor het tweede perspectief"
   ]
  },
  {
   "cell_type": "markdown",
   "id": "fabd7e8d-8ea7-448b-be55-3085dfe7c2f1",
   "metadata": {},
   "source": [
    "##  De hoeveelheid van tsunami’s is niet/minder evenredig toegenomen naar mate de zeespiegel stijgt. \n",
    "Hieronder wordt een grafiek gemaakt die het verband tussen de zeespiegel en het aantal tsunami's laat zien. "
   ]
  },
  {
   "cell_type": "code",
   "execution_count": 7,
   "id": "21392489-99c3-4417-b634-f006691b95e1",
   "metadata": {},
   "outputs": [
    {
     "data": {
      "image/png": "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",
      "text/plain": [
       "<Figure size 1000x500 with 1 Axes>"
      ]
     },
     "metadata": {},
     "output_type": "display_data"
    }
   ],
   "source": [
    "import matplotlib.pyplot as plt\n",
    "\n",
    "import pandas as pd\n",
    "\n",
    "disasters = pd.read_csv('1900_2021_DISASTERS.xlsx - emdat data.csv')\n",
    "sea_level = pd.read_csv('Global_sea_level_rise.csv')\n",
    "\n",
    "tsunamis = disasters[disasters['Disaster Subtype'].isin(['Tsunami', 'Tsunami/Tidal wave'])]\n",
    "\n",
    "\n",
    "tsunami_counts = tsunamis.groupby('Year').size().reset_index(name='Tsunami Count')\n",
    "\n",
    "combined = pd.merge(tsunami_counts, sea_level, left_on='Year', right_on='year', how='inner')\n",
    "import matplotlib.pyplot as plt\n",
    "\n",
    "plt.figure(figsize=(10, 5))\n",
    "plt.scatter(combined['mmfrom1993-2008average'], combined['Tsunami Count'], alpha=0.6, color='darkblue')\n",
    "plt.title('Zeespiegel vs. aantal tsunami’s per jaar')\n",
    "plt.xlabel('Zeespiegel (mm t.o.v. 1993–2008 gemiddelde)')\n",
    "plt.ylabel('Aantal tsunami’s')\n",
    "plt.grid(True)\n",
    "plt.tight_layout()\n",
    "plt.show()"
   ]
  },
  {
   "cell_type": "code",
   "execution_count": 8,
   "id": "bd0b0de5-dacb-48f7-8db6-e9053491f62f",
   "metadata": {},
   "outputs": [
    {
     "data": {
      "text/plain": [
       "'Correlatiecoëfficiënt: 0.17'"
      ]
     },
     "execution_count": 8,
     "metadata": {},
     "output_type": "execute_result"
    }
   ],
   "source": [
    "correlation = combined['Tsunami Count'].corr(combined['mmfrom1993-2008average'])\n",
    "(f'Correlatiecoëfficiënt: {correlation:.2f}')"
   ]
  },
  {
   "cell_type": "markdown",
   "id": "142c499f-7e8e-4c2a-9ed7-4fa2414aa4bd",
   "metadata": {},
   "source": [
    "Er is een erg zwakke correlatie ontdekt (r = 0.17) tussen de zeespiegelstijging en het aantal tsunami’s per jaar. Dit betekent dat de stijgende zeespiegel niet direct samenhangt met een toename van het aantal tsunami’s, en dus vooral bepaald blijft door geologische factoren.\n"
   ]
  },
  {
   "cell_type": "markdown",
   "id": "b739bc1c-9cf5-47d0-b9ae-8367a197f9db",
   "metadata": {},
   "source": [
    "## De zeespiegelstijging versterkt het effect van de tsunami maar veroorzaakt het niet.\n",
    "Hieronder worden twee grafieken gemaakt, de eerste laat de zeespiegel vs. aantal doden door tsunami's zien, en de tweede laat de zeespiegel vs. het aantal tsunami's per jaar zien. Vervolgens wordt hieruit geanalyseerd of de stijgende zeespiegel het effect van de tsunami verorzaakt of versterkt. "
   ]
  },
  {
   "cell_type": "code",
   "execution_count": 9,
   "id": "7d09be82-984f-4ac6-9432-a78bfa6e6034",
   "metadata": {},
   "outputs": [
    {
     "data": {
      "image/png": "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",
      "text/plain": [
       "<Figure size 1000x500 with 1 Axes>"
      ]
     },
     "metadata": {},
     "output_type": "display_data"
    }
   ],
   "source": [
    "import matplotlib.pyplot as plt\n",
    "import pandas as pd\n",
    "\n",
    "disasters = pd.read_csv('1900_2021_DISASTERS.xlsx - emdat data.csv')\n",
    "sea_level = pd.read_csv('Global_sea_level_rise.csv')\n",
    "\n",
    "tsunamis = disasters[disasters['Disaster Subtype'].isin(['Tsunami', 'Tsunami/Tidal wave'])]\n",
    "\n",
    "tsunami_deaths = tsunamis.groupby('Year')['Total Deaths'].sum().reset_index()\n",
    "\n",
    "combined = pd.merge(tsunami_deaths, sea_level, left_on='Year', right_on='year', how='inner')\n",
    "\n",
    "plt.figure(figsize=(10, 5))\n",
    "plt.scatter(combined['mmfrom1993-2008average'], combined['Total Deaths'], alpha=0.7, color='firebrick')\n",
    "\n",
    "plt.title('Zeespiegel vs. aantal doden door tsunami’s')\n",
    "plt.xlabel('Zeespiegel (mm t.o.v. 1993–2008 gemiddelde)')\n",
    "plt.ylabel('Totaal aantal doden per jaar')\n",
    "plt.grid(True)\n",
    "plt.tight_layout()\n",
    "plt.show()\n"
   ]
  },
  {
   "cell_type": "code",
   "execution_count": 10,
   "id": "cdc4843d-a317-4d6b-a878-59cf970daf33",
   "metadata": {},
   "outputs": [
    {
     "data": {
      "image/png": "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",
      "text/plain": [
       "<Figure size 1000x500 with 1 Axes>"
      ]
     },
     "metadata": {},
     "output_type": "display_data"
    }
   ],
   "source": [
    "import matplotlib.pyplot as plt\n",
    "import pandas as pd\n",
    "\n",
    "disasters = pd.read_csv('1900_2021_DISASTERS.xlsx - emdat data.csv')\n",
    "sea_level = pd.read_csv('Global_sea_level_rise.csv')\n",
    "\n",
    "tsunamis = disasters[disasters['Disaster Subtype'].isin(['Tsunami', 'Tsunami/Tidal wave'])]\n",
    "\n",
    "tsunami_counts = tsunamis.groupby('Year').size().reset_index(name='Aantal Tsunamis')\n",
    "\n",
    "combined_counts = pd.merge(tsunami_counts, sea_level, left_on='Year', right_on='year', how='inner')\n",
    "\n",
    "plt.figure(figsize=(10, 5))\n",
    "plt.scatter(combined_counts['mmfrom1993-2008average'], combined_counts['Aantal Tsunamis'], alpha=0.6, color='darkblue')\n",
    "plt.title('Zeespiegel vs. Aantal tsunami’s per jaar')\n",
    "plt.xlabel('Zeespiegel (mm t.o.v. 1993–2008 gemiddelde)')\n",
    "plt.ylabel('Aantal tsunami’s')\n",
    "plt.grid(True)\n",
    "plt.tight_layout()\n",
    "plt.show()\n"
   ]
  },
  {
   "cell_type": "markdown",
   "id": "2b1121d8-0e98-4713-b7a3-7904c6589a3a",
   "metadata": {},
   "source": [
    "De grafieken tonen aan dat de zeespiegelstijging niet leidt tot meer tsunami’s, maar wel dat het effect ervan verergert. Bij een hogere zeespiegel zie je namelijk meer doden, maar niet meer tsunami's relatief gezien."
   ]
  },
  {
   "cell_type": "markdown",
   "id": "486f0ad0-fda5-4c03-bdcf-887d9f824c50",
   "metadata": {},
   "source": [
    "##  Tsunami’s ontstaan vooral in specifieke aardbevingzones - niet in regios met hoogste zeespiegelstijging.\n"
   ]
  },
  {
   "cell_type": "code",
   "execution_count": 11,
   "id": "7f528579-c86d-44b1-85e9-a9c3b2112bd6",
   "metadata": {},
   "outputs": [
    {
     "data": {
      "image/png": "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",
      "text/plain": [
       "<Figure size 1000x500 with 1 Axes>"
      ]
     },
     "metadata": {},
     "output_type": "display_data"
    }
   ],
   "source": [
    "import pandas as pd\n",
    "import pandas as pd\n",
    "\n",
    "disasters = pd.read_csv('1900_2021_DISASTERS.xlsx - emdat data.csv')\n",
    "sea_level = pd.read_csv('Global_sea_level_rise.csv')\n",
    "\n",
    "tsunamis = disasters[disasters['Disaster Subtype'].isin(['Tsunami', 'Tsunami/Tidal wave'])]\n",
    "\n",
    "tsunami_deaths = tsunamis.groupby('Year')['Total Deaths'].sum().reset_index()\n",
    "combined = pd.merge(tsunami_deaths, sea_level, left_on='Year', right_on='year', how='inner')\n",
    "\n",
    "plt.figure(figsize=(10, 5))\n",
    "plt.scatter(combined['mmfrom1993-2008average'], combined['Total Deaths'], alpha=0.6, color='firebrick')\n",
    "plt.title('Zeespiegel vs. aantal doden door tsunami’s')\n",
    "plt.xlabel('Zeespiegel (mm t.o.v. 1993–2008 gemiddelde)')\n",
    "plt.ylabel('Totaal aantal doden')\n",
    "plt.grid(True)\n",
    "plt.tight_layout()\n",
    "plt.show()"
   ]
  },
  {
   "cell_type": "markdown",
   "id": "67346ed1-9204-4a1a-8505-292fec8ef019",
   "metadata": {},
   "source": [
    "De grafiek geeft weer hoe erg het aantal doden door tsunamis en de ontwikkeling ervan over jaren zich verhoudt tot de stijging van de zeespiegel. zelfs bij hele hoge waarden is een bijna stabiele hoeveelheid telkens te zien van het aantal doden met de toename van de zeespiegel."
   ]
  },
  {
   "cell_type": "markdown",
   "id": "268afb89-ca9a-4a43-817c-d537daf4a782",
   "metadata": {},
   "source": [
    "## Bewijs 3)Tsunami’s ontstaan vooral in specifieke aardbevingzones - niet in regios met hoogste zeespiegelstijging."
   ]
  },
  {
   "cell_type": "code",
   "execution_count": 12,
   "id": "27e422b2-26d5-4af4-8279-3382f8f5174c",
   "metadata": {},
   "outputs": [
    {
     "name": "stdout",
     "output_type": "stream",
     "text": [
      "Index(['year', 'date', 'mmfrom1993-2008average'], dtype='object')\n"
     ]
    },
    {
     "data": {
      "image/png": "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",
      "text/plain": [
       "<Figure size 1000x500 with 1 Axes>"
      ]
     },
     "metadata": {},
     "output_type": "display_data"
    }
   ],
   "source": [
    "tsunami_counts = tsunamis.groupby('Year').size().reset_index(name='Tsunami Count')\n",
    "\n",
    "print(sea_level.columns)\n",
    "\n",
    "combined = pd.merge(tsunami_counts, sea_level, left_on='Year', right_on='year', how='inner')\n",
    "\n",
    "import matplotlib.pyplot as plt\n",
    "\n",
    "plt.figure(figsize=(10, 5))\n",
    "plt.scatter(combined['mmfrom1993-2008average'], combined['Tsunami Count'], alpha=0.6, color='darkblue')\n",
    "plt.title('Zeespiegel vs. aantal tsunami’s per jaar')\n",
    "plt.xlabel('Zeespiegel (mm t.o.v. 1993–2008 gemiddelde)')\n",
    "plt.ylabel('Aantal tsunami’s')\n",
    "plt.grid(True)\n",
    "plt.tight_layout()\n",
    "plt.show()"
   ]
  },
  {
   "cell_type": "markdown",
   "id": "79108308-8f19-434c-b180-063dc3f04b54",
   "metadata": {},
   "source": [
    "De grafiek hierboven laat het aantal tsunamis met de zeespiegel zien er is te zien dat de ontwikkeling van de hoeveelheid tsunamis niet drastisch verandert om een oorzakelijk verband te kunnen vinden eventueel."
   ]
  },
  {
   "cell_type": "code",
   "execution_count": null,
   "id": "9f02e4d5-8392-4178-a83b-a4352d9421f4",
   "metadata": {},
   "outputs": [],
   "source": []
  }
 ],
 "metadata": {
  "kernelspec": {
   "display_name": "Python 3 (ipykernel)",
   "language": "python",
   "name": "python3"
  },
  "language_info": {
   "codemirror_mode": {
    "name": "ipython",
    "version": 3
   },
   "file_extension": ".py",
   "mimetype": "text/x-python",
   "name": "python",
   "nbconvert_exporter": "python",
   "pygments_lexer": "ipython3",
<<<<<<< HEAD
   "version": "3.10.16"
=======
   "version": "3.9.13"
>>>>>>> 01780f92e57fec73a6ab66ad55bfa65288238e82
  }
 },
 "nbformat": 4,
 "nbformat_minor": 5
}
