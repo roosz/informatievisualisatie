{
 "cells": [
  {
   "cell_type": "markdown",
   "id": "fbffff9b-d6c3-4fac-a64f-6782d854b09d",
   "metadata": {},
   "source": [
    "# Datastory!"
   ]
  },
  {
   "cell_type": "code",
   "execution_count": 2,
   "id": "30a3568e-1e6f-4e65-b1ff-7923f758fa21",
   "metadata": {},
   "outputs": [
    {
     "data": {
      "text/html": [
       "        <script type=\"text/javascript\">\n",
       "        window.PlotlyConfig = {MathJaxConfig: 'local'};\n",
       "        if (window.MathJax && window.MathJax.Hub && window.MathJax.Hub.Config) {window.MathJax.Hub.Config({SVG: {font: \"STIX-Web\"}});}\n",
       "        if (typeof require !== 'undefined') {\n",
       "        require.undef(\"plotly\");\n",
       "        requirejs.config({\n",
       "            paths: {\n",
       "                'plotly': ['https://cdn.plot.ly/plotly-2.32.0.min']\n",
       "            }\n",
       "        });\n",
       "        require(['plotly'], function(Plotly) {\n",
       "            window._Plotly = Plotly;\n",
       "        });\n",
       "        }\n",
       "        </script>\n",
       "        "
      ]
     },
     "metadata": {},
     "output_type": "display_data"
    }
   ],
   "source": [
    "import plotly.graph_objs as go\n",
    "import plotly.express as px\n",
    "import pandas as pd\n",
    "\n",
    "from plotly.offline import init_notebook_mode\n",
    "init_notebook_mode(connected=True)\n",
    "#jskfjklsd\n",
    "\n"
   ]
  },
  {
   "cell_type": "code",
   "execution_count": 3,
   "id": "482c9b8c-21b5-4d78-be31-3373ea763c73",
   "metadata": {},
   "outputs": [],
   "source": [
    "import pandas as pd\n",
    "sea_df = pd.read_csv('Global_sea_level_rise.csv')\n",
    "dist_df = pd.read_csv('1900_2021_DISASTERS.xlsx - emdat data.csv')\n",
    "\n",
    "tsunami_df = dist_df[dist_df['Disaster Subtype'].str.lower() == 'tsunami'].copy()\n",
    "flood_df = dist_df[dist_df['Disaster Subtype'].str.lower() == 'flood'].copy()\n",
    "\n",
    "tsunami_df.columns = tsunami_df.columns.str.strip()\n",
    "flood_df.columns = flood_df.columns.str.strip()\n",
    "sea_df.rename(columns={'year': 'Year'}, inplace=True)\n",
    "\n",
    "#subsets om samen te voegen\n",
    "tsunami_subset = tsunami_df[['Year', 'Disaster Subtype', 'Country', 'Region', 'Continent', 'Origin', 'River Basin',\n",
    "                             'Total Deaths', 'Total Affected', \"Total Damages ('000 US$)\", 'Latitude', 'Longitude', 'Location']]\n",
    "\n",
    "flood_subset = flood_df[['Year', 'Disaster Subtype', 'Country', 'Region', 'Continent', 'Origin', 'River Basin',\n",
    "                         'Total Deaths', 'Total Affected', \"Total Damages ('000 US$)\", 'Latitude', 'Longitude', 'Location']]\n",
    "\n",
    "#eerste twee samen voegen\n",
    "disaster_df = pd.concat([tsunami_subset, flood_subset], ignore_index=True)\n",
    "\n",
    "#laatste samenvoegen\n",
    "merged_df = disaster_df.merge(sea_df[['Year', 'mmfrom1993-2008average']], on='Year', how='left')\n",
    "\n",
    "#missende waardes invullen met 0\n",
    "merged_df = merged_df.fillna(0)\n",
    "\n",
    "\n"
   ]
  },
  {
   "cell_type": "markdown",
   "id": "9da1d6ec-fe06-4830-aeb7-5c04ae25eb93",
   "metadata": {},
   "source": [
    "Hieronder worden de argumenten voor het eerste perspectief uitgwerkt."
   ]
  },
  {
   "cell_type": "markdown",
   "id": "c37c6d3a-2876-4ca6-ac1a-73ccb674aaf9",
   "metadata": {},
   "source": [
    "## Tsunami’s vormen een toenemend gevaar in de toekomst omdat naar mate de zeespiegel stijgt overstromingen na een tsunami toenemen.\n",
    "In het figuur is te zien als de tijd toeneemt, neemt de zeespiegel ook toe. Maar dan nemen de effecten van de overstromingen ook toe, wat resulteert in meer doden en meer schade."
   ]
  },
  {
   "cell_type": "code",
   "execution_count": null,
   "id": "4c7771f1-e145-4214-b0e9-910aa3384398",
   "metadata": {},
   "outputs": [],
   "source": [
    "import numpy as np \n",
    "merged_df['Total Deaths'] = pd.to_numeric(merged_df['Total Deaths'], errors='coerce').fillna(0)\n",
    "merged_df['Total Affected'] = pd.to_numeric(merged_df['Total Affected'], errors='coerce').fillna(0)\n",
    "merged_df[\"Total Damages ('000 US$)\"] = pd.to_numeric(merged_df[\"Total Damages ('000 US$)\"], errors='coerce').fillna(0)\n",
    "\n",
    "merged_df['Impact_Score'] = merged_df[['Total Deaths', 'Total Affected', \"Total Damages ('000 US$)\"]].max(axis=1)\n",
    "\n",
    "merged_df = merged_df[(merged_df['Latitude'] != 0) & (merged_df['Longitude'] != 0)]\n",
    "\n",
    "filtered_df = merged_df[merged_df['Impact_Score'] > 0].copy()\n",
    "\n",
    "filtered_df['Impact_Score_Log'] = filtered_df['Impact_Score'].apply(lambda x: np.log10(x + 1))\n",
    "\n",
    "fig = px.scatter_geo(\n",
    "    filtered_df,\n",
    "     lat='Latitude',\n",
    "    lon='Longitude',\n",
    "    color='mmfrom1993-2008average',\n",
    "    size='Impact_Score_Log',\n",
    "    size_max=40,\n",
    "    hover_name='Country',\n",
    "    hover_data={\n",
    "        'Year': True,\n",
    "        'Impact_Score': True,\n",
    "        'Total Deaths': True,\n",
    "        'Total Affected': True,\n",
    "        \"Total Damages ('000 US$)\": True,\n",
    "        'mmfrom1993-2008average': ':.2f'\n",
    "    },\n",
    "    animation_frame='Year',\n",
    "    projection='natural earth',\n",
    "    color_continuous_scale='Viridis',\n",
    "    title='Overstromingen en tsunami\\'s met zeespiegelstijging en impact (log schaal)'\n",
    ")\n",
    "\n",
    "fig.update_layout(height=700)\n",
    "\n",
    "fig.show()"
   ]
  },
  {
   "cell_type": "markdown",
   "id": "5eb48ffa-6886-4668-82cb-f11ab1b83c85",
   "metadata": {},
   "source": [
    "## Tsunami’s vormen een toenemend gevaar in de toekomst omdat naar mate de zeespiegel stijgt kosten van damages en total deaths toenemen na een tsunami."
   ]
  },
  {
   "cell_type": "markdown",
   "id": "9acf6b57-f6ad-4b13-9712-631cb2c0d273",
   "metadata": {},
   "source": [
    "Onze verwachting van dit argument was eigenlijk dat naar mate de zeespiegel stijgt de kosten van schade ook toegenomen zouden zijn. Wat we helaas niet verwachtte is dat de dataset hierover beperkte informaite bevatte. Er zijn drie verschillende plots gemaakt (die op elkaar een vallen) die de zeespiegelstijging, tsunami's en kosten van de schade van deze tsunami's visueel weergeven. Er zijn slechts 2 datapunten in de dataset in deze kolom, waarschijnlijk omdat landen dit niet hebben genoteerd of omdat de informatie niet bereikbaar was. Wat wel opvallend is om te zien dat de totaal aantal doden een enorme stijging heeft in 2004. Dit is het jaar waar een tsunami op 26 december 2004 de kust van Thailand trof, wat resulteerde in meer dan tweehonderd duizend doden. Ook is te zien als er naar aantal doden per jaar wordt gekeken dat wel toeneemt. Dit kan komen doordat de zeespiegelstijging ervoor zorgt dat er meer volume is waarmee een tsunami schade kan doen. Hieronder is dit te zien."
   ]
  },
  {
   "cell_type": "code",
   "execution_count": null,
   "id": "de009fa3-5a1b-4a2e-944b-ca85312fb850",
   "metadata": {},
   "outputs": [],
   "source": [
    "import plotly.graph_objects as go\n",
    "\n",
    "merged_df['Year'] = merged_df['Year'].astype(int)\n",
    "df = merged_df[merged_df['Region'].str.contains('Asia|Oceania', case=False, na=False)]\n",
    "\n",
    "yearly_deaths = df.groupby('Year')['Total Deaths'].sum()\n",
    "yearly_damages = df.groupby('Year')[\"Total Damages ('000 US$)\"].sum()\n",
    "yearly_sealevel = df.groupby('Year')['mmfrom1993-2008average'].mean()\n",
    "\n",
    "# Pas alleen Total Damages van 2011 aan:\n",
    "yearly_damages.loc[2011] = 10_800_000  # 10.8 miljoen\n",
    "\n",
    "fig = go.Figure()\n",
    "\n",
    "fig.add_trace(go.Scatter(\n",
    "    x=yearly_deaths.index,\n",
    "    y=yearly_deaths.values,\n",
    "    mode='lines+markers',\n",
    "    name='Total Deaths',\n",
    "    line=dict(color='red')\n",
    "))\n",
    "\n",
    "fig.add_trace(go.Scatter(\n",
    "    x=yearly_damages.index,\n",
    "    y=yearly_damages.values,\n",
    "    mode='lines+markers',\n",
    "    name=\"Total Damages ('000 US$)\",\n",
    "    line=dict(color='orange')\n",
    "))\n",
    "\n",
    "fig.add_trace(go.Scatter(\n",
    "    x=yearly_sealevel.index,\n",
    "    y=yearly_sealevel.values,\n",
    "    mode='lines+markers',\n",
    "    name='Sea Level Rise (mm)',\n",
    "    line=dict(color='royalblue')\n",
    "))\n",
    "\n",
    "fig.update_layout(\n",
    "    title=\"Tsunamis in Azië en Oceanië: Totale Doden, Schade en Zeespiegelstijging per Jaar (2011 aangepast)\",\n",
    "    xaxis_title=\"Year\",\n",
    "    yaxis_title=\"Value\",\n",
    "    height=600\n",
    ")\n",
    "\n",
    "fig.show()\n"
   ]
  },
  {
   "cell_type": "code",
   "execution_count": null,
   "id": "f6a76446-21cf-43a3-9c65-8d2d9c4922c9",
   "metadata": {},
   "outputs": [],
   "source": [
    "import plotly.graph_objects as go\n",
    "from plotly.subplots import make_subplots\n",
    "\n",
    "# Zorg dat merged_df al geladen is en 'Year' int is\n",
    "merged_df['Year'] = merged_df['Year'].astype(int)\n",
    "\n",
    "# Filter regio Azië en Oceanië via Region\n",
    "df = merged_df[merged_df['Region'].str.contains('Asia|Oceania', case=False, na=False)]\n",
    "\n",
    "years = sorted(df['Year'].unique())\n",
    "\n",
    "# Berekeningen per jaar\n",
    "sea_level_avg = df.groupby('Year')['mmfrom1993-2008average'].mean().reset_index()\n",
    "deaths_per_year = df.groupby('Year')['Total Deaths'].sum().reset_index()\n",
    "damages_per_year = df.groupby('Year')[\"Total Damages ('000 US$)\"].sum().reset_index()\n",
    "\n",
    "# Maak subplots: 3 rijen, 1 kolom, alle lijnen\n",
    "fig = make_subplots(\n",
    "    rows=3, cols=1,\n",
    "    shared_xaxes=True,\n",
    "    vertical_spacing=0.1,\n",
    "    subplot_titles=(\"Total Damages ('000 US$)\", \"Total Deaths\", \"Sea Level Rise (mm)\")\n",
    ")\n",
    "\n",
    "# Voeg lijn diagram voor Total Damages\n",
    "fig.add_trace(\n",
    "    go.Scatter(\n",
    "        x=damages_per_year['Year'],\n",
    "        y=damages_per_year[\"Total Damages ('000 US$)\"],\n",
    "        mode='lines+markers',\n",
    "        name='Total Damages',\n",
    "        line=dict(color='orange')\n",
    "    ),\n",
    "    row=1, col=1\n",
    ")\n",
    "\n",
    "# Voeg lijn diagram voor Total Deaths\n",
    "fig.add_trace(\n",
    "    go.Scatter(\n",
    "        x=deaths_per_year['Year'],\n",
    "        y=deaths_per_year['Total Deaths'],\n",
    "        mode='lines+markers',\n",
    "        name='Total Deaths',\n",
    "        line=dict(color='red')\n",
    "    ),\n",
    "    row=2, col=1\n",
    ")\n",
    "\n",
    "# Voeg lijn diagram voor Sea Level Rise\n",
    "fig.add_trace(\n",
    "    go.Scatter(\n",
    "        x=sea_level_avg['Year'],\n",
    "        y=sea_level_avg['mmfrom1993-2008average'],\n",
    "        mode='lines+markers',\n",
    "        name='Sea Level Rise',\n",
    "        line=dict(color='royalblue')\n",
    "    ),\n",
    "    row=3, col=1\n",
    ")\n",
    "\n",
    "fig.update_layout(\n",
    "    height=800,\n",
    "    title_text=\"Tsunamis in Azië en Oceanië: Schade, Doden en Zeespiegelstijging per Jaar\",\n",
    "    showlegend=False\n",
    ")\n",
    "\n",
    "fig.update_xaxes(title_text=\"Year\", row=3, col=1)\n",
    "fig.update_yaxes(title_text=\"Damages ('000 US$)\", row=1, col=1)\n",
    "fig.update_yaxes(title_text=\"Total Deaths\", row=2, col=1)\n",
    "fig.update_yaxes(title_text=\"Sea Level Rise (mm)\", row=3, col=1)\n",
    "\n",
    "fig.show()\n"
   ]
  },
  {
   "cell_type": "code",
   "execution_count": null,
   "id": "82e8c148-9ced-4cdc-9264-1c93cc3d4b22",
   "metadata": {},
   "outputs": [],
   "source": [
    "df = merged_df[merged_df['Region'].str.contains('Asia|Oceania', case=False, na=False)].copy()\n",
    "\n",
    "# Zet NaN damages op 0 zodat ze ook getoond worden, maar kleiner\n",
    "df[\"Total Damages ('000 US$)\"] = df[\"Total Damages ('000 US$)\"].fillna(0)\n",
    "\n",
    "# Eventueel filteren op geldige lat/lon\n",
    "df = df.dropna(subset=['Latitude', 'Longitude'])\n",
    "\n",
    "fig = px.scatter_geo(\n",
    "    df,\n",
    "    lat='Latitude',\n",
    "    lon='Longitude',\n",
    "    hover_name='Location',\n",
    "    hover_data={\n",
    "        'Year': True,\n",
    "        \"Total Damages ('000 US$)\": ':.2f',\n",
    "        'Total Deaths': True\n",
    "    },\n",
    "    size=\"Total Damages ('000 US$)\",\n",
    "    size_max=30,\n",
    "    color=\"Total Damages ('000 US$)\",\n",
    "    color_continuous_scale='OrRd',\n",
    "    projection='natural earth',\n",
    "    title=\"Locaties van Tsunamis in Azië en Oceanië met Total Damages\"\n",
    ")\n",
    "\n",
    "fig.update_geos(\n",
    "    showcountries=True,\n",
    "    countrycolor=\"LightGray\",\n",
    "    showcoastlines=True,\n",
    "    coastlinecolor=\"Gray\",\n",
    "    lataxis_range=[-50, 50],\n",
    "    lonaxis_range=[60, 180],\n",
    ")\n",
    "\n",
    "fig.update_layout(height=600, margin={\"r\":0,\"t\":40,\"l\":0,\"b\":0})\n",
    "\n",
    "fig.show()\n"
   ]
  },
  {
   "cell_type": "markdown",
   "id": "109fdd28-7d46-4ca9-bc6e-0e0394748499",
   "metadata": {},
   "source": [
    "Nu de argumenten voor het tweede perspectief"
   ]
  },
  {
   "cell_type": "markdown",
   "id": "fabd7e8d-8ea7-448b-be55-3085dfe7c2f1",
   "metadata": {},
   "source": [
    "##  De hoeveelheid van tsunami’s is niet/minder evenredig toegenomen naar mate de zeespiegel stijgt. \n",
    "Hieronder wordt een grafiek gemaakt die het verband tussen de zeespiegel en het aantal tsunami's laat zien. "
   ]
  },
  {
   "cell_type": "code",
   "execution_count": null,
   "id": "21392489-99c3-4417-b634-f006691b95e1",
   "metadata": {},
   "outputs": [],
   "source": [
    "import matplotlib.pyplot as plt\n",
    "\n",
    "import pandas as pd\n",
    "\n",
    "disasters = pd.read_csv('1900_2021_DISASTERS.xlsx - emdat data.csv')\n",
    "sea_level = pd.read_csv('Global_sea_level_rise.csv')\n",
    "\n",
    "tsunamis = disasters[disasters['Disaster Subtype'].isin(['Tsunami', 'Tsunami/Tidal wave'])]\n",
    "\n",
    "\n",
    "tsunami_counts = tsunamis.groupby('Year').size().reset_index(name='Tsunami Count')\n",
    "\n",
    "combined = pd.merge(tsunami_counts, sea_level, left_on='Year', right_on='year', how='inner')\n",
    "import matplotlib.pyplot as plt\n",
    "\n",
    "plt.figure(figsize=(10, 5))\n",
    "plt.scatter(combined['mmfrom1993-2008average'], combined['Tsunami Count'], alpha=0.6, color='darkblue')\n",
    "plt.title('Zeespiegel vs. aantal tsunami’s per jaar')\n",
    "plt.xlabel('Zeespiegel (mm t.o.v. 1993–2008 gemiddelde)')\n",
    "plt.ylabel('Aantal tsunami’s')\n",
    "plt.grid(True)\n",
    "plt.tight_layout()\n",
    "plt.show()"
   ]
  },
  {
   "cell_type": "code",
   "execution_count": null,
   "id": "bd0b0de5-dacb-48f7-8db6-e9053491f62f",
   "metadata": {},
   "outputs": [],
   "source": [
    "correlation = combined['Tsunami Count'].corr(combined['mmfrom1993-2008average'])\n",
    "(f'Correlatiecoëfficiënt: {correlation:.2f}')"
   ]
  },
  {
   "cell_type": "markdown",
   "id": "142c499f-7e8e-4c2a-9ed7-4fa2414aa4bd",
   "metadata": {},
   "source": [
    "Er is een erg zwakke correlatie ontdekt (r = 0.17) tussen de zeespiegelstijging en het aantal tsunami’s per jaar. Dit betekent dat de stijgende zeespiegel niet direct samenhangt met een toename van het aantal tsunami’s, en dus vooral bepaald blijft door geologische factoren.\n"
   ]
  },
  {
   "cell_type": "markdown",
   "id": "b739bc1c-9cf5-47d0-b9ae-8367a197f9db",
   "metadata": {},
   "source": [
    "## De zeespiegelstijging versterkt het effect van de tsunami maar veroorzaakt het niet.\n",
    "Hieronder worden twee grafieken gemaakt, de eerste laat de zeespiegel vs. aantal doden door tsunami's zien, en de tweede laat de zeespiegel vs. het aantal tsunami's per jaar zien. Vervolgens wordt hieruit geanalyseerd of de stijgende zeespiegel het effect van de tsunami verorzaakt of versterkt. "
   ]
  },
  {
   "cell_type": "code",
   "execution_count": null,
   "id": "7d09be82-984f-4ac6-9432-a78bfa6e6034",
   "metadata": {},
   "outputs": [],
   "source": [
    "import matplotlib.pyplot as plt\n",
    "import pandas as pd\n",
    "\n",
    "disasters = pd.read_csv('1900_2021_DISASTERS.xlsx - emdat data.csv')\n",
    "sea_level = pd.read_csv('Global_sea_level_rise.csv')\n",
    "\n",
    "tsunamis = disasters[disasters['Disaster Subtype'].isin(['Tsunami', 'Tsunami/Tidal wave'])]\n",
    "\n",
    "tsunami_deaths = tsunamis.groupby('Year')['Total Deaths'].sum().reset_index()\n",
    "\n",
    "combined = pd.merge(tsunami_deaths, sea_level, left_on='Year', right_on='year', how='inner')\n",
    "\n",
    "plt.figure(figsize=(10, 5))\n",
    "plt.scatter(combined['mmfrom1993-2008average'], combined['Total Deaths'], alpha=0.7, color='firebrick')\n",
    "\n",
    "plt.title('Zeespiegel vs. aantal doden door tsunami’s')\n",
    "plt.xlabel('Zeespiegel (mm t.o.v. 1993–2008 gemiddelde)')\n",
    "plt.ylabel('Totaal aantal doden per jaar')\n",
    "plt.grid(True)\n",
    "plt.tight_layout()\n",
    "plt.show()\n"
   ]
  },
  {
   "cell_type": "code",
   "execution_count": null,
   "id": "cdc4843d-a317-4d6b-a878-59cf970daf33",
   "metadata": {},
   "outputs": [],
   "source": [
    "import matplotlib.pyplot as plt\n",
    "import pandas as pd\n",
    "\n",
    "disasters = pd.read_csv('1900_2021_DISASTERS.xlsx - emdat data.csv')\n",
    "sea_level = pd.read_csv('Global_sea_level_rise.csv')\n",
    "\n",
    "tsunamis = disasters[disasters['Disaster Subtype'].isin(['Tsunami', 'Tsunami/Tidal wave'])]\n",
    "\n",
    "tsunami_counts = tsunamis.groupby('Year').size().reset_index(name='Aantal Tsunamis')\n",
    "\n",
    "combined_counts = pd.merge(tsunami_counts, sea_level, left_on='Year', right_on='year', how='inner')\n",
    "\n",
    "plt.figure(figsize=(10, 5))\n",
    "plt.scatter(combined_counts['mmfrom1993-2008average'], combined_counts['Aantal Tsunamis'], alpha=0.6, color='darkblue')\n",
    "plt.title('Zeespiegel vs. Aantal tsunami’s per jaar')\n",
    "plt.xlabel('Zeespiegel (mm t.o.v. 1993–2008 gemiddelde)')\n",
    "plt.ylabel('Aantal tsunami’s')\n",
    "plt.grid(True)\n",
    "plt.tight_layout()\n",
    "plt.show()\n"
   ]
  },
  {
   "cell_type": "markdown",
   "id": "2b1121d8-0e98-4713-b7a3-7904c6589a3a",
   "metadata": {},
   "source": [
    "De grafieken tonen aan dat de zeespiegelstijging niet leidt tot meer tsunami’s, maar wel dat het effect ervan verergert. Bij een hogere zeespiegel zie je namelijk meer doden, maar niet meer tsunami's relatief gezien."
   ]
  },
  {
   "cell_type": "markdown",
   "id": "486f0ad0-fda5-4c03-bdcf-887d9f824c50",
   "metadata": {},
   "source": [
    "##  Tsunami’s ontstaan vooral in specifieke aardbevingzones - niet in regios met hoogste zeespiegelstijging.\n"
   ]
  },
  {
   "cell_type": "code",
   "execution_count": null,
   "id": "7f528579-c86d-44b1-85e9-a9c3b2112bd6",
   "metadata": {},
   "outputs": [],
   "source": [
    "import pandas as pd\n",
    "import pandas as pd\n",
    "\n",
    "disasters = pd.read_csv('1900_2021_DISASTERS.xlsx - emdat data.csv')\n",
    "sea_level = pd.read_csv('Global_sea_level_rise.csv')\n",
    "\n",
    "tsunamis = disasters[disasters['Disaster Subtype'].isin(['Tsunami', 'Tsunami/Tidal wave'])]\n",
    "\n",
    "tsunami_deaths = tsunamis.groupby('Year')['Total Deaths'].sum().reset_index()\n",
    "combined = pd.merge(tsunami_deaths, sea_level, left_on='Year', right_on='year', how='inner')\n",
    "\n",
    "plt.figure(figsize=(10, 5))\n",
    "plt.scatter(combined['mmfrom1993-2008average'], combined['Total Deaths'], alpha=0.6, color='firebrick')\n",
    "plt.title('Zeespiegel vs. aantal doden door tsunami’s')\n",
    "plt.xlabel('Zeespiegel (mm t.o.v. 1993–2008 gemiddelde)')\n",
    "plt.ylabel('Totaal aantal doden')\n",
    "plt.grid(True)\n",
    "plt.tight_layout()\n",
    "plt.show()"
   ]
  },
  {
   "cell_type": "markdown",
   "id": "67346ed1-9204-4a1a-8505-292fec8ef019",
   "metadata": {},
   "source": [
    "De grafiek geeft weer hoe erg het aantal doden door tsunamis en de ontwikkeling ervan over jaren zich verhoudt tot de stijging van de zeespiegel. zelfs bij hele hoge waarden is een bijna stabiele hoeveelheid telkens te zien van het aantal doden met de toename van de zeespiegel."
   ]
  },
  {
   "cell_type": "markdown",
   "id": "268afb89-ca9a-4a43-817c-d537daf4a782",
   "metadata": {},
   "source": [
    "## Bewijs 3)Tsunami’s ontstaan vooral in specifieke aardbevingzones - niet in regios met hoogste zeespiegelstijging."
   ]
  },
  {
   "cell_type": "code",
   "execution_count": null,
   "id": "27e422b2-26d5-4af4-8279-3382f8f5174c",
   "metadata": {},
   "outputs": [],
   "source": [
    "tsunami_counts = tsunamis.groupby('Year').size().reset_index(name='Tsunami Count')\n",
    "\n",
    "print(sea_level.columns)\n",
    "\n",
    "combined = pd.merge(tsunami_counts, sea_level, left_on='Year', right_on='year', how='inner')\n",
    "\n",
    "import matplotlib.pyplot as plt\n",
    "\n",
    "plt.figure(figsize=(10, 5))\n",
    "plt.scatter(combined['mmfrom1993-2008average'], combined['Tsunami Count'], alpha=0.6, color='darkblue')\n",
    "plt.title('Zeespiegel vs. aantal tsunami’s per jaar')\n",
    "plt.xlabel('Zeespiegel (mm t.o.v. 1993–2008 gemiddelde)')\n",
    "plt.ylabel('Aantal tsunami’s')\n",
    "plt.grid(True)\n",
    "plt.tight_layout()\n",
    "plt.show()"
   ]
  },
  {
   "cell_type": "markdown",
   "id": "79108308-8f19-434c-b180-063dc3f04b54",
   "metadata": {},
   "source": [
    "De grafiek hierboven laat het aantal tsunamis met de zeespiegel zien er is te zien dat de ontwikkeling van de hoeveelheid tsunamis niet drastisch verandert om een oorzakelijk verband te kunnen vinden eventueel."
   ]
  },
  {
   "cell_type": "code",
   "execution_count": null,
   "id": "9f02e4d5-8392-4178-a83b-a4352d9421f4",
   "metadata": {},
   "outputs": [],
   "source": []
  }
 ],
 "metadata": {
  "kernelspec": {
   "display_name": "Python 3 (ipykernel)",
   "language": "python",
   "name": "python3"
  },
  "language_info": {
   "codemirror_mode": {
    "name": "ipython",
    "version": 3
   },
   "file_extension": ".py",
   "mimetype": "text/x-python",
   "name": "python",
   "nbconvert_exporter": "python",
   "pygments_lexer": "ipython3",
   "version": "3.12.4"
  }
 },
 "nbformat": 4,
 "nbformat_minor": 5
}
