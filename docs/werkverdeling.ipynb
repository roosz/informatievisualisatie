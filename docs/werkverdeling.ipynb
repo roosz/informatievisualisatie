{
 "cells": [
  {
   "cell_type": "markdown",
   "id": "8801bd8e-aa49-40ea-b328-8b426ac1b45c",
   "metadata": {},
   "source": [
    "# Werkverdeling\n",
    "\n",
    "Tijdens dit project is er voornamelijk online gecommuniceerd en zijn ook werkcolleges bijgewoond. In de eerste bijeenkomst is er besproken wat het onderwerp werd en daarbij zijn er twee bijpassende datasets gezocht. Vervolgens zijn er twee perspectieven en voor elk perspectief twee bijbehorende argumenten, Roos en Nina deden samen perspectief 1 en Gudur en Lindy samen perspectief 2. Na deze keuze werd een start gemaakt aan het opschonen en combineren van de datasets tot één volledige dataset. Voor details hierover wordt verwezen naar het onderdeel Dataset en preprocessing. Vervolgens werd besproken welke grafieken het meest geschikt zouden zijn om de gekozen perspectieven te visualiseren. Op basis daarvan zijn de eerste visualisaties ontwikkeld en is gewerkt aan een verhaalstructuur waarin de grafieken logisch werden ingebed – dit resulteerde in een eerste conceptversie. De resterende tijd werd benut om zowel de visualisaties als het verhaal verder te verfijnen. Met behulp van ontvangen peer feedback is uiteindelijk het definitieve dataverhaal afgerond.\n",
    "\n",
    "## Gudur\n",
    "Gudur creëerde het plot over de totale tsunami-impact per regio en het tsunami locaties wereldwijd (1900-2021) en het impact plot. Ook nam hij de tekst van het argument ‘Wereldwijde verspreiding van tsunami’s en hun impact’ op zich en heeft hij geholpen bij het stuk 'Werkverdeling'.\n",
    "\n",
    "## Lindy\n",
    "Lindy nam het eerste argument van perspectief twee op zich, zij creëerde het plot zeespiegel vs aantal doden door tsunami’s en zeespiegel vs economische schade plot. Ook nam zij de tekst bij het argument ‘de zwaarste tsunami’s worden niet veroorzaakt door de zeespiegel’ op zich en schreef zij de reflectie en de samenvatting\n",
    "\n",
    "## Nina\n",
    "Nina creëerde het plot gemiddelde impact score en zeespiegel afwijking per jaar wat bij het eerste perspectief hoorde. Ook schreef ze hierbij de tekst. Verder verzorgde Nina voor het lopende verhaal, tussenstukjes en de opmaak, waar ook het schrijven van de introductie en het schrijven van de inleiding bij hoorde.\n",
    "\n",
    "## Roos\n",
    "Roos creëerde het plot tsunami schade en zeespiegel per jaar, het plot gemiddelde tsunami schade en zeespiegel per jaar en het plot effect van zeespiegel stijging op slachtoffers en verwoesten huizen die bij het eerste perspectief hoorde. Ook schreef zij hierbij de tekst. Verder schreef Roos het deel over Data en reprocessing en zorgde ze ervoor dat alles netjes via Github in de html versie stond."
   ]
  },
  {
   "cell_type": "code",
   "execution_count": null,
   "id": "1f210108-4f8c-43a3-b0a6-901f5d08f7b6",
   "metadata": {},
   "outputs": [],
   "source": []
  }
 ],
 "metadata": {
  "kernelspec": {
   "display_name": "Python 3 (ipykernel)",
   "language": "python",
   "name": "python3"
  },
  "language_info": {
   "codemirror_mode": {
    "name": "ipython",
    "version": 3
   },
   "file_extension": ".py",
   "mimetype": "text/x-python",
   "name": "python",
   "nbconvert_exporter": "python",
   "pygments_lexer": "ipython3",
   "version": "3.10.16"
  }
 },
 "nbformat": 4,
 "nbformat_minor": 5
}
