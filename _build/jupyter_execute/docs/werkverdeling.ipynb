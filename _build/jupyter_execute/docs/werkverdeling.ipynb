{
 "cells": [
  {
   "cell_type": "markdown",
   "id": "8801bd8e-aa49-40ea-b328-8b426ac1b45c",
   "metadata": {},
   "source": [
    "# Werkverdeling\n",
    "Work distribution:\n",
    "\n",
    "\n",
    "Tijdens dit project hebben we gecommuniceerd via werkcolleges, gezamenlijke overleggen en aanvullende afstemming via tekst. In de eerste bijeenkomst bracht ieder groepslid een eigen dataset in, voorzien van minstens twee verschillende perspectieven. Op basis daarvan maakten we gezamenlijk een keuze voor het onderwerp en de dataset die het beste aansloot bij de projectdoelen.\n",
    "Na deze keuze begonnen we met het opschonen en combineren van de jaardatasets tot één volledige dataset. Voor details hierover verwijzen we naar Dataset en preprocessing.\n",
    "Vervolgens bespraken we welke grafieken geschikt zouden zijn om de gekozen perspectieven te visualiseren. Op basis daarvan ontwikkelden we de eerste visualisaties en werkten we aan een verhaalstructuur waarin de grafieken logisch werden ingebed – dit resulteerde in onze eerste conceptversie.\n",
    "De resterende tijd hebben we benut om zowel de visualisaties als het verhaal verder te verfijnen. Met behulp van de ontvangen peerfeedback hebben we uiteindelijk het definitieve dataverhaal afgerond.\n",
    "\n",
    "Gudur: heeft geholpen met het bedenken van onderwerp en perspectieven en verder ook een deel van de grafieken en/of wereldkaarten ontwikkeld en beschreven.\n",
    "\n",
    "Roos:\n",
    "\n",
    "Nina:\n",
    "\n",
    "Lindy:"
   ]
  },
  {
   "cell_type": "code",
   "execution_count": null,
   "id": "1f210108-4f8c-43a3-b0a6-901f5d08f7b6",
   "metadata": {},
   "outputs": [],
   "source": []
  }
 ],
 "metadata": {
  "kernelspec": {
   "display_name": "Python 3 (ipykernel)",
   "language": "python",
   "name": "python3"
  },
  "language_info": {
   "codemirror_mode": {
    "name": "ipython",
    "version": 3
   },
   "file_extension": ".py",
   "mimetype": "text/x-python",
   "name": "python",
   "nbconvert_exporter": "python",
   "pygments_lexer": "ipython3",
   "version": "3.10.16"
  }
 },
 "nbformat": 4,
 "nbformat_minor": 5
}