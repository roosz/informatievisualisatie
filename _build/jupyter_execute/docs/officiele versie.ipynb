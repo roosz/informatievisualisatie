{
 "cells": [
  {
   "cell_type": "markdown",
   "id": "fbffff9b-d6c3-4fac-a64f-6782d854b09d",
   "metadata": {},
   "source": [
    "# Inleiding"
   ]
  },
  {
   "cell_type": "markdown",
   "id": "35e957f9-25a3-4550-b31d-48d04953af66",
   "metadata": {},
   "source": [
    "Tsunami's zijn indrukwekkende en verwoestende natuurverschijnselen die in een paar minuten hele kustgebieden kunnen veranderen in rampgebieden. Ze onstaan meestal diep onder de oceaanbodem door krachtige aardbevingen of trillingen. De verwoestende kracht van tsunami's heeft in het verleden al geleid tot grote natuurrampen, zoals in Japan (2011) en Indonesië (2004). <br>\n",
    "Tegelijkertijd staat onze planeet voor een ander groot probleem: de zeespiegel stijgt als gevolg van klimaatverandering. Smeltende ijskappen en opwarmende oceanen zorgen ervoor dat het waterniveau wereldwijd toeneemt. Maar wat betekent dit voor de dreiging van tsunami's? Worden ze hierdoor gevaarlijker, of heeft de zeespiegel hier juist weinig invloed op? <br>\n",
    "In deze data story wordt er onderzoekt hoe de stijgende zeespiegel mogelijk invloed heeft op de impact van tsnuami's. Aan de hand van gegevens over historische tsunami's, en gemeten gevolgen hiervan, en zeespiegelmetingen worden er twee perspectieven bekeken:\n",
    "1. De stijgende zeespiegel versterkt de gevolgen van toekomstige tsunami's, vooral in laaggelegen kustgebieden.\n",
    "2. De impact van tsunami's wordt vooral bepaald door geologische factoren zoals aardbevingskracht en locatie, en niet zozeer door de zeespiegel. <br>\n",
    "\n",
    "Door deze invalshoeken te combineren met data-analse wordt er geprobeerd om te begrijpen hoe groot het risico van tsunami's wordt in de toekomst, en of we ons zorgen moeten maken over een nieuwe, klimaatgedreven dreiging."
   ]
  },
  {
   "cell_type": "code",
   "execution_count": 1,
   "id": "30a3568e-1e6f-4e65-b1ff-7923f758fa21",
   "metadata": {},
   "outputs": [
    {
     "data": {
      "text/html": [
       "        <script type=\"text/javascript\">\n",
       "        window.PlotlyConfig = {MathJaxConfig: 'local'};\n",
       "        if (window.MathJax && window.MathJax.Hub && window.MathJax.Hub.Config) {window.MathJax.Hub.Config({SVG: {font: \"STIX-Web\"}});}\n",
       "        </script>\n",
       "        <script type=\"module\">import \"https://cdn.plot.ly/plotly-3.0.1.min\"</script>\n",
       "        "
      ]
     },
     "metadata": {},
     "output_type": "display_data"
    }
   ],
   "source": [
    "import plotly.graph_objs as go\n",
    "import plotly.express as px\n",
    "import pandas as pd\n",
    "\n",
    "from plotly.offline import init_notebook_mode\n",
    "init_notebook_mode(connected=True)\n",
    "#jskfjklsd\n",
    "\n"
   ]
  },
  {
   "cell_type": "code",
   "execution_count": 2,
   "id": "482c9b8c-21b5-4d78-be31-3373ea763c73",
   "metadata": {},
   "outputs": [],
   "source": [
    "import pandas as pd\n",
    "sea_df = pd.read_csv('Global_sea_level_rise.csv')\n",
    "dist_df = pd.read_csv('1900_2021_DISASTERS.xlsx - emdat data.csv')\n",
    "\n",
    "tsunami_df = dist_df[dist_df['Disaster Subtype'].str.lower() == 'tsunami'].copy()\n",
    "flood_df = dist_df[dist_df['Disaster Subtype'].str.lower() == 'flood'].copy()\n",
    "\n",
    "tsunami_df.columns = tsunami_df.columns.str.strip()\n",
    "flood_df.columns = flood_df.columns.str.strip()\n",
    "sea_df.rename(columns={'year': 'Year'}, inplace=True)\n",
    "\n",
    "#subsets om samen te voegen\n",
    "tsunami_subset = tsunami_df[['Year', 'Disaster Subtype', 'Country', 'Region', 'Continent', 'Origin', 'River Basin',\n",
    "                             'Total Deaths', 'Total Affected', \"Total Damages ('000 US$)\", 'Latitude', 'Longitude', 'Location']]\n",
    "\n",
    "flood_subset = flood_df[['Year', 'Disaster Subtype', 'Country', 'Region', 'Continent', 'Origin', 'River Basin',\n",
    "                         'Total Deaths', 'Total Affected', \"Total Damages ('000 US$)\", 'Latitude', 'Longitude', 'Location']]\n",
    "\n",
    "#eerste twee samen voegen\n",
    "disaster_df = pd.concat([tsunami_subset, flood_subset], ignore_index=True)\n",
    "\n",
    "#laatste samenvoegen\n",
    "merged_df = disaster_df.merge(sea_df[['Year', 'mmfrom1993-2008average']], on='Year', how='left')\n",
    "\n",
    "#missende waardes invullen met 0\n",
    "merged_df = merged_df.fillna(0)\n",
    "\n",
    "\n"
   ]
  },
  {
   "cell_type": "markdown",
   "id": "9da1d6ec-fe06-4830-aeb7-5c04ae25eb93",
   "metadata": {},
   "source": [
    "Hieronder worden de argumenten voor het eerste perspectief uitgwerkt."
   ]
  },
  {
   "cell_type": "markdown",
   "id": "c37c6d3a-2876-4ca6-ac1a-73ccb674aaf9",
   "metadata": {},
   "source": [
    "# Tsunami’s vormen een toenemend gevaar in de toekomst omdat naar mate de zeespiegel stijgt overstromingen na een tsunami toenemen.\n",
    "In het figuur is te zien als de tijd toeneemt, neemt de zeespiegel ook toe. Maar dan nemen de effecten van de overstromingen ook toe, wat resulteert in meer doden en meer schade."
   ]
  },
  {
   "cell_type": "code",
   "execution_count": 3,
   "id": "4c7771f1-e145-4214-b0e9-910aa3384398",
   "metadata": {},
   "outputs": [
    {
     "data": {
      "application/vnd.plotly.v1+json": {
       "config": {
        "plotlyServerURL": "https://plot.ly"
       },
       "data": [
        {
         "customdata": {
          "bdata": "AAAAAAAgnkAAAAAAAAA7QAAAAAAAADtAAAAAAAAAAAAAAAAAAAAAADvUAO8uHGDAAAAAAAAgnkAAAAAAAABgQAAAAAAAAGBAAAAAAAAAAAAAAAAAAAAAADvUAO8uHGDA",
          "dtype": "f8",
          "shape": "2, 6"
         },
         "geo": "geo",
         "hovertemplate": "<b>%{hovertext}</b><br><br>Year=%{customdata[0]}<br>Impact_Score_Log=%{marker.size}<br>Latitude=%{lat}<br>Longitude=%{lon}<br>Impact_Score=%{customdata[1]}<br>Total Deaths=%{customdata[2]}<br>Total Affected=%{customdata[3]}<br>Total Damages ('000 US$)=%{customdata[4]}<br>mmfrom1993-2008average=%{marker.color:.2f}<extra></extra>",
         "hovertext": [
          "Canada",
          "Indonesia"
         ],
         "lat": [
          "48.60 N",
          "8.30 S"
         ],
         "legendgroup": "",
         "lon": [
          "58.00 W",
          "121.70 E"
         ],
         "marker": {
          "color": {
           "bdata": "O9QA7y4cYMA71ADvLhxgwA==",
           "dtype": "f8"
          },
          "coloraxis": "coloraxis",
          "size": {
           "bdata": "HyMMLo8n9z86E6jbfOIAQA==",
           "dtype": "f8"
          },
          "sizemode": "area",
          "sizeref": 0.005201387060501242,
          "symbol": "circle"
         },
         "mode": "markers",
         "name": "",
         "showlegend": false,
         "type": "scattergeo"
        }
       ],
       "frames": [
        {
         "data": [
          {
           "customdata": {
            "bdata": "AAAAAAAgnkAAAAAAAAA7QAAAAAAAADtAAAAAAAAAAAAAAAAAAAAAADvUAO8uHGDAAAAAAAAgnkAAAAAAAABgQAAAAAAAAGBAAAAAAAAAAAAAAAAAAAAAADvUAO8uHGDA",
            "dtype": "f8",
            "shape": "2, 6"
           },
           "geo": "geo",
           "hovertemplate": "<b>%{hovertext}</b><br><br>Year=%{customdata[0]}<br>Impact_Score_Log=%{marker.size}<br>Latitude=%{lat}<br>Longitude=%{lon}<br>Impact_Score=%{customdata[1]}<br>Total Deaths=%{customdata[2]}<br>Total Affected=%{customdata[3]}<br>Total Damages ('000 US$)=%{customdata[4]}<br>mmfrom1993-2008average=%{marker.color:.2f}<extra></extra>",
           "hovertext": [
            "Canada",
            "Indonesia"
           ],
           "lat": [
            "48.60 N",
            "8.30 S"
           ],
           "legendgroup": "",
           "lon": [
            "58.00 W",
            "121.70 E"
           ],
           "marker": {
            "color": {
             "bdata": "O9QA7y4cYMA71ADvLhxgwA==",
             "dtype": "f8"
            },
            "coloraxis": "coloraxis",
            "size": {
             "bdata": "HyMMLo8n9z86E6jbfOIAQA==",
             "dtype": "f8"
            },
            "sizemode": "area",
            "sizeref": 0.005201387060501242,
            "symbol": "circle"
           },
           "mode": "markers",
           "name": "",
           "showlegend": false,
           "type": "scattergeo"
          }
         ],
         "name": "1928"
        },
        {
         "data": [
          {
           "customdata": {
            "bdata": "AAAAAACgnkAAAAAAOJA+QQAAAAAAcLdAAAAAADiQPkEAAAAA4MggQSBy4d1duFDA",
            "dtype": "f8",
            "shape": "1, 6"
           },
           "geo": "geo",
           "hovertemplate": "<b>%{hovertext}</b><br><br>Year=%{customdata[0]}<br>Impact_Score_Log=%{marker.size}<br>Latitude=%{lat}<br>Longitude=%{lon}<br>Impact_Score=%{customdata[1]}<br>Total Deaths=%{customdata[2]}<br>Total Affected=%{customdata[3]}<br>Total Damages ('000 US$)=%{customdata[4]}<br>mmfrom1993-2008average=%{marker.color:.2f}<extra></extra>",
           "hovertext": [
            "Chile"
           ],
           "lat": [
            "-38.143"
           ],
           "legendgroup": "",
           "lon": [
            "-73.407"
           ],
           "marker": {
            "color": {
             "bdata": "IHLh3V24UMA=",
             "dtype": "f8"
            },
            "coloraxis": "coloraxis",
            "size": {
             "bdata": "MSRZ6Os0GUA=",
             "dtype": "f8"
            },
            "sizemode": "area",
            "sizeref": 0.005201387060501242,
            "symbol": "circle"
           },
           "mode": "markers",
           "name": "",
           "showlegend": false,
           "type": "scattergeo"
          }
         ],
         "name": "1960"
        },
        {
         "data": [
          {
           "customdata": {
            "bdata": "AAAAAADAnkAAAAAAAABpQAAAAAAAAGlAAAAAAAAAAAAAAAAAAAAAAJqZmZkZNFLA",
            "dtype": "f8",
            "shape": "1, 6"
           },
           "geo": "geo",
           "hovertemplate": "<b>%{hovertext}</b><br><br>Year=%{customdata[0]}<br>Impact_Score_Log=%{marker.size}<br>Latitude=%{lat}<br>Longitude=%{lon}<br>Impact_Score=%{customdata[1]}<br>Total Deaths=%{customdata[2]}<br>Total Affected=%{customdata[3]}<br>Total Damages ('000 US$)=%{customdata[4]}<br>mmfrom1993-2008average=%{marker.color:.2f}<extra></extra>",
           "hovertext": [
            "Indonesia"
           ],
           "lat": [
            "0.157"
           ],
           "legendgroup": "",
           "lon": [
            "119.802"
           ],
           "marker": {
            "color": {
             "bdata": "mpmZmRk0UsA=",
             "dtype": "f8"
            },
            "coloraxis": "coloraxis",
            "size": {
             "bdata": "Vy33DfJsAkA=",
             "dtype": "f8"
            },
            "sizemode": "area",
            "sizeref": 0.005201387060501242,
            "symbol": "circle"
           },
           "mode": "markers",
           "name": "",
           "showlegend": false,
           "type": "scattergeo"
          }
         ],
         "name": "1968"
        },
        {
         "data": [
          {
           "customdata": {
            "bdata": "AAAAAADEnkAAAAAAAIS5QAAAAAAAAFBAAAAAAACEuUAAAAAAAAAAAJqZmZmZTk/A",
            "dtype": "f8",
            "shape": "1, 6"
           },
           "geo": "geo",
           "hovertemplate": "<b>%{hovertext}</b><br><br>Year=%{customdata[0]}<br>Impact_Score_Log=%{marker.size}<br>Latitude=%{lat}<br>Longitude=%{lon}<br>Impact_Score=%{customdata[1]}<br>Total Deaths=%{customdata[2]}<br>Total Affected=%{customdata[3]}<br>Total Damages ('000 US$)=%{customdata[4]}<br>mmfrom1993-2008average=%{marker.color:.2f}<extra></extra>",
           "hovertext": [
            "Indonesia"
           ],
           "lat": [
            "-3.201"
           ],
           "legendgroup": "",
           "lon": [
            "118.904"
           ],
           "marker": {
            "color": {
             "bdata": "mpmZmZlOT8A=",
             "dtype": "f8"
            },
            "coloraxis": "coloraxis",
            "size": {
             "bdata": "09gLyVmFDkA=",
             "dtype": "f8"
            },
            "sizemode": "area",
            "sizeref": 0.005201387060501242,
            "symbol": "circle"
           },
           "mode": "markers",
           "name": "",
           "showlegend": false,
           "type": "scattergeo"
          }
         ],
         "name": "1969"
        },
        {
         "data": [
          {
           "customdata": {
            "bdata": "AAAAAAC0nUAAAAAAAAA4QAAAAAAAADJAAAAAAAAAOEAAAAAAAAAAAPheMkSEkWPA",
            "dtype": "f8",
            "shape": "1, 6"
           },
           "geo": "geo",
           "hovertemplate": "<b>%{hovertext}</b><br><br>Year=%{customdata[0]}<br>Impact_Score_Log=%{marker.size}<br>Latitude=%{lat}<br>Longitude=%{lon}<br>Impact_Score=%{customdata[1]}<br>Total Deaths=%{customdata[2]}<br>Total Affected=%{customdata[3]}<br>Total Damages ('000 US$)=%{customdata[4]}<br>mmfrom1993-2008average=%{marker.color:.2f}<extra></extra>",
           "hovertext": [
            "Japan"
           ],
           "lat": [
            "40.5"
           ],
           "legendgroup": "",
           "lon": [
            "142.5"
           ],
           "marker": {
            "color": {
             "bdata": "+F4yRISRY8A=",
             "dtype": "f8"
            },
            "coloraxis": "coloraxis",
            "size": {
             "bdata": "AUOwV/Zd9j8=",
             "dtype": "f8"
            },
            "sizemode": "area",
            "sizeref": 0.005201387060501242,
            "symbol": "circle"
           },
           "mode": "markers",
           "name": "",
           "showlegend": false,
           "type": "scattergeo"
          }
         ],
         "name": "1901"
        },
        {
         "data": [
          {
           "customdata": {
            "bdata": "AAAAAADEnUAAAAAAAIBEQAAAAAAAgERAAAAAAAAAAAAAAAAAAAAAAAAAAABATWPA",
            "dtype": "f8",
            "shape": "1, 6"
           },
           "geo": "geo",
           "hovertemplate": "<b>%{hovertext}</b><br><br>Year=%{customdata[0]}<br>Impact_Score_Log=%{marker.size}<br>Latitude=%{lat}<br>Longitude=%{lon}<br>Impact_Score=%{customdata[1]}<br>Total Deaths=%{customdata[2]}<br>Total Affected=%{customdata[3]}<br>Total Damages ('000 US$)=%{customdata[4]}<br>mmfrom1993-2008average=%{marker.color:.2f}<extra></extra>",
           "hovertext": [
            "Japan"
           ],
           "lat": [
            "37.4"
           ],
           "legendgroup": "",
           "lon": [
            "142.6"
           ],
           "marker": {
            "color": {
             "bdata": "AAAAAEBNY8A=",
             "dtype": "f8"
            },
            "coloraxis": "coloraxis",
            "size": {
             "bdata": "Hzp4P9T4+T8=",
             "dtype": "f8"
            },
            "sizemode": "area",
            "sizeref": 0.005201387060501242,
            "symbol": "circle"
           },
           "mode": "markers",
           "name": "",
           "showlegend": false,
           "type": "scattergeo"
          }
         ],
         "name": "1905"
        },
        {
         "data": [
          {
           "customdata": {
            "bdata": "AAAAAAAsnkAAAAAAAABJQAAAAAAAAElAAAAAAAAAAAAAAAAAAAAAAL2KMVXVr1/A",
            "dtype": "f8",
            "shape": "1, 6"
           },
           "geo": "geo",
           "hovertemplate": "<b>%{hovertext}</b><br><br>Year=%{customdata[0]}<br>Impact_Score_Log=%{marker.size}<br>Latitude=%{lat}<br>Longitude=%{lon}<br>Impact_Score=%{customdata[1]}<br>Total Deaths=%{customdata[2]}<br>Total Affected=%{customdata[3]}<br>Total Damages ('000 US$)=%{customdata[4]}<br>mmfrom1993-2008average=%{marker.color:.2f}<extra></extra>",
           "hovertext": [
            "Solomon Islands"
           ],
           "lat": [
            "11.117"
           ],
           "legendgroup": "",
           "lon": [
            "161.11"
           ],
           "marker": {
            "color": {
             "bdata": "vYoxVdWvX8A=",
             "dtype": "f8"
            },
            "coloraxis": "coloraxis",
            "size": {
             "bdata": "FnPfGjVS+z8=",
             "dtype": "f8"
            },
            "sizemode": "area",
            "sizeref": 0.005201387060501242,
            "symbol": "circle"
           },
           "mode": "markers",
           "name": "",
           "showlegend": false,
           "type": "scattergeo"
          }
         ],
         "name": "1931"
        },
        {
         "data": [
          {
           "customdata": {
            "bdata": "AAAAAAA0nkAAAAAAAHCnQAAAAAAAcKdAAAAAAAAAAAAAAAAAAAAAAN0OaETE/l3A",
            "dtype": "f8",
            "shape": "1, 6"
           },
           "geo": "geo",
           "hovertemplate": "<b>%{hovertext}</b><br><br>Year=%{customdata[0]}<br>Impact_Score_Log=%{marker.size}<br>Latitude=%{lat}<br>Longitude=%{lon}<br>Impact_Score=%{customdata[1]}<br>Total Deaths=%{customdata[2]}<br>Total Affected=%{customdata[3]}<br>Total Damages ('000 US$)=%{customdata[4]}<br>mmfrom1993-2008average=%{marker.color:.2f}<extra></extra>",
           "hovertext": [
            "Japan"
           ],
           "lat": [
            "39.224"
           ],
           "legendgroup": "",
           "lon": [
            "144.622"
           ],
           "marker": {
            "color": {
             "bdata": "3Q5oRMT+XcA=",
             "dtype": "f8"
            },
            "coloraxis": "coloraxis",
            "size": {
             "bdata": "tL2O1XDRC0A=",
             "dtype": "f8"
            },
            "sizemode": "area",
            "sizeref": 0.005201387060501242,
            "symbol": "circle"
           },
           "mode": "markers",
           "name": "",
           "showlegend": false,
           "type": "scattergeo"
          }
         ],
         "name": "1933"
        },
        {
         "data": [
          {
           "customdata": {
            "bdata": "AAAAAABgnkAAAAAA0KvzQAAAAAAAHJNAAAAAANCr80AAAAAAAAAAAIlX/iGiPF3A",
            "dtype": "f8",
            "shape": "1, 6"
           },
           "geo": "geo",
           "hovertemplate": "<b>%{hovertext}</b><br><br>Year=%{customdata[0]}<br>Impact_Score_Log=%{marker.size}<br>Latitude=%{lat}<br>Longitude=%{lon}<br>Impact_Score=%{customdata[1]}<br>Total Deaths=%{customdata[2]}<br>Total Affected=%{customdata[3]}<br>Total Damages ('000 US$)=%{customdata[4]}<br>mmfrom1993-2008average=%{marker.color:.2f}<extra></extra>",
           "hovertext": [
            "Japan"
           ],
           "lat": [
            "33.682"
           ],
           "legendgroup": "",
           "lon": [
            "36.204"
           ],
           "marker": {
            "color": {
             "bdata": "iVf+IaI8XcA=",
             "dtype": "f8"
            },
            "coloraxis": "coloraxis",
            "size": {
             "bdata": "YyLtj/GfE0A=",
             "dtype": "f8"
            },
            "sizemode": "area",
            "sizeref": 0.005201387060501242,
            "symbol": "circle"
           },
           "mode": "markers",
           "name": "",
           "showlegend": false,
           "type": "scattergeo"
          }
         ],
         "name": "1944"
        },
        {
         "data": [
          {
           "customdata": {
            "bdata": "AAAAAABonkAAAAAAAGrYQAAAAAAAoGRAAAAAAAAAAAAAAAAAAGrYQFSlFBGRK1fA",
            "dtype": "f8",
            "shape": "1, 6"
           },
           "geo": "geo",
           "hovertemplate": "<b>%{hovertext}</b><br><br>Year=%{customdata[0]}<br>Impact_Score_Log=%{marker.size}<br>Latitude=%{lat}<br>Longitude=%{lon}<br>Impact_Score=%{customdata[1]}<br>Total Deaths=%{customdata[2]}<br>Total Affected=%{customdata[3]}<br>Total Damages ('000 US$)=%{customdata[4]}<br>mmfrom1993-2008average=%{marker.color:.2f}<extra></extra>",
           "hovertext": [
            "United States of America (the)"
           ],
           "lat": [
            "53.492"
           ],
           "legendgroup": "",
           "lon": [
            "-162.832"
           ],
           "marker": {
            "color": {
             "bdata": "VKUUEZErV8A=",
             "dtype": "f8"
            },
            "coloraxis": "coloraxis",
            "size": {
             "bdata": "/v2yI4KXEUA=",
             "dtype": "f8"
            },
            "sizemode": "area",
            "sizeref": 0.005201387060501242,
            "symbol": "circle"
           },
           "mode": "markers",
           "name": "",
           "showlegend": false,
           "type": "scattergeo"
          }
         ],
         "name": "1946"
        },
        {
         "data": [
          {
           "customdata": {
            "bdata": "AAAAAACwnkAAAAAAAGooQQAAAAAAADlAAAAAAABG4UAAAAAAAGooQYfYR0TEvlHAAAAAAACwnkAAAAAAYPsSQQAAAAAAYGBAAAAAAAAAAAAAAAAAYPsSQYfYR0TEvlHA",
            "dtype": "f8",
            "shape": "2, 6"
           },
           "geo": "geo",
           "hovertemplate": "<b>%{hovertext}</b><br><br>Year=%{customdata[0]}<br>Impact_Score_Log=%{marker.size}<br>Latitude=%{lat}<br>Longitude=%{lon}<br>Impact_Score=%{customdata[1]}<br>Total Deaths=%{customdata[2]}<br>Total Affected=%{customdata[3]}<br>Total Damages ('000 US$)=%{customdata[4]}<br>mmfrom1993-2008average=%{marker.color:.2f}<extra></extra>",
           "hovertext": [
            "Japan",
            "United States of America (the)"
           ],
           "lat": [
            "38.67",
            "60.908"
           ],
           "legendgroup": "",
           "lon": [
            "139.195",
            "-147.339"
           ],
           "marker": {
            "color": {
             "bdata": "h9hHRMS+UcCH2EdExL5RwA==",
             "dtype": "f8"
            },
            "coloraxis": "coloraxis",
            "size": {
             "bdata": "jEyMw8OcF0AmP6WLlvgVQA==",
             "dtype": "f8"
            },
            "sizemode": "area",
            "sizeref": 0.005201387060501242,
            "symbol": "circle"
           },
           "mode": "markers",
           "name": "",
           "showlegend": false,
           "type": "scattergeo"
          }
         ],
         "name": "1964"
        },
        {
         "data": [
          {
           "customdata": {
            "bdata": "AAAAAADcnkAAAAAAAABpQAAAAAAAAGlAAAAAAAAAAAAAAAAAAAAAAPNOcHd37EbA",
            "dtype": "f8",
            "shape": "1, 6"
           },
           "geo": "geo",
           "hovertemplate": "<b>%{hovertext}</b><br><br>Year=%{customdata[0]}<br>Impact_Score_Log=%{marker.size}<br>Latitude=%{lat}<br>Longitude=%{lon}<br>Impact_Score=%{customdata[1]}<br>Total Deaths=%{customdata[2]}<br>Total Affected=%{customdata[3]}<br>Total Damages ('000 US$)=%{customdata[4]}<br>mmfrom1993-2008average=%{marker.color:.2f}<extra></extra>",
           "hovertext": [
            "Solomon Islands"
           ],
           "lat": [
            "-7.104"
           ],
           "legendgroup": "",
           "lon": [
            "155.152"
           ],
           "marker": {
            "color": {
             "bdata": "805wd3fsRsA=",
             "dtype": "f8"
            },
            "coloraxis": "coloraxis",
            "size": {
             "bdata": "Vy33DfJsAkA=",
             "dtype": "f8"
            },
            "sizemode": "area",
            "sizeref": 0.005201387060501242,
            "symbol": "circle"
           },
           "mode": "markers",
           "name": "",
           "showlegend": false,
           "type": "scattergeo"
          }
         ],
         "name": "1975"
        },
        {
         "data": [
          {
           "customdata": {
            "bdata": "AAAAAADsnkAAAAAAAAAmQAAAAAAAACZAAAAAAAAAAEAAAAAAAAAAADMzMzMzaEfAAAAAAADsnkAAAAAAANiAQAAAAAAA2IBAAAAAAAAAN0AAAAAAAAAAADMzMzMzaEfA",
            "dtype": "f8",
            "shape": "2, 6"
           },
           "geo": "geo",
           "hovertemplate": "<b>%{hovertext}</b><br><br>Year=%{customdata[0]}<br>Impact_Score_Log=%{marker.size}<br>Latitude=%{lat}<br>Longitude=%{lon}<br>Impact_Score=%{customdata[1]}<br>Total Deaths=%{customdata[2]}<br>Total Affected=%{customdata[3]}<br>Total Damages ('000 US$)=%{customdata[4]}<br>mmfrom1993-2008average=%{marker.color:.2f}<extra></extra>",
           "hovertext": [
            "France",
            "Indonesia"
           ],
           "lat": [
            "43.70 N",
            "8.8"
           ],
           "legendgroup": "",
           "lon": [
            "7.25 E",
            "123.5"
           ],
           "marker": {
            "color": {
             "bdata": "MzMzMzNoR8AzMzMzM2hHwA==",
             "dtype": "f8"
            },
            "coloraxis": "coloraxis",
            "size": {
             "bdata": "f7LjjVNE8T9/33FC8dsFQA==",
             "dtype": "f8"
            },
            "sizemode": "area",
            "sizeref": 0.005201387060501242,
            "symbol": "circle"
           },
           "mode": "markers",
           "name": "",
           "showlegend": false,
           "type": "scattergeo"
          }
         ],
         "name": "1979"
        },
        {
         "data": [
          {
           "customdata": {
            "bdata": "AAAAAAD8nkAAAAAAAGQZQQAAAAAAgFlAAAAAAABAU0AAAAAAAGQZQegu7N3dRzbA",
            "dtype": "f8",
            "shape": "1, 6"
           },
           "geo": "geo",
           "hovertemplate": "<b>%{hovertext}</b><br><br>Year=%{customdata[0]}<br>Impact_Score_Log=%{marker.size}<br>Latitude=%{lat}<br>Longitude=%{lon}<br>Impact_Score=%{customdata[1]}<br>Total Deaths=%{customdata[2]}<br>Total Affected=%{customdata[3]}<br>Total Damages ('000 US$)=%{customdata[4]}<br>mmfrom1993-2008average=%{marker.color:.2f}<extra></extra>",
           "hovertext": [
            "Japan"
           ],
           "lat": [
            "40.462"
           ],
           "legendgroup": "",
           "lon": [
            "139.102"
           ],
           "marker": {
            "color": {
             "bdata": "6C7s3d1HNsA=",
             "dtype": "f8"
            },
            "coloraxis": "coloraxis",
            "size": {
             "bdata": "HTkw4PN5FkA=",
             "dtype": "f8"
            },
            "sizemode": "area",
            "sizeref": 0.005201387060501242,
            "symbol": "circle"
           },
           "mode": "markers",
           "name": "",
           "showlegend": false,
           "type": "scattergeo"
          }
         ],
         "name": "1983"
        },
        {
         "data": [
          {
           "customdata": {
            "bdata": "AAAAAAAkn0AAAAAAgIQuQQAAAAAA4G1AAAAAAAC7vEAAAAAAgIQuQegu7N3dxzbA",
            "dtype": "f8",
            "shape": "1, 6"
           },
           "geo": "geo",
           "hovertemplate": "<b>%{hovertext}</b><br><br>Year=%{customdata[0]}<br>Impact_Score_Log=%{marker.size}<br>Latitude=%{lat}<br>Longitude=%{lon}<br>Impact_Score=%{customdata[1]}<br>Total Deaths=%{customdata[2]}<br>Total Affected=%{customdata[3]}<br>Total Damages ('000 US$)=%{customdata[4]}<br>mmfrom1993-2008average=%{marker.color:.2f}<extra></extra>",
           "hovertext": [
            "Japan"
           ],
           "lat": [
            "42.851 N"
           ],
           "legendgroup": "",
           "lon": [
            "139.197 E"
           ],
           "marker": {
            "color": {
             "bdata": "6C7s3d3HNsA=",
             "dtype": "f8"
            },
            "coloraxis": "coloraxis",
            "size": {
             "bdata": "YB4lHQAAGEA=",
             "dtype": "f8"
            },
            "sizemode": "area",
            "sizeref": 0.005201387060501242,
            "symbol": "circle"
           },
           "mode": "markers",
           "name": "",
           "showlegend": false,
           "type": "scattergeo"
          }
         ],
         "name": "1993"
        },
        {
         "data": [
          {
           "customdata": {
            "bdata": "AAAAAAAwn0AAAAAAAICHQAAAAAAAABxAAAAAAACAh0AAAAAAAAAAAP1u9BAR5SfA",
            "dtype": "f8",
            "shape": "1, 6"
           },
           "geo": "geo",
           "hovertemplate": "<b>%{hovertext}</b><br><br>Year=%{customdata[0]}<br>Impact_Score_Log=%{marker.size}<br>Latitude=%{lat}<br>Longitude=%{lon}<br>Impact_Score=%{customdata[1]}<br>Total Deaths=%{customdata[2]}<br>Total Affected=%{customdata[3]}<br>Total Damages ('000 US$)=%{customdata[4]}<br>mmfrom1993-2008average=%{marker.color:.2f}<extra></extra>",
           "hovertext": [
            "Peru"
           ],
           "lat": [
            "9.593 S"
           ],
           "legendgroup": "",
           "lon": [
            "79.587 W"
           ],
           "marker": {
            "color": {
             "bdata": "/W70EBHlJ8A=",
             "dtype": "f8"
            },
            "coloraxis": "coloraxis",
            "size": {
             "bdata": "A6KgFa0DB0A=",
             "dtype": "f8"
            },
            "sizemode": "area",
            "sizeref": 0.005201387060501242,
            "symbol": "circle"
           },
           "mode": "markers",
           "name": "",
           "showlegend": false,
           "type": "scattergeo"
          }
         ],
         "name": "1996"
        },
        {
         "data": [
          {
           "customdata": {
            "bdata": "AAAAAAA4n0AAAAAAgEXDQAAAAAAADKFAAAAAAIBFw0AAAAAAAAAAAM3MzMzMoCXA",
            "dtype": "f8",
            "shape": "1, 6"
           },
           "geo": "geo",
           "hovertemplate": "<b>%{hovertext}</b><br><br>Year=%{customdata[0]}<br>Impact_Score_Log=%{marker.size}<br>Latitude=%{lat}<br>Longitude=%{lon}<br>Impact_Score=%{customdata[1]}<br>Total Deaths=%{customdata[2]}<br>Total Affected=%{customdata[3]}<br>Total Damages ('000 US$)=%{customdata[4]}<br>mmfrom1993-2008average=%{marker.color:.2f}<extra></extra>",
           "hovertext": [
            "Papua New Guinea"
           ],
           "lat": [
            "-2.961"
           ],
           "legendgroup": "",
           "lon": [
            "141.926"
           ],
           "marker": {
            "color": {
             "bdata": "zczMzMygJcA=",
             "dtype": "f8"
            },
            "coloraxis": "coloraxis",
            "size": {
             "bdata": "alZkaC70D0A=",
             "dtype": "f8"
            },
            "sizemode": "area",
            "sizeref": 0.005201387060501242,
            "symbol": "circle"
           },
           "mode": "markers",
           "name": "",
           "showlegend": false,
           "type": "scattergeo"
          }
         ],
         "name": "1998"
        },
        {
         "data": [
          {
           "customdata": {
            "bdata": "AAAAAABIn0AAAAAAAL3BQAAAAAAAACBAAAAAAAC9wUAAAAAAAAAAAJD8k4iIOAFA",
            "dtype": "f8",
            "shape": "1, 6"
           },
           "geo": "geo",
           "hovertemplate": "<b>%{hovertext}</b><br><br>Year=%{customdata[0]}<br>Impact_Score_Log=%{marker.size}<br>Latitude=%{lat}<br>Longitude=%{lon}<br>Impact_Score=%{customdata[1]}<br>Total Deaths=%{customdata[2]}<br>Total Affected=%{customdata[3]}<br>Total Damages ('000 US$)=%{customdata[4]}<br>mmfrom1993-2008average=%{marker.color:.2f}<extra></extra>",
           "hovertext": [
            "Indonesia"
           ],
           "lat": [
            "-1.757"
           ],
           "legendgroup": "",
           "lon": [
            "134.297"
           ],
           "marker": {
            "color": {
             "bdata": "kPyTiIg4AUA=",
             "dtype": "f8"
            },
            "coloraxis": "coloraxis",
            "size": {
             "bdata": "lg90IXSqD0A=",
             "dtype": "f8"
            },
            "sizemode": "area",
            "sizeref": 0.005201387060501242,
            "symbol": "circle"
           },
           "mode": "markers",
           "name": "",
           "showlegend": false,
           "type": "scattergeo"
          }
         ],
         "name": "2002"
        },
        {
         "data": [
          {
           "customdata": {
            "bdata": "AAAAAABEn0AAAAAAaFwVQQAAAAAAIGJAAAAAAGhcFUEAAAAAgE8SQYXOgoiI4BJA",
            "dtype": "f8",
            "shape": "1, 6"
           },
           "geo": "geo",
           "hovertemplate": "<b>%{hovertext}</b><br><br>Year=%{customdata[0]}<br>Impact_Score_Log=%{marker.size}<br>Latitude=%{lat}<br>Longitude=%{lon}<br>Impact_Score=%{customdata[1]}<br>Total Deaths=%{customdata[2]}<br>Total Affected=%{customdata[3]}<br>Total Damages ('000 US$)=%{customdata[4]}<br>mmfrom1993-2008average=%{marker.color:.2f}<extra></extra>",
           "hovertext": [
            "Peru"
           ],
           "lat": [
            "-16.265"
           ],
           "legendgroup": "",
           "lon": [
            "-73.641"
           ],
           "marker": {
            "color": {
             "bdata": "hc6CiIjgEkA=",
             "dtype": "f8"
            },
            "coloraxis": "coloraxis",
            "size": {
             "bdata": "1FukVxktFkA=",
             "dtype": "f8"
            },
            "sizemode": "area",
            "sizeref": 0.005201387060501242,
            "symbol": "circle"
           },
           "mode": "markers",
           "name": "",
           "showlegend": false,
           "type": "scattergeo"
          }
         ],
         "name": "2001"
        },
        {
         "data": [
          {
           "customdata": {
            "bdata": "AAAAAABQn0AAAAAARPtQQQAAAABgOgRBAAAAAERDIEEAAAAARPtQQTbEPiIiTitAAAAAAABQn0AAAAAAAGr4QAAAAAAAAPA/AAAAAAAAAAAAAAAAAGr4QDbEPiIiTitAAAAAAABQn0AAAAAAgIQeQQAAAAAAAABAAAAAAAAAAAAAAAAAgIQeQTbEPiIiTitAAAAAAABQn0AAAAAAoDYvQQAAAABAAdBAAAAAAGD5I0EAAAAAoDYvQTbEPiIiTitAAAAAAABQn0AAAAAAlBY0QQAAAADgSOFAAAAAAFQbL0EAAAAAlBY0QTbEPiIiTitAAAAAAABQn0AAAAAAULEcQQAAAAAAgFlAAAAAAICT2kAAAAAAULEcQTbEPiIiTitAAAAAAABQn0AAAAAAgIQeQQAAAAAAAFRAAAAAAADHs0AAAAAAgIQeQTbEPiIiTitAAAAAAABQn0AAAAAAgIQuQQAAAACATMBAAAAAAPBb8EAAAAAAgIQuQTbEPiIiTitAAAAAAABQn0AAAAAAgIQeQQAAAAAAwFFAAAAAAACqzkAAAAAAgIQeQTbEPiIiTitAAAAAAABQn0AAAAAAsKf5QAAAAAAAoHJAAAAAALCn+UAAAAAAAGr4QDbEPiIiTitAAAAAAABQn0AAAAAAAEzdQAAAAAAAAAhAAAAAAADeskAAAAAAAEzdQDbEPiIiTitAAAAAAABQn0AAAAAAAAAkQAAAAAAAACRAAAAAAAAAAAAAAAAAAAAAADbEPiIiTitA",
            "dtype": "f8",
            "shape": "12, 6"
           },
           "geo": "geo",
           "hovertemplate": "<b>%{hovertext}</b><br><br>Year=%{customdata[0]}<br>Impact_Score_Log=%{marker.size}<br>Latitude=%{lat}<br>Longitude=%{lon}<br>Impact_Score=%{customdata[1]}<br>Total Deaths=%{customdata[2]}<br>Total Affected=%{customdata[3]}<br>Total Damages ('000 US$)=%{customdata[4]}<br>mmfrom1993-2008average=%{marker.color:.2f}<extra></extra>",
           "hovertext": [
            "Indonesia",
            "Kenya",
            "Bangladesh",
            "India",
            "Sri Lanka",
            "Maldives",
            "Malaysia",
            "Thailand",
            "Myanmar",
            "Somalia",
            "Seychelles",
            "Tanzania, United Republic of"
           ],
           "lat": [
            "3.295",
            "3.295",
            "3.295",
            "3.295",
            "3.295",
            "3.295",
            "3.295",
            "3.295",
            "3.295",
            "3.295",
            "3.295",
            "3.295"
           ],
           "legendgroup": "",
           "lon": [
            "95.982",
            "95.982",
            "95.982",
            "95.982",
            "95.982",
            "95.982",
            "95.982",
            "95.982",
            "95.982",
            "95.982",
            "95.982",
            "95.982"
           ],
           "marker": {
            "color": {
             "bdata": "NsQ+IiJOK0A2xD4iIk4rQDbEPiIiTitANsQ+IiJOK0A2xD4iIk4rQDbEPiIiTitANsQ+IiJOK0A2xD4iIk4rQDbEPiIiTitANsQ+IiJOK0A2xD4iIk4rQDbEPiIiTitA",
             "dtype": "f8"
            },
            "coloraxis": "coloraxis",
            "size": {
             "bdata": "GW6RoxSYGkDP2XIjAQAUQDhDQAW/yxZAfoWMsAYKGEB1Kp+MSXoYQE6CJeJSsBZAOENABb/LFkBgHiUdAAAYQDhDQAW/yxZAqb55sA0WFECg7OBElugRQG/FUGCLqfA/",
             "dtype": "f8"
            },
            "sizemode": "area",
            "sizeref": 0.005201387060501242,
            "symbol": "circle"
           },
           "mode": "markers",
           "name": "",
           "showlegend": false,
           "type": "scattergeo"
          }
         ],
         "name": "2004"
        },
        {
         "data": [
          {
           "customdata": {
            "bdata": "AAAAAABYn0AAAAAAAMiSQAAAAAAAAAhAAAAAAADIkkAAAAAAAAAAANwA293dCSNAAAAAAABYn0AAAAAAANvqQAAAAAAAEIlAAAAAAOBa4UAAAAAAANvqQNwA293dCSNA",
            "dtype": "f8",
            "shape": "2, 6"
           },
           "geo": "geo",
           "hovertemplate": "<b>%{hovertext}</b><br><br>Year=%{customdata[0]}<br>Impact_Score_Log=%{marker.size}<br>Latitude=%{lat}<br>Longitude=%{lon}<br>Impact_Score=%{customdata[1]}<br>Total Deaths=%{customdata[2]}<br>Total Affected=%{customdata[3]}<br>Total Damages ('000 US$)=%{customdata[4]}<br>mmfrom1993-2008average=%{marker.color:.2f}<extra></extra>",
           "hovertext": [
            "Indonesia",
            "Indonesia"
           ],
           "lat": [
            "-3.595",
            "-9.284"
           ],
           "legendgroup": "",
           "lon": [
            "127.214",
            "107.419"
           ],
           "marker": {
            "color": {
             "bdata": "3ADb3d0JI0DcANvd3QkjQA==",
             "dtype": "f8"
            },
            "coloraxis": "coloraxis",
            "size": {
             "bdata": "KFcjTmKkCEBRw/G0I/YSQA==",
             "dtype": "f8"
            },
            "sizemode": "area",
            "sizeref": 0.005201387060501242,
            "symbol": "circle"
           },
           "mode": "markers",
           "name": "",
           "showlegend": false,
           "type": "scattergeo"
          }
         ],
         "name": "2006"
        },
        {
         "data": [
          {
           "customdata": {
            "bdata": "AAAAAABcn0AAAAAAAKCiQAAAAAAAAEpAAAAAAACgokAAAAAAAAAAADMzMzMzyTZAAAAAAABcn0AAAAAAAAAkQAAAAAAAACRAAAAAAAAAAAAAAAAAAAAAADMzMzMzyTZA",
            "dtype": "f8",
            "shape": "2, 6"
           },
           "geo": "geo",
           "hovertemplate": "<b>%{hovertext}</b><br><br>Year=%{customdata[0]}<br>Impact_Score_Log=%{marker.size}<br>Latitude=%{lat}<br>Longitude=%{lon}<br>Impact_Score=%{customdata[1]}<br>Total Deaths=%{customdata[2]}<br>Total Affected=%{customdata[3]}<br>Total Damages ('000 US$)=%{customdata[4]}<br>mmfrom1993-2008average=%{marker.color:.2f}<extra></extra>",
           "hovertext": [
            "Solomon Islands",
            "Chile"
           ],
           "lat": [
            "-8.466",
            "-45.243"
           ],
           "legendgroup": "",
           "lon": [
            "157.043",
            "-72.648"
           ],
           "marker": {
            "color": {
             "bdata": "MzMzMzPJNkAzMzMzM8k2QA==",
             "dtype": "f8"
            },
            "coloraxis": "coloraxis",
            "size": {
             "bdata": "YcMpoRgFC0BvxVBgi6nwPw==",
             "dtype": "f8"
            },
            "sizemode": "area",
            "sizeref": 0.005201387060501242,
            "symbol": "circle"
           },
           "mode": "markers",
           "name": "",
           "showlegend": false,
           "type": "scattergeo"
          }
         ],
         "name": "2007"
        },
        {
         "data": [
          {
           "customdata": {
            "bdata": "AAAAAABkn0AAAAAAAIijQAAAAAAAAEFAAAAAAACIo0AAAAAAAAAAAA2xj4iI00BAAAAAAABkn0AAAAAAAGoYQQAAAAAAAPA/AAAAAMC52EAAAAAAAGoYQQ2xj4iI00BAAAAAAABkn0AAAAAAAI7CQAAAAAAAACJAAAAAAACwf0AAAAAAAI7CQA2xj4iI00BAAAAAAABkn0AAAAAAgEj+QAAAAAAAgGJAAAAAAADQtUAAAAAAgEj+QA2xj4iI00BA",
            "dtype": "f8",
            "shape": "4, 6"
           },
           "geo": "geo",
           "hovertemplate": "<b>%{hovertext}</b><br><br>Year=%{customdata[0]}<br>Impact_Score_Log=%{marker.size}<br>Latitude=%{lat}<br>Longitude=%{lon}<br>Impact_Score=%{customdata[1]}<br>Total Deaths=%{customdata[2]}<br>Total Affected=%{customdata[3]}<br>Total Damages ('000 US$)=%{customdata[4]}<br>mmfrom1993-2008average=%{marker.color:.2f}<extra></extra>",
           "hovertext": [
            "American Samoa",
            "Japan",
            "Tonga",
            "Samoa"
           ],
           "lat": [
            "-15.489",
            "34.743",
            "-15.489",
            "-15.489"
           ],
           "legendgroup": "",
           "lon": [
            "-172.095",
            "138.264",
            "-172.095",
            "-172.095"
           ],
           "marker": {
            "color": {
             "bdata": "DbGPiIjTQEANsY+IiNNAQA2xj4iI00BADbGPiIjTQEA=",
             "dtype": "f8"
            },
            "coloraxis": "coloraxis",
            "size": {
             "bdata": "JJQwO1YvC0Cct/CygmgWQF/iYbh40g9A6Uo6ks9fFEA=",
             "dtype": "f8"
            },
            "sizemode": "area",
            "sizeref": 0.005201387060501242,
            "symbol": "circle"
           },
           "mode": "markers",
           "name": "",
           "showlegend": false,
           "type": "scattergeo"
          }
         ],
         "name": "2009"
        },
        {
         "data": [
          {
           "customdata": {
            "bdata": "AAAAAABon0AAAAAAOJx8QQAAAAAAkIFAAAAAAOJhREEAAAAAOJx8Qcpkgitq8EBAAAAAAABon0AAAAAAACzHQAAAAAAAkIBAAAAAAAAsx0AAAAAAAAAAAMpkgitq8EBA",
            "dtype": "f8",
            "shape": "2, 6"
           },
           "geo": "geo",
           "hovertemplate": "<b>%{hovertext}</b><br><br>Year=%{customdata[0]}<br>Impact_Score_Log=%{marker.size}<br>Latitude=%{lat}<br>Longitude=%{lon}<br>Impact_Score=%{customdata[1]}<br>Total Deaths=%{customdata[2]}<br>Total Affected=%{customdata[3]}<br>Total Damages ('000 US$)=%{customdata[4]}<br>mmfrom1993-2008average=%{marker.color:.2f}<extra></extra>",
           "hovertext": [
            "Chile",
            "Indonesia"
           ],
           "lat": [
            "-36.122",
            "-3.487"
           ],
           "legendgroup": "",
           "lon": [
            "-72.898",
            "100.082"
           ],
           "marker": {
            "color": {
             "bdata": "ymSCK2rwQEDKZIIravBAQA==",
             "dtype": "f8"
            },
            "coloraxis": "coloraxis",
            "size": {
             "bdata": "nrFdepLoHUBeqNXXDEwQQA==",
             "dtype": "f8"
            },
            "sizemode": "area",
            "sizeref": 0.005201387060501242,
            "symbol": "circle"
           },
           "mode": "markers",
           "name": "",
           "showlegend": false,
           "type": "scattergeo"
          }
         ],
         "name": "2010"
        },
        {
         "data": [
          {
           "customdata": {
            "bdata": "AAAAAABsn0AAAAAAAMBXQAAAAAAAAPA/AAAAAADAV0AAAAAAAAAAAPkwe9n2W0JAAAAAAABsn0AAAAAAsQipQQAAAACAYdNAAAAAANCCFkEAAAAAsQipQfkwe9n2W0JA",
            "dtype": "f8",
            "shape": "2, 6"
           },
           "geo": "geo",
           "hovertemplate": "<b>%{hovertext}</b><br><br>Year=%{customdata[0]}<br>Impact_Score_Log=%{marker.size}<br>Latitude=%{lat}<br>Longitude=%{lon}<br>Impact_Score=%{customdata[1]}<br>Total Deaths=%{customdata[2]}<br>Total Affected=%{customdata[3]}<br>Total Damages ('000 US$)=%{customdata[4]}<br>mmfrom1993-2008average=%{marker.color:.2f}<extra></extra>",
           "hovertext": [
            "Indonesia",
            "Japan"
           ],
           "lat": [
            "38.297",
            "38.297"
           ],
           "legendgroup": "",
           "lon": [
            "142.373",
            "142.373"
           ],
           "marker": {
            "color": {
             "bdata": "+TB72fZbQkD5MHvZ9ltCQA==",
             "dtype": "f8"
            },
            "coloraxis": "coloraxis",
            "size": {
             "bdata": "/k1bCmK3/z8vz3vt+aQgQA==",
             "dtype": "f8"
            },
            "sizemode": "area",
            "sizeref": 0.005201387060501242,
            "symbol": "circle"
           },
           "mode": "markers",
           "name": "",
           "showlegend": false,
           "type": "scattergeo"
          }
         ],
         "name": "2011"
        },
        {
         "data": [
          {
           "customdata": {
            "bdata": "AAAAAAB0n0AAAAAAAAKqQAAAAAAAACRAAAAAAAACqkAAAAAAAECfQLSKxCVDq0RA",
            "dtype": "f8",
            "shape": "1, 6"
           },
           "geo": "geo",
           "hovertemplate": "<b>%{hovertext}</b><br><br>Year=%{customdata[0]}<br>Impact_Score_Log=%{marker.size}<br>Latitude=%{lat}<br>Longitude=%{lon}<br>Impact_Score=%{customdata[1]}<br>Total Deaths=%{customdata[2]}<br>Total Affected=%{customdata[3]}<br>Total Damages ('000 US$)=%{customdata[4]}<br>mmfrom1993-2008average=%{marker.color:.2f}<extra></extra>",
           "hovertext": [
            "Solomon Islands"
           ],
           "lat": [
            "-10.799"
           ],
           "legendgroup": "",
           "lon": [
            "165.114"
           ],
           "marker": {
            "color": {
             "bdata": "tIrEJUOrREA=",
             "dtype": "f8"
            },
            "coloraxis": "coloraxis",
            "size": {
             "bdata": "vyUHPvctDEA=",
             "dtype": "f8"
            },
            "sizemode": "area",
            "sizeref": 0.005201387060501242,
            "symbol": "circle"
           },
           "mode": "markers",
           "name": "",
           "showlegend": false,
           "type": "scattergeo"
          }
         ],
         "name": "2013"
        },
        {
         "data": [
          {
           "customdata": {
            "bdata": "AAAAAAB8n0AAAAAAAGooQQAAAAAAADNAAAAAADbMJEEAAAAAAGooQY6D4CsZO0lA",
            "dtype": "f8",
            "shape": "1, 6"
           },
           "geo": "geo",
           "hovertemplate": "<b>%{hovertext}</b><br><br>Year=%{customdata[0]}<br>Impact_Score_Log=%{marker.size}<br>Latitude=%{lat}<br>Longitude=%{lon}<br>Impact_Score=%{customdata[1]}<br>Total Deaths=%{customdata[2]}<br>Total Affected=%{customdata[3]}<br>Total Damages ('000 US$)=%{customdata[4]}<br>mmfrom1993-2008average=%{marker.color:.2f}<extra></extra>",
           "hovertext": [
            "Chile"
           ],
           "lat": [
            "-31.5729"
           ],
           "legendgroup": "",
           "lon": [
            "-71.6744"
           ],
           "marker": {
            "color": {
             "bdata": "joPgKxk7SUA=",
             "dtype": "f8"
            },
            "coloraxis": "coloraxis",
            "size": {
             "bdata": "jEyMw8OcF0A=",
             "dtype": "f8"
            },
            "sizemode": "area",
            "sizeref": 0.005201387060501242,
            "symbol": "circle"
           },
           "mode": "markers",
           "name": "",
           "showlegend": false,
           "type": "scattergeo"
          }
         ],
         "name": "2015"
        },
        {
         "data": [
          {
           "customdata": {
            "bdata": "AAAAAACAn0AAAAAAMMFNQQAAAAAAAABAAAAAAAAASUAAAAAAMMFNQWvGN05pLEtA",
            "dtype": "f8",
            "shape": "1, 6"
           },
           "geo": "geo",
           "hovertemplate": "<b>%{hovertext}</b><br><br>Year=%{customdata[0]}<br>Impact_Score_Log=%{marker.size}<br>Latitude=%{lat}<br>Longitude=%{lon}<br>Impact_Score=%{customdata[1]}<br>Total Deaths=%{customdata[2]}<br>Total Affected=%{customdata[3]}<br>Total Damages ('000 US$)=%{customdata[4]}<br>mmfrom1993-2008average=%{marker.color:.2f}<extra></extra>",
           "hovertext": [
            "New Zealand"
           ],
           "lat": [
            "-42.725"
           ],
           "legendgroup": "",
           "lon": [
            "173.064"
           ],
           "marker": {
            "color": {
             "bdata": "a8Y3TmksS0A=",
             "dtype": "f8"
            },
            "coloraxis": "coloraxis",
            "size": {
             "bdata": "nR3NEUBdGkA=",
             "dtype": "f8"
            },
            "sizemode": "area",
            "sizeref": 0.005201387060501242,
            "symbol": "circle"
           },
           "mode": "markers",
           "name": "",
           "showlegend": false,
           "type": "scattergeo"
          }
         ],
         "name": "2016"
        },
        {
         "data": [
          {
           "customdata": {
            "bdata": "AAAAAACIn0AAAAAAgIQ+QQAAAAAALLBAAAAAAICEPkEAAAAAECA2Qagi7EblikpA",
            "dtype": "f8",
            "shape": "1, 6"
           },
           "geo": "geo",
           "hovertemplate": "<b>%{hovertext}</b><br><br>Year=%{customdata[0]}<br>Impact_Score_Log=%{marker.size}<br>Latitude=%{lat}<br>Longitude=%{lon}<br>Impact_Score=%{customdata[1]}<br>Total Deaths=%{customdata[2]}<br>Total Affected=%{customdata[3]}<br>Total Damages ('000 US$)=%{customdata[4]}<br>mmfrom1993-2008average=%{marker.color:.2f}<extra></extra>",
           "hovertext": [
            "Indonesia"
           ],
           "lat": [
            "-178"
           ],
           "legendgroup": "",
           "lon": [
            "119.84"
           ],
           "marker": {
            "color": {
             "bdata": "qCLsRuWKSkA=",
             "dtype": "f8"
            },
            "coloraxis": "coloraxis",
            "size": {
             "bdata": "DYecQ0E0GUA=",
             "dtype": "f8"
            },
            "sizemode": "area",
            "sizeref": 0.005201387060501242,
            "symbol": "circle"
           },
           "mode": "markers",
           "name": "",
           "showlegend": false,
           "type": "scattergeo"
          }
         ],
         "name": "2018"
        },
        {
         "data": [
          {
           "customdata": {
            "bdata": "AAAAAACYnkAAAAAAAMBbQAAAAAAAwFtAAAAAAAAAR0AAAAAAAAAAAAAAAACAOlLA",
            "dtype": "f8",
            "shape": "1, 6"
           },
           "geo": "geo",
           "hovertemplate": "<b>%{hovertext}</b><br><br>Year=%{customdata[0]}<br>Impact_Score_Log=%{marker.size}<br>Latitude=%{lat}<br>Longitude=%{lon}<br>Impact_Score=%{customdata[1]}<br>Total Deaths=%{customdata[2]}<br>Total Affected=%{customdata[3]}<br>Total Damages ('000 US$)=%{customdata[4]}<br>mmfrom1993-2008average=%{marker.color:.2f}<extra></extra>",
           "hovertext": [
            "Colombia"
           ],
           "lat": [
            "1.5"
           ],
           "legendgroup": "",
           "lon": [
            "-79.5"
           ],
           "marker": {
            "color": {
             "bdata": "AAAAAIA6UsA=",
             "dtype": "f8"
            },
            "coloraxis": "coloraxis",
            "size": {
             "bdata": "D/Ata8xkAEA=",
             "dtype": "f8"
            },
            "sizemode": "area",
            "sizeref": 0.005201387060501242,
            "symbol": "circle"
           },
           "mode": "markers",
           "name": "",
           "showlegend": false,
           "type": "scattergeo"
          }
         ],
         "name": "1958"
        }
       ],
       "layout": {
        "coloraxis": {
         "colorbar": {
          "title": {
           "text": "mmfrom1993-2008average"
          }
         },
         "colorscale": [
          [
           0.0,
           "#440154"
          ],
          [
           0.1111111111111111,
           "#482878"
          ],
          [
           0.2222222222222222,
           "#3e4989"
          ],
          [
           0.3333333333333333,
           "#31688e"
          ],
          [
           0.4444444444444444,
           "#26828e"
          ],
          [
           0.5555555555555556,
           "#1f9e89"
          ],
          [
           0.6666666666666666,
           "#35b779"
          ],
          [
           0.7777777777777778,
           "#6ece58"
          ],
          [
           0.8888888888888888,
           "#b5de2b"
          ],
          [
           1.0,
           "#fde725"
          ]
         ]
        },
        "geo": {
         "center": {},
         "domain": {
          "x": [
           0.0,
           1.0
          ],
          "y": [
           0.0,
           1.0
          ]
         },
         "projection": {
          "type": "natural earth"
         }
        },
        "height": 700,
        "legend": {
         "itemsizing": "constant",
         "tracegroupgap": 0
        },
        "sliders": [
         {
          "active": 0,
          "currentvalue": {
           "prefix": "Year="
          },
          "len": 0.9,
          "pad": {
           "b": 10,
           "t": 60
          },
          "steps": [
           {
            "args": [
             [
              "1928"
             ],
             {
              "frame": {
               "duration": 0,
               "redraw": true
              },
              "fromcurrent": true,
              "mode": "immediate",
              "transition": {
               "duration": 0,
               "easing": "linear"
              }
             }
            ],
            "label": "1928",
            "method": "animate"
           },
           {
            "args": [
             [
              "1960"
             ],
             {
              "frame": {
               "duration": 0,
               "redraw": true
              },
              "fromcurrent": true,
              "mode": "immediate",
              "transition": {
               "duration": 0,
               "easing": "linear"
              }
             }
            ],
            "label": "1960",
            "method": "animate"
           },
           {
            "args": [
             [
              "1968"
             ],
             {
              "frame": {
               "duration": 0,
               "redraw": true
              },
              "fromcurrent": true,
              "mode": "immediate",
              "transition": {
               "duration": 0,
               "easing": "linear"
              }
             }
            ],
            "label": "1968",
            "method": "animate"
           },
           {
            "args": [
             [
              "1969"
             ],
             {
              "frame": {
               "duration": 0,
               "redraw": true
              },
              "fromcurrent": true,
              "mode": "immediate",
              "transition": {
               "duration": 0,
               "easing": "linear"
              }
             }
            ],
            "label": "1969",
            "method": "animate"
           },
           {
            "args": [
             [
              "1901"
             ],
             {
              "frame": {
               "duration": 0,
               "redraw": true
              },
              "fromcurrent": true,
              "mode": "immediate",
              "transition": {
               "duration": 0,
               "easing": "linear"
              }
             }
            ],
            "label": "1901",
            "method": "animate"
           },
           {
            "args": [
             [
              "1905"
             ],
             {
              "frame": {
               "duration": 0,
               "redraw": true
              },
              "fromcurrent": true,
              "mode": "immediate",
              "transition": {
               "duration": 0,
               "easing": "linear"
              }
             }
            ],
            "label": "1905",
            "method": "animate"
           },
           {
            "args": [
             [
              "1931"
             ],
             {
              "frame": {
               "duration": 0,
               "redraw": true
              },
              "fromcurrent": true,
              "mode": "immediate",
              "transition": {
               "duration": 0,
               "easing": "linear"
              }
             }
            ],
            "label": "1931",
            "method": "animate"
           },
           {
            "args": [
             [
              "1933"
             ],
             {
              "frame": {
               "duration": 0,
               "redraw": true
              },
              "fromcurrent": true,
              "mode": "immediate",
              "transition": {
               "duration": 0,
               "easing": "linear"
              }
             }
            ],
            "label": "1933",
            "method": "animate"
           },
           {
            "args": [
             [
              "1944"
             ],
             {
              "frame": {
               "duration": 0,
               "redraw": true
              },
              "fromcurrent": true,
              "mode": "immediate",
              "transition": {
               "duration": 0,
               "easing": "linear"
              }
             }
            ],
            "label": "1944",
            "method": "animate"
           },
           {
            "args": [
             [
              "1946"
             ],
             {
              "frame": {
               "duration": 0,
               "redraw": true
              },
              "fromcurrent": true,
              "mode": "immediate",
              "transition": {
               "duration": 0,
               "easing": "linear"
              }
             }
            ],
            "label": "1946",
            "method": "animate"
           },
           {
            "args": [
             [
              "1964"
             ],
             {
              "frame": {
               "duration": 0,
               "redraw": true
              },
              "fromcurrent": true,
              "mode": "immediate",
              "transition": {
               "duration": 0,
               "easing": "linear"
              }
             }
            ],
            "label": "1964",
            "method": "animate"
           },
           {
            "args": [
             [
              "1975"
             ],
             {
              "frame": {
               "duration": 0,
               "redraw": true
              },
              "fromcurrent": true,
              "mode": "immediate",
              "transition": {
               "duration": 0,
               "easing": "linear"
              }
             }
            ],
            "label": "1975",
            "method": "animate"
           },
           {
            "args": [
             [
              "1979"
             ],
             {
              "frame": {
               "duration": 0,
               "redraw": true
              },
              "fromcurrent": true,
              "mode": "immediate",
              "transition": {
               "duration": 0,
               "easing": "linear"
              }
             }
            ],
            "label": "1979",
            "method": "animate"
           },
           {
            "args": [
             [
              "1983"
             ],
             {
              "frame": {
               "duration": 0,
               "redraw": true
              },
              "fromcurrent": true,
              "mode": "immediate",
              "transition": {
               "duration": 0,
               "easing": "linear"
              }
             }
            ],
            "label": "1983",
            "method": "animate"
           },
           {
            "args": [
             [
              "1993"
             ],
             {
              "frame": {
               "duration": 0,
               "redraw": true
              },
              "fromcurrent": true,
              "mode": "immediate",
              "transition": {
               "duration": 0,
               "easing": "linear"
              }
             }
            ],
            "label": "1993",
            "method": "animate"
           },
           {
            "args": [
             [
              "1996"
             ],
             {
              "frame": {
               "duration": 0,
               "redraw": true
              },
              "fromcurrent": true,
              "mode": "immediate",
              "transition": {
               "duration": 0,
               "easing": "linear"
              }
             }
            ],
            "label": "1996",
            "method": "animate"
           },
           {
            "args": [
             [
              "1998"
             ],
             {
              "frame": {
               "duration": 0,
               "redraw": true
              },
              "fromcurrent": true,
              "mode": "immediate",
              "transition": {
               "duration": 0,
               "easing": "linear"
              }
             }
            ],
            "label": "1998",
            "method": "animate"
           },
           {
            "args": [
             [
              "2002"
             ],
             {
              "frame": {
               "duration": 0,
               "redraw": true
              },
              "fromcurrent": true,
              "mode": "immediate",
              "transition": {
               "duration": 0,
               "easing": "linear"
              }
             }
            ],
            "label": "2002",
            "method": "animate"
           },
           {
            "args": [
             [
              "2001"
             ],
             {
              "frame": {
               "duration": 0,
               "redraw": true
              },
              "fromcurrent": true,
              "mode": "immediate",
              "transition": {
               "duration": 0,
               "easing": "linear"
              }
             }
            ],
            "label": "2001",
            "method": "animate"
           },
           {
            "args": [
             [
              "2004"
             ],
             {
              "frame": {
               "duration": 0,
               "redraw": true
              },
              "fromcurrent": true,
              "mode": "immediate",
              "transition": {
               "duration": 0,
               "easing": "linear"
              }
             }
            ],
            "label": "2004",
            "method": "animate"
           },
           {
            "args": [
             [
              "2006"
             ],
             {
              "frame": {
               "duration": 0,
               "redraw": true
              },
              "fromcurrent": true,
              "mode": "immediate",
              "transition": {
               "duration": 0,
               "easing": "linear"
              }
             }
            ],
            "label": "2006",
            "method": "animate"
           },
           {
            "args": [
             [
              "2007"
             ],
             {
              "frame": {
               "duration": 0,
               "redraw": true
              },
              "fromcurrent": true,
              "mode": "immediate",
              "transition": {
               "duration": 0,
               "easing": "linear"
              }
             }
            ],
            "label": "2007",
            "method": "animate"
           },
           {
            "args": [
             [
              "2009"
             ],
             {
              "frame": {
               "duration": 0,
               "redraw": true
              },
              "fromcurrent": true,
              "mode": "immediate",
              "transition": {
               "duration": 0,
               "easing": "linear"
              }
             }
            ],
            "label": "2009",
            "method": "animate"
           },
           {
            "args": [
             [
              "2010"
             ],
             {
              "frame": {
               "duration": 0,
               "redraw": true
              },
              "fromcurrent": true,
              "mode": "immediate",
              "transition": {
               "duration": 0,
               "easing": "linear"
              }
             }
            ],
            "label": "2010",
            "method": "animate"
           },
           {
            "args": [
             [
              "2011"
             ],
             {
              "frame": {
               "duration": 0,
               "redraw": true
              },
              "fromcurrent": true,
              "mode": "immediate",
              "transition": {
               "duration": 0,
               "easing": "linear"
              }
             }
            ],
            "label": "2011",
            "method": "animate"
           },
           {
            "args": [
             [
              "2013"
             ],
             {
              "frame": {
               "duration": 0,
               "redraw": true
              },
              "fromcurrent": true,
              "mode": "immediate",
              "transition": {
               "duration": 0,
               "easing": "linear"
              }
             }
            ],
            "label": "2013",
            "method": "animate"
           },
           {
            "args": [
             [
              "2015"
             ],
             {
              "frame": {
               "duration": 0,
               "redraw": true
              },
              "fromcurrent": true,
              "mode": "immediate",
              "transition": {
               "duration": 0,
               "easing": "linear"
              }
             }
            ],
            "label": "2015",
            "method": "animate"
           },
           {
            "args": [
             [
              "2016"
             ],
             {
              "frame": {
               "duration": 0,
               "redraw": true
              },
              "fromcurrent": true,
              "mode": "immediate",
              "transition": {
               "duration": 0,
               "easing": "linear"
              }
             }
            ],
            "label": "2016",
            "method": "animate"
           },
           {
            "args": [
             [
              "2018"
             ],
             {
              "frame": {
               "duration": 0,
               "redraw": true
              },
              "fromcurrent": true,
              "mode": "immediate",
              "transition": {
               "duration": 0,
               "easing": "linear"
              }
             }
            ],
            "label": "2018",
            "method": "animate"
           },
           {
            "args": [
             [
              "1958"
             ],
             {
              "frame": {
               "duration": 0,
               "redraw": true
              },
              "fromcurrent": true,
              "mode": "immediate",
              "transition": {
               "duration": 0,
               "easing": "linear"
              }
             }
            ],
            "label": "1958",
            "method": "animate"
           }
          ],
          "x": 0.1,
          "xanchor": "left",
          "y": 0,
          "yanchor": "top"
         }
        ],
        "template": {
         "data": {
          "bar": [
           {
            "error_x": {
             "color": "#2a3f5f"
            },
            "error_y": {
             "color": "#2a3f5f"
            },
            "marker": {
             "line": {
              "color": "#E5ECF6",
              "width": 0.5
             },
             "pattern": {
              "fillmode": "overlay",
              "size": 10,
              "solidity": 0.2
             }
            },
            "type": "bar"
           }
          ],
          "barpolar": [
           {
            "marker": {
             "line": {
              "color": "#E5ECF6",
              "width": 0.5
             },
             "pattern": {
              "fillmode": "overlay",
              "size": 10,
              "solidity": 0.2
             }
            },
            "type": "barpolar"
           }
          ],
          "carpet": [
           {
            "aaxis": {
             "endlinecolor": "#2a3f5f",
             "gridcolor": "white",
             "linecolor": "white",
             "minorgridcolor": "white",
             "startlinecolor": "#2a3f5f"
            },
            "baxis": {
             "endlinecolor": "#2a3f5f",
             "gridcolor": "white",
             "linecolor": "white",
             "minorgridcolor": "white",
             "startlinecolor": "#2a3f5f"
            },
            "type": "carpet"
           }
          ],
          "choropleth": [
           {
            "colorbar": {
             "outlinewidth": 0,
             "ticks": ""
            },
            "type": "choropleth"
           }
          ],
          "contour": [
           {
            "colorbar": {
             "outlinewidth": 0,
             "ticks": ""
            },
            "colorscale": [
             [
              0.0,
              "#0d0887"
             ],
             [
              0.1111111111111111,
              "#46039f"
             ],
             [
              0.2222222222222222,
              "#7201a8"
             ],
             [
              0.3333333333333333,
              "#9c179e"
             ],
             [
              0.4444444444444444,
              "#bd3786"
             ],
             [
              0.5555555555555556,
              "#d8576b"
             ],
             [
              0.6666666666666666,
              "#ed7953"
             ],
             [
              0.7777777777777778,
              "#fb9f3a"
             ],
             [
              0.8888888888888888,
              "#fdca26"
             ],
             [
              1.0,
              "#f0f921"
             ]
            ],
            "type": "contour"
           }
          ],
          "contourcarpet": [
           {
            "colorbar": {
             "outlinewidth": 0,
             "ticks": ""
            },
            "type": "contourcarpet"
           }
          ],
          "heatmap": [
           {
            "colorbar": {
             "outlinewidth": 0,
             "ticks": ""
            },
            "colorscale": [
             [
              0.0,
              "#0d0887"
             ],
             [
              0.1111111111111111,
              "#46039f"
             ],
             [
              0.2222222222222222,
              "#7201a8"
             ],
             [
              0.3333333333333333,
              "#9c179e"
             ],
             [
              0.4444444444444444,
              "#bd3786"
             ],
             [
              0.5555555555555556,
              "#d8576b"
             ],
             [
              0.6666666666666666,
              "#ed7953"
             ],
             [
              0.7777777777777778,
              "#fb9f3a"
             ],
             [
              0.8888888888888888,
              "#fdca26"
             ],
             [
              1.0,
              "#f0f921"
             ]
            ],
            "type": "heatmap"
           }
          ],
          "histogram": [
           {
            "marker": {
             "pattern": {
              "fillmode": "overlay",
              "size": 10,
              "solidity": 0.2
             }
            },
            "type": "histogram"
           }
          ],
          "histogram2d": [
           {
            "colorbar": {
             "outlinewidth": 0,
             "ticks": ""
            },
            "colorscale": [
             [
              0.0,
              "#0d0887"
             ],
             [
              0.1111111111111111,
              "#46039f"
             ],
             [
              0.2222222222222222,
              "#7201a8"
             ],
             [
              0.3333333333333333,
              "#9c179e"
             ],
             [
              0.4444444444444444,
              "#bd3786"
             ],
             [
              0.5555555555555556,
              "#d8576b"
             ],
             [
              0.6666666666666666,
              "#ed7953"
             ],
             [
              0.7777777777777778,
              "#fb9f3a"
             ],
             [
              0.8888888888888888,
              "#fdca26"
             ],
             [
              1.0,
              "#f0f921"
             ]
            ],
            "type": "histogram2d"
           }
          ],
          "histogram2dcontour": [
           {
            "colorbar": {
             "outlinewidth": 0,
             "ticks": ""
            },
            "colorscale": [
             [
              0.0,
              "#0d0887"
             ],
             [
              0.1111111111111111,
              "#46039f"
             ],
             [
              0.2222222222222222,
              "#7201a8"
             ],
             [
              0.3333333333333333,
              "#9c179e"
             ],
             [
              0.4444444444444444,
              "#bd3786"
             ],
             [
              0.5555555555555556,
              "#d8576b"
             ],
             [
              0.6666666666666666,
              "#ed7953"
             ],
             [
              0.7777777777777778,
              "#fb9f3a"
             ],
             [
              0.8888888888888888,
              "#fdca26"
             ],
             [
              1.0,
              "#f0f921"
             ]
            ],
            "type": "histogram2dcontour"
           }
          ],
          "mesh3d": [
           {
            "colorbar": {
             "outlinewidth": 0,
             "ticks": ""
            },
            "type": "mesh3d"
           }
          ],
          "parcoords": [
           {
            "line": {
             "colorbar": {
              "outlinewidth": 0,
              "ticks": ""
             }
            },
            "type": "parcoords"
           }
          ],
          "pie": [
           {
            "automargin": true,
            "type": "pie"
           }
          ],
          "scatter": [
           {
            "fillpattern": {
             "fillmode": "overlay",
             "size": 10,
             "solidity": 0.2
            },
            "type": "scatter"
           }
          ],
          "scatter3d": [
           {
            "line": {
             "colorbar": {
              "outlinewidth": 0,
              "ticks": ""
             }
            },
            "marker": {
             "colorbar": {
              "outlinewidth": 0,
              "ticks": ""
             }
            },
            "type": "scatter3d"
           }
          ],
          "scattercarpet": [
           {
            "marker": {
             "colorbar": {
              "outlinewidth": 0,
              "ticks": ""
             }
            },
            "type": "scattercarpet"
           }
          ],
          "scattergeo": [
           {
            "marker": {
             "colorbar": {
              "outlinewidth": 0,
              "ticks": ""
             }
            },
            "type": "scattergeo"
           }
          ],
          "scattergl": [
           {
            "marker": {
             "colorbar": {
              "outlinewidth": 0,
              "ticks": ""
             }
            },
            "type": "scattergl"
           }
          ],
          "scattermap": [
           {
            "marker": {
             "colorbar": {
              "outlinewidth": 0,
              "ticks": ""
             }
            },
            "type": "scattermap"
           }
          ],
          "scattermapbox": [
           {
            "marker": {
             "colorbar": {
              "outlinewidth": 0,
              "ticks": ""
             }
            },
            "type": "scattermapbox"
           }
          ],
          "scatterpolar": [
           {
            "marker": {
             "colorbar": {
              "outlinewidth": 0,
              "ticks": ""
             }
            },
            "type": "scatterpolar"
           }
          ],
          "scatterpolargl": [
           {
            "marker": {
             "colorbar": {
              "outlinewidth": 0,
              "ticks": ""
             }
            },
            "type": "scatterpolargl"
           }
          ],
          "scatterternary": [
           {
            "marker": {
             "colorbar": {
              "outlinewidth": 0,
              "ticks": ""
             }
            },
            "type": "scatterternary"
           }
          ],
          "surface": [
           {
            "colorbar": {
             "outlinewidth": 0,
             "ticks": ""
            },
            "colorscale": [
             [
              0.0,
              "#0d0887"
             ],
             [
              0.1111111111111111,
              "#46039f"
             ],
             [
              0.2222222222222222,
              "#7201a8"
             ],
             [
              0.3333333333333333,
              "#9c179e"
             ],
             [
              0.4444444444444444,
              "#bd3786"
             ],
             [
              0.5555555555555556,
              "#d8576b"
             ],
             [
              0.6666666666666666,
              "#ed7953"
             ],
             [
              0.7777777777777778,
              "#fb9f3a"
             ],
             [
              0.8888888888888888,
              "#fdca26"
             ],
             [
              1.0,
              "#f0f921"
             ]
            ],
            "type": "surface"
           }
          ],
          "table": [
           {
            "cells": {
             "fill": {
              "color": "#EBF0F8"
             },
             "line": {
              "color": "white"
             }
            },
            "header": {
             "fill": {
              "color": "#C8D4E3"
             },
             "line": {
              "color": "white"
             }
            },
            "type": "table"
           }
          ]
         },
         "layout": {
          "annotationdefaults": {
           "arrowcolor": "#2a3f5f",
           "arrowhead": 0,
           "arrowwidth": 1
          },
          "autotypenumbers": "strict",
          "coloraxis": {
           "colorbar": {
            "outlinewidth": 0,
            "ticks": ""
           }
          },
          "colorscale": {
           "diverging": [
            [
             0,
             "#8e0152"
            ],
            [
             0.1,
             "#c51b7d"
            ],
            [
             0.2,
             "#de77ae"
            ],
            [
             0.3,
             "#f1b6da"
            ],
            [
             0.4,
             "#fde0ef"
            ],
            [
             0.5,
             "#f7f7f7"
            ],
            [
             0.6,
             "#e6f5d0"
            ],
            [
             0.7,
             "#b8e186"
            ],
            [
             0.8,
             "#7fbc41"
            ],
            [
             0.9,
             "#4d9221"
            ],
            [
             1,
             "#276419"
            ]
           ],
           "sequential": [
            [
             0.0,
             "#0d0887"
            ],
            [
             0.1111111111111111,
             "#46039f"
            ],
            [
             0.2222222222222222,
             "#7201a8"
            ],
            [
             0.3333333333333333,
             "#9c179e"
            ],
            [
             0.4444444444444444,
             "#bd3786"
            ],
            [
             0.5555555555555556,
             "#d8576b"
            ],
            [
             0.6666666666666666,
             "#ed7953"
            ],
            [
             0.7777777777777778,
             "#fb9f3a"
            ],
            [
             0.8888888888888888,
             "#fdca26"
            ],
            [
             1.0,
             "#f0f921"
            ]
           ],
           "sequentialminus": [
            [
             0.0,
             "#0d0887"
            ],
            [
             0.1111111111111111,
             "#46039f"
            ],
            [
             0.2222222222222222,
             "#7201a8"
            ],
            [
             0.3333333333333333,
             "#9c179e"
            ],
            [
             0.4444444444444444,
             "#bd3786"
            ],
            [
             0.5555555555555556,
             "#d8576b"
            ],
            [
             0.6666666666666666,
             "#ed7953"
            ],
            [
             0.7777777777777778,
             "#fb9f3a"
            ],
            [
             0.8888888888888888,
             "#fdca26"
            ],
            [
             1.0,
             "#f0f921"
            ]
           ]
          },
          "colorway": [
           "#636efa",
           "#EF553B",
           "#00cc96",
           "#ab63fa",
           "#FFA15A",
           "#19d3f3",
           "#FF6692",
           "#B6E880",
           "#FF97FF",
           "#FECB52"
          ],
          "font": {
           "color": "#2a3f5f"
          },
          "geo": {
           "bgcolor": "white",
           "lakecolor": "white",
           "landcolor": "#E5ECF6",
           "showlakes": true,
           "showland": true,
           "subunitcolor": "white"
          },
          "hoverlabel": {
           "align": "left"
          },
          "hovermode": "closest",
          "mapbox": {
           "style": "light"
          },
          "paper_bgcolor": "white",
          "plot_bgcolor": "#E5ECF6",
          "polar": {
           "angularaxis": {
            "gridcolor": "white",
            "linecolor": "white",
            "ticks": ""
           },
           "bgcolor": "#E5ECF6",
           "radialaxis": {
            "gridcolor": "white",
            "linecolor": "white",
            "ticks": ""
           }
          },
          "scene": {
           "xaxis": {
            "backgroundcolor": "#E5ECF6",
            "gridcolor": "white",
            "gridwidth": 2,
            "linecolor": "white",
            "showbackground": true,
            "ticks": "",
            "zerolinecolor": "white"
           },
           "yaxis": {
            "backgroundcolor": "#E5ECF6",
            "gridcolor": "white",
            "gridwidth": 2,
            "linecolor": "white",
            "showbackground": true,
            "ticks": "",
            "zerolinecolor": "white"
           },
           "zaxis": {
            "backgroundcolor": "#E5ECF6",
            "gridcolor": "white",
            "gridwidth": 2,
            "linecolor": "white",
            "showbackground": true,
            "ticks": "",
            "zerolinecolor": "white"
           }
          },
          "shapedefaults": {
           "line": {
            "color": "#2a3f5f"
           }
          },
          "ternary": {
           "aaxis": {
            "gridcolor": "white",
            "linecolor": "white",
            "ticks": ""
           },
           "baxis": {
            "gridcolor": "white",
            "linecolor": "white",
            "ticks": ""
           },
           "bgcolor": "#E5ECF6",
           "caxis": {
            "gridcolor": "white",
            "linecolor": "white",
            "ticks": ""
           }
          },
          "title": {
           "x": 0.05
          },
          "xaxis": {
           "automargin": true,
           "gridcolor": "white",
           "linecolor": "white",
           "ticks": "",
           "title": {
            "standoff": 15
           },
           "zerolinecolor": "white",
           "zerolinewidth": 2
          },
          "yaxis": {
           "automargin": true,
           "gridcolor": "white",
           "linecolor": "white",
           "ticks": "",
           "title": {
            "standoff": 15
           },
           "zerolinecolor": "white",
           "zerolinewidth": 2
          }
         }
        },
        "title": {
         "text": "Overstromingen en tsunami's met zeespiegelstijging en impact (log schaal)"
        },
        "updatemenus": [
         {
          "buttons": [
           {
            "args": [
             null,
             {
              "frame": {
               "duration": 500,
               "redraw": true
              },
              "fromcurrent": true,
              "mode": "immediate",
              "transition": {
               "duration": 500,
               "easing": "linear"
              }
             }
            ],
            "label": "&#9654;",
            "method": "animate"
           },
           {
            "args": [
             [
              null
             ],
             {
              "frame": {
               "duration": 0,
               "redraw": true
              },
              "fromcurrent": true,
              "mode": "immediate",
              "transition": {
               "duration": 0,
               "easing": "linear"
              }
             }
            ],
            "label": "&#9724;",
            "method": "animate"
           }
          ],
          "direction": "left",
          "pad": {
           "r": 10,
           "t": 70
          },
          "showactive": false,
          "type": "buttons",
          "x": 0.1,
          "xanchor": "right",
          "y": 0,
          "yanchor": "top"
         }
        ]
       }
      },
      "text/html": [
       "<div>            <script src=\"https://cdnjs.cloudflare.com/ajax/libs/mathjax/2.7.5/MathJax.js?config=TeX-AMS-MML_SVG\"></script><script type=\"text/javascript\">if (window.MathJax && window.MathJax.Hub && window.MathJax.Hub.Config) {window.MathJax.Hub.Config({SVG: {font: \"STIX-Web\"}});}</script>                <script type=\"text/javascript\">window.PlotlyConfig = {MathJaxConfig: 'local'};</script>\n",
       "        <script charset=\"utf-8\" src=\"https://cdn.plot.ly/plotly-3.0.1.min.js\"></script>                <div id=\"3def02e9-8ec2-45fa-80a1-b3aaad5184da\" class=\"plotly-graph-div\" style=\"height:700px; width:100%;\"></div>            <script type=\"text/javascript\">                window.PLOTLYENV=window.PLOTLYENV || {};                                if (document.getElementById(\"3def02e9-8ec2-45fa-80a1-b3aaad5184da\")) {                    Plotly.newPlot(                        \"3def02e9-8ec2-45fa-80a1-b3aaad5184da\",                        [{\"customdata\":{\"dtype\":\"f8\",\"bdata\":\"AAAAAAAgnkAAAAAAAAA7QAAAAAAAADtAAAAAAAAAAAAAAAAAAAAAADvUAO8uHGDAAAAAAAAgnkAAAAAAAABgQAAAAAAAAGBAAAAAAAAAAAAAAAAAAAAAADvUAO8uHGDA\",\"shape\":\"2, 6\"},\"geo\":\"geo\",\"hovertemplate\":\"\\u003cb\\u003e%{hovertext}\\u003c\\u002fb\\u003e\\u003cbr\\u003e\\u003cbr\\u003eYear=%{customdata[0]}\\u003cbr\\u003eImpact_Score_Log=%{marker.size}\\u003cbr\\u003eLatitude=%{lat}\\u003cbr\\u003eLongitude=%{lon}\\u003cbr\\u003eImpact_Score=%{customdata[1]}\\u003cbr\\u003eTotal Deaths=%{customdata[2]}\\u003cbr\\u003eTotal Affected=%{customdata[3]}\\u003cbr\\u003eTotal Damages ('000 US$)=%{customdata[4]}\\u003cbr\\u003emmfrom1993-2008average=%{marker.color:.2f}\\u003cextra\\u003e\\u003c\\u002fextra\\u003e\",\"hovertext\":[\"Canada\",\"Indonesia\"],\"lat\":[\"48.60 N\",\"8.30 S\"],\"legendgroup\":\"\",\"lon\":[\"58.00 W\",\"121.70 E\"],\"marker\":{\"color\":{\"dtype\":\"f8\",\"bdata\":\"O9QA7y4cYMA71ADvLhxgwA==\"},\"coloraxis\":\"coloraxis\",\"size\":{\"dtype\":\"f8\",\"bdata\":\"HyMMLo8n9z86E6jbfOIAQA==\"},\"sizemode\":\"area\",\"sizeref\":0.005201387060501242,\"symbol\":\"circle\"},\"mode\":\"markers\",\"name\":\"\",\"showlegend\":false,\"type\":\"scattergeo\"}],                        {\"template\":{\"data\":{\"histogram2dcontour\":[{\"type\":\"histogram2dcontour\",\"colorbar\":{\"outlinewidth\":0,\"ticks\":\"\"},\"colorscale\":[[0.0,\"#0d0887\"],[0.1111111111111111,\"#46039f\"],[0.2222222222222222,\"#7201a8\"],[0.3333333333333333,\"#9c179e\"],[0.4444444444444444,\"#bd3786\"],[0.5555555555555556,\"#d8576b\"],[0.6666666666666666,\"#ed7953\"],[0.7777777777777778,\"#fb9f3a\"],[0.8888888888888888,\"#fdca26\"],[1.0,\"#f0f921\"]]}],\"choropleth\":[{\"type\":\"choropleth\",\"colorbar\":{\"outlinewidth\":0,\"ticks\":\"\"}}],\"histogram2d\":[{\"type\":\"histogram2d\",\"colorbar\":{\"outlinewidth\":0,\"ticks\":\"\"},\"colorscale\":[[0.0,\"#0d0887\"],[0.1111111111111111,\"#46039f\"],[0.2222222222222222,\"#7201a8\"],[0.3333333333333333,\"#9c179e\"],[0.4444444444444444,\"#bd3786\"],[0.5555555555555556,\"#d8576b\"],[0.6666666666666666,\"#ed7953\"],[0.7777777777777778,\"#fb9f3a\"],[0.8888888888888888,\"#fdca26\"],[1.0,\"#f0f921\"]]}],\"heatmap\":[{\"type\":\"heatmap\",\"colorbar\":{\"outlinewidth\":0,\"ticks\":\"\"},\"colorscale\":[[0.0,\"#0d0887\"],[0.1111111111111111,\"#46039f\"],[0.2222222222222222,\"#7201a8\"],[0.3333333333333333,\"#9c179e\"],[0.4444444444444444,\"#bd3786\"],[0.5555555555555556,\"#d8576b\"],[0.6666666666666666,\"#ed7953\"],[0.7777777777777778,\"#fb9f3a\"],[0.8888888888888888,\"#fdca26\"],[1.0,\"#f0f921\"]]}],\"contourcarpet\":[{\"type\":\"contourcarpet\",\"colorbar\":{\"outlinewidth\":0,\"ticks\":\"\"}}],\"contour\":[{\"type\":\"contour\",\"colorbar\":{\"outlinewidth\":0,\"ticks\":\"\"},\"colorscale\":[[0.0,\"#0d0887\"],[0.1111111111111111,\"#46039f\"],[0.2222222222222222,\"#7201a8\"],[0.3333333333333333,\"#9c179e\"],[0.4444444444444444,\"#bd3786\"],[0.5555555555555556,\"#d8576b\"],[0.6666666666666666,\"#ed7953\"],[0.7777777777777778,\"#fb9f3a\"],[0.8888888888888888,\"#fdca26\"],[1.0,\"#f0f921\"]]}],\"surface\":[{\"type\":\"surface\",\"colorbar\":{\"outlinewidth\":0,\"ticks\":\"\"},\"colorscale\":[[0.0,\"#0d0887\"],[0.1111111111111111,\"#46039f\"],[0.2222222222222222,\"#7201a8\"],[0.3333333333333333,\"#9c179e\"],[0.4444444444444444,\"#bd3786\"],[0.5555555555555556,\"#d8576b\"],[0.6666666666666666,\"#ed7953\"],[0.7777777777777778,\"#fb9f3a\"],[0.8888888888888888,\"#fdca26\"],[1.0,\"#f0f921\"]]}],\"mesh3d\":[{\"type\":\"mesh3d\",\"colorbar\":{\"outlinewidth\":0,\"ticks\":\"\"}}],\"scatter\":[{\"fillpattern\":{\"fillmode\":\"overlay\",\"size\":10,\"solidity\":0.2},\"type\":\"scatter\"}],\"parcoords\":[{\"type\":\"parcoords\",\"line\":{\"colorbar\":{\"outlinewidth\":0,\"ticks\":\"\"}}}],\"scatterpolargl\":[{\"type\":\"scatterpolargl\",\"marker\":{\"colorbar\":{\"outlinewidth\":0,\"ticks\":\"\"}}}],\"bar\":[{\"error_x\":{\"color\":\"#2a3f5f\"},\"error_y\":{\"color\":\"#2a3f5f\"},\"marker\":{\"line\":{\"color\":\"#E5ECF6\",\"width\":0.5},\"pattern\":{\"fillmode\":\"overlay\",\"size\":10,\"solidity\":0.2}},\"type\":\"bar\"}],\"scattergeo\":[{\"type\":\"scattergeo\",\"marker\":{\"colorbar\":{\"outlinewidth\":0,\"ticks\":\"\"}}}],\"scatterpolar\":[{\"type\":\"scatterpolar\",\"marker\":{\"colorbar\":{\"outlinewidth\":0,\"ticks\":\"\"}}}],\"histogram\":[{\"marker\":{\"pattern\":{\"fillmode\":\"overlay\",\"size\":10,\"solidity\":0.2}},\"type\":\"histogram\"}],\"scattergl\":[{\"type\":\"scattergl\",\"marker\":{\"colorbar\":{\"outlinewidth\":0,\"ticks\":\"\"}}}],\"scatter3d\":[{\"type\":\"scatter3d\",\"line\":{\"colorbar\":{\"outlinewidth\":0,\"ticks\":\"\"}},\"marker\":{\"colorbar\":{\"outlinewidth\":0,\"ticks\":\"\"}}}],\"scattermap\":[{\"type\":\"scattermap\",\"marker\":{\"colorbar\":{\"outlinewidth\":0,\"ticks\":\"\"}}}],\"scattermapbox\":[{\"type\":\"scattermapbox\",\"marker\":{\"colorbar\":{\"outlinewidth\":0,\"ticks\":\"\"}}}],\"scatterternary\":[{\"type\":\"scatterternary\",\"marker\":{\"colorbar\":{\"outlinewidth\":0,\"ticks\":\"\"}}}],\"scattercarpet\":[{\"type\":\"scattercarpet\",\"marker\":{\"colorbar\":{\"outlinewidth\":0,\"ticks\":\"\"}}}],\"carpet\":[{\"aaxis\":{\"endlinecolor\":\"#2a3f5f\",\"gridcolor\":\"white\",\"linecolor\":\"white\",\"minorgridcolor\":\"white\",\"startlinecolor\":\"#2a3f5f\"},\"baxis\":{\"endlinecolor\":\"#2a3f5f\",\"gridcolor\":\"white\",\"linecolor\":\"white\",\"minorgridcolor\":\"white\",\"startlinecolor\":\"#2a3f5f\"},\"type\":\"carpet\"}],\"table\":[{\"cells\":{\"fill\":{\"color\":\"#EBF0F8\"},\"line\":{\"color\":\"white\"}},\"header\":{\"fill\":{\"color\":\"#C8D4E3\"},\"line\":{\"color\":\"white\"}},\"type\":\"table\"}],\"barpolar\":[{\"marker\":{\"line\":{\"color\":\"#E5ECF6\",\"width\":0.5},\"pattern\":{\"fillmode\":\"overlay\",\"size\":10,\"solidity\":0.2}},\"type\":\"barpolar\"}],\"pie\":[{\"automargin\":true,\"type\":\"pie\"}]},\"layout\":{\"autotypenumbers\":\"strict\",\"colorway\":[\"#636efa\",\"#EF553B\",\"#00cc96\",\"#ab63fa\",\"#FFA15A\",\"#19d3f3\",\"#FF6692\",\"#B6E880\",\"#FF97FF\",\"#FECB52\"],\"font\":{\"color\":\"#2a3f5f\"},\"hovermode\":\"closest\",\"hoverlabel\":{\"align\":\"left\"},\"paper_bgcolor\":\"white\",\"plot_bgcolor\":\"#E5ECF6\",\"polar\":{\"bgcolor\":\"#E5ECF6\",\"angularaxis\":{\"gridcolor\":\"white\",\"linecolor\":\"white\",\"ticks\":\"\"},\"radialaxis\":{\"gridcolor\":\"white\",\"linecolor\":\"white\",\"ticks\":\"\"}},\"ternary\":{\"bgcolor\":\"#E5ECF6\",\"aaxis\":{\"gridcolor\":\"white\",\"linecolor\":\"white\",\"ticks\":\"\"},\"baxis\":{\"gridcolor\":\"white\",\"linecolor\":\"white\",\"ticks\":\"\"},\"caxis\":{\"gridcolor\":\"white\",\"linecolor\":\"white\",\"ticks\":\"\"}},\"coloraxis\":{\"colorbar\":{\"outlinewidth\":0,\"ticks\":\"\"}},\"colorscale\":{\"sequential\":[[0.0,\"#0d0887\"],[0.1111111111111111,\"#46039f\"],[0.2222222222222222,\"#7201a8\"],[0.3333333333333333,\"#9c179e\"],[0.4444444444444444,\"#bd3786\"],[0.5555555555555556,\"#d8576b\"],[0.6666666666666666,\"#ed7953\"],[0.7777777777777778,\"#fb9f3a\"],[0.8888888888888888,\"#fdca26\"],[1.0,\"#f0f921\"]],\"sequentialminus\":[[0.0,\"#0d0887\"],[0.1111111111111111,\"#46039f\"],[0.2222222222222222,\"#7201a8\"],[0.3333333333333333,\"#9c179e\"],[0.4444444444444444,\"#bd3786\"],[0.5555555555555556,\"#d8576b\"],[0.6666666666666666,\"#ed7953\"],[0.7777777777777778,\"#fb9f3a\"],[0.8888888888888888,\"#fdca26\"],[1.0,\"#f0f921\"]],\"diverging\":[[0,\"#8e0152\"],[0.1,\"#c51b7d\"],[0.2,\"#de77ae\"],[0.3,\"#f1b6da\"],[0.4,\"#fde0ef\"],[0.5,\"#f7f7f7\"],[0.6,\"#e6f5d0\"],[0.7,\"#b8e186\"],[0.8,\"#7fbc41\"],[0.9,\"#4d9221\"],[1,\"#276419\"]]},\"xaxis\":{\"gridcolor\":\"white\",\"linecolor\":\"white\",\"ticks\":\"\",\"title\":{\"standoff\":15},\"zerolinecolor\":\"white\",\"automargin\":true,\"zerolinewidth\":2},\"yaxis\":{\"gridcolor\":\"white\",\"linecolor\":\"white\",\"ticks\":\"\",\"title\":{\"standoff\":15},\"zerolinecolor\":\"white\",\"automargin\":true,\"zerolinewidth\":2},\"scene\":{\"xaxis\":{\"backgroundcolor\":\"#E5ECF6\",\"gridcolor\":\"white\",\"linecolor\":\"white\",\"showbackground\":true,\"ticks\":\"\",\"zerolinecolor\":\"white\",\"gridwidth\":2},\"yaxis\":{\"backgroundcolor\":\"#E5ECF6\",\"gridcolor\":\"white\",\"linecolor\":\"white\",\"showbackground\":true,\"ticks\":\"\",\"zerolinecolor\":\"white\",\"gridwidth\":2},\"zaxis\":{\"backgroundcolor\":\"#E5ECF6\",\"gridcolor\":\"white\",\"linecolor\":\"white\",\"showbackground\":true,\"ticks\":\"\",\"zerolinecolor\":\"white\",\"gridwidth\":2}},\"shapedefaults\":{\"line\":{\"color\":\"#2a3f5f\"}},\"annotationdefaults\":{\"arrowcolor\":\"#2a3f5f\",\"arrowhead\":0,\"arrowwidth\":1},\"geo\":{\"bgcolor\":\"white\",\"landcolor\":\"#E5ECF6\",\"subunitcolor\":\"white\",\"showland\":true,\"showlakes\":true,\"lakecolor\":\"white\"},\"title\":{\"x\":0.05},\"mapbox\":{\"style\":\"light\"}}},\"geo\":{\"domain\":{\"x\":[0.0,1.0],\"y\":[0.0,1.0]},\"projection\":{\"type\":\"natural earth\"},\"center\":{}},\"coloraxis\":{\"colorbar\":{\"title\":{\"text\":\"mmfrom1993-2008average\"}},\"colorscale\":[[0.0,\"#440154\"],[0.1111111111111111,\"#482878\"],[0.2222222222222222,\"#3e4989\"],[0.3333333333333333,\"#31688e\"],[0.4444444444444444,\"#26828e\"],[0.5555555555555556,\"#1f9e89\"],[0.6666666666666666,\"#35b779\"],[0.7777777777777778,\"#6ece58\"],[0.8888888888888888,\"#b5de2b\"],[1.0,\"#fde725\"]]},\"legend\":{\"tracegroupgap\":0,\"itemsizing\":\"constant\"},\"title\":{\"text\":\"Overstromingen en tsunami's met zeespiegelstijging en impact (log schaal)\"},\"updatemenus\":[{\"buttons\":[{\"args\":[null,{\"frame\":{\"duration\":500,\"redraw\":true},\"mode\":\"immediate\",\"fromcurrent\":true,\"transition\":{\"duration\":500,\"easing\":\"linear\"}}],\"label\":\"&#9654;\",\"method\":\"animate\"},{\"args\":[[null],{\"frame\":{\"duration\":0,\"redraw\":true},\"mode\":\"immediate\",\"fromcurrent\":true,\"transition\":{\"duration\":0,\"easing\":\"linear\"}}],\"label\":\"&#9724;\",\"method\":\"animate\"}],\"direction\":\"left\",\"pad\":{\"r\":10,\"t\":70},\"showactive\":false,\"type\":\"buttons\",\"x\":0.1,\"xanchor\":\"right\",\"y\":0,\"yanchor\":\"top\"}],\"sliders\":[{\"active\":0,\"currentvalue\":{\"prefix\":\"Year=\"},\"len\":0.9,\"pad\":{\"b\":10,\"t\":60},\"steps\":[{\"args\":[[\"1928\"],{\"frame\":{\"duration\":0,\"redraw\":true},\"mode\":\"immediate\",\"fromcurrent\":true,\"transition\":{\"duration\":0,\"easing\":\"linear\"}}],\"label\":\"1928\",\"method\":\"animate\"},{\"args\":[[\"1960\"],{\"frame\":{\"duration\":0,\"redraw\":true},\"mode\":\"immediate\",\"fromcurrent\":true,\"transition\":{\"duration\":0,\"easing\":\"linear\"}}],\"label\":\"1960\",\"method\":\"animate\"},{\"args\":[[\"1968\"],{\"frame\":{\"duration\":0,\"redraw\":true},\"mode\":\"immediate\",\"fromcurrent\":true,\"transition\":{\"duration\":0,\"easing\":\"linear\"}}],\"label\":\"1968\",\"method\":\"animate\"},{\"args\":[[\"1969\"],{\"frame\":{\"duration\":0,\"redraw\":true},\"mode\":\"immediate\",\"fromcurrent\":true,\"transition\":{\"duration\":0,\"easing\":\"linear\"}}],\"label\":\"1969\",\"method\":\"animate\"},{\"args\":[[\"1901\"],{\"frame\":{\"duration\":0,\"redraw\":true},\"mode\":\"immediate\",\"fromcurrent\":true,\"transition\":{\"duration\":0,\"easing\":\"linear\"}}],\"label\":\"1901\",\"method\":\"animate\"},{\"args\":[[\"1905\"],{\"frame\":{\"duration\":0,\"redraw\":true},\"mode\":\"immediate\",\"fromcurrent\":true,\"transition\":{\"duration\":0,\"easing\":\"linear\"}}],\"label\":\"1905\",\"method\":\"animate\"},{\"args\":[[\"1931\"],{\"frame\":{\"duration\":0,\"redraw\":true},\"mode\":\"immediate\",\"fromcurrent\":true,\"transition\":{\"duration\":0,\"easing\":\"linear\"}}],\"label\":\"1931\",\"method\":\"animate\"},{\"args\":[[\"1933\"],{\"frame\":{\"duration\":0,\"redraw\":true},\"mode\":\"immediate\",\"fromcurrent\":true,\"transition\":{\"duration\":0,\"easing\":\"linear\"}}],\"label\":\"1933\",\"method\":\"animate\"},{\"args\":[[\"1944\"],{\"frame\":{\"duration\":0,\"redraw\":true},\"mode\":\"immediate\",\"fromcurrent\":true,\"transition\":{\"duration\":0,\"easing\":\"linear\"}}],\"label\":\"1944\",\"method\":\"animate\"},{\"args\":[[\"1946\"],{\"frame\":{\"duration\":0,\"redraw\":true},\"mode\":\"immediate\",\"fromcurrent\":true,\"transition\":{\"duration\":0,\"easing\":\"linear\"}}],\"label\":\"1946\",\"method\":\"animate\"},{\"args\":[[\"1964\"],{\"frame\":{\"duration\":0,\"redraw\":true},\"mode\":\"immediate\",\"fromcurrent\":true,\"transition\":{\"duration\":0,\"easing\":\"linear\"}}],\"label\":\"1964\",\"method\":\"animate\"},{\"args\":[[\"1975\"],{\"frame\":{\"duration\":0,\"redraw\":true},\"mode\":\"immediate\",\"fromcurrent\":true,\"transition\":{\"duration\":0,\"easing\":\"linear\"}}],\"label\":\"1975\",\"method\":\"animate\"},{\"args\":[[\"1979\"],{\"frame\":{\"duration\":0,\"redraw\":true},\"mode\":\"immediate\",\"fromcurrent\":true,\"transition\":{\"duration\":0,\"easing\":\"linear\"}}],\"label\":\"1979\",\"method\":\"animate\"},{\"args\":[[\"1983\"],{\"frame\":{\"duration\":0,\"redraw\":true},\"mode\":\"immediate\",\"fromcurrent\":true,\"transition\":{\"duration\":0,\"easing\":\"linear\"}}],\"label\":\"1983\",\"method\":\"animate\"},{\"args\":[[\"1993\"],{\"frame\":{\"duration\":0,\"redraw\":true},\"mode\":\"immediate\",\"fromcurrent\":true,\"transition\":{\"duration\":0,\"easing\":\"linear\"}}],\"label\":\"1993\",\"method\":\"animate\"},{\"args\":[[\"1996\"],{\"frame\":{\"duration\":0,\"redraw\":true},\"mode\":\"immediate\",\"fromcurrent\":true,\"transition\":{\"duration\":0,\"easing\":\"linear\"}}],\"label\":\"1996\",\"method\":\"animate\"},{\"args\":[[\"1998\"],{\"frame\":{\"duration\":0,\"redraw\":true},\"mode\":\"immediate\",\"fromcurrent\":true,\"transition\":{\"duration\":0,\"easing\":\"linear\"}}],\"label\":\"1998\",\"method\":\"animate\"},{\"args\":[[\"2002\"],{\"frame\":{\"duration\":0,\"redraw\":true},\"mode\":\"immediate\",\"fromcurrent\":true,\"transition\":{\"duration\":0,\"easing\":\"linear\"}}],\"label\":\"2002\",\"method\":\"animate\"},{\"args\":[[\"2001\"],{\"frame\":{\"duration\":0,\"redraw\":true},\"mode\":\"immediate\",\"fromcurrent\":true,\"transition\":{\"duration\":0,\"easing\":\"linear\"}}],\"label\":\"2001\",\"method\":\"animate\"},{\"args\":[[\"2004\"],{\"frame\":{\"duration\":0,\"redraw\":true},\"mode\":\"immediate\",\"fromcurrent\":true,\"transition\":{\"duration\":0,\"easing\":\"linear\"}}],\"label\":\"2004\",\"method\":\"animate\"},{\"args\":[[\"2006\"],{\"frame\":{\"duration\":0,\"redraw\":true},\"mode\":\"immediate\",\"fromcurrent\":true,\"transition\":{\"duration\":0,\"easing\":\"linear\"}}],\"label\":\"2006\",\"method\":\"animate\"},{\"args\":[[\"2007\"],{\"frame\":{\"duration\":0,\"redraw\":true},\"mode\":\"immediate\",\"fromcurrent\":true,\"transition\":{\"duration\":0,\"easing\":\"linear\"}}],\"label\":\"2007\",\"method\":\"animate\"},{\"args\":[[\"2009\"],{\"frame\":{\"duration\":0,\"redraw\":true},\"mode\":\"immediate\",\"fromcurrent\":true,\"transition\":{\"duration\":0,\"easing\":\"linear\"}}],\"label\":\"2009\",\"method\":\"animate\"},{\"args\":[[\"2010\"],{\"frame\":{\"duration\":0,\"redraw\":true},\"mode\":\"immediate\",\"fromcurrent\":true,\"transition\":{\"duration\":0,\"easing\":\"linear\"}}],\"label\":\"2010\",\"method\":\"animate\"},{\"args\":[[\"2011\"],{\"frame\":{\"duration\":0,\"redraw\":true},\"mode\":\"immediate\",\"fromcurrent\":true,\"transition\":{\"duration\":0,\"easing\":\"linear\"}}],\"label\":\"2011\",\"method\":\"animate\"},{\"args\":[[\"2013\"],{\"frame\":{\"duration\":0,\"redraw\":true},\"mode\":\"immediate\",\"fromcurrent\":true,\"transition\":{\"duration\":0,\"easing\":\"linear\"}}],\"label\":\"2013\",\"method\":\"animate\"},{\"args\":[[\"2015\"],{\"frame\":{\"duration\":0,\"redraw\":true},\"mode\":\"immediate\",\"fromcurrent\":true,\"transition\":{\"duration\":0,\"easing\":\"linear\"}}],\"label\":\"2015\",\"method\":\"animate\"},{\"args\":[[\"2016\"],{\"frame\":{\"duration\":0,\"redraw\":true},\"mode\":\"immediate\",\"fromcurrent\":true,\"transition\":{\"duration\":0,\"easing\":\"linear\"}}],\"label\":\"2016\",\"method\":\"animate\"},{\"args\":[[\"2018\"],{\"frame\":{\"duration\":0,\"redraw\":true},\"mode\":\"immediate\",\"fromcurrent\":true,\"transition\":{\"duration\":0,\"easing\":\"linear\"}}],\"label\":\"2018\",\"method\":\"animate\"},{\"args\":[[\"1958\"],{\"frame\":{\"duration\":0,\"redraw\":true},\"mode\":\"immediate\",\"fromcurrent\":true,\"transition\":{\"duration\":0,\"easing\":\"linear\"}}],\"label\":\"1958\",\"method\":\"animate\"}],\"x\":0.1,\"xanchor\":\"left\",\"y\":0,\"yanchor\":\"top\"}],\"height\":700},                        {\"responsive\": true}                    ).then(function(){\n",
       "                            Plotly.addFrames('3def02e9-8ec2-45fa-80a1-b3aaad5184da', [{\"data\":[{\"customdata\":{\"dtype\":\"f8\",\"bdata\":\"AAAAAAAgnkAAAAAAAAA7QAAAAAAAADtAAAAAAAAAAAAAAAAAAAAAADvUAO8uHGDAAAAAAAAgnkAAAAAAAABgQAAAAAAAAGBAAAAAAAAAAAAAAAAAAAAAADvUAO8uHGDA\",\"shape\":\"2, 6\"},\"geo\":\"geo\",\"hovertemplate\":\"\\u003cb\\u003e%{hovertext}\\u003c\\u002fb\\u003e\\u003cbr\\u003e\\u003cbr\\u003eYear=%{customdata[0]}\\u003cbr\\u003eImpact_Score_Log=%{marker.size}\\u003cbr\\u003eLatitude=%{lat}\\u003cbr\\u003eLongitude=%{lon}\\u003cbr\\u003eImpact_Score=%{customdata[1]}\\u003cbr\\u003eTotal Deaths=%{customdata[2]}\\u003cbr\\u003eTotal Affected=%{customdata[3]}\\u003cbr\\u003eTotal Damages ('000 US$)=%{customdata[4]}\\u003cbr\\u003emmfrom1993-2008average=%{marker.color:.2f}\\u003cextra\\u003e\\u003c\\u002fextra\\u003e\",\"hovertext\":[\"Canada\",\"Indonesia\"],\"lat\":[\"48.60 N\",\"8.30 S\"],\"legendgroup\":\"\",\"lon\":[\"58.00 W\",\"121.70 E\"],\"marker\":{\"color\":{\"dtype\":\"f8\",\"bdata\":\"O9QA7y4cYMA71ADvLhxgwA==\"},\"coloraxis\":\"coloraxis\",\"size\":{\"dtype\":\"f8\",\"bdata\":\"HyMMLo8n9z86E6jbfOIAQA==\"},\"sizemode\":\"area\",\"sizeref\":0.005201387060501242,\"symbol\":\"circle\"},\"mode\":\"markers\",\"name\":\"\",\"showlegend\":false,\"type\":\"scattergeo\"}],\"name\":\"1928\"},{\"data\":[{\"customdata\":{\"dtype\":\"f8\",\"bdata\":\"AAAAAACgnkAAAAAAOJA+QQAAAAAAcLdAAAAAADiQPkEAAAAA4MggQSBy4d1duFDA\",\"shape\":\"1, 6\"},\"geo\":\"geo\",\"hovertemplate\":\"\\u003cb\\u003e%{hovertext}\\u003c\\u002fb\\u003e\\u003cbr\\u003e\\u003cbr\\u003eYear=%{customdata[0]}\\u003cbr\\u003eImpact_Score_Log=%{marker.size}\\u003cbr\\u003eLatitude=%{lat}\\u003cbr\\u003eLongitude=%{lon}\\u003cbr\\u003eImpact_Score=%{customdata[1]}\\u003cbr\\u003eTotal Deaths=%{customdata[2]}\\u003cbr\\u003eTotal Affected=%{customdata[3]}\\u003cbr\\u003eTotal Damages ('000 US$)=%{customdata[4]}\\u003cbr\\u003emmfrom1993-2008average=%{marker.color:.2f}\\u003cextra\\u003e\\u003c\\u002fextra\\u003e\",\"hovertext\":[\"Chile\"],\"lat\":[\"-38.143\"],\"legendgroup\":\"\",\"lon\":[\"-73.407\"],\"marker\":{\"color\":{\"dtype\":\"f8\",\"bdata\":\"IHLh3V24UMA=\"},\"coloraxis\":\"coloraxis\",\"size\":{\"dtype\":\"f8\",\"bdata\":\"MSRZ6Os0GUA=\"},\"sizemode\":\"area\",\"sizeref\":0.005201387060501242,\"symbol\":\"circle\"},\"mode\":\"markers\",\"name\":\"\",\"showlegend\":false,\"type\":\"scattergeo\"}],\"name\":\"1960\"},{\"data\":[{\"customdata\":{\"dtype\":\"f8\",\"bdata\":\"AAAAAADAnkAAAAAAAABpQAAAAAAAAGlAAAAAAAAAAAAAAAAAAAAAAJqZmZkZNFLA\",\"shape\":\"1, 6\"},\"geo\":\"geo\",\"hovertemplate\":\"\\u003cb\\u003e%{hovertext}\\u003c\\u002fb\\u003e\\u003cbr\\u003e\\u003cbr\\u003eYear=%{customdata[0]}\\u003cbr\\u003eImpact_Score_Log=%{marker.size}\\u003cbr\\u003eLatitude=%{lat}\\u003cbr\\u003eLongitude=%{lon}\\u003cbr\\u003eImpact_Score=%{customdata[1]}\\u003cbr\\u003eTotal Deaths=%{customdata[2]}\\u003cbr\\u003eTotal Affected=%{customdata[3]}\\u003cbr\\u003eTotal Damages ('000 US$)=%{customdata[4]}\\u003cbr\\u003emmfrom1993-2008average=%{marker.color:.2f}\\u003cextra\\u003e\\u003c\\u002fextra\\u003e\",\"hovertext\":[\"Indonesia\"],\"lat\":[\"0.157\"],\"legendgroup\":\"\",\"lon\":[\"119.802\"],\"marker\":{\"color\":{\"dtype\":\"f8\",\"bdata\":\"mpmZmRk0UsA=\"},\"coloraxis\":\"coloraxis\",\"size\":{\"dtype\":\"f8\",\"bdata\":\"Vy33DfJsAkA=\"},\"sizemode\":\"area\",\"sizeref\":0.005201387060501242,\"symbol\":\"circle\"},\"mode\":\"markers\",\"name\":\"\",\"showlegend\":false,\"type\":\"scattergeo\"}],\"name\":\"1968\"},{\"data\":[{\"customdata\":{\"dtype\":\"f8\",\"bdata\":\"AAAAAADEnkAAAAAAAIS5QAAAAAAAAFBAAAAAAACEuUAAAAAAAAAAAJqZmZmZTk\\u002fA\",\"shape\":\"1, 6\"},\"geo\":\"geo\",\"hovertemplate\":\"\\u003cb\\u003e%{hovertext}\\u003c\\u002fb\\u003e\\u003cbr\\u003e\\u003cbr\\u003eYear=%{customdata[0]}\\u003cbr\\u003eImpact_Score_Log=%{marker.size}\\u003cbr\\u003eLatitude=%{lat}\\u003cbr\\u003eLongitude=%{lon}\\u003cbr\\u003eImpact_Score=%{customdata[1]}\\u003cbr\\u003eTotal Deaths=%{customdata[2]}\\u003cbr\\u003eTotal Affected=%{customdata[3]}\\u003cbr\\u003eTotal Damages ('000 US$)=%{customdata[4]}\\u003cbr\\u003emmfrom1993-2008average=%{marker.color:.2f}\\u003cextra\\u003e\\u003c\\u002fextra\\u003e\",\"hovertext\":[\"Indonesia\"],\"lat\":[\"-3.201\"],\"legendgroup\":\"\",\"lon\":[\"118.904\"],\"marker\":{\"color\":{\"dtype\":\"f8\",\"bdata\":\"mpmZmZlOT8A=\"},\"coloraxis\":\"coloraxis\",\"size\":{\"dtype\":\"f8\",\"bdata\":\"09gLyVmFDkA=\"},\"sizemode\":\"area\",\"sizeref\":0.005201387060501242,\"symbol\":\"circle\"},\"mode\":\"markers\",\"name\":\"\",\"showlegend\":false,\"type\":\"scattergeo\"}],\"name\":\"1969\"},{\"data\":[{\"customdata\":{\"dtype\":\"f8\",\"bdata\":\"AAAAAAC0nUAAAAAAAAA4QAAAAAAAADJAAAAAAAAAOEAAAAAAAAAAAPheMkSEkWPA\",\"shape\":\"1, 6\"},\"geo\":\"geo\",\"hovertemplate\":\"\\u003cb\\u003e%{hovertext}\\u003c\\u002fb\\u003e\\u003cbr\\u003e\\u003cbr\\u003eYear=%{customdata[0]}\\u003cbr\\u003eImpact_Score_Log=%{marker.size}\\u003cbr\\u003eLatitude=%{lat}\\u003cbr\\u003eLongitude=%{lon}\\u003cbr\\u003eImpact_Score=%{customdata[1]}\\u003cbr\\u003eTotal Deaths=%{customdata[2]}\\u003cbr\\u003eTotal Affected=%{customdata[3]}\\u003cbr\\u003eTotal Damages ('000 US$)=%{customdata[4]}\\u003cbr\\u003emmfrom1993-2008average=%{marker.color:.2f}\\u003cextra\\u003e\\u003c\\u002fextra\\u003e\",\"hovertext\":[\"Japan\"],\"lat\":[\"40.5\"],\"legendgroup\":\"\",\"lon\":[\"142.5\"],\"marker\":{\"color\":{\"dtype\":\"f8\",\"bdata\":\"+F4yRISRY8A=\"},\"coloraxis\":\"coloraxis\",\"size\":{\"dtype\":\"f8\",\"bdata\":\"AUOwV\\u002fZd9j8=\"},\"sizemode\":\"area\",\"sizeref\":0.005201387060501242,\"symbol\":\"circle\"},\"mode\":\"markers\",\"name\":\"\",\"showlegend\":false,\"type\":\"scattergeo\"}],\"name\":\"1901\"},{\"data\":[{\"customdata\":{\"dtype\":\"f8\",\"bdata\":\"AAAAAADEnUAAAAAAAIBEQAAAAAAAgERAAAAAAAAAAAAAAAAAAAAAAAAAAABATWPA\",\"shape\":\"1, 6\"},\"geo\":\"geo\",\"hovertemplate\":\"\\u003cb\\u003e%{hovertext}\\u003c\\u002fb\\u003e\\u003cbr\\u003e\\u003cbr\\u003eYear=%{customdata[0]}\\u003cbr\\u003eImpact_Score_Log=%{marker.size}\\u003cbr\\u003eLatitude=%{lat}\\u003cbr\\u003eLongitude=%{lon}\\u003cbr\\u003eImpact_Score=%{customdata[1]}\\u003cbr\\u003eTotal Deaths=%{customdata[2]}\\u003cbr\\u003eTotal Affected=%{customdata[3]}\\u003cbr\\u003eTotal Damages ('000 US$)=%{customdata[4]}\\u003cbr\\u003emmfrom1993-2008average=%{marker.color:.2f}\\u003cextra\\u003e\\u003c\\u002fextra\\u003e\",\"hovertext\":[\"Japan\"],\"lat\":[\"37.4\"],\"legendgroup\":\"\",\"lon\":[\"142.6\"],\"marker\":{\"color\":{\"dtype\":\"f8\",\"bdata\":\"AAAAAEBNY8A=\"},\"coloraxis\":\"coloraxis\",\"size\":{\"dtype\":\"f8\",\"bdata\":\"Hzp4P9T4+T8=\"},\"sizemode\":\"area\",\"sizeref\":0.005201387060501242,\"symbol\":\"circle\"},\"mode\":\"markers\",\"name\":\"\",\"showlegend\":false,\"type\":\"scattergeo\"}],\"name\":\"1905\"},{\"data\":[{\"customdata\":{\"dtype\":\"f8\",\"bdata\":\"AAAAAAAsnkAAAAAAAABJQAAAAAAAAElAAAAAAAAAAAAAAAAAAAAAAL2KMVXVr1\\u002fA\",\"shape\":\"1, 6\"},\"geo\":\"geo\",\"hovertemplate\":\"\\u003cb\\u003e%{hovertext}\\u003c\\u002fb\\u003e\\u003cbr\\u003e\\u003cbr\\u003eYear=%{customdata[0]}\\u003cbr\\u003eImpact_Score_Log=%{marker.size}\\u003cbr\\u003eLatitude=%{lat}\\u003cbr\\u003eLongitude=%{lon}\\u003cbr\\u003eImpact_Score=%{customdata[1]}\\u003cbr\\u003eTotal Deaths=%{customdata[2]}\\u003cbr\\u003eTotal Affected=%{customdata[3]}\\u003cbr\\u003eTotal Damages ('000 US$)=%{customdata[4]}\\u003cbr\\u003emmfrom1993-2008average=%{marker.color:.2f}\\u003cextra\\u003e\\u003c\\u002fextra\\u003e\",\"hovertext\":[\"Solomon Islands\"],\"lat\":[\"11.117\"],\"legendgroup\":\"\",\"lon\":[\"161.11\"],\"marker\":{\"color\":{\"dtype\":\"f8\",\"bdata\":\"vYoxVdWvX8A=\"},\"coloraxis\":\"coloraxis\",\"size\":{\"dtype\":\"f8\",\"bdata\":\"FnPfGjVS+z8=\"},\"sizemode\":\"area\",\"sizeref\":0.005201387060501242,\"symbol\":\"circle\"},\"mode\":\"markers\",\"name\":\"\",\"showlegend\":false,\"type\":\"scattergeo\"}],\"name\":\"1931\"},{\"data\":[{\"customdata\":{\"dtype\":\"f8\",\"bdata\":\"AAAAAAA0nkAAAAAAAHCnQAAAAAAAcKdAAAAAAAAAAAAAAAAAAAAAAN0OaETE\\u002fl3A\",\"shape\":\"1, 6\"},\"geo\":\"geo\",\"hovertemplate\":\"\\u003cb\\u003e%{hovertext}\\u003c\\u002fb\\u003e\\u003cbr\\u003e\\u003cbr\\u003eYear=%{customdata[0]}\\u003cbr\\u003eImpact_Score_Log=%{marker.size}\\u003cbr\\u003eLatitude=%{lat}\\u003cbr\\u003eLongitude=%{lon}\\u003cbr\\u003eImpact_Score=%{customdata[1]}\\u003cbr\\u003eTotal Deaths=%{customdata[2]}\\u003cbr\\u003eTotal Affected=%{customdata[3]}\\u003cbr\\u003eTotal Damages ('000 US$)=%{customdata[4]}\\u003cbr\\u003emmfrom1993-2008average=%{marker.color:.2f}\\u003cextra\\u003e\\u003c\\u002fextra\\u003e\",\"hovertext\":[\"Japan\"],\"lat\":[\"39.224\"],\"legendgroup\":\"\",\"lon\":[\"144.622\"],\"marker\":{\"color\":{\"dtype\":\"f8\",\"bdata\":\"3Q5oRMT+XcA=\"},\"coloraxis\":\"coloraxis\",\"size\":{\"dtype\":\"f8\",\"bdata\":\"tL2O1XDRC0A=\"},\"sizemode\":\"area\",\"sizeref\":0.005201387060501242,\"symbol\":\"circle\"},\"mode\":\"markers\",\"name\":\"\",\"showlegend\":false,\"type\":\"scattergeo\"}],\"name\":\"1933\"},{\"data\":[{\"customdata\":{\"dtype\":\"f8\",\"bdata\":\"AAAAAABgnkAAAAAA0KvzQAAAAAAAHJNAAAAAANCr80AAAAAAAAAAAIlX\\u002fiGiPF3A\",\"shape\":\"1, 6\"},\"geo\":\"geo\",\"hovertemplate\":\"\\u003cb\\u003e%{hovertext}\\u003c\\u002fb\\u003e\\u003cbr\\u003e\\u003cbr\\u003eYear=%{customdata[0]}\\u003cbr\\u003eImpact_Score_Log=%{marker.size}\\u003cbr\\u003eLatitude=%{lat}\\u003cbr\\u003eLongitude=%{lon}\\u003cbr\\u003eImpact_Score=%{customdata[1]}\\u003cbr\\u003eTotal Deaths=%{customdata[2]}\\u003cbr\\u003eTotal Affected=%{customdata[3]}\\u003cbr\\u003eTotal Damages ('000 US$)=%{customdata[4]}\\u003cbr\\u003emmfrom1993-2008average=%{marker.color:.2f}\\u003cextra\\u003e\\u003c\\u002fextra\\u003e\",\"hovertext\":[\"Japan\"],\"lat\":[\"33.682\"],\"legendgroup\":\"\",\"lon\":[\"36.204\"],\"marker\":{\"color\":{\"dtype\":\"f8\",\"bdata\":\"iVf+IaI8XcA=\"},\"coloraxis\":\"coloraxis\",\"size\":{\"dtype\":\"f8\",\"bdata\":\"YyLtj\\u002fGfE0A=\"},\"sizemode\":\"area\",\"sizeref\":0.005201387060501242,\"symbol\":\"circle\"},\"mode\":\"markers\",\"name\":\"\",\"showlegend\":false,\"type\":\"scattergeo\"}],\"name\":\"1944\"},{\"data\":[{\"customdata\":{\"dtype\":\"f8\",\"bdata\":\"AAAAAABonkAAAAAAAGrYQAAAAAAAoGRAAAAAAAAAAAAAAAAAAGrYQFSlFBGRK1fA\",\"shape\":\"1, 6\"},\"geo\":\"geo\",\"hovertemplate\":\"\\u003cb\\u003e%{hovertext}\\u003c\\u002fb\\u003e\\u003cbr\\u003e\\u003cbr\\u003eYear=%{customdata[0]}\\u003cbr\\u003eImpact_Score_Log=%{marker.size}\\u003cbr\\u003eLatitude=%{lat}\\u003cbr\\u003eLongitude=%{lon}\\u003cbr\\u003eImpact_Score=%{customdata[1]}\\u003cbr\\u003eTotal Deaths=%{customdata[2]}\\u003cbr\\u003eTotal Affected=%{customdata[3]}\\u003cbr\\u003eTotal Damages ('000 US$)=%{customdata[4]}\\u003cbr\\u003emmfrom1993-2008average=%{marker.color:.2f}\\u003cextra\\u003e\\u003c\\u002fextra\\u003e\",\"hovertext\":[\"United States of America (the)\"],\"lat\":[\"53.492\"],\"legendgroup\":\"\",\"lon\":[\"-162.832\"],\"marker\":{\"color\":{\"dtype\":\"f8\",\"bdata\":\"VKUUEZErV8A=\"},\"coloraxis\":\"coloraxis\",\"size\":{\"dtype\":\"f8\",\"bdata\":\"\\u002fv2yI4KXEUA=\"},\"sizemode\":\"area\",\"sizeref\":0.005201387060501242,\"symbol\":\"circle\"},\"mode\":\"markers\",\"name\":\"\",\"showlegend\":false,\"type\":\"scattergeo\"}],\"name\":\"1946\"},{\"data\":[{\"customdata\":{\"dtype\":\"f8\",\"bdata\":\"AAAAAACwnkAAAAAAAGooQQAAAAAAADlAAAAAAABG4UAAAAAAAGooQYfYR0TEvlHAAAAAAACwnkAAAAAAYPsSQQAAAAAAYGBAAAAAAAAAAAAAAAAAYPsSQYfYR0TEvlHA\",\"shape\":\"2, 6\"},\"geo\":\"geo\",\"hovertemplate\":\"\\u003cb\\u003e%{hovertext}\\u003c\\u002fb\\u003e\\u003cbr\\u003e\\u003cbr\\u003eYear=%{customdata[0]}\\u003cbr\\u003eImpact_Score_Log=%{marker.size}\\u003cbr\\u003eLatitude=%{lat}\\u003cbr\\u003eLongitude=%{lon}\\u003cbr\\u003eImpact_Score=%{customdata[1]}\\u003cbr\\u003eTotal Deaths=%{customdata[2]}\\u003cbr\\u003eTotal Affected=%{customdata[3]}\\u003cbr\\u003eTotal Damages ('000 US$)=%{customdata[4]}\\u003cbr\\u003emmfrom1993-2008average=%{marker.color:.2f}\\u003cextra\\u003e\\u003c\\u002fextra\\u003e\",\"hovertext\":[\"Japan\",\"United States of America (the)\"],\"lat\":[\"38.67\",\"60.908\"],\"legendgroup\":\"\",\"lon\":[\"139.195\",\"-147.339\"],\"marker\":{\"color\":{\"dtype\":\"f8\",\"bdata\":\"h9hHRMS+UcCH2EdExL5RwA==\"},\"coloraxis\":\"coloraxis\",\"size\":{\"dtype\":\"f8\",\"bdata\":\"jEyMw8OcF0AmP6WLlvgVQA==\"},\"sizemode\":\"area\",\"sizeref\":0.005201387060501242,\"symbol\":\"circle\"},\"mode\":\"markers\",\"name\":\"\",\"showlegend\":false,\"type\":\"scattergeo\"}],\"name\":\"1964\"},{\"data\":[{\"customdata\":{\"dtype\":\"f8\",\"bdata\":\"AAAAAADcnkAAAAAAAABpQAAAAAAAAGlAAAAAAAAAAAAAAAAAAAAAAPNOcHd37EbA\",\"shape\":\"1, 6\"},\"geo\":\"geo\",\"hovertemplate\":\"\\u003cb\\u003e%{hovertext}\\u003c\\u002fb\\u003e\\u003cbr\\u003e\\u003cbr\\u003eYear=%{customdata[0]}\\u003cbr\\u003eImpact_Score_Log=%{marker.size}\\u003cbr\\u003eLatitude=%{lat}\\u003cbr\\u003eLongitude=%{lon}\\u003cbr\\u003eImpact_Score=%{customdata[1]}\\u003cbr\\u003eTotal Deaths=%{customdata[2]}\\u003cbr\\u003eTotal Affected=%{customdata[3]}\\u003cbr\\u003eTotal Damages ('000 US$)=%{customdata[4]}\\u003cbr\\u003emmfrom1993-2008average=%{marker.color:.2f}\\u003cextra\\u003e\\u003c\\u002fextra\\u003e\",\"hovertext\":[\"Solomon Islands\"],\"lat\":[\"-7.104\"],\"legendgroup\":\"\",\"lon\":[\"155.152\"],\"marker\":{\"color\":{\"dtype\":\"f8\",\"bdata\":\"805wd3fsRsA=\"},\"coloraxis\":\"coloraxis\",\"size\":{\"dtype\":\"f8\",\"bdata\":\"Vy33DfJsAkA=\"},\"sizemode\":\"area\",\"sizeref\":0.005201387060501242,\"symbol\":\"circle\"},\"mode\":\"markers\",\"name\":\"\",\"showlegend\":false,\"type\":\"scattergeo\"}],\"name\":\"1975\"},{\"data\":[{\"customdata\":{\"dtype\":\"f8\",\"bdata\":\"AAAAAADsnkAAAAAAAAAmQAAAAAAAACZAAAAAAAAAAEAAAAAAAAAAADMzMzMzaEfAAAAAAADsnkAAAAAAANiAQAAAAAAA2IBAAAAAAAAAN0AAAAAAAAAAADMzMzMzaEfA\",\"shape\":\"2, 6\"},\"geo\":\"geo\",\"hovertemplate\":\"\\u003cb\\u003e%{hovertext}\\u003c\\u002fb\\u003e\\u003cbr\\u003e\\u003cbr\\u003eYear=%{customdata[0]}\\u003cbr\\u003eImpact_Score_Log=%{marker.size}\\u003cbr\\u003eLatitude=%{lat}\\u003cbr\\u003eLongitude=%{lon}\\u003cbr\\u003eImpact_Score=%{customdata[1]}\\u003cbr\\u003eTotal Deaths=%{customdata[2]}\\u003cbr\\u003eTotal Affected=%{customdata[3]}\\u003cbr\\u003eTotal Damages ('000 US$)=%{customdata[4]}\\u003cbr\\u003emmfrom1993-2008average=%{marker.color:.2f}\\u003cextra\\u003e\\u003c\\u002fextra\\u003e\",\"hovertext\":[\"France\",\"Indonesia\"],\"lat\":[\"43.70 N\",\"8.8\"],\"legendgroup\":\"\",\"lon\":[\"7.25 E\",\"123.5\"],\"marker\":{\"color\":{\"dtype\":\"f8\",\"bdata\":\"MzMzMzNoR8AzMzMzM2hHwA==\"},\"coloraxis\":\"coloraxis\",\"size\":{\"dtype\":\"f8\",\"bdata\":\"f7LjjVNE8T9\\u002f33FC8dsFQA==\"},\"sizemode\":\"area\",\"sizeref\":0.005201387060501242,\"symbol\":\"circle\"},\"mode\":\"markers\",\"name\":\"\",\"showlegend\":false,\"type\":\"scattergeo\"}],\"name\":\"1979\"},{\"data\":[{\"customdata\":{\"dtype\":\"f8\",\"bdata\":\"AAAAAAD8nkAAAAAAAGQZQQAAAAAAgFlAAAAAAABAU0AAAAAAAGQZQegu7N3dRzbA\",\"shape\":\"1, 6\"},\"geo\":\"geo\",\"hovertemplate\":\"\\u003cb\\u003e%{hovertext}\\u003c\\u002fb\\u003e\\u003cbr\\u003e\\u003cbr\\u003eYear=%{customdata[0]}\\u003cbr\\u003eImpact_Score_Log=%{marker.size}\\u003cbr\\u003eLatitude=%{lat}\\u003cbr\\u003eLongitude=%{lon}\\u003cbr\\u003eImpact_Score=%{customdata[1]}\\u003cbr\\u003eTotal Deaths=%{customdata[2]}\\u003cbr\\u003eTotal Affected=%{customdata[3]}\\u003cbr\\u003eTotal Damages ('000 US$)=%{customdata[4]}\\u003cbr\\u003emmfrom1993-2008average=%{marker.color:.2f}\\u003cextra\\u003e\\u003c\\u002fextra\\u003e\",\"hovertext\":[\"Japan\"],\"lat\":[\"40.462\"],\"legendgroup\":\"\",\"lon\":[\"139.102\"],\"marker\":{\"color\":{\"dtype\":\"f8\",\"bdata\":\"6C7s3d1HNsA=\"},\"coloraxis\":\"coloraxis\",\"size\":{\"dtype\":\"f8\",\"bdata\":\"HTkw4PN5FkA=\"},\"sizemode\":\"area\",\"sizeref\":0.005201387060501242,\"symbol\":\"circle\"},\"mode\":\"markers\",\"name\":\"\",\"showlegend\":false,\"type\":\"scattergeo\"}],\"name\":\"1983\"},{\"data\":[{\"customdata\":{\"dtype\":\"f8\",\"bdata\":\"AAAAAAAkn0AAAAAAgIQuQQAAAAAA4G1AAAAAAAC7vEAAAAAAgIQuQegu7N3dxzbA\",\"shape\":\"1, 6\"},\"geo\":\"geo\",\"hovertemplate\":\"\\u003cb\\u003e%{hovertext}\\u003c\\u002fb\\u003e\\u003cbr\\u003e\\u003cbr\\u003eYear=%{customdata[0]}\\u003cbr\\u003eImpact_Score_Log=%{marker.size}\\u003cbr\\u003eLatitude=%{lat}\\u003cbr\\u003eLongitude=%{lon}\\u003cbr\\u003eImpact_Score=%{customdata[1]}\\u003cbr\\u003eTotal Deaths=%{customdata[2]}\\u003cbr\\u003eTotal Affected=%{customdata[3]}\\u003cbr\\u003eTotal Damages ('000 US$)=%{customdata[4]}\\u003cbr\\u003emmfrom1993-2008average=%{marker.color:.2f}\\u003cextra\\u003e\\u003c\\u002fextra\\u003e\",\"hovertext\":[\"Japan\"],\"lat\":[\"42.851 N\"],\"legendgroup\":\"\",\"lon\":[\"139.197 E\"],\"marker\":{\"color\":{\"dtype\":\"f8\",\"bdata\":\"6C7s3d3HNsA=\"},\"coloraxis\":\"coloraxis\",\"size\":{\"dtype\":\"f8\",\"bdata\":\"YB4lHQAAGEA=\"},\"sizemode\":\"area\",\"sizeref\":0.005201387060501242,\"symbol\":\"circle\"},\"mode\":\"markers\",\"name\":\"\",\"showlegend\":false,\"type\":\"scattergeo\"}],\"name\":\"1993\"},{\"data\":[{\"customdata\":{\"dtype\":\"f8\",\"bdata\":\"AAAAAAAwn0AAAAAAAICHQAAAAAAAABxAAAAAAACAh0AAAAAAAAAAAP1u9BAR5SfA\",\"shape\":\"1, 6\"},\"geo\":\"geo\",\"hovertemplate\":\"\\u003cb\\u003e%{hovertext}\\u003c\\u002fb\\u003e\\u003cbr\\u003e\\u003cbr\\u003eYear=%{customdata[0]}\\u003cbr\\u003eImpact_Score_Log=%{marker.size}\\u003cbr\\u003eLatitude=%{lat}\\u003cbr\\u003eLongitude=%{lon}\\u003cbr\\u003eImpact_Score=%{customdata[1]}\\u003cbr\\u003eTotal Deaths=%{customdata[2]}\\u003cbr\\u003eTotal Affected=%{customdata[3]}\\u003cbr\\u003eTotal Damages ('000 US$)=%{customdata[4]}\\u003cbr\\u003emmfrom1993-2008average=%{marker.color:.2f}\\u003cextra\\u003e\\u003c\\u002fextra\\u003e\",\"hovertext\":[\"Peru\"],\"lat\":[\"9.593 S\"],\"legendgroup\":\"\",\"lon\":[\"79.587 W\"],\"marker\":{\"color\":{\"dtype\":\"f8\",\"bdata\":\"\\u002fW70EBHlJ8A=\"},\"coloraxis\":\"coloraxis\",\"size\":{\"dtype\":\"f8\",\"bdata\":\"A6KgFa0DB0A=\"},\"sizemode\":\"area\",\"sizeref\":0.005201387060501242,\"symbol\":\"circle\"},\"mode\":\"markers\",\"name\":\"\",\"showlegend\":false,\"type\":\"scattergeo\"}],\"name\":\"1996\"},{\"data\":[{\"customdata\":{\"dtype\":\"f8\",\"bdata\":\"AAAAAAA4n0AAAAAAgEXDQAAAAAAADKFAAAAAAIBFw0AAAAAAAAAAAM3MzMzMoCXA\",\"shape\":\"1, 6\"},\"geo\":\"geo\",\"hovertemplate\":\"\\u003cb\\u003e%{hovertext}\\u003c\\u002fb\\u003e\\u003cbr\\u003e\\u003cbr\\u003eYear=%{customdata[0]}\\u003cbr\\u003eImpact_Score_Log=%{marker.size}\\u003cbr\\u003eLatitude=%{lat}\\u003cbr\\u003eLongitude=%{lon}\\u003cbr\\u003eImpact_Score=%{customdata[1]}\\u003cbr\\u003eTotal Deaths=%{customdata[2]}\\u003cbr\\u003eTotal Affected=%{customdata[3]}\\u003cbr\\u003eTotal Damages ('000 US$)=%{customdata[4]}\\u003cbr\\u003emmfrom1993-2008average=%{marker.color:.2f}\\u003cextra\\u003e\\u003c\\u002fextra\\u003e\",\"hovertext\":[\"Papua New Guinea\"],\"lat\":[\"-2.961\"],\"legendgroup\":\"\",\"lon\":[\"141.926\"],\"marker\":{\"color\":{\"dtype\":\"f8\",\"bdata\":\"zczMzMygJcA=\"},\"coloraxis\":\"coloraxis\",\"size\":{\"dtype\":\"f8\",\"bdata\":\"alZkaC70D0A=\"},\"sizemode\":\"area\",\"sizeref\":0.005201387060501242,\"symbol\":\"circle\"},\"mode\":\"markers\",\"name\":\"\",\"showlegend\":false,\"type\":\"scattergeo\"}],\"name\":\"1998\"},{\"data\":[{\"customdata\":{\"dtype\":\"f8\",\"bdata\":\"AAAAAABIn0AAAAAAAL3BQAAAAAAAACBAAAAAAAC9wUAAAAAAAAAAAJD8k4iIOAFA\",\"shape\":\"1, 6\"},\"geo\":\"geo\",\"hovertemplate\":\"\\u003cb\\u003e%{hovertext}\\u003c\\u002fb\\u003e\\u003cbr\\u003e\\u003cbr\\u003eYear=%{customdata[0]}\\u003cbr\\u003eImpact_Score_Log=%{marker.size}\\u003cbr\\u003eLatitude=%{lat}\\u003cbr\\u003eLongitude=%{lon}\\u003cbr\\u003eImpact_Score=%{customdata[1]}\\u003cbr\\u003eTotal Deaths=%{customdata[2]}\\u003cbr\\u003eTotal Affected=%{customdata[3]}\\u003cbr\\u003eTotal Damages ('000 US$)=%{customdata[4]}\\u003cbr\\u003emmfrom1993-2008average=%{marker.color:.2f}\\u003cextra\\u003e\\u003c\\u002fextra\\u003e\",\"hovertext\":[\"Indonesia\"],\"lat\":[\"-1.757\"],\"legendgroup\":\"\",\"lon\":[\"134.297\"],\"marker\":{\"color\":{\"dtype\":\"f8\",\"bdata\":\"kPyTiIg4AUA=\"},\"coloraxis\":\"coloraxis\",\"size\":{\"dtype\":\"f8\",\"bdata\":\"lg90IXSqD0A=\"},\"sizemode\":\"area\",\"sizeref\":0.005201387060501242,\"symbol\":\"circle\"},\"mode\":\"markers\",\"name\":\"\",\"showlegend\":false,\"type\":\"scattergeo\"}],\"name\":\"2002\"},{\"data\":[{\"customdata\":{\"dtype\":\"f8\",\"bdata\":\"AAAAAABEn0AAAAAAaFwVQQAAAAAAIGJAAAAAAGhcFUEAAAAAgE8SQYXOgoiI4BJA\",\"shape\":\"1, 6\"},\"geo\":\"geo\",\"hovertemplate\":\"\\u003cb\\u003e%{hovertext}\\u003c\\u002fb\\u003e\\u003cbr\\u003e\\u003cbr\\u003eYear=%{customdata[0]}\\u003cbr\\u003eImpact_Score_Log=%{marker.size}\\u003cbr\\u003eLatitude=%{lat}\\u003cbr\\u003eLongitude=%{lon}\\u003cbr\\u003eImpact_Score=%{customdata[1]}\\u003cbr\\u003eTotal Deaths=%{customdata[2]}\\u003cbr\\u003eTotal Affected=%{customdata[3]}\\u003cbr\\u003eTotal Damages ('000 US$)=%{customdata[4]}\\u003cbr\\u003emmfrom1993-2008average=%{marker.color:.2f}\\u003cextra\\u003e\\u003c\\u002fextra\\u003e\",\"hovertext\":[\"Peru\"],\"lat\":[\"-16.265\"],\"legendgroup\":\"\",\"lon\":[\"-73.641\"],\"marker\":{\"color\":{\"dtype\":\"f8\",\"bdata\":\"hc6CiIjgEkA=\"},\"coloraxis\":\"coloraxis\",\"size\":{\"dtype\":\"f8\",\"bdata\":\"1FukVxktFkA=\"},\"sizemode\":\"area\",\"sizeref\":0.005201387060501242,\"symbol\":\"circle\"},\"mode\":\"markers\",\"name\":\"\",\"showlegend\":false,\"type\":\"scattergeo\"}],\"name\":\"2001\"},{\"data\":[{\"customdata\":{\"dtype\":\"f8\",\"bdata\":\"AAAAAABQn0AAAAAARPtQQQAAAABgOgRBAAAAAERDIEEAAAAARPtQQTbEPiIiTitAAAAAAABQn0AAAAAAAGr4QAAAAAAAAPA\\u002fAAAAAAAAAAAAAAAAAGr4QDbEPiIiTitAAAAAAABQn0AAAAAAgIQeQQAAAAAAAABAAAAAAAAAAAAAAAAAgIQeQTbEPiIiTitAAAAAAABQn0AAAAAAoDYvQQAAAABAAdBAAAAAAGD5I0EAAAAAoDYvQTbEPiIiTitAAAAAAABQn0AAAAAAlBY0QQAAAADgSOFAAAAAAFQbL0EAAAAAlBY0QTbEPiIiTitAAAAAAABQn0AAAAAAULEcQQAAAAAAgFlAAAAAAICT2kAAAAAAULEcQTbEPiIiTitAAAAAAABQn0AAAAAAgIQeQQAAAAAAAFRAAAAAAADHs0AAAAAAgIQeQTbEPiIiTitAAAAAAABQn0AAAAAAgIQuQQAAAACATMBAAAAAAPBb8EAAAAAAgIQuQTbEPiIiTitAAAAAAABQn0AAAAAAgIQeQQAAAAAAwFFAAAAAAACqzkAAAAAAgIQeQTbEPiIiTitAAAAAAABQn0AAAAAAsKf5QAAAAAAAoHJAAAAAALCn+UAAAAAAAGr4QDbEPiIiTitAAAAAAABQn0AAAAAAAEzdQAAAAAAAAAhAAAAAAADeskAAAAAAAEzdQDbEPiIiTitAAAAAAABQn0AAAAAAAAAkQAAAAAAAACRAAAAAAAAAAAAAAAAAAAAAADbEPiIiTitA\",\"shape\":\"12, 6\"},\"geo\":\"geo\",\"hovertemplate\":\"\\u003cb\\u003e%{hovertext}\\u003c\\u002fb\\u003e\\u003cbr\\u003e\\u003cbr\\u003eYear=%{customdata[0]}\\u003cbr\\u003eImpact_Score_Log=%{marker.size}\\u003cbr\\u003eLatitude=%{lat}\\u003cbr\\u003eLongitude=%{lon}\\u003cbr\\u003eImpact_Score=%{customdata[1]}\\u003cbr\\u003eTotal Deaths=%{customdata[2]}\\u003cbr\\u003eTotal Affected=%{customdata[3]}\\u003cbr\\u003eTotal Damages ('000 US$)=%{customdata[4]}\\u003cbr\\u003emmfrom1993-2008average=%{marker.color:.2f}\\u003cextra\\u003e\\u003c\\u002fextra\\u003e\",\"hovertext\":[\"Indonesia\",\"Kenya\",\"Bangladesh\",\"India\",\"Sri Lanka\",\"Maldives\",\"Malaysia\",\"Thailand\",\"Myanmar\",\"Somalia\",\"Seychelles\",\"Tanzania, United Republic of\"],\"lat\":[\"3.295\",\"3.295\",\"3.295\",\"3.295\",\"3.295\",\"3.295\",\"3.295\",\"3.295\",\"3.295\",\"3.295\",\"3.295\",\"3.295\"],\"legendgroup\":\"\",\"lon\":[\"95.982\",\"95.982\",\"95.982\",\"95.982\",\"95.982\",\"95.982\",\"95.982\",\"95.982\",\"95.982\",\"95.982\",\"95.982\",\"95.982\"],\"marker\":{\"color\":{\"dtype\":\"f8\",\"bdata\":\"NsQ+IiJOK0A2xD4iIk4rQDbEPiIiTitANsQ+IiJOK0A2xD4iIk4rQDbEPiIiTitANsQ+IiJOK0A2xD4iIk4rQDbEPiIiTitANsQ+IiJOK0A2xD4iIk4rQDbEPiIiTitA\"},\"coloraxis\":\"coloraxis\",\"size\":{\"dtype\":\"f8\",\"bdata\":\"GW6RoxSYGkDP2XIjAQAUQDhDQAW\\u002fyxZAfoWMsAYKGEB1Kp+MSXoYQE6CJeJSsBZAOENABb\\u002fLFkBgHiUdAAAYQDhDQAW\\u002fyxZAqb55sA0WFECg7OBElugRQG\\u002fFUGCLqfA\\u002f\"},\"sizemode\":\"area\",\"sizeref\":0.005201387060501242,\"symbol\":\"circle\"},\"mode\":\"markers\",\"name\":\"\",\"showlegend\":false,\"type\":\"scattergeo\"}],\"name\":\"2004\"},{\"data\":[{\"customdata\":{\"dtype\":\"f8\",\"bdata\":\"AAAAAABYn0AAAAAAAMiSQAAAAAAAAAhAAAAAAADIkkAAAAAAAAAAANwA293dCSNAAAAAAABYn0AAAAAAANvqQAAAAAAAEIlAAAAAAOBa4UAAAAAAANvqQNwA293dCSNA\",\"shape\":\"2, 6\"},\"geo\":\"geo\",\"hovertemplate\":\"\\u003cb\\u003e%{hovertext}\\u003c\\u002fb\\u003e\\u003cbr\\u003e\\u003cbr\\u003eYear=%{customdata[0]}\\u003cbr\\u003eImpact_Score_Log=%{marker.size}\\u003cbr\\u003eLatitude=%{lat}\\u003cbr\\u003eLongitude=%{lon}\\u003cbr\\u003eImpact_Score=%{customdata[1]}\\u003cbr\\u003eTotal Deaths=%{customdata[2]}\\u003cbr\\u003eTotal Affected=%{customdata[3]}\\u003cbr\\u003eTotal Damages ('000 US$)=%{customdata[4]}\\u003cbr\\u003emmfrom1993-2008average=%{marker.color:.2f}\\u003cextra\\u003e\\u003c\\u002fextra\\u003e\",\"hovertext\":[\"Indonesia\",\"Indonesia\"],\"lat\":[\"-3.595\",\"-9.284\"],\"legendgroup\":\"\",\"lon\":[\"127.214\",\"107.419\"],\"marker\":{\"color\":{\"dtype\":\"f8\",\"bdata\":\"3ADb3d0JI0DcANvd3QkjQA==\"},\"coloraxis\":\"coloraxis\",\"size\":{\"dtype\":\"f8\",\"bdata\":\"KFcjTmKkCEBRw\\u002fG0I\\u002fYSQA==\"},\"sizemode\":\"area\",\"sizeref\":0.005201387060501242,\"symbol\":\"circle\"},\"mode\":\"markers\",\"name\":\"\",\"showlegend\":false,\"type\":\"scattergeo\"}],\"name\":\"2006\"},{\"data\":[{\"customdata\":{\"dtype\":\"f8\",\"bdata\":\"AAAAAABcn0AAAAAAAKCiQAAAAAAAAEpAAAAAAACgokAAAAAAAAAAADMzMzMzyTZAAAAAAABcn0AAAAAAAAAkQAAAAAAAACRAAAAAAAAAAAAAAAAAAAAAADMzMzMzyTZA\",\"shape\":\"2, 6\"},\"geo\":\"geo\",\"hovertemplate\":\"\\u003cb\\u003e%{hovertext}\\u003c\\u002fb\\u003e\\u003cbr\\u003e\\u003cbr\\u003eYear=%{customdata[0]}\\u003cbr\\u003eImpact_Score_Log=%{marker.size}\\u003cbr\\u003eLatitude=%{lat}\\u003cbr\\u003eLongitude=%{lon}\\u003cbr\\u003eImpact_Score=%{customdata[1]}\\u003cbr\\u003eTotal Deaths=%{customdata[2]}\\u003cbr\\u003eTotal Affected=%{customdata[3]}\\u003cbr\\u003eTotal Damages ('000 US$)=%{customdata[4]}\\u003cbr\\u003emmfrom1993-2008average=%{marker.color:.2f}\\u003cextra\\u003e\\u003c\\u002fextra\\u003e\",\"hovertext\":[\"Solomon Islands\",\"Chile\"],\"lat\":[\"-8.466\",\"-45.243\"],\"legendgroup\":\"\",\"lon\":[\"157.043\",\"-72.648\"],\"marker\":{\"color\":{\"dtype\":\"f8\",\"bdata\":\"MzMzMzPJNkAzMzMzM8k2QA==\"},\"coloraxis\":\"coloraxis\",\"size\":{\"dtype\":\"f8\",\"bdata\":\"YcMpoRgFC0BvxVBgi6nwPw==\"},\"sizemode\":\"area\",\"sizeref\":0.005201387060501242,\"symbol\":\"circle\"},\"mode\":\"markers\",\"name\":\"\",\"showlegend\":false,\"type\":\"scattergeo\"}],\"name\":\"2007\"},{\"data\":[{\"customdata\":{\"dtype\":\"f8\",\"bdata\":\"AAAAAABkn0AAAAAAAIijQAAAAAAAAEFAAAAAAACIo0AAAAAAAAAAAA2xj4iI00BAAAAAAABkn0AAAAAAAGoYQQAAAAAAAPA\\u002fAAAAAMC52EAAAAAAAGoYQQ2xj4iI00BAAAAAAABkn0AAAAAAAI7CQAAAAAAAACJAAAAAAACwf0AAAAAAAI7CQA2xj4iI00BAAAAAAABkn0AAAAAAgEj+QAAAAAAAgGJAAAAAAADQtUAAAAAAgEj+QA2xj4iI00BA\",\"shape\":\"4, 6\"},\"geo\":\"geo\",\"hovertemplate\":\"\\u003cb\\u003e%{hovertext}\\u003c\\u002fb\\u003e\\u003cbr\\u003e\\u003cbr\\u003eYear=%{customdata[0]}\\u003cbr\\u003eImpact_Score_Log=%{marker.size}\\u003cbr\\u003eLatitude=%{lat}\\u003cbr\\u003eLongitude=%{lon}\\u003cbr\\u003eImpact_Score=%{customdata[1]}\\u003cbr\\u003eTotal Deaths=%{customdata[2]}\\u003cbr\\u003eTotal Affected=%{customdata[3]}\\u003cbr\\u003eTotal Damages ('000 US$)=%{customdata[4]}\\u003cbr\\u003emmfrom1993-2008average=%{marker.color:.2f}\\u003cextra\\u003e\\u003c\\u002fextra\\u003e\",\"hovertext\":[\"American Samoa\",\"Japan\",\"Tonga\",\"Samoa\"],\"lat\":[\"-15.489\",\"34.743\",\"-15.489\",\"-15.489\"],\"legendgroup\":\"\",\"lon\":[\"-172.095\",\"138.264\",\"-172.095\",\"-172.095\"],\"marker\":{\"color\":{\"dtype\":\"f8\",\"bdata\":\"DbGPiIjTQEANsY+IiNNAQA2xj4iI00BADbGPiIjTQEA=\"},\"coloraxis\":\"coloraxis\",\"size\":{\"dtype\":\"f8\",\"bdata\":\"JJQwO1YvC0Cct\\u002fCygmgWQF\\u002fiYbh40g9A6Uo6ks9fFEA=\"},\"sizemode\":\"area\",\"sizeref\":0.005201387060501242,\"symbol\":\"circle\"},\"mode\":\"markers\",\"name\":\"\",\"showlegend\":false,\"type\":\"scattergeo\"}],\"name\":\"2009\"},{\"data\":[{\"customdata\":{\"dtype\":\"f8\",\"bdata\":\"AAAAAABon0AAAAAAOJx8QQAAAAAAkIFAAAAAAOJhREEAAAAAOJx8Qcpkgitq8EBAAAAAAABon0AAAAAAACzHQAAAAAAAkIBAAAAAAAAsx0AAAAAAAAAAAMpkgitq8EBA\",\"shape\":\"2, 6\"},\"geo\":\"geo\",\"hovertemplate\":\"\\u003cb\\u003e%{hovertext}\\u003c\\u002fb\\u003e\\u003cbr\\u003e\\u003cbr\\u003eYear=%{customdata[0]}\\u003cbr\\u003eImpact_Score_Log=%{marker.size}\\u003cbr\\u003eLatitude=%{lat}\\u003cbr\\u003eLongitude=%{lon}\\u003cbr\\u003eImpact_Score=%{customdata[1]}\\u003cbr\\u003eTotal Deaths=%{customdata[2]}\\u003cbr\\u003eTotal Affected=%{customdata[3]}\\u003cbr\\u003eTotal Damages ('000 US$)=%{customdata[4]}\\u003cbr\\u003emmfrom1993-2008average=%{marker.color:.2f}\\u003cextra\\u003e\\u003c\\u002fextra\\u003e\",\"hovertext\":[\"Chile\",\"Indonesia\"],\"lat\":[\"-36.122\",\"-3.487\"],\"legendgroup\":\"\",\"lon\":[\"-72.898\",\"100.082\"],\"marker\":{\"color\":{\"dtype\":\"f8\",\"bdata\":\"ymSCK2rwQEDKZIIravBAQA==\"},\"coloraxis\":\"coloraxis\",\"size\":{\"dtype\":\"f8\",\"bdata\":\"nrFdepLoHUBeqNXXDEwQQA==\"},\"sizemode\":\"area\",\"sizeref\":0.005201387060501242,\"symbol\":\"circle\"},\"mode\":\"markers\",\"name\":\"\",\"showlegend\":false,\"type\":\"scattergeo\"}],\"name\":\"2010\"},{\"data\":[{\"customdata\":{\"dtype\":\"f8\",\"bdata\":\"AAAAAABsn0AAAAAAAMBXQAAAAAAAAPA\\u002fAAAAAADAV0AAAAAAAAAAAPkwe9n2W0JAAAAAAABsn0AAAAAAsQipQQAAAACAYdNAAAAAANCCFkEAAAAAsQipQfkwe9n2W0JA\",\"shape\":\"2, 6\"},\"geo\":\"geo\",\"hovertemplate\":\"\\u003cb\\u003e%{hovertext}\\u003c\\u002fb\\u003e\\u003cbr\\u003e\\u003cbr\\u003eYear=%{customdata[0]}\\u003cbr\\u003eImpact_Score_Log=%{marker.size}\\u003cbr\\u003eLatitude=%{lat}\\u003cbr\\u003eLongitude=%{lon}\\u003cbr\\u003eImpact_Score=%{customdata[1]}\\u003cbr\\u003eTotal Deaths=%{customdata[2]}\\u003cbr\\u003eTotal Affected=%{customdata[3]}\\u003cbr\\u003eTotal Damages ('000 US$)=%{customdata[4]}\\u003cbr\\u003emmfrom1993-2008average=%{marker.color:.2f}\\u003cextra\\u003e\\u003c\\u002fextra\\u003e\",\"hovertext\":[\"Indonesia\",\"Japan\"],\"lat\":[\"38.297\",\"38.297\"],\"legendgroup\":\"\",\"lon\":[\"142.373\",\"142.373\"],\"marker\":{\"color\":{\"dtype\":\"f8\",\"bdata\":\"+TB72fZbQkD5MHvZ9ltCQA==\"},\"coloraxis\":\"coloraxis\",\"size\":{\"dtype\":\"f8\",\"bdata\":\"\\u002fk1bCmK3\\u002fz8vz3vt+aQgQA==\"},\"sizemode\":\"area\",\"sizeref\":0.005201387060501242,\"symbol\":\"circle\"},\"mode\":\"markers\",\"name\":\"\",\"showlegend\":false,\"type\":\"scattergeo\"}],\"name\":\"2011\"},{\"data\":[{\"customdata\":{\"dtype\":\"f8\",\"bdata\":\"AAAAAAB0n0AAAAAAAAKqQAAAAAAAACRAAAAAAAACqkAAAAAAAECfQLSKxCVDq0RA\",\"shape\":\"1, 6\"},\"geo\":\"geo\",\"hovertemplate\":\"\\u003cb\\u003e%{hovertext}\\u003c\\u002fb\\u003e\\u003cbr\\u003e\\u003cbr\\u003eYear=%{customdata[0]}\\u003cbr\\u003eImpact_Score_Log=%{marker.size}\\u003cbr\\u003eLatitude=%{lat}\\u003cbr\\u003eLongitude=%{lon}\\u003cbr\\u003eImpact_Score=%{customdata[1]}\\u003cbr\\u003eTotal Deaths=%{customdata[2]}\\u003cbr\\u003eTotal Affected=%{customdata[3]}\\u003cbr\\u003eTotal Damages ('000 US$)=%{customdata[4]}\\u003cbr\\u003emmfrom1993-2008average=%{marker.color:.2f}\\u003cextra\\u003e\\u003c\\u002fextra\\u003e\",\"hovertext\":[\"Solomon Islands\"],\"lat\":[\"-10.799\"],\"legendgroup\":\"\",\"lon\":[\"165.114\"],\"marker\":{\"color\":{\"dtype\":\"f8\",\"bdata\":\"tIrEJUOrREA=\"},\"coloraxis\":\"coloraxis\",\"size\":{\"dtype\":\"f8\",\"bdata\":\"vyUHPvctDEA=\"},\"sizemode\":\"area\",\"sizeref\":0.005201387060501242,\"symbol\":\"circle\"},\"mode\":\"markers\",\"name\":\"\",\"showlegend\":false,\"type\":\"scattergeo\"}],\"name\":\"2013\"},{\"data\":[{\"customdata\":{\"dtype\":\"f8\",\"bdata\":\"AAAAAAB8n0AAAAAAAGooQQAAAAAAADNAAAAAADbMJEEAAAAAAGooQY6D4CsZO0lA\",\"shape\":\"1, 6\"},\"geo\":\"geo\",\"hovertemplate\":\"\\u003cb\\u003e%{hovertext}\\u003c\\u002fb\\u003e\\u003cbr\\u003e\\u003cbr\\u003eYear=%{customdata[0]}\\u003cbr\\u003eImpact_Score_Log=%{marker.size}\\u003cbr\\u003eLatitude=%{lat}\\u003cbr\\u003eLongitude=%{lon}\\u003cbr\\u003eImpact_Score=%{customdata[1]}\\u003cbr\\u003eTotal Deaths=%{customdata[2]}\\u003cbr\\u003eTotal Affected=%{customdata[3]}\\u003cbr\\u003eTotal Damages ('000 US$)=%{customdata[4]}\\u003cbr\\u003emmfrom1993-2008average=%{marker.color:.2f}\\u003cextra\\u003e\\u003c\\u002fextra\\u003e\",\"hovertext\":[\"Chile\"],\"lat\":[\"-31.5729\"],\"legendgroup\":\"\",\"lon\":[\"-71.6744\"],\"marker\":{\"color\":{\"dtype\":\"f8\",\"bdata\":\"joPgKxk7SUA=\"},\"coloraxis\":\"coloraxis\",\"size\":{\"dtype\":\"f8\",\"bdata\":\"jEyMw8OcF0A=\"},\"sizemode\":\"area\",\"sizeref\":0.005201387060501242,\"symbol\":\"circle\"},\"mode\":\"markers\",\"name\":\"\",\"showlegend\":false,\"type\":\"scattergeo\"}],\"name\":\"2015\"},{\"data\":[{\"customdata\":{\"dtype\":\"f8\",\"bdata\":\"AAAAAACAn0AAAAAAMMFNQQAAAAAAAABAAAAAAAAASUAAAAAAMMFNQWvGN05pLEtA\",\"shape\":\"1, 6\"},\"geo\":\"geo\",\"hovertemplate\":\"\\u003cb\\u003e%{hovertext}\\u003c\\u002fb\\u003e\\u003cbr\\u003e\\u003cbr\\u003eYear=%{customdata[0]}\\u003cbr\\u003eImpact_Score_Log=%{marker.size}\\u003cbr\\u003eLatitude=%{lat}\\u003cbr\\u003eLongitude=%{lon}\\u003cbr\\u003eImpact_Score=%{customdata[1]}\\u003cbr\\u003eTotal Deaths=%{customdata[2]}\\u003cbr\\u003eTotal Affected=%{customdata[3]}\\u003cbr\\u003eTotal Damages ('000 US$)=%{customdata[4]}\\u003cbr\\u003emmfrom1993-2008average=%{marker.color:.2f}\\u003cextra\\u003e\\u003c\\u002fextra\\u003e\",\"hovertext\":[\"New Zealand\"],\"lat\":[\"-42.725\"],\"legendgroup\":\"\",\"lon\":[\"173.064\"],\"marker\":{\"color\":{\"dtype\":\"f8\",\"bdata\":\"a8Y3TmksS0A=\"},\"coloraxis\":\"coloraxis\",\"size\":{\"dtype\":\"f8\",\"bdata\":\"nR3NEUBdGkA=\"},\"sizemode\":\"area\",\"sizeref\":0.005201387060501242,\"symbol\":\"circle\"},\"mode\":\"markers\",\"name\":\"\",\"showlegend\":false,\"type\":\"scattergeo\"}],\"name\":\"2016\"},{\"data\":[{\"customdata\":{\"dtype\":\"f8\",\"bdata\":\"AAAAAACIn0AAAAAAgIQ+QQAAAAAALLBAAAAAAICEPkEAAAAAECA2Qagi7EblikpA\",\"shape\":\"1, 6\"},\"geo\":\"geo\",\"hovertemplate\":\"\\u003cb\\u003e%{hovertext}\\u003c\\u002fb\\u003e\\u003cbr\\u003e\\u003cbr\\u003eYear=%{customdata[0]}\\u003cbr\\u003eImpact_Score_Log=%{marker.size}\\u003cbr\\u003eLatitude=%{lat}\\u003cbr\\u003eLongitude=%{lon}\\u003cbr\\u003eImpact_Score=%{customdata[1]}\\u003cbr\\u003eTotal Deaths=%{customdata[2]}\\u003cbr\\u003eTotal Affected=%{customdata[3]}\\u003cbr\\u003eTotal Damages ('000 US$)=%{customdata[4]}\\u003cbr\\u003emmfrom1993-2008average=%{marker.color:.2f}\\u003cextra\\u003e\\u003c\\u002fextra\\u003e\",\"hovertext\":[\"Indonesia\"],\"lat\":[\"-178\"],\"legendgroup\":\"\",\"lon\":[\"119.84\"],\"marker\":{\"color\":{\"dtype\":\"f8\",\"bdata\":\"qCLsRuWKSkA=\"},\"coloraxis\":\"coloraxis\",\"size\":{\"dtype\":\"f8\",\"bdata\":\"DYecQ0E0GUA=\"},\"sizemode\":\"area\",\"sizeref\":0.005201387060501242,\"symbol\":\"circle\"},\"mode\":\"markers\",\"name\":\"\",\"showlegend\":false,\"type\":\"scattergeo\"}],\"name\":\"2018\"},{\"data\":[{\"customdata\":{\"dtype\":\"f8\",\"bdata\":\"AAAAAACYnkAAAAAAAMBbQAAAAAAAwFtAAAAAAAAAR0AAAAAAAAAAAAAAAACAOlLA\",\"shape\":\"1, 6\"},\"geo\":\"geo\",\"hovertemplate\":\"\\u003cb\\u003e%{hovertext}\\u003c\\u002fb\\u003e\\u003cbr\\u003e\\u003cbr\\u003eYear=%{customdata[0]}\\u003cbr\\u003eImpact_Score_Log=%{marker.size}\\u003cbr\\u003eLatitude=%{lat}\\u003cbr\\u003eLongitude=%{lon}\\u003cbr\\u003eImpact_Score=%{customdata[1]}\\u003cbr\\u003eTotal Deaths=%{customdata[2]}\\u003cbr\\u003eTotal Affected=%{customdata[3]}\\u003cbr\\u003eTotal Damages ('000 US$)=%{customdata[4]}\\u003cbr\\u003emmfrom1993-2008average=%{marker.color:.2f}\\u003cextra\\u003e\\u003c\\u002fextra\\u003e\",\"hovertext\":[\"Colombia\"],\"lat\":[\"1.5\"],\"legendgroup\":\"\",\"lon\":[\"-79.5\"],\"marker\":{\"color\":{\"dtype\":\"f8\",\"bdata\":\"AAAAAIA6UsA=\"},\"coloraxis\":\"coloraxis\",\"size\":{\"dtype\":\"f8\",\"bdata\":\"D\\u002fAta8xkAEA=\"},\"sizemode\":\"area\",\"sizeref\":0.005201387060501242,\"symbol\":\"circle\"},\"mode\":\"markers\",\"name\":\"\",\"showlegend\":false,\"type\":\"scattergeo\"}],\"name\":\"1958\"}]);\n",
       "                        }).then(function(){\n",
       "                            \n",
       "var gd = document.getElementById('3def02e9-8ec2-45fa-80a1-b3aaad5184da');\n",
       "var x = new MutationObserver(function (mutations, observer) {{\n",
       "        var display = window.getComputedStyle(gd).display;\n",
       "        if (!display || display === 'none') {{\n",
       "            console.log([gd, 'removed!']);\n",
       "            Plotly.purge(gd);\n",
       "            observer.disconnect();\n",
       "        }}\n",
       "}});\n",
       "\n",
       "// Listen for the removal of the full notebook cells\n",
       "var notebookContainer = gd.closest('#notebook-container');\n",
       "if (notebookContainer) {{\n",
       "    x.observe(notebookContainer, {childList: true});\n",
       "}}\n",
       "\n",
       "// Listen for the clearing of the current output cell\n",
       "var outputEl = gd.closest('.output');\n",
       "if (outputEl) {{\n",
       "    x.observe(outputEl, {childList: true});\n",
       "}}\n",
       "\n",
       "                        })                };            </script>        </div>"
      ]
     },
     "metadata": {},
     "output_type": "display_data"
    }
   ],
   "source": [
    "import numpy as np \n",
    "merged_df['Total Deaths'] = pd.to_numeric(merged_df['Total Deaths'], errors='coerce').fillna(0)\n",
    "merged_df['Total Affected'] = pd.to_numeric(merged_df['Total Affected'], errors='coerce').fillna(0)\n",
    "merged_df[\"Total Damages ('000 US$)\"] = pd.to_numeric(merged_df[\"Total Damages ('000 US$)\"], errors='coerce').fillna(0)\n",
    "\n",
    "merged_df['Impact_Score'] = merged_df[['Total Deaths', 'Total Affected', \"Total Damages ('000 US$)\"]].max(axis=1)\n",
    "\n",
    "merged_df = merged_df[(merged_df['Latitude'] != 0) & (merged_df['Longitude'] != 0)]\n",
    "\n",
    "filtered_df = merged_df[merged_df['Impact_Score'] > 0].copy()\n",
    "\n",
    "filtered_df['Impact_Score_Log'] = filtered_df['Impact_Score'].apply(lambda x: np.log10(x + 1))\n",
    "\n",
    "fig = px.scatter_geo(\n",
    "    filtered_df,\n",
    "     lat='Latitude',\n",
    "    lon='Longitude',\n",
    "    color='mmfrom1993-2008average',\n",
    "    size='Impact_Score_Log',\n",
    "    size_max=40,\n",
    "    hover_name='Country',\n",
    "    hover_data={\n",
    "        'Year': True,\n",
    "        'Impact_Score': True,\n",
    "        'Total Deaths': True,\n",
    "        'Total Affected': True,\n",
    "        \"Total Damages ('000 US$)\": True,\n",
    "        'mmfrom1993-2008average': ':.2f'\n",
    "    },\n",
    "    animation_frame='Year',\n",
    "    projection='natural earth',\n",
    "    color_continuous_scale='Viridis',\n",
    "    title='Overstromingen en tsunami\\'s met zeespiegelstijging en impact (log schaal)'\n",
    ")\n",
    "\n",
    "fig.update_layout(height=700)\n",
    "\n",
    "fig.show()"
   ]
  },
  {
   "cell_type": "markdown",
   "id": "5eb48ffa-6886-4668-82cb-f11ab1b83c85",
   "metadata": {},
   "source": [
    "# Tsunami’s vormen een toenemend gevaar in de toekomst omdat naar mate de zeespiegel stijgt kosten van damages en total deaths toenemen na een tsunami."
   ]
  },
  {
   "cell_type": "markdown",
   "id": "9acf6b57-f6ad-4b13-9712-631cb2c0d273",
   "metadata": {},
   "source": [
    "Onze verwachting van dit argument was eigenlijk dat naar mate de zeespiegel stijgt de kosten van schade ook toegenomen zouden zijn. Wat we helaas niet verwachtte is dat de dataset hierover beperkte informaite bevatte. Er zijn drie verschillende plots gemaakt (die op elkaar een vallen) die de zeespiegelstijging, tsunami's en kosten van de schade van deze tsunami's visueel weergeven. Er zijn slechts 2 datapunten in de dataset in deze kolom, waarschijnlijk omdat landen dit niet hebben genoteerd of omdat de informatie niet bereikbaar was. Wat wel opvallend is om te zien dat de totaal aantal doden een enorme stijging heeft in 2004. Dit is het jaar waar een tsunami op 26 december 2004 de kust van Thailand trof, wat resulteerde in meer dan tweehonderd duizend doden. Ook is te zien als er naar aantal doden per jaar wordt gekeken dat wel toeneemt. Dit kan komen doordat de zeespiegelstijging ervoor zorgt dat er meer volume is waarmee een tsunami schade kan doen. Hieronder is dit te zien."
   ]
  },
  {
   "cell_type": "code",
   "execution_count": 4,
   "id": "de009fa3-5a1b-4a2e-944b-ca85312fb850",
   "metadata": {},
   "outputs": [
    {
     "data": {
      "application/vnd.plotly.v1+json": {
       "config": {
        "plotlyServerURL": "https://plot.ly"
       },
       "data": [
        {
         "line": {
          "color": "red"
         },
         "mode": "lines+markers",
         "name": "Total Deaths",
         "type": "scatter",
         "x": {
          "bdata": "bQdxB4gHjQeYB6wHsAexB7sHvwfJB9IH1AfWB9kH2gfbB+IH",
          "dtype": "i2"
         },
         "y": {
          "bdata": "AAAAAAAAMkAAAAAAAIBEQAAAAAAAAGBAAAAAAABwp0AAAAAAAByTQAAAAAAAADlAAAAAAAAAaUAAAAAAAABQQAAAAAAA2IBAAAAAAACAWUAAAAAAAOBtQAAAAAAAACBAAAAAAICZC0EAAAAAACiJQAAAAAAAAPA/AAAAAACQgEAAAAAAwGHTQAAAAAAALLBA",
          "dtype": "f8"
         }
        },
        {
         "line": {
          "color": "orange"
         },
         "mode": "lines+markers",
         "name": "Total Damages ('000 US$)",
         "type": "scatter",
         "x": {
          "bdata": "bQdxB4gHjQeYB6wHsAexB7sHvwfJB9IH1AfWB9kH2gfbB+IH",
          "dtype": "i2"
         },
         "y": {
          "bdata": "AAAAAAAAAAAAAAAAAAAAAAAAAAAAAAAAAAAAAAAAAAAAAAAAAAAAAAAAAAAAaihBAAAAAAAAAAAAAAAAAAAAAAAAAAAAAAAAAAAAAABkGUEAAAAAgIQuQQAAAAAAAAAAAAAAAB2eYkEAAAAAANvqQAAAAAAAahhBAAAAAAAAAAAAAAAAcJlkQQAAAAAQIDZB",
          "dtype": "f8"
         }
        },
        {
         "line": {
          "color": "royalblue"
         },
         "mode": "lines+markers",
         "name": "Sea Level Rise (mm)",
         "type": "scatter",
         "x": {
          "bdata": "bQdxB4gHjQeYB6wHsAexB7sHvwfJB9IH1AfWB9kH2gfbB+IH",
          "dtype": "i2"
         },
         "y": {
          "bdata": "+F4yRISRY8AAAAAAQE1jwDvUAO8uHGDA3Q5oRMT+XcCJV/4hojxdwIfYR0TEvlHAmpmZmRk0UsCamZmZmU5PwDMzMzMzaEfA6C7s3d1HNsDoLuzd3cc2wJD8k4iIOAFANsQ+IiJOK0DcANvd3QkjQA2xj4iI00BAymSCK2rwQED5MHvZ9ltCQKgi7EblikpA",
          "dtype": "f8"
         }
        }
       ],
       "layout": {
        "height": 600,
        "template": {
         "data": {
          "bar": [
           {
            "error_x": {
             "color": "#2a3f5f"
            },
            "error_y": {
             "color": "#2a3f5f"
            },
            "marker": {
             "line": {
              "color": "#E5ECF6",
              "width": 0.5
             },
             "pattern": {
              "fillmode": "overlay",
              "size": 10,
              "solidity": 0.2
             }
            },
            "type": "bar"
           }
          ],
          "barpolar": [
           {
            "marker": {
             "line": {
              "color": "#E5ECF6",
              "width": 0.5
             },
             "pattern": {
              "fillmode": "overlay",
              "size": 10,
              "solidity": 0.2
             }
            },
            "type": "barpolar"
           }
          ],
          "carpet": [
           {
            "aaxis": {
             "endlinecolor": "#2a3f5f",
             "gridcolor": "white",
             "linecolor": "white",
             "minorgridcolor": "white",
             "startlinecolor": "#2a3f5f"
            },
            "baxis": {
             "endlinecolor": "#2a3f5f",
             "gridcolor": "white",
             "linecolor": "white",
             "minorgridcolor": "white",
             "startlinecolor": "#2a3f5f"
            },
            "type": "carpet"
           }
          ],
          "choropleth": [
           {
            "colorbar": {
             "outlinewidth": 0,
             "ticks": ""
            },
            "type": "choropleth"
           }
          ],
          "contour": [
           {
            "colorbar": {
             "outlinewidth": 0,
             "ticks": ""
            },
            "colorscale": [
             [
              0.0,
              "#0d0887"
             ],
             [
              0.1111111111111111,
              "#46039f"
             ],
             [
              0.2222222222222222,
              "#7201a8"
             ],
             [
              0.3333333333333333,
              "#9c179e"
             ],
             [
              0.4444444444444444,
              "#bd3786"
             ],
             [
              0.5555555555555556,
              "#d8576b"
             ],
             [
              0.6666666666666666,
              "#ed7953"
             ],
             [
              0.7777777777777778,
              "#fb9f3a"
             ],
             [
              0.8888888888888888,
              "#fdca26"
             ],
             [
              1.0,
              "#f0f921"
             ]
            ],
            "type": "contour"
           }
          ],
          "contourcarpet": [
           {
            "colorbar": {
             "outlinewidth": 0,
             "ticks": ""
            },
            "type": "contourcarpet"
           }
          ],
          "heatmap": [
           {
            "colorbar": {
             "outlinewidth": 0,
             "ticks": ""
            },
            "colorscale": [
             [
              0.0,
              "#0d0887"
             ],
             [
              0.1111111111111111,
              "#46039f"
             ],
             [
              0.2222222222222222,
              "#7201a8"
             ],
             [
              0.3333333333333333,
              "#9c179e"
             ],
             [
              0.4444444444444444,
              "#bd3786"
             ],
             [
              0.5555555555555556,
              "#d8576b"
             ],
             [
              0.6666666666666666,
              "#ed7953"
             ],
             [
              0.7777777777777778,
              "#fb9f3a"
             ],
             [
              0.8888888888888888,
              "#fdca26"
             ],
             [
              1.0,
              "#f0f921"
             ]
            ],
            "type": "heatmap"
           }
          ],
          "histogram": [
           {
            "marker": {
             "pattern": {
              "fillmode": "overlay",
              "size": 10,
              "solidity": 0.2
             }
            },
            "type": "histogram"
           }
          ],
          "histogram2d": [
           {
            "colorbar": {
             "outlinewidth": 0,
             "ticks": ""
            },
            "colorscale": [
             [
              0.0,
              "#0d0887"
             ],
             [
              0.1111111111111111,
              "#46039f"
             ],
             [
              0.2222222222222222,
              "#7201a8"
             ],
             [
              0.3333333333333333,
              "#9c179e"
             ],
             [
              0.4444444444444444,
              "#bd3786"
             ],
             [
              0.5555555555555556,
              "#d8576b"
             ],
             [
              0.6666666666666666,
              "#ed7953"
             ],
             [
              0.7777777777777778,
              "#fb9f3a"
             ],
             [
              0.8888888888888888,
              "#fdca26"
             ],
             [
              1.0,
              "#f0f921"
             ]
            ],
            "type": "histogram2d"
           }
          ],
          "histogram2dcontour": [
           {
            "colorbar": {
             "outlinewidth": 0,
             "ticks": ""
            },
            "colorscale": [
             [
              0.0,
              "#0d0887"
             ],
             [
              0.1111111111111111,
              "#46039f"
             ],
             [
              0.2222222222222222,
              "#7201a8"
             ],
             [
              0.3333333333333333,
              "#9c179e"
             ],
             [
              0.4444444444444444,
              "#bd3786"
             ],
             [
              0.5555555555555556,
              "#d8576b"
             ],
             [
              0.6666666666666666,
              "#ed7953"
             ],
             [
              0.7777777777777778,
              "#fb9f3a"
             ],
             [
              0.8888888888888888,
              "#fdca26"
             ],
             [
              1.0,
              "#f0f921"
             ]
            ],
            "type": "histogram2dcontour"
           }
          ],
          "mesh3d": [
           {
            "colorbar": {
             "outlinewidth": 0,
             "ticks": ""
            },
            "type": "mesh3d"
           }
          ],
          "parcoords": [
           {
            "line": {
             "colorbar": {
              "outlinewidth": 0,
              "ticks": ""
             }
            },
            "type": "parcoords"
           }
          ],
          "pie": [
           {
            "automargin": true,
            "type": "pie"
           }
          ],
          "scatter": [
           {
            "fillpattern": {
             "fillmode": "overlay",
             "size": 10,
             "solidity": 0.2
            },
            "type": "scatter"
           }
          ],
          "scatter3d": [
           {
            "line": {
             "colorbar": {
              "outlinewidth": 0,
              "ticks": ""
             }
            },
            "marker": {
             "colorbar": {
              "outlinewidth": 0,
              "ticks": ""
             }
            },
            "type": "scatter3d"
           }
          ],
          "scattercarpet": [
           {
            "marker": {
             "colorbar": {
              "outlinewidth": 0,
              "ticks": ""
             }
            },
            "type": "scattercarpet"
           }
          ],
          "scattergeo": [
           {
            "marker": {
             "colorbar": {
              "outlinewidth": 0,
              "ticks": ""
             }
            },
            "type": "scattergeo"
           }
          ],
          "scattergl": [
           {
            "marker": {
             "colorbar": {
              "outlinewidth": 0,
              "ticks": ""
             }
            },
            "type": "scattergl"
           }
          ],
          "scattermap": [
           {
            "marker": {
             "colorbar": {
              "outlinewidth": 0,
              "ticks": ""
             }
            },
            "type": "scattermap"
           }
          ],
          "scattermapbox": [
           {
            "marker": {
             "colorbar": {
              "outlinewidth": 0,
              "ticks": ""
             }
            },
            "type": "scattermapbox"
           }
          ],
          "scatterpolar": [
           {
            "marker": {
             "colorbar": {
              "outlinewidth": 0,
              "ticks": ""
             }
            },
            "type": "scatterpolar"
           }
          ],
          "scatterpolargl": [
           {
            "marker": {
             "colorbar": {
              "outlinewidth": 0,
              "ticks": ""
             }
            },
            "type": "scatterpolargl"
           }
          ],
          "scatterternary": [
           {
            "marker": {
             "colorbar": {
              "outlinewidth": 0,
              "ticks": ""
             }
            },
            "type": "scatterternary"
           }
          ],
          "surface": [
           {
            "colorbar": {
             "outlinewidth": 0,
             "ticks": ""
            },
            "colorscale": [
             [
              0.0,
              "#0d0887"
             ],
             [
              0.1111111111111111,
              "#46039f"
             ],
             [
              0.2222222222222222,
              "#7201a8"
             ],
             [
              0.3333333333333333,
              "#9c179e"
             ],
             [
              0.4444444444444444,
              "#bd3786"
             ],
             [
              0.5555555555555556,
              "#d8576b"
             ],
             [
              0.6666666666666666,
              "#ed7953"
             ],
             [
              0.7777777777777778,
              "#fb9f3a"
             ],
             [
              0.8888888888888888,
              "#fdca26"
             ],
             [
              1.0,
              "#f0f921"
             ]
            ],
            "type": "surface"
           }
          ],
          "table": [
           {
            "cells": {
             "fill": {
              "color": "#EBF0F8"
             },
             "line": {
              "color": "white"
             }
            },
            "header": {
             "fill": {
              "color": "#C8D4E3"
             },
             "line": {
              "color": "white"
             }
            },
            "type": "table"
           }
          ]
         },
         "layout": {
          "annotationdefaults": {
           "arrowcolor": "#2a3f5f",
           "arrowhead": 0,
           "arrowwidth": 1
          },
          "autotypenumbers": "strict",
          "coloraxis": {
           "colorbar": {
            "outlinewidth": 0,
            "ticks": ""
           }
          },
          "colorscale": {
           "diverging": [
            [
             0,
             "#8e0152"
            ],
            [
             0.1,
             "#c51b7d"
            ],
            [
             0.2,
             "#de77ae"
            ],
            [
             0.3,
             "#f1b6da"
            ],
            [
             0.4,
             "#fde0ef"
            ],
            [
             0.5,
             "#f7f7f7"
            ],
            [
             0.6,
             "#e6f5d0"
            ],
            [
             0.7,
             "#b8e186"
            ],
            [
             0.8,
             "#7fbc41"
            ],
            [
             0.9,
             "#4d9221"
            ],
            [
             1,
             "#276419"
            ]
           ],
           "sequential": [
            [
             0.0,
             "#0d0887"
            ],
            [
             0.1111111111111111,
             "#46039f"
            ],
            [
             0.2222222222222222,
             "#7201a8"
            ],
            [
             0.3333333333333333,
             "#9c179e"
            ],
            [
             0.4444444444444444,
             "#bd3786"
            ],
            [
             0.5555555555555556,
             "#d8576b"
            ],
            [
             0.6666666666666666,
             "#ed7953"
            ],
            [
             0.7777777777777778,
             "#fb9f3a"
            ],
            [
             0.8888888888888888,
             "#fdca26"
            ],
            [
             1.0,
             "#f0f921"
            ]
           ],
           "sequentialminus": [
            [
             0.0,
             "#0d0887"
            ],
            [
             0.1111111111111111,
             "#46039f"
            ],
            [
             0.2222222222222222,
             "#7201a8"
            ],
            [
             0.3333333333333333,
             "#9c179e"
            ],
            [
             0.4444444444444444,
             "#bd3786"
            ],
            [
             0.5555555555555556,
             "#d8576b"
            ],
            [
             0.6666666666666666,
             "#ed7953"
            ],
            [
             0.7777777777777778,
             "#fb9f3a"
            ],
            [
             0.8888888888888888,
             "#fdca26"
            ],
            [
             1.0,
             "#f0f921"
            ]
           ]
          },
          "colorway": [
           "#636efa",
           "#EF553B",
           "#00cc96",
           "#ab63fa",
           "#FFA15A",
           "#19d3f3",
           "#FF6692",
           "#B6E880",
           "#FF97FF",
           "#FECB52"
          ],
          "font": {
           "color": "#2a3f5f"
          },
          "geo": {
           "bgcolor": "white",
           "lakecolor": "white",
           "landcolor": "#E5ECF6",
           "showlakes": true,
           "showland": true,
           "subunitcolor": "white"
          },
          "hoverlabel": {
           "align": "left"
          },
          "hovermode": "closest",
          "mapbox": {
           "style": "light"
          },
          "paper_bgcolor": "white",
          "plot_bgcolor": "#E5ECF6",
          "polar": {
           "angularaxis": {
            "gridcolor": "white",
            "linecolor": "white",
            "ticks": ""
           },
           "bgcolor": "#E5ECF6",
           "radialaxis": {
            "gridcolor": "white",
            "linecolor": "white",
            "ticks": ""
           }
          },
          "scene": {
           "xaxis": {
            "backgroundcolor": "#E5ECF6",
            "gridcolor": "white",
            "gridwidth": 2,
            "linecolor": "white",
            "showbackground": true,
            "ticks": "",
            "zerolinecolor": "white"
           },
           "yaxis": {
            "backgroundcolor": "#E5ECF6",
            "gridcolor": "white",
            "gridwidth": 2,
            "linecolor": "white",
            "showbackground": true,
            "ticks": "",
            "zerolinecolor": "white"
           },
           "zaxis": {
            "backgroundcolor": "#E5ECF6",
            "gridcolor": "white",
            "gridwidth": 2,
            "linecolor": "white",
            "showbackground": true,
            "ticks": "",
            "zerolinecolor": "white"
           }
          },
          "shapedefaults": {
           "line": {
            "color": "#2a3f5f"
           }
          },
          "ternary": {
           "aaxis": {
            "gridcolor": "white",
            "linecolor": "white",
            "ticks": ""
           },
           "baxis": {
            "gridcolor": "white",
            "linecolor": "white",
            "ticks": ""
           },
           "bgcolor": "#E5ECF6",
           "caxis": {
            "gridcolor": "white",
            "linecolor": "white",
            "ticks": ""
           }
          },
          "title": {
           "x": 0.05
          },
          "xaxis": {
           "automargin": true,
           "gridcolor": "white",
           "linecolor": "white",
           "ticks": "",
           "title": {
            "standoff": 15
           },
           "zerolinecolor": "white",
           "zerolinewidth": 2
          },
          "yaxis": {
           "automargin": true,
           "gridcolor": "white",
           "linecolor": "white",
           "ticks": "",
           "title": {
            "standoff": 15
           },
           "zerolinecolor": "white",
           "zerolinewidth": 2
          }
         }
        },
        "title": {
         "text": "Tsunamis in Azië en Oceanië: Totale Doden, Schade en Zeespiegelstijging per Jaar (2011 aangepast)"
        },
        "xaxis": {
         "title": {
          "text": "Year"
         }
        },
        "yaxis": {
         "title": {
          "text": "Value"
         }
        }
       }
      },
      "text/html": [
       "<div>            <script src=\"https://cdnjs.cloudflare.com/ajax/libs/mathjax/2.7.5/MathJax.js?config=TeX-AMS-MML_SVG\"></script><script type=\"text/javascript\">if (window.MathJax && window.MathJax.Hub && window.MathJax.Hub.Config) {window.MathJax.Hub.Config({SVG: {font: \"STIX-Web\"}});}</script>                <script type=\"text/javascript\">window.PlotlyConfig = {MathJaxConfig: 'local'};</script>\n",
       "        <script charset=\"utf-8\" src=\"https://cdn.plot.ly/plotly-3.0.1.min.js\"></script>                <div id=\"ab7e92e1-c037-4b5b-ad26-2f4ea3a1e30f\" class=\"plotly-graph-div\" style=\"height:600px; width:100%;\"></div>            <script type=\"text/javascript\">                window.PLOTLYENV=window.PLOTLYENV || {};                                if (document.getElementById(\"ab7e92e1-c037-4b5b-ad26-2f4ea3a1e30f\")) {                    Plotly.newPlot(                        \"ab7e92e1-c037-4b5b-ad26-2f4ea3a1e30f\",                        [{\"line\":{\"color\":\"red\"},\"mode\":\"lines+markers\",\"name\":\"Total Deaths\",\"x\":{\"dtype\":\"i2\",\"bdata\":\"bQdxB4gHjQeYB6wHsAexB7sHvwfJB9IH1AfWB9kH2gfbB+IH\"},\"y\":{\"dtype\":\"f8\",\"bdata\":\"AAAAAAAAMkAAAAAAAIBEQAAAAAAAAGBAAAAAAABwp0AAAAAAAByTQAAAAAAAADlAAAAAAAAAaUAAAAAAAABQQAAAAAAA2IBAAAAAAACAWUAAAAAAAOBtQAAAAAAAACBAAAAAAICZC0EAAAAAACiJQAAAAAAAAPA\\u002fAAAAAACQgEAAAAAAwGHTQAAAAAAALLBA\"},\"type\":\"scatter\"},{\"line\":{\"color\":\"orange\"},\"mode\":\"lines+markers\",\"name\":\"Total Damages ('000 US$)\",\"x\":{\"dtype\":\"i2\",\"bdata\":\"bQdxB4gHjQeYB6wHsAexB7sHvwfJB9IH1AfWB9kH2gfbB+IH\"},\"y\":{\"dtype\":\"f8\",\"bdata\":\"AAAAAAAAAAAAAAAAAAAAAAAAAAAAAAAAAAAAAAAAAAAAAAAAAAAAAAAAAAAAaihBAAAAAAAAAAAAAAAAAAAAAAAAAAAAAAAAAAAAAABkGUEAAAAAgIQuQQAAAAAAAAAAAAAAAB2eYkEAAAAAANvqQAAAAAAAahhBAAAAAAAAAAAAAAAAcJlkQQAAAAAQIDZB\"},\"type\":\"scatter\"},{\"line\":{\"color\":\"royalblue\"},\"mode\":\"lines+markers\",\"name\":\"Sea Level Rise (mm)\",\"x\":{\"dtype\":\"i2\",\"bdata\":\"bQdxB4gHjQeYB6wHsAexB7sHvwfJB9IH1AfWB9kH2gfbB+IH\"},\"y\":{\"dtype\":\"f8\",\"bdata\":\"+F4yRISRY8AAAAAAQE1jwDvUAO8uHGDA3Q5oRMT+XcCJV\\u002f4hojxdwIfYR0TEvlHAmpmZmRk0UsCamZmZmU5PwDMzMzMzaEfA6C7s3d1HNsDoLuzd3cc2wJD8k4iIOAFANsQ+IiJOK0DcANvd3QkjQA2xj4iI00BAymSCK2rwQED5MHvZ9ltCQKgi7EblikpA\"},\"type\":\"scatter\"}],                        {\"template\":{\"data\":{\"histogram2dcontour\":[{\"type\":\"histogram2dcontour\",\"colorbar\":{\"outlinewidth\":0,\"ticks\":\"\"},\"colorscale\":[[0.0,\"#0d0887\"],[0.1111111111111111,\"#46039f\"],[0.2222222222222222,\"#7201a8\"],[0.3333333333333333,\"#9c179e\"],[0.4444444444444444,\"#bd3786\"],[0.5555555555555556,\"#d8576b\"],[0.6666666666666666,\"#ed7953\"],[0.7777777777777778,\"#fb9f3a\"],[0.8888888888888888,\"#fdca26\"],[1.0,\"#f0f921\"]]}],\"choropleth\":[{\"type\":\"choropleth\",\"colorbar\":{\"outlinewidth\":0,\"ticks\":\"\"}}],\"histogram2d\":[{\"type\":\"histogram2d\",\"colorbar\":{\"outlinewidth\":0,\"ticks\":\"\"},\"colorscale\":[[0.0,\"#0d0887\"],[0.1111111111111111,\"#46039f\"],[0.2222222222222222,\"#7201a8\"],[0.3333333333333333,\"#9c179e\"],[0.4444444444444444,\"#bd3786\"],[0.5555555555555556,\"#d8576b\"],[0.6666666666666666,\"#ed7953\"],[0.7777777777777778,\"#fb9f3a\"],[0.8888888888888888,\"#fdca26\"],[1.0,\"#f0f921\"]]}],\"heatmap\":[{\"type\":\"heatmap\",\"colorbar\":{\"outlinewidth\":0,\"ticks\":\"\"},\"colorscale\":[[0.0,\"#0d0887\"],[0.1111111111111111,\"#46039f\"],[0.2222222222222222,\"#7201a8\"],[0.3333333333333333,\"#9c179e\"],[0.4444444444444444,\"#bd3786\"],[0.5555555555555556,\"#d8576b\"],[0.6666666666666666,\"#ed7953\"],[0.7777777777777778,\"#fb9f3a\"],[0.8888888888888888,\"#fdca26\"],[1.0,\"#f0f921\"]]}],\"contourcarpet\":[{\"type\":\"contourcarpet\",\"colorbar\":{\"outlinewidth\":0,\"ticks\":\"\"}}],\"contour\":[{\"type\":\"contour\",\"colorbar\":{\"outlinewidth\":0,\"ticks\":\"\"},\"colorscale\":[[0.0,\"#0d0887\"],[0.1111111111111111,\"#46039f\"],[0.2222222222222222,\"#7201a8\"],[0.3333333333333333,\"#9c179e\"],[0.4444444444444444,\"#bd3786\"],[0.5555555555555556,\"#d8576b\"],[0.6666666666666666,\"#ed7953\"],[0.7777777777777778,\"#fb9f3a\"],[0.8888888888888888,\"#fdca26\"],[1.0,\"#f0f921\"]]}],\"surface\":[{\"type\":\"surface\",\"colorbar\":{\"outlinewidth\":0,\"ticks\":\"\"},\"colorscale\":[[0.0,\"#0d0887\"],[0.1111111111111111,\"#46039f\"],[0.2222222222222222,\"#7201a8\"],[0.3333333333333333,\"#9c179e\"],[0.4444444444444444,\"#bd3786\"],[0.5555555555555556,\"#d8576b\"],[0.6666666666666666,\"#ed7953\"],[0.7777777777777778,\"#fb9f3a\"],[0.8888888888888888,\"#fdca26\"],[1.0,\"#f0f921\"]]}],\"mesh3d\":[{\"type\":\"mesh3d\",\"colorbar\":{\"outlinewidth\":0,\"ticks\":\"\"}}],\"scatter\":[{\"fillpattern\":{\"fillmode\":\"overlay\",\"size\":10,\"solidity\":0.2},\"type\":\"scatter\"}],\"parcoords\":[{\"type\":\"parcoords\",\"line\":{\"colorbar\":{\"outlinewidth\":0,\"ticks\":\"\"}}}],\"scatterpolargl\":[{\"type\":\"scatterpolargl\",\"marker\":{\"colorbar\":{\"outlinewidth\":0,\"ticks\":\"\"}}}],\"bar\":[{\"error_x\":{\"color\":\"#2a3f5f\"},\"error_y\":{\"color\":\"#2a3f5f\"},\"marker\":{\"line\":{\"color\":\"#E5ECF6\",\"width\":0.5},\"pattern\":{\"fillmode\":\"overlay\",\"size\":10,\"solidity\":0.2}},\"type\":\"bar\"}],\"scattergeo\":[{\"type\":\"scattergeo\",\"marker\":{\"colorbar\":{\"outlinewidth\":0,\"ticks\":\"\"}}}],\"scatterpolar\":[{\"type\":\"scatterpolar\",\"marker\":{\"colorbar\":{\"outlinewidth\":0,\"ticks\":\"\"}}}],\"histogram\":[{\"marker\":{\"pattern\":{\"fillmode\":\"overlay\",\"size\":10,\"solidity\":0.2}},\"type\":\"histogram\"}],\"scattergl\":[{\"type\":\"scattergl\",\"marker\":{\"colorbar\":{\"outlinewidth\":0,\"ticks\":\"\"}}}],\"scatter3d\":[{\"type\":\"scatter3d\",\"line\":{\"colorbar\":{\"outlinewidth\":0,\"ticks\":\"\"}},\"marker\":{\"colorbar\":{\"outlinewidth\":0,\"ticks\":\"\"}}}],\"scattermap\":[{\"type\":\"scattermap\",\"marker\":{\"colorbar\":{\"outlinewidth\":0,\"ticks\":\"\"}}}],\"scattermapbox\":[{\"type\":\"scattermapbox\",\"marker\":{\"colorbar\":{\"outlinewidth\":0,\"ticks\":\"\"}}}],\"scatterternary\":[{\"type\":\"scatterternary\",\"marker\":{\"colorbar\":{\"outlinewidth\":0,\"ticks\":\"\"}}}],\"scattercarpet\":[{\"type\":\"scattercarpet\",\"marker\":{\"colorbar\":{\"outlinewidth\":0,\"ticks\":\"\"}}}],\"carpet\":[{\"aaxis\":{\"endlinecolor\":\"#2a3f5f\",\"gridcolor\":\"white\",\"linecolor\":\"white\",\"minorgridcolor\":\"white\",\"startlinecolor\":\"#2a3f5f\"},\"baxis\":{\"endlinecolor\":\"#2a3f5f\",\"gridcolor\":\"white\",\"linecolor\":\"white\",\"minorgridcolor\":\"white\",\"startlinecolor\":\"#2a3f5f\"},\"type\":\"carpet\"}],\"table\":[{\"cells\":{\"fill\":{\"color\":\"#EBF0F8\"},\"line\":{\"color\":\"white\"}},\"header\":{\"fill\":{\"color\":\"#C8D4E3\"},\"line\":{\"color\":\"white\"}},\"type\":\"table\"}],\"barpolar\":[{\"marker\":{\"line\":{\"color\":\"#E5ECF6\",\"width\":0.5},\"pattern\":{\"fillmode\":\"overlay\",\"size\":10,\"solidity\":0.2}},\"type\":\"barpolar\"}],\"pie\":[{\"automargin\":true,\"type\":\"pie\"}]},\"layout\":{\"autotypenumbers\":\"strict\",\"colorway\":[\"#636efa\",\"#EF553B\",\"#00cc96\",\"#ab63fa\",\"#FFA15A\",\"#19d3f3\",\"#FF6692\",\"#B6E880\",\"#FF97FF\",\"#FECB52\"],\"font\":{\"color\":\"#2a3f5f\"},\"hovermode\":\"closest\",\"hoverlabel\":{\"align\":\"left\"},\"paper_bgcolor\":\"white\",\"plot_bgcolor\":\"#E5ECF6\",\"polar\":{\"bgcolor\":\"#E5ECF6\",\"angularaxis\":{\"gridcolor\":\"white\",\"linecolor\":\"white\",\"ticks\":\"\"},\"radialaxis\":{\"gridcolor\":\"white\",\"linecolor\":\"white\",\"ticks\":\"\"}},\"ternary\":{\"bgcolor\":\"#E5ECF6\",\"aaxis\":{\"gridcolor\":\"white\",\"linecolor\":\"white\",\"ticks\":\"\"},\"baxis\":{\"gridcolor\":\"white\",\"linecolor\":\"white\",\"ticks\":\"\"},\"caxis\":{\"gridcolor\":\"white\",\"linecolor\":\"white\",\"ticks\":\"\"}},\"coloraxis\":{\"colorbar\":{\"outlinewidth\":0,\"ticks\":\"\"}},\"colorscale\":{\"sequential\":[[0.0,\"#0d0887\"],[0.1111111111111111,\"#46039f\"],[0.2222222222222222,\"#7201a8\"],[0.3333333333333333,\"#9c179e\"],[0.4444444444444444,\"#bd3786\"],[0.5555555555555556,\"#d8576b\"],[0.6666666666666666,\"#ed7953\"],[0.7777777777777778,\"#fb9f3a\"],[0.8888888888888888,\"#fdca26\"],[1.0,\"#f0f921\"]],\"sequentialminus\":[[0.0,\"#0d0887\"],[0.1111111111111111,\"#46039f\"],[0.2222222222222222,\"#7201a8\"],[0.3333333333333333,\"#9c179e\"],[0.4444444444444444,\"#bd3786\"],[0.5555555555555556,\"#d8576b\"],[0.6666666666666666,\"#ed7953\"],[0.7777777777777778,\"#fb9f3a\"],[0.8888888888888888,\"#fdca26\"],[1.0,\"#f0f921\"]],\"diverging\":[[0,\"#8e0152\"],[0.1,\"#c51b7d\"],[0.2,\"#de77ae\"],[0.3,\"#f1b6da\"],[0.4,\"#fde0ef\"],[0.5,\"#f7f7f7\"],[0.6,\"#e6f5d0\"],[0.7,\"#b8e186\"],[0.8,\"#7fbc41\"],[0.9,\"#4d9221\"],[1,\"#276419\"]]},\"xaxis\":{\"gridcolor\":\"white\",\"linecolor\":\"white\",\"ticks\":\"\",\"title\":{\"standoff\":15},\"zerolinecolor\":\"white\",\"automargin\":true,\"zerolinewidth\":2},\"yaxis\":{\"gridcolor\":\"white\",\"linecolor\":\"white\",\"ticks\":\"\",\"title\":{\"standoff\":15},\"zerolinecolor\":\"white\",\"automargin\":true,\"zerolinewidth\":2},\"scene\":{\"xaxis\":{\"backgroundcolor\":\"#E5ECF6\",\"gridcolor\":\"white\",\"linecolor\":\"white\",\"showbackground\":true,\"ticks\":\"\",\"zerolinecolor\":\"white\",\"gridwidth\":2},\"yaxis\":{\"backgroundcolor\":\"#E5ECF6\",\"gridcolor\":\"white\",\"linecolor\":\"white\",\"showbackground\":true,\"ticks\":\"\",\"zerolinecolor\":\"white\",\"gridwidth\":2},\"zaxis\":{\"backgroundcolor\":\"#E5ECF6\",\"gridcolor\":\"white\",\"linecolor\":\"white\",\"showbackground\":true,\"ticks\":\"\",\"zerolinecolor\":\"white\",\"gridwidth\":2}},\"shapedefaults\":{\"line\":{\"color\":\"#2a3f5f\"}},\"annotationdefaults\":{\"arrowcolor\":\"#2a3f5f\",\"arrowhead\":0,\"arrowwidth\":1},\"geo\":{\"bgcolor\":\"white\",\"landcolor\":\"#E5ECF6\",\"subunitcolor\":\"white\",\"showland\":true,\"showlakes\":true,\"lakecolor\":\"white\"},\"title\":{\"x\":0.05},\"mapbox\":{\"style\":\"light\"}}},\"title\":{\"text\":\"Tsunamis in Azi\\u00eb en Oceani\\u00eb: Totale Doden, Schade en Zeespiegelstijging per Jaar (2011 aangepast)\"},\"xaxis\":{\"title\":{\"text\":\"Year\"}},\"yaxis\":{\"title\":{\"text\":\"Value\"}},\"height\":600},                        {\"responsive\": true}                    ).then(function(){\n",
       "                            \n",
       "var gd = document.getElementById('ab7e92e1-c037-4b5b-ad26-2f4ea3a1e30f');\n",
       "var x = new MutationObserver(function (mutations, observer) {{\n",
       "        var display = window.getComputedStyle(gd).display;\n",
       "        if (!display || display === 'none') {{\n",
       "            console.log([gd, 'removed!']);\n",
       "            Plotly.purge(gd);\n",
       "            observer.disconnect();\n",
       "        }}\n",
       "}});\n",
       "\n",
       "// Listen for the removal of the full notebook cells\n",
       "var notebookContainer = gd.closest('#notebook-container');\n",
       "if (notebookContainer) {{\n",
       "    x.observe(notebookContainer, {childList: true});\n",
       "}}\n",
       "\n",
       "// Listen for the clearing of the current output cell\n",
       "var outputEl = gd.closest('.output');\n",
       "if (outputEl) {{\n",
       "    x.observe(outputEl, {childList: true});\n",
       "}}\n",
       "\n",
       "                        })                };            </script>        </div>"
      ]
     },
     "metadata": {},
     "output_type": "display_data"
    }
   ],
   "source": [
    "import plotly.graph_objects as go\n",
    "\n",
    "merged_df['Year'] = merged_df['Year'].astype(int)\n",
    "df = merged_df[merged_df['Region'].str.contains('Asia|Oceania', case=False, na=False)]\n",
    "\n",
    "yearly_deaths = df.groupby('Year')['Total Deaths'].sum()\n",
    "yearly_damages = df.groupby('Year')[\"Total Damages ('000 US$)\"].sum()\n",
    "yearly_sealevel = df.groupby('Year')['mmfrom1993-2008average'].mean()\n",
    "\n",
    "# Pas alleen Total Damages van 2011 aan:\n",
    "yearly_damages.loc[2011] = 10_800_000  # 10.8 miljoen\n",
    "\n",
    "fig = go.Figure()\n",
    "\n",
    "fig.add_trace(go.Scatter(\n",
    "    x=yearly_deaths.index,\n",
    "    y=yearly_deaths.values,\n",
    "    mode='lines+markers',\n",
    "    name='Total Deaths',\n",
    "    line=dict(color='red')\n",
    "))\n",
    "\n",
    "fig.add_trace(go.Scatter(\n",
    "    x=yearly_damages.index,\n",
    "    y=yearly_damages.values,\n",
    "    mode='lines+markers',\n",
    "    name=\"Total Damages ('000 US$)\",\n",
    "    line=dict(color='orange')\n",
    "))\n",
    "\n",
    "fig.add_trace(go.Scatter(\n",
    "    x=yearly_sealevel.index,\n",
    "    y=yearly_sealevel.values,\n",
    "    mode='lines+markers',\n",
    "    name='Sea Level Rise (mm)',\n",
    "    line=dict(color='royalblue')\n",
    "))\n",
    "\n",
    "fig.update_layout(\n",
    "    title=\"Tsunamis in Azië en Oceanië: Totale Doden, Schade en Zeespiegelstijging per Jaar (2011 aangepast)\",\n",
    "    xaxis_title=\"Year\",\n",
    "    yaxis_title=\"Value\",\n",
    "    height=600\n",
    ")\n",
    "\n",
    "fig.show()\n"
   ]
  },
  {
   "cell_type": "code",
   "execution_count": 5,
   "id": "f6a76446-21cf-43a3-9c65-8d2d9c4922c9",
   "metadata": {},
   "outputs": [
    {
     "data": {
      "application/vnd.plotly.v1+json": {
       "config": {
        "plotlyServerURL": "https://plot.ly"
       },
       "data": [
        {
         "line": {
          "color": "orange"
         },
         "mode": "lines+markers",
         "name": "Total Damages",
         "type": "scatter",
         "x": {
          "bdata": "bQdxB4gHjQeYB6wHsAexB7sHvwfJB9IH1AfWB9kH2gfbB+IH",
          "dtype": "i2"
         },
         "xaxis": "x",
         "y": {
          "bdata": "AAAAAAAAAAAAAAAAAAAAAAAAAAAAAAAAAAAAAAAAAAAAAAAAAAAAAAAAAAAAaihBAAAAAAAAAAAAAAAAAAAAAAAAAAAAAAAAAAAAAABkGUEAAAAAgIQuQQAAAAAAAAAAAAAAAB2eYkEAAAAAANvqQAAAAAAAahhBAAAAAAAAAAAAAAAAsQipQQAAAAAQIDZB",
          "dtype": "f8"
         },
         "yaxis": "y"
        },
        {
         "line": {
          "color": "red"
         },
         "mode": "lines+markers",
         "name": "Total Deaths",
         "type": "scatter",
         "x": {
          "bdata": "bQdxB4gHjQeYB6wHsAexB7sHvwfJB9IH1AfWB9kH2gfbB+IH",
          "dtype": "i2"
         },
         "xaxis": "x2",
         "y": {
          "bdata": "AAAAAAAAMkAAAAAAAIBEQAAAAAAAAGBAAAAAAABwp0AAAAAAAByTQAAAAAAAADlAAAAAAAAAaUAAAAAAAABQQAAAAAAA2IBAAAAAAACAWUAAAAAAAOBtQAAAAAAAACBAAAAAAICZC0EAAAAAACiJQAAAAAAAAPA/AAAAAACQgEAAAAAAwGHTQAAAAAAALLBA",
          "dtype": "f8"
         },
         "yaxis": "y2"
        },
        {
         "line": {
          "color": "royalblue"
         },
         "mode": "lines+markers",
         "name": "Sea Level Rise",
         "type": "scatter",
         "x": {
          "bdata": "bQdxB4gHjQeYB6wHsAexB7sHvwfJB9IH1AfWB9kH2gfbB+IH",
          "dtype": "i2"
         },
         "xaxis": "x3",
         "y": {
          "bdata": "+F4yRISRY8AAAAAAQE1jwDvUAO8uHGDA3Q5oRMT+XcCJV/4hojxdwIfYR0TEvlHAmpmZmRk0UsCamZmZmU5PwDMzMzMzaEfA6C7s3d1HNsDoLuzd3cc2wJD8k4iIOAFANsQ+IiJOK0DcANvd3QkjQA2xj4iI00BAymSCK2rwQED5MHvZ9ltCQKgi7EblikpA",
          "dtype": "f8"
         },
         "yaxis": "y3"
        }
       ],
       "layout": {
        "annotations": [
         {
          "font": {
           "size": 16
          },
          "showarrow": false,
          "text": "Total Damages ('000 US$)",
          "x": 0.5,
          "xanchor": "center",
          "xref": "paper",
          "y": 1.0,
          "yanchor": "bottom",
          "yref": "paper"
         },
         {
          "font": {
           "size": 16
          },
          "showarrow": false,
          "text": "Total Deaths",
          "x": 0.5,
          "xanchor": "center",
          "xref": "paper",
          "y": 0.6333333333333333,
          "yanchor": "bottom",
          "yref": "paper"
         },
         {
          "font": {
           "size": 16
          },
          "showarrow": false,
          "text": "Sea Level Rise (mm)",
          "x": 0.5,
          "xanchor": "center",
          "xref": "paper",
          "y": 0.26666666666666666,
          "yanchor": "bottom",
          "yref": "paper"
         }
        ],
        "height": 800,
        "showlegend": false,
        "template": {
         "data": {
          "bar": [
           {
            "error_x": {
             "color": "#2a3f5f"
            },
            "error_y": {
             "color": "#2a3f5f"
            },
            "marker": {
             "line": {
              "color": "#E5ECF6",
              "width": 0.5
             },
             "pattern": {
              "fillmode": "overlay",
              "size": 10,
              "solidity": 0.2
             }
            },
            "type": "bar"
           }
          ],
          "barpolar": [
           {
            "marker": {
             "line": {
              "color": "#E5ECF6",
              "width": 0.5
             },
             "pattern": {
              "fillmode": "overlay",
              "size": 10,
              "solidity": 0.2
             }
            },
            "type": "barpolar"
           }
          ],
          "carpet": [
           {
            "aaxis": {
             "endlinecolor": "#2a3f5f",
             "gridcolor": "white",
             "linecolor": "white",
             "minorgridcolor": "white",
             "startlinecolor": "#2a3f5f"
            },
            "baxis": {
             "endlinecolor": "#2a3f5f",
             "gridcolor": "white",
             "linecolor": "white",
             "minorgridcolor": "white",
             "startlinecolor": "#2a3f5f"
            },
            "type": "carpet"
           }
          ],
          "choropleth": [
           {
            "colorbar": {
             "outlinewidth": 0,
             "ticks": ""
            },
            "type": "choropleth"
           }
          ],
          "contour": [
           {
            "colorbar": {
             "outlinewidth": 0,
             "ticks": ""
            },
            "colorscale": [
             [
              0.0,
              "#0d0887"
             ],
             [
              0.1111111111111111,
              "#46039f"
             ],
             [
              0.2222222222222222,
              "#7201a8"
             ],
             [
              0.3333333333333333,
              "#9c179e"
             ],
             [
              0.4444444444444444,
              "#bd3786"
             ],
             [
              0.5555555555555556,
              "#d8576b"
             ],
             [
              0.6666666666666666,
              "#ed7953"
             ],
             [
              0.7777777777777778,
              "#fb9f3a"
             ],
             [
              0.8888888888888888,
              "#fdca26"
             ],
             [
              1.0,
              "#f0f921"
             ]
            ],
            "type": "contour"
           }
          ],
          "contourcarpet": [
           {
            "colorbar": {
             "outlinewidth": 0,
             "ticks": ""
            },
            "type": "contourcarpet"
           }
          ],
          "heatmap": [
           {
            "colorbar": {
             "outlinewidth": 0,
             "ticks": ""
            },
            "colorscale": [
             [
              0.0,
              "#0d0887"
             ],
             [
              0.1111111111111111,
              "#46039f"
             ],
             [
              0.2222222222222222,
              "#7201a8"
             ],
             [
              0.3333333333333333,
              "#9c179e"
             ],
             [
              0.4444444444444444,
              "#bd3786"
             ],
             [
              0.5555555555555556,
              "#d8576b"
             ],
             [
              0.6666666666666666,
              "#ed7953"
             ],
             [
              0.7777777777777778,
              "#fb9f3a"
             ],
             [
              0.8888888888888888,
              "#fdca26"
             ],
             [
              1.0,
              "#f0f921"
             ]
            ],
            "type": "heatmap"
           }
          ],
          "histogram": [
           {
            "marker": {
             "pattern": {
              "fillmode": "overlay",
              "size": 10,
              "solidity": 0.2
             }
            },
            "type": "histogram"
           }
          ],
          "histogram2d": [
           {
            "colorbar": {
             "outlinewidth": 0,
             "ticks": ""
            },
            "colorscale": [
             [
              0.0,
              "#0d0887"
             ],
             [
              0.1111111111111111,
              "#46039f"
             ],
             [
              0.2222222222222222,
              "#7201a8"
             ],
             [
              0.3333333333333333,
              "#9c179e"
             ],
             [
              0.4444444444444444,
              "#bd3786"
             ],
             [
              0.5555555555555556,
              "#d8576b"
             ],
             [
              0.6666666666666666,
              "#ed7953"
             ],
             [
              0.7777777777777778,
              "#fb9f3a"
             ],
             [
              0.8888888888888888,
              "#fdca26"
             ],
             [
              1.0,
              "#f0f921"
             ]
            ],
            "type": "histogram2d"
           }
          ],
          "histogram2dcontour": [
           {
            "colorbar": {
             "outlinewidth": 0,
             "ticks": ""
            },
            "colorscale": [
             [
              0.0,
              "#0d0887"
             ],
             [
              0.1111111111111111,
              "#46039f"
             ],
             [
              0.2222222222222222,
              "#7201a8"
             ],
             [
              0.3333333333333333,
              "#9c179e"
             ],
             [
              0.4444444444444444,
              "#bd3786"
             ],
             [
              0.5555555555555556,
              "#d8576b"
             ],
             [
              0.6666666666666666,
              "#ed7953"
             ],
             [
              0.7777777777777778,
              "#fb9f3a"
             ],
             [
              0.8888888888888888,
              "#fdca26"
             ],
             [
              1.0,
              "#f0f921"
             ]
            ],
            "type": "histogram2dcontour"
           }
          ],
          "mesh3d": [
           {
            "colorbar": {
             "outlinewidth": 0,
             "ticks": ""
            },
            "type": "mesh3d"
           }
          ],
          "parcoords": [
           {
            "line": {
             "colorbar": {
              "outlinewidth": 0,
              "ticks": ""
             }
            },
            "type": "parcoords"
           }
          ],
          "pie": [
           {
            "automargin": true,
            "type": "pie"
           }
          ],
          "scatter": [
           {
            "fillpattern": {
             "fillmode": "overlay",
             "size": 10,
             "solidity": 0.2
            },
            "type": "scatter"
           }
          ],
          "scatter3d": [
           {
            "line": {
             "colorbar": {
              "outlinewidth": 0,
              "ticks": ""
             }
            },
            "marker": {
             "colorbar": {
              "outlinewidth": 0,
              "ticks": ""
             }
            },
            "type": "scatter3d"
           }
          ],
          "scattercarpet": [
           {
            "marker": {
             "colorbar": {
              "outlinewidth": 0,
              "ticks": ""
             }
            },
            "type": "scattercarpet"
           }
          ],
          "scattergeo": [
           {
            "marker": {
             "colorbar": {
              "outlinewidth": 0,
              "ticks": ""
             }
            },
            "type": "scattergeo"
           }
          ],
          "scattergl": [
           {
            "marker": {
             "colorbar": {
              "outlinewidth": 0,
              "ticks": ""
             }
            },
            "type": "scattergl"
           }
          ],
          "scattermap": [
           {
            "marker": {
             "colorbar": {
              "outlinewidth": 0,
              "ticks": ""
             }
            },
            "type": "scattermap"
           }
          ],
          "scattermapbox": [
           {
            "marker": {
             "colorbar": {
              "outlinewidth": 0,
              "ticks": ""
             }
            },
            "type": "scattermapbox"
           }
          ],
          "scatterpolar": [
           {
            "marker": {
             "colorbar": {
              "outlinewidth": 0,
              "ticks": ""
             }
            },
            "type": "scatterpolar"
           }
          ],
          "scatterpolargl": [
           {
            "marker": {
             "colorbar": {
              "outlinewidth": 0,
              "ticks": ""
             }
            },
            "type": "scatterpolargl"
           }
          ],
          "scatterternary": [
           {
            "marker": {
             "colorbar": {
              "outlinewidth": 0,
              "ticks": ""
             }
            },
            "type": "scatterternary"
           }
          ],
          "surface": [
           {
            "colorbar": {
             "outlinewidth": 0,
             "ticks": ""
            },
            "colorscale": [
             [
              0.0,
              "#0d0887"
             ],
             [
              0.1111111111111111,
              "#46039f"
             ],
             [
              0.2222222222222222,
              "#7201a8"
             ],
             [
              0.3333333333333333,
              "#9c179e"
             ],
             [
              0.4444444444444444,
              "#bd3786"
             ],
             [
              0.5555555555555556,
              "#d8576b"
             ],
             [
              0.6666666666666666,
              "#ed7953"
             ],
             [
              0.7777777777777778,
              "#fb9f3a"
             ],
             [
              0.8888888888888888,
              "#fdca26"
             ],
             [
              1.0,
              "#f0f921"
             ]
            ],
            "type": "surface"
           }
          ],
          "table": [
           {
            "cells": {
             "fill": {
              "color": "#EBF0F8"
             },
             "line": {
              "color": "white"
             }
            },
            "header": {
             "fill": {
              "color": "#C8D4E3"
             },
             "line": {
              "color": "white"
             }
            },
            "type": "table"
           }
          ]
         },
         "layout": {
          "annotationdefaults": {
           "arrowcolor": "#2a3f5f",
           "arrowhead": 0,
           "arrowwidth": 1
          },
          "autotypenumbers": "strict",
          "coloraxis": {
           "colorbar": {
            "outlinewidth": 0,
            "ticks": ""
           }
          },
          "colorscale": {
           "diverging": [
            [
             0,
             "#8e0152"
            ],
            [
             0.1,
             "#c51b7d"
            ],
            [
             0.2,
             "#de77ae"
            ],
            [
             0.3,
             "#f1b6da"
            ],
            [
             0.4,
             "#fde0ef"
            ],
            [
             0.5,
             "#f7f7f7"
            ],
            [
             0.6,
             "#e6f5d0"
            ],
            [
             0.7,
             "#b8e186"
            ],
            [
             0.8,
             "#7fbc41"
            ],
            [
             0.9,
             "#4d9221"
            ],
            [
             1,
             "#276419"
            ]
           ],
           "sequential": [
            [
             0.0,
             "#0d0887"
            ],
            [
             0.1111111111111111,
             "#46039f"
            ],
            [
             0.2222222222222222,
             "#7201a8"
            ],
            [
             0.3333333333333333,
             "#9c179e"
            ],
            [
             0.4444444444444444,
             "#bd3786"
            ],
            [
             0.5555555555555556,
             "#d8576b"
            ],
            [
             0.6666666666666666,
             "#ed7953"
            ],
            [
             0.7777777777777778,
             "#fb9f3a"
            ],
            [
             0.8888888888888888,
             "#fdca26"
            ],
            [
             1.0,
             "#f0f921"
            ]
           ],
           "sequentialminus": [
            [
             0.0,
             "#0d0887"
            ],
            [
             0.1111111111111111,
             "#46039f"
            ],
            [
             0.2222222222222222,
             "#7201a8"
            ],
            [
             0.3333333333333333,
             "#9c179e"
            ],
            [
             0.4444444444444444,
             "#bd3786"
            ],
            [
             0.5555555555555556,
             "#d8576b"
            ],
            [
             0.6666666666666666,
             "#ed7953"
            ],
            [
             0.7777777777777778,
             "#fb9f3a"
            ],
            [
             0.8888888888888888,
             "#fdca26"
            ],
            [
             1.0,
             "#f0f921"
            ]
           ]
          },
          "colorway": [
           "#636efa",
           "#EF553B",
           "#00cc96",
           "#ab63fa",
           "#FFA15A",
           "#19d3f3",
           "#FF6692",
           "#B6E880",
           "#FF97FF",
           "#FECB52"
          ],
          "font": {
           "color": "#2a3f5f"
          },
          "geo": {
           "bgcolor": "white",
           "lakecolor": "white",
           "landcolor": "#E5ECF6",
           "showlakes": true,
           "showland": true,
           "subunitcolor": "white"
          },
          "hoverlabel": {
           "align": "left"
          },
          "hovermode": "closest",
          "mapbox": {
           "style": "light"
          },
          "paper_bgcolor": "white",
          "plot_bgcolor": "#E5ECF6",
          "polar": {
           "angularaxis": {
            "gridcolor": "white",
            "linecolor": "white",
            "ticks": ""
           },
           "bgcolor": "#E5ECF6",
           "radialaxis": {
            "gridcolor": "white",
            "linecolor": "white",
            "ticks": ""
           }
          },
          "scene": {
           "xaxis": {
            "backgroundcolor": "#E5ECF6",
            "gridcolor": "white",
            "gridwidth": 2,
            "linecolor": "white",
            "showbackground": true,
            "ticks": "",
            "zerolinecolor": "white"
           },
           "yaxis": {
            "backgroundcolor": "#E5ECF6",
            "gridcolor": "white",
            "gridwidth": 2,
            "linecolor": "white",
            "showbackground": true,
            "ticks": "",
            "zerolinecolor": "white"
           },
           "zaxis": {
            "backgroundcolor": "#E5ECF6",
            "gridcolor": "white",
            "gridwidth": 2,
            "linecolor": "white",
            "showbackground": true,
            "ticks": "",
            "zerolinecolor": "white"
           }
          },
          "shapedefaults": {
           "line": {
            "color": "#2a3f5f"
           }
          },
          "ternary": {
           "aaxis": {
            "gridcolor": "white",
            "linecolor": "white",
            "ticks": ""
           },
           "baxis": {
            "gridcolor": "white",
            "linecolor": "white",
            "ticks": ""
           },
           "bgcolor": "#E5ECF6",
           "caxis": {
            "gridcolor": "white",
            "linecolor": "white",
            "ticks": ""
           }
          },
          "title": {
           "x": 0.05
          },
          "xaxis": {
           "automargin": true,
           "gridcolor": "white",
           "linecolor": "white",
           "ticks": "",
           "title": {
            "standoff": 15
           },
           "zerolinecolor": "white",
           "zerolinewidth": 2
          },
          "yaxis": {
           "automargin": true,
           "gridcolor": "white",
           "linecolor": "white",
           "ticks": "",
           "title": {
            "standoff": 15
           },
           "zerolinecolor": "white",
           "zerolinewidth": 2
          }
         }
        },
        "title": {
         "text": "Tsunamis in Azië en Oceanië: Schade, Doden en Zeespiegelstijging per Jaar"
        },
        "xaxis": {
         "anchor": "y",
         "domain": [
          0.0,
          1.0
         ],
         "matches": "x3",
         "showticklabels": false
        },
        "xaxis2": {
         "anchor": "y2",
         "domain": [
          0.0,
          1.0
         ],
         "matches": "x3",
         "showticklabels": false
        },
        "xaxis3": {
         "anchor": "y3",
         "domain": [
          0.0,
          1.0
         ],
         "title": {
          "text": "Year"
         }
        },
        "yaxis": {
         "anchor": "x",
         "domain": [
          0.7333333333333334,
          1.0
         ],
         "title": {
          "text": "Damages ('000 US$)"
         }
        },
        "yaxis2": {
         "anchor": "x2",
         "domain": [
          0.3666666666666667,
          0.6333333333333333
         ],
         "title": {
          "text": "Total Deaths"
         }
        },
        "yaxis3": {
         "anchor": "x3",
         "domain": [
          0.0,
          0.26666666666666666
         ],
         "title": {
          "text": "Sea Level Rise (mm)"
         }
        }
       }
      },
      "text/html": [
       "<div>            <script src=\"https://cdnjs.cloudflare.com/ajax/libs/mathjax/2.7.5/MathJax.js?config=TeX-AMS-MML_SVG\"></script><script type=\"text/javascript\">if (window.MathJax && window.MathJax.Hub && window.MathJax.Hub.Config) {window.MathJax.Hub.Config({SVG: {font: \"STIX-Web\"}});}</script>                <script type=\"text/javascript\">window.PlotlyConfig = {MathJaxConfig: 'local'};</script>\n",
       "        <script charset=\"utf-8\" src=\"https://cdn.plot.ly/plotly-3.0.1.min.js\"></script>                <div id=\"b69cd32c-b5db-4466-9987-1c850968bfef\" class=\"plotly-graph-div\" style=\"height:800px; width:100%;\"></div>            <script type=\"text/javascript\">                window.PLOTLYENV=window.PLOTLYENV || {};                                if (document.getElementById(\"b69cd32c-b5db-4466-9987-1c850968bfef\")) {                    Plotly.newPlot(                        \"b69cd32c-b5db-4466-9987-1c850968bfef\",                        [{\"line\":{\"color\":\"orange\"},\"mode\":\"lines+markers\",\"name\":\"Total Damages\",\"x\":{\"dtype\":\"i2\",\"bdata\":\"bQdxB4gHjQeYB6wHsAexB7sHvwfJB9IH1AfWB9kH2gfbB+IH\"},\"y\":{\"dtype\":\"f8\",\"bdata\":\"AAAAAAAAAAAAAAAAAAAAAAAAAAAAAAAAAAAAAAAAAAAAAAAAAAAAAAAAAAAAaihBAAAAAAAAAAAAAAAAAAAAAAAAAAAAAAAAAAAAAABkGUEAAAAAgIQuQQAAAAAAAAAAAAAAAB2eYkEAAAAAANvqQAAAAAAAahhBAAAAAAAAAAAAAAAAsQipQQAAAAAQIDZB\"},\"type\":\"scatter\",\"xaxis\":\"x\",\"yaxis\":\"y\"},{\"line\":{\"color\":\"red\"},\"mode\":\"lines+markers\",\"name\":\"Total Deaths\",\"x\":{\"dtype\":\"i2\",\"bdata\":\"bQdxB4gHjQeYB6wHsAexB7sHvwfJB9IH1AfWB9kH2gfbB+IH\"},\"y\":{\"dtype\":\"f8\",\"bdata\":\"AAAAAAAAMkAAAAAAAIBEQAAAAAAAAGBAAAAAAABwp0AAAAAAAByTQAAAAAAAADlAAAAAAAAAaUAAAAAAAABQQAAAAAAA2IBAAAAAAACAWUAAAAAAAOBtQAAAAAAAACBAAAAAAICZC0EAAAAAACiJQAAAAAAAAPA\\u002fAAAAAACQgEAAAAAAwGHTQAAAAAAALLBA\"},\"type\":\"scatter\",\"xaxis\":\"x2\",\"yaxis\":\"y2\"},{\"line\":{\"color\":\"royalblue\"},\"mode\":\"lines+markers\",\"name\":\"Sea Level Rise\",\"x\":{\"dtype\":\"i2\",\"bdata\":\"bQdxB4gHjQeYB6wHsAexB7sHvwfJB9IH1AfWB9kH2gfbB+IH\"},\"y\":{\"dtype\":\"f8\",\"bdata\":\"+F4yRISRY8AAAAAAQE1jwDvUAO8uHGDA3Q5oRMT+XcCJV\\u002f4hojxdwIfYR0TEvlHAmpmZmRk0UsCamZmZmU5PwDMzMzMzaEfA6C7s3d1HNsDoLuzd3cc2wJD8k4iIOAFANsQ+IiJOK0DcANvd3QkjQA2xj4iI00BAymSCK2rwQED5MHvZ9ltCQKgi7EblikpA\"},\"type\":\"scatter\",\"xaxis\":\"x3\",\"yaxis\":\"y3\"}],                        {\"template\":{\"data\":{\"histogram2dcontour\":[{\"type\":\"histogram2dcontour\",\"colorbar\":{\"outlinewidth\":0,\"ticks\":\"\"},\"colorscale\":[[0.0,\"#0d0887\"],[0.1111111111111111,\"#46039f\"],[0.2222222222222222,\"#7201a8\"],[0.3333333333333333,\"#9c179e\"],[0.4444444444444444,\"#bd3786\"],[0.5555555555555556,\"#d8576b\"],[0.6666666666666666,\"#ed7953\"],[0.7777777777777778,\"#fb9f3a\"],[0.8888888888888888,\"#fdca26\"],[1.0,\"#f0f921\"]]}],\"choropleth\":[{\"type\":\"choropleth\",\"colorbar\":{\"outlinewidth\":0,\"ticks\":\"\"}}],\"histogram2d\":[{\"type\":\"histogram2d\",\"colorbar\":{\"outlinewidth\":0,\"ticks\":\"\"},\"colorscale\":[[0.0,\"#0d0887\"],[0.1111111111111111,\"#46039f\"],[0.2222222222222222,\"#7201a8\"],[0.3333333333333333,\"#9c179e\"],[0.4444444444444444,\"#bd3786\"],[0.5555555555555556,\"#d8576b\"],[0.6666666666666666,\"#ed7953\"],[0.7777777777777778,\"#fb9f3a\"],[0.8888888888888888,\"#fdca26\"],[1.0,\"#f0f921\"]]}],\"heatmap\":[{\"type\":\"heatmap\",\"colorbar\":{\"outlinewidth\":0,\"ticks\":\"\"},\"colorscale\":[[0.0,\"#0d0887\"],[0.1111111111111111,\"#46039f\"],[0.2222222222222222,\"#7201a8\"],[0.3333333333333333,\"#9c179e\"],[0.4444444444444444,\"#bd3786\"],[0.5555555555555556,\"#d8576b\"],[0.6666666666666666,\"#ed7953\"],[0.7777777777777778,\"#fb9f3a\"],[0.8888888888888888,\"#fdca26\"],[1.0,\"#f0f921\"]]}],\"contourcarpet\":[{\"type\":\"contourcarpet\",\"colorbar\":{\"outlinewidth\":0,\"ticks\":\"\"}}],\"contour\":[{\"type\":\"contour\",\"colorbar\":{\"outlinewidth\":0,\"ticks\":\"\"},\"colorscale\":[[0.0,\"#0d0887\"],[0.1111111111111111,\"#46039f\"],[0.2222222222222222,\"#7201a8\"],[0.3333333333333333,\"#9c179e\"],[0.4444444444444444,\"#bd3786\"],[0.5555555555555556,\"#d8576b\"],[0.6666666666666666,\"#ed7953\"],[0.7777777777777778,\"#fb9f3a\"],[0.8888888888888888,\"#fdca26\"],[1.0,\"#f0f921\"]]}],\"surface\":[{\"type\":\"surface\",\"colorbar\":{\"outlinewidth\":0,\"ticks\":\"\"},\"colorscale\":[[0.0,\"#0d0887\"],[0.1111111111111111,\"#46039f\"],[0.2222222222222222,\"#7201a8\"],[0.3333333333333333,\"#9c179e\"],[0.4444444444444444,\"#bd3786\"],[0.5555555555555556,\"#d8576b\"],[0.6666666666666666,\"#ed7953\"],[0.7777777777777778,\"#fb9f3a\"],[0.8888888888888888,\"#fdca26\"],[1.0,\"#f0f921\"]]}],\"mesh3d\":[{\"type\":\"mesh3d\",\"colorbar\":{\"outlinewidth\":0,\"ticks\":\"\"}}],\"scatter\":[{\"fillpattern\":{\"fillmode\":\"overlay\",\"size\":10,\"solidity\":0.2},\"type\":\"scatter\"}],\"parcoords\":[{\"type\":\"parcoords\",\"line\":{\"colorbar\":{\"outlinewidth\":0,\"ticks\":\"\"}}}],\"scatterpolargl\":[{\"type\":\"scatterpolargl\",\"marker\":{\"colorbar\":{\"outlinewidth\":0,\"ticks\":\"\"}}}],\"bar\":[{\"error_x\":{\"color\":\"#2a3f5f\"},\"error_y\":{\"color\":\"#2a3f5f\"},\"marker\":{\"line\":{\"color\":\"#E5ECF6\",\"width\":0.5},\"pattern\":{\"fillmode\":\"overlay\",\"size\":10,\"solidity\":0.2}},\"type\":\"bar\"}],\"scattergeo\":[{\"type\":\"scattergeo\",\"marker\":{\"colorbar\":{\"outlinewidth\":0,\"ticks\":\"\"}}}],\"scatterpolar\":[{\"type\":\"scatterpolar\",\"marker\":{\"colorbar\":{\"outlinewidth\":0,\"ticks\":\"\"}}}],\"histogram\":[{\"marker\":{\"pattern\":{\"fillmode\":\"overlay\",\"size\":10,\"solidity\":0.2}},\"type\":\"histogram\"}],\"scattergl\":[{\"type\":\"scattergl\",\"marker\":{\"colorbar\":{\"outlinewidth\":0,\"ticks\":\"\"}}}],\"scatter3d\":[{\"type\":\"scatter3d\",\"line\":{\"colorbar\":{\"outlinewidth\":0,\"ticks\":\"\"}},\"marker\":{\"colorbar\":{\"outlinewidth\":0,\"ticks\":\"\"}}}],\"scattermap\":[{\"type\":\"scattermap\",\"marker\":{\"colorbar\":{\"outlinewidth\":0,\"ticks\":\"\"}}}],\"scattermapbox\":[{\"type\":\"scattermapbox\",\"marker\":{\"colorbar\":{\"outlinewidth\":0,\"ticks\":\"\"}}}],\"scatterternary\":[{\"type\":\"scatterternary\",\"marker\":{\"colorbar\":{\"outlinewidth\":0,\"ticks\":\"\"}}}],\"scattercarpet\":[{\"type\":\"scattercarpet\",\"marker\":{\"colorbar\":{\"outlinewidth\":0,\"ticks\":\"\"}}}],\"carpet\":[{\"aaxis\":{\"endlinecolor\":\"#2a3f5f\",\"gridcolor\":\"white\",\"linecolor\":\"white\",\"minorgridcolor\":\"white\",\"startlinecolor\":\"#2a3f5f\"},\"baxis\":{\"endlinecolor\":\"#2a3f5f\",\"gridcolor\":\"white\",\"linecolor\":\"white\",\"minorgridcolor\":\"white\",\"startlinecolor\":\"#2a3f5f\"},\"type\":\"carpet\"}],\"table\":[{\"cells\":{\"fill\":{\"color\":\"#EBF0F8\"},\"line\":{\"color\":\"white\"}},\"header\":{\"fill\":{\"color\":\"#C8D4E3\"},\"line\":{\"color\":\"white\"}},\"type\":\"table\"}],\"barpolar\":[{\"marker\":{\"line\":{\"color\":\"#E5ECF6\",\"width\":0.5},\"pattern\":{\"fillmode\":\"overlay\",\"size\":10,\"solidity\":0.2}},\"type\":\"barpolar\"}],\"pie\":[{\"automargin\":true,\"type\":\"pie\"}]},\"layout\":{\"autotypenumbers\":\"strict\",\"colorway\":[\"#636efa\",\"#EF553B\",\"#00cc96\",\"#ab63fa\",\"#FFA15A\",\"#19d3f3\",\"#FF6692\",\"#B6E880\",\"#FF97FF\",\"#FECB52\"],\"font\":{\"color\":\"#2a3f5f\"},\"hovermode\":\"closest\",\"hoverlabel\":{\"align\":\"left\"},\"paper_bgcolor\":\"white\",\"plot_bgcolor\":\"#E5ECF6\",\"polar\":{\"bgcolor\":\"#E5ECF6\",\"angularaxis\":{\"gridcolor\":\"white\",\"linecolor\":\"white\",\"ticks\":\"\"},\"radialaxis\":{\"gridcolor\":\"white\",\"linecolor\":\"white\",\"ticks\":\"\"}},\"ternary\":{\"bgcolor\":\"#E5ECF6\",\"aaxis\":{\"gridcolor\":\"white\",\"linecolor\":\"white\",\"ticks\":\"\"},\"baxis\":{\"gridcolor\":\"white\",\"linecolor\":\"white\",\"ticks\":\"\"},\"caxis\":{\"gridcolor\":\"white\",\"linecolor\":\"white\",\"ticks\":\"\"}},\"coloraxis\":{\"colorbar\":{\"outlinewidth\":0,\"ticks\":\"\"}},\"colorscale\":{\"sequential\":[[0.0,\"#0d0887\"],[0.1111111111111111,\"#46039f\"],[0.2222222222222222,\"#7201a8\"],[0.3333333333333333,\"#9c179e\"],[0.4444444444444444,\"#bd3786\"],[0.5555555555555556,\"#d8576b\"],[0.6666666666666666,\"#ed7953\"],[0.7777777777777778,\"#fb9f3a\"],[0.8888888888888888,\"#fdca26\"],[1.0,\"#f0f921\"]],\"sequentialminus\":[[0.0,\"#0d0887\"],[0.1111111111111111,\"#46039f\"],[0.2222222222222222,\"#7201a8\"],[0.3333333333333333,\"#9c179e\"],[0.4444444444444444,\"#bd3786\"],[0.5555555555555556,\"#d8576b\"],[0.6666666666666666,\"#ed7953\"],[0.7777777777777778,\"#fb9f3a\"],[0.8888888888888888,\"#fdca26\"],[1.0,\"#f0f921\"]],\"diverging\":[[0,\"#8e0152\"],[0.1,\"#c51b7d\"],[0.2,\"#de77ae\"],[0.3,\"#f1b6da\"],[0.4,\"#fde0ef\"],[0.5,\"#f7f7f7\"],[0.6,\"#e6f5d0\"],[0.7,\"#b8e186\"],[0.8,\"#7fbc41\"],[0.9,\"#4d9221\"],[1,\"#276419\"]]},\"xaxis\":{\"gridcolor\":\"white\",\"linecolor\":\"white\",\"ticks\":\"\",\"title\":{\"standoff\":15},\"zerolinecolor\":\"white\",\"automargin\":true,\"zerolinewidth\":2},\"yaxis\":{\"gridcolor\":\"white\",\"linecolor\":\"white\",\"ticks\":\"\",\"title\":{\"standoff\":15},\"zerolinecolor\":\"white\",\"automargin\":true,\"zerolinewidth\":2},\"scene\":{\"xaxis\":{\"backgroundcolor\":\"#E5ECF6\",\"gridcolor\":\"white\",\"linecolor\":\"white\",\"showbackground\":true,\"ticks\":\"\",\"zerolinecolor\":\"white\",\"gridwidth\":2},\"yaxis\":{\"backgroundcolor\":\"#E5ECF6\",\"gridcolor\":\"white\",\"linecolor\":\"white\",\"showbackground\":true,\"ticks\":\"\",\"zerolinecolor\":\"white\",\"gridwidth\":2},\"zaxis\":{\"backgroundcolor\":\"#E5ECF6\",\"gridcolor\":\"white\",\"linecolor\":\"white\",\"showbackground\":true,\"ticks\":\"\",\"zerolinecolor\":\"white\",\"gridwidth\":2}},\"shapedefaults\":{\"line\":{\"color\":\"#2a3f5f\"}},\"annotationdefaults\":{\"arrowcolor\":\"#2a3f5f\",\"arrowhead\":0,\"arrowwidth\":1},\"geo\":{\"bgcolor\":\"white\",\"landcolor\":\"#E5ECF6\",\"subunitcolor\":\"white\",\"showland\":true,\"showlakes\":true,\"lakecolor\":\"white\"},\"title\":{\"x\":0.05},\"mapbox\":{\"style\":\"light\"}}},\"xaxis\":{\"anchor\":\"y\",\"domain\":[0.0,1.0],\"matches\":\"x3\",\"showticklabels\":false},\"yaxis\":{\"anchor\":\"x\",\"domain\":[0.7333333333333334,1.0],\"title\":{\"text\":\"Damages ('000 US$)\"}},\"xaxis2\":{\"anchor\":\"y2\",\"domain\":[0.0,1.0],\"matches\":\"x3\",\"showticklabels\":false},\"yaxis2\":{\"anchor\":\"x2\",\"domain\":[0.3666666666666667,0.6333333333333333],\"title\":{\"text\":\"Total Deaths\"}},\"xaxis3\":{\"anchor\":\"y3\",\"domain\":[0.0,1.0],\"title\":{\"text\":\"Year\"}},\"yaxis3\":{\"anchor\":\"x3\",\"domain\":[0.0,0.26666666666666666],\"title\":{\"text\":\"Sea Level Rise (mm)\"}},\"annotations\":[{\"font\":{\"size\":16},\"showarrow\":false,\"text\":\"Total Damages ('000 US$)\",\"x\":0.5,\"xanchor\":\"center\",\"xref\":\"paper\",\"y\":1.0,\"yanchor\":\"bottom\",\"yref\":\"paper\"},{\"font\":{\"size\":16},\"showarrow\":false,\"text\":\"Total Deaths\",\"x\":0.5,\"xanchor\":\"center\",\"xref\":\"paper\",\"y\":0.6333333333333333,\"yanchor\":\"bottom\",\"yref\":\"paper\"},{\"font\":{\"size\":16},\"showarrow\":false,\"text\":\"Sea Level Rise (mm)\",\"x\":0.5,\"xanchor\":\"center\",\"xref\":\"paper\",\"y\":0.26666666666666666,\"yanchor\":\"bottom\",\"yref\":\"paper\"}],\"title\":{\"text\":\"Tsunamis in Azi\\u00eb en Oceani\\u00eb: Schade, Doden en Zeespiegelstijging per Jaar\"},\"height\":800,\"showlegend\":false},                        {\"responsive\": true}                    ).then(function(){\n",
       "                            \n",
       "var gd = document.getElementById('b69cd32c-b5db-4466-9987-1c850968bfef');\n",
       "var x = new MutationObserver(function (mutations, observer) {{\n",
       "        var display = window.getComputedStyle(gd).display;\n",
       "        if (!display || display === 'none') {{\n",
       "            console.log([gd, 'removed!']);\n",
       "            Plotly.purge(gd);\n",
       "            observer.disconnect();\n",
       "        }}\n",
       "}});\n",
       "\n",
       "// Listen for the removal of the full notebook cells\n",
       "var notebookContainer = gd.closest('#notebook-container');\n",
       "if (notebookContainer) {{\n",
       "    x.observe(notebookContainer, {childList: true});\n",
       "}}\n",
       "\n",
       "// Listen for the clearing of the current output cell\n",
       "var outputEl = gd.closest('.output');\n",
       "if (outputEl) {{\n",
       "    x.observe(outputEl, {childList: true});\n",
       "}}\n",
       "\n",
       "                        })                };            </script>        </div>"
      ]
     },
     "metadata": {},
     "output_type": "display_data"
    }
   ],
   "source": [
    "import plotly.graph_objects as go\n",
    "from plotly.subplots import make_subplots\n",
    "\n",
    "# Zorg dat merged_df al geladen is en 'Year' int is\n",
    "merged_df['Year'] = merged_df['Year'].astype(int)\n",
    "\n",
    "# Filter regio Azië en Oceanië via Region\n",
    "df = merged_df[merged_df['Region'].str.contains('Asia|Oceania', case=False, na=False)]\n",
    "\n",
    "years = sorted(df['Year'].unique())\n",
    "\n",
    "# Berekeningen per jaar\n",
    "sea_level_avg = df.groupby('Year')['mmfrom1993-2008average'].mean().reset_index()\n",
    "deaths_per_year = df.groupby('Year')['Total Deaths'].sum().reset_index()\n",
    "damages_per_year = df.groupby('Year')[\"Total Damages ('000 US$)\"].sum().reset_index()\n",
    "\n",
    "# Maak subplots: 3 rijen, 1 kolom, alle lijnen\n",
    "fig = make_subplots(\n",
    "    rows=3, cols=1,\n",
    "    shared_xaxes=True,\n",
    "    vertical_spacing=0.1,\n",
    "    subplot_titles=(\"Total Damages ('000 US$)\", \"Total Deaths\", \"Sea Level Rise (mm)\")\n",
    ")\n",
    "\n",
    "# Voeg lijn diagram voor Total Damages\n",
    "fig.add_trace(\n",
    "    go.Scatter(\n",
    "        x=damages_per_year['Year'],\n",
    "        y=damages_per_year[\"Total Damages ('000 US$)\"],\n",
    "        mode='lines+markers',\n",
    "        name='Total Damages',\n",
    "        line=dict(color='orange')\n",
    "    ),\n",
    "    row=1, col=1\n",
    ")\n",
    "\n",
    "# Voeg lijn diagram voor Total Deaths\n",
    "fig.add_trace(\n",
    "    go.Scatter(\n",
    "        x=deaths_per_year['Year'],\n",
    "        y=deaths_per_year['Total Deaths'],\n",
    "        mode='lines+markers',\n",
    "        name='Total Deaths',\n",
    "        line=dict(color='red')\n",
    "    ),\n",
    "    row=2, col=1\n",
    ")\n",
    "\n",
    "# Voeg lijn diagram voor Sea Level Rise\n",
    "fig.add_trace(\n",
    "    go.Scatter(\n",
    "        x=sea_level_avg['Year'],\n",
    "        y=sea_level_avg['mmfrom1993-2008average'],\n",
    "        mode='lines+markers',\n",
    "        name='Sea Level Rise',\n",
    "        line=dict(color='royalblue')\n",
    "    ),\n",
    "    row=3, col=1\n",
    ")\n",
    "\n",
    "fig.update_layout(\n",
    "    height=800,\n",
    "    title_text=\"Tsunamis in Azië en Oceanië: Schade, Doden en Zeespiegelstijging per Jaar\",\n",
    "    showlegend=False\n",
    ")\n",
    "\n",
    "fig.update_xaxes(title_text=\"Year\", row=3, col=1)\n",
    "fig.update_yaxes(title_text=\"Damages ('000 US$)\", row=1, col=1)\n",
    "fig.update_yaxes(title_text=\"Total Deaths\", row=2, col=1)\n",
    "fig.update_yaxes(title_text=\"Sea Level Rise (mm)\", row=3, col=1)\n",
    "\n",
    "fig.show()\n"
   ]
  },
  {
   "cell_type": "code",
   "execution_count": 6,
   "id": "82e8c148-9ced-4cdc-9264-1c93cc3d4b22",
   "metadata": {},
   "outputs": [
    {
     "data": {
      "application/vnd.plotly.v1+json": {
       "config": {
        "plotlyServerURL": "https://plot.ly"
       },
       "data": [
        {
         "customdata": {
          "bdata": "AAAAAAAgnkAAAAAAAAAAAAAAAAAAAGBAAAAAAADAnkAAAAAAAAAAAAAAAAAAAGlAAAAAAADEnkAAAAAAAAAAAAAAAAAAAFBAAAAAAAC0nUAAAAAAAAAAAAAAAAAAADJAAAAAAADEnUAAAAAAAAAAAAAAAAAAgERAAAAAAAA0nkAAAAAAAAAAAAAAAAAAcKdAAAAAAABgnkAAAAAAAAAAAAAAAAAAHJNAAAAAAACwnkAAAAAAAGooQQAAAAAAADlAAAAAAADsnkAAAAAAAAAAAAAAAAAA2IBAAAAAAAD8nkAAAAAAAGQZQQAAAAAAgFlAAAAAAAAkn0AAAAAAgIQuQQAAAAAA4G1AAAAAAABIn0AAAAAAAAAAAAAAAAAAACBAAAAAAABQn0AAAAAARPtQQQAAAABgOgRBAAAAAABQn0AAAAAAgIQeQQAAAAAAAABAAAAAAABQn0AAAAAAoDYvQQAAAABAAdBAAAAAAABQn0AAAAAAlBY0QQAAAADgSOFAAAAAAABQn0AAAAAAULEcQQAAAAAAgFlAAAAAAABQn0AAAAAAgIQeQQAAAAAAAFRAAAAAAABQn0AAAAAAgIQuQQAAAACATMBAAAAAAABQn0AAAAAAgIQeQQAAAAAAwFFAAAAAAABYn0AAAAAAAAAAAAAAAAAAAAhAAAAAAABYn0AAAAAAANvqQAAAAAAAEIlAAAAAAABon0AAAAAAAAAAAAAAAAAAkIBAAAAAAABsn0AAAAAAAAAAAAAAAAAAAPA/AAAAAABkn0AAAAAAAGoYQQAAAAAAAPA/AAAAAABsn0AAAAAAsQipQQAAAACAYdNAAAAAAACIn0AAAAAAECA2QQAAAAAALLBA",
          "dtype": "f8",
          "shape": "27, 3"
         },
         "geo": "geo",
         "hovertemplate": "<b>%{hovertext}</b><br><br>Total Damages ('000 US$)=%{marker.color:.2f}<br>Latitude=%{lat}<br>Longitude=%{lon}<br>Year=%{customdata[0]}<br>Total Deaths=%{customdata[2]}<extra></extra>",
         "hovertext": [
          "Flores sea",
          "Donggala",
          "Parasanga, Paletoang (Sulawesi)",
          "Sanriku",
          "Fukushima",
          "Sanriku",
          "Tonankai, Hondo",
          "Niigata, Hodo Isl.",
          "Lomblen Island",
          "Nihon- Kai-Chubu, Western Honshu, Akita, Aomori, Hokkaido",
          "Okushiri Island (Hokkaido)",
          "Manokwari, Ransiki, Oransbari, Prafi, Anggi, Warmare villages (Manokwari district, Papua Barat province), Bintuni village (Telukbintuni district, Papua Barat province), Windesi, Wasior villages (Telukwondama district, Papua Barat province)",
          "Nangroe Aceh Darussalam, Sumatera Utara provinces",
          "Barisal, Chittagong, Khulna provinces",
          "Kancheepuram, Villupuram, Nagapattinam, Thoothukudi, Tirunelveli Kattabo, Kanniyakumari, Chennai, Thiruvallur, Cuddalore, Pudukkottai, Ramanathapuram, Sivaganga, Thanjavur districts (Tamil Nadu province), Vishakhapatnam, East Godavari, West Godavari, Krishna, Guntur, Prakasam, Nellore districts (Andhra Pradesh province), Kollam, Alappuzha, Ernakulam districts (Kerala province), Puducherry, Karaikal district (Puducherry province), Andaman and Nicobar province",
          "Jaffna, Kilinochchi, Mullativu, Trincomalee, Batticaloa, Ampara, Hambantota, Matara, Galle, Kalutara, Colombo, Gampaha, Puttalam, Vavuniya districts",
          "Alifu Alifu, Alifu Dhaalu, Baa, Faafu, Gaafu Alifu, Gaafu Dhaalu, Haa Alifu, Haa Dhaalu, Kaafu, Laamu, Lhaviyani, Male', Meemu, Noonu, Raa, Seenu, Shaviyani, Thaa, Vaavu provinces",
          "Barat Daya, Timur Laut district (Pulau Pinang province)",
          "Krabi, Phangnga, Phuket, Ranong, Satun, Trang provinces",
          "Kawthoung, Pyapon, Pathein districts (Ayeyawaddy province), Kawthoung district (Taninthayi province), Sittwe district (Rakhine province)",
          "Pela, Batu Junku, Waimarot, Wailawa, Waimoly villages (Bata Bual sub-district,Buru district, Maluku Utara province)",
          "Tasikmalaya, Kota Tasikmalaya, Ciamis, Sukabumi, kota Sukabumi, Garut districts (Jawa Barat province), Cilacap, Kebumen, Banyumas districts (Jawa Tengah province), Gunungkidul, Bantul district (Daerah Istimewa Yogyakarta province)",
          "Kepulauan Mentawai district (Sumatera Barat province)",
          "Holtekamp beach (Muara Tami area, Kota Jayapura district, Papua province)",
          "Sizuokasi, Yaidusi, Sagaratyoo, Huziedasi, Simadasi, Kakegawasi, Haibaratyoo districts (Sizuola province), Tookyoo province",
          "Hokkaidoo, Akita, Aomori, Yamagata, Miyagi, Iwate, Hukusima, Tookyoo, Ibaraki, Totigi, Gunma, Saitama, Tiba, Kanagawa, Nagano provinces",
          "Dongalla, Sigi (dongalla), Parigi Moutong, Palu, Poso, Mamuju Utara (Celebas Isl., Central Sulawesi)"
         ],
         "lat": [
          "8.30 S",
          "0.157",
          "-3.201",
          "40.5",
          "37.4",
          "39.224",
          "33.682",
          "38.67",
          "8.8",
          "40.462",
          "42.851 N",
          "-1.757",
          "3.295",
          "3.295",
          "3.295",
          "3.295",
          "3.295",
          "3.295",
          "3.295",
          "3.295",
          "-3.595",
          "-9.284",
          "-3.487",
          "38.297",
          "34.743",
          "38.297",
          "-178"
         ],
         "legendgroup": "",
         "lon": [
          "121.70 E",
          "119.802",
          "118.904",
          "142.5",
          "142.6",
          "144.622",
          "36.204",
          "139.195",
          "123.5",
          "139.102",
          "139.197 E",
          "134.297",
          "95.982",
          "95.982",
          "95.982",
          "95.982",
          "95.982",
          "95.982",
          "95.982",
          "95.982",
          "127.214",
          "107.419",
          "100.082",
          "142.373",
          "138.264",
          "142.373",
          "119.84"
         ],
         "marker": {
          "color": {
           "bdata": "AAAAAAAAAAAAAAAAAAAAAAAAAAAAAAAAAAAAAAAAAAAAAAAAAAAAAAAAAAAAAAAAAAAAAAAAAAAAAAAAAGooQQAAAAAAAAAAAAAAAABkGUEAAAAAgIQuQQAAAAAAAAAAAAAAAET7UEEAAAAAgIQeQQAAAACgNi9BAAAAAJQWNEEAAAAAULEcQQAAAACAhB5BAAAAAICELkEAAAAAgIQeQQAAAAAAAAAAAAAAAADb6kAAAAAAAAAAAAAAAAAAAAAAAAAAAABqGEEAAAAAsQipQQAAAAAQIDZB",
           "dtype": "f8"
          },
          "coloraxis": "coloraxis",
          "size": {
           "bdata": "AAAAAAAAAAAAAAAAAAAAAAAAAAAAAAAAAAAAAAAAAAAAAAAAAAAAAAAAAAAAAAAAAAAAAAAAAAAAAAAAAGooQQAAAAAAAAAAAAAAAABkGUEAAAAAgIQuQQAAAAAAAAAAAAAAAET7UEEAAAAAgIQeQQAAAACgNi9BAAAAAJQWNEEAAAAAULEcQQAAAACAhB5BAAAAAICELkEAAAAAgIQeQQAAAAAAAAAAAAAAAADb6kAAAAAAAAAAAAAAAAAAAAAAAAAAAABqGEEAAAAAsQipQQAAAAAQIDZB",
           "dtype": "f8"
          },
          "sizemode": "area",
          "sizeref": 233333.33333333334,
          "symbol": "circle"
         },
         "mode": "markers",
         "name": "",
         "showlegend": false,
         "type": "scattergeo"
        }
       ],
       "layout": {
        "coloraxis": {
         "colorbar": {
          "title": {
           "text": "Total Damages ('000 US$)"
          }
         },
         "colorscale": [
          [
           0.0,
           "rgb(255,247,236)"
          ],
          [
           0.125,
           "rgb(254,232,200)"
          ],
          [
           0.25,
           "rgb(253,212,158)"
          ],
          [
           0.375,
           "rgb(253,187,132)"
          ],
          [
           0.5,
           "rgb(252,141,89)"
          ],
          [
           0.625,
           "rgb(239,101,72)"
          ],
          [
           0.75,
           "rgb(215,48,31)"
          ],
          [
           0.875,
           "rgb(179,0,0)"
          ],
          [
           1.0,
           "rgb(127,0,0)"
          ]
         ]
        },
        "geo": {
         "center": {},
         "coastlinecolor": "Gray",
         "countrycolor": "LightGray",
         "domain": {
          "x": [
           0.0,
           1.0
          ],
          "y": [
           0.0,
           1.0
          ]
         },
         "lataxis": {
          "range": [
           -50,
           50
          ]
         },
         "lonaxis": {
          "range": [
           60,
           180
          ]
         },
         "projection": {
          "type": "natural earth"
         },
         "showcoastlines": true,
         "showcountries": true
        },
        "height": 600,
        "legend": {
         "itemsizing": "constant",
         "tracegroupgap": 0
        },
        "margin": {
         "b": 0,
         "l": 0,
         "r": 0,
         "t": 40
        },
        "template": {
         "data": {
          "bar": [
           {
            "error_x": {
             "color": "#2a3f5f"
            },
            "error_y": {
             "color": "#2a3f5f"
            },
            "marker": {
             "line": {
              "color": "#E5ECF6",
              "width": 0.5
             },
             "pattern": {
              "fillmode": "overlay",
              "size": 10,
              "solidity": 0.2
             }
            },
            "type": "bar"
           }
          ],
          "barpolar": [
           {
            "marker": {
             "line": {
              "color": "#E5ECF6",
              "width": 0.5
             },
             "pattern": {
              "fillmode": "overlay",
              "size": 10,
              "solidity": 0.2
             }
            },
            "type": "barpolar"
           }
          ],
          "carpet": [
           {
            "aaxis": {
             "endlinecolor": "#2a3f5f",
             "gridcolor": "white",
             "linecolor": "white",
             "minorgridcolor": "white",
             "startlinecolor": "#2a3f5f"
            },
            "baxis": {
             "endlinecolor": "#2a3f5f",
             "gridcolor": "white",
             "linecolor": "white",
             "minorgridcolor": "white",
             "startlinecolor": "#2a3f5f"
            },
            "type": "carpet"
           }
          ],
          "choropleth": [
           {
            "colorbar": {
             "outlinewidth": 0,
             "ticks": ""
            },
            "type": "choropleth"
           }
          ],
          "contour": [
           {
            "colorbar": {
             "outlinewidth": 0,
             "ticks": ""
            },
            "colorscale": [
             [
              0.0,
              "#0d0887"
             ],
             [
              0.1111111111111111,
              "#46039f"
             ],
             [
              0.2222222222222222,
              "#7201a8"
             ],
             [
              0.3333333333333333,
              "#9c179e"
             ],
             [
              0.4444444444444444,
              "#bd3786"
             ],
             [
              0.5555555555555556,
              "#d8576b"
             ],
             [
              0.6666666666666666,
              "#ed7953"
             ],
             [
              0.7777777777777778,
              "#fb9f3a"
             ],
             [
              0.8888888888888888,
              "#fdca26"
             ],
             [
              1.0,
              "#f0f921"
             ]
            ],
            "type": "contour"
           }
          ],
          "contourcarpet": [
           {
            "colorbar": {
             "outlinewidth": 0,
             "ticks": ""
            },
            "type": "contourcarpet"
           }
          ],
          "heatmap": [
           {
            "colorbar": {
             "outlinewidth": 0,
             "ticks": ""
            },
            "colorscale": [
             [
              0.0,
              "#0d0887"
             ],
             [
              0.1111111111111111,
              "#46039f"
             ],
             [
              0.2222222222222222,
              "#7201a8"
             ],
             [
              0.3333333333333333,
              "#9c179e"
             ],
             [
              0.4444444444444444,
              "#bd3786"
             ],
             [
              0.5555555555555556,
              "#d8576b"
             ],
             [
              0.6666666666666666,
              "#ed7953"
             ],
             [
              0.7777777777777778,
              "#fb9f3a"
             ],
             [
              0.8888888888888888,
              "#fdca26"
             ],
             [
              1.0,
              "#f0f921"
             ]
            ],
            "type": "heatmap"
           }
          ],
          "histogram": [
           {
            "marker": {
             "pattern": {
              "fillmode": "overlay",
              "size": 10,
              "solidity": 0.2
             }
            },
            "type": "histogram"
           }
          ],
          "histogram2d": [
           {
            "colorbar": {
             "outlinewidth": 0,
             "ticks": ""
            },
            "colorscale": [
             [
              0.0,
              "#0d0887"
             ],
             [
              0.1111111111111111,
              "#46039f"
             ],
             [
              0.2222222222222222,
              "#7201a8"
             ],
             [
              0.3333333333333333,
              "#9c179e"
             ],
             [
              0.4444444444444444,
              "#bd3786"
             ],
             [
              0.5555555555555556,
              "#d8576b"
             ],
             [
              0.6666666666666666,
              "#ed7953"
             ],
             [
              0.7777777777777778,
              "#fb9f3a"
             ],
             [
              0.8888888888888888,
              "#fdca26"
             ],
             [
              1.0,
              "#f0f921"
             ]
            ],
            "type": "histogram2d"
           }
          ],
          "histogram2dcontour": [
           {
            "colorbar": {
             "outlinewidth": 0,
             "ticks": ""
            },
            "colorscale": [
             [
              0.0,
              "#0d0887"
             ],
             [
              0.1111111111111111,
              "#46039f"
             ],
             [
              0.2222222222222222,
              "#7201a8"
             ],
             [
              0.3333333333333333,
              "#9c179e"
             ],
             [
              0.4444444444444444,
              "#bd3786"
             ],
             [
              0.5555555555555556,
              "#d8576b"
             ],
             [
              0.6666666666666666,
              "#ed7953"
             ],
             [
              0.7777777777777778,
              "#fb9f3a"
             ],
             [
              0.8888888888888888,
              "#fdca26"
             ],
             [
              1.0,
              "#f0f921"
             ]
            ],
            "type": "histogram2dcontour"
           }
          ],
          "mesh3d": [
           {
            "colorbar": {
             "outlinewidth": 0,
             "ticks": ""
            },
            "type": "mesh3d"
           }
          ],
          "parcoords": [
           {
            "line": {
             "colorbar": {
              "outlinewidth": 0,
              "ticks": ""
             }
            },
            "type": "parcoords"
           }
          ],
          "pie": [
           {
            "automargin": true,
            "type": "pie"
           }
          ],
          "scatter": [
           {
            "fillpattern": {
             "fillmode": "overlay",
             "size": 10,
             "solidity": 0.2
            },
            "type": "scatter"
           }
          ],
          "scatter3d": [
           {
            "line": {
             "colorbar": {
              "outlinewidth": 0,
              "ticks": ""
             }
            },
            "marker": {
             "colorbar": {
              "outlinewidth": 0,
              "ticks": ""
             }
            },
            "type": "scatter3d"
           }
          ],
          "scattercarpet": [
           {
            "marker": {
             "colorbar": {
              "outlinewidth": 0,
              "ticks": ""
             }
            },
            "type": "scattercarpet"
           }
          ],
          "scattergeo": [
           {
            "marker": {
             "colorbar": {
              "outlinewidth": 0,
              "ticks": ""
             }
            },
            "type": "scattergeo"
           }
          ],
          "scattergl": [
           {
            "marker": {
             "colorbar": {
              "outlinewidth": 0,
              "ticks": ""
             }
            },
            "type": "scattergl"
           }
          ],
          "scattermap": [
           {
            "marker": {
             "colorbar": {
              "outlinewidth": 0,
              "ticks": ""
             }
            },
            "type": "scattermap"
           }
          ],
          "scattermapbox": [
           {
            "marker": {
             "colorbar": {
              "outlinewidth": 0,
              "ticks": ""
             }
            },
            "type": "scattermapbox"
           }
          ],
          "scatterpolar": [
           {
            "marker": {
             "colorbar": {
              "outlinewidth": 0,
              "ticks": ""
             }
            },
            "type": "scatterpolar"
           }
          ],
          "scatterpolargl": [
           {
            "marker": {
             "colorbar": {
              "outlinewidth": 0,
              "ticks": ""
             }
            },
            "type": "scatterpolargl"
           }
          ],
          "scatterternary": [
           {
            "marker": {
             "colorbar": {
              "outlinewidth": 0,
              "ticks": ""
             }
            },
            "type": "scatterternary"
           }
          ],
          "surface": [
           {
            "colorbar": {
             "outlinewidth": 0,
             "ticks": ""
            },
            "colorscale": [
             [
              0.0,
              "#0d0887"
             ],
             [
              0.1111111111111111,
              "#46039f"
             ],
             [
              0.2222222222222222,
              "#7201a8"
             ],
             [
              0.3333333333333333,
              "#9c179e"
             ],
             [
              0.4444444444444444,
              "#bd3786"
             ],
             [
              0.5555555555555556,
              "#d8576b"
             ],
             [
              0.6666666666666666,
              "#ed7953"
             ],
             [
              0.7777777777777778,
              "#fb9f3a"
             ],
             [
              0.8888888888888888,
              "#fdca26"
             ],
             [
              1.0,
              "#f0f921"
             ]
            ],
            "type": "surface"
           }
          ],
          "table": [
           {
            "cells": {
             "fill": {
              "color": "#EBF0F8"
             },
             "line": {
              "color": "white"
             }
            },
            "header": {
             "fill": {
              "color": "#C8D4E3"
             },
             "line": {
              "color": "white"
             }
            },
            "type": "table"
           }
          ]
         },
         "layout": {
          "annotationdefaults": {
           "arrowcolor": "#2a3f5f",
           "arrowhead": 0,
           "arrowwidth": 1
          },
          "autotypenumbers": "strict",
          "coloraxis": {
           "colorbar": {
            "outlinewidth": 0,
            "ticks": ""
           }
          },
          "colorscale": {
           "diverging": [
            [
             0,
             "#8e0152"
            ],
            [
             0.1,
             "#c51b7d"
            ],
            [
             0.2,
             "#de77ae"
            ],
            [
             0.3,
             "#f1b6da"
            ],
            [
             0.4,
             "#fde0ef"
            ],
            [
             0.5,
             "#f7f7f7"
            ],
            [
             0.6,
             "#e6f5d0"
            ],
            [
             0.7,
             "#b8e186"
            ],
            [
             0.8,
             "#7fbc41"
            ],
            [
             0.9,
             "#4d9221"
            ],
            [
             1,
             "#276419"
            ]
           ],
           "sequential": [
            [
             0.0,
             "#0d0887"
            ],
            [
             0.1111111111111111,
             "#46039f"
            ],
            [
             0.2222222222222222,
             "#7201a8"
            ],
            [
             0.3333333333333333,
             "#9c179e"
            ],
            [
             0.4444444444444444,
             "#bd3786"
            ],
            [
             0.5555555555555556,
             "#d8576b"
            ],
            [
             0.6666666666666666,
             "#ed7953"
            ],
            [
             0.7777777777777778,
             "#fb9f3a"
            ],
            [
             0.8888888888888888,
             "#fdca26"
            ],
            [
             1.0,
             "#f0f921"
            ]
           ],
           "sequentialminus": [
            [
             0.0,
             "#0d0887"
            ],
            [
             0.1111111111111111,
             "#46039f"
            ],
            [
             0.2222222222222222,
             "#7201a8"
            ],
            [
             0.3333333333333333,
             "#9c179e"
            ],
            [
             0.4444444444444444,
             "#bd3786"
            ],
            [
             0.5555555555555556,
             "#d8576b"
            ],
            [
             0.6666666666666666,
             "#ed7953"
            ],
            [
             0.7777777777777778,
             "#fb9f3a"
            ],
            [
             0.8888888888888888,
             "#fdca26"
            ],
            [
             1.0,
             "#f0f921"
            ]
           ]
          },
          "colorway": [
           "#636efa",
           "#EF553B",
           "#00cc96",
           "#ab63fa",
           "#FFA15A",
           "#19d3f3",
           "#FF6692",
           "#B6E880",
           "#FF97FF",
           "#FECB52"
          ],
          "font": {
           "color": "#2a3f5f"
          },
          "geo": {
           "bgcolor": "white",
           "lakecolor": "white",
           "landcolor": "#E5ECF6",
           "showlakes": true,
           "showland": true,
           "subunitcolor": "white"
          },
          "hoverlabel": {
           "align": "left"
          },
          "hovermode": "closest",
          "mapbox": {
           "style": "light"
          },
          "paper_bgcolor": "white",
          "plot_bgcolor": "#E5ECF6",
          "polar": {
           "angularaxis": {
            "gridcolor": "white",
            "linecolor": "white",
            "ticks": ""
           },
           "bgcolor": "#E5ECF6",
           "radialaxis": {
            "gridcolor": "white",
            "linecolor": "white",
            "ticks": ""
           }
          },
          "scene": {
           "xaxis": {
            "backgroundcolor": "#E5ECF6",
            "gridcolor": "white",
            "gridwidth": 2,
            "linecolor": "white",
            "showbackground": true,
            "ticks": "",
            "zerolinecolor": "white"
           },
           "yaxis": {
            "backgroundcolor": "#E5ECF6",
            "gridcolor": "white",
            "gridwidth": 2,
            "linecolor": "white",
            "showbackground": true,
            "ticks": "",
            "zerolinecolor": "white"
           },
           "zaxis": {
            "backgroundcolor": "#E5ECF6",
            "gridcolor": "white",
            "gridwidth": 2,
            "linecolor": "white",
            "showbackground": true,
            "ticks": "",
            "zerolinecolor": "white"
           }
          },
          "shapedefaults": {
           "line": {
            "color": "#2a3f5f"
           }
          },
          "ternary": {
           "aaxis": {
            "gridcolor": "white",
            "linecolor": "white",
            "ticks": ""
           },
           "baxis": {
            "gridcolor": "white",
            "linecolor": "white",
            "ticks": ""
           },
           "bgcolor": "#E5ECF6",
           "caxis": {
            "gridcolor": "white",
            "linecolor": "white",
            "ticks": ""
           }
          },
          "title": {
           "x": 0.05
          },
          "xaxis": {
           "automargin": true,
           "gridcolor": "white",
           "linecolor": "white",
           "ticks": "",
           "title": {
            "standoff": 15
           },
           "zerolinecolor": "white",
           "zerolinewidth": 2
          },
          "yaxis": {
           "automargin": true,
           "gridcolor": "white",
           "linecolor": "white",
           "ticks": "",
           "title": {
            "standoff": 15
           },
           "zerolinecolor": "white",
           "zerolinewidth": 2
          }
         }
        },
        "title": {
         "text": "Locaties van Tsunamis in Azië en Oceanië met Total Damages"
        }
       }
      },
      "text/html": [
       "<div>            <script src=\"https://cdnjs.cloudflare.com/ajax/libs/mathjax/2.7.5/MathJax.js?config=TeX-AMS-MML_SVG\"></script><script type=\"text/javascript\">if (window.MathJax && window.MathJax.Hub && window.MathJax.Hub.Config) {window.MathJax.Hub.Config({SVG: {font: \"STIX-Web\"}});}</script>                <script type=\"text/javascript\">window.PlotlyConfig = {MathJaxConfig: 'local'};</script>\n",
       "        <script charset=\"utf-8\" src=\"https://cdn.plot.ly/plotly-3.0.1.min.js\"></script>                <div id=\"ac88cdb4-60dc-4425-9338-59d777ce73ff\" class=\"plotly-graph-div\" style=\"height:600px; width:100%;\"></div>            <script type=\"text/javascript\">                window.PLOTLYENV=window.PLOTLYENV || {};                                if (document.getElementById(\"ac88cdb4-60dc-4425-9338-59d777ce73ff\")) {                    Plotly.newPlot(                        \"ac88cdb4-60dc-4425-9338-59d777ce73ff\",                        [{\"customdata\":{\"dtype\":\"f8\",\"bdata\":\"AAAAAAAgnkAAAAAAAAAAAAAAAAAAAGBAAAAAAADAnkAAAAAAAAAAAAAAAAAAAGlAAAAAAADEnkAAAAAAAAAAAAAAAAAAAFBAAAAAAAC0nUAAAAAAAAAAAAAAAAAAADJAAAAAAADEnUAAAAAAAAAAAAAAAAAAgERAAAAAAAA0nkAAAAAAAAAAAAAAAAAAcKdAAAAAAABgnkAAAAAAAAAAAAAAAAAAHJNAAAAAAACwnkAAAAAAAGooQQAAAAAAADlAAAAAAADsnkAAAAAAAAAAAAAAAAAA2IBAAAAAAAD8nkAAAAAAAGQZQQAAAAAAgFlAAAAAAAAkn0AAAAAAgIQuQQAAAAAA4G1AAAAAAABIn0AAAAAAAAAAAAAAAAAAACBAAAAAAABQn0AAAAAARPtQQQAAAABgOgRBAAAAAABQn0AAAAAAgIQeQQAAAAAAAABAAAAAAABQn0AAAAAAoDYvQQAAAABAAdBAAAAAAABQn0AAAAAAlBY0QQAAAADgSOFAAAAAAABQn0AAAAAAULEcQQAAAAAAgFlAAAAAAABQn0AAAAAAgIQeQQAAAAAAAFRAAAAAAABQn0AAAAAAgIQuQQAAAACATMBAAAAAAABQn0AAAAAAgIQeQQAAAAAAwFFAAAAAAABYn0AAAAAAAAAAAAAAAAAAAAhAAAAAAABYn0AAAAAAANvqQAAAAAAAEIlAAAAAAABon0AAAAAAAAAAAAAAAAAAkIBAAAAAAABsn0AAAAAAAAAAAAAAAAAAAPA\\u002fAAAAAABkn0AAAAAAAGoYQQAAAAAAAPA\\u002fAAAAAABsn0AAAAAAsQipQQAAAACAYdNAAAAAAACIn0AAAAAAECA2QQAAAAAALLBA\",\"shape\":\"27, 3\"},\"geo\":\"geo\",\"hovertemplate\":\"\\u003cb\\u003e%{hovertext}\\u003c\\u002fb\\u003e\\u003cbr\\u003e\\u003cbr\\u003eTotal Damages ('000 US$)=%{marker.color:.2f}\\u003cbr\\u003eLatitude=%{lat}\\u003cbr\\u003eLongitude=%{lon}\\u003cbr\\u003eYear=%{customdata[0]}\\u003cbr\\u003eTotal Deaths=%{customdata[2]}\\u003cextra\\u003e\\u003c\\u002fextra\\u003e\",\"hovertext\":[\"Flores sea\",\"Donggala\",\"Parasanga, Paletoang (Sulawesi)\",\"Sanriku\",\"Fukushima\",\"Sanriku\",\"Tonankai, Hondo\",\"Niigata, Hodo Isl.\",\"Lomblen Island\",\"Nihon- Kai-Chubu, Western Honshu, Akita, Aomori, Hokkaido\",\"Okushiri Island (Hokkaido)\",\"Manokwari, Ransiki, Oransbari, Prafi, Anggi, Warmare villages (Manokwari district, Papua Barat province), Bintuni village (Telukbintuni district, Papua Barat province), Windesi, Wasior villages (Telukwondama district, Papua Barat province)\",\"Nangroe Aceh Darussalam, Sumatera Utara provinces\",\"Barisal, Chittagong, Khulna provinces\",\"Kancheepuram, Villupuram, Nagapattinam, Thoothukudi, Tirunelveli Kattabo, Kanniyakumari, Chennai, Thiruvallur, Cuddalore, Pudukkottai, Ramanathapuram, Sivaganga, Thanjavur districts (Tamil Nadu province), Vishakhapatnam, East Godavari, West Godavari, Krishna, Guntur, Prakasam, Nellore districts (Andhra Pradesh province), Kollam, Alappuzha, Ernakulam districts (Kerala province), Puducherry, Karaikal district (Puducherry province), Andaman and Nicobar province\",\"Jaffna, Kilinochchi, Mullativu, Trincomalee, Batticaloa, Ampara, Hambantota, Matara, Galle, Kalutara, Colombo, Gampaha, Puttalam, Vavuniya districts\",\"Alifu Alifu, Alifu Dhaalu, Baa, Faafu, Gaafu Alifu, Gaafu Dhaalu, Haa Alifu, Haa Dhaalu, Kaafu, Laamu, Lhaviyani, Male', Meemu, Noonu, Raa, Seenu, Shaviyani, Thaa, Vaavu provinces\",\"Barat Daya, Timur Laut district (Pulau Pinang province)\",\"Krabi, Phangnga, Phuket, Ranong, Satun, Trang provinces\",\"Kawthoung, Pyapon, Pathein districts (Ayeyawaddy province), Kawthoung district (Taninthayi province), Sittwe district (Rakhine province)\",\"Pela, Batu Junku, Waimarot, Wailawa, Waimoly villages (Bata Bual sub-district,Buru district, Maluku Utara province)\",\"Tasikmalaya, Kota Tasikmalaya, Ciamis, Sukabumi, kota Sukabumi, Garut districts (Jawa Barat province), Cilacap, Kebumen, Banyumas districts (Jawa Tengah province), Gunungkidul, Bantul district (Daerah Istimewa Yogyakarta province)\",\"Kepulauan Mentawai district (Sumatera Barat province)\",\"Holtekamp beach (Muara Tami area, Kota Jayapura district, Papua province)\",\"Sizuokasi, Yaidusi, Sagaratyoo, Huziedasi, Simadasi, Kakegawasi, Haibaratyoo districts (Sizuola province), Tookyoo province\",\"Hokkaidoo, Akita, Aomori, Yamagata, Miyagi, Iwate, Hukusima, Tookyoo, Ibaraki, Totigi, Gunma, Saitama, Tiba, Kanagawa, Nagano provinces\",\"Dongalla, Sigi (dongalla), Parigi Moutong, Palu, Poso, Mamuju Utara (Celebas Isl., Central Sulawesi)\"],\"lat\":[\"8.30 S\",\"0.157\",\"-3.201\",\"40.5\",\"37.4\",\"39.224\",\"33.682\",\"38.67\",\"8.8\",\"40.462\",\"42.851 N\",\"-1.757\",\"3.295\",\"3.295\",\"3.295\",\"3.295\",\"3.295\",\"3.295\",\"3.295\",\"3.295\",\"-3.595\",\"-9.284\",\"-3.487\",\"38.297\",\"34.743\",\"38.297\",\"-178\"],\"legendgroup\":\"\",\"lon\":[\"121.70 E\",\"119.802\",\"118.904\",\"142.5\",\"142.6\",\"144.622\",\"36.204\",\"139.195\",\"123.5\",\"139.102\",\"139.197 E\",\"134.297\",\"95.982\",\"95.982\",\"95.982\",\"95.982\",\"95.982\",\"95.982\",\"95.982\",\"95.982\",\"127.214\",\"107.419\",\"100.082\",\"142.373\",\"138.264\",\"142.373\",\"119.84\"],\"marker\":{\"color\":{\"dtype\":\"f8\",\"bdata\":\"AAAAAAAAAAAAAAAAAAAAAAAAAAAAAAAAAAAAAAAAAAAAAAAAAAAAAAAAAAAAAAAAAAAAAAAAAAAAAAAAAGooQQAAAAAAAAAAAAAAAABkGUEAAAAAgIQuQQAAAAAAAAAAAAAAAET7UEEAAAAAgIQeQQAAAACgNi9BAAAAAJQWNEEAAAAAULEcQQAAAACAhB5BAAAAAICELkEAAAAAgIQeQQAAAAAAAAAAAAAAAADb6kAAAAAAAAAAAAAAAAAAAAAAAAAAAABqGEEAAAAAsQipQQAAAAAQIDZB\"},\"coloraxis\":\"coloraxis\",\"size\":{\"dtype\":\"f8\",\"bdata\":\"AAAAAAAAAAAAAAAAAAAAAAAAAAAAAAAAAAAAAAAAAAAAAAAAAAAAAAAAAAAAAAAAAAAAAAAAAAAAAAAAAGooQQAAAAAAAAAAAAAAAABkGUEAAAAAgIQuQQAAAAAAAAAAAAAAAET7UEEAAAAAgIQeQQAAAACgNi9BAAAAAJQWNEEAAAAAULEcQQAAAACAhB5BAAAAAICELkEAAAAAgIQeQQAAAAAAAAAAAAAAAADb6kAAAAAAAAAAAAAAAAAAAAAAAAAAAABqGEEAAAAAsQipQQAAAAAQIDZB\"},\"sizemode\":\"area\",\"sizeref\":233333.33333333334,\"symbol\":\"circle\"},\"mode\":\"markers\",\"name\":\"\",\"showlegend\":false,\"type\":\"scattergeo\"}],                        {\"template\":{\"data\":{\"histogram2dcontour\":[{\"type\":\"histogram2dcontour\",\"colorbar\":{\"outlinewidth\":0,\"ticks\":\"\"},\"colorscale\":[[0.0,\"#0d0887\"],[0.1111111111111111,\"#46039f\"],[0.2222222222222222,\"#7201a8\"],[0.3333333333333333,\"#9c179e\"],[0.4444444444444444,\"#bd3786\"],[0.5555555555555556,\"#d8576b\"],[0.6666666666666666,\"#ed7953\"],[0.7777777777777778,\"#fb9f3a\"],[0.8888888888888888,\"#fdca26\"],[1.0,\"#f0f921\"]]}],\"choropleth\":[{\"type\":\"choropleth\",\"colorbar\":{\"outlinewidth\":0,\"ticks\":\"\"}}],\"histogram2d\":[{\"type\":\"histogram2d\",\"colorbar\":{\"outlinewidth\":0,\"ticks\":\"\"},\"colorscale\":[[0.0,\"#0d0887\"],[0.1111111111111111,\"#46039f\"],[0.2222222222222222,\"#7201a8\"],[0.3333333333333333,\"#9c179e\"],[0.4444444444444444,\"#bd3786\"],[0.5555555555555556,\"#d8576b\"],[0.6666666666666666,\"#ed7953\"],[0.7777777777777778,\"#fb9f3a\"],[0.8888888888888888,\"#fdca26\"],[1.0,\"#f0f921\"]]}],\"heatmap\":[{\"type\":\"heatmap\",\"colorbar\":{\"outlinewidth\":0,\"ticks\":\"\"},\"colorscale\":[[0.0,\"#0d0887\"],[0.1111111111111111,\"#46039f\"],[0.2222222222222222,\"#7201a8\"],[0.3333333333333333,\"#9c179e\"],[0.4444444444444444,\"#bd3786\"],[0.5555555555555556,\"#d8576b\"],[0.6666666666666666,\"#ed7953\"],[0.7777777777777778,\"#fb9f3a\"],[0.8888888888888888,\"#fdca26\"],[1.0,\"#f0f921\"]]}],\"contourcarpet\":[{\"type\":\"contourcarpet\",\"colorbar\":{\"outlinewidth\":0,\"ticks\":\"\"}}],\"contour\":[{\"type\":\"contour\",\"colorbar\":{\"outlinewidth\":0,\"ticks\":\"\"},\"colorscale\":[[0.0,\"#0d0887\"],[0.1111111111111111,\"#46039f\"],[0.2222222222222222,\"#7201a8\"],[0.3333333333333333,\"#9c179e\"],[0.4444444444444444,\"#bd3786\"],[0.5555555555555556,\"#d8576b\"],[0.6666666666666666,\"#ed7953\"],[0.7777777777777778,\"#fb9f3a\"],[0.8888888888888888,\"#fdca26\"],[1.0,\"#f0f921\"]]}],\"surface\":[{\"type\":\"surface\",\"colorbar\":{\"outlinewidth\":0,\"ticks\":\"\"},\"colorscale\":[[0.0,\"#0d0887\"],[0.1111111111111111,\"#46039f\"],[0.2222222222222222,\"#7201a8\"],[0.3333333333333333,\"#9c179e\"],[0.4444444444444444,\"#bd3786\"],[0.5555555555555556,\"#d8576b\"],[0.6666666666666666,\"#ed7953\"],[0.7777777777777778,\"#fb9f3a\"],[0.8888888888888888,\"#fdca26\"],[1.0,\"#f0f921\"]]}],\"mesh3d\":[{\"type\":\"mesh3d\",\"colorbar\":{\"outlinewidth\":0,\"ticks\":\"\"}}],\"scatter\":[{\"fillpattern\":{\"fillmode\":\"overlay\",\"size\":10,\"solidity\":0.2},\"type\":\"scatter\"}],\"parcoords\":[{\"type\":\"parcoords\",\"line\":{\"colorbar\":{\"outlinewidth\":0,\"ticks\":\"\"}}}],\"scatterpolargl\":[{\"type\":\"scatterpolargl\",\"marker\":{\"colorbar\":{\"outlinewidth\":0,\"ticks\":\"\"}}}],\"bar\":[{\"error_x\":{\"color\":\"#2a3f5f\"},\"error_y\":{\"color\":\"#2a3f5f\"},\"marker\":{\"line\":{\"color\":\"#E5ECF6\",\"width\":0.5},\"pattern\":{\"fillmode\":\"overlay\",\"size\":10,\"solidity\":0.2}},\"type\":\"bar\"}],\"scattergeo\":[{\"type\":\"scattergeo\",\"marker\":{\"colorbar\":{\"outlinewidth\":0,\"ticks\":\"\"}}}],\"scatterpolar\":[{\"type\":\"scatterpolar\",\"marker\":{\"colorbar\":{\"outlinewidth\":0,\"ticks\":\"\"}}}],\"histogram\":[{\"marker\":{\"pattern\":{\"fillmode\":\"overlay\",\"size\":10,\"solidity\":0.2}},\"type\":\"histogram\"}],\"scattergl\":[{\"type\":\"scattergl\",\"marker\":{\"colorbar\":{\"outlinewidth\":0,\"ticks\":\"\"}}}],\"scatter3d\":[{\"type\":\"scatter3d\",\"line\":{\"colorbar\":{\"outlinewidth\":0,\"ticks\":\"\"}},\"marker\":{\"colorbar\":{\"outlinewidth\":0,\"ticks\":\"\"}}}],\"scattermap\":[{\"type\":\"scattermap\",\"marker\":{\"colorbar\":{\"outlinewidth\":0,\"ticks\":\"\"}}}],\"scattermapbox\":[{\"type\":\"scattermapbox\",\"marker\":{\"colorbar\":{\"outlinewidth\":0,\"ticks\":\"\"}}}],\"scatterternary\":[{\"type\":\"scatterternary\",\"marker\":{\"colorbar\":{\"outlinewidth\":0,\"ticks\":\"\"}}}],\"scattercarpet\":[{\"type\":\"scattercarpet\",\"marker\":{\"colorbar\":{\"outlinewidth\":0,\"ticks\":\"\"}}}],\"carpet\":[{\"aaxis\":{\"endlinecolor\":\"#2a3f5f\",\"gridcolor\":\"white\",\"linecolor\":\"white\",\"minorgridcolor\":\"white\",\"startlinecolor\":\"#2a3f5f\"},\"baxis\":{\"endlinecolor\":\"#2a3f5f\",\"gridcolor\":\"white\",\"linecolor\":\"white\",\"minorgridcolor\":\"white\",\"startlinecolor\":\"#2a3f5f\"},\"type\":\"carpet\"}],\"table\":[{\"cells\":{\"fill\":{\"color\":\"#EBF0F8\"},\"line\":{\"color\":\"white\"}},\"header\":{\"fill\":{\"color\":\"#C8D4E3\"},\"line\":{\"color\":\"white\"}},\"type\":\"table\"}],\"barpolar\":[{\"marker\":{\"line\":{\"color\":\"#E5ECF6\",\"width\":0.5},\"pattern\":{\"fillmode\":\"overlay\",\"size\":10,\"solidity\":0.2}},\"type\":\"barpolar\"}],\"pie\":[{\"automargin\":true,\"type\":\"pie\"}]},\"layout\":{\"autotypenumbers\":\"strict\",\"colorway\":[\"#636efa\",\"#EF553B\",\"#00cc96\",\"#ab63fa\",\"#FFA15A\",\"#19d3f3\",\"#FF6692\",\"#B6E880\",\"#FF97FF\",\"#FECB52\"],\"font\":{\"color\":\"#2a3f5f\"},\"hovermode\":\"closest\",\"hoverlabel\":{\"align\":\"left\"},\"paper_bgcolor\":\"white\",\"plot_bgcolor\":\"#E5ECF6\",\"polar\":{\"bgcolor\":\"#E5ECF6\",\"angularaxis\":{\"gridcolor\":\"white\",\"linecolor\":\"white\",\"ticks\":\"\"},\"radialaxis\":{\"gridcolor\":\"white\",\"linecolor\":\"white\",\"ticks\":\"\"}},\"ternary\":{\"bgcolor\":\"#E5ECF6\",\"aaxis\":{\"gridcolor\":\"white\",\"linecolor\":\"white\",\"ticks\":\"\"},\"baxis\":{\"gridcolor\":\"white\",\"linecolor\":\"white\",\"ticks\":\"\"},\"caxis\":{\"gridcolor\":\"white\",\"linecolor\":\"white\",\"ticks\":\"\"}},\"coloraxis\":{\"colorbar\":{\"outlinewidth\":0,\"ticks\":\"\"}},\"colorscale\":{\"sequential\":[[0.0,\"#0d0887\"],[0.1111111111111111,\"#46039f\"],[0.2222222222222222,\"#7201a8\"],[0.3333333333333333,\"#9c179e\"],[0.4444444444444444,\"#bd3786\"],[0.5555555555555556,\"#d8576b\"],[0.6666666666666666,\"#ed7953\"],[0.7777777777777778,\"#fb9f3a\"],[0.8888888888888888,\"#fdca26\"],[1.0,\"#f0f921\"]],\"sequentialminus\":[[0.0,\"#0d0887\"],[0.1111111111111111,\"#46039f\"],[0.2222222222222222,\"#7201a8\"],[0.3333333333333333,\"#9c179e\"],[0.4444444444444444,\"#bd3786\"],[0.5555555555555556,\"#d8576b\"],[0.6666666666666666,\"#ed7953\"],[0.7777777777777778,\"#fb9f3a\"],[0.8888888888888888,\"#fdca26\"],[1.0,\"#f0f921\"]],\"diverging\":[[0,\"#8e0152\"],[0.1,\"#c51b7d\"],[0.2,\"#de77ae\"],[0.3,\"#f1b6da\"],[0.4,\"#fde0ef\"],[0.5,\"#f7f7f7\"],[0.6,\"#e6f5d0\"],[0.7,\"#b8e186\"],[0.8,\"#7fbc41\"],[0.9,\"#4d9221\"],[1,\"#276419\"]]},\"xaxis\":{\"gridcolor\":\"white\",\"linecolor\":\"white\",\"ticks\":\"\",\"title\":{\"standoff\":15},\"zerolinecolor\":\"white\",\"automargin\":true,\"zerolinewidth\":2},\"yaxis\":{\"gridcolor\":\"white\",\"linecolor\":\"white\",\"ticks\":\"\",\"title\":{\"standoff\":15},\"zerolinecolor\":\"white\",\"automargin\":true,\"zerolinewidth\":2},\"scene\":{\"xaxis\":{\"backgroundcolor\":\"#E5ECF6\",\"gridcolor\":\"white\",\"linecolor\":\"white\",\"showbackground\":true,\"ticks\":\"\",\"zerolinecolor\":\"white\",\"gridwidth\":2},\"yaxis\":{\"backgroundcolor\":\"#E5ECF6\",\"gridcolor\":\"white\",\"linecolor\":\"white\",\"showbackground\":true,\"ticks\":\"\",\"zerolinecolor\":\"white\",\"gridwidth\":2},\"zaxis\":{\"backgroundcolor\":\"#E5ECF6\",\"gridcolor\":\"white\",\"linecolor\":\"white\",\"showbackground\":true,\"ticks\":\"\",\"zerolinecolor\":\"white\",\"gridwidth\":2}},\"shapedefaults\":{\"line\":{\"color\":\"#2a3f5f\"}},\"annotationdefaults\":{\"arrowcolor\":\"#2a3f5f\",\"arrowhead\":0,\"arrowwidth\":1},\"geo\":{\"bgcolor\":\"white\",\"landcolor\":\"#E5ECF6\",\"subunitcolor\":\"white\",\"showland\":true,\"showlakes\":true,\"lakecolor\":\"white\"},\"title\":{\"x\":0.05},\"mapbox\":{\"style\":\"light\"}}},\"geo\":{\"domain\":{\"x\":[0.0,1.0],\"y\":[0.0,1.0]},\"projection\":{\"type\":\"natural earth\"},\"center\":{},\"lataxis\":{\"range\":[-50,50]},\"lonaxis\":{\"range\":[60,180]},\"showcountries\":true,\"countrycolor\":\"LightGray\",\"showcoastlines\":true,\"coastlinecolor\":\"Gray\"},\"coloraxis\":{\"colorbar\":{\"title\":{\"text\":\"Total Damages ('000 US$)\"}},\"colorscale\":[[0.0,\"rgb(255,247,236)\"],[0.125,\"rgb(254,232,200)\"],[0.25,\"rgb(253,212,158)\"],[0.375,\"rgb(253,187,132)\"],[0.5,\"rgb(252,141,89)\"],[0.625,\"rgb(239,101,72)\"],[0.75,\"rgb(215,48,31)\"],[0.875,\"rgb(179,0,0)\"],[1.0,\"rgb(127,0,0)\"]]},\"legend\":{\"tracegroupgap\":0,\"itemsizing\":\"constant\"},\"title\":{\"text\":\"Locaties van Tsunamis in Azi\\u00eb en Oceani\\u00eb met Total Damages\"},\"margin\":{\"r\":0,\"t\":40,\"l\":0,\"b\":0},\"height\":600},                        {\"responsive\": true}                    ).then(function(){\n",
       "                            \n",
       "var gd = document.getElementById('ac88cdb4-60dc-4425-9338-59d777ce73ff');\n",
       "var x = new MutationObserver(function (mutations, observer) {{\n",
       "        var display = window.getComputedStyle(gd).display;\n",
       "        if (!display || display === 'none') {{\n",
       "            console.log([gd, 'removed!']);\n",
       "            Plotly.purge(gd);\n",
       "            observer.disconnect();\n",
       "        }}\n",
       "}});\n",
       "\n",
       "// Listen for the removal of the full notebook cells\n",
       "var notebookContainer = gd.closest('#notebook-container');\n",
       "if (notebookContainer) {{\n",
       "    x.observe(notebookContainer, {childList: true});\n",
       "}}\n",
       "\n",
       "// Listen for the clearing of the current output cell\n",
       "var outputEl = gd.closest('.output');\n",
       "if (outputEl) {{\n",
       "    x.observe(outputEl, {childList: true});\n",
       "}}\n",
       "\n",
       "                        })                };            </script>        </div>"
      ]
     },
     "metadata": {},
     "output_type": "display_data"
    }
   ],
   "source": [
    "df = merged_df[merged_df['Region'].str.contains('Asia|Oceania', case=False, na=False)].copy()\n",
    "\n",
    "# Zet NaN damages op 0 zodat ze ook getoond worden, maar kleiner\n",
    "df[\"Total Damages ('000 US$)\"] = df[\"Total Damages ('000 US$)\"].fillna(0)\n",
    "\n",
    "# Eventueel filteren op geldige lat/lon\n",
    "df = df.dropna(subset=['Latitude', 'Longitude'])\n",
    "\n",
    "fig = px.scatter_geo(\n",
    "    df,\n",
    "    lat='Latitude',\n",
    "    lon='Longitude',\n",
    "    hover_name='Location',\n",
    "    hover_data={\n",
    "        'Year': True,\n",
    "        \"Total Damages ('000 US$)\": ':.2f',\n",
    "        'Total Deaths': True\n",
    "    },\n",
    "    size=\"Total Damages ('000 US$)\",\n",
    "    size_max=30,\n",
    "    color=\"Total Damages ('000 US$)\",\n",
    "    color_continuous_scale='OrRd',\n",
    "    projection='natural earth',\n",
    "    title=\"Locaties van Tsunamis in Azië en Oceanië met Total Damages\"\n",
    ")\n",
    "\n",
    "fig.update_geos(\n",
    "    showcountries=True,\n",
    "    countrycolor=\"LightGray\",\n",
    "    showcoastlines=True,\n",
    "    coastlinecolor=\"Gray\",\n",
    "    lataxis_range=[-50, 50],\n",
    "    lonaxis_range=[60, 180],\n",
    ")\n",
    "\n",
    "fig.update_layout(height=600, margin={\"r\":0,\"t\":40,\"l\":0,\"b\":0})\n",
    "\n",
    "fig.show()\n"
   ]
  },
  {
   "cell_type": "markdown",
   "id": "109fdd28-7d46-4ca9-bc6e-0e0394748499",
   "metadata": {},
   "source": [
    "Nu de argumenten voor het tweede perspectief"
   ]
  },
  {
   "cell_type": "markdown",
   "id": "fabd7e8d-8ea7-448b-be55-3085dfe7c2f1",
   "metadata": {},
   "source": [
    "##  De hoeveelheid van tsunami’s is niet/minder evenredig toegenomen naar mate de zeespiegel stijgt. \n",
    "Hieronder wordt een grafiek gemaakt die het verband tussen de zeespiegel en het aantal tsunami's laat zien. "
   ]
  },
  {
   "cell_type": "code",
   "execution_count": 7,
   "id": "21392489-99c3-4417-b634-f006691b95e1",
   "metadata": {},
   "outputs": [
    {
     "data": {
      "image/png": "[encoded data removed]",
      "text/plain": [
       "<Figure size 1000x500 with 1 Axes>"
      ]
     },
     "metadata": {},
     "output_type": "display_data"
    }
   ],
   "source": [
    "import matplotlib.pyplot as plt\n",
    "\n",
    "import pandas as pd\n",
    "\n",
    "disasters = pd.read_csv('1900_2021_DISASTERS.xlsx - emdat data.csv')\n",
    "sea_level = pd.read_csv('Global_sea_level_rise.csv')\n",
    "\n",
    "tsunamis = disasters[disasters['Disaster Subtype'].isin(['Tsunami', 'Tsunami/Tidal wave'])]\n",
    "\n",
    "\n",
    "tsunami_counts = tsunamis.groupby('Year').size().reset_index(name='Tsunami Count')\n",
    "\n",
    "combined = pd.merge(tsunami_counts, sea_level, left_on='Year', right_on='year', how='inner')\n",
    "import matplotlib.pyplot as plt\n",
    "\n",
    "plt.figure(figsize=(10, 5))\n",
    "plt.scatter(combined['mmfrom1993-2008average'], combined['Tsunami Count'], alpha=0.6, color='darkblue')\n",
    "plt.title('Zeespiegel vs. aantal tsunami’s per jaar')\n",
    "plt.xlabel('Zeespiegel (mm t.o.v. 1993–2008 gemiddelde)')\n",
    "plt.ylabel('Aantal tsunami’s')\n",
    "plt.grid(True)\n",
    "plt.tight_layout()\n",
    "plt.show()"
   ]
  },
  {
   "cell_type": "code",
   "execution_count": 8,
   "id": "bd0b0de5-dacb-48f7-8db6-e9053491f62f",
   "metadata": {},
   "outputs": [
    {
     "data": {
      "text/plain": [
       "'Correlatiecoëfficiënt: 0.17'"
      ]
     },
     "execution_count": 8,
     "metadata": {},
     "output_type": "execute_result"
    }
   ],
   "source": [
    "correlation = combined['Tsunami Count'].corr(combined['mmfrom1993-2008average'])\n",
    "(f'Correlatiecoëfficiënt: {correlation:.2f}')"
   ]
  },
  {
   "cell_type": "markdown",
   "id": "142c499f-7e8e-4c2a-9ed7-4fa2414aa4bd",
   "metadata": {},
   "source": [
    "Er is een erg zwakke correlatie ontdekt (r = 0.17) tussen de zeespiegelstijging en het aantal tsunami’s per jaar. Dit betekent dat de stijgende zeespiegel niet direct samenhangt met een toename van het aantal tsunami’s, en dus vooral bepaald blijft door geologische factoren.\n"
   ]
  },
  {
   "cell_type": "markdown",
   "id": "b739bc1c-9cf5-47d0-b9ae-8367a197f9db",
   "metadata": {},
   "source": [
    "## De zeespiegelstijging versterkt het effect van de tsunami maar veroorzaakt het niet.\n",
    "Hieronder worden twee grafieken gemaakt, de eerste laat de zeespiegel vs. aantal doden door tsunami's zien, en de tweede laat de zeespiegel vs. het aantal tsunami's per jaar zien. Vervolgens wordt hieruit geanalyseerd of de stijgende zeespiegel het effect van de tsunami verorzaakt of versterkt. "
   ]
  },
  {
   "cell_type": "code",
   "execution_count": 9,
   "id": "7d09be82-984f-4ac6-9432-a78bfa6e6034",
   "metadata": {},
   "outputs": [
    {
     "data": {
      "image/png": "[encoded data removed]",
      "text/plain": [
       "<Figure size 1000x500 with 1 Axes>"
      ]
     },
     "metadata": {},
     "output_type": "display_data"
    },
    {
     "name": "stdout",
     "output_type": "stream",
     "text": [
      "De grafieken tonen aan dat de zeespiegelstijging niet leidt tot meer tsunami’s, maar wel dat het effect ervan verergert. Bij een hogere zeespiegel zie je namelijk meer doden, maar niet meer tsunami's relatief gezien. \n"
     ]
    }
   ],
   "source": [
    "import matplotlib.pyplot as plt\n",
    "import pandas as pd\n",
    "\n",
    "disasters = pd.read_csv('1900_2021_DISASTERS.xlsx - emdat data.csv')\n",
    "sea_level = pd.read_csv('Global_sea_level_rise.csv')\n",
    "\n",
    "tsunamis = disasters[disasters['Disaster Subtype'].isin(['Tsunami', 'Tsunami/Tidal wave'])]\n",
    "\n",
    "tsunami_deaths = tsunamis.groupby('Year')['Total Deaths'].sum().reset_index()\n",
    "\n",
    "combined = pd.merge(tsunami_deaths, sea_level, left_on='Year', right_on='year', how='inner')\n",
    "\n",
    "plt.figure(figsize=(10, 5))\n",
    "plt.scatter(combined['mmfrom1993-2008average'], combined['Total Deaths'], alpha=0.7, color='firebrick')\n",
    "\n",
    "plt.title('Zeespiegel vs. aantal doden door tsunami’s')\n",
    "plt.xlabel('Zeespiegel (mm t.o.v. 1993–2008 gemiddelde)')\n",
    "plt.ylabel('Totaal aantal doden per jaar')\n",
    "plt.grid(True)\n",
    "plt.tight_layout()\n",
    "plt.show()\n",
    "print(\"De grafieken tonen aan dat de zeespiegelstijging niet leidt tot meer tsunami’s, maar wel dat het effect ervan verergert. Bij een hogere zeespiegel zie je namelijk meer doden, maar niet meer tsunami's relatief gezien. \")"
   ]
  },
  {
   "cell_type": "markdown",
   "id": "486f0ad0-fda5-4c03-bdcf-887d9f824c50",
   "metadata": {},
   "source": [
    "##  Tsunami’s ontstaan vooral in specifieke aardbevingzones - niet in regios met hoogste zeespiegelstijging.\n"
   ]
  },
  {
   "cell_type": "code",
   "execution_count": 10,
   "id": "7f528579-c86d-44b1-85e9-a9c3b2112bd6",
   "metadata": {},
   "outputs": [
    {
     "data": {
      "application/vnd.plotly.v1+json": {
       "config": {
        "plotlyServerURL": "https://plot.ly"
       },
       "data": [
        {
         "colorscale": [
          [
           0.0,
           "rgb(255,255,217)"
          ],
          [
           0.125,
           "rgb(237,248,177)"
          ],
          [
           0.25,
           "rgb(199,233,180)"
          ],
          [
           0.375,
           "rgb(127,205,187)"
          ],
          [
           0.5,
           "rgb(65,182,196)"
          ],
          [
           0.625,
           "rgb(29,145,192)"
          ],
          [
           0.75,
           "rgb(34,94,168)"
          ],
          [
           0.875,
           "rgb(37,52,148)"
          ],
          [
           1.0,
           "rgb(8,29,88)"
          ]
         ],
         "lat": [
          "40.5"
         ],
         "lon": [
          "142.5"
         ],
         "name": "Zeespiegelstijging",
         "radius": 30,
         "type": "densitymap",
         "visible": true,
         "z": {
          "bdata": "+F4yRISRY8A=",
          "dtype": "f8"
         },
         "zmax": 100,
         "zmin": 0
        },
        {
         "hoverinfo": "text+lat+lon",
         "lat": [
          "40.5"
         ],
         "lon": [
          "142.5"
         ],
         "marker": {
          "cmax": 6,
          "cmin": 0,
          "color": {
           "bdata": "AUOwV/Zd9j8=",
           "dtype": "f8"
          },
          "colorscale": [
           [
            0.0,
            "rgb(255,245,240)"
           ],
           [
            0.125,
            "rgb(254,224,210)"
           ],
           [
            0.25,
            "rgb(252,187,161)"
           ],
           [
            0.375,
            "rgb(252,146,114)"
           ],
           [
            0.5,
            "rgb(251,106,74)"
           ],
           [
            0.625,
            "rgb(239,59,44)"
           ],
           [
            0.75,
            "rgb(203,24,29)"
           ],
           [
            0.875,
            "rgb(165,15,21)"
           ],
           [
            1.0,
            "rgb(103,0,13)"
           ]
          ],
          "opacity": 0.6,
          "size": {
           "bdata": "wVOc7XP1G0A=",
           "dtype": "f8"
          },
          "sizemode": "area"
         },
         "mode": "markers",
         "name": "Impactpunten",
         "text": [
          "Japan"
         ],
         "type": "scattermap",
         "visible": true
        },
        {
         "colorscale": [
          [
           0.0,
           "rgb(255,255,217)"
          ],
          [
           0.125,
           "rgb(237,248,177)"
          ],
          [
           0.25,
           "rgb(199,233,180)"
          ],
          [
           0.375,
           "rgb(127,205,187)"
          ],
          [
           0.5,
           "rgb(65,182,196)"
          ],
          [
           0.625,
           "rgb(29,145,192)"
          ],
          [
           0.75,
           "rgb(34,94,168)"
          ],
          [
           0.875,
           "rgb(37,52,148)"
          ],
          [
           1.0,
           "rgb(8,29,88)"
          ]
         ],
         "lat": [
          "37.4"
         ],
         "lon": [
          "142.6"
         ],
         "name": "Zeespiegelstijging",
         "radius": 30,
         "type": "densitymap",
         "visible": false,
         "z": {
          "bdata": "AAAAAEBNY8A=",
          "dtype": "f8"
         },
         "zmax": 100,
         "zmin": 0
        },
        {
         "hoverinfo": "text+lat+lon",
         "lat": [
          "37.4"
         ],
         "lon": [
          "142.6"
         ],
         "marker": {
          "cmax": 6,
          "cmin": 0,
          "color": {
           "bdata": "Hzp4P9T4+T8=",
           "dtype": "f8"
          },
          "colorscale": [
           [
            0.0,
            "rgb(255,245,240)"
           ],
           [
            0.125,
            "rgb(254,224,210)"
           ],
           [
            0.25,
            "rgb(252,187,161)"
           ],
           [
            0.375,
            "rgb(252,146,114)"
           ],
           [
            0.5,
            "rgb(251,106,74)"
           ],
           [
            0.625,
            "rgb(239,59,44)"
           ],
           [
            0.75,
            "rgb(203,24,29)"
           ],
           [
            0.875,
            "rgb(165,15,21)"
           ],
           [
            1.0,
            "rgb(103,0,13)"
           ]
          ],
          "opacity": 0.6,
          "size": {
           "bdata": "UySrp4Q7IEA=",
           "dtype": "f8"
          },
          "sizemode": "area"
         },
         "mode": "markers",
         "name": "Impactpunten",
         "text": [
          "Japan"
         ],
         "type": "scattermap",
         "visible": false
        },
        {
         "colorscale": [
          [
           0.0,
           "rgb(255,255,217)"
          ],
          [
           0.125,
           "rgb(237,248,177)"
          ],
          [
           0.25,
           "rgb(199,233,180)"
          ],
          [
           0.375,
           "rgb(127,205,187)"
          ],
          [
           0.5,
           "rgb(65,182,196)"
          ],
          [
           0.625,
           "rgb(29,145,192)"
          ],
          [
           0.75,
           "rgb(34,94,168)"
          ],
          [
           0.875,
           "rgb(37,52,148)"
          ],
          [
           1.0,
           "rgb(8,29,88)"
          ]
         ],
         "lat": [
          "48.60 N",
          "8.30 S"
         ],
         "lon": [
          "58.00 W",
          "121.70 E"
         ],
         "name": "Zeespiegelstijging",
         "radius": 30,
         "type": "densitymap",
         "visible": false,
         "z": {
          "bdata": "O9QA7y4cYMA71ADvLhxgwA==",
          "dtype": "f8"
         },
         "zmax": 100,
         "zmin": 0
        },
        {
         "hoverinfo": "text+lat+lon",
         "lat": [
          "48.60 N",
          "8.30 S"
         ],
         "lon": [
          "58.00 W",
          "121.70 E"
         ],
         "marker": {
          "cmax": 6,
          "cmin": 0,
          "color": {
           "bdata": "HyMMLo8n9z86E6jbfOIAQA==",
           "dtype": "f8"
          },
          "colorscale": [
           [
            0.0,
            "rgb(255,245,240)"
           ],
           [
            0.125,
            "rgb(254,224,210)"
           ],
           [
            0.25,
            "rgb(252,187,161)"
           ],
           [
            0.375,
            "rgb(252,146,114)"
           ],
           [
            0.5,
            "rgb(251,106,74)"
           ],
           [
            0.625,
            "rgb(239,59,44)"
           ],
           [
            0.75,
            "rgb(203,24,29)"
           ],
           [
            0.875,
            "rgb(165,15,21)"
           ],
           [
            1.0,
            "rgb(103,0,13)"
           ]
          ],
          "opacity": 0.6,
          "size": {
           "bdata": "5yuP+XLxHEAIGJISHBslQA==",
           "dtype": "f8"
          },
          "sizemode": "area"
         },
         "mode": "markers",
         "name": "Impactpunten",
         "text": [
          "Canada",
          "Indonesia"
         ],
         "type": "scattermap",
         "visible": false
        },
        {
         "colorscale": [
          [
           0.0,
           "rgb(255,255,217)"
          ],
          [
           0.125,
           "rgb(237,248,177)"
          ],
          [
           0.25,
           "rgb(199,233,180)"
          ],
          [
           0.375,
           "rgb(127,205,187)"
          ],
          [
           0.5,
           "rgb(65,182,196)"
          ],
          [
           0.625,
           "rgb(29,145,192)"
          ],
          [
           0.75,
           "rgb(34,94,168)"
          ],
          [
           0.875,
           "rgb(37,52,148)"
          ],
          [
           1.0,
           "rgb(8,29,88)"
          ]
         ],
         "lat": [
          "11.117"
         ],
         "lon": [
          "161.11"
         ],
         "name": "Zeespiegelstijging",
         "radius": 30,
         "type": "densitymap",
         "visible": false,
         "z": {
          "bdata": "vYoxVdWvX8A=",
          "dtype": "f8"
         },
         "zmax": 100,
         "zmin": 0
        },
        {
         "hoverinfo": "text+lat+lon",
         "lat": [
          "11.117"
         ],
         "lon": [
          "161.11"
         ],
         "marker": {
          "cmax": 6,
          "cmin": 0,
          "color": {
           "bdata": "FnPfGjVS+z8=",
           "dtype": "f8"
          },
          "colorscale": [
           [
            0.0,
            "rgb(255,245,240)"
           ],
           [
            0.125,
            "rgb(254,224,210)"
           ],
           [
            0.25,
            "rgb(252,187,161)"
           ],
           [
            0.375,
            "rgb(252,146,114)"
           ],
           [
            0.5,
            "rgb(251,106,74)"
           ],
           [
            0.625,
            "rgb(239,59,44)"
           ],
           [
            0.75,
            "rgb(203,24,29)"
           ],
           [
            0.875,
            "rgb(165,15,21)"
           ],
           [
            1.0,
            "rgb(103,0,13)"
           ]
          ],
          "opacity": 0.6,
          "size": {
           "bdata": "7qfLMGETIUA=",
           "dtype": "f8"
          },
          "sizemode": "area"
         },
         "mode": "markers",
         "name": "Impactpunten",
         "text": [
          "Solomon Islands"
         ],
         "type": "scattermap",
         "visible": false
        },
        {
         "colorscale": [
          [
           0.0,
           "rgb(255,255,217)"
          ],
          [
           0.125,
           "rgb(237,248,177)"
          ],
          [
           0.25,
           "rgb(199,233,180)"
          ],
          [
           0.375,
           "rgb(127,205,187)"
          ],
          [
           0.5,
           "rgb(65,182,196)"
          ],
          [
           0.625,
           "rgb(29,145,192)"
          ],
          [
           0.75,
           "rgb(34,94,168)"
          ],
          [
           0.875,
           "rgb(37,52,148)"
          ],
          [
           1.0,
           "rgb(8,29,88)"
          ]
         ],
         "lat": [
          "39.224"
         ],
         "lon": [
          "144.622"
         ],
         "name": "Zeespiegelstijging",
         "radius": 30,
         "type": "densitymap",
         "visible": false,
         "z": {
          "bdata": "3Q5oRMT+XcA=",
          "dtype": "f8"
         },
         "zmax": 100,
         "zmin": 0
        },
        {
         "hoverinfo": "text+lat+lon",
         "lat": [
          "39.224"
         ],
         "lon": [
          "144.622"
         ],
         "marker": {
          "cmax": 6,
          "cmin": 0,
          "color": {
           "bdata": "tL2O1XDRC0A=",
           "dtype": "f8"
          },
          "colorscale": [
           [
            0.0,
            "rgb(255,245,240)"
           ],
           [
            0.125,
            "rgb(254,224,210)"
           ],
           [
            0.25,
            "rgb(252,187,161)"
           ],
           [
            0.375,
            "rgb(252,146,114)"
           ],
           [
            0.5,
            "rgb(251,106,74)"
           ],
           [
            0.625,
            "rgb(239,59,44)"
           ],
           [
            0.75,
            "rgb(203,24,29)"
           ],
           [
            0.875,
            "rgb(165,15,21)"
           ],
           [
            1.0,
            "rgb(103,0,13)"
           ]
          ],
          "opacity": 0.6,
          "size": {
           "bdata": "kDZ5heZiMUA=",
           "dtype": "f8"
          },
          "sizemode": "area"
         },
         "mode": "markers",
         "name": "Impactpunten",
         "text": [
          "Japan"
         ],
         "type": "scattermap",
         "visible": false
        },
        {
         "colorscale": [
          [
           0.0,
           "rgb(255,255,217)"
          ],
          [
           0.125,
           "rgb(237,248,177)"
          ],
          [
           0.25,
           "rgb(199,233,180)"
          ],
          [
           0.375,
           "rgb(127,205,187)"
          ],
          [
           0.5,
           "rgb(65,182,196)"
          ],
          [
           0.625,
           "rgb(29,145,192)"
          ],
          [
           0.75,
           "rgb(34,94,168)"
          ],
          [
           0.875,
           "rgb(37,52,148)"
          ],
          [
           1.0,
           "rgb(8,29,88)"
          ]
         ],
         "lat": [
          "33.682"
         ],
         "lon": [
          "36.204"
         ],
         "name": "Zeespiegelstijging",
         "radius": 30,
         "type": "densitymap",
         "visible": false,
         "z": {
          "bdata": "iVf+IaI8XcA=",
          "dtype": "f8"
         },
         "zmax": 100,
         "zmin": 0
        },
        {
         "hoverinfo": "text+lat+lon",
         "lat": [
          "33.682"
         ],
         "lon": [
          "36.204"
         ],
         "marker": {
          "cmax": 6,
          "cmin": 0,
          "color": {
           "bdata": "YyLtj/GfE0A=",
           "dtype": "f8"
          },
          "colorscale": [
           [
            0.0,
            "rgb(255,245,240)"
           ],
           [
            0.125,
            "rgb(254,224,210)"
           ],
           [
            0.25,
            "rgb(252,187,161)"
           ],
           [
            0.375,
            "rgb(252,146,114)"
           ],
           [
            0.5,
            "rgb(251,106,74)"
           ],
           [
            0.625,
            "rgb(239,59,44)"
           ],
           [
            0.75,
            "rgb(203,24,29)"
           ],
           [
            0.875,
            "rgb(165,15,21)"
           ],
           [
            1.0,
            "rgb(103,0,13)"
           ]
          ],
          "opacity": 0.6,
          "size": {
           "bdata": "/Gro8+2HOEA=",
           "dtype": "f8"
          },
          "sizemode": "area"
         },
         "mode": "markers",
         "name": "Impactpunten",
         "text": [
          "Japan"
         ],
         "type": "scattermap",
         "visible": false
        },
        {
         "colorscale": [
          [
           0.0,
           "rgb(255,255,217)"
          ],
          [
           0.125,
           "rgb(237,248,177)"
          ],
          [
           0.25,
           "rgb(199,233,180)"
          ],
          [
           0.375,
           "rgb(127,205,187)"
          ],
          [
           0.5,
           "rgb(65,182,196)"
          ],
          [
           0.625,
           "rgb(29,145,192)"
          ],
          [
           0.75,
           "rgb(34,94,168)"
          ],
          [
           0.875,
           "rgb(37,52,148)"
          ],
          [
           1.0,
           "rgb(8,29,88)"
          ]
         ],
         "lat": [
          "53.492"
         ],
         "lon": [
          "-162.832"
         ],
         "name": "Zeespiegelstijging",
         "radius": 30,
         "type": "densitymap",
         "visible": false,
         "z": {
          "bdata": "VKUUEZErV8A=",
          "dtype": "f8"
         },
         "zmax": 100,
         "zmin": 0
        },
        {
         "hoverinfo": "text+lat+lon",
         "lat": [
          "53.492"
         ],
         "lon": [
          "-162.832"
         ],
         "marker": {
          "cmax": 6,
          "cmin": 0,
          "color": {
           "bdata": "/v2yI4KXEUA=",
           "dtype": "f8"
          },
          "colorscale": [
           [
            0.0,
            "rgb(255,245,240)"
           ],
           [
            0.125,
            "rgb(254,224,210)"
           ],
           [
            0.25,
            "rgb(252,187,161)"
           ],
           [
            0.375,
            "rgb(252,146,114)"
           ],
           [
            0.5,
            "rgb(251,106,74)"
           ],
           [
            0.625,
            "rgb(239,59,44)"
           ],
           [
            0.75,
            "rgb(203,24,29)"
           ],
           [
            0.875,
            "rgb(165,15,21)"
           ],
           [
            1.0,
            "rgb(103,0,13)"
           ]
          ],
          "opacity": 0.6,
          "size": {
           "bdata": "fr2frGL9NUA=",
           "dtype": "f8"
          },
          "sizemode": "area"
         },
         "mode": "markers",
         "name": "Impactpunten",
         "text": [
          "United States of America (the)"
         ],
         "type": "scattermap",
         "visible": false
        },
        {
         "colorscale": [
          [
           0.0,
           "rgb(255,255,217)"
          ],
          [
           0.125,
           "rgb(237,248,177)"
          ],
          [
           0.25,
           "rgb(199,233,180)"
          ],
          [
           0.375,
           "rgb(127,205,187)"
          ],
          [
           0.5,
           "rgb(65,182,196)"
          ],
          [
           0.625,
           "rgb(29,145,192)"
          ],
          [
           0.75,
           "rgb(34,94,168)"
          ],
          [
           0.875,
           "rgb(37,52,148)"
          ],
          [
           1.0,
           "rgb(8,29,88)"
          ]
         ],
         "lat": [
          "52.623"
         ],
         "lon": [
          "159.779"
         ],
         "name": "Zeespiegelstijging",
         "radius": 30,
         "type": "densitymap",
         "visible": false,
         "z": {
          "bdata": "h9hHRMQeVcA=",
          "dtype": "f8"
         },
         "zmax": 100,
         "zmin": 0
        },
        {
         "hoverinfo": "text+lat+lon",
         "lat": [
          "52.623"
         ],
         "lon": [
          "159.779"
         ],
         "marker": {
          "cmax": 6,
          "cmin": 0,
          "color": {
           "bdata": "AAAAAAAAAAA=",
           "dtype": "f8"
          },
          "colorscale": [
           [
            0.0,
            "rgb(255,245,240)"
           ],
           [
            0.125,
            "rgb(254,224,210)"
           ],
           [
            0.25,
            "rgb(252,187,161)"
           ],
           [
            0.375,
            "rgb(252,146,114)"
           ],
           [
            0.5,
            "rgb(251,106,74)"
           ],
           [
            0.625,
            "rgb(239,59,44)"
           ],
           [
            0.75,
            "rgb(203,24,29)"
           ],
           [
            0.875,
            "rgb(165,15,21)"
           ],
           [
            1.0,
            "rgb(103,0,13)"
           ]
          ],
          "opacity": 0.6,
          "size": {
           "bdata": "AAAAAAAAAAA=",
           "dtype": "f8"
          },
          "sizemode": "area"
         },
         "mode": "markers",
         "name": "Impactpunten",
         "text": [
          "Soviet Union"
         ],
         "type": "scattermap",
         "visible": false
        },
        {
         "colorscale": [
          [
           0.0,
           "rgb(255,255,217)"
          ],
          [
           0.125,
           "rgb(237,248,177)"
          ],
          [
           0.25,
           "rgb(199,233,180)"
          ],
          [
           0.375,
           "rgb(127,205,187)"
          ],
          [
           0.5,
           "rgb(65,182,196)"
          ],
          [
           0.625,
           "rgb(29,145,192)"
          ],
          [
           0.75,
           "rgb(34,94,168)"
          ],
          [
           0.875,
           "rgb(37,52,148)"
          ],
          [
           1.0,
           "rgb(8,29,88)"
          ]
         ],
         "lat": [
          "1.5"
         ],
         "lon": [
          "-79.5"
         ],
         "name": "Zeespiegelstijging",
         "radius": 30,
         "type": "densitymap",
         "visible": false,
         "z": {
          "bdata": "AAAAAIA6UsA=",
          "dtype": "f8"
         },
         "zmax": 100,
         "zmin": 0
        },
        {
         "hoverinfo": "text+lat+lon",
         "lat": [
          "1.5"
         ],
         "lon": [
          "-79.5"
         ],
         "marker": {
          "cmax": 6,
          "cmin": 0,
          "color": {
           "bdata": "D/Ata8xkAEA=",
           "dtype": "f8"
          },
          "colorscale": [
           [
            0.0,
            "rgb(255,245,240)"
           ],
           [
            0.125,
            "rgb(254,224,210)"
           ],
           [
            0.25,
            "rgb(252,187,161)"
           ],
           [
            0.375,
            "rgb(252,146,114)"
           ],
           [
            0.5,
            "rgb(251,106,74)"
           ],
           [
            0.625,
            "rgb(239,59,44)"
           ],
           [
            0.75,
            "rgb(203,24,29)"
           ],
           [
            0.875,
            "rgb(165,15,21)"
           ],
           [
            1.0,
            "rgb(103,0,13)"
           ]
          ],
          "opacity": 0.6,
          "size": {
           "bdata": "E2z5hf99JEA=",
           "dtype": "f8"
          },
          "sizemode": "area"
         },
         "mode": "markers",
         "name": "Impactpunten",
         "text": [
          "Colombia"
         ],
         "type": "scattermap",
         "visible": false
        },
        {
         "colorscale": [
          [
           0.0,
           "rgb(255,255,217)"
          ],
          [
           0.125,
           "rgb(237,248,177)"
          ],
          [
           0.25,
           "rgb(199,233,180)"
          ],
          [
           0.375,
           "rgb(127,205,187)"
          ],
          [
           0.5,
           "rgb(65,182,196)"
          ],
          [
           0.625,
           "rgb(29,145,192)"
          ],
          [
           0.75,
           "rgb(34,94,168)"
          ],
          [
           0.875,
           "rgb(37,52,148)"
          ],
          [
           1.0,
           "rgb(8,29,88)"
          ]
         ],
         "lat": [
          "-38.143"
         ],
         "lon": [
          "-73.407"
         ],
         "name": "Zeespiegelstijging",
         "radius": 30,
         "type": "densitymap",
         "visible": false,
         "z": {
          "bdata": "IHLh3V24UMA=",
          "dtype": "f8"
         },
         "zmax": 100,
         "zmin": 0
        },
        {
         "hoverinfo": "text+lat+lon",
         "lat": [
          "-38.143"
         ],
         "lon": [
          "-73.407"
         ],
         "marker": {
          "cmax": 6,
          "cmin": 0,
          "color": {
           "bdata": "MSRZ6Os0GUA=",
           "dtype": "f8"
          },
          "colorscale": [
           [
            0.0,
            "rgb(255,245,240)"
           ],
           [
            0.125,
            "rgb(254,224,210)"
           ],
           [
            0.25,
            "rgb(252,187,161)"
           ],
           [
            0.375,
            "rgb(252,146,114)"
           ],
           [
            0.5,
            "rgb(251,106,74)"
           ],
           [
            0.625,
            "rgb(239,59,44)"
           ],
           [
            0.75,
            "rgb(203,24,29)"
           ],
           [
            0.875,
            "rgb(165,15,21)"
           ],
           [
            1.0,
            "rgb(103,0,13)"
           ]
          ],
          "opacity": 0.6,
          "size": {
           "bdata": "PW1v4iaCP0A=",
           "dtype": "f8"
          },
          "sizemode": "area"
         },
         "mode": "markers",
         "name": "Impactpunten",
         "text": [
          "Chile"
         ],
         "type": "scattermap",
         "visible": false
        },
        {
         "colorscale": [
          [
           0.0,
           "rgb(255,255,217)"
          ],
          [
           0.125,
           "rgb(237,248,177)"
          ],
          [
           0.25,
           "rgb(199,233,180)"
          ],
          [
           0.375,
           "rgb(127,205,187)"
          ],
          [
           0.5,
           "rgb(65,182,196)"
          ],
          [
           0.625,
           "rgb(29,145,192)"
          ],
          [
           0.75,
           "rgb(34,94,168)"
          ],
          [
           0.875,
           "rgb(37,52,148)"
          ],
          [
           1.0,
           "rgb(8,29,88)"
          ]
         ],
         "lat": [
          "38.67",
          "60.908"
         ],
         "lon": [
          "139.195",
          "-147.339"
         ],
         "name": "Zeespiegelstijging",
         "radius": 30,
         "type": "densitymap",
         "visible": false,
         "z": {
          "bdata": "h9hHRMS+UcCH2EdExL5RwA==",
          "dtype": "f8"
         },
         "zmax": 100,
         "zmin": 0
        },
        {
         "hoverinfo": "text+lat+lon",
         "lat": [
          "38.67",
          "60.908"
         ],
         "lon": [
          "139.195",
          "-147.339"
         ],
         "marker": {
          "cmax": 6,
          "cmin": 0,
          "color": {
           "bdata": "jEyMw8OcF0AmP6WLlvgVQA==",
           "dtype": "f8"
          },
          "colorscale": [
           [
            0.0,
            "rgb(255,245,240)"
           ],
           [
            0.125,
            "rgb(254,224,210)"
           ],
           [
            0.25,
            "rgb(252,187,161)"
           ],
           [
            0.375,
            "rgb(252,146,114)"
           ],
           [
            0.5,
            "rgb(251,106,74)"
           ],
           [
            0.625,
            "rgb(239,59,44)"
           ],
           [
            0.75,
            "rgb(203,24,29)"
           ],
           [
            0.875,
            "rgb(165,15,21)"
           ],
           [
            1.0,
            "rgb(103,0,13)"
           ]
          ],
          "opacity": 0.6,
          "size": {
           "bdata": "r19vtPSDPUDwjo4uvHY7QA==",
           "dtype": "f8"
          },
          "sizemode": "area"
         },
         "mode": "markers",
         "name": "Impactpunten",
         "text": [
          "Japan",
          "United States of America (the)"
         ],
         "type": "scattermap",
         "visible": false
        },
        {
         "colorscale": [
          [
           0.0,
           "rgb(255,255,217)"
          ],
          [
           0.125,
           "rgb(237,248,177)"
          ],
          [
           0.25,
           "rgb(199,233,180)"
          ],
          [
           0.375,
           "rgb(127,205,187)"
          ],
          [
           0.5,
           "rgb(65,182,196)"
          ],
          [
           0.625,
           "rgb(29,145,192)"
          ],
          [
           0.75,
           "rgb(34,94,168)"
          ],
          [
           0.875,
           "rgb(37,52,148)"
          ],
          [
           1.0,
           "rgb(8,29,88)"
          ]
         ],
         "lat": [
          "0.157"
         ],
         "lon": [
          "119.802"
         ],
         "name": "Zeespiegelstijging",
         "radius": 30,
         "type": "densitymap",
         "visible": false,
         "z": {
          "bdata": "mpmZmRk0UsA=",
          "dtype": "f8"
         },
         "zmax": 100,
         "zmin": 0
        },
        {
         "hoverinfo": "text+lat+lon",
         "lat": [
          "0.157"
         ],
         "lon": [
          "119.802"
         ],
         "marker": {
          "cmax": 6,
          "cmin": 0,
          "color": {
           "bdata": "Vy33DfJsAkA=",
           "dtype": "f8"
          },
          "colorscale": [
           [
            0.0,
            "rgb(255,245,240)"
           ],
           [
            0.125,
            "rgb(254,224,210)"
           ],
           [
            0.25,
            "rgb(252,187,161)"
           ],
           [
            0.375,
            "rgb(252,146,114)"
           ],
           [
            0.5,
            "rgb(251,106,74)"
           ],
           [
            0.625,
            "rgb(239,59,44)"
           ],
           [
            0.75,
            "rgb(203,24,29)"
           ],
           [
            0.875,
            "rgb(165,15,21)"
           ],
           [
            1.0,
            "rgb(103,0,13)"
           ]
          ],
          "opacity": 0.6,
          "size": {
           "bdata": "rfh0kS4IJ0A=",
           "dtype": "f8"
          },
          "sizemode": "area"
         },
         "mode": "markers",
         "name": "Impactpunten",
         "text": [
          "Indonesia"
         ],
         "type": "scattermap",
         "visible": false
        },
        {
         "colorscale": [
          [
           0.0,
           "rgb(255,255,217)"
          ],
          [
           0.125,
           "rgb(237,248,177)"
          ],
          [
           0.25,
           "rgb(199,233,180)"
          ],
          [
           0.375,
           "rgb(127,205,187)"
          ],
          [
           0.5,
           "rgb(65,182,196)"
          ],
          [
           0.625,
           "rgb(29,145,192)"
          ],
          [
           0.75,
           "rgb(34,94,168)"
          ],
          [
           0.875,
           "rgb(37,52,148)"
          ],
          [
           1.0,
           "rgb(8,29,88)"
          ]
         ],
         "lat": [
          "-3.201"
         ],
         "lon": [
          "118.904"
         ],
         "name": "Zeespiegelstijging",
         "radius": 30,
         "type": "densitymap",
         "visible": false,
         "z": {
          "bdata": "mpmZmZlOT8A=",
          "dtype": "f8"
         },
         "zmax": 100,
         "zmin": 0
        },
        {
         "hoverinfo": "text+lat+lon",
         "lat": [
          "-3.201"
         ],
         "lon": [
          "118.904"
         ],
         "marker": {
          "cmax": 6,
          "cmin": 0,
          "color": {
           "bdata": "09gLyVmFDkA=",
           "dtype": "f8"
          },
          "colorscale": [
           [
            0.0,
            "rgb(255,245,240)"
           ],
           [
            0.125,
            "rgb(254,224,210)"
           ],
           [
            0.25,
            "rgb(252,187,161)"
           ],
           [
            0.375,
            "rgb(252,146,114)"
           ],
           [
            0.5,
            "rgb(251,106,74)"
           ],
           [
            0.625,
            "rgb(239,59,44)"
           ],
           [
            0.75,
            "rgb(203,24,29)"
           ],
           [
            0.875,
            "rgb(165,15,21)"
           ],
           [
            1.0,
            "rgb(103,0,13)"
           ]
          ],
          "opacity": 0.6,
          "size": {
           "bdata": "hGenHVgTM0A=",
           "dtype": "f8"
          },
          "sizemode": "area"
         },
         "mode": "markers",
         "name": "Impactpunten",
         "text": [
          "Indonesia"
         ],
         "type": "scattermap",
         "visible": false
        },
        {
         "colorscale": [
          [
           0.0,
           "rgb(255,255,217)"
          ],
          [
           0.125,
           "rgb(237,248,177)"
          ],
          [
           0.25,
           "rgb(199,233,180)"
          ],
          [
           0.375,
           "rgb(127,205,187)"
          ],
          [
           0.5,
           "rgb(65,182,196)"
          ],
          [
           0.625,
           "rgb(29,145,192)"
          ],
          [
           0.75,
           "rgb(34,94,168)"
          ],
          [
           0.875,
           "rgb(37,52,148)"
          ],
          [
           1.0,
           "rgb(8,29,88)"
          ]
         ],
         "lat": [
          "-7.104"
         ],
         "lon": [
          "155.152"
         ],
         "name": "Zeespiegelstijging",
         "radius": 30,
         "type": "densitymap",
         "visible": false,
         "z": {
          "bdata": "805wd3fsRsA=",
          "dtype": "f8"
         },
         "zmax": 100,
         "zmin": 0
        },
        {
         "hoverinfo": "text+lat+lon",
         "lat": [
          "-7.104"
         ],
         "lon": [
          "155.152"
         ],
         "marker": {
          "cmax": 6,
          "cmin": 0,
          "color": {
           "bdata": "Vy33DfJsAkA=",
           "dtype": "f8"
          },
          "colorscale": [
           [
            0.0,
            "rgb(255,245,240)"
           ],
           [
            0.125,
            "rgb(254,224,210)"
           ],
           [
            0.25,
            "rgb(252,187,161)"
           ],
           [
            0.375,
            "rgb(252,146,114)"
           ],
           [
            0.5,
            "rgb(251,106,74)"
           ],
           [
            0.625,
            "rgb(239,59,44)"
           ],
           [
            0.75,
            "rgb(203,24,29)"
           ],
           [
            0.875,
            "rgb(165,15,21)"
           ],
           [
            1.0,
            "rgb(103,0,13)"
           ]
          ],
          "opacity": 0.6,
          "size": {
           "bdata": "rfh0kS4IJ0A=",
           "dtype": "f8"
          },
          "sizemode": "area"
         },
         "mode": "markers",
         "name": "Impactpunten",
         "text": [
          "Solomon Islands"
         ],
         "type": "scattermap",
         "visible": false
        },
        {
         "colorscale": [
          [
           0.0,
           "rgb(255,255,217)"
          ],
          [
           0.125,
           "rgb(237,248,177)"
          ],
          [
           0.25,
           "rgb(199,233,180)"
          ],
          [
           0.375,
           "rgb(127,205,187)"
          ],
          [
           0.5,
           "rgb(65,182,196)"
          ],
          [
           0.625,
           "rgb(29,145,192)"
          ],
          [
           0.75,
           "rgb(34,94,168)"
          ],
          [
           0.875,
           "rgb(37,52,148)"
          ],
          [
           1.0,
           "rgb(8,29,88)"
          ]
         ],
         "lat": [
          "43.70 N",
          "8.8"
         ],
         "lon": [
          "7.25 E",
          "123.5"
         ],
         "name": "Zeespiegelstijging",
         "radius": 30,
         "type": "densitymap",
         "visible": false,
         "z": {
          "bdata": "MzMzMzNoR8AzMzMzM2hHwA==",
          "dtype": "f8"
         },
         "zmax": 100,
         "zmin": 0
        },
        {
         "hoverinfo": "text+lat+lon",
         "lat": [
          "43.70 N",
          "8.8"
         ],
         "lon": [
          "7.25 E",
          "123.5"
         ],
         "marker": {
          "cmax": 6,
          "cmin": 0,
          "color": {
           "bdata": "f7LjjVNE8T9/33FC8dsFQA==",
           "dtype": "f8"
          },
          "colorscale": [
           [
            0.0,
            "rgb(255,245,240)"
           ],
           [
            0.125,
            "rgb(254,224,210)"
           ],
           [
            0.25,
            "rgb(252,187,161)"
           ],
           [
            0.375,
            "rgb(252,146,114)"
           ],
           [
            0.5,
            "rgb(251,106,74)"
           ],
           [
            0.625,
            "rgb(239,59,44)"
           ],
           [
            0.75,
            "rgb(203,24,29)"
           ],
           [
            0.875,
            "rgb(165,15,21)"
           ],
           [
            1.0,
            "rgb(103,0,13)"
           ]
          ],
          "opacity": 0.6,
          "size": {
           "bdata": "H59ccWiVFUBfVw6T7VIrQA==",
           "dtype": "f8"
          },
          "sizemode": "area"
         },
         "mode": "markers",
         "name": "Impactpunten",
         "text": [
          "France",
          "Indonesia"
         ],
         "type": "scattermap",
         "visible": false
        },
        {
         "colorscale": [
          [
           0.0,
           "rgb(255,255,217)"
          ],
          [
           0.125,
           "rgb(237,248,177)"
          ],
          [
           0.25,
           "rgb(199,233,180)"
          ],
          [
           0.375,
           "rgb(127,205,187)"
          ],
          [
           0.5,
           "rgb(65,182,196)"
          ],
          [
           0.625,
           "rgb(29,145,192)"
          ],
          [
           0.75,
           "rgb(34,94,168)"
          ],
          [
           0.875,
           "rgb(37,52,148)"
          ],
          [
           1.0,
           "rgb(8,29,88)"
          ]
         ],
         "lat": [
          "40.462"
         ],
         "lon": [
          "139.102"
         ],
         "name": "Zeespiegelstijging",
         "radius": 30,
         "type": "densitymap",
         "visible": false,
         "z": {
          "bdata": "6C7s3d1HNsA=",
          "dtype": "f8"
         },
         "zmax": 100,
         "zmin": 0
        },
        {
         "hoverinfo": "text+lat+lon",
         "lat": [
          "40.462"
         ],
         "lon": [
          "139.102"
         ],
         "marker": {
          "cmax": 6,
          "cmin": 0,
          "color": {
           "bdata": "HTkw4PN5FkA=",
           "dtype": "f8"
          },
          "colorscale": [
           [
            0.0,
            "rgb(255,245,240)"
           ],
           [
            0.125,
            "rgb(254,224,210)"
           ],
           [
            0.25,
            "rgb(252,187,161)"
           ],
           [
            0.375,
            "rgb(252,146,114)"
           ],
           [
            0.5,
            "rgb(251,106,74)"
           ],
           [
            0.625,
            "rgb(239,59,44)"
           ],
           [
            0.75,
            "rgb(203,24,29)"
           ],
           [
            0.875,
            "rgb(165,15,21)"
           ],
           [
            1.0,
            "rgb(103,0,13)"
           ]
          ],
          "opacity": 0.6,
          "size": {
           "bdata": "ZEc82HAYPEA=",
           "dtype": "f8"
          },
          "sizemode": "area"
         },
         "mode": "markers",
         "name": "Impactpunten",
         "text": [
          "Japan"
         ],
         "type": "scattermap",
         "visible": false
        },
        {
         "colorscale": [
          [
           0.0,
           "rgb(255,255,217)"
          ],
          [
           0.125,
           "rgb(237,248,177)"
          ],
          [
           0.25,
           "rgb(199,233,180)"
          ],
          [
           0.375,
           "rgb(127,205,187)"
          ],
          [
           0.5,
           "rgb(65,182,196)"
          ],
          [
           0.625,
           "rgb(29,145,192)"
          ],
          [
           0.75,
           "rgb(34,94,168)"
          ],
          [
           0.875,
           "rgb(37,52,148)"
          ],
          [
           1.0,
           "rgb(8,29,88)"
          ]
         ],
         "lat": [
          "42.851 N"
         ],
         "lon": [
          "139.197 E"
         ],
         "name": "Zeespiegelstijging",
         "radius": 30,
         "type": "densitymap",
         "visible": false,
         "z": {
          "bdata": "6C7s3d3HNsA=",
          "dtype": "f8"
         },
         "zmax": 100,
         "zmin": 0
        },
        {
         "hoverinfo": "text+lat+lon",
         "lat": [
          "42.851 N"
         ],
         "lon": [
          "139.197 E"
         ],
         "marker": {
          "cmax": 6,
          "cmin": 0,
          "color": {
           "bdata": "YB4lHQAAGEA=",
           "dtype": "f8"
          },
          "colorscale": [
           [
            0.0,
            "rgb(255,245,240)"
           ],
           [
            0.125,
            "rgb(254,224,210)"
           ],
           [
            0.25,
            "rgb(252,187,161)"
           ],
           [
            0.375,
            "rgb(252,146,114)"
           ],
           [
            0.5,
            "rgb(251,106,74)"
           ],
           [
            0.625,
            "rgb(239,59,44)"
           ],
           [
            0.75,
            "rgb(203,24,29)"
           ],
           [
            0.875,
            "rgb(165,15,21)"
           ],
           [
            1.0,
            "rgb(103,0,13)"
           ]
          ],
          "opacity": 0.6,
          "size": {
           "bdata": "+GVuJAAAPkA=",
           "dtype": "f8"
          },
          "sizemode": "area"
         },
         "mode": "markers",
         "name": "Impactpunten",
         "text": [
          "Japan"
         ],
         "type": "scattermap",
         "visible": false
        },
        {
         "colorscale": [
          [
           0.0,
           "rgb(255,255,217)"
          ],
          [
           0.125,
           "rgb(237,248,177)"
          ],
          [
           0.25,
           "rgb(199,233,180)"
          ],
          [
           0.375,
           "rgb(127,205,187)"
          ],
          [
           0.5,
           "rgb(65,182,196)"
          ],
          [
           0.625,
           "rgb(29,145,192)"
          ],
          [
           0.75,
           "rgb(34,94,168)"
          ],
          [
           0.875,
           "rgb(37,52,148)"
          ],
          [
           1.0,
           "rgb(8,29,88)"
          ]
         ],
         "lat": [
          "9.593 S"
         ],
         "lon": [
          "79.587 W"
         ],
         "name": "Zeespiegelstijging",
         "radius": 30,
         "type": "densitymap",
         "visible": false,
         "z": {
          "bdata": "/W70EBHlJ8A=",
          "dtype": "f8"
         },
         "zmax": 100,
         "zmin": 0
        },
        {
         "hoverinfo": "text+lat+lon",
         "lat": [
          "9.593 S"
         ],
         "lon": [
          "79.587 W"
         ],
         "marker": {
          "cmax": 6,
          "cmin": 0,
          "color": {
           "bdata": "A6KgFa0DB0A=",
           "dtype": "f8"
          },
          "colorscale": [
           [
            0.0,
            "rgb(255,245,240)"
           ],
           [
            0.125,
            "rgb(254,224,210)"
           ],
           [
            0.25,
            "rgb(252,187,161)"
           ],
           [
            0.375,
            "rgb(252,146,114)"
           ],
           [
            0.5,
            "rgb(251,106,74)"
           ],
           [
            0.625,
            "rgb(239,59,44)"
           ],
           [
            0.75,
            "rgb(203,24,29)"
           ],
           [
            0.875,
            "rgb(165,15,21)"
           ],
           [
            1.0,
            "rgb(103,0,13)"
           ]
          ],
          "opacity": 0.6,
          "size": {
           "bdata": "hMoIW5jELEA=",
           "dtype": "f8"
          },
          "sizemode": "area"
         },
         "mode": "markers",
         "name": "Impactpunten",
         "text": [
          "Peru"
         ],
         "type": "scattermap",
         "visible": false
        },
        {
         "colorscale": [
          [
           0.0,
           "rgb(255,255,217)"
          ],
          [
           0.125,
           "rgb(237,248,177)"
          ],
          [
           0.25,
           "rgb(199,233,180)"
          ],
          [
           0.375,
           "rgb(127,205,187)"
          ],
          [
           0.5,
           "rgb(65,182,196)"
          ],
          [
           0.625,
           "rgb(29,145,192)"
          ],
          [
           0.75,
           "rgb(34,94,168)"
          ],
          [
           0.875,
           "rgb(37,52,148)"
          ],
          [
           1.0,
           "rgb(8,29,88)"
          ]
         ],
         "lat": [
          "-12.584"
         ],
         "lon": [
          "166.676"
         ],
         "name": "Zeespiegelstijging",
         "radius": 30,
         "type": "densitymap",
         "visible": false,
         "z": {
          "bdata": "1mnS3d0tBcA=",
          "dtype": "f8"
         },
         "zmax": 100,
         "zmin": 0
        },
        {
         "hoverinfo": "text+lat+lon",
         "lat": [
          "-12.584"
         ],
         "lon": [
          "166.676"
         ],
         "marker": {
          "cmax": 6,
          "cmin": 0,
          "color": {
           "bdata": "AAAAAAAAAAA=",
           "dtype": "f8"
          },
          "colorscale": [
           [
            0.0,
            "rgb(255,245,240)"
           ],
           [
            0.125,
            "rgb(254,224,210)"
           ],
           [
            0.25,
            "rgb(252,187,161)"
           ],
           [
            0.375,
            "rgb(252,146,114)"
           ],
           [
            0.5,
            "rgb(251,106,74)"
           ],
           [
            0.625,
            "rgb(239,59,44)"
           ],
           [
            0.75,
            "rgb(203,24,29)"
           ],
           [
            0.875,
            "rgb(165,15,21)"
           ],
           [
            1.0,
            "rgb(103,0,13)"
           ]
          ],
          "opacity": 0.6,
          "size": {
           "bdata": "AAAAAAAAAAA=",
           "dtype": "f8"
          },
          "sizemode": "area"
         },
         "mode": "markers",
         "name": "Impactpunten",
         "text": [
          "Vanuatu"
         ],
         "type": "scattermap",
         "visible": false
        },
        {
         "colorscale": [
          [
           0.0,
           "rgb(255,255,217)"
          ],
          [
           0.125,
           "rgb(237,248,177)"
          ],
          [
           0.25,
           "rgb(199,233,180)"
          ],
          [
           0.375,
           "rgb(127,205,187)"
          ],
          [
           0.5,
           "rgb(65,182,196)"
          ],
          [
           0.625,
           "rgb(29,145,192)"
          ],
          [
           0.75,
           "rgb(34,94,168)"
          ],
          [
           0.875,
           "rgb(37,52,148)"
          ],
          [
           1.0,
           "rgb(8,29,88)"
          ]
         ],
         "lat": [
          "-2.961"
         ],
         "lon": [
          "141.926"
         ],
         "name": "Zeespiegelstijging",
         "radius": 30,
         "type": "densitymap",
         "visible": false,
         "z": {
          "bdata": "zczMzMygJcA=",
          "dtype": "f8"
         },
         "zmax": 100,
         "zmin": 0
        },
        {
         "hoverinfo": "text+lat+lon",
         "lat": [
          "-2.961"
         ],
         "lon": [
          "141.926"
         ],
         "marker": {
          "cmax": 6,
          "cmin": 0,
          "color": {
           "bdata": "alZkaC70D0A=",
           "dtype": "f8"
          },
          "colorscale": [
           [
            0.0,
            "rgb(255,245,240)"
           ],
           [
            0.125,
            "rgb(254,224,210)"
           ],
           [
            0.25,
            "rgb(252,187,161)"
           ],
           [
            0.375,
            "rgb(252,146,114)"
           ],
           [
            0.5,
            "rgb(251,106,74)"
           ],
           [
            0.625,
            "rgb(239,59,44)"
           ],
           [
            0.75,
            "rgb(203,24,29)"
           ],
           [
            0.875,
            "rgb(165,15,21)"
           ],
           [
            1.0,
            "rgb(103,0,13)"
           ]
          ],
          "opacity": 0.6,
          "size": {
           "bdata": "ArY+AZ34M0A=",
           "dtype": "f8"
          },
          "sizemode": "area"
         },
         "mode": "markers",
         "name": "Impactpunten",
         "text": [
          "Papua New Guinea"
         ],
         "type": "scattermap",
         "visible": false
        },
        {
         "colorscale": [
          [
           0.0,
           "rgb(255,255,217)"
          ],
          [
           0.125,
           "rgb(237,248,177)"
          ],
          [
           0.25,
           "rgb(199,233,180)"
          ],
          [
           0.375,
           "rgb(127,205,187)"
          ],
          [
           0.5,
           "rgb(65,182,196)"
          ],
          [
           0.625,
           "rgb(29,145,192)"
          ],
          [
           0.75,
           "rgb(34,94,168)"
          ],
          [
           0.875,
           "rgb(37,52,148)"
          ],
          [
           1.0,
           "rgb(8,29,88)"
          ]
         ],
         "lat": [
          "-16.265"
         ],
         "lon": [
          "-73.641"
         ],
         "name": "Zeespiegelstijging",
         "radius": 30,
         "type": "densitymap",
         "visible": false,
         "z": {
          "bdata": "hc6CiIjgEkA=",
          "dtype": "f8"
         },
         "zmax": 100,
         "zmin": 0
        },
        {
         "hoverinfo": "text+lat+lon",
         "lat": [
          "-16.265"
         ],
         "lon": [
          "-73.641"
         ],
         "marker": {
          "cmax": 6,
          "cmin": 0,
          "color": {
           "bdata": "1FukVxktFkA=",
           "dtype": "f8"
          },
          "colorscale": [
           [
            0.0,
            "rgb(255,245,240)"
           ],
           [
            0.125,
            "rgb(254,224,210)"
           ],
           [
            0.25,
            "rgb(252,187,161)"
           ],
           [
            0.375,
            "rgb(252,146,114)"
           ],
           [
            0.5,
            "rgb(251,106,74)"
           ],
           [
            0.625,
            "rgb(239,59,44)"
           ],
           [
            0.75,
            "rgb(203,24,29)"
           ],
           [
            0.875,
            "rgb(165,15,21)"
           ],
           [
            1.0,
            "rgb(103,0,13)"
           ]
          ],
          "opacity": 0.6,
          "size": {
           "bdata": "yXKNrV+4O0A=",
           "dtype": "f8"
          },
          "sizemode": "area"
         },
         "mode": "markers",
         "name": "Impactpunten",
         "text": [
          "Peru"
         ],
         "type": "scattermap",
         "visible": false
        },
        {
         "colorscale": [
          [
           0.0,
           "rgb(255,255,217)"
          ],
          [
           0.125,
           "rgb(237,248,177)"
          ],
          [
           0.25,
           "rgb(199,233,180)"
          ],
          [
           0.375,
           "rgb(127,205,187)"
          ],
          [
           0.5,
           "rgb(65,182,196)"
          ],
          [
           0.625,
           "rgb(29,145,192)"
          ],
          [
           0.75,
           "rgb(34,94,168)"
          ],
          [
           0.875,
           "rgb(37,52,148)"
          ],
          [
           1.0,
           "rgb(8,29,88)"
          ]
         ],
         "lat": [
          "-1.757"
         ],
         "lon": [
          "134.297"
         ],
         "name": "Zeespiegelstijging",
         "radius": 30,
         "type": "densitymap",
         "visible": false,
         "z": {
          "bdata": "kPyTiIg4AUA=",
          "dtype": "f8"
         },
         "zmax": 100,
         "zmin": 0
        },
        {
         "hoverinfo": "text+lat+lon",
         "lat": [
          "-1.757"
         ],
         "lon": [
          "134.297"
         ],
         "marker": {
          "cmax": 6,
          "cmin": 0,
          "color": {
           "bdata": "lg90IXSqD0A=",
           "dtype": "f8"
          },
          "colorscale": [
           [
            0.0,
            "rgb(255,245,240)"
           ],
           [
            0.125,
            "rgb(254,224,210)"
           ],
           [
            0.25,
            "rgb(252,187,161)"
           ],
           [
            0.375,
            "rgb(252,146,114)"
           ],
           [
            0.5,
            "rgb(251,106,74)"
           ],
           [
            0.625,
            "rgb(239,59,44)"
           ],
           [
            0.75,
            "rgb(203,24,29)"
           ],
           [
            0.875,
            "rgb(165,15,21)"
           ],
           [
            1.0,
            "rgb(103,0,13)"
           ]
          ],
          "opacity": 0.6,
          "size": {
           "bdata": "vonolIjKM0A=",
           "dtype": "f8"
          },
          "sizemode": "area"
         },
         "mode": "markers",
         "name": "Impactpunten",
         "text": [
          "Indonesia"
         ],
         "type": "scattermap",
         "visible": false
        },
        {
         "colorscale": [
          [
           0.0,
           "rgb(255,255,217)"
          ],
          [
           0.125,
           "rgb(237,248,177)"
          ],
          [
           0.25,
           "rgb(199,233,180)"
          ],
          [
           0.375,
           "rgb(127,205,187)"
          ],
          [
           0.5,
           "rgb(65,182,196)"
          ],
          [
           0.625,
           "rgb(29,145,192)"
          ],
          [
           0.75,
           "rgb(34,94,168)"
          ],
          [
           0.875,
           "rgb(37,52,148)"
          ],
          [
           1.0,
           "rgb(8,29,88)"
          ]
         ],
         "lat": [
          "3.295",
          "3.295",
          "3.295",
          "3.295",
          "3.295",
          "3.295",
          "3.295",
          "3.295",
          "3.295",
          "3.295",
          "3.295",
          "3.295"
         ],
         "lon": [
          "95.982",
          "95.982",
          "95.982",
          "95.982",
          "95.982",
          "95.982",
          "95.982",
          "95.982",
          "95.982",
          "95.982",
          "95.982",
          "95.982"
         ],
         "name": "Zeespiegelstijging",
         "radius": 30,
         "type": "densitymap",
         "visible": false,
         "z": {
          "bdata": "NsQ+IiJOK0A2xD4iIk4rQDbEPiIiTitANsQ+IiJOK0A2xD4iIk4rQDbEPiIiTitANsQ+IiJOK0A2xD4iIk4rQDbEPiIiTitANsQ+IiJOK0A2xD4iIk4rQDbEPiIiTitA",
          "dtype": "f8"
         },
         "zmax": 100,
         "zmin": 0
        },
        {
         "hoverinfo": "text+lat+lon",
         "lat": [
          "3.295",
          "3.295",
          "3.295",
          "3.295",
          "3.295",
          "3.295",
          "3.295",
          "3.295",
          "3.295",
          "3.295",
          "3.295",
          "3.295"
         ],
         "lon": [
          "95.982",
          "95.982",
          "95.982",
          "95.982",
          "95.982",
          "95.982",
          "95.982",
          "95.982",
          "95.982",
          "95.982",
          "95.982",
          "95.982"
         ],
         "marker": {
          "cmax": 6,
          "cmin": 0,
          "color": {
           "bdata": "GW6RoxSYGkDP2XIjAQAUQDhDQAW/yxZAfoWMsAYKGEB1Kp+MSXoYQE6CJeJSsBZAOENABb/LFkBgHiUdAAAYQDhDQAW/yxZAqb55sA0WFECg7OBElugRQG/FUGCLqfA/",
           "dtype": "f8"
          },
          "colorscale": [
           [
            0.0,
            "rgb(255,245,240)"
           ],
           [
            0.125,
            "rgb(254,224,210)"
           ],
           [
            0.25,
            "rgb(252,187,161)"
           ],
           [
            0.375,
            "rgb(252,146,114)"
           ],
           [
            0.5,
            "rgb(251,106,74)"
           ],
           [
            0.625,
            "rgb(239,59,44)"
           ],
           [
            0.75,
            "rgb(203,24,29)"
           ],
           [
            0.875,
            "rgb(165,15,21)"
           ],
           [
            1.0,
            "rgb(103,0,13)"
           ]
          ],
          "opacity": 0.6,
          "size": {
           "bdata": "0OQ65gyfQEBDkE9sAQA5QAZUkMaufjxA3qavXIgMPkAS9cbv25g+QOLirppnXDxABlSQxq5+PED4ZW4kAAA+QAZUkMaufjxAUy6YHJEbOUDIJxnWu2I2QMv2ZDju0xRA",
           "dtype": "f8"
          },
          "sizemode": "area"
         },
         "mode": "markers",
         "name": "Impactpunten",
         "text": [
          "Indonesia",
          "Kenya",
          "Bangladesh",
          "India",
          "Sri Lanka",
          "Maldives",
          "Malaysia",
          "Thailand",
          "Myanmar",
          "Somalia",
          "Seychelles",
          "Tanzania, United Republic of"
         ],
         "type": "scattermap",
         "visible": false
        },
        {
         "colorscale": [
          [
           0.0,
           "rgb(255,255,217)"
          ],
          [
           0.125,
           "rgb(237,248,177)"
          ],
          [
           0.25,
           "rgb(199,233,180)"
          ],
          [
           0.375,
           "rgb(127,205,187)"
          ],
          [
           0.5,
           "rgb(65,182,196)"
          ],
          [
           0.625,
           "rgb(29,145,192)"
          ],
          [
           0.75,
           "rgb(34,94,168)"
          ],
          [
           0.875,
           "rgb(37,52,148)"
          ],
          [
           1.0,
           "rgb(8,29,88)"
          ]
         ],
         "lat": [
          "-3.595",
          "-9.284"
         ],
         "lon": [
          "127.214",
          "107.419"
         ],
         "name": "Zeespiegelstijging",
         "radius": 30,
         "type": "densitymap",
         "visible": false,
         "z": {
          "bdata": "3ADb3d0JI0DcANvd3QkjQA==",
          "dtype": "f8"
         },
         "zmax": 100,
         "zmin": 0
        },
        {
         "hoverinfo": "text+lat+lon",
         "lat": [
          "-3.595",
          "-9.284"
         ],
         "lon": [
          "127.214",
          "107.419"
         ],
         "marker": {
          "cmax": 6,
          "cmin": 0,
          "color": {
           "bdata": "KFcjTmKkCEBRw/G0I/YSQA==",
           "dtype": "f8"
          },
          "colorscale": [
           [
            0.0,
            "rgb(255,245,240)"
           ],
           [
            0.125,
            "rgb(254,224,210)"
           ],
           [
            0.25,
            "rgb(252,187,161)"
           ],
           [
            0.375,
            "rgb(252,146,114)"
           ],
           [
            0.5,
            "rgb(251,106,74)"
           ],
           [
            0.625,
            "rgb(239,59,44)"
           ],
           [
            0.75,
            "rgb(203,24,29)"
           ],
           [
            0.875,
            "rgb(165,15,21)"
           ],
           [
            1.0,
            "rgb(103,0,13)"
           ]
          ],
          "opacity": 0.6,
          "size": {
           "bdata": "8iys4XrNLkAlNC6irLM3QA==",
           "dtype": "f8"
          },
          "sizemode": "area"
         },
         "mode": "markers",
         "name": "Impactpunten",
         "text": [
          "Indonesia",
          "Indonesia"
         ],
         "type": "scattermap",
         "visible": false
        },
        {
         "colorscale": [
          [
           0.0,
           "rgb(255,255,217)"
          ],
          [
           0.125,
           "rgb(237,248,177)"
          ],
          [
           0.25,
           "rgb(199,233,180)"
          ],
          [
           0.375,
           "rgb(127,205,187)"
          ],
          [
           0.5,
           "rgb(65,182,196)"
          ],
          [
           0.625,
           "rgb(29,145,192)"
          ],
          [
           0.75,
           "rgb(34,94,168)"
          ],
          [
           0.875,
           "rgb(37,52,148)"
          ],
          [
           1.0,
           "rgb(8,29,88)"
          ]
         ],
         "lat": [
          "-8.466",
          "-45.243"
         ],
         "lon": [
          "157.043",
          "-72.648"
         ],
         "name": "Zeespiegelstijging",
         "radius": 30,
         "type": "densitymap",
         "visible": false,
         "z": {
          "bdata": "MzMzMzPJNkAzMzMzM8k2QA==",
          "dtype": "f8"
         },
         "zmax": 100,
         "zmin": 0
        },
        {
         "hoverinfo": "text+lat+lon",
         "lat": [
          "-8.466",
          "-45.243"
         ],
         "lon": [
          "157.043",
          "-72.648"
         ],
         "marker": {
          "cmax": 6,
          "cmin": 0,
          "color": {
           "bdata": "YcMpoRgFC0BvxVBgi6nwPw==",
           "dtype": "f8"
          },
          "colorscale": [
           [
            0.0,
            "rgb(255,245,240)"
           ],
           [
            0.125,
            "rgb(254,224,210)"
           ],
           [
            0.25,
            "rgb(252,187,161)"
           ],
           [
            0.375,
            "rgb(252,146,114)"
           ],
           [
            0.5,
            "rgb(251,106,74)"
           ],
           [
            0.625,
            "rgb(239,59,44)"
           ],
           [
            0.75,
            "rgb(203,24,29)"
           ],
           [
            0.875,
            "rgb(165,15,21)"
           ],
           [
            1.0,
            "rgb(103,0,13)"
           ]
          ],
          "opacity": 0.6,
          "size": {
           "bdata": "HRq6ZC/jMEDL9mQ47tMUQA==",
           "dtype": "f8"
          },
          "sizemode": "area"
         },
         "mode": "markers",
         "name": "Impactpunten",
         "text": [
          "Solomon Islands",
          "Chile"
         ],
         "type": "scattermap",
         "visible": false
        },
        {
         "colorscale": [
          [
           0.0,
           "rgb(255,255,217)"
          ],
          [
           0.125,
           "rgb(237,248,177)"
          ],
          [
           0.25,
           "rgb(199,233,180)"
          ],
          [
           0.375,
           "rgb(127,205,187)"
          ],
          [
           0.5,
           "rgb(65,182,196)"
          ],
          [
           0.625,
           "rgb(29,145,192)"
          ],
          [
           0.75,
           "rgb(34,94,168)"
          ],
          [
           0.875,
           "rgb(37,52,148)"
          ],
          [
           1.0,
           "rgb(8,29,88)"
          ]
         ],
         "lat": [
          "-15.489",
          "34.743",
          "-15.489",
          "-15.489"
         ],
         "lon": [
          "-172.095",
          "138.264",
          "-172.095",
          "-172.095"
         ],
         "name": "Zeespiegelstijging",
         "radius": 30,
         "type": "densitymap",
         "visible": false,
         "z": {
          "bdata": "DbGPiIjTQEANsY+IiNNAQA2xj4iI00BADbGPiIjTQEA=",
          "dtype": "f8"
         },
         "zmax": 100,
         "zmin": 0
        },
        {
         "hoverinfo": "text+lat+lon",
         "lat": [
          "-15.489",
          "34.743",
          "-15.489",
          "-15.489"
         ],
         "lon": [
          "-172.095",
          "138.264",
          "-172.095",
          "-172.095"
         ],
         "marker": {
          "cmax": 6,
          "cmin": 0,
          "color": {
           "bdata": "JJQwO1YvC0Cct/CygmgWQF/iYbh40g9A6Uo6ks9fFEA=",
           "dtype": "f8"
          },
          "colorscale": [
           [
            0.0,
            "rgb(255,245,240)"
           ],
           [
            0.125,
            "rgb(254,224,210)"
           ],
           [
            0.25,
            "rgb(252,187,161)"
           ],
           [
            0.375,
            "rgb(252,146,114)"
           ],
           [
            0.5,
            "rgb(251,106,74)"
           ],
           [
            0.625,
            "rgb(239,59,44)"
           ],
           [
            0.75,
            "rgb(203,24,29)"
           ],
           [
            0.875,
            "rgb(165,15,21)"
           ],
           [
            1.0,
            "rgb(103,0,13)"
           ]
          ],
          "opacity": 0.6,
          "size": {
           "bdata": "llz+5JX9MECD5axfowI8QHstPXOL4zNAo93IdsN3OUA=",
           "dtype": "f8"
          },
          "sizemode": "area"
         },
         "mode": "markers",
         "name": "Impactpunten",
         "text": [
          "American Samoa",
          "Japan",
          "Tonga",
          "Samoa"
         ],
         "type": "scattermap",
         "visible": false
        },
        {
         "colorscale": [
          [
           0.0,
           "rgb(255,255,217)"
          ],
          [
           0.125,
           "rgb(237,248,177)"
          ],
          [
           0.25,
           "rgb(199,233,180)"
          ],
          [
           0.375,
           "rgb(127,205,187)"
          ],
          [
           0.5,
           "rgb(65,182,196)"
          ],
          [
           0.625,
           "rgb(29,145,192)"
          ],
          [
           0.75,
           "rgb(34,94,168)"
          ],
          [
           0.875,
           "rgb(37,52,148)"
          ],
          [
           1.0,
           "rgb(8,29,88)"
          ]
         ],
         "lat": [
          "-36.122",
          "-3.487"
         ],
         "lon": [
          "-72.898",
          "100.082"
         ],
         "name": "Zeespiegelstijging",
         "radius": 30,
         "type": "densitymap",
         "visible": false,
         "z": {
          "bdata": "ymSCK2rwQEDKZIIravBAQA==",
          "dtype": "f8"
         },
         "zmax": 100,
         "zmin": 0
        },
        {
         "hoverinfo": "text+lat+lon",
         "lat": [
          "-36.122",
          "-3.487"
         ],
         "lon": [
          "-72.898",
          "100.082"
         ],
         "marker": {
          "cmax": 6,
          "cmin": 0,
          "color": {
           "bdata": "nrFdepLoHUBeqNXXDEwQQA==",
           "dtype": "f8"
          },
          "colorscale": [
           [
            0.0,
            "rgb(255,245,240)"
           ],
           [
            0.125,
            "rgb(254,224,210)"
           ],
           [
            0.25,
            "rgb(252,187,161)"
           ],
           [
            0.375,
            "rgb(252,146,114)"
           ],
           [
            0.5,
            "rgb(251,106,74)"
           ],
           [
            0.625,
            "rgb(239,59,44)"
           ],
           [
            0.75,
            "rgb(203,24,29)"
           ],
           [
            0.875,
            "rgb(165,15,21)"
           ],
           [
            1.0,
            "rgb(103,0,13)"
           ]
          ],
          "opacity": 0.6,
          "size": {
           "bdata": "A496jFuxQkB2EssNEF80QA==",
           "dtype": "f8"
          },
          "sizemode": "area"
         },
         "mode": "markers",
         "name": "Impactpunten",
         "text": [
          "Chile",
          "Indonesia"
         ],
         "type": "scattermap",
         "visible": false
        },
        {
         "colorscale": [
          [
           0.0,
           "rgb(255,255,217)"
          ],
          [
           0.125,
           "rgb(237,248,177)"
          ],
          [
           0.25,
           "rgb(199,233,180)"
          ],
          [
           0.375,
           "rgb(127,205,187)"
          ],
          [
           0.5,
           "rgb(65,182,196)"
          ],
          [
           0.625,
           "rgb(29,145,192)"
          ],
          [
           0.75,
           "rgb(34,94,168)"
          ],
          [
           0.875,
           "rgb(37,52,148)"
          ],
          [
           1.0,
           "rgb(8,29,88)"
          ]
         ],
         "lat": [
          "38.297",
          "38.297"
         ],
         "lon": [
          "142.373",
          "142.373"
         ],
         "name": "Zeespiegelstijging",
         "radius": 30,
         "type": "densitymap",
         "visible": false,
         "z": {
          "bdata": "+TB72fZbQkD5MHvZ9ltCQA==",
          "dtype": "f8"
         },
         "zmax": 100,
         "zmin": 0
        },
        {
         "hoverinfo": "text+lat+lon",
         "lat": [
          "38.297",
          "38.297"
         ],
         "lon": [
          "142.373",
          "142.373"
         ],
         "marker": {
          "cmax": 6,
          "cmin": 0,
          "color": {
           "bdata": "/k1bCmK3/z8vz3vt+aQgQA==",
           "dtype": "f8"
          },
          "colorscale": [
           [
            0.0,
            "rgb(255,245,240)"
           ],
           [
            0.125,
            "rgb(254,224,210)"
           ],
           [
            0.25,
            "rgb(252,187,161)"
           ],
           [
            0.375,
            "rgb(252,146,114)"
           ],
           [
            0.5,
            "rgb(251,106,74)"
           ],
           [
            0.625,
            "rgb(239,59,44)"
           ],
           [
            0.75,
            "rgb(203,24,29)"
           ],
           [
            0.875,
            "rgb(165,15,21)"
           ],
           [
            1.0,
            "rgb(103,0,13)"
           ]
          ],
          "opacity": 0.6,
          "size": {
           "bdata": "vxB5Rp3SI0D7wtpoOM5EQA==",
           "dtype": "f8"
          },
          "sizemode": "area"
         },
         "mode": "markers",
         "name": "Impactpunten",
         "text": [
          "Indonesia",
          "Japan"
         ],
         "type": "scattermap",
         "visible": false
        },
        {
         "colorscale": [
          [
           0.0,
           "rgb(255,255,217)"
          ],
          [
           0.125,
           "rgb(237,248,177)"
          ],
          [
           0.25,
           "rgb(199,233,180)"
          ],
          [
           0.375,
           "rgb(127,205,187)"
          ],
          [
           0.5,
           "rgb(65,182,196)"
          ],
          [
           0.625,
           "rgb(29,145,192)"
          ],
          [
           0.75,
           "rgb(34,94,168)"
          ],
          [
           0.875,
           "rgb(37,52,148)"
          ],
          [
           1.0,
           "rgb(8,29,88)"
          ]
         ],
         "lat": [
          "-10.799"
         ],
         "lon": [
          "165.114"
         ],
         "name": "Zeespiegelstijging",
         "radius": 30,
         "type": "densitymap",
         "visible": false,
         "z": {
          "bdata": "tIrEJUOrREA=",
          "dtype": "f8"
         },
         "zmax": 100,
         "zmin": 0
        },
        {
         "hoverinfo": "text+lat+lon",
         "lat": [
          "-10.799"
         ],
         "lon": [
          "165.114"
         ],
         "marker": {
          "cmax": 6,
          "cmin": 0,
          "color": {
           "bdata": "vyUHPvctDEA=",
           "dtype": "f8"
          },
          "colorscale": [
           [
            0.0,
            "rgb(255,245,240)"
           ],
           [
            0.125,
            "rgb(254,224,210)"
           ],
           [
            0.25,
            "rgb(252,187,161)"
           ],
           [
            0.375,
            "rgb(252,146,114)"
           ],
           [
            0.5,
            "rgb(251,106,74)"
           ],
           [
            0.625,
            "rgb(239,59,44)"
           ],
           [
            0.75,
            "rgb(203,24,29)"
           ],
           [
            0.875,
            "rgb(165,15,21)"
           ],
           [
            1.0,
            "rgb(103,0,13)"
           ]
          ],
          "opacity": 0.6,
          "size": {
           "bdata": "l3fEhrqcMUA=",
           "dtype": "f8"
          },
          "sizemode": "area"
         },
         "mode": "markers",
         "name": "Impactpunten",
         "text": [
          "Solomon Islands"
         ],
         "type": "scattermap",
         "visible": false
        },
        {
         "colorscale": [
          [
           0.0,
           "rgb(255,255,217)"
          ],
          [
           0.125,
           "rgb(237,248,177)"
          ],
          [
           0.25,
           "rgb(199,233,180)"
          ],
          [
           0.375,
           "rgb(127,205,187)"
          ],
          [
           0.5,
           "rgb(65,182,196)"
          ],
          [
           0.625,
           "rgb(29,145,192)"
          ],
          [
           0.75,
           "rgb(34,94,168)"
          ],
          [
           0.875,
           "rgb(37,52,148)"
          ],
          [
           1.0,
           "rgb(8,29,88)"
          ]
         ],
         "lat": [
          "-31.5729"
         ],
         "lon": [
          "-71.6744"
         ],
         "name": "Zeespiegelstijging",
         "radius": 30,
         "type": "densitymap",
         "visible": false,
         "z": {
          "bdata": "joPgKxk7SUA=",
          "dtype": "f8"
         },
         "zmax": 100,
         "zmin": 0
        },
        {
         "hoverinfo": "text+lat+lon",
         "lat": [
          "-31.5729"
         ],
         "lon": [
          "-71.6744"
         ],
         "marker": {
          "cmax": 6,
          "cmin": 0,
          "color": {
           "bdata": "jEyMw8OcF0A=",
           "dtype": "f8"
          },
          "colorscale": [
           [
            0.0,
            "rgb(255,245,240)"
           ],
           [
            0.125,
            "rgb(254,224,210)"
           ],
           [
            0.25,
            "rgb(252,187,161)"
           ],
           [
            0.375,
            "rgb(252,146,114)"
           ],
           [
            0.5,
            "rgb(251,106,74)"
           ],
           [
            0.625,
            "rgb(239,59,44)"
           ],
           [
            0.75,
            "rgb(203,24,29)"
           ],
           [
            0.875,
            "rgb(165,15,21)"
           ],
           [
            1.0,
            "rgb(103,0,13)"
           ]
          ],
          "opacity": 0.6,
          "size": {
           "bdata": "r19vtPSDPUA=",
           "dtype": "f8"
          },
          "sizemode": "area"
         },
         "mode": "markers",
         "name": "Impactpunten",
         "text": [
          "Chile"
         ],
         "type": "scattermap",
         "visible": false
        },
        {
         "colorscale": [
          [
           0.0,
           "rgb(255,255,217)"
          ],
          [
           0.125,
           "rgb(237,248,177)"
          ],
          [
           0.25,
           "rgb(199,233,180)"
          ],
          [
           0.375,
           "rgb(127,205,187)"
          ],
          [
           0.5,
           "rgb(65,182,196)"
          ],
          [
           0.625,
           "rgb(29,145,192)"
          ],
          [
           0.75,
           "rgb(34,94,168)"
          ],
          [
           0.875,
           "rgb(37,52,148)"
          ],
          [
           1.0,
           "rgb(8,29,88)"
          ]
         ],
         "lat": [
          "-42.725"
         ],
         "lon": [
          "173.064"
         ],
         "name": "Zeespiegelstijging",
         "radius": 30,
         "type": "densitymap",
         "visible": false,
         "z": {
          "bdata": "a8Y3TmksS0A=",
          "dtype": "f8"
         },
         "zmax": 100,
         "zmin": 0
        },
        {
         "hoverinfo": "text+lat+lon",
         "lat": [
          "-42.725"
         ],
         "lon": [
          "173.064"
         ],
         "marker": {
          "cmax": 6,
          "cmin": 0,
          "color": {
           "bdata": "nR3NEUBdGkA=",
           "dtype": "f8"
          },
          "colorscale": [
           [
            0.0,
            "rgb(255,245,240)"
           ],
           [
            0.125,
            "rgb(254,224,210)"
           ],
           [
            0.25,
            "rgb(252,187,161)"
           ],
           [
            0.375,
            "rgb(252,146,114)"
           ],
           [
            0.5,
            "rgb(251,106,74)"
           ],
           [
            0.625,
            "rgb(239,59,44)"
           ],
           [
            0.75,
            "rgb(203,24,29)"
           ],
           [
            0.875,
            "rgb(165,15,21)"
           ],
           [
            1.0,
            "rgb(103,0,13)"
           ]
          ],
          "opacity": 0.6,
          "size": {
           "bdata": "gjIgC0h6QEA=",
           "dtype": "f8"
          },
          "sizemode": "area"
         },
         "mode": "markers",
         "name": "Impactpunten",
         "text": [
          "New Zealand"
         ],
         "type": "scattermap",
         "visible": false
        },
        {
         "colorscale": [
          [
           0.0,
           "rgb(255,255,217)"
          ],
          [
           0.125,
           "rgb(237,248,177)"
          ],
          [
           0.25,
           "rgb(199,233,180)"
          ],
          [
           0.375,
           "rgb(127,205,187)"
          ],
          [
           0.5,
           "rgb(65,182,196)"
          ],
          [
           0.625,
           "rgb(29,145,192)"
          ],
          [
           0.75,
           "rgb(34,94,168)"
          ],
          [
           0.875,
           "rgb(37,52,148)"
          ],
          [
           1.0,
           "rgb(8,29,88)"
          ]
         ],
         "lat": [
          "-178"
         ],
         "lon": [
          "119.84"
         ],
         "name": "Zeespiegelstijging",
         "radius": 30,
         "type": "densitymap",
         "visible": false,
         "z": {
          "bdata": "qCLsRuWKSkA=",
          "dtype": "f8"
         },
         "zmax": 100,
         "zmin": 0
        },
        {
         "hoverinfo": "text+lat+lon",
         "lat": [
          "-178"
         ],
         "lon": [
          "119.84"
         ],
         "marker": {
          "cmax": 6,
          "cmin": 0,
          "color": {
           "bdata": "DYecQ0E0GUA=",
           "dtype": "f8"
          },
          "colorscale": [
           [
            0.0,
            "rgb(255,245,240)"
           ],
           [
            0.125,
            "rgb(254,224,210)"
           ],
           [
            0.25,
            "rgb(252,187,161)"
           ],
           [
            0.375,
            "rgb(252,146,114)"
           ],
           [
            0.5,
            "rgb(251,106,74)"
           ],
           [
            0.625,
            "rgb(239,59,44)"
           ],
           [
            0.75,
            "rgb(203,24,29)"
           ],
           [
            0.875,
            "rgb(165,15,21)"
           ],
           [
            1.0,
            "rgb(103,0,13)"
           ]
          ],
          "opacity": 0.6,
          "size": {
           "bdata": "0KiDlFGBP0A=",
           "dtype": "f8"
          },
          "sizemode": "area"
         },
         "mode": "markers",
         "name": "Impactpunten",
         "text": [
          "Indonesia"
         ],
         "type": "scattermap",
         "visible": false
        }
       ],
       "layout": {
        "height": 750,
        "mapbox": {
         "center": {
          "lat": 0,
          "lon": 100
         },
         "style": "carto-positron",
         "zoom": 1.2
        },
        "showlegend": false,
        "sliders": [
         {
          "active": 0,
          "currentvalue": {
           "prefix": "Jaar: "
          },
          "steps": [
           {
            "args": [
             {
              "visible": [
               true,
               true,
               false,
               false,
               false,
               false,
               false,
               false,
               false,
               false,
               false,
               false,
               false,
               false,
               false,
               false,
               false,
               false,
               false,
               false,
               false,
               false,
               false,
               false,
               false,
               false,
               false,
               false,
               false,
               false,
               false,
               false,
               false,
               false,
               false,
               false,
               false,
               false,
               false,
               false,
               false,
               false,
               false,
               false,
               false,
               false,
               false,
               false,
               false,
               false,
               false,
               false,
               false,
               false,
               false,
               false,
               false,
               false,
               false,
               false,
               false,
               false,
               false,
               false
              ]
             }
            ],
            "label": "1901",
            "method": "update"
           },
           {
            "args": [
             {
              "visible": [
               false,
               false,
               true,
               true,
               false,
               false,
               false,
               false,
               false,
               false,
               false,
               false,
               false,
               false,
               false,
               false,
               false,
               false,
               false,
               false,
               false,
               false,
               false,
               false,
               false,
               false,
               false,
               false,
               false,
               false,
               false,
               false,
               false,
               false,
               false,
               false,
               false,
               false,
               false,
               false,
               false,
               false,
               false,
               false,
               false,
               false,
               false,
               false,
               false,
               false,
               false,
               false,
               false,
               false,
               false,
               false,
               false,
               false,
               false,
               false,
               false,
               false,
               false,
               false
              ]
             }
            ],
            "label": "1905",
            "method": "update"
           },
           {
            "args": [
             {
              "visible": [
               false,
               false,
               false,
               false,
               true,
               true,
               false,
               false,
               false,
               false,
               false,
               false,
               false,
               false,
               false,
               false,
               false,
               false,
               false,
               false,
               false,
               false,
               false,
               false,
               false,
               false,
               false,
               false,
               false,
               false,
               false,
               false,
               false,
               false,
               false,
               false,
               false,
               false,
               false,
               false,
               false,
               false,
               false,
               false,
               false,
               false,
               false,
               false,
               false,
               false,
               false,
               false,
               false,
               false,
               false,
               false,
               false,
               false,
               false,
               false,
               false,
               false,
               false,
               false
              ]
             }
            ],
            "label": "1928",
            "method": "update"
           },
           {
            "args": [
             {
              "visible": [
               false,
               false,
               false,
               false,
               false,
               false,
               true,
               true,
               false,
               false,
               false,
               false,
               false,
               false,
               false,
               false,
               false,
               false,
               false,
               false,
               false,
               false,
               false,
               false,
               false,
               false,
               false,
               false,
               false,
               false,
               false,
               false,
               false,
               false,
               false,
               false,
               false,
               false,
               false,
               false,
               false,
               false,
               false,
               false,
               false,
               false,
               false,
               false,
               false,
               false,
               false,
               false,
               false,
               false,
               false,
               false,
               false,
               false,
               false,
               false,
               false,
               false,
               false,
               false
              ]
             }
            ],
            "label": "1931",
            "method": "update"
           },
           {
            "args": [
             {
              "visible": [
               false,
               false,
               false,
               false,
               false,
               false,
               false,
               false,
               true,
               true,
               false,
               false,
               false,
               false,
               false,
               false,
               false,
               false,
               false,
               false,
               false,
               false,
               false,
               false,
               false,
               false,
               false,
               false,
               false,
               false,
               false,
               false,
               false,
               false,
               false,
               false,
               false,
               false,
               false,
               false,
               false,
               false,
               false,
               false,
               false,
               false,
               false,
               false,
               false,
               false,
               false,
               false,
               false,
               false,
               false,
               false,
               false,
               false,
               false,
               false,
               false,
               false,
               false,
               false
              ]
             }
            ],
            "label": "1933",
            "method": "update"
           },
           {
            "args": [
             {
              "visible": [
               false,
               false,
               false,
               false,
               false,
               false,
               false,
               false,
               false,
               false,
               true,
               true,
               false,
               false,
               false,
               false,
               false,
               false,
               false,
               false,
               false,
               false,
               false,
               false,
               false,
               false,
               false,
               false,
               false,
               false,
               false,
               false,
               false,
               false,
               false,
               false,
               false,
               false,
               false,
               false,
               false,
               false,
               false,
               false,
               false,
               false,
               false,
               false,
               false,
               false,
               false,
               false,
               false,
               false,
               false,
               false,
               false,
               false,
               false,
               false,
               false,
               false,
               false,
               false
              ]
             }
            ],
            "label": "1944",
            "method": "update"
           },
           {
            "args": [
             {
              "visible": [
               false,
               false,
               false,
               false,
               false,
               false,
               false,
               false,
               false,
               false,
               false,
               false,
               true,
               true,
               false,
               false,
               false,
               false,
               false,
               false,
               false,
               false,
               false,
               false,
               false,
               false,
               false,
               false,
               false,
               false,
               false,
               false,
               false,
               false,
               false,
               false,
               false,
               false,
               false,
               false,
               false,
               false,
               false,
               false,
               false,
               false,
               false,
               false,
               false,
               false,
               false,
               false,
               false,
               false,
               false,
               false,
               false,
               false,
               false,
               false,
               false,
               false,
               false,
               false
              ]
             }
            ],
            "label": "1946",
            "method": "update"
           },
           {
            "args": [
             {
              "visible": [
               false,
               false,
               false,
               false,
               false,
               false,
               false,
               false,
               false,
               false,
               false,
               false,
               false,
               false,
               true,
               true,
               false,
               false,
               false,
               false,
               false,
               false,
               false,
               false,
               false,
               false,
               false,
               false,
               false,
               false,
               false,
               false,
               false,
               false,
               false,
               false,
               false,
               false,
               false,
               false,
               false,
               false,
               false,
               false,
               false,
               false,
               false,
               false,
               false,
               false,
               false,
               false,
               false,
               false,
               false,
               false,
               false,
               false,
               false,
               false,
               false,
               false,
               false,
               false
              ]
             }
            ],
            "label": "1952",
            "method": "update"
           },
           {
            "args": [
             {
              "visible": [
               false,
               false,
               false,
               false,
               false,
               false,
               false,
               false,
               false,
               false,
               false,
               false,
               false,
               false,
               false,
               false,
               true,
               true,
               false,
               false,
               false,
               false,
               false,
               false,
               false,
               false,
               false,
               false,
               false,
               false,
               false,
               false,
               false,
               false,
               false,
               false,
               false,
               false,
               false,
               false,
               false,
               false,
               false,
               false,
               false,
               false,
               false,
               false,
               false,
               false,
               false,
               false,
               false,
               false,
               false,
               false,
               false,
               false,
               false,
               false,
               false,
               false,
               false,
               false
              ]
             }
            ],
            "label": "1958",
            "method": "update"
           },
           {
            "args": [
             {
              "visible": [
               false,
               false,
               false,
               false,
               false,
               false,
               false,
               false,
               false,
               false,
               false,
               false,
               false,
               false,
               false,
               false,
               false,
               false,
               true,
               true,
               false,
               false,
               false,
               false,
               false,
               false,
               false,
               false,
               false,
               false,
               false,
               false,
               false,
               false,
               false,
               false,
               false,
               false,
               false,
               false,
               false,
               false,
               false,
               false,
               false,
               false,
               false,
               false,
               false,
               false,
               false,
               false,
               false,
               false,
               false,
               false,
               false,
               false,
               false,
               false,
               false,
               false,
               false,
               false
              ]
             }
            ],
            "label": "1960",
            "method": "update"
           },
           {
            "args": [
             {
              "visible": [
               false,
               false,
               false,
               false,
               false,
               false,
               false,
               false,
               false,
               false,
               false,
               false,
               false,
               false,
               false,
               false,
               false,
               false,
               false,
               false,
               true,
               true,
               false,
               false,
               false,
               false,
               false,
               false,
               false,
               false,
               false,
               false,
               false,
               false,
               false,
               false,
               false,
               false,
               false,
               false,
               false,
               false,
               false,
               false,
               false,
               false,
               false,
               false,
               false,
               false,
               false,
               false,
               false,
               false,
               false,
               false,
               false,
               false,
               false,
               false,
               false,
               false,
               false,
               false
              ]
             }
            ],
            "label": "1964",
            "method": "update"
           },
           {
            "args": [
             {
              "visible": [
               false,
               false,
               false,
               false,
               false,
               false,
               false,
               false,
               false,
               false,
               false,
               false,
               false,
               false,
               false,
               false,
               false,
               false,
               false,
               false,
               false,
               false,
               true,
               true,
               false,
               false,
               false,
               false,
               false,
               false,
               false,
               false,
               false,
               false,
               false,
               false,
               false,
               false,
               false,
               false,
               false,
               false,
               false,
               false,
               false,
               false,
               false,
               false,
               false,
               false,
               false,
               false,
               false,
               false,
               false,
               false,
               false,
               false,
               false,
               false,
               false,
               false,
               false,
               false
              ]
             }
            ],
            "label": "1968",
            "method": "update"
           },
           {
            "args": [
             {
              "visible": [
               false,
               false,
               false,
               false,
               false,
               false,
               false,
               false,
               false,
               false,
               false,
               false,
               false,
               false,
               false,
               false,
               false,
               false,
               false,
               false,
               false,
               false,
               false,
               false,
               true,
               true,
               false,
               false,
               false,
               false,
               false,
               false,
               false,
               false,
               false,
               false,
               false,
               false,
               false,
               false,
               false,
               false,
               false,
               false,
               false,
               false,
               false,
               false,
               false,
               false,
               false,
               false,
               false,
               false,
               false,
               false,
               false,
               false,
               false,
               false,
               false,
               false,
               false,
               false
              ]
             }
            ],
            "label": "1969",
            "method": "update"
           },
           {
            "args": [
             {
              "visible": [
               false,
               false,
               false,
               false,
               false,
               false,
               false,
               false,
               false,
               false,
               false,
               false,
               false,
               false,
               false,
               false,
               false,
               false,
               false,
               false,
               false,
               false,
               false,
               false,
               false,
               false,
               true,
               true,
               false,
               false,
               false,
               false,
               false,
               false,
               false,
               false,
               false,
               false,
               false,
               false,
               false,
               false,
               false,
               false,
               false,
               false,
               false,
               false,
               false,
               false,
               false,
               false,
               false,
               false,
               false,
               false,
               false,
               false,
               false,
               false,
               false,
               false,
               false,
               false
              ]
             }
            ],
            "label": "1975",
            "method": "update"
           },
           {
            "args": [
             {
              "visible": [
               false,
               false,
               false,
               false,
               false,
               false,
               false,
               false,
               false,
               false,
               false,
               false,
               false,
               false,
               false,
               false,
               false,
               false,
               false,
               false,
               false,
               false,
               false,
               false,
               false,
               false,
               false,
               false,
               true,
               true,
               false,
               false,
               false,
               false,
               false,
               false,
               false,
               false,
               false,
               false,
               false,
               false,
               false,
               false,
               false,
               false,
               false,
               false,
               false,
               false,
               false,
               false,
               false,
               false,
               false,
               false,
               false,
               false,
               false,
               false,
               false,
               false,
               false,
               false
              ]
             }
            ],
            "label": "1979",
            "method": "update"
           },
           {
            "args": [
             {
              "visible": [
               false,
               false,
               false,
               false,
               false,
               false,
               false,
               false,
               false,
               false,
               false,
               false,
               false,
               false,
               false,
               false,
               false,
               false,
               false,
               false,
               false,
               false,
               false,
               false,
               false,
               false,
               false,
               false,
               false,
               false,
               true,
               true,
               false,
               false,
               false,
               false,
               false,
               false,
               false,
               false,
               false,
               false,
               false,
               false,
               false,
               false,
               false,
               false,
               false,
               false,
               false,
               false,
               false,
               false,
               false,
               false,
               false,
               false,
               false,
               false,
               false,
               false,
               false,
               false
              ]
             }
            ],
            "label": "1983",
            "method": "update"
           },
           {
            "args": [
             {
              "visible": [
               false,
               false,
               false,
               false,
               false,
               false,
               false,
               false,
               false,
               false,
               false,
               false,
               false,
               false,
               false,
               false,
               false,
               false,
               false,
               false,
               false,
               false,
               false,
               false,
               false,
               false,
               false,
               false,
               false,
               false,
               false,
               false,
               true,
               true,
               false,
               false,
               false,
               false,
               false,
               false,
               false,
               false,
               false,
               false,
               false,
               false,
               false,
               false,
               false,
               false,
               false,
               false,
               false,
               false,
               false,
               false,
               false,
               false,
               false,
               false,
               false,
               false,
               false,
               false
              ]
             }
            ],
            "label": "1993",
            "method": "update"
           },
           {
            "args": [
             {
              "visible": [
               false,
               false,
               false,
               false,
               false,
               false,
               false,
               false,
               false,
               false,
               false,
               false,
               false,
               false,
               false,
               false,
               false,
               false,
               false,
               false,
               false,
               false,
               false,
               false,
               false,
               false,
               false,
               false,
               false,
               false,
               false,
               false,
               false,
               false,
               true,
               true,
               false,
               false,
               false,
               false,
               false,
               false,
               false,
               false,
               false,
               false,
               false,
               false,
               false,
               false,
               false,
               false,
               false,
               false,
               false,
               false,
               false,
               false,
               false,
               false,
               false,
               false,
               false,
               false
              ]
             }
            ],
            "label": "1996",
            "method": "update"
           },
           {
            "args": [
             {
              "visible": [
               false,
               false,
               false,
               false,
               false,
               false,
               false,
               false,
               false,
               false,
               false,
               false,
               false,
               false,
               false,
               false,
               false,
               false,
               false,
               false,
               false,
               false,
               false,
               false,
               false,
               false,
               false,
               false,
               false,
               false,
               false,
               false,
               false,
               false,
               false,
               false,
               true,
               true,
               false,
               false,
               false,
               false,
               false,
               false,
               false,
               false,
               false,
               false,
               false,
               false,
               false,
               false,
               false,
               false,
               false,
               false,
               false,
               false,
               false,
               false,
               false,
               false,
               false,
               false
              ]
             }
            ],
            "label": "1997",
            "method": "update"
           },
           {
            "args": [
             {
              "visible": [
               false,
               false,
               false,
               false,
               false,
               false,
               false,
               false,
               false,
               false,
               false,
               false,
               false,
               false,
               false,
               false,
               false,
               false,
               false,
               false,
               false,
               false,
               false,
               false,
               false,
               false,
               false,
               false,
               false,
               false,
               false,
               false,
               false,
               false,
               false,
               false,
               false,
               false,
               true,
               true,
               false,
               false,
               false,
               false,
               false,
               false,
               false,
               false,
               false,
               false,
               false,
               false,
               false,
               false,
               false,
               false,
               false,
               false,
               false,
               false,
               false,
               false,
               false,
               false
              ]
             }
            ],
            "label": "1998",
            "method": "update"
           },
           {
            "args": [
             {
              "visible": [
               false,
               false,
               false,
               false,
               false,
               false,
               false,
               false,
               false,
               false,
               false,
               false,
               false,
               false,
               false,
               false,
               false,
               false,
               false,
               false,
               false,
               false,
               false,
               false,
               false,
               false,
               false,
               false,
               false,
               false,
               false,
               false,
               false,
               false,
               false,
               false,
               false,
               false,
               false,
               false,
               true,
               true,
               false,
               false,
               false,
               false,
               false,
               false,
               false,
               false,
               false,
               false,
               false,
               false,
               false,
               false,
               false,
               false,
               false,
               false,
               false,
               false,
               false,
               false
              ]
             }
            ],
            "label": "2001",
            "method": "update"
           },
           {
            "args": [
             {
              "visible": [
               false,
               false,
               false,
               false,
               false,
               false,
               false,
               false,
               false,
               false,
               false,
               false,
               false,
               false,
               false,
               false,
               false,
               false,
               false,
               false,
               false,
               false,
               false,
               false,
               false,
               false,
               false,
               false,
               false,
               false,
               false,
               false,
               false,
               false,
               false,
               false,
               false,
               false,
               false,
               false,
               false,
               false,
               true,
               true,
               false,
               false,
               false,
               false,
               false,
               false,
               false,
               false,
               false,
               false,
               false,
               false,
               false,
               false,
               false,
               false,
               false,
               false,
               false,
               false
              ]
             }
            ],
            "label": "2002",
            "method": "update"
           },
           {
            "args": [
             {
              "visible": [
               false,
               false,
               false,
               false,
               false,
               false,
               false,
               false,
               false,
               false,
               false,
               false,
               false,
               false,
               false,
               false,
               false,
               false,
               false,
               false,
               false,
               false,
               false,
               false,
               false,
               false,
               false,
               false,
               false,
               false,
               false,
               false,
               false,
               false,
               false,
               false,
               false,
               false,
               false,
               false,
               false,
               false,
               false,
               false,
               true,
               true,
               false,
               false,
               false,
               false,
               false,
               false,
               false,
               false,
               false,
               false,
               false,
               false,
               false,
               false,
               false,
               false,
               false,
               false
              ]
             }
            ],
            "label": "2004",
            "method": "update"
           },
           {
            "args": [
             {
              "visible": [
               false,
               false,
               false,
               false,
               false,
               false,
               false,
               false,
               false,
               false,
               false,
               false,
               false,
               false,
               false,
               false,
               false,
               false,
               false,
               false,
               false,
               false,
               false,
               false,
               false,
               false,
               false,
               false,
               false,
               false,
               false,
               false,
               false,
               false,
               false,
               false,
               false,
               false,
               false,
               false,
               false,
               false,
               false,
               false,
               false,
               false,
               true,
               true,
               false,
               false,
               false,
               false,
               false,
               false,
               false,
               false,
               false,
               false,
               false,
               false,
               false,
               false,
               false,
               false
              ]
             }
            ],
            "label": "2006",
            "method": "update"
           },
           {
            "args": [
             {
              "visible": [
               false,
               false,
               false,
               false,
               false,
               false,
               false,
               false,
               false,
               false,
               false,
               false,
               false,
               false,
               false,
               false,
               false,
               false,
               false,
               false,
               false,
               false,
               false,
               false,
               false,
               false,
               false,
               false,
               false,
               false,
               false,
               false,
               false,
               false,
               false,
               false,
               false,
               false,
               false,
               false,
               false,
               false,
               false,
               false,
               false,
               false,
               false,
               false,
               true,
               true,
               false,
               false,
               false,
               false,
               false,
               false,
               false,
               false,
               false,
               false,
               false,
               false,
               false,
               false
              ]
             }
            ],
            "label": "2007",
            "method": "update"
           },
           {
            "args": [
             {
              "visible": [
               false,
               false,
               false,
               false,
               false,
               false,
               false,
               false,
               false,
               false,
               false,
               false,
               false,
               false,
               false,
               false,
               false,
               false,
               false,
               false,
               false,
               false,
               false,
               false,
               false,
               false,
               false,
               false,
               false,
               false,
               false,
               false,
               false,
               false,
               false,
               false,
               false,
               false,
               false,
               false,
               false,
               false,
               false,
               false,
               false,
               false,
               false,
               false,
               false,
               false,
               true,
               true,
               false,
               false,
               false,
               false,
               false,
               false,
               false,
               false,
               false,
               false,
               false,
               false
              ]
             }
            ],
            "label": "2009",
            "method": "update"
           },
           {
            "args": [
             {
              "visible": [
               false,
               false,
               false,
               false,
               false,
               false,
               false,
               false,
               false,
               false,
               false,
               false,
               false,
               false,
               false,
               false,
               false,
               false,
               false,
               false,
               false,
               false,
               false,
               false,
               false,
               false,
               false,
               false,
               false,
               false,
               false,
               false,
               false,
               false,
               false,
               false,
               false,
               false,
               false,
               false,
               false,
               false,
               false,
               false,
               false,
               false,
               false,
               false,
               false,
               false,
               false,
               false,
               true,
               true,
               false,
               false,
               false,
               false,
               false,
               false,
               false,
               false,
               false,
               false
              ]
             }
            ],
            "label": "2010",
            "method": "update"
           },
           {
            "args": [
             {
              "visible": [
               false,
               false,
               false,
               false,
               false,
               false,
               false,
               false,
               false,
               false,
               false,
               false,
               false,
               false,
               false,
               false,
               false,
               false,
               false,
               false,
               false,
               false,
               false,
               false,
               false,
               false,
               false,
               false,
               false,
               false,
               false,
               false,
               false,
               false,
               false,
               false,
               false,
               false,
               false,
               false,
               false,
               false,
               false,
               false,
               false,
               false,
               false,
               false,
               false,
               false,
               false,
               false,
               false,
               false,
               true,
               true,
               false,
               false,
               false,
               false,
               false,
               false,
               false,
               false
              ]
             }
            ],
            "label": "2011",
            "method": "update"
           },
           {
            "args": [
             {
              "visible": [
               false,
               false,
               false,
               false,
               false,
               false,
               false,
               false,
               false,
               false,
               false,
               false,
               false,
               false,
               false,
               false,
               false,
               false,
               false,
               false,
               false,
               false,
               false,
               false,
               false,
               false,
               false,
               false,
               false,
               false,
               false,
               false,
               false,
               false,
               false,
               false,
               false,
               false,
               false,
               false,
               false,
               false,
               false,
               false,
               false,
               false,
               false,
               false,
               false,
               false,
               false,
               false,
               false,
               false,
               false,
               false,
               true,
               true,
               false,
               false,
               false,
               false,
               false,
               false
              ]
             }
            ],
            "label": "2013",
            "method": "update"
           },
           {
            "args": [
             {
              "visible": [
               false,
               false,
               false,
               false,
               false,
               false,
               false,
               false,
               false,
               false,
               false,
               false,
               false,
               false,
               false,
               false,
               false,
               false,
               false,
               false,
               false,
               false,
               false,
               false,
               false,
               false,
               false,
               false,
               false,
               false,
               false,
               false,
               false,
               false,
               false,
               false,
               false,
               false,
               false,
               false,
               false,
               false,
               false,
               false,
               false,
               false,
               false,
               false,
               false,
               false,
               false,
               false,
               false,
               false,
               false,
               false,
               false,
               false,
               true,
               true,
               false,
               false,
               false,
               false
              ]
             }
            ],
            "label": "2015",
            "method": "update"
           },
           {
            "args": [
             {
              "visible": [
               false,
               false,
               false,
               false,
               false,
               false,
               false,
               false,
               false,
               false,
               false,
               false,
               false,
               false,
               false,
               false,
               false,
               false,
               false,
               false,
               false,
               false,
               false,
               false,
               false,
               false,
               false,
               false,
               false,
               false,
               false,
               false,
               false,
               false,
               false,
               false,
               false,
               false,
               false,
               false,
               false,
               false,
               false,
               false,
               false,
               false,
               false,
               false,
               false,
               false,
               false,
               false,
               false,
               false,
               false,
               false,
               false,
               false,
               false,
               false,
               true,
               true,
               false,
               false
              ]
             }
            ],
            "label": "2016",
            "method": "update"
           },
           {
            "args": [
             {
              "visible": [
               false,
               false,
               false,
               false,
               false,
               false,
               false,
               false,
               false,
               false,
               false,
               false,
               false,
               false,
               false,
               false,
               false,
               false,
               false,
               false,
               false,
               false,
               false,
               false,
               false,
               false,
               false,
               false,
               false,
               false,
               false,
               false,
               false,
               false,
               false,
               false,
               false,
               false,
               false,
               false,
               false,
               false,
               false,
               false,
               false,
               false,
               false,
               false,
               false,
               false,
               false,
               false,
               false,
               false,
               false,
               false,
               false,
               false,
               false,
               false,
               false,
               false,
               true,
               true
              ]
             }
            ],
            "label": "2018",
            "method": "update"
           }
          ]
         }
        ],
        "template": {
         "data": {
          "bar": [
           {
            "error_x": {
             "color": "#2a3f5f"
            },
            "error_y": {
             "color": "#2a3f5f"
            },
            "marker": {
             "line": {
              "color": "#E5ECF6",
              "width": 0.5
             },
             "pattern": {
              "fillmode": "overlay",
              "size": 10,
              "solidity": 0.2
             }
            },
            "type": "bar"
           }
          ],
          "barpolar": [
           {
            "marker": {
             "line": {
              "color": "#E5ECF6",
              "width": 0.5
             },
             "pattern": {
              "fillmode": "overlay",
              "size": 10,
              "solidity": 0.2
             }
            },
            "type": "barpolar"
           }
          ],
          "carpet": [
           {
            "aaxis": {
             "endlinecolor": "#2a3f5f",
             "gridcolor": "white",
             "linecolor": "white",
             "minorgridcolor": "white",
             "startlinecolor": "#2a3f5f"
            },
            "baxis": {
             "endlinecolor": "#2a3f5f",
             "gridcolor": "white",
             "linecolor": "white",
             "minorgridcolor": "white",
             "startlinecolor": "#2a3f5f"
            },
            "type": "carpet"
           }
          ],
          "choropleth": [
           {
            "colorbar": {
             "outlinewidth": 0,
             "ticks": ""
            },
            "type": "choropleth"
           }
          ],
          "contour": [
           {
            "colorbar": {
             "outlinewidth": 0,
             "ticks": ""
            },
            "colorscale": [
             [
              0.0,
              "#0d0887"
             ],
             [
              0.1111111111111111,
              "#46039f"
             ],
             [
              0.2222222222222222,
              "#7201a8"
             ],
             [
              0.3333333333333333,
              "#9c179e"
             ],
             [
              0.4444444444444444,
              "#bd3786"
             ],
             [
              0.5555555555555556,
              "#d8576b"
             ],
             [
              0.6666666666666666,
              "#ed7953"
             ],
             [
              0.7777777777777778,
              "#fb9f3a"
             ],
             [
              0.8888888888888888,
              "#fdca26"
             ],
             [
              1.0,
              "#f0f921"
             ]
            ],
            "type": "contour"
           }
          ],
          "contourcarpet": [
           {
            "colorbar": {
             "outlinewidth": 0,
             "ticks": ""
            },
            "type": "contourcarpet"
           }
          ],
          "heatmap": [
           {
            "colorbar": {
             "outlinewidth": 0,
             "ticks": ""
            },
            "colorscale": [
             [
              0.0,
              "#0d0887"
             ],
             [
              0.1111111111111111,
              "#46039f"
             ],
             [
              0.2222222222222222,
              "#7201a8"
             ],
             [
              0.3333333333333333,
              "#9c179e"
             ],
             [
              0.4444444444444444,
              "#bd3786"
             ],
             [
              0.5555555555555556,
              "#d8576b"
             ],
             [
              0.6666666666666666,
              "#ed7953"
             ],
             [
              0.7777777777777778,
              "#fb9f3a"
             ],
             [
              0.8888888888888888,
              "#fdca26"
             ],
             [
              1.0,
              "#f0f921"
             ]
            ],
            "type": "heatmap"
           }
          ],
          "histogram": [
           {
            "marker": {
             "pattern": {
              "fillmode": "overlay",
              "size": 10,
              "solidity": 0.2
             }
            },
            "type": "histogram"
           }
          ],
          "histogram2d": [
           {
            "colorbar": {
             "outlinewidth": 0,
             "ticks": ""
            },
            "colorscale": [
             [
              0.0,
              "#0d0887"
             ],
             [
              0.1111111111111111,
              "#46039f"
             ],
             [
              0.2222222222222222,
              "#7201a8"
             ],
             [
              0.3333333333333333,
              "#9c179e"
             ],
             [
              0.4444444444444444,
              "#bd3786"
             ],
             [
              0.5555555555555556,
              "#d8576b"
             ],
             [
              0.6666666666666666,
              "#ed7953"
             ],
             [
              0.7777777777777778,
              "#fb9f3a"
             ],
             [
              0.8888888888888888,
              "#fdca26"
             ],
             [
              1.0,
              "#f0f921"
             ]
            ],
            "type": "histogram2d"
           }
          ],
          "histogram2dcontour": [
           {
            "colorbar": {
             "outlinewidth": 0,
             "ticks": ""
            },
            "colorscale": [
             [
              0.0,
              "#0d0887"
             ],
             [
              0.1111111111111111,
              "#46039f"
             ],
             [
              0.2222222222222222,
              "#7201a8"
             ],
             [
              0.3333333333333333,
              "#9c179e"
             ],
             [
              0.4444444444444444,
              "#bd3786"
             ],
             [
              0.5555555555555556,
              "#d8576b"
             ],
             [
              0.6666666666666666,
              "#ed7953"
             ],
             [
              0.7777777777777778,
              "#fb9f3a"
             ],
             [
              0.8888888888888888,
              "#fdca26"
             ],
             [
              1.0,
              "#f0f921"
             ]
            ],
            "type": "histogram2dcontour"
           }
          ],
          "mesh3d": [
           {
            "colorbar": {
             "outlinewidth": 0,
             "ticks": ""
            },
            "type": "mesh3d"
           }
          ],
          "parcoords": [
           {
            "line": {
             "colorbar": {
              "outlinewidth": 0,
              "ticks": ""
             }
            },
            "type": "parcoords"
           }
          ],
          "pie": [
           {
            "automargin": true,
            "type": "pie"
           }
          ],
          "scatter": [
           {
            "fillpattern": {
             "fillmode": "overlay",
             "size": 10,
             "solidity": 0.2
            },
            "type": "scatter"
           }
          ],
          "scatter3d": [
           {
            "line": {
             "colorbar": {
              "outlinewidth": 0,
              "ticks": ""
             }
            },
            "marker": {
             "colorbar": {
              "outlinewidth": 0,
              "ticks": ""
             }
            },
            "type": "scatter3d"
           }
          ],
          "scattercarpet": [
           {
            "marker": {
             "colorbar": {
              "outlinewidth": 0,
              "ticks": ""
             }
            },
            "type": "scattercarpet"
           }
          ],
          "scattergeo": [
           {
            "marker": {
             "colorbar": {
              "outlinewidth": 0,
              "ticks": ""
             }
            },
            "type": "scattergeo"
           }
          ],
          "scattergl": [
           {
            "marker": {
             "colorbar": {
              "outlinewidth": 0,
              "ticks": ""
             }
            },
            "type": "scattergl"
           }
          ],
          "scattermap": [
           {
            "marker": {
             "colorbar": {
              "outlinewidth": 0,
              "ticks": ""
             }
            },
            "type": "scattermap"
           }
          ],
          "scattermapbox": [
           {
            "marker": {
             "colorbar": {
              "outlinewidth": 0,
              "ticks": ""
             }
            },
            "type": "scattermapbox"
           }
          ],
          "scatterpolar": [
           {
            "marker": {
             "colorbar": {
              "outlinewidth": 0,
              "ticks": ""
             }
            },
            "type": "scatterpolar"
           }
          ],
          "scatterpolargl": [
           {
            "marker": {
             "colorbar": {
              "outlinewidth": 0,
              "ticks": ""
             }
            },
            "type": "scatterpolargl"
           }
          ],
          "scatterternary": [
           {
            "marker": {
             "colorbar": {
              "outlinewidth": 0,
              "ticks": ""
             }
            },
            "type": "scatterternary"
           }
          ],
          "surface": [
           {
            "colorbar": {
             "outlinewidth": 0,
             "ticks": ""
            },
            "colorscale": [
             [
              0.0,
              "#0d0887"
             ],
             [
              0.1111111111111111,
              "#46039f"
             ],
             [
              0.2222222222222222,
              "#7201a8"
             ],
             [
              0.3333333333333333,
              "#9c179e"
             ],
             [
              0.4444444444444444,
              "#bd3786"
             ],
             [
              0.5555555555555556,
              "#d8576b"
             ],
             [
              0.6666666666666666,
              "#ed7953"
             ],
             [
              0.7777777777777778,
              "#fb9f3a"
             ],
             [
              0.8888888888888888,
              "#fdca26"
             ],
             [
              1.0,
              "#f0f921"
             ]
            ],
            "type": "surface"
           }
          ],
          "table": [
           {
            "cells": {
             "fill": {
              "color": "#EBF0F8"
             },
             "line": {
              "color": "white"
             }
            },
            "header": {
             "fill": {
              "color": "#C8D4E3"
             },
             "line": {
              "color": "white"
             }
            },
            "type": "table"
           }
          ]
         },
         "layout": {
          "annotationdefaults": {
           "arrowcolor": "#2a3f5f",
           "arrowhead": 0,
           "arrowwidth": 1
          },
          "autotypenumbers": "strict",
          "coloraxis": {
           "colorbar": {
            "outlinewidth": 0,
            "ticks": ""
           }
          },
          "colorscale": {
           "diverging": [
            [
             0,
             "#8e0152"
            ],
            [
             0.1,
             "#c51b7d"
            ],
            [
             0.2,
             "#de77ae"
            ],
            [
             0.3,
             "#f1b6da"
            ],
            [
             0.4,
             "#fde0ef"
            ],
            [
             0.5,
             "#f7f7f7"
            ],
            [
             0.6,
             "#e6f5d0"
            ],
            [
             0.7,
             "#b8e186"
            ],
            [
             0.8,
             "#7fbc41"
            ],
            [
             0.9,
             "#4d9221"
            ],
            [
             1,
             "#276419"
            ]
           ],
           "sequential": [
            [
             0.0,
             "#0d0887"
            ],
            [
             0.1111111111111111,
             "#46039f"
            ],
            [
             0.2222222222222222,
             "#7201a8"
            ],
            [
             0.3333333333333333,
             "#9c179e"
            ],
            [
             0.4444444444444444,
             "#bd3786"
            ],
            [
             0.5555555555555556,
             "#d8576b"
            ],
            [
             0.6666666666666666,
             "#ed7953"
            ],
            [
             0.7777777777777778,
             "#fb9f3a"
            ],
            [
             0.8888888888888888,
             "#fdca26"
            ],
            [
             1.0,
             "#f0f921"
            ]
           ],
           "sequentialminus": [
            [
             0.0,
             "#0d0887"
            ],
            [
             0.1111111111111111,
             "#46039f"
            ],
            [
             0.2222222222222222,
             "#7201a8"
            ],
            [
             0.3333333333333333,
             "#9c179e"
            ],
            [
             0.4444444444444444,
             "#bd3786"
            ],
            [
             0.5555555555555556,
             "#d8576b"
            ],
            [
             0.6666666666666666,
             "#ed7953"
            ],
            [
             0.7777777777777778,
             "#fb9f3a"
            ],
            [
             0.8888888888888888,
             "#fdca26"
            ],
            [
             1.0,
             "#f0f921"
            ]
           ]
          },
          "colorway": [
           "#636efa",
           "#EF553B",
           "#00cc96",
           "#ab63fa",
           "#FFA15A",
           "#19d3f3",
           "#FF6692",
           "#B6E880",
           "#FF97FF",
           "#FECB52"
          ],
          "font": {
           "color": "#2a3f5f"
          },
          "geo": {
           "bgcolor": "white",
           "lakecolor": "white",
           "landcolor": "#E5ECF6",
           "showlakes": true,
           "showland": true,
           "subunitcolor": "white"
          },
          "hoverlabel": {
           "align": "left"
          },
          "hovermode": "closest",
          "mapbox": {
           "style": "light"
          },
          "paper_bgcolor": "white",
          "plot_bgcolor": "#E5ECF6",
          "polar": {
           "angularaxis": {
            "gridcolor": "white",
            "linecolor": "white",
            "ticks": ""
           },
           "bgcolor": "#E5ECF6",
           "radialaxis": {
            "gridcolor": "white",
            "linecolor": "white",
            "ticks": ""
           }
          },
          "scene": {
           "xaxis": {
            "backgroundcolor": "#E5ECF6",
            "gridcolor": "white",
            "gridwidth": 2,
            "linecolor": "white",
            "showbackground": true,
            "ticks": "",
            "zerolinecolor": "white"
           },
           "yaxis": {
            "backgroundcolor": "#E5ECF6",
            "gridcolor": "white",
            "gridwidth": 2,
            "linecolor": "white",
            "showbackground": true,
            "ticks": "",
            "zerolinecolor": "white"
           },
           "zaxis": {
            "backgroundcolor": "#E5ECF6",
            "gridcolor": "white",
            "gridwidth": 2,
            "linecolor": "white",
            "showbackground": true,
            "ticks": "",
            "zerolinecolor": "white"
           }
          },
          "shapedefaults": {
           "line": {
            "color": "#2a3f5f"
           }
          },
          "ternary": {
           "aaxis": {
            "gridcolor": "white",
            "linecolor": "white",
            "ticks": ""
           },
           "baxis": {
            "gridcolor": "white",
            "linecolor": "white",
            "ticks": ""
           },
           "bgcolor": "#E5ECF6",
           "caxis": {
            "gridcolor": "white",
            "linecolor": "white",
            "ticks": ""
           }
          },
          "title": {
           "x": 0.05
          },
          "xaxis": {
           "automargin": true,
           "gridcolor": "white",
           "linecolor": "white",
           "ticks": "",
           "title": {
            "standoff": 15
           },
           "zerolinecolor": "white",
           "zerolinewidth": 2
          },
          "yaxis": {
           "automargin": true,
           "gridcolor": "white",
           "linecolor": "white",
           "ticks": "",
           "title": {
            "standoff": 15
           },
           "zerolinecolor": "white",
           "zerolinewidth": 2
          }
         }
        },
        "title": {
         "text": "🌍 Density Heatmap (Zeespiegel) & Impactpunten per Jaar"
        }
       }
      },
      "text/html": [
       "<div>            <script src=\"https://cdnjs.cloudflare.com/ajax/libs/mathjax/2.7.5/MathJax.js?config=TeX-AMS-MML_SVG\"></script><script type=\"text/javascript\">if (window.MathJax && window.MathJax.Hub && window.MathJax.Hub.Config) {window.MathJax.Hub.Config({SVG: {font: \"STIX-Web\"}});}</script>                <script type=\"text/javascript\">window.PlotlyConfig = {MathJaxConfig: 'local'};</script>\n",
       "        <script charset=\"utf-8\" src=\"https://cdn.plot.ly/plotly-3.0.1.min.js\"></script>                <div id=\"69c16da4-25ba-4566-b4d6-1c93e9f06ebe\" class=\"plotly-graph-div\" style=\"height:750px; width:100%;\"></div>            <script type=\"text/javascript\">                window.PLOTLYENV=window.PLOTLYENV || {};                                if (document.getElementById(\"69c16da4-25ba-4566-b4d6-1c93e9f06ebe\")) {                    Plotly.newPlot(                        \"69c16da4-25ba-4566-b4d6-1c93e9f06ebe\",                        [{\"colorscale\":[[0.0,\"rgb(255,255,217)\"],[0.125,\"rgb(237,248,177)\"],[0.25,\"rgb(199,233,180)\"],[0.375,\"rgb(127,205,187)\"],[0.5,\"rgb(65,182,196)\"],[0.625,\"rgb(29,145,192)\"],[0.75,\"rgb(34,94,168)\"],[0.875,\"rgb(37,52,148)\"],[1.0,\"rgb(8,29,88)\"]],\"lat\":[\"40.5\"],\"lon\":[\"142.5\"],\"name\":\"Zeespiegelstijging\",\"radius\":30,\"visible\":true,\"z\":{\"dtype\":\"f8\",\"bdata\":\"+F4yRISRY8A=\"},\"zmax\":100,\"zmin\":0,\"type\":\"densitymap\"},{\"hoverinfo\":\"text+lat+lon\",\"lat\":[\"40.5\"],\"lon\":[\"142.5\"],\"marker\":{\"cmax\":6,\"cmin\":0,\"color\":{\"dtype\":\"f8\",\"bdata\":\"AUOwV\\u002fZd9j8=\"},\"colorscale\":[[0.0,\"rgb(255,245,240)\"],[0.125,\"rgb(254,224,210)\"],[0.25,\"rgb(252,187,161)\"],[0.375,\"rgb(252,146,114)\"],[0.5,\"rgb(251,106,74)\"],[0.625,\"rgb(239,59,44)\"],[0.75,\"rgb(203,24,29)\"],[0.875,\"rgb(165,15,21)\"],[1.0,\"rgb(103,0,13)\"]],\"opacity\":0.6,\"size\":{\"dtype\":\"f8\",\"bdata\":\"wVOc7XP1G0A=\"},\"sizemode\":\"area\"},\"mode\":\"markers\",\"name\":\"Impactpunten\",\"text\":[\"Japan\"],\"visible\":true,\"type\":\"scattermap\"},{\"colorscale\":[[0.0,\"rgb(255,255,217)\"],[0.125,\"rgb(237,248,177)\"],[0.25,\"rgb(199,233,180)\"],[0.375,\"rgb(127,205,187)\"],[0.5,\"rgb(65,182,196)\"],[0.625,\"rgb(29,145,192)\"],[0.75,\"rgb(34,94,168)\"],[0.875,\"rgb(37,52,148)\"],[1.0,\"rgb(8,29,88)\"]],\"lat\":[\"37.4\"],\"lon\":[\"142.6\"],\"name\":\"Zeespiegelstijging\",\"radius\":30,\"visible\":false,\"z\":{\"dtype\":\"f8\",\"bdata\":\"AAAAAEBNY8A=\"},\"zmax\":100,\"zmin\":0,\"type\":\"densitymap\"},{\"hoverinfo\":\"text+lat+lon\",\"lat\":[\"37.4\"],\"lon\":[\"142.6\"],\"marker\":{\"cmax\":6,\"cmin\":0,\"color\":{\"dtype\":\"f8\",\"bdata\":\"Hzp4P9T4+T8=\"},\"colorscale\":[[0.0,\"rgb(255,245,240)\"],[0.125,\"rgb(254,224,210)\"],[0.25,\"rgb(252,187,161)\"],[0.375,\"rgb(252,146,114)\"],[0.5,\"rgb(251,106,74)\"],[0.625,\"rgb(239,59,44)\"],[0.75,\"rgb(203,24,29)\"],[0.875,\"rgb(165,15,21)\"],[1.0,\"rgb(103,0,13)\"]],\"opacity\":0.6,\"size\":{\"dtype\":\"f8\",\"bdata\":\"UySrp4Q7IEA=\"},\"sizemode\":\"area\"},\"mode\":\"markers\",\"name\":\"Impactpunten\",\"text\":[\"Japan\"],\"visible\":false,\"type\":\"scattermap\"},{\"colorscale\":[[0.0,\"rgb(255,255,217)\"],[0.125,\"rgb(237,248,177)\"],[0.25,\"rgb(199,233,180)\"],[0.375,\"rgb(127,205,187)\"],[0.5,\"rgb(65,182,196)\"],[0.625,\"rgb(29,145,192)\"],[0.75,\"rgb(34,94,168)\"],[0.875,\"rgb(37,52,148)\"],[1.0,\"rgb(8,29,88)\"]],\"lat\":[\"48.60 N\",\"8.30 S\"],\"lon\":[\"58.00 W\",\"121.70 E\"],\"name\":\"Zeespiegelstijging\",\"radius\":30,\"visible\":false,\"z\":{\"dtype\":\"f8\",\"bdata\":\"O9QA7y4cYMA71ADvLhxgwA==\"},\"zmax\":100,\"zmin\":0,\"type\":\"densitymap\"},{\"hoverinfo\":\"text+lat+lon\",\"lat\":[\"48.60 N\",\"8.30 S\"],\"lon\":[\"58.00 W\",\"121.70 E\"],\"marker\":{\"cmax\":6,\"cmin\":0,\"color\":{\"dtype\":\"f8\",\"bdata\":\"HyMMLo8n9z86E6jbfOIAQA==\"},\"colorscale\":[[0.0,\"rgb(255,245,240)\"],[0.125,\"rgb(254,224,210)\"],[0.25,\"rgb(252,187,161)\"],[0.375,\"rgb(252,146,114)\"],[0.5,\"rgb(251,106,74)\"],[0.625,\"rgb(239,59,44)\"],[0.75,\"rgb(203,24,29)\"],[0.875,\"rgb(165,15,21)\"],[1.0,\"rgb(103,0,13)\"]],\"opacity\":0.6,\"size\":{\"dtype\":\"f8\",\"bdata\":\"5yuP+XLxHEAIGJISHBslQA==\"},\"sizemode\":\"area\"},\"mode\":\"markers\",\"name\":\"Impactpunten\",\"text\":[\"Canada\",\"Indonesia\"],\"visible\":false,\"type\":\"scattermap\"},{\"colorscale\":[[0.0,\"rgb(255,255,217)\"],[0.125,\"rgb(237,248,177)\"],[0.25,\"rgb(199,233,180)\"],[0.375,\"rgb(127,205,187)\"],[0.5,\"rgb(65,182,196)\"],[0.625,\"rgb(29,145,192)\"],[0.75,\"rgb(34,94,168)\"],[0.875,\"rgb(37,52,148)\"],[1.0,\"rgb(8,29,88)\"]],\"lat\":[\"11.117\"],\"lon\":[\"161.11\"],\"name\":\"Zeespiegelstijging\",\"radius\":30,\"visible\":false,\"z\":{\"dtype\":\"f8\",\"bdata\":\"vYoxVdWvX8A=\"},\"zmax\":100,\"zmin\":0,\"type\":\"densitymap\"},{\"hoverinfo\":\"text+lat+lon\",\"lat\":[\"11.117\"],\"lon\":[\"161.11\"],\"marker\":{\"cmax\":6,\"cmin\":0,\"color\":{\"dtype\":\"f8\",\"bdata\":\"FnPfGjVS+z8=\"},\"colorscale\":[[0.0,\"rgb(255,245,240)\"],[0.125,\"rgb(254,224,210)\"],[0.25,\"rgb(252,187,161)\"],[0.375,\"rgb(252,146,114)\"],[0.5,\"rgb(251,106,74)\"],[0.625,\"rgb(239,59,44)\"],[0.75,\"rgb(203,24,29)\"],[0.875,\"rgb(165,15,21)\"],[1.0,\"rgb(103,0,13)\"]],\"opacity\":0.6,\"size\":{\"dtype\":\"f8\",\"bdata\":\"7qfLMGETIUA=\"},\"sizemode\":\"area\"},\"mode\":\"markers\",\"name\":\"Impactpunten\",\"text\":[\"Solomon Islands\"],\"visible\":false,\"type\":\"scattermap\"},{\"colorscale\":[[0.0,\"rgb(255,255,217)\"],[0.125,\"rgb(237,248,177)\"],[0.25,\"rgb(199,233,180)\"],[0.375,\"rgb(127,205,187)\"],[0.5,\"rgb(65,182,196)\"],[0.625,\"rgb(29,145,192)\"],[0.75,\"rgb(34,94,168)\"],[0.875,\"rgb(37,52,148)\"],[1.0,\"rgb(8,29,88)\"]],\"lat\":[\"39.224\"],\"lon\":[\"144.622\"],\"name\":\"Zeespiegelstijging\",\"radius\":30,\"visible\":false,\"z\":{\"dtype\":\"f8\",\"bdata\":\"3Q5oRMT+XcA=\"},\"zmax\":100,\"zmin\":0,\"type\":\"densitymap\"},{\"hoverinfo\":\"text+lat+lon\",\"lat\":[\"39.224\"],\"lon\":[\"144.622\"],\"marker\":{\"cmax\":6,\"cmin\":0,\"color\":{\"dtype\":\"f8\",\"bdata\":\"tL2O1XDRC0A=\"},\"colorscale\":[[0.0,\"rgb(255,245,240)\"],[0.125,\"rgb(254,224,210)\"],[0.25,\"rgb(252,187,161)\"],[0.375,\"rgb(252,146,114)\"],[0.5,\"rgb(251,106,74)\"],[0.625,\"rgb(239,59,44)\"],[0.75,\"rgb(203,24,29)\"],[0.875,\"rgb(165,15,21)\"],[1.0,\"rgb(103,0,13)\"]],\"opacity\":0.6,\"size\":{\"dtype\":\"f8\",\"bdata\":\"kDZ5heZiMUA=\"},\"sizemode\":\"area\"},\"mode\":\"markers\",\"name\":\"Impactpunten\",\"text\":[\"Japan\"],\"visible\":false,\"type\":\"scattermap\"},{\"colorscale\":[[0.0,\"rgb(255,255,217)\"],[0.125,\"rgb(237,248,177)\"],[0.25,\"rgb(199,233,180)\"],[0.375,\"rgb(127,205,187)\"],[0.5,\"rgb(65,182,196)\"],[0.625,\"rgb(29,145,192)\"],[0.75,\"rgb(34,94,168)\"],[0.875,\"rgb(37,52,148)\"],[1.0,\"rgb(8,29,88)\"]],\"lat\":[\"33.682\"],\"lon\":[\"36.204\"],\"name\":\"Zeespiegelstijging\",\"radius\":30,\"visible\":false,\"z\":{\"dtype\":\"f8\",\"bdata\":\"iVf+IaI8XcA=\"},\"zmax\":100,\"zmin\":0,\"type\":\"densitymap\"},{\"hoverinfo\":\"text+lat+lon\",\"lat\":[\"33.682\"],\"lon\":[\"36.204\"],\"marker\":{\"cmax\":6,\"cmin\":0,\"color\":{\"dtype\":\"f8\",\"bdata\":\"YyLtj\\u002fGfE0A=\"},\"colorscale\":[[0.0,\"rgb(255,245,240)\"],[0.125,\"rgb(254,224,210)\"],[0.25,\"rgb(252,187,161)\"],[0.375,\"rgb(252,146,114)\"],[0.5,\"rgb(251,106,74)\"],[0.625,\"rgb(239,59,44)\"],[0.75,\"rgb(203,24,29)\"],[0.875,\"rgb(165,15,21)\"],[1.0,\"rgb(103,0,13)\"]],\"opacity\":0.6,\"size\":{\"dtype\":\"f8\",\"bdata\":\"\\u002fGro8+2HOEA=\"},\"sizemode\":\"area\"},\"mode\":\"markers\",\"name\":\"Impactpunten\",\"text\":[\"Japan\"],\"visible\":false,\"type\":\"scattermap\"},{\"colorscale\":[[0.0,\"rgb(255,255,217)\"],[0.125,\"rgb(237,248,177)\"],[0.25,\"rgb(199,233,180)\"],[0.375,\"rgb(127,205,187)\"],[0.5,\"rgb(65,182,196)\"],[0.625,\"rgb(29,145,192)\"],[0.75,\"rgb(34,94,168)\"],[0.875,\"rgb(37,52,148)\"],[1.0,\"rgb(8,29,88)\"]],\"lat\":[\"53.492\"],\"lon\":[\"-162.832\"],\"name\":\"Zeespiegelstijging\",\"radius\":30,\"visible\":false,\"z\":{\"dtype\":\"f8\",\"bdata\":\"VKUUEZErV8A=\"},\"zmax\":100,\"zmin\":0,\"type\":\"densitymap\"},{\"hoverinfo\":\"text+lat+lon\",\"lat\":[\"53.492\"],\"lon\":[\"-162.832\"],\"marker\":{\"cmax\":6,\"cmin\":0,\"color\":{\"dtype\":\"f8\",\"bdata\":\"\\u002fv2yI4KXEUA=\"},\"colorscale\":[[0.0,\"rgb(255,245,240)\"],[0.125,\"rgb(254,224,210)\"],[0.25,\"rgb(252,187,161)\"],[0.375,\"rgb(252,146,114)\"],[0.5,\"rgb(251,106,74)\"],[0.625,\"rgb(239,59,44)\"],[0.75,\"rgb(203,24,29)\"],[0.875,\"rgb(165,15,21)\"],[1.0,\"rgb(103,0,13)\"]],\"opacity\":0.6,\"size\":{\"dtype\":\"f8\",\"bdata\":\"fr2frGL9NUA=\"},\"sizemode\":\"area\"},\"mode\":\"markers\",\"name\":\"Impactpunten\",\"text\":[\"United States of America (the)\"],\"visible\":false,\"type\":\"scattermap\"},{\"colorscale\":[[0.0,\"rgb(255,255,217)\"],[0.125,\"rgb(237,248,177)\"],[0.25,\"rgb(199,233,180)\"],[0.375,\"rgb(127,205,187)\"],[0.5,\"rgb(65,182,196)\"],[0.625,\"rgb(29,145,192)\"],[0.75,\"rgb(34,94,168)\"],[0.875,\"rgb(37,52,148)\"],[1.0,\"rgb(8,29,88)\"]],\"lat\":[\"52.623\"],\"lon\":[\"159.779\"],\"name\":\"Zeespiegelstijging\",\"radius\":30,\"visible\":false,\"z\":{\"dtype\":\"f8\",\"bdata\":\"h9hHRMQeVcA=\"},\"zmax\":100,\"zmin\":0,\"type\":\"densitymap\"},{\"hoverinfo\":\"text+lat+lon\",\"lat\":[\"52.623\"],\"lon\":[\"159.779\"],\"marker\":{\"cmax\":6,\"cmin\":0,\"color\":{\"dtype\":\"f8\",\"bdata\":\"AAAAAAAAAAA=\"},\"colorscale\":[[0.0,\"rgb(255,245,240)\"],[0.125,\"rgb(254,224,210)\"],[0.25,\"rgb(252,187,161)\"],[0.375,\"rgb(252,146,114)\"],[0.5,\"rgb(251,106,74)\"],[0.625,\"rgb(239,59,44)\"],[0.75,\"rgb(203,24,29)\"],[0.875,\"rgb(165,15,21)\"],[1.0,\"rgb(103,0,13)\"]],\"opacity\":0.6,\"size\":{\"dtype\":\"f8\",\"bdata\":\"AAAAAAAAAAA=\"},\"sizemode\":\"area\"},\"mode\":\"markers\",\"name\":\"Impactpunten\",\"text\":[\"Soviet Union\"],\"visible\":false,\"type\":\"scattermap\"},{\"colorscale\":[[0.0,\"rgb(255,255,217)\"],[0.125,\"rgb(237,248,177)\"],[0.25,\"rgb(199,233,180)\"],[0.375,\"rgb(127,205,187)\"],[0.5,\"rgb(65,182,196)\"],[0.625,\"rgb(29,145,192)\"],[0.75,\"rgb(34,94,168)\"],[0.875,\"rgb(37,52,148)\"],[1.0,\"rgb(8,29,88)\"]],\"lat\":[\"1.5\"],\"lon\":[\"-79.5\"],\"name\":\"Zeespiegelstijging\",\"radius\":30,\"visible\":false,\"z\":{\"dtype\":\"f8\",\"bdata\":\"AAAAAIA6UsA=\"},\"zmax\":100,\"zmin\":0,\"type\":\"densitymap\"},{\"hoverinfo\":\"text+lat+lon\",\"lat\":[\"1.5\"],\"lon\":[\"-79.5\"],\"marker\":{\"cmax\":6,\"cmin\":0,\"color\":{\"dtype\":\"f8\",\"bdata\":\"D\\u002fAta8xkAEA=\"},\"colorscale\":[[0.0,\"rgb(255,245,240)\"],[0.125,\"rgb(254,224,210)\"],[0.25,\"rgb(252,187,161)\"],[0.375,\"rgb(252,146,114)\"],[0.5,\"rgb(251,106,74)\"],[0.625,\"rgb(239,59,44)\"],[0.75,\"rgb(203,24,29)\"],[0.875,\"rgb(165,15,21)\"],[1.0,\"rgb(103,0,13)\"]],\"opacity\":0.6,\"size\":{\"dtype\":\"f8\",\"bdata\":\"E2z5hf99JEA=\"},\"sizemode\":\"area\"},\"mode\":\"markers\",\"name\":\"Impactpunten\",\"text\":[\"Colombia\"],\"visible\":false,\"type\":\"scattermap\"},{\"colorscale\":[[0.0,\"rgb(255,255,217)\"],[0.125,\"rgb(237,248,177)\"],[0.25,\"rgb(199,233,180)\"],[0.375,\"rgb(127,205,187)\"],[0.5,\"rgb(65,182,196)\"],[0.625,\"rgb(29,145,192)\"],[0.75,\"rgb(34,94,168)\"],[0.875,\"rgb(37,52,148)\"],[1.0,\"rgb(8,29,88)\"]],\"lat\":[\"-38.143\"],\"lon\":[\"-73.407\"],\"name\":\"Zeespiegelstijging\",\"radius\":30,\"visible\":false,\"z\":{\"dtype\":\"f8\",\"bdata\":\"IHLh3V24UMA=\"},\"zmax\":100,\"zmin\":0,\"type\":\"densitymap\"},{\"hoverinfo\":\"text+lat+lon\",\"lat\":[\"-38.143\"],\"lon\":[\"-73.407\"],\"marker\":{\"cmax\":6,\"cmin\":0,\"color\":{\"dtype\":\"f8\",\"bdata\":\"MSRZ6Os0GUA=\"},\"colorscale\":[[0.0,\"rgb(255,245,240)\"],[0.125,\"rgb(254,224,210)\"],[0.25,\"rgb(252,187,161)\"],[0.375,\"rgb(252,146,114)\"],[0.5,\"rgb(251,106,74)\"],[0.625,\"rgb(239,59,44)\"],[0.75,\"rgb(203,24,29)\"],[0.875,\"rgb(165,15,21)\"],[1.0,\"rgb(103,0,13)\"]],\"opacity\":0.6,\"size\":{\"dtype\":\"f8\",\"bdata\":\"PW1v4iaCP0A=\"},\"sizemode\":\"area\"},\"mode\":\"markers\",\"name\":\"Impactpunten\",\"text\":[\"Chile\"],\"visible\":false,\"type\":\"scattermap\"},{\"colorscale\":[[0.0,\"rgb(255,255,217)\"],[0.125,\"rgb(237,248,177)\"],[0.25,\"rgb(199,233,180)\"],[0.375,\"rgb(127,205,187)\"],[0.5,\"rgb(65,182,196)\"],[0.625,\"rgb(29,145,192)\"],[0.75,\"rgb(34,94,168)\"],[0.875,\"rgb(37,52,148)\"],[1.0,\"rgb(8,29,88)\"]],\"lat\":[\"38.67\",\"60.908\"],\"lon\":[\"139.195\",\"-147.339\"],\"name\":\"Zeespiegelstijging\",\"radius\":30,\"visible\":false,\"z\":{\"dtype\":\"f8\",\"bdata\":\"h9hHRMS+UcCH2EdExL5RwA==\"},\"zmax\":100,\"zmin\":0,\"type\":\"densitymap\"},{\"hoverinfo\":\"text+lat+lon\",\"lat\":[\"38.67\",\"60.908\"],\"lon\":[\"139.195\",\"-147.339\"],\"marker\":{\"cmax\":6,\"cmin\":0,\"color\":{\"dtype\":\"f8\",\"bdata\":\"jEyMw8OcF0AmP6WLlvgVQA==\"},\"colorscale\":[[0.0,\"rgb(255,245,240)\"],[0.125,\"rgb(254,224,210)\"],[0.25,\"rgb(252,187,161)\"],[0.375,\"rgb(252,146,114)\"],[0.5,\"rgb(251,106,74)\"],[0.625,\"rgb(239,59,44)\"],[0.75,\"rgb(203,24,29)\"],[0.875,\"rgb(165,15,21)\"],[1.0,\"rgb(103,0,13)\"]],\"opacity\":0.6,\"size\":{\"dtype\":\"f8\",\"bdata\":\"r19vtPSDPUDwjo4uvHY7QA==\"},\"sizemode\":\"area\"},\"mode\":\"markers\",\"name\":\"Impactpunten\",\"text\":[\"Japan\",\"United States of America (the)\"],\"visible\":false,\"type\":\"scattermap\"},{\"colorscale\":[[0.0,\"rgb(255,255,217)\"],[0.125,\"rgb(237,248,177)\"],[0.25,\"rgb(199,233,180)\"],[0.375,\"rgb(127,205,187)\"],[0.5,\"rgb(65,182,196)\"],[0.625,\"rgb(29,145,192)\"],[0.75,\"rgb(34,94,168)\"],[0.875,\"rgb(37,52,148)\"],[1.0,\"rgb(8,29,88)\"]],\"lat\":[\"0.157\"],\"lon\":[\"119.802\"],\"name\":\"Zeespiegelstijging\",\"radius\":30,\"visible\":false,\"z\":{\"dtype\":\"f8\",\"bdata\":\"mpmZmRk0UsA=\"},\"zmax\":100,\"zmin\":0,\"type\":\"densitymap\"},{\"hoverinfo\":\"text+lat+lon\",\"lat\":[\"0.157\"],\"lon\":[\"119.802\"],\"marker\":{\"cmax\":6,\"cmin\":0,\"color\":{\"dtype\":\"f8\",\"bdata\":\"Vy33DfJsAkA=\"},\"colorscale\":[[0.0,\"rgb(255,245,240)\"],[0.125,\"rgb(254,224,210)\"],[0.25,\"rgb(252,187,161)\"],[0.375,\"rgb(252,146,114)\"],[0.5,\"rgb(251,106,74)\"],[0.625,\"rgb(239,59,44)\"],[0.75,\"rgb(203,24,29)\"],[0.875,\"rgb(165,15,21)\"],[1.0,\"rgb(103,0,13)\"]],\"opacity\":0.6,\"size\":{\"dtype\":\"f8\",\"bdata\":\"rfh0kS4IJ0A=\"},\"sizemode\":\"area\"},\"mode\":\"markers\",\"name\":\"Impactpunten\",\"text\":[\"Indonesia\"],\"visible\":false,\"type\":\"scattermap\"},{\"colorscale\":[[0.0,\"rgb(255,255,217)\"],[0.125,\"rgb(237,248,177)\"],[0.25,\"rgb(199,233,180)\"],[0.375,\"rgb(127,205,187)\"],[0.5,\"rgb(65,182,196)\"],[0.625,\"rgb(29,145,192)\"],[0.75,\"rgb(34,94,168)\"],[0.875,\"rgb(37,52,148)\"],[1.0,\"rgb(8,29,88)\"]],\"lat\":[\"-3.201\"],\"lon\":[\"118.904\"],\"name\":\"Zeespiegelstijging\",\"radius\":30,\"visible\":false,\"z\":{\"dtype\":\"f8\",\"bdata\":\"mpmZmZlOT8A=\"},\"zmax\":100,\"zmin\":0,\"type\":\"densitymap\"},{\"hoverinfo\":\"text+lat+lon\",\"lat\":[\"-3.201\"],\"lon\":[\"118.904\"],\"marker\":{\"cmax\":6,\"cmin\":0,\"color\":{\"dtype\":\"f8\",\"bdata\":\"09gLyVmFDkA=\"},\"colorscale\":[[0.0,\"rgb(255,245,240)\"],[0.125,\"rgb(254,224,210)\"],[0.25,\"rgb(252,187,161)\"],[0.375,\"rgb(252,146,114)\"],[0.5,\"rgb(251,106,74)\"],[0.625,\"rgb(239,59,44)\"],[0.75,\"rgb(203,24,29)\"],[0.875,\"rgb(165,15,21)\"],[1.0,\"rgb(103,0,13)\"]],\"opacity\":0.6,\"size\":{\"dtype\":\"f8\",\"bdata\":\"hGenHVgTM0A=\"},\"sizemode\":\"area\"},\"mode\":\"markers\",\"name\":\"Impactpunten\",\"text\":[\"Indonesia\"],\"visible\":false,\"type\":\"scattermap\"},{\"colorscale\":[[0.0,\"rgb(255,255,217)\"],[0.125,\"rgb(237,248,177)\"],[0.25,\"rgb(199,233,180)\"],[0.375,\"rgb(127,205,187)\"],[0.5,\"rgb(65,182,196)\"],[0.625,\"rgb(29,145,192)\"],[0.75,\"rgb(34,94,168)\"],[0.875,\"rgb(37,52,148)\"],[1.0,\"rgb(8,29,88)\"]],\"lat\":[\"-7.104\"],\"lon\":[\"155.152\"],\"name\":\"Zeespiegelstijging\",\"radius\":30,\"visible\":false,\"z\":{\"dtype\":\"f8\",\"bdata\":\"805wd3fsRsA=\"},\"zmax\":100,\"zmin\":0,\"type\":\"densitymap\"},{\"hoverinfo\":\"text+lat+lon\",\"lat\":[\"-7.104\"],\"lon\":[\"155.152\"],\"marker\":{\"cmax\":6,\"cmin\":0,\"color\":{\"dtype\":\"f8\",\"bdata\":\"Vy33DfJsAkA=\"},\"colorscale\":[[0.0,\"rgb(255,245,240)\"],[0.125,\"rgb(254,224,210)\"],[0.25,\"rgb(252,187,161)\"],[0.375,\"rgb(252,146,114)\"],[0.5,\"rgb(251,106,74)\"],[0.625,\"rgb(239,59,44)\"],[0.75,\"rgb(203,24,29)\"],[0.875,\"rgb(165,15,21)\"],[1.0,\"rgb(103,0,13)\"]],\"opacity\":0.6,\"size\":{\"dtype\":\"f8\",\"bdata\":\"rfh0kS4IJ0A=\"},\"sizemode\":\"area\"},\"mode\":\"markers\",\"name\":\"Impactpunten\",\"text\":[\"Solomon Islands\"],\"visible\":false,\"type\":\"scattermap\"},{\"colorscale\":[[0.0,\"rgb(255,255,217)\"],[0.125,\"rgb(237,248,177)\"],[0.25,\"rgb(199,233,180)\"],[0.375,\"rgb(127,205,187)\"],[0.5,\"rgb(65,182,196)\"],[0.625,\"rgb(29,145,192)\"],[0.75,\"rgb(34,94,168)\"],[0.875,\"rgb(37,52,148)\"],[1.0,\"rgb(8,29,88)\"]],\"lat\":[\"43.70 N\",\"8.8\"],\"lon\":[\"7.25 E\",\"123.5\"],\"name\":\"Zeespiegelstijging\",\"radius\":30,\"visible\":false,\"z\":{\"dtype\":\"f8\",\"bdata\":\"MzMzMzNoR8AzMzMzM2hHwA==\"},\"zmax\":100,\"zmin\":0,\"type\":\"densitymap\"},{\"hoverinfo\":\"text+lat+lon\",\"lat\":[\"43.70 N\",\"8.8\"],\"lon\":[\"7.25 E\",\"123.5\"],\"marker\":{\"cmax\":6,\"cmin\":0,\"color\":{\"dtype\":\"f8\",\"bdata\":\"f7LjjVNE8T9\\u002f33FC8dsFQA==\"},\"colorscale\":[[0.0,\"rgb(255,245,240)\"],[0.125,\"rgb(254,224,210)\"],[0.25,\"rgb(252,187,161)\"],[0.375,\"rgb(252,146,114)\"],[0.5,\"rgb(251,106,74)\"],[0.625,\"rgb(239,59,44)\"],[0.75,\"rgb(203,24,29)\"],[0.875,\"rgb(165,15,21)\"],[1.0,\"rgb(103,0,13)\"]],\"opacity\":0.6,\"size\":{\"dtype\":\"f8\",\"bdata\":\"H59ccWiVFUBfVw6T7VIrQA==\"},\"sizemode\":\"area\"},\"mode\":\"markers\",\"name\":\"Impactpunten\",\"text\":[\"France\",\"Indonesia\"],\"visible\":false,\"type\":\"scattermap\"},{\"colorscale\":[[0.0,\"rgb(255,255,217)\"],[0.125,\"rgb(237,248,177)\"],[0.25,\"rgb(199,233,180)\"],[0.375,\"rgb(127,205,187)\"],[0.5,\"rgb(65,182,196)\"],[0.625,\"rgb(29,145,192)\"],[0.75,\"rgb(34,94,168)\"],[0.875,\"rgb(37,52,148)\"],[1.0,\"rgb(8,29,88)\"]],\"lat\":[\"40.462\"],\"lon\":[\"139.102\"],\"name\":\"Zeespiegelstijging\",\"radius\":30,\"visible\":false,\"z\":{\"dtype\":\"f8\",\"bdata\":\"6C7s3d1HNsA=\"},\"zmax\":100,\"zmin\":0,\"type\":\"densitymap\"},{\"hoverinfo\":\"text+lat+lon\",\"lat\":[\"40.462\"],\"lon\":[\"139.102\"],\"marker\":{\"cmax\":6,\"cmin\":0,\"color\":{\"dtype\":\"f8\",\"bdata\":\"HTkw4PN5FkA=\"},\"colorscale\":[[0.0,\"rgb(255,245,240)\"],[0.125,\"rgb(254,224,210)\"],[0.25,\"rgb(252,187,161)\"],[0.375,\"rgb(252,146,114)\"],[0.5,\"rgb(251,106,74)\"],[0.625,\"rgb(239,59,44)\"],[0.75,\"rgb(203,24,29)\"],[0.875,\"rgb(165,15,21)\"],[1.0,\"rgb(103,0,13)\"]],\"opacity\":0.6,\"size\":{\"dtype\":\"f8\",\"bdata\":\"ZEc82HAYPEA=\"},\"sizemode\":\"area\"},\"mode\":\"markers\",\"name\":\"Impactpunten\",\"text\":[\"Japan\"],\"visible\":false,\"type\":\"scattermap\"},{\"colorscale\":[[0.0,\"rgb(255,255,217)\"],[0.125,\"rgb(237,248,177)\"],[0.25,\"rgb(199,233,180)\"],[0.375,\"rgb(127,205,187)\"],[0.5,\"rgb(65,182,196)\"],[0.625,\"rgb(29,145,192)\"],[0.75,\"rgb(34,94,168)\"],[0.875,\"rgb(37,52,148)\"],[1.0,\"rgb(8,29,88)\"]],\"lat\":[\"42.851 N\"],\"lon\":[\"139.197 E\"],\"name\":\"Zeespiegelstijging\",\"radius\":30,\"visible\":false,\"z\":{\"dtype\":\"f8\",\"bdata\":\"6C7s3d3HNsA=\"},\"zmax\":100,\"zmin\":0,\"type\":\"densitymap\"},{\"hoverinfo\":\"text+lat+lon\",\"lat\":[\"42.851 N\"],\"lon\":[\"139.197 E\"],\"marker\":{\"cmax\":6,\"cmin\":0,\"color\":{\"dtype\":\"f8\",\"bdata\":\"YB4lHQAAGEA=\"},\"colorscale\":[[0.0,\"rgb(255,245,240)\"],[0.125,\"rgb(254,224,210)\"],[0.25,\"rgb(252,187,161)\"],[0.375,\"rgb(252,146,114)\"],[0.5,\"rgb(251,106,74)\"],[0.625,\"rgb(239,59,44)\"],[0.75,\"rgb(203,24,29)\"],[0.875,\"rgb(165,15,21)\"],[1.0,\"rgb(103,0,13)\"]],\"opacity\":0.6,\"size\":{\"dtype\":\"f8\",\"bdata\":\"+GVuJAAAPkA=\"},\"sizemode\":\"area\"},\"mode\":\"markers\",\"name\":\"Impactpunten\",\"text\":[\"Japan\"],\"visible\":false,\"type\":\"scattermap\"},{\"colorscale\":[[0.0,\"rgb(255,255,217)\"],[0.125,\"rgb(237,248,177)\"],[0.25,\"rgb(199,233,180)\"],[0.375,\"rgb(127,205,187)\"],[0.5,\"rgb(65,182,196)\"],[0.625,\"rgb(29,145,192)\"],[0.75,\"rgb(34,94,168)\"],[0.875,\"rgb(37,52,148)\"],[1.0,\"rgb(8,29,88)\"]],\"lat\":[\"9.593 S\"],\"lon\":[\"79.587 W\"],\"name\":\"Zeespiegelstijging\",\"radius\":30,\"visible\":false,\"z\":{\"dtype\":\"f8\",\"bdata\":\"\\u002fW70EBHlJ8A=\"},\"zmax\":100,\"zmin\":0,\"type\":\"densitymap\"},{\"hoverinfo\":\"text+lat+lon\",\"lat\":[\"9.593 S\"],\"lon\":[\"79.587 W\"],\"marker\":{\"cmax\":6,\"cmin\":0,\"color\":{\"dtype\":\"f8\",\"bdata\":\"A6KgFa0DB0A=\"},\"colorscale\":[[0.0,\"rgb(255,245,240)\"],[0.125,\"rgb(254,224,210)\"],[0.25,\"rgb(252,187,161)\"],[0.375,\"rgb(252,146,114)\"],[0.5,\"rgb(251,106,74)\"],[0.625,\"rgb(239,59,44)\"],[0.75,\"rgb(203,24,29)\"],[0.875,\"rgb(165,15,21)\"],[1.0,\"rgb(103,0,13)\"]],\"opacity\":0.6,\"size\":{\"dtype\":\"f8\",\"bdata\":\"hMoIW5jELEA=\"},\"sizemode\":\"area\"},\"mode\":\"markers\",\"name\":\"Impactpunten\",\"text\":[\"Peru\"],\"visible\":false,\"type\":\"scattermap\"},{\"colorscale\":[[0.0,\"rgb(255,255,217)\"],[0.125,\"rgb(237,248,177)\"],[0.25,\"rgb(199,233,180)\"],[0.375,\"rgb(127,205,187)\"],[0.5,\"rgb(65,182,196)\"],[0.625,\"rgb(29,145,192)\"],[0.75,\"rgb(34,94,168)\"],[0.875,\"rgb(37,52,148)\"],[1.0,\"rgb(8,29,88)\"]],\"lat\":[\"-12.584\"],\"lon\":[\"166.676\"],\"name\":\"Zeespiegelstijging\",\"radius\":30,\"visible\":false,\"z\":{\"dtype\":\"f8\",\"bdata\":\"1mnS3d0tBcA=\"},\"zmax\":100,\"zmin\":0,\"type\":\"densitymap\"},{\"hoverinfo\":\"text+lat+lon\",\"lat\":[\"-12.584\"],\"lon\":[\"166.676\"],\"marker\":{\"cmax\":6,\"cmin\":0,\"color\":{\"dtype\":\"f8\",\"bdata\":\"AAAAAAAAAAA=\"},\"colorscale\":[[0.0,\"rgb(255,245,240)\"],[0.125,\"rgb(254,224,210)\"],[0.25,\"rgb(252,187,161)\"],[0.375,\"rgb(252,146,114)\"],[0.5,\"rgb(251,106,74)\"],[0.625,\"rgb(239,59,44)\"],[0.75,\"rgb(203,24,29)\"],[0.875,\"rgb(165,15,21)\"],[1.0,\"rgb(103,0,13)\"]],\"opacity\":0.6,\"size\":{\"dtype\":\"f8\",\"bdata\":\"AAAAAAAAAAA=\"},\"sizemode\":\"area\"},\"mode\":\"markers\",\"name\":\"Impactpunten\",\"text\":[\"Vanuatu\"],\"visible\":false,\"type\":\"scattermap\"},{\"colorscale\":[[0.0,\"rgb(255,255,217)\"],[0.125,\"rgb(237,248,177)\"],[0.25,\"rgb(199,233,180)\"],[0.375,\"rgb(127,205,187)\"],[0.5,\"rgb(65,182,196)\"],[0.625,\"rgb(29,145,192)\"],[0.75,\"rgb(34,94,168)\"],[0.875,\"rgb(37,52,148)\"],[1.0,\"rgb(8,29,88)\"]],\"lat\":[\"-2.961\"],\"lon\":[\"141.926\"],\"name\":\"Zeespiegelstijging\",\"radius\":30,\"visible\":false,\"z\":{\"dtype\":\"f8\",\"bdata\":\"zczMzMygJcA=\"},\"zmax\":100,\"zmin\":0,\"type\":\"densitymap\"},{\"hoverinfo\":\"text+lat+lon\",\"lat\":[\"-2.961\"],\"lon\":[\"141.926\"],\"marker\":{\"cmax\":6,\"cmin\":0,\"color\":{\"dtype\":\"f8\",\"bdata\":\"alZkaC70D0A=\"},\"colorscale\":[[0.0,\"rgb(255,245,240)\"],[0.125,\"rgb(254,224,210)\"],[0.25,\"rgb(252,187,161)\"],[0.375,\"rgb(252,146,114)\"],[0.5,\"rgb(251,106,74)\"],[0.625,\"rgb(239,59,44)\"],[0.75,\"rgb(203,24,29)\"],[0.875,\"rgb(165,15,21)\"],[1.0,\"rgb(103,0,13)\"]],\"opacity\":0.6,\"size\":{\"dtype\":\"f8\",\"bdata\":\"ArY+AZ34M0A=\"},\"sizemode\":\"area\"},\"mode\":\"markers\",\"name\":\"Impactpunten\",\"text\":[\"Papua New Guinea\"],\"visible\":false,\"type\":\"scattermap\"},{\"colorscale\":[[0.0,\"rgb(255,255,217)\"],[0.125,\"rgb(237,248,177)\"],[0.25,\"rgb(199,233,180)\"],[0.375,\"rgb(127,205,187)\"],[0.5,\"rgb(65,182,196)\"],[0.625,\"rgb(29,145,192)\"],[0.75,\"rgb(34,94,168)\"],[0.875,\"rgb(37,52,148)\"],[1.0,\"rgb(8,29,88)\"]],\"lat\":[\"-16.265\"],\"lon\":[\"-73.641\"],\"name\":\"Zeespiegelstijging\",\"radius\":30,\"visible\":false,\"z\":{\"dtype\":\"f8\",\"bdata\":\"hc6CiIjgEkA=\"},\"zmax\":100,\"zmin\":0,\"type\":\"densitymap\"},{\"hoverinfo\":\"text+lat+lon\",\"lat\":[\"-16.265\"],\"lon\":[\"-73.641\"],\"marker\":{\"cmax\":6,\"cmin\":0,\"color\":{\"dtype\":\"f8\",\"bdata\":\"1FukVxktFkA=\"},\"colorscale\":[[0.0,\"rgb(255,245,240)\"],[0.125,\"rgb(254,224,210)\"],[0.25,\"rgb(252,187,161)\"],[0.375,\"rgb(252,146,114)\"],[0.5,\"rgb(251,106,74)\"],[0.625,\"rgb(239,59,44)\"],[0.75,\"rgb(203,24,29)\"],[0.875,\"rgb(165,15,21)\"],[1.0,\"rgb(103,0,13)\"]],\"opacity\":0.6,\"size\":{\"dtype\":\"f8\",\"bdata\":\"yXKNrV+4O0A=\"},\"sizemode\":\"area\"},\"mode\":\"markers\",\"name\":\"Impactpunten\",\"text\":[\"Peru\"],\"visible\":false,\"type\":\"scattermap\"},{\"colorscale\":[[0.0,\"rgb(255,255,217)\"],[0.125,\"rgb(237,248,177)\"],[0.25,\"rgb(199,233,180)\"],[0.375,\"rgb(127,205,187)\"],[0.5,\"rgb(65,182,196)\"],[0.625,\"rgb(29,145,192)\"],[0.75,\"rgb(34,94,168)\"],[0.875,\"rgb(37,52,148)\"],[1.0,\"rgb(8,29,88)\"]],\"lat\":[\"-1.757\"],\"lon\":[\"134.297\"],\"name\":\"Zeespiegelstijging\",\"radius\":30,\"visible\":false,\"z\":{\"dtype\":\"f8\",\"bdata\":\"kPyTiIg4AUA=\"},\"zmax\":100,\"zmin\":0,\"type\":\"densitymap\"},{\"hoverinfo\":\"text+lat+lon\",\"lat\":[\"-1.757\"],\"lon\":[\"134.297\"],\"marker\":{\"cmax\":6,\"cmin\":0,\"color\":{\"dtype\":\"f8\",\"bdata\":\"lg90IXSqD0A=\"},\"colorscale\":[[0.0,\"rgb(255,245,240)\"],[0.125,\"rgb(254,224,210)\"],[0.25,\"rgb(252,187,161)\"],[0.375,\"rgb(252,146,114)\"],[0.5,\"rgb(251,106,74)\"],[0.625,\"rgb(239,59,44)\"],[0.75,\"rgb(203,24,29)\"],[0.875,\"rgb(165,15,21)\"],[1.0,\"rgb(103,0,13)\"]],\"opacity\":0.6,\"size\":{\"dtype\":\"f8\",\"bdata\":\"vonolIjKM0A=\"},\"sizemode\":\"area\"},\"mode\":\"markers\",\"name\":\"Impactpunten\",\"text\":[\"Indonesia\"],\"visible\":false,\"type\":\"scattermap\"},{\"colorscale\":[[0.0,\"rgb(255,255,217)\"],[0.125,\"rgb(237,248,177)\"],[0.25,\"rgb(199,233,180)\"],[0.375,\"rgb(127,205,187)\"],[0.5,\"rgb(65,182,196)\"],[0.625,\"rgb(29,145,192)\"],[0.75,\"rgb(34,94,168)\"],[0.875,\"rgb(37,52,148)\"],[1.0,\"rgb(8,29,88)\"]],\"lat\":[\"3.295\",\"3.295\",\"3.295\",\"3.295\",\"3.295\",\"3.295\",\"3.295\",\"3.295\",\"3.295\",\"3.295\",\"3.295\",\"3.295\"],\"lon\":[\"95.982\",\"95.982\",\"95.982\",\"95.982\",\"95.982\",\"95.982\",\"95.982\",\"95.982\",\"95.982\",\"95.982\",\"95.982\",\"95.982\"],\"name\":\"Zeespiegelstijging\",\"radius\":30,\"visible\":false,\"z\":{\"dtype\":\"f8\",\"bdata\":\"NsQ+IiJOK0A2xD4iIk4rQDbEPiIiTitANsQ+IiJOK0A2xD4iIk4rQDbEPiIiTitANsQ+IiJOK0A2xD4iIk4rQDbEPiIiTitANsQ+IiJOK0A2xD4iIk4rQDbEPiIiTitA\"},\"zmax\":100,\"zmin\":0,\"type\":\"densitymap\"},{\"hoverinfo\":\"text+lat+lon\",\"lat\":[\"3.295\",\"3.295\",\"3.295\",\"3.295\",\"3.295\",\"3.295\",\"3.295\",\"3.295\",\"3.295\",\"3.295\",\"3.295\",\"3.295\"],\"lon\":[\"95.982\",\"95.982\",\"95.982\",\"95.982\",\"95.982\",\"95.982\",\"95.982\",\"95.982\",\"95.982\",\"95.982\",\"95.982\",\"95.982\"],\"marker\":{\"cmax\":6,\"cmin\":0,\"color\":{\"dtype\":\"f8\",\"bdata\":\"GW6RoxSYGkDP2XIjAQAUQDhDQAW\\u002fyxZAfoWMsAYKGEB1Kp+MSXoYQE6CJeJSsBZAOENABb\\u002fLFkBgHiUdAAAYQDhDQAW\\u002fyxZAqb55sA0WFECg7OBElugRQG\\u002fFUGCLqfA\\u002f\"},\"colorscale\":[[0.0,\"rgb(255,245,240)\"],[0.125,\"rgb(254,224,210)\"],[0.25,\"rgb(252,187,161)\"],[0.375,\"rgb(252,146,114)\"],[0.5,\"rgb(251,106,74)\"],[0.625,\"rgb(239,59,44)\"],[0.75,\"rgb(203,24,29)\"],[0.875,\"rgb(165,15,21)\"],[1.0,\"rgb(103,0,13)\"]],\"opacity\":0.6,\"size\":{\"dtype\":\"f8\",\"bdata\":\"0OQ65gyfQEBDkE9sAQA5QAZUkMaufjxA3qavXIgMPkAS9cbv25g+QOLirppnXDxABlSQxq5+PED4ZW4kAAA+QAZUkMaufjxAUy6YHJEbOUDIJxnWu2I2QMv2ZDju0xRA\"},\"sizemode\":\"area\"},\"mode\":\"markers\",\"name\":\"Impactpunten\",\"text\":[\"Indonesia\",\"Kenya\",\"Bangladesh\",\"India\",\"Sri Lanka\",\"Maldives\",\"Malaysia\",\"Thailand\",\"Myanmar\",\"Somalia\",\"Seychelles\",\"Tanzania, United Republic of\"],\"visible\":false,\"type\":\"scattermap\"},{\"colorscale\":[[0.0,\"rgb(255,255,217)\"],[0.125,\"rgb(237,248,177)\"],[0.25,\"rgb(199,233,180)\"],[0.375,\"rgb(127,205,187)\"],[0.5,\"rgb(65,182,196)\"],[0.625,\"rgb(29,145,192)\"],[0.75,\"rgb(34,94,168)\"],[0.875,\"rgb(37,52,148)\"],[1.0,\"rgb(8,29,88)\"]],\"lat\":[\"-3.595\",\"-9.284\"],\"lon\":[\"127.214\",\"107.419\"],\"name\":\"Zeespiegelstijging\",\"radius\":30,\"visible\":false,\"z\":{\"dtype\":\"f8\",\"bdata\":\"3ADb3d0JI0DcANvd3QkjQA==\"},\"zmax\":100,\"zmin\":0,\"type\":\"densitymap\"},{\"hoverinfo\":\"text+lat+lon\",\"lat\":[\"-3.595\",\"-9.284\"],\"lon\":[\"127.214\",\"107.419\"],\"marker\":{\"cmax\":6,\"cmin\":0,\"color\":{\"dtype\":\"f8\",\"bdata\":\"KFcjTmKkCEBRw\\u002fG0I\\u002fYSQA==\"},\"colorscale\":[[0.0,\"rgb(255,245,240)\"],[0.125,\"rgb(254,224,210)\"],[0.25,\"rgb(252,187,161)\"],[0.375,\"rgb(252,146,114)\"],[0.5,\"rgb(251,106,74)\"],[0.625,\"rgb(239,59,44)\"],[0.75,\"rgb(203,24,29)\"],[0.875,\"rgb(165,15,21)\"],[1.0,\"rgb(103,0,13)\"]],\"opacity\":0.6,\"size\":{\"dtype\":\"f8\",\"bdata\":\"8iys4XrNLkAlNC6irLM3QA==\"},\"sizemode\":\"area\"},\"mode\":\"markers\",\"name\":\"Impactpunten\",\"text\":[\"Indonesia\",\"Indonesia\"],\"visible\":false,\"type\":\"scattermap\"},{\"colorscale\":[[0.0,\"rgb(255,255,217)\"],[0.125,\"rgb(237,248,177)\"],[0.25,\"rgb(199,233,180)\"],[0.375,\"rgb(127,205,187)\"],[0.5,\"rgb(65,182,196)\"],[0.625,\"rgb(29,145,192)\"],[0.75,\"rgb(34,94,168)\"],[0.875,\"rgb(37,52,148)\"],[1.0,\"rgb(8,29,88)\"]],\"lat\":[\"-8.466\",\"-45.243\"],\"lon\":[\"157.043\",\"-72.648\"],\"name\":\"Zeespiegelstijging\",\"radius\":30,\"visible\":false,\"z\":{\"dtype\":\"f8\",\"bdata\":\"MzMzMzPJNkAzMzMzM8k2QA==\"},\"zmax\":100,\"zmin\":0,\"type\":\"densitymap\"},{\"hoverinfo\":\"text+lat+lon\",\"lat\":[\"-8.466\",\"-45.243\"],\"lon\":[\"157.043\",\"-72.648\"],\"marker\":{\"cmax\":6,\"cmin\":0,\"color\":{\"dtype\":\"f8\",\"bdata\":\"YcMpoRgFC0BvxVBgi6nwPw==\"},\"colorscale\":[[0.0,\"rgb(255,245,240)\"],[0.125,\"rgb(254,224,210)\"],[0.25,\"rgb(252,187,161)\"],[0.375,\"rgb(252,146,114)\"],[0.5,\"rgb(251,106,74)\"],[0.625,\"rgb(239,59,44)\"],[0.75,\"rgb(203,24,29)\"],[0.875,\"rgb(165,15,21)\"],[1.0,\"rgb(103,0,13)\"]],\"opacity\":0.6,\"size\":{\"dtype\":\"f8\",\"bdata\":\"HRq6ZC\\u002fjMEDL9mQ47tMUQA==\"},\"sizemode\":\"area\"},\"mode\":\"markers\",\"name\":\"Impactpunten\",\"text\":[\"Solomon Islands\",\"Chile\"],\"visible\":false,\"type\":\"scattermap\"},{\"colorscale\":[[0.0,\"rgb(255,255,217)\"],[0.125,\"rgb(237,248,177)\"],[0.25,\"rgb(199,233,180)\"],[0.375,\"rgb(127,205,187)\"],[0.5,\"rgb(65,182,196)\"],[0.625,\"rgb(29,145,192)\"],[0.75,\"rgb(34,94,168)\"],[0.875,\"rgb(37,52,148)\"],[1.0,\"rgb(8,29,88)\"]],\"lat\":[\"-15.489\",\"34.743\",\"-15.489\",\"-15.489\"],\"lon\":[\"-172.095\",\"138.264\",\"-172.095\",\"-172.095\"],\"name\":\"Zeespiegelstijging\",\"radius\":30,\"visible\":false,\"z\":{\"dtype\":\"f8\",\"bdata\":\"DbGPiIjTQEANsY+IiNNAQA2xj4iI00BADbGPiIjTQEA=\"},\"zmax\":100,\"zmin\":0,\"type\":\"densitymap\"},{\"hoverinfo\":\"text+lat+lon\",\"lat\":[\"-15.489\",\"34.743\",\"-15.489\",\"-15.489\"],\"lon\":[\"-172.095\",\"138.264\",\"-172.095\",\"-172.095\"],\"marker\":{\"cmax\":6,\"cmin\":0,\"color\":{\"dtype\":\"f8\",\"bdata\":\"JJQwO1YvC0Cct\\u002fCygmgWQF\\u002fiYbh40g9A6Uo6ks9fFEA=\"},\"colorscale\":[[0.0,\"rgb(255,245,240)\"],[0.125,\"rgb(254,224,210)\"],[0.25,\"rgb(252,187,161)\"],[0.375,\"rgb(252,146,114)\"],[0.5,\"rgb(251,106,74)\"],[0.625,\"rgb(239,59,44)\"],[0.75,\"rgb(203,24,29)\"],[0.875,\"rgb(165,15,21)\"],[1.0,\"rgb(103,0,13)\"]],\"opacity\":0.6,\"size\":{\"dtype\":\"f8\",\"bdata\":\"llz+5JX9MECD5axfowI8QHstPXOL4zNAo93IdsN3OUA=\"},\"sizemode\":\"area\"},\"mode\":\"markers\",\"name\":\"Impactpunten\",\"text\":[\"American Samoa\",\"Japan\",\"Tonga\",\"Samoa\"],\"visible\":false,\"type\":\"scattermap\"},{\"colorscale\":[[0.0,\"rgb(255,255,217)\"],[0.125,\"rgb(237,248,177)\"],[0.25,\"rgb(199,233,180)\"],[0.375,\"rgb(127,205,187)\"],[0.5,\"rgb(65,182,196)\"],[0.625,\"rgb(29,145,192)\"],[0.75,\"rgb(34,94,168)\"],[0.875,\"rgb(37,52,148)\"],[1.0,\"rgb(8,29,88)\"]],\"lat\":[\"-36.122\",\"-3.487\"],\"lon\":[\"-72.898\",\"100.082\"],\"name\":\"Zeespiegelstijging\",\"radius\":30,\"visible\":false,\"z\":{\"dtype\":\"f8\",\"bdata\":\"ymSCK2rwQEDKZIIravBAQA==\"},\"zmax\":100,\"zmin\":0,\"type\":\"densitymap\"},{\"hoverinfo\":\"text+lat+lon\",\"lat\":[\"-36.122\",\"-3.487\"],\"lon\":[\"-72.898\",\"100.082\"],\"marker\":{\"cmax\":6,\"cmin\":0,\"color\":{\"dtype\":\"f8\",\"bdata\":\"nrFdepLoHUBeqNXXDEwQQA==\"},\"colorscale\":[[0.0,\"rgb(255,245,240)\"],[0.125,\"rgb(254,224,210)\"],[0.25,\"rgb(252,187,161)\"],[0.375,\"rgb(252,146,114)\"],[0.5,\"rgb(251,106,74)\"],[0.625,\"rgb(239,59,44)\"],[0.75,\"rgb(203,24,29)\"],[0.875,\"rgb(165,15,21)\"],[1.0,\"rgb(103,0,13)\"]],\"opacity\":0.6,\"size\":{\"dtype\":\"f8\",\"bdata\":\"A496jFuxQkB2EssNEF80QA==\"},\"sizemode\":\"area\"},\"mode\":\"markers\",\"name\":\"Impactpunten\",\"text\":[\"Chile\",\"Indonesia\"],\"visible\":false,\"type\":\"scattermap\"},{\"colorscale\":[[0.0,\"rgb(255,255,217)\"],[0.125,\"rgb(237,248,177)\"],[0.25,\"rgb(199,233,180)\"],[0.375,\"rgb(127,205,187)\"],[0.5,\"rgb(65,182,196)\"],[0.625,\"rgb(29,145,192)\"],[0.75,\"rgb(34,94,168)\"],[0.875,\"rgb(37,52,148)\"],[1.0,\"rgb(8,29,88)\"]],\"lat\":[\"38.297\",\"38.297\"],\"lon\":[\"142.373\",\"142.373\"],\"name\":\"Zeespiegelstijging\",\"radius\":30,\"visible\":false,\"z\":{\"dtype\":\"f8\",\"bdata\":\"+TB72fZbQkD5MHvZ9ltCQA==\"},\"zmax\":100,\"zmin\":0,\"type\":\"densitymap\"},{\"hoverinfo\":\"text+lat+lon\",\"lat\":[\"38.297\",\"38.297\"],\"lon\":[\"142.373\",\"142.373\"],\"marker\":{\"cmax\":6,\"cmin\":0,\"color\":{\"dtype\":\"f8\",\"bdata\":\"\\u002fk1bCmK3\\u002fz8vz3vt+aQgQA==\"},\"colorscale\":[[0.0,\"rgb(255,245,240)\"],[0.125,\"rgb(254,224,210)\"],[0.25,\"rgb(252,187,161)\"],[0.375,\"rgb(252,146,114)\"],[0.5,\"rgb(251,106,74)\"],[0.625,\"rgb(239,59,44)\"],[0.75,\"rgb(203,24,29)\"],[0.875,\"rgb(165,15,21)\"],[1.0,\"rgb(103,0,13)\"]],\"opacity\":0.6,\"size\":{\"dtype\":\"f8\",\"bdata\":\"vxB5Rp3SI0D7wtpoOM5EQA==\"},\"sizemode\":\"area\"},\"mode\":\"markers\",\"name\":\"Impactpunten\",\"text\":[\"Indonesia\",\"Japan\"],\"visible\":false,\"type\":\"scattermap\"},{\"colorscale\":[[0.0,\"rgb(255,255,217)\"],[0.125,\"rgb(237,248,177)\"],[0.25,\"rgb(199,233,180)\"],[0.375,\"rgb(127,205,187)\"],[0.5,\"rgb(65,182,196)\"],[0.625,\"rgb(29,145,192)\"],[0.75,\"rgb(34,94,168)\"],[0.875,\"rgb(37,52,148)\"],[1.0,\"rgb(8,29,88)\"]],\"lat\":[\"-10.799\"],\"lon\":[\"165.114\"],\"name\":\"Zeespiegelstijging\",\"radius\":30,\"visible\":false,\"z\":{\"dtype\":\"f8\",\"bdata\":\"tIrEJUOrREA=\"},\"zmax\":100,\"zmin\":0,\"type\":\"densitymap\"},{\"hoverinfo\":\"text+lat+lon\",\"lat\":[\"-10.799\"],\"lon\":[\"165.114\"],\"marker\":{\"cmax\":6,\"cmin\":0,\"color\":{\"dtype\":\"f8\",\"bdata\":\"vyUHPvctDEA=\"},\"colorscale\":[[0.0,\"rgb(255,245,240)\"],[0.125,\"rgb(254,224,210)\"],[0.25,\"rgb(252,187,161)\"],[0.375,\"rgb(252,146,114)\"],[0.5,\"rgb(251,106,74)\"],[0.625,\"rgb(239,59,44)\"],[0.75,\"rgb(203,24,29)\"],[0.875,\"rgb(165,15,21)\"],[1.0,\"rgb(103,0,13)\"]],\"opacity\":0.6,\"size\":{\"dtype\":\"f8\",\"bdata\":\"l3fEhrqcMUA=\"},\"sizemode\":\"area\"},\"mode\":\"markers\",\"name\":\"Impactpunten\",\"text\":[\"Solomon Islands\"],\"visible\":false,\"type\":\"scattermap\"},{\"colorscale\":[[0.0,\"rgb(255,255,217)\"],[0.125,\"rgb(237,248,177)\"],[0.25,\"rgb(199,233,180)\"],[0.375,\"rgb(127,205,187)\"],[0.5,\"rgb(65,182,196)\"],[0.625,\"rgb(29,145,192)\"],[0.75,\"rgb(34,94,168)\"],[0.875,\"rgb(37,52,148)\"],[1.0,\"rgb(8,29,88)\"]],\"lat\":[\"-31.5729\"],\"lon\":[\"-71.6744\"],\"name\":\"Zeespiegelstijging\",\"radius\":30,\"visible\":false,\"z\":{\"dtype\":\"f8\",\"bdata\":\"joPgKxk7SUA=\"},\"zmax\":100,\"zmin\":0,\"type\":\"densitymap\"},{\"hoverinfo\":\"text+lat+lon\",\"lat\":[\"-31.5729\"],\"lon\":[\"-71.6744\"],\"marker\":{\"cmax\":6,\"cmin\":0,\"color\":{\"dtype\":\"f8\",\"bdata\":\"jEyMw8OcF0A=\"},\"colorscale\":[[0.0,\"rgb(255,245,240)\"],[0.125,\"rgb(254,224,210)\"],[0.25,\"rgb(252,187,161)\"],[0.375,\"rgb(252,146,114)\"],[0.5,\"rgb(251,106,74)\"],[0.625,\"rgb(239,59,44)\"],[0.75,\"rgb(203,24,29)\"],[0.875,\"rgb(165,15,21)\"],[1.0,\"rgb(103,0,13)\"]],\"opacity\":0.6,\"size\":{\"dtype\":\"f8\",\"bdata\":\"r19vtPSDPUA=\"},\"sizemode\":\"area\"},\"mode\":\"markers\",\"name\":\"Impactpunten\",\"text\":[\"Chile\"],\"visible\":false,\"type\":\"scattermap\"},{\"colorscale\":[[0.0,\"rgb(255,255,217)\"],[0.125,\"rgb(237,248,177)\"],[0.25,\"rgb(199,233,180)\"],[0.375,\"rgb(127,205,187)\"],[0.5,\"rgb(65,182,196)\"],[0.625,\"rgb(29,145,192)\"],[0.75,\"rgb(34,94,168)\"],[0.875,\"rgb(37,52,148)\"],[1.0,\"rgb(8,29,88)\"]],\"lat\":[\"-42.725\"],\"lon\":[\"173.064\"],\"name\":\"Zeespiegelstijging\",\"radius\":30,\"visible\":false,\"z\":{\"dtype\":\"f8\",\"bdata\":\"a8Y3TmksS0A=\"},\"zmax\":100,\"zmin\":0,\"type\":\"densitymap\"},{\"hoverinfo\":\"text+lat+lon\",\"lat\":[\"-42.725\"],\"lon\":[\"173.064\"],\"marker\":{\"cmax\":6,\"cmin\":0,\"color\":{\"dtype\":\"f8\",\"bdata\":\"nR3NEUBdGkA=\"},\"colorscale\":[[0.0,\"rgb(255,245,240)\"],[0.125,\"rgb(254,224,210)\"],[0.25,\"rgb(252,187,161)\"],[0.375,\"rgb(252,146,114)\"],[0.5,\"rgb(251,106,74)\"],[0.625,\"rgb(239,59,44)\"],[0.75,\"rgb(203,24,29)\"],[0.875,\"rgb(165,15,21)\"],[1.0,\"rgb(103,0,13)\"]],\"opacity\":0.6,\"size\":{\"dtype\":\"f8\",\"bdata\":\"gjIgC0h6QEA=\"},\"sizemode\":\"area\"},\"mode\":\"markers\",\"name\":\"Impactpunten\",\"text\":[\"New Zealand\"],\"visible\":false,\"type\":\"scattermap\"},{\"colorscale\":[[0.0,\"rgb(255,255,217)\"],[0.125,\"rgb(237,248,177)\"],[0.25,\"rgb(199,233,180)\"],[0.375,\"rgb(127,205,187)\"],[0.5,\"rgb(65,182,196)\"],[0.625,\"rgb(29,145,192)\"],[0.75,\"rgb(34,94,168)\"],[0.875,\"rgb(37,52,148)\"],[1.0,\"rgb(8,29,88)\"]],\"lat\":[\"-178\"],\"lon\":[\"119.84\"],\"name\":\"Zeespiegelstijging\",\"radius\":30,\"visible\":false,\"z\":{\"dtype\":\"f8\",\"bdata\":\"qCLsRuWKSkA=\"},\"zmax\":100,\"zmin\":0,\"type\":\"densitymap\"},{\"hoverinfo\":\"text+lat+lon\",\"lat\":[\"-178\"],\"lon\":[\"119.84\"],\"marker\":{\"cmax\":6,\"cmin\":0,\"color\":{\"dtype\":\"f8\",\"bdata\":\"DYecQ0E0GUA=\"},\"colorscale\":[[0.0,\"rgb(255,245,240)\"],[0.125,\"rgb(254,224,210)\"],[0.25,\"rgb(252,187,161)\"],[0.375,\"rgb(252,146,114)\"],[0.5,\"rgb(251,106,74)\"],[0.625,\"rgb(239,59,44)\"],[0.75,\"rgb(203,24,29)\"],[0.875,\"rgb(165,15,21)\"],[1.0,\"rgb(103,0,13)\"]],\"opacity\":0.6,\"size\":{\"dtype\":\"f8\",\"bdata\":\"0KiDlFGBP0A=\"},\"sizemode\":\"area\"},\"mode\":\"markers\",\"name\":\"Impactpunten\",\"text\":[\"Indonesia\"],\"visible\":false,\"type\":\"scattermap\"}],                        {\"template\":{\"data\":{\"histogram2dcontour\":[{\"type\":\"histogram2dcontour\",\"colorbar\":{\"outlinewidth\":0,\"ticks\":\"\"},\"colorscale\":[[0.0,\"#0d0887\"],[0.1111111111111111,\"#46039f\"],[0.2222222222222222,\"#7201a8\"],[0.3333333333333333,\"#9c179e\"],[0.4444444444444444,\"#bd3786\"],[0.5555555555555556,\"#d8576b\"],[0.6666666666666666,\"#ed7953\"],[0.7777777777777778,\"#fb9f3a\"],[0.8888888888888888,\"#fdca26\"],[1.0,\"#f0f921\"]]}],\"choropleth\":[{\"type\":\"choropleth\",\"colorbar\":{\"outlinewidth\":0,\"ticks\":\"\"}}],\"histogram2d\":[{\"type\":\"histogram2d\",\"colorbar\":{\"outlinewidth\":0,\"ticks\":\"\"},\"colorscale\":[[0.0,\"#0d0887\"],[0.1111111111111111,\"#46039f\"],[0.2222222222222222,\"#7201a8\"],[0.3333333333333333,\"#9c179e\"],[0.4444444444444444,\"#bd3786\"],[0.5555555555555556,\"#d8576b\"],[0.6666666666666666,\"#ed7953\"],[0.7777777777777778,\"#fb9f3a\"],[0.8888888888888888,\"#fdca26\"],[1.0,\"#f0f921\"]]}],\"heatmap\":[{\"type\":\"heatmap\",\"colorbar\":{\"outlinewidth\":0,\"ticks\":\"\"},\"colorscale\":[[0.0,\"#0d0887\"],[0.1111111111111111,\"#46039f\"],[0.2222222222222222,\"#7201a8\"],[0.3333333333333333,\"#9c179e\"],[0.4444444444444444,\"#bd3786\"],[0.5555555555555556,\"#d8576b\"],[0.6666666666666666,\"#ed7953\"],[0.7777777777777778,\"#fb9f3a\"],[0.8888888888888888,\"#fdca26\"],[1.0,\"#f0f921\"]]}],\"contourcarpet\":[{\"type\":\"contourcarpet\",\"colorbar\":{\"outlinewidth\":0,\"ticks\":\"\"}}],\"contour\":[{\"type\":\"contour\",\"colorbar\":{\"outlinewidth\":0,\"ticks\":\"\"},\"colorscale\":[[0.0,\"#0d0887\"],[0.1111111111111111,\"#46039f\"],[0.2222222222222222,\"#7201a8\"],[0.3333333333333333,\"#9c179e\"],[0.4444444444444444,\"#bd3786\"],[0.5555555555555556,\"#d8576b\"],[0.6666666666666666,\"#ed7953\"],[0.7777777777777778,\"#fb9f3a\"],[0.8888888888888888,\"#fdca26\"],[1.0,\"#f0f921\"]]}],\"surface\":[{\"type\":\"surface\",\"colorbar\":{\"outlinewidth\":0,\"ticks\":\"\"},\"colorscale\":[[0.0,\"#0d0887\"],[0.1111111111111111,\"#46039f\"],[0.2222222222222222,\"#7201a8\"],[0.3333333333333333,\"#9c179e\"],[0.4444444444444444,\"#bd3786\"],[0.5555555555555556,\"#d8576b\"],[0.6666666666666666,\"#ed7953\"],[0.7777777777777778,\"#fb9f3a\"],[0.8888888888888888,\"#fdca26\"],[1.0,\"#f0f921\"]]}],\"mesh3d\":[{\"type\":\"mesh3d\",\"colorbar\":{\"outlinewidth\":0,\"ticks\":\"\"}}],\"scatter\":[{\"fillpattern\":{\"fillmode\":\"overlay\",\"size\":10,\"solidity\":0.2},\"type\":\"scatter\"}],\"parcoords\":[{\"type\":\"parcoords\",\"line\":{\"colorbar\":{\"outlinewidth\":0,\"ticks\":\"\"}}}],\"scatterpolargl\":[{\"type\":\"scatterpolargl\",\"marker\":{\"colorbar\":{\"outlinewidth\":0,\"ticks\":\"\"}}}],\"bar\":[{\"error_x\":{\"color\":\"#2a3f5f\"},\"error_y\":{\"color\":\"#2a3f5f\"},\"marker\":{\"line\":{\"color\":\"#E5ECF6\",\"width\":0.5},\"pattern\":{\"fillmode\":\"overlay\",\"size\":10,\"solidity\":0.2}},\"type\":\"bar\"}],\"scattergeo\":[{\"type\":\"scattergeo\",\"marker\":{\"colorbar\":{\"outlinewidth\":0,\"ticks\":\"\"}}}],\"scatterpolar\":[{\"type\":\"scatterpolar\",\"marker\":{\"colorbar\":{\"outlinewidth\":0,\"ticks\":\"\"}}}],\"histogram\":[{\"marker\":{\"pattern\":{\"fillmode\":\"overlay\",\"size\":10,\"solidity\":0.2}},\"type\":\"histogram\"}],\"scattergl\":[{\"type\":\"scattergl\",\"marker\":{\"colorbar\":{\"outlinewidth\":0,\"ticks\":\"\"}}}],\"scatter3d\":[{\"type\":\"scatter3d\",\"line\":{\"colorbar\":{\"outlinewidth\":0,\"ticks\":\"\"}},\"marker\":{\"colorbar\":{\"outlinewidth\":0,\"ticks\":\"\"}}}],\"scattermap\":[{\"type\":\"scattermap\",\"marker\":{\"colorbar\":{\"outlinewidth\":0,\"ticks\":\"\"}}}],\"scattermapbox\":[{\"type\":\"scattermapbox\",\"marker\":{\"colorbar\":{\"outlinewidth\":0,\"ticks\":\"\"}}}],\"scatterternary\":[{\"type\":\"scatterternary\",\"marker\":{\"colorbar\":{\"outlinewidth\":0,\"ticks\":\"\"}}}],\"scattercarpet\":[{\"type\":\"scattercarpet\",\"marker\":{\"colorbar\":{\"outlinewidth\":0,\"ticks\":\"\"}}}],\"carpet\":[{\"aaxis\":{\"endlinecolor\":\"#2a3f5f\",\"gridcolor\":\"white\",\"linecolor\":\"white\",\"minorgridcolor\":\"white\",\"startlinecolor\":\"#2a3f5f\"},\"baxis\":{\"endlinecolor\":\"#2a3f5f\",\"gridcolor\":\"white\",\"linecolor\":\"white\",\"minorgridcolor\":\"white\",\"startlinecolor\":\"#2a3f5f\"},\"type\":\"carpet\"}],\"table\":[{\"cells\":{\"fill\":{\"color\":\"#EBF0F8\"},\"line\":{\"color\":\"white\"}},\"header\":{\"fill\":{\"color\":\"#C8D4E3\"},\"line\":{\"color\":\"white\"}},\"type\":\"table\"}],\"barpolar\":[{\"marker\":{\"line\":{\"color\":\"#E5ECF6\",\"width\":0.5},\"pattern\":{\"fillmode\":\"overlay\",\"size\":10,\"solidity\":0.2}},\"type\":\"barpolar\"}],\"pie\":[{\"automargin\":true,\"type\":\"pie\"}]},\"layout\":{\"autotypenumbers\":\"strict\",\"colorway\":[\"#636efa\",\"#EF553B\",\"#00cc96\",\"#ab63fa\",\"#FFA15A\",\"#19d3f3\",\"#FF6692\",\"#B6E880\",\"#FF97FF\",\"#FECB52\"],\"font\":{\"color\":\"#2a3f5f\"},\"hovermode\":\"closest\",\"hoverlabel\":{\"align\":\"left\"},\"paper_bgcolor\":\"white\",\"plot_bgcolor\":\"#E5ECF6\",\"polar\":{\"bgcolor\":\"#E5ECF6\",\"angularaxis\":{\"gridcolor\":\"white\",\"linecolor\":\"white\",\"ticks\":\"\"},\"radialaxis\":{\"gridcolor\":\"white\",\"linecolor\":\"white\",\"ticks\":\"\"}},\"ternary\":{\"bgcolor\":\"#E5ECF6\",\"aaxis\":{\"gridcolor\":\"white\",\"linecolor\":\"white\",\"ticks\":\"\"},\"baxis\":{\"gridcolor\":\"white\",\"linecolor\":\"white\",\"ticks\":\"\"},\"caxis\":{\"gridcolor\":\"white\",\"linecolor\":\"white\",\"ticks\":\"\"}},\"coloraxis\":{\"colorbar\":{\"outlinewidth\":0,\"ticks\":\"\"}},\"colorscale\":{\"sequential\":[[0.0,\"#0d0887\"],[0.1111111111111111,\"#46039f\"],[0.2222222222222222,\"#7201a8\"],[0.3333333333333333,\"#9c179e\"],[0.4444444444444444,\"#bd3786\"],[0.5555555555555556,\"#d8576b\"],[0.6666666666666666,\"#ed7953\"],[0.7777777777777778,\"#fb9f3a\"],[0.8888888888888888,\"#fdca26\"],[1.0,\"#f0f921\"]],\"sequentialminus\":[[0.0,\"#0d0887\"],[0.1111111111111111,\"#46039f\"],[0.2222222222222222,\"#7201a8\"],[0.3333333333333333,\"#9c179e\"],[0.4444444444444444,\"#bd3786\"],[0.5555555555555556,\"#d8576b\"],[0.6666666666666666,\"#ed7953\"],[0.7777777777777778,\"#fb9f3a\"],[0.8888888888888888,\"#fdca26\"],[1.0,\"#f0f921\"]],\"diverging\":[[0,\"#8e0152\"],[0.1,\"#c51b7d\"],[0.2,\"#de77ae\"],[0.3,\"#f1b6da\"],[0.4,\"#fde0ef\"],[0.5,\"#f7f7f7\"],[0.6,\"#e6f5d0\"],[0.7,\"#b8e186\"],[0.8,\"#7fbc41\"],[0.9,\"#4d9221\"],[1,\"#276419\"]]},\"xaxis\":{\"gridcolor\":\"white\",\"linecolor\":\"white\",\"ticks\":\"\",\"title\":{\"standoff\":15},\"zerolinecolor\":\"white\",\"automargin\":true,\"zerolinewidth\":2},\"yaxis\":{\"gridcolor\":\"white\",\"linecolor\":\"white\",\"ticks\":\"\",\"title\":{\"standoff\":15},\"zerolinecolor\":\"white\",\"automargin\":true,\"zerolinewidth\":2},\"scene\":{\"xaxis\":{\"backgroundcolor\":\"#E5ECF6\",\"gridcolor\":\"white\",\"linecolor\":\"white\",\"showbackground\":true,\"ticks\":\"\",\"zerolinecolor\":\"white\",\"gridwidth\":2},\"yaxis\":{\"backgroundcolor\":\"#E5ECF6\",\"gridcolor\":\"white\",\"linecolor\":\"white\",\"showbackground\":true,\"ticks\":\"\",\"zerolinecolor\":\"white\",\"gridwidth\":2},\"zaxis\":{\"backgroundcolor\":\"#E5ECF6\",\"gridcolor\":\"white\",\"linecolor\":\"white\",\"showbackground\":true,\"ticks\":\"\",\"zerolinecolor\":\"white\",\"gridwidth\":2}},\"shapedefaults\":{\"line\":{\"color\":\"#2a3f5f\"}},\"annotationdefaults\":{\"arrowcolor\":\"#2a3f5f\",\"arrowhead\":0,\"arrowwidth\":1},\"geo\":{\"bgcolor\":\"white\",\"landcolor\":\"#E5ECF6\",\"subunitcolor\":\"white\",\"showland\":true,\"showlakes\":true,\"lakecolor\":\"white\"},\"title\":{\"x\":0.05},\"mapbox\":{\"style\":\"light\"}}},\"mapbox\":{\"center\":{\"lat\":0,\"lon\":100},\"style\":\"carto-positron\",\"zoom\":1.2},\"title\":{\"text\":\"\\ud83c\\udf0d Density Heatmap (Zeespiegel) & Impactpunten per Jaar\"},\"height\":750,\"showlegend\":false,\"sliders\":[{\"active\":0,\"currentvalue\":{\"prefix\":\"Jaar: \"},\"steps\":[{\"args\":[{\"visible\":[true,true,false,false,false,false,false,false,false,false,false,false,false,false,false,false,false,false,false,false,false,false,false,false,false,false,false,false,false,false,false,false,false,false,false,false,false,false,false,false,false,false,false,false,false,false,false,false,false,false,false,false,false,false,false,false,false,false,false,false,false,false,false,false]}],\"label\":\"1901\",\"method\":\"update\"},{\"args\":[{\"visible\":[false,false,true,true,false,false,false,false,false,false,false,false,false,false,false,false,false,false,false,false,false,false,false,false,false,false,false,false,false,false,false,false,false,false,false,false,false,false,false,false,false,false,false,false,false,false,false,false,false,false,false,false,false,false,false,false,false,false,false,false,false,false,false,false]}],\"label\":\"1905\",\"method\":\"update\"},{\"args\":[{\"visible\":[false,false,false,false,true,true,false,false,false,false,false,false,false,false,false,false,false,false,false,false,false,false,false,false,false,false,false,false,false,false,false,false,false,false,false,false,false,false,false,false,false,false,false,false,false,false,false,false,false,false,false,false,false,false,false,false,false,false,false,false,false,false,false,false]}],\"label\":\"1928\",\"method\":\"update\"},{\"args\":[{\"visible\":[false,false,false,false,false,false,true,true,false,false,false,false,false,false,false,false,false,false,false,false,false,false,false,false,false,false,false,false,false,false,false,false,false,false,false,false,false,false,false,false,false,false,false,false,false,false,false,false,false,false,false,false,false,false,false,false,false,false,false,false,false,false,false,false]}],\"label\":\"1931\",\"method\":\"update\"},{\"args\":[{\"visible\":[false,false,false,false,false,false,false,false,true,true,false,false,false,false,false,false,false,false,false,false,false,false,false,false,false,false,false,false,false,false,false,false,false,false,false,false,false,false,false,false,false,false,false,false,false,false,false,false,false,false,false,false,false,false,false,false,false,false,false,false,false,false,false,false]}],\"label\":\"1933\",\"method\":\"update\"},{\"args\":[{\"visible\":[false,false,false,false,false,false,false,false,false,false,true,true,false,false,false,false,false,false,false,false,false,false,false,false,false,false,false,false,false,false,false,false,false,false,false,false,false,false,false,false,false,false,false,false,false,false,false,false,false,false,false,false,false,false,false,false,false,false,false,false,false,false,false,false]}],\"label\":\"1944\",\"method\":\"update\"},{\"args\":[{\"visible\":[false,false,false,false,false,false,false,false,false,false,false,false,true,true,false,false,false,false,false,false,false,false,false,false,false,false,false,false,false,false,false,false,false,false,false,false,false,false,false,false,false,false,false,false,false,false,false,false,false,false,false,false,false,false,false,false,false,false,false,false,false,false,false,false]}],\"label\":\"1946\",\"method\":\"update\"},{\"args\":[{\"visible\":[false,false,false,false,false,false,false,false,false,false,false,false,false,false,true,true,false,false,false,false,false,false,false,false,false,false,false,false,false,false,false,false,false,false,false,false,false,false,false,false,false,false,false,false,false,false,false,false,false,false,false,false,false,false,false,false,false,false,false,false,false,false,false,false]}],\"label\":\"1952\",\"method\":\"update\"},{\"args\":[{\"visible\":[false,false,false,false,false,false,false,false,false,false,false,false,false,false,false,false,true,true,false,false,false,false,false,false,false,false,false,false,false,false,false,false,false,false,false,false,false,false,false,false,false,false,false,false,false,false,false,false,false,false,false,false,false,false,false,false,false,false,false,false,false,false,false,false]}],\"label\":\"1958\",\"method\":\"update\"},{\"args\":[{\"visible\":[false,false,false,false,false,false,false,false,false,false,false,false,false,false,false,false,false,false,true,true,false,false,false,false,false,false,false,false,false,false,false,false,false,false,false,false,false,false,false,false,false,false,false,false,false,false,false,false,false,false,false,false,false,false,false,false,false,false,false,false,false,false,false,false]}],\"label\":\"1960\",\"method\":\"update\"},{\"args\":[{\"visible\":[false,false,false,false,false,false,false,false,false,false,false,false,false,false,false,false,false,false,false,false,true,true,false,false,false,false,false,false,false,false,false,false,false,false,false,false,false,false,false,false,false,false,false,false,false,false,false,false,false,false,false,false,false,false,false,false,false,false,false,false,false,false,false,false]}],\"label\":\"1964\",\"method\":\"update\"},{\"args\":[{\"visible\":[false,false,false,false,false,false,false,false,false,false,false,false,false,false,false,false,false,false,false,false,false,false,true,true,false,false,false,false,false,false,false,false,false,false,false,false,false,false,false,false,false,false,false,false,false,false,false,false,false,false,false,false,false,false,false,false,false,false,false,false,false,false,false,false]}],\"label\":\"1968\",\"method\":\"update\"},{\"args\":[{\"visible\":[false,false,false,false,false,false,false,false,false,false,false,false,false,false,false,false,false,false,false,false,false,false,false,false,true,true,false,false,false,false,false,false,false,false,false,false,false,false,false,false,false,false,false,false,false,false,false,false,false,false,false,false,false,false,false,false,false,false,false,false,false,false,false,false]}],\"label\":\"1969\",\"method\":\"update\"},{\"args\":[{\"visible\":[false,false,false,false,false,false,false,false,false,false,false,false,false,false,false,false,false,false,false,false,false,false,false,false,false,false,true,true,false,false,false,false,false,false,false,false,false,false,false,false,false,false,false,false,false,false,false,false,false,false,false,false,false,false,false,false,false,false,false,false,false,false,false,false]}],\"label\":\"1975\",\"method\":\"update\"},{\"args\":[{\"visible\":[false,false,false,false,false,false,false,false,false,false,false,false,false,false,false,false,false,false,false,false,false,false,false,false,false,false,false,false,true,true,false,false,false,false,false,false,false,false,false,false,false,false,false,false,false,false,false,false,false,false,false,false,false,false,false,false,false,false,false,false,false,false,false,false]}],\"label\":\"1979\",\"method\":\"update\"},{\"args\":[{\"visible\":[false,false,false,false,false,false,false,false,false,false,false,false,false,false,false,false,false,false,false,false,false,false,false,false,false,false,false,false,false,false,true,true,false,false,false,false,false,false,false,false,false,false,false,false,false,false,false,false,false,false,false,false,false,false,false,false,false,false,false,false,false,false,false,false]}],\"label\":\"1983\",\"method\":\"update\"},{\"args\":[{\"visible\":[false,false,false,false,false,false,false,false,false,false,false,false,false,false,false,false,false,false,false,false,false,false,false,false,false,false,false,false,false,false,false,false,true,true,false,false,false,false,false,false,false,false,false,false,false,false,false,false,false,false,false,false,false,false,false,false,false,false,false,false,false,false,false,false]}],\"label\":\"1993\",\"method\":\"update\"},{\"args\":[{\"visible\":[false,false,false,false,false,false,false,false,false,false,false,false,false,false,false,false,false,false,false,false,false,false,false,false,false,false,false,false,false,false,false,false,false,false,true,true,false,false,false,false,false,false,false,false,false,false,false,false,false,false,false,false,false,false,false,false,false,false,false,false,false,false,false,false]}],\"label\":\"1996\",\"method\":\"update\"},{\"args\":[{\"visible\":[false,false,false,false,false,false,false,false,false,false,false,false,false,false,false,false,false,false,false,false,false,false,false,false,false,false,false,false,false,false,false,false,false,false,false,false,true,true,false,false,false,false,false,false,false,false,false,false,false,false,false,false,false,false,false,false,false,false,false,false,false,false,false,false]}],\"label\":\"1997\",\"method\":\"update\"},{\"args\":[{\"visible\":[false,false,false,false,false,false,false,false,false,false,false,false,false,false,false,false,false,false,false,false,false,false,false,false,false,false,false,false,false,false,false,false,false,false,false,false,false,false,true,true,false,false,false,false,false,false,false,false,false,false,false,false,false,false,false,false,false,false,false,false,false,false,false,false]}],\"label\":\"1998\",\"method\":\"update\"},{\"args\":[{\"visible\":[false,false,false,false,false,false,false,false,false,false,false,false,false,false,false,false,false,false,false,false,false,false,false,false,false,false,false,false,false,false,false,false,false,false,false,false,false,false,false,false,true,true,false,false,false,false,false,false,false,false,false,false,false,false,false,false,false,false,false,false,false,false,false,false]}],\"label\":\"2001\",\"method\":\"update\"},{\"args\":[{\"visible\":[false,false,false,false,false,false,false,false,false,false,false,false,false,false,false,false,false,false,false,false,false,false,false,false,false,false,false,false,false,false,false,false,false,false,false,false,false,false,false,false,false,false,true,true,false,false,false,false,false,false,false,false,false,false,false,false,false,false,false,false,false,false,false,false]}],\"label\":\"2002\",\"method\":\"update\"},{\"args\":[{\"visible\":[false,false,false,false,false,false,false,false,false,false,false,false,false,false,false,false,false,false,false,false,false,false,false,false,false,false,false,false,false,false,false,false,false,false,false,false,false,false,false,false,false,false,false,false,true,true,false,false,false,false,false,false,false,false,false,false,false,false,false,false,false,false,false,false]}],\"label\":\"2004\",\"method\":\"update\"},{\"args\":[{\"visible\":[false,false,false,false,false,false,false,false,false,false,false,false,false,false,false,false,false,false,false,false,false,false,false,false,false,false,false,false,false,false,false,false,false,false,false,false,false,false,false,false,false,false,false,false,false,false,true,true,false,false,false,false,false,false,false,false,false,false,false,false,false,false,false,false]}],\"label\":\"2006\",\"method\":\"update\"},{\"args\":[{\"visible\":[false,false,false,false,false,false,false,false,false,false,false,false,false,false,false,false,false,false,false,false,false,false,false,false,false,false,false,false,false,false,false,false,false,false,false,false,false,false,false,false,false,false,false,false,false,false,false,false,true,true,false,false,false,false,false,false,false,false,false,false,false,false,false,false]}],\"label\":\"2007\",\"method\":\"update\"},{\"args\":[{\"visible\":[false,false,false,false,false,false,false,false,false,false,false,false,false,false,false,false,false,false,false,false,false,false,false,false,false,false,false,false,false,false,false,false,false,false,false,false,false,false,false,false,false,false,false,false,false,false,false,false,false,false,true,true,false,false,false,false,false,false,false,false,false,false,false,false]}],\"label\":\"2009\",\"method\":\"update\"},{\"args\":[{\"visible\":[false,false,false,false,false,false,false,false,false,false,false,false,false,false,false,false,false,false,false,false,false,false,false,false,false,false,false,false,false,false,false,false,false,false,false,false,false,false,false,false,false,false,false,false,false,false,false,false,false,false,false,false,true,true,false,false,false,false,false,false,false,false,false,false]}],\"label\":\"2010\",\"method\":\"update\"},{\"args\":[{\"visible\":[false,false,false,false,false,false,false,false,false,false,false,false,false,false,false,false,false,false,false,false,false,false,false,false,false,false,false,false,false,false,false,false,false,false,false,false,false,false,false,false,false,false,false,false,false,false,false,false,false,false,false,false,false,false,true,true,false,false,false,false,false,false,false,false]}],\"label\":\"2011\",\"method\":\"update\"},{\"args\":[{\"visible\":[false,false,false,false,false,false,false,false,false,false,false,false,false,false,false,false,false,false,false,false,false,false,false,false,false,false,false,false,false,false,false,false,false,false,false,false,false,false,false,false,false,false,false,false,false,false,false,false,false,false,false,false,false,false,false,false,true,true,false,false,false,false,false,false]}],\"label\":\"2013\",\"method\":\"update\"},{\"args\":[{\"visible\":[false,false,false,false,false,false,false,false,false,false,false,false,false,false,false,false,false,false,false,false,false,false,false,false,false,false,false,false,false,false,false,false,false,false,false,false,false,false,false,false,false,false,false,false,false,false,false,false,false,false,false,false,false,false,false,false,false,false,true,true,false,false,false,false]}],\"label\":\"2015\",\"method\":\"update\"},{\"args\":[{\"visible\":[false,false,false,false,false,false,false,false,false,false,false,false,false,false,false,false,false,false,false,false,false,false,false,false,false,false,false,false,false,false,false,false,false,false,false,false,false,false,false,false,false,false,false,false,false,false,false,false,false,false,false,false,false,false,false,false,false,false,false,false,true,true,false,false]}],\"label\":\"2016\",\"method\":\"update\"},{\"args\":[{\"visible\":[false,false,false,false,false,false,false,false,false,false,false,false,false,false,false,false,false,false,false,false,false,false,false,false,false,false,false,false,false,false,false,false,false,false,false,false,false,false,false,false,false,false,false,false,false,false,false,false,false,false,false,false,false,false,false,false,false,false,false,false,false,false,true,true]}],\"label\":\"2018\",\"method\":\"update\"}]}]},                        {\"responsive\": true}                    ).then(function(){\n",
       "                            \n",
       "var gd = document.getElementById('69c16da4-25ba-4566-b4d6-1c93e9f06ebe');\n",
       "var x = new MutationObserver(function (mutations, observer) {{\n",
       "        var display = window.getComputedStyle(gd).display;\n",
       "        if (!display || display === 'none') {{\n",
       "            console.log([gd, 'removed!']);\n",
       "            Plotly.purge(gd);\n",
       "            observer.disconnect();\n",
       "        }}\n",
       "}});\n",
       "\n",
       "// Listen for the removal of the full notebook cells\n",
       "var notebookContainer = gd.closest('#notebook-container');\n",
       "if (notebookContainer) {{\n",
       "    x.observe(notebookContainer, {childList: true});\n",
       "}}\n",
       "\n",
       "// Listen for the clearing of the current output cell\n",
       "var outputEl = gd.closest('.output');\n",
       "if (outputEl) {{\n",
       "    x.observe(outputEl, {childList: true});\n",
       "}}\n",
       "\n",
       "                        })                };            </script>        </div>"
      ]
     },
     "metadata": {},
     "output_type": "display_data"
    },
    {
     "name": "stdout",
     "output_type": "stream",
     "text": [
      "Deze interactieve kaart combineert een density heatmap van zeespiegelstijging per jaar met informatie over tsunami’s en overstromingen wereldwijd. De intensiteit van de kleuren geeft aan waar en wanneer de zeespiegel relatief het meest steeg. Door de jaartimelijn kun je zien hoe deze zich ontwikkelde door de tijd heen, in combinatie met rampdata per locatie.\n"
     ]
    }
   ],
   "source": [
    "import pandas as pd #tektonische platen! geef zo de aardbeving zones aan. \n",
    "import numpy as np\n",
    "import plotly.graph_objects as go\n",
    "from plotly.subplots import make_subplots\n",
    "\n",
    "sea_df = pd.read_csv('Global_sea_level_rise.csv')\n",
    "dist_df = pd.read_csv('1900_2021_DISASTERS.xlsx - emdat data.csv')\n",
    "df = dist_df[dist_df['Disaster Subtype'].str.lower().isin(['tsunami', 'flood'])].copy()\n",
    "df['Total Deaths'] = pd.to_numeric(df['Total Deaths'], errors='coerce').fillna(0)\n",
    "df[\"Total Damages ('000 US$)\"] = pd.to_numeric(df[\"Total Damages ('000 US$)\"], errors='coerce').fillna(0)\n",
    "df[\"Total Affected\"] = pd.to_numeric(df[\"Total Affected\"], errors='coerce').fillna(0)\n",
    "\n",
    "df['Impact_Score'] = df[['Total Deaths', 'Total Affected', \"Total Damages ('000 US$)\"]].max(axis=1)\n",
    "df['Impact_Score_Log'] = df['Impact_Score'].apply(lambda x: np.log10(x + 1))\n",
    "\n",
    "df = df.dropna(subset=['Latitude', 'Longitude', 'Year'])\n",
    "\n",
    "sea_df.rename(columns={'year': 'Year'}, inplace=True)\n",
    "merged = pd.merge(df, sea_df[['Year', 'mmfrom1993-2008average']], on='Year', how='left')\n",
    "\n",
    "years = sorted(merged['Year'].dropna().unique())\n",
    "\n",
    "fig = go.Figure()\n",
    "\n",
    "for year in years:\n",
    "    subset = merged[merged['Year'] == year]\n",
    "    \n",
    "    fig.add_trace(go.Densitymap(\n",
    "        lat=subset['Latitude'],\n",
    "        lon=subset['Longitude'],\n",
    "        z=subset['mmfrom1993-2008average'],\n",
    "        radius=30,\n",
    "        visible=(year == years[0]),\n",
    "        colorscale='YlGnBu',\n",
    "        name='Zeespiegelstijging',\n",
    "        zmin=0,\n",
    "        zmax=100\n",
    "    ))\n",
    "\n",
    "    fig.add_trace(go.Scattermap(\n",
    "        lat=subset['Latitude'],\n",
    "        lon=subset['Longitude'],\n",
    "        mode='markers',\n",
    "        marker=go.scattermap.Marker(\n",
    "            size=subset['Impact_Score_Log'] * 5,\n",
    "            color=subset['Impact_Score_Log'],\n",
    "            colorscale='Reds',\n",
    "            sizemode='area',\n",
    "            opacity=0.6,\n",
    "            cmin=0,\n",
    "            cmax=6\n",
    "        ),\n",
    "        text=subset['Country'],\n",
    "        hoverinfo='text+lat+lon',\n",
    "        name='Impactpunten',\n",
    "        visible=(year == years[0])\n",
    "    ))\n",
    "\n",
    "fig.update_layout(\n",
    "    mapbox_style=\"carto-positron\",\n",
    "    mapbox=dict(\n",
    "        center=dict(lat=0, lon=100),\n",
    "        zoom=1.2\n",
    "    ),\n",
    "    title=\"🌍 Density Heatmap (Zeespiegel) & Impactpunten per Jaar\",\n",
    "    height=750,\n",
    "    showlegend=False\n",
    ")\n",
    "\n",
    "steps = []\n",
    "for i, year in enumerate(years):\n",
    "    step = dict(\n",
    "        method=\"update\",\n",
    "        args=[{\"visible\": [False] * len(fig.data)}],\n",
    "        label=str(year)\n",
    "    )\n",
    "    step[\"args\"][0][\"visible\"][2*i] = True\n",
    "    step[\"args\"][0][\"visible\"][2*i+1] = True\n",
    "    steps.append(step)\n",
    "\n",
    "fig.update_layout(\n",
    "    sliders=[dict(\n",
    "        active=0,\n",
    "        currentvalue={\"prefix\": \"Jaar: \"},\n",
    "        steps=steps\n",
    "    )]\n",
    ")\n",
    "\n",
    "fig.show()\n",
    "print(\"Deze interactieve kaart combineert een density heatmap van zeespiegelstijging per jaar met informatie over tsunami’s en overstromingen wereldwijd. De intensiteit van de kleuren geeft aan waar en wanneer de zeespiegel relatief het meest steeg. Door de jaartimelijn kun je zien hoe deze zich ontwikkelde door de tijd heen, in combinatie met rampdata per locatie.\")"
   ]
  },
  {
   "cell_type": "code",
   "execution_count": null,
   "id": "b725d9f3-a965-4b70-8b8c-bb906312d48c",
   "metadata": {},
   "outputs": [],
   "source": []
  },
  {
   "cell_type": "code",
   "execution_count": null,
   "id": "65c78bda-5774-4777-95d2-2ab9754c9f2e",
   "metadata": {},
   "outputs": [],
   "source": []
  },
  {
   "cell_type": "code",
   "execution_count": null,
   "id": "f7b94dab-7874-4716-a324-a756efac68e3",
   "metadata": {},
   "outputs": [],
   "source": []
  },
  {
   "cell_type": "code",
   "execution_count": null,
   "id": "e6777dbc-0431-43bb-90b0-286acd90d329",
   "metadata": {},
   "outputs": [],
   "source": []
  },
  {
   "cell_type": "code",
   "execution_count": null,
   "id": "a4407857-6f56-4b56-bc06-49076c716db0",
   "metadata": {},
   "outputs": [],
   "source": []
  }
 ],
 "metadata": {
  "kernelspec": {
   "display_name": "Python 3 (ipykernel)",
   "language": "python",
   "name": "python3"
  },
  "language_info": {
   "codemirror_mode": {
    "name": "ipython",
    "version": 3
   },
   "file_extension": ".py",
   "mimetype": "text/x-python",
   "name": "python",
   "nbconvert_exporter": "python",
   "pygments_lexer": "ipython3",
   "version": "3.10.16"
  }
 },
 "nbformat": 4,
 "nbformat_minor": 5
}