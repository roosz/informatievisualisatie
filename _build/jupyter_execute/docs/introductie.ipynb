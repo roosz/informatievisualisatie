{
 "cells": [
  {
   "cell_type": "markdown",
   "metadata": {},
   "source": [
    "# Zeespiegelstijging en tsunami’s; een groeiend gevaar."
   ]
  },
  {
   "cell_type": "markdown",
   "metadata": {},
   "source": [
    "Tsunami's zijn indrukwekkende en verwoestende natuurverschijnselen die in een paar minuten hele kustgebieden kunnen veranderen in rampgebieden. Ze onstaan meestal diep onder de oceaanbodem door krachtige aardbevingen of trillingen. De verwoestende kracht van tsunami's heeft in het verleden al geleid tot grote natuurrampen, zoals in Japan (2011) en Indonesië (2004). <br>\n",
    "Tegelijkertijd staat onze planeet voor een ander groot probleem: de zeespiegel stijgt als gevolg van klimaatverandering. Smeltende ijskappen en opwarmende oceanen zorgen ervoor dat het waterniveau wereldwijd toeneemt. Maar wat betekent dit voor de dreiging van tsunami's? Worden ze hierdoor gevaarlijker, of heeft de zeespiegel hier juist weinig invloed op? <br>\n",
    "In deze data story wordt er onderzoekt hoe de stijgende zeespiegel mogelijk invloed heeft op de impact van tsnuami's. Aan de hand van gegevens over historische tsunami's, en gemeten gevolgen hiervan, en zeespiegelmetingen worden er twee perspectieven bekeken:\n",
    "1. De stijgende zeespiegel versterkt de gevolgen van toekomstige tsunami's, vooral in laaggelegen kustgebieden.\n",
    "2. De impact van tsunami's wordt vooral bepaald door geologische factoren zoals aardbevingskracht en locatie, en niet zozeer door de zeespiegel. <br>\n",
    "\n",
    "Door deze invalshoeken te combineren met data-analse wordt er geprobeerd om te begrijpen hoe groot het risico van tsunami's wordt in de toekomst, en of we ons zorgen moeten maken over een nieuwe, klimaatgedreven dreiging.\n"
   ]
  },
  {
   "cell_type": "markdown",
   "metadata": {},
   "source": [
    "### Auteurs"
   ]
  },
  {
   "cell_type": "markdown",
   "metadata": {},
   "source": [
    "* Roos Brouwer (15799972)\n",
    "* Nina Dobbelaar (15823938)\n",
    "* Gudur Geetan (14641488)\n",
    "* Lindy Hageman (15857670)"
   ]
  }
 ],
 "metadata": {
  "kernelspec": {
   "display_name": "Python 3 (ipykernel)",
   "language": "python",
   "name": "python3"
  },
  "language_info": {
   "codemirror_mode": {
    "name": "ipython",
    "version": 3
   },
   "file_extension": ".py",
   "mimetype": "text/x-python",
   "name": "python",
   "nbconvert_exporter": "python",
   "pygments_lexer": "ipython3",
   "version": "3.10.16"
  },
  "widgets": {
   "application/vnd.jupyter.widget-state+json": {
    "state": {},
    "version_major": 2,
    "version_minor": 0
   }
  }
 },
 "nbformat": 4,
 "nbformat_minor": 4
}