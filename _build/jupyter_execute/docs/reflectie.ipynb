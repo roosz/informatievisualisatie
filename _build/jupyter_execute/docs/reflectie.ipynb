{
 "cells": [
  {
   "cell_type": "markdown",
   "id": "4d7961ca-a28b-4175-858d-1e359dd4c341",
   "metadata": {},
   "source": [
    "# Reflectie\n",
    "## Peer reflectie\n",
    "Op 24 juni 2025 kwam ons team, E4, samen met groep F4 bijeen voor een peer feedbacksessie. Tijdens deze sessie kreeg telkens één groep de kans om een pitch te geven over het werk dat de afgelopen weken is verricht. Aansluitend gaven de twee andere groepen feedback over de sterke punten van het gepresenteerde werk en benoemden zij ook verbeterpunten.<br> <br>\n",
    "Hieronder volgt een overzicht van de feedback die wij ontvingen van groep F1 en de begeleidende TAs: <br>\n",
    "- Perspectief 2 verder uitwerken, nog te beperkt.\n",
    "- Overwegen om minder op de zeespiegel in te gaan, en het argument sterker maken.\n",
    "- Kaart maken van tektonische platen om aardbevingen/trillingen te laten zien.\n",
    "- Twee of drie extra plots maken\n",
    "- Een geheel verhaal maken van alles\n",
    "\n",
    "Na de feedback zijn we meteen aan de slag gegaan met het implementeren van de feedback. We hebben vervolgens in het werkcollege op 26 juni nog de laatste dingen laten controleren door onze TA, en de laatste details aangepast.\n",
    "\n",
    "## Zelf-reflectie\n",
    "…\n"
   ]
  },
  {
   "cell_type": "code",
   "execution_count": null,
   "id": "b2ef6ced-5483-408e-91a3-77bae991e08f",
   "metadata": {},
   "outputs": [],
   "source": []
  }
 ],
 "metadata": {
  "kernelspec": {
   "display_name": "Python 3 (ipykernel)",
   "language": "python",
   "name": "python3"
  },
  "language_info": {
   "codemirror_mode": {
    "name": "ipython",
    "version": 3
   },
   "file_extension": ".py",
   "mimetype": "text/x-python",
   "name": "python",
   "nbconvert_exporter": "python",
   "pygments_lexer": "ipython3",
   "version": "3.10.16"
  }
 },
 "nbformat": 4,
 "nbformat_minor": 5
}