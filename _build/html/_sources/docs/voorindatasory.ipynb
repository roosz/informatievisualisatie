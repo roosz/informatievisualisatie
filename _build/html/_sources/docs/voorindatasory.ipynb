{
 "cells": [
  {
   "cell_type": "markdown",
   "id": "c106c6d7-7830-4642-bf8f-d6edcbbb6542",
   "metadata": {},
   "source": [
    "# Datastory titel\n",
    "\n",
    "introductie. "
   ]
  },
  {
   "cell_type": "markdown",
   "id": "56096713-cd05-4e8b-9b72-b21b2df9ce74",
   "metadata": {},
   "source": [
    "## kopje argument 1\n",
    "\n",
    "tekst die erbij hoort: introductie tot het argument ect."
   ]
  },
  {
   "cell_type": "code",
   "execution_count": 5,
   "id": "fe960b1a-b570-426a-9261-c78ac9df63a5",
   "metadata": {
    "editable": true,
    "jupyter": {
     "source_hidden": true
    },
    "slideshow": {
     "slide_type": ""
    },
    "tags": [
     "hide-input"
    ]
   },
   "outputs": [
    {
     "data": {
      "text/html": [
       "        <script type=\"text/javascript\">\n",
       "        window.PlotlyConfig = {MathJaxConfig: 'local'};\n",
       "        if (window.MathJax && window.MathJax.Hub && window.MathJax.Hub.Config) {window.MathJax.Hub.Config({SVG: {font: \"STIX-Web\"}});}\n",
       "        </script>\n",
       "        <script type=\"module\">import \"https://cdn.plot.ly/plotly-3.0.1.min\"</script>\n",
       "        "
      ]
     },
     "metadata": {},
     "output_type": "display_data"
    },
    {
     "data": {
      "application/vnd.plotly.v1+json": {
       "config": {
        "plotlyServerURL": "https://plot.ly"
       },
       "data": [
        {
         "hovertemplate": "Jaar: %{x}<br>Gem. Impact Score: %{y}<extra></extra>",
         "marker": {
          "color": "steelblue"
         },
         "name": "Gem. Impact Score",
         "type": "bar",
         "x": {
          "bdata": "bQdxB4gHiweNB5gHmgemB6gHrAewB7EHtwe7B78HyQfMB84H0QfSB9QH1gfXB9kH2gfbB90H3wfgB+IH",
          "dtype": "i2"
         },
         "y": {
          "bdata": "AAAAAAAAOEAAAAAAAIBEQAAAAAAAYFNAAAAAAAAASUAAAAAAAHCnQAAAAADQq/NAAAAAAABq2EAAAAAAAMBbQAAAAAA4kD5BAAAAANjzIEEAAAAAAABpQAAAAAAAhLlAAAAAAAAAaUAAAAAAADBxQAAAAAAAZBlBAAAAAICELkEAAAAAAICHQAAAAACARcNAAAAAAGhcFUEAAAAAAL3BQAAAAIDfaylBAAAAAEBx20AAAAAAALSSQAAAAADQWwBBAAAAgB2fbEEAAAC+sQiZQQAAAAAAAqpAAAAAAABqKEEAAAAAMMFNQQAAAACAhD5B",
          "dtype": "f8"
         },
         "yaxis": "y"
        },
        {
         "hovertemplate": "Jaar: %{x}<br>Zeespiegelafwijking: %{y} mm<extra></extra>",
         "line": {
          "color": "orange",
          "width": 2
         },
         "mode": "lines+markers",
         "name": "Zeespiegelafwijking (mm)",
         "type": "scatter",
         "x": {
          "bdata": "bQdxB4gHiweNB5gHmgemB6gHrAewB7EHtwe7B78HyQfMB84H0QfSB9QH1gfXB9kH2gfbB90H3wfgB+IH",
          "dtype": "i2"
         },
         "y": {
          "bdata": "AAAAAAAAAAAAvpcMEREBQOhVjKmqqjtAzMzMzMzMPUAmXvmHiEhCQM7MzMzMzENAODGg7u7uT0DwvWSIiOhUQNBLg6qqalZAaeUcRERkVUBWJMvu7u5UQCPxl7u7e1dAdpaszMysW0BWJMvu7m5bQBvZdIiIyGBAG9l0iIi4YEAIGCMzMxNiQCuSZXd3N2JAbHV2iIgoZEDqrlRmZtZjQDtLVmZmRmVABg8QIiLCZEBexZiqqmpmQDtLVmZmxmdAKvgSz57NZ0A2K5H6gShoQKWBow1VvGhA3H8qj0rgaUCTUMCXnlxqQKJn7ZU9NGpA",
          "dtype": "f8"
         },
         "yaxis": "y2"
        }
       ],
       "layout": {
        "height": 600,
        "legend": {
         "x": 0.01,
         "y": 0.99
        },
        "plot_bgcolor": "white",
        "template": {
         "data": {
          "bar": [
           {
            "error_x": {
             "color": "#2a3f5f"
            },
            "error_y": {
             "color": "#2a3f5f"
            },
            "marker": {
             "line": {
              "color": "#E5ECF6",
              "width": 0.5
             },
             "pattern": {
              "fillmode": "overlay",
              "size": 10,
              "solidity": 0.2
             }
            },
            "type": "bar"
           }
          ],
          "barpolar": [
           {
            "marker": {
             "line": {
              "color": "#E5ECF6",
              "width": 0.5
             },
             "pattern": {
              "fillmode": "overlay",
              "size": 10,
              "solidity": 0.2
             }
            },
            "type": "barpolar"
           }
          ],
          "carpet": [
           {
            "aaxis": {
             "endlinecolor": "#2a3f5f",
             "gridcolor": "white",
             "linecolor": "white",
             "minorgridcolor": "white",
             "startlinecolor": "#2a3f5f"
            },
            "baxis": {
             "endlinecolor": "#2a3f5f",
             "gridcolor": "white",
             "linecolor": "white",
             "minorgridcolor": "white",
             "startlinecolor": "#2a3f5f"
            },
            "type": "carpet"
           }
          ],
          "choropleth": [
           {
            "colorbar": {
             "outlinewidth": 0,
             "ticks": ""
            },
            "type": "choropleth"
           }
          ],
          "contour": [
           {
            "colorbar": {
             "outlinewidth": 0,
             "ticks": ""
            },
            "colorscale": [
             [
              0,
              "#0d0887"
             ],
             [
              0.1111111111111111,
              "#46039f"
             ],
             [
              0.2222222222222222,
              "#7201a8"
             ],
             [
              0.3333333333333333,
              "#9c179e"
             ],
             [
              0.4444444444444444,
              "#bd3786"
             ],
             [
              0.5555555555555556,
              "#d8576b"
             ],
             [
              0.6666666666666666,
              "#ed7953"
             ],
             [
              0.7777777777777778,
              "#fb9f3a"
             ],
             [
              0.8888888888888888,
              "#fdca26"
             ],
             [
              1,
              "#f0f921"
             ]
            ],
            "type": "contour"
           }
          ],
          "contourcarpet": [
           {
            "colorbar": {
             "outlinewidth": 0,
             "ticks": ""
            },
            "type": "contourcarpet"
           }
          ],
          "heatmap": [
           {
            "colorbar": {
             "outlinewidth": 0,
             "ticks": ""
            },
            "colorscale": [
             [
              0,
              "#0d0887"
             ],
             [
              0.1111111111111111,
              "#46039f"
             ],
             [
              0.2222222222222222,
              "#7201a8"
             ],
             [
              0.3333333333333333,
              "#9c179e"
             ],
             [
              0.4444444444444444,
              "#bd3786"
             ],
             [
              0.5555555555555556,
              "#d8576b"
             ],
             [
              0.6666666666666666,
              "#ed7953"
             ],
             [
              0.7777777777777778,
              "#fb9f3a"
             ],
             [
              0.8888888888888888,
              "#fdca26"
             ],
             [
              1,
              "#f0f921"
             ]
            ],
            "type": "heatmap"
           }
          ],
          "histogram": [
           {
            "marker": {
             "pattern": {
              "fillmode": "overlay",
              "size": 10,
              "solidity": 0.2
             }
            },
            "type": "histogram"
           }
          ],
          "histogram2d": [
           {
            "colorbar": {
             "outlinewidth": 0,
             "ticks": ""
            },
            "colorscale": [
             [
              0,
              "#0d0887"
             ],
             [
              0.1111111111111111,
              "#46039f"
             ],
             [
              0.2222222222222222,
              "#7201a8"
             ],
             [
              0.3333333333333333,
              "#9c179e"
             ],
             [
              0.4444444444444444,
              "#bd3786"
             ],
             [
              0.5555555555555556,
              "#d8576b"
             ],
             [
              0.6666666666666666,
              "#ed7953"
             ],
             [
              0.7777777777777778,
              "#fb9f3a"
             ],
             [
              0.8888888888888888,
              "#fdca26"
             ],
             [
              1,
              "#f0f921"
             ]
            ],
            "type": "histogram2d"
           }
          ],
          "histogram2dcontour": [
           {
            "colorbar": {
             "outlinewidth": 0,
             "ticks": ""
            },
            "colorscale": [
             [
              0,
              "#0d0887"
             ],
             [
              0.1111111111111111,
              "#46039f"
             ],
             [
              0.2222222222222222,
              "#7201a8"
             ],
             [
              0.3333333333333333,
              "#9c179e"
             ],
             [
              0.4444444444444444,
              "#bd3786"
             ],
             [
              0.5555555555555556,
              "#d8576b"
             ],
             [
              0.6666666666666666,
              "#ed7953"
             ],
             [
              0.7777777777777778,
              "#fb9f3a"
             ],
             [
              0.8888888888888888,
              "#fdca26"
             ],
             [
              1,
              "#f0f921"
             ]
            ],
            "type": "histogram2dcontour"
           }
          ],
          "mesh3d": [
           {
            "colorbar": {
             "outlinewidth": 0,
             "ticks": ""
            },
            "type": "mesh3d"
           }
          ],
          "parcoords": [
           {
            "line": {
             "colorbar": {
              "outlinewidth": 0,
              "ticks": ""
             }
            },
            "type": "parcoords"
           }
          ],
          "pie": [
           {
            "automargin": true,
            "type": "pie"
           }
          ],
          "scatter": [
           {
            "fillpattern": {
             "fillmode": "overlay",
             "size": 10,
             "solidity": 0.2
            },
            "type": "scatter"
           }
          ],
          "scatter3d": [
           {
            "line": {
             "colorbar": {
              "outlinewidth": 0,
              "ticks": ""
             }
            },
            "marker": {
             "colorbar": {
              "outlinewidth": 0,
              "ticks": ""
             }
            },
            "type": "scatter3d"
           }
          ],
          "scattercarpet": [
           {
            "marker": {
             "colorbar": {
              "outlinewidth": 0,
              "ticks": ""
             }
            },
            "type": "scattercarpet"
           }
          ],
          "scattergeo": [
           {
            "marker": {
             "colorbar": {
              "outlinewidth": 0,
              "ticks": ""
             }
            },
            "type": "scattergeo"
           }
          ],
          "scattergl": [
           {
            "marker": {
             "colorbar": {
              "outlinewidth": 0,
              "ticks": ""
             }
            },
            "type": "scattergl"
           }
          ],
          "scattermap": [
           {
            "marker": {
             "colorbar": {
              "outlinewidth": 0,
              "ticks": ""
             }
            },
            "type": "scattermap"
           }
          ],
          "scattermapbox": [
           {
            "marker": {
             "colorbar": {
              "outlinewidth": 0,
              "ticks": ""
             }
            },
            "type": "scattermapbox"
           }
          ],
          "scatterpolar": [
           {
            "marker": {
             "colorbar": {
              "outlinewidth": 0,
              "ticks": ""
             }
            },
            "type": "scatterpolar"
           }
          ],
          "scatterpolargl": [
           {
            "marker": {
             "colorbar": {
              "outlinewidth": 0,
              "ticks": ""
             }
            },
            "type": "scatterpolargl"
           }
          ],
          "scatterternary": [
           {
            "marker": {
             "colorbar": {
              "outlinewidth": 0,
              "ticks": ""
             }
            },
            "type": "scatterternary"
           }
          ],
          "surface": [
           {
            "colorbar": {
             "outlinewidth": 0,
             "ticks": ""
            },
            "colorscale": [
             [
              0,
              "#0d0887"
             ],
             [
              0.1111111111111111,
              "#46039f"
             ],
             [
              0.2222222222222222,
              "#7201a8"
             ],
             [
              0.3333333333333333,
              "#9c179e"
             ],
             [
              0.4444444444444444,
              "#bd3786"
             ],
             [
              0.5555555555555556,
              "#d8576b"
             ],
             [
              0.6666666666666666,
              "#ed7953"
             ],
             [
              0.7777777777777778,
              "#fb9f3a"
             ],
             [
              0.8888888888888888,
              "#fdca26"
             ],
             [
              1,
              "#f0f921"
             ]
            ],
            "type": "surface"
           }
          ],
          "table": [
           {
            "cells": {
             "fill": {
              "color": "#EBF0F8"
             },
             "line": {
              "color": "white"
             }
            },
            "header": {
             "fill": {
              "color": "#C8D4E3"
             },
             "line": {
              "color": "white"
             }
            },
            "type": "table"
           }
          ]
         },
         "layout": {
          "annotationdefaults": {
           "arrowcolor": "#2a3f5f",
           "arrowhead": 0,
           "arrowwidth": 1
          },
          "autotypenumbers": "strict",
          "coloraxis": {
           "colorbar": {
            "outlinewidth": 0,
            "ticks": ""
           }
          },
          "colorscale": {
           "diverging": [
            [
             0,
             "#8e0152"
            ],
            [
             0.1,
             "#c51b7d"
            ],
            [
             0.2,
             "#de77ae"
            ],
            [
             0.3,
             "#f1b6da"
            ],
            [
             0.4,
             "#fde0ef"
            ],
            [
             0.5,
             "#f7f7f7"
            ],
            [
             0.6,
             "#e6f5d0"
            ],
            [
             0.7,
             "#b8e186"
            ],
            [
             0.8,
             "#7fbc41"
            ],
            [
             0.9,
             "#4d9221"
            ],
            [
             1,
             "#276419"
            ]
           ],
           "sequential": [
            [
             0,
             "#0d0887"
            ],
            [
             0.1111111111111111,
             "#46039f"
            ],
            [
             0.2222222222222222,
             "#7201a8"
            ],
            [
             0.3333333333333333,
             "#9c179e"
            ],
            [
             0.4444444444444444,
             "#bd3786"
            ],
            [
             0.5555555555555556,
             "#d8576b"
            ],
            [
             0.6666666666666666,
             "#ed7953"
            ],
            [
             0.7777777777777778,
             "#fb9f3a"
            ],
            [
             0.8888888888888888,
             "#fdca26"
            ],
            [
             1,
             "#f0f921"
            ]
           ],
           "sequentialminus": [
            [
             0,
             "#0d0887"
            ],
            [
             0.1111111111111111,
             "#46039f"
            ],
            [
             0.2222222222222222,
             "#7201a8"
            ],
            [
             0.3333333333333333,
             "#9c179e"
            ],
            [
             0.4444444444444444,
             "#bd3786"
            ],
            [
             0.5555555555555556,
             "#d8576b"
            ],
            [
             0.6666666666666666,
             "#ed7953"
            ],
            [
             0.7777777777777778,
             "#fb9f3a"
            ],
            [
             0.8888888888888888,
             "#fdca26"
            ],
            [
             1,
             "#f0f921"
            ]
           ]
          },
          "colorway": [
           "#636efa",
           "#EF553B",
           "#00cc96",
           "#ab63fa",
           "#FFA15A",
           "#19d3f3",
           "#FF6692",
           "#B6E880",
           "#FF97FF",
           "#FECB52"
          ],
          "font": {
           "color": "#2a3f5f"
          },
          "geo": {
           "bgcolor": "white",
           "lakecolor": "white",
           "landcolor": "#E5ECF6",
           "showlakes": true,
           "showland": true,
           "subunitcolor": "white"
          },
          "hoverlabel": {
           "align": "left"
          },
          "hovermode": "closest",
          "mapbox": {
           "style": "light"
          },
          "paper_bgcolor": "white",
          "plot_bgcolor": "#E5ECF6",
          "polar": {
           "angularaxis": {
            "gridcolor": "white",
            "linecolor": "white",
            "ticks": ""
           },
           "bgcolor": "#E5ECF6",
           "radialaxis": {
            "gridcolor": "white",
            "linecolor": "white",
            "ticks": ""
           }
          },
          "scene": {
           "xaxis": {
            "backgroundcolor": "#E5ECF6",
            "gridcolor": "white",
            "gridwidth": 2,
            "linecolor": "white",
            "showbackground": true,
            "ticks": "",
            "zerolinecolor": "white"
           },
           "yaxis": {
            "backgroundcolor": "#E5ECF6",
            "gridcolor": "white",
            "gridwidth": 2,
            "linecolor": "white",
            "showbackground": true,
            "ticks": "",
            "zerolinecolor": "white"
           },
           "zaxis": {
            "backgroundcolor": "#E5ECF6",
            "gridcolor": "white",
            "gridwidth": 2,
            "linecolor": "white",
            "showbackground": true,
            "ticks": "",
            "zerolinecolor": "white"
           }
          },
          "shapedefaults": {
           "line": {
            "color": "#2a3f5f"
           }
          },
          "ternary": {
           "aaxis": {
            "gridcolor": "white",
            "linecolor": "white",
            "ticks": ""
           },
           "baxis": {
            "gridcolor": "white",
            "linecolor": "white",
            "ticks": ""
           },
           "bgcolor": "#E5ECF6",
           "caxis": {
            "gridcolor": "white",
            "linecolor": "white",
            "ticks": ""
           }
          },
          "title": {
           "x": 0.05
          },
          "xaxis": {
           "automargin": true,
           "gridcolor": "white",
           "linecolor": "white",
           "ticks": "",
           "title": {
            "standoff": 15
           },
           "zerolinecolor": "white",
           "zerolinewidth": 2
          },
          "yaxis": {
           "automargin": true,
           "gridcolor": "white",
           "linecolor": "white",
           "ticks": "",
           "title": {
            "standoff": 15
           },
           "zerolinecolor": "white",
           "zerolinewidth": 2
          }
         }
        },
        "title": {
         "text": "Gemiddelde Impact Score en Zeespiegelafwijking per Jaar"
        },
        "xaxis": {
         "title": {
          "text": "Jaar"
         }
        },
        "yaxis": {
         "rangemode": "tozero",
         "showgrid": false,
         "side": "left",
         "title": {
          "text": "Gem. Impact Score (log)"
         },
         "type": "log"
        },
        "yaxis2": {
         "overlaying": "y",
         "rangemode": "tozero",
         "showgrid": false,
         "side": "right",
         "title": {
          "text": "Zeespiegelafwijking (mm)"
         }
        }
       }
      },
      "image/png": "[encoded data removed]",
      "text/html": [
       "<div>            <script src=\"https://cdnjs.cloudflare.com/ajax/libs/mathjax/2.7.5/MathJax.js?config=TeX-AMS-MML_SVG\"></script><script type=\"text/javascript\">if (window.MathJax && window.MathJax.Hub && window.MathJax.Hub.Config) {window.MathJax.Hub.Config({SVG: {font: \"STIX-Web\"}});}</script>                <script type=\"text/javascript\">window.PlotlyConfig = {MathJaxConfig: 'local'};</script>\n",
       "        <script charset=\"utf-8\" src=\"https://cdn.plot.ly/plotly-3.0.1.min.js\"></script>                <div id=\"7d5b0ec8-57ee-4de2-9c8a-14b501ddf23a\" class=\"plotly-graph-div\" style=\"height:600px; width:100%;\"></div>            <script type=\"text/javascript\">                window.PLOTLYENV=window.PLOTLYENV || {};                                if (document.getElementById(\"7d5b0ec8-57ee-4de2-9c8a-14b501ddf23a\")) {                    Plotly.newPlot(                        \"7d5b0ec8-57ee-4de2-9c8a-14b501ddf23a\",                        [{\"hovertemplate\":\"Jaar: %{x}\\u003cbr\\u003eGem. Impact Score: %{y}\\u003cextra\\u003e\\u003c\\u002fextra\\u003e\",\"marker\":{\"color\":\"steelblue\"},\"name\":\"Gem. Impact Score\",\"x\":{\"dtype\":\"i2\",\"bdata\":\"bQdxB4gHiweNB5gHmgemB6gHrAewB7EHtwe7B78HyQfMB84H0QfSB9QH1gfXB9kH2gfbB90H3wfgB+IH\"},\"y\":{\"dtype\":\"f8\",\"bdata\":\"AAAAAAAAOEAAAAAAAIBEQAAAAAAAYFNAAAAAAAAASUAAAAAAAHCnQAAAAADQq\\u002fNAAAAAAABq2EAAAAAAAMBbQAAAAAA4kD5BAAAAANjzIEEAAAAAAABpQAAAAAAAhLlAAAAAAAAAaUAAAAAAADBxQAAAAAAAZBlBAAAAAICELkEAAAAAAICHQAAAAACARcNAAAAAAGhcFUEAAAAAAL3BQAAAAIDfaylBAAAAAEBx20AAAAAAALSSQAAAAADQWwBBAAAAgB2fbEEAAAC+sQiZQQAAAAAAAqpAAAAAAABqKEEAAAAAMMFNQQAAAACAhD5B\"},\"yaxis\":\"y\",\"type\":\"bar\"},{\"hovertemplate\":\"Jaar: %{x}\\u003cbr\\u003eZeespiegelafwijking: %{y} mm\\u003cextra\\u003e\\u003c\\u002fextra\\u003e\",\"line\":{\"color\":\"orange\",\"width\":2},\"mode\":\"lines+markers\",\"name\":\"Zeespiegelafwijking (mm)\",\"x\":{\"dtype\":\"i2\",\"bdata\":\"bQdxB4gHiweNB5gHmgemB6gHrAewB7EHtwe7B78HyQfMB84H0QfSB9QH1gfXB9kH2gfbB90H3wfgB+IH\"},\"y\":{\"dtype\":\"f8\",\"bdata\":\"AAAAAAAAAAAAvpcMEREBQOhVjKmqqjtAzMzMzMzMPUAmXvmHiEhCQM7MzMzMzENAODGg7u7uT0DwvWSIiOhUQNBLg6qqalZAaeUcRERkVUBWJMvu7u5UQCPxl7u7e1dAdpaszMysW0BWJMvu7m5bQBvZdIiIyGBAG9l0iIi4YEAIGCMzMxNiQCuSZXd3N2JAbHV2iIgoZEDqrlRmZtZjQDtLVmZmRmVABg8QIiLCZEBexZiqqmpmQDtLVmZmxmdAKvgSz57NZ0A2K5H6gShoQKWBow1VvGhA3H8qj0rgaUCTUMCXnlxqQKJn7ZU9NGpA\"},\"yaxis\":\"y2\",\"type\":\"scatter\"}],                        {\"template\":{\"data\":{\"histogram2dcontour\":[{\"type\":\"histogram2dcontour\",\"colorbar\":{\"outlinewidth\":0,\"ticks\":\"\"},\"colorscale\":[[0.0,\"#0d0887\"],[0.1111111111111111,\"#46039f\"],[0.2222222222222222,\"#7201a8\"],[0.3333333333333333,\"#9c179e\"],[0.4444444444444444,\"#bd3786\"],[0.5555555555555556,\"#d8576b\"],[0.6666666666666666,\"#ed7953\"],[0.7777777777777778,\"#fb9f3a\"],[0.8888888888888888,\"#fdca26\"],[1.0,\"#f0f921\"]]}],\"choropleth\":[{\"type\":\"choropleth\",\"colorbar\":{\"outlinewidth\":0,\"ticks\":\"\"}}],\"histogram2d\":[{\"type\":\"histogram2d\",\"colorbar\":{\"outlinewidth\":0,\"ticks\":\"\"},\"colorscale\":[[0.0,\"#0d0887\"],[0.1111111111111111,\"#46039f\"],[0.2222222222222222,\"#7201a8\"],[0.3333333333333333,\"#9c179e\"],[0.4444444444444444,\"#bd3786\"],[0.5555555555555556,\"#d8576b\"],[0.6666666666666666,\"#ed7953\"],[0.7777777777777778,\"#fb9f3a\"],[0.8888888888888888,\"#fdca26\"],[1.0,\"#f0f921\"]]}],\"heatmap\":[{\"type\":\"heatmap\",\"colorbar\":{\"outlinewidth\":0,\"ticks\":\"\"},\"colorscale\":[[0.0,\"#0d0887\"],[0.1111111111111111,\"#46039f\"],[0.2222222222222222,\"#7201a8\"],[0.3333333333333333,\"#9c179e\"],[0.4444444444444444,\"#bd3786\"],[0.5555555555555556,\"#d8576b\"],[0.6666666666666666,\"#ed7953\"],[0.7777777777777778,\"#fb9f3a\"],[0.8888888888888888,\"#fdca26\"],[1.0,\"#f0f921\"]]}],\"contourcarpet\":[{\"type\":\"contourcarpet\",\"colorbar\":{\"outlinewidth\":0,\"ticks\":\"\"}}],\"contour\":[{\"type\":\"contour\",\"colorbar\":{\"outlinewidth\":0,\"ticks\":\"\"},\"colorscale\":[[0.0,\"#0d0887\"],[0.1111111111111111,\"#46039f\"],[0.2222222222222222,\"#7201a8\"],[0.3333333333333333,\"#9c179e\"],[0.4444444444444444,\"#bd3786\"],[0.5555555555555556,\"#d8576b\"],[0.6666666666666666,\"#ed7953\"],[0.7777777777777778,\"#fb9f3a\"],[0.8888888888888888,\"#fdca26\"],[1.0,\"#f0f921\"]]}],\"surface\":[{\"type\":\"surface\",\"colorbar\":{\"outlinewidth\":0,\"ticks\":\"\"},\"colorscale\":[[0.0,\"#0d0887\"],[0.1111111111111111,\"#46039f\"],[0.2222222222222222,\"#7201a8\"],[0.3333333333333333,\"#9c179e\"],[0.4444444444444444,\"#bd3786\"],[0.5555555555555556,\"#d8576b\"],[0.6666666666666666,\"#ed7953\"],[0.7777777777777778,\"#fb9f3a\"],[0.8888888888888888,\"#fdca26\"],[1.0,\"#f0f921\"]]}],\"mesh3d\":[{\"type\":\"mesh3d\",\"colorbar\":{\"outlinewidth\":0,\"ticks\":\"\"}}],\"scatter\":[{\"fillpattern\":{\"fillmode\":\"overlay\",\"size\":10,\"solidity\":0.2},\"type\":\"scatter\"}],\"parcoords\":[{\"type\":\"parcoords\",\"line\":{\"colorbar\":{\"outlinewidth\":0,\"ticks\":\"\"}}}],\"scatterpolargl\":[{\"type\":\"scatterpolargl\",\"marker\":{\"colorbar\":{\"outlinewidth\":0,\"ticks\":\"\"}}}],\"bar\":[{\"error_x\":{\"color\":\"#2a3f5f\"},\"error_y\":{\"color\":\"#2a3f5f\"},\"marker\":{\"line\":{\"color\":\"#E5ECF6\",\"width\":0.5},\"pattern\":{\"fillmode\":\"overlay\",\"size\":10,\"solidity\":0.2}},\"type\":\"bar\"}],\"scattergeo\":[{\"type\":\"scattergeo\",\"marker\":{\"colorbar\":{\"outlinewidth\":0,\"ticks\":\"\"}}}],\"scatterpolar\":[{\"type\":\"scatterpolar\",\"marker\":{\"colorbar\":{\"outlinewidth\":0,\"ticks\":\"\"}}}],\"histogram\":[{\"marker\":{\"pattern\":{\"fillmode\":\"overlay\",\"size\":10,\"solidity\":0.2}},\"type\":\"histogram\"}],\"scattergl\":[{\"type\":\"scattergl\",\"marker\":{\"colorbar\":{\"outlinewidth\":0,\"ticks\":\"\"}}}],\"scatter3d\":[{\"type\":\"scatter3d\",\"line\":{\"colorbar\":{\"outlinewidth\":0,\"ticks\":\"\"}},\"marker\":{\"colorbar\":{\"outlinewidth\":0,\"ticks\":\"\"}}}],\"scattermap\":[{\"type\":\"scattermap\",\"marker\":{\"colorbar\":{\"outlinewidth\":0,\"ticks\":\"\"}}}],\"scattermapbox\":[{\"type\":\"scattermapbox\",\"marker\":{\"colorbar\":{\"outlinewidth\":0,\"ticks\":\"\"}}}],\"scatterternary\":[{\"type\":\"scatterternary\",\"marker\":{\"colorbar\":{\"outlinewidth\":0,\"ticks\":\"\"}}}],\"scattercarpet\":[{\"type\":\"scattercarpet\",\"marker\":{\"colorbar\":{\"outlinewidth\":0,\"ticks\":\"\"}}}],\"carpet\":[{\"aaxis\":{\"endlinecolor\":\"#2a3f5f\",\"gridcolor\":\"white\",\"linecolor\":\"white\",\"minorgridcolor\":\"white\",\"startlinecolor\":\"#2a3f5f\"},\"baxis\":{\"endlinecolor\":\"#2a3f5f\",\"gridcolor\":\"white\",\"linecolor\":\"white\",\"minorgridcolor\":\"white\",\"startlinecolor\":\"#2a3f5f\"},\"type\":\"carpet\"}],\"table\":[{\"cells\":{\"fill\":{\"color\":\"#EBF0F8\"},\"line\":{\"color\":\"white\"}},\"header\":{\"fill\":{\"color\":\"#C8D4E3\"},\"line\":{\"color\":\"white\"}},\"type\":\"table\"}],\"barpolar\":[{\"marker\":{\"line\":{\"color\":\"#E5ECF6\",\"width\":0.5},\"pattern\":{\"fillmode\":\"overlay\",\"size\":10,\"solidity\":0.2}},\"type\":\"barpolar\"}],\"pie\":[{\"automargin\":true,\"type\":\"pie\"}]},\"layout\":{\"autotypenumbers\":\"strict\",\"colorway\":[\"#636efa\",\"#EF553B\",\"#00cc96\",\"#ab63fa\",\"#FFA15A\",\"#19d3f3\",\"#FF6692\",\"#B6E880\",\"#FF97FF\",\"#FECB52\"],\"font\":{\"color\":\"#2a3f5f\"},\"hovermode\":\"closest\",\"hoverlabel\":{\"align\":\"left\"},\"paper_bgcolor\":\"white\",\"plot_bgcolor\":\"#E5ECF6\",\"polar\":{\"bgcolor\":\"#E5ECF6\",\"angularaxis\":{\"gridcolor\":\"white\",\"linecolor\":\"white\",\"ticks\":\"\"},\"radialaxis\":{\"gridcolor\":\"white\",\"linecolor\":\"white\",\"ticks\":\"\"}},\"ternary\":{\"bgcolor\":\"#E5ECF6\",\"aaxis\":{\"gridcolor\":\"white\",\"linecolor\":\"white\",\"ticks\":\"\"},\"baxis\":{\"gridcolor\":\"white\",\"linecolor\":\"white\",\"ticks\":\"\"},\"caxis\":{\"gridcolor\":\"white\",\"linecolor\":\"white\",\"ticks\":\"\"}},\"coloraxis\":{\"colorbar\":{\"outlinewidth\":0,\"ticks\":\"\"}},\"colorscale\":{\"sequential\":[[0.0,\"#0d0887\"],[0.1111111111111111,\"#46039f\"],[0.2222222222222222,\"#7201a8\"],[0.3333333333333333,\"#9c179e\"],[0.4444444444444444,\"#bd3786\"],[0.5555555555555556,\"#d8576b\"],[0.6666666666666666,\"#ed7953\"],[0.7777777777777778,\"#fb9f3a\"],[0.8888888888888888,\"#fdca26\"],[1.0,\"#f0f921\"]],\"sequentialminus\":[[0.0,\"#0d0887\"],[0.1111111111111111,\"#46039f\"],[0.2222222222222222,\"#7201a8\"],[0.3333333333333333,\"#9c179e\"],[0.4444444444444444,\"#bd3786\"],[0.5555555555555556,\"#d8576b\"],[0.6666666666666666,\"#ed7953\"],[0.7777777777777778,\"#fb9f3a\"],[0.8888888888888888,\"#fdca26\"],[1.0,\"#f0f921\"]],\"diverging\":[[0,\"#8e0152\"],[0.1,\"#c51b7d\"],[0.2,\"#de77ae\"],[0.3,\"#f1b6da\"],[0.4,\"#fde0ef\"],[0.5,\"#f7f7f7\"],[0.6,\"#e6f5d0\"],[0.7,\"#b8e186\"],[0.8,\"#7fbc41\"],[0.9,\"#4d9221\"],[1,\"#276419\"]]},\"xaxis\":{\"gridcolor\":\"white\",\"linecolor\":\"white\",\"ticks\":\"\",\"title\":{\"standoff\":15},\"zerolinecolor\":\"white\",\"automargin\":true,\"zerolinewidth\":2},\"yaxis\":{\"gridcolor\":\"white\",\"linecolor\":\"white\",\"ticks\":\"\",\"title\":{\"standoff\":15},\"zerolinecolor\":\"white\",\"automargin\":true,\"zerolinewidth\":2},\"scene\":{\"xaxis\":{\"backgroundcolor\":\"#E5ECF6\",\"gridcolor\":\"white\",\"linecolor\":\"white\",\"showbackground\":true,\"ticks\":\"\",\"zerolinecolor\":\"white\",\"gridwidth\":2},\"yaxis\":{\"backgroundcolor\":\"#E5ECF6\",\"gridcolor\":\"white\",\"linecolor\":\"white\",\"showbackground\":true,\"ticks\":\"\",\"zerolinecolor\":\"white\",\"gridwidth\":2},\"zaxis\":{\"backgroundcolor\":\"#E5ECF6\",\"gridcolor\":\"white\",\"linecolor\":\"white\",\"showbackground\":true,\"ticks\":\"\",\"zerolinecolor\":\"white\",\"gridwidth\":2}},\"shapedefaults\":{\"line\":{\"color\":\"#2a3f5f\"}},\"annotationdefaults\":{\"arrowcolor\":\"#2a3f5f\",\"arrowhead\":0,\"arrowwidth\":1},\"geo\":{\"bgcolor\":\"white\",\"landcolor\":\"#E5ECF6\",\"subunitcolor\":\"white\",\"showland\":true,\"showlakes\":true,\"lakecolor\":\"white\"},\"title\":{\"x\":0.05},\"mapbox\":{\"style\":\"light\"}}},\"yaxis\":{\"title\":{\"text\":\"Gem. Impact Score (log)\"},\"showgrid\":false,\"side\":\"left\",\"rangemode\":\"tozero\",\"type\":\"log\"},\"yaxis2\":{\"title\":{\"text\":\"Zeespiegelafwijking (mm)\"},\"overlaying\":\"y\",\"side\":\"right\",\"showgrid\":false,\"rangemode\":\"tozero\"},\"legend\":{\"x\":0.01,\"y\":0.99},\"title\":{\"text\":\"Gemiddelde Impact Score en Zeespiegelafwijking per Jaar\"},\"xaxis\":{\"title\":{\"text\":\"Jaar\"}},\"height\":600,\"plot_bgcolor\":\"white\"},                        {\"responsive\": true}                    ).then(function(){\n",
       "                            \n",
       "var gd = document.getElementById('7d5b0ec8-57ee-4de2-9c8a-14b501ddf23a');\n",
       "var x = new MutationObserver(function (mutations, observer) {{\n",
       "        var display = window.getComputedStyle(gd).display;\n",
       "        if (!display || display === 'none') {{\n",
       "            console.log([gd, 'removed!']);\n",
       "            Plotly.purge(gd);\n",
       "            observer.disconnect();\n",
       "        }}\n",
       "}});\n",
       "\n",
       "// Listen for the removal of the full notebook cells\n",
       "var notebookContainer = gd.closest('#notebook-container');\n",
       "if (notebookContainer) {{\n",
       "    x.observe(notebookContainer, {childList: true});\n",
       "}}\n",
       "\n",
       "// Listen for the clearing of the current output cell\n",
       "var outputEl = gd.closest('.output');\n",
       "if (outputEl) {{\n",
       "    x.observe(outputEl, {childList: true});\n",
       "}}\n",
       "\n",
       "                        })                };            </script>        </div>"
      ]
     },
     "metadata": {},
     "output_type": "display_data"
    }
   ],
   "source": [
    "\n",
    "import plotly.graph_objs as go\n",
    "import plotly.express as px\n",
    "import pandas as pd\n",
    "\n",
    "from plotly.offline import init_notebook_mode\n",
    "init_notebook_mode(connected=True)\n",
    "sea_level_df = pd.read_csv(\"Global_sea_level_rise.csv\")\n",
    "\n",
    "sea_df = pd.read_csv('Global_sea_level_rise.csv')\n",
    "dist_df = pd.read_csv('1900_2021_DISASTERS.xlsx - emdat data.csv')\n",
    "\n",
    "tsunami_df = dist_df[dist_df['Disaster Subtype'].str.lower() == 'tsunami'].copy()\n",
    "flood_df = dist_df[dist_df['Disaster Subtype'].str.lower() == 'flood'].copy()\n",
    "\n",
    "tsunami_df.columns = tsunami_df.columns.str.strip()\n",
    "flood_df.columns = flood_df.columns.str.strip()\n",
    "sea_df.rename(columns={'year': 'Year'}, inplace=True)\n",
    "\n",
    "#subsets om samen te voegen\n",
    "tsunami_subset = tsunami_df[['Year', 'Disaster Subtype', 'Country', 'Region', 'Continent', 'Origin', 'River Basin',\n",
    "                             'Total Deaths', 'Total Affected', \"Total Damages ('000 US$)\", 'Latitude', 'Longitude', 'Location']]\n",
    "\n",
    "flood_subset = flood_df[['Year', 'Disaster Subtype', 'Country', 'Region', 'Continent', 'Origin', 'River Basin',\n",
    "                         'Total Deaths', 'Total Affected', \"Total Damages ('000 US$)\", 'Latitude', 'Longitude', 'Location']]\n",
    "\n",
    "#eerste twee samen voegen\n",
    "disaster_df = pd.concat([tsunami_subset, flood_subset], ignore_index=True)\n",
    "\n",
    "#laatste samenvoegen\n",
    "merged_df = disaster_df.merge(sea_df[['Year', 'mmfrom1993-2008average']], on='Year', how='left')\n",
    "\n",
    "#missende waardes invullen met 0\n",
    "merged_df = merged_df.fillna(0)\n",
    "\n",
    "import numpy as np \n",
    "merged_df['Total Deaths'] = pd.to_numeric(merged_df['Total Deaths'], errors='coerce').fillna(0)\n",
    "merged_df['Total Affected'] = pd.to_numeric(merged_df['Total Affected'], errors='coerce').fillna(0)\n",
    "merged_df[\"Total Damages ('000 US$)\"] = pd.to_numeric(merged_df[\"Total Damages ('000 US$)\"], errors='coerce').fillna(0)\n",
    "\n",
    "merged_df['Impact_Score'] = merged_df[['Total Deaths', 'Total Affected', \"Total Damages ('000 US$)\"]].max(axis=1)\n",
    "\n",
    "merged_df = merged_df[(merged_df['Latitude'] != 0) & (merged_df['Longitude'] != 0)]\n",
    "\n",
    "filtered_df = merged_df[merged_df['Impact_Score'] > 0].copy()\n",
    "\n",
    "filtered_df['Impact_Score_Log'] = filtered_df['Impact_Score'].apply(lambda x: np.log10(x + 1))\n",
    "\n",
    "filtered_df['Year'] = pd.to_numeric(filtered_df['Year'], errors='coerce')\n",
    "filtered_df = filtered_df.dropna(subset=['Year'])\n",
    "filtered_df = filtered_df.sort_values('Year')\n",
    "filtered_df['Year'] = filtered_df['Year'].astype(int)\n",
    "\n",
    "\n",
    "avg_impact_per_year = filtered_df.groupby('Year')['Impact_Score'].mean().reset_index()\n",
    "\n",
    "fig = go.Figure()\n",
    "\n",
    "\n",
    "fig.add_trace(go.Bar(\n",
    "    x=avg_impact_per_year['Year'],\n",
    "    y=avg_impact_per_year['Impact_Score'],\n",
    "    name='Gem. Impact Score',\n",
    "    marker_color='steelblue',\n",
    "    yaxis='y1',\n",
    "    hovertemplate='Jaar: %{x}<br>Gem. Impact Score: %{y}<extra></extra>'\n",
    "))\n",
    "# Maak zeespiegelwaarden relatief t.o.v. het eerste jaar\n",
    "first_year = filtered_df['Year'].min()\n",
    "baseline = filtered_df.loc[filtered_df['Year'] == first_year, 'mmfrom1993-2008average'].values[0]\n",
    "filtered_df['mmfrom1993-2008average'] = filtered_df['mmfrom1993-2008average'] - baseline\n",
    "\n",
    "sea_level_data = filtered_df[['Year', 'mmfrom1993-2008average']].drop_duplicates()\n",
    "\n",
    "fig.add_trace(go.Scatter(\n",
    "    x=sea_level_data['Year'],\n",
    "    y=sea_level_data['mmfrom1993-2008average'],\n",
    "    name='Zeespiegelafwijking (mm)',\n",
    "    mode='lines+markers',\n",
    "    line=dict(color='orange', width=2),\n",
    "    yaxis='y2',\n",
    "    hovertemplate='Jaar: %{x}<br>Zeespiegelafwijking: %{y} mm<extra></extra>'\n",
    "))\n",
    "\n",
    "fig.update_layout(\n",
    "    title=\"Gemiddelde Impact Score en Zeespiegelafwijking per Jaar\",\n",
    "    xaxis=dict(title='Jaar'),\n",
    "    yaxis=dict(\n",
    "        title='Gem. Impact Score',\n",
    "        showgrid=False,\n",
    "        side='left',\n",
    "        rangemode='tozero'\n",
    "    ),\n",
    "    yaxis2=dict(\n",
    "        title='Zeespiegelafwijking (mm)',\n",
    "        overlaying='y',\n",
    "        side='right',\n",
    "        showgrid=False,\n",
    "        rangemode='tozero'\n",
    "    ),\n",
    "    legend=dict(x=0.01, y=0.99),\n",
    "    height=600,\n",
    "    plot_bgcolor='white'\n",
    ")\n",
    "\n",
    "fig.update_layout(\n",
    "    yaxis=dict(\n",
    "        title='Gem. Impact Score (log)',\n",
    "        type='log', \n",
    "        showgrid=False,\n",
    "        side='left',\n",
    "        rangemode='tozero'\n",
    "    ),\n",
    ")\n",
    "\n",
    "fig.show()\n"
   ]
  },
  {
   "cell_type": "markdown",
   "id": "374b4262-358c-4972-b855-476645e34faa",
   "metadata": {},
   "source": [
    "argumentatie aan de hand van plot."
   ]
  },
  {
   "cell_type": "markdown",
   "id": "98471eeb-9bce-46b7-8ae4-44b8414042a4",
   "metadata": {},
   "source": [
    "## Schade aan verwoestingen na een Tsunami\n",
    "De stijgende zeespiegel wordt vaak genoemd als een van de meest directe gevolgen van klimaatverandering. In kustgebieden leidt deze ontwikkeling niet alleen tot een verhoogd risico op overstromingen, maar ook tot zwaardere gevolgen bij natuurrampen zoals tsunami’s. Een van de zichtbare effecten hiervan is de toename van de schade die tsunami’s aanrichten, een ontwikkeling die samen lijkt te hangen met de mondiale zeespiegelstijging. Dat verband wordt zichtbaar in de ruimtelijke spreiding van tsunami-gerelateerde schade (Plot 2). "
   ]
  },
  {
   "cell_type": "code",
   "execution_count": 23,
   "id": "bcd513ca-7202-4303-9124-2f802ea38236",
   "metadata": {
    "editable": true,
    "slideshow": {
     "slide_type": ""
    },
    "tags": [
     "hide-input"
    ]
   },
   "outputs": [
    {
     "data": {
      "application/vnd.plotly.v1+json": {
       "config": {
        "plotlyServerURL": "https://plot.ly"
       },
       "data": [
        {
         "hoverinfo": "text",
         "lat": {
          "bdata": "AAAAAAAAJkAAAAAAAAAQwA==",
          "dtype": "f8"
         },
         "lon": {
          "bdata": "AAAAAACAUMAAAAAAAIBhQA==",
          "dtype": "f8"
         },
         "marker": {
          "cmax": 25,
          "cmin": 1,
          "color": {
           "bdata": "AAAAAAAAFEAAAAAAAADwPw==",
           "dtype": "f8"
          },
          "coloraxis": "coloraxis",
          "colorscale": [
           [
            0,
            "rgb(255,247,236)"
           ],
           [
            0.125,
            "rgb(254,232,200)"
           ],
           [
            0.25,
            "rgb(253,212,158)"
           ],
           [
            0.375,
            "rgb(253,187,132)"
           ],
           [
            0.5,
            "rgb(252,141,89)"
           ],
           [
            0.625,
            "rgb(239,101,72)"
           ],
           [
            0.75,
            "rgb(215,48,31)"
           ],
           [
            0.875,
            "rgb(179,0,0)"
           ],
           [
            1,
            "rgb(127,0,0)"
           ]
          ],
          "size": 15
         },
         "name": "Tsunami schade",
         "text": [
          "VENEZUELA<br>Schade: 5.0 M$",
          "INDONESIA<br>Schade: 1.0 M$"
         ],
         "type": "scattergeo"
        },
        {
         "line": {
          "color": "lightblue",
          "width": 20
         },
         "mode": "lines",
         "showlegend": false,
         "type": "scatter",
         "x": [
          0,
          214.87
         ],
         "xaxis": "x2",
         "y": [
          0,
          0
         ],
         "yaxis": "y2"
        },
        {
         "marker": {
          "color": "blue",
          "size": 30
         },
         "mode": "markers",
         "showlegend": false,
         "type": "scatter",
         "x": [
          -2.17
         ],
         "xaxis": "x2",
         "y": [
          0
         ],
         "yaxis": "y2"
        }
       ],
       "frames": [
        {
         "data": [
          {
           "lat": {
            "bdata": "AAAAAAAAJkAAAAAAAAAQwA==",
            "dtype": "f8"
           },
           "lon": {
            "bdata": "AAAAAACAUMAAAAAAAIBhQA==",
            "dtype": "f8"
           },
           "marker": {
            "color": {
             "bdata": "AAAAAAAAFEAAAAAAAADwPw==",
             "dtype": "f8"
            },
            "coloraxis": "coloraxis",
            "size": 15
           },
           "text": [
            "VENEZUELA<br>Schade: 5.0 M$",
            "INDONESIA<br>Schade: 1.0 M$"
           ],
           "type": "scattergeo"
          },
          {
           "line": {
            "color": "lightblue",
            "width": 20
           },
           "mode": "lines",
           "showlegend": false,
           "type": "scatter",
           "x": [
            0,
            214.87
           ],
           "xaxis": "x2",
           "y": [
            0,
            0
           ],
           "yaxis": "y2"
          },
          {
           "marker": {
            "color": "blue",
            "size": 30
           },
           "mode": "markers",
           "showlegend": false,
           "type": "scatter",
           "x": [
            -2.17
           ],
           "xaxis": "x2",
           "y": [
            0
           ],
           "yaxis": "y2"
          }
         ],
         "name": "1900"
        },
        {
         "data": [
          {
           "lat": {
            "bdata": "zczMzMxMREAzMzMzM7NFQA==",
            "dtype": "f8"
           },
           "lon": {
            "bdata": "mpmZmZnJYUAAAAAAAIA8QA==",
            "dtype": "f8"
           },
           "marker": {
            "color": {
             "bdata": "AAAAAAAA8D8AAAAAAAAUQA==",
             "dtype": "f8"
            },
            "coloraxis": "coloraxis",
            "size": 15
           },
           "text": [
            "JAPAN<br>Schade: 1.0 M$",
            "BULGARIA<br>Schade: 5.0 M$"
           ],
           "type": "scattergeo"
          },
          {
           "line": {
            "color": "lightblue",
            "width": 20
           },
           "mode": "lines",
           "showlegend": false,
           "type": "scatter",
           "x": [
            0,
            214.87
           ],
           "xaxis": "x2",
           "y": [
            0,
            0
           ],
           "yaxis": "y2"
          },
          {
           "marker": {
            "color": "blue",
            "size": 30
           },
           "mode": "markers",
           "showlegend": false,
           "type": "scatter",
           "x": [
            1.58
           ],
           "xaxis": "x2",
           "y": [
            0
           ],
           "yaxis": "y2"
          }
         ],
         "name": "1901"
        },
        {
         "data": [
          {
           "lat": {
            "bdata": "AAAAAAAAHkA=",
            "dtype": "f8"
           },
           "lon": {
            "bdata": "AAAAAADgXkA=",
            "dtype": "f8"
           },
           "marker": {
            "color": {
             "bdata": "AAAAAAAAFEA=",
             "dtype": "f8"
            },
            "coloraxis": "coloraxis",
            "size": 15
           },
           "text": [
            "PHILIPPINES<br>Schade: 5.0 M$"
           ],
           "type": "scattergeo"
          },
          {
           "line": {
            "color": "lightblue",
            "width": 20
           },
           "mode": "lines",
           "showlegend": false,
           "type": "scatter",
           "x": [
            0,
            214.87
           ],
           "xaxis": "x2",
           "y": [
            0,
            0
           ],
           "yaxis": "y2"
          },
          {
           "marker": {
            "color": "blue",
            "size": 30
           },
           "mode": "markers",
           "showlegend": false,
           "type": "scatter",
           "x": [
            1.47
           ],
           "xaxis": "x2",
           "y": [
            0
           ],
           "yaxis": "y2"
          }
         ],
         "name": "1902"
        },
        {
         "data": [
          {
           "lat": {
            "bdata": "AAAAAACAPMA=",
            "dtype": "f8"
           },
           "lon": {
            "bdata": "AAAAAADAUcA=",
            "dtype": "f8"
           },
           "marker": {
            "color": {
             "bdata": "AAAAAAAA8D8=",
             "dtype": "f8"
            },
            "coloraxis": "coloraxis",
            "size": 15
           },
           "text": [
            "CHILE<br>Schade: 1.0 M$"
           ],
           "type": "scattergeo"
          },
          {
           "line": {
            "color": "lightblue",
            "width": 20
           },
           "mode": "lines",
           "showlegend": false,
           "type": "scatter",
           "x": [
            0,
            214.87
           ],
           "xaxis": "x2",
           "y": [
            0,
            0
           ],
           "yaxis": "y2"
          },
          {
           "marker": {
            "color": "blue",
            "size": 30
           },
           "mode": "markers",
           "showlegend": false,
           "type": "scatter",
           "x": [
            0.99
           ],
           "xaxis": "x2",
           "y": [
            0
           ],
           "yaxis": "y2"
          }
         ],
         "name": "1903"
        },
        {
         "data": [
          {
           "lat": {
            "bdata": "9ihcj8JVQ0ADK4cW2e5OQA==",
            "dtype": "f8"
           },
           "lon": {
            "bdata": "UrgehesRMEBmZmZmZmYbQA==",
            "dtype": "f8"
           },
           "marker": {
            "color": {
             "bdata": "AAAAAAAAOUAAAAAAAADwPw==",
             "dtype": "f8"
            },
            "coloraxis": "coloraxis",
            "size": 15
           },
           "text": [
            "ITALY<br>Schade: 25.0 M$",
            "NORWAY<br>Schade: 1.0 M$"
           ],
           "type": "scattergeo"
          },
          {
           "line": {
            "color": "lightblue",
            "width": 20
           },
           "mode": "lines",
           "showlegend": false,
           "type": "scatter",
           "x": [
            0,
            214.87
           ],
           "xaxis": "x2",
           "y": [
            0,
            0
           ],
           "yaxis": "y2"
          },
          {
           "marker": {
            "color": "blue",
            "size": 30
           },
           "mode": "markers",
           "showlegend": false,
           "type": "scatter",
           "x": [
            4.2
           ],
           "xaxis": "x2",
           "y": [
            0
           ],
           "yaxis": "y2"
          }
         ],
         "name": "1905"
        },
        {
         "data": [
          {
           "lat": {
            "bdata": "AAAAAAAAHMAAAAAAAADwPw==",
            "dtype": "f8"
           },
           "lon": {
            "bdata": "AAAAAACgYkAAAAAAAGBUwA==",
            "dtype": "f8"
           },
           "marker": {
            "color": {
             "bdata": "AAAAAAAAFEAAAAAAAAAUQA==",
             "dtype": "f8"
            },
            "coloraxis": "coloraxis",
            "size": 15
           },
           "text": [
            "PAPUA NEW GUINEA<br>Schade: 5.0 M$",
            "ECUADOR<br>Schade: 5.0 M$"
           ],
           "type": "scattergeo"
          },
          {
           "line": {
            "color": "lightblue",
            "width": 20
           },
           "mode": "lines",
           "showlegend": false,
           "type": "scatter",
           "x": [
            0,
            214.87
           ],
           "xaxis": "x2",
           "y": [
            0,
            0
           ],
           "yaxis": "y2"
          },
          {
           "marker": {
            "color": "blue",
            "size": 30
           },
           "mode": "markers",
           "showlegend": false,
           "type": "scatter",
           "x": [
            1.95
           ],
           "xaxis": "x2",
           "y": [
            0
           ],
           "yaxis": "y2"
          }
         ],
         "name": "1906"
        },
        {
         "data": [
          {
           "lat": {
            "bdata": "AAAAAAAAMUAAAAAAAAAyQAAAAAAAAABAGy/dJAYRQ0A=",
            "dtype": "f8"
           },
           "lon": {
            "bdata": "AAAAAAAAWcAzMzMzMzNTwAAAAAAAoFdAMQisHFoEMEA=",
            "dtype": "f8"
           },
           "marker": {
            "color": {
             "bdata": "AAAAAAAA8D8AAAAAAAA5QAAAAAAAABRAAAAAAAAA8D8=",
             "dtype": "f8"
            },
            "coloraxis": "coloraxis",
            "size": 15
           },
           "text": [
            "MEXICO<br>Schade: 1.0 M$",
            "JAMAICA<br>Schade: 25.0 M$",
            "INDONESIA<br>Schade: 5.0 M$",
            "ITALY<br>Schade: 1.0 M$"
           ],
           "type": "scattergeo"
          },
          {
           "line": {
            "color": "lightblue",
            "width": 20
           },
           "mode": "lines",
           "showlegend": false,
           "type": "scatter",
           "x": [
            0,
            214.87
           ],
           "xaxis": "x2",
           "y": [
            0,
            0
           ],
           "yaxis": "y2"
          },
          {
           "marker": {
            "color": "blue",
            "size": 30
           },
           "mode": "markers",
           "showlegend": false,
           "type": "scatter",
           "x": [
            1.84
           ],
           "xaxis": "x2",
           "y": [
            0
           ],
           "yaxis": "y2"
          }
         ],
         "name": "1907"
        },
        {
         "data": [
          {
           "lat": {
            "bdata": "9ihcj8IVQ0DD9Shcj+JGQA==",
            "dtype": "f8"
           },
           "lon": {
            "bdata": "KVyPwvUoL0BmZmZmZuZSwA==",
            "dtype": "f8"
           },
           "marker": {
            "color": {
             "bdata": "AAAAAAAAOUAAAAAAAADwPw==",
             "dtype": "f8"
            },
            "coloraxis": "coloraxis",
            "size": 15
           },
           "text": [
            "ITALY<br>Schade: 25.0 M$",
            "CANADA<br>Schade: 1.0 M$"
           ],
           "type": "scattergeo"
          },
          {
           "line": {
            "color": "lightblue",
            "width": 20
           },
           "mode": "lines",
           "showlegend": false,
           "type": "scatter",
           "x": [
            0,
            214.87
           ],
           "xaxis": "x2",
           "y": [
            0,
            0
           ],
           "yaxis": "y2"
          },
          {
           "marker": {
            "color": "blue",
            "size": 30
           },
           "mode": "markers",
           "showlegend": false,
           "type": "scatter",
           "x": [
            3.46
           ],
           "xaxis": "x2",
           "y": [
            0
           ],
           "yaxis": "y2"
          }
         ],
         "name": "1908"
        },
        {
         "data": [
          {
           "lat": {
            "bdata": "MzMzMzOzQUAAAAAAAAAAwA==",
            "dtype": "f8"
           },
           "lon": {
            "bdata": "mpmZmZkJYUAAAAAAAEBZQA==",
            "dtype": "f8"
           },
           "marker": {
            "color": {
             "bdata": "AAAAAAAAFEAAAAAAAAAUQA==",
             "dtype": "f8"
            },
            "coloraxis": "coloraxis",
            "size": 15
           },
           "text": [
            "JAPAN<br>Schade: 5.0 M$",
            "INDONESIA<br>Schade: 5.0 M$"
           ],
           "type": "scattergeo"
          },
          {
           "line": {
            "color": "lightblue",
            "width": 20
           },
           "mode": "lines",
           "showlegend": false,
           "type": "scatter",
           "x": [
            0,
            214.87
           ],
           "xaxis": "x2",
           "y": [
            0,
            0
           ],
           "yaxis": "y2"
          },
          {
           "marker": {
            "color": "blue",
            "size": 30
           },
           "mode": "markers",
           "showlegend": false,
           "type": "scatter",
           "x": [
            4.55
           ],
           "xaxis": "x2",
           "y": [
            0
           ],
           "yaxis": "y2"
          }
         ],
         "name": "1909"
        },
        {
         "data": [
          {
           "lat": {
            "bdata": "AAAAAAAAPEAbL90kBgEsQA==",
            "dtype": "f8"
           },
           "lon": {
            "bdata": "AAAAAABAYEBkO99PjT9eQA==",
            "dtype": "f8"
           },
           "marker": {
            "color": {
             "bdata": "AAAAAAAAFEAAAAAAAAAUQA==",
             "dtype": "f8"
            },
            "coloraxis": "coloraxis",
            "size": 15
           },
           "text": [
            "JAPAN<br>Schade: 5.0 M$",
            "PHILIPPINES<br>Schade: 5.0 M$"
           ],
           "type": "scattergeo"
          },
          {
           "line": {
            "color": "lightblue",
            "width": 20
           },
           "mode": "lines",
           "showlegend": false,
           "type": "scatter",
           "x": [
            0,
            214.87
           ],
           "xaxis": "x2",
           "y": [
            0,
            0
           ],
           "yaxis": "y2"
          },
          {
           "marker": {
            "color": "blue",
            "size": 30
           },
           "mode": "markers",
           "showlegend": false,
           "type": "scatter",
           "x": [
            7.36
           ],
           "xaxis": "x2",
           "y": [
            0
           ],
           "yaxis": "y2"
          }
         ],
         "name": "1911"
        },
        {
         "data": [
          {
           "lat": {
            "bdata": "AAAAAAAAMcBmZmZmZmYcQA==",
            "dtype": "f8"
           },
           "lon": {
            "bdata": "AAAAAACAUsBmZmZmZiZUwA==",
            "dtype": "f8"
           },
           "marker": {
            "color": {
             "bdata": "AAAAAAAAFEAAAAAAAADwPw==",
             "dtype": "f8"
            },
            "coloraxis": "coloraxis",
            "size": 15
           },
           "text": [
            "PERU<br>Schade: 5.0 M$",
            "PANAMA<br>Schade: 1.0 M$"
           ],
           "type": "scattergeo"
          },
          {
           "line": {
            "color": "lightblue",
            "width": 20
           },
           "mode": "lines",
           "showlegend": false,
           "type": "scatter",
           "x": [
            0,
            214.87
           ],
           "xaxis": "x2",
           "y": [
            0,
            0
           ],
           "yaxis": "y2"
          },
          {
           "marker": {
            "color": "blue",
            "size": 30
           },
           "mode": "markers",
           "showlegend": false,
           "type": "scatter",
           "x": [
            11.27
           ],
           "xaxis": "x2",
           "y": [
            0
           ],
           "yaxis": "y2"
          }
         ],
         "name": "1913"
        },
        {
         "data": [
          {
           "lat": {
            "bdata": "ZmZmZmZmQ0AxCKwcWmQPwBSuR+F6lD9A3SQGgZVD/b8=",
            "dtype": "f8"
           },
           "lon": {
            "bdata": "mpmZmZmZNEAUrkfhenRZQD0K16NwVWBAGARWDi0eYUA=",
            "dtype": "f8"
           },
           "marker": {
            "color": {
             "bdata": "AAAAAAAAFEAAAAAAAADwPwAAAAAAABRAAAAAAAAA8D8=",
             "dtype": "f8"
            },
            "coloraxis": "coloraxis",
            "size": 15
           },
           "text": [
            "GREECE<br>Schade: 5.0 M$",
            "INDONESIA<br>Schade: 1.0 M$",
            "JAPAN<br>Schade: 5.0 M$",
            "INDONESIA<br>Schade: 1.0 M$"
           ],
           "type": "scattergeo"
          },
          {
           "line": {
            "color": "lightblue",
            "width": 20
           },
           "mode": "lines",
           "showlegend": false,
           "type": "scatter",
           "x": [
            0,
            214.87
           ],
           "xaxis": "x2",
           "y": [
            0,
            0
           ],
           "yaxis": "y2"
          },
          {
           "marker": {
            "color": "blue",
            "size": 30
           },
           "mode": "markers",
           "showlegend": false,
           "type": "scatter",
           "x": [
            12.59
           ],
           "xaxis": "x2",
           "y": [
            0
           ],
           "yaxis": "y2"
          }
         ],
         "name": "1914"
        },
        {
         "data": [
          {
           "lat": {
            "bdata": "AAAAAAAAGEAAAAAAAAAcwAAAAAAAAC/A",
            "dtype": "f8"
           },
           "lon": {
            "bdata": "AAAAAABAX0AAAAAAAABdQAAAAAAAoGXA",
            "dtype": "f8"
           },
           "marker": {
            "color": {
             "bdata": "AAAAAAAA8D8AAAAAAADwPwAAAAAAAPA/",
             "dtype": "f8"
            },
            "coloraxis": "coloraxis",
            "size": 15
           },
           "text": [
            "PHILIPPINES<br>Schade: 1.0 M$",
            "INDONESIA<br>Schade: 1.0 M$",
            "SAMOA<br>Schade: 1.0 M$"
           ],
           "type": "scattergeo"
          },
          {
           "line": {
            "color": "lightblue",
            "width": 20
           },
           "mode": "lines",
           "showlegend": false,
           "type": "scatter",
           "x": [
            0,
            214.87
           ],
           "xaxis": "x2",
           "y": [
            0,
            0
           ],
           "yaxis": "y2"
          },
          {
           "marker": {
            "color": "blue",
            "size": 30
           },
           "mode": "markers",
           "showlegend": false,
           "type": "scatter",
           "x": [
            18.17
           ],
           "xaxis": "x2",
           "y": [
            0
           ],
           "yaxis": "y2"
          }
         ],
         "name": "1917"
        },
        {
         "data": [
          {
           "lat": {
            "bdata": "AAAAAAAAOsAAAAAAAIA3QAAAAAAAwEZA",
            "dtype": "f8"
           },
           "lon": {
            "bdata": "AAAAAADAUcDNzMzMzExdQAAAAAAA8GJA",
            "dtype": "f8"
           },
           "marker": {
            "color": {
             "bdata": "AAAAAAAAFEAAAAAAAAA5QAAAAAAAAPA/",
             "dtype": "f8"
            },
            "coloraxis": "coloraxis",
            "size": 15
           },
           "text": [
            "CHILE<br>Schade: 5.0 M$",
            "CHINA<br>Schade: 25.0 M$",
            "RUSSIA<br>Schade: 1.0 M$"
           ],
           "type": "scattergeo"
          },
          {
           "line": {
            "color": "lightblue",
            "width": 20
           },
           "mode": "lines",
           "showlegend": false,
           "type": "scatter",
           "x": [
            0,
            214.87
           ],
           "xaxis": "x2",
           "y": [
            0,
            0
           ],
           "yaxis": "y2"
          },
          {
           "marker": {
            "color": "blue",
            "size": 30
           },
           "mode": "markers",
           "showlegend": false,
           "type": "scatter",
           "x": [
            19.92
           ],
           "xaxis": "x2",
           "y": [
            0
           ],
           "yaxis": "y2"
          }
         ],
         "name": "1918"
        },
        {
         "data": [
          {
           "lat": {
            "bdata": "okW28/1kQ0A=",
            "dtype": "f8"
           },
           "lon": {
            "bdata": "kxgEVg5tLkA=",
            "dtype": "f8"
           },
           "marker": {
            "color": {
             "bdata": "AAAAAAAA8D8=",
             "dtype": "f8"
            },
            "coloraxis": "coloraxis",
            "size": 15
           },
           "text": [
            "ITALY<br>Schade: 1.0 M$"
           ],
           "type": "scattergeo"
          },
          {
           "line": {
            "color": "lightblue",
            "width": 20
           },
           "mode": "lines",
           "showlegend": false,
           "type": "scatter",
           "x": [
            0,
            214.87
           ],
           "xaxis": "x2",
           "y": [
            0,
            0
           ],
           "yaxis": "y2"
          },
          {
           "marker": {
            "color": "blue",
            "size": 30
           },
           "mode": "markers",
           "showlegend": false,
           "type": "scatter",
           "x": [
            20.97
           ],
           "xaxis": "x2",
           "y": [
            0
           ],
           "yaxis": "y2"
          }
         ],
         "name": "1919"
        },
        {
         "data": [
          {
           "lat": {
            "bdata": "AAAAAABAREA=",
            "dtype": "f8"
           },
           "lon": {
            "bdata": "AAAAAACAM0A=",
            "dtype": "f8"
           },
           "marker": {
            "color": {
             "bdata": "AAAAAAAAFEA=",
             "dtype": "f8"
            },
            "coloraxis": "coloraxis",
            "size": 15
           },
           "text": [
            "ALBANIA<br>Schade: 5.0 M$"
           ],
           "type": "scattergeo"
          },
          {
           "line": {
            "color": "lightblue",
            "width": 20
           },
           "mode": "lines",
           "showlegend": false,
           "type": "scatter",
           "x": [
            0,
            214.87
           ],
           "xaxis": "x2",
           "y": [
            0,
            0
           ],
           "yaxis": "y2"
          },
          {
           "marker": {
            "color": "blue",
            "size": 30
           },
           "mode": "markers",
           "showlegend": false,
           "type": "scatter",
           "x": [
            21.13
           ],
           "xaxis": "x2",
           "y": [
            0
           ],
           "yaxis": "y2"
          }
         ],
         "name": "1920"
        },
        {
         "data": [
          {
           "lat": {
            "bdata": "AAAAAACAOEAhsHJokY08wA==",
            "dtype": "f8"
           },
           "lon": {
            "bdata": "AAAAAACAXkC4HoXrUbBRwA==",
            "dtype": "f8"
           },
           "marker": {
            "color": {
             "bdata": "AAAAAAAA8D8AAAAAAAAUQA==",
             "dtype": "f8"
            },
            "coloraxis": "coloraxis",
            "size": 15
           },
           "text": [
            "TAIWAN<br>Schade: 1.0 M$",
            "CHILE<br>Schade: 5.0 M$"
           ],
           "type": "scattergeo"
          },
          {
           "line": {
            "color": "lightblue",
            "width": 20
           },
           "mode": "lines",
           "showlegend": false,
           "type": "scatter",
           "x": [
            0,
            214.87
           ],
           "xaxis": "x2",
           "y": [
            0,
            0
           ],
           "yaxis": "y2"
          },
          {
           "marker": {
            "color": "blue",
            "size": 30
           },
           "mode": "markers",
           "showlegend": false,
           "type": "scatter",
           "x": [
            20.27
           ],
           "xaxis": "x2",
           "y": [
            0
           ],
           "yaxis": "y2"
          }
         ],
         "name": "1922"
        },
        {
         "data": [
          {
           "lat": {
            "bdata": "AAAAAAAAS0AAAAAAAEBMQM3MzMzMjEFA",
            "dtype": "f8"
           },
           "lon": {
            "bdata": "AAAAAAAgZEAAAAAAAFBkQAAAAAAAcGFA",
            "dtype": "f8"
           },
           "marker": {
            "color": {
             "bdata": "AAAAAAAA8D8AAAAAAAAUQAAAAAAAADlA",
             "dtype": "f8"
            },
            "coloraxis": "coloraxis",
            "size": 15
           },
           "text": [
            "RUSSIA<br>Schade: 1.0 M$",
            "RUSSIA<br>Schade: 5.0 M$",
            "JAPAN<br>Schade: 25.0 M$"
           ],
           "type": "scattergeo"
          },
          {
           "line": {
            "color": "lightblue",
            "width": 20
           },
           "mode": "lines",
           "showlegend": false,
           "type": "scatter",
           "x": [
            0,
            214.87
           ],
           "xaxis": "x2",
           "y": [
            0,
            0
           ],
           "yaxis": "y2"
          },
          {
           "marker": {
            "color": "blue",
            "size": 30
           },
           "mode": "markers",
           "showlegend": false,
           "type": "scatter",
           "x": [
            18.01
           ],
           "xaxis": "x2",
           "y": [
            0
           ],
           "yaxis": "y2"
          }
         ],
         "name": "1923"
        },
        {
         "data": [
          {
           "lat": {
            "bdata": "mpmZmZmZIkAAAAAAAAAqQAAAAAAAACRA",
            "dtype": "f8"
           },
           "lon": {
            "bdata": "zczMzMysXkAAAAAAAEBfQAAAAAAAQGFA",
            "dtype": "f8"
           },
           "marker": {
            "color": {
             "bdata": "AAAAAAAA8D8AAAAAAADwPwAAAAAAABRA",
             "dtype": "f8"
            },
            "coloraxis": "coloraxis",
            "size": 15
           },
           "text": [
            "PHILIPPINES<br>Schade: 1.0 M$",
            "PHILIPPINES<br>Schade: 1.0 M$",
            "MICRONESIA, FED. STATES OF<br>Schade: 5.0 M$"
           ],
           "type": "scattergeo"
          },
          {
           "line": {
            "color": "lightblue",
            "width": 20
           },
           "mode": "lines",
           "showlegend": false,
           "type": "scatter",
           "x": [
            0,
            214.87
           ],
           "xaxis": "x2",
           "y": [
            0,
            0
           ],
           "yaxis": "y2"
          },
          {
           "marker": {
            "color": "blue",
            "size": 30
           },
           "mode": "markers",
           "showlegend": false,
           "type": "scatter",
           "x": [
            19.85
           ],
           "xaxis": "x2",
           "y": [
            0
           ],
           "yaxis": "y2"
          }
         ],
         "name": "1925"
        },
        {
         "data": [
          {
           "lat": {
            "bdata": "BoGVQ4v8QkA=",
            "dtype": "f8"
           },
           "lon": {
            "bdata": "16NwPQqXPMA=",
            "dtype": "f8"
           },
           "marker": {
            "color": {
             "bdata": "AAAAAAAA8D8=",
             "dtype": "f8"
            },
            "coloraxis": "coloraxis",
            "size": 15
           },
           "text": [
            "PORTUGAL<br>Schade: 1.0 M$"
           ],
           "type": "scattergeo"
          },
          {
           "line": {
            "color": "lightblue",
            "width": 20
           },
           "mode": "lines",
           "showlegend": false,
           "type": "scatter",
           "x": [
            0,
            214.87
           ],
           "xaxis": "x2",
           "y": [
            0,
            0
           ],
           "yaxis": "y2"
          },
          {
           "marker": {
            "color": "blue",
            "size": 30
           },
           "mode": "markers",
           "showlegend": false,
           "type": "scatter",
           "x": [
            19.98
           ],
           "xaxis": "x2",
           "y": [
            0
           ],
           "yaxis": "y2"
          }
         ],
         "name": "1926"
        },
        {
         "data": [
          {
           "lat": {
            "bdata": "zczMzMzMQUBmZmZmZmbmvwAAAAAAQEBAMzMzMzMzRkA=",
            "dtype": "f8"
           },
           "lon": {
            "bdata": "MzMzMzPjYEDNzMzMzOxdQAAAAAAA4FzAAAAAAABAQUA=",
            "dtype": "f8"
           },
           "marker": {
            "color": {
             "bdata": "AAAAAAAAOUAAAAAAAAAUQAAAAAAAAPA/AAAAAAAAOUA=",
             "dtype": "f8"
            },
            "coloraxis": "coloraxis",
            "size": 15
           },
           "text": [
            "JAPAN<br>Schade: 25.0 M$",
            "INDONESIA<br>Schade: 5.0 M$",
            "USA<br>Schade: 1.0 M$",
            "UKRAINE<br>Schade: 25.0 M$"
           ],
           "type": "scattergeo"
          },
          {
           "line": {
            "color": "lightblue",
            "width": 20
           },
           "mode": "lines",
           "showlegend": false,
           "type": "scatter",
           "x": [
            0,
            214.87
           ],
           "xaxis": "x2",
           "y": [
            0,
            0
           ],
           "yaxis": "y2"
          },
          {
           "marker": {
            "color": "blue",
            "size": 30
           },
           "mode": "markers",
           "showlegend": false,
           "type": "scatter",
           "x": [
            21.96
           ],
           "xaxis": "x2",
           "y": [
            0
           ],
           "yaxis": "y2"
          }
         ],
         "name": "1927"
        },
        {
         "data": [
          {
           "lat": {
            "bdata": "AAAAAACAQcAAAAAAAABDQM3MzMzMDENAAAAAAAAAHEAAAAAAAAAqwA==",
            "dtype": "f8"
           },
           "lon": {
            "bdata": "AAAAAAAAUsAAAAAAAAA3QGZmZmZmZjtAAAAAAAAAX0BmZmZmZmZRwA==",
            "dtype": "f8"
           },
           "marker": {
            "color": {
             "bdata": "AAAAAAAAFEAAAAAAAAA5QAAAAAAAADlAAAAAAAAA8D8AAAAAAAAUQA==",
             "dtype": "f8"
            },
            "coloraxis": "coloraxis",
            "size": 15
           },
           "text": [
            "CHILE<br>Schade: 5.0 M$",
            "GREECE<br>Schade: 25.0 M$",
            "GREECE<br>Schade: 25.0 M$",
            "PHILIPPINES<br>Schade: 1.0 M$",
            "PERU<br>Schade: 5.0 M$"
           ],
           "type": "scattergeo"
          },
          {
           "line": {
            "color": "lightblue",
            "width": 20
           },
           "mode": "lines",
           "showlegend": false,
           "type": "scatter",
           "x": [
            0,
            214.87
           ],
           "xaxis": "x2",
           "y": [
            0,
            0
           ],
           "yaxis": "y2"
          },
          {
           "marker": {
            "color": "blue",
            "size": 30
           },
           "mode": "markers",
           "showlegend": false,
           "type": "scatter",
           "x": [
            25.07
           ],
           "xaxis": "x2",
           "y": [
            0
           ],
           "yaxis": "y2"
          }
         ],
         "name": "1928"
        },
        {
         "data": [
          {
           "lat": {
            "bdata": "AAAAAADgRMAzMzMzMzMlQA==",
            "dtype": "f8"
           },
           "lon": {
            "bdata": "AAAAAACIZUBmZmZmZmZQwA==",
            "dtype": "f8"
           },
           "marker": {
            "color": {
             "bdata": "AAAAAAAAFEAAAAAAAAAUQA==",
             "dtype": "f8"
            },
            "coloraxis": "coloraxis",
            "size": 15
           },
           "text": [
            "NEW ZEALAND<br>Schade: 5.0 M$",
            "VENEZUELA<br>Schade: 5.0 M$"
           ],
           "type": "scattergeo"
          },
          {
           "line": {
            "color": "lightblue",
            "width": 20
           },
           "mode": "lines",
           "showlegend": false,
           "type": "scatter",
           "x": [
            0,
            214.87
           ],
           "xaxis": "x2",
           "y": [
            0,
            0
           ],
           "yaxis": "y2"
          },
          {
           "marker": {
            "color": "blue",
            "size": 30
           },
           "mode": "markers",
           "showlegend": false,
           "type": "scatter",
           "x": [
            24.97
           ],
           "xaxis": "x2",
           "y": [
            0
           ],
           "yaxis": "y2"
          }
         ],
         "name": "1929"
        },
        {
         "data": [
          {
           "lat": {
            "bdata": "zczMzMzM9L/NzMzMzEwxQEw3iUFg1UVA",
            "dtype": "f8"
           },
           "lon": {
            "bdata": "mpmZmZkJYkAAAAAAACBYQGIQWDm0iCpA",
            "dtype": "f8"
           },
           "marker": {
            "color": {
             "bdata": "AAAAAAAA8D8AAAAAAAAUQAAAAAAAABRA",
             "dtype": "f8"
            },
            "coloraxis": "coloraxis",
            "size": 15
           },
           "text": [
            "PAPUA NEW GUINEA<br>Schade: 1.0 M$",
            "MYANMAR (BURMA)<br>Schade: 5.0 M$",
            "ITALY<br>Schade: 5.0 M$"
           ],
           "type": "scattergeo"
          },
          {
           "line": {
            "color": "lightblue",
            "width": 20
           },
           "mode": "lines",
           "showlegend": false,
           "type": "scatter",
           "x": [
            0,
            214.87
           ],
           "xaxis": "x2",
           "y": [
            0,
            0
           ],
           "yaxis": "y2"
          },
          {
           "marker": {
            "color": "blue",
            "size": 30
           },
           "mode": "markers",
           "showlegend": false,
           "type": "scatter",
           "x": [
            25.49
           ],
           "xaxis": "x2",
           "y": [
            0
           ],
           "yaxis": "y2"
          }
         ],
         "name": "1930"
        },
        {
         "data": [
          {
           "lat": {
            "bdata": "d76fGi/dJcA=",
            "dtype": "f8"
           },
           "lon": {
            "bdata": "jZduEoMgZEA=",
            "dtype": "f8"
           },
           "marker": {
            "color": {
             "bdata": "AAAAAAAAFEA=",
             "dtype": "f8"
            },
            "coloraxis": "coloraxis",
            "size": 15
           },
           "text": [
            "SOLOMON ISLANDS<br>Schade: 5.0 M$"
           ],
           "type": "scattergeo"
          },
          {
           "line": {
            "color": "lightblue",
            "width": 20
           },
           "mode": "lines",
           "showlegend": false,
           "type": "scatter",
           "x": [
            0,
            214.87
           ],
           "xaxis": "x2",
           "y": [
            0,
            0
           ],
           "yaxis": "y2"
          },
          {
           "marker": {
            "color": "blue",
            "size": 30
           },
           "mode": "markers",
           "showlegend": false,
           "type": "scatter",
           "x": [
            27.27
           ],
           "xaxis": "x2",
           "y": [
            0
           ],
           "yaxis": "y2"
          }
         ],
         "name": "1931"
        },
        {
         "data": [
          {
           "lat": {
            "bdata": "AAAAAABAREBzaJHtfJ8zQMuhRbbzPTNA",
            "dtype": "f8"
           },
           "lon": {
            "bdata": "ZmZmZmbmN0CJQWDl0PpZwI2XbhKDGFrA",
            "dtype": "f8"
           },
           "marker": {
            "color": {
             "bdata": "AAAAAAAAOUAAAAAAAAAUQAAAAAAAABRA",
             "dtype": "f8"
            },
            "coloraxis": "coloraxis",
            "size": 15
           },
           "text": [
            "GREECE<br>Schade: 25.0 M$",
            "MEXICO<br>Schade: 5.0 M$",
            "MEXICO<br>Schade: 5.0 M$"
           ],
           "type": "scattergeo"
          },
          {
           "line": {
            "color": "lightblue",
            "width": 20
           },
           "mode": "lines",
           "showlegend": false,
           "type": "scatter",
           "x": [
            0,
            214.87
           ],
           "xaxis": "x2",
           "y": [
            0,
            0
           ],
           "yaxis": "y2"
          },
          {
           "marker": {
            "color": "blue",
            "size": 30
           },
           "mode": "markers",
           "showlegend": false,
           "type": "scatter",
           "x": [
            27.62
           ],
           "xaxis": "x2",
           "y": [
            0
           ],
           "yaxis": "y2"
          }
         ],
         "name": "1932"
        },
        {
         "data": [
          {
           "lat": {
            "bdata": "/tR46SZhQkDpJjEIrJxDQA==",
            "dtype": "f8"
           },
           "lon": {
            "bdata": "BoGVQ4tMO0CWQ4ts5xNiQA==",
            "dtype": "f8"
           },
           "marker": {
            "color": {
             "bdata": "AAAAAAAAFEAAAAAAAAA5QA==",
             "dtype": "f8"
            },
            "coloraxis": "coloraxis",
            "size": 15
           },
           "text": [
            "GREECE<br>Schade: 5.0 M$",
            "JAPAN<br>Schade: 25.0 M$"
           ],
           "type": "scattergeo"
          },
          {
           "line": {
            "color": "lightblue",
            "width": 20
           },
           "mode": "lines",
           "showlegend": false,
           "type": "scatter",
           "x": [
            0,
            214.87
           ],
           "xaxis": "x2",
           "y": [
            0,
            0
           ],
           "yaxis": "y2"
          },
          {
           "marker": {
            "color": "blue",
            "size": 30
           },
           "mode": "markers",
           "showlegend": false,
           "type": "scatter",
           "x": [
            28.57
           ],
           "xaxis": "x2",
           "y": [
            0
           ],
           "yaxis": "y2"
          }
         ],
         "name": "1933"
        },
        {
         "data": [
          {
           "lat": {
            "bdata": "2s73U+PFOkA=",
            "dtype": "f8"
           },
           "lon": {
            "bdata": "cT0K16OwVUA=",
            "dtype": "f8"
           },
           "marker": {
            "color": {
             "bdata": "AAAAAAAAOUA=",
             "dtype": "f8"
            },
            "coloraxis": "coloraxis",
            "size": 15
           },
           "text": [
            "NEPAL<br>Schade: 25.0 M$"
           ],
           "type": "scattergeo"
          },
          {
           "line": {
            "color": "lightblue",
            "width": 20
           },
           "mode": "lines",
           "showlegend": false,
           "type": "scatter",
           "x": [
            0,
            214.87
           ],
           "xaxis": "x2",
           "y": [
            0,
            0
           ],
           "yaxis": "y2"
          },
          {
           "marker": {
            "color": "blue",
            "size": 30
           },
           "mode": "markers",
           "showlegend": false,
           "type": "scatter",
           "x": [
            28.96
           ],
           "xaxis": "x2",
           "y": [
            0
           ],
           "yaxis": "y2"
          }
         ],
         "name": "1934"
        },
        {
         "data": [
          {
           "lat": {
            "bdata": "AAAAAACAPUAzMzMzM7M8QA==",
            "dtype": "f8"
           },
           "lon": {
            "bdata": "MzMzMzOzUEBmZmZmZuZZQA==",
            "dtype": "f8"
           },
           "marker": {
            "color": {
             "bdata": "AAAAAAAAOUAAAAAAAADwPw==",
             "dtype": "f8"
            },
            "coloraxis": "coloraxis",
            "size": 15
           },
           "text": [
            "PAKISTAN<br>Schade: 25.0 M$",
            "CHINA<br>Schade: 1.0 M$"
           ],
           "type": "scattergeo"
          },
          {
           "line": {
            "color": "lightblue",
            "width": 20
           },
           "mode": "lines",
           "showlegend": false,
           "type": "scatter",
           "x": [
            0,
            214.87
           ],
           "xaxis": "x2",
           "y": [
            0,
            0
           ],
           "yaxis": "y2"
          },
          {
           "marker": {
            "color": "blue",
            "size": 30
           },
           "mode": "markers",
           "showlegend": false,
           "type": "scatter",
           "x": [
            30.01
           ],
           "xaxis": "x2",
           "y": [
            0
           ],
           "yaxis": "y2"
          }
         ],
         "name": "1935"
        },
        {
         "data": [
          {
           "lat": {
            "bdata": "AAAAAACAOMA=",
            "dtype": "f8"
           },
           "lon": {
            "bdata": "AAAAAACAUcA=",
            "dtype": "f8"
           },
           "marker": {
            "color": {
             "bdata": "AAAAAAAA8D8=",
             "dtype": "f8"
            },
            "coloraxis": "coloraxis",
            "size": 15
           },
           "text": [
            "CHILE<br>Schade: 1.0 M$"
           ],
           "type": "scattergeo"
          },
          {
           "line": {
            "color": "lightblue",
            "width": 20
           },
           "mode": "lines",
           "showlegend": false,
           "type": "scatter",
           "x": [
            0,
            214.87
           ],
           "xaxis": "x2",
           "y": [
            0,
            0
           ],
           "yaxis": "y2"
          },
          {
           "marker": {
            "color": "blue",
            "size": 30
           },
           "mode": "markers",
           "showlegend": false,
           "type": "scatter",
           "x": [
            29.7
           ],
           "xaxis": "x2",
           "y": [
            0
           ],
           "yaxis": "y2"
          }
         ],
         "name": "1936"
        },
        {
         "data": [
          {
           "lat": {
            "bdata": "AAAAAAAALUAv3SQGgRURwA==",
            "dtype": "f8"
           },
           "lon": {
            "bdata": "AAAAAABgXkDRItv5fgZjQA==",
            "dtype": "f8"
           },
           "marker": {
            "color": {
             "bdata": "AAAAAAAAFEAAAAAAAADwPw==",
             "dtype": "f8"
            },
            "coloraxis": "coloraxis",
            "size": 15
           },
           "text": [
            "PHILIPPINES<br>Schade: 5.0 M$",
            "PAPUA NEW GUINEA<br>Schade: 1.0 M$"
           ],
           "type": "scattergeo"
          },
          {
           "line": {
            "color": "lightblue",
            "width": 20
           },
           "mode": "lines",
           "showlegend": false,
           "type": "scatter",
           "x": [
            0,
            214.87
           ],
           "xaxis": "x2",
           "y": [
            0,
            0
           ],
           "yaxis": "y2"
          },
          {
           "marker": {
            "color": "blue",
            "size": 30
           },
           "mode": "markers",
           "showlegend": false,
           "type": "scatter",
           "x": [
            34.87
           ],
           "xaxis": "x2",
           "y": [
            0
           ],
           "yaxis": "y2"
          }
         ],
         "name": "1937"
        },
        {
         "data": [
          {
           "lat": {
            "bdata": "zczMzMyMQkDNzMzMzMxFQAAAAAAAAPC/",
            "dtype": "f8"
           },
           "lon": {
            "bdata": "ZmZmZma2YUCamZmZmQliQAAAAAAAAF5A",
            "dtype": "f8"
           },
           "marker": {
            "color": {
             "bdata": "AAAAAAAA8D8AAAAAAADwPwAAAAAAABRA",
             "dtype": "f8"
            },
            "coloraxis": "coloraxis",
            "size": 15
           },
           "text": [
            "JAPAN<br>Schade: 1.0 M$",
            "JAPAN<br>Schade: 1.0 M$",
            "INDONESIA<br>Schade: 5.0 M$"
           ],
           "type": "scattergeo"
          },
          {
           "line": {
            "color": "lightblue",
            "width": 20
           },
           "mode": "lines",
           "showlegend": false,
           "type": "scatter",
           "x": [
            0,
            214.87
           ],
           "xaxis": "x2",
           "y": [
            0,
            0
           ],
           "yaxis": "y2"
          },
          {
           "marker": {
            "color": "blue",
            "size": 30
           },
           "mode": "markers",
           "showlegend": false,
           "type": "scatter",
           "x": [
            34.17
           ],
           "xaxis": "x2",
           "y": [
            0
           ],
           "yaxis": "y2"
          }
         ],
         "name": "1938"
        },
        {
         "data": [
          {
           "lat": {
            "bdata": "ZmZmZmYmQEDNzMzMzAxEQFK4HoXrURzAAAAAAAAgQsDXo3A9CpciwMP1KFyP4kNA",
            "dtype": "f8"
           },
           "lon": {
            "bdata": "AAAAAACAYEAAAAAAAHBhQDEIrBxabGNAAAAAAAAQUsBzaJHtfOdjQE5iEFg5xENA",
            "dtype": "f8"
           },
           "marker": {
            "color": {
             "bdata": "AAAAAAAA8D8AAAAAAADwPwAAAAAAAPA/AAAAAAAAOUAAAAAAAADwPwAAAAAAABRA",
             "dtype": "f8"
            },
            "coloraxis": "coloraxis",
            "size": 15
           },
           "text": [
            "JAPAN<br>Schade: 1.0 M$",
            "JAPAN<br>Schade: 1.0 M$",
            "PAPUA NEW GUINEA<br>Schade: 1.0 M$",
            "CHILE<br>Schade: 25.0 M$",
            "SOLOMON ISLANDS<br>Schade: 1.0 M$",
            "TURKEY<br>Schade: 5.0 M$"
           ],
           "type": "scattergeo"
          },
          {
           "line": {
            "color": "lightblue",
            "width": 20
           },
           "mode": "lines",
           "showlegend": false,
           "type": "scatter",
           "x": [
            0,
            214.87
           ],
           "xaxis": "x2",
           "y": [
            0,
            0
           ],
           "yaxis": "y2"
          },
          {
           "marker": {
            "color": "blue",
            "size": 30
           },
           "mode": "markers",
           "showlegend": false,
           "type": "scatter",
           "x": [
            38.98
           ],
           "xaxis": "x2",
           "y": [
            0
           ],
           "yaxis": "y2"
          }
         ],
         "name": "1939"
        },
        {
         "data": [
          {
           "lat": {
            "bdata": "AAAAAAAAJcCamZmZmRlGQA==",
            "dtype": "f8"
           },
           "lon": {
            "bdata": "AAAAAABAU8AAAAAAAHBhQA==",
            "dtype": "f8"
           },
           "marker": {
            "color": {
             "bdata": "AAAAAAAAFEAAAAAAAADwPw==",
             "dtype": "f8"
            },
            "coloraxis": "coloraxis",
            "size": 15
           },
           "text": [
            "PERU<br>Schade: 5.0 M$",
            "JAPAN<br>Schade: 1.0 M$"
           ],
           "type": "scattergeo"
          },
          {
           "line": {
            "color": "lightblue",
            "width": 20
           },
           "mode": "lines",
           "showlegend": false,
           "type": "scatter",
           "x": [
            0,
            214.87
           ],
           "xaxis": "x2",
           "y": [
            0,
            0
           ],
           "yaxis": "y2"
          },
          {
           "marker": {
            "color": "blue",
            "size": 30
           },
           "mode": "markers",
           "showlegend": false,
           "type": "scatter",
           "x": [
            42.67
           ],
           "xaxis": "x2",
           "y": [
            0
           ],
           "yaxis": "y2"
          }
         ],
         "name": "1940"
        },
        {
         "data": [
          {
           "lat": {
            "bdata": "MzMzMzOzEMBmZmZmZmYhQOF6FK5H4SdAAAAAAAAAQEA=",
            "dtype": "f8"
           },
           "lon": {
            "bdata": "g8DKoUUCY0DNzMzMzMxUwPLSTWIQKFdAMzMzMzODYEA=",
            "dtype": "f8"
           },
           "marker": {
            "color": {
             "bdata": "AAAAAAAA8D8AAAAAAADwPwAAAAAAADlAAAAAAAAA8D8=",
             "dtype": "f8"
            },
            "coloraxis": "coloraxis",
            "size": 15
           },
           "text": [
            "PAPUA NEW GUINEA<br>Schade: 1.0 M$",
            "COSTA RICA<br>Schade: 1.0 M$",
            "INDIA<br>Schade: 25.0 M$",
            "JAPAN<br>Schade: 1.0 M$"
           ],
           "type": "scattergeo"
          },
          {
           "line": {
            "color": "lightblue",
            "width": 20
           },
           "mode": "lines",
           "showlegend": false,
           "type": "scatter",
           "x": [
            0,
            214.87
           ],
           "xaxis": "x2",
           "y": [
            0,
            0
           ],
           "yaxis": "y2"
          },
          {
           "marker": {
            "color": "blue",
            "size": 30
           },
           "mode": "markers",
           "showlegend": false,
           "type": "scatter",
           "x": [
            46.17
           ],
           "xaxis": "x2",
           "y": [
            0
           ],
           "yaxis": "y2"
          }
         ],
         "name": "1941"
        },
        {
         "data": [
          {
           "lat": {
            "bdata": "AAAAAAAALsA=",
            "dtype": "f8"
           },
           "lon": {
            "bdata": "AAAAAAAAU8A=",
            "dtype": "f8"
           },
           "marker": {
            "color": {
             "bdata": "AAAAAAAAFEA=",
             "dtype": "f8"
            },
            "coloraxis": "coloraxis",
            "size": 15
           },
           "text": [
            "PERU<br>Schade: 5.0 M$"
           ],
           "type": "scattergeo"
          },
          {
           "line": {
            "color": "lightblue",
            "width": 20
           },
           "mode": "lines",
           "showlegend": false,
           "type": "scatter",
           "x": [
            0,
            214.87
           ],
           "xaxis": "x2",
           "y": [
            0,
            0
           ],
           "yaxis": "y2"
          },
          {
           "marker": {
            "color": "blue",
            "size": 30
           },
           "mode": "markers",
           "showlegend": false,
           "type": "scatter",
           "x": [
            43.08
           ],
           "xaxis": "x2",
           "y": [
            0
           ],
           "yaxis": "y2"
          }
         ],
         "name": "1942"
        },
        {
         "data": [
          {
           "lat": {
            "bdata": "AAAAAADAPsA=",
            "dtype": "f8"
           },
           "lon": {
            "bdata": "AAAAAAAAUsA=",
            "dtype": "f8"
           },
           "marker": {
            "color": {
             "bdata": "AAAAAAAA8D8=",
             "dtype": "f8"
            },
            "coloraxis": "coloraxis",
            "size": 15
           },
           "text": [
            "CHILE<br>Schade: 1.0 M$"
           ],
           "type": "scattergeo"
          },
          {
           "line": {
            "color": "lightblue",
            "width": 20
           },
           "mode": "lines",
           "showlegend": false,
           "type": "scatter",
           "x": [
            0,
            214.87
           ],
           "xaxis": "x2",
           "y": [
            0,
            0
           ],
           "yaxis": "y2"
          },
          {
           "marker": {
            "color": "blue",
            "size": 30
           },
           "mode": "markers",
           "showlegend": false,
           "type": "scatter",
           "x": [
            46.53
           ],
           "xaxis": "x2",
           "y": [
            0
           ],
           "yaxis": "y2"
          }
         ],
         "name": "1943"
        },
        {
         "data": [
          {
           "lat": {
            "bdata": "AAAAAAAAQUA=",
            "dtype": "f8"
           },
           "lon": {
            "bdata": "MzMzMzMjYUA=",
            "dtype": "f8"
           },
           "marker": {
            "color": {
             "bdata": "AAAAAAAAFEA=",
             "dtype": "f8"
            },
            "coloraxis": "coloraxis",
            "size": 15
           },
           "text": [
            "JAPAN<br>Schade: 5.0 M$"
           ],
           "type": "scattergeo"
          },
          {
           "line": {
            "color": "lightblue",
            "width": 20
           },
           "mode": "lines",
           "showlegend": false,
           "type": "scatter",
           "x": [
            0,
            214.87
           ],
           "xaxis": "x2",
           "y": [
            0,
            0
           ],
           "yaxis": "y2"
          },
          {
           "marker": {
            "color": "blue",
            "size": 30
           },
           "mode": "markers",
           "showlegend": false,
           "type": "scatter",
           "x": [
            48.14
           ],
           "xaxis": "x2",
           "y": [
            0
           ],
           "yaxis": "y2"
          }
         ],
         "name": "1944"
        },
        {
         "data": [
          {
           "lat": {
            "bdata": "mpmZmZlZQUA=",
            "dtype": "f8"
           },
           "lon": {
            "bdata": "ZmZmZmYmYUA=",
            "dtype": "f8"
           },
           "marker": {
            "color": {
             "bdata": "AAAAAAAAOUA=",
             "dtype": "f8"
            },
            "coloraxis": "coloraxis",
            "size": 15
           },
           "text": [
            "JAPAN<br>Schade: 25.0 M$"
           ],
           "type": "scattergeo"
          },
          {
           "line": {
            "color": "lightblue",
            "width": 20
           },
           "mode": "lines",
           "showlegend": false,
           "type": "scatter",
           "x": [
            0,
            214.87
           ],
           "xaxis": "x2",
           "y": [
            0,
            0
           ],
           "yaxis": "y2"
          },
          {
           "marker": {
            "color": "blue",
            "size": 30
           },
           "mode": "markers",
           "showlegend": false,
           "type": "scatter",
           "x": [
            48.94
           ],
           "xaxis": "x2",
           "y": [
            0
           ],
           "yaxis": "y2"
          }
         ],
         "name": "1945"
        },
        {
         "data": [
          {
           "lat": {
            "bdata": "5dAi2/m+SkAAAAAAAEAzQAAAAAAAgEBA",
            "dtype": "f8"
           },
           "lon": {
            "bdata": "tMh2vp9aZMAAAAAAAEBRwDMzMzMz82BA",
            "dtype": "f8"
           },
           "marker": {
            "color": {
             "bdata": "AAAAAAAAOUAAAAAAAAAUQAAAAAAAADlA",
             "dtype": "f8"
            },
            "coloraxis": "coloraxis",
            "size": 15
           },
           "text": [
            "USA<br>Schade: 25.0 M$",
            "DOMINICAN REPUBLIC<br>Schade: 5.0 M$",
            "JAPAN<br>Schade: 25.0 M$"
           ],
           "type": "scattergeo"
          },
          {
           "line": {
            "color": "lightblue",
            "width": 20
           },
           "mode": "lines",
           "showlegend": false,
           "type": "scatter",
           "x": [
            0,
            214.87
           ],
           "xaxis": "x2",
           "y": [
            0,
            0
           ],
           "yaxis": "y2"
          },
          {
           "marker": {
            "color": "blue",
            "size": 30
           },
           "mode": "markers",
           "showlegend": false,
           "type": "scatter",
           "x": [
            51.38
           ],
           "xaxis": "x2",
           "y": [
            0
           ],
           "yaxis": "y2"
          }
         ],
         "name": "1946"
        },
        {
         "data": [
          {
           "lat": {
            "bdata": "AAAAAACAQkA=",
            "dtype": "f8"
           },
           "lon": {
            "bdata": "AAAAAAAANkA=",
            "dtype": "f8"
           },
           "marker": {
            "color": {
             "bdata": "AAAAAAAAOUA=",
             "dtype": "f8"
            },
            "coloraxis": "coloraxis",
            "size": 15
           },
           "text": [
            "GREECE<br>Schade: 25.0 M$"
           ],
           "type": "scattergeo"
          },
          {
           "line": {
            "color": "lightblue",
            "width": 20
           },
           "mode": "lines",
           "showlegend": false,
           "type": "scatter",
           "x": [
            0,
            214.87
           ],
           "xaxis": "x2",
           "y": [
            0,
            0
           ],
           "yaxis": "y2"
          },
          {
           "marker": {
            "color": "blue",
            "size": 30
           },
           "mode": "markers",
           "showlegend": false,
           "type": "scatter",
           "x": [
            55.69
           ],
           "xaxis": "x2",
           "y": [
            0
           ],
           "yaxis": "y2"
          }
         ],
         "name": "1947"
        },
        {
         "data": [
          {
           "lat": {
            "bdata": "arx0kxhEQ0AAAAAAAAAlQA==",
            "dtype": "f8"
           },
           "lon": {
            "bdata": "WmQ7309tNEAAAAAAAIBeQA==",
            "dtype": "f8"
           },
           "marker": {
            "color": {
             "bdata": "AAAAAAAAFEAAAAAAAADwPw==",
             "dtype": "f8"
            },
            "coloraxis": "coloraxis",
            "size": 15
           },
           "text": [
            "GREECE<br>Schade: 5.0 M$",
            "PHILIPPINES<br>Schade: 1.0 M$"
           ],
           "type": "scattergeo"
          },
          {
           "line": {
            "color": "lightblue",
            "width": 20
           },
           "mode": "lines",
           "showlegend": false,
           "type": "scatter",
           "x": [
            0,
            214.87
           ],
           "xaxis": "x2",
           "y": [
            0,
            0
           ],
           "yaxis": "y2"
          },
          {
           "marker": {
            "color": "blue",
            "size": 30
           },
           "mode": "markers",
           "showlegend": false,
           "type": "scatter",
           "x": [
            58.29
           ],
           "xaxis": "x2",
           "y": [
            0
           ],
           "yaxis": "y2"
          }
         ],
         "name": "1948"
        },
        {
         "data": [
          {
           "lat": {
            "bdata": "lkOLbOdbQ0AAAAAAAAAxQA==",
            "dtype": "f8"
           },
           "lon": {
            "bdata": "CKwcWmR7OkC4HoXrUWheQA==",
            "dtype": "f8"
           },
           "marker": {
            "color": {
             "bdata": "AAAAAAAAOUAAAAAAAADwPw==",
             "dtype": "f8"
            },
            "coloraxis": "coloraxis",
            "size": 15
           },
           "text": [
            "GREECE<br>Schade: 25.0 M$",
            "PHILIPPINES<br>Schade: 1.0 M$"
           ],
           "type": "scattergeo"
          },
          {
           "line": {
            "color": "lightblue",
            "width": 20
           },
           "mode": "lines",
           "showlegend": false,
           "type": "scatter",
           "x": [
            0,
            214.87
           ],
           "xaxis": "x2",
           "y": [
            0,
            0
           ],
           "yaxis": "y2"
          },
          {
           "marker": {
            "color": "blue",
            "size": 30
           },
           "mode": "markers",
           "showlegend": false,
           "type": "scatter",
           "x": [
            60.36
           ],
           "xaxis": "x2",
           "y": [
            0
           ],
           "yaxis": "y2"
          }
         ],
         "name": "1949"
        },
        {
         "data": [
          {
           "lat": {
            "bdata": "AAAAAACALMBmZmZmZmYOwA==",
            "dtype": "f8"
           },
           "lon": {
            "bdata": "AAAAAABwU8CamZmZmQlgQA==",
            "dtype": "f8"
           },
           "marker": {
            "color": {
             "bdata": "AAAAAAAA8D8AAAAAAAAUQA==",
             "dtype": "f8"
            },
            "coloraxis": "coloraxis",
            "size": 15
           },
           "text": [
            "PERU<br>Schade: 1.0 M$",
            "INDONESIA<br>Schade: 5.0 M$"
           ],
           "type": "scattergeo"
          },
          {
           "line": {
            "color": "lightblue",
            "width": 20
           },
           "mode": "lines",
           "showlegend": false,
           "type": "scatter",
           "x": [
            0,
            214.87
           ],
           "xaxis": "x2",
           "y": [
            0,
            0
           ],
           "yaxis": "y2"
          },
          {
           "marker": {
            "color": "blue",
            "size": 30
           },
           "mode": "markers",
           "showlegend": false,
           "type": "scatter",
           "x": [
            62.95
           ],
           "xaxis": "x2",
           "y": [
            0
           ],
           "yaxis": "y2"
          }
         ],
         "name": "1950"
        },
        {
         "data": [
          {
           "lat": {
            "bdata": "zczMzMzMN0A=",
            "dtype": "f8"
           },
           "lon": {
            "bdata": "zczMzMxsXkA=",
            "dtype": "f8"
           },
           "marker": {
            "color": {
             "bdata": "AAAAAAAAFEA=",
             "dtype": "f8"
            },
            "coloraxis": "coloraxis",
            "size": 15
           },
           "text": [
            "TAIWAN<br>Schade: 5.0 M$"
           ],
           "type": "scattergeo"
          },
          {
           "line": {
            "color": "lightblue",
            "width": 20
           },
           "mode": "lines",
           "showlegend": false,
           "type": "scatter",
           "x": [
            0,
            214.87
           ],
           "xaxis": "x2",
           "y": [
            0,
            0
           ],
           "yaxis": "y2"
          },
          {
           "marker": {
            "color": "blue",
            "size": 30
           },
           "mode": "markers",
           "showlegend": false,
           "type": "scatter",
           "x": [
            66.25
           ],
           "xaxis": "x2",
           "y": [
            0
           ],
           "yaxis": "y2"
          }
         ],
         "name": "1951"
        },
        {
         "data": [
          {
           "lat": {
            "bdata": "MzMzMzMTRUA=",
            "dtype": "f8"
           },
           "lon": {
            "bdata": "MzMzMzP7YUA=",
            "dtype": "f8"
           },
           "marker": {
            "color": {
             "bdata": "AAAAAAAAFEA=",
             "dtype": "f8"
            },
            "coloraxis": "coloraxis",
            "size": 15
           },
           "text": [
            "JAPAN<br>Schade: 5.0 M$"
           ],
           "type": "scattergeo"
          },
          {
           "line": {
            "color": "lightblue",
            "width": 20
           },
           "mode": "lines",
           "showlegend": false,
           "type": "scatter",
           "x": [
            0,
            214.87
           ],
           "xaxis": "x2",
           "y": [
            0,
            0
           ],
           "yaxis": "y2"
          },
          {
           "marker": {
            "color": "blue",
            "size": 30
           },
           "mode": "markers",
           "showlegend": false,
           "type": "scatter",
           "x": [
            67.99
           ],
           "xaxis": "x2",
           "y": [
            0
           ],
           "yaxis": "y2"
          }
         ],
         "name": "1952"
        },
        {
         "data": [
          {
           "lat": {
            "bdata": "MzMzMzMzC8DNzMzMzEwywAAAAAAAgEFAZmZmZmYmQ0A=",
            "dtype": "f8"
           },
           "lon": {
            "bdata": "ZmZmZmYmVMBmZmZmZkZmQAAAAAAAQEBAzczMzMzMNEA=",
            "dtype": "f8"
           },
           "marker": {
            "color": {
             "bdata": "AAAAAAAA8D8AAAAAAADwPwAAAAAAAPA/AAAAAAAAOUA=",
             "dtype": "f8"
            },
            "coloraxis": "coloraxis",
            "size": 15
           },
           "text": [
            "PERU<br>Schade: 1.0 M$",
            "FIJI<br>Schade: 1.0 M$",
            "CYPRUS<br>Schade: 1.0 M$",
            "GREECE<br>Schade: 25.0 M$"
           ],
           "type": "scattergeo"
          },
          {
           "line": {
            "color": "lightblue",
            "width": 20
           },
           "mode": "lines",
           "showlegend": false,
           "type": "scatter",
           "x": [
            0,
            214.87
           ],
           "xaxis": "x2",
           "y": [
            0,
            0
           ],
           "yaxis": "y2"
          },
          {
           "marker": {
            "color": "blue",
            "size": 30
           },
           "mode": "markers",
           "showlegend": false,
           "type": "scatter",
           "x": [
            68.79
           ],
           "xaxis": "x2",
           "y": [
            0
           ],
           "yaxis": "y2"
          }
         ],
         "name": "1953"
        },
        {
         "data": [
          {
           "lat": {
            "bdata": "TmIQWDkkQkA=",
            "dtype": "f8"
           },
           "lon": {
            "bdata": "Rrbz/dR49z8=",
            "dtype": "f8"
           },
           "marker": {
            "color": {
             "bdata": "AAAAAAAAFEA=",
             "dtype": "f8"
            },
            "coloraxis": "coloraxis",
            "size": 15
           },
           "text": [
            "ALGERIA<br>Schade: 5.0 M$"
           ],
           "type": "scattergeo"
          },
          {
           "line": {
            "color": "lightblue",
            "width": 20
           },
           "mode": "lines",
           "showlegend": false,
           "type": "scatter",
           "x": [
            0,
            214.87
           ],
           "xaxis": "x2",
           "y": [
            0,
            0
           ],
           "yaxis": "y2"
          },
          {
           "marker": {
            "color": "blue",
            "size": 30
           },
           "mode": "markers",
           "showlegend": false,
           "type": "scatter",
           "x": [
            67.93
           ],
           "xaxis": "x2",
           "y": [
            0
           ],
           "yaxis": "y2"
          }
         ],
         "name": "1954"
        },
        {
         "data": [
          {
           "lat": {
            "bdata": "AAAAAAAAPsAzMzMzM7NDQA==",
            "dtype": "f8"
           },
           "lon": {
            "bdata": "AAAAAAAAUsCamZmZmRk3QA==",
            "dtype": "f8"
           },
           "marker": {
            "color": {
             "bdata": "AAAAAAAA8D8AAAAAAAA5QA==",
             "dtype": "f8"
            },
            "coloraxis": "coloraxis",
            "size": 15
           },
           "text": [
            "CHILE<br>Schade: 1.0 M$",
            "GREECE<br>Schade: 25.0 M$"
           ],
           "type": "scattergeo"
          },
          {
           "line": {
            "color": "lightblue",
            "width": 20
           },
           "mode": "lines",
           "showlegend": false,
           "type": "scatter",
           "x": [
            0,
            214.87
           ],
           "xaxis": "x2",
           "y": [
            0,
            0
           ],
           "yaxis": "y2"
          },
          {
           "marker": {
            "color": "blue",
            "size": 30
           },
           "mode": "markers",
           "showlegend": false,
           "type": "scatter",
           "x": [
            70.92
           ],
           "xaxis": "x2",
           "y": [
            0
           ],
           "yaxis": "y2"
          }
         ],
         "name": "1955"
        },
        {
         "data": [
          {
           "lat": {
            "bdata": "AAAAAACAMEBMN4lBYKVJQA==",
            "dtype": "f8"
           },
           "lon": {
            "bdata": "ZmZmZmbGWMDkpZvEIPRlwA==",
            "dtype": "f8"
           },
           "marker": {
            "color": {
             "bdata": "AAAAAAAAOUAAAAAAAAAUQA==",
             "dtype": "f8"
            },
            "coloraxis": "coloraxis",
            "size": 15
           },
           "text": [
            "MEXICO<br>Schade: 25.0 M$",
            "USA<br>Schade: 5.0 M$"
           ],
           "type": "scattergeo"
          },
          {
           "line": {
            "color": "lightblue",
            "width": 20
           },
           "mode": "lines",
           "showlegend": false,
           "type": "scatter",
           "x": [
            0,
            214.87
           ],
           "xaxis": "x2",
           "y": [
            0,
            0
           ],
           "yaxis": "y2"
          },
          {
           "marker": {
            "color": "blue",
            "size": 30
           },
           "mode": "markers",
           "showlegend": false,
           "type": "scatter",
           "x": [
            74.71
           ],
           "xaxis": "x2",
           "y": [
            0
           ],
           "yaxis": "y2"
          }
         ],
         "name": "1957"
        },
        {
         "data": [
          {
           "lat": {
            "bdata": "j8L1KFwvTUAAAAAAAAD4Pw==",
            "dtype": "f8"
           },
           "lon": {
            "bdata": "4XoUrkcVYcAAAAAAAOBTwA==",
            "dtype": "f8"
           },
           "marker": {
            "color": {
             "bdata": "AAAAAAAA8D8AAAAAAADwPw==",
             "dtype": "f8"
            },
            "coloraxis": "coloraxis",
            "size": 15
           },
           "text": [
            "USA<br>Schade: 1.0 M$",
            "ECUADOR<br>Schade: 1.0 M$"
           ],
           "type": "scattergeo"
          },
          {
           "line": {
            "color": "lightblue",
            "width": 20
           },
           "mode": "lines",
           "showlegend": false,
           "type": "scatter",
           "x": [
            0,
            214.87
           ],
           "xaxis": "x2",
           "y": [
            0,
            0
           ],
           "yaxis": "y2"
          },
          {
           "marker": {
            "color": "blue",
            "size": 30
           },
           "mode": "markers",
           "showlegend": false,
           "type": "scatter",
           "x": [
            78.82
           ],
           "xaxis": "x2",
           "y": [
            0
           ],
           "yaxis": "y2"
          }
         ],
         "name": "1958"
        },
        {
         "data": [
          {
           "lat": {
            "bdata": "AAAAAACAPkD8qfHSTRJDwA==",
            "dtype": "f8"
           },
           "lon": {
            "bdata": "AAAAAAAAI8A1XrpJDFpSwA==",
            "dtype": "f8"
           },
           "marker": {
            "color": {
             "bdata": "AAAAAAAAOUAAAAAAAAA5QA==",
             "dtype": "f8"
            },
            "coloraxis": "coloraxis",
            "size": 15
           },
           "text": [
            "MOROCCO<br>Schade: 25.0 M$",
            "CHILE<br>Schade: 25.0 M$"
           ],
           "type": "scattergeo"
          },
          {
           "line": {
            "color": "lightblue",
            "width": 20
           },
           "mode": "lines",
           "showlegend": false,
           "type": "scatter",
           "x": [
            0,
            214.87
           ],
           "xaxis": "x2",
           "y": [
            0,
            0
           ],
           "yaxis": "y2"
          },
          {
           "marker": {
            "color": "blue",
            "size": 30
           },
           "mode": "markers",
           "showlegend": false,
           "type": "scatter",
           "x": [
            84.29
           ],
           "xaxis": "x2",
           "y": [
            0
           ],
           "yaxis": "y2"
          }
         ],
         "name": "1960"
        },
        {
         "data": [
          {
           "lat": {
            "bdata": "mpmZmZmZP0A=",
            "dtype": "f8"
           },
           "lon": {
            "bdata": "mpmZmZl5YEA=",
            "dtype": "f8"
           },
           "marker": {
            "color": {
             "bdata": "AAAAAAAA8D8=",
             "dtype": "f8"
            },
            "coloraxis": "coloraxis",
            "size": 15
           },
           "text": [
            "JAPAN<br>Schade: 1.0 M$"
           ],
           "type": "scattergeo"
          },
          {
           "line": {
            "color": "lightblue",
            "width": 20
           },
           "mode": "lines",
           "showlegend": false,
           "type": "scatter",
           "x": [
            0,
            214.87
           ],
           "xaxis": "x2",
           "y": [
            0,
            0
           ],
           "yaxis": "y2"
          },
          {
           "marker": {
            "color": "blue",
            "size": 30
           },
           "mode": "markers",
           "showlegend": false,
           "type": "scatter",
           "x": [
            84.89
           ],
           "xaxis": "x2",
           "y": [
            0
           ],
           "yaxis": "y2"
          }
         ],
         "name": "1961"
        },
        {
         "data": [
          {
           "lat": {
            "bdata": "MzMzMzMzMUAzMzMzMzMxQA==",
            "dtype": "f8"
           },
           "lon": {
            "bdata": "AAAAAADgWMBmZmZmZuZYwA==",
            "dtype": "f8"
           },
           "marker": {
            "color": {
             "bdata": "AAAAAAAA8D8AAAAAAADwPw==",
             "dtype": "f8"
            },
            "coloraxis": "coloraxis",
            "size": 15
           },
           "text": [
            "MEXICO<br>Schade: 1.0 M$",
            "MEXICO<br>Schade: 1.0 M$"
           ],
           "type": "scattergeo"
          },
          {
           "line": {
            "color": "lightblue",
            "width": 20
           },
           "mode": "lines",
           "showlegend": false,
           "type": "scatter",
           "x": [
            0,
            214.87
           ],
           "xaxis": "x2",
           "y": [
            0,
            0
           ],
           "yaxis": "y2"
          },
          {
           "marker": {
            "color": "blue",
            "size": 30
           },
           "mode": "markers",
           "showlegend": false,
           "type": "scatter",
           "x": [
            84.73
           ],
           "xaxis": "x2",
           "y": [
            0
           ],
           "yaxis": "y2"
          }
         ],
         "name": "1962"
        },
        {
         "data": [
          {
           "lat": {
            "bdata": "ZmZmZmZmOEBI4XoUridDQAAAAAAAYERAGQRWDi0iR0A=",
            "dtype": "f8"
           },
           "lon": {
            "bdata": "ZmZmZmaGXkCF61G4HgU2QAAAAAAAAD1AnMQgsHKoKEA=",
            "dtype": "f8"
           },
           "marker": {
            "color": {
             "bdata": "AAAAAAAA8D8AAAAAAADwPwAAAAAAAPA/AAAAAAAAFEA=",
             "dtype": "f8"
            },
            "coloraxis": "coloraxis",
            "size": 15
           },
           "text": [
            "TAIWAN<br>Schade: 1.0 M$",
            "GREECE<br>Schade: 1.0 M$",
            "TURKEY<br>Schade: 1.0 M$",
            "ITALY<br>Schade: 5.0 M$"
           ],
           "type": "scattergeo"
          },
          {
           "line": {
            "color": "lightblue",
            "width": 20
           },
           "mode": "lines",
           "showlegend": false,
           "type": "scatter",
           "x": [
            0,
            214.87
           ],
           "xaxis": "x2",
           "y": [
            0,
            0
           ],
           "yaxis": "y2"
          },
          {
           "marker": {
            "color": "blue",
            "size": 30
           },
           "mode": "markers",
           "showlegend": false,
           "type": "scatter",
           "x": [
            84.85
           ],
           "xaxis": "x2",
           "y": [
            0
           ],
           "yaxis": "y2"
          }
         ],
         "name": "1963"
        },
        {
         "data": [
          {
           "lat": {
            "bdata": "MzMzMzNTQ0AZBFYOLYJOQA==",
            "dtype": "f8"
           },
           "lon": {
            "bdata": "ZmZmZmZmYUDb+X5qvHRiwA==",
            "dtype": "f8"
           },
           "marker": {
            "color": {
             "bdata": "AAAAAAAAOUAAAAAAAAA5QA==",
             "dtype": "f8"
            },
            "coloraxis": "coloraxis",
            "size": 15
           },
           "text": [
            "JAPAN<br>Schade: 25.0 M$",
            "USA<br>Schade: 25.0 M$"
           ],
           "type": "scattergeo"
          },
          {
           "line": {
            "color": "lightblue",
            "width": 20
           },
           "mode": "lines",
           "showlegend": false,
           "type": "scatter",
           "x": [
            0,
            214.87
           ],
           "xaxis": "x2",
           "y": [
            0,
            0
           ],
           "yaxis": "y2"
          },
          {
           "marker": {
            "color": "blue",
            "size": 30
           },
           "mode": "markers",
           "showlegend": false,
           "type": "scatter",
           "x": [
            82.9
           ],
           "xaxis": "x2",
           "y": [
            0
           ],
           "yaxis": "y2"
          }
         ],
         "name": "1964"
        },
        {
         "data": [
          {
           "lat": {
            "bdata": "MzMzMzMzA8AbL90kBgEsQDMzMzMzs0NAcT0K16PgRMA=",
            "dtype": "f8"
           },
           "lon": {
            "bdata": "ZmZmZmaGX0BkO99PjT9eQAAAAAAAADhA001iEFgZUsA=",
            "dtype": "f8"
           },
           "marker": {
            "color": {
             "bdata": "AAAAAAAA8D8AAAAAAADwPwAAAAAAABRAAAAAAAAAFEA=",
             "dtype": "f8"
            },
            "coloraxis": "coloraxis",
            "size": 15
           },
           "text": [
            "INDONESIA<br>Schade: 1.0 M$",
            "PHILIPPINES<br>Schade: 1.0 M$",
            "GREECE<br>Schade: 5.0 M$",
            "CHILE<br>Schade: 5.0 M$"
           ],
           "type": "scattergeo"
          },
          {
           "line": {
            "color": "lightblue",
            "width": 20
           },
           "mode": "lines",
           "showlegend": false,
           "type": "scatter",
           "x": [
            0,
            214.87
           ],
           "xaxis": "x2",
           "y": [
            0,
            0
           ],
           "yaxis": "y2"
          },
          {
           "marker": {
            "color": "blue",
            "size": 30
           },
           "mode": "markers",
           "showlegend": false,
           "type": "scatter",
           "x": [
            83.22
           ],
           "xaxis": "x2",
           "y": [
            0
           ],
           "yaxis": "y2"
          }
         ],
         "name": "1965"
        },
        {
         "data": [
          {
           "lat": {
            "bdata": "AAAAAACAOcDl0CLb+X4lwJqZmZmZGThA",
            "dtype": "f8"
           },
           "lon": {
            "bdata": "zczMzMysUcBGtvP91KhTwGZmZmZmpl5A",
            "dtype": "f8"
           },
           "marker": {
            "color": {
             "bdata": "AAAAAAAA8D8AAAAAAAA5QAAAAAAAAPA/",
             "dtype": "f8"
            },
            "coloraxis": "coloraxis",
            "size": 15
           },
           "text": [
            "CHILE<br>Schade: 1.0 M$",
            "PERU<br>Schade: 25.0 M$",
            "TAIWAN<br>Schade: 1.0 M$"
           ],
           "type": "scattergeo"
          },
          {
           "line": {
            "color": "lightblue",
            "width": 20
           },
           "mode": "lines",
           "showlegend": false,
           "type": "scatter",
           "x": [
            0,
            214.87
           ],
           "xaxis": "x2",
           "y": [
            0,
            0
           ],
           "yaxis": "y2"
          },
          {
           "marker": {
            "color": "blue",
            "size": 30
           },
           "mode": "markers",
           "showlegend": false,
           "type": "scatter",
           "x": [
            82.64
           ],
           "xaxis": "x2",
           "y": [
            0
           ],
           "yaxis": "y2"
          }
         ],
         "name": "1966"
        },
        {
         "data": [
          {
           "lat": {
            "bdata": "MzMzMzOzNcAAAAAAAAAWQJqZmZmZmQ3A",
            "dtype": "f8"
           },
           "lon": {
            "bdata": "AAAAAABgUcAzMzMzM1NYQDMzMzMz011A",
            "dtype": "f8"
           },
           "marker": {
            "color": {
             "bdata": "AAAAAAAA8D8AAAAAAAAUQAAAAAAAAPA/",
             "dtype": "f8"
            },
            "coloraxis": "coloraxis",
            "size": 15
           },
           "text": [
            "CHILE<br>Schade: 1.0 M$",
            "INDONESIA<br>Schade: 5.0 M$",
            "INDONESIA<br>Schade: 1.0 M$"
           ],
           "type": "scattergeo"
          },
          {
           "line": {
            "color": "lightblue",
            "width": 20
           },
           "mode": "lines",
           "showlegend": false,
           "type": "scatter",
           "x": [
            0,
            214.87
           ],
           "xaxis": "x2",
           "y": [
            0,
            0
           ],
           "yaxis": "y2"
          },
          {
           "marker": {
            "color": "blue",
            "size": 30
           },
           "mode": "markers",
           "showlegend": false,
           "type": "scatter",
           "x": [
            84.31
           ],
           "xaxis": "x2",
           "y": [
            0
           ],
           "yaxis": "y2"
          }
         ],
         "name": "1967"
        },
        {
         "data": [
          {
           "lat": {
            "bdata": "ZmZmZmYmQEDJdr6fGq9DQGZmZmZmZkRAAAAAAACAMECamZmZmZnJP2ZmZmZm5kRA",
            "dtype": "f8"
           },
           "lon": {
            "bdata": "AAAAAACQYECiRbbz/fQ4QGZmZmZm5mFAzczMzMyMXkAzMzMzM/NdQGZmZmZmJkBA",
            "dtype": "f8"
           },
           "marker": {
            "color": {
             "bdata": "AAAAAAAA8D8AAAAAAADwPwAAAAAAADlAAAAAAAAAFEAAAAAAAAAUQAAAAAAAABRA",
             "dtype": "f8"
            },
            "coloraxis": "coloraxis",
            "size": 15
           },
           "text": [
            "JAPAN<br>Schade: 1.0 M$",
            "GREECE<br>Schade: 1.0 M$",
            "JAPAN<br>Schade: 25.0 M$",
            "PHILIPPINES<br>Schade: 5.0 M$",
            "INDONESIA<br>Schade: 5.0 M$",
            "TURKEY<br>Schade: 5.0 M$"
           ],
           "type": "scattergeo"
          },
          {
           "line": {
            "color": "lightblue",
            "width": 20
           },
           "mode": "lines",
           "showlegend": false,
           "type": "scatter",
           "x": [
            0,
            214.87
           ],
           "xaxis": "x2",
           "y": [
            0,
            0
           ],
           "yaxis": "y2"
          },
          {
           "marker": {
            "color": "blue",
            "size": 30
           },
           "mode": "markers",
           "showlegend": false,
           "type": "scatter",
           "x": [
            84.63
           ],
           "xaxis": "x2",
           "y": [
            0
           ],
           "yaxis": "y2"
          }
         ],
         "name": "1968"
        },
        {
         "data": [
          {
           "lat": {
            "bdata": "GQRWDi0CQkDNzMzMzMwIwDMzMzMzsztA",
            "dtype": "f8"
           },
           "lon": {
            "bdata": "ZmZmZmbmJcCamZmZmbldQAAAAAAAAEFA",
            "dtype": "f8"
           },
           "marker": {
            "color": {
             "bdata": "AAAAAAAA8D8AAAAAAAAUQAAAAAAAABRA",
             "dtype": "f8"
            },
            "coloraxis": "coloraxis",
            "size": 15
           },
           "text": [
            "PORTUGAL<br>Schade: 1.0 M$",
            "INDONESIA<br>Schade: 5.0 M$",
            "EGYPT<br>Schade: 5.0 M$"
           ],
           "type": "scattergeo"
          },
          {
           "line": {
            "color": "lightblue",
            "width": 20
           },
           "mode": "lines",
           "showlegend": false,
           "type": "scatter",
           "x": [
            0,
            214.87
           ],
           "xaxis": "x2",
           "y": [
            0,
            0
           ],
           "yaxis": "y2"
          },
          {
           "marker": {
            "color": "blue",
            "size": 30
           },
           "mode": "markers",
           "showlegend": false,
           "type": "scatter",
           "x": [
            86.63
           ],
           "xaxis": "x2",
           "y": [
            0
           ],
           "yaxis": "y2"
          }
         ],
         "name": "1969"
        },
        {
         "data": [
          {
           "lat": {
            "bdata": "ZmZmZmZmIsBU46WbxKATwAAAAAAAgEVA",
            "dtype": "f8"
           },
           "lon": {
            "bdata": "MzMzMzOzU8BQjZduEi9iQM3MzMzMjEdA",
            "dtype": "f8"
           },
           "marker": {
            "color": {
             "bdata": "AAAAAAAAOUAAAAAAAADwPwAAAAAAAPA/",
             "dtype": "f8"
            },
            "coloraxis": "coloraxis",
            "size": 15
           },
           "text": [
            "PERU<br>Schade: 25.0 M$",
            "PAPUA NEW GUINEA<br>Schade: 1.0 M$",
            "RUSSIA<br>Schade: 1.0 M$"
           ],
           "type": "scattergeo"
          },
          {
           "line": {
            "color": "lightblue",
            "width": 20
           },
           "mode": "lines",
           "showlegend": false,
           "type": "scatter",
           "x": [
            0,
            214.87
           ],
           "xaxis": "x2",
           "y": [
            0,
            0
           ],
           "yaxis": "y2"
          },
          {
           "marker": {
            "color": "blue",
            "size": 30
           },
           "mode": "markers",
           "showlegend": false,
           "type": "scatter",
           "x": [
            91.17
           ],
           "xaxis": "x2",
           "y": [
            0
           ],
           "yaxis": "y2"
          }
         ],
         "name": "1970"
        },
        {
         "data": [
          {
           "lat": {
            "bdata": "AAAAAABAQMAIrBxaZDsmwA==",
            "dtype": "f8"
           },
           "lon": {
            "bdata": "zczMzMzMUcAAAAAAACBTwA==",
            "dtype": "f8"
           },
           "marker": {
            "color": {
             "bdata": "AAAAAAAAOUAAAAAAAADwPw==",
             "dtype": "f8"
            },
            "coloraxis": "coloraxis",
            "size": 15
           },
           "text": [
            "CHILE<br>Schade: 25.0 M$",
            "PERU<br>Schade: 1.0 M$"
           ],
           "type": "scattergeo"
          },
          {
           "line": {
            "color": "lightblue",
            "width": 20
           },
           "mode": "lines",
           "showlegend": false,
           "type": "scatter",
           "x": [
            0,
            214.87
           ],
           "xaxis": "x2",
           "y": [
            0,
            0
           ],
           "yaxis": "y2"
          },
          {
           "marker": {
            "color": "blue",
            "size": 30
           },
           "mode": "markers",
           "showlegend": false,
           "type": "scatter",
           "x": [
            94.39
           ],
           "xaxis": "x2",
           "y": [
            0
           ],
           "yaxis": "y2"
          }
         ],
         "name": "1971"
        },
        {
         "data": [
          {
           "lat": {
            "bdata": "AAAAAACANkA=",
            "dtype": "f8"
           },
           "lon": {
            "bdata": "MzMzMzOTXkA=",
            "dtype": "f8"
           },
           "marker": {
            "color": {
             "bdata": "AAAAAAAA8D8=",
             "dtype": "f8"
            },
            "coloraxis": "coloraxis",
            "size": 15
           },
           "text": [
            "TAIWAN<br>Schade: 1.0 M$"
           ],
           "type": "scattergeo"
          },
          {
           "line": {
            "color": "lightblue",
            "width": 20
           },
           "mode": "lines",
           "showlegend": false,
           "type": "scatter",
           "x": [
            0,
            214.87
           ],
           "xaxis": "x2",
           "y": [
            0,
            0
           ],
           "yaxis": "y2"
          },
          {
           "marker": {
            "color": "blue",
            "size": 30
           },
           "mode": "markers",
           "showlegend": false,
           "type": "scatter",
           "x": [
            98.27
           ],
           "xaxis": "x2",
           "y": [
            0
           ],
           "yaxis": "y2"
          }
         ],
         "name": "1972"
        },
        {
         "data": [
          {
           "lat": {
            "bdata": "exSuR+F6MkA=",
            "dtype": "f8"
           },
           "lon": {
            "bdata": "AAAAAADAWcA=",
            "dtype": "f8"
           },
           "marker": {
            "color": {
             "bdata": "AAAAAAAA8D8=",
             "dtype": "f8"
            },
            "coloraxis": "coloraxis",
            "size": 15
           },
           "text": [
            "MEXICO<br>Schade: 1.0 M$"
           ],
           "type": "scattergeo"
          },
          {
           "line": {
            "color": "lightblue",
            "width": 20
           },
           "mode": "lines",
           "showlegend": false,
           "type": "scatter",
           "x": [
            0,
            214.87
           ],
           "xaxis": "x2",
           "y": [
            0,
            0
           ],
           "yaxis": "y2"
          },
          {
           "marker": {
            "color": "blue",
            "size": 30
           },
           "mode": "markers",
           "showlegend": false,
           "type": "scatter",
           "x": [
            102.05
           ],
           "xaxis": "x2",
           "y": [
            0
           ],
           "yaxis": "y2"
          }
         ],
         "name": "1973"
        },
        {
         "data": [
          {
           "lat": {
            "bdata": "zczMzMyMQUAK16NwPYoowM3MzMzMTEFA",
            "dtype": "f8"
           },
           "lon": {
            "bdata": "mpmZmZk5UkDD9Shcj3JTwGZmZmZmVmFA",
            "dtype": "f8"
           },
           "marker": {
            "color": {
             "bdata": "AAAAAAAA8D8AAAAAAAAUQAAAAAAAAPA/",
             "dtype": "f8"
            },
            "coloraxis": "coloraxis",
            "size": 15
           },
           "text": [
            "PAKISTAN<br>Schade: 1.0 M$",
            "PERU<br>Schade: 5.0 M$",
            "JAPAN<br>Schade: 1.0 M$"
           ],
           "type": "scattergeo"
          },
          {
           "line": {
            "color": "lightblue",
            "width": 20
           },
           "mode": "lines",
           "showlegend": false,
           "type": "scatter",
           "x": [
            0,
            214.87
           ],
           "xaxis": "x2",
           "y": [
            0,
            0
           ],
           "yaxis": "y2"
          },
          {
           "marker": {
            "color": "blue",
            "size": 30
           },
           "mode": "markers",
           "showlegend": false,
           "type": "scatter",
           "x": [
            105.2
           ],
           "xaxis": "x2",
           "y": [
            0
           ],
           "yaxis": "y2"
          }
         ],
         "name": "1974"
        },
        {
         "data": [
          {
           "lat": {
            "bdata": "FK5H4XoUKUA=",
            "dtype": "f8"
           },
           "lon": {
            "bdata": "ZDvfT41/X0A=",
            "dtype": "f8"
           },
           "marker": {
            "color": {
             "bdata": "AAAAAAAA8D8=",
             "dtype": "f8"
            },
            "coloraxis": "coloraxis",
            "size": 15
           },
           "text": [
            "PHILIPPINES<br>Schade: 1.0 M$"
           ],
           "type": "scattergeo"
          },
          {
           "line": {
            "color": "lightblue",
            "width": 20
           },
           "mode": "lines",
           "showlegend": false,
           "type": "scatter",
           "x": [
            0,
            214.87
           ],
           "xaxis": "x2",
           "y": [
            0,
            0
           ],
           "yaxis": "y2"
          },
          {
           "marker": {
            "color": "blue",
            "size": 30
           },
           "mode": "markers",
           "showlegend": false,
           "type": "scatter",
           "x": [
            104.24
           ],
           "xaxis": "x2",
           "y": [
            0
           ],
           "yaxis": "y2"
          }
         ],
         "name": "1975"
        },
        {
         "data": [
          {
           "lat": {
            "bdata": "uB6F61EYQ0BkO99PjWdBQA==",
            "dtype": "f8"
           },
           "lon": {
            "bdata": "KVyPwvXAYUA/NV66SWhhQA==",
            "dtype": "f8"
           },
           "marker": {
            "color": {
             "bdata": "AAAAAAAAOUAAAAAAAAAUQA==",
             "dtype": "f8"
            },
            "coloraxis": "coloraxis",
            "size": 15
           },
           "text": [
            "JAPAN<br>Schade: 25.0 M$",
            "JAPAN<br>Schade: 5.0 M$"
           ],
           "type": "scattergeo"
          },
          {
           "line": {
            "color": "lightblue",
            "width": 20
           },
           "mode": "lines",
           "showlegend": false,
           "type": "scatter",
           "x": [
            0,
            214.87
           ],
           "xaxis": "x2",
           "y": [
            0,
            0
           ],
           "yaxis": "y2"
          },
          {
           "marker": {
            "color": "blue",
            "size": 30
           },
           "mode": "markers",
           "showlegend": false,
           "type": "scatter",
           "x": [
            107.29
           ],
           "xaxis": "x2",
           "y": [
            0
           ],
           "yaxis": "y2"
          }
         ],
         "name": "1978"
        },
        {
         "data": [
          {
           "lat": {
            "bdata": "PzVeukkMRUDjpZvEINAxQHe+nxov3fq/xSCwcmiR+T8zMzMzMzMhwA==",
            "dtype": "f8"
           },
           "lon": {
            "bdata": "L90kBoE1M0CLbOf7qVFZwOF6FK5HAWFA9P3UeOnWU8AAAAAAAOBeQA==",
            "dtype": "f8"
           },
           "marker": {
            "color": {
             "bdata": "AAAAAAAAOUAAAAAAAAA5QAAAAAAAABRAAAAAAAAAFEAAAAAAAAAUQA==",
             "dtype": "f8"
            },
            "coloraxis": "coloraxis",
            "size": 15
           },
           "text": [
            "MONTENEGRO<br>Schade: 25.0 M$",
            "MEXICO<br>Schade: 25.0 M$",
            "INDONESIA<br>Schade: 5.0 M$",
            "COLOMBIA<br>Schade: 5.0 M$",
            "INDONESIA<br>Schade: 5.0 M$"
           ],
           "type": "scattergeo"
          },
          {
           "line": {
            "color": "lightblue",
            "width": 20
           },
           "mode": "lines",
           "showlegend": false,
           "type": "scatter",
           "x": [
            0,
            214.87
           ],
           "xaxis": "x2",
           "y": [
            0,
            0
           ],
           "yaxis": "y2"
          },
          {
           "marker": {
            "color": "blue",
            "size": 30
           },
           "mode": "markers",
           "showlegend": false,
           "type": "scatter",
           "x": [
            111.05
           ],
           "xaxis": "x2",
           "y": [
            0
           ],
           "yaxis": "y2"
          }
         ],
         "name": "1979"
        },
        {
         "data": [
          {
           "lat": {
            "bdata": "KVyPwvUYQkA=",
            "dtype": "f8"
           },
           "lon": {
            "bdata": "RIts5/up9T8=",
            "dtype": "f8"
           },
           "marker": {
            "color": {
             "bdata": "AAAAAAAAOUA=",
             "dtype": "f8"
            },
            "coloraxis": "coloraxis",
            "size": 15
           },
           "text": [
            "ALGERIA<br>Schade: 25.0 M$"
           ],
           "type": "scattergeo"
          },
          {
           "line": {
            "color": "lightblue",
            "width": 20
           },
           "mode": "lines",
           "showlegend": false,
           "type": "scatter",
           "x": [
            0,
            214.87
           ],
           "xaxis": "x2",
           "y": [
            0,
            0
           ],
           "yaxis": "y2"
          },
          {
           "marker": {
            "color": "blue",
            "size": 30
           },
           "mode": "markers",
           "showlegend": false,
           "type": "scatter",
           "x": [
            113.17
           ],
           "xaxis": "x2",
           "y": [
            0
           ],
           "yaxis": "y2"
          }
         ],
         "name": "1980"
        },
        {
         "data": [
          {
           "lat": {
            "bdata": "I9v5fmocQ0DsUbgehestwA==",
            "dtype": "f8"
           },
           "lon": {
            "bdata": "yXa+nxrvNkAfhetRuKJlwA==",
            "dtype": "f8"
           },
           "marker": {
            "color": {
             "bdata": "AAAAAAAAOUAAAAAAAADwPw==",
             "dtype": "f8"
            },
            "coloraxis": "coloraxis",
            "size": 15
           },
           "text": [
            "GREECE<br>Schade: 25.0 M$",
            "SAMOA<br>Schade: 1.0 M$"
           ],
           "type": "scattergeo"
          },
          {
           "line": {
            "color": "lightblue",
            "width": 20
           },
           "mode": "lines",
           "showlegend": false,
           "type": "scatter",
           "x": [
            0,
            214.87
           ],
           "xaxis": "x2",
           "y": [
            0,
            0
           ],
           "yaxis": "y2"
          },
          {
           "marker": {
            "color": "blue",
            "size": 30
           },
           "mode": "markers",
           "showlegend": false,
           "type": "scatter",
           "x": [
            117.08
           ],
           "xaxis": "x2",
           "y": [
            0
           ],
           "yaxis": "y2"
          }
         ],
         "name": "1981"
        },
        {
         "data": [
          {
           "lat": {
            "bdata": "KVyPwvWIOsBCYOXQIjsyQEJg5dAiO0RA",
            "dtype": "f8"
           },
           "lon": {
            "bdata": "eekmMQikUcDXo3A9CjdeQCUGgZVDY2FA",
            "dtype": "f8"
           },
           "marker": {
            "color": {
             "bdata": "AAAAAAAA8D8AAAAAAADwPwAAAAAAADlA",
             "dtype": "f8"
            },
            "coloraxis": "coloraxis",
            "size": 15
           },
           "text": [
            "CHILE<br>Schade: 1.0 M$",
            "PHILIPPINES<br>Schade: 1.0 M$",
            "JAPAN<br>Schade: 25.0 M$"
           ],
           "type": "scattergeo"
          },
          {
           "line": {
            "color": "lightblue",
            "width": 20
           },
           "mode": "lines",
           "showlegend": false,
           "type": "scatter",
           "x": [
            0,
            214.87
           ],
           "xaxis": "x2",
           "y": [
            0,
            0
           ],
           "yaxis": "y2"
          },
          {
           "marker": {
            "color": "blue",
            "size": 30
           },
           "mode": "markers",
           "showlegend": false,
           "type": "scatter",
           "x": [
            123.08
           ],
           "xaxis": "x2",
           "y": [
            0
           ],
           "yaxis": "y2"
          }
         ],
         "name": "1983"
        },
        {
         "data": [
          {
           "lat": {
            "bdata": "cT0K16MwMkA3iUFg5ZBAwA==",
            "dtype": "f8"
           },
           "lon": {
            "bdata": "JzEIrByiWcBaZDvfT+1RwA==",
            "dtype": "f8"
           },
           "marker": {
            "color": {
             "bdata": "AAAAAAAAOUAAAAAAAAA5QA==",
             "dtype": "f8"
            },
            "coloraxis": "coloraxis",
            "size": 15
           },
           "text": [
            "MEXICO<br>Schade: 25.0 M$",
            "CHILE<br>Schade: 25.0 M$"
           ],
           "type": "scattergeo"
          },
          {
           "line": {
            "color": "lightblue",
            "width": 20
           },
           "mode": "lines",
           "showlegend": false,
           "type": "scatter",
           "x": [
            0,
            214.87
           ],
           "xaxis": "x2",
           "y": [
            0,
            0
           ],
           "yaxis": "y2"
          },
          {
           "marker": {
            "color": "blue",
            "size": 30
           },
           "mode": "markers",
           "showlegend": false,
           "type": "scatter",
           "x": [
            122.17
           ],
           "xaxis": "x2",
           "y": [
            0
           ],
           "yaxis": "y2"
          }
         ],
         "name": "1985"
        },
        {
         "data": [
          {
           "lat": {
            "bdata": "JjEIrBxaGMA=",
            "dtype": "f8"
           },
           "lon": {
            "bdata": "NV66SQx2YkA=",
            "dtype": "f8"
           },
           "marker": {
            "color": {
             "bdata": "AAAAAAAA8D8=",
             "dtype": "f8"
            },
            "coloraxis": "coloraxis",
            "size": 15
           },
           "text": [
            "PAPUA NEW GUINEA<br>Schade: 1.0 M$"
           ],
           "type": "scattergeo"
          },
          {
           "line": {
            "color": "lightblue",
            "width": 20
           },
           "mode": "lines",
           "showlegend": false,
           "type": "scatter",
           "x": [
            0,
            214.87
           ],
           "xaxis": "x2",
           "y": [
            0,
            0
           ],
           "yaxis": "y2"
          },
          {
           "marker": {
            "color": "blue",
            "size": 30
           },
           "mode": "markers",
           "showlegend": false,
           "type": "scatter",
           "x": [
            120.17
           ],
           "xaxis": "x2",
           "y": [
            0
           ],
           "yaxis": "y2"
          }
         ],
         "name": "1987"
        },
        {
         "data": [
          {
           "lat": {
            "bdata": "arx0kxiEJMA=",
            "dtype": "f8"
           },
           "lon": {
            "bdata": "6iYxCKwcZEA=",
            "dtype": "f8"
           },
           "marker": {
            "color": {
             "bdata": "AAAAAAAA8D8=",
             "dtype": "f8"
            },
            "coloraxis": "coloraxis",
            "size": 15
           },
           "text": [
            "SOLOMON ISLANDS<br>Schade: 1.0 M$"
           ],
           "type": "scattergeo"
          },
          {
           "line": {
            "color": "lightblue",
            "width": 20
           },
           "mode": "lines",
           "showlegend": false,
           "type": "scatter",
           "x": [
            0,
            214.87
           ],
           "xaxis": "x2",
           "y": [
            0,
            0
           ],
           "yaxis": "y2"
          },
          {
           "marker": {
            "color": "blue",
            "size": 30
           },
           "mode": "markers",
           "showlegend": false,
           "type": "scatter",
           "x": [
            122.99
           ],
           "xaxis": "x2",
           "y": [
            0
           ],
           "yaxis": "y2"
          }
         ],
         "name": "1988"
        },
        {
         "data": [
          {
           "lat": {
            "bdata": "+FPjpZuEQkA=",
            "dtype": "f8"
           },
           "lon": {
            "bdata": "jZduEoN4XsA=",
            "dtype": "f8"
           },
           "marker": {
            "color": {
             "bdata": "AAAAAAAAOUA=",
             "dtype": "f8"
            },
            "coloraxis": "coloraxis",
            "size": 15
           },
           "text": [
            "USA<br>Schade: 25.0 M$"
           ],
           "type": "scattergeo"
          },
          {
           "line": {
            "color": "lightblue",
            "width": 20
           },
           "mode": "lines",
           "showlegend": false,
           "type": "scatter",
           "x": [
            0,
            214.87
           ],
           "xaxis": "x2",
           "y": [
            0,
            0
           ],
           "yaxis": "y2"
          },
          {
           "marker": {
            "color": "blue",
            "size": 30
           },
           "mode": "markers",
           "showlegend": false,
           "type": "scatter",
           "x": [
            125.47
           ],
           "xaxis": "x2",
           "y": [
            0
           ],
           "yaxis": "y2"
          }
         ],
         "name": "1989"
        },
        {
         "data": [
          {
           "lat": {
            "bdata": "0SLb+X56QkA=",
            "dtype": "f8"
           },
           "lon": {
            "bdata": "MQisHFq0SEA=",
            "dtype": "f8"
           },
           "marker": {
            "color": {
             "bdata": "AAAAAAAAOUA=",
             "dtype": "f8"
            },
            "coloraxis": "coloraxis",
            "size": 15
           },
           "text": [
            "IRAN<br>Schade: 25.0 M$"
           ],
           "type": "scattergeo"
          },
          {
           "line": {
            "color": "lightblue",
            "width": 20
           },
           "mode": "lines",
           "showlegend": false,
           "type": "scatter",
           "x": [
            0,
            214.87
           ],
           "xaxis": "x2",
           "y": [
            0,
            0
           ],
           "yaxis": "y2"
          },
          {
           "marker": {
            "color": "blue",
            "size": 30
           },
           "mode": "markers",
           "showlegend": false,
           "type": "scatter",
           "x": [
            128.07
           ],
           "xaxis": "x2",
           "y": [
            0
           ],
           "yaxis": "y2"
          }
         ],
         "name": "1990"
        },
        {
         "data": [
          {
           "lat": {
            "bdata": "H4XrUbheI0A=",
            "dtype": "f8"
           },
           "lon": {
            "bdata": "6SYxCKzEVMA=",
            "dtype": "f8"
           },
           "marker": {
            "color": {
             "bdata": "AAAAAAAAOUA=",
             "dtype": "f8"
            },
            "coloraxis": "coloraxis",
            "size": 15
           },
           "text": [
            "COSTA RICA<br>Schade: 25.0 M$"
           ],
           "type": "scattergeo"
          },
          {
           "line": {
            "color": "lightblue",
            "width": 20
           },
           "mode": "lines",
           "showlegend": false,
           "type": "scatter",
           "x": [
            0,
            214.87
           ],
           "xaxis": "x2",
           "y": [
            0,
            0
           ],
           "yaxis": "y2"
          },
          {
           "marker": {
            "color": "blue",
            "size": 30
           },
           "mode": "markers",
           "showlegend": false,
           "type": "scatter",
           "x": [
            129.28
           ],
           "xaxis": "x2",
           "y": [
            0
           ],
           "yaxis": "y2"
          }
         ],
         "name": "1991"
        },
        {
         "data": [
          {
           "lat": {
            "bdata": "TmIQWDl0J0D2KFyPwvUgwA==",
            "dtype": "f8"
           },
           "lon": {
            "bdata": "YxBYObTYVcDTTWIQWHleQA==",
            "dtype": "f8"
           },
           "marker": {
            "color": {
             "bdata": "AAAAAAAAOUAAAAAAAAA5QA==",
             "dtype": "f8"
            },
            "coloraxis": "coloraxis",
            "size": 15
           },
           "text": [
            "NICARAGUA<br>Schade: 25.0 M$",
            "INDONESIA<br>Schade: 25.0 M$"
           ],
           "type": "scattergeo"
          },
          {
           "line": {
            "color": "lightblue",
            "width": 20
           },
           "mode": "lines",
           "showlegend": false,
           "type": "scatter",
           "x": [
            0,
            214.87
           ],
           "xaxis": "x2",
           "y": [
            0,
            0
           ],
           "yaxis": "y2"
          },
          {
           "marker": {
            "color": "blue",
            "size": 30
           },
           "mode": "markers",
           "showlegend": false,
           "type": "scatter",
           "x": [
            130.71
           ],
           "xaxis": "x2",
           "y": [
            0
           ],
           "yaxis": "y2"
          }
         ],
         "name": "1992"
        },
        {
         "data": [
          {
           "lat": {
            "bdata": "sXJoke1sRUCF61G4HsUswA==",
            "dtype": "f8"
           },
           "lon": {
            "bdata": "/Knx0k1mYUDy0k1iEEhmwA==",
            "dtype": "f8"
           },
           "marker": {
            "color": {
             "bdata": "AAAAAAAAOUAAAAAAAADwPw==",
             "dtype": "f8"
            },
            "coloraxis": "coloraxis",
            "size": 15
           },
           "text": [
            "JAPAN<br>Schade: 25.0 M$",
            "WALLIS AND FUTUNA (FRENCH TERRITORY)<br>Schade: 1.0 M$"
           ],
           "type": "scattergeo"
          },
          {
           "line": {
            "color": "lightblue",
            "width": 20
           },
           "mode": "lines",
           "showlegend": false,
           "type": "scatter",
           "x": [
            0,
            214.87
           ],
           "xaxis": "x2",
           "y": [
            0,
            0
           ],
           "yaxis": "y2"
          },
          {
           "marker": {
            "color": "blue",
            "size": 30
           },
           "mode": "markers",
           "showlegend": false,
           "type": "scatter",
           "x": [
            132.17
           ],
           "xaxis": "x2",
           "y": [
            0
           ],
           "yaxis": "y2"
          }
         ],
         "name": "1993"
        },
        {
         "data": [
          {
           "lat": {
            "bdata": "JQaBlUMbQUDNzMzMzAwrQE5iEFg59CTA",
            "dtype": "f8"
           },
           "lon": {
            "bdata": "7nw/NV6iXcA/NV66SUReQD0K16NwNVxA",
            "dtype": "f8"
           },
           "marker": {
            "color": {
             "bdata": "AAAAAAAAOUAAAAAAAADwPwAAAAAAAPA/",
             "dtype": "f8"
            },
            "coloraxis": "coloraxis",
            "size": 15
           },
           "text": [
            "USA<br>Schade: 25.0 M$",
            "PHILIPPINES<br>Schade: 1.0 M$",
            "INDONESIA<br>Schade: 1.0 M$"
           ],
           "type": "scattergeo"
          },
          {
           "line": {
            "color": "lightblue",
            "width": 20
           },
           "mode": "lines",
           "showlegend": false,
           "type": "scatter",
           "x": [
            0,
            214.87
           ],
           "xaxis": "x2",
           "y": [
            0,
            0
           ],
           "yaxis": "y2"
          },
          {
           "marker": {
            "color": "blue",
            "size": 30
           },
           "mode": "markers",
           "showlegend": false,
           "type": "scatter",
           "x": [
            134.34
           ],
           "xaxis": "x2",
           "y": [
            0
           ],
           "yaxis": "y2"
          }
         ],
         "name": "1994"
        },
        {
         "data": [
          {
           "lat": {
            "bdata": "+n5qvHTTPEDXo3A9Clc3wLTIdr6fSkFArkfhehQOM0CBlUOLbOcgwA==",
            "dtype": "f8"
           },
           "lon": {
            "bdata": "g8DKoUVmQUCJQWDl0JJRwH9qvHST4GBAhetRuB4NWsBCYOXQIkNfQA==",
            "dtype": "f8"
           },
           "marker": {
            "color": {
             "bdata": "AAAAAAAA8D8AAAAAAADwPwAAAAAAADlAAAAAAAAA8D8AAAAAAADwPw==",
             "dtype": "f8"
            },
            "coloraxis": "coloraxis",
            "size": 15
           },
           "text": [
            "EGYPT<br>Schade: 1.0 M$",
            "CHILE<br>Schade: 1.0 M$",
            "JAPAN<br>Schade: 25.0 M$",
            "MEXICO<br>Schade: 1.0 M$",
            "INDONESIA<br>Schade: 1.0 M$"
           ],
           "type": "scattergeo"
          },
          {
           "line": {
            "color": "lightblue",
            "width": 20
           },
           "mode": "lines",
           "showlegend": false,
           "type": "scatter",
           "x": [
            0,
            214.87
           ],
           "xaxis": "x2",
           "y": [
            0,
            0
           ],
           "yaxis": "y2"
          },
          {
           "marker": {
            "color": "blue",
            "size": 30
           },
           "mode": "markers",
           "showlegend": false,
           "type": "scatter",
           "x": [
            137.86
           ],
           "xaxis": "x2",
           "y": [
            0
           ],
           "yaxis": "y2"
          }
         ],
         "name": "1995"
        },
        {
         "data": [
          {
           "lat": {
            "bdata": "Vg4tsp0vI8CIFtnO91PnP0+Nl24Sg+y/",
            "dtype": "f8"
           },
           "lon": {
            "bdata": "IbByaJHlU8DdJAaBlftdQFg5tMh2HmFA",
            "dtype": "f8"
           },
           "marker": {
            "color": {
             "bdata": "AAAAAAAA8D8AAAAAAADwPwAAAAAAAPA/",
             "dtype": "f8"
            },
            "coloraxis": "coloraxis",
            "size": 15
           },
           "text": [
            "PERU<br>Schade: 1.0 M$",
            "INDONESIA<br>Schade: 1.0 M$",
            "INDONESIA<br>Schade: 1.0 M$"
           ],
           "type": "scattergeo"
          },
          {
           "line": {
            "color": "lightblue",
            "width": 20
           },
           "mode": "lines",
           "showlegend": false,
           "type": "scatter",
           "x": [
            0,
            214.87
           ],
           "xaxis": "x2",
           "y": [
            0,
            0
           ],
           "yaxis": "y2"
          },
          {
           "marker": {
            "color": "blue",
            "size": 30
           },
           "mode": "markers",
           "showlegend": false,
           "type": "scatter",
           "x": [
            140.25
           ],
           "xaxis": "x2",
           "y": [
            0
           ],
           "yaxis": "y2"
          }
         ],
         "name": "1996"
        },
        {
         "data": [
          {
           "lat": {
            "bdata": "JQaBlUOLB8DFILByaJEAwA==",
            "dtype": "f8"
           },
           "lon": {
            "bdata": "tMh2vp/SYUAbL90kBjlfQA==",
            "dtype": "f8"
           },
           "marker": {
            "color": {
             "bdata": "AAAAAAAAFEAAAAAAAAA5QA==",
             "dtype": "f8"
            },
            "coloraxis": "coloraxis",
            "size": 15
           },
           "text": [
            "PAPUA NEW GUINEA<br>Schade: 5.0 M$",
            "INDONESIA<br>Schade: 25.0 M$"
           ],
           "type": "scattergeo"
          },
          {
           "line": {
            "color": "lightblue",
            "width": 20
           },
           "mode": "lines",
           "showlegend": false,
           "type": "scatter",
           "x": [
            0,
            214.87
           ],
           "xaxis": "x2",
           "y": [
            0,
            0
           ],
           "yaxis": "y2"
          },
          {
           "marker": {
            "color": "blue",
            "size": 30
           },
           "mode": "markers",
           "showlegend": false,
           "type": "scatter",
           "x": [
            147.51
           ],
           "xaxis": "x2",
           "y": [
            0
           ],
           "yaxis": "y2"
          }
         ],
         "name": "1998"
        },
        {
         "data": [
          {
           "lat": {
            "bdata": "PzVeuklsMMA=",
            "dtype": "f8"
           },
           "lon": {
            "bdata": "AyuHFtkGZUA=",
            "dtype": "f8"
           },
           "marker": {
            "color": {
             "bdata": "AAAAAAAAFEA=",
             "dtype": "f8"
            },
            "coloraxis": "coloraxis",
            "size": 15
           },
           "text": [
            "VANUATU<br>Schade: 5.0 M$"
           ],
           "type": "scattergeo"
          },
          {
           "line": {
            "color": "lightblue",
            "width": 20
           },
           "mode": "lines",
           "showlegend": false,
           "type": "scatter",
           "x": [
            0,
            214.87
           ],
           "xaxis": "x2",
           "y": [
            0,
            0
           ],
           "yaxis": "y2"
          },
          {
           "marker": {
            "color": "blue",
            "size": 30
           },
           "mode": "markers",
           "showlegend": false,
           "type": "scatter",
           "x": [
            150.84
           ],
           "xaxis": "x2",
           "y": [
            0
           ],
           "yaxis": "y2"
          }
         ],
         "name": "1999"
        },
        {
         "data": [
          {
           "lat": {
            "bdata": "Gy/dJAYBEMCuR+F6FK7xvw==",
            "dtype": "f8"
           },
           "lon": {
            "bdata": "WDm0yHYKY0DpJjEIrOReQA==",
            "dtype": "f8"
           },
           "marker": {
            "color": {
             "bdata": "AAAAAAAA8D8AAAAAAAA5QA==",
             "dtype": "f8"
            },
            "coloraxis": "coloraxis",
            "size": 15
           },
           "text": [
            "PAPUA NEW GUINEA<br>Schade: 1.0 M$",
            "INDONESIA<br>Schade: 25.0 M$"
           ],
           "type": "scattergeo"
          },
          {
           "line": {
            "color": "lightblue",
            "width": 20
           },
           "mode": "lines",
           "showlegend": false,
           "type": "scatter",
           "x": [
            0,
            214.87
           ],
           "xaxis": "x2",
           "y": [
            0,
            0
           ],
           "yaxis": "y2"
          },
          {
           "marker": {
            "color": "blue",
            "size": 30
           },
           "mode": "markers",
           "showlegend": false,
           "type": "scatter",
           "x": [
            151.8
           ],
           "xaxis": "x2",
           "y": [
            0
           ],
           "yaxis": "y2"
          }
         ],
         "name": "2000"
        },
        {
         "data": [
          {
           "lat": {
            "bdata": "pHA9CtdDMMAMAiuHFhkqQA==",
            "dtype": "f8"
           },
           "lon": {
            "bdata": "Gy/dJAZpUsAK16NwPSpWwA==",
            "dtype": "f8"
           },
           "marker": {
            "color": {
             "bdata": "AAAAAAAAOUAAAAAAAAA5QA==",
             "dtype": "f8"
            },
            "coloraxis": "coloraxis",
            "size": 15
           },
           "text": [
            "PERU<br>Schade: 25.0 M$",
            "EL SALVADOR<br>Schade: 25.0 M$"
           ],
           "type": "scattergeo"
          },
          {
           "line": {
            "color": "lightblue",
            "width": 20
           },
           "mode": "lines",
           "showlegend": false,
           "type": "scatter",
           "x": [
            0,
            214.87
           ],
           "xaxis": "x2",
           "y": [
            0,
            0
           ],
           "yaxis": "y2"
          },
          {
           "marker": {
            "color": "blue",
            "size": 30
           },
           "mode": "markers",
           "showlegend": false,
           "type": "scatter",
           "x": [
            156.89
           ],
           "xaxis": "x2",
           "y": [
            0
           ],
           "yaxis": "y2"
          }
         ],
         "name": "2001"
        },
        {
         "data": [
          {
           "lat": {
            "bdata": "6SYxCKwc/L/fT42XbhIqQBSuR+F6FArAgZVDi2xHOEA=",
            "dtype": "f8"
           },
           "lon": {
            "bdata": "L90kBoHJYEAxCKwcWkRXQK5H4XoU3mFA+n5qvHSLXkA=",
            "dtype": "f8"
           },
           "marker": {
            "color": {
             "bdata": "AAAAAAAAFEAAAAAAAADwPwAAAAAAABRAAAAAAAAA8D8=",
             "dtype": "f8"
            },
            "coloraxis": "coloraxis",
            "size": 15
           },
           "text": [
            "INDONESIA<br>Schade: 5.0 M$",
            "INDIA<br>Schade: 1.0 M$",
            "PAPUA NEW GUINEA<br>Schade: 5.0 M$",
            "TAIWAN<br>Schade: 1.0 M$"
           ],
           "type": "scattergeo"
          },
          {
           "line": {
            "color": "lightblue",
            "width": 20
           },
           "mode": "lines",
           "showlegend": false,
           "type": "scatter",
           "x": [
            0,
            214.87
           ],
           "xaxis": "x2",
           "y": [
            0,
            0
           ],
           "yaxis": "y2"
          },
          {
           "marker": {
            "color": "blue",
            "size": 30
           },
           "mode": "markers",
           "showlegend": false,
           "type": "scatter",
           "x": [
            159.67
           ],
           "xaxis": "x2",
           "y": [
            0
           ],
           "yaxis": "y2"
          }
         ],
         "name": "2002"
        },
        {
         "data": [
          {
           "lat": {
            "bdata": "CKwcWmR7QkCF61G4HsUyQNV46SYxeEJA",
            "dtype": "f8"
           },
           "lon": {
            "bdata": "30+Nl24SDUAtsp3vpwZawDq0yHa+nwxA",
            "dtype": "f8"
           },
           "marker": {
            "color": {
             "bdata": "AAAAAAAAOUAAAAAAAAAUQAAAAAAAAPA/",
             "dtype": "f8"
            },
            "coloraxis": "coloraxis",
            "size": 15
           },
           "text": [
            "ALGERIA<br>Schade: 25.0 M$",
            "MEXICO<br>Schade: 5.0 M$",
            "ALGERIA<br>Schade: 1.0 M$"
           ],
           "type": "scattergeo"
          },
          {
           "line": {
            "color": "lightblue",
            "width": 20
           },
           "mode": "lines",
           "showlegend": false,
           "type": "scatter",
           "x": [
            0,
            214.87
           ],
           "xaxis": "x2",
           "y": [
            0,
            0
           ],
           "yaxis": "y2"
          },
          {
           "marker": {
            "color": "blue",
            "size": 30
           },
           "mode": "markers",
           "showlegend": false,
           "type": "scatter",
           "x": [
            161.5
           ],
           "xaxis": "x2",
           "y": [
            0
           ],
           "yaxis": "y2"
          }
         ],
         "name": "2003"
        },
        {
         "data": [
          {
           "lat": {
            "bdata": "u0kMAiuHCkDo+6nx0k0gwA==",
            "dtype": "f8"
           },
           "lon": {
            "bdata": "LbKd76f2V0BkO99PjTdfQA==",
            "dtype": "f8"
           },
           "marker": {
            "color": {
             "bdata": "AAAAAAAAOUAAAAAAAAAUQA==",
             "dtype": "f8"
            },
            "coloraxis": "coloraxis",
            "size": 15
           },
           "text": [
            "INDONESIA<br>Schade: 25.0 M$",
            "INDONESIA<br>Schade: 5.0 M$"
           ],
           "type": "scattergeo"
          },
          {
           "line": {
            "color": "lightblue",
            "width": 20
           },
           "mode": "lines",
           "showlegend": false,
           "type": "scatter",
           "x": [
            0,
            214.87
           ],
           "xaxis": "x2",
           "y": [
            0,
            0
           ],
           "yaxis": "y2"
          },
          {
           "marker": {
            "color": "blue",
            "size": 30
           },
           "mode": "markers",
           "showlegend": false,
           "type": "scatter",
           "x": [
            162.46
           ],
           "xaxis": "x2",
           "y": [
            0
           ],
           "yaxis": "y2"
          }
         ],
         "name": "2004"
        },
        {
         "data": [
          {
           "lat": {
            "bdata": "rkfhehSuAEA=",
            "dtype": "f8"
           },
           "lon": {
            "bdata": "9P3UeOlGWEA=",
            "dtype": "f8"
           },
           "marker": {
            "color": {
             "bdata": "AAAAAAAAOUA=",
             "dtype": "f8"
            },
            "coloraxis": "coloraxis",
            "size": 15
           },
           "text": [
            "INDONESIA<br>Schade: 25.0 M$"
           ],
           "type": "scattergeo"
          },
          {
           "line": {
            "color": "lightblue",
            "width": 20
           },
           "mode": "lines",
           "showlegend": false,
           "type": "scatter",
           "x": [
            0,
            214.87
           ],
           "xaxis": "x2",
           "y": [
            0,
            0
           ],
           "yaxis": "y2"
          },
          {
           "marker": {
            "color": "blue",
            "size": 30
           },
           "mode": "markers",
           "showlegend": false,
           "type": "scatter",
           "x": [
            166.59
           ],
           "xaxis": "x2",
           "y": [
            0
           ],
           "yaxis": "y2"
          }
         ],
         "name": "2005"
        },
        {
         "data": [
          {
           "lat": {
            "bdata": "NV66SQyCIsDD9Shcj8IMwAaBlUOLzDVA",
            "dtype": "f8"
           },
           "lon": {
            "bdata": "/Knx0k3aWkAEVg4tss1fQF66SQwCI15A",
            "dtype": "f8"
           },
           "marker": {
            "color": {
             "bdata": "AAAAAAAAOUAAAAAAAADwPwAAAAAAAPA/",
             "dtype": "f8"
            },
            "coloraxis": "coloraxis",
            "size": 15
           },
           "text": [
            "INDONESIA<br>Schade: 25.0 M$",
            "INDONESIA<br>Schade: 1.0 M$",
            "CHINA<br>Schade: 1.0 M$"
           ],
           "type": "scattergeo"
          },
          {
           "line": {
            "color": "lightblue",
            "width": 20
           },
           "mode": "lines",
           "showlegend": false,
           "type": "scatter",
           "x": [
            0,
            214.87
           ],
           "xaxis": "x2",
           "y": [
            0,
            0
           ],
           "yaxis": "y2"
          },
          {
           "marker": {
            "color": "blue",
            "size": 30
           },
           "mode": "markers",
           "showlegend": false,
           "type": "scatter",
           "x": [
            169.75
           ],
           "xaxis": "x2",
           "y": [
            0
           ],
           "yaxis": "y2"
          }
         ],
         "name": "2006"
        },
        {
         "data": [
          {
           "lat": {
            "bdata": "XrpJDAKrQkDsUbgehesgwAMrhxbZjkdAKVyPwvXIQkASg8DKocUqwI2XbhKDwBHArBxaZDs/NsA=",
            "dtype": "f8"
           },
           "lon": {
            "bdata": "iUFg5dASYUDEILByaKFjQKjGSzeJuWFAne+nxktPYUA830+NlyZTwHNoke18V1lAKVyPwvV4UcA=",
            "dtype": "f8"
           },
           "marker": {
            "color": {
             "bdata": "AAAAAAAAFEAAAAAAAAAUQAAAAAAAAPA/AAAAAAAAFEAAAAAAAAA5QAAAAAAAABRAAAAAAAAAFEA=",
             "dtype": "f8"
            },
            "coloraxis": "coloraxis",
            "size": 15
           },
           "text": [
            "JAPAN<br>Schade: 5.0 M$",
            "SOLOMON ISLANDS<br>Schade: 5.0 M$",
            "RUSSIA<br>Schade: 1.0 M$",
            "JAPAN<br>Schade: 5.0 M$",
            "PERU<br>Schade: 25.0 M$",
            "INDONESIA<br>Schade: 5.0 M$",
            "CHILE<br>Schade: 5.0 M$"
           ],
           "type": "scattergeo"
          },
          {
           "line": {
            "color": "lightblue",
            "width": 20
           },
           "mode": "lines",
           "showlegend": false,
           "type": "scatter",
           "x": [
            0,
            214.87
           ],
           "xaxis": "x2",
           "y": [
            0,
            0
           ],
           "yaxis": "y2"
          },
          {
           "marker": {
            "color": "blue",
            "size": 30
           },
           "mode": "markers",
           "showlegend": false,
           "type": "scatter",
           "x": [
            173.75
           ],
           "xaxis": "x2",
           "y": [
            0
           ],
           "yaxis": "y2"
          }
         ],
         "name": "2007"
        },
        {
         "data": [
          {
           "lat": {
            "bdata": "jZduEoMAP0A=",
            "dtype": "f8"
           },
           "lon": {
            "bdata": "+FPjpZvUWUA=",
            "dtype": "f8"
           },
           "marker": {
            "color": {
             "bdata": "AAAAAAAAOUA=",
             "dtype": "f8"
            },
            "coloraxis": "coloraxis",
            "size": 15
           },
           "text": [
            "CHINA<br>Schade: 25.0 M$"
           ],
           "type": "scattergeo"
          },
          {
           "line": {
            "color": "lightblue",
            "width": 20
           },
           "mode": "lines",
           "showlegend": false,
           "type": "scatter",
           "x": [
            0,
            214.87
           ],
           "xaxis": "x2",
           "y": [
            0,
            0
           ],
           "yaxis": "y2"
          },
          {
           "marker": {
            "color": "blue",
            "size": 30
           },
           "mode": "markers",
           "showlegend": false,
           "type": "scatter",
           "x": [
            178.11
           ],
           "xaxis": "x2",
           "y": [
            0
           ],
           "yaxis": "y2"
          }
         ],
         "name": "2008"
        },
        {
         "data": [
          {
           "lat": {
            "bdata": "uB6F61G4MEAK16NwPQrnv8l2vp8aX0FA",
            "dtype": "f8"
           },
           "lon": {
            "bdata": "yXa+nxqPVcBzaJHtfPdYQJzEILBySGFA",
            "dtype": "f8"
           },
           "marker": {
            "color": {
             "bdata": "AAAAAAAA8D8AAAAAAAA5QAAAAAAAABRA",
             "dtype": "f8"
            },
            "coloraxis": "coloraxis",
            "size": 15
           },
           "text": [
            "HONDURAS<br>Schade: 1.0 M$",
            "INDONESIA<br>Schade: 25.0 M$",
            "JAPAN<br>Schade: 5.0 M$"
           ],
           "type": "scattergeo"
          },
          {
           "line": {
            "color": "lightblue",
            "width": 20
           },
           "mode": "lines",
           "showlegend": false,
           "type": "scatter",
           "x": [
            0,
            214.87
           ],
           "xaxis": "x2",
           "y": [
            0,
            0
           ],
           "yaxis": "y2"
          },
          {
           "marker": {
            "color": "blue",
            "size": 30
           },
           "mode": "markers",
           "showlegend": false,
           "type": "scatter",
           "x": [
            183.54
           ],
           "xaxis": "x2",
           "y": [
            0
           ],
           "yaxis": "y2"
          }
         ],
         "name": "2009"
        },
        {
         "data": [
          {
           "lat": {
            "bdata": "okW28/10MkCq8dJNYpAiwEw3iUFg5QvA",
            "dtype": "f8"
           },
           "lon": {
            "bdata": "JzEIrBwiUsDhehSuR2lTwGiR7Xw/BVlA",
            "dtype": "f8"
           },
           "marker": {
            "color": {
             "bdata": "AAAAAAAAOUAAAAAAAADwPwAAAAAAADlA",
             "dtype": "f8"
            },
            "coloraxis": "coloraxis",
            "size": 15
           },
           "text": [
            "HAITI<br>Schade: 25.0 M$",
            "PERU<br>Schade: 1.0 M$",
            "INDONESIA<br>Schade: 25.0 M$"
           ],
           "type": "scattergeo"
          },
          {
           "line": {
            "color": "lightblue",
            "width": 20
           },
           "mode": "lines",
           "showlegend": false,
           "type": "scatter",
           "x": [
            0,
            214.87
           ],
           "xaxis": "x2",
           "y": [
            0,
            0
           ],
           "yaxis": "y2"
          },
          {
           "marker": {
            "color": "blue",
            "size": 30
           },
           "mode": "markers",
           "showlegend": false,
           "type": "scatter",
           "x": [
            188.42
           ],
           "xaxis": "x2",
           "y": [
            0
           ],
           "yaxis": "y2"
          }
         ],
         "name": "2010"
        },
        {
         "data": [
          {
           "lat": {
            "bdata": "vHSTGAQmQ0A=",
            "dtype": "f8"
           },
           "lon": {
            "bdata": "lkOLbOfLYUA=",
            "dtype": "f8"
           },
           "marker": {
            "color": {
             "bdata": "AAAAAAAAOUA=",
             "dtype": "f8"
            },
            "coloraxis": "coloraxis",
            "size": 15
           },
           "text": [
            "JAPAN<br>Schade: 25.0 M$"
           ],
           "type": "scattergeo"
          },
          {
           "line": {
            "color": "lightblue",
            "width": 20
           },
           "mode": "lines",
           "showlegend": false,
           "type": "scatter",
           "x": [
            0,
            214.87
           ],
           "xaxis": "x2",
           "y": [
            0,
            0
           ],
           "yaxis": "y2"
          },
          {
           "marker": {
            "color": "blue",
            "size": 30
           },
           "mode": "markers",
           "showlegend": false,
           "type": "scatter",
           "x": [
            190.6
           ],
           "xaxis": "x2",
           "y": [
            0
           ],
           "yaxis": "y2"
          }
         ],
         "name": "2011"
        },
        {
         "data": [
          {
           "lat": {
            "bdata": "ke18PzV+MECsHFpkO58lQOxRuB6FKyRAYOXQItv5K0A=",
            "dtype": "f8"
           },
           "lon": {
            "bdata": "EFg5tMiOWMBGtvP91KhfQFyPwvUoVFXA4XoUrkf5VsA=",
            "dtype": "f8"
           },
           "marker": {
            "color": {
             "bdata": "AAAAAAAAFEAAAAAAAADwPwAAAAAAAPA/AAAAAAAAFEA=",
             "dtype": "f8"
            },
            "coloraxis": "coloraxis",
            "size": 15
           },
           "text": [
            "MEXICO<br>Schade: 5.0 M$",
            "PHILIPPINES<br>Schade: 1.0 M$",
            "COSTA RICA<br>Schade: 1.0 M$",
            "GUATEMALA<br>Schade: 5.0 M$"
           ],
           "type": "scattergeo"
          },
          {
           "line": {
            "color": "lightblue",
            "width": 20
           },
           "mode": "lines",
           "showlegend": false,
           "type": "scatter",
           "x": [
            0,
            214.87
           ],
           "xaxis": "x2",
           "y": [
            0,
            0
           ],
           "yaxis": "y2"
          },
          {
           "marker": {
            "color": "blue",
            "size": 30
           },
           "mode": "markers",
           "showlegend": false,
           "type": "scatter",
           "x": [
            194.64
           ],
           "xaxis": "x2",
           "y": [
            0
           ],
           "yaxis": "y2"
          }
         ],
         "name": "2012"
        },
        {
         "data": [
          {
           "lat": {
            "bdata": "1HjpJjGIJcCuR+F6FC45QA==",
            "dtype": "f8"
           },
           "lon": {
            "bdata": "z/dT46WjZEDhehSuRyFPQA==",
            "dtype": "f8"
           },
           "marker": {
            "color": {
             "bdata": "AAAAAAAA8D8AAAAAAAA5QA==",
             "dtype": "f8"
            },
            "coloraxis": "coloraxis",
            "size": 15
           },
           "text": [
            "SOLOMON ISLANDS<br>Schade: 1.0 M$",
            "PAKISTAN<br>Schade: 25.0 M$"
           ],
           "type": "scattergeo"
          },
          {
           "line": {
            "color": "lightblue",
            "width": 20
           },
           "mode": "lines",
           "showlegend": false,
           "type": "scatter",
           "x": [
            0,
            214.87
           ],
           "xaxis": "x2",
           "y": [
            0,
            0
           ],
           "yaxis": "y2"
          },
          {
           "marker": {
            "color": "blue",
            "size": 30
           },
           "mode": "markers",
           "showlegend": false,
           "type": "scatter",
           "x": [
            197.96
           ],
           "xaxis": "x2",
           "y": [
            0
           ],
           "yaxis": "y2"
          }
         ],
         "name": "2013"
        },
        {
         "data": [
          {
           "lat": {
            "bdata": "WmQ7308NKUA=",
            "dtype": "f8"
           },
           "lon": {
            "bdata": "HFpkO98HVsA=",
            "dtype": "f8"
           },
           "marker": {
            "color": {
             "bdata": "AAAAAAAA8D8=",
             "dtype": "f8"
            },
            "coloraxis": "coloraxis",
            "size": 15
           },
           "text": [
            "EL SALVADOR<br>Schade: 1.0 M$"
           ],
           "type": "scattergeo"
          },
          {
           "line": {
            "color": "lightblue",
            "width": 20
           },
           "mode": "lines",
           "showlegend": false,
           "type": "scatter",
           "x": [
            0,
            214.87
           ],
           "xaxis": "x2",
           "y": [
            0,
            0
           ],
           "yaxis": "y2"
          },
          {
           "marker": {
            "color": "blue",
            "size": 30
           },
           "mode": "markers",
           "showlegend": false,
           "type": "scatter",
           "x": [
            201.48
           ],
           "xaxis": "x2",
           "y": [
            0
           ],
           "yaxis": "y2"
          }
         ],
         "name": "2014"
        },
        {
         "data": [
          {
           "lat": {
            "bdata": "ppvEILCSP8D2KFyPwlVDQA==",
            "dtype": "f8"
           },
           "lon": {
            "bdata": "QWDl0CLrUcCamZmZmZk0QA==",
            "dtype": "f8"
           },
           "marker": {
            "color": {
             "bdata": "AAAAAAAAOUAAAAAAAADwPw==",
             "dtype": "f8"
            },
            "coloraxis": "coloraxis",
            "size": 15
           },
           "text": [
            "CHILE<br>Schade: 25.0 M$",
            "GREECE<br>Schade: 1.0 M$"
           ],
           "type": "scattergeo"
          },
          {
           "line": {
            "color": "lightblue",
            "width": 20
           },
           "mode": "lines",
           "showlegend": false,
           "type": "scatter",
           "x": [
            0,
            214.87
           ],
           "xaxis": "x2",
           "y": [
            0,
            0
           ],
           "yaxis": "y2"
          },
          {
           "marker": {
            "color": "blue",
            "size": 30
           },
           "mode": "markers",
           "showlegend": false,
           "type": "scatter",
           "x": [
            203.52
           ],
           "xaxis": "x2",
           "y": [
            0
           ],
           "yaxis": "y2"
          }
         ],
         "name": "2015"
        },
        {
         "data": [
          {
           "lat": {
            "bdata": "ZmZmZmZm1j91kxgEVl5FwOkmMQisXCXA",
            "dtype": "f8"
           },
           "lon": {
            "bdata": "CtejcD0KVMB9PzVeuqFlQFg5tMh2KmRA",
            "dtype": "f8"
           },
           "marker": {
            "color": {
             "bdata": "AAAAAAAAOUAAAAAAAAA5QAAAAAAAAPA/",
             "dtype": "f8"
            },
            "coloraxis": "coloraxis",
            "size": 15
           },
           "text": [
            "ECUADOR<br>Schade: 25.0 M$",
            "NEW ZEALAND<br>Schade: 25.0 M$",
            "SOLOMON ISLANDS<br>Schade: 1.0 M$"
           ],
           "type": "scattergeo"
          },
          {
           "line": {
            "color": "lightblue",
            "width": 20
           },
           "mode": "lines",
           "showlegend": false,
           "type": "scatter",
           "x": [
            0,
            214.87
           ],
           "xaxis": "x2",
           "y": [
            0,
            0
           ],
           "yaxis": "y2"
          },
          {
           "marker": {
            "color": "blue",
            "size": 30
           },
           "mode": "markers",
           "showlegend": false,
           "type": "scatter",
           "x": [
            205.87
           ],
           "xaxis": "x2",
           "y": [
            0
           ],
           "yaxis": "y2"
          }
         ],
         "name": "2016"
        },
        {
         "data": [
          {
           "lat": {
            "bdata": "lkOLbOf7GMD2KFyPwtU7QHnpJjEI9FFA9P3UeOl2QkDXo3A9CndDQBKDwMqhhS1A",
            "dtype": "f8"
           },
           "lon": {
            "bdata": "L90kBoFlY0C4HoXrUfhJQEa28/3USErARIts5/tpO0A9CtejcF06QDvfT42XhlfA",
            "dtype": "f8"
           },
           "marker": {
            "color": {
             "bdata": "AAAAAAAA8D8AAAAAAAAUQAAAAAAAAPA/AAAAAAAA8D8AAAAAAADwPwAAAAAAADlA",
             "dtype": "f8"
            },
            "coloraxis": "coloraxis",
            "size": 15
           },
           "text": [
            "PAPUA NEW GUINEA<br>Schade: 1.0 M$",
            "IRAN<br>Schade: 5.0 M$",
            "GREENLAND<br>Schade: 1.0 M$",
            "TURKEY<br>Schade: 1.0 M$",
            "GREECE<br>Schade: 1.0 M$",
            "MEXICO<br>Schade: 25.0 M$"
           ],
           "type": "scattergeo"
          },
          {
           "line": {
            "color": "lightblue",
            "width": 20
           },
           "mode": "lines",
           "showlegend": false,
           "type": "scatter",
           "x": [
            0,
            214.87
           ],
           "xaxis": "x2",
           "y": [
            0,
            0
           ],
           "yaxis": "y2"
          },
          {
           "marker": {
            "color": "blue",
            "size": 30
           },
           "mode": "markers",
           "showlegend": false,
           "type": "scatter",
           "x": [
            207.38000000000002
           ],
           "xaxis": "x2",
           "y": [
            0
           ],
           "yaxis": "y2"
          }
         ],
         "name": "2017"
        },
        {
         "data": [
          {
           "lat": {
            "bdata": "bef7qfGSIMBiEFg5tMjGv5zEILByaBjA",
            "dtype": "f8"
           },
           "lon": {
            "bdata": "sHJoke0cXUD2KFyPwvVdQFCNl24SW1pA",
            "dtype": "f8"
           },
           "marker": {
            "color": {
             "bdata": "AAAAAAAAOUAAAAAAAAA5QAAAAAAAADlA",
             "dtype": "f8"
            },
            "coloraxis": "coloraxis",
            "size": 15
           },
           "text": [
            "INDONESIA<br>Schade: 25.0 M$",
            "INDONESIA<br>Schade: 25.0 M$",
            "INDONESIA<br>Schade: 25.0 M$"
           ],
           "type": "scattergeo"
          },
          {
           "line": {
            "color": "lightblue",
            "width": 20
           },
           "mode": "lines",
           "showlegend": false,
           "type": "scatter",
           "x": [
            0,
            214.87
           ],
           "xaxis": "x2",
           "y": [
            0,
            0
           ],
           "yaxis": "y2"
          },
          {
           "marker": {
            "color": "blue",
            "size": 30
           },
           "mode": "markers",
           "showlegend": false,
           "type": "scatter",
           "x": [
            210.62
           ],
           "xaxis": "x2",
           "y": [
            0
           ],
           "yaxis": "y2"
          }
         ],
         "name": "2018"
        },
        {
         "data": [
          {
           "lat": {
            "bdata": "0SLb+X7qMUA=",
            "dtype": "f8"
           },
           "lon": {
            "bdata": "eekmMQi0UMA=",
            "dtype": "f8"
           },
           "marker": {
            "color": {
             "bdata": "AAAAAAAAOUA=",
             "dtype": "f8"
            },
            "coloraxis": "coloraxis",
            "size": 15
           },
           "text": [
            "USA TERRITORY<br>Schade: 25.0 M$"
           ],
           "type": "scattergeo"
          },
          {
           "line": {
            "color": "lightblue",
            "width": 20
           },
           "mode": "lines",
           "showlegend": false,
           "type": "scatter",
           "x": [
            0,
            214.87
           ],
           "xaxis": "x2",
           "y": [
            0,
            0
           ],
           "yaxis": "y2"
          },
          {
           "marker": {
            "color": "blue",
            "size": 30
           },
           "mode": "markers",
           "showlegend": false,
           "type": "scatter",
           "x": [
            214.87
           ],
           "xaxis": "x2",
           "y": [
            0
           ],
           "yaxis": "y2"
          }
         ],
         "name": "2020"
        }
       ],
       "layout": {
        "coloraxis": {
         "cmax": 25,
         "cmin": 1,
         "colorbar": {
          "len": 0.7,
          "orientation": "h",
          "tickfont": {
           "size": 12
          },
          "tickmode": "array",
          "tickvals": [
           0,
           10,
           20,
           30
          ],
          "title": {
           "font": {
            "size": 14
           },
           "text": "Schade (miljoen USD)"
          },
          "x": 0.4,
          "xanchor": "center",
          "y": 0.15,
          "yanchor": "bottom"
         },
         "colorscale": [
          [
           0,
           "rgb(196, 230, 195)"
          ],
          [
           0.16666666666666666,
           "rgb(150, 210, 164)"
          ],
          [
           0.3333333333333333,
           "rgb(109, 188, 144)"
          ],
          [
           0.5,
           "rgb(77, 162, 132)"
          ],
          [
           0.6666666666666666,
           "rgb(54, 135, 122)"
          ],
          [
           0.8333333333333334,
           "rgb(38, 107, 110)"
          ],
          [
           1,
           "rgb(29, 79, 96)"
          ]
         ]
        },
        "geo": {
         "countrycolor": "white",
         "domain": {
          "x": [
           0,
           1
          ],
          "y": [
           0.3,
           1
          ]
         },
         "landcolor": "rgb(240, 240, 240)",
         "lataxis": {
          "range": [
           -90,
           90
          ]
         },
         "lonaxis": {
          "range": [
           -180,
           180
          ]
         },
         "oceancolor": "rgb(10, 10, 60)",
         "projection": {
          "type": "equirectangular"
         },
         "scope": "world",
         "showcountries": true,
         "showland": true,
         "showocean": true
        },
        "height": 1100,
        "margin": {
         "b": 50,
         "t": 50
        },
        "sliders": [
         {
          "currentvalue": {
           "prefix": "Jaar: ",
           "visible": true,
           "xanchor": "right"
          },
          "len": 1,
          "pad": {
           "b": 10,
           "t": 50
          },
          "steps": [
           {
            "args": [
             [
              "1900"
             ],
             {
              "frame": {
               "duration": 800,
               "redraw": true
              },
              "mode": "immediate"
             }
            ],
            "label": "1900",
            "method": "animate"
           },
           {
            "args": [
             [
              "1901"
             ],
             {
              "frame": {
               "duration": 800,
               "redraw": true
              },
              "mode": "immediate"
             }
            ],
            "label": "1901",
            "method": "animate"
           },
           {
            "args": [
             [
              "1902"
             ],
             {
              "frame": {
               "duration": 800,
               "redraw": true
              },
              "mode": "immediate"
             }
            ],
            "label": "1902",
            "method": "animate"
           },
           {
            "args": [
             [
              "1903"
             ],
             {
              "frame": {
               "duration": 800,
               "redraw": true
              },
              "mode": "immediate"
             }
            ],
            "label": "1903",
            "method": "animate"
           },
           {
            "args": [
             [
              "1905"
             ],
             {
              "frame": {
               "duration": 800,
               "redraw": true
              },
              "mode": "immediate"
             }
            ],
            "label": "1905",
            "method": "animate"
           },
           {
            "args": [
             [
              "1906"
             ],
             {
              "frame": {
               "duration": 800,
               "redraw": true
              },
              "mode": "immediate"
             }
            ],
            "label": "1906",
            "method": "animate"
           },
           {
            "args": [
             [
              "1907"
             ],
             {
              "frame": {
               "duration": 800,
               "redraw": true
              },
              "mode": "immediate"
             }
            ],
            "label": "1907",
            "method": "animate"
           },
           {
            "args": [
             [
              "1908"
             ],
             {
              "frame": {
               "duration": 800,
               "redraw": true
              },
              "mode": "immediate"
             }
            ],
            "label": "1908",
            "method": "animate"
           },
           {
            "args": [
             [
              "1909"
             ],
             {
              "frame": {
               "duration": 800,
               "redraw": true
              },
              "mode": "immediate"
             }
            ],
            "label": "1909",
            "method": "animate"
           },
           {
            "args": [
             [
              "1911"
             ],
             {
              "frame": {
               "duration": 800,
               "redraw": true
              },
              "mode": "immediate"
             }
            ],
            "label": "1911",
            "method": "animate"
           },
           {
            "args": [
             [
              "1913"
             ],
             {
              "frame": {
               "duration": 800,
               "redraw": true
              },
              "mode": "immediate"
             }
            ],
            "label": "1913",
            "method": "animate"
           },
           {
            "args": [
             [
              "1914"
             ],
             {
              "frame": {
               "duration": 800,
               "redraw": true
              },
              "mode": "immediate"
             }
            ],
            "label": "1914",
            "method": "animate"
           },
           {
            "args": [
             [
              "1917"
             ],
             {
              "frame": {
               "duration": 800,
               "redraw": true
              },
              "mode": "immediate"
             }
            ],
            "label": "1917",
            "method": "animate"
           },
           {
            "args": [
             [
              "1918"
             ],
             {
              "frame": {
               "duration": 800,
               "redraw": true
              },
              "mode": "immediate"
             }
            ],
            "label": "1918",
            "method": "animate"
           },
           {
            "args": [
             [
              "1919"
             ],
             {
              "frame": {
               "duration": 800,
               "redraw": true
              },
              "mode": "immediate"
             }
            ],
            "label": "1919",
            "method": "animate"
           },
           {
            "args": [
             [
              "1920"
             ],
             {
              "frame": {
               "duration": 800,
               "redraw": true
              },
              "mode": "immediate"
             }
            ],
            "label": "1920",
            "method": "animate"
           },
           {
            "args": [
             [
              "1922"
             ],
             {
              "frame": {
               "duration": 800,
               "redraw": true
              },
              "mode": "immediate"
             }
            ],
            "label": "1922",
            "method": "animate"
           },
           {
            "args": [
             [
              "1923"
             ],
             {
              "frame": {
               "duration": 800,
               "redraw": true
              },
              "mode": "immediate"
             }
            ],
            "label": "1923",
            "method": "animate"
           },
           {
            "args": [
             [
              "1925"
             ],
             {
              "frame": {
               "duration": 800,
               "redraw": true
              },
              "mode": "immediate"
             }
            ],
            "label": "1925",
            "method": "animate"
           },
           {
            "args": [
             [
              "1926"
             ],
             {
              "frame": {
               "duration": 800,
               "redraw": true
              },
              "mode": "immediate"
             }
            ],
            "label": "1926",
            "method": "animate"
           },
           {
            "args": [
             [
              "1927"
             ],
             {
              "frame": {
               "duration": 800,
               "redraw": true
              },
              "mode": "immediate"
             }
            ],
            "label": "1927",
            "method": "animate"
           },
           {
            "args": [
             [
              "1928"
             ],
             {
              "frame": {
               "duration": 800,
               "redraw": true
              },
              "mode": "immediate"
             }
            ],
            "label": "1928",
            "method": "animate"
           },
           {
            "args": [
             [
              "1929"
             ],
             {
              "frame": {
               "duration": 800,
               "redraw": true
              },
              "mode": "immediate"
             }
            ],
            "label": "1929",
            "method": "animate"
           },
           {
            "args": [
             [
              "1930"
             ],
             {
              "frame": {
               "duration": 800,
               "redraw": true
              },
              "mode": "immediate"
             }
            ],
            "label": "1930",
            "method": "animate"
           },
           {
            "args": [
             [
              "1931"
             ],
             {
              "frame": {
               "duration": 800,
               "redraw": true
              },
              "mode": "immediate"
             }
            ],
            "label": "1931",
            "method": "animate"
           },
           {
            "args": [
             [
              "1932"
             ],
             {
              "frame": {
               "duration": 800,
               "redraw": true
              },
              "mode": "immediate"
             }
            ],
            "label": "1932",
            "method": "animate"
           },
           {
            "args": [
             [
              "1933"
             ],
             {
              "frame": {
               "duration": 800,
               "redraw": true
              },
              "mode": "immediate"
             }
            ],
            "label": "1933",
            "method": "animate"
           },
           {
            "args": [
             [
              "1934"
             ],
             {
              "frame": {
               "duration": 800,
               "redraw": true
              },
              "mode": "immediate"
             }
            ],
            "label": "1934",
            "method": "animate"
           },
           {
            "args": [
             [
              "1935"
             ],
             {
              "frame": {
               "duration": 800,
               "redraw": true
              },
              "mode": "immediate"
             }
            ],
            "label": "1935",
            "method": "animate"
           },
           {
            "args": [
             [
              "1936"
             ],
             {
              "frame": {
               "duration": 800,
               "redraw": true
              },
              "mode": "immediate"
             }
            ],
            "label": "1936",
            "method": "animate"
           },
           {
            "args": [
             [
              "1937"
             ],
             {
              "frame": {
               "duration": 800,
               "redraw": true
              },
              "mode": "immediate"
             }
            ],
            "label": "1937",
            "method": "animate"
           },
           {
            "args": [
             [
              "1938"
             ],
             {
              "frame": {
               "duration": 800,
               "redraw": true
              },
              "mode": "immediate"
             }
            ],
            "label": "1938",
            "method": "animate"
           },
           {
            "args": [
             [
              "1939"
             ],
             {
              "frame": {
               "duration": 800,
               "redraw": true
              },
              "mode": "immediate"
             }
            ],
            "label": "1939",
            "method": "animate"
           },
           {
            "args": [
             [
              "1940"
             ],
             {
              "frame": {
               "duration": 800,
               "redraw": true
              },
              "mode": "immediate"
             }
            ],
            "label": "1940",
            "method": "animate"
           },
           {
            "args": [
             [
              "1941"
             ],
             {
              "frame": {
               "duration": 800,
               "redraw": true
              },
              "mode": "immediate"
             }
            ],
            "label": "1941",
            "method": "animate"
           },
           {
            "args": [
             [
              "1942"
             ],
             {
              "frame": {
               "duration": 800,
               "redraw": true
              },
              "mode": "immediate"
             }
            ],
            "label": "1942",
            "method": "animate"
           },
           {
            "args": [
             [
              "1943"
             ],
             {
              "frame": {
               "duration": 800,
               "redraw": true
              },
              "mode": "immediate"
             }
            ],
            "label": "1943",
            "method": "animate"
           },
           {
            "args": [
             [
              "1944"
             ],
             {
              "frame": {
               "duration": 800,
               "redraw": true
              },
              "mode": "immediate"
             }
            ],
            "label": "1944",
            "method": "animate"
           },
           {
            "args": [
             [
              "1945"
             ],
             {
              "frame": {
               "duration": 800,
               "redraw": true
              },
              "mode": "immediate"
             }
            ],
            "label": "1945",
            "method": "animate"
           },
           {
            "args": [
             [
              "1946"
             ],
             {
              "frame": {
               "duration": 800,
               "redraw": true
              },
              "mode": "immediate"
             }
            ],
            "label": "1946",
            "method": "animate"
           },
           {
            "args": [
             [
              "1947"
             ],
             {
              "frame": {
               "duration": 800,
               "redraw": true
              },
              "mode": "immediate"
             }
            ],
            "label": "1947",
            "method": "animate"
           },
           {
            "args": [
             [
              "1948"
             ],
             {
              "frame": {
               "duration": 800,
               "redraw": true
              },
              "mode": "immediate"
             }
            ],
            "label": "1948",
            "method": "animate"
           },
           {
            "args": [
             [
              "1949"
             ],
             {
              "frame": {
               "duration": 800,
               "redraw": true
              },
              "mode": "immediate"
             }
            ],
            "label": "1949",
            "method": "animate"
           },
           {
            "args": [
             [
              "1950"
             ],
             {
              "frame": {
               "duration": 800,
               "redraw": true
              },
              "mode": "immediate"
             }
            ],
            "label": "1950",
            "method": "animate"
           },
           {
            "args": [
             [
              "1951"
             ],
             {
              "frame": {
               "duration": 800,
               "redraw": true
              },
              "mode": "immediate"
             }
            ],
            "label": "1951",
            "method": "animate"
           },
           {
            "args": [
             [
              "1952"
             ],
             {
              "frame": {
               "duration": 800,
               "redraw": true
              },
              "mode": "immediate"
             }
            ],
            "label": "1952",
            "method": "animate"
           },
           {
            "args": [
             [
              "1953"
             ],
             {
              "frame": {
               "duration": 800,
               "redraw": true
              },
              "mode": "immediate"
             }
            ],
            "label": "1953",
            "method": "animate"
           },
           {
            "args": [
             [
              "1954"
             ],
             {
              "frame": {
               "duration": 800,
               "redraw": true
              },
              "mode": "immediate"
             }
            ],
            "label": "1954",
            "method": "animate"
           },
           {
            "args": [
             [
              "1955"
             ],
             {
              "frame": {
               "duration": 800,
               "redraw": true
              },
              "mode": "immediate"
             }
            ],
            "label": "1955",
            "method": "animate"
           },
           {
            "args": [
             [
              "1957"
             ],
             {
              "frame": {
               "duration": 800,
               "redraw": true
              },
              "mode": "immediate"
             }
            ],
            "label": "1957",
            "method": "animate"
           },
           {
            "args": [
             [
              "1958"
             ],
             {
              "frame": {
               "duration": 800,
               "redraw": true
              },
              "mode": "immediate"
             }
            ],
            "label": "1958",
            "method": "animate"
           },
           {
            "args": [
             [
              "1960"
             ],
             {
              "frame": {
               "duration": 800,
               "redraw": true
              },
              "mode": "immediate"
             }
            ],
            "label": "1960",
            "method": "animate"
           },
           {
            "args": [
             [
              "1961"
             ],
             {
              "frame": {
               "duration": 800,
               "redraw": true
              },
              "mode": "immediate"
             }
            ],
            "label": "1961",
            "method": "animate"
           },
           {
            "args": [
             [
              "1962"
             ],
             {
              "frame": {
               "duration": 800,
               "redraw": true
              },
              "mode": "immediate"
             }
            ],
            "label": "1962",
            "method": "animate"
           },
           {
            "args": [
             [
              "1963"
             ],
             {
              "frame": {
               "duration": 800,
               "redraw": true
              },
              "mode": "immediate"
             }
            ],
            "label": "1963",
            "method": "animate"
           },
           {
            "args": [
             [
              "1964"
             ],
             {
              "frame": {
               "duration": 800,
               "redraw": true
              },
              "mode": "immediate"
             }
            ],
            "label": "1964",
            "method": "animate"
           },
           {
            "args": [
             [
              "1965"
             ],
             {
              "frame": {
               "duration": 800,
               "redraw": true
              },
              "mode": "immediate"
             }
            ],
            "label": "1965",
            "method": "animate"
           },
           {
            "args": [
             [
              "1966"
             ],
             {
              "frame": {
               "duration": 800,
               "redraw": true
              },
              "mode": "immediate"
             }
            ],
            "label": "1966",
            "method": "animate"
           },
           {
            "args": [
             [
              "1967"
             ],
             {
              "frame": {
               "duration": 800,
               "redraw": true
              },
              "mode": "immediate"
             }
            ],
            "label": "1967",
            "method": "animate"
           },
           {
            "args": [
             [
              "1968"
             ],
             {
              "frame": {
               "duration": 800,
               "redraw": true
              },
              "mode": "immediate"
             }
            ],
            "label": "1968",
            "method": "animate"
           },
           {
            "args": [
             [
              "1969"
             ],
             {
              "frame": {
               "duration": 800,
               "redraw": true
              },
              "mode": "immediate"
             }
            ],
            "label": "1969",
            "method": "animate"
           },
           {
            "args": [
             [
              "1970"
             ],
             {
              "frame": {
               "duration": 800,
               "redraw": true
              },
              "mode": "immediate"
             }
            ],
            "label": "1970",
            "method": "animate"
           },
           {
            "args": [
             [
              "1971"
             ],
             {
              "frame": {
               "duration": 800,
               "redraw": true
              },
              "mode": "immediate"
             }
            ],
            "label": "1971",
            "method": "animate"
           },
           {
            "args": [
             [
              "1972"
             ],
             {
              "frame": {
               "duration": 800,
               "redraw": true
              },
              "mode": "immediate"
             }
            ],
            "label": "1972",
            "method": "animate"
           },
           {
            "args": [
             [
              "1973"
             ],
             {
              "frame": {
               "duration": 800,
               "redraw": true
              },
              "mode": "immediate"
             }
            ],
            "label": "1973",
            "method": "animate"
           },
           {
            "args": [
             [
              "1974"
             ],
             {
              "frame": {
               "duration": 800,
               "redraw": true
              },
              "mode": "immediate"
             }
            ],
            "label": "1974",
            "method": "animate"
           },
           {
            "args": [
             [
              "1975"
             ],
             {
              "frame": {
               "duration": 800,
               "redraw": true
              },
              "mode": "immediate"
             }
            ],
            "label": "1975",
            "method": "animate"
           },
           {
            "args": [
             [
              "1978"
             ],
             {
              "frame": {
               "duration": 800,
               "redraw": true
              },
              "mode": "immediate"
             }
            ],
            "label": "1978",
            "method": "animate"
           },
           {
            "args": [
             [
              "1979"
             ],
             {
              "frame": {
               "duration": 800,
               "redraw": true
              },
              "mode": "immediate"
             }
            ],
            "label": "1979",
            "method": "animate"
           },
           {
            "args": [
             [
              "1980"
             ],
             {
              "frame": {
               "duration": 800,
               "redraw": true
              },
              "mode": "immediate"
             }
            ],
            "label": "1980",
            "method": "animate"
           },
           {
            "args": [
             [
              "1981"
             ],
             {
              "frame": {
               "duration": 800,
               "redraw": true
              },
              "mode": "immediate"
             }
            ],
            "label": "1981",
            "method": "animate"
           },
           {
            "args": [
             [
              "1983"
             ],
             {
              "frame": {
               "duration": 800,
               "redraw": true
              },
              "mode": "immediate"
             }
            ],
            "label": "1983",
            "method": "animate"
           },
           {
            "args": [
             [
              "1985"
             ],
             {
              "frame": {
               "duration": 800,
               "redraw": true
              },
              "mode": "immediate"
             }
            ],
            "label": "1985",
            "method": "animate"
           },
           {
            "args": [
             [
              "1987"
             ],
             {
              "frame": {
               "duration": 800,
               "redraw": true
              },
              "mode": "immediate"
             }
            ],
            "label": "1987",
            "method": "animate"
           },
           {
            "args": [
             [
              "1988"
             ],
             {
              "frame": {
               "duration": 800,
               "redraw": true
              },
              "mode": "immediate"
             }
            ],
            "label": "1988",
            "method": "animate"
           },
           {
            "args": [
             [
              "1989"
             ],
             {
              "frame": {
               "duration": 800,
               "redraw": true
              },
              "mode": "immediate"
             }
            ],
            "label": "1989",
            "method": "animate"
           },
           {
            "args": [
             [
              "1990"
             ],
             {
              "frame": {
               "duration": 800,
               "redraw": true
              },
              "mode": "immediate"
             }
            ],
            "label": "1990",
            "method": "animate"
           },
           {
            "args": [
             [
              "1991"
             ],
             {
              "frame": {
               "duration": 800,
               "redraw": true
              },
              "mode": "immediate"
             }
            ],
            "label": "1991",
            "method": "animate"
           },
           {
            "args": [
             [
              "1992"
             ],
             {
              "frame": {
               "duration": 800,
               "redraw": true
              },
              "mode": "immediate"
             }
            ],
            "label": "1992",
            "method": "animate"
           },
           {
            "args": [
             [
              "1993"
             ],
             {
              "frame": {
               "duration": 800,
               "redraw": true
              },
              "mode": "immediate"
             }
            ],
            "label": "1993",
            "method": "animate"
           },
           {
            "args": [
             [
              "1994"
             ],
             {
              "frame": {
               "duration": 800,
               "redraw": true
              },
              "mode": "immediate"
             }
            ],
            "label": "1994",
            "method": "animate"
           },
           {
            "args": [
             [
              "1995"
             ],
             {
              "frame": {
               "duration": 800,
               "redraw": true
              },
              "mode": "immediate"
             }
            ],
            "label": "1995",
            "method": "animate"
           },
           {
            "args": [
             [
              "1996"
             ],
             {
              "frame": {
               "duration": 800,
               "redraw": true
              },
              "mode": "immediate"
             }
            ],
            "label": "1996",
            "method": "animate"
           },
           {
            "args": [
             [
              "1998"
             ],
             {
              "frame": {
               "duration": 800,
               "redraw": true
              },
              "mode": "immediate"
             }
            ],
            "label": "1998",
            "method": "animate"
           },
           {
            "args": [
             [
              "1999"
             ],
             {
              "frame": {
               "duration": 800,
               "redraw": true
              },
              "mode": "immediate"
             }
            ],
            "label": "1999",
            "method": "animate"
           },
           {
            "args": [
             [
              "2000"
             ],
             {
              "frame": {
               "duration": 800,
               "redraw": true
              },
              "mode": "immediate"
             }
            ],
            "label": "2000",
            "method": "animate"
           },
           {
            "args": [
             [
              "2001"
             ],
             {
              "frame": {
               "duration": 800,
               "redraw": true
              },
              "mode": "immediate"
             }
            ],
            "label": "2001",
            "method": "animate"
           },
           {
            "args": [
             [
              "2002"
             ],
             {
              "frame": {
               "duration": 800,
               "redraw": true
              },
              "mode": "immediate"
             }
            ],
            "label": "2002",
            "method": "animate"
           },
           {
            "args": [
             [
              "2003"
             ],
             {
              "frame": {
               "duration": 800,
               "redraw": true
              },
              "mode": "immediate"
             }
            ],
            "label": "2003",
            "method": "animate"
           },
           {
            "args": [
             [
              "2004"
             ],
             {
              "frame": {
               "duration": 800,
               "redraw": true
              },
              "mode": "immediate"
             }
            ],
            "label": "2004",
            "method": "animate"
           },
           {
            "args": [
             [
              "2005"
             ],
             {
              "frame": {
               "duration": 800,
               "redraw": true
              },
              "mode": "immediate"
             }
            ],
            "label": "2005",
            "method": "animate"
           },
           {
            "args": [
             [
              "2006"
             ],
             {
              "frame": {
               "duration": 800,
               "redraw": true
              },
              "mode": "immediate"
             }
            ],
            "label": "2006",
            "method": "animate"
           },
           {
            "args": [
             [
              "2007"
             ],
             {
              "frame": {
               "duration": 800,
               "redraw": true
              },
              "mode": "immediate"
             }
            ],
            "label": "2007",
            "method": "animate"
           },
           {
            "args": [
             [
              "2008"
             ],
             {
              "frame": {
               "duration": 800,
               "redraw": true
              },
              "mode": "immediate"
             }
            ],
            "label": "2008",
            "method": "animate"
           },
           {
            "args": [
             [
              "2009"
             ],
             {
              "frame": {
               "duration": 800,
               "redraw": true
              },
              "mode": "immediate"
             }
            ],
            "label": "2009",
            "method": "animate"
           },
           {
            "args": [
             [
              "2010"
             ],
             {
              "frame": {
               "duration": 800,
               "redraw": true
              },
              "mode": "immediate"
             }
            ],
            "label": "2010",
            "method": "animate"
           },
           {
            "args": [
             [
              "2011"
             ],
             {
              "frame": {
               "duration": 800,
               "redraw": true
              },
              "mode": "immediate"
             }
            ],
            "label": "2011",
            "method": "animate"
           },
           {
            "args": [
             [
              "2012"
             ],
             {
              "frame": {
               "duration": 800,
               "redraw": true
              },
              "mode": "immediate"
             }
            ],
            "label": "2012",
            "method": "animate"
           },
           {
            "args": [
             [
              "2013"
             ],
             {
              "frame": {
               "duration": 800,
               "redraw": true
              },
              "mode": "immediate"
             }
            ],
            "label": "2013",
            "method": "animate"
           },
           {
            "args": [
             [
              "2014"
             ],
             {
              "frame": {
               "duration": 800,
               "redraw": true
              },
              "mode": "immediate"
             }
            ],
            "label": "2014",
            "method": "animate"
           },
           {
            "args": [
             [
              "2015"
             ],
             {
              "frame": {
               "duration": 800,
               "redraw": true
              },
              "mode": "immediate"
             }
            ],
            "label": "2015",
            "method": "animate"
           },
           {
            "args": [
             [
              "2016"
             ],
             {
              "frame": {
               "duration": 800,
               "redraw": true
              },
              "mode": "immediate"
             }
            ],
            "label": "2016",
            "method": "animate"
           },
           {
            "args": [
             [
              "2017"
             ],
             {
              "frame": {
               "duration": 800,
               "redraw": true
              },
              "mode": "immediate"
             }
            ],
            "label": "2017",
            "method": "animate"
           },
           {
            "args": [
             [
              "2018"
             ],
             {
              "frame": {
               "duration": 800,
               "redraw": true
              },
              "mode": "immediate"
             }
            ],
            "label": "2018",
            "method": "animate"
           },
           {
            "args": [
             [
              "2020"
             ],
             {
              "frame": {
               "duration": 800,
               "redraw": true
              },
              "mode": "immediate"
             }
            ],
            "label": "2020",
            "method": "animate"
           }
          ],
          "x": 0,
          "xanchor": "left",
          "y": 0.15,
          "yanchor": "top"
         }
        ],
        "template": {
         "data": {
          "bar": [
           {
            "error_x": {
             "color": "#2a3f5f"
            },
            "error_y": {
             "color": "#2a3f5f"
            },
            "marker": {
             "line": {
              "color": "#E5ECF6",
              "width": 0.5
             },
             "pattern": {
              "fillmode": "overlay",
              "size": 10,
              "solidity": 0.2
             }
            },
            "type": "bar"
           }
          ],
          "barpolar": [
           {
            "marker": {
             "line": {
              "color": "#E5ECF6",
              "width": 0.5
             },
             "pattern": {
              "fillmode": "overlay",
              "size": 10,
              "solidity": 0.2
             }
            },
            "type": "barpolar"
           }
          ],
          "carpet": [
           {
            "aaxis": {
             "endlinecolor": "#2a3f5f",
             "gridcolor": "white",
             "linecolor": "white",
             "minorgridcolor": "white",
             "startlinecolor": "#2a3f5f"
            },
            "baxis": {
             "endlinecolor": "#2a3f5f",
             "gridcolor": "white",
             "linecolor": "white",
             "minorgridcolor": "white",
             "startlinecolor": "#2a3f5f"
            },
            "type": "carpet"
           }
          ],
          "choropleth": [
           {
            "colorbar": {
             "outlinewidth": 0,
             "ticks": ""
            },
            "type": "choropleth"
           }
          ],
          "contour": [
           {
            "colorbar": {
             "outlinewidth": 0,
             "ticks": ""
            },
            "colorscale": [
             [
              0,
              "#0d0887"
             ],
             [
              0.1111111111111111,
              "#46039f"
             ],
             [
              0.2222222222222222,
              "#7201a8"
             ],
             [
              0.3333333333333333,
              "#9c179e"
             ],
             [
              0.4444444444444444,
              "#bd3786"
             ],
             [
              0.5555555555555556,
              "#d8576b"
             ],
             [
              0.6666666666666666,
              "#ed7953"
             ],
             [
              0.7777777777777778,
              "#fb9f3a"
             ],
             [
              0.8888888888888888,
              "#fdca26"
             ],
             [
              1,
              "#f0f921"
             ]
            ],
            "type": "contour"
           }
          ],
          "contourcarpet": [
           {
            "colorbar": {
             "outlinewidth": 0,
             "ticks": ""
            },
            "type": "contourcarpet"
           }
          ],
          "heatmap": [
           {
            "colorbar": {
             "outlinewidth": 0,
             "ticks": ""
            },
            "colorscale": [
             [
              0,
              "#0d0887"
             ],
             [
              0.1111111111111111,
              "#46039f"
             ],
             [
              0.2222222222222222,
              "#7201a8"
             ],
             [
              0.3333333333333333,
              "#9c179e"
             ],
             [
              0.4444444444444444,
              "#bd3786"
             ],
             [
              0.5555555555555556,
              "#d8576b"
             ],
             [
              0.6666666666666666,
              "#ed7953"
             ],
             [
              0.7777777777777778,
              "#fb9f3a"
             ],
             [
              0.8888888888888888,
              "#fdca26"
             ],
             [
              1,
              "#f0f921"
             ]
            ],
            "type": "heatmap"
           }
          ],
          "histogram": [
           {
            "marker": {
             "pattern": {
              "fillmode": "overlay",
              "size": 10,
              "solidity": 0.2
             }
            },
            "type": "histogram"
           }
          ],
          "histogram2d": [
           {
            "colorbar": {
             "outlinewidth": 0,
             "ticks": ""
            },
            "colorscale": [
             [
              0,
              "#0d0887"
             ],
             [
              0.1111111111111111,
              "#46039f"
             ],
             [
              0.2222222222222222,
              "#7201a8"
             ],
             [
              0.3333333333333333,
              "#9c179e"
             ],
             [
              0.4444444444444444,
              "#bd3786"
             ],
             [
              0.5555555555555556,
              "#d8576b"
             ],
             [
              0.6666666666666666,
              "#ed7953"
             ],
             [
              0.7777777777777778,
              "#fb9f3a"
             ],
             [
              0.8888888888888888,
              "#fdca26"
             ],
             [
              1,
              "#f0f921"
             ]
            ],
            "type": "histogram2d"
           }
          ],
          "histogram2dcontour": [
           {
            "colorbar": {
             "outlinewidth": 0,
             "ticks": ""
            },
            "colorscale": [
             [
              0,
              "#0d0887"
             ],
             [
              0.1111111111111111,
              "#46039f"
             ],
             [
              0.2222222222222222,
              "#7201a8"
             ],
             [
              0.3333333333333333,
              "#9c179e"
             ],
             [
              0.4444444444444444,
              "#bd3786"
             ],
             [
              0.5555555555555556,
              "#d8576b"
             ],
             [
              0.6666666666666666,
              "#ed7953"
             ],
             [
              0.7777777777777778,
              "#fb9f3a"
             ],
             [
              0.8888888888888888,
              "#fdca26"
             ],
             [
              1,
              "#f0f921"
             ]
            ],
            "type": "histogram2dcontour"
           }
          ],
          "mesh3d": [
           {
            "colorbar": {
             "outlinewidth": 0,
             "ticks": ""
            },
            "type": "mesh3d"
           }
          ],
          "parcoords": [
           {
            "line": {
             "colorbar": {
              "outlinewidth": 0,
              "ticks": ""
             }
            },
            "type": "parcoords"
           }
          ],
          "pie": [
           {
            "automargin": true,
            "type": "pie"
           }
          ],
          "scatter": [
           {
            "fillpattern": {
             "fillmode": "overlay",
             "size": 10,
             "solidity": 0.2
            },
            "type": "scatter"
           }
          ],
          "scatter3d": [
           {
            "line": {
             "colorbar": {
              "outlinewidth": 0,
              "ticks": ""
             }
            },
            "marker": {
             "colorbar": {
              "outlinewidth": 0,
              "ticks": ""
             }
            },
            "type": "scatter3d"
           }
          ],
          "scattercarpet": [
           {
            "marker": {
             "colorbar": {
              "outlinewidth": 0,
              "ticks": ""
             }
            },
            "type": "scattercarpet"
           }
          ],
          "scattergeo": [
           {
            "marker": {
             "colorbar": {
              "outlinewidth": 0,
              "ticks": ""
             }
            },
            "type": "scattergeo"
           }
          ],
          "scattergl": [
           {
            "marker": {
             "colorbar": {
              "outlinewidth": 0,
              "ticks": ""
             }
            },
            "type": "scattergl"
           }
          ],
          "scattermap": [
           {
            "marker": {
             "colorbar": {
              "outlinewidth": 0,
              "ticks": ""
             }
            },
            "type": "scattermap"
           }
          ],
          "scattermapbox": [
           {
            "marker": {
             "colorbar": {
              "outlinewidth": 0,
              "ticks": ""
             }
            },
            "type": "scattermapbox"
           }
          ],
          "scatterpolar": [
           {
            "marker": {
             "colorbar": {
              "outlinewidth": 0,
              "ticks": ""
             }
            },
            "type": "scatterpolar"
           }
          ],
          "scatterpolargl": [
           {
            "marker": {
             "colorbar": {
              "outlinewidth": 0,
              "ticks": ""
             }
            },
            "type": "scatterpolargl"
           }
          ],
          "scatterternary": [
           {
            "marker": {
             "colorbar": {
              "outlinewidth": 0,
              "ticks": ""
             }
            },
            "type": "scatterternary"
           }
          ],
          "surface": [
           {
            "colorbar": {
             "outlinewidth": 0,
             "ticks": ""
            },
            "colorscale": [
             [
              0,
              "#0d0887"
             ],
             [
              0.1111111111111111,
              "#46039f"
             ],
             [
              0.2222222222222222,
              "#7201a8"
             ],
             [
              0.3333333333333333,
              "#9c179e"
             ],
             [
              0.4444444444444444,
              "#bd3786"
             ],
             [
              0.5555555555555556,
              "#d8576b"
             ],
             [
              0.6666666666666666,
              "#ed7953"
             ],
             [
              0.7777777777777778,
              "#fb9f3a"
             ],
             [
              0.8888888888888888,
              "#fdca26"
             ],
             [
              1,
              "#f0f921"
             ]
            ],
            "type": "surface"
           }
          ],
          "table": [
           {
            "cells": {
             "fill": {
              "color": "#EBF0F8"
             },
             "line": {
              "color": "white"
             }
            },
            "header": {
             "fill": {
              "color": "#C8D4E3"
             },
             "line": {
              "color": "white"
             }
            },
            "type": "table"
           }
          ]
         },
         "layout": {
          "annotationdefaults": {
           "arrowcolor": "#2a3f5f",
           "arrowhead": 0,
           "arrowwidth": 1
          },
          "autotypenumbers": "strict",
          "coloraxis": {
           "colorbar": {
            "outlinewidth": 0,
            "ticks": ""
           }
          },
          "colorscale": {
           "diverging": [
            [
             0,
             "#8e0152"
            ],
            [
             0.1,
             "#c51b7d"
            ],
            [
             0.2,
             "#de77ae"
            ],
            [
             0.3,
             "#f1b6da"
            ],
            [
             0.4,
             "#fde0ef"
            ],
            [
             0.5,
             "#f7f7f7"
            ],
            [
             0.6,
             "#e6f5d0"
            ],
            [
             0.7,
             "#b8e186"
            ],
            [
             0.8,
             "#7fbc41"
            ],
            [
             0.9,
             "#4d9221"
            ],
            [
             1,
             "#276419"
            ]
           ],
           "sequential": [
            [
             0,
             "#0d0887"
            ],
            [
             0.1111111111111111,
             "#46039f"
            ],
            [
             0.2222222222222222,
             "#7201a8"
            ],
            [
             0.3333333333333333,
             "#9c179e"
            ],
            [
             0.4444444444444444,
             "#bd3786"
            ],
            [
             0.5555555555555556,
             "#d8576b"
            ],
            [
             0.6666666666666666,
             "#ed7953"
            ],
            [
             0.7777777777777778,
             "#fb9f3a"
            ],
            [
             0.8888888888888888,
             "#fdca26"
            ],
            [
             1,
             "#f0f921"
            ]
           ],
           "sequentialminus": [
            [
             0,
             "#0d0887"
            ],
            [
             0.1111111111111111,
             "#46039f"
            ],
            [
             0.2222222222222222,
             "#7201a8"
            ],
            [
             0.3333333333333333,
             "#9c179e"
            ],
            [
             0.4444444444444444,
             "#bd3786"
            ],
            [
             0.5555555555555556,
             "#d8576b"
            ],
            [
             0.6666666666666666,
             "#ed7953"
            ],
            [
             0.7777777777777778,
             "#fb9f3a"
            ],
            [
             0.8888888888888888,
             "#fdca26"
            ],
            [
             1,
             "#f0f921"
            ]
           ]
          },
          "colorway": [
           "#636efa",
           "#EF553B",
           "#00cc96",
           "#ab63fa",
           "#FFA15A",
           "#19d3f3",
           "#FF6692",
           "#B6E880",
           "#FF97FF",
           "#FECB52"
          ],
          "font": {
           "color": "#2a3f5f"
          },
          "geo": {
           "bgcolor": "white",
           "lakecolor": "white",
           "landcolor": "#E5ECF6",
           "showlakes": true,
           "showland": true,
           "subunitcolor": "white"
          },
          "hoverlabel": {
           "align": "left"
          },
          "hovermode": "closest",
          "mapbox": {
           "style": "light"
          },
          "paper_bgcolor": "white",
          "plot_bgcolor": "#E5ECF6",
          "polar": {
           "angularaxis": {
            "gridcolor": "white",
            "linecolor": "white",
            "ticks": ""
           },
           "bgcolor": "#E5ECF6",
           "radialaxis": {
            "gridcolor": "white",
            "linecolor": "white",
            "ticks": ""
           }
          },
          "scene": {
           "xaxis": {
            "backgroundcolor": "#E5ECF6",
            "gridcolor": "white",
            "gridwidth": 2,
            "linecolor": "white",
            "showbackground": true,
            "ticks": "",
            "zerolinecolor": "white"
           },
           "yaxis": {
            "backgroundcolor": "#E5ECF6",
            "gridcolor": "white",
            "gridwidth": 2,
            "linecolor": "white",
            "showbackground": true,
            "ticks": "",
            "zerolinecolor": "white"
           },
           "zaxis": {
            "backgroundcolor": "#E5ECF6",
            "gridcolor": "white",
            "gridwidth": 2,
            "linecolor": "white",
            "showbackground": true,
            "ticks": "",
            "zerolinecolor": "white"
           }
          },
          "shapedefaults": {
           "line": {
            "color": "#2a3f5f"
           }
          },
          "ternary": {
           "aaxis": {
            "gridcolor": "white",
            "linecolor": "white",
            "ticks": ""
           },
           "baxis": {
            "gridcolor": "white",
            "linecolor": "white",
            "ticks": ""
           },
           "bgcolor": "#E5ECF6",
           "caxis": {
            "gridcolor": "white",
            "linecolor": "white",
            "ticks": ""
           }
          },
          "title": {
           "x": 0.05
          },
          "xaxis": {
           "automargin": true,
           "gridcolor": "white",
           "linecolor": "white",
           "ticks": "",
           "title": {
            "standoff": 15
           },
           "zerolinecolor": "white",
           "zerolinewidth": 2
          },
          "yaxis": {
           "automargin": true,
           "gridcolor": "white",
           "linecolor": "white",
           "ticks": "",
           "title": {
            "standoff": 15
           },
           "zerolinecolor": "white",
           "zerolinewidth": 2
          }
         }
        },
        "title": {
         "text": "Tsunami Schade en Zeespiegelstijging per Jaar"
        },
        "updatemenus": [
         {
          "buttons": [
           {
            "args": [
             null,
             {
              "frame": {
               "duration": 600,
               "redraw": true
              },
              "fromcurrent": true
             }
            ],
            "label": "▶️",
            "method": "animate"
           },
           {
            "args": [
             [
              null
             ],
             {
              "frame": {
               "duration": 0,
               "redraw": false
              },
              "mode": "immediate"
             }
            ],
            "label": "⏸️",
            "method": "animate"
           }
          ],
          "direction": "right",
          "pad": {
           "r": 10,
           "t": 10
          },
          "showactive": true,
          "type": "buttons",
          "x": 0.1,
          "xanchor": "center",
          "y": 0.03,
          "yanchor": "bottom"
         }
        ],
        "xaxis2": {
         "anchor": "y2",
         "domain": [
          0.15,
          0.85
         ],
         "position": 0,
         "range": [
          0,
          214.87
         ],
         "showgrid": false,
         "showticklabels": true,
         "side": "bottom",
         "tickfont": {
          "size": 12
         },
         "title": {
          "font": {
           "size": 14
          },
          "text": "Zeespiegelstijging (mm)"
         },
         "zeroline": false
        },
        "yaxis2": {
         "anchor": "x2",
         "domain": [
          0.1,
          0.12
         ],
         "showgrid": false,
         "showticklabels": false,
         "zeroline": false
        }
       }
      },
      "image/png": "[encoded data removed]",
      "text/html": [
       "<div>            <script src=\"https://cdnjs.cloudflare.com/ajax/libs/mathjax/2.7.5/MathJax.js?config=TeX-AMS-MML_SVG\"></script><script type=\"text/javascript\">if (window.MathJax && window.MathJax.Hub && window.MathJax.Hub.Config) {window.MathJax.Hub.Config({SVG: {font: \"STIX-Web\"}});}</script>                <script type=\"text/javascript\">window.PlotlyConfig = {MathJaxConfig: 'local'};</script>\n",
       "        <script charset=\"utf-8\" src=\"https://cdn.plot.ly/plotly-3.0.1.min.js\"></script>                <div id=\"a59f7143-8f1c-4be4-9f7d-7fd8a2e4e711\" class=\"plotly-graph-div\" style=\"height:1100px; width:100%;\"></div>            <script type=\"text/javascript\">                window.PLOTLYENV=window.PLOTLYENV || {};                                if (document.getElementById(\"a59f7143-8f1c-4be4-9f7d-7fd8a2e4e711\")) {                    Plotly.newPlot(                        \"a59f7143-8f1c-4be4-9f7d-7fd8a2e4e711\",                        [{\"hoverinfo\":\"text\",\"lat\":{\"dtype\":\"f8\",\"bdata\":\"AAAAAAAAJkAAAAAAAAAQwA==\"},\"lon\":{\"dtype\":\"f8\",\"bdata\":\"AAAAAACAUMAAAAAAAIBhQA==\"},\"marker\":{\"cmax\":25.0,\"cmin\":1.0,\"color\":{\"dtype\":\"f8\",\"bdata\":\"AAAAAAAAFEAAAAAAAADwPw==\"},\"colorscale\":[[0.0,\"rgb(255,247,236)\"],[0.125,\"rgb(254,232,200)\"],[0.25,\"rgb(253,212,158)\"],[0.375,\"rgb(253,187,132)\"],[0.5,\"rgb(252,141,89)\"],[0.625,\"rgb(239,101,72)\"],[0.75,\"rgb(215,48,31)\"],[0.875,\"rgb(179,0,0)\"],[1.0,\"rgb(127,0,0)\"]],\"size\":15,\"coloraxis\":\"coloraxis\"},\"name\":\"Tsunami schade\",\"text\":[\"VENEZUELA\\u003cbr\\u003eSchade: 5.0 M$\",\"INDONESIA\\u003cbr\\u003eSchade: 1.0 M$\"],\"type\":\"scattergeo\"},{\"line\":{\"color\":\"lightblue\",\"width\":20},\"mode\":\"lines\",\"showlegend\":false,\"x\":[0,214.87],\"xaxis\":\"x2\",\"y\":[0,0],\"yaxis\":\"y2\",\"type\":\"scatter\"},{\"marker\":{\"color\":\"blue\",\"size\":30},\"mode\":\"markers\",\"showlegend\":false,\"x\":[-2.17],\"xaxis\":\"x2\",\"y\":[0],\"yaxis\":\"y2\",\"type\":\"scatter\"}],                        {\"template\":{\"data\":{\"histogram2dcontour\":[{\"type\":\"histogram2dcontour\",\"colorbar\":{\"outlinewidth\":0,\"ticks\":\"\"},\"colorscale\":[[0.0,\"#0d0887\"],[0.1111111111111111,\"#46039f\"],[0.2222222222222222,\"#7201a8\"],[0.3333333333333333,\"#9c179e\"],[0.4444444444444444,\"#bd3786\"],[0.5555555555555556,\"#d8576b\"],[0.6666666666666666,\"#ed7953\"],[0.7777777777777778,\"#fb9f3a\"],[0.8888888888888888,\"#fdca26\"],[1.0,\"#f0f921\"]]}],\"choropleth\":[{\"type\":\"choropleth\",\"colorbar\":{\"outlinewidth\":0,\"ticks\":\"\"}}],\"histogram2d\":[{\"type\":\"histogram2d\",\"colorbar\":{\"outlinewidth\":0,\"ticks\":\"\"},\"colorscale\":[[0.0,\"#0d0887\"],[0.1111111111111111,\"#46039f\"],[0.2222222222222222,\"#7201a8\"],[0.3333333333333333,\"#9c179e\"],[0.4444444444444444,\"#bd3786\"],[0.5555555555555556,\"#d8576b\"],[0.6666666666666666,\"#ed7953\"],[0.7777777777777778,\"#fb9f3a\"],[0.8888888888888888,\"#fdca26\"],[1.0,\"#f0f921\"]]}],\"heatmap\":[{\"type\":\"heatmap\",\"colorbar\":{\"outlinewidth\":0,\"ticks\":\"\"},\"colorscale\":[[0.0,\"#0d0887\"],[0.1111111111111111,\"#46039f\"],[0.2222222222222222,\"#7201a8\"],[0.3333333333333333,\"#9c179e\"],[0.4444444444444444,\"#bd3786\"],[0.5555555555555556,\"#d8576b\"],[0.6666666666666666,\"#ed7953\"],[0.7777777777777778,\"#fb9f3a\"],[0.8888888888888888,\"#fdca26\"],[1.0,\"#f0f921\"]]}],\"contourcarpet\":[{\"type\":\"contourcarpet\",\"colorbar\":{\"outlinewidth\":0,\"ticks\":\"\"}}],\"contour\":[{\"type\":\"contour\",\"colorbar\":{\"outlinewidth\":0,\"ticks\":\"\"},\"colorscale\":[[0.0,\"#0d0887\"],[0.1111111111111111,\"#46039f\"],[0.2222222222222222,\"#7201a8\"],[0.3333333333333333,\"#9c179e\"],[0.4444444444444444,\"#bd3786\"],[0.5555555555555556,\"#d8576b\"],[0.6666666666666666,\"#ed7953\"],[0.7777777777777778,\"#fb9f3a\"],[0.8888888888888888,\"#fdca26\"],[1.0,\"#f0f921\"]]}],\"surface\":[{\"type\":\"surface\",\"colorbar\":{\"outlinewidth\":0,\"ticks\":\"\"},\"colorscale\":[[0.0,\"#0d0887\"],[0.1111111111111111,\"#46039f\"],[0.2222222222222222,\"#7201a8\"],[0.3333333333333333,\"#9c179e\"],[0.4444444444444444,\"#bd3786\"],[0.5555555555555556,\"#d8576b\"],[0.6666666666666666,\"#ed7953\"],[0.7777777777777778,\"#fb9f3a\"],[0.8888888888888888,\"#fdca26\"],[1.0,\"#f0f921\"]]}],\"mesh3d\":[{\"type\":\"mesh3d\",\"colorbar\":{\"outlinewidth\":0,\"ticks\":\"\"}}],\"scatter\":[{\"fillpattern\":{\"fillmode\":\"overlay\",\"size\":10,\"solidity\":0.2},\"type\":\"scatter\"}],\"parcoords\":[{\"type\":\"parcoords\",\"line\":{\"colorbar\":{\"outlinewidth\":0,\"ticks\":\"\"}}}],\"scatterpolargl\":[{\"type\":\"scatterpolargl\",\"marker\":{\"colorbar\":{\"outlinewidth\":0,\"ticks\":\"\"}}}],\"bar\":[{\"error_x\":{\"color\":\"#2a3f5f\"},\"error_y\":{\"color\":\"#2a3f5f\"},\"marker\":{\"line\":{\"color\":\"#E5ECF6\",\"width\":0.5},\"pattern\":{\"fillmode\":\"overlay\",\"size\":10,\"solidity\":0.2}},\"type\":\"bar\"}],\"scattergeo\":[{\"type\":\"scattergeo\",\"marker\":{\"colorbar\":{\"outlinewidth\":0,\"ticks\":\"\"}}}],\"scatterpolar\":[{\"type\":\"scatterpolar\",\"marker\":{\"colorbar\":{\"outlinewidth\":0,\"ticks\":\"\"}}}],\"histogram\":[{\"marker\":{\"pattern\":{\"fillmode\":\"overlay\",\"size\":10,\"solidity\":0.2}},\"type\":\"histogram\"}],\"scattergl\":[{\"type\":\"scattergl\",\"marker\":{\"colorbar\":{\"outlinewidth\":0,\"ticks\":\"\"}}}],\"scatter3d\":[{\"type\":\"scatter3d\",\"line\":{\"colorbar\":{\"outlinewidth\":0,\"ticks\":\"\"}},\"marker\":{\"colorbar\":{\"outlinewidth\":0,\"ticks\":\"\"}}}],\"scattermap\":[{\"type\":\"scattermap\",\"marker\":{\"colorbar\":{\"outlinewidth\":0,\"ticks\":\"\"}}}],\"scattermapbox\":[{\"type\":\"scattermapbox\",\"marker\":{\"colorbar\":{\"outlinewidth\":0,\"ticks\":\"\"}}}],\"scatterternary\":[{\"type\":\"scatterternary\",\"marker\":{\"colorbar\":{\"outlinewidth\":0,\"ticks\":\"\"}}}],\"scattercarpet\":[{\"type\":\"scattercarpet\",\"marker\":{\"colorbar\":{\"outlinewidth\":0,\"ticks\":\"\"}}}],\"carpet\":[{\"aaxis\":{\"endlinecolor\":\"#2a3f5f\",\"gridcolor\":\"white\",\"linecolor\":\"white\",\"minorgridcolor\":\"white\",\"startlinecolor\":\"#2a3f5f\"},\"baxis\":{\"endlinecolor\":\"#2a3f5f\",\"gridcolor\":\"white\",\"linecolor\":\"white\",\"minorgridcolor\":\"white\",\"startlinecolor\":\"#2a3f5f\"},\"type\":\"carpet\"}],\"table\":[{\"cells\":{\"fill\":{\"color\":\"#EBF0F8\"},\"line\":{\"color\":\"white\"}},\"header\":{\"fill\":{\"color\":\"#C8D4E3\"},\"line\":{\"color\":\"white\"}},\"type\":\"table\"}],\"barpolar\":[{\"marker\":{\"line\":{\"color\":\"#E5ECF6\",\"width\":0.5},\"pattern\":{\"fillmode\":\"overlay\",\"size\":10,\"solidity\":0.2}},\"type\":\"barpolar\"}],\"pie\":[{\"automargin\":true,\"type\":\"pie\"}]},\"layout\":{\"autotypenumbers\":\"strict\",\"colorway\":[\"#636efa\",\"#EF553B\",\"#00cc96\",\"#ab63fa\",\"#FFA15A\",\"#19d3f3\",\"#FF6692\",\"#B6E880\",\"#FF97FF\",\"#FECB52\"],\"font\":{\"color\":\"#2a3f5f\"},\"hovermode\":\"closest\",\"hoverlabel\":{\"align\":\"left\"},\"paper_bgcolor\":\"white\",\"plot_bgcolor\":\"#E5ECF6\",\"polar\":{\"bgcolor\":\"#E5ECF6\",\"angularaxis\":{\"gridcolor\":\"white\",\"linecolor\":\"white\",\"ticks\":\"\"},\"radialaxis\":{\"gridcolor\":\"white\",\"linecolor\":\"white\",\"ticks\":\"\"}},\"ternary\":{\"bgcolor\":\"#E5ECF6\",\"aaxis\":{\"gridcolor\":\"white\",\"linecolor\":\"white\",\"ticks\":\"\"},\"baxis\":{\"gridcolor\":\"white\",\"linecolor\":\"white\",\"ticks\":\"\"},\"caxis\":{\"gridcolor\":\"white\",\"linecolor\":\"white\",\"ticks\":\"\"}},\"coloraxis\":{\"colorbar\":{\"outlinewidth\":0,\"ticks\":\"\"}},\"colorscale\":{\"sequential\":[[0.0,\"#0d0887\"],[0.1111111111111111,\"#46039f\"],[0.2222222222222222,\"#7201a8\"],[0.3333333333333333,\"#9c179e\"],[0.4444444444444444,\"#bd3786\"],[0.5555555555555556,\"#d8576b\"],[0.6666666666666666,\"#ed7953\"],[0.7777777777777778,\"#fb9f3a\"],[0.8888888888888888,\"#fdca26\"],[1.0,\"#f0f921\"]],\"sequentialminus\":[[0.0,\"#0d0887\"],[0.1111111111111111,\"#46039f\"],[0.2222222222222222,\"#7201a8\"],[0.3333333333333333,\"#9c179e\"],[0.4444444444444444,\"#bd3786\"],[0.5555555555555556,\"#d8576b\"],[0.6666666666666666,\"#ed7953\"],[0.7777777777777778,\"#fb9f3a\"],[0.8888888888888888,\"#fdca26\"],[1.0,\"#f0f921\"]],\"diverging\":[[0,\"#8e0152\"],[0.1,\"#c51b7d\"],[0.2,\"#de77ae\"],[0.3,\"#f1b6da\"],[0.4,\"#fde0ef\"],[0.5,\"#f7f7f7\"],[0.6,\"#e6f5d0\"],[0.7,\"#b8e186\"],[0.8,\"#7fbc41\"],[0.9,\"#4d9221\"],[1,\"#276419\"]]},\"xaxis\":{\"gridcolor\":\"white\",\"linecolor\":\"white\",\"ticks\":\"\",\"title\":{\"standoff\":15},\"zerolinecolor\":\"white\",\"automargin\":true,\"zerolinewidth\":2},\"yaxis\":{\"gridcolor\":\"white\",\"linecolor\":\"white\",\"ticks\":\"\",\"title\":{\"standoff\":15},\"zerolinecolor\":\"white\",\"automargin\":true,\"zerolinewidth\":2},\"scene\":{\"xaxis\":{\"backgroundcolor\":\"#E5ECF6\",\"gridcolor\":\"white\",\"linecolor\":\"white\",\"showbackground\":true,\"ticks\":\"\",\"zerolinecolor\":\"white\",\"gridwidth\":2},\"yaxis\":{\"backgroundcolor\":\"#E5ECF6\",\"gridcolor\":\"white\",\"linecolor\":\"white\",\"showbackground\":true,\"ticks\":\"\",\"zerolinecolor\":\"white\",\"gridwidth\":2},\"zaxis\":{\"backgroundcolor\":\"#E5ECF6\",\"gridcolor\":\"white\",\"linecolor\":\"white\",\"showbackground\":true,\"ticks\":\"\",\"zerolinecolor\":\"white\",\"gridwidth\":2}},\"shapedefaults\":{\"line\":{\"color\":\"#2a3f5f\"}},\"annotationdefaults\":{\"arrowcolor\":\"#2a3f5f\",\"arrowhead\":0,\"arrowwidth\":1},\"geo\":{\"bgcolor\":\"white\",\"landcolor\":\"#E5ECF6\",\"subunitcolor\":\"white\",\"showland\":true,\"showlakes\":true,\"lakecolor\":\"white\"},\"title\":{\"x\":0.05},\"mapbox\":{\"style\":\"light\"}}},\"title\":{\"text\":\"Tsunami Schade en Zeespiegelstijging per Jaar\"},\"geo\":{\"projection\":{\"type\":\"equirectangular\"},\"lonaxis\":{\"range\":[-180,180]},\"lataxis\":{\"range\":[-90,90]},\"domain\":{\"x\":[0,1],\"y\":[0.3,1]},\"scope\":\"world\",\"showland\":true,\"landcolor\":\"rgb(240, 240, 240)\",\"oceancolor\":\"rgb(10, 10, 60)\",\"showocean\":true,\"showcountries\":true,\"countrycolor\":\"white\"},\"margin\":{\"t\":50,\"b\":50},\"coloraxis\":{\"colorbar\":{\"title\":{\"font\":{\"size\":14},\"text\":\"Schade (miljoen USD)\"},\"tickfont\":{\"size\":12},\"orientation\":\"h\",\"yanchor\":\"bottom\",\"y\":0.15,\"xanchor\":\"center\",\"x\":0.4,\"len\":0.7,\"tickmode\":\"array\",\"tickvals\":[0,10,20,30]},\"colorscale\":[[0.0,\"rgb(196, 230, 195)\"],[0.16666666666666666,\"rgb(150, 210, 164)\"],[0.3333333333333333,\"rgb(109, 188, 144)\"],[0.5,\"rgb(77, 162, 132)\"],[0.6666666666666666,\"rgb(54, 135, 122)\"],[0.8333333333333334,\"rgb(38, 107, 110)\"],[1.0,\"rgb(29, 79, 96)\"]],\"cmin\":1.0,\"cmax\":25.0},\"xaxis2\":{\"domain\":[0.15,0.85],\"anchor\":\"y2\",\"range\":[0,214.87],\"title\":{\"text\":\"Zeespiegelstijging (mm)\",\"font\":{\"size\":14}},\"showgrid\":false,\"zeroline\":false,\"showticklabels\":true,\"tickfont\":{\"size\":12},\"position\":0.0,\"side\":\"bottom\"},\"yaxis2\":{\"domain\":[0.1,0.12],\"anchor\":\"x2\",\"showticklabels\":false,\"showgrid\":false,\"zeroline\":false},\"height\":1100,\"updatemenus\":[{\"buttons\":[{\"args\":[null,{\"frame\":{\"duration\":600,\"redraw\":true},\"fromcurrent\":true}],\"label\":\"\\u25b6\\ufe0f\",\"method\":\"animate\"},{\"args\":[[null],{\"frame\":{\"duration\":0,\"redraw\":false},\"mode\":\"immediate\"}],\"label\":\"\\u23f8\\ufe0f\",\"method\":\"animate\"}],\"direction\":\"right\",\"pad\":{\"r\":10,\"t\":10},\"showactive\":true,\"type\":\"buttons\",\"x\":0.1,\"xanchor\":\"center\",\"y\":0.03,\"yanchor\":\"bottom\"}],\"sliders\":[{\"currentvalue\":{\"prefix\":\"Jaar: \",\"visible\":true,\"xanchor\":\"right\"},\"len\":1.0,\"pad\":{\"b\":10,\"t\":50},\"steps\":[{\"args\":[[\"1900\"],{\"frame\":{\"duration\":800,\"redraw\":true},\"mode\":\"immediate\"}],\"label\":\"1900\",\"method\":\"animate\"},{\"args\":[[\"1901\"],{\"frame\":{\"duration\":800,\"redraw\":true},\"mode\":\"immediate\"}],\"label\":\"1901\",\"method\":\"animate\"},{\"args\":[[\"1902\"],{\"frame\":{\"duration\":800,\"redraw\":true},\"mode\":\"immediate\"}],\"label\":\"1902\",\"method\":\"animate\"},{\"args\":[[\"1903\"],{\"frame\":{\"duration\":800,\"redraw\":true},\"mode\":\"immediate\"}],\"label\":\"1903\",\"method\":\"animate\"},{\"args\":[[\"1905\"],{\"frame\":{\"duration\":800,\"redraw\":true},\"mode\":\"immediate\"}],\"label\":\"1905\",\"method\":\"animate\"},{\"args\":[[\"1906\"],{\"frame\":{\"duration\":800,\"redraw\":true},\"mode\":\"immediate\"}],\"label\":\"1906\",\"method\":\"animate\"},{\"args\":[[\"1907\"],{\"frame\":{\"duration\":800,\"redraw\":true},\"mode\":\"immediate\"}],\"label\":\"1907\",\"method\":\"animate\"},{\"args\":[[\"1908\"],{\"frame\":{\"duration\":800,\"redraw\":true},\"mode\":\"immediate\"}],\"label\":\"1908\",\"method\":\"animate\"},{\"args\":[[\"1909\"],{\"frame\":{\"duration\":800,\"redraw\":true},\"mode\":\"immediate\"}],\"label\":\"1909\",\"method\":\"animate\"},{\"args\":[[\"1911\"],{\"frame\":{\"duration\":800,\"redraw\":true},\"mode\":\"immediate\"}],\"label\":\"1911\",\"method\":\"animate\"},{\"args\":[[\"1913\"],{\"frame\":{\"duration\":800,\"redraw\":true},\"mode\":\"immediate\"}],\"label\":\"1913\",\"method\":\"animate\"},{\"args\":[[\"1914\"],{\"frame\":{\"duration\":800,\"redraw\":true},\"mode\":\"immediate\"}],\"label\":\"1914\",\"method\":\"animate\"},{\"args\":[[\"1917\"],{\"frame\":{\"duration\":800,\"redraw\":true},\"mode\":\"immediate\"}],\"label\":\"1917\",\"method\":\"animate\"},{\"args\":[[\"1918\"],{\"frame\":{\"duration\":800,\"redraw\":true},\"mode\":\"immediate\"}],\"label\":\"1918\",\"method\":\"animate\"},{\"args\":[[\"1919\"],{\"frame\":{\"duration\":800,\"redraw\":true},\"mode\":\"immediate\"}],\"label\":\"1919\",\"method\":\"animate\"},{\"args\":[[\"1920\"],{\"frame\":{\"duration\":800,\"redraw\":true},\"mode\":\"immediate\"}],\"label\":\"1920\",\"method\":\"animate\"},{\"args\":[[\"1922\"],{\"frame\":{\"duration\":800,\"redraw\":true},\"mode\":\"immediate\"}],\"label\":\"1922\",\"method\":\"animate\"},{\"args\":[[\"1923\"],{\"frame\":{\"duration\":800,\"redraw\":true},\"mode\":\"immediate\"}],\"label\":\"1923\",\"method\":\"animate\"},{\"args\":[[\"1925\"],{\"frame\":{\"duration\":800,\"redraw\":true},\"mode\":\"immediate\"}],\"label\":\"1925\",\"method\":\"animate\"},{\"args\":[[\"1926\"],{\"frame\":{\"duration\":800,\"redraw\":true},\"mode\":\"immediate\"}],\"label\":\"1926\",\"method\":\"animate\"},{\"args\":[[\"1927\"],{\"frame\":{\"duration\":800,\"redraw\":true},\"mode\":\"immediate\"}],\"label\":\"1927\",\"method\":\"animate\"},{\"args\":[[\"1928\"],{\"frame\":{\"duration\":800,\"redraw\":true},\"mode\":\"immediate\"}],\"label\":\"1928\",\"method\":\"animate\"},{\"args\":[[\"1929\"],{\"frame\":{\"duration\":800,\"redraw\":true},\"mode\":\"immediate\"}],\"label\":\"1929\",\"method\":\"animate\"},{\"args\":[[\"1930\"],{\"frame\":{\"duration\":800,\"redraw\":true},\"mode\":\"immediate\"}],\"label\":\"1930\",\"method\":\"animate\"},{\"args\":[[\"1931\"],{\"frame\":{\"duration\":800,\"redraw\":true},\"mode\":\"immediate\"}],\"label\":\"1931\",\"method\":\"animate\"},{\"args\":[[\"1932\"],{\"frame\":{\"duration\":800,\"redraw\":true},\"mode\":\"immediate\"}],\"label\":\"1932\",\"method\":\"animate\"},{\"args\":[[\"1933\"],{\"frame\":{\"duration\":800,\"redraw\":true},\"mode\":\"immediate\"}],\"label\":\"1933\",\"method\":\"animate\"},{\"args\":[[\"1934\"],{\"frame\":{\"duration\":800,\"redraw\":true},\"mode\":\"immediate\"}],\"label\":\"1934\",\"method\":\"animate\"},{\"args\":[[\"1935\"],{\"frame\":{\"duration\":800,\"redraw\":true},\"mode\":\"immediate\"}],\"label\":\"1935\",\"method\":\"animate\"},{\"args\":[[\"1936\"],{\"frame\":{\"duration\":800,\"redraw\":true},\"mode\":\"immediate\"}],\"label\":\"1936\",\"method\":\"animate\"},{\"args\":[[\"1937\"],{\"frame\":{\"duration\":800,\"redraw\":true},\"mode\":\"immediate\"}],\"label\":\"1937\",\"method\":\"animate\"},{\"args\":[[\"1938\"],{\"frame\":{\"duration\":800,\"redraw\":true},\"mode\":\"immediate\"}],\"label\":\"1938\",\"method\":\"animate\"},{\"args\":[[\"1939\"],{\"frame\":{\"duration\":800,\"redraw\":true},\"mode\":\"immediate\"}],\"label\":\"1939\",\"method\":\"animate\"},{\"args\":[[\"1940\"],{\"frame\":{\"duration\":800,\"redraw\":true},\"mode\":\"immediate\"}],\"label\":\"1940\",\"method\":\"animate\"},{\"args\":[[\"1941\"],{\"frame\":{\"duration\":800,\"redraw\":true},\"mode\":\"immediate\"}],\"label\":\"1941\",\"method\":\"animate\"},{\"args\":[[\"1942\"],{\"frame\":{\"duration\":800,\"redraw\":true},\"mode\":\"immediate\"}],\"label\":\"1942\",\"method\":\"animate\"},{\"args\":[[\"1943\"],{\"frame\":{\"duration\":800,\"redraw\":true},\"mode\":\"immediate\"}],\"label\":\"1943\",\"method\":\"animate\"},{\"args\":[[\"1944\"],{\"frame\":{\"duration\":800,\"redraw\":true},\"mode\":\"immediate\"}],\"label\":\"1944\",\"method\":\"animate\"},{\"args\":[[\"1945\"],{\"frame\":{\"duration\":800,\"redraw\":true},\"mode\":\"immediate\"}],\"label\":\"1945\",\"method\":\"animate\"},{\"args\":[[\"1946\"],{\"frame\":{\"duration\":800,\"redraw\":true},\"mode\":\"immediate\"}],\"label\":\"1946\",\"method\":\"animate\"},{\"args\":[[\"1947\"],{\"frame\":{\"duration\":800,\"redraw\":true},\"mode\":\"immediate\"}],\"label\":\"1947\",\"method\":\"animate\"},{\"args\":[[\"1948\"],{\"frame\":{\"duration\":800,\"redraw\":true},\"mode\":\"immediate\"}],\"label\":\"1948\",\"method\":\"animate\"},{\"args\":[[\"1949\"],{\"frame\":{\"duration\":800,\"redraw\":true},\"mode\":\"immediate\"}],\"label\":\"1949\",\"method\":\"animate\"},{\"args\":[[\"1950\"],{\"frame\":{\"duration\":800,\"redraw\":true},\"mode\":\"immediate\"}],\"label\":\"1950\",\"method\":\"animate\"},{\"args\":[[\"1951\"],{\"frame\":{\"duration\":800,\"redraw\":true},\"mode\":\"immediate\"}],\"label\":\"1951\",\"method\":\"animate\"},{\"args\":[[\"1952\"],{\"frame\":{\"duration\":800,\"redraw\":true},\"mode\":\"immediate\"}],\"label\":\"1952\",\"method\":\"animate\"},{\"args\":[[\"1953\"],{\"frame\":{\"duration\":800,\"redraw\":true},\"mode\":\"immediate\"}],\"label\":\"1953\",\"method\":\"animate\"},{\"args\":[[\"1954\"],{\"frame\":{\"duration\":800,\"redraw\":true},\"mode\":\"immediate\"}],\"label\":\"1954\",\"method\":\"animate\"},{\"args\":[[\"1955\"],{\"frame\":{\"duration\":800,\"redraw\":true},\"mode\":\"immediate\"}],\"label\":\"1955\",\"method\":\"animate\"},{\"args\":[[\"1957\"],{\"frame\":{\"duration\":800,\"redraw\":true},\"mode\":\"immediate\"}],\"label\":\"1957\",\"method\":\"animate\"},{\"args\":[[\"1958\"],{\"frame\":{\"duration\":800,\"redraw\":true},\"mode\":\"immediate\"}],\"label\":\"1958\",\"method\":\"animate\"},{\"args\":[[\"1960\"],{\"frame\":{\"duration\":800,\"redraw\":true},\"mode\":\"immediate\"}],\"label\":\"1960\",\"method\":\"animate\"},{\"args\":[[\"1961\"],{\"frame\":{\"duration\":800,\"redraw\":true},\"mode\":\"immediate\"}],\"label\":\"1961\",\"method\":\"animate\"},{\"args\":[[\"1962\"],{\"frame\":{\"duration\":800,\"redraw\":true},\"mode\":\"immediate\"}],\"label\":\"1962\",\"method\":\"animate\"},{\"args\":[[\"1963\"],{\"frame\":{\"duration\":800,\"redraw\":true},\"mode\":\"immediate\"}],\"label\":\"1963\",\"method\":\"animate\"},{\"args\":[[\"1964\"],{\"frame\":{\"duration\":800,\"redraw\":true},\"mode\":\"immediate\"}],\"label\":\"1964\",\"method\":\"animate\"},{\"args\":[[\"1965\"],{\"frame\":{\"duration\":800,\"redraw\":true},\"mode\":\"immediate\"}],\"label\":\"1965\",\"method\":\"animate\"},{\"args\":[[\"1966\"],{\"frame\":{\"duration\":800,\"redraw\":true},\"mode\":\"immediate\"}],\"label\":\"1966\",\"method\":\"animate\"},{\"args\":[[\"1967\"],{\"frame\":{\"duration\":800,\"redraw\":true},\"mode\":\"immediate\"}],\"label\":\"1967\",\"method\":\"animate\"},{\"args\":[[\"1968\"],{\"frame\":{\"duration\":800,\"redraw\":true},\"mode\":\"immediate\"}],\"label\":\"1968\",\"method\":\"animate\"},{\"args\":[[\"1969\"],{\"frame\":{\"duration\":800,\"redraw\":true},\"mode\":\"immediate\"}],\"label\":\"1969\",\"method\":\"animate\"},{\"args\":[[\"1970\"],{\"frame\":{\"duration\":800,\"redraw\":true},\"mode\":\"immediate\"}],\"label\":\"1970\",\"method\":\"animate\"},{\"args\":[[\"1971\"],{\"frame\":{\"duration\":800,\"redraw\":true},\"mode\":\"immediate\"}],\"label\":\"1971\",\"method\":\"animate\"},{\"args\":[[\"1972\"],{\"frame\":{\"duration\":800,\"redraw\":true},\"mode\":\"immediate\"}],\"label\":\"1972\",\"method\":\"animate\"},{\"args\":[[\"1973\"],{\"frame\":{\"duration\":800,\"redraw\":true},\"mode\":\"immediate\"}],\"label\":\"1973\",\"method\":\"animate\"},{\"args\":[[\"1974\"],{\"frame\":{\"duration\":800,\"redraw\":true},\"mode\":\"immediate\"}],\"label\":\"1974\",\"method\":\"animate\"},{\"args\":[[\"1975\"],{\"frame\":{\"duration\":800,\"redraw\":true},\"mode\":\"immediate\"}],\"label\":\"1975\",\"method\":\"animate\"},{\"args\":[[\"1978\"],{\"frame\":{\"duration\":800,\"redraw\":true},\"mode\":\"immediate\"}],\"label\":\"1978\",\"method\":\"animate\"},{\"args\":[[\"1979\"],{\"frame\":{\"duration\":800,\"redraw\":true},\"mode\":\"immediate\"}],\"label\":\"1979\",\"method\":\"animate\"},{\"args\":[[\"1980\"],{\"frame\":{\"duration\":800,\"redraw\":true},\"mode\":\"immediate\"}],\"label\":\"1980\",\"method\":\"animate\"},{\"args\":[[\"1981\"],{\"frame\":{\"duration\":800,\"redraw\":true},\"mode\":\"immediate\"}],\"label\":\"1981\",\"method\":\"animate\"},{\"args\":[[\"1983\"],{\"frame\":{\"duration\":800,\"redraw\":true},\"mode\":\"immediate\"}],\"label\":\"1983\",\"method\":\"animate\"},{\"args\":[[\"1985\"],{\"frame\":{\"duration\":800,\"redraw\":true},\"mode\":\"immediate\"}],\"label\":\"1985\",\"method\":\"animate\"},{\"args\":[[\"1987\"],{\"frame\":{\"duration\":800,\"redraw\":true},\"mode\":\"immediate\"}],\"label\":\"1987\",\"method\":\"animate\"},{\"args\":[[\"1988\"],{\"frame\":{\"duration\":800,\"redraw\":true},\"mode\":\"immediate\"}],\"label\":\"1988\",\"method\":\"animate\"},{\"args\":[[\"1989\"],{\"frame\":{\"duration\":800,\"redraw\":true},\"mode\":\"immediate\"}],\"label\":\"1989\",\"method\":\"animate\"},{\"args\":[[\"1990\"],{\"frame\":{\"duration\":800,\"redraw\":true},\"mode\":\"immediate\"}],\"label\":\"1990\",\"method\":\"animate\"},{\"args\":[[\"1991\"],{\"frame\":{\"duration\":800,\"redraw\":true},\"mode\":\"immediate\"}],\"label\":\"1991\",\"method\":\"animate\"},{\"args\":[[\"1992\"],{\"frame\":{\"duration\":800,\"redraw\":true},\"mode\":\"immediate\"}],\"label\":\"1992\",\"method\":\"animate\"},{\"args\":[[\"1993\"],{\"frame\":{\"duration\":800,\"redraw\":true},\"mode\":\"immediate\"}],\"label\":\"1993\",\"method\":\"animate\"},{\"args\":[[\"1994\"],{\"frame\":{\"duration\":800,\"redraw\":true},\"mode\":\"immediate\"}],\"label\":\"1994\",\"method\":\"animate\"},{\"args\":[[\"1995\"],{\"frame\":{\"duration\":800,\"redraw\":true},\"mode\":\"immediate\"}],\"label\":\"1995\",\"method\":\"animate\"},{\"args\":[[\"1996\"],{\"frame\":{\"duration\":800,\"redraw\":true},\"mode\":\"immediate\"}],\"label\":\"1996\",\"method\":\"animate\"},{\"args\":[[\"1998\"],{\"frame\":{\"duration\":800,\"redraw\":true},\"mode\":\"immediate\"}],\"label\":\"1998\",\"method\":\"animate\"},{\"args\":[[\"1999\"],{\"frame\":{\"duration\":800,\"redraw\":true},\"mode\":\"immediate\"}],\"label\":\"1999\",\"method\":\"animate\"},{\"args\":[[\"2000\"],{\"frame\":{\"duration\":800,\"redraw\":true},\"mode\":\"immediate\"}],\"label\":\"2000\",\"method\":\"animate\"},{\"args\":[[\"2001\"],{\"frame\":{\"duration\":800,\"redraw\":true},\"mode\":\"immediate\"}],\"label\":\"2001\",\"method\":\"animate\"},{\"args\":[[\"2002\"],{\"frame\":{\"duration\":800,\"redraw\":true},\"mode\":\"immediate\"}],\"label\":\"2002\",\"method\":\"animate\"},{\"args\":[[\"2003\"],{\"frame\":{\"duration\":800,\"redraw\":true},\"mode\":\"immediate\"}],\"label\":\"2003\",\"method\":\"animate\"},{\"args\":[[\"2004\"],{\"frame\":{\"duration\":800,\"redraw\":true},\"mode\":\"immediate\"}],\"label\":\"2004\",\"method\":\"animate\"},{\"args\":[[\"2005\"],{\"frame\":{\"duration\":800,\"redraw\":true},\"mode\":\"immediate\"}],\"label\":\"2005\",\"method\":\"animate\"},{\"args\":[[\"2006\"],{\"frame\":{\"duration\":800,\"redraw\":true},\"mode\":\"immediate\"}],\"label\":\"2006\",\"method\":\"animate\"},{\"args\":[[\"2007\"],{\"frame\":{\"duration\":800,\"redraw\":true},\"mode\":\"immediate\"}],\"label\":\"2007\",\"method\":\"animate\"},{\"args\":[[\"2008\"],{\"frame\":{\"duration\":800,\"redraw\":true},\"mode\":\"immediate\"}],\"label\":\"2008\",\"method\":\"animate\"},{\"args\":[[\"2009\"],{\"frame\":{\"duration\":800,\"redraw\":true},\"mode\":\"immediate\"}],\"label\":\"2009\",\"method\":\"animate\"},{\"args\":[[\"2010\"],{\"frame\":{\"duration\":800,\"redraw\":true},\"mode\":\"immediate\"}],\"label\":\"2010\",\"method\":\"animate\"},{\"args\":[[\"2011\"],{\"frame\":{\"duration\":800,\"redraw\":true},\"mode\":\"immediate\"}],\"label\":\"2011\",\"method\":\"animate\"},{\"args\":[[\"2012\"],{\"frame\":{\"duration\":800,\"redraw\":true},\"mode\":\"immediate\"}],\"label\":\"2012\",\"method\":\"animate\"},{\"args\":[[\"2013\"],{\"frame\":{\"duration\":800,\"redraw\":true},\"mode\":\"immediate\"}],\"label\":\"2013\",\"method\":\"animate\"},{\"args\":[[\"2014\"],{\"frame\":{\"duration\":800,\"redraw\":true},\"mode\":\"immediate\"}],\"label\":\"2014\",\"method\":\"animate\"},{\"args\":[[\"2015\"],{\"frame\":{\"duration\":800,\"redraw\":true},\"mode\":\"immediate\"}],\"label\":\"2015\",\"method\":\"animate\"},{\"args\":[[\"2016\"],{\"frame\":{\"duration\":800,\"redraw\":true},\"mode\":\"immediate\"}],\"label\":\"2016\",\"method\":\"animate\"},{\"args\":[[\"2017\"],{\"frame\":{\"duration\":800,\"redraw\":true},\"mode\":\"immediate\"}],\"label\":\"2017\",\"method\":\"animate\"},{\"args\":[[\"2018\"],{\"frame\":{\"duration\":800,\"redraw\":true},\"mode\":\"immediate\"}],\"label\":\"2018\",\"method\":\"animate\"},{\"args\":[[\"2020\"],{\"frame\":{\"duration\":800,\"redraw\":true},\"mode\":\"immediate\"}],\"label\":\"2020\",\"method\":\"animate\"}],\"x\":0,\"xanchor\":\"left\",\"y\":0.15,\"yanchor\":\"top\"}]},                        {\"responsive\": true}                    ).then(function(){\n",
       "                            Plotly.addFrames('a59f7143-8f1c-4be4-9f7d-7fd8a2e4e711', [{\"data\":[{\"lat\":{\"dtype\":\"f8\",\"bdata\":\"AAAAAAAAJkAAAAAAAAAQwA==\"},\"lon\":{\"dtype\":\"f8\",\"bdata\":\"AAAAAACAUMAAAAAAAIBhQA==\"},\"marker\":{\"color\":{\"dtype\":\"f8\",\"bdata\":\"AAAAAAAAFEAAAAAAAADwPw==\"},\"size\":15,\"coloraxis\":\"coloraxis\"},\"text\":[\"VENEZUELA\\u003cbr\\u003eSchade: 5.0 M$\",\"INDONESIA\\u003cbr\\u003eSchade: 1.0 M$\"],\"type\":\"scattergeo\"},{\"line\":{\"color\":\"lightblue\",\"width\":20},\"mode\":\"lines\",\"showlegend\":false,\"x\":[0,214.87],\"xaxis\":\"x2\",\"y\":[0,0],\"yaxis\":\"y2\",\"type\":\"scatter\"},{\"marker\":{\"color\":\"blue\",\"size\":30},\"mode\":\"markers\",\"showlegend\":false,\"x\":[-2.17],\"xaxis\":\"x2\",\"y\":[0],\"yaxis\":\"y2\",\"type\":\"scatter\"}],\"name\":\"1900\"},{\"data\":[{\"lat\":{\"dtype\":\"f8\",\"bdata\":\"zczMzMxMREAzMzMzM7NFQA==\"},\"lon\":{\"dtype\":\"f8\",\"bdata\":\"mpmZmZnJYUAAAAAAAIA8QA==\"},\"marker\":{\"color\":{\"dtype\":\"f8\",\"bdata\":\"AAAAAAAA8D8AAAAAAAAUQA==\"},\"size\":15,\"coloraxis\":\"coloraxis\"},\"text\":[\"JAPAN\\u003cbr\\u003eSchade: 1.0 M$\",\"BULGARIA\\u003cbr\\u003eSchade: 5.0 M$\"],\"type\":\"scattergeo\"},{\"line\":{\"color\":\"lightblue\",\"width\":20},\"mode\":\"lines\",\"showlegend\":false,\"x\":[0,214.87],\"xaxis\":\"x2\",\"y\":[0,0],\"yaxis\":\"y2\",\"type\":\"scatter\"},{\"marker\":{\"color\":\"blue\",\"size\":30},\"mode\":\"markers\",\"showlegend\":false,\"x\":[1.58],\"xaxis\":\"x2\",\"y\":[0],\"yaxis\":\"y2\",\"type\":\"scatter\"}],\"name\":\"1901\"},{\"data\":[{\"lat\":{\"dtype\":\"f8\",\"bdata\":\"AAAAAAAAHkA=\"},\"lon\":{\"dtype\":\"f8\",\"bdata\":\"AAAAAADgXkA=\"},\"marker\":{\"color\":{\"dtype\":\"f8\",\"bdata\":\"AAAAAAAAFEA=\"},\"size\":15,\"coloraxis\":\"coloraxis\"},\"text\":[\"PHILIPPINES\\u003cbr\\u003eSchade: 5.0 M$\"],\"type\":\"scattergeo\"},{\"line\":{\"color\":\"lightblue\",\"width\":20},\"mode\":\"lines\",\"showlegend\":false,\"x\":[0,214.87],\"xaxis\":\"x2\",\"y\":[0,0],\"yaxis\":\"y2\",\"type\":\"scatter\"},{\"marker\":{\"color\":\"blue\",\"size\":30},\"mode\":\"markers\",\"showlegend\":false,\"x\":[1.47],\"xaxis\":\"x2\",\"y\":[0],\"yaxis\":\"y2\",\"type\":\"scatter\"}],\"name\":\"1902\"},{\"data\":[{\"lat\":{\"dtype\":\"f8\",\"bdata\":\"AAAAAACAPMA=\"},\"lon\":{\"dtype\":\"f8\",\"bdata\":\"AAAAAADAUcA=\"},\"marker\":{\"color\":{\"dtype\":\"f8\",\"bdata\":\"AAAAAAAA8D8=\"},\"size\":15,\"coloraxis\":\"coloraxis\"},\"text\":[\"CHILE\\u003cbr\\u003eSchade: 1.0 M$\"],\"type\":\"scattergeo\"},{\"line\":{\"color\":\"lightblue\",\"width\":20},\"mode\":\"lines\",\"showlegend\":false,\"x\":[0,214.87],\"xaxis\":\"x2\",\"y\":[0,0],\"yaxis\":\"y2\",\"type\":\"scatter\"},{\"marker\":{\"color\":\"blue\",\"size\":30},\"mode\":\"markers\",\"showlegend\":false,\"x\":[0.99],\"xaxis\":\"x2\",\"y\":[0],\"yaxis\":\"y2\",\"type\":\"scatter\"}],\"name\":\"1903\"},{\"data\":[{\"lat\":{\"dtype\":\"f8\",\"bdata\":\"9ihcj8JVQ0ADK4cW2e5OQA==\"},\"lon\":{\"dtype\":\"f8\",\"bdata\":\"UrgehesRMEBmZmZmZmYbQA==\"},\"marker\":{\"color\":{\"dtype\":\"f8\",\"bdata\":\"AAAAAAAAOUAAAAAAAADwPw==\"},\"size\":15,\"coloraxis\":\"coloraxis\"},\"text\":[\"ITALY\\u003cbr\\u003eSchade: 25.0 M$\",\"NORWAY\\u003cbr\\u003eSchade: 1.0 M$\"],\"type\":\"scattergeo\"},{\"line\":{\"color\":\"lightblue\",\"width\":20},\"mode\":\"lines\",\"showlegend\":false,\"x\":[0,214.87],\"xaxis\":\"x2\",\"y\":[0,0],\"yaxis\":\"y2\",\"type\":\"scatter\"},{\"marker\":{\"color\":\"blue\",\"size\":30},\"mode\":\"markers\",\"showlegend\":false,\"x\":[4.2],\"xaxis\":\"x2\",\"y\":[0],\"yaxis\":\"y2\",\"type\":\"scatter\"}],\"name\":\"1905\"},{\"data\":[{\"lat\":{\"dtype\":\"f8\",\"bdata\":\"AAAAAAAAHMAAAAAAAADwPw==\"},\"lon\":{\"dtype\":\"f8\",\"bdata\":\"AAAAAACgYkAAAAAAAGBUwA==\"},\"marker\":{\"color\":{\"dtype\":\"f8\",\"bdata\":\"AAAAAAAAFEAAAAAAAAAUQA==\"},\"size\":15,\"coloraxis\":\"coloraxis\"},\"text\":[\"PAPUA NEW GUINEA\\u003cbr\\u003eSchade: 5.0 M$\",\"ECUADOR\\u003cbr\\u003eSchade: 5.0 M$\"],\"type\":\"scattergeo\"},{\"line\":{\"color\":\"lightblue\",\"width\":20},\"mode\":\"lines\",\"showlegend\":false,\"x\":[0,214.87],\"xaxis\":\"x2\",\"y\":[0,0],\"yaxis\":\"y2\",\"type\":\"scatter\"},{\"marker\":{\"color\":\"blue\",\"size\":30},\"mode\":\"markers\",\"showlegend\":false,\"x\":[1.95],\"xaxis\":\"x2\",\"y\":[0],\"yaxis\":\"y2\",\"type\":\"scatter\"}],\"name\":\"1906\"},{\"data\":[{\"lat\":{\"dtype\":\"f8\",\"bdata\":\"AAAAAAAAMUAAAAAAAAAyQAAAAAAAAABAGy\\u002fdJAYRQ0A=\"},\"lon\":{\"dtype\":\"f8\",\"bdata\":\"AAAAAAAAWcAzMzMzMzNTwAAAAAAAoFdAMQisHFoEMEA=\"},\"marker\":{\"color\":{\"dtype\":\"f8\",\"bdata\":\"AAAAAAAA8D8AAAAAAAA5QAAAAAAAABRAAAAAAAAA8D8=\"},\"size\":15,\"coloraxis\":\"coloraxis\"},\"text\":[\"MEXICO\\u003cbr\\u003eSchade: 1.0 M$\",\"JAMAICA\\u003cbr\\u003eSchade: 25.0 M$\",\"INDONESIA\\u003cbr\\u003eSchade: 5.0 M$\",\"ITALY\\u003cbr\\u003eSchade: 1.0 M$\"],\"type\":\"scattergeo\"},{\"line\":{\"color\":\"lightblue\",\"width\":20},\"mode\":\"lines\",\"showlegend\":false,\"x\":[0,214.87],\"xaxis\":\"x2\",\"y\":[0,0],\"yaxis\":\"y2\",\"type\":\"scatter\"},{\"marker\":{\"color\":\"blue\",\"size\":30},\"mode\":\"markers\",\"showlegend\":false,\"x\":[1.84],\"xaxis\":\"x2\",\"y\":[0],\"yaxis\":\"y2\",\"type\":\"scatter\"}],\"name\":\"1907\"},{\"data\":[{\"lat\":{\"dtype\":\"f8\",\"bdata\":\"9ihcj8IVQ0DD9Shcj+JGQA==\"},\"lon\":{\"dtype\":\"f8\",\"bdata\":\"KVyPwvUoL0BmZmZmZuZSwA==\"},\"marker\":{\"color\":{\"dtype\":\"f8\",\"bdata\":\"AAAAAAAAOUAAAAAAAADwPw==\"},\"size\":15,\"coloraxis\":\"coloraxis\"},\"text\":[\"ITALY\\u003cbr\\u003eSchade: 25.0 M$\",\"CANADA\\u003cbr\\u003eSchade: 1.0 M$\"],\"type\":\"scattergeo\"},{\"line\":{\"color\":\"lightblue\",\"width\":20},\"mode\":\"lines\",\"showlegend\":false,\"x\":[0,214.87],\"xaxis\":\"x2\",\"y\":[0,0],\"yaxis\":\"y2\",\"type\":\"scatter\"},{\"marker\":{\"color\":\"blue\",\"size\":30},\"mode\":\"markers\",\"showlegend\":false,\"x\":[3.46],\"xaxis\":\"x2\",\"y\":[0],\"yaxis\":\"y2\",\"type\":\"scatter\"}],\"name\":\"1908\"},{\"data\":[{\"lat\":{\"dtype\":\"f8\",\"bdata\":\"MzMzMzOzQUAAAAAAAAAAwA==\"},\"lon\":{\"dtype\":\"f8\",\"bdata\":\"mpmZmZkJYUAAAAAAAEBZQA==\"},\"marker\":{\"color\":{\"dtype\":\"f8\",\"bdata\":\"AAAAAAAAFEAAAAAAAAAUQA==\"},\"size\":15,\"coloraxis\":\"coloraxis\"},\"text\":[\"JAPAN\\u003cbr\\u003eSchade: 5.0 M$\",\"INDONESIA\\u003cbr\\u003eSchade: 5.0 M$\"],\"type\":\"scattergeo\"},{\"line\":{\"color\":\"lightblue\",\"width\":20},\"mode\":\"lines\",\"showlegend\":false,\"x\":[0,214.87],\"xaxis\":\"x2\",\"y\":[0,0],\"yaxis\":\"y2\",\"type\":\"scatter\"},{\"marker\":{\"color\":\"blue\",\"size\":30},\"mode\":\"markers\",\"showlegend\":false,\"x\":[4.55],\"xaxis\":\"x2\",\"y\":[0],\"yaxis\":\"y2\",\"type\":\"scatter\"}],\"name\":\"1909\"},{\"data\":[{\"lat\":{\"dtype\":\"f8\",\"bdata\":\"AAAAAAAAPEAbL90kBgEsQA==\"},\"lon\":{\"dtype\":\"f8\",\"bdata\":\"AAAAAABAYEBkO99PjT9eQA==\"},\"marker\":{\"color\":{\"dtype\":\"f8\",\"bdata\":\"AAAAAAAAFEAAAAAAAAAUQA==\"},\"size\":15,\"coloraxis\":\"coloraxis\"},\"text\":[\"JAPAN\\u003cbr\\u003eSchade: 5.0 M$\",\"PHILIPPINES\\u003cbr\\u003eSchade: 5.0 M$\"],\"type\":\"scattergeo\"},{\"line\":{\"color\":\"lightblue\",\"width\":20},\"mode\":\"lines\",\"showlegend\":false,\"x\":[0,214.87],\"xaxis\":\"x2\",\"y\":[0,0],\"yaxis\":\"y2\",\"type\":\"scatter\"},{\"marker\":{\"color\":\"blue\",\"size\":30},\"mode\":\"markers\",\"showlegend\":false,\"x\":[7.36],\"xaxis\":\"x2\",\"y\":[0],\"yaxis\":\"y2\",\"type\":\"scatter\"}],\"name\":\"1911\"},{\"data\":[{\"lat\":{\"dtype\":\"f8\",\"bdata\":\"AAAAAAAAMcBmZmZmZmYcQA==\"},\"lon\":{\"dtype\":\"f8\",\"bdata\":\"AAAAAACAUsBmZmZmZiZUwA==\"},\"marker\":{\"color\":{\"dtype\":\"f8\",\"bdata\":\"AAAAAAAAFEAAAAAAAADwPw==\"},\"size\":15,\"coloraxis\":\"coloraxis\"},\"text\":[\"PERU\\u003cbr\\u003eSchade: 5.0 M$\",\"PANAMA\\u003cbr\\u003eSchade: 1.0 M$\"],\"type\":\"scattergeo\"},{\"line\":{\"color\":\"lightblue\",\"width\":20},\"mode\":\"lines\",\"showlegend\":false,\"x\":[0,214.87],\"xaxis\":\"x2\",\"y\":[0,0],\"yaxis\":\"y2\",\"type\":\"scatter\"},{\"marker\":{\"color\":\"blue\",\"size\":30},\"mode\":\"markers\",\"showlegend\":false,\"x\":[11.27],\"xaxis\":\"x2\",\"y\":[0],\"yaxis\":\"y2\",\"type\":\"scatter\"}],\"name\":\"1913\"},{\"data\":[{\"lat\":{\"dtype\":\"f8\",\"bdata\":\"ZmZmZmZmQ0AxCKwcWmQPwBSuR+F6lD9A3SQGgZVD\\u002fb8=\"},\"lon\":{\"dtype\":\"f8\",\"bdata\":\"mpmZmZmZNEAUrkfhenRZQD0K16NwVWBAGARWDi0eYUA=\"},\"marker\":{\"color\":{\"dtype\":\"f8\",\"bdata\":\"AAAAAAAAFEAAAAAAAADwPwAAAAAAABRAAAAAAAAA8D8=\"},\"size\":15,\"coloraxis\":\"coloraxis\"},\"text\":[\"GREECE\\u003cbr\\u003eSchade: 5.0 M$\",\"INDONESIA\\u003cbr\\u003eSchade: 1.0 M$\",\"JAPAN\\u003cbr\\u003eSchade: 5.0 M$\",\"INDONESIA\\u003cbr\\u003eSchade: 1.0 M$\"],\"type\":\"scattergeo\"},{\"line\":{\"color\":\"lightblue\",\"width\":20},\"mode\":\"lines\",\"showlegend\":false,\"x\":[0,214.87],\"xaxis\":\"x2\",\"y\":[0,0],\"yaxis\":\"y2\",\"type\":\"scatter\"},{\"marker\":{\"color\":\"blue\",\"size\":30},\"mode\":\"markers\",\"showlegend\":false,\"x\":[12.59],\"xaxis\":\"x2\",\"y\":[0],\"yaxis\":\"y2\",\"type\":\"scatter\"}],\"name\":\"1914\"},{\"data\":[{\"lat\":{\"dtype\":\"f8\",\"bdata\":\"AAAAAAAAGEAAAAAAAAAcwAAAAAAAAC\\u002fA\"},\"lon\":{\"dtype\":\"f8\",\"bdata\":\"AAAAAABAX0AAAAAAAABdQAAAAAAAoGXA\"},\"marker\":{\"color\":{\"dtype\":\"f8\",\"bdata\":\"AAAAAAAA8D8AAAAAAADwPwAAAAAAAPA\\u002f\"},\"size\":15,\"coloraxis\":\"coloraxis\"},\"text\":[\"PHILIPPINES\\u003cbr\\u003eSchade: 1.0 M$\",\"INDONESIA\\u003cbr\\u003eSchade: 1.0 M$\",\"SAMOA\\u003cbr\\u003eSchade: 1.0 M$\"],\"type\":\"scattergeo\"},{\"line\":{\"color\":\"lightblue\",\"width\":20},\"mode\":\"lines\",\"showlegend\":false,\"x\":[0,214.87],\"xaxis\":\"x2\",\"y\":[0,0],\"yaxis\":\"y2\",\"type\":\"scatter\"},{\"marker\":{\"color\":\"blue\",\"size\":30},\"mode\":\"markers\",\"showlegend\":false,\"x\":[18.17],\"xaxis\":\"x2\",\"y\":[0],\"yaxis\":\"y2\",\"type\":\"scatter\"}],\"name\":\"1917\"},{\"data\":[{\"lat\":{\"dtype\":\"f8\",\"bdata\":\"AAAAAAAAOsAAAAAAAIA3QAAAAAAAwEZA\"},\"lon\":{\"dtype\":\"f8\",\"bdata\":\"AAAAAADAUcDNzMzMzExdQAAAAAAA8GJA\"},\"marker\":{\"color\":{\"dtype\":\"f8\",\"bdata\":\"AAAAAAAAFEAAAAAAAAA5QAAAAAAAAPA\\u002f\"},\"size\":15,\"coloraxis\":\"coloraxis\"},\"text\":[\"CHILE\\u003cbr\\u003eSchade: 5.0 M$\",\"CHINA\\u003cbr\\u003eSchade: 25.0 M$\",\"RUSSIA\\u003cbr\\u003eSchade: 1.0 M$\"],\"type\":\"scattergeo\"},{\"line\":{\"color\":\"lightblue\",\"width\":20},\"mode\":\"lines\",\"showlegend\":false,\"x\":[0,214.87],\"xaxis\":\"x2\",\"y\":[0,0],\"yaxis\":\"y2\",\"type\":\"scatter\"},{\"marker\":{\"color\":\"blue\",\"size\":30},\"mode\":\"markers\",\"showlegend\":false,\"x\":[19.92],\"xaxis\":\"x2\",\"y\":[0],\"yaxis\":\"y2\",\"type\":\"scatter\"}],\"name\":\"1918\"},{\"data\":[{\"lat\":{\"dtype\":\"f8\",\"bdata\":\"okW28\\u002f1kQ0A=\"},\"lon\":{\"dtype\":\"f8\",\"bdata\":\"kxgEVg5tLkA=\"},\"marker\":{\"color\":{\"dtype\":\"f8\",\"bdata\":\"AAAAAAAA8D8=\"},\"size\":15,\"coloraxis\":\"coloraxis\"},\"text\":[\"ITALY\\u003cbr\\u003eSchade: 1.0 M$\"],\"type\":\"scattergeo\"},{\"line\":{\"color\":\"lightblue\",\"width\":20},\"mode\":\"lines\",\"showlegend\":false,\"x\":[0,214.87],\"xaxis\":\"x2\",\"y\":[0,0],\"yaxis\":\"y2\",\"type\":\"scatter\"},{\"marker\":{\"color\":\"blue\",\"size\":30},\"mode\":\"markers\",\"showlegend\":false,\"x\":[20.97],\"xaxis\":\"x2\",\"y\":[0],\"yaxis\":\"y2\",\"type\":\"scatter\"}],\"name\":\"1919\"},{\"data\":[{\"lat\":{\"dtype\":\"f8\",\"bdata\":\"AAAAAABAREA=\"},\"lon\":{\"dtype\":\"f8\",\"bdata\":\"AAAAAACAM0A=\"},\"marker\":{\"color\":{\"dtype\":\"f8\",\"bdata\":\"AAAAAAAAFEA=\"},\"size\":15,\"coloraxis\":\"coloraxis\"},\"text\":[\"ALBANIA\\u003cbr\\u003eSchade: 5.0 M$\"],\"type\":\"scattergeo\"},{\"line\":{\"color\":\"lightblue\",\"width\":20},\"mode\":\"lines\",\"showlegend\":false,\"x\":[0,214.87],\"xaxis\":\"x2\",\"y\":[0,0],\"yaxis\":\"y2\",\"type\":\"scatter\"},{\"marker\":{\"color\":\"blue\",\"size\":30},\"mode\":\"markers\",\"showlegend\":false,\"x\":[21.13],\"xaxis\":\"x2\",\"y\":[0],\"yaxis\":\"y2\",\"type\":\"scatter\"}],\"name\":\"1920\"},{\"data\":[{\"lat\":{\"dtype\":\"f8\",\"bdata\":\"AAAAAACAOEAhsHJokY08wA==\"},\"lon\":{\"dtype\":\"f8\",\"bdata\":\"AAAAAACAXkC4HoXrUbBRwA==\"},\"marker\":{\"color\":{\"dtype\":\"f8\",\"bdata\":\"AAAAAAAA8D8AAAAAAAAUQA==\"},\"size\":15,\"coloraxis\":\"coloraxis\"},\"text\":[\"TAIWAN\\u003cbr\\u003eSchade: 1.0 M$\",\"CHILE\\u003cbr\\u003eSchade: 5.0 M$\"],\"type\":\"scattergeo\"},{\"line\":{\"color\":\"lightblue\",\"width\":20},\"mode\":\"lines\",\"showlegend\":false,\"x\":[0,214.87],\"xaxis\":\"x2\",\"y\":[0,0],\"yaxis\":\"y2\",\"type\":\"scatter\"},{\"marker\":{\"color\":\"blue\",\"size\":30},\"mode\":\"markers\",\"showlegend\":false,\"x\":[20.27],\"xaxis\":\"x2\",\"y\":[0],\"yaxis\":\"y2\",\"type\":\"scatter\"}],\"name\":\"1922\"},{\"data\":[{\"lat\":{\"dtype\":\"f8\",\"bdata\":\"AAAAAAAAS0AAAAAAAEBMQM3MzMzMjEFA\"},\"lon\":{\"dtype\":\"f8\",\"bdata\":\"AAAAAAAgZEAAAAAAAFBkQAAAAAAAcGFA\"},\"marker\":{\"color\":{\"dtype\":\"f8\",\"bdata\":\"AAAAAAAA8D8AAAAAAAAUQAAAAAAAADlA\"},\"size\":15,\"coloraxis\":\"coloraxis\"},\"text\":[\"RUSSIA\\u003cbr\\u003eSchade: 1.0 M$\",\"RUSSIA\\u003cbr\\u003eSchade: 5.0 M$\",\"JAPAN\\u003cbr\\u003eSchade: 25.0 M$\"],\"type\":\"scattergeo\"},{\"line\":{\"color\":\"lightblue\",\"width\":20},\"mode\":\"lines\",\"showlegend\":false,\"x\":[0,214.87],\"xaxis\":\"x2\",\"y\":[0,0],\"yaxis\":\"y2\",\"type\":\"scatter\"},{\"marker\":{\"color\":\"blue\",\"size\":30},\"mode\":\"markers\",\"showlegend\":false,\"x\":[18.01],\"xaxis\":\"x2\",\"y\":[0],\"yaxis\":\"y2\",\"type\":\"scatter\"}],\"name\":\"1923\"},{\"data\":[{\"lat\":{\"dtype\":\"f8\",\"bdata\":\"mpmZmZmZIkAAAAAAAAAqQAAAAAAAACRA\"},\"lon\":{\"dtype\":\"f8\",\"bdata\":\"zczMzMysXkAAAAAAAEBfQAAAAAAAQGFA\"},\"marker\":{\"color\":{\"dtype\":\"f8\",\"bdata\":\"AAAAAAAA8D8AAAAAAADwPwAAAAAAABRA\"},\"size\":15,\"coloraxis\":\"coloraxis\"},\"text\":[\"PHILIPPINES\\u003cbr\\u003eSchade: 1.0 M$\",\"PHILIPPINES\\u003cbr\\u003eSchade: 1.0 M$\",\"MICRONESIA, FED. STATES OF\\u003cbr\\u003eSchade: 5.0 M$\"],\"type\":\"scattergeo\"},{\"line\":{\"color\":\"lightblue\",\"width\":20},\"mode\":\"lines\",\"showlegend\":false,\"x\":[0,214.87],\"xaxis\":\"x2\",\"y\":[0,0],\"yaxis\":\"y2\",\"type\":\"scatter\"},{\"marker\":{\"color\":\"blue\",\"size\":30},\"mode\":\"markers\",\"showlegend\":false,\"x\":[19.85],\"xaxis\":\"x2\",\"y\":[0],\"yaxis\":\"y2\",\"type\":\"scatter\"}],\"name\":\"1925\"},{\"data\":[{\"lat\":{\"dtype\":\"f8\",\"bdata\":\"BoGVQ4v8QkA=\"},\"lon\":{\"dtype\":\"f8\",\"bdata\":\"16NwPQqXPMA=\"},\"marker\":{\"color\":{\"dtype\":\"f8\",\"bdata\":\"AAAAAAAA8D8=\"},\"size\":15,\"coloraxis\":\"coloraxis\"},\"text\":[\"PORTUGAL\\u003cbr\\u003eSchade: 1.0 M$\"],\"type\":\"scattergeo\"},{\"line\":{\"color\":\"lightblue\",\"width\":20},\"mode\":\"lines\",\"showlegend\":false,\"x\":[0,214.87],\"xaxis\":\"x2\",\"y\":[0,0],\"yaxis\":\"y2\",\"type\":\"scatter\"},{\"marker\":{\"color\":\"blue\",\"size\":30},\"mode\":\"markers\",\"showlegend\":false,\"x\":[19.98],\"xaxis\":\"x2\",\"y\":[0],\"yaxis\":\"y2\",\"type\":\"scatter\"}],\"name\":\"1926\"},{\"data\":[{\"lat\":{\"dtype\":\"f8\",\"bdata\":\"zczMzMzMQUBmZmZmZmbmvwAAAAAAQEBAMzMzMzMzRkA=\"},\"lon\":{\"dtype\":\"f8\",\"bdata\":\"MzMzMzPjYEDNzMzMzOxdQAAAAAAA4FzAAAAAAABAQUA=\"},\"marker\":{\"color\":{\"dtype\":\"f8\",\"bdata\":\"AAAAAAAAOUAAAAAAAAAUQAAAAAAAAPA\\u002fAAAAAAAAOUA=\"},\"size\":15,\"coloraxis\":\"coloraxis\"},\"text\":[\"JAPAN\\u003cbr\\u003eSchade: 25.0 M$\",\"INDONESIA\\u003cbr\\u003eSchade: 5.0 M$\",\"USA\\u003cbr\\u003eSchade: 1.0 M$\",\"UKRAINE\\u003cbr\\u003eSchade: 25.0 M$\"],\"type\":\"scattergeo\"},{\"line\":{\"color\":\"lightblue\",\"width\":20},\"mode\":\"lines\",\"showlegend\":false,\"x\":[0,214.87],\"xaxis\":\"x2\",\"y\":[0,0],\"yaxis\":\"y2\",\"type\":\"scatter\"},{\"marker\":{\"color\":\"blue\",\"size\":30},\"mode\":\"markers\",\"showlegend\":false,\"x\":[21.96],\"xaxis\":\"x2\",\"y\":[0],\"yaxis\":\"y2\",\"type\":\"scatter\"}],\"name\":\"1927\"},{\"data\":[{\"lat\":{\"dtype\":\"f8\",\"bdata\":\"AAAAAACAQcAAAAAAAABDQM3MzMzMDENAAAAAAAAAHEAAAAAAAAAqwA==\"},\"lon\":{\"dtype\":\"f8\",\"bdata\":\"AAAAAAAAUsAAAAAAAAA3QGZmZmZmZjtAAAAAAAAAX0BmZmZmZmZRwA==\"},\"marker\":{\"color\":{\"dtype\":\"f8\",\"bdata\":\"AAAAAAAAFEAAAAAAAAA5QAAAAAAAADlAAAAAAAAA8D8AAAAAAAAUQA==\"},\"size\":15,\"coloraxis\":\"coloraxis\"},\"text\":[\"CHILE\\u003cbr\\u003eSchade: 5.0 M$\",\"GREECE\\u003cbr\\u003eSchade: 25.0 M$\",\"GREECE\\u003cbr\\u003eSchade: 25.0 M$\",\"PHILIPPINES\\u003cbr\\u003eSchade: 1.0 M$\",\"PERU\\u003cbr\\u003eSchade: 5.0 M$\"],\"type\":\"scattergeo\"},{\"line\":{\"color\":\"lightblue\",\"width\":20},\"mode\":\"lines\",\"showlegend\":false,\"x\":[0,214.87],\"xaxis\":\"x2\",\"y\":[0,0],\"yaxis\":\"y2\",\"type\":\"scatter\"},{\"marker\":{\"color\":\"blue\",\"size\":30},\"mode\":\"markers\",\"showlegend\":false,\"x\":[25.07],\"xaxis\":\"x2\",\"y\":[0],\"yaxis\":\"y2\",\"type\":\"scatter\"}],\"name\":\"1928\"},{\"data\":[{\"lat\":{\"dtype\":\"f8\",\"bdata\":\"AAAAAADgRMAzMzMzMzMlQA==\"},\"lon\":{\"dtype\":\"f8\",\"bdata\":\"AAAAAACIZUBmZmZmZmZQwA==\"},\"marker\":{\"color\":{\"dtype\":\"f8\",\"bdata\":\"AAAAAAAAFEAAAAAAAAAUQA==\"},\"size\":15,\"coloraxis\":\"coloraxis\"},\"text\":[\"NEW ZEALAND\\u003cbr\\u003eSchade: 5.0 M$\",\"VENEZUELA\\u003cbr\\u003eSchade: 5.0 M$\"],\"type\":\"scattergeo\"},{\"line\":{\"color\":\"lightblue\",\"width\":20},\"mode\":\"lines\",\"showlegend\":false,\"x\":[0,214.87],\"xaxis\":\"x2\",\"y\":[0,0],\"yaxis\":\"y2\",\"type\":\"scatter\"},{\"marker\":{\"color\":\"blue\",\"size\":30},\"mode\":\"markers\",\"showlegend\":false,\"x\":[24.97],\"xaxis\":\"x2\",\"y\":[0],\"yaxis\":\"y2\",\"type\":\"scatter\"}],\"name\":\"1929\"},{\"data\":[{\"lat\":{\"dtype\":\"f8\",\"bdata\":\"zczMzMzM9L\\u002fNzMzMzEwxQEw3iUFg1UVA\"},\"lon\":{\"dtype\":\"f8\",\"bdata\":\"mpmZmZkJYkAAAAAAACBYQGIQWDm0iCpA\"},\"marker\":{\"color\":{\"dtype\":\"f8\",\"bdata\":\"AAAAAAAA8D8AAAAAAAAUQAAAAAAAABRA\"},\"size\":15,\"coloraxis\":\"coloraxis\"},\"text\":[\"PAPUA NEW GUINEA\\u003cbr\\u003eSchade: 1.0 M$\",\"MYANMAR (BURMA)\\u003cbr\\u003eSchade: 5.0 M$\",\"ITALY\\u003cbr\\u003eSchade: 5.0 M$\"],\"type\":\"scattergeo\"},{\"line\":{\"color\":\"lightblue\",\"width\":20},\"mode\":\"lines\",\"showlegend\":false,\"x\":[0,214.87],\"xaxis\":\"x2\",\"y\":[0,0],\"yaxis\":\"y2\",\"type\":\"scatter\"},{\"marker\":{\"color\":\"blue\",\"size\":30},\"mode\":\"markers\",\"showlegend\":false,\"x\":[25.49],\"xaxis\":\"x2\",\"y\":[0],\"yaxis\":\"y2\",\"type\":\"scatter\"}],\"name\":\"1930\"},{\"data\":[{\"lat\":{\"dtype\":\"f8\",\"bdata\":\"d76fGi\\u002fdJcA=\"},\"lon\":{\"dtype\":\"f8\",\"bdata\":\"jZduEoMgZEA=\"},\"marker\":{\"color\":{\"dtype\":\"f8\",\"bdata\":\"AAAAAAAAFEA=\"},\"size\":15,\"coloraxis\":\"coloraxis\"},\"text\":[\"SOLOMON ISLANDS\\u003cbr\\u003eSchade: 5.0 M$\"],\"type\":\"scattergeo\"},{\"line\":{\"color\":\"lightblue\",\"width\":20},\"mode\":\"lines\",\"showlegend\":false,\"x\":[0,214.87],\"xaxis\":\"x2\",\"y\":[0,0],\"yaxis\":\"y2\",\"type\":\"scatter\"},{\"marker\":{\"color\":\"blue\",\"size\":30},\"mode\":\"markers\",\"showlegend\":false,\"x\":[27.27],\"xaxis\":\"x2\",\"y\":[0],\"yaxis\":\"y2\",\"type\":\"scatter\"}],\"name\":\"1931\"},{\"data\":[{\"lat\":{\"dtype\":\"f8\",\"bdata\":\"AAAAAABAREBzaJHtfJ8zQMuhRbbzPTNA\"},\"lon\":{\"dtype\":\"f8\",\"bdata\":\"ZmZmZmbmN0CJQWDl0PpZwI2XbhKDGFrA\"},\"marker\":{\"color\":{\"dtype\":\"f8\",\"bdata\":\"AAAAAAAAOUAAAAAAAAAUQAAAAAAAABRA\"},\"size\":15,\"coloraxis\":\"coloraxis\"},\"text\":[\"GREECE\\u003cbr\\u003eSchade: 25.0 M$\",\"MEXICO\\u003cbr\\u003eSchade: 5.0 M$\",\"MEXICO\\u003cbr\\u003eSchade: 5.0 M$\"],\"type\":\"scattergeo\"},{\"line\":{\"color\":\"lightblue\",\"width\":20},\"mode\":\"lines\",\"showlegend\":false,\"x\":[0,214.87],\"xaxis\":\"x2\",\"y\":[0,0],\"yaxis\":\"y2\",\"type\":\"scatter\"},{\"marker\":{\"color\":\"blue\",\"size\":30},\"mode\":\"markers\",\"showlegend\":false,\"x\":[27.62],\"xaxis\":\"x2\",\"y\":[0],\"yaxis\":\"y2\",\"type\":\"scatter\"}],\"name\":\"1932\"},{\"data\":[{\"lat\":{\"dtype\":\"f8\",\"bdata\":\"\\u002ftR46SZhQkDpJjEIrJxDQA==\"},\"lon\":{\"dtype\":\"f8\",\"bdata\":\"BoGVQ4tMO0CWQ4ts5xNiQA==\"},\"marker\":{\"color\":{\"dtype\":\"f8\",\"bdata\":\"AAAAAAAAFEAAAAAAAAA5QA==\"},\"size\":15,\"coloraxis\":\"coloraxis\"},\"text\":[\"GREECE\\u003cbr\\u003eSchade: 5.0 M$\",\"JAPAN\\u003cbr\\u003eSchade: 25.0 M$\"],\"type\":\"scattergeo\"},{\"line\":{\"color\":\"lightblue\",\"width\":20},\"mode\":\"lines\",\"showlegend\":false,\"x\":[0,214.87],\"xaxis\":\"x2\",\"y\":[0,0],\"yaxis\":\"y2\",\"type\":\"scatter\"},{\"marker\":{\"color\":\"blue\",\"size\":30},\"mode\":\"markers\",\"showlegend\":false,\"x\":[28.57],\"xaxis\":\"x2\",\"y\":[0],\"yaxis\":\"y2\",\"type\":\"scatter\"}],\"name\":\"1933\"},{\"data\":[{\"lat\":{\"dtype\":\"f8\",\"bdata\":\"2s73U+PFOkA=\"},\"lon\":{\"dtype\":\"f8\",\"bdata\":\"cT0K16OwVUA=\"},\"marker\":{\"color\":{\"dtype\":\"f8\",\"bdata\":\"AAAAAAAAOUA=\"},\"size\":15,\"coloraxis\":\"coloraxis\"},\"text\":[\"NEPAL\\u003cbr\\u003eSchade: 25.0 M$\"],\"type\":\"scattergeo\"},{\"line\":{\"color\":\"lightblue\",\"width\":20},\"mode\":\"lines\",\"showlegend\":false,\"x\":[0,214.87],\"xaxis\":\"x2\",\"y\":[0,0],\"yaxis\":\"y2\",\"type\":\"scatter\"},{\"marker\":{\"color\":\"blue\",\"size\":30},\"mode\":\"markers\",\"showlegend\":false,\"x\":[28.96],\"xaxis\":\"x2\",\"y\":[0],\"yaxis\":\"y2\",\"type\":\"scatter\"}],\"name\":\"1934\"},{\"data\":[{\"lat\":{\"dtype\":\"f8\",\"bdata\":\"AAAAAACAPUAzMzMzM7M8QA==\"},\"lon\":{\"dtype\":\"f8\",\"bdata\":\"MzMzMzOzUEBmZmZmZuZZQA==\"},\"marker\":{\"color\":{\"dtype\":\"f8\",\"bdata\":\"AAAAAAAAOUAAAAAAAADwPw==\"},\"size\":15,\"coloraxis\":\"coloraxis\"},\"text\":[\"PAKISTAN\\u003cbr\\u003eSchade: 25.0 M$\",\"CHINA\\u003cbr\\u003eSchade: 1.0 M$\"],\"type\":\"scattergeo\"},{\"line\":{\"color\":\"lightblue\",\"width\":20},\"mode\":\"lines\",\"showlegend\":false,\"x\":[0,214.87],\"xaxis\":\"x2\",\"y\":[0,0],\"yaxis\":\"y2\",\"type\":\"scatter\"},{\"marker\":{\"color\":\"blue\",\"size\":30},\"mode\":\"markers\",\"showlegend\":false,\"x\":[30.01],\"xaxis\":\"x2\",\"y\":[0],\"yaxis\":\"y2\",\"type\":\"scatter\"}],\"name\":\"1935\"},{\"data\":[{\"lat\":{\"dtype\":\"f8\",\"bdata\":\"AAAAAACAOMA=\"},\"lon\":{\"dtype\":\"f8\",\"bdata\":\"AAAAAACAUcA=\"},\"marker\":{\"color\":{\"dtype\":\"f8\",\"bdata\":\"AAAAAAAA8D8=\"},\"size\":15,\"coloraxis\":\"coloraxis\"},\"text\":[\"CHILE\\u003cbr\\u003eSchade: 1.0 M$\"],\"type\":\"scattergeo\"},{\"line\":{\"color\":\"lightblue\",\"width\":20},\"mode\":\"lines\",\"showlegend\":false,\"x\":[0,214.87],\"xaxis\":\"x2\",\"y\":[0,0],\"yaxis\":\"y2\",\"type\":\"scatter\"},{\"marker\":{\"color\":\"blue\",\"size\":30},\"mode\":\"markers\",\"showlegend\":false,\"x\":[29.7],\"xaxis\":\"x2\",\"y\":[0],\"yaxis\":\"y2\",\"type\":\"scatter\"}],\"name\":\"1936\"},{\"data\":[{\"lat\":{\"dtype\":\"f8\",\"bdata\":\"AAAAAAAALUAv3SQGgRURwA==\"},\"lon\":{\"dtype\":\"f8\",\"bdata\":\"AAAAAABgXkDRItv5fgZjQA==\"},\"marker\":{\"color\":{\"dtype\":\"f8\",\"bdata\":\"AAAAAAAAFEAAAAAAAADwPw==\"},\"size\":15,\"coloraxis\":\"coloraxis\"},\"text\":[\"PHILIPPINES\\u003cbr\\u003eSchade: 5.0 M$\",\"PAPUA NEW GUINEA\\u003cbr\\u003eSchade: 1.0 M$\"],\"type\":\"scattergeo\"},{\"line\":{\"color\":\"lightblue\",\"width\":20},\"mode\":\"lines\",\"showlegend\":false,\"x\":[0,214.87],\"xaxis\":\"x2\",\"y\":[0,0],\"yaxis\":\"y2\",\"type\":\"scatter\"},{\"marker\":{\"color\":\"blue\",\"size\":30},\"mode\":\"markers\",\"showlegend\":false,\"x\":[34.87],\"xaxis\":\"x2\",\"y\":[0],\"yaxis\":\"y2\",\"type\":\"scatter\"}],\"name\":\"1937\"},{\"data\":[{\"lat\":{\"dtype\":\"f8\",\"bdata\":\"zczMzMyMQkDNzMzMzMxFQAAAAAAAAPC\\u002f\"},\"lon\":{\"dtype\":\"f8\",\"bdata\":\"ZmZmZma2YUCamZmZmQliQAAAAAAAAF5A\"},\"marker\":{\"color\":{\"dtype\":\"f8\",\"bdata\":\"AAAAAAAA8D8AAAAAAADwPwAAAAAAABRA\"},\"size\":15,\"coloraxis\":\"coloraxis\"},\"text\":[\"JAPAN\\u003cbr\\u003eSchade: 1.0 M$\",\"JAPAN\\u003cbr\\u003eSchade: 1.0 M$\",\"INDONESIA\\u003cbr\\u003eSchade: 5.0 M$\"],\"type\":\"scattergeo\"},{\"line\":{\"color\":\"lightblue\",\"width\":20},\"mode\":\"lines\",\"showlegend\":false,\"x\":[0,214.87],\"xaxis\":\"x2\",\"y\":[0,0],\"yaxis\":\"y2\",\"type\":\"scatter\"},{\"marker\":{\"color\":\"blue\",\"size\":30},\"mode\":\"markers\",\"showlegend\":false,\"x\":[34.17],\"xaxis\":\"x2\",\"y\":[0],\"yaxis\":\"y2\",\"type\":\"scatter\"}],\"name\":\"1938\"},{\"data\":[{\"lat\":{\"dtype\":\"f8\",\"bdata\":\"ZmZmZmYmQEDNzMzMzAxEQFK4HoXrURzAAAAAAAAgQsDXo3A9CpciwMP1KFyP4kNA\"},\"lon\":{\"dtype\":\"f8\",\"bdata\":\"AAAAAACAYEAAAAAAAHBhQDEIrBxabGNAAAAAAAAQUsBzaJHtfOdjQE5iEFg5xENA\"},\"marker\":{\"color\":{\"dtype\":\"f8\",\"bdata\":\"AAAAAAAA8D8AAAAAAADwPwAAAAAAAPA\\u002fAAAAAAAAOUAAAAAAAADwPwAAAAAAABRA\"},\"size\":15,\"coloraxis\":\"coloraxis\"},\"text\":[\"JAPAN\\u003cbr\\u003eSchade: 1.0 M$\",\"JAPAN\\u003cbr\\u003eSchade: 1.0 M$\",\"PAPUA NEW GUINEA\\u003cbr\\u003eSchade: 1.0 M$\",\"CHILE\\u003cbr\\u003eSchade: 25.0 M$\",\"SOLOMON ISLANDS\\u003cbr\\u003eSchade: 1.0 M$\",\"TURKEY\\u003cbr\\u003eSchade: 5.0 M$\"],\"type\":\"scattergeo\"},{\"line\":{\"color\":\"lightblue\",\"width\":20},\"mode\":\"lines\",\"showlegend\":false,\"x\":[0,214.87],\"xaxis\":\"x2\",\"y\":[0,0],\"yaxis\":\"y2\",\"type\":\"scatter\"},{\"marker\":{\"color\":\"blue\",\"size\":30},\"mode\":\"markers\",\"showlegend\":false,\"x\":[38.98],\"xaxis\":\"x2\",\"y\":[0],\"yaxis\":\"y2\",\"type\":\"scatter\"}],\"name\":\"1939\"},{\"data\":[{\"lat\":{\"dtype\":\"f8\",\"bdata\":\"AAAAAAAAJcCamZmZmRlGQA==\"},\"lon\":{\"dtype\":\"f8\",\"bdata\":\"AAAAAABAU8AAAAAAAHBhQA==\"},\"marker\":{\"color\":{\"dtype\":\"f8\",\"bdata\":\"AAAAAAAAFEAAAAAAAADwPw==\"},\"size\":15,\"coloraxis\":\"coloraxis\"},\"text\":[\"PERU\\u003cbr\\u003eSchade: 5.0 M$\",\"JAPAN\\u003cbr\\u003eSchade: 1.0 M$\"],\"type\":\"scattergeo\"},{\"line\":{\"color\":\"lightblue\",\"width\":20},\"mode\":\"lines\",\"showlegend\":false,\"x\":[0,214.87],\"xaxis\":\"x2\",\"y\":[0,0],\"yaxis\":\"y2\",\"type\":\"scatter\"},{\"marker\":{\"color\":\"blue\",\"size\":30},\"mode\":\"markers\",\"showlegend\":false,\"x\":[42.67],\"xaxis\":\"x2\",\"y\":[0],\"yaxis\":\"y2\",\"type\":\"scatter\"}],\"name\":\"1940\"},{\"data\":[{\"lat\":{\"dtype\":\"f8\",\"bdata\":\"MzMzMzOzEMBmZmZmZmYhQOF6FK5H4SdAAAAAAAAAQEA=\"},\"lon\":{\"dtype\":\"f8\",\"bdata\":\"g8DKoUUCY0DNzMzMzMxUwPLSTWIQKFdAMzMzMzODYEA=\"},\"marker\":{\"color\":{\"dtype\":\"f8\",\"bdata\":\"AAAAAAAA8D8AAAAAAADwPwAAAAAAADlAAAAAAAAA8D8=\"},\"size\":15,\"coloraxis\":\"coloraxis\"},\"text\":[\"PAPUA NEW GUINEA\\u003cbr\\u003eSchade: 1.0 M$\",\"COSTA RICA\\u003cbr\\u003eSchade: 1.0 M$\",\"INDIA\\u003cbr\\u003eSchade: 25.0 M$\",\"JAPAN\\u003cbr\\u003eSchade: 1.0 M$\"],\"type\":\"scattergeo\"},{\"line\":{\"color\":\"lightblue\",\"width\":20},\"mode\":\"lines\",\"showlegend\":false,\"x\":[0,214.87],\"xaxis\":\"x2\",\"y\":[0,0],\"yaxis\":\"y2\",\"type\":\"scatter\"},{\"marker\":{\"color\":\"blue\",\"size\":30},\"mode\":\"markers\",\"showlegend\":false,\"x\":[46.17],\"xaxis\":\"x2\",\"y\":[0],\"yaxis\":\"y2\",\"type\":\"scatter\"}],\"name\":\"1941\"},{\"data\":[{\"lat\":{\"dtype\":\"f8\",\"bdata\":\"AAAAAAAALsA=\"},\"lon\":{\"dtype\":\"f8\",\"bdata\":\"AAAAAAAAU8A=\"},\"marker\":{\"color\":{\"dtype\":\"f8\",\"bdata\":\"AAAAAAAAFEA=\"},\"size\":15,\"coloraxis\":\"coloraxis\"},\"text\":[\"PERU\\u003cbr\\u003eSchade: 5.0 M$\"],\"type\":\"scattergeo\"},{\"line\":{\"color\":\"lightblue\",\"width\":20},\"mode\":\"lines\",\"showlegend\":false,\"x\":[0,214.87],\"xaxis\":\"x2\",\"y\":[0,0],\"yaxis\":\"y2\",\"type\":\"scatter\"},{\"marker\":{\"color\":\"blue\",\"size\":30},\"mode\":\"markers\",\"showlegend\":false,\"x\":[43.08],\"xaxis\":\"x2\",\"y\":[0],\"yaxis\":\"y2\",\"type\":\"scatter\"}],\"name\":\"1942\"},{\"data\":[{\"lat\":{\"dtype\":\"f8\",\"bdata\":\"AAAAAADAPsA=\"},\"lon\":{\"dtype\":\"f8\",\"bdata\":\"AAAAAAAAUsA=\"},\"marker\":{\"color\":{\"dtype\":\"f8\",\"bdata\":\"AAAAAAAA8D8=\"},\"size\":15,\"coloraxis\":\"coloraxis\"},\"text\":[\"CHILE\\u003cbr\\u003eSchade: 1.0 M$\"],\"type\":\"scattergeo\"},{\"line\":{\"color\":\"lightblue\",\"width\":20},\"mode\":\"lines\",\"showlegend\":false,\"x\":[0,214.87],\"xaxis\":\"x2\",\"y\":[0,0],\"yaxis\":\"y2\",\"type\":\"scatter\"},{\"marker\":{\"color\":\"blue\",\"size\":30},\"mode\":\"markers\",\"showlegend\":false,\"x\":[46.53],\"xaxis\":\"x2\",\"y\":[0],\"yaxis\":\"y2\",\"type\":\"scatter\"}],\"name\":\"1943\"},{\"data\":[{\"lat\":{\"dtype\":\"f8\",\"bdata\":\"AAAAAAAAQUA=\"},\"lon\":{\"dtype\":\"f8\",\"bdata\":\"MzMzMzMjYUA=\"},\"marker\":{\"color\":{\"dtype\":\"f8\",\"bdata\":\"AAAAAAAAFEA=\"},\"size\":15,\"coloraxis\":\"coloraxis\"},\"text\":[\"JAPAN\\u003cbr\\u003eSchade: 5.0 M$\"],\"type\":\"scattergeo\"},{\"line\":{\"color\":\"lightblue\",\"width\":20},\"mode\":\"lines\",\"showlegend\":false,\"x\":[0,214.87],\"xaxis\":\"x2\",\"y\":[0,0],\"yaxis\":\"y2\",\"type\":\"scatter\"},{\"marker\":{\"color\":\"blue\",\"size\":30},\"mode\":\"markers\",\"showlegend\":false,\"x\":[48.14],\"xaxis\":\"x2\",\"y\":[0],\"yaxis\":\"y2\",\"type\":\"scatter\"}],\"name\":\"1944\"},{\"data\":[{\"lat\":{\"dtype\":\"f8\",\"bdata\":\"mpmZmZlZQUA=\"},\"lon\":{\"dtype\":\"f8\",\"bdata\":\"ZmZmZmYmYUA=\"},\"marker\":{\"color\":{\"dtype\":\"f8\",\"bdata\":\"AAAAAAAAOUA=\"},\"size\":15,\"coloraxis\":\"coloraxis\"},\"text\":[\"JAPAN\\u003cbr\\u003eSchade: 25.0 M$\"],\"type\":\"scattergeo\"},{\"line\":{\"color\":\"lightblue\",\"width\":20},\"mode\":\"lines\",\"showlegend\":false,\"x\":[0,214.87],\"xaxis\":\"x2\",\"y\":[0,0],\"yaxis\":\"y2\",\"type\":\"scatter\"},{\"marker\":{\"color\":\"blue\",\"size\":30},\"mode\":\"markers\",\"showlegend\":false,\"x\":[48.94],\"xaxis\":\"x2\",\"y\":[0],\"yaxis\":\"y2\",\"type\":\"scatter\"}],\"name\":\"1945\"},{\"data\":[{\"lat\":{\"dtype\":\"f8\",\"bdata\":\"5dAi2\\u002fm+SkAAAAAAAEAzQAAAAAAAgEBA\"},\"lon\":{\"dtype\":\"f8\",\"bdata\":\"tMh2vp9aZMAAAAAAAEBRwDMzMzMz82BA\"},\"marker\":{\"color\":{\"dtype\":\"f8\",\"bdata\":\"AAAAAAAAOUAAAAAAAAAUQAAAAAAAADlA\"},\"size\":15,\"coloraxis\":\"coloraxis\"},\"text\":[\"USA\\u003cbr\\u003eSchade: 25.0 M$\",\"DOMINICAN REPUBLIC\\u003cbr\\u003eSchade: 5.0 M$\",\"JAPAN\\u003cbr\\u003eSchade: 25.0 M$\"],\"type\":\"scattergeo\"},{\"line\":{\"color\":\"lightblue\",\"width\":20},\"mode\":\"lines\",\"showlegend\":false,\"x\":[0,214.87],\"xaxis\":\"x2\",\"y\":[0,0],\"yaxis\":\"y2\",\"type\":\"scatter\"},{\"marker\":{\"color\":\"blue\",\"size\":30},\"mode\":\"markers\",\"showlegend\":false,\"x\":[51.38],\"xaxis\":\"x2\",\"y\":[0],\"yaxis\":\"y2\",\"type\":\"scatter\"}],\"name\":\"1946\"},{\"data\":[{\"lat\":{\"dtype\":\"f8\",\"bdata\":\"AAAAAACAQkA=\"},\"lon\":{\"dtype\":\"f8\",\"bdata\":\"AAAAAAAANkA=\"},\"marker\":{\"color\":{\"dtype\":\"f8\",\"bdata\":\"AAAAAAAAOUA=\"},\"size\":15,\"coloraxis\":\"coloraxis\"},\"text\":[\"GREECE\\u003cbr\\u003eSchade: 25.0 M$\"],\"type\":\"scattergeo\"},{\"line\":{\"color\":\"lightblue\",\"width\":20},\"mode\":\"lines\",\"showlegend\":false,\"x\":[0,214.87],\"xaxis\":\"x2\",\"y\":[0,0],\"yaxis\":\"y2\",\"type\":\"scatter\"},{\"marker\":{\"color\":\"blue\",\"size\":30},\"mode\":\"markers\",\"showlegend\":false,\"x\":[55.69],\"xaxis\":\"x2\",\"y\":[0],\"yaxis\":\"y2\",\"type\":\"scatter\"}],\"name\":\"1947\"},{\"data\":[{\"lat\":{\"dtype\":\"f8\",\"bdata\":\"arx0kxhEQ0AAAAAAAAAlQA==\"},\"lon\":{\"dtype\":\"f8\",\"bdata\":\"WmQ7309tNEAAAAAAAIBeQA==\"},\"marker\":{\"color\":{\"dtype\":\"f8\",\"bdata\":\"AAAAAAAAFEAAAAAAAADwPw==\"},\"size\":15,\"coloraxis\":\"coloraxis\"},\"text\":[\"GREECE\\u003cbr\\u003eSchade: 5.0 M$\",\"PHILIPPINES\\u003cbr\\u003eSchade: 1.0 M$\"],\"type\":\"scattergeo\"},{\"line\":{\"color\":\"lightblue\",\"width\":20},\"mode\":\"lines\",\"showlegend\":false,\"x\":[0,214.87],\"xaxis\":\"x2\",\"y\":[0,0],\"yaxis\":\"y2\",\"type\":\"scatter\"},{\"marker\":{\"color\":\"blue\",\"size\":30},\"mode\":\"markers\",\"showlegend\":false,\"x\":[58.29],\"xaxis\":\"x2\",\"y\":[0],\"yaxis\":\"y2\",\"type\":\"scatter\"}],\"name\":\"1948\"},{\"data\":[{\"lat\":{\"dtype\":\"f8\",\"bdata\":\"lkOLbOdbQ0AAAAAAAAAxQA==\"},\"lon\":{\"dtype\":\"f8\",\"bdata\":\"CKwcWmR7OkC4HoXrUWheQA==\"},\"marker\":{\"color\":{\"dtype\":\"f8\",\"bdata\":\"AAAAAAAAOUAAAAAAAADwPw==\"},\"size\":15,\"coloraxis\":\"coloraxis\"},\"text\":[\"GREECE\\u003cbr\\u003eSchade: 25.0 M$\",\"PHILIPPINES\\u003cbr\\u003eSchade: 1.0 M$\"],\"type\":\"scattergeo\"},{\"line\":{\"color\":\"lightblue\",\"width\":20},\"mode\":\"lines\",\"showlegend\":false,\"x\":[0,214.87],\"xaxis\":\"x2\",\"y\":[0,0],\"yaxis\":\"y2\",\"type\":\"scatter\"},{\"marker\":{\"color\":\"blue\",\"size\":30},\"mode\":\"markers\",\"showlegend\":false,\"x\":[60.36],\"xaxis\":\"x2\",\"y\":[0],\"yaxis\":\"y2\",\"type\":\"scatter\"}],\"name\":\"1949\"},{\"data\":[{\"lat\":{\"dtype\":\"f8\",\"bdata\":\"AAAAAACALMBmZmZmZmYOwA==\"},\"lon\":{\"dtype\":\"f8\",\"bdata\":\"AAAAAABwU8CamZmZmQlgQA==\"},\"marker\":{\"color\":{\"dtype\":\"f8\",\"bdata\":\"AAAAAAAA8D8AAAAAAAAUQA==\"},\"size\":15,\"coloraxis\":\"coloraxis\"},\"text\":[\"PERU\\u003cbr\\u003eSchade: 1.0 M$\",\"INDONESIA\\u003cbr\\u003eSchade: 5.0 M$\"],\"type\":\"scattergeo\"},{\"line\":{\"color\":\"lightblue\",\"width\":20},\"mode\":\"lines\",\"showlegend\":false,\"x\":[0,214.87],\"xaxis\":\"x2\",\"y\":[0,0],\"yaxis\":\"y2\",\"type\":\"scatter\"},{\"marker\":{\"color\":\"blue\",\"size\":30},\"mode\":\"markers\",\"showlegend\":false,\"x\":[62.95],\"xaxis\":\"x2\",\"y\":[0],\"yaxis\":\"y2\",\"type\":\"scatter\"}],\"name\":\"1950\"},{\"data\":[{\"lat\":{\"dtype\":\"f8\",\"bdata\":\"zczMzMzMN0A=\"},\"lon\":{\"dtype\":\"f8\",\"bdata\":\"zczMzMxsXkA=\"},\"marker\":{\"color\":{\"dtype\":\"f8\",\"bdata\":\"AAAAAAAAFEA=\"},\"size\":15,\"coloraxis\":\"coloraxis\"},\"text\":[\"TAIWAN\\u003cbr\\u003eSchade: 5.0 M$\"],\"type\":\"scattergeo\"},{\"line\":{\"color\":\"lightblue\",\"width\":20},\"mode\":\"lines\",\"showlegend\":false,\"x\":[0,214.87],\"xaxis\":\"x2\",\"y\":[0,0],\"yaxis\":\"y2\",\"type\":\"scatter\"},{\"marker\":{\"color\":\"blue\",\"size\":30},\"mode\":\"markers\",\"showlegend\":false,\"x\":[66.25],\"xaxis\":\"x2\",\"y\":[0],\"yaxis\":\"y2\",\"type\":\"scatter\"}],\"name\":\"1951\"},{\"data\":[{\"lat\":{\"dtype\":\"f8\",\"bdata\":\"MzMzMzMTRUA=\"},\"lon\":{\"dtype\":\"f8\",\"bdata\":\"MzMzMzP7YUA=\"},\"marker\":{\"color\":{\"dtype\":\"f8\",\"bdata\":\"AAAAAAAAFEA=\"},\"size\":15,\"coloraxis\":\"coloraxis\"},\"text\":[\"JAPAN\\u003cbr\\u003eSchade: 5.0 M$\"],\"type\":\"scattergeo\"},{\"line\":{\"color\":\"lightblue\",\"width\":20},\"mode\":\"lines\",\"showlegend\":false,\"x\":[0,214.87],\"xaxis\":\"x2\",\"y\":[0,0],\"yaxis\":\"y2\",\"type\":\"scatter\"},{\"marker\":{\"color\":\"blue\",\"size\":30},\"mode\":\"markers\",\"showlegend\":false,\"x\":[67.99],\"xaxis\":\"x2\",\"y\":[0],\"yaxis\":\"y2\",\"type\":\"scatter\"}],\"name\":\"1952\"},{\"data\":[{\"lat\":{\"dtype\":\"f8\",\"bdata\":\"MzMzMzMzC8DNzMzMzEwywAAAAAAAgEFAZmZmZmYmQ0A=\"},\"lon\":{\"dtype\":\"f8\",\"bdata\":\"ZmZmZmYmVMBmZmZmZkZmQAAAAAAAQEBAzczMzMzMNEA=\"},\"marker\":{\"color\":{\"dtype\":\"f8\",\"bdata\":\"AAAAAAAA8D8AAAAAAADwPwAAAAAAAPA\\u002fAAAAAAAAOUA=\"},\"size\":15,\"coloraxis\":\"coloraxis\"},\"text\":[\"PERU\\u003cbr\\u003eSchade: 1.0 M$\",\"FIJI\\u003cbr\\u003eSchade: 1.0 M$\",\"CYPRUS\\u003cbr\\u003eSchade: 1.0 M$\",\"GREECE\\u003cbr\\u003eSchade: 25.0 M$\"],\"type\":\"scattergeo\"},{\"line\":{\"color\":\"lightblue\",\"width\":20},\"mode\":\"lines\",\"showlegend\":false,\"x\":[0,214.87],\"xaxis\":\"x2\",\"y\":[0,0],\"yaxis\":\"y2\",\"type\":\"scatter\"},{\"marker\":{\"color\":\"blue\",\"size\":30},\"mode\":\"markers\",\"showlegend\":false,\"x\":[68.79],\"xaxis\":\"x2\",\"y\":[0],\"yaxis\":\"y2\",\"type\":\"scatter\"}],\"name\":\"1953\"},{\"data\":[{\"lat\":{\"dtype\":\"f8\",\"bdata\":\"TmIQWDkkQkA=\"},\"lon\":{\"dtype\":\"f8\",\"bdata\":\"Rrbz\\u002fdR49z8=\"},\"marker\":{\"color\":{\"dtype\":\"f8\",\"bdata\":\"AAAAAAAAFEA=\"},\"size\":15,\"coloraxis\":\"coloraxis\"},\"text\":[\"ALGERIA\\u003cbr\\u003eSchade: 5.0 M$\"],\"type\":\"scattergeo\"},{\"line\":{\"color\":\"lightblue\",\"width\":20},\"mode\":\"lines\",\"showlegend\":false,\"x\":[0,214.87],\"xaxis\":\"x2\",\"y\":[0,0],\"yaxis\":\"y2\",\"type\":\"scatter\"},{\"marker\":{\"color\":\"blue\",\"size\":30},\"mode\":\"markers\",\"showlegend\":false,\"x\":[67.93],\"xaxis\":\"x2\",\"y\":[0],\"yaxis\":\"y2\",\"type\":\"scatter\"}],\"name\":\"1954\"},{\"data\":[{\"lat\":{\"dtype\":\"f8\",\"bdata\":\"AAAAAAAAPsAzMzMzM7NDQA==\"},\"lon\":{\"dtype\":\"f8\",\"bdata\":\"AAAAAAAAUsCamZmZmRk3QA==\"},\"marker\":{\"color\":{\"dtype\":\"f8\",\"bdata\":\"AAAAAAAA8D8AAAAAAAA5QA==\"},\"size\":15,\"coloraxis\":\"coloraxis\"},\"text\":[\"CHILE\\u003cbr\\u003eSchade: 1.0 M$\",\"GREECE\\u003cbr\\u003eSchade: 25.0 M$\"],\"type\":\"scattergeo\"},{\"line\":{\"color\":\"lightblue\",\"width\":20},\"mode\":\"lines\",\"showlegend\":false,\"x\":[0,214.87],\"xaxis\":\"x2\",\"y\":[0,0],\"yaxis\":\"y2\",\"type\":\"scatter\"},{\"marker\":{\"color\":\"blue\",\"size\":30},\"mode\":\"markers\",\"showlegend\":false,\"x\":[70.92],\"xaxis\":\"x2\",\"y\":[0],\"yaxis\":\"y2\",\"type\":\"scatter\"}],\"name\":\"1955\"},{\"data\":[{\"lat\":{\"dtype\":\"f8\",\"bdata\":\"AAAAAACAMEBMN4lBYKVJQA==\"},\"lon\":{\"dtype\":\"f8\",\"bdata\":\"ZmZmZmbGWMDkpZvEIPRlwA==\"},\"marker\":{\"color\":{\"dtype\":\"f8\",\"bdata\":\"AAAAAAAAOUAAAAAAAAAUQA==\"},\"size\":15,\"coloraxis\":\"coloraxis\"},\"text\":[\"MEXICO\\u003cbr\\u003eSchade: 25.0 M$\",\"USA\\u003cbr\\u003eSchade: 5.0 M$\"],\"type\":\"scattergeo\"},{\"line\":{\"color\":\"lightblue\",\"width\":20},\"mode\":\"lines\",\"showlegend\":false,\"x\":[0,214.87],\"xaxis\":\"x2\",\"y\":[0,0],\"yaxis\":\"y2\",\"type\":\"scatter\"},{\"marker\":{\"color\":\"blue\",\"size\":30},\"mode\":\"markers\",\"showlegend\":false,\"x\":[74.71],\"xaxis\":\"x2\",\"y\":[0],\"yaxis\":\"y2\",\"type\":\"scatter\"}],\"name\":\"1957\"},{\"data\":[{\"lat\":{\"dtype\":\"f8\",\"bdata\":\"j8L1KFwvTUAAAAAAAAD4Pw==\"},\"lon\":{\"dtype\":\"f8\",\"bdata\":\"4XoUrkcVYcAAAAAAAOBTwA==\"},\"marker\":{\"color\":{\"dtype\":\"f8\",\"bdata\":\"AAAAAAAA8D8AAAAAAADwPw==\"},\"size\":15,\"coloraxis\":\"coloraxis\"},\"text\":[\"USA\\u003cbr\\u003eSchade: 1.0 M$\",\"ECUADOR\\u003cbr\\u003eSchade: 1.0 M$\"],\"type\":\"scattergeo\"},{\"line\":{\"color\":\"lightblue\",\"width\":20},\"mode\":\"lines\",\"showlegend\":false,\"x\":[0,214.87],\"xaxis\":\"x2\",\"y\":[0,0],\"yaxis\":\"y2\",\"type\":\"scatter\"},{\"marker\":{\"color\":\"blue\",\"size\":30},\"mode\":\"markers\",\"showlegend\":false,\"x\":[78.82],\"xaxis\":\"x2\",\"y\":[0],\"yaxis\":\"y2\",\"type\":\"scatter\"}],\"name\":\"1958\"},{\"data\":[{\"lat\":{\"dtype\":\"f8\",\"bdata\":\"AAAAAACAPkD8qfHSTRJDwA==\"},\"lon\":{\"dtype\":\"f8\",\"bdata\":\"AAAAAAAAI8A1XrpJDFpSwA==\"},\"marker\":{\"color\":{\"dtype\":\"f8\",\"bdata\":\"AAAAAAAAOUAAAAAAAAA5QA==\"},\"size\":15,\"coloraxis\":\"coloraxis\"},\"text\":[\"MOROCCO\\u003cbr\\u003eSchade: 25.0 M$\",\"CHILE\\u003cbr\\u003eSchade: 25.0 M$\"],\"type\":\"scattergeo\"},{\"line\":{\"color\":\"lightblue\",\"width\":20},\"mode\":\"lines\",\"showlegend\":false,\"x\":[0,214.87],\"xaxis\":\"x2\",\"y\":[0,0],\"yaxis\":\"y2\",\"type\":\"scatter\"},{\"marker\":{\"color\":\"blue\",\"size\":30},\"mode\":\"markers\",\"showlegend\":false,\"x\":[84.29],\"xaxis\":\"x2\",\"y\":[0],\"yaxis\":\"y2\",\"type\":\"scatter\"}],\"name\":\"1960\"},{\"data\":[{\"lat\":{\"dtype\":\"f8\",\"bdata\":\"mpmZmZmZP0A=\"},\"lon\":{\"dtype\":\"f8\",\"bdata\":\"mpmZmZl5YEA=\"},\"marker\":{\"color\":{\"dtype\":\"f8\",\"bdata\":\"AAAAAAAA8D8=\"},\"size\":15,\"coloraxis\":\"coloraxis\"},\"text\":[\"JAPAN\\u003cbr\\u003eSchade: 1.0 M$\"],\"type\":\"scattergeo\"},{\"line\":{\"color\":\"lightblue\",\"width\":20},\"mode\":\"lines\",\"showlegend\":false,\"x\":[0,214.87],\"xaxis\":\"x2\",\"y\":[0,0],\"yaxis\":\"y2\",\"type\":\"scatter\"},{\"marker\":{\"color\":\"blue\",\"size\":30},\"mode\":\"markers\",\"showlegend\":false,\"x\":[84.89],\"xaxis\":\"x2\",\"y\":[0],\"yaxis\":\"y2\",\"type\":\"scatter\"}],\"name\":\"1961\"},{\"data\":[{\"lat\":{\"dtype\":\"f8\",\"bdata\":\"MzMzMzMzMUAzMzMzMzMxQA==\"},\"lon\":{\"dtype\":\"f8\",\"bdata\":\"AAAAAADgWMBmZmZmZuZYwA==\"},\"marker\":{\"color\":{\"dtype\":\"f8\",\"bdata\":\"AAAAAAAA8D8AAAAAAADwPw==\"},\"size\":15,\"coloraxis\":\"coloraxis\"},\"text\":[\"MEXICO\\u003cbr\\u003eSchade: 1.0 M$\",\"MEXICO\\u003cbr\\u003eSchade: 1.0 M$\"],\"type\":\"scattergeo\"},{\"line\":{\"color\":\"lightblue\",\"width\":20},\"mode\":\"lines\",\"showlegend\":false,\"x\":[0,214.87],\"xaxis\":\"x2\",\"y\":[0,0],\"yaxis\":\"y2\",\"type\":\"scatter\"},{\"marker\":{\"color\":\"blue\",\"size\":30},\"mode\":\"markers\",\"showlegend\":false,\"x\":[84.73],\"xaxis\":\"x2\",\"y\":[0],\"yaxis\":\"y2\",\"type\":\"scatter\"}],\"name\":\"1962\"},{\"data\":[{\"lat\":{\"dtype\":\"f8\",\"bdata\":\"ZmZmZmZmOEBI4XoUridDQAAAAAAAYERAGQRWDi0iR0A=\"},\"lon\":{\"dtype\":\"f8\",\"bdata\":\"ZmZmZmaGXkCF61G4HgU2QAAAAAAAAD1AnMQgsHKoKEA=\"},\"marker\":{\"color\":{\"dtype\":\"f8\",\"bdata\":\"AAAAAAAA8D8AAAAAAADwPwAAAAAAAPA\\u002fAAAAAAAAFEA=\"},\"size\":15,\"coloraxis\":\"coloraxis\"},\"text\":[\"TAIWAN\\u003cbr\\u003eSchade: 1.0 M$\",\"GREECE\\u003cbr\\u003eSchade: 1.0 M$\",\"TURKEY\\u003cbr\\u003eSchade: 1.0 M$\",\"ITALY\\u003cbr\\u003eSchade: 5.0 M$\"],\"type\":\"scattergeo\"},{\"line\":{\"color\":\"lightblue\",\"width\":20},\"mode\":\"lines\",\"showlegend\":false,\"x\":[0,214.87],\"xaxis\":\"x2\",\"y\":[0,0],\"yaxis\":\"y2\",\"type\":\"scatter\"},{\"marker\":{\"color\":\"blue\",\"size\":30},\"mode\":\"markers\",\"showlegend\":false,\"x\":[84.85],\"xaxis\":\"x2\",\"y\":[0],\"yaxis\":\"y2\",\"type\":\"scatter\"}],\"name\":\"1963\"},{\"data\":[{\"lat\":{\"dtype\":\"f8\",\"bdata\":\"MzMzMzNTQ0AZBFYOLYJOQA==\"},\"lon\":{\"dtype\":\"f8\",\"bdata\":\"ZmZmZmZmYUDb+X5qvHRiwA==\"},\"marker\":{\"color\":{\"dtype\":\"f8\",\"bdata\":\"AAAAAAAAOUAAAAAAAAA5QA==\"},\"size\":15,\"coloraxis\":\"coloraxis\"},\"text\":[\"JAPAN\\u003cbr\\u003eSchade: 25.0 M$\",\"USA\\u003cbr\\u003eSchade: 25.0 M$\"],\"type\":\"scattergeo\"},{\"line\":{\"color\":\"lightblue\",\"width\":20},\"mode\":\"lines\",\"showlegend\":false,\"x\":[0,214.87],\"xaxis\":\"x2\",\"y\":[0,0],\"yaxis\":\"y2\",\"type\":\"scatter\"},{\"marker\":{\"color\":\"blue\",\"size\":30},\"mode\":\"markers\",\"showlegend\":false,\"x\":[82.9],\"xaxis\":\"x2\",\"y\":[0],\"yaxis\":\"y2\",\"type\":\"scatter\"}],\"name\":\"1964\"},{\"data\":[{\"lat\":{\"dtype\":\"f8\",\"bdata\":\"MzMzMzMzA8AbL90kBgEsQDMzMzMzs0NAcT0K16PgRMA=\"},\"lon\":{\"dtype\":\"f8\",\"bdata\":\"ZmZmZmaGX0BkO99PjT9eQAAAAAAAADhA001iEFgZUsA=\"},\"marker\":{\"color\":{\"dtype\":\"f8\",\"bdata\":\"AAAAAAAA8D8AAAAAAADwPwAAAAAAABRAAAAAAAAAFEA=\"},\"size\":15,\"coloraxis\":\"coloraxis\"},\"text\":[\"INDONESIA\\u003cbr\\u003eSchade: 1.0 M$\",\"PHILIPPINES\\u003cbr\\u003eSchade: 1.0 M$\",\"GREECE\\u003cbr\\u003eSchade: 5.0 M$\",\"CHILE\\u003cbr\\u003eSchade: 5.0 M$\"],\"type\":\"scattergeo\"},{\"line\":{\"color\":\"lightblue\",\"width\":20},\"mode\":\"lines\",\"showlegend\":false,\"x\":[0,214.87],\"xaxis\":\"x2\",\"y\":[0,0],\"yaxis\":\"y2\",\"type\":\"scatter\"},{\"marker\":{\"color\":\"blue\",\"size\":30},\"mode\":\"markers\",\"showlegend\":false,\"x\":[83.22],\"xaxis\":\"x2\",\"y\":[0],\"yaxis\":\"y2\",\"type\":\"scatter\"}],\"name\":\"1965\"},{\"data\":[{\"lat\":{\"dtype\":\"f8\",\"bdata\":\"AAAAAACAOcDl0CLb+X4lwJqZmZmZGThA\"},\"lon\":{\"dtype\":\"f8\",\"bdata\":\"zczMzMysUcBGtvP91KhTwGZmZmZmpl5A\"},\"marker\":{\"color\":{\"dtype\":\"f8\",\"bdata\":\"AAAAAAAA8D8AAAAAAAA5QAAAAAAAAPA\\u002f\"},\"size\":15,\"coloraxis\":\"coloraxis\"},\"text\":[\"CHILE\\u003cbr\\u003eSchade: 1.0 M$\",\"PERU\\u003cbr\\u003eSchade: 25.0 M$\",\"TAIWAN\\u003cbr\\u003eSchade: 1.0 M$\"],\"type\":\"scattergeo\"},{\"line\":{\"color\":\"lightblue\",\"width\":20},\"mode\":\"lines\",\"showlegend\":false,\"x\":[0,214.87],\"xaxis\":\"x2\",\"y\":[0,0],\"yaxis\":\"y2\",\"type\":\"scatter\"},{\"marker\":{\"color\":\"blue\",\"size\":30},\"mode\":\"markers\",\"showlegend\":false,\"x\":[82.64],\"xaxis\":\"x2\",\"y\":[0],\"yaxis\":\"y2\",\"type\":\"scatter\"}],\"name\":\"1966\"},{\"data\":[{\"lat\":{\"dtype\":\"f8\",\"bdata\":\"MzMzMzOzNcAAAAAAAAAWQJqZmZmZmQ3A\"},\"lon\":{\"dtype\":\"f8\",\"bdata\":\"AAAAAABgUcAzMzMzM1NYQDMzMzMz011A\"},\"marker\":{\"color\":{\"dtype\":\"f8\",\"bdata\":\"AAAAAAAA8D8AAAAAAAAUQAAAAAAAAPA\\u002f\"},\"size\":15,\"coloraxis\":\"coloraxis\"},\"text\":[\"CHILE\\u003cbr\\u003eSchade: 1.0 M$\",\"INDONESIA\\u003cbr\\u003eSchade: 5.0 M$\",\"INDONESIA\\u003cbr\\u003eSchade: 1.0 M$\"],\"type\":\"scattergeo\"},{\"line\":{\"color\":\"lightblue\",\"width\":20},\"mode\":\"lines\",\"showlegend\":false,\"x\":[0,214.87],\"xaxis\":\"x2\",\"y\":[0,0],\"yaxis\":\"y2\",\"type\":\"scatter\"},{\"marker\":{\"color\":\"blue\",\"size\":30},\"mode\":\"markers\",\"showlegend\":false,\"x\":[84.31],\"xaxis\":\"x2\",\"y\":[0],\"yaxis\":\"y2\",\"type\":\"scatter\"}],\"name\":\"1967\"},{\"data\":[{\"lat\":{\"dtype\":\"f8\",\"bdata\":\"ZmZmZmYmQEDJdr6fGq9DQGZmZmZmZkRAAAAAAACAMECamZmZmZnJP2ZmZmZm5kRA\"},\"lon\":{\"dtype\":\"f8\",\"bdata\":\"AAAAAACQYECiRbbz\\u002ffQ4QGZmZmZm5mFAzczMzMyMXkAzMzMzM\\u002fNdQGZmZmZmJkBA\"},\"marker\":{\"color\":{\"dtype\":\"f8\",\"bdata\":\"AAAAAAAA8D8AAAAAAADwPwAAAAAAADlAAAAAAAAAFEAAAAAAAAAUQAAAAAAAABRA\"},\"size\":15,\"coloraxis\":\"coloraxis\"},\"text\":[\"JAPAN\\u003cbr\\u003eSchade: 1.0 M$\",\"GREECE\\u003cbr\\u003eSchade: 1.0 M$\",\"JAPAN\\u003cbr\\u003eSchade: 25.0 M$\",\"PHILIPPINES\\u003cbr\\u003eSchade: 5.0 M$\",\"INDONESIA\\u003cbr\\u003eSchade: 5.0 M$\",\"TURKEY\\u003cbr\\u003eSchade: 5.0 M$\"],\"type\":\"scattergeo\"},{\"line\":{\"color\":\"lightblue\",\"width\":20},\"mode\":\"lines\",\"showlegend\":false,\"x\":[0,214.87],\"xaxis\":\"x2\",\"y\":[0,0],\"yaxis\":\"y2\",\"type\":\"scatter\"},{\"marker\":{\"color\":\"blue\",\"size\":30},\"mode\":\"markers\",\"showlegend\":false,\"x\":[84.63],\"xaxis\":\"x2\",\"y\":[0],\"yaxis\":\"y2\",\"type\":\"scatter\"}],\"name\":\"1968\"},{\"data\":[{\"lat\":{\"dtype\":\"f8\",\"bdata\":\"GQRWDi0CQkDNzMzMzMwIwDMzMzMzsztA\"},\"lon\":{\"dtype\":\"f8\",\"bdata\":\"ZmZmZmbmJcCamZmZmbldQAAAAAAAAEFA\"},\"marker\":{\"color\":{\"dtype\":\"f8\",\"bdata\":\"AAAAAAAA8D8AAAAAAAAUQAAAAAAAABRA\"},\"size\":15,\"coloraxis\":\"coloraxis\"},\"text\":[\"PORTUGAL\\u003cbr\\u003eSchade: 1.0 M$\",\"INDONESIA\\u003cbr\\u003eSchade: 5.0 M$\",\"EGYPT\\u003cbr\\u003eSchade: 5.0 M$\"],\"type\":\"scattergeo\"},{\"line\":{\"color\":\"lightblue\",\"width\":20},\"mode\":\"lines\",\"showlegend\":false,\"x\":[0,214.87],\"xaxis\":\"x2\",\"y\":[0,0],\"yaxis\":\"y2\",\"type\":\"scatter\"},{\"marker\":{\"color\":\"blue\",\"size\":30},\"mode\":\"markers\",\"showlegend\":false,\"x\":[86.63],\"xaxis\":\"x2\",\"y\":[0],\"yaxis\":\"y2\",\"type\":\"scatter\"}],\"name\":\"1969\"},{\"data\":[{\"lat\":{\"dtype\":\"f8\",\"bdata\":\"ZmZmZmZmIsBU46WbxKATwAAAAAAAgEVA\"},\"lon\":{\"dtype\":\"f8\",\"bdata\":\"MzMzMzOzU8BQjZduEi9iQM3MzMzMjEdA\"},\"marker\":{\"color\":{\"dtype\":\"f8\",\"bdata\":\"AAAAAAAAOUAAAAAAAADwPwAAAAAAAPA\\u002f\"},\"size\":15,\"coloraxis\":\"coloraxis\"},\"text\":[\"PERU\\u003cbr\\u003eSchade: 25.0 M$\",\"PAPUA NEW GUINEA\\u003cbr\\u003eSchade: 1.0 M$\",\"RUSSIA\\u003cbr\\u003eSchade: 1.0 M$\"],\"type\":\"scattergeo\"},{\"line\":{\"color\":\"lightblue\",\"width\":20},\"mode\":\"lines\",\"showlegend\":false,\"x\":[0,214.87],\"xaxis\":\"x2\",\"y\":[0,0],\"yaxis\":\"y2\",\"type\":\"scatter\"},{\"marker\":{\"color\":\"blue\",\"size\":30},\"mode\":\"markers\",\"showlegend\":false,\"x\":[91.17],\"xaxis\":\"x2\",\"y\":[0],\"yaxis\":\"y2\",\"type\":\"scatter\"}],\"name\":\"1970\"},{\"data\":[{\"lat\":{\"dtype\":\"f8\",\"bdata\":\"AAAAAABAQMAIrBxaZDsmwA==\"},\"lon\":{\"dtype\":\"f8\",\"bdata\":\"zczMzMzMUcAAAAAAACBTwA==\"},\"marker\":{\"color\":{\"dtype\":\"f8\",\"bdata\":\"AAAAAAAAOUAAAAAAAADwPw==\"},\"size\":15,\"coloraxis\":\"coloraxis\"},\"text\":[\"CHILE\\u003cbr\\u003eSchade: 25.0 M$\",\"PERU\\u003cbr\\u003eSchade: 1.0 M$\"],\"type\":\"scattergeo\"},{\"line\":{\"color\":\"lightblue\",\"width\":20},\"mode\":\"lines\",\"showlegend\":false,\"x\":[0,214.87],\"xaxis\":\"x2\",\"y\":[0,0],\"yaxis\":\"y2\",\"type\":\"scatter\"},{\"marker\":{\"color\":\"blue\",\"size\":30},\"mode\":\"markers\",\"showlegend\":false,\"x\":[94.39],\"xaxis\":\"x2\",\"y\":[0],\"yaxis\":\"y2\",\"type\":\"scatter\"}],\"name\":\"1971\"},{\"data\":[{\"lat\":{\"dtype\":\"f8\",\"bdata\":\"AAAAAACANkA=\"},\"lon\":{\"dtype\":\"f8\",\"bdata\":\"MzMzMzOTXkA=\"},\"marker\":{\"color\":{\"dtype\":\"f8\",\"bdata\":\"AAAAAAAA8D8=\"},\"size\":15,\"coloraxis\":\"coloraxis\"},\"text\":[\"TAIWAN\\u003cbr\\u003eSchade: 1.0 M$\"],\"type\":\"scattergeo\"},{\"line\":{\"color\":\"lightblue\",\"width\":20},\"mode\":\"lines\",\"showlegend\":false,\"x\":[0,214.87],\"xaxis\":\"x2\",\"y\":[0,0],\"yaxis\":\"y2\",\"type\":\"scatter\"},{\"marker\":{\"color\":\"blue\",\"size\":30},\"mode\":\"markers\",\"showlegend\":false,\"x\":[98.27],\"xaxis\":\"x2\",\"y\":[0],\"yaxis\":\"y2\",\"type\":\"scatter\"}],\"name\":\"1972\"},{\"data\":[{\"lat\":{\"dtype\":\"f8\",\"bdata\":\"exSuR+F6MkA=\"},\"lon\":{\"dtype\":\"f8\",\"bdata\":\"AAAAAADAWcA=\"},\"marker\":{\"color\":{\"dtype\":\"f8\",\"bdata\":\"AAAAAAAA8D8=\"},\"size\":15,\"coloraxis\":\"coloraxis\"},\"text\":[\"MEXICO\\u003cbr\\u003eSchade: 1.0 M$\"],\"type\":\"scattergeo\"},{\"line\":{\"color\":\"lightblue\",\"width\":20},\"mode\":\"lines\",\"showlegend\":false,\"x\":[0,214.87],\"xaxis\":\"x2\",\"y\":[0,0],\"yaxis\":\"y2\",\"type\":\"scatter\"},{\"marker\":{\"color\":\"blue\",\"size\":30},\"mode\":\"markers\",\"showlegend\":false,\"x\":[102.05],\"xaxis\":\"x2\",\"y\":[0],\"yaxis\":\"y2\",\"type\":\"scatter\"}],\"name\":\"1973\"},{\"data\":[{\"lat\":{\"dtype\":\"f8\",\"bdata\":\"zczMzMyMQUAK16NwPYoowM3MzMzMTEFA\"},\"lon\":{\"dtype\":\"f8\",\"bdata\":\"mpmZmZk5UkDD9Shcj3JTwGZmZmZmVmFA\"},\"marker\":{\"color\":{\"dtype\":\"f8\",\"bdata\":\"AAAAAAAA8D8AAAAAAAAUQAAAAAAAAPA\\u002f\"},\"size\":15,\"coloraxis\":\"coloraxis\"},\"text\":[\"PAKISTAN\\u003cbr\\u003eSchade: 1.0 M$\",\"PERU\\u003cbr\\u003eSchade: 5.0 M$\",\"JAPAN\\u003cbr\\u003eSchade: 1.0 M$\"],\"type\":\"scattergeo\"},{\"line\":{\"color\":\"lightblue\",\"width\":20},\"mode\":\"lines\",\"showlegend\":false,\"x\":[0,214.87],\"xaxis\":\"x2\",\"y\":[0,0],\"yaxis\":\"y2\",\"type\":\"scatter\"},{\"marker\":{\"color\":\"blue\",\"size\":30},\"mode\":\"markers\",\"showlegend\":false,\"x\":[105.2],\"xaxis\":\"x2\",\"y\":[0],\"yaxis\":\"y2\",\"type\":\"scatter\"}],\"name\":\"1974\"},{\"data\":[{\"lat\":{\"dtype\":\"f8\",\"bdata\":\"FK5H4XoUKUA=\"},\"lon\":{\"dtype\":\"f8\",\"bdata\":\"ZDvfT41\\u002fX0A=\"},\"marker\":{\"color\":{\"dtype\":\"f8\",\"bdata\":\"AAAAAAAA8D8=\"},\"size\":15,\"coloraxis\":\"coloraxis\"},\"text\":[\"PHILIPPINES\\u003cbr\\u003eSchade: 1.0 M$\"],\"type\":\"scattergeo\"},{\"line\":{\"color\":\"lightblue\",\"width\":20},\"mode\":\"lines\",\"showlegend\":false,\"x\":[0,214.87],\"xaxis\":\"x2\",\"y\":[0,0],\"yaxis\":\"y2\",\"type\":\"scatter\"},{\"marker\":{\"color\":\"blue\",\"size\":30},\"mode\":\"markers\",\"showlegend\":false,\"x\":[104.24],\"xaxis\":\"x2\",\"y\":[0],\"yaxis\":\"y2\",\"type\":\"scatter\"}],\"name\":\"1975\"},{\"data\":[{\"lat\":{\"dtype\":\"f8\",\"bdata\":\"uB6F61EYQ0BkO99PjWdBQA==\"},\"lon\":{\"dtype\":\"f8\",\"bdata\":\"KVyPwvXAYUA\\u002fNV66SWhhQA==\"},\"marker\":{\"color\":{\"dtype\":\"f8\",\"bdata\":\"AAAAAAAAOUAAAAAAAAAUQA==\"},\"size\":15,\"coloraxis\":\"coloraxis\"},\"text\":[\"JAPAN\\u003cbr\\u003eSchade: 25.0 M$\",\"JAPAN\\u003cbr\\u003eSchade: 5.0 M$\"],\"type\":\"scattergeo\"},{\"line\":{\"color\":\"lightblue\",\"width\":20},\"mode\":\"lines\",\"showlegend\":false,\"x\":[0,214.87],\"xaxis\":\"x2\",\"y\":[0,0],\"yaxis\":\"y2\",\"type\":\"scatter\"},{\"marker\":{\"color\":\"blue\",\"size\":30},\"mode\":\"markers\",\"showlegend\":false,\"x\":[107.29],\"xaxis\":\"x2\",\"y\":[0],\"yaxis\":\"y2\",\"type\":\"scatter\"}],\"name\":\"1978\"},{\"data\":[{\"lat\":{\"dtype\":\"f8\",\"bdata\":\"PzVeukkMRUDjpZvEINAxQHe+nxov3fq\\u002fxSCwcmiR+T8zMzMzMzMhwA==\"},\"lon\":{\"dtype\":\"f8\",\"bdata\":\"L90kBoE1M0CLbOf7qVFZwOF6FK5HAWFA9P3UeOnWU8AAAAAAAOBeQA==\"},\"marker\":{\"color\":{\"dtype\":\"f8\",\"bdata\":\"AAAAAAAAOUAAAAAAAAA5QAAAAAAAABRAAAAAAAAAFEAAAAAAAAAUQA==\"},\"size\":15,\"coloraxis\":\"coloraxis\"},\"text\":[\"MONTENEGRO\\u003cbr\\u003eSchade: 25.0 M$\",\"MEXICO\\u003cbr\\u003eSchade: 25.0 M$\",\"INDONESIA\\u003cbr\\u003eSchade: 5.0 M$\",\"COLOMBIA\\u003cbr\\u003eSchade: 5.0 M$\",\"INDONESIA\\u003cbr\\u003eSchade: 5.0 M$\"],\"type\":\"scattergeo\"},{\"line\":{\"color\":\"lightblue\",\"width\":20},\"mode\":\"lines\",\"showlegend\":false,\"x\":[0,214.87],\"xaxis\":\"x2\",\"y\":[0,0],\"yaxis\":\"y2\",\"type\":\"scatter\"},{\"marker\":{\"color\":\"blue\",\"size\":30},\"mode\":\"markers\",\"showlegend\":false,\"x\":[111.05],\"xaxis\":\"x2\",\"y\":[0],\"yaxis\":\"y2\",\"type\":\"scatter\"}],\"name\":\"1979\"},{\"data\":[{\"lat\":{\"dtype\":\"f8\",\"bdata\":\"KVyPwvUYQkA=\"},\"lon\":{\"dtype\":\"f8\",\"bdata\":\"RIts5\\u002fup9T8=\"},\"marker\":{\"color\":{\"dtype\":\"f8\",\"bdata\":\"AAAAAAAAOUA=\"},\"size\":15,\"coloraxis\":\"coloraxis\"},\"text\":[\"ALGERIA\\u003cbr\\u003eSchade: 25.0 M$\"],\"type\":\"scattergeo\"},{\"line\":{\"color\":\"lightblue\",\"width\":20},\"mode\":\"lines\",\"showlegend\":false,\"x\":[0,214.87],\"xaxis\":\"x2\",\"y\":[0,0],\"yaxis\":\"y2\",\"type\":\"scatter\"},{\"marker\":{\"color\":\"blue\",\"size\":30},\"mode\":\"markers\",\"showlegend\":false,\"x\":[113.17],\"xaxis\":\"x2\",\"y\":[0],\"yaxis\":\"y2\",\"type\":\"scatter\"}],\"name\":\"1980\"},{\"data\":[{\"lat\":{\"dtype\":\"f8\",\"bdata\":\"I9v5fmocQ0DsUbgehestwA==\"},\"lon\":{\"dtype\":\"f8\",\"bdata\":\"yXa+nxrvNkAfhetRuKJlwA==\"},\"marker\":{\"color\":{\"dtype\":\"f8\",\"bdata\":\"AAAAAAAAOUAAAAAAAADwPw==\"},\"size\":15,\"coloraxis\":\"coloraxis\"},\"text\":[\"GREECE\\u003cbr\\u003eSchade: 25.0 M$\",\"SAMOA\\u003cbr\\u003eSchade: 1.0 M$\"],\"type\":\"scattergeo\"},{\"line\":{\"color\":\"lightblue\",\"width\":20},\"mode\":\"lines\",\"showlegend\":false,\"x\":[0,214.87],\"xaxis\":\"x2\",\"y\":[0,0],\"yaxis\":\"y2\",\"type\":\"scatter\"},{\"marker\":{\"color\":\"blue\",\"size\":30},\"mode\":\"markers\",\"showlegend\":false,\"x\":[117.08],\"xaxis\":\"x2\",\"y\":[0],\"yaxis\":\"y2\",\"type\":\"scatter\"}],\"name\":\"1981\"},{\"data\":[{\"lat\":{\"dtype\":\"f8\",\"bdata\":\"KVyPwvWIOsBCYOXQIjsyQEJg5dAiO0RA\"},\"lon\":{\"dtype\":\"f8\",\"bdata\":\"eekmMQikUcDXo3A9CjdeQCUGgZVDY2FA\"},\"marker\":{\"color\":{\"dtype\":\"f8\",\"bdata\":\"AAAAAAAA8D8AAAAAAADwPwAAAAAAADlA\"},\"size\":15,\"coloraxis\":\"coloraxis\"},\"text\":[\"CHILE\\u003cbr\\u003eSchade: 1.0 M$\",\"PHILIPPINES\\u003cbr\\u003eSchade: 1.0 M$\",\"JAPAN\\u003cbr\\u003eSchade: 25.0 M$\"],\"type\":\"scattergeo\"},{\"line\":{\"color\":\"lightblue\",\"width\":20},\"mode\":\"lines\",\"showlegend\":false,\"x\":[0,214.87],\"xaxis\":\"x2\",\"y\":[0,0],\"yaxis\":\"y2\",\"type\":\"scatter\"},{\"marker\":{\"color\":\"blue\",\"size\":30},\"mode\":\"markers\",\"showlegend\":false,\"x\":[123.08],\"xaxis\":\"x2\",\"y\":[0],\"yaxis\":\"y2\",\"type\":\"scatter\"}],\"name\":\"1983\"},{\"data\":[{\"lat\":{\"dtype\":\"f8\",\"bdata\":\"cT0K16MwMkA3iUFg5ZBAwA==\"},\"lon\":{\"dtype\":\"f8\",\"bdata\":\"JzEIrByiWcBaZDvfT+1RwA==\"},\"marker\":{\"color\":{\"dtype\":\"f8\",\"bdata\":\"AAAAAAAAOUAAAAAAAAA5QA==\"},\"size\":15,\"coloraxis\":\"coloraxis\"},\"text\":[\"MEXICO\\u003cbr\\u003eSchade: 25.0 M$\",\"CHILE\\u003cbr\\u003eSchade: 25.0 M$\"],\"type\":\"scattergeo\"},{\"line\":{\"color\":\"lightblue\",\"width\":20},\"mode\":\"lines\",\"showlegend\":false,\"x\":[0,214.87],\"xaxis\":\"x2\",\"y\":[0,0],\"yaxis\":\"y2\",\"type\":\"scatter\"},{\"marker\":{\"color\":\"blue\",\"size\":30},\"mode\":\"markers\",\"showlegend\":false,\"x\":[122.17],\"xaxis\":\"x2\",\"y\":[0],\"yaxis\":\"y2\",\"type\":\"scatter\"}],\"name\":\"1985\"},{\"data\":[{\"lat\":{\"dtype\":\"f8\",\"bdata\":\"JjEIrBxaGMA=\"},\"lon\":{\"dtype\":\"f8\",\"bdata\":\"NV66SQx2YkA=\"},\"marker\":{\"color\":{\"dtype\":\"f8\",\"bdata\":\"AAAAAAAA8D8=\"},\"size\":15,\"coloraxis\":\"coloraxis\"},\"text\":[\"PAPUA NEW GUINEA\\u003cbr\\u003eSchade: 1.0 M$\"],\"type\":\"scattergeo\"},{\"line\":{\"color\":\"lightblue\",\"width\":20},\"mode\":\"lines\",\"showlegend\":false,\"x\":[0,214.87],\"xaxis\":\"x2\",\"y\":[0,0],\"yaxis\":\"y2\",\"type\":\"scatter\"},{\"marker\":{\"color\":\"blue\",\"size\":30},\"mode\":\"markers\",\"showlegend\":false,\"x\":[120.17],\"xaxis\":\"x2\",\"y\":[0],\"yaxis\":\"y2\",\"type\":\"scatter\"}],\"name\":\"1987\"},{\"data\":[{\"lat\":{\"dtype\":\"f8\",\"bdata\":\"arx0kxiEJMA=\"},\"lon\":{\"dtype\":\"f8\",\"bdata\":\"6iYxCKwcZEA=\"},\"marker\":{\"color\":{\"dtype\":\"f8\",\"bdata\":\"AAAAAAAA8D8=\"},\"size\":15,\"coloraxis\":\"coloraxis\"},\"text\":[\"SOLOMON ISLANDS\\u003cbr\\u003eSchade: 1.0 M$\"],\"type\":\"scattergeo\"},{\"line\":{\"color\":\"lightblue\",\"width\":20},\"mode\":\"lines\",\"showlegend\":false,\"x\":[0,214.87],\"xaxis\":\"x2\",\"y\":[0,0],\"yaxis\":\"y2\",\"type\":\"scatter\"},{\"marker\":{\"color\":\"blue\",\"size\":30},\"mode\":\"markers\",\"showlegend\":false,\"x\":[122.99],\"xaxis\":\"x2\",\"y\":[0],\"yaxis\":\"y2\",\"type\":\"scatter\"}],\"name\":\"1988\"},{\"data\":[{\"lat\":{\"dtype\":\"f8\",\"bdata\":\"+FPjpZuEQkA=\"},\"lon\":{\"dtype\":\"f8\",\"bdata\":\"jZduEoN4XsA=\"},\"marker\":{\"color\":{\"dtype\":\"f8\",\"bdata\":\"AAAAAAAAOUA=\"},\"size\":15,\"coloraxis\":\"coloraxis\"},\"text\":[\"USA\\u003cbr\\u003eSchade: 25.0 M$\"],\"type\":\"scattergeo\"},{\"line\":{\"color\":\"lightblue\",\"width\":20},\"mode\":\"lines\",\"showlegend\":false,\"x\":[0,214.87],\"xaxis\":\"x2\",\"y\":[0,0],\"yaxis\":\"y2\",\"type\":\"scatter\"},{\"marker\":{\"color\":\"blue\",\"size\":30},\"mode\":\"markers\",\"showlegend\":false,\"x\":[125.47],\"xaxis\":\"x2\",\"y\":[0],\"yaxis\":\"y2\",\"type\":\"scatter\"}],\"name\":\"1989\"},{\"data\":[{\"lat\":{\"dtype\":\"f8\",\"bdata\":\"0SLb+X56QkA=\"},\"lon\":{\"dtype\":\"f8\",\"bdata\":\"MQisHFq0SEA=\"},\"marker\":{\"color\":{\"dtype\":\"f8\",\"bdata\":\"AAAAAAAAOUA=\"},\"size\":15,\"coloraxis\":\"coloraxis\"},\"text\":[\"IRAN\\u003cbr\\u003eSchade: 25.0 M$\"],\"type\":\"scattergeo\"},{\"line\":{\"color\":\"lightblue\",\"width\":20},\"mode\":\"lines\",\"showlegend\":false,\"x\":[0,214.87],\"xaxis\":\"x2\",\"y\":[0,0],\"yaxis\":\"y2\",\"type\":\"scatter\"},{\"marker\":{\"color\":\"blue\",\"size\":30},\"mode\":\"markers\",\"showlegend\":false,\"x\":[128.07],\"xaxis\":\"x2\",\"y\":[0],\"yaxis\":\"y2\",\"type\":\"scatter\"}],\"name\":\"1990\"},{\"data\":[{\"lat\":{\"dtype\":\"f8\",\"bdata\":\"H4XrUbheI0A=\"},\"lon\":{\"dtype\":\"f8\",\"bdata\":\"6SYxCKzEVMA=\"},\"marker\":{\"color\":{\"dtype\":\"f8\",\"bdata\":\"AAAAAAAAOUA=\"},\"size\":15,\"coloraxis\":\"coloraxis\"},\"text\":[\"COSTA RICA\\u003cbr\\u003eSchade: 25.0 M$\"],\"type\":\"scattergeo\"},{\"line\":{\"color\":\"lightblue\",\"width\":20},\"mode\":\"lines\",\"showlegend\":false,\"x\":[0,214.87],\"xaxis\":\"x2\",\"y\":[0,0],\"yaxis\":\"y2\",\"type\":\"scatter\"},{\"marker\":{\"color\":\"blue\",\"size\":30},\"mode\":\"markers\",\"showlegend\":false,\"x\":[129.28],\"xaxis\":\"x2\",\"y\":[0],\"yaxis\":\"y2\",\"type\":\"scatter\"}],\"name\":\"1991\"},{\"data\":[{\"lat\":{\"dtype\":\"f8\",\"bdata\":\"TmIQWDl0J0D2KFyPwvUgwA==\"},\"lon\":{\"dtype\":\"f8\",\"bdata\":\"YxBYObTYVcDTTWIQWHleQA==\"},\"marker\":{\"color\":{\"dtype\":\"f8\",\"bdata\":\"AAAAAAAAOUAAAAAAAAA5QA==\"},\"size\":15,\"coloraxis\":\"coloraxis\"},\"text\":[\"NICARAGUA\\u003cbr\\u003eSchade: 25.0 M$\",\"INDONESIA\\u003cbr\\u003eSchade: 25.0 M$\"],\"type\":\"scattergeo\"},{\"line\":{\"color\":\"lightblue\",\"width\":20},\"mode\":\"lines\",\"showlegend\":false,\"x\":[0,214.87],\"xaxis\":\"x2\",\"y\":[0,0],\"yaxis\":\"y2\",\"type\":\"scatter\"},{\"marker\":{\"color\":\"blue\",\"size\":30},\"mode\":\"markers\",\"showlegend\":false,\"x\":[130.71],\"xaxis\":\"x2\",\"y\":[0],\"yaxis\":\"y2\",\"type\":\"scatter\"}],\"name\":\"1992\"},{\"data\":[{\"lat\":{\"dtype\":\"f8\",\"bdata\":\"sXJoke1sRUCF61G4HsUswA==\"},\"lon\":{\"dtype\":\"f8\",\"bdata\":\"\\u002fKnx0k1mYUDy0k1iEEhmwA==\"},\"marker\":{\"color\":{\"dtype\":\"f8\",\"bdata\":\"AAAAAAAAOUAAAAAAAADwPw==\"},\"size\":15,\"coloraxis\":\"coloraxis\"},\"text\":[\"JAPAN\\u003cbr\\u003eSchade: 25.0 M$\",\"WALLIS AND FUTUNA (FRENCH TERRITORY)\\u003cbr\\u003eSchade: 1.0 M$\"],\"type\":\"scattergeo\"},{\"line\":{\"color\":\"lightblue\",\"width\":20},\"mode\":\"lines\",\"showlegend\":false,\"x\":[0,214.87],\"xaxis\":\"x2\",\"y\":[0,0],\"yaxis\":\"y2\",\"type\":\"scatter\"},{\"marker\":{\"color\":\"blue\",\"size\":30},\"mode\":\"markers\",\"showlegend\":false,\"x\":[132.17],\"xaxis\":\"x2\",\"y\":[0],\"yaxis\":\"y2\",\"type\":\"scatter\"}],\"name\":\"1993\"},{\"data\":[{\"lat\":{\"dtype\":\"f8\",\"bdata\":\"JQaBlUMbQUDNzMzMzAwrQE5iEFg59CTA\"},\"lon\":{\"dtype\":\"f8\",\"bdata\":\"7nw\\u002fNV6iXcA\\u002fNV66SUReQD0K16NwNVxA\"},\"marker\":{\"color\":{\"dtype\":\"f8\",\"bdata\":\"AAAAAAAAOUAAAAAAAADwPwAAAAAAAPA\\u002f\"},\"size\":15,\"coloraxis\":\"coloraxis\"},\"text\":[\"USA\\u003cbr\\u003eSchade: 25.0 M$\",\"PHILIPPINES\\u003cbr\\u003eSchade: 1.0 M$\",\"INDONESIA\\u003cbr\\u003eSchade: 1.0 M$\"],\"type\":\"scattergeo\"},{\"line\":{\"color\":\"lightblue\",\"width\":20},\"mode\":\"lines\",\"showlegend\":false,\"x\":[0,214.87],\"xaxis\":\"x2\",\"y\":[0,0],\"yaxis\":\"y2\",\"type\":\"scatter\"},{\"marker\":{\"color\":\"blue\",\"size\":30},\"mode\":\"markers\",\"showlegend\":false,\"x\":[134.34],\"xaxis\":\"x2\",\"y\":[0],\"yaxis\":\"y2\",\"type\":\"scatter\"}],\"name\":\"1994\"},{\"data\":[{\"lat\":{\"dtype\":\"f8\",\"bdata\":\"+n5qvHTTPEDXo3A9Clc3wLTIdr6fSkFArkfhehQOM0CBlUOLbOcgwA==\"},\"lon\":{\"dtype\":\"f8\",\"bdata\":\"g8DKoUVmQUCJQWDl0JJRwH9qvHST4GBAhetRuB4NWsBCYOXQIkNfQA==\"},\"marker\":{\"color\":{\"dtype\":\"f8\",\"bdata\":\"AAAAAAAA8D8AAAAAAADwPwAAAAAAADlAAAAAAAAA8D8AAAAAAADwPw==\"},\"size\":15,\"coloraxis\":\"coloraxis\"},\"text\":[\"EGYPT\\u003cbr\\u003eSchade: 1.0 M$\",\"CHILE\\u003cbr\\u003eSchade: 1.0 M$\",\"JAPAN\\u003cbr\\u003eSchade: 25.0 M$\",\"MEXICO\\u003cbr\\u003eSchade: 1.0 M$\",\"INDONESIA\\u003cbr\\u003eSchade: 1.0 M$\"],\"type\":\"scattergeo\"},{\"line\":{\"color\":\"lightblue\",\"width\":20},\"mode\":\"lines\",\"showlegend\":false,\"x\":[0,214.87],\"xaxis\":\"x2\",\"y\":[0,0],\"yaxis\":\"y2\",\"type\":\"scatter\"},{\"marker\":{\"color\":\"blue\",\"size\":30},\"mode\":\"markers\",\"showlegend\":false,\"x\":[137.86],\"xaxis\":\"x2\",\"y\":[0],\"yaxis\":\"y2\",\"type\":\"scatter\"}],\"name\":\"1995\"},{\"data\":[{\"lat\":{\"dtype\":\"f8\",\"bdata\":\"Vg4tsp0vI8CIFtnO91PnP0+Nl24Sg+y\\u002f\"},\"lon\":{\"dtype\":\"f8\",\"bdata\":\"IbByaJHlU8DdJAaBlftdQFg5tMh2HmFA\"},\"marker\":{\"color\":{\"dtype\":\"f8\",\"bdata\":\"AAAAAAAA8D8AAAAAAADwPwAAAAAAAPA\\u002f\"},\"size\":15,\"coloraxis\":\"coloraxis\"},\"text\":[\"PERU\\u003cbr\\u003eSchade: 1.0 M$\",\"INDONESIA\\u003cbr\\u003eSchade: 1.0 M$\",\"INDONESIA\\u003cbr\\u003eSchade: 1.0 M$\"],\"type\":\"scattergeo\"},{\"line\":{\"color\":\"lightblue\",\"width\":20},\"mode\":\"lines\",\"showlegend\":false,\"x\":[0,214.87],\"xaxis\":\"x2\",\"y\":[0,0],\"yaxis\":\"y2\",\"type\":\"scatter\"},{\"marker\":{\"color\":\"blue\",\"size\":30},\"mode\":\"markers\",\"showlegend\":false,\"x\":[140.25],\"xaxis\":\"x2\",\"y\":[0],\"yaxis\":\"y2\",\"type\":\"scatter\"}],\"name\":\"1996\"},{\"data\":[{\"lat\":{\"dtype\":\"f8\",\"bdata\":\"JQaBlUOLB8DFILByaJEAwA==\"},\"lon\":{\"dtype\":\"f8\",\"bdata\":\"tMh2vp\\u002fSYUAbL90kBjlfQA==\"},\"marker\":{\"color\":{\"dtype\":\"f8\",\"bdata\":\"AAAAAAAAFEAAAAAAAAA5QA==\"},\"size\":15,\"coloraxis\":\"coloraxis\"},\"text\":[\"PAPUA NEW GUINEA\\u003cbr\\u003eSchade: 5.0 M$\",\"INDONESIA\\u003cbr\\u003eSchade: 25.0 M$\"],\"type\":\"scattergeo\"},{\"line\":{\"color\":\"lightblue\",\"width\":20},\"mode\":\"lines\",\"showlegend\":false,\"x\":[0,214.87],\"xaxis\":\"x2\",\"y\":[0,0],\"yaxis\":\"y2\",\"type\":\"scatter\"},{\"marker\":{\"color\":\"blue\",\"size\":30},\"mode\":\"markers\",\"showlegend\":false,\"x\":[147.51],\"xaxis\":\"x2\",\"y\":[0],\"yaxis\":\"y2\",\"type\":\"scatter\"}],\"name\":\"1998\"},{\"data\":[{\"lat\":{\"dtype\":\"f8\",\"bdata\":\"PzVeuklsMMA=\"},\"lon\":{\"dtype\":\"f8\",\"bdata\":\"AyuHFtkGZUA=\"},\"marker\":{\"color\":{\"dtype\":\"f8\",\"bdata\":\"AAAAAAAAFEA=\"},\"size\":15,\"coloraxis\":\"coloraxis\"},\"text\":[\"VANUATU\\u003cbr\\u003eSchade: 5.0 M$\"],\"type\":\"scattergeo\"},{\"line\":{\"color\":\"lightblue\",\"width\":20},\"mode\":\"lines\",\"showlegend\":false,\"x\":[0,214.87],\"xaxis\":\"x2\",\"y\":[0,0],\"yaxis\":\"y2\",\"type\":\"scatter\"},{\"marker\":{\"color\":\"blue\",\"size\":30},\"mode\":\"markers\",\"showlegend\":false,\"x\":[150.84],\"xaxis\":\"x2\",\"y\":[0],\"yaxis\":\"y2\",\"type\":\"scatter\"}],\"name\":\"1999\"},{\"data\":[{\"lat\":{\"dtype\":\"f8\",\"bdata\":\"Gy\\u002fdJAYBEMCuR+F6FK7xvw==\"},\"lon\":{\"dtype\":\"f8\",\"bdata\":\"WDm0yHYKY0DpJjEIrOReQA==\"},\"marker\":{\"color\":{\"dtype\":\"f8\",\"bdata\":\"AAAAAAAA8D8AAAAAAAA5QA==\"},\"size\":15,\"coloraxis\":\"coloraxis\"},\"text\":[\"PAPUA NEW GUINEA\\u003cbr\\u003eSchade: 1.0 M$\",\"INDONESIA\\u003cbr\\u003eSchade: 25.0 M$\"],\"type\":\"scattergeo\"},{\"line\":{\"color\":\"lightblue\",\"width\":20},\"mode\":\"lines\",\"showlegend\":false,\"x\":[0,214.87],\"xaxis\":\"x2\",\"y\":[0,0],\"yaxis\":\"y2\",\"type\":\"scatter\"},{\"marker\":{\"color\":\"blue\",\"size\":30},\"mode\":\"markers\",\"showlegend\":false,\"x\":[151.8],\"xaxis\":\"x2\",\"y\":[0],\"yaxis\":\"y2\",\"type\":\"scatter\"}],\"name\":\"2000\"},{\"data\":[{\"lat\":{\"dtype\":\"f8\",\"bdata\":\"pHA9CtdDMMAMAiuHFhkqQA==\"},\"lon\":{\"dtype\":\"f8\",\"bdata\":\"Gy\\u002fdJAZpUsAK16NwPSpWwA==\"},\"marker\":{\"color\":{\"dtype\":\"f8\",\"bdata\":\"AAAAAAAAOUAAAAAAAAA5QA==\"},\"size\":15,\"coloraxis\":\"coloraxis\"},\"text\":[\"PERU\\u003cbr\\u003eSchade: 25.0 M$\",\"EL SALVADOR\\u003cbr\\u003eSchade: 25.0 M$\"],\"type\":\"scattergeo\"},{\"line\":{\"color\":\"lightblue\",\"width\":20},\"mode\":\"lines\",\"showlegend\":false,\"x\":[0,214.87],\"xaxis\":\"x2\",\"y\":[0,0],\"yaxis\":\"y2\",\"type\":\"scatter\"},{\"marker\":{\"color\":\"blue\",\"size\":30},\"mode\":\"markers\",\"showlegend\":false,\"x\":[156.89],\"xaxis\":\"x2\",\"y\":[0],\"yaxis\":\"y2\",\"type\":\"scatter\"}],\"name\":\"2001\"},{\"data\":[{\"lat\":{\"dtype\":\"f8\",\"bdata\":\"6SYxCKwc\\u002fL\\u002ffT42XbhIqQBSuR+F6FArAgZVDi2xHOEA=\"},\"lon\":{\"dtype\":\"f8\",\"bdata\":\"L90kBoHJYEAxCKwcWkRXQK5H4XoU3mFA+n5qvHSLXkA=\"},\"marker\":{\"color\":{\"dtype\":\"f8\",\"bdata\":\"AAAAAAAAFEAAAAAAAADwPwAAAAAAABRAAAAAAAAA8D8=\"},\"size\":15,\"coloraxis\":\"coloraxis\"},\"text\":[\"INDONESIA\\u003cbr\\u003eSchade: 5.0 M$\",\"INDIA\\u003cbr\\u003eSchade: 1.0 M$\",\"PAPUA NEW GUINEA\\u003cbr\\u003eSchade: 5.0 M$\",\"TAIWAN\\u003cbr\\u003eSchade: 1.0 M$\"],\"type\":\"scattergeo\"},{\"line\":{\"color\":\"lightblue\",\"width\":20},\"mode\":\"lines\",\"showlegend\":false,\"x\":[0,214.87],\"xaxis\":\"x2\",\"y\":[0,0],\"yaxis\":\"y2\",\"type\":\"scatter\"},{\"marker\":{\"color\":\"blue\",\"size\":30},\"mode\":\"markers\",\"showlegend\":false,\"x\":[159.67],\"xaxis\":\"x2\",\"y\":[0],\"yaxis\":\"y2\",\"type\":\"scatter\"}],\"name\":\"2002\"},{\"data\":[{\"lat\":{\"dtype\":\"f8\",\"bdata\":\"CKwcWmR7QkCF61G4HsUyQNV46SYxeEJA\"},\"lon\":{\"dtype\":\"f8\",\"bdata\":\"30+Nl24SDUAtsp3vpwZawDq0yHa+nwxA\"},\"marker\":{\"color\":{\"dtype\":\"f8\",\"bdata\":\"AAAAAAAAOUAAAAAAAAAUQAAAAAAAAPA\\u002f\"},\"size\":15,\"coloraxis\":\"coloraxis\"},\"text\":[\"ALGERIA\\u003cbr\\u003eSchade: 25.0 M$\",\"MEXICO\\u003cbr\\u003eSchade: 5.0 M$\",\"ALGERIA\\u003cbr\\u003eSchade: 1.0 M$\"],\"type\":\"scattergeo\"},{\"line\":{\"color\":\"lightblue\",\"width\":20},\"mode\":\"lines\",\"showlegend\":false,\"x\":[0,214.87],\"xaxis\":\"x2\",\"y\":[0,0],\"yaxis\":\"y2\",\"type\":\"scatter\"},{\"marker\":{\"color\":\"blue\",\"size\":30},\"mode\":\"markers\",\"showlegend\":false,\"x\":[161.5],\"xaxis\":\"x2\",\"y\":[0],\"yaxis\":\"y2\",\"type\":\"scatter\"}],\"name\":\"2003\"},{\"data\":[{\"lat\":{\"dtype\":\"f8\",\"bdata\":\"u0kMAiuHCkDo+6nx0k0gwA==\"},\"lon\":{\"dtype\":\"f8\",\"bdata\":\"LbKd76f2V0BkO99PjTdfQA==\"},\"marker\":{\"color\":{\"dtype\":\"f8\",\"bdata\":\"AAAAAAAAOUAAAAAAAAAUQA==\"},\"size\":15,\"coloraxis\":\"coloraxis\"},\"text\":[\"INDONESIA\\u003cbr\\u003eSchade: 25.0 M$\",\"INDONESIA\\u003cbr\\u003eSchade: 5.0 M$\"],\"type\":\"scattergeo\"},{\"line\":{\"color\":\"lightblue\",\"width\":20},\"mode\":\"lines\",\"showlegend\":false,\"x\":[0,214.87],\"xaxis\":\"x2\",\"y\":[0,0],\"yaxis\":\"y2\",\"type\":\"scatter\"},{\"marker\":{\"color\":\"blue\",\"size\":30},\"mode\":\"markers\",\"showlegend\":false,\"x\":[162.46],\"xaxis\":\"x2\",\"y\":[0],\"yaxis\":\"y2\",\"type\":\"scatter\"}],\"name\":\"2004\"},{\"data\":[{\"lat\":{\"dtype\":\"f8\",\"bdata\":\"rkfhehSuAEA=\"},\"lon\":{\"dtype\":\"f8\",\"bdata\":\"9P3UeOlGWEA=\"},\"marker\":{\"color\":{\"dtype\":\"f8\",\"bdata\":\"AAAAAAAAOUA=\"},\"size\":15,\"coloraxis\":\"coloraxis\"},\"text\":[\"INDONESIA\\u003cbr\\u003eSchade: 25.0 M$\"],\"type\":\"scattergeo\"},{\"line\":{\"color\":\"lightblue\",\"width\":20},\"mode\":\"lines\",\"showlegend\":false,\"x\":[0,214.87],\"xaxis\":\"x2\",\"y\":[0,0],\"yaxis\":\"y2\",\"type\":\"scatter\"},{\"marker\":{\"color\":\"blue\",\"size\":30},\"mode\":\"markers\",\"showlegend\":false,\"x\":[166.59],\"xaxis\":\"x2\",\"y\":[0],\"yaxis\":\"y2\",\"type\":\"scatter\"}],\"name\":\"2005\"},{\"data\":[{\"lat\":{\"dtype\":\"f8\",\"bdata\":\"NV66SQyCIsDD9Shcj8IMwAaBlUOLzDVA\"},\"lon\":{\"dtype\":\"f8\",\"bdata\":\"\\u002fKnx0k3aWkAEVg4tss1fQF66SQwCI15A\"},\"marker\":{\"color\":{\"dtype\":\"f8\",\"bdata\":\"AAAAAAAAOUAAAAAAAADwPwAAAAAAAPA\\u002f\"},\"size\":15,\"coloraxis\":\"coloraxis\"},\"text\":[\"INDONESIA\\u003cbr\\u003eSchade: 25.0 M$\",\"INDONESIA\\u003cbr\\u003eSchade: 1.0 M$\",\"CHINA\\u003cbr\\u003eSchade: 1.0 M$\"],\"type\":\"scattergeo\"},{\"line\":{\"color\":\"lightblue\",\"width\":20},\"mode\":\"lines\",\"showlegend\":false,\"x\":[0,214.87],\"xaxis\":\"x2\",\"y\":[0,0],\"yaxis\":\"y2\",\"type\":\"scatter\"},{\"marker\":{\"color\":\"blue\",\"size\":30},\"mode\":\"markers\",\"showlegend\":false,\"x\":[169.75],\"xaxis\":\"x2\",\"y\":[0],\"yaxis\":\"y2\",\"type\":\"scatter\"}],\"name\":\"2006\"},{\"data\":[{\"lat\":{\"dtype\":\"f8\",\"bdata\":\"XrpJDAKrQkDsUbgehesgwAMrhxbZjkdAKVyPwvXIQkASg8DKocUqwI2XbhKDwBHArBxaZDs\\u002fNsA=\"},\"lon\":{\"dtype\":\"f8\",\"bdata\":\"iUFg5dASYUDEILByaKFjQKjGSzeJuWFAne+nxktPYUA830+NlyZTwHNoke18V1lAKVyPwvV4UcA=\"},\"marker\":{\"color\":{\"dtype\":\"f8\",\"bdata\":\"AAAAAAAAFEAAAAAAAAAUQAAAAAAAAPA\\u002fAAAAAAAAFEAAAAAAAAA5QAAAAAAAABRAAAAAAAAAFEA=\"},\"size\":15,\"coloraxis\":\"coloraxis\"},\"text\":[\"JAPAN\\u003cbr\\u003eSchade: 5.0 M$\",\"SOLOMON ISLANDS\\u003cbr\\u003eSchade: 5.0 M$\",\"RUSSIA\\u003cbr\\u003eSchade: 1.0 M$\",\"JAPAN\\u003cbr\\u003eSchade: 5.0 M$\",\"PERU\\u003cbr\\u003eSchade: 25.0 M$\",\"INDONESIA\\u003cbr\\u003eSchade: 5.0 M$\",\"CHILE\\u003cbr\\u003eSchade: 5.0 M$\"],\"type\":\"scattergeo\"},{\"line\":{\"color\":\"lightblue\",\"width\":20},\"mode\":\"lines\",\"showlegend\":false,\"x\":[0,214.87],\"xaxis\":\"x2\",\"y\":[0,0],\"yaxis\":\"y2\",\"type\":\"scatter\"},{\"marker\":{\"color\":\"blue\",\"size\":30},\"mode\":\"markers\",\"showlegend\":false,\"x\":[173.75],\"xaxis\":\"x2\",\"y\":[0],\"yaxis\":\"y2\",\"type\":\"scatter\"}],\"name\":\"2007\"},{\"data\":[{\"lat\":{\"dtype\":\"f8\",\"bdata\":\"jZduEoMAP0A=\"},\"lon\":{\"dtype\":\"f8\",\"bdata\":\"+FPjpZvUWUA=\"},\"marker\":{\"color\":{\"dtype\":\"f8\",\"bdata\":\"AAAAAAAAOUA=\"},\"size\":15,\"coloraxis\":\"coloraxis\"},\"text\":[\"CHINA\\u003cbr\\u003eSchade: 25.0 M$\"],\"type\":\"scattergeo\"},{\"line\":{\"color\":\"lightblue\",\"width\":20},\"mode\":\"lines\",\"showlegend\":false,\"x\":[0,214.87],\"xaxis\":\"x2\",\"y\":[0,0],\"yaxis\":\"y2\",\"type\":\"scatter\"},{\"marker\":{\"color\":\"blue\",\"size\":30},\"mode\":\"markers\",\"showlegend\":false,\"x\":[178.11],\"xaxis\":\"x2\",\"y\":[0],\"yaxis\":\"y2\",\"type\":\"scatter\"}],\"name\":\"2008\"},{\"data\":[{\"lat\":{\"dtype\":\"f8\",\"bdata\":\"uB6F61G4MEAK16NwPQrnv8l2vp8aX0FA\"},\"lon\":{\"dtype\":\"f8\",\"bdata\":\"yXa+nxqPVcBzaJHtfPdYQJzEILBySGFA\"},\"marker\":{\"color\":{\"dtype\":\"f8\",\"bdata\":\"AAAAAAAA8D8AAAAAAAA5QAAAAAAAABRA\"},\"size\":15,\"coloraxis\":\"coloraxis\"},\"text\":[\"HONDURAS\\u003cbr\\u003eSchade: 1.0 M$\",\"INDONESIA\\u003cbr\\u003eSchade: 25.0 M$\",\"JAPAN\\u003cbr\\u003eSchade: 5.0 M$\"],\"type\":\"scattergeo\"},{\"line\":{\"color\":\"lightblue\",\"width\":20},\"mode\":\"lines\",\"showlegend\":false,\"x\":[0,214.87],\"xaxis\":\"x2\",\"y\":[0,0],\"yaxis\":\"y2\",\"type\":\"scatter\"},{\"marker\":{\"color\":\"blue\",\"size\":30},\"mode\":\"markers\",\"showlegend\":false,\"x\":[183.54],\"xaxis\":\"x2\",\"y\":[0],\"yaxis\":\"y2\",\"type\":\"scatter\"}],\"name\":\"2009\"},{\"data\":[{\"lat\":{\"dtype\":\"f8\",\"bdata\":\"okW28\\u002f10MkCq8dJNYpAiwEw3iUFg5QvA\"},\"lon\":{\"dtype\":\"f8\",\"bdata\":\"JzEIrBwiUsDhehSuR2lTwGiR7Xw\\u002fBVlA\"},\"marker\":{\"color\":{\"dtype\":\"f8\",\"bdata\":\"AAAAAAAAOUAAAAAAAADwPwAAAAAAADlA\"},\"size\":15,\"coloraxis\":\"coloraxis\"},\"text\":[\"HAITI\\u003cbr\\u003eSchade: 25.0 M$\",\"PERU\\u003cbr\\u003eSchade: 1.0 M$\",\"INDONESIA\\u003cbr\\u003eSchade: 25.0 M$\"],\"type\":\"scattergeo\"},{\"line\":{\"color\":\"lightblue\",\"width\":20},\"mode\":\"lines\",\"showlegend\":false,\"x\":[0,214.87],\"xaxis\":\"x2\",\"y\":[0,0],\"yaxis\":\"y2\",\"type\":\"scatter\"},{\"marker\":{\"color\":\"blue\",\"size\":30},\"mode\":\"markers\",\"showlegend\":false,\"x\":[188.42],\"xaxis\":\"x2\",\"y\":[0],\"yaxis\":\"y2\",\"type\":\"scatter\"}],\"name\":\"2010\"},{\"data\":[{\"lat\":{\"dtype\":\"f8\",\"bdata\":\"vHSTGAQmQ0A=\"},\"lon\":{\"dtype\":\"f8\",\"bdata\":\"lkOLbOfLYUA=\"},\"marker\":{\"color\":{\"dtype\":\"f8\",\"bdata\":\"AAAAAAAAOUA=\"},\"size\":15,\"coloraxis\":\"coloraxis\"},\"text\":[\"JAPAN\\u003cbr\\u003eSchade: 25.0 M$\"],\"type\":\"scattergeo\"},{\"line\":{\"color\":\"lightblue\",\"width\":20},\"mode\":\"lines\",\"showlegend\":false,\"x\":[0,214.87],\"xaxis\":\"x2\",\"y\":[0,0],\"yaxis\":\"y2\",\"type\":\"scatter\"},{\"marker\":{\"color\":\"blue\",\"size\":30},\"mode\":\"markers\",\"showlegend\":false,\"x\":[190.6],\"xaxis\":\"x2\",\"y\":[0],\"yaxis\":\"y2\",\"type\":\"scatter\"}],\"name\":\"2011\"},{\"data\":[{\"lat\":{\"dtype\":\"f8\",\"bdata\":\"ke18PzV+MECsHFpkO58lQOxRuB6FKyRAYOXQItv5K0A=\"},\"lon\":{\"dtype\":\"f8\",\"bdata\":\"EFg5tMiOWMBGtvP91KhfQFyPwvUoVFXA4XoUrkf5VsA=\"},\"marker\":{\"color\":{\"dtype\":\"f8\",\"bdata\":\"AAAAAAAAFEAAAAAAAADwPwAAAAAAAPA\\u002fAAAAAAAAFEA=\"},\"size\":15,\"coloraxis\":\"coloraxis\"},\"text\":[\"MEXICO\\u003cbr\\u003eSchade: 5.0 M$\",\"PHILIPPINES\\u003cbr\\u003eSchade: 1.0 M$\",\"COSTA RICA\\u003cbr\\u003eSchade: 1.0 M$\",\"GUATEMALA\\u003cbr\\u003eSchade: 5.0 M$\"],\"type\":\"scattergeo\"},{\"line\":{\"color\":\"lightblue\",\"width\":20},\"mode\":\"lines\",\"showlegend\":false,\"x\":[0,214.87],\"xaxis\":\"x2\",\"y\":[0,0],\"yaxis\":\"y2\",\"type\":\"scatter\"},{\"marker\":{\"color\":\"blue\",\"size\":30},\"mode\":\"markers\",\"showlegend\":false,\"x\":[194.64],\"xaxis\":\"x2\",\"y\":[0],\"yaxis\":\"y2\",\"type\":\"scatter\"}],\"name\":\"2012\"},{\"data\":[{\"lat\":{\"dtype\":\"f8\",\"bdata\":\"1HjpJjGIJcCuR+F6FC45QA==\"},\"lon\":{\"dtype\":\"f8\",\"bdata\":\"z\\u002fdT46WjZEDhehSuRyFPQA==\"},\"marker\":{\"color\":{\"dtype\":\"f8\",\"bdata\":\"AAAAAAAA8D8AAAAAAAA5QA==\"},\"size\":15,\"coloraxis\":\"coloraxis\"},\"text\":[\"SOLOMON ISLANDS\\u003cbr\\u003eSchade: 1.0 M$\",\"PAKISTAN\\u003cbr\\u003eSchade: 25.0 M$\"],\"type\":\"scattergeo\"},{\"line\":{\"color\":\"lightblue\",\"width\":20},\"mode\":\"lines\",\"showlegend\":false,\"x\":[0,214.87],\"xaxis\":\"x2\",\"y\":[0,0],\"yaxis\":\"y2\",\"type\":\"scatter\"},{\"marker\":{\"color\":\"blue\",\"size\":30},\"mode\":\"markers\",\"showlegend\":false,\"x\":[197.96],\"xaxis\":\"x2\",\"y\":[0],\"yaxis\":\"y2\",\"type\":\"scatter\"}],\"name\":\"2013\"},{\"data\":[{\"lat\":{\"dtype\":\"f8\",\"bdata\":\"WmQ7308NKUA=\"},\"lon\":{\"dtype\":\"f8\",\"bdata\":\"HFpkO98HVsA=\"},\"marker\":{\"color\":{\"dtype\":\"f8\",\"bdata\":\"AAAAAAAA8D8=\"},\"size\":15,\"coloraxis\":\"coloraxis\"},\"text\":[\"EL SALVADOR\\u003cbr\\u003eSchade: 1.0 M$\"],\"type\":\"scattergeo\"},{\"line\":{\"color\":\"lightblue\",\"width\":20},\"mode\":\"lines\",\"showlegend\":false,\"x\":[0,214.87],\"xaxis\":\"x2\",\"y\":[0,0],\"yaxis\":\"y2\",\"type\":\"scatter\"},{\"marker\":{\"color\":\"blue\",\"size\":30},\"mode\":\"markers\",\"showlegend\":false,\"x\":[201.48],\"xaxis\":\"x2\",\"y\":[0],\"yaxis\":\"y2\",\"type\":\"scatter\"}],\"name\":\"2014\"},{\"data\":[{\"lat\":{\"dtype\":\"f8\",\"bdata\":\"ppvEILCSP8D2KFyPwlVDQA==\"},\"lon\":{\"dtype\":\"f8\",\"bdata\":\"QWDl0CLrUcCamZmZmZk0QA==\"},\"marker\":{\"color\":{\"dtype\":\"f8\",\"bdata\":\"AAAAAAAAOUAAAAAAAADwPw==\"},\"size\":15,\"coloraxis\":\"coloraxis\"},\"text\":[\"CHILE\\u003cbr\\u003eSchade: 25.0 M$\",\"GREECE\\u003cbr\\u003eSchade: 1.0 M$\"],\"type\":\"scattergeo\"},{\"line\":{\"color\":\"lightblue\",\"width\":20},\"mode\":\"lines\",\"showlegend\":false,\"x\":[0,214.87],\"xaxis\":\"x2\",\"y\":[0,0],\"yaxis\":\"y2\",\"type\":\"scatter\"},{\"marker\":{\"color\":\"blue\",\"size\":30},\"mode\":\"markers\",\"showlegend\":false,\"x\":[203.52],\"xaxis\":\"x2\",\"y\":[0],\"yaxis\":\"y2\",\"type\":\"scatter\"}],\"name\":\"2015\"},{\"data\":[{\"lat\":{\"dtype\":\"f8\",\"bdata\":\"ZmZmZmZm1j91kxgEVl5FwOkmMQisXCXA\"},\"lon\":{\"dtype\":\"f8\",\"bdata\":\"CtejcD0KVMB9PzVeuqFlQFg5tMh2KmRA\"},\"marker\":{\"color\":{\"dtype\":\"f8\",\"bdata\":\"AAAAAAAAOUAAAAAAAAA5QAAAAAAAAPA\\u002f\"},\"size\":15,\"coloraxis\":\"coloraxis\"},\"text\":[\"ECUADOR\\u003cbr\\u003eSchade: 25.0 M$\",\"NEW ZEALAND\\u003cbr\\u003eSchade: 25.0 M$\",\"SOLOMON ISLANDS\\u003cbr\\u003eSchade: 1.0 M$\"],\"type\":\"scattergeo\"},{\"line\":{\"color\":\"lightblue\",\"width\":20},\"mode\":\"lines\",\"showlegend\":false,\"x\":[0,214.87],\"xaxis\":\"x2\",\"y\":[0,0],\"yaxis\":\"y2\",\"type\":\"scatter\"},{\"marker\":{\"color\":\"blue\",\"size\":30},\"mode\":\"markers\",\"showlegend\":false,\"x\":[205.87],\"xaxis\":\"x2\",\"y\":[0],\"yaxis\":\"y2\",\"type\":\"scatter\"}],\"name\":\"2016\"},{\"data\":[{\"lat\":{\"dtype\":\"f8\",\"bdata\":\"lkOLbOf7GMD2KFyPwtU7QHnpJjEI9FFA9P3UeOl2QkDXo3A9CndDQBKDwMqhhS1A\"},\"lon\":{\"dtype\":\"f8\",\"bdata\":\"L90kBoFlY0C4HoXrUfhJQEa28\\u002f3USErARIts5\\u002ftpO0A9CtejcF06QDvfT42XhlfA\"},\"marker\":{\"color\":{\"dtype\":\"f8\",\"bdata\":\"AAAAAAAA8D8AAAAAAAAUQAAAAAAAAPA\\u002fAAAAAAAA8D8AAAAAAADwPwAAAAAAADlA\"},\"size\":15,\"coloraxis\":\"coloraxis\"},\"text\":[\"PAPUA NEW GUINEA\\u003cbr\\u003eSchade: 1.0 M$\",\"IRAN\\u003cbr\\u003eSchade: 5.0 M$\",\"GREENLAND\\u003cbr\\u003eSchade: 1.0 M$\",\"TURKEY\\u003cbr\\u003eSchade: 1.0 M$\",\"GREECE\\u003cbr\\u003eSchade: 1.0 M$\",\"MEXICO\\u003cbr\\u003eSchade: 25.0 M$\"],\"type\":\"scattergeo\"},{\"line\":{\"color\":\"lightblue\",\"width\":20},\"mode\":\"lines\",\"showlegend\":false,\"x\":[0,214.87],\"xaxis\":\"x2\",\"y\":[0,0],\"yaxis\":\"y2\",\"type\":\"scatter\"},{\"marker\":{\"color\":\"blue\",\"size\":30},\"mode\":\"markers\",\"showlegend\":false,\"x\":[207.38000000000002],\"xaxis\":\"x2\",\"y\":[0],\"yaxis\":\"y2\",\"type\":\"scatter\"}],\"name\":\"2017\"},{\"data\":[{\"lat\":{\"dtype\":\"f8\",\"bdata\":\"bef7qfGSIMBiEFg5tMjGv5zEILByaBjA\"},\"lon\":{\"dtype\":\"f8\",\"bdata\":\"sHJoke0cXUD2KFyPwvVdQFCNl24SW1pA\"},\"marker\":{\"color\":{\"dtype\":\"f8\",\"bdata\":\"AAAAAAAAOUAAAAAAAAA5QAAAAAAAADlA\"},\"size\":15,\"coloraxis\":\"coloraxis\"},\"text\":[\"INDONESIA\\u003cbr\\u003eSchade: 25.0 M$\",\"INDONESIA\\u003cbr\\u003eSchade: 25.0 M$\",\"INDONESIA\\u003cbr\\u003eSchade: 25.0 M$\"],\"type\":\"scattergeo\"},{\"line\":{\"color\":\"lightblue\",\"width\":20},\"mode\":\"lines\",\"showlegend\":false,\"x\":[0,214.87],\"xaxis\":\"x2\",\"y\":[0,0],\"yaxis\":\"y2\",\"type\":\"scatter\"},{\"marker\":{\"color\":\"blue\",\"size\":30},\"mode\":\"markers\",\"showlegend\":false,\"x\":[210.62],\"xaxis\":\"x2\",\"y\":[0],\"yaxis\":\"y2\",\"type\":\"scatter\"}],\"name\":\"2018\"},{\"data\":[{\"lat\":{\"dtype\":\"f8\",\"bdata\":\"0SLb+X7qMUA=\"},\"lon\":{\"dtype\":\"f8\",\"bdata\":\"eekmMQi0UMA=\"},\"marker\":{\"color\":{\"dtype\":\"f8\",\"bdata\":\"AAAAAAAAOUA=\"},\"size\":15,\"coloraxis\":\"coloraxis\"},\"text\":[\"USA TERRITORY\\u003cbr\\u003eSchade: 25.0 M$\"],\"type\":\"scattergeo\"},{\"line\":{\"color\":\"lightblue\",\"width\":20},\"mode\":\"lines\",\"showlegend\":false,\"x\":[0,214.87],\"xaxis\":\"x2\",\"y\":[0,0],\"yaxis\":\"y2\",\"type\":\"scatter\"},{\"marker\":{\"color\":\"blue\",\"size\":30},\"mode\":\"markers\",\"showlegend\":false,\"x\":[214.87],\"xaxis\":\"x2\",\"y\":[0],\"yaxis\":\"y2\",\"type\":\"scatter\"}],\"name\":\"2020\"}]);\n",
       "                        }).then(function(){\n",
       "                            \n",
       "var gd = document.getElementById('a59f7143-8f1c-4be4-9f7d-7fd8a2e4e711');\n",
       "var x = new MutationObserver(function (mutations, observer) {{\n",
       "        var display = window.getComputedStyle(gd).display;\n",
       "        if (!display || display === 'none') {{\n",
       "            console.log([gd, 'removed!']);\n",
       "            Plotly.purge(gd);\n",
       "            observer.disconnect();\n",
       "        }}\n",
       "}});\n",
       "\n",
       "// Listen for the removal of the full notebook cells\n",
       "var notebookContainer = gd.closest('#notebook-container');\n",
       "if (notebookContainer) {{\n",
       "    x.observe(notebookContainer, {childList: true});\n",
       "}}\n",
       "\n",
       "// Listen for the clearing of the current output cell\n",
       "var outputEl = gd.closest('.output');\n",
       "if (outputEl) {{\n",
       "    x.observe(outputEl, {childList: true});\n",
       "}}\n",
       "\n",
       "                        })                };            </script>        </div>"
      ]
     },
     "metadata": {},
     "output_type": "display_data"
    }
   ],
   "source": [
    "import pandas as pd\n",
    "import plotly.graph_objects as go\n",
    "import re\n",
    "\n",
    "# Data inladen\n",
    "tsunami_df = pd.read_csv(\"tsunami_dataset.csv\")\n",
    "sea_level_df = pd.read_csv(\"Global_sea_level_rise.csv\")\n",
    "\n",
    "# Schoonmaken tsunami data\n",
    "tsunami_df = tsunami_df[['YEAR', 'DAMAGE_TOTAL_DESCRIPTION', 'COUNTRY', 'LONGITUDE', 'LATITUDE','DEATHS_TOTAL_DESCRIPTION', 'HOUSES_TOTAL_DESCRIPTION']].dropna()\n",
    "tsunami_df['YEAR'] = tsunami_df['YEAR'].astype(int)\n",
    "\n",
    "# Schoonmaken zeespiegel data\n",
    "sea_level_df = sea_level_df.rename(columns={'year': 'Year', 'mmfrom1993-2008average': 'Sea_Level_Change_mm'})\n",
    "sea_level_df['Year'] = sea_level_df['Year'].astype(int)\n",
    "sea_level_df = sea_level_df.sort_values('Year')\n",
    "\n",
    "# Baseline 1900 bepalen\n",
    "if 1900 in sea_level_df['Year'].values:\n",
    "    baseline = sea_level_df.loc[sea_level_df['Year'] == 1900, 'Sea_Level_Change_mm'].values[0]\n",
    "else:\n",
    "    closest_year = sea_level_df.iloc[(sea_level_df['Year'] - 1900).abs().argsort()[:1]]['Year'].values[0]\n",
    "    baseline = sea_level_df.loc[sea_level_df['Year'] == closest_year, 'Sea_Level_Change_mm'].values[0]\n",
    "\n",
    "sea_level_df['Sea_Level_Change_mm'] = sea_level_df['Sea_Level_Change_mm'] - baseline\n",
    "\n",
    "# Zeespiegel smoothen met rolling average over 5 jaar\n",
    "sea_level_df['Sea_Level_Change_mm'] = sea_level_df['Sea_Level_Change_mm'].rolling(window=5, center=True, min_periods=1).mean()\n",
    "\n",
    "# Merge datasets en filter vanaf 1900\n",
    "merged = pd.merge(tsunami_df, sea_level_df, left_on='YEAR', right_on='Year', how='inner')\n",
    "merged = merged[merged['YEAR'] >= 1900].copy()\n",
    "\n",
    "# Schadebedrag parseren\n",
    "def parse_damage_amount(description):\n",
    "    if not isinstance(description, str):\n",
    "        return 0\n",
    "    description = description.lower().replace(\",\", \"\")\n",
    "    match = re.search(r'([\\d\\.]+)\\s*(billion|million|thousand)?', description)\n",
    "    if match:\n",
    "        amount = float(match.group(1))\n",
    "        unit = match.group(2)\n",
    "        if unit == 'billion':\n",
    "            return amount * 1_000\n",
    "        elif unit == 'million':\n",
    "            return amount\n",
    "        elif unit == 'thousand':\n",
    "            return amount / 1_000\n",
    "        else:\n",
    "            return amount\n",
    "    return 0\n",
    "\n",
    "merged['Estimated_Damage_MillionUSD'] = merged['DAMAGE_TOTAL_DESCRIPTION'].apply(parse_damage_amount).round(1)\n",
    "merged['Sea_Level_Change_mm'] = merged['Sea_Level_Change_mm'].round(2)\n",
    "\n",
    "min_sea = 0\n",
    "max_sea = merged['Sea_Level_Change_mm'].max()\n",
    "min_damage = merged['Estimated_Damage_MillionUSD'].min()\n",
    "max_damage = merged['Estimated_Damage_MillionUSD'].max()\n",
    "\n",
    "years = sorted(merged['YEAR'].unique())\n",
    "jaar_0 = years[0]\n",
    "df_year_0 = merged[merged['YEAR'] == jaar_0]\n",
    "\n",
    "# Schade-intervals instellen in stappen van 10 miljoen (of groter als nodig)\n",
    "step_size = max(10, int((max_damage - min_damage) / 10))\n",
    "schade_ticks = list(range(0, int(max_damage) + step_size, step_size))\n",
    "\n",
    "fig = go.Figure()\n",
    "\n",
    "# Wereldkaart tsunami schade (Scattergeo) met coloraxis\n",
    "fig.add_trace(go.Scattergeo(\n",
    "    lon=df_year_0['LONGITUDE'],\n",
    "    lat=df_year_0['LATITUDE'],\n",
    "    text=df_year_0['COUNTRY'] + \"<br>Schade: \" + df_year_0['Estimated_Damage_MillionUSD'].astype(str) + \" M$\",\n",
    "    marker=dict(\n",
    "        color=df_year_0['Estimated_Damage_MillionUSD'],\n",
    "        colorscale='OrRd',\n",
    "        cmin=min_damage,\n",
    "        cmax=max_damage,\n",
    "        size=15,  # bollen groter gemaakt\n",
    "        colorbar=None\n",
    "    ),\n",
    "    name='Tsunami schade',\n",
    "    hoverinfo='text'\n",
    "))\n",
    "\n",
    "# Schadekleurbalk wordt via coloraxis toegevoegd in layout\n",
    "\n",
    "# Zeespiegelbalk (lijn + bolletje)\n",
    "fig.add_trace(go.Scatter(\n",
    "    x=[min_sea, max_sea],\n",
    "    y=[0, 0],\n",
    "    mode='lines',\n",
    "    line=dict(color='lightblue', width=20),\n",
    "    showlegend=False,\n",
    "    xaxis='x2',\n",
    "    yaxis='y2'\n",
    "))\n",
    "fig.add_trace(go.Scatter(\n",
    "    x=[merged[merged['YEAR'] == jaar_0]['Sea_Level_Change_mm'].mean()],\n",
    "    y=[0],\n",
    "    mode='markers',\n",
    "    marker=dict(size=30, color='blue'),  # bollen groter gemaakt\n",
    "    showlegend=False,\n",
    "    xaxis='x2',\n",
    "    yaxis='y2'\n",
    "))\n",
    "\n",
    "# Frames voor animatie\n",
    "frames = []\n",
    "for year in years:\n",
    "    df_year = merged[merged['YEAR'] == year]\n",
    "    sea_val = df_year['Sea_Level_Change_mm'].mean()\n",
    "    frames.append(go.Frame(\n",
    "        data=[\n",
    "            go.Scattergeo(\n",
    "                lon=df_year['LONGITUDE'],\n",
    "                lat=df_year['LATITUDE'],\n",
    "                marker=dict(color=df_year['Estimated_Damage_MillionUSD'], size=15),  # bollen groter\n",
    "                text=df_year['COUNTRY'] + \"<br>Schade: \" + df_year['Estimated_Damage_MillionUSD'].astype(str) + \" M$\",\n",
    "            ),\n",
    "            go.Scatter(\n",
    "                x=[min_sea, max_sea],\n",
    "                y=[0, 0],\n",
    "                mode='lines',\n",
    "                line=dict(color='lightblue', width=20),\n",
    "                xaxis='x2',\n",
    "                yaxis='y2',\n",
    "                showlegend=False\n",
    "            ),\n",
    "            go.Scatter(\n",
    "                x=[sea_val],\n",
    "                y=[0],\n",
    "                mode='markers',\n",
    "                marker=dict(size=30, color='blue'),  # bollen groter\n",
    "                xaxis='x2',\n",
    "                yaxis='y2',\n",
    "                showlegend=False\n",
    "            )\n",
    "        ],\n",
    "        name=str(year)\n",
    "    ))\n",
    "\n",
    "fig.frames = frames\n",
    "\n",
    "# Coloraxis toewijzen aan scattergeo marker en frames\n",
    "fig['data'][0]['marker']['coloraxis'] = 'coloraxis'\n",
    "for frame in fig.frames:\n",
    "    frame.data[0]['marker']['coloraxis'] = 'coloraxis'\n",
    "\n",
    "# Layout update met kaart, coloraxis en assen voor zeespiegel en schade, netjes onder elkaar\n",
    "fig.update_layout(\n",
    "    title_text='Tsunami Schade en Zeespiegelstijging per Jaar',\n",
    "    geo=dict(\n",
    "        scope='world',\n",
    "        projection_type='equirectangular',\n",
    "        showland=True,\n",
    "        landcolor=\"rgb(240, 240, 240)\",\n",
    "        oceancolor=\"rgb(10, 10, 60)\",\n",
    "        showocean=True,\n",
    "        showcountries=True,\n",
    "        countrycolor=\"white\",\n",
    "        lonaxis_range=[-180, 180],\n",
    "        lataxis_range=[-90, 90],\n",
    "        domain=dict(x=[0, 1], y=[0.3, 1])  # kaart groter maken (lager beginnen)\n",
    "    ),\n",
    "    height=1100,  # verhoogde hoogte om alles te laten passen\n",
    "    margin=dict(t=50, b=50),\n",
    "\n",
    "    coloraxis=dict(\n",
    "        colorscale='blugrn',\n",
    "        cmin=min_damage,\n",
    "        cmax=max_damage,\n",
    "        colorbar=dict(\n",
    "            title=dict(\n",
    "                text='Schade (miljoen USD)',\n",
    "                font=dict(size=14)\n",
    "            ),\n",
    "            orientation='h',\n",
    "            yanchor='bottom',\n",
    "            y=0.15,  # lager geplaatst onder de kaart\n",
    "            xanchor='center',\n",
    "            x=0.4,\n",
    "            len=0.7,\n",
    "            tickmode='array',\n",
    "            tickvals=schade_ticks,\n",
    "            tickfont=dict(size=12)\n",
    "        )\n",
    "    ),\n",
    "\n",
    "    # Zeespiegel balk assen, lager geplaatst onder de schade-kleurbalk\n",
    "    xaxis2=dict(\n",
    "        domain=[0.15, 0.85],\n",
    "        anchor='y2',\n",
    "        range=[min_sea, max_sea],\n",
    "        title=dict(\n",
    "            text='Zeespiegelstijging (mm)',\n",
    "            font=dict(size=14)\n",
    "        ),\n",
    "        showgrid=False,\n",
    "        zeroline=False,\n",
    "        showticklabels=True,\n",
    "        tickfont=dict(size=12),\n",
    "        position=0.0,  # lager dan eerder\n",
    "        side='bottom'\n",
    "    ),\n",
    "    yaxis2=dict(\n",
    "        domain=[0.1, 0.12],  # lager dan eerder\n",
    "        anchor='x2',\n",
    "        showticklabels=False,\n",
    "        showgrid=False,\n",
    "        zeroline=False\n",
    "    ),\n",
    "\n",
    "    # Knoppen boven de slider (jaarbalk) met iconen\n",
    "    updatemenus=[dict(\n",
    "        type='buttons',\n",
    "        direction='right',\n",
    "        showactive=True,\n",
    "        x=0.1,\n",
    "        y=0.03,  # hoger dan slider, dus boven jaarbalk\n",
    "        xanchor='center',\n",
    "        yanchor='bottom',\n",
    "        pad={\"r\": 10, \"t\": 10},\n",
    "        buttons=[\n",
    "            dict(\n",
    "                method='animate',\n",
    "                args=[None, {'frame': {'duration': 600, 'redraw': True}, 'fromcurrent': True}],\n",
    "                label='▶️'\n",
    "            ),\n",
    "            dict(\n",
    "                method='animate',\n",
    "                args=[[None], {'frame': {'duration': 0, 'redraw': False}, 'mode': 'immediate'}],\n",
    "                label='⏸️'\n",
    "            )\n",
    "        ]\n",
    "    )],\n",
    "\n",
    "    # Slider (jaarbalk) iets lager dan knoppen\n",
    "    sliders=[{\n",
    "        \"currentvalue\": {\"prefix\": \"Jaar: \", \"visible\": True, \"xanchor\": \"right\"},\n",
    "        \"steps\": [{\n",
    "            \"args\": [[str(year)], {\"frame\": {\"duration\": 800, \"redraw\": True}, \"mode\": \"immediate\"}],\n",
    "            \"label\": str(year),\n",
    "            \"method\": \"animate\"\n",
    "        } for year in years],\n",
    "        \"x\": 0,\n",
    "        \"y\": 0.15,  # lager dan de knoppen\n",
    "        \"len\": 1.0,\n",
    "        \"xanchor\": \"left\",\n",
    "        \"yanchor\": \"top\",\n",
    "        \"pad\": {\"b\": 10, \"t\": 50},\n",
    "    }]\n",
    ")\n",
    "\n",
    "fig.show()\n"
   ]
  },
  {
   "cell_type": "markdown",
   "id": "806ed10f-1212-4802-a5d1-be8f3bdff648",
   "metadata": {},
   "source": [
    "Op de wereldkaart is te zien dat de zwaarst getroffen gebieden zich vooral bevinden in kustregio’s zoals Zuidoost-Azië. Deze gebieden zijn vaak laaggelegen, dichtbevolkt en economisch kwetsbaar. Juist in zulke regio’s kan een relatief kleine verandering in zeeniveau grote gevolgen hebben. De kaart laat zien dat waar dit risico het grootst is, de schade ook het meest geconcentreerd voorkomt. Naarmate de zeespiegel stijgt, en de jaren toenemen, wordt de schade van tsunami's (in USD) steeds hoger.\n",
    "Ook in Plot 3 wordt duidelijk hoe de financiële schade van tsunami’s door de jaren heen is toegenomen. In deze visualisatie zijn de jaarlijkse schadebedragen in USD weergegeven, waarbij opvalt dat vooral in de meer recente jaren de economische impact aanzienlijk hoger ligt. De extreem hoge schadebedragen van de tsunami’s in 2004 en 2011 zijn uit de grafiek verwijderd, omdat deze uitschieters de schaal zo beïnvloedden dat de overige gegevens minder goed zichtbaar werden."
   ]
  },
  {
   "cell_type": "code",
   "execution_count": 17,
   "id": "cf040d19-bb3d-4e11-bc61-43c7168fa9aa",
   "metadata": {
    "editable": true,
    "jupyter": {
     "source_hidden": true
    },
    "slideshow": {
     "slide_type": ""
    },
    "tags": [
     "hide-input"
    ]
   },
   "outputs": [
    {
     "data": {
      "application/vnd.plotly.v1+json": {
       "config": {
        "plotlyServerURL": "https://plot.ly"
       },
       "data": [
        {
         "customdata": {
          "bdata": "AgIBAQICBAICAgIEAwMBAQIDAwEEBQIDAQMCAQIBAgMGAgQBAQEBAwECAgIBAQQBAgICAgECBAIEAwMGAwMCAQEDAQIFAQIDAgEBAQEBAgIDBQMCAQICBAMCAQMHAQMDAQQCAQIDBgMB",
          "dtype": "i1"
         },
         "hovertemplate": "<b>Jaar:</b> %{x}<br><b>Gem. schade:</b> %{y:.2f} mln USD<br><b>Aantal tsunami’s:</b> %{customdata}<br><b>Gem. zeespiegelstijging:</b> %{text:.2f} mm<br>",
         "marker": {
          "color": {
           "bdata": "AAAAAAAACEAAAAAAAAAIQAAAAAAAABRAAAAAAAAA8D8AAAAAAAAqQAAAAAAAABRAAAAAAAAAIEAAAAAAAAAqQAAAAAAAABRAAAAAAAAAFEAAAAAAAAAIQAAAAAAAAAhAAAAAAAAA8D+rqqqqqqokQAAAAAAAAPA/AAAAAAAAFEAAAAAAAAAIQKuqqqqqqiRAq6qqqqqqAkAAAAAAAADwPwAAAAAAACxAZmZmZmZmKEAAAAAAAAAUQFVVVVVVVQ1AAAAAAAAAFEBVVVVVVVUnQAAAAAAAAC5AAAAAAAAAOUAAAAAAAAAqQAAAAAAAAPA/AAAAAAAACECrqqqqqqoCQKuqqqqqqhZAAAAAAAAACEAAAAAAAAAcQAAAAAAAABRAAAAAAAAA8D8AAAAAAAAUQAAAAAAAADlAVVVVVVVVMkAAAAAAAAA5QAAAAAAAAAhAAAAAAAAAKkAAAAAAAAAIQAAAAAAAABRAAAAAAAAAFEAAAAAAAAAcQAAAAAAAABRAAAAAAAAAKkAAAAAAAAAuQAAAAAAAAPA/AAAAAAAAOUAAAAAAAADwPwAAAAAAAPA/AAAAAAAAAEAAAAAAAAA5QAAAAAAAAAhAAAAAAAAAIkCrqqqqqqoCQAAAAAAAABxAVVVVVVVVDUAAAAAAAAAiQAAAAAAAACpAAAAAAAAA8D8AAAAAAADwP6uqqqqqqgJAAAAAAAAA8D8AAAAAAAAuQAAAAAAAACpAAAAAAAAAOUAAAAAAAAAqQAAAAAAAACJAAAAAAAAAOUAAAAAAAADwPwAAAAAAAPA/AAAAAAAAOUAAAAAAAAA5QAAAAAAAADlAAAAAAAAAOUAAAAAAAAAqQAAAAAAAACJAMzMzMzMzF0AAAAAAAADwPwAAAAAAAC5AAAAAAAAAFEAAAAAAAAAqQAAAAAAAADlAAAAAAAAACECrqqqqqqokQAAAAAAAAC5AAAAAAAAAOUAAAAAAAAAiQEmSJEmSJB1AAAAAAAAAOUCrqqqqqqokQAAAAAAAADFAAAAAAAAAOUAAAAAAAAAIQAAAAAAAACpAAAAAAAAA8D8AAAAAAAAqQAAAAAAAADFAq6qqqqqqFkAAAAAAAAA5QAAAAAAAADlA",
           "dtype": "f8"
          },
          "colorbar": {
           "len": 0.9,
           "title": {
            "text": "Schade (mln USD)"
           },
           "x": 1.125,
           "xanchor": "left",
           "y": 0.425,
           "yanchor": "middle"
          },
          "colorscale": [
           [
            0,
            "rgb(196, 230, 195)"
           ],
           [
            0.16666666666666666,
            "rgb(150, 210, 164)"
           ],
           [
            0.3333333333333333,
            "rgb(109, 188, 144)"
           ],
           [
            0.5,
            "rgb(77, 162, 132)"
           ],
           [
            0.6666666666666666,
            "rgb(54, 135, 122)"
           ],
           [
            0.8333333333333334,
            "rgb(38, 107, 110)"
           ],
           [
            1,
            "rgb(29, 79, 96)"
           ]
          ],
          "showscale": true
         },
         "name": "",
         "showlegend": false,
         "text": {
          "bdata": "XI/C9ShcAcBI4XoUrkf5P4XrUbgehfc/rkfhehSu7z/NzMzMzMwQQDMzMzMzM/8/cT0K16Nw/T+uR+F6FK4LQDMzMzMzMxJAcT0K16NwHUAK16NwPYomQK5H4XoULilA7FG4HoUrMkDsUbgeheszQLgehetR+DRA4XoUrkchNUCF61G4HkU0QMP1KFyPAjJAmpmZmZnZM0B7FK5H4fozQPYoXI/C9TVAUrgehesROUC4HoXrUfg4QD0K16NwfTlAhetRuB5FO0AfhetRuJ47QFK4HoXrkTxA9ihcj8L1PEDD9ShcjwI+QDMzMzMzsz1Aj8L1KFxvQUD2KFyPwhVBQD0K16NwfUNA9ihcj8JVRUD2KFyPwhVHQArXo3A9ikVApHA9CtdDR0BSuB6F6xFIQLgehetReEhAcT0K16OwSUC4HoXrUdhLQIXrUbgeJU1ArkfhehQuTkCamZmZmXlPQAAAAAAAkFBAj8L1KFz/UEDD9ShcjzJRQOxRuB6F+1BAexSuR+G6UUA9CtejcK1SQBSuR+F6tFNAw/UoXI8SVUApXI/C9ThVQB+F61G4LlVAZmZmZmY2VUCamZmZmblUQK5H4XoUzlRAKVyPwvWoVECkcD0K1xNVQLgehetRKFVAuB6F61GoVUB7FK5H4cpWQClcj8L1mFdA4XoUrkeRWEAzMzMzM4NZQM3MzMzMTFpAj8L1KFwPWkDD9Shcj9JaQDMzMzMzw1tAexSuR+FKXECF61G4HkVdQIXrUbgexV5AexSuR+GKXkB7FK5H4QpeQI/C9Shcv15ArkfhehReX0AK16NwPQJgQClcj8L1KGBAH4XrUbhWYEA9CtejcIVgQHsUrkfhymBA7FG4HoU7YUAAAAAAAIhhQLgehetRcGJAexSuR+HaYkCamZmZmfliQBSuR+F6nGNAPQrXo3D1Y0AAAAAAADBkQB+F61G4TmRAexSuR+HSZEAAAAAAADhlQAAAAAAAuGVA7FG4HoVDZkDhehSuR/FmQD0K16NwjWdAMzMzMzPTZ0AUrkfhelRoQB+F61G4vmhAj8L1KFwvaUBxPQrXo3BpQKRwPQrXu2lAXI/C9SjsaUCkcD0K11NqQKRwPQrX22pA",
          "dtype": "f8"
         },
         "type": "bar",
         "x": {
          "bdata": "bAdtB24HbwdxB3IHcwd0B3UHdwd5B3oHfQd+B38HgAeCB4MHhQeGB4cHiAeJB4oHiweMB40HjgePB5AHkQeSB5MHlAeVB5YHlweYB5kHmgebB5wHnQeeB58HoAehB6IHowelB6YHqAepB6oHqwesB60HrgevB7AHsQeyB7MHtAe1B7YHtwe6B7sHvAe9B78HwQfDB8QHxQfGB8cHyAfJB8oHywfMB84HzwfQB9EH0gfTB9QH1QfWB9cH2AfZB9oH2wfcB90H3gffB+AH4QfiB+QH",
          "dtype": "i2"
         },
         "y": {
          "bdata": "AAAAAAAACEAAAAAAAAAIQAAAAAAAABRAAAAAAAAA8D8AAAAAAAAqQAAAAAAAABRAAAAAAAAAIEAAAAAAAAAqQAAAAAAAABRAAAAAAAAAFEAAAAAAAAAIQAAAAAAAAAhAAAAAAAAA8D+rqqqqqqokQAAAAAAAAPA/AAAAAAAAFEAAAAAAAAAIQKuqqqqqqiRAq6qqqqqqAkAAAAAAAADwPwAAAAAAACxAZmZmZmZmKEAAAAAAAAAUQFVVVVVVVQ1AAAAAAAAAFEBVVVVVVVUnQAAAAAAAAC5AAAAAAAAAOUAAAAAAAAAqQAAAAAAAAPA/AAAAAAAACECrqqqqqqoCQKuqqqqqqhZAAAAAAAAACEAAAAAAAAAcQAAAAAAAABRAAAAAAAAA8D8AAAAAAAAUQAAAAAAAADlAVVVVVVVVMkAAAAAAAAA5QAAAAAAAAAhAAAAAAAAAKkAAAAAAAAAIQAAAAAAAABRAAAAAAAAAFEAAAAAAAAAcQAAAAAAAABRAAAAAAAAAKkAAAAAAAAAuQAAAAAAAAPA/AAAAAAAAOUAAAAAAAADwPwAAAAAAAPA/AAAAAAAAAEAAAAAAAAA5QAAAAAAAAAhAAAAAAAAAIkCrqqqqqqoCQAAAAAAAABxAVVVVVVVVDUAAAAAAAAAiQAAAAAAAACpAAAAAAAAA8D8AAAAAAADwP6uqqqqqqgJAAAAAAAAA8D8AAAAAAAAuQAAAAAAAACpAAAAAAAAAOUAAAAAAAAAqQAAAAAAAACJAAAAAAAAAOUAAAAAAAADwPwAAAAAAAPA/AAAAAAAAOUAAAAAAAAA5QAAAAAAAADlAAAAAAAAAOUAAAAAAAAAqQAAAAAAAACJAMzMzMzMzF0AAAAAAAADwPwAAAAAAAC5AAAAAAAAAFEAAAAAAAAAqQAAAAAAAADlAAAAAAAAACECrqqqqqqokQAAAAAAAAC5AAAAAAAAAOUAAAAAAAAAiQEmSJEmSJB1AAAAAAAAAOUCrqqqqqqokQAAAAAAAADFAAAAAAAAAOUAAAAAAAAAIQAAAAAAAACpAAAAAAAAA8D8AAAAAAAAqQAAAAAAAADFAq6qqqqqqFkAAAAAAAAA5QAAAAAAAADlA",
          "dtype": "f8"
         }
        },
        {
         "hoverinfo": "none",
         "line": {
          "color": "blue",
          "width": 3
         },
         "mode": "lines",
         "name": "Gem. zeespiegelstijging (mm)",
         "type": "scatter",
         "x": {
          "bdata": "bAdtB24HbwdxB3IHcwd0B3UHdwd5B3oHfQd+B38HgAeCB4MHhQeGB4cHiAeJB4oHiweMB40HjgePB5AHkQeSB5MHlAeVB5YHlweYB5kHmgebB5wHnQeeB58HoAehB6IHowelB6YHqAepB6oHqwesB60HrgevB7AHsQeyB7MHtAe1B7YHtwe6B7sHvAe9B78HwQfDB8QHxQfGB8cHyAfJB8oHywfMB84HzwfQB9EH0gfTB9QH1QfWB9cH2AfZB9oH2wfcB90H3gffB+AH4QfiB+QH",
          "dtype": "i2"
         },
         "y": {
          "bdata": "XI/C9ShcAcBI4XoUrkf5P4XrUbgehfc/rkfhehSu7z/NzMzMzMwQQDMzMzMzM/8/cT0K16Nw/T+uR+F6FK4LQDMzMzMzMxJAcT0K16NwHUAK16NwPYomQK5H4XoULilA7FG4HoUrMkDsUbgeheszQLgehetR+DRA4XoUrkchNUCF61G4HkU0QMP1KFyPAjJAmpmZmZnZM0B7FK5H4fozQPYoXI/C9TVAUrgehesROUC4HoXrUfg4QD0K16NwfTlAhetRuB5FO0AfhetRuJ47QFK4HoXrkTxA9ihcj8L1PEDD9ShcjwI+QDMzMzMzsz1Aj8L1KFxvQUD2KFyPwhVBQD0K16NwfUNA9ihcj8JVRUD2KFyPwhVHQArXo3A9ikVApHA9CtdDR0BSuB6F6xFIQLgehetReEhAcT0K16OwSUC4HoXrUdhLQIXrUbgeJU1ArkfhehQuTkCamZmZmXlPQAAAAAAAkFBAj8L1KFz/UEDD9ShcjzJRQOxRuB6F+1BAexSuR+G6UUA9CtejcK1SQBSuR+F6tFNAw/UoXI8SVUApXI/C9ThVQB+F61G4LlVAZmZmZmY2VUCamZmZmblUQK5H4XoUzlRAKVyPwvWoVECkcD0K1xNVQLgehetRKFVAuB6F61GoVUB7FK5H4cpWQClcj8L1mFdA4XoUrkeRWEAzMzMzM4NZQM3MzMzMTFpAj8L1KFwPWkDD9Shcj9JaQDMzMzMzw1tAexSuR+FKXECF61G4HkVdQIXrUbgexV5AexSuR+GKXkB7FK5H4QpeQI/C9Shcv15ArkfhehReX0AK16NwPQJgQClcj8L1KGBAH4XrUbhWYEA9CtejcIVgQHsUrkfhymBA7FG4HoU7YUAAAAAAAIhhQLgehetRcGJAexSuR+HaYkCamZmZmfliQBSuR+F6nGNAPQrXo3D1Y0AAAAAAADBkQB+F61G4TmRAexSuR+HSZEAAAAAAADhlQAAAAAAAuGVA7FG4HoVDZkDhehSuR/FmQD0K16NwjWdAMzMzMzPTZ0AUrkfhelRoQB+F61G4vmhAj8L1KFwvaUBxPQrXo3BpQKRwPQrXu2lAXI/C9SjsaUCkcD0K11NqQKRwPQrX22pA",
          "dtype": "f8"
         },
         "yaxis": "y2"
        }
       ],
       "layout": {
        "height": 600,
        "margin": {
         "b": 50,
         "l": 50,
         "r": 70,
         "t": 80
        },
        "template": {
         "data": {
          "bar": [
           {
            "error_x": {
             "color": "#2a3f5f"
            },
            "error_y": {
             "color": "#2a3f5f"
            },
            "marker": {
             "line": {
              "color": "#E5ECF6",
              "width": 0.5
             },
             "pattern": {
              "fillmode": "overlay",
              "size": 10,
              "solidity": 0.2
             }
            },
            "type": "bar"
           }
          ],
          "barpolar": [
           {
            "marker": {
             "line": {
              "color": "#E5ECF6",
              "width": 0.5
             },
             "pattern": {
              "fillmode": "overlay",
              "size": 10,
              "solidity": 0.2
             }
            },
            "type": "barpolar"
           }
          ],
          "carpet": [
           {
            "aaxis": {
             "endlinecolor": "#2a3f5f",
             "gridcolor": "white",
             "linecolor": "white",
             "minorgridcolor": "white",
             "startlinecolor": "#2a3f5f"
            },
            "baxis": {
             "endlinecolor": "#2a3f5f",
             "gridcolor": "white",
             "linecolor": "white",
             "minorgridcolor": "white",
             "startlinecolor": "#2a3f5f"
            },
            "type": "carpet"
           }
          ],
          "choropleth": [
           {
            "colorbar": {
             "outlinewidth": 0,
             "ticks": ""
            },
            "type": "choropleth"
           }
          ],
          "contour": [
           {
            "colorbar": {
             "outlinewidth": 0,
             "ticks": ""
            },
            "colorscale": [
             [
              0,
              "#0d0887"
             ],
             [
              0.1111111111111111,
              "#46039f"
             ],
             [
              0.2222222222222222,
              "#7201a8"
             ],
             [
              0.3333333333333333,
              "#9c179e"
             ],
             [
              0.4444444444444444,
              "#bd3786"
             ],
             [
              0.5555555555555556,
              "#d8576b"
             ],
             [
              0.6666666666666666,
              "#ed7953"
             ],
             [
              0.7777777777777778,
              "#fb9f3a"
             ],
             [
              0.8888888888888888,
              "#fdca26"
             ],
             [
              1,
              "#f0f921"
             ]
            ],
            "type": "contour"
           }
          ],
          "contourcarpet": [
           {
            "colorbar": {
             "outlinewidth": 0,
             "ticks": ""
            },
            "type": "contourcarpet"
           }
          ],
          "heatmap": [
           {
            "colorbar": {
             "outlinewidth": 0,
             "ticks": ""
            },
            "colorscale": [
             [
              0,
              "#0d0887"
             ],
             [
              0.1111111111111111,
              "#46039f"
             ],
             [
              0.2222222222222222,
              "#7201a8"
             ],
             [
              0.3333333333333333,
              "#9c179e"
             ],
             [
              0.4444444444444444,
              "#bd3786"
             ],
             [
              0.5555555555555556,
              "#d8576b"
             ],
             [
              0.6666666666666666,
              "#ed7953"
             ],
             [
              0.7777777777777778,
              "#fb9f3a"
             ],
             [
              0.8888888888888888,
              "#fdca26"
             ],
             [
              1,
              "#f0f921"
             ]
            ],
            "type": "heatmap"
           }
          ],
          "histogram": [
           {
            "marker": {
             "pattern": {
              "fillmode": "overlay",
              "size": 10,
              "solidity": 0.2
             }
            },
            "type": "histogram"
           }
          ],
          "histogram2d": [
           {
            "colorbar": {
             "outlinewidth": 0,
             "ticks": ""
            },
            "colorscale": [
             [
              0,
              "#0d0887"
             ],
             [
              0.1111111111111111,
              "#46039f"
             ],
             [
              0.2222222222222222,
              "#7201a8"
             ],
             [
              0.3333333333333333,
              "#9c179e"
             ],
             [
              0.4444444444444444,
              "#bd3786"
             ],
             [
              0.5555555555555556,
              "#d8576b"
             ],
             [
              0.6666666666666666,
              "#ed7953"
             ],
             [
              0.7777777777777778,
              "#fb9f3a"
             ],
             [
              0.8888888888888888,
              "#fdca26"
             ],
             [
              1,
              "#f0f921"
             ]
            ],
            "type": "histogram2d"
           }
          ],
          "histogram2dcontour": [
           {
            "colorbar": {
             "outlinewidth": 0,
             "ticks": ""
            },
            "colorscale": [
             [
              0,
              "#0d0887"
             ],
             [
              0.1111111111111111,
              "#46039f"
             ],
             [
              0.2222222222222222,
              "#7201a8"
             ],
             [
              0.3333333333333333,
              "#9c179e"
             ],
             [
              0.4444444444444444,
              "#bd3786"
             ],
             [
              0.5555555555555556,
              "#d8576b"
             ],
             [
              0.6666666666666666,
              "#ed7953"
             ],
             [
              0.7777777777777778,
              "#fb9f3a"
             ],
             [
              0.8888888888888888,
              "#fdca26"
             ],
             [
              1,
              "#f0f921"
             ]
            ],
            "type": "histogram2dcontour"
           }
          ],
          "mesh3d": [
           {
            "colorbar": {
             "outlinewidth": 0,
             "ticks": ""
            },
            "type": "mesh3d"
           }
          ],
          "parcoords": [
           {
            "line": {
             "colorbar": {
              "outlinewidth": 0,
              "ticks": ""
             }
            },
            "type": "parcoords"
           }
          ],
          "pie": [
           {
            "automargin": true,
            "type": "pie"
           }
          ],
          "scatter": [
           {
            "fillpattern": {
             "fillmode": "overlay",
             "size": 10,
             "solidity": 0.2
            },
            "type": "scatter"
           }
          ],
          "scatter3d": [
           {
            "line": {
             "colorbar": {
              "outlinewidth": 0,
              "ticks": ""
             }
            },
            "marker": {
             "colorbar": {
              "outlinewidth": 0,
              "ticks": ""
             }
            },
            "type": "scatter3d"
           }
          ],
          "scattercarpet": [
           {
            "marker": {
             "colorbar": {
              "outlinewidth": 0,
              "ticks": ""
             }
            },
            "type": "scattercarpet"
           }
          ],
          "scattergeo": [
           {
            "marker": {
             "colorbar": {
              "outlinewidth": 0,
              "ticks": ""
             }
            },
            "type": "scattergeo"
           }
          ],
          "scattergl": [
           {
            "marker": {
             "colorbar": {
              "outlinewidth": 0,
              "ticks": ""
             }
            },
            "type": "scattergl"
           }
          ],
          "scattermap": [
           {
            "marker": {
             "colorbar": {
              "outlinewidth": 0,
              "ticks": ""
             }
            },
            "type": "scattermap"
           }
          ],
          "scattermapbox": [
           {
            "marker": {
             "colorbar": {
              "outlinewidth": 0,
              "ticks": ""
             }
            },
            "type": "scattermapbox"
           }
          ],
          "scatterpolar": [
           {
            "marker": {
             "colorbar": {
              "outlinewidth": 0,
              "ticks": ""
             }
            },
            "type": "scatterpolar"
           }
          ],
          "scatterpolargl": [
           {
            "marker": {
             "colorbar": {
              "outlinewidth": 0,
              "ticks": ""
             }
            },
            "type": "scatterpolargl"
           }
          ],
          "scatterternary": [
           {
            "marker": {
             "colorbar": {
              "outlinewidth": 0,
              "ticks": ""
             }
            },
            "type": "scatterternary"
           }
          ],
          "surface": [
           {
            "colorbar": {
             "outlinewidth": 0,
             "ticks": ""
            },
            "colorscale": [
             [
              0,
              "#0d0887"
             ],
             [
              0.1111111111111111,
              "#46039f"
             ],
             [
              0.2222222222222222,
              "#7201a8"
             ],
             [
              0.3333333333333333,
              "#9c179e"
             ],
             [
              0.4444444444444444,
              "#bd3786"
             ],
             [
              0.5555555555555556,
              "#d8576b"
             ],
             [
              0.6666666666666666,
              "#ed7953"
             ],
             [
              0.7777777777777778,
              "#fb9f3a"
             ],
             [
              0.8888888888888888,
              "#fdca26"
             ],
             [
              1,
              "#f0f921"
             ]
            ],
            "type": "surface"
           }
          ],
          "table": [
           {
            "cells": {
             "fill": {
              "color": "#EBF0F8"
             },
             "line": {
              "color": "white"
             }
            },
            "header": {
             "fill": {
              "color": "#C8D4E3"
             },
             "line": {
              "color": "white"
             }
            },
            "type": "table"
           }
          ]
         },
         "layout": {
          "annotationdefaults": {
           "arrowcolor": "#2a3f5f",
           "arrowhead": 0,
           "arrowwidth": 1
          },
          "autotypenumbers": "strict",
          "coloraxis": {
           "colorbar": {
            "outlinewidth": 0,
            "ticks": ""
           }
          },
          "colorscale": {
           "diverging": [
            [
             0,
             "#8e0152"
            ],
            [
             0.1,
             "#c51b7d"
            ],
            [
             0.2,
             "#de77ae"
            ],
            [
             0.3,
             "#f1b6da"
            ],
            [
             0.4,
             "#fde0ef"
            ],
            [
             0.5,
             "#f7f7f7"
            ],
            [
             0.6,
             "#e6f5d0"
            ],
            [
             0.7,
             "#b8e186"
            ],
            [
             0.8,
             "#7fbc41"
            ],
            [
             0.9,
             "#4d9221"
            ],
            [
             1,
             "#276419"
            ]
           ],
           "sequential": [
            [
             0,
             "#0d0887"
            ],
            [
             0.1111111111111111,
             "#46039f"
            ],
            [
             0.2222222222222222,
             "#7201a8"
            ],
            [
             0.3333333333333333,
             "#9c179e"
            ],
            [
             0.4444444444444444,
             "#bd3786"
            ],
            [
             0.5555555555555556,
             "#d8576b"
            ],
            [
             0.6666666666666666,
             "#ed7953"
            ],
            [
             0.7777777777777778,
             "#fb9f3a"
            ],
            [
             0.8888888888888888,
             "#fdca26"
            ],
            [
             1,
             "#f0f921"
            ]
           ],
           "sequentialminus": [
            [
             0,
             "#0d0887"
            ],
            [
             0.1111111111111111,
             "#46039f"
            ],
            [
             0.2222222222222222,
             "#7201a8"
            ],
            [
             0.3333333333333333,
             "#9c179e"
            ],
            [
             0.4444444444444444,
             "#bd3786"
            ],
            [
             0.5555555555555556,
             "#d8576b"
            ],
            [
             0.6666666666666666,
             "#ed7953"
            ],
            [
             0.7777777777777778,
             "#fb9f3a"
            ],
            [
             0.8888888888888888,
             "#fdca26"
            ],
            [
             1,
             "#f0f921"
            ]
           ]
          },
          "colorway": [
           "#636efa",
           "#EF553B",
           "#00cc96",
           "#ab63fa",
           "#FFA15A",
           "#19d3f3",
           "#FF6692",
           "#B6E880",
           "#FF97FF",
           "#FECB52"
          ],
          "font": {
           "color": "#2a3f5f"
          },
          "geo": {
           "bgcolor": "white",
           "lakecolor": "white",
           "landcolor": "#E5ECF6",
           "showlakes": true,
           "showland": true,
           "subunitcolor": "white"
          },
          "hoverlabel": {
           "align": "left"
          },
          "hovermode": "closest",
          "mapbox": {
           "style": "light"
          },
          "paper_bgcolor": "white",
          "plot_bgcolor": "#E5ECF6",
          "polar": {
           "angularaxis": {
            "gridcolor": "white",
            "linecolor": "white",
            "ticks": ""
           },
           "bgcolor": "#E5ECF6",
           "radialaxis": {
            "gridcolor": "white",
            "linecolor": "white",
            "ticks": ""
           }
          },
          "scene": {
           "xaxis": {
            "backgroundcolor": "#E5ECF6",
            "gridcolor": "white",
            "gridwidth": 2,
            "linecolor": "white",
            "showbackground": true,
            "ticks": "",
            "zerolinecolor": "white"
           },
           "yaxis": {
            "backgroundcolor": "#E5ECF6",
            "gridcolor": "white",
            "gridwidth": 2,
            "linecolor": "white",
            "showbackground": true,
            "ticks": "",
            "zerolinecolor": "white"
           },
           "zaxis": {
            "backgroundcolor": "#E5ECF6",
            "gridcolor": "white",
            "gridwidth": 2,
            "linecolor": "white",
            "showbackground": true,
            "ticks": "",
            "zerolinecolor": "white"
           }
          },
          "shapedefaults": {
           "line": {
            "color": "#2a3f5f"
           }
          },
          "ternary": {
           "aaxis": {
            "gridcolor": "white",
            "linecolor": "white",
            "ticks": ""
           },
           "baxis": {
            "gridcolor": "white",
            "linecolor": "white",
            "ticks": ""
           },
           "bgcolor": "#E5ECF6",
           "caxis": {
            "gridcolor": "white",
            "linecolor": "white",
            "ticks": ""
           }
          },
          "title": {
           "x": 0.05
          },
          "xaxis": {
           "automargin": true,
           "gridcolor": "white",
           "linecolor": "white",
           "ticks": "",
           "title": {
            "standoff": 15
           },
           "zerolinecolor": "white",
           "zerolinewidth": 2
          },
          "yaxis": {
           "automargin": true,
           "gridcolor": "white",
           "linecolor": "white",
           "ticks": "",
           "title": {
            "standoff": 15
           },
           "zerolinecolor": "white",
           "zerolinewidth": 2
          }
         }
        },
        "title": {
         "text": "Gemiddelde Tsunami Schade en Zeespiegelstijging per Jaar"
        },
        "width": 775,
        "xaxis": {
         "title": {
          "text": "Jaar"
         }
        },
        "yaxis": {
         "rangemode": "tozero",
         "title": {
          "text": "Gem. schade (mln USD)"
         }
        },
        "yaxis2": {
         "overlaying": "y",
         "rangemode": "tozero",
         "side": "right",
         "title": {
          "font": {
           "size": 14
          },
          "standoff": 30,
          "text": "Gem. zeespiegelstijging (mm)"
         }
        }
       }
      },
      "image/png": "[encoded data removed]",
      "text/html": [
       "<div>            <script src=\"https://cdnjs.cloudflare.com/ajax/libs/mathjax/2.7.5/MathJax.js?config=TeX-AMS-MML_SVG\"></script><script type=\"text/javascript\">if (window.MathJax && window.MathJax.Hub && window.MathJax.Hub.Config) {window.MathJax.Hub.Config({SVG: {font: \"STIX-Web\"}});}</script>                <script type=\"text/javascript\">window.PlotlyConfig = {MathJaxConfig: 'local'};</script>\n",
       "        <script charset=\"utf-8\" src=\"https://cdn.plot.ly/plotly-3.0.1.min.js\"></script>                <div id=\"b7e0c386-375a-4f9f-98e0-c858246a83c0\" class=\"plotly-graph-div\" style=\"height:600px; width:775px;\"></div>            <script type=\"text/javascript\">                window.PLOTLYENV=window.PLOTLYENV || {};                                if (document.getElementById(\"b7e0c386-375a-4f9f-98e0-c858246a83c0\")) {                    Plotly.newPlot(                        \"b7e0c386-375a-4f9f-98e0-c858246a83c0\",                        [{\"customdata\":{\"dtype\":\"i1\",\"bdata\":\"AgIBAQICBAICAgIEAwMBAQIDAwEEBQIDAQMCAQIBAgMGAgQBAQEBAwECAgIBAQQBAgICAgECBAIEAwMGAwMCAQEDAQIFAQIDAgEBAQEBAgIDBQMCAQICBAMCAQMHAQMDAQQCAQIDBgMB\"},\"hovertemplate\":\"\\u003cb\\u003eJaar:\\u003c\\u002fb\\u003e %{x}\\u003cbr\\u003e\\u003cb\\u003eGem. schade:\\u003c\\u002fb\\u003e %{y:.2f} mln USD\\u003cbr\\u003e\\u003cb\\u003eAantal tsunami\\u2019s:\\u003c\\u002fb\\u003e %{customdata}\\u003cbr\\u003e\\u003cb\\u003eGem. zeespiegelstijging:\\u003c\\u002fb\\u003e %{text:.2f} mm\\u003cbr\\u003e\",\"marker\":{\"color\":{\"dtype\":\"f8\",\"bdata\":\"AAAAAAAACEAAAAAAAAAIQAAAAAAAABRAAAAAAAAA8D8AAAAAAAAqQAAAAAAAABRAAAAAAAAAIEAAAAAAAAAqQAAAAAAAABRAAAAAAAAAFEAAAAAAAAAIQAAAAAAAAAhAAAAAAAAA8D+rqqqqqqokQAAAAAAAAPA\\u002fAAAAAAAAFEAAAAAAAAAIQKuqqqqqqiRAq6qqqqqqAkAAAAAAAADwPwAAAAAAACxAZmZmZmZmKEAAAAAAAAAUQFVVVVVVVQ1AAAAAAAAAFEBVVVVVVVUnQAAAAAAAAC5AAAAAAAAAOUAAAAAAAAAqQAAAAAAAAPA\\u002fAAAAAAAACECrqqqqqqoCQKuqqqqqqhZAAAAAAAAACEAAAAAAAAAcQAAAAAAAABRAAAAAAAAA8D8AAAAAAAAUQAAAAAAAADlAVVVVVVVVMkAAAAAAAAA5QAAAAAAAAAhAAAAAAAAAKkAAAAAAAAAIQAAAAAAAABRAAAAAAAAAFEAAAAAAAAAcQAAAAAAAABRAAAAAAAAAKkAAAAAAAAAuQAAAAAAAAPA\\u002fAAAAAAAAOUAAAAAAAADwPwAAAAAAAPA\\u002fAAAAAAAAAEAAAAAAAAA5QAAAAAAAAAhAAAAAAAAAIkCrqqqqqqoCQAAAAAAAABxAVVVVVVVVDUAAAAAAAAAiQAAAAAAAACpAAAAAAAAA8D8AAAAAAADwP6uqqqqqqgJAAAAAAAAA8D8AAAAAAAAuQAAAAAAAACpAAAAAAAAAOUAAAAAAAAAqQAAAAAAAACJAAAAAAAAAOUAAAAAAAADwPwAAAAAAAPA\\u002fAAAAAAAAOUAAAAAAAAA5QAAAAAAAADlAAAAAAAAAOUAAAAAAAAAqQAAAAAAAACJAMzMzMzMzF0AAAAAAAADwPwAAAAAAAC5AAAAAAAAAFEAAAAAAAAAqQAAAAAAAADlAAAAAAAAACECrqqqqqqokQAAAAAAAAC5AAAAAAAAAOUAAAAAAAAAiQEmSJEmSJB1AAAAAAAAAOUCrqqqqqqokQAAAAAAAADFAAAAAAAAAOUAAAAAAAAAIQAAAAAAAACpAAAAAAAAA8D8AAAAAAAAqQAAAAAAAADFAq6qqqqqqFkAAAAAAAAA5QAAAAAAAADlA\"},\"colorbar\":{\"len\":0.9,\"title\":{\"text\":\"Schade (mln USD)\"},\"x\":1.125,\"xanchor\":\"left\",\"y\":0.425,\"yanchor\":\"middle\"},\"colorscale\":[[0.0,\"rgb(196, 230, 195)\"],[0.16666666666666666,\"rgb(150, 210, 164)\"],[0.3333333333333333,\"rgb(109, 188, 144)\"],[0.5,\"rgb(77, 162, 132)\"],[0.6666666666666666,\"rgb(54, 135, 122)\"],[0.8333333333333334,\"rgb(38, 107, 110)\"],[1.0,\"rgb(29, 79, 96)\"]],\"showscale\":true},\"name\":\"\",\"showlegend\":false,\"text\":{\"dtype\":\"f8\",\"bdata\":\"XI\\u002fC9ShcAcBI4XoUrkf5P4XrUbgehfc\\u002frkfhehSu7z\\u002fNzMzMzMwQQDMzMzMzM\\u002f8\\u002fcT0K16Nw\\u002fT+uR+F6FK4LQDMzMzMzMxJAcT0K16NwHUAK16NwPYomQK5H4XoULilA7FG4HoUrMkDsUbgeheszQLgehetR+DRA4XoUrkchNUCF61G4HkU0QMP1KFyPAjJAmpmZmZnZM0B7FK5H4fozQPYoXI\\u002fC9TVAUrgehesROUC4HoXrUfg4QD0K16NwfTlAhetRuB5FO0AfhetRuJ47QFK4HoXrkTxA9ihcj8L1PEDD9ShcjwI+QDMzMzMzsz1Aj8L1KFxvQUD2KFyPwhVBQD0K16NwfUNA9ihcj8JVRUD2KFyPwhVHQArXo3A9ikVApHA9CtdDR0BSuB6F6xFIQLgehetReEhAcT0K16OwSUC4HoXrUdhLQIXrUbgeJU1ArkfhehQuTkCamZmZmXlPQAAAAAAAkFBAj8L1KFz\\u002fUEDD9ShcjzJRQOxRuB6F+1BAexSuR+G6UUA9CtejcK1SQBSuR+F6tFNAw\\u002fUoXI8SVUApXI\\u002fC9ThVQB+F61G4LlVAZmZmZmY2VUCamZmZmblUQK5H4XoUzlRAKVyPwvWoVECkcD0K1xNVQLgehetRKFVAuB6F61GoVUB7FK5H4cpWQClcj8L1mFdA4XoUrkeRWEAzMzMzM4NZQM3MzMzMTFpAj8L1KFwPWkDD9Shcj9JaQDMzMzMzw1tAexSuR+FKXECF61G4HkVdQIXrUbgexV5AexSuR+GKXkB7FK5H4QpeQI\\u002fC9Shcv15ArkfhehReX0AK16NwPQJgQClcj8L1KGBAH4XrUbhWYEA9CtejcIVgQHsUrkfhymBA7FG4HoU7YUAAAAAAAIhhQLgehetRcGJAexSuR+HaYkCamZmZmfliQBSuR+F6nGNAPQrXo3D1Y0AAAAAAADBkQB+F61G4TmRAexSuR+HSZEAAAAAAADhlQAAAAAAAuGVA7FG4HoVDZkDhehSuR\\u002fFmQD0K16NwjWdAMzMzMzPTZ0AUrkfhelRoQB+F61G4vmhAj8L1KFwvaUBxPQrXo3BpQKRwPQrXu2lAXI\\u002fC9SjsaUCkcD0K11NqQKRwPQrX22pA\"},\"x\":{\"dtype\":\"i2\",\"bdata\":\"bAdtB24HbwdxB3IHcwd0B3UHdwd5B3oHfQd+B38HgAeCB4MHhQeGB4cHiAeJB4oHiweMB40HjgePB5AHkQeSB5MHlAeVB5YHlweYB5kHmgebB5wHnQeeB58HoAehB6IHowelB6YHqAepB6oHqwesB60HrgevB7AHsQeyB7MHtAe1B7YHtwe6B7sHvAe9B78HwQfDB8QHxQfGB8cHyAfJB8oHywfMB84HzwfQB9EH0gfTB9QH1QfWB9cH2AfZB9oH2wfcB90H3gffB+AH4QfiB+QH\"},\"y\":{\"dtype\":\"f8\",\"bdata\":\"AAAAAAAACEAAAAAAAAAIQAAAAAAAABRAAAAAAAAA8D8AAAAAAAAqQAAAAAAAABRAAAAAAAAAIEAAAAAAAAAqQAAAAAAAABRAAAAAAAAAFEAAAAAAAAAIQAAAAAAAAAhAAAAAAAAA8D+rqqqqqqokQAAAAAAAAPA\\u002fAAAAAAAAFEAAAAAAAAAIQKuqqqqqqiRAq6qqqqqqAkAAAAAAAADwPwAAAAAAACxAZmZmZmZmKEAAAAAAAAAUQFVVVVVVVQ1AAAAAAAAAFEBVVVVVVVUnQAAAAAAAAC5AAAAAAAAAOUAAAAAAAAAqQAAAAAAAAPA\\u002fAAAAAAAACECrqqqqqqoCQKuqqqqqqhZAAAAAAAAACEAAAAAAAAAcQAAAAAAAABRAAAAAAAAA8D8AAAAAAAAUQAAAAAAAADlAVVVVVVVVMkAAAAAAAAA5QAAAAAAAAAhAAAAAAAAAKkAAAAAAAAAIQAAAAAAAABRAAAAAAAAAFEAAAAAAAAAcQAAAAAAAABRAAAAAAAAAKkAAAAAAAAAuQAAAAAAAAPA\\u002fAAAAAAAAOUAAAAAAAADwPwAAAAAAAPA\\u002fAAAAAAAAAEAAAAAAAAA5QAAAAAAAAAhAAAAAAAAAIkCrqqqqqqoCQAAAAAAAABxAVVVVVVVVDUAAAAAAAAAiQAAAAAAAACpAAAAAAAAA8D8AAAAAAADwP6uqqqqqqgJAAAAAAAAA8D8AAAAAAAAuQAAAAAAAACpAAAAAAAAAOUAAAAAAAAAqQAAAAAAAACJAAAAAAAAAOUAAAAAAAADwPwAAAAAAAPA\\u002fAAAAAAAAOUAAAAAAAAA5QAAAAAAAADlAAAAAAAAAOUAAAAAAAAAqQAAAAAAAACJAMzMzMzMzF0AAAAAAAADwPwAAAAAAAC5AAAAAAAAAFEAAAAAAAAAqQAAAAAAAADlAAAAAAAAACECrqqqqqqokQAAAAAAAAC5AAAAAAAAAOUAAAAAAAAAiQEmSJEmSJB1AAAAAAAAAOUCrqqqqqqokQAAAAAAAADFAAAAAAAAAOUAAAAAAAAAIQAAAAAAAACpAAAAAAAAA8D8AAAAAAAAqQAAAAAAAADFAq6qqqqqqFkAAAAAAAAA5QAAAAAAAADlA\"},\"type\":\"bar\"},{\"hoverinfo\":\"none\",\"line\":{\"color\":\"blue\",\"width\":3},\"mode\":\"lines\",\"name\":\"Gem. zeespiegelstijging (mm)\",\"x\":{\"dtype\":\"i2\",\"bdata\":\"bAdtB24HbwdxB3IHcwd0B3UHdwd5B3oHfQd+B38HgAeCB4MHhQeGB4cHiAeJB4oHiweMB40HjgePB5AHkQeSB5MHlAeVB5YHlweYB5kHmgebB5wHnQeeB58HoAehB6IHowelB6YHqAepB6oHqwesB60HrgevB7AHsQeyB7MHtAe1B7YHtwe6B7sHvAe9B78HwQfDB8QHxQfGB8cHyAfJB8oHywfMB84HzwfQB9EH0gfTB9QH1QfWB9cH2AfZB9oH2wfcB90H3gffB+AH4QfiB+QH\"},\"y\":{\"dtype\":\"f8\",\"bdata\":\"XI\\u002fC9ShcAcBI4XoUrkf5P4XrUbgehfc\\u002frkfhehSu7z\\u002fNzMzMzMwQQDMzMzMzM\\u002f8\\u002fcT0K16Nw\\u002fT+uR+F6FK4LQDMzMzMzMxJAcT0K16NwHUAK16NwPYomQK5H4XoULilA7FG4HoUrMkDsUbgeheszQLgehetR+DRA4XoUrkchNUCF61G4HkU0QMP1KFyPAjJAmpmZmZnZM0B7FK5H4fozQPYoXI\\u002fC9TVAUrgehesROUC4HoXrUfg4QD0K16NwfTlAhetRuB5FO0AfhetRuJ47QFK4HoXrkTxA9ihcj8L1PEDD9ShcjwI+QDMzMzMzsz1Aj8L1KFxvQUD2KFyPwhVBQD0K16NwfUNA9ihcj8JVRUD2KFyPwhVHQArXo3A9ikVApHA9CtdDR0BSuB6F6xFIQLgehetReEhAcT0K16OwSUC4HoXrUdhLQIXrUbgeJU1ArkfhehQuTkCamZmZmXlPQAAAAAAAkFBAj8L1KFz\\u002fUEDD9ShcjzJRQOxRuB6F+1BAexSuR+G6UUA9CtejcK1SQBSuR+F6tFNAw\\u002fUoXI8SVUApXI\\u002fC9ThVQB+F61G4LlVAZmZmZmY2VUCamZmZmblUQK5H4XoUzlRAKVyPwvWoVECkcD0K1xNVQLgehetRKFVAuB6F61GoVUB7FK5H4cpWQClcj8L1mFdA4XoUrkeRWEAzMzMzM4NZQM3MzMzMTFpAj8L1KFwPWkDD9Shcj9JaQDMzMzMzw1tAexSuR+FKXECF61G4HkVdQIXrUbgexV5AexSuR+GKXkB7FK5H4QpeQI\\u002fC9Shcv15ArkfhehReX0AK16NwPQJgQClcj8L1KGBAH4XrUbhWYEA9CtejcIVgQHsUrkfhymBA7FG4HoU7YUAAAAAAAIhhQLgehetRcGJAexSuR+HaYkCamZmZmfliQBSuR+F6nGNAPQrXo3D1Y0AAAAAAADBkQB+F61G4TmRAexSuR+HSZEAAAAAAADhlQAAAAAAAuGVA7FG4HoVDZkDhehSuR\\u002fFmQD0K16NwjWdAMzMzMzPTZ0AUrkfhelRoQB+F61G4vmhAj8L1KFwvaUBxPQrXo3BpQKRwPQrXu2lAXI\\u002fC9SjsaUCkcD0K11NqQKRwPQrX22pA\"},\"yaxis\":\"y2\",\"type\":\"scatter\"}],                        {\"template\":{\"data\":{\"histogram2dcontour\":[{\"type\":\"histogram2dcontour\",\"colorbar\":{\"outlinewidth\":0,\"ticks\":\"\"},\"colorscale\":[[0.0,\"#0d0887\"],[0.1111111111111111,\"#46039f\"],[0.2222222222222222,\"#7201a8\"],[0.3333333333333333,\"#9c179e\"],[0.4444444444444444,\"#bd3786\"],[0.5555555555555556,\"#d8576b\"],[0.6666666666666666,\"#ed7953\"],[0.7777777777777778,\"#fb9f3a\"],[0.8888888888888888,\"#fdca26\"],[1.0,\"#f0f921\"]]}],\"choropleth\":[{\"type\":\"choropleth\",\"colorbar\":{\"outlinewidth\":0,\"ticks\":\"\"}}],\"histogram2d\":[{\"type\":\"histogram2d\",\"colorbar\":{\"outlinewidth\":0,\"ticks\":\"\"},\"colorscale\":[[0.0,\"#0d0887\"],[0.1111111111111111,\"#46039f\"],[0.2222222222222222,\"#7201a8\"],[0.3333333333333333,\"#9c179e\"],[0.4444444444444444,\"#bd3786\"],[0.5555555555555556,\"#d8576b\"],[0.6666666666666666,\"#ed7953\"],[0.7777777777777778,\"#fb9f3a\"],[0.8888888888888888,\"#fdca26\"],[1.0,\"#f0f921\"]]}],\"heatmap\":[{\"type\":\"heatmap\",\"colorbar\":{\"outlinewidth\":0,\"ticks\":\"\"},\"colorscale\":[[0.0,\"#0d0887\"],[0.1111111111111111,\"#46039f\"],[0.2222222222222222,\"#7201a8\"],[0.3333333333333333,\"#9c179e\"],[0.4444444444444444,\"#bd3786\"],[0.5555555555555556,\"#d8576b\"],[0.6666666666666666,\"#ed7953\"],[0.7777777777777778,\"#fb9f3a\"],[0.8888888888888888,\"#fdca26\"],[1.0,\"#f0f921\"]]}],\"contourcarpet\":[{\"type\":\"contourcarpet\",\"colorbar\":{\"outlinewidth\":0,\"ticks\":\"\"}}],\"contour\":[{\"type\":\"contour\",\"colorbar\":{\"outlinewidth\":0,\"ticks\":\"\"},\"colorscale\":[[0.0,\"#0d0887\"],[0.1111111111111111,\"#46039f\"],[0.2222222222222222,\"#7201a8\"],[0.3333333333333333,\"#9c179e\"],[0.4444444444444444,\"#bd3786\"],[0.5555555555555556,\"#d8576b\"],[0.6666666666666666,\"#ed7953\"],[0.7777777777777778,\"#fb9f3a\"],[0.8888888888888888,\"#fdca26\"],[1.0,\"#f0f921\"]]}],\"surface\":[{\"type\":\"surface\",\"colorbar\":{\"outlinewidth\":0,\"ticks\":\"\"},\"colorscale\":[[0.0,\"#0d0887\"],[0.1111111111111111,\"#46039f\"],[0.2222222222222222,\"#7201a8\"],[0.3333333333333333,\"#9c179e\"],[0.4444444444444444,\"#bd3786\"],[0.5555555555555556,\"#d8576b\"],[0.6666666666666666,\"#ed7953\"],[0.7777777777777778,\"#fb9f3a\"],[0.8888888888888888,\"#fdca26\"],[1.0,\"#f0f921\"]]}],\"mesh3d\":[{\"type\":\"mesh3d\",\"colorbar\":{\"outlinewidth\":0,\"ticks\":\"\"}}],\"scatter\":[{\"fillpattern\":{\"fillmode\":\"overlay\",\"size\":10,\"solidity\":0.2},\"type\":\"scatter\"}],\"parcoords\":[{\"type\":\"parcoords\",\"line\":{\"colorbar\":{\"outlinewidth\":0,\"ticks\":\"\"}}}],\"scatterpolargl\":[{\"type\":\"scatterpolargl\",\"marker\":{\"colorbar\":{\"outlinewidth\":0,\"ticks\":\"\"}}}],\"bar\":[{\"error_x\":{\"color\":\"#2a3f5f\"},\"error_y\":{\"color\":\"#2a3f5f\"},\"marker\":{\"line\":{\"color\":\"#E5ECF6\",\"width\":0.5},\"pattern\":{\"fillmode\":\"overlay\",\"size\":10,\"solidity\":0.2}},\"type\":\"bar\"}],\"scattergeo\":[{\"type\":\"scattergeo\",\"marker\":{\"colorbar\":{\"outlinewidth\":0,\"ticks\":\"\"}}}],\"scatterpolar\":[{\"type\":\"scatterpolar\",\"marker\":{\"colorbar\":{\"outlinewidth\":0,\"ticks\":\"\"}}}],\"histogram\":[{\"marker\":{\"pattern\":{\"fillmode\":\"overlay\",\"size\":10,\"solidity\":0.2}},\"type\":\"histogram\"}],\"scattergl\":[{\"type\":\"scattergl\",\"marker\":{\"colorbar\":{\"outlinewidth\":0,\"ticks\":\"\"}}}],\"scatter3d\":[{\"type\":\"scatter3d\",\"line\":{\"colorbar\":{\"outlinewidth\":0,\"ticks\":\"\"}},\"marker\":{\"colorbar\":{\"outlinewidth\":0,\"ticks\":\"\"}}}],\"scattermap\":[{\"type\":\"scattermap\",\"marker\":{\"colorbar\":{\"outlinewidth\":0,\"ticks\":\"\"}}}],\"scattermapbox\":[{\"type\":\"scattermapbox\",\"marker\":{\"colorbar\":{\"outlinewidth\":0,\"ticks\":\"\"}}}],\"scatterternary\":[{\"type\":\"scatterternary\",\"marker\":{\"colorbar\":{\"outlinewidth\":0,\"ticks\":\"\"}}}],\"scattercarpet\":[{\"type\":\"scattercarpet\",\"marker\":{\"colorbar\":{\"outlinewidth\":0,\"ticks\":\"\"}}}],\"carpet\":[{\"aaxis\":{\"endlinecolor\":\"#2a3f5f\",\"gridcolor\":\"white\",\"linecolor\":\"white\",\"minorgridcolor\":\"white\",\"startlinecolor\":\"#2a3f5f\"},\"baxis\":{\"endlinecolor\":\"#2a3f5f\",\"gridcolor\":\"white\",\"linecolor\":\"white\",\"minorgridcolor\":\"white\",\"startlinecolor\":\"#2a3f5f\"},\"type\":\"carpet\"}],\"table\":[{\"cells\":{\"fill\":{\"color\":\"#EBF0F8\"},\"line\":{\"color\":\"white\"}},\"header\":{\"fill\":{\"color\":\"#C8D4E3\"},\"line\":{\"color\":\"white\"}},\"type\":\"table\"}],\"barpolar\":[{\"marker\":{\"line\":{\"color\":\"#E5ECF6\",\"width\":0.5},\"pattern\":{\"fillmode\":\"overlay\",\"size\":10,\"solidity\":0.2}},\"type\":\"barpolar\"}],\"pie\":[{\"automargin\":true,\"type\":\"pie\"}]},\"layout\":{\"autotypenumbers\":\"strict\",\"colorway\":[\"#636efa\",\"#EF553B\",\"#00cc96\",\"#ab63fa\",\"#FFA15A\",\"#19d3f3\",\"#FF6692\",\"#B6E880\",\"#FF97FF\",\"#FECB52\"],\"font\":{\"color\":\"#2a3f5f\"},\"hovermode\":\"closest\",\"hoverlabel\":{\"align\":\"left\"},\"paper_bgcolor\":\"white\",\"plot_bgcolor\":\"#E5ECF6\",\"polar\":{\"bgcolor\":\"#E5ECF6\",\"angularaxis\":{\"gridcolor\":\"white\",\"linecolor\":\"white\",\"ticks\":\"\"},\"radialaxis\":{\"gridcolor\":\"white\",\"linecolor\":\"white\",\"ticks\":\"\"}},\"ternary\":{\"bgcolor\":\"#E5ECF6\",\"aaxis\":{\"gridcolor\":\"white\",\"linecolor\":\"white\",\"ticks\":\"\"},\"baxis\":{\"gridcolor\":\"white\",\"linecolor\":\"white\",\"ticks\":\"\"},\"caxis\":{\"gridcolor\":\"white\",\"linecolor\":\"white\",\"ticks\":\"\"}},\"coloraxis\":{\"colorbar\":{\"outlinewidth\":0,\"ticks\":\"\"}},\"colorscale\":{\"sequential\":[[0.0,\"#0d0887\"],[0.1111111111111111,\"#46039f\"],[0.2222222222222222,\"#7201a8\"],[0.3333333333333333,\"#9c179e\"],[0.4444444444444444,\"#bd3786\"],[0.5555555555555556,\"#d8576b\"],[0.6666666666666666,\"#ed7953\"],[0.7777777777777778,\"#fb9f3a\"],[0.8888888888888888,\"#fdca26\"],[1.0,\"#f0f921\"]],\"sequentialminus\":[[0.0,\"#0d0887\"],[0.1111111111111111,\"#46039f\"],[0.2222222222222222,\"#7201a8\"],[0.3333333333333333,\"#9c179e\"],[0.4444444444444444,\"#bd3786\"],[0.5555555555555556,\"#d8576b\"],[0.6666666666666666,\"#ed7953\"],[0.7777777777777778,\"#fb9f3a\"],[0.8888888888888888,\"#fdca26\"],[1.0,\"#f0f921\"]],\"diverging\":[[0,\"#8e0152\"],[0.1,\"#c51b7d\"],[0.2,\"#de77ae\"],[0.3,\"#f1b6da\"],[0.4,\"#fde0ef\"],[0.5,\"#f7f7f7\"],[0.6,\"#e6f5d0\"],[0.7,\"#b8e186\"],[0.8,\"#7fbc41\"],[0.9,\"#4d9221\"],[1,\"#276419\"]]},\"xaxis\":{\"gridcolor\":\"white\",\"linecolor\":\"white\",\"ticks\":\"\",\"title\":{\"standoff\":15},\"zerolinecolor\":\"white\",\"automargin\":true,\"zerolinewidth\":2},\"yaxis\":{\"gridcolor\":\"white\",\"linecolor\":\"white\",\"ticks\":\"\",\"title\":{\"standoff\":15},\"zerolinecolor\":\"white\",\"automargin\":true,\"zerolinewidth\":2},\"scene\":{\"xaxis\":{\"backgroundcolor\":\"#E5ECF6\",\"gridcolor\":\"white\",\"linecolor\":\"white\",\"showbackground\":true,\"ticks\":\"\",\"zerolinecolor\":\"white\",\"gridwidth\":2},\"yaxis\":{\"backgroundcolor\":\"#E5ECF6\",\"gridcolor\":\"white\",\"linecolor\":\"white\",\"showbackground\":true,\"ticks\":\"\",\"zerolinecolor\":\"white\",\"gridwidth\":2},\"zaxis\":{\"backgroundcolor\":\"#E5ECF6\",\"gridcolor\":\"white\",\"linecolor\":\"white\",\"showbackground\":true,\"ticks\":\"\",\"zerolinecolor\":\"white\",\"gridwidth\":2}},\"shapedefaults\":{\"line\":{\"color\":\"#2a3f5f\"}},\"annotationdefaults\":{\"arrowcolor\":\"#2a3f5f\",\"arrowhead\":0,\"arrowwidth\":1},\"geo\":{\"bgcolor\":\"white\",\"landcolor\":\"#E5ECF6\",\"subunitcolor\":\"white\",\"showland\":true,\"showlakes\":true,\"lakecolor\":\"white\"},\"title\":{\"x\":0.05},\"mapbox\":{\"style\":\"light\"}}},\"yaxis\":{\"title\":{\"text\":\"Gem. schade (mln USD)\"},\"rangemode\":\"tozero\"},\"yaxis2\":{\"title\":{\"text\":\"Gem. zeespiegelstijging (mm)\",\"font\":{\"size\":14},\"standoff\":30},\"overlaying\":\"y\",\"side\":\"right\",\"rangemode\":\"tozero\"},\"margin\":{\"l\":50,\"r\":70,\"t\":80,\"b\":50},\"title\":{\"text\":\"Gemiddelde Tsunami Schade en Zeespiegelstijging per Jaar\"},\"xaxis\":{\"title\":{\"text\":\"Jaar\"}},\"height\":600,\"width\":775},                        {\"responsive\": true}                    ).then(function(){\n",
       "                            \n",
       "var gd = document.getElementById('b7e0c386-375a-4f9f-98e0-c858246a83c0');\n",
       "var x = new MutationObserver(function (mutations, observer) {{\n",
       "        var display = window.getComputedStyle(gd).display;\n",
       "        if (!display || display === 'none') {{\n",
       "            console.log([gd, 'removed!']);\n",
       "            Plotly.purge(gd);\n",
       "            observer.disconnect();\n",
       "        }}\n",
       "}});\n",
       "\n",
       "// Listen for the removal of the full notebook cells\n",
       "var notebookContainer = gd.closest('#notebook-container');\n",
       "if (notebookContainer) {{\n",
       "    x.observe(notebookContainer, {childList: true});\n",
       "}}\n",
       "\n",
       "// Listen for the clearing of the current output cell\n",
       "var outputEl = gd.closest('.output');\n",
       "if (outputEl) {{\n",
       "    x.observe(outputEl, {childList: true});\n",
       "}}\n",
       "\n",
       "                        })                };            </script>        </div>"
      ]
     },
     "metadata": {},
     "output_type": "display_data"
    }
   ],
   "source": [
    "import pandas as pd\n",
    "import numpy as np\n",
    "import plotly.graph_objects as go\n",
    "import re\n",
    "\n",
    "# ------- 1. Parser voor schadebedragen -------\n",
    "def parse_damage(val):\n",
    "    if pd.isna(val):\n",
    "        return np.nan\n",
    "    val = val.upper().strip()\n",
    "\n",
    "    if 'BILLION' in val or 'B' in val:\n",
    "        nums = re.findall(r'\\d+\\.?\\d*', val)\n",
    "        if nums:\n",
    "            return float(nums[0]) * 1000\n",
    "    elif 'MILLION' in val or 'M' in val:\n",
    "        nums = re.findall(r'\\d+\\.?\\d*', val)\n",
    "        if nums:\n",
    "            return float(nums[0])\n",
    "    elif 'LIMITED' in val or 'LIITED' in val or '<$1' in val:\n",
    "        return 0.5\n",
    "    else:\n",
    "        nums = re.findall(r'\\d+\\.?\\d*', val)\n",
    "        if nums:\n",
    "            return float(nums[0])\n",
    "\n",
    "    return np.nan\n",
    "\n",
    "# ------- 2. Kolommen hernoemen & schade omzetten -------\n",
    "merged = merged.rename(columns={\n",
    "    'year': 'YEAR',\n",
    "    'mmfrom1993-2008average': 'Sea_Level_Change_mm'\n",
    "})\n",
    "\n",
    "merged['Estimated_Damage_MillionUSD'] = merged['DAMAGE_TOTAL_DESCRIPTION'].apply(parse_damage)\n",
    "\n",
    "# ------- 3. Gemiddelden per jaar berekenen -------\n",
    "bubble_data = merged.groupby('YEAR').agg({\n",
    "    'Sea_Level_Change_mm': 'mean',\n",
    "    'Estimated_Damage_MillionUSD': 'mean',\n",
    "    'DAMAGE_TOTAL_DESCRIPTION': 'count'\n",
    "}).reset_index().rename(columns={'DAMAGE_TOTAL_DESCRIPTION': 'Tsunami_Count'})\n",
    "\n",
    "# Filter voor geldige waarden en max schade 15 miljoen\n",
    "bubble_data = bubble_data.dropna(subset=['Sea_Level_Change_mm', 'Estimated_Damage_MillionUSD'])\n",
    "bubble_data = bubble_data[bubble_data['Estimated_Damage_MillionUSD'] <= 100]\n",
    "\n",
    "# ------- 4. Plot met bar (schade) + lijn (zeespiegel) -------\n",
    "fig = go.Figure()\n",
    "\n",
    "# Bar voor schade met aangepaste hover info én verplaatste colorbar\n",
    "fig.add_trace(go.Bar(\n",
    "    x=bubble_data['YEAR'],\n",
    "    y=bubble_data['Estimated_Damage_MillionUSD'],\n",
    "    name='',\n",
    "    showlegend=False,\n",
    "    marker=dict(\n",
    "        color=bubble_data['Estimated_Damage_MillionUSD'],\n",
    "        colorscale='blugrn',\n",
    "        colorbar=dict(\n",
    "            title='Schade (mln USD)',\n",
    "            x=1.125,            # Iets naar rechts verplaatst\n",
    "            y=0.425,             # Iets naar beneden (midden van de grafiek)\n",
    "            xanchor='left',\n",
    "            yanchor='middle',\n",
    "            len=0.9           # Korte schaalbalk\n",
    "        ),\n",
    "        showscale=True\n",
    "    ),\n",
    "    hovertemplate=\n",
    "        '<b>Jaar:</b> %{x}<br>'+\n",
    "        '<b>Gem. schade:</b> %{y:.2f} mln USD<br>'+\n",
    "        '<b>Aantal tsunami’s:</b> %{customdata}<br>'+\n",
    "        '<b>Gem. zeespiegelstijging:</b> %{text:.2f} mm<br>',\n",
    "    customdata=bubble_data['Tsunami_Count'],\n",
    "    text=bubble_data['Sea_Level_Change_mm'],\n",
    "))\n",
    "\n",
    "\n",
    "# Lijn voor zeespiegel zonder markers, met eigen y-as\n",
    "fig.add_trace(go.Scatter(\n",
    "    x=bubble_data['YEAR'],\n",
    "    y=bubble_data['Sea_Level_Change_mm'],\n",
    "    name='Gem. zeespiegelstijging (mm)',\n",
    "    yaxis='y2',\n",
    "    mode='lines',  # alleen lijn, geen markers\n",
    "    line=dict(color='blue', width=3),\n",
    "    hoverinfo='none'  # hover info via bar, dus hier niet nodig\n",
    "))\n",
    "\n",
    "# Layout met twee y-assen\n",
    "fig.update_layout(\n",
    "    title='Gemiddelde Tsunami Schade en Zeespiegelstijging per Jaar',\n",
    "    xaxis=dict(title='Jaar'),\n",
    "    yaxis=dict(\n",
    "        title='Gem. schade (mln USD)',\n",
    "        rangemode='tozero'\n",
    "    ),\n",
    "yaxis2=dict(\n",
    "    title='Gem. zeespiegelstijging (mm)',\n",
    "    overlaying='y',\n",
    "    side='right',\n",
    "    rangemode='tozero',\n",
    "    title_font=dict(\n",
    "        size=14,\n",
    "    ),\n",
    "    title_standoff=30\n",
    "),\n",
    "\n",
    "    height=600,\n",
    "    width=775,\n",
    "    margin=dict(l=50, r=70, t=80, b=50)\n",
    ")\n",
    "\n",
    "fig.show()"
   ]
  },
  {
   "cell_type": "markdown",
   "id": "d9f9314a-4a82-491c-afee-054c7a8d336b",
   "metadata": {},
   "source": [
    "De stijgende schadebedragen suggereren dat tsunami’s in staat zijn om steeds meer waardevolle infrastructuur en bebouwing te treffen. Een hoger zeeniveau kan ertoe leiden dat het water verder landinwaarts reikt en daardoor grotere gebieden beschadigt. Tegelijkertijd zorgt de groei van steden in kustregio’s ervoor dat de potentiële schade per gebeurtenis stijgt. Hoewel er meerdere factoren meespelen, sluit dit patroon aan bij het argument, een stijgende zeespiegel draagt bij aan het verergeren van de impact van tsunami’s. Plot 3 onderstreept daarmee de economische consequenties van klimaatverandering in kustgebieden. Ook in Plot 2 wordt zichtbaar hoe de verwoestende impact van tsunami’s is toegenomen onder invloed van een stijgende zeespiegel. De grafiek toont het aantal dodelijke slachtoffers en het aantal volledig verwoeste huizen per tsunami."
   ]
  },
  {
   "cell_type": "code",
   "execution_count": 21,
   "id": "2483b5f1-6d68-474a-9033-5399eb9e95a5",
   "metadata": {
    "editable": true,
    "jupyter": {
     "source_hidden": true
    },
    "slideshow": {
     "slide_type": ""
    },
    "tags": [
     "hide-input"
    ]
   },
   "outputs": [
    {
     "data": {
      "application/vnd.plotly.v1+json": {
       "config": {
        "plotlyServerURL": "https://plot.ly"
       },
       "data": [
        {
         "customdata": {
          "bdata": "cweHB5UHoAetB7kHxQfNB9QH2gc=",
          "dtype": "i2",
          "shape": "10, 1"
         },
         "hovertemplate": "%{y:.0f}<br>",
         "line": {
          "color": "#1f77b4"
         },
         "mode": "lines",
         "name": "Gemiddeld aantal doden",
         "type": "scatter",
         "x": {
          "bdata": "AAAAAAAAAAAAAAAAAAA0QAAAAAAAAERAAAAAAAAATkAAAAAAAABUQAAAAAAAAFlAAAAAAAAAXkAAAAAAAIBhQAAAAAAAAGRAAAAAAACAZkA=",
          "dtype": "f8"
         },
         "y": {
          "bdata": "AAAAAAAAaUAcx3Ecx9VzQFVVVVVVJYBAAAAAAACkX0C3bdu2bVtuQBQ7sRM7UXdAq6qqqqqmeUBVVVVVVe1wQBzHcRzHGXFAF1100UWvgUA=",
          "dtype": "f8"
         }
        },
        {
         "customdata": {
          "bdata": "cweHB5UHoAetB7kHxQfNB9QH2gc=",
          "dtype": "i2",
          "shape": "10, 1"
         },
         "hovertemplate": "%{y:.0f}<br>Zeespiegelstijging: %{x:.0f} mm<br>Gemiddeld jaar: %{customdata[0]:.0f}",
         "line": {
          "color": "#2ca02c"
         },
         "mode": "lines",
         "name": "Gemiddeld aantal verwoeste huizen",
         "type": "scatter",
         "x": {
          "bdata": "AAAAAAAAAAAAAAAAAAA0QAAAAAAAAERAAAAAAAAATkAAAAAAAABUQAAAAAAAAFlAAAAAAAAAXkAAAAAAAIBhQAAAAAAAAGRAAAAAAACAZkA=",
          "dtype": "f8"
         },
         "y": {
          "bdata": "FDuxEzt1gUAAAAAAAOyDQAAAAAAAvIZAiIeHh4efg0C0bjBFPpOAQAAAAACAiIVAaWlpaWkxjkCrqqqqquqGQAAAAAAAHolAAAAAAACWiUA=",
          "dtype": "f8"
         },
         "yaxis": "y2"
        }
       ],
       "layout": {
        "hovermode": "x unified",
        "legend": {
         "x": 0,
         "y": 1.25
        },
        "template": {
         "data": {
          "bar": [
           {
            "error_x": {
             "color": "#2a3f5f"
            },
            "error_y": {
             "color": "#2a3f5f"
            },
            "marker": {
             "line": {
              "color": "white",
              "width": 0.5
             },
             "pattern": {
              "fillmode": "overlay",
              "size": 10,
              "solidity": 0.2
             }
            },
            "type": "bar"
           }
          ],
          "barpolar": [
           {
            "marker": {
             "line": {
              "color": "white",
              "width": 0.5
             },
             "pattern": {
              "fillmode": "overlay",
              "size": 10,
              "solidity": 0.2
             }
            },
            "type": "barpolar"
           }
          ],
          "carpet": [
           {
            "aaxis": {
             "endlinecolor": "#2a3f5f",
             "gridcolor": "#C8D4E3",
             "linecolor": "#C8D4E3",
             "minorgridcolor": "#C8D4E3",
             "startlinecolor": "#2a3f5f"
            },
            "baxis": {
             "endlinecolor": "#2a3f5f",
             "gridcolor": "#C8D4E3",
             "linecolor": "#C8D4E3",
             "minorgridcolor": "#C8D4E3",
             "startlinecolor": "#2a3f5f"
            },
            "type": "carpet"
           }
          ],
          "choropleth": [
           {
            "colorbar": {
             "outlinewidth": 0,
             "ticks": ""
            },
            "type": "choropleth"
           }
          ],
          "contour": [
           {
            "colorbar": {
             "outlinewidth": 0,
             "ticks": ""
            },
            "colorscale": [
             [
              0,
              "#0d0887"
             ],
             [
              0.1111111111111111,
              "#46039f"
             ],
             [
              0.2222222222222222,
              "#7201a8"
             ],
             [
              0.3333333333333333,
              "#9c179e"
             ],
             [
              0.4444444444444444,
              "#bd3786"
             ],
             [
              0.5555555555555556,
              "#d8576b"
             ],
             [
              0.6666666666666666,
              "#ed7953"
             ],
             [
              0.7777777777777778,
              "#fb9f3a"
             ],
             [
              0.8888888888888888,
              "#fdca26"
             ],
             [
              1,
              "#f0f921"
             ]
            ],
            "type": "contour"
           }
          ],
          "contourcarpet": [
           {
            "colorbar": {
             "outlinewidth": 0,
             "ticks": ""
            },
            "type": "contourcarpet"
           }
          ],
          "heatmap": [
           {
            "colorbar": {
             "outlinewidth": 0,
             "ticks": ""
            },
            "colorscale": [
             [
              0,
              "#0d0887"
             ],
             [
              0.1111111111111111,
              "#46039f"
             ],
             [
              0.2222222222222222,
              "#7201a8"
             ],
             [
              0.3333333333333333,
              "#9c179e"
             ],
             [
              0.4444444444444444,
              "#bd3786"
             ],
             [
              0.5555555555555556,
              "#d8576b"
             ],
             [
              0.6666666666666666,
              "#ed7953"
             ],
             [
              0.7777777777777778,
              "#fb9f3a"
             ],
             [
              0.8888888888888888,
              "#fdca26"
             ],
             [
              1,
              "#f0f921"
             ]
            ],
            "type": "heatmap"
           }
          ],
          "histogram": [
           {
            "marker": {
             "pattern": {
              "fillmode": "overlay",
              "size": 10,
              "solidity": 0.2
             }
            },
            "type": "histogram"
           }
          ],
          "histogram2d": [
           {
            "colorbar": {
             "outlinewidth": 0,
             "ticks": ""
            },
            "colorscale": [
             [
              0,
              "#0d0887"
             ],
             [
              0.1111111111111111,
              "#46039f"
             ],
             [
              0.2222222222222222,
              "#7201a8"
             ],
             [
              0.3333333333333333,
              "#9c179e"
             ],
             [
              0.4444444444444444,
              "#bd3786"
             ],
             [
              0.5555555555555556,
              "#d8576b"
             ],
             [
              0.6666666666666666,
              "#ed7953"
             ],
             [
              0.7777777777777778,
              "#fb9f3a"
             ],
             [
              0.8888888888888888,
              "#fdca26"
             ],
             [
              1,
              "#f0f921"
             ]
            ],
            "type": "histogram2d"
           }
          ],
          "histogram2dcontour": [
           {
            "colorbar": {
             "outlinewidth": 0,
             "ticks": ""
            },
            "colorscale": [
             [
              0,
              "#0d0887"
             ],
             [
              0.1111111111111111,
              "#46039f"
             ],
             [
              0.2222222222222222,
              "#7201a8"
             ],
             [
              0.3333333333333333,
              "#9c179e"
             ],
             [
              0.4444444444444444,
              "#bd3786"
             ],
             [
              0.5555555555555556,
              "#d8576b"
             ],
             [
              0.6666666666666666,
              "#ed7953"
             ],
             [
              0.7777777777777778,
              "#fb9f3a"
             ],
             [
              0.8888888888888888,
              "#fdca26"
             ],
             [
              1,
              "#f0f921"
             ]
            ],
            "type": "histogram2dcontour"
           }
          ],
          "mesh3d": [
           {
            "colorbar": {
             "outlinewidth": 0,
             "ticks": ""
            },
            "type": "mesh3d"
           }
          ],
          "parcoords": [
           {
            "line": {
             "colorbar": {
              "outlinewidth": 0,
              "ticks": ""
             }
            },
            "type": "parcoords"
           }
          ],
          "pie": [
           {
            "automargin": true,
            "type": "pie"
           }
          ],
          "scatter": [
           {
            "fillpattern": {
             "fillmode": "overlay",
             "size": 10,
             "solidity": 0.2
            },
            "type": "scatter"
           }
          ],
          "scatter3d": [
           {
            "line": {
             "colorbar": {
              "outlinewidth": 0,
              "ticks": ""
             }
            },
            "marker": {
             "colorbar": {
              "outlinewidth": 0,
              "ticks": ""
             }
            },
            "type": "scatter3d"
           }
          ],
          "scattercarpet": [
           {
            "marker": {
             "colorbar": {
              "outlinewidth": 0,
              "ticks": ""
             }
            },
            "type": "scattercarpet"
           }
          ],
          "scattergeo": [
           {
            "marker": {
             "colorbar": {
              "outlinewidth": 0,
              "ticks": ""
             }
            },
            "type": "scattergeo"
           }
          ],
          "scattergl": [
           {
            "marker": {
             "colorbar": {
              "outlinewidth": 0,
              "ticks": ""
             }
            },
            "type": "scattergl"
           }
          ],
          "scattermap": [
           {
            "marker": {
             "colorbar": {
              "outlinewidth": 0,
              "ticks": ""
             }
            },
            "type": "scattermap"
           }
          ],
          "scattermapbox": [
           {
            "marker": {
             "colorbar": {
              "outlinewidth": 0,
              "ticks": ""
             }
            },
            "type": "scattermapbox"
           }
          ],
          "scatterpolar": [
           {
            "marker": {
             "colorbar": {
              "outlinewidth": 0,
              "ticks": ""
             }
            },
            "type": "scatterpolar"
           }
          ],
          "scatterpolargl": [
           {
            "marker": {
             "colorbar": {
              "outlinewidth": 0,
              "ticks": ""
             }
            },
            "type": "scatterpolargl"
           }
          ],
          "scatterternary": [
           {
            "marker": {
             "colorbar": {
              "outlinewidth": 0,
              "ticks": ""
             }
            },
            "type": "scatterternary"
           }
          ],
          "surface": [
           {
            "colorbar": {
             "outlinewidth": 0,
             "ticks": ""
            },
            "colorscale": [
             [
              0,
              "#0d0887"
             ],
             [
              0.1111111111111111,
              "#46039f"
             ],
             [
              0.2222222222222222,
              "#7201a8"
             ],
             [
              0.3333333333333333,
              "#9c179e"
             ],
             [
              0.4444444444444444,
              "#bd3786"
             ],
             [
              0.5555555555555556,
              "#d8576b"
             ],
             [
              0.6666666666666666,
              "#ed7953"
             ],
             [
              0.7777777777777778,
              "#fb9f3a"
             ],
             [
              0.8888888888888888,
              "#fdca26"
             ],
             [
              1,
              "#f0f921"
             ]
            ],
            "type": "surface"
           }
          ],
          "table": [
           {
            "cells": {
             "fill": {
              "color": "#EBF0F8"
             },
             "line": {
              "color": "white"
             }
            },
            "header": {
             "fill": {
              "color": "#C8D4E3"
             },
             "line": {
              "color": "white"
             }
            },
            "type": "table"
           }
          ]
         },
         "layout": {
          "annotationdefaults": {
           "arrowcolor": "#2a3f5f",
           "arrowhead": 0,
           "arrowwidth": 1
          },
          "autotypenumbers": "strict",
          "coloraxis": {
           "colorbar": {
            "outlinewidth": 0,
            "ticks": ""
           }
          },
          "colorscale": {
           "diverging": [
            [
             0,
             "#8e0152"
            ],
            [
             0.1,
             "#c51b7d"
            ],
            [
             0.2,
             "#de77ae"
            ],
            [
             0.3,
             "#f1b6da"
            ],
            [
             0.4,
             "#fde0ef"
            ],
            [
             0.5,
             "#f7f7f7"
            ],
            [
             0.6,
             "#e6f5d0"
            ],
            [
             0.7,
             "#b8e186"
            ],
            [
             0.8,
             "#7fbc41"
            ],
            [
             0.9,
             "#4d9221"
            ],
            [
             1,
             "#276419"
            ]
           ],
           "sequential": [
            [
             0,
             "#0d0887"
            ],
            [
             0.1111111111111111,
             "#46039f"
            ],
            [
             0.2222222222222222,
             "#7201a8"
            ],
            [
             0.3333333333333333,
             "#9c179e"
            ],
            [
             0.4444444444444444,
             "#bd3786"
            ],
            [
             0.5555555555555556,
             "#d8576b"
            ],
            [
             0.6666666666666666,
             "#ed7953"
            ],
            [
             0.7777777777777778,
             "#fb9f3a"
            ],
            [
             0.8888888888888888,
             "#fdca26"
            ],
            [
             1,
             "#f0f921"
            ]
           ],
           "sequentialminus": [
            [
             0,
             "#0d0887"
            ],
            [
             0.1111111111111111,
             "#46039f"
            ],
            [
             0.2222222222222222,
             "#7201a8"
            ],
            [
             0.3333333333333333,
             "#9c179e"
            ],
            [
             0.4444444444444444,
             "#bd3786"
            ],
            [
             0.5555555555555556,
             "#d8576b"
            ],
            [
             0.6666666666666666,
             "#ed7953"
            ],
            [
             0.7777777777777778,
             "#fb9f3a"
            ],
            [
             0.8888888888888888,
             "#fdca26"
            ],
            [
             1,
             "#f0f921"
            ]
           ]
          },
          "colorway": [
           "#636efa",
           "#EF553B",
           "#00cc96",
           "#ab63fa",
           "#FFA15A",
           "#19d3f3",
           "#FF6692",
           "#B6E880",
           "#FF97FF",
           "#FECB52"
          ],
          "font": {
           "color": "#2a3f5f"
          },
          "geo": {
           "bgcolor": "white",
           "lakecolor": "white",
           "landcolor": "white",
           "showlakes": true,
           "showland": true,
           "subunitcolor": "#C8D4E3"
          },
          "hoverlabel": {
           "align": "left"
          },
          "hovermode": "closest",
          "mapbox": {
           "style": "light"
          },
          "paper_bgcolor": "white",
          "plot_bgcolor": "white",
          "polar": {
           "angularaxis": {
            "gridcolor": "#EBF0F8",
            "linecolor": "#EBF0F8",
            "ticks": ""
           },
           "bgcolor": "white",
           "radialaxis": {
            "gridcolor": "#EBF0F8",
            "linecolor": "#EBF0F8",
            "ticks": ""
           }
          },
          "scene": {
           "xaxis": {
            "backgroundcolor": "white",
            "gridcolor": "#DFE8F3",
            "gridwidth": 2,
            "linecolor": "#EBF0F8",
            "showbackground": true,
            "ticks": "",
            "zerolinecolor": "#EBF0F8"
           },
           "yaxis": {
            "backgroundcolor": "white",
            "gridcolor": "#DFE8F3",
            "gridwidth": 2,
            "linecolor": "#EBF0F8",
            "showbackground": true,
            "ticks": "",
            "zerolinecolor": "#EBF0F8"
           },
           "zaxis": {
            "backgroundcolor": "white",
            "gridcolor": "#DFE8F3",
            "gridwidth": 2,
            "linecolor": "#EBF0F8",
            "showbackground": true,
            "ticks": "",
            "zerolinecolor": "#EBF0F8"
           }
          },
          "shapedefaults": {
           "line": {
            "color": "#2a3f5f"
           }
          },
          "ternary": {
           "aaxis": {
            "gridcolor": "#DFE8F3",
            "linecolor": "#A2B1C6",
            "ticks": ""
           },
           "baxis": {
            "gridcolor": "#DFE8F3",
            "linecolor": "#A2B1C6",
            "ticks": ""
           },
           "bgcolor": "white",
           "caxis": {
            "gridcolor": "#DFE8F3",
            "linecolor": "#A2B1C6",
            "ticks": ""
           }
          },
          "title": {
           "x": 0.05
          },
          "xaxis": {
           "automargin": true,
           "gridcolor": "#EBF0F8",
           "linecolor": "#EBF0F8",
           "ticks": "",
           "title": {
            "standoff": 15
           },
           "zerolinecolor": "#EBF0F8",
           "zerolinewidth": 2
          },
          "yaxis": {
           "automargin": true,
           "gridcolor": "#EBF0F8",
           "linecolor": "#EBF0F8",
           "ticks": "",
           "title": {
            "standoff": 15
           },
           "zerolinecolor": "#EBF0F8",
           "zerolinewidth": 2
          }
         }
        },
        "title": {
         "text": "Effect van zeespiegelstijging op slachtoffers en verwoeste huizen"
        },
        "xaxis": {
         "title": {
          "text": "Zeespiegelstijging (mm vanaf 0, per 20 mm gegroepeerd)"
         }
        },
        "yaxis": {
         "tickfont": {
          "color": "#1f77b4"
         },
         "title": {
          "text": "Gemiddeld aantal doden"
         }
        },
        "yaxis2": {
         "overlaying": "y",
         "side": "right",
         "tickfont": {
          "color": "#2ca02c"
         },
         "title": {
          "text": "Gemiddeld aantal verwoeste huizen"
         }
        }
       }
      },
      "image/png": "[encoded data removed]",
      "text/html": [
       "<div>            <script src=\"https://cdnjs.cloudflare.com/ajax/libs/mathjax/2.7.5/MathJax.js?config=TeX-AMS-MML_SVG\"></script><script type=\"text/javascript\">if (window.MathJax && window.MathJax.Hub && window.MathJax.Hub.Config) {window.MathJax.Hub.Config({SVG: {font: \"STIX-Web\"}});}</script>                <script type=\"text/javascript\">window.PlotlyConfig = {MathJaxConfig: 'local'};</script>\n",
       "        <script charset=\"utf-8\" src=\"https://cdn.plot.ly/plotly-3.0.1.min.js\"></script>                <div id=\"ed216f10-5fc3-404d-a1c6-2047fbdbef51\" class=\"plotly-graph-div\" style=\"height:525px; width:100%;\"></div>            <script type=\"text/javascript\">                window.PLOTLYENV=window.PLOTLYENV || {};                                if (document.getElementById(\"ed216f10-5fc3-404d-a1c6-2047fbdbef51\")) {                    Plotly.newPlot(                        \"ed216f10-5fc3-404d-a1c6-2047fbdbef51\",                        [{\"customdata\":{\"dtype\":\"i2\",\"bdata\":\"cweHB5UHoAetB7kHxQfNB9QH2gc=\",\"shape\":\"10, 1\"},\"hovertemplate\":\"%{y:.0f}\\u003cbr\\u003e\",\"line\":{\"color\":\"#1f77b4\"},\"mode\":\"lines\",\"name\":\"Gemiddeld aantal doden\",\"x\":{\"dtype\":\"f8\",\"bdata\":\"AAAAAAAAAAAAAAAAAAA0QAAAAAAAAERAAAAAAAAATkAAAAAAAABUQAAAAAAAAFlAAAAAAAAAXkAAAAAAAIBhQAAAAAAAAGRAAAAAAACAZkA=\"},\"y\":{\"dtype\":\"f8\",\"bdata\":\"AAAAAAAAaUAcx3Ecx9VzQFVVVVVVJYBAAAAAAACkX0C3bdu2bVtuQBQ7sRM7UXdAq6qqqqqmeUBVVVVVVe1wQBzHcRzHGXFAF1100UWvgUA=\"},\"type\":\"scatter\"},{\"customdata\":{\"dtype\":\"i2\",\"bdata\":\"cweHB5UHoAetB7kHxQfNB9QH2gc=\",\"shape\":\"10, 1\"},\"hovertemplate\":\"%{y:.0f}\\u003cbr\\u003eZeespiegelstijging: %{x:.0f} mm\\u003cbr\\u003eGemiddeld jaar: %{customdata[0]:.0f}\",\"line\":{\"color\":\"#2ca02c\"},\"mode\":\"lines\",\"name\":\"Gemiddeld aantal verwoeste huizen\",\"x\":{\"dtype\":\"f8\",\"bdata\":\"AAAAAAAAAAAAAAAAAAA0QAAAAAAAAERAAAAAAAAATkAAAAAAAABUQAAAAAAAAFlAAAAAAAAAXkAAAAAAAIBhQAAAAAAAAGRAAAAAAACAZkA=\"},\"y\":{\"dtype\":\"f8\",\"bdata\":\"FDuxEzt1gUAAAAAAAOyDQAAAAAAAvIZAiIeHh4efg0C0bjBFPpOAQAAAAACAiIVAaWlpaWkxjkCrqqqqquqGQAAAAAAAHolAAAAAAACWiUA=\"},\"yaxis\":\"y2\",\"type\":\"scatter\"}],                        {\"template\":{\"data\":{\"barpolar\":[{\"marker\":{\"line\":{\"color\":\"white\",\"width\":0.5},\"pattern\":{\"fillmode\":\"overlay\",\"size\":10,\"solidity\":0.2}},\"type\":\"barpolar\"}],\"bar\":[{\"error_x\":{\"color\":\"#2a3f5f\"},\"error_y\":{\"color\":\"#2a3f5f\"},\"marker\":{\"line\":{\"color\":\"white\",\"width\":0.5},\"pattern\":{\"fillmode\":\"overlay\",\"size\":10,\"solidity\":0.2}},\"type\":\"bar\"}],\"carpet\":[{\"aaxis\":{\"endlinecolor\":\"#2a3f5f\",\"gridcolor\":\"#C8D4E3\",\"linecolor\":\"#C8D4E3\",\"minorgridcolor\":\"#C8D4E3\",\"startlinecolor\":\"#2a3f5f\"},\"baxis\":{\"endlinecolor\":\"#2a3f5f\",\"gridcolor\":\"#C8D4E3\",\"linecolor\":\"#C8D4E3\",\"minorgridcolor\":\"#C8D4E3\",\"startlinecolor\":\"#2a3f5f\"},\"type\":\"carpet\"}],\"choropleth\":[{\"colorbar\":{\"outlinewidth\":0,\"ticks\":\"\"},\"type\":\"choropleth\"}],\"contourcarpet\":[{\"colorbar\":{\"outlinewidth\":0,\"ticks\":\"\"},\"type\":\"contourcarpet\"}],\"contour\":[{\"colorbar\":{\"outlinewidth\":0,\"ticks\":\"\"},\"colorscale\":[[0.0,\"#0d0887\"],[0.1111111111111111,\"#46039f\"],[0.2222222222222222,\"#7201a8\"],[0.3333333333333333,\"#9c179e\"],[0.4444444444444444,\"#bd3786\"],[0.5555555555555556,\"#d8576b\"],[0.6666666666666666,\"#ed7953\"],[0.7777777777777778,\"#fb9f3a\"],[0.8888888888888888,\"#fdca26\"],[1.0,\"#f0f921\"]],\"type\":\"contour\"}],\"heatmap\":[{\"colorbar\":{\"outlinewidth\":0,\"ticks\":\"\"},\"colorscale\":[[0.0,\"#0d0887\"],[0.1111111111111111,\"#46039f\"],[0.2222222222222222,\"#7201a8\"],[0.3333333333333333,\"#9c179e\"],[0.4444444444444444,\"#bd3786\"],[0.5555555555555556,\"#d8576b\"],[0.6666666666666666,\"#ed7953\"],[0.7777777777777778,\"#fb9f3a\"],[0.8888888888888888,\"#fdca26\"],[1.0,\"#f0f921\"]],\"type\":\"heatmap\"}],\"histogram2dcontour\":[{\"colorbar\":{\"outlinewidth\":0,\"ticks\":\"\"},\"colorscale\":[[0.0,\"#0d0887\"],[0.1111111111111111,\"#46039f\"],[0.2222222222222222,\"#7201a8\"],[0.3333333333333333,\"#9c179e\"],[0.4444444444444444,\"#bd3786\"],[0.5555555555555556,\"#d8576b\"],[0.6666666666666666,\"#ed7953\"],[0.7777777777777778,\"#fb9f3a\"],[0.8888888888888888,\"#fdca26\"],[1.0,\"#f0f921\"]],\"type\":\"histogram2dcontour\"}],\"histogram2d\":[{\"colorbar\":{\"outlinewidth\":0,\"ticks\":\"\"},\"colorscale\":[[0.0,\"#0d0887\"],[0.1111111111111111,\"#46039f\"],[0.2222222222222222,\"#7201a8\"],[0.3333333333333333,\"#9c179e\"],[0.4444444444444444,\"#bd3786\"],[0.5555555555555556,\"#d8576b\"],[0.6666666666666666,\"#ed7953\"],[0.7777777777777778,\"#fb9f3a\"],[0.8888888888888888,\"#fdca26\"],[1.0,\"#f0f921\"]],\"type\":\"histogram2d\"}],\"histogram\":[{\"marker\":{\"pattern\":{\"fillmode\":\"overlay\",\"size\":10,\"solidity\":0.2}},\"type\":\"histogram\"}],\"mesh3d\":[{\"colorbar\":{\"outlinewidth\":0,\"ticks\":\"\"},\"type\":\"mesh3d\"}],\"parcoords\":[{\"line\":{\"colorbar\":{\"outlinewidth\":0,\"ticks\":\"\"}},\"type\":\"parcoords\"}],\"pie\":[{\"automargin\":true,\"type\":\"pie\"}],\"scatter3d\":[{\"line\":{\"colorbar\":{\"outlinewidth\":0,\"ticks\":\"\"}},\"marker\":{\"colorbar\":{\"outlinewidth\":0,\"ticks\":\"\"}},\"type\":\"scatter3d\"}],\"scattercarpet\":[{\"marker\":{\"colorbar\":{\"outlinewidth\":0,\"ticks\":\"\"}},\"type\":\"scattercarpet\"}],\"scattergeo\":[{\"marker\":{\"colorbar\":{\"outlinewidth\":0,\"ticks\":\"\"}},\"type\":\"scattergeo\"}],\"scattergl\":[{\"marker\":{\"colorbar\":{\"outlinewidth\":0,\"ticks\":\"\"}},\"type\":\"scattergl\"}],\"scattermapbox\":[{\"marker\":{\"colorbar\":{\"outlinewidth\":0,\"ticks\":\"\"}},\"type\":\"scattermapbox\"}],\"scattermap\":[{\"marker\":{\"colorbar\":{\"outlinewidth\":0,\"ticks\":\"\"}},\"type\":\"scattermap\"}],\"scatterpolargl\":[{\"marker\":{\"colorbar\":{\"outlinewidth\":0,\"ticks\":\"\"}},\"type\":\"scatterpolargl\"}],\"scatterpolar\":[{\"marker\":{\"colorbar\":{\"outlinewidth\":0,\"ticks\":\"\"}},\"type\":\"scatterpolar\"}],\"scatter\":[{\"fillpattern\":{\"fillmode\":\"overlay\",\"size\":10,\"solidity\":0.2},\"type\":\"scatter\"}],\"scatterternary\":[{\"marker\":{\"colorbar\":{\"outlinewidth\":0,\"ticks\":\"\"}},\"type\":\"scatterternary\"}],\"surface\":[{\"colorbar\":{\"outlinewidth\":0,\"ticks\":\"\"},\"colorscale\":[[0.0,\"#0d0887\"],[0.1111111111111111,\"#46039f\"],[0.2222222222222222,\"#7201a8\"],[0.3333333333333333,\"#9c179e\"],[0.4444444444444444,\"#bd3786\"],[0.5555555555555556,\"#d8576b\"],[0.6666666666666666,\"#ed7953\"],[0.7777777777777778,\"#fb9f3a\"],[0.8888888888888888,\"#fdca26\"],[1.0,\"#f0f921\"]],\"type\":\"surface\"}],\"table\":[{\"cells\":{\"fill\":{\"color\":\"#EBF0F8\"},\"line\":{\"color\":\"white\"}},\"header\":{\"fill\":{\"color\":\"#C8D4E3\"},\"line\":{\"color\":\"white\"}},\"type\":\"table\"}]},\"layout\":{\"annotationdefaults\":{\"arrowcolor\":\"#2a3f5f\",\"arrowhead\":0,\"arrowwidth\":1},\"autotypenumbers\":\"strict\",\"coloraxis\":{\"colorbar\":{\"outlinewidth\":0,\"ticks\":\"\"}},\"colorscale\":{\"diverging\":[[0,\"#8e0152\"],[0.1,\"#c51b7d\"],[0.2,\"#de77ae\"],[0.3,\"#f1b6da\"],[0.4,\"#fde0ef\"],[0.5,\"#f7f7f7\"],[0.6,\"#e6f5d0\"],[0.7,\"#b8e186\"],[0.8,\"#7fbc41\"],[0.9,\"#4d9221\"],[1,\"#276419\"]],\"sequential\":[[0.0,\"#0d0887\"],[0.1111111111111111,\"#46039f\"],[0.2222222222222222,\"#7201a8\"],[0.3333333333333333,\"#9c179e\"],[0.4444444444444444,\"#bd3786\"],[0.5555555555555556,\"#d8576b\"],[0.6666666666666666,\"#ed7953\"],[0.7777777777777778,\"#fb9f3a\"],[0.8888888888888888,\"#fdca26\"],[1.0,\"#f0f921\"]],\"sequentialminus\":[[0.0,\"#0d0887\"],[0.1111111111111111,\"#46039f\"],[0.2222222222222222,\"#7201a8\"],[0.3333333333333333,\"#9c179e\"],[0.4444444444444444,\"#bd3786\"],[0.5555555555555556,\"#d8576b\"],[0.6666666666666666,\"#ed7953\"],[0.7777777777777778,\"#fb9f3a\"],[0.8888888888888888,\"#fdca26\"],[1.0,\"#f0f921\"]]},\"colorway\":[\"#636efa\",\"#EF553B\",\"#00cc96\",\"#ab63fa\",\"#FFA15A\",\"#19d3f3\",\"#FF6692\",\"#B6E880\",\"#FF97FF\",\"#FECB52\"],\"font\":{\"color\":\"#2a3f5f\"},\"geo\":{\"bgcolor\":\"white\",\"lakecolor\":\"white\",\"landcolor\":\"white\",\"showlakes\":true,\"showland\":true,\"subunitcolor\":\"#C8D4E3\"},\"hoverlabel\":{\"align\":\"left\"},\"hovermode\":\"closest\",\"mapbox\":{\"style\":\"light\"},\"paper_bgcolor\":\"white\",\"plot_bgcolor\":\"white\",\"polar\":{\"angularaxis\":{\"gridcolor\":\"#EBF0F8\",\"linecolor\":\"#EBF0F8\",\"ticks\":\"\"},\"bgcolor\":\"white\",\"radialaxis\":{\"gridcolor\":\"#EBF0F8\",\"linecolor\":\"#EBF0F8\",\"ticks\":\"\"}},\"scene\":{\"xaxis\":{\"backgroundcolor\":\"white\",\"gridcolor\":\"#DFE8F3\",\"gridwidth\":2,\"linecolor\":\"#EBF0F8\",\"showbackground\":true,\"ticks\":\"\",\"zerolinecolor\":\"#EBF0F8\"},\"yaxis\":{\"backgroundcolor\":\"white\",\"gridcolor\":\"#DFE8F3\",\"gridwidth\":2,\"linecolor\":\"#EBF0F8\",\"showbackground\":true,\"ticks\":\"\",\"zerolinecolor\":\"#EBF0F8\"},\"zaxis\":{\"backgroundcolor\":\"white\",\"gridcolor\":\"#DFE8F3\",\"gridwidth\":2,\"linecolor\":\"#EBF0F8\",\"showbackground\":true,\"ticks\":\"\",\"zerolinecolor\":\"#EBF0F8\"}},\"shapedefaults\":{\"line\":{\"color\":\"#2a3f5f\"}},\"ternary\":{\"aaxis\":{\"gridcolor\":\"#DFE8F3\",\"linecolor\":\"#A2B1C6\",\"ticks\":\"\"},\"baxis\":{\"gridcolor\":\"#DFE8F3\",\"linecolor\":\"#A2B1C6\",\"ticks\":\"\"},\"bgcolor\":\"white\",\"caxis\":{\"gridcolor\":\"#DFE8F3\",\"linecolor\":\"#A2B1C6\",\"ticks\":\"\"}},\"title\":{\"x\":0.05},\"xaxis\":{\"automargin\":true,\"gridcolor\":\"#EBF0F8\",\"linecolor\":\"#EBF0F8\",\"ticks\":\"\",\"title\":{\"standoff\":15},\"zerolinecolor\":\"#EBF0F8\",\"zerolinewidth\":2},\"yaxis\":{\"automargin\":true,\"gridcolor\":\"#EBF0F8\",\"linecolor\":\"#EBF0F8\",\"ticks\":\"\",\"title\":{\"standoff\":15},\"zerolinecolor\":\"#EBF0F8\",\"zerolinewidth\":2}}},\"yaxis\":{\"tickfont\":{\"color\":\"#1f77b4\"},\"title\":{\"text\":\"Gemiddeld aantal doden\"}},\"yaxis2\":{\"title\":{\"text\":\"Gemiddeld aantal verwoeste huizen\"},\"tickfont\":{\"color\":\"#2ca02c\"},\"overlaying\":\"y\",\"side\":\"right\"},\"legend\":{\"x\":0.0,\"y\":1.25},\"title\":{\"text\":\"Effect van zeespiegelstijging op slachtoffers en verwoeste huizen\"},\"xaxis\":{\"title\":{\"text\":\"Zeespiegelstijging (mm vanaf 0, per 20 mm gegroepeerd)\"}},\"hovermode\":\"x unified\"},                        {\"responsive\": true}                    ).then(function(){\n",
       "                            \n",
       "var gd = document.getElementById('ed216f10-5fc3-404d-a1c6-2047fbdbef51');\n",
       "var x = new MutationObserver(function (mutations, observer) {{\n",
       "        var display = window.getComputedStyle(gd).display;\n",
       "        if (!display || display === 'none') {{\n",
       "            console.log([gd, 'removed!']);\n",
       "            Plotly.purge(gd);\n",
       "            observer.disconnect();\n",
       "        }}\n",
       "}});\n",
       "\n",
       "// Listen for the removal of the full notebook cells\n",
       "var notebookContainer = gd.closest('#notebook-container');\n",
       "if (notebookContainer) {{\n",
       "    x.observe(notebookContainer, {childList: true});\n",
       "}}\n",
       "\n",
       "// Listen for the clearing of the current output cell\n",
       "var outputEl = gd.closest('.output');\n",
       "if (outputEl) {{\n",
       "    x.observe(outputEl, {childList: true});\n",
       "}}\n",
       "\n",
       "                        })                };            </script>        </div>"
      ]
     },
     "metadata": {},
     "output_type": "display_data"
    }
   ],
   "source": [
    "import pandas as pd\n",
    "import plotly.graph_objs as go\n",
    "\n",
    "# --- 1. Mapping naar numerieke doden ---\n",
    "deaths_mapping = {\n",
    "    \"None reported\": 0,\n",
    "    \"Few (~1 to 50 people)\": 25,\n",
    "    \"Some (~51 to 100 people)\": 75,\n",
    "    \"Many (~101 to 1,000 people)\": 550,\n",
    "    \"Very Many (~1001 or more people)\": 1500\n",
    "}\n",
    "houses_map = {\n",
    "    'Few (~1 to 50 houses)': 25,\n",
    "    'Some (~51 to 100 houses)': 75,\n",
    "    'Many (~101 to 1000 houses)': 550,\n",
    "    'Very Many (~1001 or more houses)': 1500\n",
    "}\n",
    "merged[\"HOUSES_ESTIMATED\"] = merged[\"HOUSES_TOTAL_DESCRIPTION\"].map(houses_map)\n",
    "merged[\"DEATHS_ESTIMATED\"] = merged[\"DEATHS_TOTAL_DESCRIPTION\"].map(deaths_mapping)\n",
    "\n",
    "# --- 2. Zeespiegel corrigeren ---\n",
    "min_sea = merged[\"Sea_Level_Change_mm\"].min()\n",
    "merged[\"Sea_Level_Corrected\"] = merged[\"Sea_Level_Change_mm\"] - min_sea\n",
    "\n",
    "# --- 3. Bepaal decennium (optioneel) ---\n",
    "merged[\"Decennium\"] = (merged[\"Year\"] // 10) * 10\n",
    "\n",
    "# --- 4. Groeperen per 20mm zeespiegelbin ---\n",
    "merged[\"Sea_Level_Bin\"] = (merged[\"Sea_Level_Corrected\"] // 20) * 20\n",
    "grouped = merged.groupby(\"Sea_Level_Bin\").agg({\n",
    "    \"DEATHS_ESTIMATED\": \"mean\",\n",
    "    \"HOUSES_ESTIMATED\": \"mean\",\n",
    "    \"Year\": lambda x: int(x.mean())  # gemiddeld jaar als representatie\n",
    "}).reset_index()\n",
    "\n",
    "# --- 5. Laatste bin verwijderen ---\n",
    "max_bin = grouped[\"Sea_Level_Bin\"].max()\n",
    "grouped = grouped[grouped[\"Sea_Level_Bin\"] < max_bin]\n",
    "\n",
    "# --- 6. Plot maken ---\n",
    "fig = go.Figure()\n",
    "min_sea = merged[\"Sea_Level_Change_mm\"].min()\n",
    "merged[\"Sea_Level_Corrected\"] = merged[\"Sea_Level_Change_mm\"] - min_sea\n",
    "\n",
    "\n",
    "merged[\"Sea_Level_Bin\"] = (merged[\"Sea_Level_Corrected\"] // 20) * 20\n",
    "grouped = merged.groupby(\"Sea_Level_Bin\").agg({\n",
    "    \"DEATHS_ESTIMATED\": \"mean\",\n",
    "    \"HOUSES_ESTIMATED\": \"mean\",\n",
    "    \"Year\": lambda x: int(x.mean())  # gemiddeld jaar als representatie\n",
    "}).reset_index()\n",
    "\n",
    "# --- 5. Laatste bin verwijderen ---\n",
    "max_bin = grouped[\"Sea_Level_Bin\"].max()\n",
    "grouped = grouped[grouped[\"Sea_Level_Bin\"] < max_bin]\n",
    "\n",
    "\n",
    "# Lijn: Aantal doden (blauwgroen tint)\n",
    "fig.add_trace(go.Scatter(\n",
    "    x=grouped[\"Sea_Level_Bin\"],\n",
    "    y=grouped[\"DEATHS_ESTIMATED\"],\n",
    "    name=\"Gemiddeld aantal doden\",\n",
    "    mode=\"lines\",\n",
    "    line=dict(color=\"#1f77b4\"),  # steel blue / blauw tint\n",
    "    hovertemplate=(\n",
    "        \"%{y:.0f}<br>\"\n",
    "    ),\n",
    "    customdata=grouped[[\"Year\"]].values\n",
    "))\n",
    "\n",
    "# Lijn: Aantal verwoeste huizen (groentint)\n",
    "fig.add_trace(go.Scatter(\n",
    "    x=grouped[\"Sea_Level_Bin\"],\n",
    "    y=grouped[\"HOUSES_ESTIMATED\"],\n",
    "    name=\"Gemiddeld aantal verwoeste huizen\",\n",
    "    mode=\"lines\",\n",
    "    line=dict(color=\"#2ca02c\"),  # forest green / groen tint\n",
    "    yaxis=\"y2\",\n",
    "    hovertemplate=(\n",
    "        \"%{y:.0f}<br>\" +\n",
    "        \"Zeespiegelstijging: %{x:.0f} mm<br>\" +\n",
    "        \"Gemiddeld jaar: %{customdata[0]:.0f}\"\n",
    "    ),\n",
    "    customdata=grouped[[\"Year\"]].values\n",
    "))\n",
    "\n",
    "# --- 7. Layout ---\n",
    "fig.update_layout(\n",
    "    title=\"Effect van zeespiegelstijging op slachtoffers en verwoeste huizen\",\n",
    "    xaxis=dict(title=\"Zeespiegelstijging (mm vanaf 0, per 20 mm gegroepeerd)\"),\n",
    "    yaxis=dict(\n",
    "        title=\"Gemiddeld aantal doden\",\n",
    "        tickfont=dict(color=\"#1f77b4\")  # zelfde blauw als lijn\n",
    "    ),\n",
    "    yaxis2=dict(\n",
    "        title=\"Gemiddeld aantal verwoeste huizen\",\n",
    "        tickfont=dict(color=\"#2ca02c\"),  # zelfde groen als lijn\n",
    "        overlaying=\"y\",\n",
    "        side=\"right\"\n",
    "    ),\n",
    "    legend=dict(x=0.00, y=1.25),\n",
    "    template=\"plotly_white\",\n",
    "    hovermode=\"x unified\"\n",
    ")\n",
    "\n",
    "fig.show()\n"
   ]
  },
  {
   "cell_type": "markdown",
   "id": "498fe10f-dce2-47e6-95c7-852a3ff845cd",
   "metadata": {},
   "source": [
    "Opvalled is dat beide lijnen over het algemeen stijgen naarmate de zeespiegel toeneemt. Hoewel er schommelingen zichtbaar zijn, laten vooral de pieken bij 120 mm en 180 mm zeespiegelstijging een sterke toenama van verwoeste huizen zien. Het aantal slachtoffers vertoont een soortgelijk patroon, met een duidelijke piek bij 180 mm.\n",
    "Deze gegevens suggereren dat een hogere zeespiegel niet alleen leidt tot meer schade, zoals te zien in plot 2 en 3, maar ook samenhangt met een hoger aantal slachtoffers."
   ]
  },
  {
   "cell_type": "code",
   "execution_count": null,
   "id": "1a7878dc-6cda-472e-b16d-d06fe52ba216",
   "metadata": {
    "jupyter": {
     "source_hidden": true
    }
   },
   "outputs": [],
   "source": []
  },
  {
   "cell_type": "code",
   "execution_count": null,
   "id": "ef236a36-ffbc-4d9d-82df-ad0a63bcca39",
   "metadata": {
    "jupyter": {
     "source_hidden": true
    }
   },
   "outputs": [],
   "source": []
  }
 ],
 "metadata": {
  "kernelspec": {
   "display_name": "Python 3 (ipykernel)",
   "language": "python",
   "name": "python3"
  },
  "language_info": {
   "codemirror_mode": {
    "name": "ipython",
    "version": 3
   },
   "file_extension": ".py",
   "mimetype": "text/x-python",
   "name": "python",
   "nbconvert_exporter": "python",
   "pygments_lexer": "ipython3",
   "version": "3.10.16"
  }
 },
 "nbformat": 4,
 "nbformat_minor": 5
}
