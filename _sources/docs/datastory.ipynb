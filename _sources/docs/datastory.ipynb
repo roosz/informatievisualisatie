{
 "cells": [
  {
   "cell_type": "markdown",
   "id": "fbffff9b-d6c3-4fac-a64f-6782d854b09d",
   "metadata": {},
   "source": [
    "# Datastory!"
   ]
  },
  {
   "cell_type": "markdown",
   "id": "da78fcc6-9f0b-437b-9e69-b6594ad00c88",
   "metadata": {},
   "source": [
    "TEST"
   ]
  },
  {
   "cell_type": "code",
   "execution_count": null,
   "id": "df8be6f5-f1e3-44fb-8768-7f707b681e22",
   "metadata": {},
   "outputs": [],
   "source": [
    "print(\"Hier komt de datastory en dus de perspectieven YUH\")"
   ]
  },
  {
   "cell_type": "code",
   "execution_count": null,
   "id": "e98a85f8-e8b0-41b6-ae3c-36d09135906b",
   "metadata": {},
   "outputs": [],
   "source": []
  }
 ],
 "metadata": {
  "kernelspec": {
   "display_name": "Python 3 (ipykernel)",
   "language": "python",
   "name": "python3"
  },
  "language_info": {
   "codemirror_mode": {
    "name": "ipython",
    "version": 3
   },
   "file_extension": ".py",
   "mimetype": "text/x-python",
   "name": "python",
   "nbconvert_exporter": "python",
   "pygments_lexer": "ipython3",
   "version": "3.12.4"
  }
 },
 "nbformat": 4,
 "nbformat_minor": 5
}
